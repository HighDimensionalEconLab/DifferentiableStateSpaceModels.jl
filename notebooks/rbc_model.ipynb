{
 "cells": [
  {
   "cell_type": "code",
   "execution_count": null,
   "metadata": {},
   "outputs": [],
   "source": [
    "# Comment out this to instantiate the Project/Manifest for this example\n",
    "# ] instantiate"
   ]
  },
  {
   "cell_type": "code",
   "execution_count": 1,
   "metadata": {},
   "outputs": [
    {
     "name": "stderr",
     "output_type": "stream",
     "text": [
      "\u001b[91m\u001b[1mERROR: \u001b[22m\u001b[39mLoadError: "
     ]
    },
    {
     "name": "stderr",
     "output_type": "stream",
     "text": [
      "ArgumentError: Package ChainRulesCore [d360d2e6-b24c-11e9-a2a3-2a2ae2dbcce4] is required but does not seem to be installed:\n",
      " - Run `Pkg.instantiate()` to install all recorded dependencies.\n",
      "\n",
      "Stacktrace:\n",
      " [1] "
     ]
    },
    {
     "name": "stderr",
     "output_type": "stream",
     "text": [
      "\u001b[0m\u001b[1m_require\u001b[22m\u001b[0m\u001b[1m(\u001b[22m\u001b[90mpkg\u001b[39m::\u001b[0mBase.PkgId\u001b[0m\u001b[1m)\u001b[22m\n",
      "\u001b[90m   @ \u001b[39m\u001b[90mBase\u001b[39m \u001b[90m.\\\u001b[39m"
     ]
    },
    {
     "name": "stderr",
     "output_type": "stream",
     "text": [
      "\u001b[90m\u001b[4mloading.jl:1089\u001b[24m\u001b[39m\n",
      " [2] \u001b[0m\u001b[1mrequire\u001b[22m\u001b[0m\u001b[1m(\u001b[22m\u001b[90muuidkey\u001b[39m::\u001b[0mBase.PkgId\u001b[0m\u001b[1m)\u001b[22m\n",
      "\u001b[90m   @ \u001b[39m\u001b[90mBase\u001b[39m \u001b[90m.\\\u001b[39m\u001b[90m\u001b[4mloading.jl:1013\u001b[24m\u001b[39m\n",
      " [3] \u001b[0m\u001b[1mrequire\u001b[22m\u001b[0m\u001b[1m(\u001b[22m\u001b[90minto\u001b[39m::\u001b[0mModule, \u001b[90mmod\u001b[39m::\u001b[0mSymbol\u001b[0m\u001b[1m)\u001b[22m\n",
      "\u001b[90m   @ \u001b[39m\u001b[90mBase\u001b[39m \u001b[90m.\\\u001b[39m\u001b[90m\u001b[4mloading.jl:997\u001b[24m\u001b[39m\n",
      " [4] \u001b[0m\u001b[1minclude\u001b[22m\n",
      "\u001b[90m   @ \u001b[39m\u001b[90m.\\\u001b[39m\u001b[90m\u001b[4mBase.jl:418\u001b[24m\u001b[39m\u001b[90m [inlined]\u001b[39m\n",
      " [5] \u001b[0m\u001b[1minclude_package_for_output\u001b[22m\u001b[0m\u001b[1m(\u001b[22m\u001b[90mpkg\u001b[39m::\u001b[0mBase.PkgId, \u001b[90minput\u001b[39m::\u001b[0mString, \u001b[90mdepot_path\u001b[39m::\u001b[0mVector\u001b[90m{String}\u001b[39m, \u001b[90mdl_load_path\u001b[39m::\u001b[0mVector\u001b[90m{String}\u001b[39m, \u001b[90mload_path\u001b[39m::\u001b[0mVector\u001b[90m{String}\u001b[39m, \u001b[90mconcrete_deps\u001b[39m::\u001b[0mVector\u001b[90m{Pair{Base.PkgId, UInt64}}\u001b[39m, \u001b[90msource\u001b[39m::\u001b[0mString\u001b[0m\u001b[1m)\u001b[22m\n",
      "\u001b[90m   @ \u001b[39m\u001b[90mBase\u001b[39m \u001b[90m.\\\u001b[39m\u001b[90m\u001b[4mloading.jl:1318\u001b[24m\u001b[39m\n",
      " [6] top-level scope\n",
      "\u001b[90m   @ \u001b[39m\u001b[90m\u001b[4mnone:1\u001b[24m\u001b[39m\n",
      " [7] \u001b[0m\u001b[1meval\u001b[22m\n",
      "\u001b[90m   @ \u001b[39m\u001b[90m.\\\u001b[39m\u001b[90m\u001b[4mboot.jl:373\u001b[24m\u001b[39m\u001b[90m [inlined]\u001b[39m\n",
      " [8] \u001b[0m\u001b[1meval\u001b[22m\u001b[0m\u001b[1m(\u001b[22m\u001b[90mx\u001b[39m::\u001b[0mExpr\u001b[0m\u001b[1m)\u001b[22m\n",
      "\u001b[90m   @ \u001b[39m\u001b[90mBase.MainInclude\u001b[39m \u001b[90m.\\\u001b[39m\u001b[90m\u001b[4mclient.jl:453\u001b[24m\u001b[39m\n",
      " [9] top-level scope\n",
      "\u001b[90m   @ \u001b[39m\u001b[90m\u001b[4mnone:1\u001b[24m\u001b[39m\n",
      "in expression starting at c:\\Users\\jesse\\Documents\\GitHub\\DifferentiableStateSpaceModels.jl\\src\\DifferentiableStateSpaceModels.jl:1\n"
     ]
    },
    {
     "ename": "ErrorException",
     "evalue": "Failed to precompile DifferentiableStateSpaceModels [beacd9db-9e5e-4956-9b09-459a4b2028df] to C:\\Users\\jesse\\.julia\\compiled\\v1.7\\DifferentiableStateSpaceModels\\jl_A1D3.tmp.",
     "output_type": "error",
     "traceback": [
      "Failed to precompile DifferentiableStateSpaceModels [beacd9db-9e5e-4956-9b09-459a4b2028df] to C:\\Users\\jesse\\.julia\\compiled\\v1.7\\DifferentiableStateSpaceModels\\jl_A1D3.tmp.\n",
      "\n",
      "Stacktrace:\n",
      "  [1] error(s::String)\n",
      "    @ Base .\\error.jl:33\n",
      "  [2] compilecache(pkg::Base.PkgId, path::String, internal_stderr::IO, internal_stdout::IO, ignore_loaded_modules::Bool)\n",
      "    @ Base .\\loading.jl:1466\n",
      "  [3] compilecache(pkg::Base.PkgId, path::String)\n",
      "    @ Base .\\loading.jl:1410\n",
      "  [4] _require(pkg::Base.PkgId)\n",
      "    @ Base .\\loading.jl:1120\n",
      "  [5] require(uuidkey::Base.PkgId)\n",
      "    @ Base .\\loading.jl:1013\n",
      "  [6] require(into::Module, mod::Symbol)\n",
      "    @ Base .\\loading.jl:997\n",
      "  [7] eval\n",
      "    @ .\\boot.jl:373 [inlined]\n",
      "  [8] include_string(mapexpr::typeof(REPL.softscope), mod::Module, code::String, filename::String)\n",
      "    @ Base .\\loading.jl:1196\n",
      "  [9] #invokelatest#2\n",
      "    @ .\\essentials.jl:716 [inlined]\n",
      " [10] invokelatest\n",
      "    @ .\\essentials.jl:714 [inlined]\n",
      " [11] (::VSCodeServer.var\"#192#193\"{VSCodeServer.NotebookRunCellArguments, String})()\n",
      "    @ VSCodeServer c:\\Users\\jesse\\.vscode\\extensions\\julialang.language-julia-1.6.28\\scripts\\packages\\VSCodeServer\\src\\serve_notebook.jl:19\n",
      " [12] withpath(f::VSCodeServer.var\"#192#193\"{VSCodeServer.NotebookRunCellArguments, String}, path::String)\n",
      "    @ VSCodeServer c:\\Users\\jesse\\.vscode\\extensions\\julialang.language-julia-1.6.28\\scripts\\packages\\VSCodeServer\\src\\repl.jl:219\n",
      " [13] notebook_runcell_request(conn::VSCodeServer.JSONRPC.JSONRPCEndpoint{Base.PipeEndpoint, Base.PipeEndpoint}, params::VSCodeServer.NotebookRunCellArguments)\n",
      "    @ VSCodeServer c:\\Users\\jesse\\.vscode\\extensions\\julialang.language-julia-1.6.28\\scripts\\packages\\VSCodeServer\\src\\serve_notebook.jl:13\n",
      " [14] dispatch_msg(x::VSCodeServer.JSONRPC.JSONRPCEndpoint{Base.PipeEndpoint, Base.PipeEndpoint}, dispatcher::VSCodeServer.JSONRPC.MsgDispatcher, msg::Dict{String, Any})\n",
      "    @ VSCodeServer.JSONRPC c:\\Users\\jesse\\.vscode\\extensions\\julialang.language-julia-1.6.28\\scripts\\packages\\JSONRPC\\src\\typed.jl:67\n",
      " [15] serve_notebook(pipename::String, outputchannel_logger::Base.CoreLogging.SimpleLogger; crashreporting_pipename::String)\n",
      "    @ VSCodeServer c:\\Users\\jesse\\.vscode\\extensions\\julialang.language-julia-1.6.28\\scripts\\packages\\VSCodeServer\\src\\serve_notebook.jl:139\n",
      " [16] top-level scope\n",
      "    @ c:\\Users\\jesse\\.vscode\\extensions\\julialang.language-julia-1.6.28\\scripts\\notebook\\notebook.jl:32"
     ]
    }
   ],
   "source": [
    "using DifferentiableStateSpaceModels, Symbolics, Test\n",
    "\n",
    "∞ = Inf\n",
    "@variables α, β, ρ, δ, σ, Ω_1, Ω_2\n",
    "@variables t::Integer, k(..), z(..), c(..), q(..)\n",
    "\n",
    "x = [k, z]\n",
    "y = [c, q]\n",
    "p = [α, β, ρ, δ, σ]\n",
    "\n",
    "H = [1 / c(t) - (β / c(t + 1)) * (α * exp(z(t + 1)) * k(t + 1)^(α - 1) + (1 - δ)),\n",
    "     c(t) + k(t + 1) - (1 - δ) * k(t) - q(t),\n",
    "     q(t) - exp(z(t)) * k(t)^α,\n",
    "     z(t + 1) - ρ * z(t)]\n",
    "\n",
    "steady_states = [k(∞) ~ (((1 / β) - 1 + δ) / α)^(1 / (α - 1)),\n",
    "                 z(∞) ~ 0,\n",
    "                 c(∞) ~ (((1 / β) - 1 + δ) / α)^(α / (α - 1)) -\n",
    "                        δ * (((1 / β) - 1 + δ) / α)^(1 / (α - 1)),\n",
    "                 q(∞) ~ (((1 / β) - 1 + δ) / α)^(α / (α - 1))]\n",
    "\n",
    "Γ = reshape([σ], 1, 1)\n",
    "η = reshape([0; -1], length(x), 1) # η is n_x * n_ϵ matrix\n",
    "\n",
    "Q = zeros(2, length(x) + length(y))\n",
    "Q[1, 1] = 1.0\n",
    "Q[2, 3] = 1.0\n",
    "\n",
    "Ω = [Ω_1, Ω_2]\n",
    "\n",
    "# Arguments for creating the model\n",
    "args = (; t, y, x, p, steady_states, Γ, Ω, η, Q)\n",
    "\n",
    "# Generates the files and includes if required.  If the model is already created, then just loads\n",
    "m = @make_and_include_perturbation_model(\"my_model\", H, args) # Convenience macro"
   ]
  }
 ],
 "metadata": {
  "kernelspec": {
   "display_name": "Julia 1.7.3",
   "language": "julia",
   "name": "julia-1.7"
  },
  "language_info": {
   "file_extension": ".jl",
   "mimetype": "application/julia",
   "name": "julia",
   "version": "1.7.3"
  }
 },
 "nbformat": 4,
 "nbformat_minor": 4
}
