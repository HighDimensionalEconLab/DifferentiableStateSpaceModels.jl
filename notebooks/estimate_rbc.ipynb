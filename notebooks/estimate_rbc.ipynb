{
 "cells": [
  {
   "cell_type": "markdown",
   "metadata": {},
   "source": [
    "# Setup model and install packages\n",
    "\n",
    "Remove comment below to install the exact version of packages listed in the manifest."
   ]
  },
  {
   "cell_type": "code",
   "execution_count": 14,
   "metadata": {},
   "outputs": [],
   "source": [
    "# ] instantiate "
   ]
  },
  {
   "cell_type": "code",
   "execution_count": 15,
   "metadata": {},
   "outputs": [],
   "source": [
    "using DifferentiableStateSpaceModels, DifferenceEquations, LinearAlgebra, Zygote, Distributions, Plots, DiffEqBase, Symbolics"
   ]
  },
  {
   "cell_type": "markdown",
   "metadata": {},
   "source": [
    "# Model Definitions\n",
    "Models are defined using a Dynare-style DSL using [Symbolics.jl](https://github.com/JuliaSymbolics/Symbolics.jl).  The model follows [Schmitt-Grohe and Uribe (2004)](http://www.columbia.edu/~mu2166/2nd_order/2nd_order.pdf) timing convention.  The system takes a nonlinear expectational difference equation including all first-order conditions for decisions and the system evolution equations,\n",
    "\n",
    "$$\n",
    "\\mathbb{E}_{t}\\mathcal{H}\\left(y',y,x',x;p\\right)=0\n",
    "$$\n",
    "where $y$ are the control variables, $x$ are the states, and $p$ is a vector of deep parameters of interest.\n",
    "\n",
    "In addition, we consider an observation equation - which might be noisy for\n",
    "$$\n",
    "z = Q \\cdot \\begin{bmatrix}y & x\\end{bmatrix}^{\\top} + v\n",
    "$$\n",
    "where $v$ may or may not be normally distributed but $\\mathbb{E}(v) = 0$ and $\\mathbb{V}(v) = \\Omega(p) \\Omega(p)^{\\top}$.\n",
    "\n",
    "## Perturbation Solution\n",
    "The solution finds the first or second order perturbation around the non-stochastic steady state, and yields a\n",
    "$$\n",
    "x' = h(x; p) + \\eta \\Gamma(p) \\epsilon'\n",
    "$$\n",
    "where $\\eta$ describes how shocks affect the law of motion where $\\mathbb{E}(\\epsilon') = 0$ and $\\mathbb{V}(\\epsilon) I$.\n",
    "\n",
    "and with the policy equation,\n",
    "$$\n",
    "y = g(x; p)\n",
    "$$\n",
    "and finally, substitution in for the observation equation\n",
    "$$\n",
    "z = C(p) x + v\n",
    "$$\n",
    "where\n",
    "$$\n",
    "C(p) \\equiv Q \\begin{bmatrix} g(x;p) \\\\ x\\end{bmatrix}\n",
    "$$\n",
    "\n",
    "## First Order Solutions\n",
    "For example, in the case of the 1st order model the solution finds,\n",
    "$$\n",
    "x' = A(p) x + B(p) \\epsilon'\n",
    "$$\n",
    "and \n",
    "$$\n",
    "z = C(p) x + v\n",
    "$$\n",
    "where $C(p)$ is composed above and $B(p) \\equiv \\eta \\Gamma(p)$, and $\\mathbb{V}(v) = D(p) D(p)^{\\top}$.\n",
    "\n",
    "This is a linear state-space model and if the priors and shocks are gaussian, could be solved with classic methods such as a Kalman Filter.\n",
    "\n",
    "## Gradients\n",
    "All of the above use standard solution methods.  The contribution of this package is that all of these model elements are **differentiable**.  That is, if we think of a perturbation solver mapping $p$ to $A(p), B(p), C(p), D(p)$ \n",
    "\n",
    "The `p` includes all parameters and the `y`, and `x` are the variables, and the `H` are the model equations.  Steady states can be given as analytic functions of the parameters if it is known, or a `steady_states_iv` could instead be given which provides initial value guesses for the steady-state for use by a nonlinear solver.\n",
    "\n",
    "The `Q` is the observation question and the `Ω` is the cholesky of the covariance matrix for the observation error.  At this point, only diagonal observation error is supported.\n",
    "\n",
    "TODO: add the full model equation specification"
   ]
  },
  {
   "cell_type": "code",
   "execution_count": 16,
   "metadata": {},
   "outputs": [
    {
     "data": {
      "text/plain": [
       "Perturbation Model: n_y = 2, n_x = 2, n_p = 6, n_ϵ = 1, n_z = 2\n",
       " y = [:c, :q] \n",
       " x = [:k, :z] \n",
       " p = [:α, :β, :ρ, :δ, :σ, :Ω_1]"
      ]
     },
     "execution_count": 16,
     "metadata": {},
     "output_type": "execute_result"
    }
   ],
   "source": [
    "∞ = Inf\n",
    "@variables α, β, ρ, δ, σ, Ω_1\n",
    "@variables t::Integer, k(..), z(..), c(..), q(..)\n",
    "\n",
    "x = [k, z]\n",
    "y = [c, q]\n",
    "p = [α, β, ρ, δ, σ, Ω_1]\n",
    "\n",
    "H = [1 / c(t) - (β / c(t + 1)) * (α * exp(z(t + 1)) * k(t + 1)^(α - 1) + (1 - δ)),\n",
    "     c(t) + k(t + 1) - (1 - δ) * k(t) - q(t),\n",
    "     q(t) - exp(z(t)) * k(t)^α,\n",
    "     z(t + 1) - ρ * z(t)]\n",
    "\n",
    "steady_states = [k(∞) ~ (((1 / β) - 1 + δ) / α)^(1 / (α - 1)),\n",
    "                 z(∞) ~ 0,\n",
    "                 c(∞) ~ (((1 / β) - 1 + δ) / α)^(α / (α - 1)) -\n",
    "                        δ * (((1 / β) - 1 + δ) / α)^(1 / (α - 1)),\n",
    "                 q(∞) ~ (((1 / β) - 1 + δ) / α)^(α / (α - 1))]\n",
    "\n",
    "Γ = reshape([σ], 1, 1)\n",
    "η = reshape([0; -1], length(x), 1) # η is n_x * n_ϵ matrix\n",
    "\n",
    "Q = zeros(2, length(x) + length(y))\n",
    "Q[1, 1] = 1.0\n",
    "Q[2, 3] = 1.0\n",
    "\n",
    "Ω = [Ω_1, Ω_1]\n",
    "\n",
    "# Generates the files and includes if required.  If the model is already created, then just loads\n",
    "model_rbc = @make_and_include_perturbation_model(\"rbc_notebook_example\", H, (; t, y, x, p, steady_states, Γ, Ω, η, Q)) # Convenience macro.  Saves as \".function_cache/rbc_notebook_example.jl\"\n",
    "\n",
    "# After generation could just include the files directly, or add the following to prevent overwriting the models\n",
    "# isdefined(Main, :rbc_notebook_example) || include(joinpath(pkgdir(DifferentiableStateSpaceModels),\n",
    "#                                              \"test/generated_models/rbc_notebook_example.jl\"))\n",
    "\n",
    "\n",
    "# Alternatively, this is the same as a prebuilt example\n",
    "# model_rbc = @include_example_module(DifferentiableStateSpaceModels.Examples.rbc_observables)  # or use prebuilt model"
   ]
  },
  {
   "cell_type": "code",
   "execution_count": 17,
   "metadata": {},
   "outputs": [
    {
     "data": {
      "text/latex": [
       "$\\begin{equation}\n",
       "\\left[\n",
       "\\begin{array}{c}\n",
       "\\frac{ - \\beta \\left( 1 - \\delta + \\left( k\\left( 1 + t \\right) \\right)^{-1 + \\alpha} \\alpha e^{z\\left( 1 + t \\right)} \\right)}{c\\left( 1 + t \\right)} + \\frac{1}{c\\left( t \\right)} \\\\\n",
       " - q\\left( t \\right) - \\left( 1 - \\delta \\right) k\\left( t \\right) + c\\left( t \\right) + k\\left( 1 + t \\right) \\\\\n",
       " - \\left( k\\left( t \\right) \\right)^{\\alpha} e^{z\\left( t \\right)} + q\\left( t \\right) \\\\\n",
       " - \\rho z\\left( t \\right) + z\\left( 1 + t \\right) \\\\\n",
       "\\end{array}\n",
       "\\right]\n",
       "\\end{equation}\n",
       "$"
      ],
      "text/plain": [
       "L\"$\\begin{equation}\n",
       "\\left[\n",
       "\\begin{array}{c}\n",
       "\\frac{ - \\beta \\left( 1 - \\delta + \\left( k\\left( 1 + t \\right) \\right)^{-1 + \\alpha} \\alpha e^{z\\left( 1 + t \\right)} \\right)}{c\\left( 1 + t \\right)} + \\frac{1}{c\\left( t \\right)} \\\\\n",
       " - q\\left( t \\right) - \\left( 1 - \\delta \\right) k\\left( t \\right) + c\\left( t \\right) + k\\left( 1 + t \\right) \\\\\n",
       " - \\left( k\\left( t \\right) \\right)^{\\alpha} e^{z\\left( t \\right)} + q\\left( t \\right) \\\\\n",
       " - \\rho z\\left( t \\right) + z\\left( 1 + t \\right) \\\\\n",
       "\\end{array}\n",
       "\\right]\n",
       "\\end{equation}\n",
       "$\""
      ]
     },
     "execution_count": 17,
     "metadata": {},
     "output_type": "execute_result"
    }
   ],
   "source": [
    "model_H_latex(model_rbc)"
   ]
  },
  {
   "cell_type": "code",
   "execution_count": 18,
   "metadata": {},
   "outputs": [
    {
     "data": {
      "text/latex": [
       "$\\begin{align}\n",
       "k\\left( \\infty \\right) =& \\left( \\frac{-1 + \\delta + \\frac{1}{\\beta}}{\\alpha} \\right)^{\\frac{1}{-1 + \\alpha}} \\\\\n",
       "z\\left( \\infty \\right) =& 0 \\\\\n",
       "c\\left( \\infty \\right) =& \\left( \\frac{-1 + \\delta + \\frac{1}{\\beta}}{\\alpha} \\right)^{\\frac{\\alpha}{-1 + \\alpha}} - \\left( \\frac{-1 + \\delta + \\frac{1}{\\beta}}{\\alpha} \\right)^{\\frac{1}{-1 + \\alpha}} \\delta \\\\\n",
       "q\\left( \\infty \\right) =& \\left( \\frac{-1 + \\delta + \\frac{1}{\\beta}}{\\alpha} \\right)^{\\frac{\\alpha}{-1 + \\alpha}}\n",
       "\\end{align}\n",
       "$"
      ],
      "text/plain": [
       "L\"$\\begin{align}\n",
       "k\\left( \\infty \\right) =& \\left( \\frac{-1 + \\delta + \\frac{1}{\\beta}}{\\alpha} \\right)^{\\frac{1}{-1 + \\alpha}} \\\\\n",
       "z\\left( \\infty \\right) =& 0 \\\\\n",
       "c\\left( \\infty \\right) =& \\left( \\frac{-1 + \\delta + \\frac{1}{\\beta}}{\\alpha} \\right)^{\\frac{\\alpha}{-1 + \\alpha}} - \\left( \\frac{-1 + \\delta + \\frac{1}{\\beta}}{\\alpha} \\right)^{\\frac{1}{-1 + \\alpha}} \\delta \\\\\n",
       "q\\left( \\infty \\right) =& \\left( \\frac{-1 + \\delta + \\frac{1}{\\beta}}{\\alpha} \\right)^{\\frac{\\alpha}{-1 + \\alpha}}\n",
       "\\end{align}\n",
       "$\""
      ]
     },
     "execution_count": 18,
     "metadata": {},
     "output_type": "execute_result"
    }
   ],
   "source": [
    "model_steady_states_latex(model_rbc)"
   ]
  },
  {
   "cell_type": "markdown",
   "metadata": {},
   "source": [
    "# Solving Perturbations\n",
    "\n",
    "Given a model definition, you can solve the expectational difference equation for a given set of parameters.  All of the `p` defined above must be in either the `p_d` or the `p_f` arguments below.\n",
    "\n",
    "The distinction between these is that the `p_d` parameters will be differentiated where the `p_f` will be fixed.  That is, for any parameters in the `p_d` the model will support calculation of gradients of the perturbation solution.\n",
    "\n",
    "TODO: show the canonical form it solves"
   ]
  },
  {
   "cell_type": "code",
   "execution_count": 19,
   "metadata": {},
   "outputs": [
    {
     "name": "stdout",
     "output_type": "stream",
     "text": [
      "(sol.A, sol.B, sol.C, sol.D) = ([0.9568351489232028 6.2093710057558855; 1.5076865909646354e-18 0.20000000000000004], [0.0; -0.01;;], [0.09579643002416627 0.6746869652586192; 1.0 0.0], [0.0001, 0.0001])\n"
     ]
    },
    {
     "data": {
      "text/plain": [
       "true"
      ]
     },
     "execution_count": 19,
     "metadata": {},
     "output_type": "execute_result"
    }
   ],
   "source": [
    "p_f = (ρ = 0.2, δ = 0.02, σ = 0.01, Ω_1 = 0.01) # Fixed parameters\n",
    "p_d = (α = 0.5, β = 0.95) # Pseudo-true values\n",
    "sol = generate_perturbation(model_rbc, p_d, p_f) # Solution to the first-order RBC\n",
    "sol_2 = generate_perturbation(model_rbc, p_d, p_f, Val(2)) # Solution to the second-order RBC\n",
    "\n",
    "# Show the resulting linear state space model in the canonical form\n",
    "@show sol.A, sol.B, sol.C, sol.D\n",
    "# Query the solution\n",
    "sol.y ≈ [5.936252888048733, 6.884057971014498]\n"
   ]
  },
  {
   "cell_type": "code",
   "execution_count": 20,
   "metadata": {},
   "outputs": [
    {
     "data": {
      "text/plain": [
       "true"
      ]
     },
     "execution_count": 20,
     "metadata": {},
     "output_type": "execute_result"
    }
   ],
   "source": [
    "sol.x ≈ [47.39025414828825, 0.0]"
   ]
  },
  {
   "cell_type": "code",
   "execution_count": 21,
   "metadata": {},
   "outputs": [
    {
     "data": {
      "text/plain": [
       "true"
      ]
     },
     "execution_count": 21,
     "metadata": {},
     "output_type": "execute_result"
    }
   ],
   "source": [
    "sol.retcode == :Success"
   ]
  },
  {
   "cell_type": "markdown",
   "metadata": {},
   "source": [
    "# Derivatives of the Perturbation Solvers\n",
    "The core feature of this library is to enable gradients of the perturbagion solutions with respect to parameters (i.e., anythign in the `p_d` vector).  To show this, we will construct a contrived function which uses the resulting law of motion and finds the gradient of the results with respect to this value.\n",
    "\n",
    "TODO: change to differentiating an impulse reponse?"
   ]
  },
  {
   "cell_type": "code",
   "execution_count": 36,
   "metadata": {},
   "outputs": [
    {
     "data": {
      "text/plain": [
       "7.366206154679088"
      ]
     },
     "execution_count": 36,
     "metadata": {},
     "output_type": "execute_result"
    }
   ],
   "source": [
    "function f(params; m, p_f)\n",
    "    p_d = (α=params[1], β=params[2])  # Differentiated parameters\n",
    "    sol = generate_perturbation(m, p_d, p_f) # Default is first-order.\n",
    "    return sum(sol.A) # An ad-hoc example: reducing the law-of-motion matrix into one number\n",
    "end\n",
    "\n",
    "# To call it\n",
    "m = PerturbationModel(Main.rbc_notebook_example)\n",
    "p_f = (ρ=0.2, δ=0.02, σ=0.01, Ω_1=0.01)\n",
    "param_val = [0.5, 0.95] # as a vector, but not required\n",
    "f(param_val; m, p_f) # Function works on its own, calculating perturbation"
   ]
  },
  {
   "cell_type": "code",
   "execution_count": 37,
   "metadata": {},
   "outputs": [
    {
     "data": {
      "text/plain": [
       "true"
      ]
     },
     "execution_count": 37,
     "metadata": {},
     "output_type": "execute_result"
    }
   ],
   "source": [
    "# Query the solution\n",
    "f(param_val; m, p_f) ≈ 7.366206154679124"
   ]
  },
  {
   "cell_type": "code",
   "execution_count": 38,
   "metadata": {},
   "outputs": [
    {
     "data": {
      "text/plain": [
       "([61.419683765473486, 106.44095661062124],)"
      ]
     },
     "execution_count": 38,
     "metadata": {},
     "output_type": "execute_result"
    }
   ],
   "source": [
    "# But you can also get its gradient with Zygote/etc.\n",
    "gradient(params -> f(params; m, p_f), param_val)"
   ]
  },
  {
   "cell_type": "markdown",
   "metadata": {},
   "source": [
    "# Using Solution Cache"
   ]
  },
  {
   "cell_type": "code",
   "execution_count": 39,
   "metadata": {},
   "outputs": [
    {
     "data": {
      "text/plain": [
       "7.366206154679088"
      ]
     },
     "execution_count": 39,
     "metadata": {},
     "output_type": "execute_result"
    }
   ],
   "source": [
    "function f2(p_d; m, p_f, cache)\n",
    "    sol = generate_perturbation(m, p_d, p_f; cache) # Default is first-order.\n",
    "    return sum(sol.A) # An ad-hoc example: reducing the law-of-motion matrix into one number\n",
    "end\n",
    "\n",
    "# To call it\n",
    "m = PerturbationModel(Main.rbc_notebook_example)\n",
    "p_d = (α=0.5, β=0.95)  # Differentiated parameters\n",
    "p_f = (ρ=0.2, δ=0.02, σ=0.01, Ω_1=0.01)\n",
    "cache = SolverCache(m, Val(1), p_d)\n",
    "f2(p_d; m, p_f, cache) # Function works on its own, calculating perturbation"
   ]
  },
  {
   "cell_type": "code",
   "execution_count": 40,
   "metadata": {},
   "outputs": [
    {
     "data": {
      "text/plain": [
       "true"
      ]
     },
     "execution_count": 40,
     "metadata": {},
     "output_type": "execute_result"
    }
   ],
   "source": [
    "# Query the solution\n",
    "f2(p_d; m, p_f, cache) ≈ 7.366206154679124"
   ]
  },
  {
   "cell_type": "code",
   "execution_count": 41,
   "metadata": {},
   "outputs": [
    {
     "data": {
      "text/plain": [
       "(α = 61.419683765473486, β = 106.44095661062124)"
      ]
     },
     "execution_count": 41,
     "metadata": {},
     "output_type": "execute_result"
    }
   ],
   "source": [
    "# But you can also get its gradient with Zygote/etc.\n",
    "gradient(params -> f2(params; m, p_f, cache), p_d)[1]"
   ]
  },
  {
   "cell_type": "markdown",
   "metadata": {},
   "source": [
    "# Simulating Data with DifferenceEquations"
   ]
  },
  {
   "cell_type": "code",
   "execution_count": 42,
   "metadata": {},
   "outputs": [
    {
     "data": {
      "image/svg+xml": [
       "<?xml version=\"1.0\" encoding=\"utf-8\"?>\n",
       "<svg xmlns=\"http://www.w3.org/2000/svg\" xmlns:xlink=\"http://www.w3.org/1999/xlink\" width=\"600\" height=\"400\" viewBox=\"0 0 2400 1600\">\n",
       "<defs>\n",
       "  <clipPath id=\"clip980\">\n",
       "    <rect x=\"0\" y=\"0\" width=\"2400\" height=\"1600\"/>\n",
       "  </clipPath>\n",
       "</defs>\n",
       "<path clip-path=\"url(#clip980)\" d=\"\n",
       "M0 1600 L2400 1600 L2400 0 L0 0  Z\n",
       "  \" fill=\"#ffffff\" fill-rule=\"evenodd\" fill-opacity=\"1\"/>\n",
       "<defs>\n",
       "  <clipPath id=\"clip981\">\n",
       "    <rect x=\"480\" y=\"0\" width=\"1681\" height=\"1600\"/>\n",
       "  </clipPath>\n",
       "</defs>\n",
       "<path clip-path=\"url(#clip980)\" d=\"\n",
       "M192.339 1486.45 L2352.76 1486.45 L2352.76 47.2441 L192.339 47.2441  Z\n",
       "  \" fill=\"#ffffff\" fill-rule=\"evenodd\" fill-opacity=\"1\"/>\n",
       "<defs>\n",
       "  <clipPath id=\"clip982\">\n",
       "    <rect x=\"192\" y=\"47\" width=\"2161\" height=\"1440\"/>\n",
       "  </clipPath>\n",
       "</defs>\n",
       "<polyline clip-path=\"url(#clip982)\" style=\"stroke:#000000; stroke-linecap:butt; stroke-linejoin:round; stroke-width:2; stroke-opacity:0.1; fill:none\" points=\"\n",
       "  253.483,1486.45 253.483,47.2441 \n",
       "  \"/>\n",
       "<polyline clip-path=\"url(#clip982)\" style=\"stroke:#000000; stroke-linecap:butt; stroke-linejoin:round; stroke-width:2; stroke-opacity:0.1; fill:none\" points=\"\n",
       "  763.015,1486.45 763.015,47.2441 \n",
       "  \"/>\n",
       "<polyline clip-path=\"url(#clip982)\" style=\"stroke:#000000; stroke-linecap:butt; stroke-linejoin:round; stroke-width:2; stroke-opacity:0.1; fill:none\" points=\"\n",
       "  1272.55,1486.45 1272.55,47.2441 \n",
       "  \"/>\n",
       "<polyline clip-path=\"url(#clip982)\" style=\"stroke:#000000; stroke-linecap:butt; stroke-linejoin:round; stroke-width:2; stroke-opacity:0.1; fill:none\" points=\"\n",
       "  1782.08,1486.45 1782.08,47.2441 \n",
       "  \"/>\n",
       "<polyline clip-path=\"url(#clip982)\" style=\"stroke:#000000; stroke-linecap:butt; stroke-linejoin:round; stroke-width:2; stroke-opacity:0.1; fill:none\" points=\"\n",
       "  2291.61,1486.45 2291.61,47.2441 \n",
       "  \"/>\n",
       "<polyline clip-path=\"url(#clip980)\" style=\"stroke:#000000; stroke-linecap:butt; stroke-linejoin:round; stroke-width:4; stroke-opacity:1; fill:none\" points=\"\n",
       "  192.339,1486.45 2352.76,1486.45 \n",
       "  \"/>\n",
       "<polyline clip-path=\"url(#clip980)\" style=\"stroke:#000000; stroke-linecap:butt; stroke-linejoin:round; stroke-width:4; stroke-opacity:1; fill:none\" points=\"\n",
       "  253.483,1486.45 253.483,1467.55 \n",
       "  \"/>\n",
       "<polyline clip-path=\"url(#clip980)\" style=\"stroke:#000000; stroke-linecap:butt; stroke-linejoin:round; stroke-width:4; stroke-opacity:1; fill:none\" points=\"\n",
       "  763.015,1486.45 763.015,1467.55 \n",
       "  \"/>\n",
       "<polyline clip-path=\"url(#clip980)\" style=\"stroke:#000000; stroke-linecap:butt; stroke-linejoin:round; stroke-width:4; stroke-opacity:1; fill:none\" points=\"\n",
       "  1272.55,1486.45 1272.55,1467.55 \n",
       "  \"/>\n",
       "<polyline clip-path=\"url(#clip980)\" style=\"stroke:#000000; stroke-linecap:butt; stroke-linejoin:round; stroke-width:4; stroke-opacity:1; fill:none\" points=\"\n",
       "  1782.08,1486.45 1782.08,1467.55 \n",
       "  \"/>\n",
       "<polyline clip-path=\"url(#clip980)\" style=\"stroke:#000000; stroke-linecap:butt; stroke-linejoin:round; stroke-width:4; stroke-opacity:1; fill:none\" points=\"\n",
       "  2291.61,1486.45 2291.61,1467.55 \n",
       "  \"/>\n",
       "<path clip-path=\"url(#clip980)\" d=\"M253.483 1517.37 Q249.872 1517.37 248.043 1520.93 Q246.237 1524.47 246.237 1531.6 Q246.237 1538.71 248.043 1542.27 Q249.872 1545.82 253.483 1545.82 Q257.117 1545.82 258.922 1542.27 Q260.751 1538.71 260.751 1531.6 Q260.751 1524.47 258.922 1520.93 Q257.117 1517.37 253.483 1517.37 M253.483 1513.66 Q259.293 1513.66 262.348 1518.27 Q265.427 1522.85 265.427 1531.6 Q265.427 1540.33 262.348 1544.94 Q259.293 1549.52 253.483 1549.52 Q247.673 1549.52 244.594 1544.94 Q241.538 1540.33 241.538 1531.6 Q241.538 1522.85 244.594 1518.27 Q247.673 1513.66 253.483 1513.66 Z\" fill=\"#000000\" fill-rule=\"evenodd\" fill-opacity=\"1\" /><path clip-path=\"url(#clip980)\" d=\"M753.293 1514.29 L771.649 1514.29 L771.649 1518.22 L757.575 1518.22 L757.575 1526.7 Q758.594 1526.35 759.612 1526.19 Q760.631 1526 761.649 1526 Q767.436 1526 770.816 1529.17 Q774.196 1532.34 774.196 1537.76 Q774.196 1543.34 770.723 1546.44 Q767.251 1549.52 760.932 1549.52 Q758.756 1549.52 756.487 1549.15 Q754.242 1548.78 751.835 1548.04 L751.835 1543.34 Q753.918 1544.47 756.14 1545.03 Q758.362 1545.58 760.839 1545.58 Q764.844 1545.58 767.182 1543.48 Q769.52 1541.37 769.52 1537.76 Q769.52 1534.15 767.182 1532.04 Q764.844 1529.94 760.839 1529.94 Q758.964 1529.94 757.089 1530.35 Q755.237 1530.77 753.293 1531.65 L753.293 1514.29 Z\" fill=\"#000000\" fill-rule=\"evenodd\" fill-opacity=\"1\" /><path clip-path=\"url(#clip980)\" d=\"M1247.23 1544.91 L1254.87 1544.91 L1254.87 1518.55 L1246.56 1520.21 L1246.56 1515.95 L1254.83 1514.29 L1259.5 1514.29 L1259.5 1544.91 L1267.14 1544.91 L1267.14 1548.85 L1247.23 1548.85 L1247.23 1544.91 Z\" fill=\"#000000\" fill-rule=\"evenodd\" fill-opacity=\"1\" /><path clip-path=\"url(#clip980)\" d=\"M1286.59 1517.37 Q1282.98 1517.37 1281.15 1520.93 Q1279.34 1524.47 1279.34 1531.6 Q1279.34 1538.71 1281.15 1542.27 Q1282.98 1545.82 1286.59 1545.82 Q1290.22 1545.82 1292.03 1542.27 Q1293.86 1538.71 1293.86 1531.6 Q1293.86 1524.47 1292.03 1520.93 Q1290.22 1517.37 1286.59 1517.37 M1286.59 1513.66 Q1292.4 1513.66 1295.45 1518.27 Q1298.53 1522.85 1298.53 1531.6 Q1298.53 1540.33 1295.45 1544.94 Q1292.4 1549.52 1286.59 1549.52 Q1280.78 1549.52 1277.7 1544.94 Q1274.64 1540.33 1274.64 1531.6 Q1274.64 1522.85 1277.7 1518.27 Q1280.78 1513.66 1286.59 1513.66 Z\" fill=\"#000000\" fill-rule=\"evenodd\" fill-opacity=\"1\" /><path clip-path=\"url(#clip980)\" d=\"M1757.27 1544.91 L1764.9 1544.91 L1764.9 1518.55 L1756.59 1520.21 L1756.59 1515.95 L1764.86 1514.29 L1769.53 1514.29 L1769.53 1544.91 L1777.17 1544.91 L1777.17 1548.85 L1757.27 1548.85 L1757.27 1544.91 Z\" fill=\"#000000\" fill-rule=\"evenodd\" fill-opacity=\"1\" /><path clip-path=\"url(#clip980)\" d=\"M1786.66 1514.29 L1805.02 1514.29 L1805.02 1518.22 L1790.95 1518.22 L1790.95 1526.7 Q1791.96 1526.35 1792.98 1526.19 Q1794 1526 1795.02 1526 Q1800.81 1526 1804.19 1529.17 Q1807.57 1532.34 1807.57 1537.76 Q1807.57 1543.34 1804.09 1546.44 Q1800.62 1549.52 1794.3 1549.52 Q1792.13 1549.52 1789.86 1549.15 Q1787.61 1548.78 1785.2 1548.04 L1785.2 1543.34 Q1787.29 1544.47 1789.51 1545.03 Q1791.73 1545.58 1794.21 1545.58 Q1798.21 1545.58 1800.55 1543.48 Q1802.89 1541.37 1802.89 1537.76 Q1802.89 1534.15 1800.55 1532.04 Q1798.21 1529.94 1794.21 1529.94 Q1792.33 1529.94 1790.46 1530.35 Q1788.61 1530.77 1786.66 1531.65 L1786.66 1514.29 Z\" fill=\"#000000\" fill-rule=\"evenodd\" fill-opacity=\"1\" /><path clip-path=\"url(#clip980)\" d=\"M2270.39 1544.91 L2286.7 1544.91 L2286.7 1548.85 L2264.76 1548.85 L2264.76 1544.91 Q2267.42 1542.16 2272.01 1537.53 Q2276.61 1532.88 2277.79 1531.53 Q2280.04 1529.01 2280.92 1527.27 Q2281.82 1525.51 2281.82 1523.82 Q2281.82 1521.07 2279.88 1519.33 Q2277.95 1517.6 2274.85 1517.6 Q2272.65 1517.6 2270.2 1518.36 Q2267.77 1519.13 2264.99 1520.68 L2264.99 1515.95 Q2267.82 1514.82 2270.27 1514.24 Q2272.72 1513.66 2274.76 1513.66 Q2280.13 1513.66 2283.33 1516.35 Q2286.52 1519.03 2286.52 1523.52 Q2286.52 1525.65 2285.71 1527.57 Q2284.92 1529.47 2282.82 1532.07 Q2282.24 1532.74 2279.14 1535.95 Q2276.03 1539.15 2270.39 1544.91 Z\" fill=\"#000000\" fill-rule=\"evenodd\" fill-opacity=\"1\" /><path clip-path=\"url(#clip980)\" d=\"M2306.52 1517.37 Q2302.91 1517.37 2301.08 1520.93 Q2299.27 1524.47 2299.27 1531.6 Q2299.27 1538.71 2301.08 1542.27 Q2302.91 1545.82 2306.52 1545.82 Q2310.15 1545.82 2311.96 1542.27 Q2313.79 1538.71 2313.79 1531.6 Q2313.79 1524.47 2311.96 1520.93 Q2310.15 1517.37 2306.52 1517.37 M2306.52 1513.66 Q2312.33 1513.66 2315.39 1518.27 Q2318.46 1522.85 2318.46 1531.6 Q2318.46 1540.33 2315.39 1544.94 Q2312.33 1549.52 2306.52 1549.52 Q2300.71 1549.52 2297.63 1544.94 Q2294.57 1540.33 2294.57 1531.6 Q2294.57 1522.85 2297.63 1518.27 Q2300.71 1513.66 2306.52 1513.66 Z\" fill=\"#000000\" fill-rule=\"evenodd\" fill-opacity=\"1\" /><polyline clip-path=\"url(#clip982)\" style=\"stroke:#000000; stroke-linecap:butt; stroke-linejoin:round; stroke-width:2; stroke-opacity:0.1; fill:none\" points=\"\n",
       "  192.339,1187.67 2352.76,1187.67 \n",
       "  \"/>\n",
       "<polyline clip-path=\"url(#clip982)\" style=\"stroke:#000000; stroke-linecap:butt; stroke-linejoin:round; stroke-width:2; stroke-opacity:0.1; fill:none\" points=\"\n",
       "  192.339,860.808 2352.76,860.808 \n",
       "  \"/>\n",
       "<polyline clip-path=\"url(#clip982)\" style=\"stroke:#000000; stroke-linecap:butt; stroke-linejoin:round; stroke-width:2; stroke-opacity:0.1; fill:none\" points=\"\n",
       "  192.339,533.949 2352.76,533.949 \n",
       "  \"/>\n",
       "<polyline clip-path=\"url(#clip982)\" style=\"stroke:#000000; stroke-linecap:butt; stroke-linejoin:round; stroke-width:2; stroke-opacity:0.1; fill:none\" points=\"\n",
       "  192.339,207.089 2352.76,207.089 \n",
       "  \"/>\n",
       "<polyline clip-path=\"url(#clip980)\" style=\"stroke:#000000; stroke-linecap:butt; stroke-linejoin:round; stroke-width:4; stroke-opacity:1; fill:none\" points=\"\n",
       "  192.339,1486.45 192.339,47.2441 \n",
       "  \"/>\n",
       "<polyline clip-path=\"url(#clip980)\" style=\"stroke:#000000; stroke-linecap:butt; stroke-linejoin:round; stroke-width:4; stroke-opacity:1; fill:none\" points=\"\n",
       "  192.339,1187.67 211.236,1187.67 \n",
       "  \"/>\n",
       "<polyline clip-path=\"url(#clip980)\" style=\"stroke:#000000; stroke-linecap:butt; stroke-linejoin:round; stroke-width:4; stroke-opacity:1; fill:none\" points=\"\n",
       "  192.339,860.808 211.236,860.808 \n",
       "  \"/>\n",
       "<polyline clip-path=\"url(#clip980)\" style=\"stroke:#000000; stroke-linecap:butt; stroke-linejoin:round; stroke-width:4; stroke-opacity:1; fill:none\" points=\"\n",
       "  192.339,533.949 211.236,533.949 \n",
       "  \"/>\n",
       "<polyline clip-path=\"url(#clip980)\" style=\"stroke:#000000; stroke-linecap:butt; stroke-linejoin:round; stroke-width:4; stroke-opacity:1; fill:none\" points=\"\n",
       "  192.339,207.089 211.236,207.089 \n",
       "  \"/>\n",
       "<path clip-path=\"url(#clip980)\" d=\"M50.9921 1188.12 L80.6679 1188.12 L80.6679 1192.05 L50.9921 1192.05 L50.9921 1188.12 Z\" fill=\"#000000\" fill-rule=\"evenodd\" fill-opacity=\"1\" /><path clip-path=\"url(#clip980)\" d=\"M100.76 1173.47 Q97.1493 1173.47 95.3206 1177.03 Q93.515 1180.57 93.515 1187.7 Q93.515 1194.81 95.3206 1198.37 Q97.1493 1201.91 100.76 1201.91 Q104.395 1201.91 106.2 1198.37 Q108.029 1194.81 108.029 1187.7 Q108.029 1180.57 106.2 1177.03 Q104.395 1173.47 100.76 1173.47 M100.76 1169.76 Q106.571 1169.76 109.626 1174.37 Q112.705 1178.95 112.705 1187.7 Q112.705 1196.43 109.626 1201.04 Q106.571 1205.62 100.76 1205.62 Q94.9502 1205.62 91.8715 1201.04 Q88.816 1196.43 88.816 1187.7 Q88.816 1178.95 91.8715 1174.37 Q94.9502 1169.76 100.76 1169.76 Z\" fill=\"#000000\" fill-rule=\"evenodd\" fill-opacity=\"1\" /><path clip-path=\"url(#clip980)\" d=\"M120.922 1199.07 L125.807 1199.07 L125.807 1204.95 L120.922 1204.95 L120.922 1199.07 Z\" fill=\"#000000\" fill-rule=\"evenodd\" fill-opacity=\"1\" /><path clip-path=\"url(#clip980)\" d=\"M140.019 1201.01 L156.339 1201.01 L156.339 1204.95 L134.394 1204.95 L134.394 1201.01 Q137.056 1198.26 141.64 1193.63 Q146.246 1188.98 147.427 1187.63 Q149.672 1185.11 150.552 1183.37 Q151.455 1181.61 151.455 1179.92 Q151.455 1177.17 149.51 1175.43 Q147.589 1173.7 144.487 1173.7 Q142.288 1173.7 139.834 1174.46 Q137.404 1175.23 134.626 1176.78 L134.626 1172.05 Q137.45 1170.92 139.904 1170.34 Q142.357 1169.76 144.394 1169.76 Q149.765 1169.76 152.959 1172.45 Q156.154 1175.13 156.154 1179.62 Q156.154 1181.75 155.343 1183.67 Q154.556 1185.57 152.45 1188.17 Q151.871 1188.84 148.769 1192.05 Q145.668 1195.25 140.019 1201.01 Z\" fill=\"#000000\" fill-rule=\"evenodd\" fill-opacity=\"1\" /><path clip-path=\"url(#clip980)\" d=\"M99.1632 846.607 Q95.5521 846.607 93.7234 850.172 Q91.9178 853.713 91.9178 860.843 Q91.9178 867.949 93.7234 871.514 Q95.5521 875.056 99.1632 875.056 Q102.797 875.056 104.603 871.514 Q106.432 867.949 106.432 860.843 Q106.432 853.713 104.603 850.172 Q102.797 846.607 99.1632 846.607 M99.1632 842.903 Q104.973 842.903 108.029 847.51 Q111.108 852.093 111.108 860.843 Q111.108 869.57 108.029 874.176 Q104.973 878.759 99.1632 878.759 Q93.353 878.759 90.2743 874.176 Q87.2188 869.57 87.2188 860.843 Q87.2188 852.093 90.2743 847.51 Q93.353 842.903 99.1632 842.903 Z\" fill=\"#000000\" fill-rule=\"evenodd\" fill-opacity=\"1\" /><path clip-path=\"url(#clip980)\" d=\"M119.325 872.208 L124.209 872.208 L124.209 878.088 L119.325 878.088 L119.325 872.208 Z\" fill=\"#000000\" fill-rule=\"evenodd\" fill-opacity=\"1\" /><path clip-path=\"url(#clip980)\" d=\"M144.394 846.607 Q140.783 846.607 138.955 850.172 Q137.149 853.713 137.149 860.843 Q137.149 867.949 138.955 871.514 Q140.783 875.056 144.394 875.056 Q148.029 875.056 149.834 871.514 Q151.663 867.949 151.663 860.843 Q151.663 853.713 149.834 850.172 Q148.029 846.607 144.394 846.607 M144.394 842.903 Q150.205 842.903 153.26 847.51 Q156.339 852.093 156.339 860.843 Q156.339 869.57 153.26 874.176 Q150.205 878.759 144.394 878.759 Q138.584 878.759 135.506 874.176 Q132.45 869.57 132.45 860.843 Q132.45 852.093 135.506 847.51 Q138.584 842.903 144.394 842.903 Z\" fill=\"#000000\" fill-rule=\"evenodd\" fill-opacity=\"1\" /><path clip-path=\"url(#clip980)\" d=\"M100.76 519.747 Q97.1493 519.747 95.3206 523.312 Q93.515 526.854 93.515 533.984 Q93.515 541.09 95.3206 544.655 Q97.1493 548.196 100.76 548.196 Q104.395 548.196 106.2 544.655 Q108.029 541.09 108.029 533.984 Q108.029 526.854 106.2 523.312 Q104.395 519.747 100.76 519.747 M100.76 516.044 Q106.571 516.044 109.626 520.65 Q112.705 525.234 112.705 533.984 Q112.705 542.71 109.626 547.317 Q106.571 551.9 100.76 551.9 Q94.9502 551.9 91.8715 547.317 Q88.816 542.71 88.816 533.984 Q88.816 525.234 91.8715 520.65 Q94.9502 516.044 100.76 516.044 Z\" fill=\"#000000\" fill-rule=\"evenodd\" fill-opacity=\"1\" /><path clip-path=\"url(#clip980)\" d=\"M120.922 545.349 L125.807 545.349 L125.807 551.229 L120.922 551.229 L120.922 545.349 Z\" fill=\"#000000\" fill-rule=\"evenodd\" fill-opacity=\"1\" /><path clip-path=\"url(#clip980)\" d=\"M140.019 547.294 L156.339 547.294 L156.339 551.229 L134.394 551.229 L134.394 547.294 Q137.056 544.539 141.64 539.909 Q146.246 535.257 147.427 533.914 Q149.672 531.391 150.552 529.655 Q151.455 527.896 151.455 526.206 Q151.455 523.451 149.51 521.715 Q147.589 519.979 144.487 519.979 Q142.288 519.979 139.834 520.743 Q137.404 521.507 134.626 523.058 L134.626 518.335 Q137.45 517.201 139.904 516.622 Q142.357 516.044 144.394 516.044 Q149.765 516.044 152.959 518.729 Q156.154 521.414 156.154 525.905 Q156.154 528.034 155.343 529.956 Q154.556 531.854 152.45 534.446 Q151.871 535.118 148.769 538.335 Q145.668 541.53 140.019 547.294 Z\" fill=\"#000000\" fill-rule=\"evenodd\" fill-opacity=\"1\" /><path clip-path=\"url(#clip980)\" d=\"M98.6771 192.888 Q95.066 192.888 93.2373 196.453 Q91.4317 199.995 91.4317 207.124 Q91.4317 214.231 93.2373 217.795 Q95.066 221.337 98.6771 221.337 Q102.311 221.337 104.117 217.795 Q105.946 214.231 105.946 207.124 Q105.946 199.995 104.117 196.453 Q102.311 192.888 98.6771 192.888 M98.6771 189.184 Q104.487 189.184 107.543 193.791 Q110.621 198.374 110.621 207.124 Q110.621 215.851 107.543 220.457 Q104.487 225.041 98.6771 225.041 Q92.8669 225.041 89.7882 220.457 Q86.7327 215.851 86.7327 207.124 Q86.7327 198.374 89.7882 193.791 Q92.8669 189.184 98.6771 189.184 Z\" fill=\"#000000\" fill-rule=\"evenodd\" fill-opacity=\"1\" /><path clip-path=\"url(#clip980)\" d=\"M118.839 218.49 L123.723 218.49 L123.723 224.369 L118.839 224.369 L118.839 218.49 Z\" fill=\"#000000\" fill-rule=\"evenodd\" fill-opacity=\"1\" /><path clip-path=\"url(#clip980)\" d=\"M146.756 193.884 L134.95 212.333 L146.756 212.333 L146.756 193.884 M145.529 189.809 L151.408 189.809 L151.408 212.333 L156.339 212.333 L156.339 216.221 L151.408 216.221 L151.408 224.369 L146.756 224.369 L146.756 216.221 L131.154 216.221 L131.154 211.708 L145.529 189.809 Z\" fill=\"#000000\" fill-rule=\"evenodd\" fill-opacity=\"1\" /><path clip-path=\"url(#clip982)\" d=\"\n",
       "M253.483 1371.21 L355.389 1430.05 L457.296 1445.72 L559.202 1402.77 L661.109 1432.36 L763.015 1399.39 L864.921 1318.12 L966.828 1307.46 L1068.73 1288.39 L1170.64 1323.18 \n",
       "  L1272.55 1288.56 L1374.45 1286.96 L1476.36 1278.49 L1578.27 1239.6 L1680.17 1213.53 L1782.08 1204.49 L1883.99 1278.35 L1985.89 1290.32 L2087.8 1268.08 L2189.71 1194.78 \n",
       "  L2291.61 1225.12 L2291.61 134.276 L2189.71 263.225 L2087.8 263.493 L1985.89 122.506 L1883.99 100.889 L1782.08 132.505 L1680.17 139.135 L1578.27 95.1209 L1476.36 230.137 \n",
       "  L1374.45 87.9763 L1272.55 112.406 L1170.64 282.651 L1068.73 359.312 L966.828 345.101 L864.921 348.067 L763.015 351.853 L661.109 393.339 L559.202 327.36 L457.296 256.506 \n",
       "  L355.389 254.314 L253.483 239.311  Z\n",
       "  \" fill=\"#009af9\" fill-rule=\"evenodd\" fill-opacity=\"0.2\"/>\n",
       "<polyline clip-path=\"url(#clip982)\" style=\"stroke:#009af9; stroke-linecap:butt; stroke-linejoin:round; stroke-width:12; stroke-opacity:1; fill:none\" points=\"\n",
       "  253.483,825.422 355.389,836.778 457.296,849.944 559.202,897.586 661.109,818.334 763.015,799.561 864.921,782.993 966.828,773.453 1068.73,735.95 1170.64,752.059 \n",
       "  1272.55,753.029 1374.45,836.707 1476.36,803.887 1578.27,726.046 1680.17,747.998 1782.08,778.659 1883.99,733.838 1985.89,757.263 2087.8,761.413 2189.71,697.425 \n",
       "  2291.61,719.598 \n",
       "  \"/>\n",
       "<path clip-path=\"url(#clip982)\" d=\"\n",
       "M253.483 886.462 L355.389 881.312 L457.296 886.552 L559.202 887.552 L661.109 882.777 L763.015 878.636 L864.921 877.898 L966.828 887.972 L1068.73 878.105 L1170.64 881.824 \n",
       "  L1272.55 890.605 L1374.45 881.629 L1476.36 876.418 L1578.27 887.372 L1680.17 887.485 L1782.08 880.468 L1883.99 881.811 L1985.89 880.127 L2087.8 887.828 L2189.71 881.553 \n",
       "  L2291.61 878.42 L2291.61 823.704 L2189.71 826.296 L2087.8 835.072 L1985.89 830.372 L1883.99 826.972 L1782.08 837.867 L1680.17 839.384 L1578.27 836.534 L1476.36 823.624 \n",
       "  L1374.45 839.045 L1272.55 835.234 L1170.64 829.258 L1068.73 839.884 L966.828 829.901 L864.921 827.354 L763.015 833.353 L661.109 834.635 L559.202 837.969 L457.296 833.895 \n",
       "  L355.389 842.787 L253.483 837.07  Z\n",
       "  \" fill=\"#e26f46\" fill-rule=\"evenodd\" fill-opacity=\"0.2\"/>\n",
       "<polyline clip-path=\"url(#clip982)\" style=\"stroke:#e26f46; stroke-linecap:butt; stroke-linejoin:round; stroke-width:12; stroke-opacity:1; fill:none\" points=\"\n",
       "  253.483,863.313 355.389,864.723 457.296,860.951 559.202,859.227 661.109,857.981 763.015,859.51 864.921,859.492 966.828,859.218 1068.73,852.893 1170.64,856.483 \n",
       "  1272.55,860.768 1374.45,861.068 1476.36,855.582 1578.27,863.017 1680.17,858.901 1782.08,861.285 1883.99,857.413 1985.89,861.653 2087.8,858.315 2189.71,855.562 \n",
       "  2291.61,857.686 \n",
       "  \"/>\n",
       "</svg>\n"
      ]
     },
     "execution_count": 42,
     "metadata": {},
     "output_type": "execute_result"
    }
   ],
   "source": [
    "p_f = (ρ = 0.2, δ = 0.02, σ = 0.01, Ω_1 = 0.01) # Fixed parameters\n",
    "p_d = (α = 0.5, β = 0.95) # Pseudo-true values\n",
    "sol = generate_perturbation(m, p_d, p_f) # Solution to the first-order RBC\n",
    "sol_2 = generate_perturbation(m, p_d, p_f, Val(2)) # Solution to the second-order RBC\n",
    "\n",
    "# Simulate multiple trajectories with T observations\n",
    "T = 20\n",
    "trajectories = 40\n",
    "\n",
    "# draw from ergodic for each simulation\n",
    "x_iv = MvNormal(sol.x_ergodic_var) # draw initial conditions from the ergodic distribution\n",
    "problem = LinearStateSpaceProblem(sol, x_iv, (0, T))\n",
    "\n",
    "# Solve multiple trajectories and plot an ensemble\n",
    "ensemble_results = solve(EnsembleProblem(problem), DirectIteration(), EnsembleThreads();\n",
    "                 trajectories)\n",
    "plot(EnsembleSummary(ensemble_results))"
   ]
  },
  {
   "cell_type": "markdown",
   "metadata": {},
   "source": [
    "# Calculate sequence of observables"
   ]
  },
  {
   "cell_type": "code",
   "execution_count": 43,
   "metadata": {},
   "outputs": [
    {
     "data": {
      "text/plain": [
       "2×21 Matrix{Float64}:\n",
       " -0.0178298  -0.0255466  -0.0234792  -0.0198812  …   0.00274844  -0.00488027\n",
       " -0.328839   -0.273428   -0.355453   -0.351816      -0.0529192    0.00960517"
      ]
     },
     "execution_count": 43,
     "metadata": {},
     "output_type": "execute_result"
    }
   ],
   "source": [
    "# Simulate T observations\n",
    "T = 20\n",
    "\n",
    "p_f = (ρ = 0.2, δ = 0.02, σ = 0.01, Ω_1 = 0.01) # Fixed parameters\n",
    "p_d = (α = 0.5, β = 0.95) # Pseudo-true values\n",
    "sol = generate_perturbation(model_rbc, p_d, p_f) # Solution to the first-order RBC\n",
    "\n",
    "x_iv = MvNormal(sol.x_ergodic_var) # draw initial conditions from the ergodic distribution\n",
    "problem = LinearStateSpaceProblem(sol, x_iv, (0, T))\n",
    "sim = solve(problem, DirectIteration())\n",
    "ϵ = sim.W # store the underlying noise in the simulation\n",
    "\n",
    "# simulated observables\n",
    "# see https://github.com/SciML/DifferenceEquations.jl/issues/55 for \n",
    "# direct support of this datastructure\n",
    "z = hcat(sim.z...) "
   ]
  },
  {
   "cell_type": "markdown",
   "metadata": {},
   "source": [
    "# Bayesian estimation with Turing "
   ]
  },
  {
   "cell_type": "code",
   "execution_count": 44,
   "metadata": {},
   "outputs": [],
   "source": [
    "using Turing\n",
    "using Turing: @addlogprob!\n",
    "Turing.setadbackend(:zygote);"
   ]
  },
  {
   "cell_type": "markdown",
   "metadata": {},
   "source": [
    "## First-order, marginal likelihood approach"
   ]
  },
  {
   "cell_type": "code",
   "execution_count": 46,
   "metadata": {},
   "outputs": [
    {
     "name": "stderr",
     "output_type": "stream",
     "text": [
      "┌ Info: Found initial step size\n",
      "│   ϵ = 0.05\n",
      "└ @ Turing.Inference C:\\Users\\jesse\\.julia\\packages\\Turing\\S4Y4B\\src\\inference\\hmc.jl:188\n"
     ]
    },
    {
     "data": {
      "text/plain": [
       "ErrorException(\"Failing on norm of covariance matrix\")"
      ]
     },
     "metadata": {},
     "output_type": "display_data"
    },
    {
     "name": "stderr",
     "output_type": "stream",
     "text": [
      "┌ Warning: The current proposal will be rejected due to numerical error(s).\n",
      "│   isfinite.((θ, r, ℓπ, ℓκ)) = (true, true, false, true)\n",
      "└ @ AdvancedHMC C:\\Users\\jesse\\.julia\\packages\\AdvancedHMC\\51xgc\\src\\hamiltonian.jl:47\n",
      "┌ Warning: The current proposal will be rejected due to numerical error(s).\n",
      "│   isfinite.((θ, r, ℓπ, ℓκ)) = (true, false, false, false)\n",
      "└ @ AdvancedHMC C:\\Users\\jesse\\.julia\\packages\\AdvancedHMC\\51xgc\\src\\hamiltonian.jl:47\n",
      "\u001b[32mSampling:   1%|█                                        |  ETA: 0:00:12\u001b[39m"
     ]
    },
    {
     "data": {
      "text/plain": [
       "ErrorException(\"Failing on norm of covariance matrix\")"
      ]
     },
     "metadata": {},
     "output_type": "display_data"
    },
    {
     "name": "stderr",
     "output_type": "stream",
     "text": [
      "┌ Warning: The current proposal will be rejected due to numerical error(s).\n",
      "│   isfinite.((θ, r, ℓπ, ℓκ)) = (true, true, false, true)\n",
      "└ @ AdvancedHMC C:\\Users\\jesse\\.julia\\packages\\AdvancedHMC\\51xgc\\src\\hamiltonian.jl:47\n",
      "\u001b[32mSampling:   4%|██                                       |  ETA: 0:00:12\u001b[39m"
     ]
    },
    {
     "data": {
      "text/plain": [
       "ErrorException(\"Failing on norm of covariance matrix\")"
      ]
     },
     "metadata": {},
     "output_type": "display_data"
    },
    {
     "name": "stderr",
     "output_type": "stream",
     "text": [
      "┌ Warning: The current proposal will be rejected due to numerical error(s).\n",
      "│   isfinite.((θ, r, ℓπ, ℓκ)) = (true, true, false, true)\n",
      "└ @ AdvancedHMC C:\\Users\\jesse\\.julia\\packages\\AdvancedHMC\\51xgc\\src\\hamiltonian.jl:47\n",
      "┌ Warning: The current proposal will be rejected due to numerical error(s).\n",
      "│   isfinite.((θ, r, ℓπ, ℓκ)) = (true, false, false, false)\n",
      "└ @ AdvancedHMC C:\\Users\\jesse\\.julia\\packages\\AdvancedHMC\\51xgc\\src\\hamiltonian.jl:47\n",
      "\u001b[32mSampling:  10%|█████                                    |  ETA: 0:00:11\u001b[39m┌ Warning: The current proposal will be rejected due to numerical error(s).\n",
      "│   isfinite.((θ, r, ℓπ, ℓκ)) = (true, false, false, false)\n",
      "└ @ AdvancedHMC C:\\Users\\jesse\\.julia\\packages\\AdvancedHMC\\51xgc\\src\\hamiltonian.jl:47\n",
      "\u001b[32mSampling:  13%|██████                                   |  ETA: 0:00:11\u001b[39m"
     ]
    },
    {
     "data": {
      "text/plain": [
       "ErrorException(\"Failing on norm of covariance matrix\")"
      ]
     },
     "metadata": {},
     "output_type": "display_data"
    },
    {
     "name": "stderr",
     "output_type": "stream",
     "text": [
      "┌ Warning: The current proposal will be rejected due to numerical error(s).\n",
      "│   isfinite.((θ, r, ℓπ, ℓκ)) = (true, true, false, true)\n",
      "└ @ AdvancedHMC C:\\Users\\jesse\\.julia\\packages\\AdvancedHMC\\51xgc\\src\\hamiltonian.jl:47\n",
      "\u001b[32mSampling: 100%|█████████████████████████████████████████| Time: 0:00:10\u001b[39m\n"
     ]
    },
    {
     "data": {
      "text/plain": [
       "Chains MCMC chain (1000×14×1 Array{Float64, 3}):\n",
       "\n",
       "Iterations        = 251:1:1250\n",
       "Number of chains  = 1\n",
       "Samples per chain = 1000\n",
       "Wall duration     = 13.99 seconds\n",
       "Compute duration  = 13.99 seconds\n",
       "parameters        = α, β\n",
       "internals         = lp, n_steps, is_accept, acceptance_rate, log_density, hamiltonian_energy, hamiltonian_energy_error, max_hamiltonian_energy_error, tree_depth, numerical_error, step_size, nom_step_size\n",
       "\n",
       "Summary Statistics\n",
       " \u001b[1m parameters \u001b[0m \u001b[1m    mean \u001b[0m \u001b[1m     std \u001b[0m \u001b[1m naive_se \u001b[0m \u001b[1m    mcse \u001b[0m \u001b[1m      ess \u001b[0m \u001b[1m    rhat \u001b[0m \u001b[1m e\u001b[0m ⋯\n",
       " \u001b[90m     Symbol \u001b[0m \u001b[90m Float64 \u001b[0m \u001b[90m Float64 \u001b[0m \u001b[90m  Float64 \u001b[0m \u001b[90m Float64 \u001b[0m \u001b[90m  Float64 \u001b[0m \u001b[90m Float64 \u001b[0m \u001b[90m  \u001b[0m ⋯\n",
       "\n",
       "           α    0.4691    0.0239     0.0008    0.0013   366.8957    0.9997     ⋯\n",
       "           β    0.9625    0.0062     0.0002    0.0004   324.0351    1.0002     ⋯\n",
       "\u001b[36m                                                                1 column omitted\u001b[0m\n",
       "\n",
       "Quantiles\n",
       " \u001b[1m parameters \u001b[0m \u001b[1m    2.5% \u001b[0m \u001b[1m   25.0% \u001b[0m \u001b[1m   50.0% \u001b[0m \u001b[1m   75.0% \u001b[0m \u001b[1m   97.5% \u001b[0m\n",
       " \u001b[90m     Symbol \u001b[0m \u001b[90m Float64 \u001b[0m \u001b[90m Float64 \u001b[0m \u001b[90m Float64 \u001b[0m \u001b[90m Float64 \u001b[0m \u001b[90m Float64 \u001b[0m\n",
       "\n",
       "           α    0.4237    0.4521    0.4689    0.4864    0.5169\n",
       "           β    0.9504    0.9584    0.9624    0.9663    0.9747\n"
      ]
     },
     "execution_count": 46,
     "metadata": {},
     "output_type": "execute_result"
    }
   ],
   "source": [
    "# Turing model definition\n",
    "@model function rbc_kalman(z, m, p_f, cache)\n",
    "    α ~ Uniform(0.2, 0.8)\n",
    "    β ~ Uniform(0.5, 0.99)\n",
    "    p_d = (; α, β)\n",
    "    T = size(z, 2)\n",
    "    sol = generate_perturbation(m, p_d, p_f, Val(1); cache)\n",
    "    if !(sol.retcode == :Success)\n",
    "        @addlogprob! -Inf\n",
    "        return\n",
    "    end\n",
    "    problem = LinearStateSpaceProblem(sol, zeros(2), (0, T), observables = z)\n",
    "    @addlogprob! solve(problem, KalmanFilter()).logpdf\n",
    "end\n",
    "cache = SolverCache(model_rbc, Val(1),  [:α, :β])\n",
    "p_f = (ρ = 0.2, δ = 0.02, σ = 0.01, Ω_1 = 0.01) # Fixed parameters\n",
    "turing_model = rbc_kalman(z, model_rbc, p_f, cache) # passing observables from before \n",
    "\n",
    "n_samples = 1000\n",
    "n_adapts = 250\n",
    "δ = 0.65\n",
    "alg = NUTS(n_adapts,δ)\n",
    "chain_1_marginal = sample(turing_model, alg, n_samples; progress = true)"
   ]
  },
  {
   "cell_type": "markdown",
   "metadata": {},
   "source": [
    "## First-order, joint likelihood approach"
   ]
  },
  {
   "cell_type": "code",
   "execution_count": 47,
   "metadata": {},
   "outputs": [
    {
     "name": "stderr",
     "output_type": "stream",
     "text": [
      "┌ Info: Found initial step size\n",
      "│   ϵ = 0.025\n",
      "└ @ Turing.Inference C:\\Users\\jesse\\.julia\\packages\\Turing\\S4Y4B\\src\\inference\\hmc.jl:188\n"
     ]
    },
    {
     "data": {
      "text/plain": [
       "ErrorException(\"Failing on norm of covariance matrix\")"
      ]
     },
     "metadata": {},
     "output_type": "display_data"
    },
    {
     "name": "stderr",
     "output_type": "stream",
     "text": [
      "┌ Warning: The current proposal will be rejected due to numerical error(s).\n",
      "│   isfinite.((θ, r, ℓπ, ℓκ)) = (true, true, false, true)\n",
      "└ @ AdvancedHMC C:\\Users\\jesse\\.julia\\packages\\AdvancedHMC\\51xgc\\src\\hamiltonian.jl:47\n",
      "\u001b[32mSampling: 100%|█████████████████████████████████████████| Time: 0:06:05\u001b[39m\n"
     ]
    },
    {
     "data": {
      "text/plain": [
       "Chains MCMC chain (1000×35×1 Array{Float64, 3}):\n",
       "\n",
       "Iterations        = 101:1:1100\n",
       "Number of chains  = 1\n",
       "Samples per chain = 1000\n",
       "Wall duration     = 370.0 seconds\n",
       "Compute duration  = 370.0 seconds\n",
       "parameters        = α, β, ϵ_draw[1], ϵ_draw[2], ϵ_draw[3], ϵ_draw[4], ϵ_draw[5], ϵ_draw[6], ϵ_draw[7], ϵ_draw[8], ϵ_draw[9], ϵ_draw[10], ϵ_draw[11], ϵ_draw[12], ϵ_draw[13], ϵ_draw[14], ϵ_draw[15], ϵ_draw[16], ϵ_draw[17], ϵ_draw[18], ϵ_draw[19], ϵ_draw[20], ϵ_draw[21]\n",
       "internals         = lp, n_steps, is_accept, acceptance_rate, log_density, hamiltonian_energy, hamiltonian_energy_error, max_hamiltonian_energy_error, tree_depth, numerical_error, step_size, nom_step_size\n",
       "\n",
       "Summary Statistics\n",
       " \u001b[1m parameters \u001b[0m \u001b[1m    mean \u001b[0m \u001b[1m     std \u001b[0m \u001b[1m naive_se \u001b[0m \u001b[1m    mcse \u001b[0m \u001b[1m       ess \u001b[0m \u001b[1m    rhat \u001b[0m \u001b[1m \u001b[0m ⋯\n",
       " \u001b[90m     Symbol \u001b[0m \u001b[90m Float64 \u001b[0m \u001b[90m Float64 \u001b[0m \u001b[90m  Float64 \u001b[0m \u001b[90m Float64 \u001b[0m \u001b[90m   Float64 \u001b[0m \u001b[90m Float64 \u001b[0m \u001b[90m \u001b[0m ⋯\n",
       "\n",
       "           α    0.5066    0.0210     0.0007    0.0013    190.5715    0.9993    ⋯\n",
       "           β    0.9601    0.0061     0.0002    0.0002    581.3164    0.9990    ⋯\n",
       "   ϵ_draw[1]    3.3786    0.5764     0.0182    0.0385    154.4048    0.9998    ⋯\n",
       "   ϵ_draw[2]    0.5133    0.2176     0.0069    0.0071    770.2557    0.9994    ⋯\n",
       "   ϵ_draw[3]   -0.1003    0.1945     0.0062    0.0044   1328.0157    0.9993    ⋯\n",
       "   ϵ_draw[4]   -0.0619    0.1919     0.0061    0.0064   1094.1650    1.0005    ⋯\n",
       "   ϵ_draw[5]   -0.4192    0.2020     0.0064    0.0085    648.6562    0.9990    ⋯\n",
       "   ϵ_draw[6]   -0.4158    0.2051     0.0065    0.0076    732.6791    0.9994    ⋯\n",
       "   ϵ_draw[7]    0.9984    0.2409     0.0076    0.0137    269.3666    1.0007    ⋯\n",
       "   ϵ_draw[8]    0.0842    0.1894     0.0060    0.0062    947.0065    1.0022    ⋯\n",
       "   ϵ_draw[9]    0.1209    0.1826     0.0058    0.0057   1119.7189    1.0050    ⋯\n",
       "  ϵ_draw[10]   -0.8627    0.2316     0.0073    0.0109    326.5398    1.0021    ⋯\n",
       "  ϵ_draw[11]   -0.7203    0.2184     0.0069    0.0105    403.9224    0.9993    ⋯\n",
       "  ϵ_draw[12]   -1.1757    0.2673     0.0085    0.0129    276.3300    0.9993    ⋯\n",
       "  ϵ_draw[13]    0.6195    0.2119     0.0067    0.0089    429.5985    0.9991    ⋯\n",
       "  ϵ_draw[14]    0.2987    0.1864     0.0059    0.0073    711.9730    0.9991    ⋯\n",
       "  ϵ_draw[15]    0.6575    0.2197     0.0069    0.0107    428.1030    0.9992    ⋯\n",
       "  ϵ_draw[16]    0.5535    0.2111     0.0067    0.0090    409.9537    0.9991    ⋯\n",
       "  ϵ_draw[17]    0.1873    0.1821     0.0058    0.0057    914.7396    1.0011    ⋯\n",
       "  ϵ_draw[18]   -1.5625    0.2976     0.0094    0.0181    207.0049    1.0005    ⋯\n",
       "  ϵ_draw[19]   -0.1479    0.1974     0.0062    0.0057   1075.0333    0.9990    ⋯\n",
       "  ϵ_draw[20]   -0.6668    0.2161     0.0068    0.0088    541.7669    0.9999    ⋯\n",
       "  ϵ_draw[21]    0.2018    0.8912     0.0282    0.0647    157.2005    0.9998    ⋯\n",
       "\u001b[36m                                                                1 column omitted\u001b[0m\n",
       "\n",
       "Quantiles\n",
       " \u001b[1m parameters \u001b[0m \u001b[1m    2.5% \u001b[0m \u001b[1m   25.0% \u001b[0m \u001b[1m   50.0% \u001b[0m \u001b[1m   75.0% \u001b[0m \u001b[1m   97.5% \u001b[0m\n",
       " \u001b[90m     Symbol \u001b[0m \u001b[90m Float64 \u001b[0m \u001b[90m Float64 \u001b[0m \u001b[90m Float64 \u001b[0m \u001b[90m Float64 \u001b[0m \u001b[90m Float64 \u001b[0m\n",
       "\n",
       "           α    0.4667    0.4924    0.5060    0.5201    0.5468\n",
       "           β    0.9487    0.9555    0.9603    0.9645    0.9714\n",
       "   ϵ_draw[1]    2.2761    2.9839    3.3592    3.7346    4.5433\n",
       "   ϵ_draw[2]    0.1178    0.3630    0.4904    0.6489    1.0084\n",
       "   ϵ_draw[3]   -0.4609   -0.2377   -0.0909    0.0329    0.2681\n",
       "   ϵ_draw[4]   -0.4375   -0.1767   -0.0660    0.0678    0.3310\n",
       "   ϵ_draw[5]   -0.8163   -0.5612   -0.4147   -0.2753   -0.0534\n",
       "   ϵ_draw[6]   -0.8578   -0.5443   -0.4013   -0.2676   -0.0327\n",
       "   ϵ_draw[7]    0.5674    0.8369    0.9729    1.1461    1.5005\n",
       "   ϵ_draw[8]   -0.2644   -0.0464    0.0819    0.2107    0.4599\n",
       "   ϵ_draw[9]   -0.2303   -0.0005    0.1192    0.2468    0.4745\n",
       "  ϵ_draw[10]   -1.3246   -1.0058   -0.8513   -0.6998   -0.4653\n",
       "  ϵ_draw[11]   -1.1640   -0.8572   -0.7167   -0.5700   -0.3105\n",
       "  ϵ_draw[12]   -1.7218   -1.3384   -1.1607   -0.9825   -0.7060\n",
       "  ϵ_draw[13]    0.2570    0.4666    0.6022    0.7484    1.0855\n",
       "  ϵ_draw[14]   -0.0546    0.1715    0.2952    0.4160    0.6720\n",
       "  ϵ_draw[15]    0.2533    0.5008    0.6522    0.8089    1.1350\n",
       "  ϵ_draw[16]    0.1758    0.4073    0.5420    0.6758    1.0303\n",
       "  ϵ_draw[17]   -0.1579    0.0695    0.1869    0.2897    0.6102\n",
       "  ϵ_draw[18]   -2.1497   -1.7550   -1.5543   -1.3567   -0.9830\n",
       "  ϵ_draw[19]   -0.5515   -0.2710   -0.1367   -0.0224    0.2406\n",
       "  ϵ_draw[20]   -1.1253   -0.7980   -0.6560   -0.5144   -0.2846\n",
       "  ϵ_draw[21]   -1.4231   -0.4540    0.1846    0.8304    1.9175\n"
      ]
     },
     "execution_count": 47,
     "metadata": {},
     "output_type": "execute_result"
    }
   ],
   "source": [
    "# Turing model definition\n",
    "@model function rbc_1_joint(z, m, p_f, cache)\n",
    "    α ~ Uniform(0.2, 0.8)\n",
    "    β ~ Uniform(0.5, 0.99)\n",
    "    p_d = (; α, β)\n",
    "    T = size(z, 2)\n",
    "    ϵ_draw ~ MvNormal(m.n_ϵ * T, 1.0)\n",
    "    ϵ = reshape(ϵ_draw, m.n_ϵ, T)\n",
    "    sol = generate_perturbation(m, p_d, p_f, Val(1); cache)\n",
    "    if !(sol.retcode == :Success)\n",
    "        @addlogprob! -Inf\n",
    "        return\n",
    "    end\n",
    "    problem = LinearStateSpaceProblem(sol, zeros(2), (0, T), observables = z, noise=ϵ)\n",
    "    @addlogprob! solve(problem, DirectIteration()).logpdf\n",
    "end\n",
    "cache = SolverCache(model_rbc, Val(1),  [:α, :β])\n",
    "p_f = (ρ = 0.2, δ = 0.02, σ = 0.01, Ω_1 = 0.01) # Fixed parameters\n",
    "turing_model = rbc_1_joint(z, model_rbc, p_f, cache) # passing observables from before \n",
    "\n",
    "n_samples = 1000\n",
    "n_adapts = 250\n",
    "δ = 0.65\n",
    "alg = NUTS(n_adapts,δ)\n",
    "chain_1_joint = sample(turing_model, alg, n_samples; progress = true)"
   ]
  },
  {
   "cell_type": "markdown",
   "metadata": {},
   "source": [
    "## Second-order, joint likelihood approach"
   ]
  },
  {
   "cell_type": "code",
   "execution_count": 33,
   "metadata": {},
   "outputs": [
    {
     "name": "stderr",
     "output_type": "stream",
     "text": [
      "┌ Info: Found initial step size\n",
      "│   ϵ = 0.024998474121093753\n",
      "└ @ Turing.Inference C:\\Users\\jesse\\.julia\\packages\\Turing\\S4Y4B\\src\\inference\\hmc.jl:188\n",
      "\u001b[32mSampling: 100%|█████████████████████████████████████████| Time: 0:07:15\u001b[39m\n"
     ]
    },
    {
     "data": {
      "text/plain": [
       "Chains MCMC chain (1000×35×1 Array{Float64, 3}):\n",
       "\n",
       "Iterations        = 101:1:1100\n",
       "Number of chains  = 1\n",
       "Samples per chain = 1000\n",
       "Wall duration     = 462.14 seconds\n",
       "Compute duration  = 462.14 seconds\n",
       "parameters        = α, β, ϵ_draw[1], ϵ_draw[2], ϵ_draw[3], ϵ_draw[4], ϵ_draw[5], ϵ_draw[6], ϵ_draw[7], ϵ_draw[8], ϵ_draw[9], ϵ_draw[10], ϵ_draw[11], ϵ_draw[12], ϵ_draw[13], ϵ_draw[14], ϵ_draw[15], ϵ_draw[16], ϵ_draw[17], ϵ_draw[18], ϵ_draw[19], ϵ_draw[20], ϵ_draw[21]\n",
       "internals         = lp, n_steps, is_accept, acceptance_rate, log_density, hamiltonian_energy, hamiltonian_energy_error, max_hamiltonian_energy_error, tree_depth, numerical_error, step_size, nom_step_size\n",
       "\n",
       "Summary Statistics\n",
       " \u001b[1m parameters \u001b[0m \u001b[1m    mean \u001b[0m \u001b[1m     std \u001b[0m \u001b[1m naive_se \u001b[0m \u001b[1m    mcse \u001b[0m \u001b[1m       ess \u001b[0m \u001b[1m    rhat \u001b[0m \u001b[1m \u001b[0m ⋯\n",
       " \u001b[90m     Symbol \u001b[0m \u001b[90m Float64 \u001b[0m \u001b[90m Float64 \u001b[0m \u001b[90m  Float64 \u001b[0m \u001b[90m Float64 \u001b[0m \u001b[90m   Float64 \u001b[0m \u001b[90m Float64 \u001b[0m \u001b[90m \u001b[0m ⋯\n",
       "\n",
       "           α    0.4796    0.0218     0.0007    0.0013    220.0016    1.0116    ⋯\n",
       "           β    0.9540    0.0057     0.0002    0.0002   1064.5634    1.0010    ⋯\n",
       "   ϵ_draw[1]   -2.3510    0.3833     0.0121    0.0216    217.7005    1.0093    ⋯\n",
       "   ϵ_draw[2]   -0.6461    0.2927     0.0093    0.0122    746.2117    1.0009    ⋯\n",
       "   ϵ_draw[3]   -0.6080    0.2924     0.0092    0.0106    591.5107    1.0034    ⋯\n",
       "   ϵ_draw[4]   -0.2152    0.2803     0.0089    0.0093    853.4314    0.9993    ⋯\n",
       "   ϵ_draw[5]   -0.2670    0.2762     0.0087    0.0106    824.9507    1.0008    ⋯\n",
       "   ϵ_draw[6]    0.2796    0.2628     0.0083    0.0096    730.8634    0.9991    ⋯\n",
       "   ϵ_draw[7]   -0.2382    0.2593     0.0082    0.0072    842.4205    0.9993    ⋯\n",
       "   ϵ_draw[8]   -0.4532    0.2780     0.0088    0.0096    831.1033    1.0006    ⋯\n",
       "   ϵ_draw[9]   -2.2092    0.3931     0.0124    0.0228    232.6791    1.0122    ⋯\n",
       "  ϵ_draw[10]    0.0687    0.2553     0.0081    0.0074    893.3851    0.9990    ⋯\n",
       "  ϵ_draw[11]    0.8975    0.2946     0.0093    0.0105    574.9849    1.0035    ⋯\n",
       "  ϵ_draw[12]    0.4103    0.2731     0.0086    0.0092    685.8210    0.9992    ⋯\n",
       "  ϵ_draw[13]    1.0633    0.3057     0.0097    0.0117    412.3418    1.0139    ⋯\n",
       "  ϵ_draw[14]    0.3352    0.2710     0.0086    0.0097    709.8016    0.9995    ⋯\n",
       "  ϵ_draw[15]   -0.1508    0.2686     0.0085    0.0096    917.7170    0.9992    ⋯\n",
       "  ϵ_draw[16]   -1.7134    0.3588     0.0113    0.0162    360.6705    1.0041    ⋯\n",
       "  ϵ_draw[17]   -0.9634    0.2927     0.0093    0.0143    347.8498    1.0096    ⋯\n",
       "  ϵ_draw[18]   -0.0789    0.2555     0.0081    0.0115    661.6874    0.9998    ⋯\n",
       "  ϵ_draw[19]   -0.6378    0.2576     0.0081    0.0103    749.7238    0.9994    ⋯\n",
       "  ϵ_draw[20]    0.4812    0.2548     0.0081    0.0072    919.4010    0.9996    ⋯\n",
       "  ϵ_draw[21]   -0.3208    0.7838     0.0248    0.0465    191.8998    1.0022    ⋯\n",
       "\u001b[36m                                                                1 column omitted\u001b[0m\n",
       "\n",
       "Quantiles\n",
       " \u001b[1m parameters \u001b[0m \u001b[1m    2.5% \u001b[0m \u001b[1m   25.0% \u001b[0m \u001b[1m   50.0% \u001b[0m \u001b[1m   75.0% \u001b[0m \u001b[1m   97.5% \u001b[0m\n",
       " \u001b[90m     Symbol \u001b[0m \u001b[90m Float64 \u001b[0m \u001b[90m Float64 \u001b[0m \u001b[90m Float64 \u001b[0m \u001b[90m Float64 \u001b[0m \u001b[90m Float64 \u001b[0m\n",
       "\n",
       "           α    0.4350    0.4651    0.4800    0.4953    0.5208\n",
       "           β    0.9429    0.9502    0.9538    0.9579    0.9649\n",
       "   ϵ_draw[1]   -3.1431   -2.6100   -2.3336   -2.0510   -1.6923\n",
       "   ϵ_draw[2]   -1.2758   -0.8172   -0.6384   -0.4416   -0.1156\n",
       "   ϵ_draw[3]   -1.2142   -0.7888   -0.5762   -0.4104   -0.0788\n",
       "   ϵ_draw[4]   -0.7989   -0.3929   -0.2002   -0.0313    0.3138\n",
       "   ϵ_draw[5]   -0.8290   -0.4392   -0.2657   -0.0875    0.2710\n",
       "   ϵ_draw[6]   -0.2180    0.1040    0.2670    0.4555    0.7930\n",
       "   ϵ_draw[7]   -0.7782   -0.4155   -0.2301   -0.0572    0.2436\n",
       "   ϵ_draw[8]   -0.9961   -0.6449   -0.4329   -0.2492    0.0441\n",
       "   ϵ_draw[9]   -3.0350   -2.4719   -2.2078   -1.9251   -1.4906\n",
       "  ϵ_draw[10]   -0.4351   -0.0957    0.0685    0.2376    0.5813\n",
       "  ϵ_draw[11]    0.3660    0.6869    0.8777    1.0848    1.5270\n",
       "  ϵ_draw[12]   -0.1018    0.2348    0.4017    0.5746    0.9804\n",
       "  ϵ_draw[13]    0.4874    0.8537    1.0492    1.2713    1.6708\n",
       "  ϵ_draw[14]   -0.2123    0.1665    0.3320    0.5066    0.8875\n",
       "  ϵ_draw[15]   -0.7031   -0.3123   -0.1486    0.0263    0.3407\n",
       "  ϵ_draw[16]   -2.4376   -1.9652   -1.6841   -1.4530   -1.1016\n",
       "  ϵ_draw[17]   -1.6366   -1.1599   -0.9514   -0.7484   -0.4404\n",
       "  ϵ_draw[18]   -0.5695   -0.2428   -0.0844    0.0954    0.4108\n",
       "  ϵ_draw[19]   -1.1501   -0.8047   -0.6300   -0.4748   -0.1331\n",
       "  ϵ_draw[20]   -0.0122    0.3103    0.4764    0.6415    0.9905\n",
       "  ϵ_draw[21]   -1.8368   -0.8498   -0.3067    0.1728    1.2446\n"
      ]
     },
     "execution_count": 33,
     "metadata": {},
     "output_type": "execute_result"
    }
   ],
   "source": [
    "# Turing model definition\n",
    "@model function rbc_2_joint(z, m, p_f, cache)\n",
    "    α ~ Uniform(0.2, 0.8)\n",
    "    β ~ Uniform(0.5, 0.99)\n",
    "    p_d = (; α, β)\n",
    "    T = size(z, 2)\n",
    "    ϵ_draw ~ MvNormal(m.n_ϵ * T, 1.0) # add noise to the estimation\n",
    "    ϵ = reshape(ϵ_draw, m.n_ϵ, T)\n",
    "    sol = generate_perturbation(m, p_d, p_f, Val(2); cache)\n",
    "    if !(sol.retcode == :Success)\n",
    "        @addlogprob! -Inf\n",
    "        return\n",
    "    end\n",
    "    problem = QuadraticStateSpaceProblem(sol, zeros(2), (0, T), observables = z, noise=ϵ)\n",
    "    @addlogprob! solve(problem, DirectIteration()).logpdf\n",
    "end\n",
    "cache = SolverCache(model_rbc, Val(2),  [:α, :β])\n",
    "p_f = (ρ = 0.2, δ = 0.02, σ = 0.01, Ω_1 = 0.01) # Fixed parameters\n",
    "turing_model = rbc_2_joint(z, model_rbc, p_f, cache) # passing observables from before \n",
    "\n",
    "n_samples = 1000\n",
    "n_adapts = 250\n",
    "δ = 0.65\n",
    "alg = NUTS(n_adapts,δ)\n",
    "chain_2_joint = sample(turing_model, alg, n_samples; progress = true)"
   ]
  },
  {
   "cell_type": "markdown",
   "metadata": {},
   "source": [
    "## Plotting the estimated latent states"
   ]
  },
  {
   "cell_type": "code",
   "execution_count": 34,
   "metadata": {},
   "outputs": [
    {
     "data": {
      "image/svg+xml": [
       "<?xml version=\"1.0\" encoding=\"utf-8\"?>\n",
       "<svg xmlns=\"http://www.w3.org/2000/svg\" xmlns:xlink=\"http://www.w3.org/1999/xlink\" width=\"600\" height=\"400\" viewBox=\"0 0 2400 1600\">\n",
       "<defs>\n",
       "  <clipPath id=\"clip900\">\n",
       "    <rect x=\"0\" y=\"0\" width=\"2400\" height=\"1600\"/>\n",
       "  </clipPath>\n",
       "</defs>\n",
       "<path clip-path=\"url(#clip900)\" d=\"\n",
       "M0 1600 L2400 1600 L2400 0 L0 0  Z\n",
       "  \" fill=\"#ffffff\" fill-rule=\"evenodd\" fill-opacity=\"1\"/>\n",
       "<defs>\n",
       "  <clipPath id=\"clip901\">\n",
       "    <rect x=\"480\" y=\"0\" width=\"1681\" height=\"1600\"/>\n",
       "  </clipPath>\n",
       "</defs>\n",
       "<path clip-path=\"url(#clip900)\" d=\"\n",
       "M148.057 1486.45 L2352.76 1486.45 L2352.76 123.472 L148.057 123.472  Z\n",
       "  \" fill=\"#ffffff\" fill-rule=\"evenodd\" fill-opacity=\"1\"/>\n",
       "<defs>\n",
       "  <clipPath id=\"clip902\">\n",
       "    <rect x=\"148\" y=\"123\" width=\"2206\" height=\"1364\"/>\n",
       "  </clipPath>\n",
       "</defs>\n",
       "<polyline clip-path=\"url(#clip902)\" style=\"stroke:#000000; stroke-linecap:butt; stroke-linejoin:round; stroke-width:2; stroke-opacity:0.1; fill:none\" points=\"\n",
       "  648.328,1486.45 648.328,123.472 \n",
       "  \"/>\n",
       "<polyline clip-path=\"url(#clip902)\" style=\"stroke:#000000; stroke-linecap:butt; stroke-linejoin:round; stroke-width:2; stroke-opacity:0.1; fill:none\" points=\"\n",
       "  1195.67,1486.45 1195.67,123.472 \n",
       "  \"/>\n",
       "<polyline clip-path=\"url(#clip902)\" style=\"stroke:#000000; stroke-linecap:butt; stroke-linejoin:round; stroke-width:2; stroke-opacity:0.1; fill:none\" points=\"\n",
       "  1743.02,1486.45 1743.02,123.472 \n",
       "  \"/>\n",
       "<polyline clip-path=\"url(#clip902)\" style=\"stroke:#000000; stroke-linecap:butt; stroke-linejoin:round; stroke-width:2; stroke-opacity:0.1; fill:none\" points=\"\n",
       "  2290.36,1486.45 2290.36,123.472 \n",
       "  \"/>\n",
       "<polyline clip-path=\"url(#clip900)\" style=\"stroke:#000000; stroke-linecap:butt; stroke-linejoin:round; stroke-width:4; stroke-opacity:1; fill:none\" points=\"\n",
       "  148.057,1486.45 2352.76,1486.45 \n",
       "  \"/>\n",
       "<polyline clip-path=\"url(#clip900)\" style=\"stroke:#000000; stroke-linecap:butt; stroke-linejoin:round; stroke-width:4; stroke-opacity:1; fill:none\" points=\"\n",
       "  648.328,1486.45 648.328,1467.55 \n",
       "  \"/>\n",
       "<polyline clip-path=\"url(#clip900)\" style=\"stroke:#000000; stroke-linecap:butt; stroke-linejoin:round; stroke-width:4; stroke-opacity:1; fill:none\" points=\"\n",
       "  1195.67,1486.45 1195.67,1467.55 \n",
       "  \"/>\n",
       "<polyline clip-path=\"url(#clip900)\" style=\"stroke:#000000; stroke-linecap:butt; stroke-linejoin:round; stroke-width:4; stroke-opacity:1; fill:none\" points=\"\n",
       "  1743.02,1486.45 1743.02,1467.55 \n",
       "  \"/>\n",
       "<polyline clip-path=\"url(#clip900)\" style=\"stroke:#000000; stroke-linecap:butt; stroke-linejoin:round; stroke-width:4; stroke-opacity:1; fill:none\" points=\"\n",
       "  2290.36,1486.45 2290.36,1467.55 \n",
       "  \"/>\n",
       "<path clip-path=\"url(#clip900)\" d=\"M638.606 1514.29 L656.963 1514.29 L656.963 1518.22 L642.889 1518.22 L642.889 1526.7 Q643.907 1526.35 644.926 1526.19 Q645.944 1526 646.963 1526 Q652.75 1526 656.129 1529.17 Q659.509 1532.34 659.509 1537.76 Q659.509 1543.34 656.037 1546.44 Q652.565 1549.52 646.245 1549.52 Q644.069 1549.52 641.801 1549.15 Q639.555 1548.78 637.148 1548.04 L637.148 1543.34 Q639.231 1544.47 641.454 1545.03 Q643.676 1545.58 646.153 1545.58 Q650.157 1545.58 652.495 1543.48 Q654.833 1541.37 654.833 1537.76 Q654.833 1534.15 652.495 1532.04 Q650.157 1529.94 646.153 1529.94 Q644.278 1529.94 642.403 1530.35 Q640.551 1530.77 638.606 1531.65 L638.606 1514.29 Z\" fill=\"#000000\" fill-rule=\"evenodd\" fill-opacity=\"1\" /><path clip-path=\"url(#clip900)\" d=\"M1170.36 1544.91 L1178 1544.91 L1178 1518.55 L1169.69 1520.21 L1169.69 1515.95 L1177.95 1514.29 L1182.63 1514.29 L1182.63 1544.91 L1190.27 1544.91 L1190.27 1548.85 L1170.36 1548.85 L1170.36 1544.91 Z\" fill=\"#000000\" fill-rule=\"evenodd\" fill-opacity=\"1\" /><path clip-path=\"url(#clip900)\" d=\"M1209.71 1517.37 Q1206.1 1517.37 1204.27 1520.93 Q1202.47 1524.47 1202.47 1531.6 Q1202.47 1538.71 1204.27 1542.27 Q1206.1 1545.82 1209.71 1545.82 Q1213.35 1545.82 1215.15 1542.27 Q1216.98 1538.71 1216.98 1531.6 Q1216.98 1524.47 1215.15 1520.93 Q1213.35 1517.37 1209.71 1517.37 M1209.71 1513.66 Q1215.52 1513.66 1218.58 1518.27 Q1221.66 1522.85 1221.66 1531.6 Q1221.66 1540.33 1218.58 1544.94 Q1215.52 1549.52 1209.71 1549.52 Q1203.9 1549.52 1200.82 1544.94 Q1197.77 1540.33 1197.77 1531.6 Q1197.77 1522.85 1200.82 1518.27 Q1203.9 1513.66 1209.71 1513.66 Z\" fill=\"#000000\" fill-rule=\"evenodd\" fill-opacity=\"1\" /><path clip-path=\"url(#clip900)\" d=\"M1718.2 1544.91 L1725.84 1544.91 L1725.84 1518.55 L1717.53 1520.21 L1717.53 1515.95 L1725.79 1514.29 L1730.47 1514.29 L1730.47 1544.91 L1738.11 1544.91 L1738.11 1548.85 L1718.2 1548.85 L1718.2 1544.91 Z\" fill=\"#000000\" fill-rule=\"evenodd\" fill-opacity=\"1\" /><path clip-path=\"url(#clip900)\" d=\"M1747.6 1514.29 L1765.96 1514.29 L1765.96 1518.22 L1751.88 1518.22 L1751.88 1526.7 Q1752.9 1526.35 1753.92 1526.19 Q1754.94 1526 1755.96 1526 Q1761.74 1526 1765.12 1529.17 Q1768.5 1532.34 1768.5 1537.76 Q1768.5 1543.34 1765.03 1546.44 Q1761.56 1549.52 1755.24 1549.52 Q1753.06 1549.52 1750.79 1549.15 Q1748.55 1548.78 1746.14 1548.04 L1746.14 1543.34 Q1748.22 1544.47 1750.45 1545.03 Q1752.67 1545.58 1755.14 1545.58 Q1759.15 1545.58 1761.49 1543.48 Q1763.83 1541.37 1763.83 1537.76 Q1763.83 1534.15 1761.49 1532.04 Q1759.15 1529.94 1755.14 1529.94 Q1753.27 1529.94 1751.39 1530.35 Q1749.54 1530.77 1747.6 1531.65 L1747.6 1514.29 Z\" fill=\"#000000\" fill-rule=\"evenodd\" fill-opacity=\"1\" /><path clip-path=\"url(#clip900)\" d=\"M2269.13 1544.91 L2285.45 1544.91 L2285.45 1548.85 L2263.51 1548.85 L2263.51 1544.91 Q2266.17 1542.16 2270.75 1537.53 Q2275.36 1532.88 2276.54 1531.53 Q2278.78 1529.01 2279.66 1527.27 Q2280.57 1525.51 2280.57 1523.82 Q2280.57 1521.07 2278.62 1519.33 Q2276.7 1517.6 2273.6 1517.6 Q2271.4 1517.6 2268.95 1518.36 Q2266.52 1519.13 2263.74 1520.68 L2263.74 1515.95 Q2266.56 1514.82 2269.02 1514.24 Q2271.47 1513.66 2273.51 1513.66 Q2278.88 1513.66 2282.07 1516.35 Q2285.27 1519.03 2285.27 1523.52 Q2285.27 1525.65 2284.46 1527.57 Q2283.67 1529.47 2281.56 1532.07 Q2280.98 1532.74 2277.88 1535.95 Q2274.78 1539.15 2269.13 1544.91 Z\" fill=\"#000000\" fill-rule=\"evenodd\" fill-opacity=\"1\" /><path clip-path=\"url(#clip900)\" d=\"M2305.27 1517.37 Q2301.65 1517.37 2299.83 1520.93 Q2298.02 1524.47 2298.02 1531.6 Q2298.02 1538.71 2299.83 1542.27 Q2301.65 1545.82 2305.27 1545.82 Q2308.9 1545.82 2310.71 1542.27 Q2312.53 1538.71 2312.53 1531.6 Q2312.53 1524.47 2310.71 1520.93 Q2308.9 1517.37 2305.27 1517.37 M2305.27 1513.66 Q2311.08 1513.66 2314.13 1518.27 Q2317.21 1522.85 2317.21 1531.6 Q2317.21 1540.33 2314.13 1544.94 Q2311.08 1549.52 2305.27 1549.52 Q2299.46 1549.52 2296.38 1544.94 Q2293.32 1540.33 2293.32 1531.6 Q2293.32 1522.85 2296.38 1518.27 Q2299.46 1513.66 2305.27 1513.66 Z\" fill=\"#000000\" fill-rule=\"evenodd\" fill-opacity=\"1\" /><polyline clip-path=\"url(#clip902)\" style=\"stroke:#000000; stroke-linecap:butt; stroke-linejoin:round; stroke-width:2; stroke-opacity:0.1; fill:none\" points=\"\n",
       "  148.057,1424.43 2352.76,1424.43 \n",
       "  \"/>\n",
       "<polyline clip-path=\"url(#clip902)\" style=\"stroke:#000000; stroke-linecap:butt; stroke-linejoin:round; stroke-width:2; stroke-opacity:0.1; fill:none\" points=\"\n",
       "  148.057,1153.77 2352.76,1153.77 \n",
       "  \"/>\n",
       "<polyline clip-path=\"url(#clip902)\" style=\"stroke:#000000; stroke-linecap:butt; stroke-linejoin:round; stroke-width:2; stroke-opacity:0.1; fill:none\" points=\"\n",
       "  148.057,883.116 2352.76,883.116 \n",
       "  \"/>\n",
       "<polyline clip-path=\"url(#clip902)\" style=\"stroke:#000000; stroke-linecap:butt; stroke-linejoin:round; stroke-width:2; stroke-opacity:0.1; fill:none\" points=\"\n",
       "  148.057,612.457 2352.76,612.457 \n",
       "  \"/>\n",
       "<polyline clip-path=\"url(#clip902)\" style=\"stroke:#000000; stroke-linecap:butt; stroke-linejoin:round; stroke-width:2; stroke-opacity:0.1; fill:none\" points=\"\n",
       "  148.057,341.798 2352.76,341.798 \n",
       "  \"/>\n",
       "<polyline clip-path=\"url(#clip900)\" style=\"stroke:#000000; stroke-linecap:butt; stroke-linejoin:round; stroke-width:4; stroke-opacity:1; fill:none\" points=\"\n",
       "  148.057,1486.45 148.057,123.472 \n",
       "  \"/>\n",
       "<polyline clip-path=\"url(#clip900)\" style=\"stroke:#000000; stroke-linecap:butt; stroke-linejoin:round; stroke-width:4; stroke-opacity:1; fill:none\" points=\"\n",
       "  148.057,1424.43 166.954,1424.43 \n",
       "  \"/>\n",
       "<polyline clip-path=\"url(#clip900)\" style=\"stroke:#000000; stroke-linecap:butt; stroke-linejoin:round; stroke-width:4; stroke-opacity:1; fill:none\" points=\"\n",
       "  148.057,1153.77 166.954,1153.77 \n",
       "  \"/>\n",
       "<polyline clip-path=\"url(#clip900)\" style=\"stroke:#000000; stroke-linecap:butt; stroke-linejoin:round; stroke-width:4; stroke-opacity:1; fill:none\" points=\"\n",
       "  148.057,883.116 166.954,883.116 \n",
       "  \"/>\n",
       "<polyline clip-path=\"url(#clip900)\" style=\"stroke:#000000; stroke-linecap:butt; stroke-linejoin:round; stroke-width:4; stroke-opacity:1; fill:none\" points=\"\n",
       "  148.057,612.457 166.954,612.457 \n",
       "  \"/>\n",
       "<polyline clip-path=\"url(#clip900)\" style=\"stroke:#000000; stroke-linecap:butt; stroke-linejoin:round; stroke-width:4; stroke-opacity:1; fill:none\" points=\"\n",
       "  148.057,341.798 166.954,341.798 \n",
       "  \"/>\n",
       "<path clip-path=\"url(#clip900)\" d=\"M50.9921 1424.89 L80.6679 1424.89 L80.6679 1428.82 L50.9921 1428.82 L50.9921 1424.89 Z\" fill=\"#000000\" fill-rule=\"evenodd\" fill-opacity=\"1\" /><path clip-path=\"url(#clip900)\" d=\"M104.927 1423.08 Q108.283 1423.8 110.158 1426.07 Q112.057 1428.33 112.057 1431.67 Q112.057 1436.78 108.538 1439.58 Q105.02 1442.39 98.5382 1442.39 Q96.3623 1442.39 94.0475 1441.95 Q91.7558 1441.53 89.3021 1440.67 L89.3021 1436.16 Q91.2465 1437.29 93.5613 1437.87 Q95.8761 1438.45 98.3993 1438.45 Q102.797 1438.45 105.089 1436.71 Q107.404 1434.98 107.404 1431.67 Q107.404 1428.61 105.251 1426.9 Q103.121 1425.16 99.3021 1425.16 L95.2743 1425.16 L95.2743 1421.32 L99.4872 1421.32 Q102.936 1421.32 104.765 1419.95 Q106.594 1418.57 106.594 1415.97 Q106.594 1413.31 104.696 1411.9 Q102.821 1410.46 99.3021 1410.46 Q97.3808 1410.46 95.1817 1410.88 Q92.9826 1411.3 90.3438 1412.18 L90.3438 1408.01 Q93.0058 1407.27 95.3206 1406.9 Q97.6585 1406.53 99.7187 1406.53 Q105.043 1406.53 108.145 1408.96 Q111.246 1411.37 111.246 1415.49 Q111.246 1418.36 109.603 1420.35 Q107.959 1422.32 104.927 1423.08 Z\" fill=\"#000000\" fill-rule=\"evenodd\" fill-opacity=\"1\" /><path clip-path=\"url(#clip900)\" d=\"M51.9412 1154.23 L81.617 1154.23 L81.617 1158.16 L51.9412 1158.16 L51.9412 1154.23 Z\" fill=\"#000000\" fill-rule=\"evenodd\" fill-opacity=\"1\" /><path clip-path=\"url(#clip900)\" d=\"M95.7373 1167.12 L112.057 1167.12 L112.057 1171.05 L90.1123 1171.05 L90.1123 1167.12 Q92.7743 1164.37 97.3576 1159.74 Q101.964 1155.08 103.145 1153.74 Q105.39 1151.22 106.27 1149.48 Q107.172 1147.72 107.172 1146.03 Q107.172 1143.28 105.228 1141.54 Q103.307 1139.81 100.205 1139.81 Q98.0058 1139.81 95.5521 1140.57 Q93.1215 1141.33 90.3438 1142.88 L90.3438 1138.16 Q93.1678 1137.03 95.6215 1136.45 Q98.0752 1135.87 100.112 1135.87 Q105.483 1135.87 108.677 1138.56 Q111.871 1141.24 111.871 1145.73 Q111.871 1147.86 111.061 1149.78 Q110.274 1151.68 108.168 1154.27 Q107.589 1154.94 104.487 1158.16 Q101.385 1161.36 95.7373 1167.12 Z\" fill=\"#000000\" fill-rule=\"evenodd\" fill-opacity=\"1\" /><path clip-path=\"url(#clip900)\" d=\"M51.5708 883.567 L81.2466 883.567 L81.2466 887.502 L51.5708 887.502 L51.5708 883.567 Z\" fill=\"#000000\" fill-rule=\"evenodd\" fill-opacity=\"1\" /><path clip-path=\"url(#clip900)\" d=\"M92.1493 896.461 L99.7882 896.461 L99.7882 870.095 L91.478 871.762 L91.478 867.503 L99.7419 865.836 L104.418 865.836 L104.418 896.461 L112.057 896.461 L112.057 900.396 L92.1493 900.396 L92.1493 896.461 Z\" fill=\"#000000\" fill-rule=\"evenodd\" fill-opacity=\"1\" /><path clip-path=\"url(#clip900)\" d=\"M100.112 598.256 Q96.5011 598.256 94.6724 601.82 Q92.8669 605.362 92.8669 612.492 Q92.8669 619.598 94.6724 623.163 Q96.5011 626.705 100.112 626.705 Q103.746 626.705 105.552 623.163 Q107.381 619.598 107.381 612.492 Q107.381 605.362 105.552 601.82 Q103.746 598.256 100.112 598.256 M100.112 594.552 Q105.922 594.552 108.978 599.158 Q112.057 603.742 112.057 612.492 Q112.057 621.218 108.978 625.825 Q105.922 630.408 100.112 630.408 Q94.3021 630.408 91.2234 625.825 Q88.1679 621.218 88.1679 612.492 Q88.1679 603.742 91.2234 599.158 Q94.3021 594.552 100.112 594.552 Z\" fill=\"#000000\" fill-rule=\"evenodd\" fill-opacity=\"1\" /><path clip-path=\"url(#clip900)\" d=\"M92.1493 355.143 L99.7882 355.143 L99.7882 328.777 L91.478 330.444 L91.478 326.185 L99.7419 324.518 L104.418 324.518 L104.418 355.143 L112.057 355.143 L112.057 359.078 L92.1493 359.078 L92.1493 355.143 Z\" fill=\"#000000\" fill-rule=\"evenodd\" fill-opacity=\"1\" /><path clip-path=\"url(#clip900)\" d=\"M525.943 12.096 L560.699 12.096 L560.699 18.9825 L534.125 18.9825 L534.125 36.8065 L558.107 36.8065 L558.107 43.6931 L534.125 43.6931 L534.125 72.576 L525.943 72.576 L525.943 12.096 Z\" fill=\"#000000\" fill-rule=\"evenodd\" fill-opacity=\"1\" /><path clip-path=\"url(#clip900)\" d=\"M567.302 27.2059 L574.756 27.2059 L574.756 72.576 L567.302 72.576 L567.302 27.2059 M567.302 9.54393 L574.756 9.54393 L574.756 18.9825 L567.302 18.9825 L567.302 9.54393 Z\" fill=\"#000000\" fill-rule=\"evenodd\" fill-opacity=\"1\" /><path clip-path=\"url(#clip900)\" d=\"M616.642 34.1734 Q615.387 33.4443 613.888 33.1202 Q612.429 32.7556 610.647 32.7556 Q604.328 32.7556 600.925 36.8875 Q597.563 40.9789 597.563 48.6757 L597.563 72.576 L590.068 72.576 L590.068 27.2059 L597.563 27.2059 L597.563 34.2544 Q599.912 30.1225 603.679 28.1376 Q607.447 26.1121 612.834 26.1121 Q613.604 26.1121 614.536 26.2337 Q615.468 26.3147 616.602 26.5172 L616.642 34.1734 Z\" fill=\"#000000\" fill-rule=\"evenodd\" fill-opacity=\"1\" /><path clip-path=\"url(#clip900)\" d=\"M653.384 28.5427 L653.384 35.5912 Q650.224 33.9709 646.822 33.1607 Q643.419 32.3505 639.773 32.3505 Q634.223 32.3505 631.428 34.0519 Q628.673 35.7533 628.673 39.156 Q628.673 41.7486 630.658 43.2475 Q632.643 44.7058 638.639 46.0426 L641.191 46.6097 Q649.131 48.3111 652.452 51.4303 Q655.815 54.509 655.815 60.0587 Q655.815 66.3781 650.791 70.0644 Q645.809 73.7508 637.059 73.7508 Q633.413 73.7508 629.443 73.0216 Q625.514 72.3329 621.139 70.9151 L621.139 63.2184 Q625.271 65.3654 629.281 66.4591 Q633.292 67.5124 637.221 67.5124 Q642.487 67.5124 645.323 65.73 Q648.158 63.9071 648.158 60.6258 Q648.158 57.5877 646.092 55.9673 Q644.067 54.3469 637.14 52.8481 L634.547 52.2405 Q627.62 50.7821 624.542 47.7845 Q621.463 44.7463 621.463 39.4801 Q621.463 33.0797 626 29.5959 Q630.537 26.1121 638.882 26.1121 Q643.014 26.1121 646.659 26.7198 Q650.305 27.3274 653.384 28.5427 Z\" fill=\"#000000\" fill-rule=\"evenodd\" fill-opacity=\"1\" /><path clip-path=\"url(#clip900)\" d=\"M675.056 14.324 L675.056 27.2059 L690.409 27.2059 L690.409 32.9987 L675.056 32.9987 L675.056 57.6282 Q675.056 63.1779 676.555 64.7578 Q678.095 66.3376 682.753 66.3376 L690.409 66.3376 L690.409 72.576 L682.753 72.576 Q674.125 72.576 670.843 69.3758 Q667.562 66.1351 667.562 57.6282 L667.562 32.9987 L662.093 32.9987 L662.093 27.2059 L667.562 27.2059 L667.562 14.324 L675.056 14.324 Z\" fill=\"#000000\" fill-rule=\"evenodd\" fill-opacity=\"1\" /><path clip-path=\"url(#clip900)\" d=\"M696.445 46.5287 L718.279 46.5287 L718.279 53.1722 L696.445 53.1722 L696.445 46.5287 Z\" fill=\"#000000\" fill-rule=\"evenodd\" fill-opacity=\"1\" /><path clip-path=\"url(#clip900)\" d=\"M757.33 17.6457 Q748.418 17.6457 743.152 24.2892 Q737.926 30.9327 737.926 42.3968 Q737.926 53.8203 743.152 60.4638 Q748.418 67.1073 757.33 67.1073 Q766.242 67.1073 771.427 60.4638 Q776.653 53.8203 776.653 42.3968 Q776.653 30.9327 771.427 24.2892 Q766.242 17.6457 757.33 17.6457 M757.33 11.0023 Q770.05 11.0023 777.666 19.5497 Q785.281 28.0566 785.281 42.3968 Q785.281 56.6965 777.666 65.2439 Q770.05 73.7508 757.33 73.7508 Q744.57 73.7508 736.914 65.2439 Q729.298 56.737 729.298 42.3968 Q729.298 28.0566 736.914 19.5497 Q744.57 11.0023 757.33 11.0023 Z\" fill=\"#000000\" fill-rule=\"evenodd\" fill-opacity=\"1\" /><path clip-path=\"url(#clip900)\" d=\"M824.049 34.1734 Q822.793 33.4443 821.294 33.1202 Q819.836 32.7556 818.053 32.7556 Q811.734 32.7556 808.331 36.8875 Q804.969 40.9789 804.969 48.6757 L804.969 72.576 L797.475 72.576 L797.475 27.2059 L804.969 27.2059 L804.969 34.2544 Q807.318 30.1225 811.086 28.1376 Q814.853 26.1121 820.241 26.1121 Q821.01 26.1121 821.942 26.2337 Q822.874 26.3147 824.008 26.5172 L824.049 34.1734 Z\" fill=\"#000000\" fill-rule=\"evenodd\" fill-opacity=\"1\" /><path clip-path=\"url(#clip900)\" d=\"M860.264 34.0924 L860.264 9.54393 L867.717 9.54393 L867.717 72.576 L860.264 72.576 L860.264 65.7705 Q857.914 69.8214 854.309 71.8063 Q850.744 73.7508 845.721 73.7508 Q837.498 73.7508 832.312 67.1883 Q827.168 60.6258 827.168 49.9314 Q827.168 39.2371 832.312 32.6746 Q837.498 26.1121 845.721 26.1121 Q850.744 26.1121 854.309 28.0971 Q857.914 30.0415 860.264 34.0924 M834.865 49.9314 Q834.865 58.1548 838.227 62.8538 Q841.63 67.5124 847.544 67.5124 Q853.458 67.5124 856.861 62.8538 Q860.264 58.1548 860.264 49.9314 Q860.264 41.7081 856.861 37.0496 Q853.458 32.3505 847.544 32.3505 Q841.63 32.3505 838.227 37.0496 Q834.865 41.7081 834.865 49.9314 Z\" fill=\"#000000\" fill-rule=\"evenodd\" fill-opacity=\"1\" /><path clip-path=\"url(#clip900)\" d=\"M921.878 48.0275 L921.878 51.6733 L887.607 51.6733 Q888.093 59.3701 892.225 63.421 Q896.398 67.4314 903.811 67.4314 Q908.105 67.4314 912.115 66.3781 Q916.166 65.3249 920.136 63.2184 L920.136 70.267 Q916.126 71.9684 911.913 72.8596 Q907.7 73.7508 903.365 73.7508 Q892.509 73.7508 886.149 67.4314 Q879.83 61.1119 879.83 50.3365 Q879.83 39.1965 885.825 32.6746 Q891.861 26.1121 902.069 26.1121 Q911.224 26.1121 916.531 32.0264 Q921.878 37.9003 921.878 48.0275 M914.424 45.84 Q914.343 39.7232 910.981 36.0774 Q907.659 32.4315 902.15 32.4315 Q895.912 32.4315 892.144 35.9558 Q888.417 39.4801 887.85 45.8805 L914.424 45.84 Z\" fill=\"#000000\" fill-rule=\"evenodd\" fill-opacity=\"1\" /><path clip-path=\"url(#clip900)\" d=\"M960.402 34.1734 Q959.146 33.4443 957.647 33.1202 Q956.189 32.7556 954.407 32.7556 Q948.087 32.7556 944.685 36.8875 Q941.322 40.9789 941.322 48.6757 L941.322 72.576 L933.828 72.576 L933.828 27.2059 L941.322 27.2059 L941.322 34.2544 Q943.672 30.1225 947.439 28.1376 Q951.206 26.1121 956.594 26.1121 Q957.364 26.1121 958.296 26.2337 Q959.227 26.3147 960.362 26.5172 L960.402 34.1734 Z\" fill=\"#000000\" fill-rule=\"evenodd\" fill-opacity=\"1\" /><path clip-path=\"url(#clip900)\" d=\"M994.916 12.096 L1003.1 12.096 L1003.1 68.3631 Q1003.1 79.3005 998.926 84.2426 Q994.794 89.1847 985.599 89.1847 L982.479 89.1847 L982.479 82.2982 L985.032 82.2982 Q990.46 82.2982 992.688 79.26 Q994.916 76.2218 994.916 68.3631 L994.916 12.096 Z\" fill=\"#000000\" fill-rule=\"evenodd\" fill-opacity=\"1\" /><path clip-path=\"url(#clip900)\" d=\"M1036.64 32.4315 Q1030.64 32.4315 1027.16 37.1306 Q1023.68 41.7891 1023.68 49.9314 Q1023.68 58.0738 1027.12 62.7728 Q1030.6 67.4314 1036.64 67.4314 Q1042.59 67.4314 1046.08 62.7323 Q1049.56 58.0333 1049.56 49.9314 Q1049.56 41.8701 1046.08 37.1711 Q1042.59 32.4315 1036.64 32.4315 M1036.64 26.1121 Q1046.36 26.1121 1051.91 32.4315 Q1057.46 38.7509 1057.46 49.9314 Q1057.46 61.0714 1051.91 67.4314 Q1046.36 73.7508 1036.64 73.7508 Q1026.88 73.7508 1021.33 67.4314 Q1015.82 61.0714 1015.82 49.9314 Q1015.82 38.7509 1021.33 32.4315 Q1026.88 26.1121 1036.64 26.1121 Z\" fill=\"#000000\" fill-rule=\"evenodd\" fill-opacity=\"1\" /><path clip-path=\"url(#clip900)\" d=\"M1069.82 27.2059 L1077.27 27.2059 L1077.27 72.576 L1069.82 72.576 L1069.82 27.2059 M1069.82 9.54393 L1077.27 9.54393 L1077.27 18.9825 L1069.82 18.9825 L1069.82 9.54393 Z\" fill=\"#000000\" fill-rule=\"evenodd\" fill-opacity=\"1\" /><path clip-path=\"url(#clip900)\" d=\"M1130.58 45.1919 L1130.58 72.576 L1123.13 72.576 L1123.13 45.4349 Q1123.13 38.994 1120.62 35.7938 Q1118.1 32.5936 1113.08 32.5936 Q1107.04 32.5936 1103.56 36.4419 Q1100.08 40.2903 1100.08 46.9338 L1100.08 72.576 L1092.58 72.576 L1092.58 27.2059 L1100.08 27.2059 L1100.08 34.2544 Q1102.75 30.163 1106.36 28.1376 Q1110 26.1121 1114.74 26.1121 Q1122.56 26.1121 1126.57 30.9732 Q1130.58 35.7938 1130.58 45.1919 Z\" fill=\"#000000\" fill-rule=\"evenodd\" fill-opacity=\"1\" /><path clip-path=\"url(#clip900)\" d=\"M1152.82 14.324 L1152.82 27.2059 L1168.17 27.2059 L1168.17 32.9987 L1152.82 32.9987 L1152.82 57.6282 Q1152.82 63.1779 1154.32 64.7578 Q1155.86 66.3376 1160.52 66.3376 L1168.17 66.3376 L1168.17 72.576 L1160.52 72.576 Q1151.89 72.576 1148.61 69.3758 Q1145.33 66.1351 1145.33 57.6282 L1145.33 32.9987 L1139.86 32.9987 L1139.86 27.2059 L1145.33 27.2059 L1145.33 14.324 L1152.82 14.324 Z\" fill=\"#000000\" fill-rule=\"evenodd\" fill-opacity=\"1\" /><path clip-path=\"url(#clip900)\" d=\"M1179.88 62.2867 L1188.43 62.2867 L1188.43 72.576 L1179.88 72.576 L1179.88 62.2867 M1179.88 29.6769 L1188.43 29.6769 L1188.43 39.9662 L1179.88 39.9662 L1179.88 29.6769 Z\" fill=\"#000000\" fill-rule=\"evenodd\" fill-opacity=\"1\" /><path clip-path=\"url(#clip900)\" d=\"M1232.62 12.096 L1270.86 12.096 L1270.86 18.9825 L1240.81 18.9825 L1240.81 36.8875 L1269.61 36.8875 L1269.61 43.7741 L1240.81 43.7741 L1240.81 65.6895 L1271.59 65.6895 L1271.59 72.576 L1232.62 72.576 L1232.62 12.096 Z\" fill=\"#000000\" fill-rule=\"evenodd\" fill-opacity=\"1\" /><path clip-path=\"url(#clip900)\" d=\"M1313.64 28.5427 L1313.64 35.5912 Q1310.48 33.9709 1307.08 33.1607 Q1303.68 32.3505 1300.03 32.3505 Q1294.48 32.3505 1291.68 34.0519 Q1288.93 35.7533 1288.93 39.156 Q1288.93 41.7486 1290.92 43.2475 Q1292.9 44.7058 1298.9 46.0426 L1301.45 46.6097 Q1309.39 48.3111 1312.71 51.4303 Q1316.07 54.509 1316.07 60.0587 Q1316.07 66.3781 1311.05 70.0644 Q1306.07 73.7508 1297.32 73.7508 Q1293.67 73.7508 1289.7 73.0216 Q1285.77 72.3329 1281.4 70.9151 L1281.4 63.2184 Q1285.53 65.3654 1289.54 66.4591 Q1293.55 67.5124 1297.48 67.5124 Q1302.74 67.5124 1305.58 65.73 Q1308.42 63.9071 1308.42 60.6258 Q1308.42 57.5877 1306.35 55.9673 Q1304.32 54.3469 1297.4 52.8481 L1294.8 52.2405 Q1287.88 50.7821 1284.8 47.7845 Q1281.72 44.7463 1281.72 39.4801 Q1281.72 33.0797 1286.26 29.5959 Q1290.79 26.1121 1299.14 26.1121 Q1303.27 26.1121 1306.92 26.7198 Q1310.56 27.3274 1313.64 28.5427 Z\" fill=\"#000000\" fill-rule=\"evenodd\" fill-opacity=\"1\" /><path clip-path=\"url(#clip900)\" d=\"M1335.31 14.324 L1335.31 27.2059 L1350.67 27.2059 L1350.67 32.9987 L1335.31 32.9987 L1335.31 57.6282 Q1335.31 63.1779 1336.81 64.7578 Q1338.35 66.3376 1343.01 66.3376 L1350.67 66.3376 L1350.67 72.576 L1343.01 72.576 Q1334.38 72.576 1331.1 69.3758 Q1327.82 66.1351 1327.82 57.6282 L1327.82 32.9987 L1322.35 32.9987 L1322.35 27.2059 L1327.82 27.2059 L1327.82 14.324 L1335.31 14.324 Z\" fill=\"#000000\" fill-rule=\"evenodd\" fill-opacity=\"1\" /><path clip-path=\"url(#clip900)\" d=\"M1360.47 27.2059 L1367.92 27.2059 L1367.92 72.576 L1360.47 72.576 L1360.47 27.2059 M1360.47 9.54393 L1367.92 9.54393 L1367.92 18.9825 L1360.47 18.9825 L1360.47 9.54393 Z\" fill=\"#000000\" fill-rule=\"evenodd\" fill-opacity=\"1\" /><path clip-path=\"url(#clip900)\" d=\"M1418.84 35.9153 Q1421.64 30.8922 1425.53 28.5022 Q1429.42 26.1121 1434.68 26.1121 Q1441.77 26.1121 1445.62 31.0947 Q1449.47 36.0368 1449.47 45.1919 L1449.47 72.576 L1441.97 72.576 L1441.97 45.4349 Q1441.97 38.913 1439.66 35.7533 Q1437.36 32.5936 1432.62 32.5936 Q1426.82 32.5936 1423.46 36.4419 Q1420.1 40.2903 1420.1 46.9338 L1420.1 72.576 L1412.6 72.576 L1412.6 45.4349 Q1412.6 38.8725 1410.3 35.7533 Q1407.99 32.5936 1403.17 32.5936 Q1397.45 32.5936 1394.09 36.4824 Q1390.73 40.3308 1390.73 46.9338 L1390.73 72.576 L1383.24 72.576 L1383.24 27.2059 L1390.73 27.2059 L1390.73 34.2544 Q1393.28 30.082 1396.85 28.0971 Q1400.41 26.1121 1405.31 26.1121 Q1410.25 26.1121 1413.7 28.6237 Q1417.18 31.1352 1418.84 35.9153 Z\" fill=\"#000000\" fill-rule=\"evenodd\" fill-opacity=\"1\" /><path clip-path=\"url(#clip900)\" d=\"M1484.95 49.7694 Q1475.92 49.7694 1472.44 51.8354 Q1468.95 53.9013 1468.95 58.8839 Q1468.95 62.8538 1471.55 65.2034 Q1474.18 67.5124 1478.67 67.5124 Q1484.87 67.5124 1488.6 63.1374 Q1492.37 58.7219 1492.37 51.4303 L1492.37 49.7694 L1484.95 49.7694 M1499.82 46.6907 L1499.82 72.576 L1492.37 72.576 L1492.37 65.6895 Q1489.81 69.8214 1486.01 71.8063 Q1482.2 73.7508 1476.69 73.7508 Q1469.72 73.7508 1465.59 69.8619 Q1461.5 65.9325 1461.5 59.3701 Q1461.5 51.7138 1466.6 47.825 Q1471.75 43.9361 1481.92 43.9361 L1492.37 43.9361 L1492.37 43.2069 Q1492.37 38.0623 1488.96 35.2672 Q1485.6 32.4315 1479.48 32.4315 Q1475.6 32.4315 1471.91 33.3632 Q1468.22 34.295 1464.82 36.1584 L1464.82 29.2718 Q1468.91 27.692 1472.76 26.9223 Q1476.61 26.1121 1480.25 26.1121 Q1490.1 26.1121 1494.96 31.2163 Q1499.82 36.3204 1499.82 46.6907 Z\" fill=\"#000000\" fill-rule=\"evenodd\" fill-opacity=\"1\" /><path clip-path=\"url(#clip900)\" d=\"M1522.55 14.324 L1522.55 27.2059 L1537.9 27.2059 L1537.9 32.9987 L1522.55 32.9987 L1522.55 57.6282 Q1522.55 63.1779 1524.04 64.7578 Q1525.58 66.3376 1530.24 66.3376 L1537.9 66.3376 L1537.9 72.576 L1530.24 72.576 Q1521.61 72.576 1518.33 69.3758 Q1515.05 66.1351 1515.05 57.6282 L1515.05 32.9987 L1509.58 32.9987 L1509.58 27.2059 L1515.05 27.2059 L1515.05 14.324 L1522.55 14.324 Z\" fill=\"#000000\" fill-rule=\"evenodd\" fill-opacity=\"1\" /><path clip-path=\"url(#clip900)\" d=\"M1586.51 48.0275 L1586.51 51.6733 L1552.24 51.6733 Q1552.73 59.3701 1556.86 63.421 Q1561.03 67.4314 1568.44 67.4314 Q1572.74 67.4314 1576.75 66.3781 Q1580.8 65.3249 1584.77 63.2184 L1584.77 70.267 Q1580.76 71.9684 1576.54 72.8596 Q1572.33 73.7508 1568 73.7508 Q1557.14 73.7508 1550.78 67.4314 Q1544.46 61.1119 1544.46 50.3365 Q1544.46 39.1965 1550.46 32.6746 Q1556.49 26.1121 1566.7 26.1121 Q1575.86 26.1121 1581.16 32.0264 Q1586.51 37.9003 1586.51 48.0275 M1579.06 45.84 Q1578.98 39.7232 1575.61 36.0774 Q1572.29 32.4315 1566.78 32.4315 Q1560.54 32.4315 1556.78 35.9558 Q1553.05 39.4801 1552.48 45.8805 L1579.06 45.84 Z\" fill=\"#000000\" fill-rule=\"evenodd\" fill-opacity=\"1\" /><path clip-path=\"url(#clip900)\" d=\"M1628.6 34.0924 L1628.6 9.54393 L1636.05 9.54393 L1636.05 72.576 L1628.6 72.576 L1628.6 65.7705 Q1626.25 69.8214 1622.64 71.8063 Q1619.08 73.7508 1614.06 73.7508 Q1605.83 73.7508 1600.65 67.1883 Q1595.5 60.6258 1595.5 49.9314 Q1595.5 39.2371 1600.65 32.6746 Q1605.83 26.1121 1614.06 26.1121 Q1619.08 26.1121 1622.64 28.0971 Q1626.25 30.0415 1628.6 34.0924 M1603.2 49.9314 Q1603.2 58.1548 1606.56 62.8538 Q1609.96 67.5124 1615.88 67.5124 Q1621.79 67.5124 1625.2 62.8538 Q1628.6 58.1548 1628.6 49.9314 Q1628.6 41.7081 1625.2 37.0496 Q1621.79 32.3505 1615.88 32.3505 Q1609.96 32.3505 1606.56 37.0496 Q1603.2 41.7081 1603.2 49.9314 Z\" fill=\"#000000\" fill-rule=\"evenodd\" fill-opacity=\"1\" /><path clip-path=\"url(#clip900)\" d=\"M1678.1 12.096 L1686.28 12.096 L1686.28 65.6895 L1715.73 65.6895 L1715.73 72.576 L1678.1 72.576 L1678.1 12.096 Z\" fill=\"#000000\" fill-rule=\"evenodd\" fill-opacity=\"1\" /><path clip-path=\"url(#clip900)\" d=\"M1744.62 49.7694 Q1735.58 49.7694 1732.1 51.8354 Q1728.62 53.9013 1728.62 58.8839 Q1728.62 62.8538 1731.21 65.2034 Q1733.84 67.5124 1738.34 67.5124 Q1744.54 67.5124 1748.26 63.1374 Q1752.03 58.7219 1752.03 51.4303 L1752.03 49.7694 L1744.62 49.7694 M1759.48 46.6907 L1759.48 72.576 L1752.03 72.576 L1752.03 65.6895 Q1749.48 69.8214 1745.67 71.8063 Q1741.86 73.7508 1736.35 73.7508 Q1729.39 73.7508 1725.25 69.8619 Q1721.16 65.9325 1721.16 59.3701 Q1721.16 51.7138 1726.27 47.825 Q1731.41 43.9361 1741.58 43.9361 L1752.03 43.9361 L1752.03 43.2069 Q1752.03 38.0623 1748.63 35.2672 Q1745.26 32.4315 1739.15 32.4315 Q1735.26 32.4315 1731.57 33.3632 Q1727.89 34.295 1724.48 36.1584 L1724.48 29.2718 Q1728.57 27.692 1732.42 26.9223 Q1736.27 26.1121 1739.92 26.1121 Q1749.76 26.1121 1754.62 31.2163 Q1759.48 36.3204 1759.48 46.6907 Z\" fill=\"#000000\" fill-rule=\"evenodd\" fill-opacity=\"1\" /><path clip-path=\"url(#clip900)\" d=\"M1782.21 14.324 L1782.21 27.2059 L1797.56 27.2059 L1797.56 32.9987 L1782.21 32.9987 L1782.21 57.6282 Q1782.21 63.1779 1783.71 64.7578 Q1785.25 66.3376 1789.91 66.3376 L1797.56 66.3376 L1797.56 72.576 L1789.91 72.576 Q1781.28 72.576 1778 69.3758 Q1774.71 66.1351 1774.71 57.6282 L1774.71 32.9987 L1769.25 32.9987 L1769.25 27.2059 L1774.71 27.2059 L1774.71 14.324 L1782.21 14.324 Z\" fill=\"#000000\" fill-rule=\"evenodd\" fill-opacity=\"1\" /><path clip-path=\"url(#clip900)\" d=\"M1846.17 48.0275 L1846.17 51.6733 L1811.9 51.6733 Q1812.39 59.3701 1816.52 63.421 Q1820.69 67.4314 1828.11 67.4314 Q1832.4 67.4314 1836.41 66.3781 Q1840.46 65.3249 1844.43 63.2184 L1844.43 70.267 Q1840.42 71.9684 1836.21 72.8596 Q1831.99 73.7508 1827.66 73.7508 Q1816.8 73.7508 1810.44 67.4314 Q1804.12 61.1119 1804.12 50.3365 Q1804.12 39.1965 1810.12 32.6746 Q1816.16 26.1121 1826.36 26.1121 Q1835.52 26.1121 1840.83 32.0264 Q1846.17 37.9003 1846.17 48.0275 M1838.72 45.84 Q1838.64 39.7232 1835.28 36.0774 Q1831.95 32.4315 1826.44 32.4315 Q1820.21 32.4315 1816.44 35.9558 Q1812.71 39.4801 1812.15 45.8805 L1838.72 45.84 Z\" fill=\"#000000\" fill-rule=\"evenodd\" fill-opacity=\"1\" /><path clip-path=\"url(#clip900)\" d=\"M1896.12 45.1919 L1896.12 72.576 L1888.67 72.576 L1888.67 45.4349 Q1888.67 38.994 1886.16 35.7938 Q1883.64 32.5936 1878.62 32.5936 Q1872.58 32.5936 1869.1 36.4419 Q1865.62 40.2903 1865.62 46.9338 L1865.62 72.576 L1858.12 72.576 L1858.12 27.2059 L1865.62 27.2059 L1865.62 34.2544 Q1868.29 30.163 1871.9 28.1376 Q1875.54 26.1121 1880.28 26.1121 Q1888.1 26.1121 1892.11 30.9732 Q1896.12 35.7938 1896.12 45.1919 Z\" fill=\"#000000\" fill-rule=\"evenodd\" fill-opacity=\"1\" /><path clip-path=\"url(#clip900)\" d=\"M1918.36 14.324 L1918.36 27.2059 L1933.71 27.2059 L1933.71 32.9987 L1918.36 32.9987 L1918.36 57.6282 Q1918.36 63.1779 1919.86 64.7578 Q1921.4 66.3376 1926.06 66.3376 L1933.71 66.3376 L1933.71 72.576 L1926.06 72.576 Q1917.43 72.576 1914.15 69.3758 Q1910.87 66.1351 1910.87 57.6282 L1910.87 32.9987 L1905.4 32.9987 L1905.4 27.2059 L1910.87 27.2059 L1910.87 14.324 L1918.36 14.324 Z\" fill=\"#000000\" fill-rule=\"evenodd\" fill-opacity=\"1\" /><path clip-path=\"url(#clip900)\" d=\"M1972.44 28.5427 L1972.44 35.5912 Q1969.28 33.9709 1965.88 33.1607 Q1962.47 32.3505 1958.83 32.3505 Q1953.28 32.3505 1950.48 34.0519 Q1947.73 35.7533 1947.73 39.156 Q1947.73 41.7486 1949.71 43.2475 Q1951.7 44.7058 1957.69 46.0426 L1960.25 46.6097 Q1968.19 48.3111 1971.51 51.4303 Q1974.87 54.509 1974.87 60.0587 Q1974.87 66.3781 1969.85 70.0644 Q1964.86 73.7508 1956.11 73.7508 Q1952.47 73.7508 1948.5 73.0216 Q1944.57 72.3329 1940.19 70.9151 L1940.19 63.2184 Q1944.33 65.3654 1948.34 66.4591 Q1952.35 67.5124 1956.28 67.5124 Q1961.54 67.5124 1964.38 65.73 Q1967.21 63.9071 1967.21 60.6258 Q1967.21 57.5877 1965.15 55.9673 Q1963.12 54.3469 1956.2 52.8481 L1953.6 52.2405 Q1946.68 50.7821 1943.6 47.7845 Q1940.52 44.7463 1940.52 39.4801 Q1940.52 33.0797 1945.06 29.5959 Q1949.59 26.1121 1957.94 26.1121 Q1962.07 26.1121 1965.71 26.7198 Q1969.36 27.3274 1972.44 28.5427 Z\" fill=\"#000000\" fill-rule=\"evenodd\" fill-opacity=\"1\" /><path clip-path=\"url(#clip902)\" d=\"\n",
       "M210.454 936.776 L319.922 928.362 L429.391 815.585 L538.86 822.881 L648.328 687.38 L757.797 807.523 L867.266 889.132 L976.735 1447.87 L1086.2 734.366 L1195.67 540.435 \n",
       "  L1305.14 642.722 L1414.61 495.965 L1524.08 670.647 L1633.55 797.052 L1743.02 1288.07 L1852.48 1054.37 L1961.95 781.882 L2071.42 933.994 L2180.89 638.549 L2290.36 1183.75 \n",
       "  L2290.36 219.22 L2180.89 339.19 L2071.42 620.555 L1961.95 491.893 L1852.48 696.108 L1743.02 867.449 L1633.55 504.511 L1524.08 371.397 L1414.61 162.047 L1305.14 353.628 \n",
       "  L1195.67 207.378 L1086.2 454.318 L976.735 977.706 L867.266 585.798 L757.797 534.27 L648.328 399.757 L538.86 540.627 L429.391 524.475 L319.922 624.777 L210.454 630.162 \n",
       "   Z\n",
       "  \" fill=\"#009af9\" fill-rule=\"evenodd\" fill-opacity=\"0.5\"/>\n",
       "<polyline clip-path=\"url(#clip902)\" style=\"stroke:#009af9; stroke-linecap:butt; stroke-linejoin:round; stroke-width:4; stroke-opacity:1; fill:none\" points=\"\n",
       "  210.454,783.469 319.922,776.569 429.391,670.03 538.86,681.754 648.328,543.568 757.797,670.896 867.266,737.465 976.735,1212.79 1086.2,594.342 1195.67,373.906 \n",
       "  1305.14,498.175 1414.61,329.006 1524.08,521.022 1633.55,650.782 1743.02,1077.76 1852.48,875.237 1961.95,636.887 2071.42,777.274 2180.89,488.869 2290.36,701.486 \n",
       "  \n",
       "  \"/>\n",
       "<polyline clip-path=\"url(#clip902)\" style=\"stroke:#e26f46; stroke-linecap:butt; stroke-linejoin:round; stroke-width:4; stroke-opacity:1; fill:none\" points=\"\n",
       "  210.454,837.885 319.922,836.448 429.391,634.361 538.86,682.966 648.328,485.386 757.797,700.312 867.266,688.228 976.735,1123.82 1086.2,643.39 1195.67,412.117 \n",
       "  1305.14,543.77 1414.61,281.974 1524.08,652.771 1633.55,591.12 1743.02,937.021 1852.48,973.411 1961.95,619.422 2071.42,728.966 2180.89,525.979 2290.36,996.069 \n",
       "  \n",
       "  \"/>\n",
       "<path clip-path=\"url(#clip900)\" d=\"\n",
       "M1683.95 324.425 L2279.27 324.425 L2279.27 168.905 L1683.95 168.905  Z\n",
       "  \" fill=\"#ffffff\" fill-rule=\"evenodd\" fill-opacity=\"1\"/>\n",
       "<polyline clip-path=\"url(#clip900)\" style=\"stroke:#000000; stroke-linecap:butt; stroke-linejoin:round; stroke-width:4; stroke-opacity:1; fill:none\" points=\"\n",
       "  1683.95,324.425 2279.27,324.425 2279.27,168.905 1683.95,168.905 1683.95,324.425 \n",
       "  \"/>\n",
       "<polyline clip-path=\"url(#clip900)\" style=\"stroke:#009af9; stroke-linecap:butt; stroke-linejoin:round; stroke-width:4; stroke-opacity:1; fill:none\" points=\"\n",
       "  1708.45,220.745 1855.43,220.745 \n",
       "  \"/>\n",
       "<path clip-path=\"url(#clip900)\" d=\"M1884.6 207.307 L1884.6 220.293 L1890.48 220.293 Q1893.75 220.293 1895.53 218.603 Q1897.31 216.914 1897.31 213.789 Q1897.31 210.687 1895.53 208.997 Q1893.75 207.307 1890.48 207.307 L1884.6 207.307 M1879.93 203.465 L1890.48 203.465 Q1896.29 203.465 1899.26 206.104 Q1902.24 208.719 1902.24 213.789 Q1902.24 218.904 1899.26 221.52 Q1896.29 224.136 1890.48 224.136 L1884.6 224.136 L1884.6 238.025 L1879.93 238.025 L1879.93 203.465 Z\" fill=\"#000000\" fill-rule=\"evenodd\" fill-opacity=\"1\" /><path clip-path=\"url(#clip900)\" d=\"M1916.69 215.085 Q1913.26 215.085 1911.27 217.77 Q1909.28 220.432 1909.28 225.085 Q1909.28 229.738 1911.25 232.423 Q1913.24 235.085 1916.69 235.085 Q1920.09 235.085 1922.08 232.4 Q1924.07 229.715 1924.07 225.085 Q1924.07 220.478 1922.08 217.793 Q1920.09 215.085 1916.69 215.085 M1916.69 211.474 Q1922.24 211.474 1925.41 215.085 Q1928.58 218.696 1928.58 225.085 Q1928.58 231.451 1925.41 235.085 Q1922.24 238.696 1916.69 238.696 Q1911.11 238.696 1907.94 235.085 Q1904.79 231.451 1904.79 225.085 Q1904.79 218.696 1907.94 215.085 Q1911.11 211.474 1916.69 211.474 Z\" fill=\"#000000\" fill-rule=\"evenodd\" fill-opacity=\"1\" /><path clip-path=\"url(#clip900)\" d=\"M1952.17 212.863 L1952.17 216.891 Q1950.37 215.965 1948.42 215.502 Q1946.48 215.039 1944.39 215.039 Q1941.22 215.039 1939.63 216.011 Q1938.05 216.983 1938.05 218.928 Q1938.05 220.409 1939.19 221.265 Q1940.32 222.099 1943.75 222.863 L1945.2 223.187 Q1949.74 224.159 1951.64 225.941 Q1953.56 227.701 1953.56 230.872 Q1953.56 234.483 1950.69 236.589 Q1947.84 238.696 1942.84 238.696 Q1940.76 238.696 1938.49 238.279 Q1936.25 237.886 1933.75 237.076 L1933.75 232.677 Q1936.11 233.904 1938.4 234.529 Q1940.69 235.131 1942.94 235.131 Q1945.95 235.131 1947.57 234.113 Q1949.19 233.071 1949.19 231.196 Q1949.19 229.46 1948.01 228.534 Q1946.85 227.608 1942.89 226.752 L1941.41 226.404 Q1937.45 225.571 1935.69 223.858 Q1933.93 222.122 1933.93 219.113 Q1933.93 215.455 1936.52 213.465 Q1939.12 211.474 1943.89 211.474 Q1946.25 211.474 1948.33 211.821 Q1950.41 212.168 1952.17 212.863 Z\" fill=\"#000000\" fill-rule=\"evenodd\" fill-opacity=\"1\" /><path clip-path=\"url(#clip900)\" d=\"M1964.56 204.738 L1964.56 212.099 L1973.33 212.099 L1973.33 215.409 L1964.56 215.409 L1964.56 229.483 Q1964.56 232.654 1965.41 233.557 Q1966.29 234.46 1968.95 234.46 L1973.33 234.46 L1973.33 238.025 L1968.95 238.025 Q1964.02 238.025 1962.15 236.196 Q1960.27 234.344 1960.27 229.483 L1960.27 215.409 L1957.15 215.409 L1957.15 212.099 L1960.27 212.099 L1960.27 204.738 L1964.56 204.738 Z\" fill=\"#000000\" fill-rule=\"evenodd\" fill-opacity=\"1\" /><path clip-path=\"url(#clip900)\" d=\"M2001.11 223.997 L2001.11 226.08 L1981.52 226.08 Q1981.8 230.478 1984.16 232.793 Q1986.55 235.085 1990.78 235.085 Q1993.24 235.085 1995.53 234.483 Q1997.84 233.881 2000.11 232.677 L2000.11 236.705 Q1997.82 237.677 1995.41 238.187 Q1993.01 238.696 1990.53 238.696 Q1984.32 238.696 1980.69 235.085 Q1977.08 231.474 1977.08 225.316 Q1977.08 218.951 1980.51 215.224 Q1983.95 211.474 1989.79 211.474 Q1995.02 211.474 1998.05 214.853 Q2001.11 218.21 2001.11 223.997 M1996.85 222.747 Q1996.8 219.252 1994.88 217.168 Q1992.98 215.085 1989.83 215.085 Q1986.27 215.085 1984.12 217.099 Q1981.99 219.113 1981.66 222.77 L1996.85 222.747 Z\" fill=\"#000000\" fill-rule=\"evenodd\" fill-opacity=\"1\" /><path clip-path=\"url(#clip900)\" d=\"M2023.12 216.08 Q2022.4 215.664 2021.55 215.478 Q2020.71 215.27 2019.7 215.27 Q2016.08 215.27 2014.14 217.631 Q2012.22 219.969 2012.22 224.367 L2012.22 238.025 L2007.94 238.025 L2007.94 212.099 L2012.22 212.099 L2012.22 216.127 Q2013.56 213.766 2015.71 212.631 Q2017.87 211.474 2020.95 211.474 Q2021.38 211.474 2021.92 211.543 Q2022.45 211.59 2023.1 211.705 L2023.12 216.08 Z\" fill=\"#000000\" fill-rule=\"evenodd\" fill-opacity=\"1\" /><path clip-path=\"url(#clip900)\" d=\"M2027.59 212.099 L2031.85 212.099 L2031.85 238.025 L2027.59 238.025 L2027.59 212.099 M2027.59 202.006 L2031.85 202.006 L2031.85 207.4 L2027.59 207.4 L2027.59 202.006 Z\" fill=\"#000000\" fill-rule=\"evenodd\" fill-opacity=\"1\" /><path clip-path=\"url(#clip900)\" d=\"M2050.81 215.085 Q2047.38 215.085 2045.39 217.77 Q2043.4 220.432 2043.4 225.085 Q2043.4 229.738 2045.37 232.423 Q2047.36 235.085 2050.81 235.085 Q2054.21 235.085 2056.2 232.4 Q2058.19 229.715 2058.19 225.085 Q2058.19 220.478 2056.2 217.793 Q2054.21 215.085 2050.81 215.085 M2050.81 211.474 Q2056.36 211.474 2059.53 215.085 Q2062.7 218.696 2062.7 225.085 Q2062.7 231.451 2059.53 235.085 Q2056.36 238.696 2050.81 238.696 Q2045.23 238.696 2042.06 235.085 Q2038.91 231.451 2038.91 225.085 Q2038.91 218.696 2042.06 215.085 Q2045.23 211.474 2050.81 211.474 Z\" fill=\"#000000\" fill-rule=\"evenodd\" fill-opacity=\"1\" /><path clip-path=\"url(#clip900)\" d=\"M2084.79 216.08 Q2084.07 215.664 2083.21 215.478 Q2082.38 215.27 2081.36 215.27 Q2077.75 215.27 2075.81 217.631 Q2073.88 219.969 2073.88 224.367 L2073.88 238.025 L2069.6 238.025 L2069.6 212.099 L2073.88 212.099 L2073.88 216.127 Q2075.23 213.766 2077.38 212.631 Q2079.53 211.474 2082.61 211.474 Q2083.05 211.474 2083.58 211.543 Q2084.12 211.59 2084.76 211.705 L2084.79 216.08 Z\" fill=\"#000000\" fill-rule=\"evenodd\" fill-opacity=\"1\" /><path clip-path=\"url(#clip900)\" d=\"M2124.51 217.076 Q2126.11 214.205 2128.33 212.84 Q2130.55 211.474 2133.56 211.474 Q2137.61 211.474 2139.81 214.321 Q2142.01 217.145 2142.01 222.377 L2142.01 238.025 L2137.73 238.025 L2137.73 222.515 Q2137.73 218.789 2136.41 216.983 Q2135.09 215.178 2132.38 215.178 Q2129.07 215.178 2127.15 217.377 Q2125.23 219.576 2125.23 223.372 L2125.23 238.025 L2120.94 238.025 L2120.94 222.515 Q2120.94 218.765 2119.63 216.983 Q2118.31 215.178 2115.55 215.178 Q2112.29 215.178 2110.37 217.4 Q2108.44 219.599 2108.44 223.372 L2108.44 238.025 L2104.16 238.025 L2104.16 212.099 L2108.44 212.099 L2108.44 216.127 Q2109.9 213.742 2111.94 212.608 Q2113.98 211.474 2116.78 211.474 Q2119.6 211.474 2121.57 212.909 Q2123.56 214.344 2124.51 217.076 Z\" fill=\"#000000\" fill-rule=\"evenodd\" fill-opacity=\"1\" /><path clip-path=\"url(#clip900)\" d=\"M2172.68 223.997 L2172.68 226.08 L2153.1 226.08 Q2153.37 230.478 2155.74 232.793 Q2158.12 235.085 2162.36 235.085 Q2164.81 235.085 2167.1 234.483 Q2169.42 233.881 2171.68 232.677 L2171.68 236.705 Q2169.39 237.677 2166.99 238.187 Q2164.58 238.696 2162.1 238.696 Q2155.9 238.696 2152.26 235.085 Q2148.65 231.474 2148.65 225.316 Q2148.65 218.951 2152.08 215.224 Q2155.53 211.474 2161.36 211.474 Q2166.59 211.474 2169.62 214.853 Q2172.68 218.21 2172.68 223.997 M2168.42 222.747 Q2168.37 219.252 2166.45 217.168 Q2164.56 215.085 2161.41 215.085 Q2157.84 215.085 2155.69 217.099 Q2153.56 219.113 2153.24 222.77 L2168.42 222.747 Z\" fill=\"#000000\" fill-rule=\"evenodd\" fill-opacity=\"1\" /><path clip-path=\"url(#clip900)\" d=\"M2191.45 224.992 Q2186.29 224.992 2184.3 226.173 Q2182.31 227.353 2182.31 230.201 Q2182.31 232.469 2183.79 233.812 Q2185.3 235.131 2187.87 235.131 Q2191.41 235.131 2193.54 232.631 Q2195.69 230.108 2195.69 225.941 L2195.69 224.992 L2191.45 224.992 M2199.95 223.233 L2199.95 238.025 L2195.69 238.025 L2195.69 234.089 Q2194.23 236.451 2192.06 237.585 Q2189.88 238.696 2186.73 238.696 Q2182.75 238.696 2180.39 236.474 Q2178.05 234.228 2178.05 230.478 Q2178.05 226.103 2180.97 223.881 Q2183.91 221.659 2189.72 221.659 L2195.69 221.659 L2195.69 221.242 Q2195.69 218.303 2193.75 216.705 Q2191.82 215.085 2188.33 215.085 Q2186.11 215.085 2184 215.617 Q2181.89 216.15 2179.95 217.215 L2179.95 213.279 Q2182.29 212.377 2184.49 211.937 Q2186.68 211.474 2188.77 211.474 Q2194.39 211.474 2197.17 214.391 Q2199.95 217.307 2199.95 223.233 Z\" fill=\"#000000\" fill-rule=\"evenodd\" fill-opacity=\"1\" /><path clip-path=\"url(#clip900)\" d=\"M2230.27 222.377 L2230.27 238.025 L2226.01 238.025 L2226.01 222.515 Q2226.01 218.835 2224.58 217.006 Q2223.14 215.178 2220.27 215.178 Q2216.82 215.178 2214.83 217.377 Q2212.84 219.576 2212.84 223.372 L2212.84 238.025 L2208.56 238.025 L2208.56 212.099 L2212.84 212.099 L2212.84 216.127 Q2214.37 213.789 2216.43 212.631 Q2218.51 211.474 2221.22 211.474 Q2225.69 211.474 2227.98 214.252 Q2230.27 217.006 2230.27 222.377 Z\" fill=\"#000000\" fill-rule=\"evenodd\" fill-opacity=\"1\" /><polyline clip-path=\"url(#clip900)\" style=\"stroke:#e26f46; stroke-linecap:butt; stroke-linejoin:round; stroke-width:4; stroke-opacity:1; fill:none\" points=\"\n",
       "  1708.45,272.585 1855.43,272.585 \n",
       "  \"/>\n",
       "<path clip-path=\"url(#clip900)\" d=\"M1879.93 255.305 L1909.16 255.305 L1909.16 259.24 L1896.89 259.24 L1896.89 289.865 L1892.2 289.865 L1892.2 259.24 L1879.93 259.24 L1879.93 255.305 Z\" fill=\"#000000\" fill-rule=\"evenodd\" fill-opacity=\"1\" /><path clip-path=\"url(#clip900)\" d=\"M1921.55 267.92 Q1920.83 267.504 1919.97 267.318 Q1919.14 267.11 1918.12 267.11 Q1914.51 267.11 1912.57 269.471 Q1910.64 271.809 1910.64 276.207 L1910.64 289.865 L1906.36 289.865 L1906.36 263.939 L1910.64 263.939 L1910.64 267.967 Q1911.99 265.606 1914.14 264.471 Q1916.29 263.314 1919.37 263.314 Q1919.81 263.314 1920.34 263.383 Q1920.88 263.43 1921.52 263.545 L1921.55 267.92 Z\" fill=\"#000000\" fill-rule=\"evenodd\" fill-opacity=\"1\" /><path clip-path=\"url(#clip900)\" d=\"M1925.58 279.633 L1925.58 263.939 L1929.83 263.939 L1929.83 279.471 Q1929.83 283.152 1931.27 285.004 Q1932.7 286.832 1935.58 286.832 Q1939.02 286.832 1941.01 284.633 Q1943.03 282.434 1943.03 278.638 L1943.03 263.939 L1947.29 263.939 L1947.29 289.865 L1943.03 289.865 L1943.03 285.883 Q1941.48 288.244 1939.42 289.402 Q1937.38 290.536 1934.67 290.536 Q1930.2 290.536 1927.89 287.758 Q1925.58 284.98 1925.58 279.633 M1936.29 263.314 L1936.29 263.314 Z\" fill=\"#000000\" fill-rule=\"evenodd\" fill-opacity=\"1\" /><path clip-path=\"url(#clip900)\" d=\"M1978.24 275.837 L1978.24 277.92 L1958.65 277.92 Q1958.93 282.318 1961.29 284.633 Q1963.68 286.925 1967.91 286.925 Q1970.37 286.925 1972.66 286.323 Q1974.97 285.721 1977.24 284.517 L1977.24 288.545 Q1974.95 289.517 1972.54 290.027 Q1970.14 290.536 1967.66 290.536 Q1961.45 290.536 1957.82 286.925 Q1954.21 283.314 1954.21 277.156 Q1954.21 270.791 1957.64 267.064 Q1961.08 263.314 1966.92 263.314 Q1972.15 263.314 1975.18 266.693 Q1978.24 270.05 1978.24 275.837 M1973.98 274.587 Q1973.93 271.092 1972.01 269.008 Q1970.11 266.925 1966.96 266.925 Q1963.4 266.925 1961.25 268.939 Q1959.12 270.953 1958.79 274.61 L1973.98 274.587 Z\" fill=\"#000000\" fill-rule=\"evenodd\" fill-opacity=\"1\" /><path clip-path=\"url(#clip900)\" d=\"M1997.24 263.939 L2001.76 263.939 L2009.86 285.698 L2017.96 263.939 L2022.47 263.939 L2012.75 289.865 L2006.96 289.865 L1997.24 263.939 Z\" fill=\"#000000\" fill-rule=\"evenodd\" fill-opacity=\"1\" /><path clip-path=\"url(#clip900)\" d=\"M2040.13 276.832 Q2034.97 276.832 2032.98 278.013 Q2030.99 279.193 2030.99 282.041 Q2030.99 284.309 2032.47 285.652 Q2033.98 286.971 2036.55 286.971 Q2040.09 286.971 2042.22 284.471 Q2044.37 281.948 2044.37 277.781 L2044.37 276.832 L2040.13 276.832 M2048.63 275.073 L2048.63 289.865 L2044.37 289.865 L2044.37 285.929 Q2042.91 288.291 2040.74 289.425 Q2038.56 290.536 2035.41 290.536 Q2031.43 290.536 2029.07 288.314 Q2026.73 286.068 2026.73 282.318 Q2026.73 277.943 2029.65 275.721 Q2032.59 273.499 2038.4 273.499 L2044.37 273.499 L2044.37 273.082 Q2044.37 270.143 2042.43 268.545 Q2040.51 266.925 2037.01 266.925 Q2034.79 266.925 2032.68 267.457 Q2030.57 267.99 2028.63 269.055 L2028.63 265.119 Q2030.97 264.217 2033.17 263.777 Q2035.37 263.314 2037.45 263.314 Q2043.07 263.314 2045.85 266.231 Q2048.63 269.147 2048.63 275.073 Z\" fill=\"#000000\" fill-rule=\"evenodd\" fill-opacity=\"1\" /><path clip-path=\"url(#clip900)\" d=\"M2057.4 253.846 L2061.66 253.846 L2061.66 289.865 L2057.4 289.865 L2057.4 253.846 Z\" fill=\"#000000\" fill-rule=\"evenodd\" fill-opacity=\"1\" /><path clip-path=\"url(#clip900)\" d=\"M2070.13 279.633 L2070.13 263.939 L2074.39 263.939 L2074.39 279.471 Q2074.39 283.152 2075.83 285.004 Q2077.26 286.832 2080.13 286.832 Q2083.58 286.832 2085.57 284.633 Q2087.59 282.434 2087.59 278.638 L2087.59 263.939 L2091.85 263.939 L2091.85 289.865 L2087.59 289.865 L2087.59 285.883 Q2086.04 288.244 2083.98 289.402 Q2081.94 290.536 2079.23 290.536 Q2074.76 290.536 2072.45 287.758 Q2070.13 284.98 2070.13 279.633 M2080.85 263.314 L2080.85 263.314 Z\" fill=\"#000000\" fill-rule=\"evenodd\" fill-opacity=\"1\" /><path clip-path=\"url(#clip900)\" d=\"M2122.8 275.837 L2122.8 277.92 L2103.21 277.92 Q2103.49 282.318 2105.85 284.633 Q2108.24 286.925 2112.47 286.925 Q2114.93 286.925 2117.22 286.323 Q2119.53 285.721 2121.8 284.517 L2121.8 288.545 Q2119.51 289.517 2117.1 290.027 Q2114.69 290.536 2112.22 290.536 Q2106.01 290.536 2102.38 286.925 Q2098.77 283.314 2098.77 277.156 Q2098.77 270.791 2102.19 267.064 Q2105.64 263.314 2111.48 263.314 Q2116.71 263.314 2119.74 266.693 Q2122.8 270.05 2122.8 275.837 M2118.54 274.587 Q2118.49 271.092 2116.57 269.008 Q2114.67 266.925 2111.52 266.925 Q2107.96 266.925 2105.81 268.939 Q2103.68 270.953 2103.35 274.61 L2118.54 274.587 Z\" fill=\"#000000\" fill-rule=\"evenodd\" fill-opacity=\"1\" /><path clip-path=\"url(#clip900)\" d=\"M2146.31 264.703 L2146.31 268.731 Q2144.51 267.805 2142.56 267.342 Q2140.62 266.879 2138.54 266.879 Q2135.37 266.879 2133.77 267.851 Q2132.19 268.823 2132.19 270.768 Q2132.19 272.249 2133.33 273.105 Q2134.46 273.939 2137.89 274.703 L2139.35 275.027 Q2143.88 275.999 2145.78 277.781 Q2147.7 279.541 2147.7 282.712 Q2147.7 286.323 2144.83 288.429 Q2141.99 290.536 2136.99 290.536 Q2134.9 290.536 2132.63 290.119 Q2130.39 289.726 2127.89 288.916 L2127.89 284.517 Q2130.25 285.744 2132.54 286.369 Q2134.83 286.971 2137.08 286.971 Q2140.09 286.971 2141.71 285.953 Q2143.33 284.911 2143.33 283.036 Q2143.33 281.3 2142.15 280.374 Q2140.99 279.448 2137.03 278.592 L2135.55 278.244 Q2131.59 277.411 2129.83 275.698 Q2128.07 273.962 2128.07 270.953 Q2128.07 267.295 2130.67 265.305 Q2133.26 263.314 2138.03 263.314 Q2140.39 263.314 2142.47 263.661 Q2144.56 264.008 2146.31 264.703 Z\" fill=\"#000000\" fill-rule=\"evenodd\" fill-opacity=\"1\" /></svg>\n"
      ]
     },
     "execution_count": 34,
     "metadata": {},
     "output_type": "execute_result"
    }
   ],
   "source": [
    "symbol_to_int(s) = parse(Int, string(s)[9:end-1])\n",
    "ϵ_chain = sort(chain_1_joint[:, [Symbol(\"ϵ_draw[$a]\") for a in 1:21], 1], lt = (x,y) -> symbol_to_int(x) < symbol_to_int(y))\n",
    "tmp = describe(ϵ_chain)\n",
    "ϵ_mean = tmp[1][:, 2]\n",
    "ϵ_std = tmp[1][:, 3]\n",
    "plot(ϵ_mean[2:end], ribbon=2 * ϵ_std[2:end], label=\"Posterior mean\", title = \"First-Order Joint: Estimated Latents\")\n",
    "plot!(ϵ', label=\"True values\")"
   ]
  },
  {
   "cell_type": "code",
   "execution_count": 35,
   "metadata": {},
   "outputs": [
    {
     "data": {
      "image/svg+xml": [
       "<?xml version=\"1.0\" encoding=\"utf-8\"?>\n",
       "<svg xmlns=\"http://www.w3.org/2000/svg\" xmlns:xlink=\"http://www.w3.org/1999/xlink\" width=\"600\" height=\"400\" viewBox=\"0 0 2400 1600\">\n",
       "<defs>\n",
       "  <clipPath id=\"clip940\">\n",
       "    <rect x=\"0\" y=\"0\" width=\"2400\" height=\"1600\"/>\n",
       "  </clipPath>\n",
       "</defs>\n",
       "<path clip-path=\"url(#clip940)\" d=\"\n",
       "M0 1600 L2400 1600 L2400 0 L0 0  Z\n",
       "  \" fill=\"#ffffff\" fill-rule=\"evenodd\" fill-opacity=\"1\"/>\n",
       "<defs>\n",
       "  <clipPath id=\"clip941\">\n",
       "    <rect x=\"480\" y=\"0\" width=\"1681\" height=\"1600\"/>\n",
       "  </clipPath>\n",
       "</defs>\n",
       "<path clip-path=\"url(#clip940)\" d=\"\n",
       "M148.057 1486.45 L2352.76 1486.45 L2352.76 123.472 L148.057 123.472  Z\n",
       "  \" fill=\"#ffffff\" fill-rule=\"evenodd\" fill-opacity=\"1\"/>\n",
       "<defs>\n",
       "  <clipPath id=\"clip942\">\n",
       "    <rect x=\"148\" y=\"123\" width=\"2206\" height=\"1364\"/>\n",
       "  </clipPath>\n",
       "</defs>\n",
       "<polyline clip-path=\"url(#clip942)\" style=\"stroke:#000000; stroke-linecap:butt; stroke-linejoin:round; stroke-width:2; stroke-opacity:0.1; fill:none\" points=\"\n",
       "  648.328,1486.45 648.328,123.472 \n",
       "  \"/>\n",
       "<polyline clip-path=\"url(#clip942)\" style=\"stroke:#000000; stroke-linecap:butt; stroke-linejoin:round; stroke-width:2; stroke-opacity:0.1; fill:none\" points=\"\n",
       "  1195.67,1486.45 1195.67,123.472 \n",
       "  \"/>\n",
       "<polyline clip-path=\"url(#clip942)\" style=\"stroke:#000000; stroke-linecap:butt; stroke-linejoin:round; stroke-width:2; stroke-opacity:0.1; fill:none\" points=\"\n",
       "  1743.02,1486.45 1743.02,123.472 \n",
       "  \"/>\n",
       "<polyline clip-path=\"url(#clip942)\" style=\"stroke:#000000; stroke-linecap:butt; stroke-linejoin:round; stroke-width:2; stroke-opacity:0.1; fill:none\" points=\"\n",
       "  2290.36,1486.45 2290.36,123.472 \n",
       "  \"/>\n",
       "<polyline clip-path=\"url(#clip940)\" style=\"stroke:#000000; stroke-linecap:butt; stroke-linejoin:round; stroke-width:4; stroke-opacity:1; fill:none\" points=\"\n",
       "  148.057,1486.45 2352.76,1486.45 \n",
       "  \"/>\n",
       "<polyline clip-path=\"url(#clip940)\" style=\"stroke:#000000; stroke-linecap:butt; stroke-linejoin:round; stroke-width:4; stroke-opacity:1; fill:none\" points=\"\n",
       "  648.328,1486.45 648.328,1467.55 \n",
       "  \"/>\n",
       "<polyline clip-path=\"url(#clip940)\" style=\"stroke:#000000; stroke-linecap:butt; stroke-linejoin:round; stroke-width:4; stroke-opacity:1; fill:none\" points=\"\n",
       "  1195.67,1486.45 1195.67,1467.55 \n",
       "  \"/>\n",
       "<polyline clip-path=\"url(#clip940)\" style=\"stroke:#000000; stroke-linecap:butt; stroke-linejoin:round; stroke-width:4; stroke-opacity:1; fill:none\" points=\"\n",
       "  1743.02,1486.45 1743.02,1467.55 \n",
       "  \"/>\n",
       "<polyline clip-path=\"url(#clip940)\" style=\"stroke:#000000; stroke-linecap:butt; stroke-linejoin:round; stroke-width:4; stroke-opacity:1; fill:none\" points=\"\n",
       "  2290.36,1486.45 2290.36,1467.55 \n",
       "  \"/>\n",
       "<path clip-path=\"url(#clip940)\" d=\"M638.606 1514.29 L656.963 1514.29 L656.963 1518.22 L642.889 1518.22 L642.889 1526.7 Q643.907 1526.35 644.926 1526.19 Q645.944 1526 646.963 1526 Q652.75 1526 656.129 1529.17 Q659.509 1532.34 659.509 1537.76 Q659.509 1543.34 656.037 1546.44 Q652.565 1549.52 646.245 1549.52 Q644.069 1549.52 641.801 1549.15 Q639.555 1548.78 637.148 1548.04 L637.148 1543.34 Q639.231 1544.47 641.454 1545.03 Q643.676 1545.58 646.153 1545.58 Q650.157 1545.58 652.495 1543.48 Q654.833 1541.37 654.833 1537.76 Q654.833 1534.15 652.495 1532.04 Q650.157 1529.94 646.153 1529.94 Q644.278 1529.94 642.403 1530.35 Q640.551 1530.77 638.606 1531.65 L638.606 1514.29 Z\" fill=\"#000000\" fill-rule=\"evenodd\" fill-opacity=\"1\" /><path clip-path=\"url(#clip940)\" d=\"M1170.36 1544.91 L1178 1544.91 L1178 1518.55 L1169.69 1520.21 L1169.69 1515.95 L1177.95 1514.29 L1182.63 1514.29 L1182.63 1544.91 L1190.27 1544.91 L1190.27 1548.85 L1170.36 1548.85 L1170.36 1544.91 Z\" fill=\"#000000\" fill-rule=\"evenodd\" fill-opacity=\"1\" /><path clip-path=\"url(#clip940)\" d=\"M1209.71 1517.37 Q1206.1 1517.37 1204.27 1520.93 Q1202.47 1524.47 1202.47 1531.6 Q1202.47 1538.71 1204.27 1542.27 Q1206.1 1545.82 1209.71 1545.82 Q1213.35 1545.82 1215.15 1542.27 Q1216.98 1538.71 1216.98 1531.6 Q1216.98 1524.47 1215.15 1520.93 Q1213.35 1517.37 1209.71 1517.37 M1209.71 1513.66 Q1215.52 1513.66 1218.58 1518.27 Q1221.66 1522.85 1221.66 1531.6 Q1221.66 1540.33 1218.58 1544.94 Q1215.52 1549.52 1209.71 1549.52 Q1203.9 1549.52 1200.82 1544.94 Q1197.77 1540.33 1197.77 1531.6 Q1197.77 1522.85 1200.82 1518.27 Q1203.9 1513.66 1209.71 1513.66 Z\" fill=\"#000000\" fill-rule=\"evenodd\" fill-opacity=\"1\" /><path clip-path=\"url(#clip940)\" d=\"M1718.2 1544.91 L1725.84 1544.91 L1725.84 1518.55 L1717.53 1520.21 L1717.53 1515.95 L1725.79 1514.29 L1730.47 1514.29 L1730.47 1544.91 L1738.11 1544.91 L1738.11 1548.85 L1718.2 1548.85 L1718.2 1544.91 Z\" fill=\"#000000\" fill-rule=\"evenodd\" fill-opacity=\"1\" /><path clip-path=\"url(#clip940)\" d=\"M1747.6 1514.29 L1765.96 1514.29 L1765.96 1518.22 L1751.88 1518.22 L1751.88 1526.7 Q1752.9 1526.35 1753.92 1526.19 Q1754.94 1526 1755.96 1526 Q1761.74 1526 1765.12 1529.17 Q1768.5 1532.34 1768.5 1537.76 Q1768.5 1543.34 1765.03 1546.44 Q1761.56 1549.52 1755.24 1549.52 Q1753.06 1549.52 1750.79 1549.15 Q1748.55 1548.78 1746.14 1548.04 L1746.14 1543.34 Q1748.22 1544.47 1750.45 1545.03 Q1752.67 1545.58 1755.14 1545.58 Q1759.15 1545.58 1761.49 1543.48 Q1763.83 1541.37 1763.83 1537.76 Q1763.83 1534.15 1761.49 1532.04 Q1759.15 1529.94 1755.14 1529.94 Q1753.27 1529.94 1751.39 1530.35 Q1749.54 1530.77 1747.6 1531.65 L1747.6 1514.29 Z\" fill=\"#000000\" fill-rule=\"evenodd\" fill-opacity=\"1\" /><path clip-path=\"url(#clip940)\" d=\"M2269.13 1544.91 L2285.45 1544.91 L2285.45 1548.85 L2263.51 1548.85 L2263.51 1544.91 Q2266.17 1542.16 2270.75 1537.53 Q2275.36 1532.88 2276.54 1531.53 Q2278.78 1529.01 2279.66 1527.27 Q2280.57 1525.51 2280.57 1523.82 Q2280.57 1521.07 2278.62 1519.33 Q2276.7 1517.6 2273.6 1517.6 Q2271.4 1517.6 2268.95 1518.36 Q2266.52 1519.13 2263.74 1520.68 L2263.74 1515.95 Q2266.56 1514.82 2269.02 1514.24 Q2271.47 1513.66 2273.51 1513.66 Q2278.88 1513.66 2282.07 1516.35 Q2285.27 1519.03 2285.27 1523.52 Q2285.27 1525.65 2284.46 1527.57 Q2283.67 1529.47 2281.56 1532.07 Q2280.98 1532.74 2277.88 1535.95 Q2274.78 1539.15 2269.13 1544.91 Z\" fill=\"#000000\" fill-rule=\"evenodd\" fill-opacity=\"1\" /><path clip-path=\"url(#clip940)\" d=\"M2305.27 1517.37 Q2301.65 1517.37 2299.83 1520.93 Q2298.02 1524.47 2298.02 1531.6 Q2298.02 1538.71 2299.83 1542.27 Q2301.65 1545.82 2305.27 1545.82 Q2308.9 1545.82 2310.71 1542.27 Q2312.53 1538.71 2312.53 1531.6 Q2312.53 1524.47 2310.71 1520.93 Q2308.9 1517.37 2305.27 1517.37 M2305.27 1513.66 Q2311.08 1513.66 2314.13 1518.27 Q2317.21 1522.85 2317.21 1531.6 Q2317.21 1540.33 2314.13 1544.94 Q2311.08 1549.52 2305.27 1549.52 Q2299.46 1549.52 2296.38 1544.94 Q2293.32 1540.33 2293.32 1531.6 Q2293.32 1522.85 2296.38 1518.27 Q2299.46 1513.66 2305.27 1513.66 Z\" fill=\"#000000\" fill-rule=\"evenodd\" fill-opacity=\"1\" /><polyline clip-path=\"url(#clip942)\" style=\"stroke:#000000; stroke-linecap:butt; stroke-linejoin:round; stroke-width:2; stroke-opacity:0.1; fill:none\" points=\"\n",
       "  148.057,1449.15 2352.76,1449.15 \n",
       "  \"/>\n",
       "<polyline clip-path=\"url(#clip942)\" style=\"stroke:#000000; stroke-linecap:butt; stroke-linejoin:round; stroke-width:2; stroke-opacity:0.1; fill:none\" points=\"\n",
       "  148.057,1173.81 2352.76,1173.81 \n",
       "  \"/>\n",
       "<polyline clip-path=\"url(#clip942)\" style=\"stroke:#000000; stroke-linecap:butt; stroke-linejoin:round; stroke-width:2; stroke-opacity:0.1; fill:none\" points=\"\n",
       "  148.057,898.473 2352.76,898.473 \n",
       "  \"/>\n",
       "<polyline clip-path=\"url(#clip942)\" style=\"stroke:#000000; stroke-linecap:butt; stroke-linejoin:round; stroke-width:2; stroke-opacity:0.1; fill:none\" points=\"\n",
       "  148.057,623.136 2352.76,623.136 \n",
       "  \"/>\n",
       "<polyline clip-path=\"url(#clip942)\" style=\"stroke:#000000; stroke-linecap:butt; stroke-linejoin:round; stroke-width:2; stroke-opacity:0.1; fill:none\" points=\"\n",
       "  148.057,347.798 2352.76,347.798 \n",
       "  \"/>\n",
       "<polyline clip-path=\"url(#clip940)\" style=\"stroke:#000000; stroke-linecap:butt; stroke-linejoin:round; stroke-width:4; stroke-opacity:1; fill:none\" points=\"\n",
       "  148.057,1486.45 148.057,123.472 \n",
       "  \"/>\n",
       "<polyline clip-path=\"url(#clip940)\" style=\"stroke:#000000; stroke-linecap:butt; stroke-linejoin:round; stroke-width:4; stroke-opacity:1; fill:none\" points=\"\n",
       "  148.057,1449.15 166.954,1449.15 \n",
       "  \"/>\n",
       "<polyline clip-path=\"url(#clip940)\" style=\"stroke:#000000; stroke-linecap:butt; stroke-linejoin:round; stroke-width:4; stroke-opacity:1; fill:none\" points=\"\n",
       "  148.057,1173.81 166.954,1173.81 \n",
       "  \"/>\n",
       "<polyline clip-path=\"url(#clip940)\" style=\"stroke:#000000; stroke-linecap:butt; stroke-linejoin:round; stroke-width:4; stroke-opacity:1; fill:none\" points=\"\n",
       "  148.057,898.473 166.954,898.473 \n",
       "  \"/>\n",
       "<polyline clip-path=\"url(#clip940)\" style=\"stroke:#000000; stroke-linecap:butt; stroke-linejoin:round; stroke-width:4; stroke-opacity:1; fill:none\" points=\"\n",
       "  148.057,623.136 166.954,623.136 \n",
       "  \"/>\n",
       "<polyline clip-path=\"url(#clip940)\" style=\"stroke:#000000; stroke-linecap:butt; stroke-linejoin:round; stroke-width:4; stroke-opacity:1; fill:none\" points=\"\n",
       "  148.057,347.798 166.954,347.798 \n",
       "  \"/>\n",
       "<path clip-path=\"url(#clip940)\" d=\"M50.9921 1449.6 L80.6679 1449.6 L80.6679 1453.53 L50.9921 1453.53 L50.9921 1449.6 Z\" fill=\"#000000\" fill-rule=\"evenodd\" fill-opacity=\"1\" /><path clip-path=\"url(#clip940)\" d=\"M104.927 1447.79 Q108.283 1448.51 110.158 1450.78 Q112.057 1453.05 112.057 1456.38 Q112.057 1461.5 108.538 1464.3 Q105.02 1467.1 98.5382 1467.1 Q96.3623 1467.1 94.0475 1466.66 Q91.7558 1466.24 89.3021 1465.39 L89.3021 1460.87 Q91.2465 1462.01 93.5613 1462.59 Q95.8761 1463.16 98.3993 1463.16 Q102.797 1463.16 105.089 1461.43 Q107.404 1459.69 107.404 1456.38 Q107.404 1453.33 105.251 1451.61 Q103.121 1449.88 99.3021 1449.88 L95.2743 1449.88 L95.2743 1446.03 L99.4872 1446.03 Q102.936 1446.03 104.765 1444.67 Q106.594 1443.28 106.594 1440.69 Q106.594 1438.03 104.696 1436.61 Q102.821 1435.18 99.3021 1435.18 Q97.3808 1435.18 95.1817 1435.59 Q92.9826 1436.01 90.3438 1436.89 L90.3438 1432.72 Q93.0058 1431.98 95.3206 1431.61 Q97.6585 1431.24 99.7187 1431.24 Q105.043 1431.24 108.145 1433.67 Q111.246 1436.08 111.246 1440.2 Q111.246 1443.07 109.603 1445.06 Q107.959 1447.03 104.927 1447.79 Z\" fill=\"#000000\" fill-rule=\"evenodd\" fill-opacity=\"1\" /><path clip-path=\"url(#clip940)\" d=\"M51.9412 1174.26 L81.617 1174.26 L81.617 1178.2 L51.9412 1178.2 L51.9412 1174.26 Z\" fill=\"#000000\" fill-rule=\"evenodd\" fill-opacity=\"1\" /><path clip-path=\"url(#clip940)\" d=\"M95.7373 1187.16 L112.057 1187.16 L112.057 1191.09 L90.1123 1191.09 L90.1123 1187.16 Q92.7743 1184.4 97.3576 1179.77 Q101.964 1175.12 103.145 1173.78 Q105.39 1171.25 106.27 1169.52 Q107.172 1167.76 107.172 1166.07 Q107.172 1163.31 105.228 1161.58 Q103.307 1159.84 100.205 1159.84 Q98.0058 1159.84 95.5521 1160.6 Q93.1215 1161.37 90.3438 1162.92 L90.3438 1158.2 Q93.1678 1157.06 95.6215 1156.48 Q98.0752 1155.91 100.112 1155.91 Q105.483 1155.91 108.677 1158.59 Q111.871 1161.28 111.871 1165.77 Q111.871 1167.9 111.061 1169.82 Q110.274 1171.72 108.168 1174.31 Q107.589 1174.98 104.487 1178.2 Q101.385 1181.39 95.7373 1187.16 Z\" fill=\"#000000\" fill-rule=\"evenodd\" fill-opacity=\"1\" /><path clip-path=\"url(#clip940)\" d=\"M51.5708 898.924 L81.2466 898.924 L81.2466 902.86 L51.5708 902.86 L51.5708 898.924 Z\" fill=\"#000000\" fill-rule=\"evenodd\" fill-opacity=\"1\" /><path clip-path=\"url(#clip940)\" d=\"M92.1493 911.818 L99.7882 911.818 L99.7882 885.452 L91.478 887.119 L91.478 882.86 L99.7419 881.193 L104.418 881.193 L104.418 911.818 L112.057 911.818 L112.057 915.753 L92.1493 915.753 L92.1493 911.818 Z\" fill=\"#000000\" fill-rule=\"evenodd\" fill-opacity=\"1\" /><path clip-path=\"url(#clip940)\" d=\"M100.112 608.934 Q96.5011 608.934 94.6724 612.499 Q92.8669 616.041 92.8669 623.17 Q92.8669 630.277 94.6724 633.842 Q96.5011 637.383 100.112 637.383 Q103.746 637.383 105.552 633.842 Q107.381 630.277 107.381 623.17 Q107.381 616.041 105.552 612.499 Q103.746 608.934 100.112 608.934 M100.112 605.231 Q105.922 605.231 108.978 609.837 Q112.057 614.42 112.057 623.17 Q112.057 631.897 108.978 636.504 Q105.922 641.087 100.112 641.087 Q94.3021 641.087 91.2234 636.504 Q88.1679 631.897 88.1679 623.17 Q88.1679 614.42 91.2234 609.837 Q94.3021 605.231 100.112 605.231 Z\" fill=\"#000000\" fill-rule=\"evenodd\" fill-opacity=\"1\" /><path clip-path=\"url(#clip940)\" d=\"M92.1493 361.143 L99.7882 361.143 L99.7882 334.778 L91.478 336.444 L91.478 332.185 L99.7419 330.518 L104.418 330.518 L104.418 361.143 L112.057 361.143 L112.057 365.078 L92.1493 365.078 L92.1493 361.143 Z\" fill=\"#000000\" fill-rule=\"evenodd\" fill-opacity=\"1\" /><path clip-path=\"url(#clip940)\" d=\"M498.174 14.0809 L498.174 22.0612 Q493.515 19.8332 489.383 18.7395 Q485.251 17.6457 481.403 17.6457 Q474.719 17.6457 471.073 20.2383 Q467.468 22.8309 467.468 27.611 Q467.468 31.6214 469.858 33.6873 Q472.288 35.7128 479.013 36.9686 L483.955 37.9813 Q493.11 39.7232 497.444 44.1387 Q501.819 48.5136 501.819 55.8863 Q501.819 64.6767 495.905 69.2137 Q490.031 73.7508 478.648 73.7508 Q474.354 73.7508 469.493 72.7785 Q464.673 71.8063 459.487 69.9024 L459.487 61.4765 Q464.47 64.2716 469.25 65.6895 Q474.03 67.1073 478.648 67.1073 Q485.656 67.1073 489.464 64.3527 Q493.272 61.598 493.272 56.4939 Q493.272 52.0379 490.517 49.5264 Q487.803 47.0148 481.565 45.759 L476.582 44.7868 Q467.427 42.9639 463.336 39.075 Q459.244 35.1862 459.244 28.2591 Q459.244 20.2383 464.875 15.6203 Q470.546 11.0023 480.471 11.0023 Q484.725 11.0023 489.14 11.7719 Q493.556 12.5416 498.174 14.0809 Z\" fill=\"#000000\" fill-rule=\"evenodd\" fill-opacity=\"1\" /><path clip-path=\"url(#clip940)\" d=\"M553.063 48.0275 L553.063 51.6733 L518.793 51.6733 Q519.279 59.3701 523.411 63.421 Q527.583 67.4314 534.996 67.4314 Q539.29 67.4314 543.301 66.3781 Q547.352 65.3249 551.321 63.2184 L551.321 70.267 Q547.311 71.9684 543.098 72.8596 Q538.885 73.7508 534.551 73.7508 Q523.694 73.7508 517.334 67.4314 Q511.015 61.1119 511.015 50.3365 Q511.015 39.1965 517.01 32.6746 Q523.046 26.1121 533.254 26.1121 Q542.409 26.1121 547.716 32.0264 Q553.063 37.9003 553.063 48.0275 M545.61 45.84 Q545.529 39.7232 542.166 36.0774 Q538.845 32.4315 533.335 32.4315 Q527.097 32.4315 523.33 35.9558 Q519.603 39.4801 519.036 45.8805 L545.61 45.84 Z\" fill=\"#000000\" fill-rule=\"evenodd\" fill-opacity=\"1\" /><path clip-path=\"url(#clip940)\" d=\"M597.947 28.9478 L597.947 35.9153 Q594.788 34.1734 591.587 33.3227 Q588.428 32.4315 585.187 32.4315 Q577.936 32.4315 573.926 37.0496 Q569.915 41.6271 569.915 49.9314 Q569.915 58.2358 573.926 62.8538 Q577.936 67.4314 585.187 67.4314 Q588.428 67.4314 591.587 66.5807 Q594.788 65.6895 597.947 63.9476 L597.947 70.8341 Q594.828 72.2924 591.466 73.0216 Q588.144 73.7508 584.377 73.7508 Q574.128 73.7508 568.092 67.3098 Q562.056 60.8689 562.056 49.9314 Q562.056 38.832 568.133 32.472 Q574.25 26.1121 584.863 26.1121 Q588.306 26.1121 591.587 26.8413 Q594.869 27.5299 597.947 28.9478 Z\" fill=\"#000000\" fill-rule=\"evenodd\" fill-opacity=\"1\" /><path clip-path=\"url(#clip940)\" d=\"M628.491 32.4315 Q622.496 32.4315 619.012 37.1306 Q615.528 41.7891 615.528 49.9314 Q615.528 58.0738 618.972 62.7728 Q622.455 67.4314 628.491 67.4314 Q634.446 67.4314 637.93 62.7323 Q641.414 58.0333 641.414 49.9314 Q641.414 41.8701 637.93 37.1711 Q634.446 32.4315 628.491 32.4315 M628.491 26.1121 Q638.213 26.1121 643.763 32.4315 Q649.313 38.7509 649.313 49.9314 Q649.313 61.0714 643.763 67.4314 Q638.213 73.7508 628.491 73.7508 Q618.729 73.7508 613.179 67.4314 Q607.67 61.0714 607.67 49.9314 Q607.67 38.7509 613.179 32.4315 Q618.729 26.1121 628.491 26.1121 Z\" fill=\"#000000\" fill-rule=\"evenodd\" fill-opacity=\"1\" /><path clip-path=\"url(#clip940)\" d=\"M699.382 45.1919 L699.382 72.576 L691.928 72.576 L691.928 45.4349 Q691.928 38.994 689.417 35.7938 Q686.905 32.5936 681.882 32.5936 Q675.846 32.5936 672.362 36.4419 Q668.879 40.2903 668.879 46.9338 L668.879 72.576 L661.385 72.576 L661.385 27.2059 L668.879 27.2059 L668.879 34.2544 Q671.552 30.163 675.158 28.1376 Q678.803 26.1121 683.543 26.1121 Q691.361 26.1121 695.372 30.9732 Q699.382 35.7938 699.382 45.1919 Z\" fill=\"#000000\" fill-rule=\"evenodd\" fill-opacity=\"1\" /><path clip-path=\"url(#clip940)\" d=\"M744.104 34.0924 L744.104 9.54393 L751.558 9.54393 L751.558 72.576 L744.104 72.576 L744.104 65.7705 Q741.754 69.8214 738.149 71.8063 Q734.584 73.7508 729.561 73.7508 Q721.338 73.7508 716.153 67.1883 Q711.008 60.6258 711.008 49.9314 Q711.008 39.2371 716.153 32.6746 Q721.338 26.1121 729.561 26.1121 Q734.584 26.1121 738.149 28.0971 Q741.754 30.0415 744.104 34.0924 M718.705 49.9314 Q718.705 58.1548 722.067 62.8538 Q725.47 67.5124 731.384 67.5124 Q737.298 67.5124 740.701 62.8538 Q744.104 58.1548 744.104 49.9314 Q744.104 41.7081 740.701 37.0496 Q737.298 32.3505 731.384 32.3505 Q725.47 32.3505 722.067 37.0496 Q718.705 41.7081 718.705 49.9314 Z\" fill=\"#000000\" fill-rule=\"evenodd\" fill-opacity=\"1\" /><path clip-path=\"url(#clip940)\" d=\"M763.143 46.5287 L784.978 46.5287 L784.978 53.1722 L763.143 53.1722 L763.143 46.5287 Z\" fill=\"#000000\" fill-rule=\"evenodd\" fill-opacity=\"1\" /><path clip-path=\"url(#clip940)\" d=\"M824.028 17.6457 Q815.116 17.6457 809.85 24.2892 Q804.625 30.9327 804.625 42.3968 Q804.625 53.8203 809.85 60.4638 Q815.116 67.1073 824.028 67.1073 Q832.94 67.1073 838.125 60.4638 Q843.351 53.8203 843.351 42.3968 Q843.351 30.9327 838.125 24.2892 Q832.94 17.6457 824.028 17.6457 M824.028 11.0023 Q836.748 11.0023 844.364 19.5497 Q851.98 28.0566 851.98 42.3968 Q851.98 56.6965 844.364 65.2439 Q836.748 73.7508 824.028 73.7508 Q811.268 73.7508 803.612 65.2439 Q795.996 56.737 795.996 42.3968 Q795.996 28.0566 803.612 19.5497 Q811.268 11.0023 824.028 11.0023 Z\" fill=\"#000000\" fill-rule=\"evenodd\" fill-opacity=\"1\" /><path clip-path=\"url(#clip940)\" d=\"M890.747 34.1734 Q889.491 33.4443 887.992 33.1202 Q886.534 32.7556 884.751 32.7556 Q878.432 32.7556 875.029 36.8875 Q871.667 40.9789 871.667 48.6757 L871.667 72.576 L864.173 72.576 L864.173 27.2059 L871.667 27.2059 L871.667 34.2544 Q874.016 30.1225 877.784 28.1376 Q881.551 26.1121 886.939 26.1121 Q887.709 26.1121 888.64 26.2337 Q889.572 26.3147 890.706 26.5172 L890.747 34.1734 Z\" fill=\"#000000\" fill-rule=\"evenodd\" fill-opacity=\"1\" /><path clip-path=\"url(#clip940)\" d=\"M926.962 34.0924 L926.962 9.54393 L934.415 9.54393 L934.415 72.576 L926.962 72.576 L926.962 65.7705 Q924.612 69.8214 921.007 71.8063 Q917.442 73.7508 912.419 73.7508 Q904.196 73.7508 899.011 67.1883 Q893.866 60.6258 893.866 49.9314 Q893.866 39.2371 899.011 32.6746 Q904.196 26.1121 912.419 26.1121 Q917.442 26.1121 921.007 28.0971 Q924.612 30.0415 926.962 34.0924 M901.563 49.9314 Q901.563 58.1548 904.925 62.8538 Q908.328 67.5124 914.242 67.5124 Q920.156 67.5124 923.559 62.8538 Q926.962 58.1548 926.962 49.9314 Q926.962 41.7081 923.559 37.0496 Q920.156 32.3505 914.242 32.3505 Q908.328 32.3505 904.925 37.0496 Q901.563 41.7081 901.563 49.9314 Z\" fill=\"#000000\" fill-rule=\"evenodd\" fill-opacity=\"1\" /><path clip-path=\"url(#clip940)\" d=\"M988.576 48.0275 L988.576 51.6733 L954.305 51.6733 Q954.792 59.3701 958.923 63.421 Q963.096 67.4314 970.509 67.4314 Q974.803 67.4314 978.813 66.3781 Q982.864 65.3249 986.834 63.2184 L986.834 70.267 Q982.824 71.9684 978.611 72.8596 Q974.398 73.7508 970.063 73.7508 Q959.207 73.7508 952.847 67.4314 Q946.528 61.1119 946.528 50.3365 Q946.528 39.1965 952.523 32.6746 Q958.559 26.1121 968.767 26.1121 Q977.922 26.1121 983.229 32.0264 Q988.576 37.9003 988.576 48.0275 M981.122 45.84 Q981.041 39.7232 977.679 36.0774 Q974.357 32.4315 968.848 32.4315 Q962.61 32.4315 958.842 35.9558 Q955.116 39.4801 954.548 45.8805 L981.122 45.84 Z\" fill=\"#000000\" fill-rule=\"evenodd\" fill-opacity=\"1\" /><path clip-path=\"url(#clip940)\" d=\"M1027.1 34.1734 Q1025.84 33.4443 1024.35 33.1202 Q1022.89 32.7556 1021.1 32.7556 Q1014.79 32.7556 1011.38 36.8875 Q1008.02 40.9789 1008.02 48.6757 L1008.02 72.576 L1000.53 72.576 L1000.53 27.2059 L1008.02 27.2059 L1008.02 34.2544 Q1010.37 30.1225 1014.14 28.1376 Q1017.9 26.1121 1023.29 26.1121 Q1024.06 26.1121 1024.99 26.2337 Q1025.93 26.3147 1027.06 26.5172 L1027.1 34.1734 Z\" fill=\"#000000\" fill-rule=\"evenodd\" fill-opacity=\"1\" /><path clip-path=\"url(#clip940)\" d=\"M1061.61 12.096 L1069.8 12.096 L1069.8 68.3631 Q1069.8 79.3005 1065.62 84.2426 Q1061.49 89.1847 1052.3 89.1847 L1049.18 89.1847 L1049.18 82.2982 L1051.73 82.2982 Q1057.16 82.2982 1059.39 79.26 Q1061.61 76.2218 1061.61 68.3631 L1061.61 12.096 Z\" fill=\"#000000\" fill-rule=\"evenodd\" fill-opacity=\"1\" /><path clip-path=\"url(#clip940)\" d=\"M1103.34 32.4315 Q1097.34 32.4315 1093.86 37.1306 Q1090.38 41.7891 1090.38 49.9314 Q1090.38 58.0738 1093.82 62.7728 Q1097.3 67.4314 1103.34 67.4314 Q1109.29 67.4314 1112.78 62.7323 Q1116.26 58.0333 1116.26 49.9314 Q1116.26 41.8701 1112.78 37.1711 Q1109.29 32.4315 1103.34 32.4315 M1103.34 26.1121 Q1113.06 26.1121 1118.61 32.4315 Q1124.16 38.7509 1124.16 49.9314 Q1124.16 61.0714 1118.61 67.4314 Q1113.06 73.7508 1103.34 73.7508 Q1093.58 73.7508 1088.03 67.4314 Q1082.52 61.0714 1082.52 49.9314 Q1082.52 38.7509 1088.03 32.4315 Q1093.58 26.1121 1103.34 26.1121 Z\" fill=\"#000000\" fill-rule=\"evenodd\" fill-opacity=\"1\" /><path clip-path=\"url(#clip940)\" d=\"M1136.52 27.2059 L1143.97 27.2059 L1143.97 72.576 L1136.52 72.576 L1136.52 27.2059 M1136.52 9.54393 L1143.97 9.54393 L1143.97 18.9825 L1136.52 18.9825 L1136.52 9.54393 Z\" fill=\"#000000\" fill-rule=\"evenodd\" fill-opacity=\"1\" /><path clip-path=\"url(#clip940)\" d=\"M1197.28 45.1919 L1197.28 72.576 L1189.82 72.576 L1189.82 45.4349 Q1189.82 38.994 1187.31 35.7938 Q1184.8 32.5936 1179.78 32.5936 Q1173.74 32.5936 1170.26 36.4419 Q1166.78 40.2903 1166.78 46.9338 L1166.78 72.576 L1159.28 72.576 L1159.28 27.2059 L1166.78 27.2059 L1166.78 34.2544 Q1169.45 30.163 1173.05 28.1376 Q1176.7 26.1121 1181.44 26.1121 Q1189.26 26.1121 1193.27 30.9732 Q1197.28 35.7938 1197.28 45.1919 Z\" fill=\"#000000\" fill-rule=\"evenodd\" fill-opacity=\"1\" /><path clip-path=\"url(#clip940)\" d=\"M1219.52 14.324 L1219.52 27.2059 L1234.87 27.2059 L1234.87 32.9987 L1219.52 32.9987 L1219.52 57.6282 Q1219.52 63.1779 1221.02 64.7578 Q1222.56 66.3376 1227.21 66.3376 L1234.87 66.3376 L1234.87 72.576 L1227.21 72.576 Q1218.59 72.576 1215.31 69.3758 Q1212.02 66.1351 1212.02 57.6282 L1212.02 32.9987 L1206.56 32.9987 L1206.56 27.2059 L1212.02 27.2059 L1212.02 14.324 L1219.52 14.324 Z\" fill=\"#000000\" fill-rule=\"evenodd\" fill-opacity=\"1\" /><path clip-path=\"url(#clip940)\" d=\"M1246.58 62.2867 L1255.13 62.2867 L1255.13 72.576 L1246.58 72.576 L1246.58 62.2867 M1246.58 29.6769 L1255.13 29.6769 L1255.13 39.9662 L1246.58 39.9662 L1246.58 29.6769 Z\" fill=\"#000000\" fill-rule=\"evenodd\" fill-opacity=\"1\" /><path clip-path=\"url(#clip940)\" d=\"M1299.32 12.096 L1337.56 12.096 L1337.56 18.9825 L1307.5 18.9825 L1307.5 36.8875 L1336.31 36.8875 L1336.31 43.7741 L1307.5 43.7741 L1307.5 65.6895 L1338.29 65.6895 L1338.29 72.576 L1299.32 72.576 L1299.32 12.096 Z\" fill=\"#000000\" fill-rule=\"evenodd\" fill-opacity=\"1\" /><path clip-path=\"url(#clip940)\" d=\"M1380.34 28.5427 L1380.34 35.5912 Q1377.18 33.9709 1373.78 33.1607 Q1370.37 32.3505 1366.73 32.3505 Q1361.18 32.3505 1358.38 34.0519 Q1355.63 35.7533 1355.63 39.156 Q1355.63 41.7486 1357.61 43.2475 Q1359.6 44.7058 1365.59 46.0426 L1368.15 46.6097 Q1376.09 48.3111 1379.41 51.4303 Q1382.77 54.509 1382.77 60.0587 Q1382.77 66.3781 1377.75 70.0644 Q1372.76 73.7508 1364.01 73.7508 Q1360.37 73.7508 1356.4 73.0216 Q1352.47 72.3329 1348.09 70.9151 L1348.09 63.2184 Q1352.23 65.3654 1356.24 66.4591 Q1360.25 67.5124 1364.18 67.5124 Q1369.44 67.5124 1372.28 65.73 Q1375.11 63.9071 1375.11 60.6258 Q1375.11 57.5877 1373.05 55.9673 Q1371.02 54.3469 1364.09 52.8481 L1361.5 52.2405 Q1354.58 50.7821 1351.5 47.7845 Q1348.42 44.7463 1348.42 39.4801 Q1348.42 33.0797 1352.95 29.5959 Q1357.49 26.1121 1365.84 26.1121 Q1369.97 26.1121 1373.61 26.7198 Q1377.26 27.3274 1380.34 28.5427 Z\" fill=\"#000000\" fill-rule=\"evenodd\" fill-opacity=\"1\" /><path clip-path=\"url(#clip940)\" d=\"M1402.01 14.324 L1402.01 27.2059 L1417.36 27.2059 L1417.36 32.9987 L1402.01 32.9987 L1402.01 57.6282 Q1402.01 63.1779 1403.51 64.7578 Q1405.05 66.3376 1409.71 66.3376 L1417.36 66.3376 L1417.36 72.576 L1409.71 72.576 Q1401.08 72.576 1397.8 69.3758 Q1394.52 66.1351 1394.52 57.6282 L1394.52 32.9987 L1389.05 32.9987 L1389.05 27.2059 L1394.52 27.2059 L1394.52 14.324 L1402.01 14.324 Z\" fill=\"#000000\" fill-rule=\"evenodd\" fill-opacity=\"1\" /><path clip-path=\"url(#clip940)\" d=\"M1427.17 27.2059 L1434.62 27.2059 L1434.62 72.576 L1427.17 72.576 L1427.17 27.2059 M1427.17 9.54393 L1434.62 9.54393 L1434.62 18.9825 L1427.17 18.9825 L1427.17 9.54393 Z\" fill=\"#000000\" fill-rule=\"evenodd\" fill-opacity=\"1\" /><path clip-path=\"url(#clip940)\" d=\"M1485.54 35.9153 Q1488.34 30.8922 1492.22 28.5022 Q1496.11 26.1121 1501.38 26.1121 Q1508.47 26.1121 1512.32 31.0947 Q1516.17 36.0368 1516.17 45.1919 L1516.17 72.576 L1508.67 72.576 L1508.67 45.4349 Q1508.67 38.913 1506.36 35.7533 Q1504.05 32.5936 1499.31 32.5936 Q1493.52 32.5936 1490.16 36.4419 Q1486.8 40.2903 1486.8 46.9338 L1486.8 72.576 L1479.3 72.576 L1479.3 45.4349 Q1479.3 38.8725 1476.99 35.7533 Q1474.68 32.5936 1469.86 32.5936 Q1464.15 32.5936 1460.79 36.4824 Q1457.43 40.3308 1457.43 46.9338 L1457.43 72.576 L1449.93 72.576 L1449.93 27.2059 L1457.43 27.2059 L1457.43 34.2544 Q1459.98 30.082 1463.54 28.0971 Q1467.11 26.1121 1472.01 26.1121 Q1476.95 26.1121 1480.4 28.6237 Q1483.88 31.1352 1485.54 35.9153 Z\" fill=\"#000000\" fill-rule=\"evenodd\" fill-opacity=\"1\" /><path clip-path=\"url(#clip940)\" d=\"M1551.65 49.7694 Q1542.62 49.7694 1539.13 51.8354 Q1535.65 53.9013 1535.65 58.8839 Q1535.65 62.8538 1538.24 65.2034 Q1540.88 67.5124 1545.37 67.5124 Q1551.57 67.5124 1555.3 63.1374 Q1559.06 58.7219 1559.06 51.4303 L1559.06 49.7694 L1551.65 49.7694 M1566.52 46.6907 L1566.52 72.576 L1559.06 72.576 L1559.06 65.6895 Q1556.51 69.8214 1552.7 71.8063 Q1548.9 73.7508 1543.39 73.7508 Q1536.42 73.7508 1532.29 69.8619 Q1528.2 65.9325 1528.2 59.3701 Q1528.2 51.7138 1533.3 47.825 Q1538.45 43.9361 1548.61 43.9361 L1559.06 43.9361 L1559.06 43.2069 Q1559.06 38.0623 1555.66 35.2672 Q1552.3 32.4315 1546.18 32.4315 Q1542.29 32.4315 1538.61 33.3632 Q1534.92 34.295 1531.52 36.1584 L1531.52 29.2718 Q1535.61 27.692 1539.46 26.9223 Q1543.31 26.1121 1546.95 26.1121 Q1556.8 26.1121 1561.66 31.2163 Q1566.52 36.3204 1566.52 46.6907 Z\" fill=\"#000000\" fill-rule=\"evenodd\" fill-opacity=\"1\" /><path clip-path=\"url(#clip940)\" d=\"M1589.24 14.324 L1589.24 27.2059 L1604.6 27.2059 L1604.6 32.9987 L1589.24 32.9987 L1589.24 57.6282 Q1589.24 63.1779 1590.74 64.7578 Q1592.28 66.3376 1596.94 66.3376 L1604.6 66.3376 L1604.6 72.576 L1596.94 72.576 Q1588.31 72.576 1585.03 69.3758 Q1581.75 66.1351 1581.75 57.6282 L1581.75 32.9987 L1576.28 32.9987 L1576.28 27.2059 L1581.75 27.2059 L1581.75 14.324 L1589.24 14.324 Z\" fill=\"#000000\" fill-rule=\"evenodd\" fill-opacity=\"1\" /><path clip-path=\"url(#clip940)\" d=\"M1653.21 48.0275 L1653.21 51.6733 L1618.94 51.6733 Q1619.42 59.3701 1623.56 63.421 Q1627.73 67.4314 1635.14 67.4314 Q1639.43 67.4314 1643.45 66.3781 Q1647.5 65.3249 1651.47 63.2184 L1651.47 70.267 Q1647.46 71.9684 1643.24 72.8596 Q1639.03 73.7508 1634.7 73.7508 Q1623.84 73.7508 1617.48 67.4314 Q1611.16 61.1119 1611.16 50.3365 Q1611.16 39.1965 1617.15 32.6746 Q1623.19 26.1121 1633.4 26.1121 Q1642.55 26.1121 1647.86 32.0264 Q1653.21 37.9003 1653.21 48.0275 M1645.75 45.84 Q1645.67 39.7232 1642.31 36.0774 Q1638.99 32.4315 1633.48 32.4315 Q1627.24 32.4315 1623.47 35.9558 Q1619.75 39.4801 1619.18 45.8805 L1645.75 45.84 Z\" fill=\"#000000\" fill-rule=\"evenodd\" fill-opacity=\"1\" /><path clip-path=\"url(#clip940)\" d=\"M1695.3 34.0924 L1695.3 9.54393 L1702.75 9.54393 L1702.75 72.576 L1695.3 72.576 L1695.3 65.7705 Q1692.95 69.8214 1689.34 71.8063 Q1685.78 73.7508 1680.75 73.7508 Q1672.53 73.7508 1667.35 67.1883 Q1662.2 60.6258 1662.2 49.9314 Q1662.2 39.2371 1667.35 32.6746 Q1672.53 26.1121 1680.75 26.1121 Q1685.78 26.1121 1689.34 28.0971 Q1692.95 30.0415 1695.3 34.0924 M1669.9 49.9314 Q1669.9 58.1548 1673.26 62.8538 Q1676.66 67.5124 1682.58 67.5124 Q1688.49 67.5124 1691.89 62.8538 Q1695.3 58.1548 1695.3 49.9314 Q1695.3 41.7081 1691.89 37.0496 Q1688.49 32.3505 1682.58 32.3505 Q1676.66 32.3505 1673.26 37.0496 Q1669.9 41.7081 1669.9 49.9314 Z\" fill=\"#000000\" fill-rule=\"evenodd\" fill-opacity=\"1\" /><path clip-path=\"url(#clip940)\" d=\"M1744.8 12.096 L1752.98 12.096 L1752.98 65.6895 L1782.43 65.6895 L1782.43 72.576 L1744.8 72.576 L1744.8 12.096 Z\" fill=\"#000000\" fill-rule=\"evenodd\" fill-opacity=\"1\" /><path clip-path=\"url(#clip940)\" d=\"M1811.31 49.7694 Q1802.28 49.7694 1798.8 51.8354 Q1795.31 53.9013 1795.31 58.8839 Q1795.31 62.8538 1797.91 65.2034 Q1800.54 67.5124 1805.04 67.5124 Q1811.23 67.5124 1814.96 63.1374 Q1818.73 58.7219 1818.73 51.4303 L1818.73 49.7694 L1811.31 49.7694 M1826.18 46.6907 L1826.18 72.576 L1818.73 72.576 L1818.73 65.6895 Q1816.18 69.8214 1812.37 71.8063 Q1808.56 73.7508 1803.05 73.7508 Q1796.08 73.7508 1791.95 69.8619 Q1787.86 65.9325 1787.86 59.3701 Q1787.86 51.7138 1792.96 47.825 Q1798.11 43.9361 1808.28 43.9361 L1818.73 43.9361 L1818.73 43.2069 Q1818.73 38.0623 1815.33 35.2672 Q1811.96 32.4315 1805.85 32.4315 Q1801.96 32.4315 1798.27 33.3632 Q1794.58 34.295 1791.18 36.1584 L1791.18 29.2718 Q1795.27 27.692 1799.12 26.9223 Q1802.97 26.1121 1806.62 26.1121 Q1816.46 26.1121 1821.32 31.2163 Q1826.18 36.3204 1826.18 46.6907 Z\" fill=\"#000000\" fill-rule=\"evenodd\" fill-opacity=\"1\" /><path clip-path=\"url(#clip940)\" d=\"M1848.91 14.324 L1848.91 27.2059 L1864.26 27.2059 L1864.26 32.9987 L1848.91 32.9987 L1848.91 57.6282 Q1848.91 63.1779 1850.41 64.7578 Q1851.95 66.3376 1856.6 66.3376 L1864.26 66.3376 L1864.26 72.576 L1856.6 72.576 Q1847.98 72.576 1844.69 69.3758 Q1841.41 66.1351 1841.41 57.6282 L1841.41 32.9987 L1835.94 32.9987 L1835.94 27.2059 L1841.41 27.2059 L1841.41 14.324 L1848.91 14.324 Z\" fill=\"#000000\" fill-rule=\"evenodd\" fill-opacity=\"1\" /><path clip-path=\"url(#clip940)\" d=\"M1912.87 48.0275 L1912.87 51.6733 L1878.6 51.6733 Q1879.09 59.3701 1883.22 63.421 Q1887.39 67.4314 1894.8 67.4314 Q1899.1 67.4314 1903.11 66.3781 Q1907.16 65.3249 1911.13 63.2184 L1911.13 70.267 Q1907.12 71.9684 1902.91 72.8596 Q1898.69 73.7508 1894.36 73.7508 Q1883.5 73.7508 1877.14 67.4314 Q1870.82 61.1119 1870.82 50.3365 Q1870.82 39.1965 1876.82 32.6746 Q1882.85 26.1121 1893.06 26.1121 Q1902.22 26.1121 1907.52 32.0264 Q1912.87 37.9003 1912.87 48.0275 M1905.42 45.84 Q1905.34 39.7232 1901.97 36.0774 Q1898.65 32.4315 1893.14 32.4315 Q1886.9 32.4315 1883.14 35.9558 Q1879.41 39.4801 1878.84 45.8805 L1905.42 45.84 Z\" fill=\"#000000\" fill-rule=\"evenodd\" fill-opacity=\"1\" /><path clip-path=\"url(#clip940)\" d=\"M1962.82 45.1919 L1962.82 72.576 L1955.36 72.576 L1955.36 45.4349 Q1955.36 38.994 1952.85 35.7938 Q1950.34 32.5936 1945.32 32.5936 Q1939.28 32.5936 1935.8 36.4419 Q1932.32 40.2903 1932.32 46.9338 L1932.32 72.576 L1924.82 72.576 L1924.82 27.2059 L1932.32 27.2059 L1932.32 34.2544 Q1934.99 30.163 1938.59 28.1376 Q1942.24 26.1121 1946.98 26.1121 Q1954.8 26.1121 1958.81 30.9732 Q1962.82 35.7938 1962.82 45.1919 Z\" fill=\"#000000\" fill-rule=\"evenodd\" fill-opacity=\"1\" /><path clip-path=\"url(#clip940)\" d=\"M1985.06 14.324 L1985.06 27.2059 L2000.41 27.2059 L2000.41 32.9987 L1985.06 32.9987 L1985.06 57.6282 Q1985.06 63.1779 1986.56 64.7578 Q1988.1 66.3376 1992.75 66.3376 L2000.41 66.3376 L2000.41 72.576 L1992.75 72.576 Q1984.13 72.576 1980.85 69.3758 Q1977.56 66.1351 1977.56 57.6282 L1977.56 32.9987 L1972.1 32.9987 L1972.1 27.2059 L1977.56 27.2059 L1977.56 14.324 L1985.06 14.324 Z\" fill=\"#000000\" fill-rule=\"evenodd\" fill-opacity=\"1\" /><path clip-path=\"url(#clip940)\" d=\"M2039.14 28.5427 L2039.14 35.5912 Q2035.98 33.9709 2032.58 33.1607 Q2029.17 32.3505 2025.53 32.3505 Q2019.98 32.3505 2017.18 34.0519 Q2014.43 35.7533 2014.43 39.156 Q2014.43 41.7486 2016.41 43.2475 Q2018.4 44.7058 2024.39 46.0426 L2026.94 46.6097 Q2034.88 48.3111 2038.21 51.4303 Q2041.57 54.509 2041.57 60.0587 Q2041.57 66.3781 2036.54 70.0644 Q2031.56 73.7508 2022.81 73.7508 Q2019.17 73.7508 2015.2 73.0216 Q2011.27 72.3329 2006.89 70.9151 L2006.89 63.2184 Q2011.02 65.3654 2015.03 66.4591 Q2019.05 67.5124 2022.97 67.5124 Q2028.24 67.5124 2031.08 65.73 Q2033.91 63.9071 2033.91 60.6258 Q2033.91 57.5877 2031.85 55.9673 Q2029.82 54.3469 2022.89 52.8481 L2020.3 52.2405 Q2013.37 50.7821 2010.3 47.7845 Q2007.22 44.7463 2007.22 39.4801 Q2007.22 33.0797 2011.75 29.5959 Q2016.29 26.1121 2024.64 26.1121 Q2028.77 26.1121 2032.41 26.7198 Q2036.06 27.3274 2039.14 28.5427 Z\" fill=\"#000000\" fill-rule=\"evenodd\" fill-opacity=\"1\" /><path clip-path=\"url(#clip942)\" d=\"\n",
       "M210.454 962.219 L319.922 951.535 L429.391 836.745 L538.86 848.738 L648.328 690.855 L757.797 831.526 L867.266 901.02 L976.735 1447.87 L1086.2 744.805 L1195.67 538.243 \n",
       "  L1305.14 660.548 L1414.61 498.683 L1524.08 680.057 L1633.55 812.561 L1743.02 1292.45 L1852.48 1049.58 L1961.95 785.556 L2071.42 940.604 L2180.89 630.969 L2290.36 1143.06 \n",
       "  L2290.36 279.866 L2180.89 350.322 L2071.42 656.884 L1961.95 504.153 L1852.48 727.219 L1743.02 897.327 L1633.55 516.756 L1524.08 381.641 L1414.61 162.047 L1305.14 359.766 \n",
       "  L1195.67 213.819 L1086.2 463.654 L976.735 1014.95 L867.266 594.83 L757.797 545.919 L648.328 401.457 L538.86 544.568 L429.391 528.03 L319.922 629.54 L210.454 639.868 \n",
       "   Z\n",
       "  \" fill=\"#009af9\" fill-rule=\"evenodd\" fill-opacity=\"0.5\"/>\n",
       "<polyline clip-path=\"url(#clip942)\" style=\"stroke:#009af9; stroke-linecap:butt; stroke-linejoin:round; stroke-width:4; stroke-opacity:1; fill:none\" points=\"\n",
       "  210.454,801.044 319.922,790.537 429.391,682.388 538.86,696.653 648.328,546.156 757.797,688.723 867.266,747.925 976.735,1231.41 1086.2,604.23 1195.67,376.031 \n",
       "  1305.14,510.157 1414.61,330.365 1524.08,530.849 1633.55,664.659 1743.02,1094.89 1852.48,888.4 1961.95,644.854 2071.42,798.744 2180.89,490.646 2290.36,711.464 \n",
       "  \n",
       "  \"/>\n",
       "<polyline clip-path=\"url(#clip942)\" style=\"stroke:#e26f46; stroke-linecap:butt; stroke-linejoin:round; stroke-width:4; stroke-opacity:1; fill:none\" points=\"\n",
       "  210.454,852.46 319.922,850.998 429.391,645.419 538.86,694.864 648.328,493.869 757.797,712.509 867.266,700.216 976.735,1143.34 1086.2,654.604 1195.67,419.333 \n",
       "  1305.14,553.261 1414.61,286.94 1524.08,664.147 1633.55,601.43 1743.02,953.31 1852.48,990.329 1961.95,630.221 2071.42,741.658 2180.89,535.163 2290.36,1013.38 \n",
       "  \n",
       "  \"/>\n",
       "<path clip-path=\"url(#clip940)\" d=\"\n",
       "M1683.95 324.425 L2279.27 324.425 L2279.27 168.905 L1683.95 168.905  Z\n",
       "  \" fill=\"#ffffff\" fill-rule=\"evenodd\" fill-opacity=\"1\"/>\n",
       "<polyline clip-path=\"url(#clip940)\" style=\"stroke:#000000; stroke-linecap:butt; stroke-linejoin:round; stroke-width:4; stroke-opacity:1; fill:none\" points=\"\n",
       "  1683.95,324.425 2279.27,324.425 2279.27,168.905 1683.95,168.905 1683.95,324.425 \n",
       "  \"/>\n",
       "<polyline clip-path=\"url(#clip940)\" style=\"stroke:#009af9; stroke-linecap:butt; stroke-linejoin:round; stroke-width:4; stroke-opacity:1; fill:none\" points=\"\n",
       "  1708.45,220.745 1855.43,220.745 \n",
       "  \"/>\n",
       "<path clip-path=\"url(#clip940)\" d=\"M1884.6 207.307 L1884.6 220.293 L1890.48 220.293 Q1893.75 220.293 1895.53 218.603 Q1897.31 216.914 1897.31 213.789 Q1897.31 210.687 1895.53 208.997 Q1893.75 207.307 1890.48 207.307 L1884.6 207.307 M1879.93 203.465 L1890.48 203.465 Q1896.29 203.465 1899.26 206.104 Q1902.24 208.719 1902.24 213.789 Q1902.24 218.904 1899.26 221.52 Q1896.29 224.136 1890.48 224.136 L1884.6 224.136 L1884.6 238.025 L1879.93 238.025 L1879.93 203.465 Z\" fill=\"#000000\" fill-rule=\"evenodd\" fill-opacity=\"1\" /><path clip-path=\"url(#clip940)\" d=\"M1916.69 215.085 Q1913.26 215.085 1911.27 217.77 Q1909.28 220.432 1909.28 225.085 Q1909.28 229.738 1911.25 232.423 Q1913.24 235.085 1916.69 235.085 Q1920.09 235.085 1922.08 232.4 Q1924.07 229.715 1924.07 225.085 Q1924.07 220.478 1922.08 217.793 Q1920.09 215.085 1916.69 215.085 M1916.69 211.474 Q1922.24 211.474 1925.41 215.085 Q1928.58 218.696 1928.58 225.085 Q1928.58 231.451 1925.41 235.085 Q1922.24 238.696 1916.69 238.696 Q1911.11 238.696 1907.94 235.085 Q1904.79 231.451 1904.79 225.085 Q1904.79 218.696 1907.94 215.085 Q1911.11 211.474 1916.69 211.474 Z\" fill=\"#000000\" fill-rule=\"evenodd\" fill-opacity=\"1\" /><path clip-path=\"url(#clip940)\" d=\"M1952.17 212.863 L1952.17 216.891 Q1950.37 215.965 1948.42 215.502 Q1946.48 215.039 1944.39 215.039 Q1941.22 215.039 1939.63 216.011 Q1938.05 216.983 1938.05 218.928 Q1938.05 220.409 1939.19 221.265 Q1940.32 222.099 1943.75 222.863 L1945.2 223.187 Q1949.74 224.159 1951.64 225.941 Q1953.56 227.701 1953.56 230.872 Q1953.56 234.483 1950.69 236.589 Q1947.84 238.696 1942.84 238.696 Q1940.76 238.696 1938.49 238.279 Q1936.25 237.886 1933.75 237.076 L1933.75 232.677 Q1936.11 233.904 1938.4 234.529 Q1940.69 235.131 1942.94 235.131 Q1945.95 235.131 1947.57 234.113 Q1949.19 233.071 1949.19 231.196 Q1949.19 229.46 1948.01 228.534 Q1946.85 227.608 1942.89 226.752 L1941.41 226.404 Q1937.45 225.571 1935.69 223.858 Q1933.93 222.122 1933.93 219.113 Q1933.93 215.455 1936.52 213.465 Q1939.12 211.474 1943.89 211.474 Q1946.25 211.474 1948.33 211.821 Q1950.41 212.168 1952.17 212.863 Z\" fill=\"#000000\" fill-rule=\"evenodd\" fill-opacity=\"1\" /><path clip-path=\"url(#clip940)\" d=\"M1964.56 204.738 L1964.56 212.099 L1973.33 212.099 L1973.33 215.409 L1964.56 215.409 L1964.56 229.483 Q1964.56 232.654 1965.41 233.557 Q1966.29 234.46 1968.95 234.46 L1973.33 234.46 L1973.33 238.025 L1968.95 238.025 Q1964.02 238.025 1962.15 236.196 Q1960.27 234.344 1960.27 229.483 L1960.27 215.409 L1957.15 215.409 L1957.15 212.099 L1960.27 212.099 L1960.27 204.738 L1964.56 204.738 Z\" fill=\"#000000\" fill-rule=\"evenodd\" fill-opacity=\"1\" /><path clip-path=\"url(#clip940)\" d=\"M2001.11 223.997 L2001.11 226.08 L1981.52 226.08 Q1981.8 230.478 1984.16 232.793 Q1986.55 235.085 1990.78 235.085 Q1993.24 235.085 1995.53 234.483 Q1997.84 233.881 2000.11 232.677 L2000.11 236.705 Q1997.82 237.677 1995.41 238.187 Q1993.01 238.696 1990.53 238.696 Q1984.32 238.696 1980.69 235.085 Q1977.08 231.474 1977.08 225.316 Q1977.08 218.951 1980.51 215.224 Q1983.95 211.474 1989.79 211.474 Q1995.02 211.474 1998.05 214.853 Q2001.11 218.21 2001.11 223.997 M1996.85 222.747 Q1996.8 219.252 1994.88 217.168 Q1992.98 215.085 1989.83 215.085 Q1986.27 215.085 1984.12 217.099 Q1981.99 219.113 1981.66 222.77 L1996.85 222.747 Z\" fill=\"#000000\" fill-rule=\"evenodd\" fill-opacity=\"1\" /><path clip-path=\"url(#clip940)\" d=\"M2023.12 216.08 Q2022.4 215.664 2021.55 215.478 Q2020.71 215.27 2019.7 215.27 Q2016.08 215.27 2014.14 217.631 Q2012.22 219.969 2012.22 224.367 L2012.22 238.025 L2007.94 238.025 L2007.94 212.099 L2012.22 212.099 L2012.22 216.127 Q2013.56 213.766 2015.71 212.631 Q2017.87 211.474 2020.95 211.474 Q2021.38 211.474 2021.92 211.543 Q2022.45 211.59 2023.1 211.705 L2023.12 216.08 Z\" fill=\"#000000\" fill-rule=\"evenodd\" fill-opacity=\"1\" /><path clip-path=\"url(#clip940)\" d=\"M2027.59 212.099 L2031.85 212.099 L2031.85 238.025 L2027.59 238.025 L2027.59 212.099 M2027.59 202.006 L2031.85 202.006 L2031.85 207.4 L2027.59 207.4 L2027.59 202.006 Z\" fill=\"#000000\" fill-rule=\"evenodd\" fill-opacity=\"1\" /><path clip-path=\"url(#clip940)\" d=\"M2050.81 215.085 Q2047.38 215.085 2045.39 217.77 Q2043.4 220.432 2043.4 225.085 Q2043.4 229.738 2045.37 232.423 Q2047.36 235.085 2050.81 235.085 Q2054.21 235.085 2056.2 232.4 Q2058.19 229.715 2058.19 225.085 Q2058.19 220.478 2056.2 217.793 Q2054.21 215.085 2050.81 215.085 M2050.81 211.474 Q2056.36 211.474 2059.53 215.085 Q2062.7 218.696 2062.7 225.085 Q2062.7 231.451 2059.53 235.085 Q2056.36 238.696 2050.81 238.696 Q2045.23 238.696 2042.06 235.085 Q2038.91 231.451 2038.91 225.085 Q2038.91 218.696 2042.06 215.085 Q2045.23 211.474 2050.81 211.474 Z\" fill=\"#000000\" fill-rule=\"evenodd\" fill-opacity=\"1\" /><path clip-path=\"url(#clip940)\" d=\"M2084.79 216.08 Q2084.07 215.664 2083.21 215.478 Q2082.38 215.27 2081.36 215.27 Q2077.75 215.27 2075.81 217.631 Q2073.88 219.969 2073.88 224.367 L2073.88 238.025 L2069.6 238.025 L2069.6 212.099 L2073.88 212.099 L2073.88 216.127 Q2075.23 213.766 2077.38 212.631 Q2079.53 211.474 2082.61 211.474 Q2083.05 211.474 2083.58 211.543 Q2084.12 211.59 2084.76 211.705 L2084.79 216.08 Z\" fill=\"#000000\" fill-rule=\"evenodd\" fill-opacity=\"1\" /><path clip-path=\"url(#clip940)\" d=\"M2124.51 217.076 Q2126.11 214.205 2128.33 212.84 Q2130.55 211.474 2133.56 211.474 Q2137.61 211.474 2139.81 214.321 Q2142.01 217.145 2142.01 222.377 L2142.01 238.025 L2137.73 238.025 L2137.73 222.515 Q2137.73 218.789 2136.41 216.983 Q2135.09 215.178 2132.38 215.178 Q2129.07 215.178 2127.15 217.377 Q2125.23 219.576 2125.23 223.372 L2125.23 238.025 L2120.94 238.025 L2120.94 222.515 Q2120.94 218.765 2119.63 216.983 Q2118.31 215.178 2115.55 215.178 Q2112.29 215.178 2110.37 217.4 Q2108.44 219.599 2108.44 223.372 L2108.44 238.025 L2104.16 238.025 L2104.16 212.099 L2108.44 212.099 L2108.44 216.127 Q2109.9 213.742 2111.94 212.608 Q2113.98 211.474 2116.78 211.474 Q2119.6 211.474 2121.57 212.909 Q2123.56 214.344 2124.51 217.076 Z\" fill=\"#000000\" fill-rule=\"evenodd\" fill-opacity=\"1\" /><path clip-path=\"url(#clip940)\" d=\"M2172.68 223.997 L2172.68 226.08 L2153.1 226.08 Q2153.37 230.478 2155.74 232.793 Q2158.12 235.085 2162.36 235.085 Q2164.81 235.085 2167.1 234.483 Q2169.42 233.881 2171.68 232.677 L2171.68 236.705 Q2169.39 237.677 2166.99 238.187 Q2164.58 238.696 2162.1 238.696 Q2155.9 238.696 2152.26 235.085 Q2148.65 231.474 2148.65 225.316 Q2148.65 218.951 2152.08 215.224 Q2155.53 211.474 2161.36 211.474 Q2166.59 211.474 2169.62 214.853 Q2172.68 218.21 2172.68 223.997 M2168.42 222.747 Q2168.37 219.252 2166.45 217.168 Q2164.56 215.085 2161.41 215.085 Q2157.84 215.085 2155.69 217.099 Q2153.56 219.113 2153.24 222.77 L2168.42 222.747 Z\" fill=\"#000000\" fill-rule=\"evenodd\" fill-opacity=\"1\" /><path clip-path=\"url(#clip940)\" d=\"M2191.45 224.992 Q2186.29 224.992 2184.3 226.173 Q2182.31 227.353 2182.31 230.201 Q2182.31 232.469 2183.79 233.812 Q2185.3 235.131 2187.87 235.131 Q2191.41 235.131 2193.54 232.631 Q2195.69 230.108 2195.69 225.941 L2195.69 224.992 L2191.45 224.992 M2199.95 223.233 L2199.95 238.025 L2195.69 238.025 L2195.69 234.089 Q2194.23 236.451 2192.06 237.585 Q2189.88 238.696 2186.73 238.696 Q2182.75 238.696 2180.39 236.474 Q2178.05 234.228 2178.05 230.478 Q2178.05 226.103 2180.97 223.881 Q2183.91 221.659 2189.72 221.659 L2195.69 221.659 L2195.69 221.242 Q2195.69 218.303 2193.75 216.705 Q2191.82 215.085 2188.33 215.085 Q2186.11 215.085 2184 215.617 Q2181.89 216.15 2179.95 217.215 L2179.95 213.279 Q2182.29 212.377 2184.49 211.937 Q2186.68 211.474 2188.77 211.474 Q2194.39 211.474 2197.17 214.391 Q2199.95 217.307 2199.95 223.233 Z\" fill=\"#000000\" fill-rule=\"evenodd\" fill-opacity=\"1\" /><path clip-path=\"url(#clip940)\" d=\"M2230.27 222.377 L2230.27 238.025 L2226.01 238.025 L2226.01 222.515 Q2226.01 218.835 2224.58 217.006 Q2223.14 215.178 2220.27 215.178 Q2216.82 215.178 2214.83 217.377 Q2212.84 219.576 2212.84 223.372 L2212.84 238.025 L2208.56 238.025 L2208.56 212.099 L2212.84 212.099 L2212.84 216.127 Q2214.37 213.789 2216.43 212.631 Q2218.51 211.474 2221.22 211.474 Q2225.69 211.474 2227.98 214.252 Q2230.27 217.006 2230.27 222.377 Z\" fill=\"#000000\" fill-rule=\"evenodd\" fill-opacity=\"1\" /><polyline clip-path=\"url(#clip940)\" style=\"stroke:#e26f46; stroke-linecap:butt; stroke-linejoin:round; stroke-width:4; stroke-opacity:1; fill:none\" points=\"\n",
       "  1708.45,272.585 1855.43,272.585 \n",
       "  \"/>\n",
       "<path clip-path=\"url(#clip940)\" d=\"M1879.93 255.305 L1909.16 255.305 L1909.16 259.24 L1896.89 259.24 L1896.89 289.865 L1892.2 289.865 L1892.2 259.24 L1879.93 259.24 L1879.93 255.305 Z\" fill=\"#000000\" fill-rule=\"evenodd\" fill-opacity=\"1\" /><path clip-path=\"url(#clip940)\" d=\"M1921.55 267.92 Q1920.83 267.504 1919.97 267.318 Q1919.14 267.11 1918.12 267.11 Q1914.51 267.11 1912.57 269.471 Q1910.64 271.809 1910.64 276.207 L1910.64 289.865 L1906.36 289.865 L1906.36 263.939 L1910.64 263.939 L1910.64 267.967 Q1911.99 265.606 1914.14 264.471 Q1916.29 263.314 1919.37 263.314 Q1919.81 263.314 1920.34 263.383 Q1920.88 263.43 1921.52 263.545 L1921.55 267.92 Z\" fill=\"#000000\" fill-rule=\"evenodd\" fill-opacity=\"1\" /><path clip-path=\"url(#clip940)\" d=\"M1925.58 279.633 L1925.58 263.939 L1929.83 263.939 L1929.83 279.471 Q1929.83 283.152 1931.27 285.004 Q1932.7 286.832 1935.58 286.832 Q1939.02 286.832 1941.01 284.633 Q1943.03 282.434 1943.03 278.638 L1943.03 263.939 L1947.29 263.939 L1947.29 289.865 L1943.03 289.865 L1943.03 285.883 Q1941.48 288.244 1939.42 289.402 Q1937.38 290.536 1934.67 290.536 Q1930.2 290.536 1927.89 287.758 Q1925.58 284.98 1925.58 279.633 M1936.29 263.314 L1936.29 263.314 Z\" fill=\"#000000\" fill-rule=\"evenodd\" fill-opacity=\"1\" /><path clip-path=\"url(#clip940)\" d=\"M1978.24 275.837 L1978.24 277.92 L1958.65 277.92 Q1958.93 282.318 1961.29 284.633 Q1963.68 286.925 1967.91 286.925 Q1970.37 286.925 1972.66 286.323 Q1974.97 285.721 1977.24 284.517 L1977.24 288.545 Q1974.95 289.517 1972.54 290.027 Q1970.14 290.536 1967.66 290.536 Q1961.45 290.536 1957.82 286.925 Q1954.21 283.314 1954.21 277.156 Q1954.21 270.791 1957.64 267.064 Q1961.08 263.314 1966.92 263.314 Q1972.15 263.314 1975.18 266.693 Q1978.24 270.05 1978.24 275.837 M1973.98 274.587 Q1973.93 271.092 1972.01 269.008 Q1970.11 266.925 1966.96 266.925 Q1963.4 266.925 1961.25 268.939 Q1959.12 270.953 1958.79 274.61 L1973.98 274.587 Z\" fill=\"#000000\" fill-rule=\"evenodd\" fill-opacity=\"1\" /><path clip-path=\"url(#clip940)\" d=\"M1997.24 263.939 L2001.76 263.939 L2009.86 285.698 L2017.96 263.939 L2022.47 263.939 L2012.75 289.865 L2006.96 289.865 L1997.24 263.939 Z\" fill=\"#000000\" fill-rule=\"evenodd\" fill-opacity=\"1\" /><path clip-path=\"url(#clip940)\" d=\"M2040.13 276.832 Q2034.97 276.832 2032.98 278.013 Q2030.99 279.193 2030.99 282.041 Q2030.99 284.309 2032.47 285.652 Q2033.98 286.971 2036.55 286.971 Q2040.09 286.971 2042.22 284.471 Q2044.37 281.948 2044.37 277.781 L2044.37 276.832 L2040.13 276.832 M2048.63 275.073 L2048.63 289.865 L2044.37 289.865 L2044.37 285.929 Q2042.91 288.291 2040.74 289.425 Q2038.56 290.536 2035.41 290.536 Q2031.43 290.536 2029.07 288.314 Q2026.73 286.068 2026.73 282.318 Q2026.73 277.943 2029.65 275.721 Q2032.59 273.499 2038.4 273.499 L2044.37 273.499 L2044.37 273.082 Q2044.37 270.143 2042.43 268.545 Q2040.51 266.925 2037.01 266.925 Q2034.79 266.925 2032.68 267.457 Q2030.57 267.99 2028.63 269.055 L2028.63 265.119 Q2030.97 264.217 2033.17 263.777 Q2035.37 263.314 2037.45 263.314 Q2043.07 263.314 2045.85 266.231 Q2048.63 269.147 2048.63 275.073 Z\" fill=\"#000000\" fill-rule=\"evenodd\" fill-opacity=\"1\" /><path clip-path=\"url(#clip940)\" d=\"M2057.4 253.846 L2061.66 253.846 L2061.66 289.865 L2057.4 289.865 L2057.4 253.846 Z\" fill=\"#000000\" fill-rule=\"evenodd\" fill-opacity=\"1\" /><path clip-path=\"url(#clip940)\" d=\"M2070.13 279.633 L2070.13 263.939 L2074.39 263.939 L2074.39 279.471 Q2074.39 283.152 2075.83 285.004 Q2077.26 286.832 2080.13 286.832 Q2083.58 286.832 2085.57 284.633 Q2087.59 282.434 2087.59 278.638 L2087.59 263.939 L2091.85 263.939 L2091.85 289.865 L2087.59 289.865 L2087.59 285.883 Q2086.04 288.244 2083.98 289.402 Q2081.94 290.536 2079.23 290.536 Q2074.76 290.536 2072.45 287.758 Q2070.13 284.98 2070.13 279.633 M2080.85 263.314 L2080.85 263.314 Z\" fill=\"#000000\" fill-rule=\"evenodd\" fill-opacity=\"1\" /><path clip-path=\"url(#clip940)\" d=\"M2122.8 275.837 L2122.8 277.92 L2103.21 277.92 Q2103.49 282.318 2105.85 284.633 Q2108.24 286.925 2112.47 286.925 Q2114.93 286.925 2117.22 286.323 Q2119.53 285.721 2121.8 284.517 L2121.8 288.545 Q2119.51 289.517 2117.1 290.027 Q2114.69 290.536 2112.22 290.536 Q2106.01 290.536 2102.38 286.925 Q2098.77 283.314 2098.77 277.156 Q2098.77 270.791 2102.19 267.064 Q2105.64 263.314 2111.48 263.314 Q2116.71 263.314 2119.74 266.693 Q2122.8 270.05 2122.8 275.837 M2118.54 274.587 Q2118.49 271.092 2116.57 269.008 Q2114.67 266.925 2111.52 266.925 Q2107.96 266.925 2105.81 268.939 Q2103.68 270.953 2103.35 274.61 L2118.54 274.587 Z\" fill=\"#000000\" fill-rule=\"evenodd\" fill-opacity=\"1\" /><path clip-path=\"url(#clip940)\" d=\"M2146.31 264.703 L2146.31 268.731 Q2144.51 267.805 2142.56 267.342 Q2140.62 266.879 2138.54 266.879 Q2135.37 266.879 2133.77 267.851 Q2132.19 268.823 2132.19 270.768 Q2132.19 272.249 2133.33 273.105 Q2134.46 273.939 2137.89 274.703 L2139.35 275.027 Q2143.88 275.999 2145.78 277.781 Q2147.7 279.541 2147.7 282.712 Q2147.7 286.323 2144.83 288.429 Q2141.99 290.536 2136.99 290.536 Q2134.9 290.536 2132.63 290.119 Q2130.39 289.726 2127.89 288.916 L2127.89 284.517 Q2130.25 285.744 2132.54 286.369 Q2134.83 286.971 2137.08 286.971 Q2140.09 286.971 2141.71 285.953 Q2143.33 284.911 2143.33 283.036 Q2143.33 281.3 2142.15 280.374 Q2140.99 279.448 2137.03 278.592 L2135.55 278.244 Q2131.59 277.411 2129.83 275.698 Q2128.07 273.962 2128.07 270.953 Q2128.07 267.295 2130.67 265.305 Q2133.26 263.314 2138.03 263.314 Q2140.39 263.314 2142.47 263.661 Q2144.56 264.008 2146.31 264.703 Z\" fill=\"#000000\" fill-rule=\"evenodd\" fill-opacity=\"1\" /></svg>\n"
      ]
     },
     "execution_count": 35,
     "metadata": {},
     "output_type": "execute_result"
    }
   ],
   "source": [
    "ϵ_chain = sort(chain_2_joint[:, [Symbol(\"ϵ_draw[$a]\") for a in 1:21], 1], lt = (x,y) -> symbol_to_int(x) < symbol_to_int(y))\n",
    "tmp = describe(ϵ_chain)\n",
    "ϵ_mean = tmp[1][:, 2]\n",
    "ϵ_std = tmp[1][:, 3]\n",
    "plot(ϵ_mean[2:end], ribbon=2 * ϵ_std[2:end], label=\"Posterior mean\", title = \"Second-Order Joint: Estimated Latents\")\n",
    "plot!(ϵ', label=\"True values\")"
   ]
  },
  {
   "cell_type": "code",
   "execution_count": null,
   "metadata": {},
   "outputs": [],
   "source": []
  }
 ],
 "metadata": {
  "kernelspec": {
   "display_name": "Julia 1.7.3",
   "language": "julia",
   "name": "julia-1.7"
  },
  "language_info": {
   "file_extension": ".jl",
   "mimetype": "application/julia",
   "name": "julia",
   "version": "1.7.3"
  }
 },
 "nbformat": 4,
 "nbformat_minor": 4
}
