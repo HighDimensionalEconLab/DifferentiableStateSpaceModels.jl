{
 "cells": [
  {
   "cell_type": "markdown",
   "metadata": {},
   "source": [
    "# Setup model and install packages\n",
    "**Warning:**  This package is a proof of concept.  While the code will remain working with proper use of a [Julia manifest](https://pkgdocs.julialang.org/v1/), you should not rely on this for research unless you are prepared to modify the source and help maintain it.\n",
    "\n",
    "Remove comment below to install the exact version of packages listed in the manifest."
   ]
  },
  {
   "cell_type": "code",
   "execution_count": 7,
   "metadata": {
    "tags": []
   },
   "outputs": [],
   "source": [
    "# ] instantiate "
   ]
  },
  {
   "cell_type": "markdown",
   "metadata": {},
   "source": [
    "The core package is `DifferentiableStateSpaceModels.jl` where `DifferenceEquations.jl` provides compatible functionality for simulating and calculating likelihoods"
   ]
  },
  {
   "cell_type": "code",
   "execution_count": 8,
   "metadata": {},
   "outputs": [],
   "source": [
    "using DifferentiableStateSpaceModels, DifferenceEquations, LinearAlgebra, Zygote, Distributions, Plots, DiffEqBase, Symbolics, BenchmarkTools"
   ]
  },
  {
   "cell_type": "markdown",
   "metadata": {},
   "source": [
    "# Model Class\n",
    "The model follows [Schmitt-Grohe and Uribe (2004)](http://www.columbia.edu/~mu2166/2nd_order/2nd_order.pdf) timing convention.  The system takes a nonlinear expectational difference equation including all first-order conditions for decisions and the system evolution equations,\n",
    "\n",
    "$$\n",
    "\\mathbb{E}_{t}\\mathcal{H}\\left(\\hat{y}',\\hat{y},\\hat{x}',\\hat{x};p\\right)=0\n",
    "$$\n",
    "where $\\hat{y}$ are the control variables, $\\hat{x}$ are the states, and $p$ is a vector of deep parameters of interest.  Expectations are taken over forward-looking variables and an underlying random process $\\epsilon'$.\n",
    "\n",
    "In addition, we consider an observation equation - which might be noisy for\n",
    "$$\n",
    "\\hat{z} = Q \\cdot \\begin{bmatrix}\\hat{y} &\\hat{x}\\end{bmatrix}^{\\top} + \\nu\n",
    "$$\n",
    "where $\\nu$ may or may not be normally distributed but $\\mathbb{E}(\\nu) = 0$ and $\\mathbb{V}(\\nu) = \\Omega(p) \\Omega(p)^{\\top}$.\n",
    "\n",
    "Assume that there is a non-stochastic steady state of this problem as $y_{ss}, x_{ss}$.\n",
    "\n",
    "## Perturbation Solution\n",
    "Define the deviation from the non-stochastic steady state as$x \\equiv \\hat{x} - x_{ss}$, and $y \\equiv \\hat{y} - y_{ss}$.\n",
    "\n",
    "The solution finds the first or second order perturbation around that non-stochastic steady state, and yields a\n",
    "$$\n",
    "x' = h(x; p) + \\eta \\, \\Gamma(p)\\, \\epsilon'\n",
    "$$\n",
    "where $\\eta$ describes how shocks affect the law of motion and $\\mathbb{E}(\\epsilon') = 0$.  Frequently this would be organized such that $\\mathbb{V}(\\epsilon)= I$, but that is not required.  In addition, it could instead be interpreted as for $x' = h(x; p) + \\eta \\, \\epsilon'$ with $\\mathbb{V}(\\epsilon') = \\Gamma(p) \\Gamma(p)^{\\top}$.\n",
    "\n",
    "and with the policy equation,\n",
    "$$\n",
    "y = g(x; p)\n",
    "$$\n",
    "and finally, substitution in for the observation equation\n",
    "$$\n",
    "z = h(x; p) + \\nu\n",
    "$$\n",
    "where\n",
    "$$\n",
    "h(x; p) \\equiv Q \\begin{bmatrix} g(x;p) \\\\ x\\end{bmatrix}\n",
    "$$\n",
    "\n",
    "## First Order Solutions\n",
    "For example, in the case of the 1st order model the solution finds,\n",
    "$$\n",
    "x' = A(p)\\, x + B(p) \\epsilon'\n",
    "$$\n",
    "and\n",
    "$$\n",
    "y = g_x(p) \\, x\n",
    "$$\n",
    "and \n",
    "$$\n",
    "z = C(p)\\, x + \\nu\n",
    "$$\n",
    "where $C(p)\\equiv Q \\begin{bmatrix} g_x(p) \\\\ I\\end{bmatrix}$, $B(p) \\equiv \\eta \\Gamma(p)$, and $\\mathbb{V}(v) = D(\\nu) D(p)^{\\top}$.  Normality of $\\nu$ or $\\epsilon'$ is not required in general.\n",
    "\n",
    "This is a linear state-space model and if the priors and shocks are gaussian, a marginal likelihood can be evaluated with classic methods such as a Kalman Filter.  The output of the perturbation can be used manually, or in conjunction with [DifferenceEquations.jl](https://github.com/SciML/DifferenceEquations.jl).\n",
    "\n",
    "## Second Order Solutions\n",
    "This package also solves for second order perturbations, with all of the same features and with easy   The canonical form of the second order solution implements state-space pruning as in [Andreasen, Fernandez-Villaverde, and Rubio-Ramirez (2017)](https://www.sas.upenn.edu/~jesusfv/Pruning.pdf).  Given the same formulation of the problem, the model finds the canonical form,\n",
    "$$\n",
    "x' = A_0(p) + A_1(p)\\, x + x^{\\top} A_2(p)\\, x + B(p) \\epsilon'\n",
    "$$\n",
    "and\n",
    "$$\n",
    "y = g_{\\sigma\\sigma} + g_x \\, x + x^{\\top}\\,g_{xx}\\,x\n",
    "$$\n",
    "and \n",
    "$$\n",
    "z = C_0(p) + C_1(p)\\, x + x^{\\top} C_2(p)\\, x + \\nu\n",
    "$$\n",
    "where $B(p) \\equiv \\eta \\Gamma(p)$, $\\mathbb{V}(v) = D(\\nu) D(p)^{\\top}$, and the $C_0,C_1,C_2,A_0, A_1, A_2$ all reflect the state space pruning.\n",
    "\n",
    "## Gradients\n",
    "All of the above use standard solution methods.  The primary contribution of this package is that all of these model elements are **differentiable**. Hence, these gradeients can be composed for use in applications such as optimization, gradient-based estimation methods, and with  [DifferenceEquations.jl](https://github.com/SciML/DifferenceEquations.jl)  which provides differentiable simulations and likelihoods for state-space models.  That is, if we think of a perturbation solver mapping $p$ to solutions (e.g. in first order $\\mathbf{P}(p) \\to (A, B, C, D)$, then we can find the gradients $\\partial_p \\mathbf{P}(p), \\partial_p A(p)$ etc.  Or, when these gradients are available for use with reverse-mode auto-differentiation, it can take \"wobbles\" in $A, B, C, D$ and go back to the \"wiggles\" of the underlying $p$ through $\\mathbf{P}$.  See [ChainRules.jl](https://juliadiff.org/ChainRulesCore.jl/stable/maths/propagators.html) for more details on AD.  \n"
   ]
  },
  {
   "cell_type": "markdown",
   "metadata": {},
   "source": [
    "## Model Primitives\n",
    "Models are defined using a Dynare-style DSL using [Symbolics.jl](https://github.com/JuliaSymbolics/Symbolics.jl).  The list of primitives are:\n",
    "1. The list of variables for the controls $y$, state $x$, and deep parameters $p$.\n",
    "2. The set of equations $H$ as a function of $p, y(t), y(t+1), x(t),$ and $x(t+1)$.  No $t-1$ timing are allowed.\n",
    "3. The loading of shocks $\\eta$ as a fixed matrix of constants\n",
    "4. The shock covariance cholesky $\\Gamma$ as a function of parameters $p$\n",
    "5. The observation equation $Q$ as a fixed matrix.\n",
    "6. The cholesky of the observation errors, $\\Omega$ as a function of parameters $p$.  At this point only a diagonal matrix is support.\n",
    "7. Either the steady state equations for all of $y$ and $x$ in closed form as a function of $p$, or initial conditions for the nonlinear solution to solve for the steady state as functions of $p$"
   ]
  },
  {
   "cell_type": "markdown",
   "metadata": {},
   "source": [
    "# RBC Example\n",
    "This example implements the model primitives to build a simple version of the RBC model with two observables."
   ]
  },
  {
   "cell_type": "code",
   "execution_count": 9,
   "metadata": {},
   "outputs": [
    {
     "data": {
      "text/plain": [
       "Perturbation Model: n_y = 2, n_x = 2, n_p = 6, n_ϵ = 1, n_z = 2\n",
       " y = [:c, :q] \n",
       " x = [:k, :z] \n",
       " p = [:α, :β, :ρ, :δ, :σ, :Ω_1]"
      ]
     },
     "execution_count": 9,
     "metadata": {},
     "output_type": "execute_result"
    }
   ],
   "source": [
    "∞ = Inf\n",
    "@variables α, β, ρ, δ, σ, Ω_1\n",
    "@variables t::Integer, k(..), z(..), c(..), q(..)\n",
    "\n",
    "x = [k, z] # states\n",
    "y = [c, q] # controls\n",
    "p = [α, β, ρ, δ, σ, Ω_1] # parameters\n",
    "\n",
    "H = [1 / c(t) - (β / c(t + 1)) * (α * exp(z(t + 1)) * k(t + 1)^(α - 1) + (1 - δ)),\n",
    "     c(t) + k(t + 1) - (1 - δ) * k(t) - q(t),\n",
    "     q(t) - exp(z(t)) * k(t)^α,\n",
    "     z(t + 1) - ρ * z(t)]  # system of model equations\n",
    "\n",
    "# analytic solutions for the steady state.  Could pass initial values and run solver and use initial values with steady_states_iv\n",
    "steady_states = [k(∞) ~ (((1 / β) - 1 + δ) / α)^(1 / (α - 1)),\n",
    "                 z(∞) ~ 0,\n",
    "                 c(∞) ~ (((1 / β) - 1 + δ) / α)^(α / (α - 1)) -\n",
    "                        δ * (((1 / β) - 1 + δ) / α)^(1 / (α - 1)),\n",
    "                 q(∞) ~ (((1 / β) - 1 + δ) / α)^(α / (α - 1))]\n",
    "\n",
    "\n",
    "Γ = [σ;;] # matrix for the 1 shock.  The [;;] notation just makes it a matrix rather than vector in julia\n",
    "η = [0; -1;;] # η is n_x * n_ϵ matrix.  The [;;]\n",
    "\n",
    "# observation matrix.  order is \"y\" then \"x\" variables, so [c,q,k,z] in this example\n",
    "Q = [1.0 0  0   0; # select c as first \"z\" observable\n",
    "     0   0  1.0 0] # select k\n",
    "\n",
    "# diagonal cholesky of covariance matrix for observation noise (so these are standard deviations).  Non-diagonal observation noise not currently supported\n",
    "Ω = [Ω_1, Ω_1]\n",
    "\n",
    "# Generates the files and includes if required.  If the model is already created, then just loads\n",
    "overwrite_model_cache  = true\n",
    "model_rbc = @make_and_include_perturbation_model(\"rbc_notebook_example\", H, (; t, y, x, p, steady_states, Γ, Ω, η, Q, overwrite_model_cache)) # Convenience macro.  Saves as \".function_cache/rbc_notebook_example.jl\"\n",
    "\n",
    "# After generation could just include the files directly, or add the following to prevent overwriting the models\n",
    "# isdefined(Main, :rbc_notebook_example) || include(joinpath(pkgdir(DifferentiableStateSpaceModels),\n",
    "#                                              \"test/generated_models/rbc_notebook_example.jl\"))\n",
    "# Alternatively, this is also the same example as a prebuilt example\n",
    "# model_rbc = @include_example_module(DifferentiableStateSpaceModels.Examples.rbc_observables)"
   ]
  },
  {
   "cell_type": "markdown",
   "metadata": {},
   "source": [
    "As commented above, the convenience macro will take this model, generate files, and include them.  It called the function [`make_perturbation_model`](https://github.com/HighDimensionalEconLab/DifferentiableStateSpaceModels.jl/blob/main/src/make_perturbation_model.jl#L6-L13) with the associated options in that file.  Once generated these can be included as normal `.jl` files.  At this point, there are no runtime generated functions though that functionality could be added later.  The following queries some of the properties of the loaded model."
   ]
  },
  {
   "cell_type": "code",
   "execution_count": 10,
   "metadata": {},
   "outputs": [
    {
     "data": {
      "text/latex": [
       "$\\begin{equation}\n",
       "\\left[\n",
       "\\begin{array}{c}\n",
       "\\frac{ - \\beta \\left( 1 - \\delta + \\left( k\\left( 1 + t \\right) \\right)^{-1 + \\alpha} \\alpha e^{z\\left( 1 + t \\right)} \\right)}{c\\left( 1 + t \\right)} + \\frac{1}{c\\left( t \\right)} \\\\\n",
       " - q\\left( t \\right) - \\left( 1 - \\delta \\right) k\\left( t \\right) + c\\left( t \\right) + k\\left( 1 + t \\right) \\\\\n",
       " - \\left( k\\left( t \\right) \\right)^{\\alpha} e^{z\\left( t \\right)} + q\\left( t \\right) \\\\\n",
       " - \\rho z\\left( t \\right) + z\\left( 1 + t \\right) \\\\\n",
       "\\end{array}\n",
       "\\right]\n",
       "\\end{equation}\n",
       "$"
      ],
      "text/plain": [
       "L\"$\\begin{equation}\n",
       "\\left[\n",
       "\\begin{array}{c}\n",
       "\\frac{ - \\beta \\left( 1 - \\delta + \\left( k\\left( 1 + t \\right) \\right)^{-1 + \\alpha} \\alpha e^{z\\left( 1 + t \\right)} \\right)}{c\\left( 1 + t \\right)} + \\frac{1}{c\\left( t \\right)} \\\\\n",
       " - q\\left( t \\right) - \\left( 1 - \\delta \\right) k\\left( t \\right) + c\\left( t \\right) + k\\left( 1 + t \\right) \\\\\n",
       " - \\left( k\\left( t \\right) \\right)^{\\alpha} e^{z\\left( t \\right)} + q\\left( t \\right) \\\\\n",
       " - \\rho z\\left( t \\right) + z\\left( 1 + t \\right) \\\\\n",
       "\\end{array}\n",
       "\\right]\n",
       "\\end{equation}\n",
       "$\""
      ]
     },
     "execution_count": 10,
     "metadata": {},
     "output_type": "execute_result"
    }
   ],
   "source": [
    "model_H_latex(model_rbc)"
   ]
  },
  {
   "cell_type": "code",
   "execution_count": 11,
   "metadata": {},
   "outputs": [
    {
     "data": {
      "text/latex": [
       "$\\begin{align}\n",
       "k\\left( \\infty \\right) =& \\left( \\frac{-1 + \\delta + \\frac{1}{\\beta}}{\\alpha} \\right)^{\\frac{1}{-1 + \\alpha}} \\\\\n",
       "z\\left( \\infty \\right) =& 0 \\\\\n",
       "c\\left( \\infty \\right) =& \\left( \\frac{-1 + \\delta + \\frac{1}{\\beta}}{\\alpha} \\right)^{\\frac{\\alpha}{-1 + \\alpha}} - \\left( \\frac{-1 + \\delta + \\frac{1}{\\beta}}{\\alpha} \\right)^{\\frac{1}{-1 + \\alpha}} \\delta \\\\\n",
       "q\\left( \\infty \\right) =& \\left( \\frac{-1 + \\delta + \\frac{1}{\\beta}}{\\alpha} \\right)^{\\frac{\\alpha}{-1 + \\alpha}}\n",
       "\\end{align}\n",
       "$"
      ],
      "text/plain": [
       "L\"$\\begin{align}\n",
       "k\\left( \\infty \\right) =& \\left( \\frac{-1 + \\delta + \\frac{1}{\\beta}}{\\alpha} \\right)^{\\frac{1}{-1 + \\alpha}} \\\\\n",
       "z\\left( \\infty \\right) =& 0 \\\\\n",
       "c\\left( \\infty \\right) =& \\left( \\frac{-1 + \\delta + \\frac{1}{\\beta}}{\\alpha} \\right)^{\\frac{\\alpha}{-1 + \\alpha}} - \\left( \\frac{-1 + \\delta + \\frac{1}{\\beta}}{\\alpha} \\right)^{\\frac{1}{-1 + \\alpha}} \\delta \\\\\n",
       "q\\left( \\infty \\right) =& \\left( \\frac{-1 + \\delta + \\frac{1}{\\beta}}{\\alpha} \\right)^{\\frac{\\alpha}{-1 + \\alpha}}\n",
       "\\end{align}\n",
       "$\""
      ]
     },
     "execution_count": 11,
     "metadata": {},
     "output_type": "execute_result"
    }
   ],
   "source": [
    "model_steady_states_latex(model_rbc)  # this is the closed form steady state, could instead pass in the state_states_iv to give approximation initial conditions for optimizer instead"
   ]
  },
  {
   "cell_type": "code",
   "execution_count": 12,
   "metadata": {},
   "outputs": [
    {
     "name": "stdout",
     "output_type": "stream",
     "text": [
      "(model_rbc.n_x, model_rbc.n_y, model_rbc.n_ϵ, model_rbc.n_z) = (2, 2, 1, 2)\n"
     ]
    },
    {
     "data": {
      "text/plain": [
       "(2, 2, 1, 2)"
      ]
     },
     "execution_count": 12,
     "metadata": {},
     "output_type": "execute_result"
    }
   ],
   "source": [
    "@show model_rbc.n_x, model_rbc.n_y, model_rbc.n_ϵ, model_rbc.n_z"
   ]
  },
  {
   "cell_type": "markdown",
   "metadata": {},
   "source": [
    "## Solving Perturbations\n",
    "\n",
    "Given a model definition, you can solve the expectational difference equation for a given set of parameters.  All of the `p` defined above must be in either the `p_d` or the `p_f` arguments below.\n",
    "\n",
    "The distinction between these is that the `p_d` parameters will be available for differentiation where the `p_f` will be fixed.  That is, for any parameters in the `p_d` the model will support calculation of gradients of   the perturbation solution.  The only downside with having extra values in `p_d` vs. `p_f` is extra computation.  Otherwise, pass in `nothing` for `p_f` if you are differentiating all of the parameters"
   ]
  },
  {
   "cell_type": "code",
   "execution_count": 34,
   "metadata": {},
   "outputs": [
    {
     "ename": "LoadError",
     "evalue": "UndefVarError: verify_steady_state not defined",
     "output_type": "error",
     "traceback": [
      "UndefVarError: verify_steady_state not defined",
      "",
      "Stacktrace:",
      " [1] top-level scope",
      "   @ show.jl:1047",
      " [2] eval",
      "   @ .\\boot.jl:373 [inlined]",
      " [3] include_string(mapexpr::typeof(REPL.softscope), mod::Module, code::String, filename::String)",
      "   @ Base .\\loading.jl:1196"
     ]
    }
   ],
   "source": [
    "p_f = (ρ = 0.2, δ = 0.02, σ = 0.01, Ω_1 = 0.01) # Fixed parameters\n",
    "p_d = (α = 0.5, β = 0.95) # Pseudo-true values\n",
    "sol = generate_perturbation(model_rbc, p_d, p_f) # Solution to the first-order RBC\n",
    "sol_2 = generate_perturbation(model_rbc, p_d, p_f, Val(2)); # Solution to the second-order RBC\n",
    "@show sol.retcode, sol_2.retcode, verify_steady_state(m, p_d, p_f) # the final call checks that the analytically provided steady-state solution is correct"
   ]
  },
  {
   "cell_type": "markdown",
   "metadata": {},
   "source": [
    "The perturbation solution (in the canonical form described in the top section) can be queried from the resulting solution.  A few examples for the first order solution are below,"
   ]
  },
  {
   "cell_type": "code",
   "execution_count": 35,
   "metadata": {},
   "outputs": [
    {
     "name": "stdout",
     "output_type": "stream",
     "text": [
      "(sol.y, sol.x) = ([5.936252888048732, 6.884057971014497], [47.39025414828823, 0.0])\n",
      "sol.g_x = [0.09579643002416627 0.6746869652586192; 0.07263157894736873 6.884057971014506]\n",
      "(sol.A, sol.B) = ([0.9568351489232028 6.2093710057558855; 1.5076865909646354e-18 0.20000000000000004], [0.0; -0.01;;])\n",
      "(sol.C, sol.D) = ([0.09579643002416627 0.6746869652586192; 1.0 0.0], [0.0001, 0.0001])\n",
      "sol.x_ergodic_var = [0.07005411173180152 0.00015997603451513398; 0.00015997603451513398 0.00010416666666666667]\n"
     ]
    }
   ],
   "source": [
    "@show sol.y, sol.x  # steady state ŷ and x̂  These are the values such that y ≡ ŷ - sol.y and x ≡ x̂ - sol.x\n",
    "@show sol.g_x # the policy\n",
    "@show sol.A, sol.B # the evolution equation of the state, so that x' = A x + B ϵ\n",
    "@show sol.C, sol.D; # the evolution equation of the state, so that z = C x + ν  with variance of ν as D D'.\n",
    "@show sol.x_ergodic_var; # covariance matrix of the ergodic distribution of x, which is mean zero since x ≡ x̂ - x_ss"
   ]
  },
  {
   "cell_type": "markdown",
   "metadata": {},
   "source": [
    "In addition, you can query some metadata about the solution to aid in debugging and generic programming"
   ]
  },
  {
   "cell_type": "code",
   "execution_count": 36,
   "metadata": {},
   "outputs": [
    {
     "name": "stdout",
     "output_type": "stream",
     "text": [
      "(sol.Q, sol.η, sol.Γ) = ([1.0 0.0 0.0 0.0; 0.0 0.0 1.0 0.0], [0; -1;;], [0.01;;])\n",
      "(sol.n_y, sol.n_x, sol.n_ϵ, sol.n_z, sol.n_p) = (2, 2, 1, 2, 6)\n",
      "(sol.x_symbols, sol.y_symbols, sol.p_symbols) = ([:k, :z], [:c, :q], [:α, :β, :ρ, :δ, :σ, :Ω_1])\n"
     ]
    }
   ],
   "source": [
    "@show sol.Q, sol.η, sol.Γ; # various matrices for loading of shocks and observations\n",
    "@show sol.n_y, sol.n_x, sol.n_ϵ, sol.n_z, sol.n_p # sizes of model\n",
    "@show sol.x_symbols, sol.y_symbols, sol.p_symbols; # the order of symbols for the x vector"
   ]
  },
  {
   "cell_type": "markdown",
   "metadata": {},
   "source": [
    "## Functions of Perturbation Solutions (and their Derivatives)\n",
    "The core feature of this library is to enable gradients of the perturbagion solutions with respect to parameters (i.e., anythign in the `p_d` vector).  To show this, we will construct a function which uses the resulting law of motion and finds the gradient of the results with respect to this value."
   ]
  },
  {
   "cell_type": "code",
   "execution_count": 37,
   "metadata": {},
   "outputs": [
    {
     "data": {
      "text/plain": [
       "-0.052773688889493325"
      ]
     },
     "execution_count": 37,
     "metadata": {},
     "output_type": "execute_result"
    }
   ],
   "source": [
    "function IRF(p_d, ϵ_0; m, p_f, steps)\n",
    "    sol = generate_perturbation(m, p_d, p_f) # First-order perturbation by default, pass Val(2) as additional argument to do 2nd order.\n",
    "    x = sol.B * ϵ_0 # start after applying impulse with the model's shock η and Γ(p)\n",
    "    for _ in 1:steps\n",
    "        # A note: you cannot use mutating expressions here with most AD code.  i.e. x .= sol.A * x  wouldn't work\n",
    "        # For more elaborate simuluations, you would want to use DifferenceEquations.jl in practice\n",
    "        x = sol.A * x # iterate forward using first-order observation equation        \n",
    "    end    \n",
    "    return [0, 1]' * sol.C * x # choose the second observable using the model's C observation equation since first-order\n",
    "end\n",
    "\n",
    "m = model_rbc  # ensure notebook executed above\n",
    "p_f = (ρ=0.2, δ=0.02, σ=0.01, Ω_1=0.01) # not differentiated \n",
    "p_d = (α=0.5, β=0.95) # different parameters\n",
    "steps = 10 # steps ahead to forecast\n",
    "ϵ_0 = [1.0] # shock size\n",
    "IRF(p_d, ϵ_0; m, p_f, steps) # Function works on its own, calculating perturbation"
   ]
  },
  {
   "cell_type": "markdown",
   "metadata": {},
   "source": [
    "However, the real benefit is that this function can itself be differentiated, to find gradients with respect to the deep parameters `p_d` and the shock `ϵ_0`"
   ]
  },
  {
   "cell_type": "code",
   "execution_count": 38,
   "metadata": {},
   "outputs": [
    {
     "data": {
      "text/plain": [
       "((α = -0.5810083808068426, β = -1.1823123518725853), [-0.05277368888949331])"
      ]
     },
     "execution_count": 38,
     "metadata": {},
     "output_type": "execute_result"
    }
   ],
   "source": [
    "# Using the Zygote auto-differentiation library already loaded above\n",
    "p_d = (α=0.5, β=0.95) # different parameters\n",
    "ϵ_0 = [1.0] # shock size\n",
    "IRF_grad = gradient((p_d, ϵ_0) -> IRF(p_d, ϵ_0; m, p_f, steps), p_d, ϵ_0) # \"closes\" over the m, p_f, and steps to create a new function, and differentiates it with respect to other arguments"
   ]
  },
  {
   "cell_type": "code",
   "execution_count": 39,
   "metadata": {},
   "outputs": [
    {
     "name": "stdout",
     "output_type": "stream",
     "text": [
      "d/dα IRF(p_d, ϵ0) = -0.5810083808068426, d/dβ IRF(p_d, ϵ0) = -1.1823123518725853, d/dϵ0 IRF(p_d, ϵ0) = [-0.05277368888949331]\n"
     ]
    }
   ],
   "source": [
    "println(\"d/dα IRF(p_d, ϵ0) = $(IRF_grad[1].α), d/dβ IRF(p_d, ϵ0) = $(IRF_grad[1].β), d/dϵ0 IRF(p_d, ϵ0) = $(IRF_grad[2])\")"
   ]
  },
  {
   "cell_type": "markdown",
   "metadata": {},
   "source": [
    "## Using Solution Cache\n",
    "\n",
    "The calculation of the gradients of the perturbation solution is slow relative to the perturbation itself, and both can allocate a significant amount of memory.  If you intend to keep calculating a perturbation a large number of times (e.g., during estimation), then you may want to preallocate this memory and reuse it by passing in a cache."
   ]
  },
  {
   "cell_type": "code",
   "execution_count": 40,
   "metadata": {},
   "outputs": [
    {
     "name": "stdout",
     "output_type": "stream",
     "text": [
      "IRF_cache(p_d, ϵ_0; m, p_f, steps, cache) = -0.052773688889493325\n"
     ]
    },
    {
     "data": {
      "text/plain": [
       "((α = -0.5810083808068426, β = -1.1823123518725853), [-0.05277368888949331])"
      ]
     },
     "execution_count": 40,
     "metadata": {},
     "output_type": "execute_result"
    }
   ],
   "source": [
    "function IRF_cache(p_d, ϵ_0; m, p_f, steps, cache)\n",
    "    sol = generate_perturbation(m, p_d, p_f; cache)  # only difference is passing in a pre-allocated cache to the perturbation solver\n",
    "    x = sol.B * ϵ_0\n",
    "    for _ in 1:steps\n",
    "        x = sol.A * x\n",
    "    end    \n",
    "    return [0, 1]' * sol.C * x\n",
    "end\n",
    "\n",
    "# To call it\n",
    "m = model_rbc  # ensure notebook executed above\n",
    "p_d = (α=0.5, β=0.95)  # Differentiated parameters\n",
    "p_f = (ρ=0.2, δ=0.02, σ=0.01, Ω_1=0.01)\n",
    "steps = 10 # steps ahead to forecast\n",
    "ϵ_0 = [1.0] # shock size\n",
    "cache = SolverCache(m, Val(1), p_d)   # the p_d passed into the cache just reuses the symbols, and the values in p_d are unused\n",
    "@show IRF_cache(p_d, ϵ_0; m, p_f, steps, cache)\n",
    "gradient((p_d, ϵ_0) -> IRF_cache(p_d, ϵ_0; m, p_f, steps, cache), p_d, ϵ_0)  # as before, do not try to differentiate with respect to the cache values itself."
   ]
  },
  {
   "cell_type": "code",
   "execution_count": 41,
   "metadata": {},
   "outputs": [
    {
     "name": "stdout",
     "output_type": "stream",
     "text": [
      "  92.500 μs (214 allocations: 86.59 KiB)\n",
      "  86.500 μs (125 allocations: 75.72 KiB)\n"
     ]
    },
    {
     "data": {
      "text/plain": [
       "-0.052773688889493325"
      ]
     },
     "execution_count": 41,
     "metadata": {},
     "output_type": "execute_result"
    }
   ],
   "source": [
    "# However, in a problem this small you will not see much of a difference in performance\n",
    "@btime IRF($p_d, $ϵ_0; m = $m, p_f = $p_f, steps = $steps)\n",
    "@btime IRF_cache($p_d, $ϵ_0; m = $m, p_f = $p_f, steps = $steps, cache = $cache)"
   ]
  },
  {
   "cell_type": "markdown",
   "metadata": {},
   "source": [
    "## Simulating with DifferenceEquations.jl\n",
    "The manual iteration of the state-space model from the perturbation solution is possible, but can be verbose and difficult to achieve efficiency for gradients.  One benefit of this package is that it creates state-space models in a form consistent with [DifferenceEquations.jl](https://github.com/SciML/DifferenceEquations.jl) which can be easily simulated, visualized, and estimated.\n",
    "\n",
    "To do this, we will calculate a perturbation solution then simulate it for various `x_0` drawn from the ergodic solution."
   ]
  },
  {
   "cell_type": "code",
   "execution_count": 42,
   "metadata": {},
   "outputs": [
    {
     "data": {
      "image/svg+xml": [
       "<?xml version=\"1.0\" encoding=\"utf-8\"?>\n",
       "<svg xmlns=\"http://www.w3.org/2000/svg\" xmlns:xlink=\"http://www.w3.org/1999/xlink\" width=\"600\" height=\"400\" viewBox=\"0 0 2400 1600\">\n",
       "<defs>\n",
       "  <clipPath id=\"clip280\">\n",
       "    <rect x=\"0\" y=\"0\" width=\"2400\" height=\"1600\"/>\n",
       "  </clipPath>\n",
       "</defs>\n",
       "<path clip-path=\"url(#clip280)\" d=\"\n",
       "M0 1600 L2400 1600 L2400 0 L0 0  Z\n",
       "  \" fill=\"#ffffff\" fill-rule=\"evenodd\" fill-opacity=\"1\"/>\n",
       "<defs>\n",
       "  <clipPath id=\"clip281\">\n",
       "    <rect x=\"480\" y=\"0\" width=\"1681\" height=\"1600\"/>\n",
       "  </clipPath>\n",
       "</defs>\n",
       "<path clip-path=\"url(#clip280)\" d=\"\n",
       "M156.112 1423.18 L2352.76 1423.18 L2352.76 47.2441 L156.112 47.2441  Z\n",
       "  \" fill=\"#ffffff\" fill-rule=\"evenodd\" fill-opacity=\"1\"/>\n",
       "<defs>\n",
       "  <clipPath id=\"clip282\">\n",
       "    <rect x=\"156\" y=\"47\" width=\"2198\" height=\"1377\"/>\n",
       "  </clipPath>\n",
       "</defs>\n",
       "<polyline clip-path=\"url(#clip282)\" style=\"stroke:#000000; stroke-linecap:butt; stroke-linejoin:round; stroke-width:2; stroke-opacity:0.1; fill:none\" points=\"\n",
       "  156.112,1423.18 156.112,47.2441 \n",
       "  \"/>\n",
       "<polyline clip-path=\"url(#clip282)\" style=\"stroke:#000000; stroke-linecap:butt; stroke-linejoin:round; stroke-width:2; stroke-opacity:0.1; fill:none\" points=\"\n",
       "  705.273,1423.18 705.273,47.2441 \n",
       "  \"/>\n",
       "<polyline clip-path=\"url(#clip282)\" style=\"stroke:#000000; stroke-linecap:butt; stroke-linejoin:round; stroke-width:2; stroke-opacity:0.1; fill:none\" points=\"\n",
       "  1254.43,1423.18 1254.43,47.2441 \n",
       "  \"/>\n",
       "<polyline clip-path=\"url(#clip282)\" style=\"stroke:#000000; stroke-linecap:butt; stroke-linejoin:round; stroke-width:2; stroke-opacity:0.1; fill:none\" points=\"\n",
       "  1803.59,1423.18 1803.59,47.2441 \n",
       "  \"/>\n",
       "<polyline clip-path=\"url(#clip282)\" style=\"stroke:#000000; stroke-linecap:butt; stroke-linejoin:round; stroke-width:2; stroke-opacity:0.1; fill:none\" points=\"\n",
       "  2352.76,1423.18 2352.76,47.2441 \n",
       "  \"/>\n",
       "<polyline clip-path=\"url(#clip280)\" style=\"stroke:#000000; stroke-linecap:butt; stroke-linejoin:round; stroke-width:4; stroke-opacity:1; fill:none\" points=\"\n",
       "  156.112,1423.18 2352.76,1423.18 \n",
       "  \"/>\n",
       "<polyline clip-path=\"url(#clip280)\" style=\"stroke:#000000; stroke-linecap:butt; stroke-linejoin:round; stroke-width:4; stroke-opacity:1; fill:none\" points=\"\n",
       "  156.112,1423.18 156.112,1404.28 \n",
       "  \"/>\n",
       "<polyline clip-path=\"url(#clip280)\" style=\"stroke:#000000; stroke-linecap:butt; stroke-linejoin:round; stroke-width:4; stroke-opacity:1; fill:none\" points=\"\n",
       "  705.273,1423.18 705.273,1404.28 \n",
       "  \"/>\n",
       "<polyline clip-path=\"url(#clip280)\" style=\"stroke:#000000; stroke-linecap:butt; stroke-linejoin:round; stroke-width:4; stroke-opacity:1; fill:none\" points=\"\n",
       "  1254.43,1423.18 1254.43,1404.28 \n",
       "  \"/>\n",
       "<polyline clip-path=\"url(#clip280)\" style=\"stroke:#000000; stroke-linecap:butt; stroke-linejoin:round; stroke-width:4; stroke-opacity:1; fill:none\" points=\"\n",
       "  1803.59,1423.18 1803.59,1404.28 \n",
       "  \"/>\n",
       "<polyline clip-path=\"url(#clip280)\" style=\"stroke:#000000; stroke-linecap:butt; stroke-linejoin:round; stroke-width:4; stroke-opacity:1; fill:none\" points=\"\n",
       "  2352.76,1423.18 2352.76,1404.28 \n",
       "  \"/>\n",
       "<path clip-path=\"url(#clip280)\" d=\"M156.112 1454.1 Q152.501 1454.1 150.672 1457.66 Q148.867 1461.2 148.867 1468.33 Q148.867 1475.44 150.672 1479.01 Q152.501 1482.55 156.112 1482.55 Q159.746 1482.55 161.552 1479.01 Q163.381 1475.44 163.381 1468.33 Q163.381 1461.2 161.552 1457.66 Q159.746 1454.1 156.112 1454.1 M156.112 1450.39 Q161.922 1450.39 164.978 1455 Q168.057 1459.58 168.057 1468.33 Q168.057 1477.06 164.978 1481.67 Q161.922 1486.25 156.112 1486.25 Q150.302 1486.25 147.223 1481.67 Q144.168 1477.06 144.168 1468.33 Q144.168 1459.58 147.223 1455 Q150.302 1450.39 156.112 1450.39 Z\" fill=\"#000000\" fill-rule=\"evenodd\" fill-opacity=\"1\" /><path clip-path=\"url(#clip280)\" d=\"M695.551 1451.02 L713.907 1451.02 L713.907 1454.96 L699.833 1454.96 L699.833 1463.43 Q700.852 1463.08 701.87 1462.92 Q702.889 1462.73 703.907 1462.73 Q709.694 1462.73 713.074 1465.9 Q716.454 1469.08 716.454 1474.49 Q716.454 1480.07 712.981 1483.17 Q709.509 1486.25 703.19 1486.25 Q701.014 1486.25 698.745 1485.88 Q696.5 1485.51 694.093 1484.77 L694.093 1480.07 Q696.176 1481.2 698.398 1481.76 Q700.62 1482.32 703.097 1482.32 Q707.102 1482.32 709.44 1480.21 Q711.778 1478.1 711.778 1474.49 Q711.778 1470.88 709.44 1468.77 Q707.102 1466.67 703.097 1466.67 Q701.222 1466.67 699.347 1467.08 Q697.495 1467.5 695.551 1468.38 L695.551 1451.02 Z\" fill=\"#000000\" fill-rule=\"evenodd\" fill-opacity=\"1\" /><path clip-path=\"url(#clip280)\" d=\"M1229.12 1481.64 L1236.76 1481.64 L1236.76 1455.28 L1228.45 1456.95 L1228.45 1452.69 L1236.71 1451.02 L1241.39 1451.02 L1241.39 1481.64 L1249.03 1481.64 L1249.03 1485.58 L1229.12 1485.58 L1229.12 1481.64 Z\" fill=\"#000000\" fill-rule=\"evenodd\" fill-opacity=\"1\" /><path clip-path=\"url(#clip280)\" d=\"M1268.47 1454.1 Q1264.86 1454.1 1263.03 1457.66 Q1261.23 1461.2 1261.23 1468.33 Q1261.23 1475.44 1263.03 1479.01 Q1264.86 1482.55 1268.47 1482.55 Q1272.11 1482.55 1273.91 1479.01 Q1275.74 1475.44 1275.74 1468.33 Q1275.74 1461.2 1273.91 1457.66 Q1272.11 1454.1 1268.47 1454.1 M1268.47 1450.39 Q1274.28 1450.39 1277.34 1455 Q1280.42 1459.58 1280.42 1468.33 Q1280.42 1477.06 1277.34 1481.67 Q1274.28 1486.25 1268.47 1486.25 Q1262.66 1486.25 1259.58 1481.67 Q1256.53 1477.06 1256.53 1468.33 Q1256.53 1459.58 1259.58 1455 Q1262.66 1450.39 1268.47 1450.39 Z\" fill=\"#000000\" fill-rule=\"evenodd\" fill-opacity=\"1\" /><path clip-path=\"url(#clip280)\" d=\"M1778.78 1481.64 L1786.42 1481.64 L1786.42 1455.28 L1778.11 1456.95 L1778.11 1452.69 L1786.37 1451.02 L1791.05 1451.02 L1791.05 1481.64 L1798.69 1481.64 L1798.69 1485.58 L1778.78 1485.58 L1778.78 1481.64 Z\" fill=\"#000000\" fill-rule=\"evenodd\" fill-opacity=\"1\" /><path clip-path=\"url(#clip280)\" d=\"M1808.18 1451.02 L1826.53 1451.02 L1826.53 1454.96 L1812.46 1454.96 L1812.46 1463.43 Q1813.48 1463.08 1814.5 1462.92 Q1815.52 1462.73 1816.53 1462.73 Q1822.32 1462.73 1825.7 1465.9 Q1829.08 1469.08 1829.08 1474.49 Q1829.08 1480.07 1825.61 1483.17 Q1822.14 1486.25 1815.82 1486.25 Q1813.64 1486.25 1811.37 1485.88 Q1809.13 1485.51 1806.72 1484.77 L1806.72 1480.07 Q1808.8 1481.2 1811.03 1481.76 Q1813.25 1482.32 1815.72 1482.32 Q1819.73 1482.32 1822.07 1480.21 Q1824.41 1478.1 1824.41 1474.49 Q1824.41 1470.88 1822.07 1468.77 Q1819.73 1466.67 1815.72 1466.67 Q1813.85 1466.67 1811.97 1467.08 Q1810.12 1467.5 1808.18 1468.38 L1808.18 1451.02 Z\" fill=\"#000000\" fill-rule=\"evenodd\" fill-opacity=\"1\" /><path clip-path=\"url(#clip280)\" d=\"M2331.53 1481.64 L2347.85 1481.64 L2347.85 1485.58 L2325.9 1485.58 L2325.9 1481.64 Q2328.57 1478.89 2333.15 1474.26 Q2337.76 1469.61 2338.94 1468.27 Q2341.18 1465.74 2342.06 1464.01 Q2342.96 1462.25 2342.96 1460.56 Q2342.96 1457.8 2341.02 1456.07 Q2339.1 1454.33 2336 1454.33 Q2333.8 1454.33 2331.34 1455.09 Q2328.91 1455.86 2326.14 1457.41 L2326.14 1452.69 Q2328.96 1451.55 2331.41 1450.97 Q2333.87 1450.39 2335.9 1450.39 Q2341.27 1450.39 2344.47 1453.08 Q2347.66 1455.77 2347.66 1460.26 Q2347.66 1462.39 2346.85 1464.31 Q2346.07 1466.2 2343.96 1468.8 Q2343.38 1469.47 2340.28 1472.69 Q2337.18 1475.88 2331.53 1481.64 Z\" fill=\"#000000\" fill-rule=\"evenodd\" fill-opacity=\"1\" /><path clip-path=\"url(#clip280)\" d=\"M2367.66 1454.1 Q2364.05 1454.1 2362.22 1457.66 Q2360.42 1461.2 2360.42 1468.33 Q2360.42 1475.44 2362.22 1479.01 Q2364.05 1482.55 2367.66 1482.55 Q2371.3 1482.55 2373.1 1479.01 Q2374.93 1475.44 2374.93 1468.33 Q2374.93 1461.2 2373.1 1457.66 Q2371.3 1454.1 2367.66 1454.1 M2367.66 1450.39 Q2373.47 1450.39 2376.53 1455 Q2379.61 1459.58 2379.61 1468.33 Q2379.61 1477.06 2376.53 1481.67 Q2373.47 1486.25 2367.66 1486.25 Q2361.85 1486.25 2358.77 1481.67 Q2355.72 1477.06 2355.72 1468.33 Q2355.72 1459.58 2358.77 1455 Q2361.85 1450.39 2367.66 1450.39 Z\" fill=\"#000000\" fill-rule=\"evenodd\" fill-opacity=\"1\" /><path clip-path=\"url(#clip280)\" d=\"M1253.5 1522.27 L1253.5 1532.4 L1265.56 1532.4 L1265.56 1536.95 L1253.5 1536.95 L1253.5 1556.3 Q1253.5 1560.66 1254.67 1561.9 Q1255.88 1563.14 1259.54 1563.14 L1265.56 1563.14 L1265.56 1568.04 L1259.54 1568.04 Q1252.76 1568.04 1250.18 1565.53 Q1247.61 1562.98 1247.61 1556.3 L1247.61 1536.95 L1243.31 1536.95 L1243.31 1532.4 L1247.61 1532.4 L1247.61 1522.27 L1253.5 1522.27 Z\" fill=\"#000000\" fill-rule=\"evenodd\" fill-opacity=\"1\" /><polyline clip-path=\"url(#clip282)\" style=\"stroke:#000000; stroke-linecap:butt; stroke-linejoin:round; stroke-width:2; stroke-opacity:0.1; fill:none\" points=\"\n",
       "  156.112,1236.37 2352.76,1236.37 \n",
       "  \"/>\n",
       "<polyline clip-path=\"url(#clip282)\" style=\"stroke:#000000; stroke-linecap:butt; stroke-linejoin:round; stroke-width:2; stroke-opacity:0.1; fill:none\" points=\"\n",
       "  156.112,910.464 2352.76,910.464 \n",
       "  \"/>\n",
       "<polyline clip-path=\"url(#clip282)\" style=\"stroke:#000000; stroke-linecap:butt; stroke-linejoin:round; stroke-width:2; stroke-opacity:0.1; fill:none\" points=\"\n",
       "  156.112,584.554 2352.76,584.554 \n",
       "  \"/>\n",
       "<polyline clip-path=\"url(#clip282)\" style=\"stroke:#000000; stroke-linecap:butt; stroke-linejoin:round; stroke-width:2; stroke-opacity:0.1; fill:none\" points=\"\n",
       "  156.112,258.644 2352.76,258.644 \n",
       "  \"/>\n",
       "<polyline clip-path=\"url(#clip280)\" style=\"stroke:#000000; stroke-linecap:butt; stroke-linejoin:round; stroke-width:4; stroke-opacity:1; fill:none\" points=\"\n",
       "  156.112,1423.18 156.112,47.2441 \n",
       "  \"/>\n",
       "<polyline clip-path=\"url(#clip280)\" style=\"stroke:#000000; stroke-linecap:butt; stroke-linejoin:round; stroke-width:4; stroke-opacity:1; fill:none\" points=\"\n",
       "  156.112,1236.37 175.01,1236.37 \n",
       "  \"/>\n",
       "<polyline clip-path=\"url(#clip280)\" style=\"stroke:#000000; stroke-linecap:butt; stroke-linejoin:round; stroke-width:4; stroke-opacity:1; fill:none\" points=\"\n",
       "  156.112,910.464 175.01,910.464 \n",
       "  \"/>\n",
       "<polyline clip-path=\"url(#clip280)\" style=\"stroke:#000000; stroke-linecap:butt; stroke-linejoin:round; stroke-width:4; stroke-opacity:1; fill:none\" points=\"\n",
       "  156.112,584.554 175.01,584.554 \n",
       "  \"/>\n",
       "<polyline clip-path=\"url(#clip280)\" style=\"stroke:#000000; stroke-linecap:butt; stroke-linejoin:round; stroke-width:4; stroke-opacity:1; fill:none\" points=\"\n",
       "  156.112,258.644 175.01,258.644 \n",
       "  \"/>\n",
       "<path clip-path=\"url(#clip280)\" d=\"M62.9365 1222.17 Q59.3254 1222.17 57.4967 1225.74 Q55.6912 1229.28 55.6912 1236.41 Q55.6912 1243.51 57.4967 1247.08 Q59.3254 1250.62 62.9365 1250.62 Q66.5707 1250.62 68.3763 1247.08 Q70.205 1243.51 70.205 1236.41 Q70.205 1229.28 68.3763 1225.74 Q66.5707 1222.17 62.9365 1222.17 M62.9365 1218.47 Q68.7467 1218.47 71.8022 1223.07 Q74.8809 1227.66 74.8809 1236.41 Q74.8809 1245.13 71.8022 1249.74 Q68.7467 1254.32 62.9365 1254.32 Q57.1264 1254.32 54.0477 1249.74 Q50.9921 1245.13 50.9921 1236.41 Q50.9921 1227.66 54.0477 1223.07 Q57.1264 1218.47 62.9365 1218.47 Z\" fill=\"#000000\" fill-rule=\"evenodd\" fill-opacity=\"1\" /><path clip-path=\"url(#clip280)\" d=\"M83.0984 1247.77 L87.9827 1247.77 L87.9827 1253.65 L83.0984 1253.65 L83.0984 1247.77 Z\" fill=\"#000000\" fill-rule=\"evenodd\" fill-opacity=\"1\" /><path clip-path=\"url(#clip280)\" d=\"M108.168 1222.17 Q104.557 1222.17 102.728 1225.74 Q100.922 1229.28 100.922 1236.41 Q100.922 1243.51 102.728 1247.08 Q104.557 1250.62 108.168 1250.62 Q111.802 1250.62 113.608 1247.08 Q115.436 1243.51 115.436 1236.41 Q115.436 1229.28 113.608 1225.74 Q111.802 1222.17 108.168 1222.17 M108.168 1218.47 Q113.978 1218.47 117.033 1223.07 Q120.112 1227.66 120.112 1236.41 Q120.112 1245.13 117.033 1249.74 Q113.978 1254.32 108.168 1254.32 Q102.358 1254.32 99.2789 1249.74 Q96.2234 1245.13 96.2234 1236.41 Q96.2234 1227.66 99.2789 1223.07 Q102.358 1218.47 108.168 1218.47 Z\" fill=\"#000000\" fill-rule=\"evenodd\" fill-opacity=\"1\" /><path clip-path=\"url(#clip280)\" d=\"M64.1634 896.262 Q60.5523 896.262 58.7236 899.827 Q56.918 903.369 56.918 910.498 Q56.918 917.605 58.7236 921.17 Q60.5523 924.711 64.1634 924.711 Q67.7976 924.711 69.6031 921.17 Q71.4318 917.605 71.4318 910.498 Q71.4318 903.369 69.6031 899.827 Q67.7976 896.262 64.1634 896.262 M64.1634 892.559 Q69.9735 892.559 73.029 897.165 Q76.1077 901.748 76.1077 910.498 Q76.1077 919.225 73.029 923.832 Q69.9735 928.415 64.1634 928.415 Q58.3532 928.415 55.2745 923.832 Q52.219 919.225 52.219 910.498 Q52.219 901.748 55.2745 897.165 Q58.3532 892.559 64.1634 892.559 Z\" fill=\"#000000\" fill-rule=\"evenodd\" fill-opacity=\"1\" /><path clip-path=\"url(#clip280)\" d=\"M84.3253 921.864 L89.2095 921.864 L89.2095 927.744 L84.3253 927.744 L84.3253 921.864 Z\" fill=\"#000000\" fill-rule=\"evenodd\" fill-opacity=\"1\" /><path clip-path=\"url(#clip280)\" d=\"M100.205 923.809 L107.844 923.809 L107.844 897.443 L99.5335 899.11 L99.5335 894.85 L107.797 893.184 L112.473 893.184 L112.473 923.809 L120.112 923.809 L120.112 927.744 L100.205 927.744 L100.205 923.809 Z\" fill=\"#000000\" fill-rule=\"evenodd\" fill-opacity=\"1\" /><path clip-path=\"url(#clip280)\" d=\"M64.5337 570.353 Q60.9226 570.353 59.0939 573.918 Q57.2884 577.459 57.2884 584.589 Q57.2884 591.695 59.0939 595.26 Q60.9226 598.802 64.5337 598.802 Q68.168 598.802 69.9735 595.26 Q71.8022 591.695 71.8022 584.589 Q71.8022 577.459 69.9735 573.918 Q68.168 570.353 64.5337 570.353 M64.5337 566.649 Q70.3439 566.649 73.3994 571.256 Q76.4781 575.839 76.4781 584.589 Q76.4781 593.316 73.3994 597.922 Q70.3439 602.505 64.5337 602.505 Q58.7236 602.505 55.6449 597.922 Q52.5893 593.316 52.5893 584.589 Q52.5893 575.839 55.6449 571.256 Q58.7236 566.649 64.5337 566.649 Z\" fill=\"#000000\" fill-rule=\"evenodd\" fill-opacity=\"1\" /><path clip-path=\"url(#clip280)\" d=\"M84.6956 595.954 L89.5799 595.954 L89.5799 601.834 L84.6956 601.834 L84.6956 595.954 Z\" fill=\"#000000\" fill-rule=\"evenodd\" fill-opacity=\"1\" /><path clip-path=\"url(#clip280)\" d=\"M103.793 597.899 L120.112 597.899 L120.112 601.834 L98.1678 601.834 L98.1678 597.899 Q100.83 595.144 105.413 590.515 Q110.02 585.862 111.2 584.519 Q113.445 581.996 114.325 580.26 Q115.228 578.501 115.228 576.811 Q115.228 574.056 113.283 572.32 Q111.362 570.584 108.26 570.584 Q106.061 570.584 103.608 571.348 Q101.177 572.112 98.3993 573.663 L98.3993 568.941 Q101.223 567.806 103.677 567.228 Q106.131 566.649 108.168 566.649 Q113.538 566.649 116.733 569.334 Q119.927 572.019 119.927 576.51 Q119.927 578.64 119.117 580.561 Q118.33 582.459 116.223 585.052 Q115.645 585.723 112.543 588.941 Q109.441 592.135 103.793 597.899 Z\" fill=\"#000000\" fill-rule=\"evenodd\" fill-opacity=\"1\" /><path clip-path=\"url(#clip280)\" d=\"M63.5847 244.443 Q59.9736 244.443 58.1449 248.008 Q56.3393 251.55 56.3393 258.679 Q56.3393 265.786 58.1449 269.35 Q59.9736 272.892 63.5847 272.892 Q67.2189 272.892 69.0244 269.35 Q70.8531 265.786 70.8531 258.679 Q70.8531 251.55 69.0244 248.008 Q67.2189 244.443 63.5847 244.443 M63.5847 240.739 Q69.3948 240.739 72.4503 245.346 Q75.529 249.929 75.529 258.679 Q75.529 267.406 72.4503 272.012 Q69.3948 276.596 63.5847 276.596 Q57.7745 276.596 54.6958 272.012 Q51.6403 267.406 51.6403 258.679 Q51.6403 249.929 54.6958 245.346 Q57.7745 240.739 63.5847 240.739 Z\" fill=\"#000000\" fill-rule=\"evenodd\" fill-opacity=\"1\" /><path clip-path=\"url(#clip280)\" d=\"M83.7466 270.045 L88.6308 270.045 L88.6308 275.924 L83.7466 275.924 L83.7466 270.045 Z\" fill=\"#000000\" fill-rule=\"evenodd\" fill-opacity=\"1\" /><path clip-path=\"url(#clip280)\" d=\"M112.983 257.29 Q116.339 258.008 118.214 260.276 Q120.112 262.545 120.112 265.878 Q120.112 270.994 116.594 273.795 Q113.075 276.596 106.594 276.596 Q104.418 276.596 102.103 276.156 Q99.8113 275.739 97.3576 274.883 L97.3576 270.369 Q99.3021 271.503 101.617 272.082 Q103.932 272.661 106.455 272.661 Q110.853 272.661 113.145 270.924 Q115.459 269.188 115.459 265.878 Q115.459 262.823 113.307 261.11 Q111.177 259.374 107.358 259.374 L103.33 259.374 L103.33 255.531 L107.543 255.531 Q110.992 255.531 112.82 254.165 Q114.649 252.776 114.649 250.184 Q114.649 247.522 112.751 246.11 Q110.876 244.675 107.358 244.675 Q105.436 244.675 103.237 245.091 Q101.038 245.508 98.3993 246.388 L98.3993 242.221 Q101.061 241.48 103.376 241.11 Q105.714 240.739 107.774 240.739 Q113.098 240.739 116.2 243.17 Q119.302 245.577 119.302 249.698 Q119.302 252.568 117.658 254.559 Q116.015 256.526 112.983 257.29 Z\" fill=\"#000000\" fill-rule=\"evenodd\" fill-opacity=\"1\" /><polyline clip-path=\"url(#clip282)\" style=\"stroke:#009af9; stroke-linecap:butt; stroke-linejoin:round; stroke-width:4; stroke-opacity:1; fill:none\" points=\"\n",
       "  156.112,1384.24 265.944,1209.39 375.777,846.942 485.609,814.093 595.441,798.053 705.273,777.032 815.105,609.639 924.937,441.292 1034.77,329.401 1144.6,86.1857 \n",
       "  1254.43,408.093 1364.27,685.78 1474.1,903.934 1583.93,729.431 1693.76,674.769 1803.59,646.301 1913.43,612.083 2023.26,672.836 2133.09,894.655 2242.92,1154.28 \n",
       "  2352.76,1176.07 \n",
       "  \"/>\n",
       "<polyline clip-path=\"url(#clip282)\" style=\"stroke:#e26f46; stroke-linecap:butt; stroke-linejoin:round; stroke-width:4; stroke-opacity:1; fill:none\" points=\"\n",
       "  156.112,1209.24 265.944,1177.81 375.777,1228.38 485.609,1230.85 595.441,1229.94 705.273,1206.22 815.105,1204.9 924.937,1212.83 1034.77,1190.9 1144.6,1280.22 \n",
       "  1254.43,1275.34 1364.27,1267.68 1474.1,1205.96 1583.93,1224.05 1693.76,1227.88 1803.59,1226.76 1913.43,1241.82 2023.26,1268.18 2133.09,1275.81 2242.92,1239.31 \n",
       "  2352.76,1244.02 \n",
       "  \"/>\n",
       "<path clip-path=\"url(#clip280)\" d=\"\n",
       "M2012.29 248.629 L2279.53 248.629 L2279.53 93.1086 L2012.29 93.1086  Z\n",
       "  \" fill=\"#ffffff\" fill-rule=\"evenodd\" fill-opacity=\"1\"/>\n",
       "<polyline clip-path=\"url(#clip280)\" style=\"stroke:#000000; stroke-linecap:butt; stroke-linejoin:round; stroke-width:4; stroke-opacity:1; fill:none\" points=\"\n",
       "  2012.29,248.629 2279.53,248.629 2279.53,93.1086 2012.29,93.1086 2012.29,248.629 \n",
       "  \"/>\n",
       "<polyline clip-path=\"url(#clip280)\" style=\"stroke:#009af9; stroke-linecap:butt; stroke-linejoin:round; stroke-width:4; stroke-opacity:1; fill:none\" points=\"\n",
       "  2036.7,144.949 2183.14,144.949 \n",
       "  \"/>\n",
       "<path clip-path=\"url(#clip280)\" d=\"M2228.06 137.298 L2228.06 141.28 Q2226.25 140.284 2224.42 139.798 Q2222.62 139.289 2220.77 139.289 Q2216.62 139.289 2214.33 141.928 Q2212.04 144.544 2212.04 149.289 Q2212.04 154.034 2214.33 156.673 Q2216.62 159.289 2220.77 159.289 Q2222.62 159.289 2224.42 158.803 Q2226.25 158.293 2228.06 157.298 L2228.06 161.233 Q2226.28 162.067 2224.35 162.483 Q2222.46 162.9 2220.3 162.9 Q2214.45 162.9 2211 159.219 Q2207.55 155.539 2207.55 149.289 Q2207.55 142.946 2211.02 139.312 Q2214.52 135.678 2220.58 135.678 Q2222.55 135.678 2224.42 136.095 Q2226.3 136.488 2228.06 137.298 Z\" fill=\"#000000\" fill-rule=\"evenodd\" fill-opacity=\"1\" /><polyline clip-path=\"url(#clip280)\" style=\"stroke:#e26f46; stroke-linecap:butt; stroke-linejoin:round; stroke-width:4; stroke-opacity:1; fill:none\" points=\"\n",
       "  2036.7,196.789 2183.14,196.789 \n",
       "  \"/>\n",
       "<path clip-path=\"url(#clip280)\" d=\"M2211.95 201.129 Q2211.95 205.828 2213.87 208.513 Q2215.81 211.175 2219.19 211.175 Q2222.57 211.175 2224.52 208.513 Q2226.46 205.828 2226.46 201.129 Q2226.46 196.43 2224.52 193.768 Q2222.57 191.083 2219.19 191.083 Q2215.81 191.083 2213.87 193.768 Q2211.95 196.43 2211.95 201.129 M2226.46 210.18 Q2225.12 212.495 2223.06 213.629 Q2221.02 214.74 2218.15 214.74 Q2213.45 214.74 2210.49 210.99 Q2207.55 207.24 2207.55 201.129 Q2207.55 195.018 2210.49 191.268 Q2213.45 187.518 2218.15 187.518 Q2221.02 187.518 2223.06 188.652 Q2225.12 189.763 2226.46 192.078 L2226.46 188.143 L2230.72 188.143 L2230.72 223.93 L2226.46 223.93 L2226.46 210.18 Z\" fill=\"#000000\" fill-rule=\"evenodd\" fill-opacity=\"1\" /></svg>\n"
      ]
     },
     "execution_count": 42,
     "metadata": {},
     "output_type": "execute_result"
    }
   ],
   "source": [
    "p_f = (ρ = 0.2, δ = 0.02, σ = 0.01, Ω_1 = 0.01) # Fixed parameters\n",
    "p_d = (α = 0.5, β = 0.95) # Pseudo-true values\n",
    "m = model_rbc  # ensure notebook executed above\n",
    "sol = generate_perturbation(m, p_d, p_f) # Solution to the first-order RBC\n",
    "\n",
    "# Simulate T observations from a random initial condition\n",
    "T = 20\n",
    "\n",
    "# draw from ergodic distribution for the initial condition\n",
    "x_iv = MvNormal(sol.x_ergodic_var)\n",
    "problem = LinearStateSpaceProblem(sol, x_iv, (0, T))\n",
    "plot(solve(problem))"
   ]
  },
  {
   "cell_type": "markdown",
   "metadata": {},
   "source": [
    "The `LinearStateSpaceProblem` type is automatically constructed from the underlying perturbation.  However, we can override any of these options, or pass in our own noise rather than simulate it for a particular experiment"
   ]
  },
  {
   "cell_type": "code",
   "execution_count": 43,
   "metadata": {},
   "outputs": [
    {
     "data": {
      "image/svg+xml": [
       "<?xml version=\"1.0\" encoding=\"utf-8\"?>\n",
       "<svg xmlns=\"http://www.w3.org/2000/svg\" xmlns:xlink=\"http://www.w3.org/1999/xlink\" width=\"600\" height=\"400\" viewBox=\"0 0 2400 1600\">\n",
       "<defs>\n",
       "  <clipPath id=\"clip320\">\n",
       "    <rect x=\"0\" y=\"0\" width=\"2400\" height=\"1600\"/>\n",
       "  </clipPath>\n",
       "</defs>\n",
       "<path clip-path=\"url(#clip320)\" d=\"\n",
       "M0 1600 L2400 1600 L2400 0 L0 0  Z\n",
       "  \" fill=\"#ffffff\" fill-rule=\"evenodd\" fill-opacity=\"1\"/>\n",
       "<defs>\n",
       "  <clipPath id=\"clip321\">\n",
       "    <rect x=\"480\" y=\"0\" width=\"1681\" height=\"1600\"/>\n",
       "  </clipPath>\n",
       "</defs>\n",
       "<path clip-path=\"url(#clip320)\" d=\"\n",
       "M224.584 1423.18 L2352.76 1423.18 L2352.76 47.2441 L224.584 47.2441  Z\n",
       "  \" fill=\"#ffffff\" fill-rule=\"evenodd\" fill-opacity=\"1\"/>\n",
       "<defs>\n",
       "  <clipPath id=\"clip322\">\n",
       "    <rect x=\"224\" y=\"47\" width=\"2129\" height=\"1377\"/>\n",
       "  </clipPath>\n",
       "</defs>\n",
       "<polyline clip-path=\"url(#clip322)\" style=\"stroke:#000000; stroke-linecap:butt; stroke-linejoin:round; stroke-width:2; stroke-opacity:0.1; fill:none\" points=\"\n",
       "  224.584,1423.18 224.584,47.2441 \n",
       "  \"/>\n",
       "<polyline clip-path=\"url(#clip322)\" style=\"stroke:#000000; stroke-linecap:butt; stroke-linejoin:round; stroke-width:2; stroke-opacity:0.1; fill:none\" points=\"\n",
       "  756.627,1423.18 756.627,47.2441 \n",
       "  \"/>\n",
       "<polyline clip-path=\"url(#clip322)\" style=\"stroke:#000000; stroke-linecap:butt; stroke-linejoin:round; stroke-width:2; stroke-opacity:0.1; fill:none\" points=\"\n",
       "  1288.67,1423.18 1288.67,47.2441 \n",
       "  \"/>\n",
       "<polyline clip-path=\"url(#clip322)\" style=\"stroke:#000000; stroke-linecap:butt; stroke-linejoin:round; stroke-width:2; stroke-opacity:0.1; fill:none\" points=\"\n",
       "  1820.71,1423.18 1820.71,47.2441 \n",
       "  \"/>\n",
       "<polyline clip-path=\"url(#clip322)\" style=\"stroke:#000000; stroke-linecap:butt; stroke-linejoin:round; stroke-width:2; stroke-opacity:0.1; fill:none\" points=\"\n",
       "  2352.76,1423.18 2352.76,47.2441 \n",
       "  \"/>\n",
       "<polyline clip-path=\"url(#clip320)\" style=\"stroke:#000000; stroke-linecap:butt; stroke-linejoin:round; stroke-width:4; stroke-opacity:1; fill:none\" points=\"\n",
       "  224.584,1423.18 2352.76,1423.18 \n",
       "  \"/>\n",
       "<polyline clip-path=\"url(#clip320)\" style=\"stroke:#000000; stroke-linecap:butt; stroke-linejoin:round; stroke-width:4; stroke-opacity:1; fill:none\" points=\"\n",
       "  224.584,1423.18 224.584,1404.28 \n",
       "  \"/>\n",
       "<polyline clip-path=\"url(#clip320)\" style=\"stroke:#000000; stroke-linecap:butt; stroke-linejoin:round; stroke-width:4; stroke-opacity:1; fill:none\" points=\"\n",
       "  756.627,1423.18 756.627,1404.28 \n",
       "  \"/>\n",
       "<polyline clip-path=\"url(#clip320)\" style=\"stroke:#000000; stroke-linecap:butt; stroke-linejoin:round; stroke-width:4; stroke-opacity:1; fill:none\" points=\"\n",
       "  1288.67,1423.18 1288.67,1404.28 \n",
       "  \"/>\n",
       "<polyline clip-path=\"url(#clip320)\" style=\"stroke:#000000; stroke-linecap:butt; stroke-linejoin:round; stroke-width:4; stroke-opacity:1; fill:none\" points=\"\n",
       "  1820.71,1423.18 1820.71,1404.28 \n",
       "  \"/>\n",
       "<polyline clip-path=\"url(#clip320)\" style=\"stroke:#000000; stroke-linecap:butt; stroke-linejoin:round; stroke-width:4; stroke-opacity:1; fill:none\" points=\"\n",
       "  2352.76,1423.18 2352.76,1404.28 \n",
       "  \"/>\n",
       "<path clip-path=\"url(#clip320)\" d=\"M224.584 1454.1 Q220.973 1454.1 219.144 1457.66 Q217.339 1461.2 217.339 1468.33 Q217.339 1475.44 219.144 1479.01 Q220.973 1482.55 224.584 1482.55 Q228.218 1482.55 230.024 1479.01 Q231.852 1475.44 231.852 1468.33 Q231.852 1461.2 230.024 1457.66 Q228.218 1454.1 224.584 1454.1 M224.584 1450.39 Q230.394 1450.39 233.45 1455 Q236.528 1459.58 236.528 1468.33 Q236.528 1477.06 233.45 1481.67 Q230.394 1486.25 224.584 1486.25 Q218.774 1486.25 215.695 1481.67 Q212.64 1477.06 212.64 1468.33 Q212.64 1459.58 215.695 1455 Q218.774 1450.39 224.584 1450.39 Z\" fill=\"#000000\" fill-rule=\"evenodd\" fill-opacity=\"1\" /><path clip-path=\"url(#clip320)\" d=\"M746.905 1451.02 L765.261 1451.02 L765.261 1454.96 L751.187 1454.96 L751.187 1463.43 Q752.206 1463.08 753.224 1462.92 Q754.243 1462.73 755.261 1462.73 Q761.048 1462.73 764.428 1465.9 Q767.807 1469.08 767.807 1474.49 Q767.807 1480.07 764.335 1483.17 Q760.863 1486.25 754.544 1486.25 Q752.368 1486.25 750.099 1485.88 Q747.854 1485.51 745.446 1484.77 L745.446 1480.07 Q747.53 1481.2 749.752 1481.76 Q751.974 1482.32 754.451 1482.32 Q758.456 1482.32 760.794 1480.21 Q763.132 1478.1 763.132 1474.49 Q763.132 1470.88 760.794 1468.77 Q758.456 1466.67 754.451 1466.67 Q752.576 1466.67 750.701 1467.08 Q748.849 1467.5 746.905 1468.38 L746.905 1451.02 Z\" fill=\"#000000\" fill-rule=\"evenodd\" fill-opacity=\"1\" /><path clip-path=\"url(#clip320)\" d=\"M1263.36 1481.64 L1271 1481.64 L1271 1455.28 L1262.69 1456.95 L1262.69 1452.69 L1270.95 1451.02 L1275.63 1451.02 L1275.63 1481.64 L1283.26 1481.64 L1283.26 1485.58 L1263.36 1485.58 L1263.36 1481.64 Z\" fill=\"#000000\" fill-rule=\"evenodd\" fill-opacity=\"1\" /><path clip-path=\"url(#clip320)\" d=\"M1302.71 1454.1 Q1299.1 1454.1 1297.27 1457.66 Q1295.46 1461.2 1295.46 1468.33 Q1295.46 1475.44 1297.27 1479.01 Q1299.1 1482.55 1302.71 1482.55 Q1306.34 1482.55 1308.15 1479.01 Q1309.98 1475.44 1309.98 1468.33 Q1309.98 1461.2 1308.15 1457.66 Q1306.34 1454.1 1302.71 1454.1 M1302.71 1450.39 Q1308.52 1450.39 1311.57 1455 Q1314.65 1459.58 1314.65 1468.33 Q1314.65 1477.06 1311.57 1481.67 Q1308.52 1486.25 1302.71 1486.25 Q1296.9 1486.25 1293.82 1481.67 Q1290.76 1477.06 1290.76 1468.33 Q1290.76 1459.58 1293.82 1455 Q1296.9 1450.39 1302.71 1450.39 Z\" fill=\"#000000\" fill-rule=\"evenodd\" fill-opacity=\"1\" /><path clip-path=\"url(#clip320)\" d=\"M1795.9 1481.64 L1803.54 1481.64 L1803.54 1455.28 L1795.23 1456.95 L1795.23 1452.69 L1803.49 1451.02 L1808.17 1451.02 L1808.17 1481.64 L1815.81 1481.64 L1815.81 1485.58 L1795.9 1485.58 L1795.9 1481.64 Z\" fill=\"#000000\" fill-rule=\"evenodd\" fill-opacity=\"1\" /><path clip-path=\"url(#clip320)\" d=\"M1825.3 1451.02 L1843.65 1451.02 L1843.65 1454.96 L1829.58 1454.96 L1829.58 1463.43 Q1830.6 1463.08 1831.62 1462.92 Q1832.63 1462.73 1833.65 1462.73 Q1839.44 1462.73 1842.82 1465.9 Q1846.2 1469.08 1846.2 1474.49 Q1846.2 1480.07 1842.73 1483.17 Q1839.25 1486.25 1832.94 1486.25 Q1830.76 1486.25 1828.49 1485.88 Q1826.25 1485.51 1823.84 1484.77 L1823.84 1480.07 Q1825.92 1481.2 1828.14 1481.76 Q1830.37 1482.32 1832.84 1482.32 Q1836.85 1482.32 1839.19 1480.21 Q1841.52 1478.1 1841.52 1474.49 Q1841.52 1470.88 1839.19 1468.77 Q1836.85 1466.67 1832.84 1466.67 Q1830.97 1466.67 1829.09 1467.08 Q1827.24 1467.5 1825.3 1468.38 L1825.3 1451.02 Z\" fill=\"#000000\" fill-rule=\"evenodd\" fill-opacity=\"1\" /><path clip-path=\"url(#clip320)\" d=\"M2331.53 1481.64 L2347.85 1481.64 L2347.85 1485.58 L2325.9 1485.58 L2325.9 1481.64 Q2328.57 1478.89 2333.15 1474.26 Q2337.76 1469.61 2338.94 1468.27 Q2341.18 1465.74 2342.06 1464.01 Q2342.96 1462.25 2342.96 1460.56 Q2342.96 1457.8 2341.02 1456.07 Q2339.1 1454.33 2336 1454.33 Q2333.8 1454.33 2331.34 1455.09 Q2328.91 1455.86 2326.14 1457.41 L2326.14 1452.69 Q2328.96 1451.55 2331.41 1450.97 Q2333.87 1450.39 2335.9 1450.39 Q2341.27 1450.39 2344.47 1453.08 Q2347.66 1455.77 2347.66 1460.26 Q2347.66 1462.39 2346.85 1464.31 Q2346.07 1466.2 2343.96 1468.8 Q2343.38 1469.47 2340.28 1472.69 Q2337.18 1475.88 2331.53 1481.64 Z\" fill=\"#000000\" fill-rule=\"evenodd\" fill-opacity=\"1\" /><path clip-path=\"url(#clip320)\" d=\"M2367.66 1454.1 Q2364.05 1454.1 2362.22 1457.66 Q2360.42 1461.2 2360.42 1468.33 Q2360.42 1475.44 2362.22 1479.01 Q2364.05 1482.55 2367.66 1482.55 Q2371.3 1482.55 2373.1 1479.01 Q2374.93 1475.44 2374.93 1468.33 Q2374.93 1461.2 2373.1 1457.66 Q2371.3 1454.1 2367.66 1454.1 M2367.66 1450.39 Q2373.47 1450.39 2376.53 1455 Q2379.61 1459.58 2379.61 1468.33 Q2379.61 1477.06 2376.53 1481.67 Q2373.47 1486.25 2367.66 1486.25 Q2361.85 1486.25 2358.77 1481.67 Q2355.72 1477.06 2355.72 1468.33 Q2355.72 1459.58 2358.77 1455 Q2361.85 1450.39 2367.66 1450.39 Z\" fill=\"#000000\" fill-rule=\"evenodd\" fill-opacity=\"1\" /><path clip-path=\"url(#clip320)\" d=\"M1287.73 1522.27 L1287.73 1532.4 L1299.79 1532.4 L1299.79 1536.95 L1287.73 1536.95 L1287.73 1556.3 Q1287.73 1560.66 1288.91 1561.9 Q1290.12 1563.14 1293.78 1563.14 L1299.79 1563.14 L1299.79 1568.04 L1293.78 1568.04 Q1287 1568.04 1284.42 1565.53 Q1281.84 1562.98 1281.84 1556.3 L1281.84 1536.95 L1277.55 1536.95 L1277.55 1532.4 L1281.84 1532.4 L1281.84 1522.27 L1287.73 1522.27 Z\" fill=\"#000000\" fill-rule=\"evenodd\" fill-opacity=\"1\" /><polyline clip-path=\"url(#clip322)\" style=\"stroke:#000000; stroke-linecap:butt; stroke-linejoin:round; stroke-width:2; stroke-opacity:0.1; fill:none\" points=\"\n",
       "  224.584,1170.42 2352.76,1170.42 \n",
       "  \"/>\n",
       "<polyline clip-path=\"url(#clip322)\" style=\"stroke:#000000; stroke-linecap:butt; stroke-linejoin:round; stroke-width:2; stroke-opacity:0.1; fill:none\" points=\"\n",
       "  224.584,809.011 2352.76,809.011 \n",
       "  \"/>\n",
       "<polyline clip-path=\"url(#clip322)\" style=\"stroke:#000000; stroke-linecap:butt; stroke-linejoin:round; stroke-width:2; stroke-opacity:0.1; fill:none\" points=\"\n",
       "  224.584,447.598 2352.76,447.598 \n",
       "  \"/>\n",
       "<polyline clip-path=\"url(#clip322)\" style=\"stroke:#000000; stroke-linecap:butt; stroke-linejoin:round; stroke-width:2; stroke-opacity:0.1; fill:none\" points=\"\n",
       "  224.584,86.1857 2352.76,86.1857 \n",
       "  \"/>\n",
       "<polyline clip-path=\"url(#clip320)\" style=\"stroke:#000000; stroke-linecap:butt; stroke-linejoin:round; stroke-width:4; stroke-opacity:1; fill:none\" points=\"\n",
       "  224.584,1423.18 224.584,47.2441 \n",
       "  \"/>\n",
       "<polyline clip-path=\"url(#clip320)\" style=\"stroke:#000000; stroke-linecap:butt; stroke-linejoin:round; stroke-width:4; stroke-opacity:1; fill:none\" points=\"\n",
       "  224.584,1170.42 243.482,1170.42 \n",
       "  \"/>\n",
       "<polyline clip-path=\"url(#clip320)\" style=\"stroke:#000000; stroke-linecap:butt; stroke-linejoin:round; stroke-width:4; stroke-opacity:1; fill:none\" points=\"\n",
       "  224.584,809.011 243.482,809.011 \n",
       "  \"/>\n",
       "<polyline clip-path=\"url(#clip320)\" style=\"stroke:#000000; stroke-linecap:butt; stroke-linejoin:round; stroke-width:4; stroke-opacity:1; fill:none\" points=\"\n",
       "  224.584,447.598 243.482,447.598 \n",
       "  \"/>\n",
       "<polyline clip-path=\"url(#clip320)\" style=\"stroke:#000000; stroke-linecap:butt; stroke-linejoin:round; stroke-width:4; stroke-opacity:1; fill:none\" points=\"\n",
       "  224.584,86.1857 243.482,86.1857 \n",
       "  \"/>\n",
       "<path clip-path=\"url(#clip320)\" d=\"M51.3162 1170.87 L80.992 1170.87 L80.992 1174.81 L51.3162 1174.81 L51.3162 1170.87 Z\" fill=\"#000000\" fill-rule=\"evenodd\" fill-opacity=\"1\" /><path clip-path=\"url(#clip320)\" d=\"M101.084 1156.22 Q97.4734 1156.22 95.6447 1159.79 Q93.8391 1163.33 93.8391 1170.46 Q93.8391 1177.56 95.6447 1181.13 Q97.4734 1184.67 101.084 1184.67 Q104.719 1184.67 106.524 1181.13 Q108.353 1177.56 108.353 1170.46 Q108.353 1163.33 106.524 1159.79 Q104.719 1156.22 101.084 1156.22 M101.084 1152.52 Q106.895 1152.52 109.95 1157.12 Q113.029 1161.71 113.029 1170.46 Q113.029 1179.18 109.95 1183.79 Q106.895 1188.37 101.084 1188.37 Q95.2743 1188.37 92.1956 1183.79 Q89.1401 1179.18 89.1401 1170.46 Q89.1401 1161.71 92.1956 1157.12 Q95.2743 1152.52 101.084 1152.52 Z\" fill=\"#000000\" fill-rule=\"evenodd\" fill-opacity=\"1\" /><path clip-path=\"url(#clip320)\" d=\"M121.246 1181.82 L126.131 1181.82 L126.131 1187.7 L121.246 1187.7 L121.246 1181.82 Z\" fill=\"#000000\" fill-rule=\"evenodd\" fill-opacity=\"1\" /><path clip-path=\"url(#clip320)\" d=\"M146.316 1156.22 Q142.705 1156.22 140.876 1159.79 Q139.07 1163.33 139.07 1170.46 Q139.07 1177.56 140.876 1181.13 Q142.705 1184.67 146.316 1184.67 Q149.95 1184.67 151.755 1181.13 Q153.584 1177.56 153.584 1170.46 Q153.584 1163.33 151.755 1159.79 Q149.95 1156.22 146.316 1156.22 M146.316 1152.52 Q152.126 1152.52 155.181 1157.12 Q158.26 1161.71 158.26 1170.46 Q158.26 1179.18 155.181 1183.79 Q152.126 1188.37 146.316 1188.37 Q140.506 1188.37 137.427 1183.79 Q134.371 1179.18 134.371 1170.46 Q134.371 1161.71 137.427 1157.12 Q140.506 1152.52 146.316 1152.52 Z\" fill=\"#000000\" fill-rule=\"evenodd\" fill-opacity=\"1\" /><path clip-path=\"url(#clip320)\" d=\"M177.056 1168.56 Q173.908 1168.56 172.056 1170.71 Q170.228 1172.87 170.228 1176.62 Q170.228 1180.34 172.056 1182.52 Q173.908 1184.67 177.056 1184.67 Q180.204 1184.67 182.033 1182.52 Q183.885 1180.34 183.885 1176.62 Q183.885 1172.87 182.033 1170.71 Q180.204 1168.56 177.056 1168.56 M186.339 1153.91 L186.339 1158.17 Q184.579 1157.33 182.774 1156.89 Q180.991 1156.45 179.232 1156.45 Q174.603 1156.45 172.149 1159.58 Q169.718 1162.7 169.371 1169.02 Q170.737 1167.01 172.797 1165.94 Q174.857 1164.86 177.334 1164.86 Q182.542 1164.86 185.552 1168.03 Q188.584 1171.18 188.584 1176.62 Q188.584 1181.94 185.436 1185.16 Q182.288 1188.37 177.056 1188.37 Q171.061 1188.37 167.89 1183.79 Q164.718 1179.18 164.718 1170.46 Q164.718 1162.26 168.607 1157.4 Q172.496 1152.52 179.047 1152.52 Q180.806 1152.52 182.589 1152.87 Q184.394 1153.21 186.339 1153.91 Z\" fill=\"#000000\" fill-rule=\"evenodd\" fill-opacity=\"1\" /><path clip-path=\"url(#clip320)\" d=\"M50.9921 809.462 L80.6679 809.462 L80.6679 813.397 L50.9921 813.397 L50.9921 809.462 Z\" fill=\"#000000\" fill-rule=\"evenodd\" fill-opacity=\"1\" /><path clip-path=\"url(#clip320)\" d=\"M100.76 794.809 Q97.1493 794.809 95.3206 798.374 Q93.515 801.916 93.515 809.045 Q93.515 816.152 95.3206 819.717 Q97.1493 823.258 100.76 823.258 Q104.395 823.258 106.2 819.717 Q108.029 816.152 108.029 809.045 Q108.029 801.916 106.2 798.374 Q104.395 794.809 100.76 794.809 M100.76 791.106 Q106.571 791.106 109.626 795.712 Q112.705 800.295 112.705 809.045 Q112.705 817.772 109.626 822.379 Q106.571 826.962 100.76 826.962 Q94.9502 826.962 91.8715 822.379 Q88.816 817.772 88.816 809.045 Q88.816 800.295 91.8715 795.712 Q94.9502 791.106 100.76 791.106 Z\" fill=\"#000000\" fill-rule=\"evenodd\" fill-opacity=\"1\" /><path clip-path=\"url(#clip320)\" d=\"M120.922 820.411 L125.807 820.411 L125.807 826.291 L120.922 826.291 L120.922 820.411 Z\" fill=\"#000000\" fill-rule=\"evenodd\" fill-opacity=\"1\" /><path clip-path=\"url(#clip320)\" d=\"M145.992 794.809 Q142.381 794.809 140.552 798.374 Q138.746 801.916 138.746 809.045 Q138.746 816.152 140.552 819.717 Q142.381 823.258 145.992 823.258 Q149.626 823.258 151.431 819.717 Q153.26 816.152 153.26 809.045 Q153.26 801.916 151.431 798.374 Q149.626 794.809 145.992 794.809 M145.992 791.106 Q151.802 791.106 154.857 795.712 Q157.936 800.295 157.936 809.045 Q157.936 817.772 154.857 822.379 Q151.802 826.962 145.992 826.962 Q140.181 826.962 137.103 822.379 Q134.047 817.772 134.047 809.045 Q134.047 800.295 137.103 795.712 Q140.181 791.106 145.992 791.106 Z\" fill=\"#000000\" fill-rule=\"evenodd\" fill-opacity=\"1\" /><path clip-path=\"url(#clip320)\" d=\"M179.001 795.805 L167.195 814.254 L179.001 814.254 L179.001 795.805 M177.774 791.731 L183.653 791.731 L183.653 814.254 L188.584 814.254 L188.584 818.143 L183.653 818.143 L183.653 826.291 L179.001 826.291 L179.001 818.143 L163.399 818.143 L163.399 813.629 L177.774 791.731 Z\" fill=\"#000000\" fill-rule=\"evenodd\" fill-opacity=\"1\" /><path clip-path=\"url(#clip320)\" d=\"M53.0754 448.05 L82.7512 448.05 L82.7512 451.985 L53.0754 451.985 L53.0754 448.05 Z\" fill=\"#000000\" fill-rule=\"evenodd\" fill-opacity=\"1\" /><path clip-path=\"url(#clip320)\" d=\"M102.844 433.397 Q99.2326 433.397 97.4039 436.962 Q95.5984 440.503 95.5984 447.633 Q95.5984 454.739 97.4039 458.304 Q99.2326 461.846 102.844 461.846 Q106.478 461.846 108.283 458.304 Q110.112 454.739 110.112 447.633 Q110.112 440.503 108.283 436.962 Q106.478 433.397 102.844 433.397 M102.844 429.693 Q108.654 429.693 111.709 434.3 Q114.788 438.883 114.788 447.633 Q114.788 456.36 111.709 460.966 Q108.654 465.549 102.844 465.549 Q97.0335 465.549 93.9549 460.966 Q90.8993 456.36 90.8993 447.633 Q90.8993 438.883 93.9549 434.3 Q97.0335 429.693 102.844 429.693 Z\" fill=\"#000000\" fill-rule=\"evenodd\" fill-opacity=\"1\" /><path clip-path=\"url(#clip320)\" d=\"M123.006 458.999 L127.89 458.999 L127.89 464.878 L123.006 464.878 L123.006 458.999 Z\" fill=\"#000000\" fill-rule=\"evenodd\" fill-opacity=\"1\" /><path clip-path=\"url(#clip320)\" d=\"M148.075 433.397 Q144.464 433.397 142.635 436.962 Q140.83 440.503 140.83 447.633 Q140.83 454.739 142.635 458.304 Q144.464 461.846 148.075 461.846 Q151.709 461.846 153.515 458.304 Q155.343 454.739 155.343 447.633 Q155.343 440.503 153.515 436.962 Q151.709 433.397 148.075 433.397 M148.075 429.693 Q153.885 429.693 156.941 434.3 Q160.019 438.883 160.019 447.633 Q160.019 456.36 156.941 460.966 Q153.885 465.549 148.075 465.549 Q142.265 465.549 139.186 460.966 Q136.131 456.36 136.131 447.633 Q136.131 438.883 139.186 434.3 Q142.265 429.693 148.075 429.693 Z\" fill=\"#000000\" fill-rule=\"evenodd\" fill-opacity=\"1\" /><path clip-path=\"url(#clip320)\" d=\"M172.265 460.943 L188.584 460.943 L188.584 464.878 L166.64 464.878 L166.64 460.943 Q169.302 458.188 173.885 453.559 Q178.491 448.906 179.672 447.563 Q181.917 445.04 182.797 443.304 Q183.7 441.545 183.7 439.855 Q183.7 437.101 181.755 435.364 Q179.834 433.628 176.732 433.628 Q174.533 433.628 172.079 434.392 Q169.649 435.156 166.871 436.707 L166.871 431.985 Q169.695 430.851 172.149 430.272 Q174.603 429.693 176.64 429.693 Q182.01 429.693 185.204 432.378 Q188.399 435.064 188.399 439.554 Q188.399 441.684 187.589 443.605 Q186.802 445.503 184.695 448.096 Q184.116 448.767 181.015 451.985 Q177.913 455.179 172.265 460.943 Z\" fill=\"#000000\" fill-rule=\"evenodd\" fill-opacity=\"1\" /><path clip-path=\"url(#clip320)\" d=\"M101.246 71.9844 Q97.6354 71.9844 95.8067 75.5492 Q94.0012 79.0908 94.0012 86.2204 Q94.0012 93.3268 95.8067 96.8916 Q97.6354 100.433 101.246 100.433 Q104.881 100.433 106.686 96.8916 Q108.515 93.3268 108.515 86.2204 Q108.515 79.0908 106.686 75.5492 Q104.881 71.9844 101.246 71.9844 M101.246 68.2807 Q107.057 68.2807 110.112 72.8871 Q113.191 77.4704 113.191 86.2204 Q113.191 94.9472 110.112 99.5537 Q107.057 104.137 101.246 104.137 Q95.4363 104.137 92.3576 99.5537 Q89.3021 94.9472 89.3021 86.2204 Q89.3021 77.4704 92.3576 72.8871 Q95.4363 68.2807 101.246 68.2807 Z\" fill=\"#000000\" fill-rule=\"evenodd\" fill-opacity=\"1\" /><path clip-path=\"url(#clip320)\" d=\"M121.408 97.5861 L126.293 97.5861 L126.293 103.466 L121.408 103.466 L121.408 97.5861 Z\" fill=\"#000000\" fill-rule=\"evenodd\" fill-opacity=\"1\" /><path clip-path=\"url(#clip320)\" d=\"M146.478 71.9844 Q142.867 71.9844 141.038 75.5492 Q139.232 79.0908 139.232 86.2204 Q139.232 93.3268 141.038 96.8916 Q142.867 100.433 146.478 100.433 Q150.112 100.433 151.918 96.8916 Q153.746 93.3268 153.746 86.2204 Q153.746 79.0908 151.918 75.5492 Q150.112 71.9844 146.478 71.9844 M146.478 68.2807 Q152.288 68.2807 155.343 72.8871 Q158.422 77.4704 158.422 86.2204 Q158.422 94.9472 155.343 99.5537 Q152.288 104.137 146.478 104.137 Q140.668 104.137 137.589 99.5537 Q134.533 94.9472 134.533 86.2204 Q134.533 77.4704 137.589 72.8871 Q140.668 68.2807 146.478 68.2807 Z\" fill=\"#000000\" fill-rule=\"evenodd\" fill-opacity=\"1\" /><path clip-path=\"url(#clip320)\" d=\"M176.64 71.9844 Q173.029 71.9844 171.2 75.5492 Q169.394 79.0908 169.394 86.2204 Q169.394 93.3268 171.2 96.8916 Q173.029 100.433 176.64 100.433 Q180.274 100.433 182.079 96.8916 Q183.908 93.3268 183.908 86.2204 Q183.908 79.0908 182.079 75.5492 Q180.274 71.9844 176.64 71.9844 M176.64 68.2807 Q182.45 68.2807 185.505 72.8871 Q188.584 77.4704 188.584 86.2204 Q188.584 94.9472 185.505 99.5537 Q182.45 104.137 176.64 104.137 Q170.829 104.137 167.751 99.5537 Q164.695 94.9472 164.695 86.2204 Q164.695 77.4704 167.751 72.8871 Q170.829 68.2807 176.64 68.2807 Z\" fill=\"#000000\" fill-rule=\"evenodd\" fill-opacity=\"1\" /><polyline clip-path=\"url(#clip322)\" style=\"stroke:#009af9; stroke-linecap:butt; stroke-linejoin:round; stroke-width:4; stroke-opacity:1; fill:none\" points=\"\n",
       "  224.584,86.1857 330.993,86.1857 437.401,1208.26 543.81,1384.24 650.218,1373.09 756.627,1326.52 863.036,1274.77 969.444,1223.83 1075.85,1174.79 1182.26,1127.82 \n",
       "  1288.67,1082.86 1395.08,1039.84 1501.49,998.675 1607.9,959.288 1714.3,921.6 1820.71,885.54 1927.12,851.036 2033.53,818.021 2139.94,786.432 2246.35,756.206 \n",
       "  2352.76,727.284 \n",
       "  \"/>\n",
       "<polyline clip-path=\"url(#clip322)\" style=\"stroke:#e26f46; stroke-linecap:butt; stroke-linejoin:round; stroke-width:4; stroke-opacity:1; fill:none\" points=\"\n",
       "  224.584,86.1857 330.993,266.892 437.401,122.327 543.81,93.4139 650.218,87.6313 756.627,86.4748 863.036,86.2435 969.444,86.1972 1075.85,86.188 1182.26,86.1861 \n",
       "  1288.67,86.1858 1395.08,86.1857 1501.49,86.1857 1607.9,86.1857 1714.3,86.1857 1820.71,86.1857 1927.12,86.1857 2033.53,86.1857 2139.94,86.1857 2246.35,86.1857 \n",
       "  2352.76,86.1857 \n",
       "  \"/>\n",
       "<path clip-path=\"url(#clip320)\" d=\"\n",
       "M2022.18 248.629 L2281.82 248.629 L2281.82 93.1086 L2022.18 93.1086  Z\n",
       "  \" fill=\"#ffffff\" fill-rule=\"evenodd\" fill-opacity=\"1\"/>\n",
       "<polyline clip-path=\"url(#clip320)\" style=\"stroke:#000000; stroke-linecap:butt; stroke-linejoin:round; stroke-width:4; stroke-opacity:1; fill:none\" points=\"\n",
       "  2022.18,248.629 2281.82,248.629 2281.82,93.1086 2022.18,93.1086 2022.18,248.629 \n",
       "  \"/>\n",
       "<polyline clip-path=\"url(#clip320)\" style=\"stroke:#009af9; stroke-linecap:butt; stroke-linejoin:round; stroke-width:4; stroke-opacity:1; fill:none\" points=\"\n",
       "  2045.83,144.949 2187.71,144.949 \n",
       "  \"/>\n",
       "<path clip-path=\"url(#clip320)\" d=\"M2231.86 137.298 L2231.86 141.28 Q2230.06 140.284 2228.23 139.798 Q2226.42 139.289 2224.57 139.289 Q2220.43 139.289 2218.14 141.928 Q2215.84 144.544 2215.84 149.289 Q2215.84 154.034 2218.14 156.673 Q2220.43 159.289 2224.57 159.289 Q2226.42 159.289 2228.23 158.803 Q2230.06 158.293 2231.86 157.298 L2231.86 161.233 Q2230.08 162.067 2228.16 162.483 Q2226.26 162.9 2224.11 162.9 Q2218.25 162.9 2214.8 159.219 Q2211.35 155.539 2211.35 149.289 Q2211.35 142.946 2214.83 139.312 Q2218.32 135.678 2224.39 135.678 Q2226.35 135.678 2228.23 136.095 Q2230.1 136.488 2231.86 137.298 Z\" fill=\"#000000\" fill-rule=\"evenodd\" fill-opacity=\"1\" /><polyline clip-path=\"url(#clip320)\" style=\"stroke:#e26f46; stroke-linecap:butt; stroke-linejoin:round; stroke-width:4; stroke-opacity:1; fill:none\" points=\"\n",
       "  2045.83,196.789 2187.71,196.789 \n",
       "  \"/>\n",
       "<path clip-path=\"url(#clip320)\" d=\"M2215.75 201.129 Q2215.75 205.828 2217.67 208.513 Q2219.62 211.175 2223 211.175 Q2226.38 211.175 2228.32 208.513 Q2230.26 205.828 2230.26 201.129 Q2230.26 196.43 2228.32 193.768 Q2226.38 191.083 2223 191.083 Q2219.62 191.083 2217.67 193.768 Q2215.75 196.43 2215.75 201.129 M2230.26 210.18 Q2228.92 212.495 2226.86 213.629 Q2224.83 214.74 2221.95 214.74 Q2217.26 214.74 2214.29 210.99 Q2211.35 207.24 2211.35 201.129 Q2211.35 195.018 2214.29 191.268 Q2217.26 187.518 2221.95 187.518 Q2224.83 187.518 2226.86 188.652 Q2228.92 189.763 2230.26 192.078 L2230.26 188.143 L2234.52 188.143 L2234.52 223.93 L2230.26 223.93 L2230.26 210.18 Z\" fill=\"#000000\" fill-rule=\"evenodd\" fill-opacity=\"1\" /></svg>\n"
      ]
     },
     "execution_count": 43,
     "metadata": {},
     "output_type": "execute_result"
    }
   ],
   "source": [
    "noise = Matrix([1.0; zeros(T-1)]') # the ϵ shocks are \"noise\" in DifferenceEquations for SciML compatibility\n",
    "x_iv = [0.0, 0.0]  # can pass in a single value rather than a distribution \n",
    "problem = LinearStateSpaceProblem(sol, x_iv, (0, T); noise)\n",
    "plot(solve(problem))"
   ]
  },
  {
   "cell_type": "markdown",
   "metadata": {},
   "source": [
    "To demonstrate the composition of gradients between DifferenceEquations and DifferentiableStateSpaceModels lets adapt this function to simulates an impulse with fixed noise and looks at the final observable"
   ]
  },
  {
   "cell_type": "code",
   "execution_count": 44,
   "metadata": {},
   "outputs": [
    {
     "data": {
      "text/plain": [
       "-0.001039731618424578"
      ]
     },
     "execution_count": 44,
     "metadata": {},
     "output_type": "execute_result"
    }
   ],
   "source": [
    "function last_observable(p_d, noise, x_iv; m, p_f, T)\n",
    "    sol = generate_perturbation(m, p_d, p_f)\n",
    "    problem = LinearStateSpaceProblem(sol, x_iv, (0, T);noise, observables_noise = nothing)  # removing observation noise\n",
    "    return solve(problem).z[end][2]  # return 2nd argument of last observable\n",
    "end\n",
    "T = 100\n",
    "noise = Matrix([1.0; zeros(T-1)]') # the ϵ shocks are \"noise\" in DifferenceEquations for SciML compatibility\n",
    "x_iv = [0.0, 0.0]  # can pass in a single value rather than a distribution\n",
    "p_f = (ρ = 0.2, δ = 0.02, σ = 0.01, Ω_1 = 0.01) # Fixed parameters\n",
    "p_d = (α = 0.5, β = 0.95) # Pseudo-true values\n",
    "m = model_rbc  # ensure notebook executed above\n",
    "last_observable(p_d, noise, x_iv; m, p_f, T)"
   ]
  },
  {
   "cell_type": "markdown",
   "metadata": {},
   "source": [
    "And, as before, we can calculate gradients with respect to the underlying `p_d` parameters, but also with respect to the noise which will demonstrate a key benefit of these methods, as they can let us do a joint likelihood of the latent variables in cases where they cannot be easily marginalized out (e.g., non-gaussian or nonlinear).  Note that the dimensionality of this gradient is over 100."
   ]
  },
  {
   "cell_type": "code",
   "execution_count": 45,
   "metadata": {},
   "outputs": [
    {
     "data": {
      "text/plain": [
       "((α = -0.023502088600449104, β = -0.08002797800781035), [-0.0010397316184245782 -0.001086636104029691 … -0.06209371005755886 0.0], [0.012125846203919346, 0.0994851757955444])"
      ]
     },
     "execution_count": 45,
     "metadata": {},
     "output_type": "execute_result"
    }
   ],
   "source": [
    "gradient((p_d, noise, x_iv) -> last_observable(p_d, noise, x_iv; m, p_f, T), p_d, noise, x_iv)"
   ]
  },
  {
   "cell_type": "markdown",
   "metadata": {},
   "source": [
    "## Sneak Peak at SciML Compatable Functionality\n",
    "Finally, there are a variety of features of SciML which are supported.  For example, parallel simulations of ensembles and associated summary statistics"
   ]
  },
  {
   "cell_type": "code",
   "execution_count": 46,
   "metadata": {},
   "outputs": [
    {
     "data": {
      "text/plain": [
       "t: 0:100\n",
       "u: 101-element Vector{Vector{Float64}}:\n",
       " [-0.05948386548236721, 0.0016367091841851449]\n",
       " [-0.036914553543048595, -0.00023258347723282337]\n",
       " [-0.04802835220163641, -0.0017285186314779898]\n",
       " [-0.08541023522323687, -0.0003216886331630368]\n",
       " [-0.08335501573839402, 0.005348272540814875]\n",
       " [-0.020859113557645786, 0.0011689138765165249]\n",
       " [-0.00912724469495459, -0.0019376642886003489]\n",
       " [-0.00895409847374962, -0.0013749366921712682]\n",
       " [-0.026924801266418545, 0.0009093653892800906]\n",
       " [-0.021887939350757724, -5.533783237706474e-5]\n",
       " [-0.02788925708523076, 0.004003092030124383]\n",
       " [0.010100154432392613, 0.0027358955446560177]\n",
       " [0.01862281912327346, -0.0005797984066157271]\n",
       " ⋮\n",
       " [0.03708046064199648, 0.0018309886779299637]\n",
       " [0.039038030451455194, 0.002422925340846356]\n",
       " [0.015381561298771048, 0.0008316411181409663]\n",
       " [0.02889475077130841, -0.0016688772421413662]\n",
       " [-0.0012529504063548478, -0.0027999325543467683]\n",
       " [-0.04480120343541459, 0.0007271714004739255]\n",
       " [-0.006050384428378958, -0.00041610316275109463]\n",
       " [-0.06650679775521373, 0.0009345441897677753]\n",
       " [-0.0430837345789358, -0.001275700993078363]\n",
       " [-0.0187489752686203, -0.0011449322837898026]\n",
       " [-0.021627742354615558, -0.0027168747726596144]\n",
       " [-0.042515172359919876, -0.0002051780145823531]"
      ]
     },
     "execution_count": 46,
     "metadata": {},
     "output_type": "execute_result"
    }
   ],
   "source": [
    "# Simulate multiple trajectories with T observations\n",
    "trajectories = 40\n",
    "x_iv = MvNormal(sol.x_ergodic_var)\n",
    "problem = LinearStateSpaceProblem(sol, x_iv, (0, T))\n",
    "\n",
    "# Solve multiple trajectories and plot an ensemble\n",
    "ensemble_results = solve(EnsembleProblem(problem), DirectIteration(), EnsembleThreads();\n",
    "                 trajectories)\n",
    "summ = EnsembleSummary(ensemble_results)  # see SciML documentation.  Calculates median and other quantles automatically.\n",
    "summ.med # median values for the \"x\" simulated ensembles"
   ]
  },
  {
   "cell_type": "code",
   "execution_count": 47,
   "metadata": {},
   "outputs": [
    {
     "data": {
      "image/svg+xml": [
       "<?xml version=\"1.0\" encoding=\"utf-8\"?>\n",
       "<svg xmlns=\"http://www.w3.org/2000/svg\" xmlns:xlink=\"http://www.w3.org/1999/xlink\" width=\"600\" height=\"400\" viewBox=\"0 0 2400 1600\">\n",
       "<defs>\n",
       "  <clipPath id=\"clip360\">\n",
       "    <rect x=\"0\" y=\"0\" width=\"2400\" height=\"1600\"/>\n",
       "  </clipPath>\n",
       "</defs>\n",
       "<path clip-path=\"url(#clip360)\" d=\"\n",
       "M0 1600 L2400 1600 L2400 0 L0 0  Z\n",
       "  \" fill=\"#ffffff\" fill-rule=\"evenodd\" fill-opacity=\"1\"/>\n",
       "<defs>\n",
       "  <clipPath id=\"clip361\">\n",
       "    <rect x=\"480\" y=\"0\" width=\"1681\" height=\"1600\"/>\n",
       "  </clipPath>\n",
       "</defs>\n",
       "<path clip-path=\"url(#clip360)\" d=\"\n",
       "M194.422 1486.45 L2352.76 1486.45 L2352.76 47.2441 L194.422 47.2441  Z\n",
       "  \" fill=\"#ffffff\" fill-rule=\"evenodd\" fill-opacity=\"1\"/>\n",
       "<defs>\n",
       "  <clipPath id=\"clip362\">\n",
       "    <rect x=\"194\" y=\"47\" width=\"2159\" height=\"1440\"/>\n",
       "  </clipPath>\n",
       "</defs>\n",
       "<polyline clip-path=\"url(#clip362)\" style=\"stroke:#000000; stroke-linecap:butt; stroke-linejoin:round; stroke-width:2; stroke-opacity:0.1; fill:none\" points=\"\n",
       "  255.507,1486.45 255.507,47.2441 \n",
       "  \"/>\n",
       "<polyline clip-path=\"url(#clip362)\" style=\"stroke:#000000; stroke-linecap:butt; stroke-linejoin:round; stroke-width:2; stroke-opacity:0.1; fill:none\" points=\"\n",
       "  764.548,1486.45 764.548,47.2441 \n",
       "  \"/>\n",
       "<polyline clip-path=\"url(#clip362)\" style=\"stroke:#000000; stroke-linecap:butt; stroke-linejoin:round; stroke-width:2; stroke-opacity:0.1; fill:none\" points=\"\n",
       "  1273.59,1486.45 1273.59,47.2441 \n",
       "  \"/>\n",
       "<polyline clip-path=\"url(#clip362)\" style=\"stroke:#000000; stroke-linecap:butt; stroke-linejoin:round; stroke-width:2; stroke-opacity:0.1; fill:none\" points=\"\n",
       "  1782.63,1486.45 1782.63,47.2441 \n",
       "  \"/>\n",
       "<polyline clip-path=\"url(#clip362)\" style=\"stroke:#000000; stroke-linecap:butt; stroke-linejoin:round; stroke-width:2; stroke-opacity:0.1; fill:none\" points=\"\n",
       "  2291.67,1486.45 2291.67,47.2441 \n",
       "  \"/>\n",
       "<polyline clip-path=\"url(#clip360)\" style=\"stroke:#000000; stroke-linecap:butt; stroke-linejoin:round; stroke-width:4; stroke-opacity:1; fill:none\" points=\"\n",
       "  194.422,1486.45 2352.76,1486.45 \n",
       "  \"/>\n",
       "<polyline clip-path=\"url(#clip360)\" style=\"stroke:#000000; stroke-linecap:butt; stroke-linejoin:round; stroke-width:4; stroke-opacity:1; fill:none\" points=\"\n",
       "  255.507,1486.45 255.507,1467.55 \n",
       "  \"/>\n",
       "<polyline clip-path=\"url(#clip360)\" style=\"stroke:#000000; stroke-linecap:butt; stroke-linejoin:round; stroke-width:4; stroke-opacity:1; fill:none\" points=\"\n",
       "  764.548,1486.45 764.548,1467.55 \n",
       "  \"/>\n",
       "<polyline clip-path=\"url(#clip360)\" style=\"stroke:#000000; stroke-linecap:butt; stroke-linejoin:round; stroke-width:4; stroke-opacity:1; fill:none\" points=\"\n",
       "  1273.59,1486.45 1273.59,1467.55 \n",
       "  \"/>\n",
       "<polyline clip-path=\"url(#clip360)\" style=\"stroke:#000000; stroke-linecap:butt; stroke-linejoin:round; stroke-width:4; stroke-opacity:1; fill:none\" points=\"\n",
       "  1782.63,1486.45 1782.63,1467.55 \n",
       "  \"/>\n",
       "<polyline clip-path=\"url(#clip360)\" style=\"stroke:#000000; stroke-linecap:butt; stroke-linejoin:round; stroke-width:4; stroke-opacity:1; fill:none\" points=\"\n",
       "  2291.67,1486.45 2291.67,1467.55 \n",
       "  \"/>\n",
       "<path clip-path=\"url(#clip360)\" d=\"M255.507 1517.37 Q251.896 1517.37 250.067 1520.93 Q248.262 1524.47 248.262 1531.6 Q248.262 1538.71 250.067 1542.27 Q251.896 1545.82 255.507 1545.82 Q259.141 1545.82 260.947 1542.27 Q262.776 1538.71 262.776 1531.6 Q262.776 1524.47 260.947 1520.93 Q259.141 1517.37 255.507 1517.37 M255.507 1513.66 Q261.317 1513.66 264.373 1518.27 Q267.451 1522.85 267.451 1531.6 Q267.451 1540.33 264.373 1544.94 Q261.317 1549.52 255.507 1549.52 Q249.697 1549.52 246.618 1544.94 Q243.563 1540.33 243.563 1531.6 Q243.563 1522.85 246.618 1518.27 Q249.697 1513.66 255.507 1513.66 Z\" fill=\"#000000\" fill-rule=\"evenodd\" fill-opacity=\"1\" /><path clip-path=\"url(#clip360)\" d=\"M743.819 1544.91 L760.138 1544.91 L760.138 1548.85 L738.194 1548.85 L738.194 1544.91 Q740.856 1542.16 745.439 1537.53 Q750.046 1532.88 751.226 1531.53 Q753.472 1529.01 754.351 1527.27 Q755.254 1525.51 755.254 1523.82 Q755.254 1521.07 753.31 1519.33 Q751.388 1517.6 748.287 1517.6 Q746.087 1517.6 743.634 1518.36 Q741.203 1519.13 738.425 1520.68 L738.425 1515.95 Q741.25 1514.82 743.703 1514.24 Q746.157 1513.66 748.194 1513.66 Q753.564 1513.66 756.759 1516.35 Q759.953 1519.03 759.953 1523.52 Q759.953 1525.65 759.143 1527.57 Q758.356 1529.47 756.249 1532.07 Q755.671 1532.74 752.569 1535.95 Q749.467 1539.15 743.819 1544.91 Z\" fill=\"#000000\" fill-rule=\"evenodd\" fill-opacity=\"1\" /><path clip-path=\"url(#clip360)\" d=\"M769.999 1514.29 L788.356 1514.29 L788.356 1518.22 L774.282 1518.22 L774.282 1526.7 Q775.3 1526.35 776.319 1526.19 Q777.337 1526 778.356 1526 Q784.143 1526 787.522 1529.17 Q790.902 1532.34 790.902 1537.76 Q790.902 1543.34 787.43 1546.44 Q783.958 1549.52 777.638 1549.52 Q775.462 1549.52 773.194 1549.15 Q770.948 1548.78 768.541 1548.04 L768.541 1543.34 Q770.624 1544.47 772.847 1545.03 Q775.069 1545.58 777.546 1545.58 Q781.55 1545.58 783.888 1543.48 Q786.226 1541.37 786.226 1537.76 Q786.226 1534.15 783.888 1532.04 Q781.55 1529.94 777.546 1529.94 Q775.671 1529.94 773.796 1530.35 Q771.944 1530.77 769.999 1531.65 L769.999 1514.29 Z\" fill=\"#000000\" fill-rule=\"evenodd\" fill-opacity=\"1\" /><path clip-path=\"url(#clip360)\" d=\"M1248.29 1514.29 L1266.64 1514.29 L1266.64 1518.22 L1252.57 1518.22 L1252.57 1526.7 Q1253.59 1526.35 1254.61 1526.19 Q1255.63 1526 1256.64 1526 Q1262.43 1526 1265.81 1529.17 Q1269.19 1532.34 1269.19 1537.76 Q1269.19 1543.34 1265.72 1546.44 Q1262.25 1549.52 1255.93 1549.52 Q1253.75 1549.52 1251.48 1549.15 Q1249.24 1548.78 1246.83 1548.04 L1246.83 1543.34 Q1248.91 1544.47 1251.14 1545.03 Q1253.36 1545.58 1255.83 1545.58 Q1259.84 1545.58 1262.18 1543.48 Q1264.51 1541.37 1264.51 1537.76 Q1264.51 1534.15 1262.18 1532.04 Q1259.84 1529.94 1255.83 1529.94 Q1253.96 1529.94 1252.08 1530.35 Q1250.23 1530.77 1248.29 1531.65 L1248.29 1514.29 Z\" fill=\"#000000\" fill-rule=\"evenodd\" fill-opacity=\"1\" /><path clip-path=\"url(#clip360)\" d=\"M1288.4 1517.37 Q1284.79 1517.37 1282.96 1520.93 Q1281.16 1524.47 1281.16 1531.6 Q1281.16 1538.71 1282.96 1542.27 Q1284.79 1545.82 1288.4 1545.82 Q1292.04 1545.82 1293.84 1542.27 Q1295.67 1538.71 1295.67 1531.6 Q1295.67 1524.47 1293.84 1520.93 Q1292.04 1517.37 1288.4 1517.37 M1288.4 1513.66 Q1294.21 1513.66 1297.27 1518.27 Q1300.35 1522.85 1300.35 1531.6 Q1300.35 1540.33 1297.27 1544.94 Q1294.21 1549.52 1288.4 1549.52 Q1282.59 1549.52 1279.51 1544.94 Q1276.46 1540.33 1276.46 1531.6 Q1276.46 1522.85 1279.51 1518.27 Q1282.59 1513.66 1288.4 1513.66 Z\" fill=\"#000000\" fill-rule=\"evenodd\" fill-opacity=\"1\" /><path clip-path=\"url(#clip360)\" d=\"M1756.48 1514.29 L1778.71 1514.29 L1778.71 1516.28 L1766.16 1548.85 L1761.28 1548.85 L1773.08 1518.22 L1756.48 1518.22 L1756.48 1514.29 Z\" fill=\"#000000\" fill-rule=\"evenodd\" fill-opacity=\"1\" /><path clip-path=\"url(#clip360)\" d=\"M1787.87 1514.29 L1806.23 1514.29 L1806.23 1518.22 L1792.16 1518.22 L1792.16 1526.7 Q1793.17 1526.35 1794.19 1526.19 Q1795.21 1526 1796.23 1526 Q1802.02 1526 1805.4 1529.17 Q1808.78 1532.34 1808.78 1537.76 Q1808.78 1543.34 1805.3 1546.44 Q1801.83 1549.52 1795.51 1549.52 Q1793.34 1549.52 1791.07 1549.15 Q1788.82 1548.78 1786.41 1548.04 L1786.41 1543.34 Q1788.5 1544.47 1790.72 1545.03 Q1792.94 1545.58 1795.42 1545.58 Q1799.42 1545.58 1801.76 1543.48 Q1804.1 1541.37 1804.1 1537.76 Q1804.1 1534.15 1801.76 1532.04 Q1799.42 1529.94 1795.42 1529.94 Q1793.54 1529.94 1791.67 1530.35 Q1789.82 1530.77 1787.87 1531.65 L1787.87 1514.29 Z\" fill=\"#000000\" fill-rule=\"evenodd\" fill-opacity=\"1\" /><path clip-path=\"url(#clip360)\" d=\"M2251.28 1544.91 L2258.92 1544.91 L2258.92 1518.55 L2250.61 1520.21 L2250.61 1515.95 L2258.87 1514.29 L2263.55 1514.29 L2263.55 1544.91 L2271.18 1544.91 L2271.18 1548.85 L2251.28 1548.85 L2251.28 1544.91 Z\" fill=\"#000000\" fill-rule=\"evenodd\" fill-opacity=\"1\" /><path clip-path=\"url(#clip360)\" d=\"M2290.63 1517.37 Q2287.02 1517.37 2285.19 1520.93 Q2283.38 1524.47 2283.38 1531.6 Q2283.38 1538.71 2285.19 1542.27 Q2287.02 1545.82 2290.63 1545.82 Q2294.26 1545.82 2296.07 1542.27 Q2297.9 1538.71 2297.9 1531.6 Q2297.9 1524.47 2296.07 1520.93 Q2294.26 1517.37 2290.63 1517.37 M2290.63 1513.66 Q2296.44 1513.66 2299.5 1518.27 Q2302.57 1522.85 2302.57 1531.6 Q2302.57 1540.33 2299.5 1544.94 Q2296.44 1549.52 2290.63 1549.52 Q2284.82 1549.52 2281.74 1544.94 Q2278.68 1540.33 2278.68 1531.6 Q2278.68 1522.85 2281.74 1518.27 Q2284.82 1513.66 2290.63 1513.66 Z\" fill=\"#000000\" fill-rule=\"evenodd\" fill-opacity=\"1\" /><path clip-path=\"url(#clip360)\" d=\"M2320.79 1517.37 Q2317.18 1517.37 2315.35 1520.93 Q2313.55 1524.47 2313.55 1531.6 Q2313.55 1538.71 2315.35 1542.27 Q2317.18 1545.82 2320.79 1545.82 Q2324.43 1545.82 2326.23 1542.27 Q2328.06 1538.71 2328.06 1531.6 Q2328.06 1524.47 2326.23 1520.93 Q2324.43 1517.37 2320.79 1517.37 M2320.79 1513.66 Q2326.6 1513.66 2329.66 1518.27 Q2332.74 1522.85 2332.74 1531.6 Q2332.74 1540.33 2329.66 1544.94 Q2326.6 1549.52 2320.79 1549.52 Q2314.98 1549.52 2311.9 1544.94 Q2308.85 1540.33 2308.85 1531.6 Q2308.85 1522.85 2311.9 1518.27 Q2314.98 1513.66 2320.79 1513.66 Z\" fill=\"#000000\" fill-rule=\"evenodd\" fill-opacity=\"1\" /><polyline clip-path=\"url(#clip362)\" style=\"stroke:#000000; stroke-linecap:butt; stroke-linejoin:round; stroke-width:2; stroke-opacity:0.1; fill:none\" points=\"\n",
       "  194.422,1265.92 2352.76,1265.92 \n",
       "  \"/>\n",
       "<polyline clip-path=\"url(#clip362)\" style=\"stroke:#000000; stroke-linecap:butt; stroke-linejoin:round; stroke-width:2; stroke-opacity:0.1; fill:none\" points=\"\n",
       "  194.422,1013.89 2352.76,1013.89 \n",
       "  \"/>\n",
       "<polyline clip-path=\"url(#clip362)\" style=\"stroke:#000000; stroke-linecap:butt; stroke-linejoin:round; stroke-width:2; stroke-opacity:0.1; fill:none\" points=\"\n",
       "  194.422,761.859 2352.76,761.859 \n",
       "  \"/>\n",
       "<polyline clip-path=\"url(#clip362)\" style=\"stroke:#000000; stroke-linecap:butt; stroke-linejoin:round; stroke-width:2; stroke-opacity:0.1; fill:none\" points=\"\n",
       "  194.422,509.83 2352.76,509.83 \n",
       "  \"/>\n",
       "<polyline clip-path=\"url(#clip362)\" style=\"stroke:#000000; stroke-linecap:butt; stroke-linejoin:round; stroke-width:2; stroke-opacity:0.1; fill:none\" points=\"\n",
       "  194.422,257.8 2352.76,257.8 \n",
       "  \"/>\n",
       "<polyline clip-path=\"url(#clip360)\" style=\"stroke:#000000; stroke-linecap:butt; stroke-linejoin:round; stroke-width:4; stroke-opacity:1; fill:none\" points=\"\n",
       "  194.422,1486.45 194.422,47.2441 \n",
       "  \"/>\n",
       "<polyline clip-path=\"url(#clip360)\" style=\"stroke:#000000; stroke-linecap:butt; stroke-linejoin:round; stroke-width:4; stroke-opacity:1; fill:none\" points=\"\n",
       "  194.422,1265.92 213.32,1265.92 \n",
       "  \"/>\n",
       "<polyline clip-path=\"url(#clip360)\" style=\"stroke:#000000; stroke-linecap:butt; stroke-linejoin:round; stroke-width:4; stroke-opacity:1; fill:none\" points=\"\n",
       "  194.422,1013.89 213.32,1013.89 \n",
       "  \"/>\n",
       "<polyline clip-path=\"url(#clip360)\" style=\"stroke:#000000; stroke-linecap:butt; stroke-linejoin:round; stroke-width:4; stroke-opacity:1; fill:none\" points=\"\n",
       "  194.422,761.859 213.32,761.859 \n",
       "  \"/>\n",
       "<polyline clip-path=\"url(#clip360)\" style=\"stroke:#000000; stroke-linecap:butt; stroke-linejoin:round; stroke-width:4; stroke-opacity:1; fill:none\" points=\"\n",
       "  194.422,509.83 213.32,509.83 \n",
       "  \"/>\n",
       "<polyline clip-path=\"url(#clip360)\" style=\"stroke:#000000; stroke-linecap:butt; stroke-linejoin:round; stroke-width:4; stroke-opacity:1; fill:none\" points=\"\n",
       "  194.422,257.8 213.32,257.8 \n",
       "  \"/>\n",
       "<path clip-path=\"url(#clip360)\" d=\"M50.9921 1266.37 L80.6679 1266.37 L80.6679 1270.31 L50.9921 1270.31 L50.9921 1266.37 Z\" fill=\"#000000\" fill-rule=\"evenodd\" fill-opacity=\"1\" /><path clip-path=\"url(#clip360)\" d=\"M100.76 1251.72 Q97.1493 1251.72 95.3206 1255.28 Q93.515 1258.82 93.515 1265.95 Q93.515 1273.06 95.3206 1276.62 Q97.1493 1280.17 100.76 1280.17 Q104.395 1280.17 106.2 1276.62 Q108.029 1273.06 108.029 1265.95 Q108.029 1258.82 106.2 1255.28 Q104.395 1251.72 100.76 1251.72 M100.76 1248.01 Q106.571 1248.01 109.626 1252.62 Q112.705 1257.2 112.705 1265.95 Q112.705 1274.68 109.626 1279.29 Q106.571 1283.87 100.76 1283.87 Q94.9502 1283.87 91.8715 1279.29 Q88.816 1274.68 88.816 1265.95 Q88.816 1257.2 91.8715 1252.62 Q94.9502 1248.01 100.76 1248.01 Z\" fill=\"#000000\" fill-rule=\"evenodd\" fill-opacity=\"1\" /><path clip-path=\"url(#clip360)\" d=\"M120.922 1277.32 L125.807 1277.32 L125.807 1283.2 L120.922 1283.2 L120.922 1277.32 Z\" fill=\"#000000\" fill-rule=\"evenodd\" fill-opacity=\"1\" /><path clip-path=\"url(#clip360)\" d=\"M148.839 1252.71 L137.033 1271.16 L148.839 1271.16 L148.839 1252.71 M147.612 1248.64 L153.492 1248.64 L153.492 1271.16 L158.422 1271.16 L158.422 1275.05 L153.492 1275.05 L153.492 1283.2 L148.839 1283.2 L148.839 1275.05 L133.237 1275.05 L133.237 1270.54 L147.612 1248.64 Z\" fill=\"#000000\" fill-rule=\"evenodd\" fill-opacity=\"1\" /><path clip-path=\"url(#clip360)\" d=\"M53.0754 1014.34 L82.7512 1014.34 L82.7512 1018.28 L53.0754 1018.28 L53.0754 1014.34 Z\" fill=\"#000000\" fill-rule=\"evenodd\" fill-opacity=\"1\" /><path clip-path=\"url(#clip360)\" d=\"M102.844 999.688 Q99.2326 999.688 97.4039 1003.25 Q95.5984 1006.79 95.5984 1013.92 Q95.5984 1021.03 97.4039 1024.59 Q99.2326 1028.14 102.844 1028.14 Q106.478 1028.14 108.283 1024.59 Q110.112 1021.03 110.112 1013.92 Q110.112 1006.79 108.283 1003.25 Q106.478 999.688 102.844 999.688 M102.844 995.984 Q108.654 995.984 111.709 1000.59 Q114.788 1005.17 114.788 1013.92 Q114.788 1022.65 111.709 1027.26 Q108.654 1031.84 102.844 1031.84 Q97.0335 1031.84 93.9549 1027.26 Q90.8993 1022.65 90.8993 1013.92 Q90.8993 1005.17 93.9549 1000.59 Q97.0335 995.984 102.844 995.984 Z\" fill=\"#000000\" fill-rule=\"evenodd\" fill-opacity=\"1\" /><path clip-path=\"url(#clip360)\" d=\"M123.006 1025.29 L127.89 1025.29 L127.89 1031.17 L123.006 1031.17 L123.006 1025.29 Z\" fill=\"#000000\" fill-rule=\"evenodd\" fill-opacity=\"1\" /><path clip-path=\"url(#clip360)\" d=\"M142.103 1027.23 L158.422 1027.23 L158.422 1031.17 L136.478 1031.17 L136.478 1027.23 Q139.14 1024.48 143.723 1019.85 Q148.33 1015.2 149.51 1013.85 Q151.755 1011.33 152.635 1009.6 Q153.538 1007.84 153.538 1006.15 Q153.538 1003.39 151.593 1001.66 Q149.672 999.919 146.57 999.919 Q144.371 999.919 141.918 1000.68 Q139.487 1001.45 136.709 1003 L136.709 998.276 Q139.533 997.141 141.987 996.563 Q144.441 995.984 146.478 995.984 Q151.848 995.984 155.042 998.669 Q158.237 1001.35 158.237 1005.85 Q158.237 1007.97 157.427 1009.9 Q156.64 1011.79 154.533 1014.39 Q153.955 1015.06 150.853 1018.28 Q147.751 1021.47 142.103 1027.23 Z\" fill=\"#000000\" fill-rule=\"evenodd\" fill-opacity=\"1\" /><path clip-path=\"url(#clip360)\" d=\"M101.246 747.658 Q97.6354 747.658 95.8067 751.223 Q94.0012 754.764 94.0012 761.894 Q94.0012 769.001 95.8067 772.565 Q97.6354 776.107 101.246 776.107 Q104.881 776.107 106.686 772.565 Q108.515 769.001 108.515 761.894 Q108.515 754.764 106.686 751.223 Q104.881 747.658 101.246 747.658 M101.246 743.954 Q107.057 743.954 110.112 748.561 Q113.191 753.144 113.191 761.894 Q113.191 770.621 110.112 775.227 Q107.057 779.811 101.246 779.811 Q95.4363 779.811 92.3576 775.227 Q89.3021 770.621 89.3021 761.894 Q89.3021 753.144 92.3576 748.561 Q95.4363 743.954 101.246 743.954 Z\" fill=\"#000000\" fill-rule=\"evenodd\" fill-opacity=\"1\" /><path clip-path=\"url(#clip360)\" d=\"M121.408 773.26 L126.293 773.26 L126.293 779.139 L121.408 779.139 L121.408 773.26 Z\" fill=\"#000000\" fill-rule=\"evenodd\" fill-opacity=\"1\" /><path clip-path=\"url(#clip360)\" d=\"M146.478 747.658 Q142.867 747.658 141.038 751.223 Q139.232 754.764 139.232 761.894 Q139.232 769.001 141.038 772.565 Q142.867 776.107 146.478 776.107 Q150.112 776.107 151.918 772.565 Q153.746 769.001 153.746 761.894 Q153.746 754.764 151.918 751.223 Q150.112 747.658 146.478 747.658 M146.478 743.954 Q152.288 743.954 155.343 748.561 Q158.422 753.144 158.422 761.894 Q158.422 770.621 155.343 775.227 Q152.288 779.811 146.478 779.811 Q140.668 779.811 137.589 775.227 Q134.533 770.621 134.533 761.894 Q134.533 753.144 137.589 748.561 Q140.668 743.954 146.478 743.954 Z\" fill=\"#000000\" fill-rule=\"evenodd\" fill-opacity=\"1\" /><path clip-path=\"url(#clip360)\" d=\"M102.844 495.628 Q99.2326 495.628 97.4039 499.193 Q95.5984 502.735 95.5984 509.864 Q95.5984 516.971 97.4039 520.536 Q99.2326 524.077 102.844 524.077 Q106.478 524.077 108.283 520.536 Q110.112 516.971 110.112 509.864 Q110.112 502.735 108.283 499.193 Q106.478 495.628 102.844 495.628 M102.844 491.925 Q108.654 491.925 111.709 496.531 Q114.788 501.114 114.788 509.864 Q114.788 518.591 111.709 523.198 Q108.654 527.781 102.844 527.781 Q97.0335 527.781 93.9549 523.198 Q90.8993 518.591 90.8993 509.864 Q90.8993 501.114 93.9549 496.531 Q97.0335 491.925 102.844 491.925 Z\" fill=\"#000000\" fill-rule=\"evenodd\" fill-opacity=\"1\" /><path clip-path=\"url(#clip360)\" d=\"M123.006 521.23 L127.89 521.23 L127.89 527.11 L123.006 527.11 L123.006 521.23 Z\" fill=\"#000000\" fill-rule=\"evenodd\" fill-opacity=\"1\" /><path clip-path=\"url(#clip360)\" d=\"M142.103 523.175 L158.422 523.175 L158.422 527.11 L136.478 527.11 L136.478 523.175 Q139.14 520.42 143.723 515.79 Q148.33 511.138 149.51 509.795 Q151.755 507.272 152.635 505.536 Q153.538 503.777 153.538 502.087 Q153.538 499.332 151.593 497.596 Q149.672 495.86 146.57 495.86 Q144.371 495.86 141.918 496.624 Q139.487 497.388 136.709 498.939 L136.709 494.216 Q139.533 493.082 141.987 492.503 Q144.441 491.925 146.478 491.925 Q151.848 491.925 155.042 494.61 Q158.237 497.295 158.237 501.786 Q158.237 503.915 157.427 505.837 Q156.64 507.735 154.533 510.327 Q153.955 510.999 150.853 514.216 Q147.751 517.411 142.103 523.175 Z\" fill=\"#000000\" fill-rule=\"evenodd\" fill-opacity=\"1\" /><path clip-path=\"url(#clip360)\" d=\"M100.76 243.599 Q97.1493 243.599 95.3206 247.164 Q93.515 250.705 93.515 257.835 Q93.515 264.941 95.3206 268.506 Q97.1493 272.048 100.76 272.048 Q104.395 272.048 106.2 268.506 Q108.029 264.941 108.029 257.835 Q108.029 250.705 106.2 247.164 Q104.395 243.599 100.76 243.599 M100.76 239.895 Q106.571 239.895 109.626 244.502 Q112.705 249.085 112.705 257.835 Q112.705 266.562 109.626 271.168 Q106.571 275.751 100.76 275.751 Q94.9502 275.751 91.8715 271.168 Q88.816 266.562 88.816 257.835 Q88.816 249.085 91.8715 244.502 Q94.9502 239.895 100.76 239.895 Z\" fill=\"#000000\" fill-rule=\"evenodd\" fill-opacity=\"1\" /><path clip-path=\"url(#clip360)\" d=\"M120.922 269.2 L125.807 269.2 L125.807 275.08 L120.922 275.08 L120.922 269.2 Z\" fill=\"#000000\" fill-rule=\"evenodd\" fill-opacity=\"1\" /><path clip-path=\"url(#clip360)\" d=\"M148.839 244.594 L137.033 263.043 L148.839 263.043 L148.839 244.594 M147.612 240.52 L153.492 240.52 L153.492 263.043 L158.422 263.043 L158.422 266.932 L153.492 266.932 L153.492 275.08 L148.839 275.08 L148.839 266.932 L133.237 266.932 L133.237 262.418 L147.612 240.52 Z\" fill=\"#000000\" fill-rule=\"evenodd\" fill-opacity=\"1\" /><path clip-path=\"url(#clip362)\" d=\"\n",
       "M255.507 1327.92 L275.869 1291.53 L296.23 1300.65 L316.592 1259.95 L336.954 1198.6 L357.315 1275.16 L377.677 1248.04 L398.039 1270.85 L418.4 1234.82 L438.762 1212.8 \n",
       "  L459.123 1263.56 L479.485 1190.35 L499.847 1236.46 L520.208 1166.4 L540.57 1274.54 L560.932 1292.09 L581.293 1315.41 L601.655 1333.62 L622.017 1338.93 L642.378 1416.06 \n",
       "  L662.74 1426.29 L683.101 1434.4 L703.463 1300.85 L723.825 1194.83 L744.186 1277.95 L764.548 1235.7 L784.91 1234.52 L805.271 1187.38 L825.633 1249.52 L845.995 1335.41 \n",
       "  L866.356 1341.3 L886.718 1351.7 L907.079 1433.84 L927.441 1376.19 L947.803 1415.77 L968.164 1443.88 L988.526 1359.46 L1008.89 1379.84 L1029.25 1438.39 L1049.61 1351.56 \n",
       "  L1069.97 1279.65 L1090.33 1349.48 L1110.7 1308.85 L1131.06 1290.85 L1151.42 1322.56 L1171.78 1314.76 L1192.14 1319.9 L1212.5 1219.62 L1232.87 1181.92 L1253.23 1205.22 \n",
       "  L1273.59 1098.51 L1293.95 1067.14 L1314.31 1060.94 L1334.67 1145.64 L1355.04 1087.34 L1375.4 1053.93 L1395.76 1121.26 L1416.12 1108.39 L1436.48 1164.23 L1456.84 1207.57 \n",
       "  L1477.21 1230.64 L1497.57 1227.64 L1517.93 1167.68 L1538.29 1200.65 L1558.65 1220.24 L1579.01 1347.94 L1599.38 1321.49 L1619.74 1266.84 L1640.1 1195.77 L1660.46 1275.17 \n",
       "  L1680.82 1280.34 L1701.18 1218.06 L1721.55 1267.35 L1741.91 1296.52 L1762.27 1282.24 L1782.63 1209.28 L1802.99 1301.34 L1823.35 1328.61 L1843.71 1314.96 L1864.08 1345.57 \n",
       "  L1884.44 1328.58 L1904.8 1349.15 L1925.16 1273.37 L1945.52 1294.57 L1965.88 1290.56 L1986.25 1231.92 L2006.61 1250.53 L2026.97 1334.61 L2047.33 1353.14 L2067.69 1295.58 \n",
       "  L2088.05 1232.64 L2108.42 1195.27 L2128.78 1313.06 L2149.14 1277.45 L2169.5 1196.57 L2189.86 1261.78 L2210.22 1257.2 L2230.59 1426.12 L2250.95 1445.72 L2271.31 1389.71 \n",
       "  L2291.67 1407.5 L2291.67 378.786 L2271.31 355.204 L2250.95 278.655 L2230.59 287.563 L2210.22 394.597 L2189.86 361.675 L2169.5 261.454 L2149.14 181.475 L2128.78 210.545 \n",
       "  L2108.42 314.029 L2088.05 314.356 L2067.69 348.824 L2047.33 290.197 L2026.97 270.024 L2006.61 239.563 L1986.25 221.183 L1965.88 235.345 L1945.52 298.139 L1925.16 295.627 \n",
       "  L1904.8 258.378 L1884.44 188.594 L1864.08 242.71 L1843.71 87.9763 L1823.35 100.714 L1802.99 129.788 L1782.63 153.065 L1762.27 157.038 L1741.91 136.635 L1721.55 142.913 \n",
       "  L1701.18 141.156 L1680.82 111.16 L1660.46 236.473 L1640.1 209.395 L1619.74 260.195 L1599.38 322.179 L1579.01 341.965 L1558.65 323.392 L1538.29 335.067 L1517.93 323.796 \n",
       "  L1497.57 300.514 L1477.21 325.579 L1456.84 264.445 L1436.48 270.894 L1416.12 258.221 L1395.76 256.66 L1375.4 268.35 L1355.04 286.101 L1334.67 268.94 L1314.31 157.959 \n",
       "  L1293.95 283.828 L1273.59 226.031 L1253.23 243.3 L1232.87 346.523 L1212.5 292.104 L1192.14 271.119 L1171.78 223.914 L1151.42 243.457 L1131.06 174.449 L1110.7 148.469 \n",
       "  L1090.33 195.718 L1069.97 195.496 L1049.61 212.605 L1029.25 226.951 L1008.89 122.696 L988.526 169.536 L968.164 204.538 L947.803 247.665 L927.441 228.684 L907.079 190.996 \n",
       "  L886.718 136.265 L866.356 138.574 L845.995 183.919 L825.633 222.829 L805.271 198.672 L784.91 273.167 L764.548 289.648 L744.186 317.806 L723.825 332.203 L703.463 297.508 \n",
       "  L683.101 259.656 L662.74 302.034 L642.378 275.092 L622.017 233.48 L601.655 228.903 L581.293 250.563 L560.932 253.539 L540.57 252.508 L520.208 273.351 L499.847 232.369 \n",
       "  L479.485 233.537 L459.123 325.205 L438.762 411.213 L418.4 441.112 L398.039 362.052 L377.677 277.055 L357.315 360.899 L336.954 386.204 L316.592 420.243 L296.23 421.868 \n",
       "  L275.869 356.721 L255.507 380.797  Z\n",
       "  \" fill=\"#009af9\" fill-rule=\"evenodd\" fill-opacity=\"0.2\"/>\n",
       "<polyline clip-path=\"url(#clip362)\" style=\"stroke:#009af9; stroke-linecap:butt; stroke-linejoin:round; stroke-width:12; stroke-opacity:1; fill:none\" points=\"\n",
       "  255.507,836.818 275.869,808.377 296.23,822.382 316.592,869.489 336.954,866.899 357.315,788.145 377.677,773.361 398.039,773.143 418.4,795.789 438.762,789.441 \n",
       "  459.123,797.004 479.485,749.132 499.847,738.392 520.208,721.052 540.57,743.573 560.932,702.764 581.293,679.29 601.655,661.278 622.017,716.459 642.378,682.196 \n",
       "  662.74,690.988 683.101,687.423 703.463,658.459 723.825,686.887 744.186,667.176 764.548,647.875 784.91,645.457 805.271,616.809 825.633,645.822 845.995,698.511 \n",
       "  866.356,696.443 886.718,677.073 907.079,685.827 927.441,661.208 947.803,644.532 968.164,686.761 988.526,668.042 1008.89,686.605 1029.25,757.77 1049.61,709.063 \n",
       "  1069.97,743.649 1090.33,728.928 1110.7,735.318 1131.06,744.896 1151.42,783.087 1171.78,817.417 1192.14,788.463 1212.5,744.085 1232.87,764.503 1253.23,794.662 \n",
       "  1273.59,769.433 1293.95,727.368 1314.31,698.7 1334.67,701.527 1355.04,676.183 1375.4,724.648 1395.76,700.245 1416.12,691.944 1436.48,710.772 1456.84,682.846 \n",
       "  1477.21,683.212 1497.57,690.797 1517.93,728.185 1538.29,703.08 1558.65,690.058 1579.01,716.758 1599.38,673.225 1619.74,718.875 1640.1,752.221 1660.46,723.8 \n",
       "  1680.82,664.25 1701.18,560.292 1721.55,659.786 1741.91,687.242 1762.27,685.196 1782.63,725.624 1802.99,692.402 1823.35,715.726 1843.71,736.319 1864.08,741.085 \n",
       "  1884.44,724.384 1904.8,698.095 1925.16,722.86 1945.52,704.987 1965.88,702.041 1986.25,647.092 2006.61,642.172 2026.97,586.976 2047.33,667.202 2067.69,715.132 \n",
       "  2088.05,712.666 2108.42,742.476 2128.78,725.448 2149.14,763.438 2169.5,818.316 2189.86,769.484 2210.22,845.668 2230.59,816.151 2250.95,785.486 2271.31,789.114 \n",
       "  2291.67,815.435 \n",
       "  \"/>\n",
       "<path clip-path=\"url(#clip362)\" d=\"\n",
       "M255.507 781.705 L275.869 776.499 L296.23 786.099 L316.592 773.817 L336.954 775.952 L357.315 778.406 L377.677 783.187 L398.039 778.736 L418.4 778.716 L438.762 783.008 \n",
       "  L459.123 782.5 L479.485 784.584 L499.847 778.286 L520.208 790.535 L540.57 779.211 L560.932 781.36 L581.293 787.476 L601.655 775.181 L622.017 782.603 L642.378 781.897 \n",
       "  L662.74 774.962 L683.101 780.199 L703.463 782.333 L723.825 782.454 L744.186 777.503 L764.548 776.266 L784.91 775.585 L805.271 779.047 L825.633 781.756 L845.995 780.585 \n",
       "  L866.356 780.91 L886.718 785.601 L907.079 780.218 L927.441 786.331 L947.803 783.896 L968.164 775.866 L988.526 778.848 L1008.89 781.46 L1029.25 776.988 L1049.61 792.187 \n",
       "  L1069.97 780.57 L1090.33 775.929 L1110.7 785.801 L1131.06 781.869 L1151.42 785.295 L1171.78 783.913 L1192.14 778.142 L1212.5 775.63 L1232.87 781.764 L1253.23 783.351 \n",
       "  L1273.59 778.995 L1293.95 779.014 L1314.31 778.607 L1334.67 780.609 L1355.04 781.853 L1375.4 780.228 L1395.76 782.521 L1416.12 774.89 L1436.48 782.177 L1456.84 780.592 \n",
       "  L1477.21 780.778 L1497.57 781.696 L1517.93 781.397 L1538.29 781.431 L1558.65 782.835 L1579.01 779.301 L1599.38 785.882 L1619.74 778.802 L1640.1 778.232 L1660.46 782.367 \n",
       "  L1680.82 777.142 L1701.18 788.368 L1721.55 780.868 L1741.91 787.862 L1762.27 776.947 L1782.63 784.35 L1802.99 779.457 L1823.35 781.494 L1843.71 780.33 L1864.08 778.102 \n",
       "  L1884.44 781.604 L1904.8 775.999 L1925.16 775.797 L1945.52 781.524 L1965.88 781.334 L1986.25 781.873 L2006.61 777.356 L2026.97 788.533 L2047.33 781.956 L2067.69 784.48 \n",
       "  L2088.05 779.692 L2108.42 781.915 L2128.78 778.602 L2149.14 779.596 L2169.5 781.565 L2189.86 779.667 L2210.22 781.232 L2230.59 781.48 L2250.95 778.823 L2271.31 778.083 \n",
       "  L2291.67 782.933 L2291.67 741.66 L2271.31 745.108 L2250.95 743.743 L2230.59 740.117 L2210.22 740.872 L2189.86 745.786 L2169.5 735.384 L2149.14 740.462 L2128.78 744.586 \n",
       "  L2108.42 742.648 L2088.05 747.124 L2067.69 741.696 L2047.33 746.038 L2026.97 743.751 L2006.61 733.79 L1986.25 743.315 L1965.88 737.993 L1945.52 736.526 L1925.16 739.534 \n",
       "  L1904.8 733.185 L1884.44 745.477 L1864.08 742.55 L1843.71 742.438 L1823.35 742.631 L1802.99 746.67 L1782.63 744.284 L1762.27 741.633 L1741.91 743.807 L1721.55 743.075 \n",
       "  L1701.18 745.065 L1680.82 736.711 L1660.46 740.174 L1640.1 741.391 L1619.74 736.989 L1599.38 746.136 L1579.01 735.631 L1558.65 737.49 L1538.29 744.616 L1517.93 732.571 \n",
       "  L1497.57 737.868 L1477.21 742.506 L1456.84 745.089 L1436.48 738.602 L1416.12 742.49 L1395.76 745.797 L1375.4 739.696 L1355.04 736.14 L1334.67 740.059 L1314.31 748.056 \n",
       "  L1293.95 738.451 L1273.59 736.635 L1253.23 741.557 L1232.87 743.169 L1212.5 742.676 L1192.14 738.802 L1171.78 744.337 L1151.42 737.184 L1131.06 748.233 L1110.7 743.826 \n",
       "  L1090.33 737.926 L1069.97 740.719 L1049.61 739.261 L1029.25 741.196 L1008.89 749.664 L988.526 741.01 L968.164 739.423 L947.803 740.821 L927.441 748.313 L907.079 742.093 \n",
       "  L886.718 743.878 L866.356 748.567 L845.995 741.227 L825.633 744.822 L805.271 744.142 L784.91 738.947 L764.548 740.166 L744.186 743.699 L723.825 743.537 L703.463 742.422 \n",
       "  L683.101 738.759 L662.74 743.99 L642.378 748.822 L622.017 741.671 L601.655 746.694 L581.293 735.708 L560.932 739.493 L540.57 742.784 L520.208 743.624 L499.847 738.2 \n",
       "  L479.485 743.857 L459.123 732.855 L438.762 742.94 L418.4 742.823 L398.039 748.605 L377.677 746.052 L357.315 738.128 L336.954 737.567 L316.592 736.251 L296.23 743.305 \n",
       "  L275.869 746.765 L255.507 743.299  Z\n",
       "  \" fill=\"#e26f46\" fill-rule=\"evenodd\" fill-opacity=\"0.2\"/>\n",
       "<polyline clip-path=\"url(#clip362)\" style=\"stroke:#e26f46; stroke-linecap:butt; stroke-linejoin:round; stroke-width:12; stroke-opacity:1; fill:none\" points=\"\n",
       "  255.507,759.797 275.869,762.152 296.23,764.038 316.592,762.265 336.954,755.12 357.315,760.386 377.677,764.301 398.039,763.592 418.4,760.713 438.762,761.929 \n",
       "  459.123,756.815 479.485,758.412 499.847,762.59 520.208,764.583 540.57,756.01 560.932,760.589 581.293,762.876 601.655,760.2 622.017,760.815 642.378,766.606 \n",
       "  662.74,760.797 683.101,759.18 703.463,760.642 723.825,761.53 744.186,758.725 764.548,757.526 784.91,760.739 805.271,760.44 825.633,761.25 845.995,759.029 \n",
       "  866.356,763.679 886.718,764.257 907.079,762.607 927.441,759.998 947.803,763.319 968.164,765.303 988.526,758.436 1008.89,765.404 1029.25,760.161 1049.61,758.798 \n",
       "  1069.97,762.47 1090.33,759.666 1110.7,762.43 1131.06,764.579 1151.42,761.62 1171.78,761.401 1192.14,759.617 1212.5,764.543 1232.87,761.98 1253.23,759.405 \n",
       "  1273.59,755.961 1293.95,761.597 1314.31,766.09 1334.67,762.275 1355.04,762.973 1375.4,760.747 1395.76,763.319 1416.12,760.691 1436.48,757.154 1456.84,761.607 \n",
       "  1477.21,765.964 1497.57,762.201 1517.93,764.021 1538.29,760.282 1558.65,763.532 1579.01,764.494 1599.38,761.377 1619.74,764.958 1640.1,760.178 1660.46,758.231 \n",
       "  1680.82,760.559 1701.18,763.762 1721.55,760.028 1741.91,759.725 1762.27,762.215 1782.63,765.032 1802.99,761.22 1823.35,767.089 1843.71,761.884 1864.08,760.54 \n",
       "  1884.44,761.343 1904.8,760.197 1925.16,760.018 1945.52,760.067 1965.88,759.94 1986.25,762.754 2006.61,763.655 2026.97,766.296 2047.33,764.026 2067.69,759.552 \n",
       "  2088.05,758.806 2108.42,760.811 2128.78,763.962 2149.14,765.388 2169.5,760.943 2189.86,762.384 2210.22,760.682 2230.59,763.467 2250.95,763.302 2271.31,765.283 \n",
       "  2291.67,762.118 \n",
       "  \"/>\n",
       "</svg>\n"
      ]
     },
     "execution_count": 47,
     "metadata": {},
     "output_type": "execute_result"
    }
   ],
   "source": [
    "plot(summ, fillalpha= 0.2) # plots by default show the median and quantiles of both variables.  Modifying transparency as an example"
   ]
  },
  {
   "cell_type": "markdown",
   "metadata": {},
   "source": [
    "## Calculate sequence of observables\n",
    "We can use the underlying state-space model to easily simulate states and observables"
   ]
  },
  {
   "cell_type": "code",
   "execution_count": 48,
   "metadata": {},
   "outputs": [
    {
     "data": {
      "text/plain": [
       "2×21 Matrix{Float64}:\n",
       "  0.00117136  -0.00510723  …  -0.0234732  -0.0255699  -0.00436359\n",
       " -0.0624122   -0.0923579      -0.152582   -0.177907   -0.232677"
      ]
     },
     "execution_count": 48,
     "metadata": {},
     "output_type": "execute_result"
    }
   ],
   "source": [
    "# Simulate T observations\n",
    "T = 20\n",
    "\n",
    "p_f = (ρ = 0.2, δ = 0.02, σ = 0.01, Ω_1 = 0.01) # Fixed parameters\n",
    "p_d = (α = 0.5, β = 0.95) # Pseudo-true values\n",
    "sol = generate_perturbation(model_rbc, p_d, p_f) # Solution to the first-order RBC\n",
    "\n",
    "x_iv = MvNormal(sol.x_ergodic_var) # draw initial conditions from the ergodic distribution\n",
    "problem = LinearStateSpaceProblem(sol, x_iv, (0, T))\n",
    "sim = solve(problem, DirectIteration())\n",
    "ϵ = sim.W # store the underlying noise in the simulation\n",
    "\n",
    "# Collapse to simulated observables as a matrix  - as required by current DifferenceEquations.jl likelihood\n",
    "# see https://github.com/SciML/DifferenceEquations.jl/issues/55 for direct support of this datastructure\n",
    "z_rbc = hcat(sim.z...) "
   ]
  },
  {
   "cell_type": "markdown",
   "metadata": {},
   "source": [
    "# Bayesian estimation with Turing \n",
    "The combination of this package and DifferenceEquations enables gradient-based estimation methods such as NUTS/HMC.  We will show this with Julia's Turing package, which provides a probabalistic programming lanuage (PPL) in the same spirit as Stan.\n",
    "\n",
    "For gradients, we use the Zygote.jl reverse-mode auto-differentiation package, which is compatible with both DSSM and DifferenceEquations.\n",
    "\n",
    "We will consider two likelihoods:  a Kalman-Filter where we marginalize out the latent dimensions for linear-gaussian problems, and a joint distribution between the latents and the deep parameters.  In both cases, gradients of the underlying likelihoods are provided by the packages."
   ]
  },
  {
   "cell_type": "code",
   "execution_count": 49,
   "metadata": {},
   "outputs": [],
   "source": [
    "using Turing\n",
    "using Turing: @addlogprob!\n",
    "Turing.setadbackend(:zygote);  # Especially when we sample the latent noise, we will require high-dimensional gradients with reverse-mode AD"
   ]
  },
  {
   "cell_type": "markdown",
   "metadata": {},
   "source": [
    "## First-order, marginal likelihood approach\n",
    "This case samples the deep parameters, calculates the state-space model from the first-order perturbation, then evaluates the likelihood using a Kalman Filter."
   ]
  },
  {
   "cell_type": "code",
   "execution_count": 50,
   "metadata": {},
   "outputs": [
    {
     "name": "stdout",
     "output_type": "stream",
     "text": [
      "Sampling.  Ignore any 'rejected due to numerical errors' warnings\n"
     ]
    },
    {
     "name": "stderr",
     "output_type": "stream",
     "text": [
      "┌ Warning: The current proposal will be rejected due to numerical error(s).\n",
      "│   isfinite.((θ, r, ℓπ, ℓκ)) = (true, true, false, true)\n",
      "└ @ AdvancedHMC C:\\Users\\jesse\\.julia\\packages\\AdvancedHMC\\51xgc\\src\\hamiltonian.jl:47\n",
      "┌ Warning: The current proposal will be rejected due to numerical error(s).\n",
      "│   isfinite.((θ, r, ℓπ, ℓκ)) = (true, true, false, true)\n",
      "└ @ AdvancedHMC C:\\Users\\jesse\\.julia\\packages\\AdvancedHMC\\51xgc\\src\\hamiltonian.jl:47\n",
      "┌ Warning: The current proposal will be rejected due to numerical error(s).\n",
      "│   isfinite.((θ, r, ℓπ, ℓκ)) = (true, true, false, true)\n",
      "└ @ AdvancedHMC C:\\Users\\jesse\\.julia\\packages\\AdvancedHMC\\51xgc\\src\\hamiltonian.jl:47\n",
      "┌ Warning: The current proposal will be rejected due to numerical error(s).\n",
      "│   isfinite.((θ, r, ℓπ, ℓκ)) = (true, true, false, true)\n",
      "└ @ AdvancedHMC C:\\Users\\jesse\\.julia\\packages\\AdvancedHMC\\51xgc\\src\\hamiltonian.jl:47\n",
      "┌ Warning: The current proposal will be rejected due to numerical error(s).\n",
      "│   isfinite.((θ, r, ℓπ, ℓκ)) = (true, true, false, true)\n",
      "└ @ AdvancedHMC C:\\Users\\jesse\\.julia\\packages\\AdvancedHMC\\51xgc\\src\\hamiltonian.jl:47\n",
      "┌ Warning: The current proposal will be rejected due to numerical error(s).\n",
      "│   isfinite.((θ, r, ℓπ, ℓκ)) = (true, true, false, true)\n",
      "└ @ AdvancedHMC C:\\Users\\jesse\\.julia\\packages\\AdvancedHMC\\51xgc\\src\\hamiltonian.jl:47\n",
      "┌ Warning: The current proposal will be rejected due to numerical error(s).\n",
      "│   isfinite.((θ, r, ℓπ, ℓκ)) = (true, true, false, true)\n",
      "└ @ AdvancedHMC C:\\Users\\jesse\\.julia\\packages\\AdvancedHMC\\51xgc\\src\\hamiltonian.jl:47\n",
      "┌ Warning: The current proposal will be rejected due to numerical error(s).\n",
      "│   isfinite.((θ, r, ℓπ, ℓκ)) = (true, true, false, true)\n",
      "└ @ AdvancedHMC C:\\Users\\jesse\\.julia\\packages\\AdvancedHMC\\51xgc\\src\\hamiltonian.jl:47\n",
      "┌ Warning: The current proposal will be rejected due to numerical error(s).\n",
      "│   isfinite.((θ, r, ℓπ, ℓκ)) = (true, true, false, true)\n",
      "└ @ AdvancedHMC C:\\Users\\jesse\\.julia\\packages\\AdvancedHMC\\51xgc\\src\\hamiltonian.jl:47\n",
      "┌ Info: Found initial step size\n",
      "│   ϵ = 0.2\n",
      "└ @ Turing.Inference C:\\Users\\jesse\\.julia\\packages\\Turing\\S4Y4B\\src\\inference\\hmc.jl:188\n",
      "┌ Warning: The current proposal will be rejected due to numerical error(s).\n",
      "│   isfinite.((θ, r, ℓπ, ℓκ)) = (true, true, false, true)\n",
      "└ @ AdvancedHMC C:\\Users\\jesse\\.julia\\packages\\AdvancedHMC\\51xgc\\src\\hamiltonian.jl:47\n",
      "┌ Warning: The current proposal will be rejected due to numerical error(s).\n",
      "│   isfinite.((θ, r, ℓπ, ℓκ)) = (true, false, false, false)\n",
      "└ @ AdvancedHMC C:\\Users\\jesse\\.julia\\packages\\AdvancedHMC\\51xgc\\src\\hamiltonian.jl:47\n",
      "\u001b[32mSampling:   1%|█                                        |  ETA: 0:00:09\u001b[39m┌ Warning: The current proposal will be rejected due to numerical error(s).\n",
      "│   isfinite.((θ, r, ℓπ, ℓκ)) = (true, false, false, false)\n",
      "└ @ AdvancedHMC C:\\Users\\jesse\\.julia\\packages\\AdvancedHMC\\51xgc\\src\\hamiltonian.jl:47\n",
      "\u001b[32mSampling:   4%|██                                       |  ETA: 0:00:10\u001b[39m┌ Warning: The current proposal will be rejected due to numerical error(s).\n",
      "│   isfinite.((θ, r, ℓπ, ℓκ)) = (true, true, false, true)\n",
      "└ @ AdvancedHMC C:\\Users\\jesse\\.julia\\packages\\AdvancedHMC\\51xgc\\src\\hamiltonian.jl:47\n",
      "\u001b[32mSampling:   7%|███                                      |  ETA: 0:00:09\u001b[39m┌ Warning: The current proposal will be rejected due to numerical error(s).\n",
      "│   isfinite.((θ, r, ℓπ, ℓκ)) = (true, false, false, false)\n",
      "└ @ AdvancedHMC C:\\Users\\jesse\\.julia\\packages\\AdvancedHMC\\51xgc\\src\\hamiltonian.jl:47\n",
      "\u001b[32mSampling: 100%|█████████████████████████████████████████| Time: 0:00:11\u001b[39m\n"
     ]
    },
    {
     "data": {
      "text/plain": [
       "Chains MCMC chain (1000×14×1 Array{Float64, 3}):\n",
       "\n",
       "Iterations        = 251:1:1250\n",
       "Number of chains  = 1\n",
       "Samples per chain = 1000\n",
       "Wall duration     = 11.69 seconds\n",
       "Compute duration  = 11.69 seconds\n",
       "parameters        = α, β\n",
       "internals         = lp, n_steps, is_accept, acceptance_rate, log_density, hamiltonian_energy, hamiltonian_energy_error, max_hamiltonian_energy_error, tree_depth, numerical_error, step_size, nom_step_size\n",
       "\n",
       "Summary Statistics\n",
       " \u001b[1m parameters \u001b[0m \u001b[1m    mean \u001b[0m \u001b[1m     std \u001b[0m \u001b[1m naive_se \u001b[0m \u001b[1m    mcse \u001b[0m \u001b[1m      ess \u001b[0m \u001b[1m    rhat \u001b[0m \u001b[1m e\u001b[0m ⋯\n",
       " \u001b[90m     Symbol \u001b[0m \u001b[90m Float64 \u001b[0m \u001b[90m Float64 \u001b[0m \u001b[90m  Float64 \u001b[0m \u001b[90m Float64 \u001b[0m \u001b[90m  Float64 \u001b[0m \u001b[90m Float64 \u001b[0m \u001b[90m  \u001b[0m ⋯\n",
       "\n",
       "           α    0.5188    0.0253     0.0008    0.0012   335.1359    1.0008     ⋯\n",
       "           β    0.9357    0.0110     0.0003    0.0006   343.0458    1.0014     ⋯\n",
       "\u001b[36m                                                                1 column omitted\u001b[0m\n",
       "\n",
       "Quantiles\n",
       " \u001b[1m parameters \u001b[0m \u001b[1m    2.5% \u001b[0m \u001b[1m   25.0% \u001b[0m \u001b[1m   50.0% \u001b[0m \u001b[1m   75.0% \u001b[0m \u001b[1m   97.5% \u001b[0m\n",
       " \u001b[90m     Symbol \u001b[0m \u001b[90m Float64 \u001b[0m \u001b[90m Float64 \u001b[0m \u001b[90m Float64 \u001b[0m \u001b[90m Float64 \u001b[0m \u001b[90m Float64 \u001b[0m\n",
       "\n",
       "           α    0.4704    0.5017    0.5182    0.5367    0.5681\n",
       "           β    0.9133    0.9281    0.9357    0.9429    0.9569\n"
      ]
     },
     "execution_count": 50,
     "metadata": {},
     "output_type": "execute_result"
    }
   ],
   "source": [
    "# Turing model definition\n",
    "@model function rbc_kalman(z, m, p_f, settings)\n",
    "    α ~ Uniform(0.2, 0.8)  # priors\n",
    "    β ~ Uniform(0.5, 0.99) \n",
    "    p_d = (; α, β)\n",
    "    T = size(z, 2)\n",
    "    # also passes in the p_f for fixed values\n",
    "    sol = generate_perturbation(m, p_d, p_f, Val(1); settings) # first-order perturbation\n",
    "    if !(sol.retcode == :Success) # if the perturbation failed, we want to return -infinity for the likelihood and resample\n",
    "        @addlogprob! -Inf\n",
    "        return\n",
    "    end\n",
    "    problem = LinearStateSpaceProblem(sol, zeros(2), (0, T), observables = z) # utility constructs a LinearStateSpaceProblem from the sol.A, sol.B, etc.\n",
    "    @addlogprob! solve(problem, KalmanFilter()).logpdf # Linear-Gaussian so can marginalize with kalman filter.  It should automatically choose the KalmanFilter in this case if not provided.\n",
    "end\n",
    "cache = SolverCache(model_rbc, Val(1),  [:α, :β])\n",
    "settings = PerturbationSolverSettings(; print_level = 0)\n",
    "p_f = (ρ = 0.2, δ = 0.02, σ = 0.01, Ω_1 = 0.01) # Fixed parameters\n",
    "z = z_rbc # simulated in previous steps\n",
    "turing_model = rbc_kalman(z, model_rbc, p_f, cache, settings) # passing observables from before \n",
    "\n",
    "n_samples = 1000\n",
    "n_adapts = 250\n",
    "δ = 0.65\n",
    "alg = NUTS(n_adapts,δ)\n",
    "println(\"Sampling.  Ignore any 'rejected due to numerical errors' warnings\")  # At this point, Turing can't turn off those warnings\n",
    "chain_1_marginal = sample(turing_model, alg, n_samples; progress = true)"
   ]
  },
  {
   "cell_type": "markdown",
   "metadata": {},
   "source": [
    "## First-order, joint likelihood approach\n",
    "The second case instead draws all of the latents and evaluates the joint likelihood of all.  This is slower than the the marginal case of a kalman filter in cases where everything is linear-gaussian, but it enables non-gaussian shocks and more flexility.  This approach is used for the 2nd order perturbations in the next case instead of marginalizing with a particle filter.\n",
    "\n",
    "It is possible that the joint likelihood becomes more competitive with the kalman filter for large models, but for now consider this a demonstration that sampling the high-dimensional latent variables gives the correct answer and is not unusable slow."
   ]
  },
  {
   "cell_type": "code",
   "execution_count": 30,
   "metadata": {},
   "outputs": [
    {
     "name": "stderr",
     "output_type": "stream",
     "text": [
      "┌ Warning: The current proposal will be rejected due to numerical error(s).\n",
      "│   isfinite.((θ, r, ℓπ, ℓκ)) = (true, true, false, true)\n",
      "└ @ AdvancedHMC C:\\Users\\jesse\\.julia\\packages\\AdvancedHMC\\51xgc\\src\\hamiltonian.jl:47\n",
      "┌ Warning: The current proposal will be rejected due to numerical error(s).\n",
      "│   isfinite.((θ, r, ℓπ, ℓκ)) = (true, true, false, true)\n",
      "└ @ AdvancedHMC C:\\Users\\jesse\\.julia\\packages\\AdvancedHMC\\51xgc\\src\\hamiltonian.jl:47\n",
      "┌ Warning: The current proposal will be rejected due to numerical error(s).\n",
      "│   isfinite.((θ, r, ℓπ, ℓκ)) = (true, true, false, true)\n",
      "└ @ AdvancedHMC C:\\Users\\jesse\\.julia\\packages\\AdvancedHMC\\51xgc\\src\\hamiltonian.jl:47\n",
      "┌ Info: Found initial step size\n",
      "│   ϵ = 0.00625\n",
      "└ @ Turing.Inference C:\\Users\\jesse\\.julia\\packages\\Turing\\S4Y4B\\src\\inference\\hmc.jl:188\n",
      "\u001b[32mSampling: 100%|█████████████████████████████████████████| Time: 0:05:07\u001b[39m\n"
     ]
    },
    {
     "data": {
      "text/plain": [
       "Chains MCMC chain (1000×35×1 Array{Float64, 3}):\n",
       "\n",
       "Iterations        = 251:1:1250\n",
       "Number of chains  = 1\n",
       "Samples per chain = 1000\n",
       "Wall duration     = 345.31 seconds\n",
       "Compute duration  = 345.31 seconds\n",
       "parameters        = α, β, ϵ_draw[1], ϵ_draw[2], ϵ_draw[3], ϵ_draw[4], ϵ_draw[5], ϵ_draw[6], ϵ_draw[7], ϵ_draw[8], ϵ_draw[9], ϵ_draw[10], ϵ_draw[11], ϵ_draw[12], ϵ_draw[13], ϵ_draw[14], ϵ_draw[15], ϵ_draw[16], ϵ_draw[17], ϵ_draw[18], ϵ_draw[19], ϵ_draw[20], ϵ_draw[21]\n",
       "internals         = lp, n_steps, is_accept, acceptance_rate, log_density, hamiltonian_energy, hamiltonian_energy_error, max_hamiltonian_energy_error, tree_depth, numerical_error, step_size, nom_step_size\n",
       "\n",
       "Summary Statistics\n",
       " \u001b[1m parameters \u001b[0m \u001b[1m    mean \u001b[0m \u001b[1m     std \u001b[0m \u001b[1m naive_se \u001b[0m \u001b[1m    mcse \u001b[0m \u001b[1m       ess \u001b[0m \u001b[1m    rhat \u001b[0m \u001b[1m \u001b[0m ⋯\n",
       " \u001b[90m     Symbol \u001b[0m \u001b[90m Float64 \u001b[0m \u001b[90m Float64 \u001b[0m \u001b[90m  Float64 \u001b[0m \u001b[90m Float64 \u001b[0m \u001b[90m   Float64 \u001b[0m \u001b[90m Float64 \u001b[0m \u001b[90m \u001b[0m ⋯\n",
       "\n",
       "           α    0.5598    0.0145     0.0005    0.0010    158.4669    0.9995    ⋯\n",
       "           β    0.9463    0.0033     0.0001    0.0001    633.5484    0.9991    ⋯\n",
       "   ϵ_draw[1]   -3.5284    0.5325     0.0168    0.0356    157.4933    0.9997    ⋯\n",
       "   ϵ_draw[2]    0.5110    0.1470     0.0046    0.0065    459.4708    1.0000    ⋯\n",
       "   ϵ_draw[3]    0.9017    0.1839     0.0058    0.0091    277.4111    1.0008    ⋯\n",
       "   ϵ_draw[4]   -0.3606    0.1401     0.0044    0.0052    677.2128    1.0009    ⋯\n",
       "   ϵ_draw[5]   -0.1998    0.1408     0.0045    0.0050    834.8398    0.9990    ⋯\n",
       "   ϵ_draw[6]   -1.2497    0.2231     0.0071    0.0132    200.8701    0.9993    ⋯\n",
       "   ϵ_draw[7]    0.8360    0.1727     0.0055    0.0092    228.3695    1.0007    ⋯\n",
       "   ϵ_draw[8]    0.0514    0.1278     0.0040    0.0037    912.9340    0.9992    ⋯\n",
       "   ϵ_draw[9]    0.1030    0.1246     0.0039    0.0046    777.9726    0.9990    ⋯\n",
       "  ϵ_draw[10]    0.6417    0.1544     0.0049    0.0081    345.0066    0.9991    ⋯\n",
       "  ϵ_draw[11]   -1.5802    0.2648     0.0084    0.0161    204.4117    1.0001    ⋯\n",
       "  ϵ_draw[12]   -0.2968    0.1532     0.0048    0.0048    689.6057    0.9990    ⋯\n",
       "  ϵ_draw[13]   -0.1883    0.1432     0.0045    0.0041   1004.9092    0.9991    ⋯\n",
       "  ϵ_draw[14]   -0.3493    0.1516     0.0048    0.0053    645.2997    0.9991    ⋯\n",
       "  ϵ_draw[15]   -0.2884    0.1455     0.0046    0.0052    748.1312    0.9995    ⋯\n",
       "  ϵ_draw[16]   -0.5341    0.1602     0.0051    0.0074    358.5623    0.9992    ⋯\n",
       "  ϵ_draw[17]   -0.7371    0.1782     0.0056    0.0086    307.3798    0.9996    ⋯\n",
       "  ϵ_draw[18]    0.0618    0.1383     0.0044    0.0059    655.3510    0.9993    ⋯\n",
       "  ϵ_draw[19]    0.1266    0.1415     0.0045    0.0070    431.2350    0.9991    ⋯\n",
       "  ϵ_draw[20]    0.4994    0.1521     0.0048    0.0066    391.8498    1.0026    ⋯\n",
       "  ϵ_draw[21]   -0.5318    0.7257     0.0229    0.0174   2146.8630    0.9997    ⋯\n",
       "\u001b[36m                                                                1 column omitted\u001b[0m\n",
       "\n",
       "Quantiles\n",
       " \u001b[1m parameters \u001b[0m \u001b[1m    2.5% \u001b[0m \u001b[1m   25.0% \u001b[0m \u001b[1m   50.0% \u001b[0m \u001b[1m   75.0% \u001b[0m \u001b[1m   97.5% \u001b[0m\n",
       " \u001b[90m     Symbol \u001b[0m \u001b[90m Float64 \u001b[0m \u001b[90m Float64 \u001b[0m \u001b[90m Float64 \u001b[0m \u001b[90m Float64 \u001b[0m \u001b[90m Float64 \u001b[0m\n",
       "\n",
       "           α    0.5322    0.5498    0.5594    0.5687    0.5900\n",
       "           β    0.9398    0.9441    0.9465    0.9485    0.9529\n",
       "   ϵ_draw[1]   -4.5804   -3.8713   -3.5216   -3.1860   -2.4798\n",
       "   ϵ_draw[2]    0.2559    0.4073    0.5052    0.6080    0.8202\n",
       "   ϵ_draw[3]    0.5765    0.7765    0.8880    1.0178    1.2902\n",
       "   ϵ_draw[4]   -0.6671   -0.4485   -0.3529   -0.2659   -0.1155\n",
       "   ϵ_draw[5]   -0.4838   -0.2888   -0.1978   -0.1087    0.0752\n",
       "   ϵ_draw[6]   -1.7215   -1.4047   -1.2321   -1.0956   -0.8519\n",
       "   ϵ_draw[7]    0.5385    0.7135    0.8263    0.9512    1.1956\n",
       "   ϵ_draw[8]   -0.1967   -0.0285    0.0473    0.1308    0.3136\n",
       "   ϵ_draw[9]   -0.1531    0.0196    0.1037    0.1841    0.3552\n",
       "  ϵ_draw[10]    0.3767    0.5345    0.6347    0.7426    0.9789\n",
       "  ϵ_draw[11]   -2.1238   -1.7588   -1.5732   -1.3860   -1.0975\n",
       "  ϵ_draw[12]   -0.6067   -0.3932   -0.2947   -0.1896   -0.0084\n",
       "  ϵ_draw[13]   -0.4907   -0.2763   -0.1809   -0.0904    0.0551\n",
       "  ϵ_draw[14]   -0.6649   -0.4482   -0.3460   -0.2462   -0.0589\n",
       "  ϵ_draw[15]   -0.5934   -0.3839   -0.2778   -0.1881   -0.0281\n",
       "  ϵ_draw[16]   -0.8645   -0.6424   -0.5301   -0.4175   -0.2562\n",
       "  ϵ_draw[17]   -1.1207   -0.8495   -0.7274   -0.6122   -0.4104\n",
       "  ϵ_draw[18]   -0.2114   -0.0244    0.0602    0.1592    0.3226\n",
       "  ϵ_draw[19]   -0.1413    0.0363    0.1216    0.2126    0.4203\n",
       "  ϵ_draw[20]    0.2269    0.3896    0.4875    0.5964    0.8266\n",
       "  ϵ_draw[21]   -2.0552   -0.9676   -0.5341   -0.0560    0.8558\n"
      ]
     },
     "execution_count": 30,
     "metadata": {},
     "output_type": "execute_result"
    }
   ],
   "source": [
    "# Turing model definition\n",
    "@model function rbc_1_joint(z, m, p_f, cache, settings)\n",
    "    α ~ Uniform(0.2, 0.8)\n",
    "    β ~ Uniform(0.5, 0.99)\n",
    "    p_d = (; α, β)\n",
    "    T = size(z, 2)\n",
    "    ϵ_draw ~ MvNormal(m.n_ϵ * T, 1.0)\n",
    "    ϵ = reshape(ϵ_draw, m.n_ϵ, T)\n",
    "    sol = generate_perturbation(m, p_d, p_f, Val(1); cache, settings)\n",
    "    if !(sol.retcode == :Success)\n",
    "        @addlogprob! -Inf\n",
    "        return\n",
    "    end\n",
    "    problem = LinearStateSpaceProblem(sol, zeros(2), (0, T), observables = z, noise=ϵ)\n",
    "    @addlogprob! solve(problem, DirectIteration()).logpdf # should choose DirectIteration() by default if not provided\n",
    "end\n",
    "cache = SolverCache(model_rbc, Val(1),  [:α, :β])\n",
    "settings = PerturbationSolverSettings(; print_level = 0)\n",
    "p_f = (ρ = 0.2, δ = 0.02, σ = 0.01, Ω_1 = 0.01) # Fixed parameters\n",
    "z = z_rbc # simulated in previous steps\n",
    "turing_model = rbc_1_joint(z, model_rbc, p_f, cache, settings) # passing observables from before \n",
    "\n",
    "n_samples = 1000\n",
    "n_adapts = 250\n",
    "δ = 0.65\n",
    "alg = NUTS(n_adapts,δ)\n",
    "chain_1_joint = sample(turing_model, alg, n_samples; progress = true)"
   ]
  },
  {
   "cell_type": "markdown",
   "metadata": {},
   "source": [
    "## Second-order, joint likelihood approach\n",
    "Finally, this calculates a second order perturbation and then samples the latents and deep parameters.  Of course, the Kalman Filter would not provide the correct likelihood so the proper comparison is something like a particle filter."
   ]
  },
  {
   "cell_type": "code",
   "execution_count": 31,
   "metadata": {},
   "outputs": [
    {
     "name": "stderr",
     "output_type": "stream",
     "text": [
      "┌ Warning: The current proposal will be rejected due to numerical error(s).\n",
      "│   isfinite.((θ, r, ℓπ, ℓκ)) = (true, false, false, false)\n",
      "└ @ AdvancedHMC C:\\Users\\jesse\\.julia\\packages\\AdvancedHMC\\51xgc\\src\\hamiltonian.jl:47\n",
      "┌ Warning: The current proposal will be rejected due to numerical error(s).\n",
      "│   isfinite.((θ, r, ℓπ, ℓκ)) = (true, false, false, false)\n",
      "└ @ AdvancedHMC C:\\Users\\jesse\\.julia\\packages\\AdvancedHMC\\51xgc\\src\\hamiltonian.jl:47\n",
      "┌ Warning: The current proposal will be rejected due to numerical error(s).\n",
      "│   isfinite.((θ, r, ℓπ, ℓκ)) = (true, true, false, true)\n",
      "└ @ AdvancedHMC C:\\Users\\jesse\\.julia\\packages\\AdvancedHMC\\51xgc\\src\\hamiltonian.jl:47\n",
      "┌ Info: Found initial step size\n",
      "│   ϵ = 0.00078125\n",
      "└ @ Turing.Inference C:\\Users\\jesse\\.julia\\packages\\Turing\\S4Y4B\\src\\inference\\hmc.jl:188\n",
      "\u001b[32mSampling: 100%|█████████████████████████████████████████| Time: 0:06:27\u001b[39m\n"
     ]
    },
    {
     "data": {
      "text/plain": [
       "Chains MCMC chain (1000×35×1 Array{Float64, 3}):\n",
       "\n",
       "Iterations        = 251:1:1250\n",
       "Number of chains  = 1\n",
       "Samples per chain = 1000\n",
       "Wall duration     = 420.04 seconds\n",
       "Compute duration  = 420.04 seconds\n",
       "parameters        = α, β, ϵ_draw[1], ϵ_draw[2], ϵ_draw[3], ϵ_draw[4], ϵ_draw[5], ϵ_draw[6], ϵ_draw[7], ϵ_draw[8], ϵ_draw[9], ϵ_draw[10], ϵ_draw[11], ϵ_draw[12], ϵ_draw[13], ϵ_draw[14], ϵ_draw[15], ϵ_draw[16], ϵ_draw[17], ϵ_draw[18], ϵ_draw[19], ϵ_draw[20], ϵ_draw[21]\n",
       "internals         = lp, n_steps, is_accept, acceptance_rate, log_density, hamiltonian_energy, hamiltonian_energy_error, max_hamiltonian_energy_error, tree_depth, numerical_error, step_size, nom_step_size\n",
       "\n",
       "Summary Statistics\n",
       " \u001b[1m parameters \u001b[0m \u001b[1m    mean \u001b[0m \u001b[1m     std \u001b[0m \u001b[1m naive_se \u001b[0m \u001b[1m    mcse \u001b[0m \u001b[1m       ess \u001b[0m \u001b[1m    rhat \u001b[0m \u001b[1m \u001b[0m ⋯\n",
       " \u001b[90m     Symbol \u001b[0m \u001b[90m Float64 \u001b[0m \u001b[90m Float64 \u001b[0m \u001b[90m  Float64 \u001b[0m \u001b[90m Float64 \u001b[0m \u001b[90m   Float64 \u001b[0m \u001b[90m Float64 \u001b[0m \u001b[90m \u001b[0m ⋯\n",
       "\n",
       "           α    0.5579    0.0143     0.0005    0.0011    132.1269    1.0064    ⋯\n",
       "           β    0.9467    0.0033     0.0001    0.0001    736.3041    0.9990    ⋯\n",
       "   ϵ_draw[1]   -3.5251    0.5324     0.0168    0.0425    119.1407    1.0082    ⋯\n",
       "   ϵ_draw[2]    0.5104    0.1511     0.0048    0.0069    404.6970    1.0013    ⋯\n",
       "   ϵ_draw[3]    0.9123    0.1873     0.0059    0.0111    222.2531    1.0016    ⋯\n",
       "   ϵ_draw[4]   -0.3619    0.1484     0.0047    0.0063    468.9568    0.9991    ⋯\n",
       "   ϵ_draw[5]   -0.2083    0.1432     0.0045    0.0047    895.3129    0.9992    ⋯\n",
       "   ϵ_draw[6]   -1.2554    0.2286     0.0072    0.0159    158.0244    1.0108    ⋯\n",
       "   ϵ_draw[7]    0.8385    0.1745     0.0055    0.0108    211.9735    1.0108    ⋯\n",
       "   ϵ_draw[8]    0.0580    0.1363     0.0043    0.0045   1091.3672    1.0026    ⋯\n",
       "   ϵ_draw[9]    0.0993    0.1355     0.0043    0.0046    812.5751    1.0013    ⋯\n",
       "  ϵ_draw[10]    0.6566    0.1593     0.0050    0.0092    219.1579    0.9994    ⋯\n",
       "  ϵ_draw[11]   -1.6012    0.2616     0.0083    0.0205    129.5864    1.0064    ⋯\n",
       "  ϵ_draw[12]   -0.2934    0.1456     0.0046    0.0060    551.1440    0.9990    ⋯\n",
       "  ϵ_draw[13]   -0.1982    0.1426     0.0045    0.0048    920.6066    0.9996    ⋯\n",
       "  ϵ_draw[14]   -0.3569    0.1581     0.0050    0.0077    360.6028    1.0069    ⋯\n",
       "  ϵ_draw[15]   -0.2896    0.1478     0.0047    0.0050    773.1015    1.0000    ⋯\n",
       "  ϵ_draw[16]   -0.5376    0.1627     0.0051    0.0073    366.7817    1.0096    ⋯\n",
       "  ϵ_draw[17]   -0.7512    0.1770     0.0056    0.0092    261.0838    1.0008    ⋯\n",
       "  ϵ_draw[18]    0.0731    0.1323     0.0042    0.0039    788.0872    0.9995    ⋯\n",
       "  ϵ_draw[19]    0.1127    0.1320     0.0042    0.0045    760.0396    1.0013    ⋯\n",
       "  ϵ_draw[20]    0.5175    0.1684     0.0053    0.0080    475.6943    0.9992    ⋯\n",
       "  ϵ_draw[21]   -0.5475    0.6731     0.0213    0.0156   1531.4745    0.9991    ⋯\n",
       "\u001b[36m                                                                1 column omitted\u001b[0m\n",
       "\n",
       "Quantiles\n",
       " \u001b[1m parameters \u001b[0m \u001b[1m    2.5% \u001b[0m \u001b[1m   25.0% \u001b[0m \u001b[1m   50.0% \u001b[0m \u001b[1m   75.0% \u001b[0m \u001b[1m   97.5% \u001b[0m\n",
       " \u001b[90m     Symbol \u001b[0m \u001b[90m Float64 \u001b[0m \u001b[90m Float64 \u001b[0m \u001b[90m Float64 \u001b[0m \u001b[90m Float64 \u001b[0m \u001b[90m Float64 \u001b[0m\n",
       "\n",
       "           α    0.5304    0.5479    0.5584    0.5681    0.5838\n",
       "           β    0.9405    0.9446    0.9466    0.9488    0.9532\n",
       "   ϵ_draw[1]   -4.5897   -3.9055   -3.4628   -3.1369   -2.6013\n",
       "   ϵ_draw[2]    0.2318    0.4077    0.5060    0.6103    0.8269\n",
       "   ϵ_draw[3]    0.5950    0.7742    0.8961    1.0329    1.3212\n",
       "   ϵ_draw[4]   -0.6795   -0.4628   -0.3523   -0.2629   -0.0954\n",
       "   ϵ_draw[5]   -0.5024   -0.3055   -0.1975   -0.1061    0.0518\n",
       "   ϵ_draw[6]   -1.7339   -1.4053   -1.2365   -1.0910   -0.8587\n",
       "   ϵ_draw[7]    0.5392    0.7138    0.8238    0.9456    1.2464\n",
       "   ϵ_draw[8]   -0.2013   -0.0361    0.0532    0.1489    0.3361\n",
       "   ϵ_draw[9]   -0.1438    0.0066    0.0966    0.1877    0.3608\n",
       "  ϵ_draw[10]    0.3641    0.5414    0.6509    0.7625    0.9950\n",
       "  ϵ_draw[11]   -2.1473   -1.7665   -1.5858   -1.4172   -1.1282\n",
       "  ϵ_draw[12]   -0.6228   -0.3773   -0.2852   -0.1966   -0.0360\n",
       "  ϵ_draw[13]   -0.4965   -0.2849   -0.1953   -0.1084    0.0584\n",
       "  ϵ_draw[14]   -0.6935   -0.4580   -0.3417   -0.2498   -0.0796\n",
       "  ϵ_draw[15]   -0.6156   -0.3825   -0.2847   -0.1904   -0.0313\n",
       "  ϵ_draw[16]   -0.8880   -0.6411   -0.5256   -0.4307   -0.2466\n",
       "  ϵ_draw[17]   -1.1303   -0.8646   -0.7405   -0.6259   -0.4453\n",
       "  ϵ_draw[18]   -0.1843   -0.0111    0.0747    0.1576    0.3391\n",
       "  ϵ_draw[19]   -0.1457    0.0221    0.1098    0.1987    0.3684\n",
       "  ϵ_draw[20]    0.2213    0.4024    0.5101    0.6226    0.8661\n",
       "  ϵ_draw[21]   -1.9672   -0.9740   -0.5444   -0.1210    0.8906\n"
      ]
     },
     "execution_count": 31,
     "metadata": {},
     "output_type": "execute_result"
    }
   ],
   "source": [
    "# Turing model definition\n",
    "@model function rbc_2_joint(z, m, p_f, cache, settings)\n",
    "    α ~ Uniform(0.2, 0.8)\n",
    "    β ~ Uniform(0.5, 0.99)\n",
    "    p_d = (; α, β)\n",
    "    T = size(z, 2)\n",
    "    ϵ_draw ~ MvNormal(m.n_ϵ * T, 1.0) # add noise to the estimation\n",
    "    ϵ = reshape(ϵ_draw, m.n_ϵ, T)\n",
    "    sol = generate_perturbation(m, p_d, p_f, Val(2); cache, settings)\n",
    "    if !(sol.retcode == :Success)\n",
    "        @addlogprob! -Inf\n",
    "        return\n",
    "    end\n",
    "    problem = QuadraticStateSpaceProblem(sol, zeros(2), (0, T), observables = z, noise=ϵ)\n",
    "    @addlogprob! solve(problem, DirectIteration()).logpdf\n",
    "end\n",
    "cache = SolverCache(model_rbc, Val(2),  [:α, :β])\n",
    "settings = PerturbationSolverSettings(; print_level = 0)\n",
    "z = z_rbc # simulated in previous steps\n",
    "p_f = (ρ = 0.2, δ = 0.02, σ = 0.01, Ω_1 = 0.01) # Fixed parameters\n",
    "turing_model = rbc_2_joint(z, model_rbc, p_f, cache, settings) # passing observables from before \n",
    "\n",
    "n_samples = 1000\n",
    "n_adapts = 250\n",
    "δ = 0.65\n",
    "alg = NUTS(n_adapts,δ)\n",
    "chain_2_joint = sample(turing_model, alg, n_samples; progress = true)"
   ]
  },
  {
   "cell_type": "markdown",
   "metadata": {},
   "source": [
    "## Plotting the estimated latent states\n",
    "Below is a graph which shows how well the high-dimensional sampled latents do relative to the pseudo-true latent values."
   ]
  },
  {
   "cell_type": "code",
   "execution_count": 32,
   "metadata": {},
   "outputs": [
    {
     "data": {
      "image/svg+xml": [
       "<?xml version=\"1.0\" encoding=\"utf-8\"?>\n",
       "<svg xmlns=\"http://www.w3.org/2000/svg\" xmlns:xlink=\"http://www.w3.org/1999/xlink\" width=\"600\" height=\"400\" viewBox=\"0 0 2400 1600\">\n",
       "<defs>\n",
       "  <clipPath id=\"clip200\">\n",
       "    <rect x=\"0\" y=\"0\" width=\"2400\" height=\"1600\"/>\n",
       "  </clipPath>\n",
       "</defs>\n",
       "<path clip-path=\"url(#clip200)\" d=\"\n",
       "M0 1600 L2400 1600 L2400 0 L0 0  Z\n",
       "  \" fill=\"#ffffff\" fill-rule=\"evenodd\" fill-opacity=\"1\"/>\n",
       "<defs>\n",
       "  <clipPath id=\"clip201\">\n",
       "    <rect x=\"480\" y=\"0\" width=\"1681\" height=\"1600\"/>\n",
       "  </clipPath>\n",
       "</defs>\n",
       "<path clip-path=\"url(#clip200)\" d=\"\n",
       "M147.478 1486.45 L2352.76 1486.45 L2352.76 123.472 L147.478 123.472  Z\n",
       "  \" fill=\"#ffffff\" fill-rule=\"evenodd\" fill-opacity=\"1\"/>\n",
       "<defs>\n",
       "  <clipPath id=\"clip202\">\n",
       "    <rect x=\"147\" y=\"123\" width=\"2206\" height=\"1364\"/>\n",
       "  </clipPath>\n",
       "</defs>\n",
       "<polyline clip-path=\"url(#clip202)\" style=\"stroke:#000000; stroke-linecap:butt; stroke-linejoin:round; stroke-width:2; stroke-opacity:0.1; fill:none\" points=\"\n",
       "  647.881,1486.45 647.881,123.472 \n",
       "  \"/>\n",
       "<polyline clip-path=\"url(#clip202)\" style=\"stroke:#000000; stroke-linecap:butt; stroke-linejoin:round; stroke-width:2; stroke-opacity:0.1; fill:none\" points=\"\n",
       "  1195.37,1486.45 1195.37,123.472 \n",
       "  \"/>\n",
       "<polyline clip-path=\"url(#clip202)\" style=\"stroke:#000000; stroke-linecap:butt; stroke-linejoin:round; stroke-width:2; stroke-opacity:0.1; fill:none\" points=\"\n",
       "  1742.86,1486.45 1742.86,123.472 \n",
       "  \"/>\n",
       "<polyline clip-path=\"url(#clip202)\" style=\"stroke:#000000; stroke-linecap:butt; stroke-linejoin:round; stroke-width:2; stroke-opacity:0.1; fill:none\" points=\"\n",
       "  2290.34,1486.45 2290.34,123.472 \n",
       "  \"/>\n",
       "<polyline clip-path=\"url(#clip200)\" style=\"stroke:#000000; stroke-linecap:butt; stroke-linejoin:round; stroke-width:4; stroke-opacity:1; fill:none\" points=\"\n",
       "  147.478,1486.45 2352.76,1486.45 \n",
       "  \"/>\n",
       "<polyline clip-path=\"url(#clip200)\" style=\"stroke:#000000; stroke-linecap:butt; stroke-linejoin:round; stroke-width:4; stroke-opacity:1; fill:none\" points=\"\n",
       "  647.881,1486.45 647.881,1467.55 \n",
       "  \"/>\n",
       "<polyline clip-path=\"url(#clip200)\" style=\"stroke:#000000; stroke-linecap:butt; stroke-linejoin:round; stroke-width:4; stroke-opacity:1; fill:none\" points=\"\n",
       "  1195.37,1486.45 1195.37,1467.55 \n",
       "  \"/>\n",
       "<polyline clip-path=\"url(#clip200)\" style=\"stroke:#000000; stroke-linecap:butt; stroke-linejoin:round; stroke-width:4; stroke-opacity:1; fill:none\" points=\"\n",
       "  1742.86,1486.45 1742.86,1467.55 \n",
       "  \"/>\n",
       "<polyline clip-path=\"url(#clip200)\" style=\"stroke:#000000; stroke-linecap:butt; stroke-linejoin:round; stroke-width:4; stroke-opacity:1; fill:none\" points=\"\n",
       "  2290.34,1486.45 2290.34,1467.55 \n",
       "  \"/>\n",
       "<path clip-path=\"url(#clip200)\" d=\"M638.159 1514.29 L656.515 1514.29 L656.515 1518.22 L642.441 1518.22 L642.441 1526.7 Q643.46 1526.35 644.478 1526.19 Q645.497 1526 646.515 1526 Q652.302 1526 655.682 1529.17 Q659.062 1532.34 659.062 1537.76 Q659.062 1543.34 655.589 1546.44 Q652.117 1549.52 645.798 1549.52 Q643.622 1549.52 641.353 1549.15 Q639.108 1548.78 636.701 1548.04 L636.701 1543.34 Q638.784 1544.47 641.006 1545.03 Q643.228 1545.58 645.705 1545.58 Q649.71 1545.58 652.048 1543.48 Q654.386 1541.37 654.386 1537.76 Q654.386 1534.15 652.048 1532.04 Q649.71 1529.94 645.705 1529.94 Q643.83 1529.94 641.955 1530.35 Q640.103 1530.77 638.159 1531.65 L638.159 1514.29 Z\" fill=\"#000000\" fill-rule=\"evenodd\" fill-opacity=\"1\" /><path clip-path=\"url(#clip200)\" d=\"M1170.06 1544.91 L1177.69 1544.91 L1177.69 1518.55 L1169.38 1520.21 L1169.38 1515.95 L1177.65 1514.29 L1182.32 1514.29 L1182.32 1544.91 L1189.96 1544.91 L1189.96 1548.85 L1170.06 1548.85 L1170.06 1544.91 Z\" fill=\"#000000\" fill-rule=\"evenodd\" fill-opacity=\"1\" /><path clip-path=\"url(#clip200)\" d=\"M1209.41 1517.37 Q1205.8 1517.37 1203.97 1520.93 Q1202.16 1524.47 1202.16 1531.6 Q1202.16 1538.71 1203.97 1542.27 Q1205.8 1545.82 1209.41 1545.82 Q1213.04 1545.82 1214.85 1542.27 Q1216.68 1538.71 1216.68 1531.6 Q1216.68 1524.47 1214.85 1520.93 Q1213.04 1517.37 1209.41 1517.37 M1209.41 1513.66 Q1215.22 1513.66 1218.27 1518.27 Q1221.35 1522.85 1221.35 1531.6 Q1221.35 1540.33 1218.27 1544.94 Q1215.22 1549.52 1209.41 1549.52 Q1203.6 1549.52 1200.52 1544.94 Q1197.46 1540.33 1197.46 1531.6 Q1197.46 1522.85 1200.52 1518.27 Q1203.6 1513.66 1209.41 1513.66 Z\" fill=\"#000000\" fill-rule=\"evenodd\" fill-opacity=\"1\" /><path clip-path=\"url(#clip200)\" d=\"M1718.04 1544.91 L1725.68 1544.91 L1725.68 1518.55 L1717.37 1520.21 L1717.37 1515.95 L1725.63 1514.29 L1730.31 1514.29 L1730.31 1544.91 L1737.95 1544.91 L1737.95 1548.85 L1718.04 1548.85 L1718.04 1544.91 Z\" fill=\"#000000\" fill-rule=\"evenodd\" fill-opacity=\"1\" /><path clip-path=\"url(#clip200)\" d=\"M1747.44 1514.29 L1765.79 1514.29 L1765.79 1518.22 L1751.72 1518.22 L1751.72 1526.7 Q1752.74 1526.35 1753.76 1526.19 Q1754.78 1526 1755.8 1526 Q1761.58 1526 1764.96 1529.17 Q1768.34 1532.34 1768.34 1537.76 Q1768.34 1543.34 1764.87 1546.44 Q1761.4 1549.52 1755.08 1549.52 Q1752.9 1549.52 1750.63 1549.15 Q1748.39 1548.78 1745.98 1548.04 L1745.98 1543.34 Q1748.06 1544.47 1750.29 1545.03 Q1752.51 1545.58 1754.98 1545.58 Q1758.99 1545.58 1761.33 1543.48 Q1763.67 1541.37 1763.67 1537.76 Q1763.67 1534.15 1761.33 1532.04 Q1758.99 1529.94 1754.98 1529.94 Q1753.11 1529.94 1751.23 1530.35 Q1749.38 1530.77 1747.44 1531.65 L1747.44 1514.29 Z\" fill=\"#000000\" fill-rule=\"evenodd\" fill-opacity=\"1\" /><path clip-path=\"url(#clip200)\" d=\"M2269.12 1544.91 L2285.43 1544.91 L2285.43 1548.85 L2263.49 1548.85 L2263.49 1544.91 Q2266.15 1542.16 2270.74 1537.53 Q2275.34 1532.88 2276.52 1531.53 Q2278.77 1529.01 2279.65 1527.27 Q2280.55 1525.51 2280.55 1523.82 Q2280.55 1521.07 2278.61 1519.33 Q2276.69 1517.6 2273.58 1517.6 Q2271.38 1517.6 2268.93 1518.36 Q2266.5 1519.13 2263.72 1520.68 L2263.72 1515.95 Q2266.55 1514.82 2269 1514.24 Q2271.45 1513.66 2273.49 1513.66 Q2278.86 1513.66 2282.06 1516.35 Q2285.25 1519.03 2285.25 1523.52 Q2285.25 1525.65 2284.44 1527.57 Q2283.65 1529.47 2281.55 1532.07 Q2280.97 1532.74 2277.87 1535.95 Q2274.76 1539.15 2269.12 1544.91 Z\" fill=\"#000000\" fill-rule=\"evenodd\" fill-opacity=\"1\" /><path clip-path=\"url(#clip200)\" d=\"M2305.25 1517.37 Q2301.64 1517.37 2299.81 1520.93 Q2298 1524.47 2298 1531.6 Q2298 1538.71 2299.81 1542.27 Q2301.64 1545.82 2305.25 1545.82 Q2308.88 1545.82 2310.69 1542.27 Q2312.52 1538.71 2312.52 1531.6 Q2312.52 1524.47 2310.69 1520.93 Q2308.88 1517.37 2305.25 1517.37 M2305.25 1513.66 Q2311.06 1513.66 2314.12 1518.27 Q2317.19 1522.85 2317.19 1531.6 Q2317.19 1540.33 2314.12 1544.94 Q2311.06 1549.52 2305.25 1549.52 Q2299.44 1549.52 2296.36 1544.94 Q2293.31 1540.33 2293.31 1531.6 Q2293.31 1522.85 2296.36 1518.27 Q2299.44 1513.66 2305.25 1513.66 Z\" fill=\"#000000\" fill-rule=\"evenodd\" fill-opacity=\"1\" /><polyline clip-path=\"url(#clip202)\" style=\"stroke:#000000; stroke-linecap:butt; stroke-linejoin:round; stroke-width:2; stroke-opacity:0.1; fill:none\" points=\"\n",
       "  147.478,1215.5 2352.76,1215.5 \n",
       "  \"/>\n",
       "<polyline clip-path=\"url(#clip202)\" style=\"stroke:#000000; stroke-linecap:butt; stroke-linejoin:round; stroke-width:2; stroke-opacity:0.1; fill:none\" points=\"\n",
       "  147.478,940.317 2352.76,940.317 \n",
       "  \"/>\n",
       "<polyline clip-path=\"url(#clip202)\" style=\"stroke:#000000; stroke-linecap:butt; stroke-linejoin:round; stroke-width:2; stroke-opacity:0.1; fill:none\" points=\"\n",
       "  147.478,665.129 2352.76,665.129 \n",
       "  \"/>\n",
       "<polyline clip-path=\"url(#clip202)\" style=\"stroke:#000000; stroke-linecap:butt; stroke-linejoin:round; stroke-width:2; stroke-opacity:0.1; fill:none\" points=\"\n",
       "  147.478,389.942 2352.76,389.942 \n",
       "  \"/>\n",
       "<polyline clip-path=\"url(#clip200)\" style=\"stroke:#000000; stroke-linecap:butt; stroke-linejoin:round; stroke-width:4; stroke-opacity:1; fill:none\" points=\"\n",
       "  147.478,1486.45 147.478,123.472 \n",
       "  \"/>\n",
       "<polyline clip-path=\"url(#clip200)\" style=\"stroke:#000000; stroke-linecap:butt; stroke-linejoin:round; stroke-width:4; stroke-opacity:1; fill:none\" points=\"\n",
       "  147.478,1215.5 166.376,1215.5 \n",
       "  \"/>\n",
       "<polyline clip-path=\"url(#clip200)\" style=\"stroke:#000000; stroke-linecap:butt; stroke-linejoin:round; stroke-width:4; stroke-opacity:1; fill:none\" points=\"\n",
       "  147.478,940.317 166.376,940.317 \n",
       "  \"/>\n",
       "<polyline clip-path=\"url(#clip200)\" style=\"stroke:#000000; stroke-linecap:butt; stroke-linejoin:round; stroke-width:4; stroke-opacity:1; fill:none\" points=\"\n",
       "  147.478,665.129 166.376,665.129 \n",
       "  \"/>\n",
       "<polyline clip-path=\"url(#clip200)\" style=\"stroke:#000000; stroke-linecap:butt; stroke-linejoin:round; stroke-width:4; stroke-opacity:1; fill:none\" points=\"\n",
       "  147.478,389.942 166.376,389.942 \n",
       "  \"/>\n",
       "<path clip-path=\"url(#clip200)\" d=\"M51.3625 1215.96 L81.0383 1215.96 L81.0383 1219.89 L51.3625 1219.89 L51.3625 1215.96 Z\" fill=\"#000000\" fill-rule=\"evenodd\" fill-opacity=\"1\" /><path clip-path=\"url(#clip200)\" d=\"M95.1586 1228.85 L111.478 1228.85 L111.478 1232.78 L89.5336 1232.78 L89.5336 1228.85 Q92.1956 1226.09 96.7789 1221.46 Q101.385 1216.81 102.566 1215.47 Q104.811 1212.95 105.691 1211.21 Q106.594 1209.45 106.594 1207.76 Q106.594 1205.01 104.649 1203.27 Q102.728 1201.53 99.6261 1201.53 Q97.4271 1201.53 94.9734 1202.3 Q92.5428 1203.06 89.7651 1204.61 L89.7651 1199.89 Q92.5891 1198.76 95.0428 1198.18 Q97.4965 1197.6 99.5335 1197.6 Q104.904 1197.6 108.098 1200.28 Q111.293 1202.97 111.293 1207.46 Q111.293 1209.59 110.483 1211.51 Q109.696 1213.41 107.589 1216 Q107.01 1216.67 103.909 1219.89 Q100.807 1223.09 95.1586 1228.85 Z\" fill=\"#000000\" fill-rule=\"evenodd\" fill-opacity=\"1\" /><path clip-path=\"url(#clip200)\" d=\"M50.9921 940.768 L80.6679 940.768 L80.6679 944.703 L50.9921 944.703 L50.9921 940.768 Z\" fill=\"#000000\" fill-rule=\"evenodd\" fill-opacity=\"1\" /><path clip-path=\"url(#clip200)\" d=\"M91.5706 953.662 L99.2095 953.662 L99.2095 927.296 L90.8993 928.963 L90.8993 924.703 L99.1632 923.037 L103.839 923.037 L103.839 953.662 L111.478 953.662 L111.478 957.597 L91.5706 957.597 L91.5706 953.662 Z\" fill=\"#000000\" fill-rule=\"evenodd\" fill-opacity=\"1\" /><path clip-path=\"url(#clip200)\" d=\"M99.5335 650.928 Q95.9224 650.928 94.0937 654.493 Q92.2882 658.034 92.2882 665.164 Q92.2882 672.27 94.0937 675.835 Q95.9224 679.377 99.5335 679.377 Q103.168 679.377 104.973 675.835 Q106.802 672.27 106.802 665.164 Q106.802 658.034 104.973 654.493 Q103.168 650.928 99.5335 650.928 M99.5335 647.224 Q105.344 647.224 108.399 651.831 Q111.478 656.414 111.478 665.164 Q111.478 673.891 108.399 678.497 Q105.344 683.081 99.5335 683.081 Q93.7234 683.081 90.6447 678.497 Q87.5892 673.891 87.5892 665.164 Q87.5892 656.414 90.6447 651.831 Q93.7234 647.224 99.5335 647.224 Z\" fill=\"#000000\" fill-rule=\"evenodd\" fill-opacity=\"1\" /><path clip-path=\"url(#clip200)\" d=\"M91.5706 403.287 L99.2095 403.287 L99.2095 376.921 L90.8993 378.588 L90.8993 374.328 L99.1632 372.662 L103.839 372.662 L103.839 403.287 L111.478 403.287 L111.478 407.222 L91.5706 407.222 L91.5706 403.287 Z\" fill=\"#000000\" fill-rule=\"evenodd\" fill-opacity=\"1\" /><path clip-path=\"url(#clip200)\" d=\"M525.653 12.096 L560.41 12.096 L560.41 18.9825 L533.836 18.9825 L533.836 36.8065 L557.817 36.8065 L557.817 43.6931 L533.836 43.6931 L533.836 72.576 L525.653 72.576 L525.653 12.096 Z\" fill=\"#000000\" fill-rule=\"evenodd\" fill-opacity=\"1\" /><path clip-path=\"url(#clip200)\" d=\"M567.013 27.2059 L574.467 27.2059 L574.467 72.576 L567.013 72.576 L567.013 27.2059 M567.013 9.54393 L574.467 9.54393 L574.467 18.9825 L567.013 18.9825 L567.013 9.54393 Z\" fill=\"#000000\" fill-rule=\"evenodd\" fill-opacity=\"1\" /><path clip-path=\"url(#clip200)\" d=\"M616.353 34.1734 Q615.097 33.4443 613.598 33.1202 Q612.14 32.7556 610.358 32.7556 Q604.038 32.7556 600.635 36.8875 Q597.273 40.9789 597.273 48.6757 L597.273 72.576 L589.779 72.576 L589.779 27.2059 L597.273 27.2059 L597.273 34.2544 Q599.623 30.1225 603.39 28.1376 Q607.157 26.1121 612.545 26.1121 Q613.315 26.1121 614.246 26.2337 Q615.178 26.3147 616.312 26.5172 L616.353 34.1734 Z\" fill=\"#000000\" fill-rule=\"evenodd\" fill-opacity=\"1\" /><path clip-path=\"url(#clip200)\" d=\"M653.095 28.5427 L653.095 35.5912 Q649.935 33.9709 646.532 33.1607 Q643.129 32.3505 639.484 32.3505 Q633.934 32.3505 631.139 34.0519 Q628.384 35.7533 628.384 39.156 Q628.384 41.7486 630.369 43.2475 Q632.354 44.7058 638.349 46.0426 L640.901 46.6097 Q648.841 48.3111 652.163 51.4303 Q655.525 54.509 655.525 60.0587 Q655.525 66.3781 650.502 70.0644 Q645.519 73.7508 636.77 73.7508 Q633.124 73.7508 629.154 73.0216 Q625.224 72.3329 620.849 70.9151 L620.849 63.2184 Q624.981 65.3654 628.992 66.4591 Q633.002 67.5124 636.932 67.5124 Q642.198 67.5124 645.033 65.73 Q647.869 63.9071 647.869 60.6258 Q647.869 57.5877 645.803 55.9673 Q643.778 54.3469 636.851 52.8481 L634.258 52.2405 Q627.331 50.7821 624.252 47.7845 Q621.174 44.7463 621.174 39.4801 Q621.174 33.0797 625.711 29.5959 Q630.248 26.1121 638.592 26.1121 Q642.724 26.1121 646.37 26.7198 Q650.016 27.3274 653.095 28.5427 Z\" fill=\"#000000\" fill-rule=\"evenodd\" fill-opacity=\"1\" /><path clip-path=\"url(#clip200)\" d=\"M674.767 14.324 L674.767 27.2059 L690.12 27.2059 L690.12 32.9987 L674.767 32.9987 L674.767 57.6282 Q674.767 63.1779 676.266 64.7578 Q677.805 66.3376 682.464 66.3376 L690.12 66.3376 L690.12 72.576 L682.464 72.576 Q673.835 72.576 670.554 69.3758 Q667.273 66.1351 667.273 57.6282 L667.273 32.9987 L661.804 32.9987 L661.804 27.2059 L667.273 27.2059 L667.273 14.324 L674.767 14.324 Z\" fill=\"#000000\" fill-rule=\"evenodd\" fill-opacity=\"1\" /><path clip-path=\"url(#clip200)\" d=\"M696.156 46.5287 L717.99 46.5287 L717.99 53.1722 L696.156 53.1722 L696.156 46.5287 Z\" fill=\"#000000\" fill-rule=\"evenodd\" fill-opacity=\"1\" /><path clip-path=\"url(#clip200)\" d=\"M757.041 17.6457 Q748.129 17.6457 742.863 24.2892 Q737.637 30.9327 737.637 42.3968 Q737.637 53.8203 742.863 60.4638 Q748.129 67.1073 757.041 67.1073 Q765.953 67.1073 771.138 60.4638 Q776.364 53.8203 776.364 42.3968 Q776.364 30.9327 771.138 24.2892 Q765.953 17.6457 757.041 17.6457 M757.041 11.0023 Q769.761 11.0023 777.376 19.5497 Q784.992 28.0566 784.992 42.3968 Q784.992 56.6965 777.376 65.2439 Q769.761 73.7508 757.041 73.7508 Q744.28 73.7508 736.624 65.2439 Q729.009 56.737 729.009 42.3968 Q729.009 28.0566 736.624 19.5497 Q744.28 11.0023 757.041 11.0023 Z\" fill=\"#000000\" fill-rule=\"evenodd\" fill-opacity=\"1\" /><path clip-path=\"url(#clip200)\" d=\"M823.759 34.1734 Q822.503 33.4443 821.005 33.1202 Q819.546 32.7556 817.764 32.7556 Q811.444 32.7556 808.042 36.8875 Q804.679 40.9789 804.679 48.6757 L804.679 72.576 L797.185 72.576 L797.185 27.2059 L804.679 27.2059 L804.679 34.2544 Q807.029 30.1225 810.796 28.1376 Q814.564 26.1121 819.951 26.1121 Q820.721 26.1121 821.653 26.2337 Q822.584 26.3147 823.719 26.5172 L823.759 34.1734 Z\" fill=\"#000000\" fill-rule=\"evenodd\" fill-opacity=\"1\" /><path clip-path=\"url(#clip200)\" d=\"M859.974 34.0924 L859.974 9.54393 L867.428 9.54393 L867.428 72.576 L859.974 72.576 L859.974 65.7705 Q857.625 69.8214 854.019 71.8063 Q850.455 73.7508 845.432 73.7508 Q837.208 73.7508 832.023 67.1883 Q826.878 60.6258 826.878 49.9314 Q826.878 39.2371 832.023 32.6746 Q837.208 26.1121 845.432 26.1121 Q850.455 26.1121 854.019 28.0971 Q857.625 30.0415 859.974 34.0924 M834.575 49.9314 Q834.575 58.1548 837.937 62.8538 Q841.34 67.5124 847.254 67.5124 Q853.169 67.5124 856.572 62.8538 Q859.974 58.1548 859.974 49.9314 Q859.974 41.7081 856.572 37.0496 Q853.169 32.3505 847.254 32.3505 Q841.34 32.3505 837.937 37.0496 Q834.575 41.7081 834.575 49.9314 Z\" fill=\"#000000\" fill-rule=\"evenodd\" fill-opacity=\"1\" /><path clip-path=\"url(#clip200)\" d=\"M921.589 48.0275 L921.589 51.6733 L887.318 51.6733 Q887.804 59.3701 891.936 63.421 Q896.108 67.4314 903.522 67.4314 Q907.816 67.4314 911.826 66.3781 Q915.877 65.3249 919.847 63.2184 L919.847 70.267 Q915.836 71.9684 911.623 72.8596 Q907.41 73.7508 903.076 73.7508 Q892.22 73.7508 885.86 67.4314 Q879.54 61.1119 879.54 50.3365 Q879.54 39.1965 885.536 32.6746 Q891.571 26.1121 901.78 26.1121 Q910.935 26.1121 916.241 32.0264 Q921.589 37.9003 921.589 48.0275 M914.135 45.84 Q914.054 39.7232 910.692 36.0774 Q907.37 32.4315 901.861 32.4315 Q895.622 32.4315 891.855 35.9558 Q888.128 39.4801 887.561 45.8805 L914.135 45.84 Z\" fill=\"#000000\" fill-rule=\"evenodd\" fill-opacity=\"1\" /><path clip-path=\"url(#clip200)\" d=\"M960.113 34.1734 Q958.857 33.4443 957.358 33.1202 Q955.9 32.7556 954.117 32.7556 Q947.798 32.7556 944.395 36.8875 Q941.033 40.9789 941.033 48.6757 L941.033 72.576 L933.539 72.576 L933.539 27.2059 L941.033 27.2059 L941.033 34.2544 Q943.382 30.1225 947.15 28.1376 Q950.917 26.1121 956.305 26.1121 Q957.074 26.1121 958.006 26.2337 Q958.938 26.3147 960.072 26.5172 L960.113 34.1734 Z\" fill=\"#000000\" fill-rule=\"evenodd\" fill-opacity=\"1\" /><path clip-path=\"url(#clip200)\" d=\"M994.626 12.096 L1002.81 12.096 L1002.81 68.3631 Q1002.81 79.3005 998.637 84.2426 Q994.505 89.1847 985.309 89.1847 L982.19 89.1847 L982.19 82.2982 L984.742 82.2982 Q990.17 82.2982 992.398 79.26 Q994.626 76.2218 994.626 68.3631 L994.626 12.096 Z\" fill=\"#000000\" fill-rule=\"evenodd\" fill-opacity=\"1\" /><path clip-path=\"url(#clip200)\" d=\"M1036.35 32.4315 Q1030.36 32.4315 1026.87 37.1306 Q1023.39 41.7891 1023.39 49.9314 Q1023.39 58.0738 1026.83 62.7728 Q1030.31 67.4314 1036.35 67.4314 Q1042.31 67.4314 1045.79 62.7323 Q1049.27 58.0333 1049.27 49.9314 Q1049.27 41.8701 1045.79 37.1711 Q1042.31 32.4315 1036.35 32.4315 M1036.35 26.1121 Q1046.07 26.1121 1051.62 32.4315 Q1057.17 38.7509 1057.17 49.9314 Q1057.17 61.0714 1051.62 67.4314 Q1046.07 73.7508 1036.35 73.7508 Q1026.59 73.7508 1021.04 67.4314 Q1015.53 61.0714 1015.53 49.9314 Q1015.53 38.7509 1021.04 32.4315 Q1026.59 26.1121 1036.35 26.1121 Z\" fill=\"#000000\" fill-rule=\"evenodd\" fill-opacity=\"1\" /><path clip-path=\"url(#clip200)\" d=\"M1069.53 27.2059 L1076.98 27.2059 L1076.98 72.576 L1069.53 72.576 L1069.53 27.2059 M1069.53 9.54393 L1076.98 9.54393 L1076.98 18.9825 L1069.53 18.9825 L1069.53 9.54393 Z\" fill=\"#000000\" fill-rule=\"evenodd\" fill-opacity=\"1\" /><path clip-path=\"url(#clip200)\" d=\"M1130.29 45.1919 L1130.29 72.576 L1122.84 72.576 L1122.84 45.4349 Q1122.84 38.994 1120.33 35.7938 Q1117.81 32.5936 1112.79 32.5936 Q1106.76 32.5936 1103.27 36.4419 Q1099.79 40.2903 1099.79 46.9338 L1099.79 72.576 L1092.29 72.576 L1092.29 27.2059 L1099.79 27.2059 L1099.79 34.2544 Q1102.46 30.163 1106.07 28.1376 Q1109.71 26.1121 1114.45 26.1121 Q1122.27 26.1121 1126.28 30.9732 Q1130.29 35.7938 1130.29 45.1919 Z\" fill=\"#000000\" fill-rule=\"evenodd\" fill-opacity=\"1\" /><path clip-path=\"url(#clip200)\" d=\"M1152.53 14.324 L1152.53 27.2059 L1167.88 27.2059 L1167.88 32.9987 L1152.53 32.9987 L1152.53 57.6282 Q1152.53 63.1779 1154.03 64.7578 Q1155.57 66.3376 1160.23 66.3376 L1167.88 66.3376 L1167.88 72.576 L1160.23 72.576 Q1151.6 72.576 1148.32 69.3758 Q1145.04 66.1351 1145.04 57.6282 L1145.04 32.9987 L1139.57 32.9987 L1139.57 27.2059 L1145.04 27.2059 L1145.04 14.324 L1152.53 14.324 Z\" fill=\"#000000\" fill-rule=\"evenodd\" fill-opacity=\"1\" /><path clip-path=\"url(#clip200)\" d=\"M1179.59 62.2867 L1188.14 62.2867 L1188.14 72.576 L1179.59 72.576 L1179.59 62.2867 M1179.59 29.6769 L1188.14 29.6769 L1188.14 39.9662 L1179.59 39.9662 L1179.59 29.6769 Z\" fill=\"#000000\" fill-rule=\"evenodd\" fill-opacity=\"1\" /><path clip-path=\"url(#clip200)\" d=\"M1232.33 12.096 L1270.57 12.096 L1270.57 18.9825 L1240.52 18.9825 L1240.52 36.8875 L1269.32 36.8875 L1269.32 43.7741 L1240.52 43.7741 L1240.52 65.6895 L1271.3 65.6895 L1271.3 72.576 L1232.33 72.576 L1232.33 12.096 Z\" fill=\"#000000\" fill-rule=\"evenodd\" fill-opacity=\"1\" /><path clip-path=\"url(#clip200)\" d=\"M1313.35 28.5427 L1313.35 35.5912 Q1310.19 33.9709 1306.79 33.1607 Q1303.39 32.3505 1299.74 32.3505 Q1294.19 32.3505 1291.4 34.0519 Q1288.64 35.7533 1288.64 39.156 Q1288.64 41.7486 1290.63 43.2475 Q1292.61 44.7058 1298.61 46.0426 L1301.16 46.6097 Q1309.1 48.3111 1312.42 51.4303 Q1315.78 54.509 1315.78 60.0587 Q1315.78 66.3781 1310.76 70.0644 Q1305.78 73.7508 1297.03 73.7508 Q1293.38 73.7508 1289.41 73.0216 Q1285.48 72.3329 1281.11 70.9151 L1281.11 63.2184 Q1285.24 65.3654 1289.25 66.4591 Q1293.26 67.5124 1297.19 67.5124 Q1302.45 67.5124 1305.29 65.73 Q1308.13 63.9071 1308.13 60.6258 Q1308.13 57.5877 1306.06 55.9673 Q1304.03 54.3469 1297.11 52.8481 L1294.51 52.2405 Q1287.59 50.7821 1284.51 47.7845 Q1281.43 44.7463 1281.43 39.4801 Q1281.43 33.0797 1285.97 29.5959 Q1290.5 26.1121 1298.85 26.1121 Q1302.98 26.1121 1306.63 26.7198 Q1310.27 27.3274 1313.35 28.5427 Z\" fill=\"#000000\" fill-rule=\"evenodd\" fill-opacity=\"1\" /><path clip-path=\"url(#clip200)\" d=\"M1335.02 14.324 L1335.02 27.2059 L1350.38 27.2059 L1350.38 32.9987 L1335.02 32.9987 L1335.02 57.6282 Q1335.02 63.1779 1336.52 64.7578 Q1338.06 66.3376 1342.72 66.3376 L1350.38 66.3376 L1350.38 72.576 L1342.72 72.576 Q1334.09 72.576 1330.81 69.3758 Q1327.53 66.1351 1327.53 57.6282 L1327.53 32.9987 L1322.06 32.9987 L1322.06 27.2059 L1327.53 27.2059 L1327.53 14.324 L1335.02 14.324 Z\" fill=\"#000000\" fill-rule=\"evenodd\" fill-opacity=\"1\" /><path clip-path=\"url(#clip200)\" d=\"M1360.18 27.2059 L1367.63 27.2059 L1367.63 72.576 L1360.18 72.576 L1360.18 27.2059 M1360.18 9.54393 L1367.63 9.54393 L1367.63 18.9825 L1360.18 18.9825 L1360.18 9.54393 Z\" fill=\"#000000\" fill-rule=\"evenodd\" fill-opacity=\"1\" /><path clip-path=\"url(#clip200)\" d=\"M1418.55 35.9153 Q1421.35 30.8922 1425.24 28.5022 Q1429.13 26.1121 1434.39 26.1121 Q1441.48 26.1121 1445.33 31.0947 Q1449.18 36.0368 1449.18 45.1919 L1449.18 72.576 L1441.68 72.576 L1441.68 45.4349 Q1441.68 38.913 1439.38 35.7533 Q1437.07 32.5936 1432.33 32.5936 Q1426.53 32.5936 1423.17 36.4419 Q1419.81 40.2903 1419.81 46.9338 L1419.81 72.576 L1412.32 72.576 L1412.32 45.4349 Q1412.32 38.8725 1410.01 35.7533 Q1407.7 32.5936 1402.88 32.5936 Q1397.16 32.5936 1393.8 36.4824 Q1390.44 40.3308 1390.44 46.9338 L1390.44 72.576 L1382.95 72.576 L1382.95 27.2059 L1390.44 27.2059 L1390.44 34.2544 Q1392.99 30.082 1396.56 28.0971 Q1400.12 26.1121 1405.02 26.1121 Q1409.97 26.1121 1413.41 28.6237 Q1416.89 31.1352 1418.55 35.9153 Z\" fill=\"#000000\" fill-rule=\"evenodd\" fill-opacity=\"1\" /><path clip-path=\"url(#clip200)\" d=\"M1484.66 49.7694 Q1475.63 49.7694 1472.15 51.8354 Q1468.66 53.9013 1468.66 58.8839 Q1468.66 62.8538 1471.26 65.2034 Q1473.89 67.5124 1478.39 67.5124 Q1484.58 67.5124 1488.31 63.1374 Q1492.08 58.7219 1492.08 51.4303 L1492.08 49.7694 L1484.66 49.7694 M1499.53 46.6907 L1499.53 72.576 L1492.08 72.576 L1492.08 65.6895 Q1489.53 69.8214 1485.72 71.8063 Q1481.91 73.7508 1476.4 73.7508 Q1469.43 73.7508 1465.3 69.8619 Q1461.21 65.9325 1461.21 59.3701 Q1461.21 51.7138 1466.31 47.825 Q1471.46 43.9361 1481.63 43.9361 L1492.08 43.9361 L1492.08 43.2069 Q1492.08 38.0623 1488.67 35.2672 Q1485.31 32.4315 1479.2 32.4315 Q1475.31 32.4315 1471.62 33.3632 Q1467.93 34.295 1464.53 36.1584 L1464.53 29.2718 Q1468.62 27.692 1472.47 26.9223 Q1476.32 26.1121 1479.97 26.1121 Q1489.81 26.1121 1494.67 31.2163 Q1499.53 36.3204 1499.53 46.6907 Z\" fill=\"#000000\" fill-rule=\"evenodd\" fill-opacity=\"1\" /><path clip-path=\"url(#clip200)\" d=\"M1522.26 14.324 L1522.26 27.2059 L1537.61 27.2059 L1537.61 32.9987 L1522.26 32.9987 L1522.26 57.6282 Q1522.26 63.1779 1523.76 64.7578 Q1525.29 66.3376 1529.95 66.3376 L1537.61 66.3376 L1537.61 72.576 L1529.95 72.576 Q1521.32 72.576 1518.04 69.3758 Q1514.76 66.1351 1514.76 57.6282 L1514.76 32.9987 L1509.29 32.9987 L1509.29 27.2059 L1514.76 27.2059 L1514.76 14.324 L1522.26 14.324 Z\" fill=\"#000000\" fill-rule=\"evenodd\" fill-opacity=\"1\" /><path clip-path=\"url(#clip200)\" d=\"M1586.22 48.0275 L1586.22 51.6733 L1551.95 51.6733 Q1552.44 59.3701 1556.57 63.421 Q1560.74 67.4314 1568.15 67.4314 Q1572.45 67.4314 1576.46 66.3781 Q1580.51 65.3249 1584.48 63.2184 L1584.48 70.267 Q1580.47 71.9684 1576.26 72.8596 Q1572.04 73.7508 1567.71 73.7508 Q1556.85 73.7508 1550.49 67.4314 Q1544.17 61.1119 1544.17 50.3365 Q1544.17 39.1965 1550.17 32.6746 Q1556.2 26.1121 1566.41 26.1121 Q1575.57 26.1121 1580.87 32.0264 Q1586.22 37.9003 1586.22 48.0275 M1578.77 45.84 Q1578.69 39.7232 1575.32 36.0774 Q1572 32.4315 1566.49 32.4315 Q1560.25 32.4315 1556.49 35.9558 Q1552.76 39.4801 1552.19 45.8805 L1578.77 45.84 Z\" fill=\"#000000\" fill-rule=\"evenodd\" fill-opacity=\"1\" /><path clip-path=\"url(#clip200)\" d=\"M1628.31 34.0924 L1628.31 9.54393 L1635.76 9.54393 L1635.76 72.576 L1628.31 72.576 L1628.31 65.7705 Q1625.96 69.8214 1622.35 71.8063 Q1618.79 73.7508 1613.77 73.7508 Q1605.54 73.7508 1600.36 67.1883 Q1595.21 60.6258 1595.21 49.9314 Q1595.21 39.2371 1600.36 32.6746 Q1605.54 26.1121 1613.77 26.1121 Q1618.79 26.1121 1622.35 28.0971 Q1625.96 30.0415 1628.31 34.0924 M1602.91 49.9314 Q1602.91 58.1548 1606.27 62.8538 Q1609.68 67.5124 1615.59 67.5124 Q1621.5 67.5124 1624.91 62.8538 Q1628.31 58.1548 1628.31 49.9314 Q1628.31 41.7081 1624.91 37.0496 Q1621.5 32.3505 1615.59 32.3505 Q1609.68 32.3505 1606.27 37.0496 Q1602.91 41.7081 1602.91 49.9314 Z\" fill=\"#000000\" fill-rule=\"evenodd\" fill-opacity=\"1\" /><path clip-path=\"url(#clip200)\" d=\"M1677.81 12.096 L1685.99 12.096 L1685.99 65.6895 L1715.44 65.6895 L1715.44 72.576 L1677.81 72.576 L1677.81 12.096 Z\" fill=\"#000000\" fill-rule=\"evenodd\" fill-opacity=\"1\" /><path clip-path=\"url(#clip200)\" d=\"M1744.33 49.7694 Q1735.29 49.7694 1731.81 51.8354 Q1728.33 53.9013 1728.33 58.8839 Q1728.33 62.8538 1730.92 65.2034 Q1733.55 67.5124 1738.05 67.5124 Q1744.25 67.5124 1747.97 63.1374 Q1751.74 58.7219 1751.74 51.4303 L1751.74 49.7694 L1744.33 49.7694 M1759.19 46.6907 L1759.19 72.576 L1751.74 72.576 L1751.74 65.6895 Q1749.19 69.8214 1745.38 71.8063 Q1741.57 73.7508 1736.06 73.7508 Q1729.1 73.7508 1724.96 69.8619 Q1720.87 65.9325 1720.87 59.3701 Q1720.87 51.7138 1725.98 47.825 Q1731.12 43.9361 1741.29 43.9361 L1751.74 43.9361 L1751.74 43.2069 Q1751.74 38.0623 1748.34 35.2672 Q1744.98 32.4315 1738.86 32.4315 Q1734.97 32.4315 1731.28 33.3632 Q1727.6 34.295 1724.19 36.1584 L1724.19 29.2718 Q1728.29 27.692 1732.13 26.9223 Q1735.98 26.1121 1739.63 26.1121 Q1749.47 26.1121 1754.33 31.2163 Q1759.19 36.3204 1759.19 46.6907 Z\" fill=\"#000000\" fill-rule=\"evenodd\" fill-opacity=\"1\" /><path clip-path=\"url(#clip200)\" d=\"M1781.92 14.324 L1781.92 27.2059 L1797.27 27.2059 L1797.27 32.9987 L1781.92 32.9987 L1781.92 57.6282 Q1781.92 63.1779 1783.42 64.7578 Q1784.96 66.3376 1789.62 66.3376 L1797.27 66.3376 L1797.27 72.576 L1789.62 72.576 Q1780.99 72.576 1777.71 69.3758 Q1774.43 66.1351 1774.43 57.6282 L1774.43 32.9987 L1768.96 32.9987 L1768.96 27.2059 L1774.43 27.2059 L1774.43 14.324 L1781.92 14.324 Z\" fill=\"#000000\" fill-rule=\"evenodd\" fill-opacity=\"1\" /><path clip-path=\"url(#clip200)\" d=\"M1845.88 48.0275 L1845.88 51.6733 L1811.61 51.6733 Q1812.1 59.3701 1816.23 63.421 Q1820.4 67.4314 1827.82 67.4314 Q1832.11 67.4314 1836.12 66.3781 Q1840.17 65.3249 1844.14 63.2184 L1844.14 70.267 Q1840.13 71.9684 1835.92 72.8596 Q1831.71 73.7508 1827.37 73.7508 Q1816.51 73.7508 1810.15 67.4314 Q1803.84 61.1119 1803.84 50.3365 Q1803.84 39.1965 1809.83 32.6746 Q1815.87 26.1121 1826.07 26.1121 Q1835.23 26.1121 1840.54 32.0264 Q1845.88 37.9003 1845.88 48.0275 M1838.43 45.84 Q1838.35 39.7232 1834.99 36.0774 Q1831.66 32.4315 1826.16 32.4315 Q1819.92 32.4315 1816.15 35.9558 Q1812.42 39.4801 1811.86 45.8805 L1838.43 45.84 Z\" fill=\"#000000\" fill-rule=\"evenodd\" fill-opacity=\"1\" /><path clip-path=\"url(#clip200)\" d=\"M1895.83 45.1919 L1895.83 72.576 L1888.38 72.576 L1888.38 45.4349 Q1888.38 38.994 1885.87 35.7938 Q1883.35 32.5936 1878.33 32.5936 Q1872.3 32.5936 1868.81 36.4419 Q1865.33 40.2903 1865.33 46.9338 L1865.33 72.576 L1857.83 72.576 L1857.83 27.2059 L1865.33 27.2059 L1865.33 34.2544 Q1868 30.163 1871.61 28.1376 Q1875.25 26.1121 1879.99 26.1121 Q1887.81 26.1121 1891.82 30.9732 Q1895.83 35.7938 1895.83 45.1919 Z\" fill=\"#000000\" fill-rule=\"evenodd\" fill-opacity=\"1\" /><path clip-path=\"url(#clip200)\" d=\"M1918.07 14.324 L1918.07 27.2059 L1933.42 27.2059 L1933.42 32.9987 L1918.07 32.9987 L1918.07 57.6282 Q1918.07 63.1779 1919.57 64.7578 Q1921.11 66.3376 1925.77 66.3376 L1933.42 66.3376 L1933.42 72.576 L1925.77 72.576 Q1917.14 72.576 1913.86 69.3758 Q1910.58 66.1351 1910.58 57.6282 L1910.58 32.9987 L1905.11 32.9987 L1905.11 27.2059 L1910.58 27.2059 L1910.58 14.324 L1918.07 14.324 Z\" fill=\"#000000\" fill-rule=\"evenodd\" fill-opacity=\"1\" /><path clip-path=\"url(#clip200)\" d=\"M1972.15 28.5427 L1972.15 35.5912 Q1968.99 33.9709 1965.59 33.1607 Q1962.18 32.3505 1958.54 32.3505 Q1952.99 32.3505 1950.19 34.0519 Q1947.44 35.7533 1947.44 39.156 Q1947.44 41.7486 1949.42 43.2475 Q1951.41 44.7058 1957.4 46.0426 L1959.96 46.6097 Q1967.9 48.3111 1971.22 51.4303 Q1974.58 54.509 1974.58 60.0587 Q1974.58 66.3781 1969.56 70.0644 Q1964.57 73.7508 1955.82 73.7508 Q1952.18 73.7508 1948.21 73.0216 Q1944.28 72.3329 1939.9 70.9151 L1939.9 63.2184 Q1944.04 65.3654 1948.05 66.4591 Q1952.06 67.5124 1955.99 67.5124 Q1961.25 67.5124 1964.09 65.73 Q1966.92 63.9071 1966.92 60.6258 Q1966.92 57.5877 1964.86 55.9673 Q1962.83 54.3469 1955.91 52.8481 L1953.31 52.2405 Q1946.39 50.7821 1943.31 47.7845 Q1940.23 44.7463 1940.23 39.4801 Q1940.23 33.0797 1944.77 29.5959 Q1949.3 26.1121 1957.65 26.1121 Q1961.78 26.1121 1965.43 26.7198 Q1969.07 27.3274 1972.15 28.5427 Z\" fill=\"#000000\" fill-rule=\"evenodd\" fill-opacity=\"1\" /><path clip-path=\"url(#clip202)\" d=\"\n",
       "M209.891 605.391 L319.389 518.205 L428.886 841.476 L538.384 797.596 L647.881 1131.84 L757.379 530.141 L866.876 721.293 L976.373 705.374 L1085.87 573.512 L1195.37 1245.7 \n",
       "  L1304.87 831.115 L1414.36 795.772 L1523.86 844.695 L1633.36 824.579 L1742.86 900.256 L1852.35 966.025 L1961.85 724.267 L2071.35 708.165 L2180.84 611.428 L2290.34 1210.88 \n",
       "  L2290.34 412.046 L2180.84 443.98 L2071.35 552.413 L1961.85 571.987 L1852.35 769.9 L1742.86 723.937 L1633.36 664.397 L1523.86 677.826 L1414.36 638.118 L1304.87 662.47 \n",
       "  L1195.37 954.236 L1085.87 403.586 L976.373 568.174 L866.876 580.668 L757.379 339.991 L647.881 886.246 L538.384 642.631 L428.886 687.272 L319.389 315.793 L209.891 443.617 \n",
       "   Z\n",
       "  \" fill=\"#009af9\" fill-rule=\"evenodd\" fill-opacity=\"0.5\"/>\n",
       "<polyline clip-path=\"url(#clip202)\" style=\"stroke:#009af9; stroke-linecap:butt; stroke-linejoin:round; stroke-width:4; stroke-opacity:1; fill:none\" points=\"\n",
       "  209.891,524.504 319.389,416.999 428.886,764.374 538.384,720.114 647.881,1009.04 757.379,435.066 866.876,650.98 976.373,636.774 1085.87,488.549 1195.37,1099.97 \n",
       "  1304.87,746.793 1414.36,716.945 1523.86,761.26 1633.36,744.488 1742.86,812.097 1852.35,867.962 1961.85,648.127 2071.35,630.289 2180.84,527.704 2290.34,811.462 \n",
       "  \n",
       "  \"/>\n",
       "<polyline clip-path=\"url(#clip202)\" style=\"stroke:#e26f46; stroke-linecap:butt; stroke-linejoin:round; stroke-width:4; stroke-opacity:1; fill:none\" points=\"\n",
       "  209.891,690.842 319.389,201.922 428.886,871.951 538.384,767.371 647.881,1392.75 757.379,162.047 866.876,720.363 976.373,569.466 1085.87,402.81 1195.37,1447.87 \n",
       "  1304.87,711.233 1414.36,868.832 1523.86,775.05 1633.36,925.3 1742.86,916.509 1852.35,943.074 1961.85,705.795 2071.35,614.172 2180.84,452.144 2290.34,559.119 \n",
       "  \n",
       "  \"/>\n",
       "<path clip-path=\"url(#clip200)\" d=\"\n",
       "M1683.87 324.425 L2279.25 324.425 L2279.25 168.905 L1683.87 168.905  Z\n",
       "  \" fill=\"#ffffff\" fill-rule=\"evenodd\" fill-opacity=\"1\"/>\n",
       "<polyline clip-path=\"url(#clip200)\" style=\"stroke:#000000; stroke-linecap:butt; stroke-linejoin:round; stroke-width:4; stroke-opacity:1; fill:none\" points=\"\n",
       "  1683.87,324.425 2279.25,324.425 2279.25,168.905 1683.87,168.905 1683.87,324.425 \n",
       "  \"/>\n",
       "<polyline clip-path=\"url(#clip200)\" style=\"stroke:#009af9; stroke-linecap:butt; stroke-linejoin:round; stroke-width:4; stroke-opacity:1; fill:none\" points=\"\n",
       "  1708.37,220.745 1855.39,220.745 \n",
       "  \"/>\n",
       "<path clip-path=\"url(#clip200)\" d=\"M1884.57 207.307 L1884.57 220.293 L1890.45 220.293 Q1893.71 220.293 1895.5 218.603 Q1897.28 216.914 1897.28 213.789 Q1897.28 210.687 1895.5 208.997 Q1893.71 207.307 1890.45 207.307 L1884.57 207.307 M1879.9 203.465 L1890.45 203.465 Q1896.26 203.465 1899.22 206.104 Q1902.21 208.719 1902.21 213.789 Q1902.21 218.904 1899.22 221.52 Q1896.26 224.136 1890.45 224.136 L1884.57 224.136 L1884.57 238.025 L1879.9 238.025 L1879.9 203.465 Z\" fill=\"#000000\" fill-rule=\"evenodd\" fill-opacity=\"1\" /><path clip-path=\"url(#clip200)\" d=\"M1916.65 215.085 Q1913.23 215.085 1911.24 217.77 Q1909.25 220.432 1909.25 225.085 Q1909.25 229.738 1911.21 232.423 Q1913.21 235.085 1916.65 235.085 Q1920.06 235.085 1922.05 232.4 Q1924.04 229.715 1924.04 225.085 Q1924.04 220.478 1922.05 217.793 Q1920.06 215.085 1916.65 215.085 M1916.65 211.474 Q1922.21 211.474 1925.38 215.085 Q1928.55 218.696 1928.55 225.085 Q1928.55 231.451 1925.38 235.085 Q1922.21 238.696 1916.65 238.696 Q1911.08 238.696 1907.9 235.085 Q1904.76 231.451 1904.76 225.085 Q1904.76 218.696 1907.9 215.085 Q1911.08 211.474 1916.65 211.474 Z\" fill=\"#000000\" fill-rule=\"evenodd\" fill-opacity=\"1\" /><path clip-path=\"url(#clip200)\" d=\"M1952.14 212.863 L1952.14 216.891 Q1950.33 215.965 1948.39 215.502 Q1946.45 215.039 1944.36 215.039 Q1941.19 215.039 1939.59 216.011 Q1938.02 216.983 1938.02 218.928 Q1938.02 220.409 1939.15 221.265 Q1940.29 222.099 1943.71 222.863 L1945.17 223.187 Q1949.71 224.159 1951.61 225.941 Q1953.53 227.701 1953.53 230.872 Q1953.53 234.483 1950.66 236.589 Q1947.81 238.696 1942.81 238.696 Q1940.73 238.696 1938.46 238.279 Q1936.21 237.886 1933.71 237.076 L1933.71 232.677 Q1936.08 233.904 1938.37 234.529 Q1940.66 235.131 1942.9 235.131 Q1945.91 235.131 1947.53 234.113 Q1949.15 233.071 1949.15 231.196 Q1949.15 229.46 1947.97 228.534 Q1946.82 227.608 1942.86 226.752 L1941.38 226.404 Q1937.42 225.571 1935.66 223.858 Q1933.9 222.122 1933.9 219.113 Q1933.9 215.455 1936.49 213.465 Q1939.08 211.474 1943.85 211.474 Q1946.21 211.474 1948.3 211.821 Q1950.38 212.168 1952.14 212.863 Z\" fill=\"#000000\" fill-rule=\"evenodd\" fill-opacity=\"1\" /><path clip-path=\"url(#clip200)\" d=\"M1964.52 204.738 L1964.52 212.099 L1973.3 212.099 L1973.3 215.409 L1964.52 215.409 L1964.52 229.483 Q1964.52 232.654 1965.38 233.557 Q1966.26 234.46 1968.92 234.46 L1973.3 234.46 L1973.3 238.025 L1968.92 238.025 Q1963.99 238.025 1962.12 236.196 Q1960.24 234.344 1960.24 229.483 L1960.24 215.409 L1957.12 215.409 L1957.12 212.099 L1960.24 212.099 L1960.24 204.738 L1964.52 204.738 Z\" fill=\"#000000\" fill-rule=\"evenodd\" fill-opacity=\"1\" /><path clip-path=\"url(#clip200)\" d=\"M2001.08 223.997 L2001.08 226.08 L1981.49 226.08 Q1981.77 230.478 1984.13 232.793 Q1986.51 235.085 1990.75 235.085 Q1993.2 235.085 1995.5 234.483 Q1997.81 233.881 2000.08 232.677 L2000.08 236.705 Q1997.79 237.677 1995.38 238.187 Q1992.97 238.696 1990.5 238.696 Q1984.29 238.696 1980.66 235.085 Q1977.05 231.474 1977.05 225.316 Q1977.05 218.951 1980.47 215.224 Q1983.92 211.474 1989.76 211.474 Q1994.99 211.474 1998.02 214.853 Q2001.08 218.21 2001.08 223.997 M1996.82 222.747 Q1996.77 219.252 1994.85 217.168 Q1992.95 215.085 1989.8 215.085 Q1986.24 215.085 1984.08 217.099 Q1981.95 219.113 1981.63 222.77 L1996.82 222.747 Z\" fill=\"#000000\" fill-rule=\"evenodd\" fill-opacity=\"1\" /><path clip-path=\"url(#clip200)\" d=\"M2023.09 216.08 Q2022.37 215.664 2021.51 215.478 Q2020.68 215.27 2019.66 215.27 Q2016.05 215.27 2014.11 217.631 Q2012.19 219.969 2012.19 224.367 L2012.19 238.025 L2007.9 238.025 L2007.9 212.099 L2012.19 212.099 L2012.19 216.127 Q2013.53 213.766 2015.68 212.631 Q2017.83 211.474 2020.91 211.474 Q2021.35 211.474 2021.89 211.543 Q2022.42 211.59 2023.07 211.705 L2023.09 216.08 Z\" fill=\"#000000\" fill-rule=\"evenodd\" fill-opacity=\"1\" /><path clip-path=\"url(#clip200)\" d=\"M2027.56 212.099 L2031.82 212.099 L2031.82 238.025 L2027.56 238.025 L2027.56 212.099 M2027.56 202.006 L2031.82 202.006 L2031.82 207.4 L2027.56 207.4 L2027.56 202.006 Z\" fill=\"#000000\" fill-rule=\"evenodd\" fill-opacity=\"1\" /><path clip-path=\"url(#clip200)\" d=\"M2050.77 215.085 Q2047.35 215.085 2045.36 217.77 Q2043.37 220.432 2043.37 225.085 Q2043.37 229.738 2045.33 232.423 Q2047.32 235.085 2050.77 235.085 Q2054.18 235.085 2056.17 232.4 Q2058.16 229.715 2058.16 225.085 Q2058.16 220.478 2056.17 217.793 Q2054.18 215.085 2050.77 215.085 M2050.77 211.474 Q2056.33 211.474 2059.5 215.085 Q2062.67 218.696 2062.67 225.085 Q2062.67 231.451 2059.5 235.085 Q2056.33 238.696 2050.77 238.696 Q2045.2 238.696 2042.02 235.085 Q2038.88 231.451 2038.88 225.085 Q2038.88 218.696 2042.02 215.085 Q2045.2 211.474 2050.77 211.474 Z\" fill=\"#000000\" fill-rule=\"evenodd\" fill-opacity=\"1\" /><path clip-path=\"url(#clip200)\" d=\"M2084.76 216.08 Q2084.04 215.664 2083.18 215.478 Q2082.35 215.27 2081.33 215.27 Q2077.72 215.27 2075.77 217.631 Q2073.85 219.969 2073.85 224.367 L2073.85 238.025 L2069.57 238.025 L2069.57 212.099 L2073.85 212.099 L2073.85 216.127 Q2075.19 213.766 2077.35 212.631 Q2079.5 211.474 2082.58 211.474 Q2083.02 211.474 2083.55 211.543 Q2084.08 211.59 2084.73 211.705 L2084.76 216.08 Z\" fill=\"#000000\" fill-rule=\"evenodd\" fill-opacity=\"1\" /><path clip-path=\"url(#clip200)\" d=\"M2124.48 217.076 Q2126.07 214.205 2128.3 212.84 Q2130.52 211.474 2133.53 211.474 Q2137.58 211.474 2139.78 214.321 Q2141.98 217.145 2141.98 222.377 L2141.98 238.025 L2137.69 238.025 L2137.69 222.515 Q2137.69 218.789 2136.38 216.983 Q2135.06 215.178 2132.35 215.178 Q2129.04 215.178 2127.12 217.377 Q2125.19 219.576 2125.19 223.372 L2125.19 238.025 L2120.91 238.025 L2120.91 222.515 Q2120.91 218.765 2119.59 216.983 Q2118.27 215.178 2115.52 215.178 Q2112.25 215.178 2110.33 217.4 Q2108.41 219.599 2108.41 223.372 L2108.41 238.025 L2104.13 238.025 L2104.13 212.099 L2108.41 212.099 L2108.41 216.127 Q2109.87 213.742 2111.91 212.608 Q2113.94 211.474 2116.75 211.474 Q2119.57 211.474 2121.54 212.909 Q2123.53 214.344 2124.48 217.076 Z\" fill=\"#000000\" fill-rule=\"evenodd\" fill-opacity=\"1\" /><path clip-path=\"url(#clip200)\" d=\"M2172.65 223.997 L2172.65 226.08 L2153.06 226.08 Q2153.34 230.478 2155.7 232.793 Q2158.09 235.085 2162.32 235.085 Q2164.78 235.085 2167.07 234.483 Q2169.38 233.881 2171.65 232.677 L2171.65 236.705 Q2169.36 237.677 2166.95 238.187 Q2164.55 238.696 2162.07 238.696 Q2155.87 238.696 2152.23 235.085 Q2148.62 231.474 2148.62 225.316 Q2148.62 218.951 2152.05 215.224 Q2155.5 211.474 2161.33 211.474 Q2166.56 211.474 2169.59 214.853 Q2172.65 218.21 2172.65 223.997 M2168.39 222.747 Q2168.34 219.252 2166.42 217.168 Q2164.52 215.085 2161.38 215.085 Q2157.81 215.085 2155.66 217.099 Q2153.53 219.113 2153.2 222.77 L2168.39 222.747 Z\" fill=\"#000000\" fill-rule=\"evenodd\" fill-opacity=\"1\" /><path clip-path=\"url(#clip200)\" d=\"M2191.42 224.992 Q2186.26 224.992 2184.27 226.173 Q2182.28 227.353 2182.28 230.201 Q2182.28 232.469 2183.76 233.812 Q2185.26 235.131 2187.83 235.131 Q2191.37 235.131 2193.5 232.631 Q2195.66 230.108 2195.66 225.941 L2195.66 224.992 L2191.42 224.992 M2199.92 223.233 L2199.92 238.025 L2195.66 238.025 L2195.66 234.089 Q2194.2 236.451 2192.02 237.585 Q2189.85 238.696 2186.7 238.696 Q2182.72 238.696 2180.36 236.474 Q2178.02 234.228 2178.02 230.478 Q2178.02 226.103 2180.94 223.881 Q2183.87 221.659 2189.69 221.659 L2195.66 221.659 L2195.66 221.242 Q2195.66 218.303 2193.71 216.705 Q2191.79 215.085 2188.3 215.085 Q2186.07 215.085 2183.97 215.617 Q2181.86 216.15 2179.92 217.215 L2179.92 213.279 Q2182.25 212.377 2184.45 211.937 Q2186.65 211.474 2188.74 211.474 Q2194.36 211.474 2197.14 214.391 Q2199.92 217.307 2199.92 223.233 Z\" fill=\"#000000\" fill-rule=\"evenodd\" fill-opacity=\"1\" /><path clip-path=\"url(#clip200)\" d=\"M2230.24 222.377 L2230.24 238.025 L2225.98 238.025 L2225.98 222.515 Q2225.98 218.835 2224.55 217.006 Q2223.11 215.178 2220.24 215.178 Q2216.79 215.178 2214.8 217.377 Q2212.81 219.576 2212.81 223.372 L2212.81 238.025 L2208.53 238.025 L2208.53 212.099 L2212.81 212.099 L2212.81 216.127 Q2214.34 213.789 2216.4 212.631 Q2218.48 211.474 2221.19 211.474 Q2225.66 211.474 2227.95 214.252 Q2230.24 217.006 2230.24 222.377 Z\" fill=\"#000000\" fill-rule=\"evenodd\" fill-opacity=\"1\" /><polyline clip-path=\"url(#clip200)\" style=\"stroke:#e26f46; stroke-linecap:butt; stroke-linejoin:round; stroke-width:4; stroke-opacity:1; fill:none\" points=\"\n",
       "  1708.37,272.585 1855.39,272.585 \n",
       "  \"/>\n",
       "<path clip-path=\"url(#clip200)\" d=\"M1879.9 255.305 L1909.13 255.305 L1909.13 259.24 L1896.86 259.24 L1896.86 289.865 L1892.16 289.865 L1892.16 259.24 L1879.9 259.24 L1879.9 255.305 Z\" fill=\"#000000\" fill-rule=\"evenodd\" fill-opacity=\"1\" /><path clip-path=\"url(#clip200)\" d=\"M1921.52 267.92 Q1920.8 267.504 1919.94 267.318 Q1919.11 267.11 1918.09 267.11 Q1914.48 267.11 1912.53 269.471 Q1910.61 271.809 1910.61 276.207 L1910.61 289.865 L1906.33 289.865 L1906.33 263.939 L1910.61 263.939 L1910.61 267.967 Q1911.96 265.606 1914.11 264.471 Q1916.26 263.314 1919.34 263.314 Q1919.78 263.314 1920.31 263.383 Q1920.84 263.43 1921.49 263.545 L1921.52 267.92 Z\" fill=\"#000000\" fill-rule=\"evenodd\" fill-opacity=\"1\" /><path clip-path=\"url(#clip200)\" d=\"M1925.54 279.633 L1925.54 263.939 L1929.8 263.939 L1929.8 279.471 Q1929.8 283.152 1931.24 285.004 Q1932.67 286.832 1935.54 286.832 Q1938.99 286.832 1940.98 284.633 Q1943 282.434 1943 278.638 L1943 263.939 L1947.26 263.939 L1947.26 289.865 L1943 289.865 L1943 285.883 Q1941.45 288.244 1939.39 289.402 Q1937.35 290.536 1934.64 290.536 Q1930.17 290.536 1927.86 287.758 Q1925.54 284.98 1925.54 279.633 M1936.26 263.314 L1936.26 263.314 Z\" fill=\"#000000\" fill-rule=\"evenodd\" fill-opacity=\"1\" /><path clip-path=\"url(#clip200)\" d=\"M1978.2 275.837 L1978.2 277.92 L1958.62 277.92 Q1958.9 282.318 1961.26 284.633 Q1963.64 286.925 1967.88 286.925 Q1970.33 286.925 1972.63 286.323 Q1974.94 285.721 1977.21 284.517 L1977.21 288.545 Q1974.92 289.517 1972.51 290.027 Q1970.1 290.536 1967.63 290.536 Q1961.42 290.536 1957.79 286.925 Q1954.18 283.314 1954.18 277.156 Q1954.18 270.791 1957.6 267.064 Q1961.05 263.314 1966.89 263.314 Q1972.12 263.314 1975.15 266.693 Q1978.2 270.05 1978.2 275.837 M1973.95 274.587 Q1973.9 271.092 1971.98 269.008 Q1970.08 266.925 1966.93 266.925 Q1963.37 266.925 1961.21 268.939 Q1959.08 270.953 1958.76 274.61 L1973.95 274.587 Z\" fill=\"#000000\" fill-rule=\"evenodd\" fill-opacity=\"1\" /><path clip-path=\"url(#clip200)\" d=\"M1997.21 263.939 L2001.72 263.939 L2009.82 285.698 L2017.93 263.939 L2022.44 263.939 L2012.72 289.865 L2006.93 289.865 L1997.21 263.939 Z\" fill=\"#000000\" fill-rule=\"evenodd\" fill-opacity=\"1\" /><path clip-path=\"url(#clip200)\" d=\"M2040.1 276.832 Q2034.94 276.832 2032.95 278.013 Q2030.96 279.193 2030.96 282.041 Q2030.96 284.309 2032.44 285.652 Q2033.95 286.971 2036.51 286.971 Q2040.06 286.971 2042.19 284.471 Q2044.34 281.948 2044.34 277.781 L2044.34 276.832 L2040.1 276.832 M2048.6 275.073 L2048.6 289.865 L2044.34 289.865 L2044.34 285.929 Q2042.88 288.291 2040.7 289.425 Q2038.53 290.536 2035.38 290.536 Q2031.4 290.536 2029.04 288.314 Q2026.7 286.068 2026.7 282.318 Q2026.7 277.943 2029.62 275.721 Q2032.56 273.499 2038.37 273.499 L2044.34 273.499 L2044.34 273.082 Q2044.34 270.143 2042.39 268.545 Q2040.47 266.925 2036.98 266.925 Q2034.76 266.925 2032.65 267.457 Q2030.54 267.99 2028.6 269.055 L2028.6 265.119 Q2030.94 264.217 2033.14 263.777 Q2035.33 263.314 2037.42 263.314 Q2043.04 263.314 2045.82 266.231 Q2048.6 269.147 2048.6 275.073 Z\" fill=\"#000000\" fill-rule=\"evenodd\" fill-opacity=\"1\" /><path clip-path=\"url(#clip200)\" d=\"M2057.37 253.846 L2061.63 253.846 L2061.63 289.865 L2057.37 289.865 L2057.37 253.846 Z\" fill=\"#000000\" fill-rule=\"evenodd\" fill-opacity=\"1\" /><path clip-path=\"url(#clip200)\" d=\"M2070.1 279.633 L2070.1 263.939 L2074.36 263.939 L2074.36 279.471 Q2074.36 283.152 2075.8 285.004 Q2077.23 286.832 2080.1 286.832 Q2083.55 286.832 2085.54 284.633 Q2087.56 282.434 2087.56 278.638 L2087.56 263.939 L2091.82 263.939 L2091.82 289.865 L2087.56 289.865 L2087.56 285.883 Q2086.01 288.244 2083.94 289.402 Q2081.91 290.536 2079.2 290.536 Q2074.73 290.536 2072.42 287.758 Q2070.1 284.98 2070.1 279.633 M2080.82 263.314 L2080.82 263.314 Z\" fill=\"#000000\" fill-rule=\"evenodd\" fill-opacity=\"1\" /><path clip-path=\"url(#clip200)\" d=\"M2122.76 275.837 L2122.76 277.92 L2103.18 277.92 Q2103.46 282.318 2105.82 284.633 Q2108.2 286.925 2112.44 286.925 Q2114.89 286.925 2117.19 286.323 Q2119.5 285.721 2121.77 284.517 L2121.77 288.545 Q2119.48 289.517 2117.07 290.027 Q2114.66 290.536 2112.19 290.536 Q2105.98 290.536 2102.35 286.925 Q2098.74 283.314 2098.74 277.156 Q2098.74 270.791 2102.16 267.064 Q2105.61 263.314 2111.44 263.314 Q2116.68 263.314 2119.71 266.693 Q2122.76 270.05 2122.76 275.837 M2118.5 274.587 Q2118.46 271.092 2116.54 269.008 Q2114.64 266.925 2111.49 266.925 Q2107.93 266.925 2105.77 268.939 Q2103.64 270.953 2103.32 274.61 L2118.5 274.587 Z\" fill=\"#000000\" fill-rule=\"evenodd\" fill-opacity=\"1\" /><path clip-path=\"url(#clip200)\" d=\"M2146.28 264.703 L2146.28 268.731 Q2144.48 267.805 2142.53 267.342 Q2140.59 266.879 2138.5 266.879 Q2135.33 266.879 2133.74 267.851 Q2132.16 268.823 2132.16 270.768 Q2132.16 272.249 2133.3 273.105 Q2134.43 273.939 2137.86 274.703 L2139.32 275.027 Q2143.85 275.999 2145.75 277.781 Q2147.67 279.541 2147.67 282.712 Q2147.67 286.323 2144.8 288.429 Q2141.95 290.536 2136.95 290.536 Q2134.87 290.536 2132.6 290.119 Q2130.36 289.726 2127.86 288.916 L2127.86 284.517 Q2130.22 285.744 2132.51 286.369 Q2134.8 286.971 2137.05 286.971 Q2140.06 286.971 2141.68 285.953 Q2143.3 284.911 2143.3 283.036 Q2143.3 281.3 2142.12 280.374 Q2140.96 279.448 2137 278.592 L2135.52 278.244 Q2131.56 277.411 2129.8 275.698 Q2128.04 273.962 2128.04 270.953 Q2128.04 267.295 2130.63 265.305 Q2133.23 263.314 2138 263.314 Q2140.36 263.314 2142.44 263.661 Q2144.52 264.008 2146.28 264.703 Z\" fill=\"#000000\" fill-rule=\"evenodd\" fill-opacity=\"1\" /></svg>\n"
      ]
     },
     "execution_count": 32,
     "metadata": {},
     "output_type": "execute_result"
    }
   ],
   "source": [
    "symbol_to_int(s) = parse(Int, string(s)[9:end-1])\n",
    "ϵ_chain = sort(chain_1_joint[:, [Symbol(\"ϵ_draw[$a]\") for a in 1:21], 1], lt = (x,y) -> symbol_to_int(x) < symbol_to_int(y))\n",
    "tmp = describe(ϵ_chain)\n",
    "ϵ_mean = tmp[1][:, 2]\n",
    "ϵ_std = tmp[1][:, 3]\n",
    "plot(ϵ_mean[2:end], ribbon=2 * ϵ_std[2:end], label=\"Posterior mean\", title = \"First-Order Joint: Estimated Latents\")\n",
    "plot!(ϵ', label=\"True values\")"
   ]
  },
  {
   "cell_type": "code",
   "execution_count": 33,
   "metadata": {},
   "outputs": [
    {
     "data": {
      "image/svg+xml": [
       "<?xml version=\"1.0\" encoding=\"utf-8\"?>\n",
       "<svg xmlns=\"http://www.w3.org/2000/svg\" xmlns:xlink=\"http://www.w3.org/1999/xlink\" width=\"600\" height=\"400\" viewBox=\"0 0 2400 1600\">\n",
       "<defs>\n",
       "  <clipPath id=\"clip240\">\n",
       "    <rect x=\"0\" y=\"0\" width=\"2400\" height=\"1600\"/>\n",
       "  </clipPath>\n",
       "</defs>\n",
       "<path clip-path=\"url(#clip240)\" d=\"\n",
       "M0 1600 L2400 1600 L2400 0 L0 0  Z\n",
       "  \" fill=\"#ffffff\" fill-rule=\"evenodd\" fill-opacity=\"1\"/>\n",
       "<defs>\n",
       "  <clipPath id=\"clip241\">\n",
       "    <rect x=\"480\" y=\"0\" width=\"1681\" height=\"1600\"/>\n",
       "  </clipPath>\n",
       "</defs>\n",
       "<path clip-path=\"url(#clip240)\" d=\"\n",
       "M147.478 1486.45 L2352.76 1486.45 L2352.76 123.472 L147.478 123.472  Z\n",
       "  \" fill=\"#ffffff\" fill-rule=\"evenodd\" fill-opacity=\"1\"/>\n",
       "<defs>\n",
       "  <clipPath id=\"clip242\">\n",
       "    <rect x=\"147\" y=\"123\" width=\"2206\" height=\"1364\"/>\n",
       "  </clipPath>\n",
       "</defs>\n",
       "<polyline clip-path=\"url(#clip242)\" style=\"stroke:#000000; stroke-linecap:butt; stroke-linejoin:round; stroke-width:2; stroke-opacity:0.1; fill:none\" points=\"\n",
       "  647.881,1486.45 647.881,123.472 \n",
       "  \"/>\n",
       "<polyline clip-path=\"url(#clip242)\" style=\"stroke:#000000; stroke-linecap:butt; stroke-linejoin:round; stroke-width:2; stroke-opacity:0.1; fill:none\" points=\"\n",
       "  1195.37,1486.45 1195.37,123.472 \n",
       "  \"/>\n",
       "<polyline clip-path=\"url(#clip242)\" style=\"stroke:#000000; stroke-linecap:butt; stroke-linejoin:round; stroke-width:2; stroke-opacity:0.1; fill:none\" points=\"\n",
       "  1742.86,1486.45 1742.86,123.472 \n",
       "  \"/>\n",
       "<polyline clip-path=\"url(#clip242)\" style=\"stroke:#000000; stroke-linecap:butt; stroke-linejoin:round; stroke-width:2; stroke-opacity:0.1; fill:none\" points=\"\n",
       "  2290.34,1486.45 2290.34,123.472 \n",
       "  \"/>\n",
       "<polyline clip-path=\"url(#clip240)\" style=\"stroke:#000000; stroke-linecap:butt; stroke-linejoin:round; stroke-width:4; stroke-opacity:1; fill:none\" points=\"\n",
       "  147.478,1486.45 2352.76,1486.45 \n",
       "  \"/>\n",
       "<polyline clip-path=\"url(#clip240)\" style=\"stroke:#000000; stroke-linecap:butt; stroke-linejoin:round; stroke-width:4; stroke-opacity:1; fill:none\" points=\"\n",
       "  647.881,1486.45 647.881,1467.55 \n",
       "  \"/>\n",
       "<polyline clip-path=\"url(#clip240)\" style=\"stroke:#000000; stroke-linecap:butt; stroke-linejoin:round; stroke-width:4; stroke-opacity:1; fill:none\" points=\"\n",
       "  1195.37,1486.45 1195.37,1467.55 \n",
       "  \"/>\n",
       "<polyline clip-path=\"url(#clip240)\" style=\"stroke:#000000; stroke-linecap:butt; stroke-linejoin:round; stroke-width:4; stroke-opacity:1; fill:none\" points=\"\n",
       "  1742.86,1486.45 1742.86,1467.55 \n",
       "  \"/>\n",
       "<polyline clip-path=\"url(#clip240)\" style=\"stroke:#000000; stroke-linecap:butt; stroke-linejoin:round; stroke-width:4; stroke-opacity:1; fill:none\" points=\"\n",
       "  2290.34,1486.45 2290.34,1467.55 \n",
       "  \"/>\n",
       "<path clip-path=\"url(#clip240)\" d=\"M638.159 1514.29 L656.515 1514.29 L656.515 1518.22 L642.441 1518.22 L642.441 1526.7 Q643.46 1526.35 644.478 1526.19 Q645.497 1526 646.515 1526 Q652.302 1526 655.682 1529.17 Q659.062 1532.34 659.062 1537.76 Q659.062 1543.34 655.589 1546.44 Q652.117 1549.52 645.798 1549.52 Q643.622 1549.52 641.353 1549.15 Q639.108 1548.78 636.701 1548.04 L636.701 1543.34 Q638.784 1544.47 641.006 1545.03 Q643.228 1545.58 645.705 1545.58 Q649.71 1545.58 652.048 1543.48 Q654.386 1541.37 654.386 1537.76 Q654.386 1534.15 652.048 1532.04 Q649.71 1529.94 645.705 1529.94 Q643.83 1529.94 641.955 1530.35 Q640.103 1530.77 638.159 1531.65 L638.159 1514.29 Z\" fill=\"#000000\" fill-rule=\"evenodd\" fill-opacity=\"1\" /><path clip-path=\"url(#clip240)\" d=\"M1170.06 1544.91 L1177.69 1544.91 L1177.69 1518.55 L1169.38 1520.21 L1169.38 1515.95 L1177.65 1514.29 L1182.32 1514.29 L1182.32 1544.91 L1189.96 1544.91 L1189.96 1548.85 L1170.06 1548.85 L1170.06 1544.91 Z\" fill=\"#000000\" fill-rule=\"evenodd\" fill-opacity=\"1\" /><path clip-path=\"url(#clip240)\" d=\"M1209.41 1517.37 Q1205.8 1517.37 1203.97 1520.93 Q1202.16 1524.47 1202.16 1531.6 Q1202.16 1538.71 1203.97 1542.27 Q1205.8 1545.82 1209.41 1545.82 Q1213.04 1545.82 1214.85 1542.27 Q1216.68 1538.71 1216.68 1531.6 Q1216.68 1524.47 1214.85 1520.93 Q1213.04 1517.37 1209.41 1517.37 M1209.41 1513.66 Q1215.22 1513.66 1218.27 1518.27 Q1221.35 1522.85 1221.35 1531.6 Q1221.35 1540.33 1218.27 1544.94 Q1215.22 1549.52 1209.41 1549.52 Q1203.6 1549.52 1200.52 1544.94 Q1197.46 1540.33 1197.46 1531.6 Q1197.46 1522.85 1200.52 1518.27 Q1203.6 1513.66 1209.41 1513.66 Z\" fill=\"#000000\" fill-rule=\"evenodd\" fill-opacity=\"1\" /><path clip-path=\"url(#clip240)\" d=\"M1718.04 1544.91 L1725.68 1544.91 L1725.68 1518.55 L1717.37 1520.21 L1717.37 1515.95 L1725.63 1514.29 L1730.31 1514.29 L1730.31 1544.91 L1737.95 1544.91 L1737.95 1548.85 L1718.04 1548.85 L1718.04 1544.91 Z\" fill=\"#000000\" fill-rule=\"evenodd\" fill-opacity=\"1\" /><path clip-path=\"url(#clip240)\" d=\"M1747.44 1514.29 L1765.79 1514.29 L1765.79 1518.22 L1751.72 1518.22 L1751.72 1526.7 Q1752.74 1526.35 1753.76 1526.19 Q1754.78 1526 1755.8 1526 Q1761.58 1526 1764.96 1529.17 Q1768.34 1532.34 1768.34 1537.76 Q1768.34 1543.34 1764.87 1546.44 Q1761.4 1549.52 1755.08 1549.52 Q1752.9 1549.52 1750.63 1549.15 Q1748.39 1548.78 1745.98 1548.04 L1745.98 1543.34 Q1748.06 1544.47 1750.29 1545.03 Q1752.51 1545.58 1754.98 1545.58 Q1758.99 1545.58 1761.33 1543.48 Q1763.67 1541.37 1763.67 1537.76 Q1763.67 1534.15 1761.33 1532.04 Q1758.99 1529.94 1754.98 1529.94 Q1753.11 1529.94 1751.23 1530.35 Q1749.38 1530.77 1747.44 1531.65 L1747.44 1514.29 Z\" fill=\"#000000\" fill-rule=\"evenodd\" fill-opacity=\"1\" /><path clip-path=\"url(#clip240)\" d=\"M2269.12 1544.91 L2285.43 1544.91 L2285.43 1548.85 L2263.49 1548.85 L2263.49 1544.91 Q2266.15 1542.16 2270.74 1537.53 Q2275.34 1532.88 2276.52 1531.53 Q2278.77 1529.01 2279.65 1527.27 Q2280.55 1525.51 2280.55 1523.82 Q2280.55 1521.07 2278.61 1519.33 Q2276.69 1517.6 2273.58 1517.6 Q2271.38 1517.6 2268.93 1518.36 Q2266.5 1519.13 2263.72 1520.68 L2263.72 1515.95 Q2266.55 1514.82 2269 1514.24 Q2271.45 1513.66 2273.49 1513.66 Q2278.86 1513.66 2282.06 1516.35 Q2285.25 1519.03 2285.25 1523.52 Q2285.25 1525.65 2284.44 1527.57 Q2283.65 1529.47 2281.55 1532.07 Q2280.97 1532.74 2277.87 1535.95 Q2274.76 1539.15 2269.12 1544.91 Z\" fill=\"#000000\" fill-rule=\"evenodd\" fill-opacity=\"1\" /><path clip-path=\"url(#clip240)\" d=\"M2305.25 1517.37 Q2301.64 1517.37 2299.81 1520.93 Q2298 1524.47 2298 1531.6 Q2298 1538.71 2299.81 1542.27 Q2301.64 1545.82 2305.25 1545.82 Q2308.88 1545.82 2310.69 1542.27 Q2312.52 1538.71 2312.52 1531.6 Q2312.52 1524.47 2310.69 1520.93 Q2308.88 1517.37 2305.25 1517.37 M2305.25 1513.66 Q2311.06 1513.66 2314.12 1518.27 Q2317.19 1522.85 2317.19 1531.6 Q2317.19 1540.33 2314.12 1544.94 Q2311.06 1549.52 2305.25 1549.52 Q2299.44 1549.52 2296.36 1544.94 Q2293.31 1540.33 2293.31 1531.6 Q2293.31 1522.85 2296.36 1518.27 Q2299.44 1513.66 2305.25 1513.66 Z\" fill=\"#000000\" fill-rule=\"evenodd\" fill-opacity=\"1\" /><polyline clip-path=\"url(#clip242)\" style=\"stroke:#000000; stroke-linecap:butt; stroke-linejoin:round; stroke-width:2; stroke-opacity:0.1; fill:none\" points=\"\n",
       "  147.478,1215.5 2352.76,1215.5 \n",
       "  \"/>\n",
       "<polyline clip-path=\"url(#clip242)\" style=\"stroke:#000000; stroke-linecap:butt; stroke-linejoin:round; stroke-width:2; stroke-opacity:0.1; fill:none\" points=\"\n",
       "  147.478,940.317 2352.76,940.317 \n",
       "  \"/>\n",
       "<polyline clip-path=\"url(#clip242)\" style=\"stroke:#000000; stroke-linecap:butt; stroke-linejoin:round; stroke-width:2; stroke-opacity:0.1; fill:none\" points=\"\n",
       "  147.478,665.129 2352.76,665.129 \n",
       "  \"/>\n",
       "<polyline clip-path=\"url(#clip242)\" style=\"stroke:#000000; stroke-linecap:butt; stroke-linejoin:round; stroke-width:2; stroke-opacity:0.1; fill:none\" points=\"\n",
       "  147.478,389.942 2352.76,389.942 \n",
       "  \"/>\n",
       "<polyline clip-path=\"url(#clip240)\" style=\"stroke:#000000; stroke-linecap:butt; stroke-linejoin:round; stroke-width:4; stroke-opacity:1; fill:none\" points=\"\n",
       "  147.478,1486.45 147.478,123.472 \n",
       "  \"/>\n",
       "<polyline clip-path=\"url(#clip240)\" style=\"stroke:#000000; stroke-linecap:butt; stroke-linejoin:round; stroke-width:4; stroke-opacity:1; fill:none\" points=\"\n",
       "  147.478,1215.5 166.376,1215.5 \n",
       "  \"/>\n",
       "<polyline clip-path=\"url(#clip240)\" style=\"stroke:#000000; stroke-linecap:butt; stroke-linejoin:round; stroke-width:4; stroke-opacity:1; fill:none\" points=\"\n",
       "  147.478,940.317 166.376,940.317 \n",
       "  \"/>\n",
       "<polyline clip-path=\"url(#clip240)\" style=\"stroke:#000000; stroke-linecap:butt; stroke-linejoin:round; stroke-width:4; stroke-opacity:1; fill:none\" points=\"\n",
       "  147.478,665.129 166.376,665.129 \n",
       "  \"/>\n",
       "<polyline clip-path=\"url(#clip240)\" style=\"stroke:#000000; stroke-linecap:butt; stroke-linejoin:round; stroke-width:4; stroke-opacity:1; fill:none\" points=\"\n",
       "  147.478,389.942 166.376,389.942 \n",
       "  \"/>\n",
       "<path clip-path=\"url(#clip240)\" d=\"M51.3625 1215.96 L81.0383 1215.96 L81.0383 1219.89 L51.3625 1219.89 L51.3625 1215.96 Z\" fill=\"#000000\" fill-rule=\"evenodd\" fill-opacity=\"1\" /><path clip-path=\"url(#clip240)\" d=\"M95.1586 1228.85 L111.478 1228.85 L111.478 1232.78 L89.5336 1232.78 L89.5336 1228.85 Q92.1956 1226.09 96.7789 1221.46 Q101.385 1216.81 102.566 1215.47 Q104.811 1212.95 105.691 1211.21 Q106.594 1209.45 106.594 1207.76 Q106.594 1205.01 104.649 1203.27 Q102.728 1201.53 99.6261 1201.53 Q97.4271 1201.53 94.9734 1202.3 Q92.5428 1203.06 89.7651 1204.61 L89.7651 1199.89 Q92.5891 1198.76 95.0428 1198.18 Q97.4965 1197.6 99.5335 1197.6 Q104.904 1197.6 108.098 1200.28 Q111.293 1202.97 111.293 1207.46 Q111.293 1209.59 110.483 1211.51 Q109.696 1213.41 107.589 1216 Q107.01 1216.67 103.909 1219.89 Q100.807 1223.09 95.1586 1228.85 Z\" fill=\"#000000\" fill-rule=\"evenodd\" fill-opacity=\"1\" /><path clip-path=\"url(#clip240)\" d=\"M50.9921 940.768 L80.6679 940.768 L80.6679 944.703 L50.9921 944.703 L50.9921 940.768 Z\" fill=\"#000000\" fill-rule=\"evenodd\" fill-opacity=\"1\" /><path clip-path=\"url(#clip240)\" d=\"M91.5706 953.662 L99.2095 953.662 L99.2095 927.296 L90.8993 928.963 L90.8993 924.703 L99.1632 923.037 L103.839 923.037 L103.839 953.662 L111.478 953.662 L111.478 957.597 L91.5706 957.597 L91.5706 953.662 Z\" fill=\"#000000\" fill-rule=\"evenodd\" fill-opacity=\"1\" /><path clip-path=\"url(#clip240)\" d=\"M99.5335 650.928 Q95.9224 650.928 94.0937 654.493 Q92.2882 658.034 92.2882 665.164 Q92.2882 672.27 94.0937 675.835 Q95.9224 679.377 99.5335 679.377 Q103.168 679.377 104.973 675.835 Q106.802 672.27 106.802 665.164 Q106.802 658.034 104.973 654.493 Q103.168 650.928 99.5335 650.928 M99.5335 647.224 Q105.344 647.224 108.399 651.831 Q111.478 656.414 111.478 665.164 Q111.478 673.891 108.399 678.497 Q105.344 683.081 99.5335 683.081 Q93.7234 683.081 90.6447 678.497 Q87.5892 673.891 87.5892 665.164 Q87.5892 656.414 90.6447 651.831 Q93.7234 647.224 99.5335 647.224 Z\" fill=\"#000000\" fill-rule=\"evenodd\" fill-opacity=\"1\" /><path clip-path=\"url(#clip240)\" d=\"M91.5706 403.287 L99.2095 403.287 L99.2095 376.921 L90.8993 378.588 L90.8993 374.328 L99.1632 372.662 L103.839 372.662 L103.839 403.287 L111.478 403.287 L111.478 407.222 L91.5706 407.222 L91.5706 403.287 Z\" fill=\"#000000\" fill-rule=\"evenodd\" fill-opacity=\"1\" /><path clip-path=\"url(#clip240)\" d=\"M497.884 14.0809 L497.884 22.0612 Q493.226 19.8332 489.094 18.7395 Q484.962 17.6457 481.114 17.6457 Q474.43 17.6457 470.784 20.2383 Q467.178 22.8309 467.178 27.611 Q467.178 31.6214 469.568 33.6873 Q471.999 35.7128 478.723 36.9686 L483.666 37.9813 Q492.821 39.7232 497.155 44.1387 Q501.53 48.5136 501.53 55.8863 Q501.53 64.6767 495.616 69.2137 Q489.742 73.7508 478.359 73.7508 Q474.065 73.7508 469.204 72.7785 Q464.383 71.8063 459.198 69.9024 L459.198 61.4765 Q464.181 64.2716 468.961 65.6895 Q473.741 67.1073 478.359 67.1073 Q485.367 67.1073 489.175 64.3527 Q492.983 61.598 492.983 56.4939 Q492.983 52.0379 490.228 49.5264 Q487.514 47.0148 481.276 45.759 L476.293 44.7868 Q467.138 42.9639 463.046 39.075 Q458.955 35.1862 458.955 28.2591 Q458.955 20.2383 464.586 15.6203 Q470.257 11.0023 480.182 11.0023 Q484.435 11.0023 488.851 11.7719 Q493.266 12.5416 497.884 14.0809 Z\" fill=\"#000000\" fill-rule=\"evenodd\" fill-opacity=\"1\" /><path clip-path=\"url(#clip240)\" d=\"M552.774 48.0275 L552.774 51.6733 L518.503 51.6733 Q518.989 59.3701 523.121 63.421 Q527.294 67.4314 534.707 67.4314 Q539.001 67.4314 543.011 66.3781 Q547.062 65.3249 551.032 63.2184 L551.032 70.267 Q547.022 71.9684 542.809 72.8596 Q538.596 73.7508 534.261 73.7508 Q523.405 73.7508 517.045 67.4314 Q510.726 61.1119 510.726 50.3365 Q510.726 39.1965 516.721 32.6746 Q522.757 26.1121 532.965 26.1121 Q542.12 26.1121 547.427 32.0264 Q552.774 37.9003 552.774 48.0275 M545.32 45.84 Q545.239 39.7232 541.877 36.0774 Q538.555 32.4315 533.046 32.4315 Q526.808 32.4315 523.04 35.9558 Q519.314 39.4801 518.746 45.8805 L545.32 45.84 Z\" fill=\"#000000\" fill-rule=\"evenodd\" fill-opacity=\"1\" /><path clip-path=\"url(#clip240)\" d=\"M597.658 28.9478 L597.658 35.9153 Q594.498 34.1734 591.298 33.3227 Q588.138 32.4315 584.898 32.4315 Q577.647 32.4315 573.636 37.0496 Q569.626 41.6271 569.626 49.9314 Q569.626 58.2358 573.636 62.8538 Q577.647 67.4314 584.898 67.4314 Q588.138 67.4314 591.298 66.5807 Q594.498 65.6895 597.658 63.9476 L597.658 70.8341 Q594.539 72.2924 591.177 73.0216 Q587.855 73.7508 584.087 73.7508 Q573.839 73.7508 567.803 67.3098 Q561.767 60.8689 561.767 49.9314 Q561.767 38.832 567.843 32.472 Q573.96 26.1121 584.574 26.1121 Q588.017 26.1121 591.298 26.8413 Q594.579 27.5299 597.658 28.9478 Z\" fill=\"#000000\" fill-rule=\"evenodd\" fill-opacity=\"1\" /><path clip-path=\"url(#clip240)\" d=\"M628.202 32.4315 Q622.207 32.4315 618.723 37.1306 Q615.239 41.7891 615.239 49.9314 Q615.239 58.0738 618.682 62.7728 Q622.166 67.4314 628.202 67.4314 Q634.157 67.4314 637.64 62.7323 Q641.124 58.0333 641.124 49.9314 Q641.124 41.8701 637.64 37.1711 Q634.157 32.4315 628.202 32.4315 M628.202 26.1121 Q637.924 26.1121 643.474 32.4315 Q649.023 38.7509 649.023 49.9314 Q649.023 61.0714 643.474 67.4314 Q637.924 73.7508 628.202 73.7508 Q618.439 73.7508 612.889 67.4314 Q607.38 61.0714 607.38 49.9314 Q607.38 38.7509 612.889 32.4315 Q618.439 26.1121 628.202 26.1121 Z\" fill=\"#000000\" fill-rule=\"evenodd\" fill-opacity=\"1\" /><path clip-path=\"url(#clip240)\" d=\"M699.093 45.1919 L699.093 72.576 L691.639 72.576 L691.639 45.4349 Q691.639 38.994 689.127 35.7938 Q686.616 32.5936 681.593 32.5936 Q675.557 32.5936 672.073 36.4419 Q668.589 40.2903 668.589 46.9338 L668.589 72.576 L661.095 72.576 L661.095 27.2059 L668.589 27.2059 L668.589 34.2544 Q671.263 30.163 674.868 28.1376 Q678.514 26.1121 683.254 26.1121 Q691.072 26.1121 695.082 30.9732 Q699.093 35.7938 699.093 45.1919 Z\" fill=\"#000000\" fill-rule=\"evenodd\" fill-opacity=\"1\" /><path clip-path=\"url(#clip240)\" d=\"M743.815 34.0924 L743.815 9.54393 L751.268 9.54393 L751.268 72.576 L743.815 72.576 L743.815 65.7705 Q741.465 69.8214 737.86 71.8063 Q734.295 73.7508 729.272 73.7508 Q721.049 73.7508 715.863 67.1883 Q710.719 60.6258 710.719 49.9314 Q710.719 39.2371 715.863 32.6746 Q721.049 26.1121 729.272 26.1121 Q734.295 26.1121 737.86 28.0971 Q741.465 30.0415 743.815 34.0924 M718.415 49.9314 Q718.415 58.1548 721.778 62.8538 Q725.18 67.5124 731.095 67.5124 Q737.009 67.5124 740.412 62.8538 Q743.815 58.1548 743.815 49.9314 Q743.815 41.7081 740.412 37.0496 Q737.009 32.3505 731.095 32.3505 Q725.18 32.3505 721.778 37.0496 Q718.415 41.7081 718.415 49.9314 Z\" fill=\"#000000\" fill-rule=\"evenodd\" fill-opacity=\"1\" /><path clip-path=\"url(#clip240)\" d=\"M762.854 46.5287 L784.688 46.5287 L784.688 53.1722 L762.854 53.1722 L762.854 46.5287 Z\" fill=\"#000000\" fill-rule=\"evenodd\" fill-opacity=\"1\" /><path clip-path=\"url(#clip240)\" d=\"M823.739 17.6457 Q814.827 17.6457 809.561 24.2892 Q804.335 30.9327 804.335 42.3968 Q804.335 53.8203 809.561 60.4638 Q814.827 67.1073 823.739 67.1073 Q832.651 67.1073 837.836 60.4638 Q843.062 53.8203 843.062 42.3968 Q843.062 30.9327 837.836 24.2892 Q832.651 17.6457 823.739 17.6457 M823.739 11.0023 Q836.459 11.0023 844.075 19.5497 Q851.69 28.0566 851.69 42.3968 Q851.69 56.6965 844.075 65.2439 Q836.459 73.7508 823.739 73.7508 Q810.979 73.7508 803.322 65.2439 Q795.707 56.737 795.707 42.3968 Q795.707 28.0566 803.322 19.5497 Q810.979 11.0023 823.739 11.0023 Z\" fill=\"#000000\" fill-rule=\"evenodd\" fill-opacity=\"1\" /><path clip-path=\"url(#clip240)\" d=\"M890.457 34.1734 Q889.202 33.4443 887.703 33.1202 Q886.244 32.7556 884.462 32.7556 Q878.143 32.7556 874.74 36.8875 Q871.378 40.9789 871.378 48.6757 L871.378 72.576 L863.883 72.576 L863.883 27.2059 L871.378 27.2059 L871.378 34.2544 Q873.727 30.1225 877.494 28.1376 Q881.262 26.1121 886.65 26.1121 Q887.419 26.1121 888.351 26.2337 Q889.283 26.3147 890.417 26.5172 L890.457 34.1734 Z\" fill=\"#000000\" fill-rule=\"evenodd\" fill-opacity=\"1\" /><path clip-path=\"url(#clip240)\" d=\"M926.672 34.0924 L926.672 9.54393 L934.126 9.54393 L934.126 72.576 L926.672 72.576 L926.672 65.7705 Q924.323 69.8214 920.718 71.8063 Q917.153 73.7508 912.13 73.7508 Q903.906 73.7508 898.721 67.1883 Q893.577 60.6258 893.577 49.9314 Q893.577 39.2371 898.721 32.6746 Q903.906 26.1121 912.13 26.1121 Q917.153 26.1121 920.718 28.0971 Q924.323 30.0415 926.672 34.0924 M901.273 49.9314 Q901.273 58.1548 904.636 62.8538 Q908.038 67.5124 913.953 67.5124 Q919.867 67.5124 923.27 62.8538 Q926.672 58.1548 926.672 49.9314 Q926.672 41.7081 923.27 37.0496 Q919.867 32.3505 913.953 32.3505 Q908.038 32.3505 904.636 37.0496 Q901.273 41.7081 901.273 49.9314 Z\" fill=\"#000000\" fill-rule=\"evenodd\" fill-opacity=\"1\" /><path clip-path=\"url(#clip240)\" d=\"M988.287 48.0275 L988.287 51.6733 L954.016 51.6733 Q954.502 59.3701 958.634 63.421 Q962.807 67.4314 970.22 67.4314 Q974.514 67.4314 978.524 66.3781 Q982.575 65.3249 986.545 63.2184 L986.545 70.267 Q982.534 71.9684 978.321 72.8596 Q974.109 73.7508 969.774 73.7508 Q958.918 73.7508 952.558 67.4314 Q946.238 61.1119 946.238 50.3365 Q946.238 39.1965 952.234 32.6746 Q958.27 26.1121 968.478 26.1121 Q977.633 26.1121 982.94 32.0264 Q988.287 37.9003 988.287 48.0275 M980.833 45.84 Q980.752 39.7232 977.39 36.0774 Q974.068 32.4315 968.559 32.4315 Q962.32 32.4315 958.553 35.9558 Q954.826 39.4801 954.259 45.8805 L980.833 45.84 Z\" fill=\"#000000\" fill-rule=\"evenodd\" fill-opacity=\"1\" /><path clip-path=\"url(#clip240)\" d=\"M1026.81 34.1734 Q1025.56 33.4443 1024.06 33.1202 Q1022.6 32.7556 1020.82 32.7556 Q1014.5 32.7556 1011.09 36.8875 Q1007.73 40.9789 1007.73 48.6757 L1007.73 72.576 L1000.24 72.576 L1000.24 27.2059 L1007.73 27.2059 L1007.73 34.2544 Q1010.08 30.1225 1013.85 28.1376 Q1017.62 26.1121 1023 26.1121 Q1023.77 26.1121 1024.7 26.2337 Q1025.64 26.3147 1026.77 26.5172 L1026.81 34.1734 Z\" fill=\"#000000\" fill-rule=\"evenodd\" fill-opacity=\"1\" /><path clip-path=\"url(#clip240)\" d=\"M1061.32 12.096 L1069.51 12.096 L1069.51 68.3631 Q1069.51 79.3005 1065.33 84.2426 Q1061.2 89.1847 1052.01 89.1847 L1048.89 89.1847 L1048.89 82.2982 L1051.44 82.2982 Q1056.87 82.2982 1059.1 79.26 Q1061.32 76.2218 1061.32 68.3631 L1061.32 12.096 Z\" fill=\"#000000\" fill-rule=\"evenodd\" fill-opacity=\"1\" /><path clip-path=\"url(#clip240)\" d=\"M1103.05 32.4315 Q1097.05 32.4315 1093.57 37.1306 Q1090.09 41.7891 1090.09 49.9314 Q1090.09 58.0738 1093.53 62.7728 Q1097.01 67.4314 1103.05 67.4314 Q1109 67.4314 1112.49 62.7323 Q1115.97 58.0333 1115.97 49.9314 Q1115.97 41.8701 1112.49 37.1711 Q1109 32.4315 1103.05 32.4315 M1103.05 26.1121 Q1112.77 26.1121 1118.32 32.4315 Q1123.87 38.7509 1123.87 49.9314 Q1123.87 61.0714 1118.32 67.4314 Q1112.77 73.7508 1103.05 73.7508 Q1093.29 73.7508 1087.74 67.4314 Q1082.23 61.0714 1082.23 49.9314 Q1082.23 38.7509 1087.74 32.4315 Q1093.29 26.1121 1103.05 26.1121 Z\" fill=\"#000000\" fill-rule=\"evenodd\" fill-opacity=\"1\" /><path clip-path=\"url(#clip240)\" d=\"M1136.23 27.2059 L1143.68 27.2059 L1143.68 72.576 L1136.23 72.576 L1136.23 27.2059 M1136.23 9.54393 L1143.68 9.54393 L1143.68 18.9825 L1136.23 18.9825 L1136.23 9.54393 Z\" fill=\"#000000\" fill-rule=\"evenodd\" fill-opacity=\"1\" /><path clip-path=\"url(#clip240)\" d=\"M1196.99 45.1919 L1196.99 72.576 L1189.54 72.576 L1189.54 45.4349 Q1189.54 38.994 1187.02 35.7938 Q1184.51 32.5936 1179.49 32.5936 Q1173.45 32.5936 1169.97 36.4419 Q1166.49 40.2903 1166.49 46.9338 L1166.49 72.576 L1158.99 72.576 L1158.99 27.2059 L1166.49 27.2059 L1166.49 34.2544 Q1169.16 30.163 1172.76 28.1376 Q1176.41 26.1121 1181.15 26.1121 Q1188.97 26.1121 1192.98 30.9732 Q1196.99 35.7938 1196.99 45.1919 Z\" fill=\"#000000\" fill-rule=\"evenodd\" fill-opacity=\"1\" /><path clip-path=\"url(#clip240)\" d=\"M1219.23 14.324 L1219.23 27.2059 L1234.58 27.2059 L1234.58 32.9987 L1219.23 32.9987 L1219.23 57.6282 Q1219.23 63.1779 1220.73 64.7578 Q1222.27 66.3376 1226.93 66.3376 L1234.58 66.3376 L1234.58 72.576 L1226.93 72.576 Q1218.3 72.576 1215.02 69.3758 Q1211.73 66.1351 1211.73 57.6282 L1211.73 32.9987 L1206.27 32.9987 L1206.27 27.2059 L1211.73 27.2059 L1211.73 14.324 L1219.23 14.324 Z\" fill=\"#000000\" fill-rule=\"evenodd\" fill-opacity=\"1\" /><path clip-path=\"url(#clip240)\" d=\"M1246.29 62.2867 L1254.84 62.2867 L1254.84 72.576 L1246.29 72.576 L1246.29 62.2867 M1246.29 29.6769 L1254.84 29.6769 L1254.84 39.9662 L1246.29 39.9662 L1246.29 29.6769 Z\" fill=\"#000000\" fill-rule=\"evenodd\" fill-opacity=\"1\" /><path clip-path=\"url(#clip240)\" d=\"M1299.03 12.096 L1337.27 12.096 L1337.27 18.9825 L1307.21 18.9825 L1307.21 36.8875 L1336.02 36.8875 L1336.02 43.7741 L1307.21 43.7741 L1307.21 65.6895 L1338 65.6895 L1338 72.576 L1299.03 72.576 L1299.03 12.096 Z\" fill=\"#000000\" fill-rule=\"evenodd\" fill-opacity=\"1\" /><path clip-path=\"url(#clip240)\" d=\"M1380.05 28.5427 L1380.05 35.5912 Q1376.89 33.9709 1373.49 33.1607 Q1370.08 32.3505 1366.44 32.3505 Q1360.89 32.3505 1358.09 34.0519 Q1355.34 35.7533 1355.34 39.156 Q1355.34 41.7486 1357.32 43.2475 Q1359.31 44.7058 1365.3 46.0426 L1367.86 46.6097 Q1375.8 48.3111 1379.12 51.4303 Q1382.48 54.509 1382.48 60.0587 Q1382.48 66.3781 1377.46 70.0644 Q1372.47 73.7508 1363.72 73.7508 Q1360.08 73.7508 1356.11 73.0216 Q1352.18 72.3329 1347.8 70.9151 L1347.8 63.2184 Q1351.94 65.3654 1355.95 66.4591 Q1359.96 67.5124 1363.89 67.5124 Q1369.15 67.5124 1371.99 65.73 Q1374.82 63.9071 1374.82 60.6258 Q1374.82 57.5877 1372.76 55.9673 Q1370.73 54.3469 1363.81 52.8481 L1361.21 52.2405 Q1354.29 50.7821 1351.21 47.7845 Q1348.13 44.7463 1348.13 39.4801 Q1348.13 33.0797 1352.67 29.5959 Q1357.2 26.1121 1365.55 26.1121 Q1369.68 26.1121 1373.33 26.7198 Q1376.97 27.3274 1380.05 28.5427 Z\" fill=\"#000000\" fill-rule=\"evenodd\" fill-opacity=\"1\" /><path clip-path=\"url(#clip240)\" d=\"M1401.72 14.324 L1401.72 27.2059 L1417.07 27.2059 L1417.07 32.9987 L1401.72 32.9987 L1401.72 57.6282 Q1401.72 63.1779 1403.22 64.7578 Q1404.76 66.3376 1409.42 66.3376 L1417.07 66.3376 L1417.07 72.576 L1409.42 72.576 Q1400.79 72.576 1397.51 69.3758 Q1394.23 66.1351 1394.23 57.6282 L1394.23 32.9987 L1388.76 32.9987 L1388.76 27.2059 L1394.23 27.2059 L1394.23 14.324 L1401.72 14.324 Z\" fill=\"#000000\" fill-rule=\"evenodd\" fill-opacity=\"1\" /><path clip-path=\"url(#clip240)\" d=\"M1426.88 27.2059 L1434.33 27.2059 L1434.33 72.576 L1426.88 72.576 L1426.88 27.2059 M1426.88 9.54393 L1434.33 9.54393 L1434.33 18.9825 L1426.88 18.9825 L1426.88 9.54393 Z\" fill=\"#000000\" fill-rule=\"evenodd\" fill-opacity=\"1\" /><path clip-path=\"url(#clip240)\" d=\"M1485.25 35.9153 Q1488.05 30.8922 1491.94 28.5022 Q1495.82 26.1121 1501.09 26.1121 Q1508.18 26.1121 1512.03 31.0947 Q1515.88 36.0368 1515.88 45.1919 L1515.88 72.576 L1508.38 72.576 L1508.38 45.4349 Q1508.38 38.913 1506.07 35.7533 Q1503.76 32.5936 1499.02 32.5936 Q1493.23 32.5936 1489.87 36.4419 Q1486.51 40.2903 1486.51 46.9338 L1486.51 72.576 L1479.01 72.576 L1479.01 45.4349 Q1479.01 38.8725 1476.7 35.7533 Q1474.4 32.5936 1469.57 32.5936 Q1463.86 32.5936 1460.5 36.4824 Q1457.14 40.3308 1457.14 46.9338 L1457.14 72.576 L1449.64 72.576 L1449.64 27.2059 L1457.14 27.2059 L1457.14 34.2544 Q1459.69 30.082 1463.26 28.0971 Q1466.82 26.1121 1471.72 26.1121 Q1476.66 26.1121 1480.11 28.6237 Q1483.59 31.1352 1485.25 35.9153 Z\" fill=\"#000000\" fill-rule=\"evenodd\" fill-opacity=\"1\" /><path clip-path=\"url(#clip240)\" d=\"M1551.36 49.7694 Q1542.33 49.7694 1538.85 51.8354 Q1535.36 53.9013 1535.36 58.8839 Q1535.36 62.8538 1537.95 65.2034 Q1540.59 67.5124 1545.08 67.5124 Q1551.28 67.5124 1555.01 63.1374 Q1558.78 58.7219 1558.78 51.4303 L1558.78 49.7694 L1551.36 49.7694 M1566.23 46.6907 L1566.23 72.576 L1558.78 72.576 L1558.78 65.6895 Q1556.22 69.8214 1552.42 71.8063 Q1548.61 73.7508 1543.1 73.7508 Q1536.13 73.7508 1532 69.8619 Q1527.91 65.9325 1527.91 59.3701 Q1527.91 51.7138 1533.01 47.825 Q1538.16 43.9361 1548.32 43.9361 L1558.78 43.9361 L1558.78 43.2069 Q1558.78 38.0623 1555.37 35.2672 Q1552.01 32.4315 1545.89 32.4315 Q1542 32.4315 1538.32 33.3632 Q1534.63 34.295 1531.23 36.1584 L1531.23 29.2718 Q1535.32 27.692 1539.17 26.9223 Q1543.02 26.1121 1546.66 26.1121 Q1556.51 26.1121 1561.37 31.2163 Q1566.23 36.3204 1566.23 46.6907 Z\" fill=\"#000000\" fill-rule=\"evenodd\" fill-opacity=\"1\" /><path clip-path=\"url(#clip240)\" d=\"M1588.95 14.324 L1588.95 27.2059 L1604.31 27.2059 L1604.31 32.9987 L1588.95 32.9987 L1588.95 57.6282 Q1588.95 63.1779 1590.45 64.7578 Q1591.99 66.3376 1596.65 66.3376 L1604.31 66.3376 L1604.31 72.576 L1596.65 72.576 Q1588.02 72.576 1584.74 69.3758 Q1581.46 66.1351 1581.46 57.6282 L1581.46 32.9987 L1575.99 32.9987 L1575.99 27.2059 L1581.46 27.2059 L1581.46 14.324 L1588.95 14.324 Z\" fill=\"#000000\" fill-rule=\"evenodd\" fill-opacity=\"1\" /><path clip-path=\"url(#clip240)\" d=\"M1652.92 48.0275 L1652.92 51.6733 L1618.65 51.6733 Q1619.13 59.3701 1623.27 63.421 Q1627.44 67.4314 1634.85 67.4314 Q1639.15 67.4314 1643.16 66.3781 Q1647.21 65.3249 1651.18 63.2184 L1651.18 70.267 Q1647.17 71.9684 1642.95 72.8596 Q1638.74 73.7508 1634.41 73.7508 Q1623.55 73.7508 1617.19 67.4314 Q1610.87 61.1119 1610.87 50.3365 Q1610.87 39.1965 1616.87 32.6746 Q1622.9 26.1121 1633.11 26.1121 Q1642.26 26.1121 1647.57 32.0264 Q1652.92 37.9003 1652.92 48.0275 M1645.46 45.84 Q1645.38 39.7232 1642.02 36.0774 Q1638.7 32.4315 1633.19 32.4315 Q1626.95 32.4315 1623.18 35.9558 Q1619.46 39.4801 1618.89 45.8805 L1645.46 45.84 Z\" fill=\"#000000\" fill-rule=\"evenodd\" fill-opacity=\"1\" /><path clip-path=\"url(#clip240)\" d=\"M1695.01 34.0924 L1695.01 9.54393 L1702.46 9.54393 L1702.46 72.576 L1695.01 72.576 L1695.01 65.7705 Q1692.66 69.8214 1689.05 71.8063 Q1685.49 73.7508 1680.46 73.7508 Q1672.24 73.7508 1667.06 67.1883 Q1661.91 60.6258 1661.91 49.9314 Q1661.91 39.2371 1667.06 32.6746 Q1672.24 26.1121 1680.46 26.1121 Q1685.49 26.1121 1689.05 28.0971 Q1692.66 30.0415 1695.01 34.0924 M1669.61 49.9314 Q1669.61 58.1548 1672.97 62.8538 Q1676.37 67.5124 1682.29 67.5124 Q1688.2 67.5124 1691.6 62.8538 Q1695.01 58.1548 1695.01 49.9314 Q1695.01 41.7081 1691.6 37.0496 Q1688.2 32.3505 1682.29 32.3505 Q1676.37 32.3505 1672.97 37.0496 Q1669.61 41.7081 1669.61 49.9314 Z\" fill=\"#000000\" fill-rule=\"evenodd\" fill-opacity=\"1\" /><path clip-path=\"url(#clip240)\" d=\"M1744.51 12.096 L1752.69 12.096 L1752.69 65.6895 L1782.14 65.6895 L1782.14 72.576 L1744.51 72.576 L1744.51 12.096 Z\" fill=\"#000000\" fill-rule=\"evenodd\" fill-opacity=\"1\" /><path clip-path=\"url(#clip240)\" d=\"M1811.03 49.7694 Q1801.99 49.7694 1798.51 51.8354 Q1795.02 53.9013 1795.02 58.8839 Q1795.02 62.8538 1797.62 65.2034 Q1800.25 67.5124 1804.75 67.5124 Q1810.94 67.5124 1814.67 63.1374 Q1818.44 58.7219 1818.44 51.4303 L1818.44 49.7694 L1811.03 49.7694 M1825.89 46.6907 L1825.89 72.576 L1818.44 72.576 L1818.44 65.6895 Q1815.89 69.8214 1812.08 71.8063 Q1808.27 73.7508 1802.76 73.7508 Q1795.79 73.7508 1791.66 69.8619 Q1787.57 65.9325 1787.57 59.3701 Q1787.57 51.7138 1792.67 47.825 Q1797.82 43.9361 1807.99 43.9361 L1818.44 43.9361 L1818.44 43.2069 Q1818.44 38.0623 1815.04 35.2672 Q1811.67 32.4315 1805.56 32.4315 Q1801.67 32.4315 1797.98 33.3632 Q1794.3 34.295 1790.89 36.1584 L1790.89 29.2718 Q1794.98 27.692 1798.83 26.9223 Q1802.68 26.1121 1806.33 26.1121 Q1816.17 26.1121 1821.03 31.2163 Q1825.89 36.3204 1825.89 46.6907 Z\" fill=\"#000000\" fill-rule=\"evenodd\" fill-opacity=\"1\" /><path clip-path=\"url(#clip240)\" d=\"M1848.62 14.324 L1848.62 27.2059 L1863.97 27.2059 L1863.97 32.9987 L1848.62 32.9987 L1848.62 57.6282 Q1848.62 63.1779 1850.12 64.7578 Q1851.66 66.3376 1856.31 66.3376 L1863.97 66.3376 L1863.97 72.576 L1856.31 72.576 Q1847.69 72.576 1844.4 69.3758 Q1841.12 66.1351 1841.12 57.6282 L1841.12 32.9987 L1835.65 32.9987 L1835.65 27.2059 L1841.12 27.2059 L1841.12 14.324 L1848.62 14.324 Z\" fill=\"#000000\" fill-rule=\"evenodd\" fill-opacity=\"1\" /><path clip-path=\"url(#clip240)\" d=\"M1912.58 48.0275 L1912.58 51.6733 L1878.31 51.6733 Q1878.8 59.3701 1882.93 63.421 Q1887.1 67.4314 1894.51 67.4314 Q1898.81 67.4314 1902.82 66.3781 Q1906.87 65.3249 1910.84 63.2184 L1910.84 70.267 Q1906.83 71.9684 1902.62 72.8596 Q1898.4 73.7508 1894.07 73.7508 Q1883.21 73.7508 1876.85 67.4314 Q1870.53 61.1119 1870.53 50.3365 Q1870.53 39.1965 1876.53 32.6746 Q1882.56 26.1121 1892.77 26.1121 Q1901.93 26.1121 1907.23 32.0264 Q1912.58 37.9003 1912.58 48.0275 M1905.13 45.84 Q1905.05 39.7232 1901.68 36.0774 Q1898.36 32.4315 1892.85 32.4315 Q1886.62 32.4315 1882.85 35.9558 Q1879.12 39.4801 1878.55 45.8805 L1905.13 45.84 Z\" fill=\"#000000\" fill-rule=\"evenodd\" fill-opacity=\"1\" /><path clip-path=\"url(#clip240)\" d=\"M1962.53 45.1919 L1962.53 72.576 L1955.08 72.576 L1955.08 45.4349 Q1955.08 38.994 1952.56 35.7938 Q1950.05 32.5936 1945.03 32.5936 Q1938.99 32.5936 1935.51 36.4419 Q1932.03 40.2903 1932.03 46.9338 L1932.03 72.576 L1924.53 72.576 L1924.53 27.2059 L1932.03 27.2059 L1932.03 34.2544 Q1934.7 30.163 1938.3 28.1376 Q1941.95 26.1121 1946.69 26.1121 Q1954.51 26.1121 1958.52 30.9732 Q1962.53 35.7938 1962.53 45.1919 Z\" fill=\"#000000\" fill-rule=\"evenodd\" fill-opacity=\"1\" /><path clip-path=\"url(#clip240)\" d=\"M1984.77 14.324 L1984.77 27.2059 L2000.12 27.2059 L2000.12 32.9987 L1984.77 32.9987 L1984.77 57.6282 Q1984.77 63.1779 1986.27 64.7578 Q1987.81 66.3376 1992.47 66.3376 L2000.12 66.3376 L2000.12 72.576 L1992.47 72.576 Q1983.84 72.576 1980.56 69.3758 Q1977.27 66.1351 1977.27 57.6282 L1977.27 32.9987 L1971.81 32.9987 L1971.81 27.2059 L1977.27 27.2059 L1977.27 14.324 L1984.77 14.324 Z\" fill=\"#000000\" fill-rule=\"evenodd\" fill-opacity=\"1\" /><path clip-path=\"url(#clip240)\" d=\"M2038.85 28.5427 L2038.85 35.5912 Q2035.69 33.9709 2032.29 33.1607 Q2028.88 32.3505 2025.24 32.3505 Q2019.69 32.3505 2016.89 34.0519 Q2014.14 35.7533 2014.14 39.156 Q2014.14 41.7486 2016.12 43.2475 Q2018.11 44.7058 2024.1 46.0426 L2026.65 46.6097 Q2034.59 48.3111 2037.92 51.4303 Q2041.28 54.509 2041.28 60.0587 Q2041.28 66.3781 2036.26 70.0644 Q2031.27 73.7508 2022.52 73.7508 Q2018.88 73.7508 2014.91 73.0216 Q2010.98 72.3329 2006.6 70.9151 L2006.6 63.2184 Q2010.73 65.3654 2014.75 66.4591 Q2018.76 67.5124 2022.69 67.5124 Q2027.95 67.5124 2030.79 65.73 Q2033.62 63.9071 2033.62 60.6258 Q2033.62 57.5877 2031.56 55.9673 Q2029.53 54.3469 2022.6 52.8481 L2020.01 52.2405 Q2013.08 50.7821 2010.01 47.7845 Q2006.93 44.7463 2006.93 39.4801 Q2006.93 33.0797 2011.46 29.5959 Q2016 26.1121 2024.35 26.1121 Q2028.48 26.1121 2032.12 26.7198 Q2035.77 27.3274 2038.85 28.5427 Z\" fill=\"#000000\" fill-rule=\"evenodd\" fill-opacity=\"1\" /><path clip-path=\"url(#clip242)\" d=\"\n",
       "M209.891 607.807 L319.389 517.187 L428.886 846.409 L538.384 801.277 L647.881 1136.43 L757.379 530.429 L866.876 724.164 L976.373 712.351 L1085.87 572.107 L1195.37 1249.74 \n",
       "  L1304.87 825.981 L1414.36 798.143 L1523.86 850.368 L1633.36 826.175 L1742.86 902.599 L1852.35 969.251 L1961.85 717.837 L2071.35 706.743 L2180.84 615.4 L2290.34 1186.22 \n",
       "  L2290.34 445.353 L2180.84 430.055 L2071.35 561.461 L1961.85 572.187 L1852.35 774.443 L1742.86 723.549 L1633.36 663.463 L1523.86 676.298 L1414.36 641.201 L1304.87 665.738 \n",
       "  L1195.37 961.8 L1085.87 396.751 L976.373 563.24 L866.876 574.16 L757.379 338.32 L647.881 884.759 L538.384 643.643 L428.886 683.007 L319.389 310.991 L209.891 441.52 \n",
       "   Z\n",
       "  \" fill=\"#009af9\" fill-rule=\"evenodd\" fill-opacity=\"0.5\"/>\n",
       "<polyline clip-path=\"url(#clip242)\" style=\"stroke:#009af9; stroke-linecap:butt; stroke-linejoin:round; stroke-width:4; stroke-opacity:1; fill:none\" points=\"\n",
       "  209.891,524.664 319.389,414.089 428.886,764.708 538.384,722.46 647.881,1010.6 757.379,434.374 866.876,649.162 976.373,637.795 1085.87,484.429 1195.37,1105.77 \n",
       "  1304.87,745.86 1414.36,719.672 1523.86,763.333 1633.36,744.819 1742.86,813.074 1852.35,871.847 1961.85,645.012 2071.35,634.102 2180.84,522.728 2290.34,815.787 \n",
       "  \n",
       "  \"/>\n",
       "<polyline clip-path=\"url(#clip242)\" style=\"stroke:#e26f46; stroke-linecap:butt; stroke-linejoin:round; stroke-width:4; stroke-opacity:1; fill:none\" points=\"\n",
       "  209.891,690.842 319.389,201.922 428.886,871.951 538.384,767.371 647.881,1392.75 757.379,162.047 866.876,720.363 976.373,569.466 1085.87,402.81 1195.37,1447.87 \n",
       "  1304.87,711.233 1414.36,868.832 1523.86,775.05 1633.36,925.3 1742.86,916.509 1852.35,943.074 1961.85,705.795 2071.35,614.172 2180.84,452.144 2290.34,559.119 \n",
       "  \n",
       "  \"/>\n",
       "<path clip-path=\"url(#clip240)\" d=\"\n",
       "M1683.87 324.425 L2279.25 324.425 L2279.25 168.905 L1683.87 168.905  Z\n",
       "  \" fill=\"#ffffff\" fill-rule=\"evenodd\" fill-opacity=\"1\"/>\n",
       "<polyline clip-path=\"url(#clip240)\" style=\"stroke:#000000; stroke-linecap:butt; stroke-linejoin:round; stroke-width:4; stroke-opacity:1; fill:none\" points=\"\n",
       "  1683.87,324.425 2279.25,324.425 2279.25,168.905 1683.87,168.905 1683.87,324.425 \n",
       "  \"/>\n",
       "<polyline clip-path=\"url(#clip240)\" style=\"stroke:#009af9; stroke-linecap:butt; stroke-linejoin:round; stroke-width:4; stroke-opacity:1; fill:none\" points=\"\n",
       "  1708.37,220.745 1855.39,220.745 \n",
       "  \"/>\n",
       "<path clip-path=\"url(#clip240)\" d=\"M1884.57 207.307 L1884.57 220.293 L1890.45 220.293 Q1893.71 220.293 1895.5 218.603 Q1897.28 216.914 1897.28 213.789 Q1897.28 210.687 1895.5 208.997 Q1893.71 207.307 1890.45 207.307 L1884.57 207.307 M1879.9 203.465 L1890.45 203.465 Q1896.26 203.465 1899.22 206.104 Q1902.21 208.719 1902.21 213.789 Q1902.21 218.904 1899.22 221.52 Q1896.26 224.136 1890.45 224.136 L1884.57 224.136 L1884.57 238.025 L1879.9 238.025 L1879.9 203.465 Z\" fill=\"#000000\" fill-rule=\"evenodd\" fill-opacity=\"1\" /><path clip-path=\"url(#clip240)\" d=\"M1916.65 215.085 Q1913.23 215.085 1911.24 217.77 Q1909.25 220.432 1909.25 225.085 Q1909.25 229.738 1911.21 232.423 Q1913.21 235.085 1916.65 235.085 Q1920.06 235.085 1922.05 232.4 Q1924.04 229.715 1924.04 225.085 Q1924.04 220.478 1922.05 217.793 Q1920.06 215.085 1916.65 215.085 M1916.65 211.474 Q1922.21 211.474 1925.38 215.085 Q1928.55 218.696 1928.55 225.085 Q1928.55 231.451 1925.38 235.085 Q1922.21 238.696 1916.65 238.696 Q1911.08 238.696 1907.9 235.085 Q1904.76 231.451 1904.76 225.085 Q1904.76 218.696 1907.9 215.085 Q1911.08 211.474 1916.65 211.474 Z\" fill=\"#000000\" fill-rule=\"evenodd\" fill-opacity=\"1\" /><path clip-path=\"url(#clip240)\" d=\"M1952.14 212.863 L1952.14 216.891 Q1950.33 215.965 1948.39 215.502 Q1946.45 215.039 1944.36 215.039 Q1941.19 215.039 1939.59 216.011 Q1938.02 216.983 1938.02 218.928 Q1938.02 220.409 1939.15 221.265 Q1940.29 222.099 1943.71 222.863 L1945.17 223.187 Q1949.71 224.159 1951.61 225.941 Q1953.53 227.701 1953.53 230.872 Q1953.53 234.483 1950.66 236.589 Q1947.81 238.696 1942.81 238.696 Q1940.73 238.696 1938.46 238.279 Q1936.21 237.886 1933.71 237.076 L1933.71 232.677 Q1936.08 233.904 1938.37 234.529 Q1940.66 235.131 1942.9 235.131 Q1945.91 235.131 1947.53 234.113 Q1949.15 233.071 1949.15 231.196 Q1949.15 229.46 1947.97 228.534 Q1946.82 227.608 1942.86 226.752 L1941.38 226.404 Q1937.42 225.571 1935.66 223.858 Q1933.9 222.122 1933.9 219.113 Q1933.9 215.455 1936.49 213.465 Q1939.08 211.474 1943.85 211.474 Q1946.21 211.474 1948.3 211.821 Q1950.38 212.168 1952.14 212.863 Z\" fill=\"#000000\" fill-rule=\"evenodd\" fill-opacity=\"1\" /><path clip-path=\"url(#clip240)\" d=\"M1964.52 204.738 L1964.52 212.099 L1973.3 212.099 L1973.3 215.409 L1964.52 215.409 L1964.52 229.483 Q1964.52 232.654 1965.38 233.557 Q1966.26 234.46 1968.92 234.46 L1973.3 234.46 L1973.3 238.025 L1968.92 238.025 Q1963.99 238.025 1962.12 236.196 Q1960.24 234.344 1960.24 229.483 L1960.24 215.409 L1957.12 215.409 L1957.12 212.099 L1960.24 212.099 L1960.24 204.738 L1964.52 204.738 Z\" fill=\"#000000\" fill-rule=\"evenodd\" fill-opacity=\"1\" /><path clip-path=\"url(#clip240)\" d=\"M2001.08 223.997 L2001.08 226.08 L1981.49 226.08 Q1981.77 230.478 1984.13 232.793 Q1986.51 235.085 1990.75 235.085 Q1993.2 235.085 1995.5 234.483 Q1997.81 233.881 2000.08 232.677 L2000.08 236.705 Q1997.79 237.677 1995.38 238.187 Q1992.97 238.696 1990.5 238.696 Q1984.29 238.696 1980.66 235.085 Q1977.05 231.474 1977.05 225.316 Q1977.05 218.951 1980.47 215.224 Q1983.92 211.474 1989.76 211.474 Q1994.99 211.474 1998.02 214.853 Q2001.08 218.21 2001.08 223.997 M1996.82 222.747 Q1996.77 219.252 1994.85 217.168 Q1992.95 215.085 1989.8 215.085 Q1986.24 215.085 1984.08 217.099 Q1981.95 219.113 1981.63 222.77 L1996.82 222.747 Z\" fill=\"#000000\" fill-rule=\"evenodd\" fill-opacity=\"1\" /><path clip-path=\"url(#clip240)\" d=\"M2023.09 216.08 Q2022.37 215.664 2021.51 215.478 Q2020.68 215.27 2019.66 215.27 Q2016.05 215.27 2014.11 217.631 Q2012.19 219.969 2012.19 224.367 L2012.19 238.025 L2007.9 238.025 L2007.9 212.099 L2012.19 212.099 L2012.19 216.127 Q2013.53 213.766 2015.68 212.631 Q2017.83 211.474 2020.91 211.474 Q2021.35 211.474 2021.89 211.543 Q2022.42 211.59 2023.07 211.705 L2023.09 216.08 Z\" fill=\"#000000\" fill-rule=\"evenodd\" fill-opacity=\"1\" /><path clip-path=\"url(#clip240)\" d=\"M2027.56 212.099 L2031.82 212.099 L2031.82 238.025 L2027.56 238.025 L2027.56 212.099 M2027.56 202.006 L2031.82 202.006 L2031.82 207.4 L2027.56 207.4 L2027.56 202.006 Z\" fill=\"#000000\" fill-rule=\"evenodd\" fill-opacity=\"1\" /><path clip-path=\"url(#clip240)\" d=\"M2050.77 215.085 Q2047.35 215.085 2045.36 217.77 Q2043.37 220.432 2043.37 225.085 Q2043.37 229.738 2045.33 232.423 Q2047.32 235.085 2050.77 235.085 Q2054.18 235.085 2056.17 232.4 Q2058.16 229.715 2058.16 225.085 Q2058.16 220.478 2056.17 217.793 Q2054.18 215.085 2050.77 215.085 M2050.77 211.474 Q2056.33 211.474 2059.5 215.085 Q2062.67 218.696 2062.67 225.085 Q2062.67 231.451 2059.5 235.085 Q2056.33 238.696 2050.77 238.696 Q2045.2 238.696 2042.02 235.085 Q2038.88 231.451 2038.88 225.085 Q2038.88 218.696 2042.02 215.085 Q2045.2 211.474 2050.77 211.474 Z\" fill=\"#000000\" fill-rule=\"evenodd\" fill-opacity=\"1\" /><path clip-path=\"url(#clip240)\" d=\"M2084.76 216.08 Q2084.04 215.664 2083.18 215.478 Q2082.35 215.27 2081.33 215.27 Q2077.72 215.27 2075.77 217.631 Q2073.85 219.969 2073.85 224.367 L2073.85 238.025 L2069.57 238.025 L2069.57 212.099 L2073.85 212.099 L2073.85 216.127 Q2075.19 213.766 2077.35 212.631 Q2079.5 211.474 2082.58 211.474 Q2083.02 211.474 2083.55 211.543 Q2084.08 211.59 2084.73 211.705 L2084.76 216.08 Z\" fill=\"#000000\" fill-rule=\"evenodd\" fill-opacity=\"1\" /><path clip-path=\"url(#clip240)\" d=\"M2124.48 217.076 Q2126.07 214.205 2128.3 212.84 Q2130.52 211.474 2133.53 211.474 Q2137.58 211.474 2139.78 214.321 Q2141.98 217.145 2141.98 222.377 L2141.98 238.025 L2137.69 238.025 L2137.69 222.515 Q2137.69 218.789 2136.38 216.983 Q2135.06 215.178 2132.35 215.178 Q2129.04 215.178 2127.12 217.377 Q2125.19 219.576 2125.19 223.372 L2125.19 238.025 L2120.91 238.025 L2120.91 222.515 Q2120.91 218.765 2119.59 216.983 Q2118.27 215.178 2115.52 215.178 Q2112.25 215.178 2110.33 217.4 Q2108.41 219.599 2108.41 223.372 L2108.41 238.025 L2104.13 238.025 L2104.13 212.099 L2108.41 212.099 L2108.41 216.127 Q2109.87 213.742 2111.91 212.608 Q2113.94 211.474 2116.75 211.474 Q2119.57 211.474 2121.54 212.909 Q2123.53 214.344 2124.48 217.076 Z\" fill=\"#000000\" fill-rule=\"evenodd\" fill-opacity=\"1\" /><path clip-path=\"url(#clip240)\" d=\"M2172.65 223.997 L2172.65 226.08 L2153.06 226.08 Q2153.34 230.478 2155.7 232.793 Q2158.09 235.085 2162.32 235.085 Q2164.78 235.085 2167.07 234.483 Q2169.38 233.881 2171.65 232.677 L2171.65 236.705 Q2169.36 237.677 2166.95 238.187 Q2164.55 238.696 2162.07 238.696 Q2155.87 238.696 2152.23 235.085 Q2148.62 231.474 2148.62 225.316 Q2148.62 218.951 2152.05 215.224 Q2155.5 211.474 2161.33 211.474 Q2166.56 211.474 2169.59 214.853 Q2172.65 218.21 2172.65 223.997 M2168.39 222.747 Q2168.34 219.252 2166.42 217.168 Q2164.52 215.085 2161.38 215.085 Q2157.81 215.085 2155.66 217.099 Q2153.53 219.113 2153.2 222.77 L2168.39 222.747 Z\" fill=\"#000000\" fill-rule=\"evenodd\" fill-opacity=\"1\" /><path clip-path=\"url(#clip240)\" d=\"M2191.42 224.992 Q2186.26 224.992 2184.27 226.173 Q2182.28 227.353 2182.28 230.201 Q2182.28 232.469 2183.76 233.812 Q2185.26 235.131 2187.83 235.131 Q2191.37 235.131 2193.5 232.631 Q2195.66 230.108 2195.66 225.941 L2195.66 224.992 L2191.42 224.992 M2199.92 223.233 L2199.92 238.025 L2195.66 238.025 L2195.66 234.089 Q2194.2 236.451 2192.02 237.585 Q2189.85 238.696 2186.7 238.696 Q2182.72 238.696 2180.36 236.474 Q2178.02 234.228 2178.02 230.478 Q2178.02 226.103 2180.94 223.881 Q2183.87 221.659 2189.69 221.659 L2195.66 221.659 L2195.66 221.242 Q2195.66 218.303 2193.71 216.705 Q2191.79 215.085 2188.3 215.085 Q2186.07 215.085 2183.97 215.617 Q2181.86 216.15 2179.92 217.215 L2179.92 213.279 Q2182.25 212.377 2184.45 211.937 Q2186.65 211.474 2188.74 211.474 Q2194.36 211.474 2197.14 214.391 Q2199.92 217.307 2199.92 223.233 Z\" fill=\"#000000\" fill-rule=\"evenodd\" fill-opacity=\"1\" /><path clip-path=\"url(#clip240)\" d=\"M2230.24 222.377 L2230.24 238.025 L2225.98 238.025 L2225.98 222.515 Q2225.98 218.835 2224.55 217.006 Q2223.11 215.178 2220.24 215.178 Q2216.79 215.178 2214.8 217.377 Q2212.81 219.576 2212.81 223.372 L2212.81 238.025 L2208.53 238.025 L2208.53 212.099 L2212.81 212.099 L2212.81 216.127 Q2214.34 213.789 2216.4 212.631 Q2218.48 211.474 2221.19 211.474 Q2225.66 211.474 2227.95 214.252 Q2230.24 217.006 2230.24 222.377 Z\" fill=\"#000000\" fill-rule=\"evenodd\" fill-opacity=\"1\" /><polyline clip-path=\"url(#clip240)\" style=\"stroke:#e26f46; stroke-linecap:butt; stroke-linejoin:round; stroke-width:4; stroke-opacity:1; fill:none\" points=\"\n",
       "  1708.37,272.585 1855.39,272.585 \n",
       "  \"/>\n",
       "<path clip-path=\"url(#clip240)\" d=\"M1879.9 255.305 L1909.13 255.305 L1909.13 259.24 L1896.86 259.24 L1896.86 289.865 L1892.16 289.865 L1892.16 259.24 L1879.9 259.24 L1879.9 255.305 Z\" fill=\"#000000\" fill-rule=\"evenodd\" fill-opacity=\"1\" /><path clip-path=\"url(#clip240)\" d=\"M1921.52 267.92 Q1920.8 267.504 1919.94 267.318 Q1919.11 267.11 1918.09 267.11 Q1914.48 267.11 1912.53 269.471 Q1910.61 271.809 1910.61 276.207 L1910.61 289.865 L1906.33 289.865 L1906.33 263.939 L1910.61 263.939 L1910.61 267.967 Q1911.96 265.606 1914.11 264.471 Q1916.26 263.314 1919.34 263.314 Q1919.78 263.314 1920.31 263.383 Q1920.84 263.43 1921.49 263.545 L1921.52 267.92 Z\" fill=\"#000000\" fill-rule=\"evenodd\" fill-opacity=\"1\" /><path clip-path=\"url(#clip240)\" d=\"M1925.54 279.633 L1925.54 263.939 L1929.8 263.939 L1929.8 279.471 Q1929.8 283.152 1931.24 285.004 Q1932.67 286.832 1935.54 286.832 Q1938.99 286.832 1940.98 284.633 Q1943 282.434 1943 278.638 L1943 263.939 L1947.26 263.939 L1947.26 289.865 L1943 289.865 L1943 285.883 Q1941.45 288.244 1939.39 289.402 Q1937.35 290.536 1934.64 290.536 Q1930.17 290.536 1927.86 287.758 Q1925.54 284.98 1925.54 279.633 M1936.26 263.314 L1936.26 263.314 Z\" fill=\"#000000\" fill-rule=\"evenodd\" fill-opacity=\"1\" /><path clip-path=\"url(#clip240)\" d=\"M1978.2 275.837 L1978.2 277.92 L1958.62 277.92 Q1958.9 282.318 1961.26 284.633 Q1963.64 286.925 1967.88 286.925 Q1970.33 286.925 1972.63 286.323 Q1974.94 285.721 1977.21 284.517 L1977.21 288.545 Q1974.92 289.517 1972.51 290.027 Q1970.1 290.536 1967.63 290.536 Q1961.42 290.536 1957.79 286.925 Q1954.18 283.314 1954.18 277.156 Q1954.18 270.791 1957.6 267.064 Q1961.05 263.314 1966.89 263.314 Q1972.12 263.314 1975.15 266.693 Q1978.2 270.05 1978.2 275.837 M1973.95 274.587 Q1973.9 271.092 1971.98 269.008 Q1970.08 266.925 1966.93 266.925 Q1963.37 266.925 1961.21 268.939 Q1959.08 270.953 1958.76 274.61 L1973.95 274.587 Z\" fill=\"#000000\" fill-rule=\"evenodd\" fill-opacity=\"1\" /><path clip-path=\"url(#clip240)\" d=\"M1997.21 263.939 L2001.72 263.939 L2009.82 285.698 L2017.93 263.939 L2022.44 263.939 L2012.72 289.865 L2006.93 289.865 L1997.21 263.939 Z\" fill=\"#000000\" fill-rule=\"evenodd\" fill-opacity=\"1\" /><path clip-path=\"url(#clip240)\" d=\"M2040.1 276.832 Q2034.94 276.832 2032.95 278.013 Q2030.96 279.193 2030.96 282.041 Q2030.96 284.309 2032.44 285.652 Q2033.95 286.971 2036.51 286.971 Q2040.06 286.971 2042.19 284.471 Q2044.34 281.948 2044.34 277.781 L2044.34 276.832 L2040.1 276.832 M2048.6 275.073 L2048.6 289.865 L2044.34 289.865 L2044.34 285.929 Q2042.88 288.291 2040.7 289.425 Q2038.53 290.536 2035.38 290.536 Q2031.4 290.536 2029.04 288.314 Q2026.7 286.068 2026.7 282.318 Q2026.7 277.943 2029.62 275.721 Q2032.56 273.499 2038.37 273.499 L2044.34 273.499 L2044.34 273.082 Q2044.34 270.143 2042.39 268.545 Q2040.47 266.925 2036.98 266.925 Q2034.76 266.925 2032.65 267.457 Q2030.54 267.99 2028.6 269.055 L2028.6 265.119 Q2030.94 264.217 2033.14 263.777 Q2035.33 263.314 2037.42 263.314 Q2043.04 263.314 2045.82 266.231 Q2048.6 269.147 2048.6 275.073 Z\" fill=\"#000000\" fill-rule=\"evenodd\" fill-opacity=\"1\" /><path clip-path=\"url(#clip240)\" d=\"M2057.37 253.846 L2061.63 253.846 L2061.63 289.865 L2057.37 289.865 L2057.37 253.846 Z\" fill=\"#000000\" fill-rule=\"evenodd\" fill-opacity=\"1\" /><path clip-path=\"url(#clip240)\" d=\"M2070.1 279.633 L2070.1 263.939 L2074.36 263.939 L2074.36 279.471 Q2074.36 283.152 2075.8 285.004 Q2077.23 286.832 2080.1 286.832 Q2083.55 286.832 2085.54 284.633 Q2087.56 282.434 2087.56 278.638 L2087.56 263.939 L2091.82 263.939 L2091.82 289.865 L2087.56 289.865 L2087.56 285.883 Q2086.01 288.244 2083.94 289.402 Q2081.91 290.536 2079.2 290.536 Q2074.73 290.536 2072.42 287.758 Q2070.1 284.98 2070.1 279.633 M2080.82 263.314 L2080.82 263.314 Z\" fill=\"#000000\" fill-rule=\"evenodd\" fill-opacity=\"1\" /><path clip-path=\"url(#clip240)\" d=\"M2122.76 275.837 L2122.76 277.92 L2103.18 277.92 Q2103.46 282.318 2105.82 284.633 Q2108.2 286.925 2112.44 286.925 Q2114.89 286.925 2117.19 286.323 Q2119.5 285.721 2121.77 284.517 L2121.77 288.545 Q2119.48 289.517 2117.07 290.027 Q2114.66 290.536 2112.19 290.536 Q2105.98 290.536 2102.35 286.925 Q2098.74 283.314 2098.74 277.156 Q2098.74 270.791 2102.16 267.064 Q2105.61 263.314 2111.44 263.314 Q2116.68 263.314 2119.71 266.693 Q2122.76 270.05 2122.76 275.837 M2118.5 274.587 Q2118.46 271.092 2116.54 269.008 Q2114.64 266.925 2111.49 266.925 Q2107.93 266.925 2105.77 268.939 Q2103.64 270.953 2103.32 274.61 L2118.5 274.587 Z\" fill=\"#000000\" fill-rule=\"evenodd\" fill-opacity=\"1\" /><path clip-path=\"url(#clip240)\" d=\"M2146.28 264.703 L2146.28 268.731 Q2144.48 267.805 2142.53 267.342 Q2140.59 266.879 2138.5 266.879 Q2135.33 266.879 2133.74 267.851 Q2132.16 268.823 2132.16 270.768 Q2132.16 272.249 2133.3 273.105 Q2134.43 273.939 2137.86 274.703 L2139.32 275.027 Q2143.85 275.999 2145.75 277.781 Q2147.67 279.541 2147.67 282.712 Q2147.67 286.323 2144.8 288.429 Q2141.95 290.536 2136.95 290.536 Q2134.87 290.536 2132.6 290.119 Q2130.36 289.726 2127.86 288.916 L2127.86 284.517 Q2130.22 285.744 2132.51 286.369 Q2134.8 286.971 2137.05 286.971 Q2140.06 286.971 2141.68 285.953 Q2143.3 284.911 2143.3 283.036 Q2143.3 281.3 2142.12 280.374 Q2140.96 279.448 2137 278.592 L2135.52 278.244 Q2131.56 277.411 2129.8 275.698 Q2128.04 273.962 2128.04 270.953 Q2128.04 267.295 2130.63 265.305 Q2133.23 263.314 2138 263.314 Q2140.36 263.314 2142.44 263.661 Q2144.52 264.008 2146.28 264.703 Z\" fill=\"#000000\" fill-rule=\"evenodd\" fill-opacity=\"1\" /></svg>\n"
      ]
     },
     "execution_count": 33,
     "metadata": {},
     "output_type": "execute_result"
    }
   ],
   "source": [
    "ϵ_chain = sort(chain_2_joint[:, [Symbol(\"ϵ_draw[$a]\") for a in 1:21], 1], lt = (x,y) -> symbol_to_int(x) < symbol_to_int(y))\n",
    "tmp = describe(ϵ_chain)\n",
    "ϵ_mean = tmp[1][:, 2]\n",
    "ϵ_std = tmp[1][:, 3]\n",
    "plot(ϵ_mean[2:end], ribbon=2 * ϵ_std[2:end], label=\"Posterior mean\", title = \"Second-Order Joint: Estimated Latents\")\n",
    "plot!(ϵ', label=\"True values\")"
   ]
  }
 ],
 "metadata": {
  "kernelspec": {
   "display_name": "Julia 1.7.3",
   "language": "julia",
   "name": "julia-1.7"
  },
  "language_info": {
   "file_extension": ".jl",
   "mimetype": "application/julia",
   "name": "julia",
   "version": "1.7.3"
  }
 },
 "nbformat": 4,
 "nbformat_minor": 4
}
