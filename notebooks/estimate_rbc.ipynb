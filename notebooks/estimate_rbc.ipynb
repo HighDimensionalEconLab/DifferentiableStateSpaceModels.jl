{
 "cells": [
  {
   "cell_type": "markdown",
   "metadata": {},
   "source": [
    "# Setup model and install packages"
   ]
  },
  {
   "cell_type": "code",
   "execution_count": 1,
   "metadata": {},
   "outputs": [],
   "source": [
    "# ] instantiate # remove comments to install packages"
   ]
  },
  {
   "cell_type": "code",
   "execution_count": 2,
   "metadata": {},
   "outputs": [],
   "source": [
    "using DifferentiableStateSpaceModels, DifferenceEquations, LinearAlgebra, Zygote, Distributions, Plots, DiffEqBase, Symbolics"
   ]
  },
  {
   "cell_type": "markdown",
   "metadata": {},
   "source": [
    "# Model equations and steady states"
   ]
  },
  {
   "cell_type": "code",
   "execution_count": 3,
   "metadata": {},
   "outputs": [
    {
     "data": {
      "text/plain": [
       "Perturbation Model: n_y = 2, n_x = 2, n_p = 6, n_ϵ = 1, n_z = 2\n",
       " y = [:c, :q] \n",
       " x = [:k, :z] \n",
       " p = [:α, :β, :ρ, :δ, :σ, :Ω_1]"
      ]
     },
     "execution_count": 3,
     "metadata": {},
     "output_type": "execute_result"
    }
   ],
   "source": [
    "∞ = Inf\n",
    "@variables α, β, ρ, δ, σ, Ω_1\n",
    "@variables t::Integer, k(..), z(..), c(..), q(..)\n",
    "\n",
    "x = [k, z]\n",
    "y = [c, q]\n",
    "p = [α, β, ρ, δ, σ, Ω_1]\n",
    "\n",
    "H = [1 / c(t) - (β / c(t + 1)) * (α * exp(z(t + 1)) * k(t + 1)^(α - 1) + (1 - δ)),\n",
    "     c(t) + k(t + 1) - (1 - δ) * k(t) - q(t),\n",
    "     q(t) - exp(z(t)) * k(t)^α,\n",
    "     z(t + 1) - ρ * z(t)]\n",
    "\n",
    "steady_states = [k(∞) ~ (((1 / β) - 1 + δ) / α)^(1 / (α - 1)),\n",
    "                 z(∞) ~ 0,\n",
    "                 c(∞) ~ (((1 / β) - 1 + δ) / α)^(α / (α - 1)) -\n",
    "                        δ * (((1 / β) - 1 + δ) / α)^(1 / (α - 1)),\n",
    "                 q(∞) ~ (((1 / β) - 1 + δ) / α)^(α / (α - 1))]\n",
    "\n",
    "Γ = reshape([σ], 1, 1)\n",
    "η = reshape([0; -1], length(x), 1) # η is n_x * n_ϵ matrix\n",
    "\n",
    "Q = zeros(2, length(x) + length(y))\n",
    "Q[1, 1] = 1.0\n",
    "Q[2, 3] = 1.0\n",
    "\n",
    "Ω = [Ω_1, Ω_1]\n",
    "\n",
    "# Generates the files and includes if required.  If the model is already created, then just loads\n",
    "model_rbc = @make_and_include_perturbation_model(\"rbc_notebook_example\", H, (; t, y, x, p, steady_states, Γ, Ω, η, Q)) # Convenience macro.  Saves as \".function_cache/rbc_notebook_example.jl\"\n",
    "\n",
    "# After generation could just include directly with the following code\n",
    "# isdefined(Main, :rbc_notebook_example) || include(joinpath(pkgdir(DifferentiableStateSpaceModels),\n",
    "#                                              \"test/generated_models/rbc_notebook_example.jl\"))\n",
    "\n",
    "\n",
    "# Alternatively, this is the same as a prebuilt example\n",
    "# model_rbc = @include_example_module(DifferentiableStateSpaceModels.Examples.rbc_observables)  # or use prebuilt model"
   ]
  },
  {
   "cell_type": "code",
   "execution_count": 4,
   "metadata": {},
   "outputs": [
    {
     "data": {
      "text/latex": [
       "$\\begin{equation}\n",
       "\\left[\n",
       "\\begin{array}{c}\n",
       "\\frac{ - \\beta \\left( 1 - \\delta + \\left( k\\left( 1 + t \\right) \\right)^{-1 + \\alpha} \\alpha e^{z\\left( 1 + t \\right)} \\right)}{c\\left( 1 + t \\right)} + \\frac{1}{c\\left( t \\right)} \\\\\n",
       " - q\\left( t \\right) - \\left( 1 - \\delta \\right) k\\left( t \\right) + c\\left( t \\right) + k\\left( 1 + t \\right) \\\\\n",
       " - \\left( k\\left( t \\right) \\right)^{\\alpha} e^{z\\left( t \\right)} + q\\left( t \\right) \\\\\n",
       " - \\rho z\\left( t \\right) + z\\left( 1 + t \\right) \\\\\n",
       "\\end{array}\n",
       "\\right]\n",
       "\\end{equation}\n",
       "$"
      ],
      "text/plain": [
       "L\"$\\begin{equation}\n",
       "\\left[\n",
       "\\begin{array}{c}\n",
       "\\frac{ - \\beta \\left( 1 - \\delta + \\left( k\\left( 1 + t \\right) \\right)^{-1 + \\alpha} \\alpha e^{z\\left( 1 + t \\right)} \\right)}{c\\left( 1 + t \\right)} + \\frac{1}{c\\left( t \\right)} \\\\\n",
       " - q\\left( t \\right) - \\left( 1 - \\delta \\right) k\\left( t \\right) + c\\left( t \\right) + k\\left( 1 + t \\right) \\\\\n",
       " - \\left( k\\left( t \\right) \\right)^{\\alpha} e^{z\\left( t \\right)} + q\\left( t \\right) \\\\\n",
       " - \\rho z\\left( t \\right) + z\\left( 1 + t \\right) \\\\\n",
       "\\end{array}\n",
       "\\right]\n",
       "\\end{equation}\n",
       "$\""
      ]
     },
     "execution_count": 4,
     "metadata": {},
     "output_type": "execute_result"
    }
   ],
   "source": [
    "model_rbc.mod.m.H_latex # model_H_latex(model_rbc)"
   ]
  },
  {
   "cell_type": "code",
   "execution_count": 5,
   "metadata": {},
   "outputs": [
    {
     "data": {
      "text/latex": [
       "$\\begin{align}\n",
       "k\\left( \\infty \\right) =& \\left( \\frac{-1 + \\delta + \\frac{1}{\\beta}}{\\alpha} \\right)^{\\frac{1}{-1 + \\alpha}} \\\\\n",
       "z\\left( \\infty \\right) =& 0 \\\\\n",
       "c\\left( \\infty \\right) =& \\left( \\frac{-1 + \\delta + \\frac{1}{\\beta}}{\\alpha} \\right)^{\\frac{\\alpha}{-1 + \\alpha}} - \\left( \\frac{-1 + \\delta + \\frac{1}{\\beta}}{\\alpha} \\right)^{\\frac{1}{-1 + \\alpha}} \\delta \\\\\n",
       "q\\left( \\infty \\right) =& \\left( \\frac{-1 + \\delta + \\frac{1}{\\beta}}{\\alpha} \\right)^{\\frac{\\alpha}{-1 + \\alpha}}\n",
       "\\end{align}\n",
       "$"
      ],
      "text/plain": [
       "L\"$\\begin{align}\n",
       "k\\left( \\infty \\right) =& \\left( \\frac{-1 + \\delta + \\frac{1}{\\beta}}{\\alpha} \\right)^{\\frac{1}{-1 + \\alpha}} \\\\\n",
       "z\\left( \\infty \\right) =& 0 \\\\\n",
       "c\\left( \\infty \\right) =& \\left( \\frac{-1 + \\delta + \\frac{1}{\\beta}}{\\alpha} \\right)^{\\frac{\\alpha}{-1 + \\alpha}} - \\left( \\frac{-1 + \\delta + \\frac{1}{\\beta}}{\\alpha} \\right)^{\\frac{1}{-1 + \\alpha}} \\delta \\\\\n",
       "q\\left( \\infty \\right) =& \\left( \\frac{-1 + \\delta + \\frac{1}{\\beta}}{\\alpha} \\right)^{\\frac{\\alpha}{-1 + \\alpha}}\n",
       "\\end{align}\n",
       "$\""
      ]
     },
     "execution_count": 5,
     "metadata": {},
     "output_type": "execute_result"
    }
   ],
   "source": [
    "model_rbc.mod.m.steady_states_latex # model_steady_states_latex(model_rbc)"
   ]
  },
  {
   "cell_type": "markdown",
   "metadata": {},
   "source": [
    "# Solving Perturbations"
   ]
  },
  {
   "cell_type": "code",
   "execution_count": 6,
   "metadata": {},
   "outputs": [
    {
     "data": {
      "text/plain": [
       "true"
      ]
     },
     "execution_count": 6,
     "metadata": {},
     "output_type": "execute_result"
    }
   ],
   "source": [
    "p_f = (ρ = 0.2, δ = 0.02, σ = 0.01, Ω_1 = 0.01) # Fixed parameters\n",
    "p_d = (α = 0.5, β = 0.95) # Pseudo-true values\n",
    "sol = generate_perturbation(model_rbc, p_d, p_f) # Solution to the first-order RBC\n",
    "sol_2 = generate_perturbation(model_rbc, p_d, p_f, Val(2)) # Solution to the second-order RBC\n",
    "\n",
    "# Query the solution\n",
    "sol.y ≈ [5.936252888048733, 6.884057971014498]"
   ]
  },
  {
   "cell_type": "code",
   "execution_count": 7,
   "metadata": {},
   "outputs": [
    {
     "data": {
      "text/plain": [
       "true"
      ]
     },
     "execution_count": 7,
     "metadata": {},
     "output_type": "execute_result"
    }
   ],
   "source": [
    "sol.x ≈ [47.39025414828825, 0.0]"
   ]
  },
  {
   "cell_type": "code",
   "execution_count": 8,
   "metadata": {},
   "outputs": [
    {
     "data": {
      "text/plain": [
       "true"
      ]
     },
     "execution_count": 8,
     "metadata": {},
     "output_type": "execute_result"
    }
   ],
   "source": [
    "sol.retcode == :Success"
   ]
  },
  {
   "cell_type": "markdown",
   "metadata": {},
   "source": [
    "# Derivatives of the Perturbation Solvers"
   ]
  },
  {
   "cell_type": "code",
   "execution_count": 9,
   "metadata": {},
   "outputs": [
    {
     "data": {
      "text/plain": [
       "7.366206154679088"
      ]
     },
     "execution_count": 9,
     "metadata": {},
     "output_type": "execute_result"
    }
   ],
   "source": [
    "function f(params; m, p_f)\n",
    "    p_d = (α=params[1], β=params[2])  # Differentiated parameters\n",
    "    sol = generate_perturbation(m, p_d, p_f) # Default is first-order.\n",
    "    return sum(sol.A) # An ad-hoc example: reducing the law-of-motion matrix into one number\n",
    "end\n",
    "\n",
    "# To call it\n",
    "m = PerturbationModel(Main.rbc_notebook_example)\n",
    "p_f = (ρ=0.2, δ=0.02, σ=0.01, Ω_1=0.01)\n",
    "param_val = [0.5, 0.95] # as a vector, but not required\n",
    "f(param_val; m, p_f) # Function works on its own, calculating perturbation"
   ]
  },
  {
   "cell_type": "code",
   "execution_count": 10,
   "metadata": {},
   "outputs": [
    {
     "data": {
      "text/plain": [
       "true"
      ]
     },
     "execution_count": 10,
     "metadata": {},
     "output_type": "execute_result"
    }
   ],
   "source": [
    "# Query the solution\n",
    "f(param_val; m, p_f) ≈ 7.366206154679124"
   ]
  },
  {
   "cell_type": "code",
   "execution_count": 11,
   "metadata": {},
   "outputs": [
    {
     "data": {
      "text/plain": [
       "([61.419683765473486, 106.44095661062124],)"
      ]
     },
     "execution_count": 11,
     "metadata": {},
     "output_type": "execute_result"
    }
   ],
   "source": [
    "# But you can also get its gradient with Zygote/etc.\n",
    "gradient(params -> f(params; m, p_f), param_val)"
   ]
  },
  {
   "cell_type": "markdown",
   "metadata": {},
   "source": [
    "# Using Solution Cache"
   ]
  },
  {
   "cell_type": "code",
   "execution_count": 12,
   "metadata": {},
   "outputs": [
    {
     "data": {
      "text/plain": [
       "7.366206154679088"
      ]
     },
     "execution_count": 12,
     "metadata": {},
     "output_type": "execute_result"
    }
   ],
   "source": [
    "function f2(p_d; m, p_f, cache)\n",
    "    sol = generate_perturbation(m, p_d, p_f; cache) # Default is first-order.\n",
    "    return sum(sol.A) # An ad-hoc example: reducing the law-of-motion matrix into one number\n",
    "end\n",
    "\n",
    "# To call it\n",
    "m = PerturbationModel(Main.rbc_notebook_example)\n",
    "p_d = (α=0.5, β=0.95)  # Differentiated parameters\n",
    "p_f = (ρ=0.2, δ=0.02, σ=0.01, Ω_1=0.01)\n",
    "cache = SolverCache(m, Val(1), p_d)\n",
    "f2(p_d; m, p_f, cache) # Function works on its own, calculating perturbation"
   ]
  },
  {
   "cell_type": "code",
   "execution_count": 13,
   "metadata": {},
   "outputs": [
    {
     "data": {
      "text/plain": [
       "true"
      ]
     },
     "execution_count": 13,
     "metadata": {},
     "output_type": "execute_result"
    }
   ],
   "source": [
    "# Query the solution\n",
    "f2(p_d; m, p_f, cache) ≈ 7.366206154679124"
   ]
  },
  {
   "cell_type": "code",
   "execution_count": 14,
   "metadata": {},
   "outputs": [
    {
     "data": {
      "text/plain": [
       "(α = 61.419683765473486, β = 106.44095661062124)"
      ]
     },
     "execution_count": 14,
     "metadata": {},
     "output_type": "execute_result"
    }
   ],
   "source": [
    "# But you can also get its gradient with Zygote/etc.\n",
    "gradient(params -> f2(params; m, p_f, cache), p_d)[1]"
   ]
  },
  {
   "cell_type": "markdown",
   "metadata": {},
   "source": [
    "# Simulating Data with DifferenceEquations"
   ]
  },
  {
   "cell_type": "code",
   "execution_count": 15,
   "metadata": {},
   "outputs": [
    {
     "data": {
      "image/svg+xml": "<?xml version=\"1.0\" encoding=\"utf-8\"?>\n<svg xmlns=\"http://www.w3.org/2000/svg\" xmlns:xlink=\"http://www.w3.org/1999/xlink\" width=\"600\" height=\"400\" viewBox=\"0 0 2400 1600\">\n<defs>\n  <clipPath id=\"clip310\">\n    <rect x=\"0\" y=\"0\" width=\"2400\" height=\"1600\"/>\n  </clipPath>\n</defs>\n<path clip-path=\"url(#clip310)\" d=\"\nM0 1600 L2400 1600 L2400 0 L0 0  Z\n  \" fill=\"#ffffff\" fill-rule=\"evenodd\" fill-opacity=\"1\"/>\n<defs>\n  <clipPath id=\"clip311\">\n    <rect x=\"480\" y=\"0\" width=\"1681\" height=\"1600\"/>\n  </clipPath>\n</defs>\n<path clip-path=\"url(#clip310)\" d=\"\nM224.098 1486.45 L2352.76 1486.45 L2352.76 47.2441 L224.098 47.2441  Z\n  \" fill=\"#ffffff\" fill-rule=\"evenodd\" fill-opacity=\"1\"/>\n<defs>\n  <clipPath id=\"clip312\">\n    <rect x=\"224\" y=\"47\" width=\"2130\" height=\"1440\"/>\n  </clipPath>\n</defs>\n<polyline clip-path=\"url(#clip312)\" style=\"stroke:#000000; stroke-linecap:butt; stroke-linejoin:round; stroke-width:2; stroke-opacity:0.1; fill:none\" points=\"\n  284.343,1486.45 284.343,47.2441 \n  \"/>\n<polyline clip-path=\"url(#clip312)\" style=\"stroke:#000000; stroke-linecap:butt; stroke-linejoin:round; stroke-width:2; stroke-opacity:0.1; fill:none\" points=\"\n  786.385,1486.45 786.385,47.2441 \n  \"/>\n<polyline clip-path=\"url(#clip312)\" style=\"stroke:#000000; stroke-linecap:butt; stroke-linejoin:round; stroke-width:2; stroke-opacity:0.1; fill:none\" points=\"\n  1288.43,1486.45 1288.43,47.2441 \n  \"/>\n<polyline clip-path=\"url(#clip312)\" style=\"stroke:#000000; stroke-linecap:butt; stroke-linejoin:round; stroke-width:2; stroke-opacity:0.1; fill:none\" points=\"\n  1790.47,1486.45 1790.47,47.2441 \n  \"/>\n<polyline clip-path=\"url(#clip312)\" style=\"stroke:#000000; stroke-linecap:butt; stroke-linejoin:round; stroke-width:2; stroke-opacity:0.1; fill:none\" points=\"\n  2292.51,1486.45 2292.51,47.2441 \n  \"/>\n<polyline clip-path=\"url(#clip310)\" style=\"stroke:#000000; stroke-linecap:butt; stroke-linejoin:round; stroke-width:4; stroke-opacity:1; fill:none\" points=\"\n  224.098,1486.45 2352.76,1486.45 \n  \"/>\n<polyline clip-path=\"url(#clip310)\" style=\"stroke:#000000; stroke-linecap:butt; stroke-linejoin:round; stroke-width:4; stroke-opacity:1; fill:none\" points=\"\n  284.343,1486.45 284.343,1467.55 \n  \"/>\n<polyline clip-path=\"url(#clip310)\" style=\"stroke:#000000; stroke-linecap:butt; stroke-linejoin:round; stroke-width:4; stroke-opacity:1; fill:none\" points=\"\n  786.385,1486.45 786.385,1467.55 \n  \"/>\n<polyline clip-path=\"url(#clip310)\" style=\"stroke:#000000; stroke-linecap:butt; stroke-linejoin:round; stroke-width:4; stroke-opacity:1; fill:none\" points=\"\n  1288.43,1486.45 1288.43,1467.55 \n  \"/>\n<polyline clip-path=\"url(#clip310)\" style=\"stroke:#000000; stroke-linecap:butt; stroke-linejoin:round; stroke-width:4; stroke-opacity:1; fill:none\" points=\"\n  1790.47,1486.45 1790.47,1467.55 \n  \"/>\n<polyline clip-path=\"url(#clip310)\" style=\"stroke:#000000; stroke-linecap:butt; stroke-linejoin:round; stroke-width:4; stroke-opacity:1; fill:none\" points=\"\n  2292.51,1486.45 2292.51,1467.55 \n  \"/>\n<path clip-path=\"url(#clip310)\" d=\"M284.343 1517.37 Q280.732 1517.37 278.903 1520.93 Q277.098 1524.47 277.098 1531.6 Q277.098 1538.71 278.903 1542.27 Q280.732 1545.82 284.343 1545.82 Q287.977 1545.82 289.783 1542.27 Q291.611 1538.71 291.611 1531.6 Q291.611 1524.47 289.783 1520.93 Q287.977 1517.37 284.343 1517.37 M284.343 1513.66 Q290.153 1513.66 293.209 1518.27 Q296.287 1522.85 296.287 1531.6 Q296.287 1540.33 293.209 1544.94 Q290.153 1549.52 284.343 1549.52 Q278.533 1549.52 275.454 1544.94 Q272.399 1540.33 272.399 1531.6 Q272.399 1522.85 275.454 1518.27 Q278.533 1513.66 284.343 1513.66 Z\" fill=\"#000000\" fill-rule=\"evenodd\" fill-opacity=\"1\" /><path clip-path=\"url(#clip310)\" d=\"M776.663 1514.29 L795.019 1514.29 L795.019 1518.22 L780.945 1518.22 L780.945 1526.7 Q781.964 1526.35 782.982 1526.19 Q784.001 1526 785.019 1526 Q790.806 1526 794.186 1529.17 Q797.565 1532.34 797.565 1537.76 Q797.565 1543.34 794.093 1546.44 Q790.621 1549.52 784.302 1549.52 Q782.126 1549.52 779.857 1549.15 Q777.612 1548.78 775.204 1548.04 L775.204 1543.34 Q777.288 1544.47 779.51 1545.03 Q781.732 1545.58 784.209 1545.58 Q788.214 1545.58 790.552 1543.48 Q792.889 1541.37 792.889 1537.76 Q792.889 1534.15 790.552 1532.04 Q788.214 1529.94 784.209 1529.94 Q782.334 1529.94 780.459 1530.35 Q778.607 1530.77 776.663 1531.65 L776.663 1514.29 Z\" fill=\"#000000\" fill-rule=\"evenodd\" fill-opacity=\"1\" /><path clip-path=\"url(#clip310)\" d=\"M1263.11 1544.91 L1270.75 1544.91 L1270.75 1518.55 L1262.44 1520.21 L1262.44 1515.95 L1270.71 1514.29 L1275.38 1514.29 L1275.38 1544.91 L1283.02 1544.91 L1283.02 1548.85 L1263.11 1548.85 L1263.11 1544.91 Z\" fill=\"#000000\" fill-rule=\"evenodd\" fill-opacity=\"1\" /><path clip-path=\"url(#clip310)\" d=\"M1302.47 1517.37 Q1298.86 1517.37 1297.03 1520.93 Q1295.22 1524.47 1295.22 1531.6 Q1295.22 1538.71 1297.03 1542.27 Q1298.86 1545.82 1302.47 1545.82 Q1306.1 1545.82 1307.91 1542.27 Q1309.73 1538.71 1309.73 1531.6 Q1309.73 1524.47 1307.91 1520.93 Q1306.1 1517.37 1302.47 1517.37 M1302.47 1513.66 Q1308.28 1513.66 1311.33 1518.27 Q1314.41 1522.85 1314.41 1531.6 Q1314.41 1540.33 1311.33 1544.94 Q1308.28 1549.52 1302.47 1549.52 Q1296.66 1549.52 1293.58 1544.94 Q1290.52 1540.33 1290.52 1531.6 Q1290.52 1522.85 1293.58 1518.27 Q1296.66 1513.66 1302.47 1513.66 Z\" fill=\"#000000\" fill-rule=\"evenodd\" fill-opacity=\"1\" /><path clip-path=\"url(#clip310)\" d=\"M1765.65 1544.91 L1773.29 1544.91 L1773.29 1518.55 L1764.98 1520.21 L1764.98 1515.95 L1773.25 1514.29 L1777.92 1514.29 L1777.92 1544.91 L1785.56 1544.91 L1785.56 1548.85 L1765.65 1548.85 L1765.65 1544.91 Z\" fill=\"#000000\" fill-rule=\"evenodd\" fill-opacity=\"1\" /><path clip-path=\"url(#clip310)\" d=\"M1795.05 1514.29 L1813.41 1514.29 L1813.41 1518.22 L1799.33 1518.22 L1799.33 1526.7 Q1800.35 1526.35 1801.37 1526.19 Q1802.39 1526 1803.41 1526 Q1809.2 1526 1812.58 1529.17 Q1815.95 1532.34 1815.95 1537.76 Q1815.95 1543.34 1812.48 1546.44 Q1809.01 1549.52 1802.69 1549.52 Q1800.52 1549.52 1798.25 1549.15 Q1796 1548.78 1793.59 1548.04 L1793.59 1543.34 Q1795.68 1544.47 1797.9 1545.03 Q1800.12 1545.58 1802.6 1545.58 Q1806.6 1545.58 1808.94 1543.48 Q1811.28 1541.37 1811.28 1537.76 Q1811.28 1534.15 1808.94 1532.04 Q1806.6 1529.94 1802.6 1529.94 Q1800.72 1529.94 1798.85 1530.35 Q1797 1530.77 1795.05 1531.65 L1795.05 1514.29 Z\" fill=\"#000000\" fill-rule=\"evenodd\" fill-opacity=\"1\" /><path clip-path=\"url(#clip310)\" d=\"M2271.28 1544.91 L2287.6 1544.91 L2287.6 1548.85 L2265.66 1548.85 L2265.66 1544.91 Q2268.32 1542.16 2272.9 1537.53 Q2277.51 1532.88 2278.69 1531.53 Q2280.94 1529.01 2281.82 1527.27 Q2282.72 1525.51 2282.72 1523.82 Q2282.72 1521.07 2280.77 1519.33 Q2278.85 1517.6 2275.75 1517.6 Q2273.55 1517.6 2271.1 1518.36 Q2268.67 1519.13 2265.89 1520.68 L2265.89 1515.95 Q2268.71 1514.82 2271.17 1514.24 Q2273.62 1513.66 2275.66 1513.66 Q2281.03 1513.66 2284.22 1516.35 Q2287.42 1519.03 2287.42 1523.52 Q2287.42 1525.65 2286.61 1527.57 Q2285.82 1529.47 2283.71 1532.07 Q2283.14 1532.74 2280.03 1535.95 Q2276.93 1539.15 2271.28 1544.91 Z\" fill=\"#000000\" fill-rule=\"evenodd\" fill-opacity=\"1\" /><path clip-path=\"url(#clip310)\" d=\"M2307.42 1517.37 Q2303.81 1517.37 2301.98 1520.93 Q2300.17 1524.47 2300.17 1531.6 Q2300.17 1538.71 2301.98 1542.27 Q2303.81 1545.82 2307.42 1545.82 Q2311.05 1545.82 2312.86 1542.27 Q2314.69 1538.71 2314.69 1531.6 Q2314.69 1524.47 2312.86 1520.93 Q2311.05 1517.37 2307.42 1517.37 M2307.42 1513.66 Q2313.23 1513.66 2316.28 1518.27 Q2319.36 1522.85 2319.36 1531.6 Q2319.36 1540.33 2316.28 1544.94 Q2313.23 1549.52 2307.42 1549.52 Q2301.61 1549.52 2298.53 1544.94 Q2295.47 1540.33 2295.47 1531.6 Q2295.47 1522.85 2298.53 1518.27 Q2301.61 1513.66 2307.42 1513.66 Z\" fill=\"#000000\" fill-rule=\"evenodd\" fill-opacity=\"1\" /><polyline clip-path=\"url(#clip312)\" style=\"stroke:#000000; stroke-linecap:butt; stroke-linejoin:round; stroke-width:2; stroke-opacity:0.1; fill:none\" points=\"\n  224.098,1414.17 2352.76,1414.17 \n  \"/>\n<polyline clip-path=\"url(#clip312)\" style=\"stroke:#000000; stroke-linecap:butt; stroke-linejoin:round; stroke-width:2; stroke-opacity:0.1; fill:none\" points=\"\n  224.098,1114.1 2352.76,1114.1 \n  \"/>\n<polyline clip-path=\"url(#clip312)\" style=\"stroke:#000000; stroke-linecap:butt; stroke-linejoin:round; stroke-width:2; stroke-opacity:0.1; fill:none\" points=\"\n  224.098,814.032 2352.76,814.032 \n  \"/>\n<polyline clip-path=\"url(#clip312)\" style=\"stroke:#000000; stroke-linecap:butt; stroke-linejoin:round; stroke-width:2; stroke-opacity:0.1; fill:none\" points=\"\n  224.098,513.96 2352.76,513.96 \n  \"/>\n<polyline clip-path=\"url(#clip312)\" style=\"stroke:#000000; stroke-linecap:butt; stroke-linejoin:round; stroke-width:2; stroke-opacity:0.1; fill:none\" points=\"\n  224.098,213.889 2352.76,213.889 \n  \"/>\n<polyline clip-path=\"url(#clip310)\" style=\"stroke:#000000; stroke-linecap:butt; stroke-linejoin:round; stroke-width:4; stroke-opacity:1; fill:none\" points=\"\n  224.098,1486.45 224.098,47.2441 \n  \"/>\n<polyline clip-path=\"url(#clip310)\" style=\"stroke:#000000; stroke-linecap:butt; stroke-linejoin:round; stroke-width:4; stroke-opacity:1; fill:none\" points=\"\n  224.098,1414.17 242.996,1414.17 \n  \"/>\n<polyline clip-path=\"url(#clip310)\" style=\"stroke:#000000; stroke-linecap:butt; stroke-linejoin:round; stroke-width:4; stroke-opacity:1; fill:none\" points=\"\n  224.098,1114.1 242.996,1114.1 \n  \"/>\n<polyline clip-path=\"url(#clip310)\" style=\"stroke:#000000; stroke-linecap:butt; stroke-linejoin:round; stroke-width:4; stroke-opacity:1; fill:none\" points=\"\n  224.098,814.032 242.996,814.032 \n  \"/>\n<polyline clip-path=\"url(#clip310)\" style=\"stroke:#000000; stroke-linecap:butt; stroke-linejoin:round; stroke-width:4; stroke-opacity:1; fill:none\" points=\"\n  224.098,513.96 242.996,513.96 \n  \"/>\n<polyline clip-path=\"url(#clip310)\" style=\"stroke:#000000; stroke-linecap:butt; stroke-linejoin:round; stroke-width:4; stroke-opacity:1; fill:none\" points=\"\n  224.098,213.889 242.996,213.889 \n  \"/>\n<path clip-path=\"url(#clip310)\" d=\"M50.9921 1414.63 L80.6679 1414.63 L80.6679 1418.56 L50.9921 1418.56 L50.9921 1414.63 Z\" fill=\"#000000\" fill-rule=\"evenodd\" fill-opacity=\"1\" /><path clip-path=\"url(#clip310)\" d=\"M100.76 1399.97 Q97.1493 1399.97 95.3206 1403.54 Q93.515 1407.08 93.515 1414.21 Q93.515 1421.32 95.3206 1424.88 Q97.1493 1428.42 100.76 1428.42 Q104.395 1428.42 106.2 1424.88 Q108.029 1421.32 108.029 1414.21 Q108.029 1407.08 106.2 1403.54 Q104.395 1399.97 100.76 1399.97 M100.76 1396.27 Q106.571 1396.27 109.626 1400.88 Q112.705 1405.46 112.705 1414.21 Q112.705 1422.94 109.626 1427.54 Q106.571 1432.13 100.76 1432.13 Q94.9502 1432.13 91.8715 1427.54 Q88.816 1422.94 88.816 1414.21 Q88.816 1405.46 91.8715 1400.88 Q94.9502 1396.27 100.76 1396.27 Z\" fill=\"#000000\" fill-rule=\"evenodd\" fill-opacity=\"1\" /><path clip-path=\"url(#clip310)\" d=\"M120.922 1425.58 L125.807 1425.58 L125.807 1431.45 L120.922 1431.45 L120.922 1425.58 Z\" fill=\"#000000\" fill-rule=\"evenodd\" fill-opacity=\"1\" /><path clip-path=\"url(#clip310)\" d=\"M136.038 1396.89 L154.394 1396.89 L154.394 1400.83 L140.32 1400.83 L140.32 1409.3 Q141.339 1408.96 142.357 1408.79 Q143.376 1408.61 144.394 1408.61 Q150.181 1408.61 153.561 1411.78 Q156.941 1414.95 156.941 1420.37 Q156.941 1425.95 153.468 1429.05 Q149.996 1432.13 143.677 1432.13 Q141.501 1432.13 139.232 1431.76 Q136.987 1431.39 134.58 1430.64 L134.58 1425.95 Q136.663 1427.08 138.885 1427.64 Q141.107 1428.19 143.584 1428.19 Q147.589 1428.19 149.927 1426.08 Q152.265 1423.98 152.265 1420.37 Q152.265 1416.76 149.927 1414.65 Q147.589 1412.54 143.584 1412.54 Q141.709 1412.54 139.834 1412.96 Q137.982 1413.38 136.038 1414.26 L136.038 1396.89 Z\" fill=\"#000000\" fill-rule=\"evenodd\" fill-opacity=\"1\" /><path clip-path=\"url(#clip310)\" d=\"M176.153 1399.97 Q172.542 1399.97 170.714 1403.54 Q168.908 1407.08 168.908 1414.21 Q168.908 1421.32 170.714 1424.88 Q172.542 1428.42 176.153 1428.42 Q179.788 1428.42 181.593 1424.88 Q183.422 1421.32 183.422 1414.21 Q183.422 1407.08 181.593 1403.54 Q179.788 1399.97 176.153 1399.97 M176.153 1396.27 Q181.964 1396.27 185.019 1400.88 Q188.098 1405.46 188.098 1414.21 Q188.098 1422.94 185.019 1427.54 Q181.964 1432.13 176.153 1432.13 Q170.343 1432.13 167.265 1427.54 Q164.209 1422.94 164.209 1414.21 Q164.209 1405.46 167.265 1400.88 Q170.343 1396.27 176.153 1396.27 Z\" fill=\"#000000\" fill-rule=\"evenodd\" fill-opacity=\"1\" /><path clip-path=\"url(#clip310)\" d=\"M51.9875 1114.55 L81.6633 1114.55 L81.6633 1118.49 L51.9875 1118.49 L51.9875 1114.55 Z\" fill=\"#000000\" fill-rule=\"evenodd\" fill-opacity=\"1\" /><path clip-path=\"url(#clip310)\" d=\"M101.756 1099.9 Q98.1447 1099.9 96.316 1103.47 Q94.5104 1107.01 94.5104 1114.14 Q94.5104 1121.24 96.316 1124.81 Q98.1447 1128.35 101.756 1128.35 Q105.39 1128.35 107.196 1124.81 Q109.024 1121.24 109.024 1114.14 Q109.024 1107.01 107.196 1103.47 Q105.39 1099.9 101.756 1099.9 M101.756 1096.2 Q107.566 1096.2 110.621 1100.8 Q113.7 1105.39 113.7 1114.14 Q113.7 1122.86 110.621 1127.47 Q107.566 1132.05 101.756 1132.05 Q95.9456 1132.05 92.8669 1127.47 Q89.8114 1122.86 89.8114 1114.14 Q89.8114 1105.39 92.8669 1100.8 Q95.9456 1096.2 101.756 1096.2 Z\" fill=\"#000000\" fill-rule=\"evenodd\" fill-opacity=\"1\" /><path clip-path=\"url(#clip310)\" d=\"M121.918 1125.5 L126.802 1125.5 L126.802 1131.38 L121.918 1131.38 L121.918 1125.5 Z\" fill=\"#000000\" fill-rule=\"evenodd\" fill-opacity=\"1\" /><path clip-path=\"url(#clip310)\" d=\"M141.015 1127.45 L157.334 1127.45 L157.334 1131.38 L135.39 1131.38 L135.39 1127.45 Q138.052 1124.69 142.635 1120.06 Q147.242 1115.41 148.422 1114.07 Q150.668 1111.55 151.547 1109.81 Q152.45 1108.05 152.45 1106.36 Q152.45 1103.61 150.505 1101.87 Q148.584 1100.13 145.482 1100.13 Q143.283 1100.13 140.83 1100.9 Q138.399 1101.66 135.621 1103.21 L135.621 1098.49 Q138.445 1097.36 140.899 1096.78 Q143.353 1096.2 145.39 1096.2 Q150.76 1096.2 153.955 1098.88 Q157.149 1101.57 157.149 1106.06 Q157.149 1108.19 156.339 1110.11 Q155.552 1112.01 153.445 1114.6 Q152.867 1115.27 149.765 1118.49 Q146.663 1121.68 141.015 1127.45 Z\" fill=\"#000000\" fill-rule=\"evenodd\" fill-opacity=\"1\" /><path clip-path=\"url(#clip310)\" d=\"M167.195 1096.82 L185.552 1096.82 L185.552 1100.76 L171.478 1100.76 L171.478 1109.23 Q172.496 1108.88 173.515 1108.72 Q174.533 1108.54 175.552 1108.54 Q181.339 1108.54 184.718 1111.71 Q188.098 1114.88 188.098 1120.3 Q188.098 1125.87 184.626 1128.98 Q181.153 1132.05 174.834 1132.05 Q172.658 1132.05 170.39 1131.68 Q168.144 1131.31 165.737 1130.57 L165.737 1125.87 Q167.82 1127.01 170.042 1127.56 Q172.265 1128.12 174.741 1128.12 Q178.746 1128.12 181.084 1126.01 Q183.422 1123.91 183.422 1120.3 Q183.422 1116.68 181.084 1114.58 Q178.746 1112.47 174.741 1112.47 Q172.866 1112.47 170.991 1112.89 Q169.14 1113.3 167.195 1114.18 L167.195 1096.82 Z\" fill=\"#000000\" fill-rule=\"evenodd\" fill-opacity=\"1\" /><path clip-path=\"url(#clip310)\" d=\"M100.76 799.831 Q97.1493 799.831 95.3206 803.395 Q93.515 806.937 93.515 814.067 Q93.515 821.173 95.3206 824.738 Q97.1493 828.279 100.76 828.279 Q104.395 828.279 106.2 824.738 Q108.029 821.173 108.029 814.067 Q108.029 806.937 106.2 803.395 Q104.395 799.831 100.76 799.831 M100.76 796.127 Q106.571 796.127 109.626 800.733 Q112.705 805.317 112.705 814.067 Q112.705 822.793 109.626 827.4 Q106.571 831.983 100.76 831.983 Q94.9502 831.983 91.8715 827.4 Q88.816 822.793 88.816 814.067 Q88.816 805.317 91.8715 800.733 Q94.9502 796.127 100.76 796.127 Z\" fill=\"#000000\" fill-rule=\"evenodd\" fill-opacity=\"1\" /><path clip-path=\"url(#clip310)\" d=\"M120.922 825.432 L125.807 825.432 L125.807 831.312 L120.922 831.312 L120.922 825.432 Z\" fill=\"#000000\" fill-rule=\"evenodd\" fill-opacity=\"1\" /><path clip-path=\"url(#clip310)\" d=\"M145.992 799.831 Q142.381 799.831 140.552 803.395 Q138.746 806.937 138.746 814.067 Q138.746 821.173 140.552 824.738 Q142.381 828.279 145.992 828.279 Q149.626 828.279 151.431 824.738 Q153.26 821.173 153.26 814.067 Q153.26 806.937 151.431 803.395 Q149.626 799.831 145.992 799.831 M145.992 796.127 Q151.802 796.127 154.857 800.733 Q157.936 805.317 157.936 814.067 Q157.936 822.793 154.857 827.4 Q151.802 831.983 145.992 831.983 Q140.181 831.983 137.103 827.4 Q134.047 822.793 134.047 814.067 Q134.047 805.317 137.103 800.733 Q140.181 796.127 145.992 796.127 Z\" fill=\"#000000\" fill-rule=\"evenodd\" fill-opacity=\"1\" /><path clip-path=\"url(#clip310)\" d=\"M176.153 799.831 Q172.542 799.831 170.714 803.395 Q168.908 806.937 168.908 814.067 Q168.908 821.173 170.714 824.738 Q172.542 828.279 176.153 828.279 Q179.788 828.279 181.593 824.738 Q183.422 821.173 183.422 814.067 Q183.422 806.937 181.593 803.395 Q179.788 799.831 176.153 799.831 M176.153 796.127 Q181.964 796.127 185.019 800.733 Q188.098 805.317 188.098 814.067 Q188.098 822.793 185.019 827.4 Q181.964 831.983 176.153 831.983 Q170.343 831.983 167.265 827.4 Q164.209 822.793 164.209 814.067 Q164.209 805.317 167.265 800.733 Q170.343 796.127 176.153 796.127 Z\" fill=\"#000000\" fill-rule=\"evenodd\" fill-opacity=\"1\" /><path clip-path=\"url(#clip310)\" d=\"M101.756 499.759 Q98.1447 499.759 96.316 503.324 Q94.5104 506.865 94.5104 513.995 Q94.5104 521.101 96.316 524.666 Q98.1447 528.208 101.756 528.208 Q105.39 528.208 107.196 524.666 Q109.024 521.101 109.024 513.995 Q109.024 506.865 107.196 503.324 Q105.39 499.759 101.756 499.759 M101.756 496.055 Q107.566 496.055 110.621 500.662 Q113.7 505.245 113.7 513.995 Q113.7 522.722 110.621 527.328 Q107.566 531.912 101.756 531.912 Q95.9456 531.912 92.8669 527.328 Q89.8114 522.722 89.8114 513.995 Q89.8114 505.245 92.8669 500.662 Q95.9456 496.055 101.756 496.055 Z\" fill=\"#000000\" fill-rule=\"evenodd\" fill-opacity=\"1\" /><path clip-path=\"url(#clip310)\" d=\"M121.918 525.361 L126.802 525.361 L126.802 531.24 L121.918 531.24 L121.918 525.361 Z\" fill=\"#000000\" fill-rule=\"evenodd\" fill-opacity=\"1\" /><path clip-path=\"url(#clip310)\" d=\"M141.015 527.305 L157.334 527.305 L157.334 531.24 L135.39 531.24 L135.39 527.305 Q138.052 524.55 142.635 519.921 Q147.242 515.268 148.422 513.926 Q150.668 511.402 151.547 509.666 Q152.45 507.907 152.45 506.217 Q152.45 503.463 150.505 501.727 Q148.584 499.99 145.482 499.99 Q143.283 499.99 140.83 500.754 Q138.399 501.518 135.621 503.069 L135.621 498.347 Q138.445 497.213 140.899 496.634 Q143.353 496.055 145.39 496.055 Q150.76 496.055 153.955 498.74 Q157.149 501.426 157.149 505.916 Q157.149 508.046 156.339 509.967 Q155.552 511.865 153.445 514.458 Q152.867 515.129 149.765 518.347 Q146.663 521.541 141.015 527.305 Z\" fill=\"#000000\" fill-rule=\"evenodd\" fill-opacity=\"1\" /><path clip-path=\"url(#clip310)\" d=\"M167.195 496.68 L185.552 496.68 L185.552 500.615 L171.478 500.615 L171.478 509.088 Q172.496 508.74 173.515 508.578 Q174.533 508.393 175.552 508.393 Q181.339 508.393 184.718 511.564 Q188.098 514.736 188.098 520.152 Q188.098 525.731 184.626 528.833 Q181.153 531.912 174.834 531.912 Q172.658 531.912 170.39 531.541 Q168.144 531.171 165.737 530.43 L165.737 525.731 Q167.82 526.865 170.042 527.421 Q172.265 527.976 174.741 527.976 Q178.746 527.976 181.084 525.87 Q183.422 523.763 183.422 520.152 Q183.422 516.541 181.084 514.435 Q178.746 512.328 174.741 512.328 Q172.866 512.328 170.991 512.745 Q169.14 513.162 167.195 514.041 L167.195 496.68 Z\" fill=\"#000000\" fill-rule=\"evenodd\" fill-opacity=\"1\" /><path clip-path=\"url(#clip310)\" d=\"M100.76 199.687 Q97.1493 199.687 95.3206 203.252 Q93.515 206.794 93.515 213.923 Q93.515 221.03 95.3206 224.595 Q97.1493 228.136 100.76 228.136 Q104.395 228.136 106.2 224.595 Q108.029 221.03 108.029 213.923 Q108.029 206.794 106.2 203.252 Q104.395 199.687 100.76 199.687 M100.76 195.984 Q106.571 195.984 109.626 200.59 Q112.705 205.173 112.705 213.923 Q112.705 222.65 109.626 227.257 Q106.571 231.84 100.76 231.84 Q94.9502 231.84 91.8715 227.257 Q88.816 222.65 88.816 213.923 Q88.816 205.173 91.8715 200.59 Q94.9502 195.984 100.76 195.984 Z\" fill=\"#000000\" fill-rule=\"evenodd\" fill-opacity=\"1\" /><path clip-path=\"url(#clip310)\" d=\"M120.922 225.289 L125.807 225.289 L125.807 231.169 L120.922 231.169 L120.922 225.289 Z\" fill=\"#000000\" fill-rule=\"evenodd\" fill-opacity=\"1\" /><path clip-path=\"url(#clip310)\" d=\"M136.038 196.609 L154.394 196.609 L154.394 200.544 L140.32 200.544 L140.32 209.016 Q141.339 208.669 142.357 208.507 Q143.376 208.322 144.394 208.322 Q150.181 208.322 153.561 211.493 Q156.941 214.664 156.941 220.081 Q156.941 225.659 153.468 228.761 Q149.996 231.84 143.677 231.84 Q141.501 231.84 139.232 231.47 Q136.987 231.099 134.58 230.359 L134.58 225.659 Q136.663 226.794 138.885 227.349 Q141.107 227.905 143.584 227.905 Q147.589 227.905 149.927 225.798 Q152.265 223.692 152.265 220.081 Q152.265 216.47 149.927 214.363 Q147.589 212.257 143.584 212.257 Q141.709 212.257 139.834 212.673 Q137.982 213.09 136.038 213.97 L136.038 196.609 Z\" fill=\"#000000\" fill-rule=\"evenodd\" fill-opacity=\"1\" /><path clip-path=\"url(#clip310)\" d=\"M176.153 199.687 Q172.542 199.687 170.714 203.252 Q168.908 206.794 168.908 213.923 Q168.908 221.03 170.714 224.595 Q172.542 228.136 176.153 228.136 Q179.788 228.136 181.593 224.595 Q183.422 221.03 183.422 213.923 Q183.422 206.794 181.593 203.252 Q179.788 199.687 176.153 199.687 M176.153 195.984 Q181.964 195.984 185.019 200.59 Q188.098 205.173 188.098 213.923 Q188.098 222.65 185.019 227.257 Q181.964 231.84 176.153 231.84 Q170.343 231.84 167.265 227.257 Q164.209 222.65 164.209 213.923 Q164.209 205.173 167.265 200.59 Q170.343 195.984 176.153 195.984 Z\" fill=\"#000000\" fill-rule=\"evenodd\" fill-opacity=\"1\" /><path clip-path=\"url(#clip312)\" d=\"\nM284.343 1224.15 L384.751 1241.39 L485.16 1240.39 L585.568 1294.86 L685.977 1282.77 L786.385 1336.88 L886.793 1284.76 L987.202 1354.58 L1087.61 1354.07 L1188.02 1445.72 \n  L1288.43 1431.19 L1388.84 1420.4 L1489.24 1318.05 L1589.65 1307.33 L1690.06 1293.13 L1790.47 1239.19 L1890.88 1232.42 L1991.29 1278.03 L2091.69 1268.46 L2192.1 1269.48 \n  L2292.51 1345.94 L2292.51 297.924 L2192.1 331.525 L2091.69 311.364 L1991.29 381.156 L1890.88 235.639 L1790.47 195.238 L1690.06 153.553 L1589.65 153.316 L1489.24 87.9763 \n  L1388.84 184.675 L1288.43 256.391 L1188.02 249.572 L1087.61 321.018 L987.202 353.814 L886.793 338.523 L786.385 299.287 L685.977 245.601 L585.568 267.455 L485.16 245.133 \n  L384.751 289.834 L284.343 342.15  Z\n  \" fill=\"#009af9\" fill-rule=\"evenodd\" fill-opacity=\"0.2\"/>\n<polyline clip-path=\"url(#clip312)\" style=\"stroke:#009af9; stroke-linecap:butt; stroke-linejoin:round; stroke-width:12; stroke-opacity:1; fill:none\" points=\"\n  284.343,833.256 384.751,792.037 485.16,814.22 585.568,796.013 685.977,792.355 786.385,796.904 886.793,837.078 987.202,910.713 1087.61,852.158 1188.02,861.291 \n  1288.43,903.931 1388.84,846.383 1489.24,812.677 1589.65,804.825 1690.06,826.195 1790.47,776.06 1890.88,751.105 1991.29,766.557 2091.69,779.861 2192.1,790.022 \n  2292.51,779.748 \n  \"/>\n<path clip-path=\"url(#clip312)\" d=\"\nM284.343 829.984 L384.751 829.965 L485.16 833.274 L585.568 830.558 L685.977 837.978 L786.385 833.834 L886.793 834.366 L987.202 829.165 L1087.61 834.599 L1188.02 832.936 \n  L1288.43 828.498 L1388.84 829.487 L1489.24 833.467 L1589.65 831.382 L1690.06 829.444 L1790.47 827.676 L1890.88 834.737 L1991.29 831.312 L2091.69 833.429 L2192.1 836.742 \n  L2292.51 829.853 L2292.51 798.589 L2192.1 794.143 L2091.69 791.191 L1991.29 798.342 L1890.88 795.315 L1790.47 798.045 L1690.06 794.478 L1589.65 798.04 L1489.24 799.357 \n  L1388.84 790.32 L1288.43 796.271 L1188.02 796.667 L1087.61 797.549 L987.202 791.658 L886.793 798.161 L786.385 796.879 L685.977 800.831 L585.568 796.848 L485.16 801.845 \n  L384.751 795.728 L284.343 792.508  Z\n  \" fill=\"#e26f46\" fill-rule=\"evenodd\" fill-opacity=\"0.2\"/>\n<polyline clip-path=\"url(#clip312)\" style=\"stroke:#e26f46; stroke-linecap:butt; stroke-linejoin:round; stroke-width:12; stroke-opacity:1; fill:none\" points=\"\n  284.343,812.123 384.751,814.764 485.16,813.432 585.568,813.883 685.977,820.137 786.385,814.303 886.793,818.348 987.202,814.404 1087.61,812.195 1188.02,815.052 \n  1288.43,811.646 1388.84,811.073 1489.24,814.09 1589.65,813.998 1690.06,809.224 1790.47,813.705 1890.88,818.244 1991.29,811.397 2091.69,815.365 2192.1,815.847 \n  2292.51,811.334 \n  \"/>\n</svg>\n"
     },
     "execution_count": 15,
     "metadata": {},
     "output_type": "execute_result"
    }
   ],
   "source": [
    "p_f = (ρ = 0.2, δ = 0.02, σ = 0.01, Ω_1 = 0.01) # Fixed parameters\n",
    "p_d = (α = 0.5, β = 0.95) # Pseudo-true values\n",
    "sol = generate_perturbation(m, p_d, p_f) # Solution to the first-order RBC\n",
    "sol_2 = generate_perturbation(m, p_d, p_f, Val(2)) # Solution to the second-order RBC\n",
    "\n",
    "# Simulate multiple trajectories with T observations\n",
    "T = 20\n",
    "trajectories = 40\n",
    "\n",
    "# draw from ergodic for each simulation\n",
    "x_iv = MvNormal(sol.x_ergodic_var) # draw initial conditions from the ergodic distribution\n",
    "problem = LinearStateSpaceProblem(sol, x_iv, (0, T))\n",
    "\n",
    "# Solve multiple trajectories and plot an ensemble\n",
    "ensemble_results = solve(EnsembleProblem(problem), DirectIteration(), EnsembleThreads();\n",
    "                 trajectories)\n",
    "plot(EnsembleSummary(ensemble_results))"
   ]
  },
  {
   "cell_type": "markdown",
   "metadata": {},
   "source": [
    "# Calculate sequence of observables"
   ]
  },
  {
   "cell_type": "code",
   "execution_count": 16,
   "metadata": {},
   "outputs": [
    {
     "data": {
      "text/plain": [
       "2×21 Matrix{Float64}:\n",
       " 0.0092253  0.0262029  -0.000714598  …  0.0206403  0.0078339  0.0284731\n",
       " 0.190317   0.124754    0.146875        0.254382   0.247595   0.298392"
      ]
     },
     "execution_count": 16,
     "metadata": {},
     "output_type": "execute_result"
    }
   ],
   "source": [
    "# Simulate T observations\n",
    "T = 20\n",
    "\n",
    "p_f = (ρ = 0.2, δ = 0.02, σ = 0.01, Ω_1 = 0.01) # Fixed parameters\n",
    "p_d = (α = 0.5, β = 0.95) # Pseudo-true values\n",
    "sol = generate_perturbation(model_rbc, p_d, p_f) # Solution to the first-order RBC\n",
    "\n",
    "x_iv = MvNormal(sol.x_ergodic_var) # draw initial conditions from the ergodic distribution\n",
    "problem = LinearStateSpaceProblem(sol, x_iv, (0, T))\n",
    "sim = solve(problem, DirectIteration())\n",
    "ϵ = sim.W # store the underlying noise in the simulation\n",
    "\n",
    "# simulated observables\n",
    "# see https://github.com/SciML/DifferenceEquations.jl/issues/55 for \n",
    "# direct support of this datastructure\n",
    "z = hcat(sim.z...) "
   ]
  },
  {
   "cell_type": "markdown",
   "metadata": {},
   "source": [
    "# Bayesian estimation with Turing "
   ]
  },
  {
   "cell_type": "code",
   "execution_count": 17,
   "metadata": {},
   "outputs": [],
   "source": [
    "using Turing\n",
    "using Turing: @addlogprob!\n",
    "Turing.setadbackend(:zygote);"
   ]
  },
  {
   "cell_type": "markdown",
   "metadata": {},
   "source": [
    "## First-order, marginal likelihood approach"
   ]
  },
  {
   "cell_type": "code",
   "execution_count": 18,
   "metadata": {},
   "outputs": [
    {
     "name": "stderr",
     "output_type": "stream",
     "text": [
      "┌ Info: Found initial step size\n",
      "│   ϵ = 0.021875000000000002\n",
      "└ @ Turing.Inference C:\\Users\\jbrig\\.julia\\packages\\Turing\\S4Y4B\\src\\inference\\hmc.jl:188\n"
     ]
    },
    {
     "data": {
      "text/plain": [
       "ErrorException(\"Failing on norm of covariance matrix\")"
      ]
     },
     "metadata": {},
     "output_type": "display_data"
    },
    {
     "name": "stderr",
     "output_type": "stream",
     "text": [
      "┌ Warning: The current proposal will be rejected due to numerical error(s).\n",
      "│   isfinite.((θ, r, ℓπ, ℓκ)) = (true, true, false, true)\n",
      "└ @ AdvancedHMC C:\\Users\\jbrig\\.julia\\packages\\AdvancedHMC\\51xgc\\src\\hamiltonian.jl:47\n",
      "\u001b[32mSampling:   6%|███                                      |  ETA: 0:00:22\u001b[39m"
     ]
    },
    {
     "data": {
      "text/plain": [
       "ErrorException(\"Failing on norm of covariance matrix\")"
      ]
     },
     "metadata": {},
     "output_type": "display_data"
    },
    {
     "name": "stderr",
     "output_type": "stream",
     "text": [
      "┌ Warning: The current proposal will be rejected due to numerical error(s).\n",
      "│   isfinite.((θ, r, ℓπ, ℓκ)) = (true, true, false, true)\n",
      "└ @ AdvancedHMC C:\\Users\\jbrig\\.julia\\packages\\AdvancedHMC\\51xgc\\src\\hamiltonian.jl:47\n",
      "\u001b[32mSampling:   8%|████                                     |  ETA: 0:00:24\u001b[39m"
     ]
    },
    {
     "data": {
      "text/plain": [
       "ErrorException(\"Failing on norm of covariance matrix\")"
      ]
     },
     "metadata": {},
     "output_type": "display_data"
    },
    {
     "name": "stderr",
     "output_type": "stream",
     "text": [
      "┌ Warning: The current proposal will be rejected due to numerical error(s).\n",
      "│   isfinite.((θ, r, ℓπ, ℓκ)) = (true, true, false, true)\n",
      "└ @ AdvancedHMC C:\\Users\\jbrig\\.julia\\packages\\AdvancedHMC\\51xgc\\src\\hamiltonian.jl:47\n",
      "\u001b[32mSampling: 100%|█████████████████████████████████████████| Time: 0:00:24\u001b[39m\n"
     ]
    },
    {
     "data": {
      "text/plain": [
       "Chains MCMC chain (1000×14×1 Array{Float64, 3}):\n",
       "\n",
       "Iterations        = 101:1:1100\n",
       "Number of chains  = 1\n",
       "Samples per chain = 1000\n",
       "Wall duration     = 107.87 seconds\n",
       "Compute duration  = 107.87 seconds\n",
       "parameters        = α, β\n",
       "internals         = lp, n_steps, is_accept, acceptance_rate, log_density, hamiltonian_energy, hamiltonian_energy_error, max_hamiltonian_energy_error, tree_depth, numerical_error, step_size, nom_step_size\n",
       "\n",
       "Summary Statistics\n",
       " \u001b[1m parameters \u001b[0m \u001b[1m    mean \u001b[0m \u001b[1m     std \u001b[0m \u001b[1m naive_se \u001b[0m \u001b[1m    mcse \u001b[0m \u001b[1m      ess \u001b[0m \u001b[1m    rhat \u001b[0m \u001b[1m e\u001b[0m ⋯\n",
       " \u001b[90m     Symbol \u001b[0m \u001b[90m Float64 \u001b[0m \u001b[90m Float64 \u001b[0m \u001b[90m  Float64 \u001b[0m \u001b[90m Float64 \u001b[0m \u001b[90m  Float64 \u001b[0m \u001b[90m Float64 \u001b[0m \u001b[90m  \u001b[0m ⋯\n",
       "\n",
       "           α    0.4654    0.0298     0.0009    0.0015   286.8611    0.9990     ⋯\n",
       "           β    0.9603    0.0104     0.0003    0.0006   231.7691    0.9990     ⋯\n",
       "\u001b[36m                                                                1 column omitted\u001b[0m\n",
       "\n",
       "Quantiles\n",
       " \u001b[1m parameters \u001b[0m \u001b[1m    2.5% \u001b[0m \u001b[1m   25.0% \u001b[0m \u001b[1m   50.0% \u001b[0m \u001b[1m   75.0% \u001b[0m \u001b[1m   97.5% \u001b[0m\n",
       " \u001b[90m     Symbol \u001b[0m \u001b[90m Float64 \u001b[0m \u001b[90m Float64 \u001b[0m \u001b[90m Float64 \u001b[0m \u001b[90m Float64 \u001b[0m \u001b[90m Float64 \u001b[0m\n",
       "\n",
       "           α    0.3983    0.4467    0.4655    0.4863    0.5190\n",
       "           β    0.9406    0.9531    0.9601    0.9672    0.9820\n"
      ]
     },
     "execution_count": 18,
     "metadata": {},
     "output_type": "execute_result"
    }
   ],
   "source": [
    "# Turing model definition\n",
    "@model function rbc_kalman(z, m, p_f, cache)\n",
    "    α ~ Uniform(0.2, 0.8)\n",
    "    β ~ Uniform(0.5, 0.99)\n",
    "    p_d = (; α, β)\n",
    "    T = size(z, 2)\n",
    "    sol = generate_perturbation(m, p_d, p_f, Val(1); cache)\n",
    "    if !(sol.retcode == :Success)\n",
    "        @addlogprob! -Inf\n",
    "        return\n",
    "    end\n",
    "    problem = LinearStateSpaceProblem(sol, zeros(2), (0, T), observables = z)\n",
    "    @addlogprob! solve(problem, KalmanFilter()).logpdf\n",
    "end\n",
    "cache = SolverCache(model_rbc, Val(1),  [:α, :β])\n",
    "p_f = (ρ = 0.2, δ = 0.02, σ = 0.01, Ω_1 = 0.01) # Fixed parameters\n",
    "turing_model = rbc_kalman(z, model_rbc, p_f, cache) # passing observables from before \n",
    "\n",
    "n_samples = 1000\n",
    "n_adapts = 100\n",
    "δ = 0.65\n",
    "alg = NUTS(n_adapts,δ)\n",
    "chain_1_marginal = sample(turing_model, alg, n_samples; progress = true)"
   ]
  },
  {
   "cell_type": "markdown",
   "metadata": {},
   "source": [
    "## First-order, joint likelihood approach"
   ]
  },
  {
   "cell_type": "code",
   "execution_count": 19,
   "metadata": {},
   "outputs": [
    {
     "name": "stderr",
     "output_type": "stream",
     "text": [
      "┌ Info: Found initial step size\n",
      "│   ϵ = 0.025\n",
      "└ @ Turing.Inference C:\\Users\\jbrig\\.julia\\packages\\Turing\\S4Y4B\\src\\inference\\hmc.jl:188\n",
      "\u001b[32mSampling: 100%|█████████████████████████████████████████| Time: 0:07:53\u001b[39m\n"
     ]
    },
    {
     "data": {
      "text/plain": [
       "Chains MCMC chain (1000×35×1 Array{Float64, 3}):\n",
       "\n",
       "Iterations        = 101:1:1100\n",
       "Number of chains  = 1\n",
       "Samples per chain = 1000\n",
       "Wall duration     = 526.89 seconds\n",
       "Compute duration  = 526.89 seconds\n",
       "parameters        = α, β, ϵ_draw[1], ϵ_draw[2], ϵ_draw[3], ϵ_draw[4], ϵ_draw[5], ϵ_draw[6], ϵ_draw[7], ϵ_draw[8], ϵ_draw[9], ϵ_draw[10], ϵ_draw[11], ϵ_draw[12], ϵ_draw[13], ϵ_draw[14], ϵ_draw[15], ϵ_draw[16], ϵ_draw[17], ϵ_draw[18], ϵ_draw[19], ϵ_draw[20], ϵ_draw[21]\n",
       "internals         = lp, n_steps, is_accept, acceptance_rate, log_density, hamiltonian_energy, hamiltonian_energy_error, max_hamiltonian_energy_error, tree_depth, numerical_error, step_size, nom_step_size\n",
       "\n",
       "Summary Statistics\n",
       " \u001b[1m parameters \u001b[0m \u001b[1m    mean \u001b[0m \u001b[1m     std \u001b[0m \u001b[1m naive_se \u001b[0m \u001b[1m    mcse \u001b[0m \u001b[1m       ess \u001b[0m \u001b[1m    rhat \u001b[0m \u001b[1m \u001b[0m ⋯\n",
       " \u001b[90m     Symbol \u001b[0m \u001b[90m Float64 \u001b[0m \u001b[90m Float64 \u001b[0m \u001b[90m  Float64 \u001b[0m \u001b[90m Float64 \u001b[0m \u001b[90m   Float64 \u001b[0m \u001b[90m Float64 \u001b[0m \u001b[90m \u001b[0m ⋯\n",
       "\n",
       "           α    0.4791    0.0253     0.0008    0.0014    262.6304    1.0060    ⋯\n",
       "           β    0.9595    0.0090     0.0003    0.0004    553.2220    1.0056    ⋯\n",
       "   ϵ_draw[1]   -2.0325    0.3482     0.0110    0.0210    257.2924    1.0003    ⋯\n",
       "   ϵ_draw[2]   -0.0946    0.2588     0.0082    0.0060   1526.6885    0.9991    ⋯\n",
       "   ϵ_draw[3]    0.6962    0.2631     0.0083    0.0100    772.4243    1.0006    ⋯\n",
       "   ϵ_draw[4]    0.2229    0.2539     0.0080    0.0079   1280.4524    0.9990    ⋯\n",
       "   ϵ_draw[5]    0.6897    0.2950     0.0093    0.0115    775.5940    0.9990    ⋯\n",
       "   ϵ_draw[6]    0.0555    0.2634     0.0083    0.0066   1248.3547    1.0001    ⋯\n",
       "   ϵ_draw[7]    1.4217    0.3248     0.0103    0.0155    372.1476    0.9993    ⋯\n",
       "   ϵ_draw[8]   -0.4337    0.2491     0.0079    0.0091   1151.4595    0.9990    ⋯\n",
       "   ϵ_draw[9]    0.5417    0.2611     0.0083    0.0099    778.6185    0.9994    ⋯\n",
       "  ϵ_draw[10]    0.2136    0.2486     0.0079    0.0077   1300.8595    0.9997    ⋯\n",
       "  ϵ_draw[11]   -0.9094    0.2786     0.0088    0.0104    617.5750    1.0018    ⋯\n",
       "  ϵ_draw[12]   -0.7922    0.2785     0.0088    0.0117    509.8043    0.9991    ⋯\n",
       "  ϵ_draw[13]   -2.0223    0.3930     0.0124    0.0223    331.8506    0.9996    ⋯\n",
       "  ϵ_draw[14]    0.5129    0.2586     0.0082    0.0092    802.2817    0.9991    ⋯\n",
       "  ϵ_draw[15]    0.9184    0.2834     0.0090    0.0107    688.6733    0.9993    ⋯\n",
       "  ϵ_draw[16]   -0.5003    0.2593     0.0082    0.0076   1042.6707    0.9993    ⋯\n",
       "  ϵ_draw[17]   -1.5547    0.3385     0.0107    0.0163    407.1272    0.9996    ⋯\n",
       "  ϵ_draw[18]   -0.9895    0.2886     0.0091    0.0131    435.1294    0.9995    ⋯\n",
       "  ϵ_draw[19]    0.1383    0.2327     0.0074    0.0053   1286.0066    0.9992    ⋯\n",
       "  ϵ_draw[20]   -0.8964    0.2833     0.0090    0.0104    721.9592    1.0021    ⋯\n",
       "  ϵ_draw[21]   -0.1488    0.8648     0.0273    0.0571    200.5993    0.9992    ⋯\n",
       "\u001b[36m                                                                1 column omitted\u001b[0m\n",
       "\n",
       "Quantiles\n",
       " \u001b[1m parameters \u001b[0m \u001b[1m    2.5% \u001b[0m \u001b[1m   25.0% \u001b[0m \u001b[1m   50.0% \u001b[0m \u001b[1m   75.0% \u001b[0m \u001b[1m   97.5% \u001b[0m\n",
       " \u001b[90m     Symbol \u001b[0m \u001b[90m Float64 \u001b[0m \u001b[90m Float64 \u001b[0m \u001b[90m Float64 \u001b[0m \u001b[90m Float64 \u001b[0m \u001b[90m Float64 \u001b[0m\n",
       "\n",
       "           α    0.4291    0.4613    0.4798    0.4972    0.5258\n",
       "           β    0.9421    0.9532    0.9598    0.9657    0.9771\n",
       "   ϵ_draw[1]   -2.7350   -2.2663   -2.0211   -1.7840   -1.4164\n",
       "   ϵ_draw[2]   -0.6280   -0.2543   -0.0904    0.0711    0.3988\n",
       "   ϵ_draw[3]    0.2180    0.5077    0.6813    0.8595    1.2329\n",
       "   ϵ_draw[4]   -0.2512    0.0548    0.2131    0.3916    0.7289\n",
       "   ϵ_draw[5]    0.1356    0.5001    0.6628    0.8683    1.3167\n",
       "   ϵ_draw[6]   -0.4367   -0.1109    0.0505    0.2222    0.5939\n",
       "   ϵ_draw[7]    0.8028    1.1986    1.4023    1.6121    2.0752\n",
       "   ϵ_draw[8]   -0.9629   -0.5834   -0.4337   -0.2673    0.0346\n",
       "   ϵ_draw[9]    0.0377    0.3641    0.5393    0.7193    1.0794\n",
       "  ϵ_draw[10]   -0.2801    0.0533    0.2126    0.3908    0.6731\n",
       "  ϵ_draw[11]   -1.5254   -1.0715   -0.8898   -0.7185   -0.4189\n",
       "  ϵ_draw[12]   -1.3874   -0.9590   -0.7705   -0.6073   -0.3020\n",
       "  ϵ_draw[13]   -2.8732   -2.2596   -1.9919   -1.7502   -1.3393\n",
       "  ϵ_draw[14]    0.0321    0.3373    0.4900    0.6827    1.0274\n",
       "  ϵ_draw[15]    0.3909    0.7320    0.8953    1.1088    1.4861\n",
       "  ϵ_draw[16]   -1.0741   -0.6605   -0.4835   -0.3285   -0.0043\n",
       "  ϵ_draw[17]   -2.2526   -1.7841   -1.5226   -1.3129   -0.9560\n",
       "  ϵ_draw[18]   -1.5861   -1.1686   -0.9700   -0.7837   -0.4796\n",
       "  ϵ_draw[19]   -0.3438   -0.0065    0.1285    0.2886    0.6028\n",
       "  ϵ_draw[20]   -1.5068   -1.0727   -0.8635   -0.6973   -0.3978\n",
       "  ϵ_draw[21]   -1.8885   -0.7533   -0.1587    0.4544    1.5208\n"
      ]
     },
     "execution_count": 19,
     "metadata": {},
     "output_type": "execute_result"
    }
   ],
   "source": [
    "# Turing model definition\n",
    "@model function rbc_1_joint(z, m, p_f, cache)\n",
    "    α ~ Uniform(0.2, 0.8)\n",
    "    β ~ Uniform(0.5, 0.99)\n",
    "    p_d = (; α, β)\n",
    "    T = size(z, 2)\n",
    "    ϵ_draw ~ MvNormal(m.n_ϵ * T, 1.0)\n",
    "    ϵ = reshape(ϵ_draw, m.n_ϵ, T)\n",
    "    sol = generate_perturbation(m, p_d, p_f, Val(1); cache)\n",
    "    if !(sol.retcode == :Success)\n",
    "        @addlogprob! -Inf\n",
    "        return\n",
    "    end\n",
    "    problem = LinearStateSpaceProblem(sol, zeros(2), (0, T), observables = z, noise=ϵ)\n",
    "    @addlogprob! solve(problem, DirectIteration()).logpdf\n",
    "end\n",
    "cache = SolverCache(model_rbc, Val(1),  [:α, :β])\n",
    "p_f = (ρ = 0.2, δ = 0.02, σ = 0.01, Ω_1 = 0.01) # Fixed parameters\n",
    "turing_model = rbc_1_joint(z, model_rbc, p_f, cache) # passing observables from before \n",
    "\n",
    "n_samples = 1000\n",
    "n_adapts = 100\n",
    "δ = 0.65\n",
    "alg = NUTS(n_adapts,δ)\n",
    "chain_1_joint = sample(turing_model, alg, n_samples; progress = true)"
   ]
  },
  {
   "cell_type": "markdown",
   "metadata": {},
   "source": [
    "## Second-order, joint likelihood approach"
   ]
  },
  {
   "cell_type": "code",
   "execution_count": 20,
   "metadata": {},
   "outputs": [
    {
     "name": "stderr",
     "output_type": "stream",
     "text": [
      "┌ Warning: The current proposal will be rejected due to numerical error(s).\n",
      "│   isfinite.((θ, r, ℓπ, ℓκ)) = (true, false, false, false)\n",
      "└ @ AdvancedHMC C:\\Users\\jbrig\\.julia\\packages\\AdvancedHMC\\51xgc\\src\\hamiltonian.jl:47\n",
      "┌ Warning: The current proposal will be rejected due to numerical error(s).\n",
      "│   isfinite.((θ, r, ℓπ, ℓκ)) = (true, false, false, false)\n",
      "└ @ AdvancedHMC C:\\Users\\jbrig\\.julia\\packages\\AdvancedHMC\\51xgc\\src\\hamiltonian.jl:47\n",
      "┌ Warning: The current proposal will be rejected due to numerical error(s).\n",
      "│   isfinite.((θ, r, ℓπ, ℓκ)) = (true, false, false, false)\n",
      "└ @ AdvancedHMC C:\\Users\\jbrig\\.julia\\packages\\AdvancedHMC\\51xgc\\src\\hamiltonian.jl:47\n",
      "┌ Info: Found initial step size\n",
      "│   ϵ = 0.003125\n",
      "└ @ Turing.Inference C:\\Users\\jbrig\\.julia\\packages\\Turing\\S4Y4B\\src\\inference\\hmc.jl:188\n",
      "\u001b[32mSampling: 100%|█████████████████████████████████████████| Time: 0:11:14\u001b[39m\n"
     ]
    },
    {
     "data": {
      "text/plain": [
       "Chains MCMC chain (1000×35×1 Array{Float64, 3}):\n",
       "\n",
       "Iterations        = 101:1:1100\n",
       "Number of chains  = 1\n",
       "Samples per chain = 1000\n",
       "Wall duration     = 707.84 seconds\n",
       "Compute duration  = 707.84 seconds\n",
       "parameters        = α, β, ϵ_draw[1], ϵ_draw[2], ϵ_draw[3], ϵ_draw[4], ϵ_draw[5], ϵ_draw[6], ϵ_draw[7], ϵ_draw[8], ϵ_draw[9], ϵ_draw[10], ϵ_draw[11], ϵ_draw[12], ϵ_draw[13], ϵ_draw[14], ϵ_draw[15], ϵ_draw[16], ϵ_draw[17], ϵ_draw[18], ϵ_draw[19], ϵ_draw[20], ϵ_draw[21]\n",
       "internals         = lp, n_steps, is_accept, acceptance_rate, log_density, hamiltonian_energy, hamiltonian_energy_error, max_hamiltonian_energy_error, tree_depth, numerical_error, step_size, nom_step_size\n",
       "\n",
       "Summary Statistics\n",
       " \u001b[1m parameters \u001b[0m \u001b[1m    mean \u001b[0m \u001b[1m     std \u001b[0m \u001b[1m naive_se \u001b[0m \u001b[1m    mcse \u001b[0m \u001b[1m       ess \u001b[0m \u001b[1m    rhat \u001b[0m \u001b[1m \u001b[0m ⋯\n",
       " \u001b[90m     Symbol \u001b[0m \u001b[90m Float64 \u001b[0m \u001b[90m Float64 \u001b[0m \u001b[90m  Float64 \u001b[0m \u001b[90m Float64 \u001b[0m \u001b[90m   Float64 \u001b[0m \u001b[90m Float64 \u001b[0m \u001b[90m \u001b[0m ⋯\n",
       "\n",
       "           α    0.4776    0.0238     0.0008    0.0012    327.9429    1.0114    ⋯\n",
       "           β    0.9594    0.0087     0.0003    0.0003    649.9856    0.9998    ⋯\n",
       "   ϵ_draw[1]   -2.0511    0.3384     0.0107    0.0184    269.5382    1.0200    ⋯\n",
       "   ϵ_draw[2]   -0.0902    0.2497     0.0079    0.0064   1491.4600    0.9991    ⋯\n",
       "   ϵ_draw[3]    0.7016    0.2637     0.0083    0.0092    821.0071    1.0023    ⋯\n",
       "   ϵ_draw[4]    0.2273    0.2503     0.0079    0.0055   1424.5710    0.9992    ⋯\n",
       "   ϵ_draw[5]    0.7034    0.2723     0.0086    0.0093    991.7901    1.0012    ⋯\n",
       "   ϵ_draw[6]    0.0681    0.2601     0.0082    0.0073   1061.3057    1.0003    ⋯\n",
       "   ϵ_draw[7]    1.4417    0.3150     0.0100    0.0106    494.4854    1.0055    ⋯\n",
       "   ϵ_draw[8]   -0.4343    0.2508     0.0079    0.0059   1017.1200    1.0005    ⋯\n",
       "   ϵ_draw[9]    0.5368    0.2631     0.0083    0.0087    763.4456    1.0115    ⋯\n",
       "  ϵ_draw[10]    0.2277    0.2542     0.0080    0.0094   1136.6104    1.0039    ⋯\n",
       "  ϵ_draw[11]   -0.9458    0.2723     0.0086    0.0096    819.3721    0.9996    ⋯\n",
       "  ϵ_draw[12]   -0.7766    0.2701     0.0085    0.0112    249.3488    1.0145    ⋯\n",
       "  ϵ_draw[13]   -2.0465    0.3631     0.0115    0.0179    363.2763    1.0051    ⋯\n",
       "  ϵ_draw[14]    0.5331    0.2545     0.0080    0.0078    893.1260    0.9994    ⋯\n",
       "  ϵ_draw[15]    0.9097    0.2787     0.0088    0.0109    559.6074    1.0028    ⋯\n",
       "  ϵ_draw[16]   -0.5043    0.2612     0.0083    0.0085    876.3776    0.9992    ⋯\n",
       "  ϵ_draw[17]   -1.5662    0.3384     0.0107    0.0149    422.1201    1.0121    ⋯\n",
       "  ϵ_draw[18]   -1.0078    0.2881     0.0091    0.0125    582.5672    1.0049    ⋯\n",
       "  ϵ_draw[19]    0.1592    0.2552     0.0081    0.0085   1126.6461    0.9999    ⋯\n",
       "  ϵ_draw[20]   -0.9205    0.2659     0.0084    0.0118    554.9890    1.0059    ⋯\n",
       "  ϵ_draw[21]   -0.0487    0.9108     0.0288    0.0603    228.8790    1.0094    ⋯\n",
       "\u001b[36m                                                                1 column omitted\u001b[0m\n",
       "\n",
       "Quantiles\n",
       " \u001b[1m parameters \u001b[0m \u001b[1m    2.5% \u001b[0m \u001b[1m   25.0% \u001b[0m \u001b[1m   50.0% \u001b[0m \u001b[1m   75.0% \u001b[0m \u001b[1m   97.5% \u001b[0m\n",
       " \u001b[90m     Symbol \u001b[0m \u001b[90m Float64 \u001b[0m \u001b[90m Float64 \u001b[0m \u001b[90m Float64 \u001b[0m \u001b[90m Float64 \u001b[0m \u001b[90m Float64 \u001b[0m\n",
       "\n",
       "           α    0.4311    0.4615    0.4771    0.4926    0.5258\n",
       "           β    0.9410    0.9536    0.9597    0.9656    0.9756\n",
       "   ϵ_draw[1]   -2.7558   -2.2808   -2.0420   -1.8179   -1.4386\n",
       "   ϵ_draw[2]   -0.6125   -0.2507   -0.0905    0.0721    0.3825\n",
       "   ϵ_draw[3]    0.2280    0.5221    0.6870    0.8636    1.2658\n",
       "   ϵ_draw[4]   -0.2280    0.0549    0.2250    0.4041    0.7367\n",
       "   ϵ_draw[5]    0.2055    0.5179    0.6902    0.8745    1.3022\n",
       "   ϵ_draw[6]   -0.4331   -0.1024    0.0664    0.2346    0.6055\n",
       "   ϵ_draw[7]    0.8579    1.2234    1.4315    1.6474    2.0942\n",
       "   ϵ_draw[8]   -0.9328   -0.6138   -0.4269   -0.2603    0.0259\n",
       "   ϵ_draw[9]    0.0538    0.3647    0.5188    0.7057    1.0839\n",
       "  ϵ_draw[10]   -0.2751    0.0603    0.2173    0.3979    0.7190\n",
       "  ϵ_draw[11]   -1.4959   -1.1092   -0.9352   -0.7669   -0.4404\n",
       "  ϵ_draw[12]   -1.3360   -0.9467   -0.7659   -0.5878   -0.2973\n",
       "  ϵ_draw[13]   -2.7960   -2.2842   -2.0352   -1.7905   -1.3896\n",
       "  ϵ_draw[14]    0.0828    0.3615    0.5177    0.6931    1.0484\n",
       "  ϵ_draw[15]    0.4091    0.7066    0.8945    1.0886    1.5048\n",
       "  ϵ_draw[16]   -1.0352   -0.6712   -0.4985   -0.3259   -0.0141\n",
       "  ϵ_draw[17]   -2.2986   -1.7891   -1.5434   -1.3379   -0.9786\n",
       "  ϵ_draw[18]   -1.5972   -1.1866   -0.9977   -0.8137   -0.4765\n",
       "  ϵ_draw[19]   -0.3271   -0.0109    0.1479    0.3311    0.6611\n",
       "  ϵ_draw[20]   -1.4411   -1.0977   -0.9121   -0.7380   -0.4274\n",
       "  ϵ_draw[21]   -1.8983   -0.6882   -0.0234    0.5932    1.6750\n"
      ]
     },
     "execution_count": 20,
     "metadata": {},
     "output_type": "execute_result"
    }
   ],
   "source": [
    "# Turing model definition\n",
    "@model function rbc_2_joint(z, m, p_f, cache)\n",
    "    α ~ Uniform(0.2, 0.8)\n",
    "    β ~ Uniform(0.5, 0.99)\n",
    "    p_d = (; α, β)\n",
    "    T = size(z, 2)\n",
    "    ϵ_draw ~ MvNormal(m.n_ϵ * T, 1.0) # add noise to the estimation\n",
    "    ϵ = reshape(ϵ_draw, m.n_ϵ, T)\n",
    "    sol = generate_perturbation(m, p_d, p_f, Val(2); cache)\n",
    "    if !(sol.retcode == :Success)\n",
    "        @addlogprob! -Inf\n",
    "        return\n",
    "    end\n",
    "    problem = QuadraticStateSpaceProblem(sol, zeros(2), (0, T), observables = z, noise=ϵ)\n",
    "    @addlogprob! solve(problem, DirectIteration()).logpdf\n",
    "end\n",
    "cache = SolverCache(model_rbc, Val(2),  [:α, :β])\n",
    "p_f = (ρ = 0.2, δ = 0.02, σ = 0.01, Ω_1 = 0.01) # Fixed parameters\n",
    "turing_model = rbc_2_joint(z, model_rbc, p_f, cache) # passing observables from before \n",
    "\n",
    "n_samples = 1000\n",
    "n_adapts = 100\n",
    "δ = 0.65\n",
    "alg = NUTS(n_adapts,δ)\n",
    "chain_2_joint = sample(turing_model, alg, n_samples; progress = true)"
   ]
  },
  {
   "cell_type": "markdown",
   "metadata": {},
   "source": [
    "## Plotting the estimated latent states"
   ]
  },
  {
   "cell_type": "code",
   "execution_count": 21,
   "metadata": {},
   "outputs": [
    {
     "data": {
      "image/svg+xml": "<?xml version=\"1.0\" encoding=\"utf-8\"?>\n<svg xmlns=\"http://www.w3.org/2000/svg\" xmlns:xlink=\"http://www.w3.org/1999/xlink\" width=\"600\" height=\"400\" viewBox=\"0 0 2400 1600\">\n<defs>\n  <clipPath id=\"clip350\">\n    <rect x=\"0\" y=\"0\" width=\"2400\" height=\"1600\"/>\n  </clipPath>\n</defs>\n<path clip-path=\"url(#clip350)\" d=\"\nM0 1600 L2400 1600 L2400 0 L0 0  Z\n  \" fill=\"#ffffff\" fill-rule=\"evenodd\" fill-opacity=\"1\"/>\n<defs>\n  <clipPath id=\"clip351\">\n    <rect x=\"480\" y=\"0\" width=\"1681\" height=\"1600\"/>\n  </clipPath>\n</defs>\n<path clip-path=\"url(#clip350)\" d=\"\nM147.478 1486.45 L2352.76 1486.45 L2352.76 123.472 L147.478 123.472  Z\n  \" fill=\"#ffffff\" fill-rule=\"evenodd\" fill-opacity=\"1\"/>\n<defs>\n  <clipPath id=\"clip352\">\n    <rect x=\"147\" y=\"123\" width=\"2206\" height=\"1364\"/>\n  </clipPath>\n</defs>\n<polyline clip-path=\"url(#clip352)\" style=\"stroke:#000000; stroke-linecap:butt; stroke-linejoin:round; stroke-width:2; stroke-opacity:0.1; fill:none\" points=\"\n  647.881,1486.45 647.881,123.472 \n  \"/>\n<polyline clip-path=\"url(#clip352)\" style=\"stroke:#000000; stroke-linecap:butt; stroke-linejoin:round; stroke-width:2; stroke-opacity:0.1; fill:none\" points=\"\n  1195.37,1486.45 1195.37,123.472 \n  \"/>\n<polyline clip-path=\"url(#clip352)\" style=\"stroke:#000000; stroke-linecap:butt; stroke-linejoin:round; stroke-width:2; stroke-opacity:0.1; fill:none\" points=\"\n  1742.86,1486.45 1742.86,123.472 \n  \"/>\n<polyline clip-path=\"url(#clip352)\" style=\"stroke:#000000; stroke-linecap:butt; stroke-linejoin:round; stroke-width:2; stroke-opacity:0.1; fill:none\" points=\"\n  2290.34,1486.45 2290.34,123.472 \n  \"/>\n<polyline clip-path=\"url(#clip350)\" style=\"stroke:#000000; stroke-linecap:butt; stroke-linejoin:round; stroke-width:4; stroke-opacity:1; fill:none\" points=\"\n  147.478,1486.45 2352.76,1486.45 \n  \"/>\n<polyline clip-path=\"url(#clip350)\" style=\"stroke:#000000; stroke-linecap:butt; stroke-linejoin:round; stroke-width:4; stroke-opacity:1; fill:none\" points=\"\n  647.881,1486.45 647.881,1467.55 \n  \"/>\n<polyline clip-path=\"url(#clip350)\" style=\"stroke:#000000; stroke-linecap:butt; stroke-linejoin:round; stroke-width:4; stroke-opacity:1; fill:none\" points=\"\n  1195.37,1486.45 1195.37,1467.55 \n  \"/>\n<polyline clip-path=\"url(#clip350)\" style=\"stroke:#000000; stroke-linecap:butt; stroke-linejoin:round; stroke-width:4; stroke-opacity:1; fill:none\" points=\"\n  1742.86,1486.45 1742.86,1467.55 \n  \"/>\n<polyline clip-path=\"url(#clip350)\" style=\"stroke:#000000; stroke-linecap:butt; stroke-linejoin:round; stroke-width:4; stroke-opacity:1; fill:none\" points=\"\n  2290.34,1486.45 2290.34,1467.55 \n  \"/>\n<path clip-path=\"url(#clip350)\" d=\"M638.159 1514.29 L656.515 1514.29 L656.515 1518.22 L642.441 1518.22 L642.441 1526.7 Q643.46 1526.35 644.478 1526.19 Q645.497 1526 646.515 1526 Q652.302 1526 655.682 1529.17 Q659.062 1532.34 659.062 1537.76 Q659.062 1543.34 655.589 1546.44 Q652.117 1549.52 645.798 1549.52 Q643.622 1549.52 641.353 1549.15 Q639.108 1548.78 636.701 1548.04 L636.701 1543.34 Q638.784 1544.47 641.006 1545.03 Q643.228 1545.58 645.705 1545.58 Q649.71 1545.58 652.048 1543.48 Q654.386 1541.37 654.386 1537.76 Q654.386 1534.15 652.048 1532.04 Q649.71 1529.94 645.705 1529.94 Q643.83 1529.94 641.955 1530.35 Q640.103 1530.77 638.159 1531.65 L638.159 1514.29 Z\" fill=\"#000000\" fill-rule=\"evenodd\" fill-opacity=\"1\" /><path clip-path=\"url(#clip350)\" d=\"M1170.06 1544.91 L1177.69 1544.91 L1177.69 1518.55 L1169.38 1520.21 L1169.38 1515.95 L1177.65 1514.29 L1182.32 1514.29 L1182.32 1544.91 L1189.96 1544.91 L1189.96 1548.85 L1170.06 1548.85 L1170.06 1544.91 Z\" fill=\"#000000\" fill-rule=\"evenodd\" fill-opacity=\"1\" /><path clip-path=\"url(#clip350)\" d=\"M1209.41 1517.37 Q1205.8 1517.37 1203.97 1520.93 Q1202.16 1524.47 1202.16 1531.6 Q1202.16 1538.71 1203.97 1542.27 Q1205.8 1545.82 1209.41 1545.82 Q1213.04 1545.82 1214.85 1542.27 Q1216.68 1538.71 1216.68 1531.6 Q1216.68 1524.47 1214.85 1520.93 Q1213.04 1517.37 1209.41 1517.37 M1209.41 1513.66 Q1215.22 1513.66 1218.27 1518.27 Q1221.35 1522.85 1221.35 1531.6 Q1221.35 1540.33 1218.27 1544.94 Q1215.22 1549.52 1209.41 1549.52 Q1203.6 1549.52 1200.52 1544.94 Q1197.46 1540.33 1197.46 1531.6 Q1197.46 1522.85 1200.52 1518.27 Q1203.6 1513.66 1209.41 1513.66 Z\" fill=\"#000000\" fill-rule=\"evenodd\" fill-opacity=\"1\" /><path clip-path=\"url(#clip350)\" d=\"M1718.04 1544.91 L1725.68 1544.91 L1725.68 1518.55 L1717.37 1520.21 L1717.37 1515.95 L1725.63 1514.29 L1730.31 1514.29 L1730.31 1544.91 L1737.95 1544.91 L1737.95 1548.85 L1718.04 1548.85 L1718.04 1544.91 Z\" fill=\"#000000\" fill-rule=\"evenodd\" fill-opacity=\"1\" /><path clip-path=\"url(#clip350)\" d=\"M1747.44 1514.29 L1765.79 1514.29 L1765.79 1518.22 L1751.72 1518.22 L1751.72 1526.7 Q1752.74 1526.35 1753.76 1526.19 Q1754.78 1526 1755.8 1526 Q1761.58 1526 1764.96 1529.17 Q1768.34 1532.34 1768.34 1537.76 Q1768.34 1543.34 1764.87 1546.44 Q1761.4 1549.52 1755.08 1549.52 Q1752.9 1549.52 1750.63 1549.15 Q1748.39 1548.78 1745.98 1548.04 L1745.98 1543.34 Q1748.06 1544.47 1750.29 1545.03 Q1752.51 1545.58 1754.98 1545.58 Q1758.99 1545.58 1761.33 1543.48 Q1763.67 1541.37 1763.67 1537.76 Q1763.67 1534.15 1761.33 1532.04 Q1758.99 1529.94 1754.98 1529.94 Q1753.11 1529.94 1751.23 1530.35 Q1749.38 1530.77 1747.44 1531.65 L1747.44 1514.29 Z\" fill=\"#000000\" fill-rule=\"evenodd\" fill-opacity=\"1\" /><path clip-path=\"url(#clip350)\" d=\"M2269.12 1544.91 L2285.43 1544.91 L2285.43 1548.85 L2263.49 1548.85 L2263.49 1544.91 Q2266.15 1542.16 2270.74 1537.53 Q2275.34 1532.88 2276.52 1531.53 Q2278.77 1529.01 2279.65 1527.27 Q2280.55 1525.51 2280.55 1523.82 Q2280.55 1521.07 2278.61 1519.33 Q2276.69 1517.6 2273.58 1517.6 Q2271.38 1517.6 2268.93 1518.36 Q2266.5 1519.13 2263.72 1520.68 L2263.72 1515.95 Q2266.55 1514.82 2269 1514.24 Q2271.45 1513.66 2273.49 1513.66 Q2278.86 1513.66 2282.06 1516.35 Q2285.25 1519.03 2285.25 1523.52 Q2285.25 1525.65 2284.44 1527.57 Q2283.65 1529.47 2281.55 1532.07 Q2280.97 1532.74 2277.87 1535.95 Q2274.76 1539.15 2269.12 1544.91 Z\" fill=\"#000000\" fill-rule=\"evenodd\" fill-opacity=\"1\" /><path clip-path=\"url(#clip350)\" d=\"M2305.25 1517.37 Q2301.64 1517.37 2299.81 1520.93 Q2298 1524.47 2298 1531.6 Q2298 1538.71 2299.81 1542.27 Q2301.64 1545.82 2305.25 1545.82 Q2308.88 1545.82 2310.69 1542.27 Q2312.52 1538.71 2312.52 1531.6 Q2312.52 1524.47 2310.69 1520.93 Q2308.88 1517.37 2305.25 1517.37 M2305.25 1513.66 Q2311.06 1513.66 2314.12 1518.27 Q2317.19 1522.85 2317.19 1531.6 Q2317.19 1540.33 2314.12 1544.94 Q2311.06 1549.52 2305.25 1549.52 Q2299.44 1549.52 2296.36 1544.94 Q2293.31 1540.33 2293.31 1531.6 Q2293.31 1522.85 2296.36 1518.27 Q2299.44 1513.66 2305.25 1513.66 Z\" fill=\"#000000\" fill-rule=\"evenodd\" fill-opacity=\"1\" /><polyline clip-path=\"url(#clip352)\" style=\"stroke:#000000; stroke-linecap:butt; stroke-linejoin:round; stroke-width:2; stroke-opacity:0.1; fill:none\" points=\"\n  147.478,1237.53 2352.76,1237.53 \n  \"/>\n<polyline clip-path=\"url(#clip352)\" style=\"stroke:#000000; stroke-linecap:butt; stroke-linejoin:round; stroke-width:2; stroke-opacity:0.1; fill:none\" points=\"\n  147.478,977.323 2352.76,977.323 \n  \"/>\n<polyline clip-path=\"url(#clip352)\" style=\"stroke:#000000; stroke-linecap:butt; stroke-linejoin:round; stroke-width:2; stroke-opacity:0.1; fill:none\" points=\"\n  147.478,717.114 2352.76,717.114 \n  \"/>\n<polyline clip-path=\"url(#clip352)\" style=\"stroke:#000000; stroke-linecap:butt; stroke-linejoin:round; stroke-width:2; stroke-opacity:0.1; fill:none\" points=\"\n  147.478,456.906 2352.76,456.906 \n  \"/>\n<polyline clip-path=\"url(#clip352)\" style=\"stroke:#000000; stroke-linecap:butt; stroke-linejoin:round; stroke-width:2; stroke-opacity:0.1; fill:none\" points=\"\n  147.478,196.698 2352.76,196.698 \n  \"/>\n<polyline clip-path=\"url(#clip350)\" style=\"stroke:#000000; stroke-linecap:butt; stroke-linejoin:round; stroke-width:4; stroke-opacity:1; fill:none\" points=\"\n  147.478,1486.45 147.478,123.472 \n  \"/>\n<polyline clip-path=\"url(#clip350)\" style=\"stroke:#000000; stroke-linecap:butt; stroke-linejoin:round; stroke-width:4; stroke-opacity:1; fill:none\" points=\"\n  147.478,1237.53 166.376,1237.53 \n  \"/>\n<polyline clip-path=\"url(#clip350)\" style=\"stroke:#000000; stroke-linecap:butt; stroke-linejoin:round; stroke-width:4; stroke-opacity:1; fill:none\" points=\"\n  147.478,977.323 166.376,977.323 \n  \"/>\n<polyline clip-path=\"url(#clip350)\" style=\"stroke:#000000; stroke-linecap:butt; stroke-linejoin:round; stroke-width:4; stroke-opacity:1; fill:none\" points=\"\n  147.478,717.114 166.376,717.114 \n  \"/>\n<polyline clip-path=\"url(#clip350)\" style=\"stroke:#000000; stroke-linecap:butt; stroke-linejoin:round; stroke-width:4; stroke-opacity:1; fill:none\" points=\"\n  147.478,456.906 166.376,456.906 \n  \"/>\n<polyline clip-path=\"url(#clip350)\" style=\"stroke:#000000; stroke-linecap:butt; stroke-linejoin:round; stroke-width:4; stroke-opacity:1; fill:none\" points=\"\n  147.478,196.698 166.376,196.698 \n  \"/>\n<path clip-path=\"url(#clip350)\" d=\"M51.3625 1237.98 L81.0383 1237.98 L81.0383 1241.92 L51.3625 1241.92 L51.3625 1237.98 Z\" fill=\"#000000\" fill-rule=\"evenodd\" fill-opacity=\"1\" /><path clip-path=\"url(#clip350)\" d=\"M95.1586 1250.88 L111.478 1250.88 L111.478 1254.81 L89.5336 1254.81 L89.5336 1250.88 Q92.1956 1248.12 96.7789 1243.49 Q101.385 1238.84 102.566 1237.5 Q104.811 1234.97 105.691 1233.24 Q106.594 1231.48 106.594 1229.79 Q106.594 1227.03 104.649 1225.3 Q102.728 1223.56 99.6261 1223.56 Q97.4271 1223.56 94.9734 1224.33 Q92.5428 1225.09 89.7651 1226.64 L89.7651 1221.92 Q92.5891 1220.78 95.0428 1220.2 Q97.4965 1219.63 99.5335 1219.63 Q104.904 1219.63 108.098 1222.31 Q111.293 1225 111.293 1229.49 Q111.293 1231.62 110.483 1233.54 Q109.696 1235.44 107.589 1238.03 Q107.01 1238.7 103.909 1241.92 Q100.807 1245.11 95.1586 1250.88 Z\" fill=\"#000000\" fill-rule=\"evenodd\" fill-opacity=\"1\" /><path clip-path=\"url(#clip350)\" d=\"M50.9921 977.774 L80.6679 977.774 L80.6679 981.709 L50.9921 981.709 L50.9921 977.774 Z\" fill=\"#000000\" fill-rule=\"evenodd\" fill-opacity=\"1\" /><path clip-path=\"url(#clip350)\" d=\"M91.5706 990.668 L99.2095 990.668 L99.2095 964.302 L90.8993 965.969 L90.8993 961.709 L99.1632 960.043 L103.839 960.043 L103.839 990.668 L111.478 990.668 L111.478 994.603 L91.5706 994.603 L91.5706 990.668 Z\" fill=\"#000000\" fill-rule=\"evenodd\" fill-opacity=\"1\" /><path clip-path=\"url(#clip350)\" d=\"M99.5335 702.913 Q95.9224 702.913 94.0937 706.478 Q92.2882 710.02 92.2882 717.149 Q92.2882 724.256 94.0937 727.82 Q95.9224 731.362 99.5335 731.362 Q103.168 731.362 104.973 727.82 Q106.802 724.256 106.802 717.149 Q106.802 710.02 104.973 706.478 Q103.168 702.913 99.5335 702.913 M99.5335 699.209 Q105.344 699.209 108.399 703.816 Q111.478 708.399 111.478 717.149 Q111.478 725.876 108.399 730.482 Q105.344 735.066 99.5335 735.066 Q93.7234 735.066 90.6447 730.482 Q87.5892 725.876 87.5892 717.149 Q87.5892 708.399 90.6447 703.816 Q93.7234 699.209 99.5335 699.209 Z\" fill=\"#000000\" fill-rule=\"evenodd\" fill-opacity=\"1\" /><path clip-path=\"url(#clip350)\" d=\"M91.5706 470.251 L99.2095 470.251 L99.2095 443.885 L90.8993 445.552 L90.8993 441.293 L99.1632 439.626 L103.839 439.626 L103.839 470.251 L111.478 470.251 L111.478 474.186 L91.5706 474.186 L91.5706 470.251 Z\" fill=\"#000000\" fill-rule=\"evenodd\" fill-opacity=\"1\" /><path clip-path=\"url(#clip350)\" d=\"M95.1586 210.043 L111.478 210.043 L111.478 213.978 L89.5336 213.978 L89.5336 210.043 Q92.1956 207.288 96.7789 202.658 Q101.385 198.006 102.566 196.663 Q104.811 194.14 105.691 192.404 Q106.594 190.645 106.594 188.955 Q106.594 186.2 104.649 184.464 Q102.728 182.728 99.6261 182.728 Q97.4271 182.728 94.9734 183.492 Q92.5428 184.256 89.7651 185.807 L89.7651 181.084 Q92.5891 179.95 95.0428 179.371 Q97.4965 178.793 99.5335 178.793 Q104.904 178.793 108.098 181.478 Q111.293 184.163 111.293 188.654 Q111.293 190.783 110.483 192.705 Q109.696 194.603 107.589 197.195 Q107.01 197.867 103.909 201.084 Q100.807 204.279 95.1586 210.043 Z\" fill=\"#000000\" fill-rule=\"evenodd\" fill-opacity=\"1\" /><path clip-path=\"url(#clip350)\" d=\"M525.653 12.096 L560.41 12.096 L560.41 18.9825 L533.836 18.9825 L533.836 36.8065 L557.817 36.8065 L557.817 43.6931 L533.836 43.6931 L533.836 72.576 L525.653 72.576 L525.653 12.096 Z\" fill=\"#000000\" fill-rule=\"evenodd\" fill-opacity=\"1\" /><path clip-path=\"url(#clip350)\" d=\"M567.013 27.2059 L574.467 27.2059 L574.467 72.576 L567.013 72.576 L567.013 27.2059 M567.013 9.54393 L574.467 9.54393 L574.467 18.9825 L567.013 18.9825 L567.013 9.54393 Z\" fill=\"#000000\" fill-rule=\"evenodd\" fill-opacity=\"1\" /><path clip-path=\"url(#clip350)\" d=\"M616.353 34.1734 Q615.097 33.4443 613.598 33.1202 Q612.14 32.7556 610.358 32.7556 Q604.038 32.7556 600.635 36.8875 Q597.273 40.9789 597.273 48.6757 L597.273 72.576 L589.779 72.576 L589.779 27.2059 L597.273 27.2059 L597.273 34.2544 Q599.623 30.1225 603.39 28.1376 Q607.157 26.1121 612.545 26.1121 Q613.315 26.1121 614.246 26.2337 Q615.178 26.3147 616.312 26.5172 L616.353 34.1734 Z\" fill=\"#000000\" fill-rule=\"evenodd\" fill-opacity=\"1\" /><path clip-path=\"url(#clip350)\" d=\"M653.095 28.5427 L653.095 35.5912 Q649.935 33.9709 646.532 33.1607 Q643.129 32.3505 639.484 32.3505 Q633.934 32.3505 631.139 34.0519 Q628.384 35.7533 628.384 39.156 Q628.384 41.7486 630.369 43.2475 Q632.354 44.7058 638.349 46.0426 L640.901 46.6097 Q648.841 48.3111 652.163 51.4303 Q655.525 54.509 655.525 60.0587 Q655.525 66.3781 650.502 70.0644 Q645.519 73.7508 636.77 73.7508 Q633.124 73.7508 629.154 73.0216 Q625.224 72.3329 620.849 70.9151 L620.849 63.2184 Q624.981 65.3654 628.992 66.4591 Q633.002 67.5124 636.932 67.5124 Q642.198 67.5124 645.033 65.73 Q647.869 63.9071 647.869 60.6258 Q647.869 57.5877 645.803 55.9673 Q643.778 54.3469 636.851 52.8481 L634.258 52.2405 Q627.331 50.7821 624.252 47.7845 Q621.174 44.7463 621.174 39.4801 Q621.174 33.0797 625.711 29.5959 Q630.248 26.1121 638.592 26.1121 Q642.724 26.1121 646.37 26.7198 Q650.016 27.3274 653.095 28.5427 Z\" fill=\"#000000\" fill-rule=\"evenodd\" fill-opacity=\"1\" /><path clip-path=\"url(#clip350)\" d=\"M674.767 14.324 L674.767 27.2059 L690.12 27.2059 L690.12 32.9987 L674.767 32.9987 L674.767 57.6282 Q674.767 63.1779 676.266 64.7578 Q677.805 66.3376 682.464 66.3376 L690.12 66.3376 L690.12 72.576 L682.464 72.576 Q673.835 72.576 670.554 69.3758 Q667.273 66.1351 667.273 57.6282 L667.273 32.9987 L661.804 32.9987 L661.804 27.2059 L667.273 27.2059 L667.273 14.324 L674.767 14.324 Z\" fill=\"#000000\" fill-rule=\"evenodd\" fill-opacity=\"1\" /><path clip-path=\"url(#clip350)\" d=\"M696.156 46.5287 L717.99 46.5287 L717.99 53.1722 L696.156 53.1722 L696.156 46.5287 Z\" fill=\"#000000\" fill-rule=\"evenodd\" fill-opacity=\"1\" /><path clip-path=\"url(#clip350)\" d=\"M757.041 17.6457 Q748.129 17.6457 742.863 24.2892 Q737.637 30.9327 737.637 42.3968 Q737.637 53.8203 742.863 60.4638 Q748.129 67.1073 757.041 67.1073 Q765.953 67.1073 771.138 60.4638 Q776.364 53.8203 776.364 42.3968 Q776.364 30.9327 771.138 24.2892 Q765.953 17.6457 757.041 17.6457 M757.041 11.0023 Q769.761 11.0023 777.376 19.5497 Q784.992 28.0566 784.992 42.3968 Q784.992 56.6965 777.376 65.2439 Q769.761 73.7508 757.041 73.7508 Q744.28 73.7508 736.624 65.2439 Q729.009 56.737 729.009 42.3968 Q729.009 28.0566 736.624 19.5497 Q744.28 11.0023 757.041 11.0023 Z\" fill=\"#000000\" fill-rule=\"evenodd\" fill-opacity=\"1\" /><path clip-path=\"url(#clip350)\" d=\"M823.759 34.1734 Q822.503 33.4443 821.005 33.1202 Q819.546 32.7556 817.764 32.7556 Q811.444 32.7556 808.042 36.8875 Q804.679 40.9789 804.679 48.6757 L804.679 72.576 L797.185 72.576 L797.185 27.2059 L804.679 27.2059 L804.679 34.2544 Q807.029 30.1225 810.796 28.1376 Q814.564 26.1121 819.951 26.1121 Q820.721 26.1121 821.653 26.2337 Q822.584 26.3147 823.719 26.5172 L823.759 34.1734 Z\" fill=\"#000000\" fill-rule=\"evenodd\" fill-opacity=\"1\" /><path clip-path=\"url(#clip350)\" d=\"M859.974 34.0924 L859.974 9.54393 L867.428 9.54393 L867.428 72.576 L859.974 72.576 L859.974 65.7705 Q857.625 69.8214 854.019 71.8063 Q850.455 73.7508 845.432 73.7508 Q837.208 73.7508 832.023 67.1883 Q826.878 60.6258 826.878 49.9314 Q826.878 39.2371 832.023 32.6746 Q837.208 26.1121 845.432 26.1121 Q850.455 26.1121 854.019 28.0971 Q857.625 30.0415 859.974 34.0924 M834.575 49.9314 Q834.575 58.1548 837.937 62.8538 Q841.34 67.5124 847.254 67.5124 Q853.169 67.5124 856.572 62.8538 Q859.974 58.1548 859.974 49.9314 Q859.974 41.7081 856.572 37.0496 Q853.169 32.3505 847.254 32.3505 Q841.34 32.3505 837.937 37.0496 Q834.575 41.7081 834.575 49.9314 Z\" fill=\"#000000\" fill-rule=\"evenodd\" fill-opacity=\"1\" /><path clip-path=\"url(#clip350)\" d=\"M921.589 48.0275 L921.589 51.6733 L887.318 51.6733 Q887.804 59.3701 891.936 63.421 Q896.108 67.4314 903.522 67.4314 Q907.816 67.4314 911.826 66.3781 Q915.877 65.3249 919.847 63.2184 L919.847 70.267 Q915.836 71.9684 911.623 72.8596 Q907.41 73.7508 903.076 73.7508 Q892.22 73.7508 885.86 67.4314 Q879.54 61.1119 879.54 50.3365 Q879.54 39.1965 885.536 32.6746 Q891.571 26.1121 901.78 26.1121 Q910.935 26.1121 916.241 32.0264 Q921.589 37.9003 921.589 48.0275 M914.135 45.84 Q914.054 39.7232 910.692 36.0774 Q907.37 32.4315 901.861 32.4315 Q895.622 32.4315 891.855 35.9558 Q888.128 39.4801 887.561 45.8805 L914.135 45.84 Z\" fill=\"#000000\" fill-rule=\"evenodd\" fill-opacity=\"1\" /><path clip-path=\"url(#clip350)\" d=\"M960.113 34.1734 Q958.857 33.4443 957.358 33.1202 Q955.9 32.7556 954.117 32.7556 Q947.798 32.7556 944.395 36.8875 Q941.033 40.9789 941.033 48.6757 L941.033 72.576 L933.539 72.576 L933.539 27.2059 L941.033 27.2059 L941.033 34.2544 Q943.382 30.1225 947.15 28.1376 Q950.917 26.1121 956.305 26.1121 Q957.074 26.1121 958.006 26.2337 Q958.938 26.3147 960.072 26.5172 L960.113 34.1734 Z\" fill=\"#000000\" fill-rule=\"evenodd\" fill-opacity=\"1\" /><path clip-path=\"url(#clip350)\" d=\"M994.626 12.096 L1002.81 12.096 L1002.81 68.3631 Q1002.81 79.3005 998.637 84.2426 Q994.505 89.1847 985.309 89.1847 L982.19 89.1847 L982.19 82.2982 L984.742 82.2982 Q990.17 82.2982 992.398 79.26 Q994.626 76.2218 994.626 68.3631 L994.626 12.096 Z\" fill=\"#000000\" fill-rule=\"evenodd\" fill-opacity=\"1\" /><path clip-path=\"url(#clip350)\" d=\"M1036.35 32.4315 Q1030.36 32.4315 1026.87 37.1306 Q1023.39 41.7891 1023.39 49.9314 Q1023.39 58.0738 1026.83 62.7728 Q1030.31 67.4314 1036.35 67.4314 Q1042.31 67.4314 1045.79 62.7323 Q1049.27 58.0333 1049.27 49.9314 Q1049.27 41.8701 1045.79 37.1711 Q1042.31 32.4315 1036.35 32.4315 M1036.35 26.1121 Q1046.07 26.1121 1051.62 32.4315 Q1057.17 38.7509 1057.17 49.9314 Q1057.17 61.0714 1051.62 67.4314 Q1046.07 73.7508 1036.35 73.7508 Q1026.59 73.7508 1021.04 67.4314 Q1015.53 61.0714 1015.53 49.9314 Q1015.53 38.7509 1021.04 32.4315 Q1026.59 26.1121 1036.35 26.1121 Z\" fill=\"#000000\" fill-rule=\"evenodd\" fill-opacity=\"1\" /><path clip-path=\"url(#clip350)\" d=\"M1069.53 27.2059 L1076.98 27.2059 L1076.98 72.576 L1069.53 72.576 L1069.53 27.2059 M1069.53 9.54393 L1076.98 9.54393 L1076.98 18.9825 L1069.53 18.9825 L1069.53 9.54393 Z\" fill=\"#000000\" fill-rule=\"evenodd\" fill-opacity=\"1\" /><path clip-path=\"url(#clip350)\" d=\"M1130.29 45.1919 L1130.29 72.576 L1122.84 72.576 L1122.84 45.4349 Q1122.84 38.994 1120.33 35.7938 Q1117.81 32.5936 1112.79 32.5936 Q1106.76 32.5936 1103.27 36.4419 Q1099.79 40.2903 1099.79 46.9338 L1099.79 72.576 L1092.29 72.576 L1092.29 27.2059 L1099.79 27.2059 L1099.79 34.2544 Q1102.46 30.163 1106.07 28.1376 Q1109.71 26.1121 1114.45 26.1121 Q1122.27 26.1121 1126.28 30.9732 Q1130.29 35.7938 1130.29 45.1919 Z\" fill=\"#000000\" fill-rule=\"evenodd\" fill-opacity=\"1\" /><path clip-path=\"url(#clip350)\" d=\"M1152.53 14.324 L1152.53 27.2059 L1167.88 27.2059 L1167.88 32.9987 L1152.53 32.9987 L1152.53 57.6282 Q1152.53 63.1779 1154.03 64.7578 Q1155.57 66.3376 1160.23 66.3376 L1167.88 66.3376 L1167.88 72.576 L1160.23 72.576 Q1151.6 72.576 1148.32 69.3758 Q1145.04 66.1351 1145.04 57.6282 L1145.04 32.9987 L1139.57 32.9987 L1139.57 27.2059 L1145.04 27.2059 L1145.04 14.324 L1152.53 14.324 Z\" fill=\"#000000\" fill-rule=\"evenodd\" fill-opacity=\"1\" /><path clip-path=\"url(#clip350)\" d=\"M1179.59 62.2867 L1188.14 62.2867 L1188.14 72.576 L1179.59 72.576 L1179.59 62.2867 M1179.59 29.6769 L1188.14 29.6769 L1188.14 39.9662 L1179.59 39.9662 L1179.59 29.6769 Z\" fill=\"#000000\" fill-rule=\"evenodd\" fill-opacity=\"1\" /><path clip-path=\"url(#clip350)\" d=\"M1232.33 12.096 L1270.57 12.096 L1270.57 18.9825 L1240.52 18.9825 L1240.52 36.8875 L1269.32 36.8875 L1269.32 43.7741 L1240.52 43.7741 L1240.52 65.6895 L1271.3 65.6895 L1271.3 72.576 L1232.33 72.576 L1232.33 12.096 Z\" fill=\"#000000\" fill-rule=\"evenodd\" fill-opacity=\"1\" /><path clip-path=\"url(#clip350)\" d=\"M1313.35 28.5427 L1313.35 35.5912 Q1310.19 33.9709 1306.79 33.1607 Q1303.39 32.3505 1299.74 32.3505 Q1294.19 32.3505 1291.4 34.0519 Q1288.64 35.7533 1288.64 39.156 Q1288.64 41.7486 1290.63 43.2475 Q1292.61 44.7058 1298.61 46.0426 L1301.16 46.6097 Q1309.1 48.3111 1312.42 51.4303 Q1315.78 54.509 1315.78 60.0587 Q1315.78 66.3781 1310.76 70.0644 Q1305.78 73.7508 1297.03 73.7508 Q1293.38 73.7508 1289.41 73.0216 Q1285.48 72.3329 1281.11 70.9151 L1281.11 63.2184 Q1285.24 65.3654 1289.25 66.4591 Q1293.26 67.5124 1297.19 67.5124 Q1302.45 67.5124 1305.29 65.73 Q1308.13 63.9071 1308.13 60.6258 Q1308.13 57.5877 1306.06 55.9673 Q1304.03 54.3469 1297.11 52.8481 L1294.51 52.2405 Q1287.59 50.7821 1284.51 47.7845 Q1281.43 44.7463 1281.43 39.4801 Q1281.43 33.0797 1285.97 29.5959 Q1290.5 26.1121 1298.85 26.1121 Q1302.98 26.1121 1306.63 26.7198 Q1310.27 27.3274 1313.35 28.5427 Z\" fill=\"#000000\" fill-rule=\"evenodd\" fill-opacity=\"1\" /><path clip-path=\"url(#clip350)\" d=\"M1335.02 14.324 L1335.02 27.2059 L1350.38 27.2059 L1350.38 32.9987 L1335.02 32.9987 L1335.02 57.6282 Q1335.02 63.1779 1336.52 64.7578 Q1338.06 66.3376 1342.72 66.3376 L1350.38 66.3376 L1350.38 72.576 L1342.72 72.576 Q1334.09 72.576 1330.81 69.3758 Q1327.53 66.1351 1327.53 57.6282 L1327.53 32.9987 L1322.06 32.9987 L1322.06 27.2059 L1327.53 27.2059 L1327.53 14.324 L1335.02 14.324 Z\" fill=\"#000000\" fill-rule=\"evenodd\" fill-opacity=\"1\" /><path clip-path=\"url(#clip350)\" d=\"M1360.18 27.2059 L1367.63 27.2059 L1367.63 72.576 L1360.18 72.576 L1360.18 27.2059 M1360.18 9.54393 L1367.63 9.54393 L1367.63 18.9825 L1360.18 18.9825 L1360.18 9.54393 Z\" fill=\"#000000\" fill-rule=\"evenodd\" fill-opacity=\"1\" /><path clip-path=\"url(#clip350)\" d=\"M1418.55 35.9153 Q1421.35 30.8922 1425.24 28.5022 Q1429.13 26.1121 1434.39 26.1121 Q1441.48 26.1121 1445.33 31.0947 Q1449.18 36.0368 1449.18 45.1919 L1449.18 72.576 L1441.68 72.576 L1441.68 45.4349 Q1441.68 38.913 1439.38 35.7533 Q1437.07 32.5936 1432.33 32.5936 Q1426.53 32.5936 1423.17 36.4419 Q1419.81 40.2903 1419.81 46.9338 L1419.81 72.576 L1412.32 72.576 L1412.32 45.4349 Q1412.32 38.8725 1410.01 35.7533 Q1407.7 32.5936 1402.88 32.5936 Q1397.16 32.5936 1393.8 36.4824 Q1390.44 40.3308 1390.44 46.9338 L1390.44 72.576 L1382.95 72.576 L1382.95 27.2059 L1390.44 27.2059 L1390.44 34.2544 Q1392.99 30.082 1396.56 28.0971 Q1400.12 26.1121 1405.02 26.1121 Q1409.97 26.1121 1413.41 28.6237 Q1416.89 31.1352 1418.55 35.9153 Z\" fill=\"#000000\" fill-rule=\"evenodd\" fill-opacity=\"1\" /><path clip-path=\"url(#clip350)\" d=\"M1484.66 49.7694 Q1475.63 49.7694 1472.15 51.8354 Q1468.66 53.9013 1468.66 58.8839 Q1468.66 62.8538 1471.26 65.2034 Q1473.89 67.5124 1478.39 67.5124 Q1484.58 67.5124 1488.31 63.1374 Q1492.08 58.7219 1492.08 51.4303 L1492.08 49.7694 L1484.66 49.7694 M1499.53 46.6907 L1499.53 72.576 L1492.08 72.576 L1492.08 65.6895 Q1489.53 69.8214 1485.72 71.8063 Q1481.91 73.7508 1476.4 73.7508 Q1469.43 73.7508 1465.3 69.8619 Q1461.21 65.9325 1461.21 59.3701 Q1461.21 51.7138 1466.31 47.825 Q1471.46 43.9361 1481.63 43.9361 L1492.08 43.9361 L1492.08 43.2069 Q1492.08 38.0623 1488.67 35.2672 Q1485.31 32.4315 1479.2 32.4315 Q1475.31 32.4315 1471.62 33.3632 Q1467.93 34.295 1464.53 36.1584 L1464.53 29.2718 Q1468.62 27.692 1472.47 26.9223 Q1476.32 26.1121 1479.97 26.1121 Q1489.81 26.1121 1494.67 31.2163 Q1499.53 36.3204 1499.53 46.6907 Z\" fill=\"#000000\" fill-rule=\"evenodd\" fill-opacity=\"1\" /><path clip-path=\"url(#clip350)\" d=\"M1522.26 14.324 L1522.26 27.2059 L1537.61 27.2059 L1537.61 32.9987 L1522.26 32.9987 L1522.26 57.6282 Q1522.26 63.1779 1523.76 64.7578 Q1525.29 66.3376 1529.95 66.3376 L1537.61 66.3376 L1537.61 72.576 L1529.95 72.576 Q1521.32 72.576 1518.04 69.3758 Q1514.76 66.1351 1514.76 57.6282 L1514.76 32.9987 L1509.29 32.9987 L1509.29 27.2059 L1514.76 27.2059 L1514.76 14.324 L1522.26 14.324 Z\" fill=\"#000000\" fill-rule=\"evenodd\" fill-opacity=\"1\" /><path clip-path=\"url(#clip350)\" d=\"M1586.22 48.0275 L1586.22 51.6733 L1551.95 51.6733 Q1552.44 59.3701 1556.57 63.421 Q1560.74 67.4314 1568.15 67.4314 Q1572.45 67.4314 1576.46 66.3781 Q1580.51 65.3249 1584.48 63.2184 L1584.48 70.267 Q1580.47 71.9684 1576.26 72.8596 Q1572.04 73.7508 1567.71 73.7508 Q1556.85 73.7508 1550.49 67.4314 Q1544.17 61.1119 1544.17 50.3365 Q1544.17 39.1965 1550.17 32.6746 Q1556.2 26.1121 1566.41 26.1121 Q1575.57 26.1121 1580.87 32.0264 Q1586.22 37.9003 1586.22 48.0275 M1578.77 45.84 Q1578.69 39.7232 1575.32 36.0774 Q1572 32.4315 1566.49 32.4315 Q1560.25 32.4315 1556.49 35.9558 Q1552.76 39.4801 1552.19 45.8805 L1578.77 45.84 Z\" fill=\"#000000\" fill-rule=\"evenodd\" fill-opacity=\"1\" /><path clip-path=\"url(#clip350)\" d=\"M1628.31 34.0924 L1628.31 9.54393 L1635.76 9.54393 L1635.76 72.576 L1628.31 72.576 L1628.31 65.7705 Q1625.96 69.8214 1622.35 71.8063 Q1618.79 73.7508 1613.77 73.7508 Q1605.54 73.7508 1600.36 67.1883 Q1595.21 60.6258 1595.21 49.9314 Q1595.21 39.2371 1600.36 32.6746 Q1605.54 26.1121 1613.77 26.1121 Q1618.79 26.1121 1622.35 28.0971 Q1625.96 30.0415 1628.31 34.0924 M1602.91 49.9314 Q1602.91 58.1548 1606.27 62.8538 Q1609.68 67.5124 1615.59 67.5124 Q1621.5 67.5124 1624.91 62.8538 Q1628.31 58.1548 1628.31 49.9314 Q1628.31 41.7081 1624.91 37.0496 Q1621.5 32.3505 1615.59 32.3505 Q1609.68 32.3505 1606.27 37.0496 Q1602.91 41.7081 1602.91 49.9314 Z\" fill=\"#000000\" fill-rule=\"evenodd\" fill-opacity=\"1\" /><path clip-path=\"url(#clip350)\" d=\"M1677.81 12.096 L1685.99 12.096 L1685.99 65.6895 L1715.44 65.6895 L1715.44 72.576 L1677.81 72.576 L1677.81 12.096 Z\" fill=\"#000000\" fill-rule=\"evenodd\" fill-opacity=\"1\" /><path clip-path=\"url(#clip350)\" d=\"M1744.33 49.7694 Q1735.29 49.7694 1731.81 51.8354 Q1728.33 53.9013 1728.33 58.8839 Q1728.33 62.8538 1730.92 65.2034 Q1733.55 67.5124 1738.05 67.5124 Q1744.25 67.5124 1747.97 63.1374 Q1751.74 58.7219 1751.74 51.4303 L1751.74 49.7694 L1744.33 49.7694 M1759.19 46.6907 L1759.19 72.576 L1751.74 72.576 L1751.74 65.6895 Q1749.19 69.8214 1745.38 71.8063 Q1741.57 73.7508 1736.06 73.7508 Q1729.1 73.7508 1724.96 69.8619 Q1720.87 65.9325 1720.87 59.3701 Q1720.87 51.7138 1725.98 47.825 Q1731.12 43.9361 1741.29 43.9361 L1751.74 43.9361 L1751.74 43.2069 Q1751.74 38.0623 1748.34 35.2672 Q1744.98 32.4315 1738.86 32.4315 Q1734.97 32.4315 1731.28 33.3632 Q1727.6 34.295 1724.19 36.1584 L1724.19 29.2718 Q1728.29 27.692 1732.13 26.9223 Q1735.98 26.1121 1739.63 26.1121 Q1749.47 26.1121 1754.33 31.2163 Q1759.19 36.3204 1759.19 46.6907 Z\" fill=\"#000000\" fill-rule=\"evenodd\" fill-opacity=\"1\" /><path clip-path=\"url(#clip350)\" d=\"M1781.92 14.324 L1781.92 27.2059 L1797.27 27.2059 L1797.27 32.9987 L1781.92 32.9987 L1781.92 57.6282 Q1781.92 63.1779 1783.42 64.7578 Q1784.96 66.3376 1789.62 66.3376 L1797.27 66.3376 L1797.27 72.576 L1789.62 72.576 Q1780.99 72.576 1777.71 69.3758 Q1774.43 66.1351 1774.43 57.6282 L1774.43 32.9987 L1768.96 32.9987 L1768.96 27.2059 L1774.43 27.2059 L1774.43 14.324 L1781.92 14.324 Z\" fill=\"#000000\" fill-rule=\"evenodd\" fill-opacity=\"1\" /><path clip-path=\"url(#clip350)\" d=\"M1845.88 48.0275 L1845.88 51.6733 L1811.61 51.6733 Q1812.1 59.3701 1816.23 63.421 Q1820.4 67.4314 1827.82 67.4314 Q1832.11 67.4314 1836.12 66.3781 Q1840.17 65.3249 1844.14 63.2184 L1844.14 70.267 Q1840.13 71.9684 1835.92 72.8596 Q1831.71 73.7508 1827.37 73.7508 Q1816.51 73.7508 1810.15 67.4314 Q1803.84 61.1119 1803.84 50.3365 Q1803.84 39.1965 1809.83 32.6746 Q1815.87 26.1121 1826.07 26.1121 Q1835.23 26.1121 1840.54 32.0264 Q1845.88 37.9003 1845.88 48.0275 M1838.43 45.84 Q1838.35 39.7232 1834.99 36.0774 Q1831.66 32.4315 1826.16 32.4315 Q1819.92 32.4315 1816.15 35.9558 Q1812.42 39.4801 1811.86 45.8805 L1838.43 45.84 Z\" fill=\"#000000\" fill-rule=\"evenodd\" fill-opacity=\"1\" /><path clip-path=\"url(#clip350)\" d=\"M1895.83 45.1919 L1895.83 72.576 L1888.38 72.576 L1888.38 45.4349 Q1888.38 38.994 1885.87 35.7938 Q1883.35 32.5936 1878.33 32.5936 Q1872.3 32.5936 1868.81 36.4419 Q1865.33 40.2903 1865.33 46.9338 L1865.33 72.576 L1857.83 72.576 L1857.83 27.2059 L1865.33 27.2059 L1865.33 34.2544 Q1868 30.163 1871.61 28.1376 Q1875.25 26.1121 1879.99 26.1121 Q1887.81 26.1121 1891.82 30.9732 Q1895.83 35.7938 1895.83 45.1919 Z\" fill=\"#000000\" fill-rule=\"evenodd\" fill-opacity=\"1\" /><path clip-path=\"url(#clip350)\" d=\"M1918.07 14.324 L1918.07 27.2059 L1933.42 27.2059 L1933.42 32.9987 L1918.07 32.9987 L1918.07 57.6282 Q1918.07 63.1779 1919.57 64.7578 Q1921.11 66.3376 1925.77 66.3376 L1933.42 66.3376 L1933.42 72.576 L1925.77 72.576 Q1917.14 72.576 1913.86 69.3758 Q1910.58 66.1351 1910.58 57.6282 L1910.58 32.9987 L1905.11 32.9987 L1905.11 27.2059 L1910.58 27.2059 L1910.58 14.324 L1918.07 14.324 Z\" fill=\"#000000\" fill-rule=\"evenodd\" fill-opacity=\"1\" /><path clip-path=\"url(#clip350)\" d=\"M1972.15 28.5427 L1972.15 35.5912 Q1968.99 33.9709 1965.59 33.1607 Q1962.18 32.3505 1958.54 32.3505 Q1952.99 32.3505 1950.19 34.0519 Q1947.44 35.7533 1947.44 39.156 Q1947.44 41.7486 1949.42 43.2475 Q1951.41 44.7058 1957.4 46.0426 L1959.96 46.6097 Q1967.9 48.3111 1971.22 51.4303 Q1974.58 54.509 1974.58 60.0587 Q1974.58 66.3781 1969.56 70.0644 Q1964.57 73.7508 1955.82 73.7508 Q1952.18 73.7508 1948.21 73.0216 Q1944.28 72.3329 1939.9 70.9151 L1939.9 63.2184 Q1944.04 65.3654 1948.05 66.4591 Q1952.06 67.5124 1955.99 67.5124 Q1961.25 67.5124 1964.09 65.73 Q1966.92 63.9071 1966.92 60.6258 Q1966.92 57.5877 1964.86 55.9673 Q1962.83 54.3469 1955.91 52.8481 L1953.31 52.2405 Q1946.39 50.7821 1943.31 47.7845 Q1940.23 44.7463 1940.23 39.4801 Q1940.23 33.0797 1944.77 29.5959 Q1949.3 26.1121 1957.65 26.1121 Q1961.78 26.1121 1965.43 26.7198 Q1969.07 27.3274 1972.15 28.5427 Z\" fill=\"#000000\" fill-rule=\"evenodd\" fill-opacity=\"1\" /><path clip-path=\"url(#clip352)\" d=\"\nM209.891 876.412 L319.389 672.899 L428.886 791.232 L538.384 691.145 L647.881 839.763 L757.379 516.19 L866.876 959.583 L976.373 712.028 L1085.87 790.893 L1195.37 1098.73 \n  L1304.87 1068.22 L1414.36 1447.87 L1523.86 718.242 L1633.36 625.632 L1742.86 982.243 L1852.35 1297.82 L1961.85 1124.76 L2071.35 802.251 L2180.84 1097.8 L2290.34 1205.88 \n  L2290.34 305.807 L2180.84 802.95 L2071.35 560.02 L1961.85 824.418 L1852.35 945.516 L1742.86 712.361 L1633.36 330.666 L1523.86 449.08 L1414.36 1038.81 L1304.87 778.301 \n  L1195.37 808.751 L1085.87 532.188 L976.373 440.311 L866.876 700.33 L757.379 178.167 L647.881 565.601 L538.384 384.136 L428.886 526.972 L319.389 399.036 L209.891 607.054 \n   Z\n  \" fill=\"#009af9\" fill-rule=\"evenodd\" fill-opacity=\"0.5\"/>\n<polyline clip-path=\"url(#clip352)\" style=\"stroke:#009af9; stroke-linecap:butt; stroke-linejoin:round; stroke-width:4; stroke-opacity:1; fill:none\" points=\"\n  209.891,741.733 319.389,535.967 428.886,659.102 538.384,537.641 647.881,702.682 757.379,347.179 866.876,829.957 976.373,576.169 1085.87,661.541 1195.37,953.738 \n  1304.87,923.26 1414.36,1243.34 1523.86,583.661 1633.36,478.149 1742.86,847.302 1852.35,1121.67 1961.85,974.59 2071.35,681.135 2180.84,950.376 2290.34,755.844 \n  \n  \"/>\n<polyline clip-path=\"url(#clip352)\" style=\"stroke:#e26f46; stroke-linecap:butt; stroke-linejoin:round; stroke-width:4; stroke-opacity:1; fill:none\" points=\"\n  209.891,989.812 319.389,544.606 428.886,598.584 538.384,516.456 647.881,895.375 757.379,162.047 866.876,824.695 976.373,639.611 1085.87,690.704 1195.37,886.424 \n  1304.87,991.386 1414.36,1152.82 1523.86,672.852 1633.36,378.666 1742.86,895.541 1852.35,1104.01 1961.85,974.823 2071.35,628.522 2180.84,970.549 2290.34,798.27 \n  \n  \"/>\n<path clip-path=\"url(#clip350)\" d=\"\nM1683.87 324.425 L2279.25 324.425 L2279.25 168.905 L1683.87 168.905  Z\n  \" fill=\"#ffffff\" fill-rule=\"evenodd\" fill-opacity=\"1\"/>\n<polyline clip-path=\"url(#clip350)\" style=\"stroke:#000000; stroke-linecap:butt; stroke-linejoin:round; stroke-width:4; stroke-opacity:1; fill:none\" points=\"\n  1683.87,324.425 2279.25,324.425 2279.25,168.905 1683.87,168.905 1683.87,324.425 \n  \"/>\n<polyline clip-path=\"url(#clip350)\" style=\"stroke:#009af9; stroke-linecap:butt; stroke-linejoin:round; stroke-width:4; stroke-opacity:1; fill:none\" points=\"\n  1708.37,220.745 1855.39,220.745 \n  \"/>\n<path clip-path=\"url(#clip350)\" d=\"M1884.57 207.307 L1884.57 220.293 L1890.45 220.293 Q1893.71 220.293 1895.5 218.603 Q1897.28 216.914 1897.28 213.789 Q1897.28 210.687 1895.5 208.997 Q1893.71 207.307 1890.45 207.307 L1884.57 207.307 M1879.9 203.465 L1890.45 203.465 Q1896.26 203.465 1899.22 206.104 Q1902.21 208.719 1902.21 213.789 Q1902.21 218.904 1899.22 221.52 Q1896.26 224.136 1890.45 224.136 L1884.57 224.136 L1884.57 238.025 L1879.9 238.025 L1879.9 203.465 Z\" fill=\"#000000\" fill-rule=\"evenodd\" fill-opacity=\"1\" /><path clip-path=\"url(#clip350)\" d=\"M1916.65 215.085 Q1913.23 215.085 1911.24 217.77 Q1909.25 220.432 1909.25 225.085 Q1909.25 229.738 1911.21 232.423 Q1913.21 235.085 1916.65 235.085 Q1920.06 235.085 1922.05 232.4 Q1924.04 229.715 1924.04 225.085 Q1924.04 220.478 1922.05 217.793 Q1920.06 215.085 1916.65 215.085 M1916.65 211.474 Q1922.21 211.474 1925.38 215.085 Q1928.55 218.696 1928.55 225.085 Q1928.55 231.451 1925.38 235.085 Q1922.21 238.696 1916.65 238.696 Q1911.08 238.696 1907.9 235.085 Q1904.76 231.451 1904.76 225.085 Q1904.76 218.696 1907.9 215.085 Q1911.08 211.474 1916.65 211.474 Z\" fill=\"#000000\" fill-rule=\"evenodd\" fill-opacity=\"1\" /><path clip-path=\"url(#clip350)\" d=\"M1952.14 212.863 L1952.14 216.891 Q1950.33 215.965 1948.39 215.502 Q1946.45 215.039 1944.36 215.039 Q1941.19 215.039 1939.59 216.011 Q1938.02 216.983 1938.02 218.928 Q1938.02 220.409 1939.15 221.265 Q1940.29 222.099 1943.71 222.863 L1945.17 223.187 Q1949.71 224.159 1951.61 225.941 Q1953.53 227.701 1953.53 230.872 Q1953.53 234.483 1950.66 236.589 Q1947.81 238.696 1942.81 238.696 Q1940.73 238.696 1938.46 238.279 Q1936.21 237.886 1933.71 237.076 L1933.71 232.677 Q1936.08 233.904 1938.37 234.529 Q1940.66 235.131 1942.9 235.131 Q1945.91 235.131 1947.53 234.113 Q1949.15 233.071 1949.15 231.196 Q1949.15 229.46 1947.97 228.534 Q1946.82 227.608 1942.86 226.752 L1941.38 226.404 Q1937.42 225.571 1935.66 223.858 Q1933.9 222.122 1933.9 219.113 Q1933.9 215.455 1936.49 213.465 Q1939.08 211.474 1943.85 211.474 Q1946.21 211.474 1948.3 211.821 Q1950.38 212.168 1952.14 212.863 Z\" fill=\"#000000\" fill-rule=\"evenodd\" fill-opacity=\"1\" /><path clip-path=\"url(#clip350)\" d=\"M1964.52 204.738 L1964.52 212.099 L1973.3 212.099 L1973.3 215.409 L1964.52 215.409 L1964.52 229.483 Q1964.52 232.654 1965.38 233.557 Q1966.26 234.46 1968.92 234.46 L1973.3 234.46 L1973.3 238.025 L1968.92 238.025 Q1963.99 238.025 1962.12 236.196 Q1960.24 234.344 1960.24 229.483 L1960.24 215.409 L1957.12 215.409 L1957.12 212.099 L1960.24 212.099 L1960.24 204.738 L1964.52 204.738 Z\" fill=\"#000000\" fill-rule=\"evenodd\" fill-opacity=\"1\" /><path clip-path=\"url(#clip350)\" d=\"M2001.08 223.997 L2001.08 226.08 L1981.49 226.08 Q1981.77 230.478 1984.13 232.793 Q1986.51 235.085 1990.75 235.085 Q1993.2 235.085 1995.5 234.483 Q1997.81 233.881 2000.08 232.677 L2000.08 236.705 Q1997.79 237.677 1995.38 238.187 Q1992.97 238.696 1990.5 238.696 Q1984.29 238.696 1980.66 235.085 Q1977.05 231.474 1977.05 225.316 Q1977.05 218.951 1980.47 215.224 Q1983.92 211.474 1989.76 211.474 Q1994.99 211.474 1998.02 214.853 Q2001.08 218.21 2001.08 223.997 M1996.82 222.747 Q1996.77 219.252 1994.85 217.168 Q1992.95 215.085 1989.8 215.085 Q1986.24 215.085 1984.08 217.099 Q1981.95 219.113 1981.63 222.77 L1996.82 222.747 Z\" fill=\"#000000\" fill-rule=\"evenodd\" fill-opacity=\"1\" /><path clip-path=\"url(#clip350)\" d=\"M2023.09 216.08 Q2022.37 215.664 2021.51 215.478 Q2020.68 215.27 2019.66 215.27 Q2016.05 215.27 2014.11 217.631 Q2012.19 219.969 2012.19 224.367 L2012.19 238.025 L2007.9 238.025 L2007.9 212.099 L2012.19 212.099 L2012.19 216.127 Q2013.53 213.766 2015.68 212.631 Q2017.83 211.474 2020.91 211.474 Q2021.35 211.474 2021.89 211.543 Q2022.42 211.59 2023.07 211.705 L2023.09 216.08 Z\" fill=\"#000000\" fill-rule=\"evenodd\" fill-opacity=\"1\" /><path clip-path=\"url(#clip350)\" d=\"M2027.56 212.099 L2031.82 212.099 L2031.82 238.025 L2027.56 238.025 L2027.56 212.099 M2027.56 202.006 L2031.82 202.006 L2031.82 207.4 L2027.56 207.4 L2027.56 202.006 Z\" fill=\"#000000\" fill-rule=\"evenodd\" fill-opacity=\"1\" /><path clip-path=\"url(#clip350)\" d=\"M2050.77 215.085 Q2047.35 215.085 2045.36 217.77 Q2043.37 220.432 2043.37 225.085 Q2043.37 229.738 2045.33 232.423 Q2047.32 235.085 2050.77 235.085 Q2054.18 235.085 2056.17 232.4 Q2058.16 229.715 2058.16 225.085 Q2058.16 220.478 2056.17 217.793 Q2054.18 215.085 2050.77 215.085 M2050.77 211.474 Q2056.33 211.474 2059.5 215.085 Q2062.67 218.696 2062.67 225.085 Q2062.67 231.451 2059.5 235.085 Q2056.33 238.696 2050.77 238.696 Q2045.2 238.696 2042.02 235.085 Q2038.88 231.451 2038.88 225.085 Q2038.88 218.696 2042.02 215.085 Q2045.2 211.474 2050.77 211.474 Z\" fill=\"#000000\" fill-rule=\"evenodd\" fill-opacity=\"1\" /><path clip-path=\"url(#clip350)\" d=\"M2084.76 216.08 Q2084.04 215.664 2083.18 215.478 Q2082.35 215.27 2081.33 215.27 Q2077.72 215.27 2075.77 217.631 Q2073.85 219.969 2073.85 224.367 L2073.85 238.025 L2069.57 238.025 L2069.57 212.099 L2073.85 212.099 L2073.85 216.127 Q2075.19 213.766 2077.35 212.631 Q2079.5 211.474 2082.58 211.474 Q2083.02 211.474 2083.55 211.543 Q2084.08 211.59 2084.73 211.705 L2084.76 216.08 Z\" fill=\"#000000\" fill-rule=\"evenodd\" fill-opacity=\"1\" /><path clip-path=\"url(#clip350)\" d=\"M2124.48 217.076 Q2126.07 214.205 2128.3 212.84 Q2130.52 211.474 2133.53 211.474 Q2137.58 211.474 2139.78 214.321 Q2141.98 217.145 2141.98 222.377 L2141.98 238.025 L2137.69 238.025 L2137.69 222.515 Q2137.69 218.789 2136.38 216.983 Q2135.06 215.178 2132.35 215.178 Q2129.04 215.178 2127.12 217.377 Q2125.19 219.576 2125.19 223.372 L2125.19 238.025 L2120.91 238.025 L2120.91 222.515 Q2120.91 218.765 2119.59 216.983 Q2118.27 215.178 2115.52 215.178 Q2112.25 215.178 2110.33 217.4 Q2108.41 219.599 2108.41 223.372 L2108.41 238.025 L2104.13 238.025 L2104.13 212.099 L2108.41 212.099 L2108.41 216.127 Q2109.87 213.742 2111.91 212.608 Q2113.94 211.474 2116.75 211.474 Q2119.57 211.474 2121.54 212.909 Q2123.53 214.344 2124.48 217.076 Z\" fill=\"#000000\" fill-rule=\"evenodd\" fill-opacity=\"1\" /><path clip-path=\"url(#clip350)\" d=\"M2172.65 223.997 L2172.65 226.08 L2153.06 226.08 Q2153.34 230.478 2155.7 232.793 Q2158.09 235.085 2162.32 235.085 Q2164.78 235.085 2167.07 234.483 Q2169.38 233.881 2171.65 232.677 L2171.65 236.705 Q2169.36 237.677 2166.95 238.187 Q2164.55 238.696 2162.07 238.696 Q2155.87 238.696 2152.23 235.085 Q2148.62 231.474 2148.62 225.316 Q2148.62 218.951 2152.05 215.224 Q2155.5 211.474 2161.33 211.474 Q2166.56 211.474 2169.59 214.853 Q2172.65 218.21 2172.65 223.997 M2168.39 222.747 Q2168.34 219.252 2166.42 217.168 Q2164.52 215.085 2161.38 215.085 Q2157.81 215.085 2155.66 217.099 Q2153.53 219.113 2153.2 222.77 L2168.39 222.747 Z\" fill=\"#000000\" fill-rule=\"evenodd\" fill-opacity=\"1\" /><path clip-path=\"url(#clip350)\" d=\"M2191.42 224.992 Q2186.26 224.992 2184.27 226.173 Q2182.28 227.353 2182.28 230.201 Q2182.28 232.469 2183.76 233.812 Q2185.26 235.131 2187.83 235.131 Q2191.37 235.131 2193.5 232.631 Q2195.66 230.108 2195.66 225.941 L2195.66 224.992 L2191.42 224.992 M2199.92 223.233 L2199.92 238.025 L2195.66 238.025 L2195.66 234.089 Q2194.2 236.451 2192.02 237.585 Q2189.85 238.696 2186.7 238.696 Q2182.72 238.696 2180.36 236.474 Q2178.02 234.228 2178.02 230.478 Q2178.02 226.103 2180.94 223.881 Q2183.87 221.659 2189.69 221.659 L2195.66 221.659 L2195.66 221.242 Q2195.66 218.303 2193.71 216.705 Q2191.79 215.085 2188.3 215.085 Q2186.07 215.085 2183.97 215.617 Q2181.86 216.15 2179.92 217.215 L2179.92 213.279 Q2182.25 212.377 2184.45 211.937 Q2186.65 211.474 2188.74 211.474 Q2194.36 211.474 2197.14 214.391 Q2199.92 217.307 2199.92 223.233 Z\" fill=\"#000000\" fill-rule=\"evenodd\" fill-opacity=\"1\" /><path clip-path=\"url(#clip350)\" d=\"M2230.24 222.377 L2230.24 238.025 L2225.98 238.025 L2225.98 222.515 Q2225.98 218.835 2224.55 217.006 Q2223.11 215.178 2220.24 215.178 Q2216.79 215.178 2214.8 217.377 Q2212.81 219.576 2212.81 223.372 L2212.81 238.025 L2208.53 238.025 L2208.53 212.099 L2212.81 212.099 L2212.81 216.127 Q2214.34 213.789 2216.4 212.631 Q2218.48 211.474 2221.19 211.474 Q2225.66 211.474 2227.95 214.252 Q2230.24 217.006 2230.24 222.377 Z\" fill=\"#000000\" fill-rule=\"evenodd\" fill-opacity=\"1\" /><polyline clip-path=\"url(#clip350)\" style=\"stroke:#e26f46; stroke-linecap:butt; stroke-linejoin:round; stroke-width:4; stroke-opacity:1; fill:none\" points=\"\n  1708.37,272.585 1855.39,272.585 \n  \"/>\n<path clip-path=\"url(#clip350)\" d=\"M1879.9 255.305 L1909.13 255.305 L1909.13 259.24 L1896.86 259.24 L1896.86 289.865 L1892.16 289.865 L1892.16 259.24 L1879.9 259.24 L1879.9 255.305 Z\" fill=\"#000000\" fill-rule=\"evenodd\" fill-opacity=\"1\" /><path clip-path=\"url(#clip350)\" d=\"M1921.52 267.92 Q1920.8 267.504 1919.94 267.318 Q1919.11 267.11 1918.09 267.11 Q1914.48 267.11 1912.53 269.471 Q1910.61 271.809 1910.61 276.207 L1910.61 289.865 L1906.33 289.865 L1906.33 263.939 L1910.61 263.939 L1910.61 267.967 Q1911.96 265.606 1914.11 264.471 Q1916.26 263.314 1919.34 263.314 Q1919.78 263.314 1920.31 263.383 Q1920.84 263.43 1921.49 263.545 L1921.52 267.92 Z\" fill=\"#000000\" fill-rule=\"evenodd\" fill-opacity=\"1\" /><path clip-path=\"url(#clip350)\" d=\"M1925.54 279.633 L1925.54 263.939 L1929.8 263.939 L1929.8 279.471 Q1929.8 283.152 1931.24 285.004 Q1932.67 286.832 1935.54 286.832 Q1938.99 286.832 1940.98 284.633 Q1943 282.434 1943 278.638 L1943 263.939 L1947.26 263.939 L1947.26 289.865 L1943 289.865 L1943 285.883 Q1941.45 288.244 1939.39 289.402 Q1937.35 290.536 1934.64 290.536 Q1930.17 290.536 1927.86 287.758 Q1925.54 284.98 1925.54 279.633 M1936.26 263.314 L1936.26 263.314 Z\" fill=\"#000000\" fill-rule=\"evenodd\" fill-opacity=\"1\" /><path clip-path=\"url(#clip350)\" d=\"M1978.2 275.837 L1978.2 277.92 L1958.62 277.92 Q1958.9 282.318 1961.26 284.633 Q1963.64 286.925 1967.88 286.925 Q1970.33 286.925 1972.63 286.323 Q1974.94 285.721 1977.21 284.517 L1977.21 288.545 Q1974.92 289.517 1972.51 290.027 Q1970.1 290.536 1967.63 290.536 Q1961.42 290.536 1957.79 286.925 Q1954.18 283.314 1954.18 277.156 Q1954.18 270.791 1957.6 267.064 Q1961.05 263.314 1966.89 263.314 Q1972.12 263.314 1975.15 266.693 Q1978.2 270.05 1978.2 275.837 M1973.95 274.587 Q1973.9 271.092 1971.98 269.008 Q1970.08 266.925 1966.93 266.925 Q1963.37 266.925 1961.21 268.939 Q1959.08 270.953 1958.76 274.61 L1973.95 274.587 Z\" fill=\"#000000\" fill-rule=\"evenodd\" fill-opacity=\"1\" /><path clip-path=\"url(#clip350)\" d=\"M1997.21 263.939 L2001.72 263.939 L2009.82 285.698 L2017.93 263.939 L2022.44 263.939 L2012.72 289.865 L2006.93 289.865 L1997.21 263.939 Z\" fill=\"#000000\" fill-rule=\"evenodd\" fill-opacity=\"1\" /><path clip-path=\"url(#clip350)\" d=\"M2040.1 276.832 Q2034.94 276.832 2032.95 278.013 Q2030.96 279.193 2030.96 282.041 Q2030.96 284.309 2032.44 285.652 Q2033.95 286.971 2036.51 286.971 Q2040.06 286.971 2042.19 284.471 Q2044.34 281.948 2044.34 277.781 L2044.34 276.832 L2040.1 276.832 M2048.6 275.073 L2048.6 289.865 L2044.34 289.865 L2044.34 285.929 Q2042.88 288.291 2040.7 289.425 Q2038.53 290.536 2035.38 290.536 Q2031.4 290.536 2029.04 288.314 Q2026.7 286.068 2026.7 282.318 Q2026.7 277.943 2029.62 275.721 Q2032.56 273.499 2038.37 273.499 L2044.34 273.499 L2044.34 273.082 Q2044.34 270.143 2042.39 268.545 Q2040.47 266.925 2036.98 266.925 Q2034.76 266.925 2032.65 267.457 Q2030.54 267.99 2028.6 269.055 L2028.6 265.119 Q2030.94 264.217 2033.14 263.777 Q2035.33 263.314 2037.42 263.314 Q2043.04 263.314 2045.82 266.231 Q2048.6 269.147 2048.6 275.073 Z\" fill=\"#000000\" fill-rule=\"evenodd\" fill-opacity=\"1\" /><path clip-path=\"url(#clip350)\" d=\"M2057.37 253.846 L2061.63 253.846 L2061.63 289.865 L2057.37 289.865 L2057.37 253.846 Z\" fill=\"#000000\" fill-rule=\"evenodd\" fill-opacity=\"1\" /><path clip-path=\"url(#clip350)\" d=\"M2070.1 279.633 L2070.1 263.939 L2074.36 263.939 L2074.36 279.471 Q2074.36 283.152 2075.8 285.004 Q2077.23 286.832 2080.1 286.832 Q2083.55 286.832 2085.54 284.633 Q2087.56 282.434 2087.56 278.638 L2087.56 263.939 L2091.82 263.939 L2091.82 289.865 L2087.56 289.865 L2087.56 285.883 Q2086.01 288.244 2083.94 289.402 Q2081.91 290.536 2079.2 290.536 Q2074.73 290.536 2072.42 287.758 Q2070.1 284.98 2070.1 279.633 M2080.82 263.314 L2080.82 263.314 Z\" fill=\"#000000\" fill-rule=\"evenodd\" fill-opacity=\"1\" /><path clip-path=\"url(#clip350)\" d=\"M2122.76 275.837 L2122.76 277.92 L2103.18 277.92 Q2103.46 282.318 2105.82 284.633 Q2108.2 286.925 2112.44 286.925 Q2114.89 286.925 2117.19 286.323 Q2119.5 285.721 2121.77 284.517 L2121.77 288.545 Q2119.48 289.517 2117.07 290.027 Q2114.66 290.536 2112.19 290.536 Q2105.98 290.536 2102.35 286.925 Q2098.74 283.314 2098.74 277.156 Q2098.74 270.791 2102.16 267.064 Q2105.61 263.314 2111.44 263.314 Q2116.68 263.314 2119.71 266.693 Q2122.76 270.05 2122.76 275.837 M2118.5 274.587 Q2118.46 271.092 2116.54 269.008 Q2114.64 266.925 2111.49 266.925 Q2107.93 266.925 2105.77 268.939 Q2103.64 270.953 2103.32 274.61 L2118.5 274.587 Z\" fill=\"#000000\" fill-rule=\"evenodd\" fill-opacity=\"1\" /><path clip-path=\"url(#clip350)\" d=\"M2146.28 264.703 L2146.28 268.731 Q2144.48 267.805 2142.53 267.342 Q2140.59 266.879 2138.5 266.879 Q2135.33 266.879 2133.74 267.851 Q2132.16 268.823 2132.16 270.768 Q2132.16 272.249 2133.3 273.105 Q2134.43 273.939 2137.86 274.703 L2139.32 275.027 Q2143.85 275.999 2145.75 277.781 Q2147.67 279.541 2147.67 282.712 Q2147.67 286.323 2144.8 288.429 Q2141.95 290.536 2136.95 290.536 Q2134.87 290.536 2132.6 290.119 Q2130.36 289.726 2127.86 288.916 L2127.86 284.517 Q2130.22 285.744 2132.51 286.369 Q2134.8 286.971 2137.05 286.971 Q2140.06 286.971 2141.68 285.953 Q2143.3 284.911 2143.3 283.036 Q2143.3 281.3 2142.12 280.374 Q2140.96 279.448 2137 278.592 L2135.52 278.244 Q2131.56 277.411 2129.8 275.698 Q2128.04 273.962 2128.04 270.953 Q2128.04 267.295 2130.63 265.305 Q2133.23 263.314 2138 263.314 Q2140.36 263.314 2142.44 263.661 Q2144.52 264.008 2146.28 264.703 Z\" fill=\"#000000\" fill-rule=\"evenodd\" fill-opacity=\"1\" /></svg>\n"
     },
     "execution_count": 21,
     "metadata": {},
     "output_type": "execute_result"
    }
   ],
   "source": [
    "symbol_to_int(s) = parse(Int, string(s)[9:end-1])\n",
    "ϵ_chain = sort(chain_1_joint[:, [Symbol(\"ϵ_draw[$a]\") for a in 1:21], 1], lt = (x,y) -> symbol_to_int(x) < symbol_to_int(y))\n",
    "tmp = describe(ϵ_chain)\n",
    "ϵ_mean = tmp[1][:, 2]\n",
    "ϵ_std = tmp[1][:, 3]\n",
    "plot(ϵ_mean[2:end], ribbon=2 * ϵ_std[2:end], label=\"Posterior mean\", title = \"First-Order Joint: Estimated Latents\")\n",
    "plot!(ϵ', label=\"True values\")"
   ]
  },
  {
   "cell_type": "code",
   "execution_count": 22,
   "metadata": {},
   "outputs": [
    {
     "data": {
      "image/svg+xml": "<?xml version=\"1.0\" encoding=\"utf-8\"?>\n<svg xmlns=\"http://www.w3.org/2000/svg\" xmlns:xlink=\"http://www.w3.org/1999/xlink\" width=\"600\" height=\"400\" viewBox=\"0 0 2400 1600\">\n<defs>\n  <clipPath id=\"clip390\">\n    <rect x=\"0\" y=\"0\" width=\"2400\" height=\"1600\"/>\n  </clipPath>\n</defs>\n<path clip-path=\"url(#clip390)\" d=\"\nM0 1600 L2400 1600 L2400 0 L0 0  Z\n  \" fill=\"#ffffff\" fill-rule=\"evenodd\" fill-opacity=\"1\"/>\n<defs>\n  <clipPath id=\"clip391\">\n    <rect x=\"480\" y=\"0\" width=\"1681\" height=\"1600\"/>\n  </clipPath>\n</defs>\n<path clip-path=\"url(#clip390)\" d=\"\nM147.478 1486.45 L2352.76 1486.45 L2352.76 123.472 L147.478 123.472  Z\n  \" fill=\"#ffffff\" fill-rule=\"evenodd\" fill-opacity=\"1\"/>\n<defs>\n  <clipPath id=\"clip392\">\n    <rect x=\"147\" y=\"123\" width=\"2206\" height=\"1364\"/>\n  </clipPath>\n</defs>\n<polyline clip-path=\"url(#clip392)\" style=\"stroke:#000000; stroke-linecap:butt; stroke-linejoin:round; stroke-width:2; stroke-opacity:0.1; fill:none\" points=\"\n  647.881,1486.45 647.881,123.472 \n  \"/>\n<polyline clip-path=\"url(#clip392)\" style=\"stroke:#000000; stroke-linecap:butt; stroke-linejoin:round; stroke-width:2; stroke-opacity:0.1; fill:none\" points=\"\n  1195.37,1486.45 1195.37,123.472 \n  \"/>\n<polyline clip-path=\"url(#clip392)\" style=\"stroke:#000000; stroke-linecap:butt; stroke-linejoin:round; stroke-width:2; stroke-opacity:0.1; fill:none\" points=\"\n  1742.86,1486.45 1742.86,123.472 \n  \"/>\n<polyline clip-path=\"url(#clip392)\" style=\"stroke:#000000; stroke-linecap:butt; stroke-linejoin:round; stroke-width:2; stroke-opacity:0.1; fill:none\" points=\"\n  2290.34,1486.45 2290.34,123.472 \n  \"/>\n<polyline clip-path=\"url(#clip390)\" style=\"stroke:#000000; stroke-linecap:butt; stroke-linejoin:round; stroke-width:4; stroke-opacity:1; fill:none\" points=\"\n  147.478,1486.45 2352.76,1486.45 \n  \"/>\n<polyline clip-path=\"url(#clip390)\" style=\"stroke:#000000; stroke-linecap:butt; stroke-linejoin:round; stroke-width:4; stroke-opacity:1; fill:none\" points=\"\n  647.881,1486.45 647.881,1467.55 \n  \"/>\n<polyline clip-path=\"url(#clip390)\" style=\"stroke:#000000; stroke-linecap:butt; stroke-linejoin:round; stroke-width:4; stroke-opacity:1; fill:none\" points=\"\n  1195.37,1486.45 1195.37,1467.55 \n  \"/>\n<polyline clip-path=\"url(#clip390)\" style=\"stroke:#000000; stroke-linecap:butt; stroke-linejoin:round; stroke-width:4; stroke-opacity:1; fill:none\" points=\"\n  1742.86,1486.45 1742.86,1467.55 \n  \"/>\n<polyline clip-path=\"url(#clip390)\" style=\"stroke:#000000; stroke-linecap:butt; stroke-linejoin:round; stroke-width:4; stroke-opacity:1; fill:none\" points=\"\n  2290.34,1486.45 2290.34,1467.55 \n  \"/>\n<path clip-path=\"url(#clip390)\" d=\"M638.159 1514.29 L656.515 1514.29 L656.515 1518.22 L642.441 1518.22 L642.441 1526.7 Q643.46 1526.35 644.478 1526.19 Q645.497 1526 646.515 1526 Q652.302 1526 655.682 1529.17 Q659.062 1532.34 659.062 1537.76 Q659.062 1543.34 655.589 1546.44 Q652.117 1549.52 645.798 1549.52 Q643.622 1549.52 641.353 1549.15 Q639.108 1548.78 636.701 1548.04 L636.701 1543.34 Q638.784 1544.47 641.006 1545.03 Q643.228 1545.58 645.705 1545.58 Q649.71 1545.58 652.048 1543.48 Q654.386 1541.37 654.386 1537.76 Q654.386 1534.15 652.048 1532.04 Q649.71 1529.94 645.705 1529.94 Q643.83 1529.94 641.955 1530.35 Q640.103 1530.77 638.159 1531.65 L638.159 1514.29 Z\" fill=\"#000000\" fill-rule=\"evenodd\" fill-opacity=\"1\" /><path clip-path=\"url(#clip390)\" d=\"M1170.06 1544.91 L1177.69 1544.91 L1177.69 1518.55 L1169.38 1520.21 L1169.38 1515.95 L1177.65 1514.29 L1182.32 1514.29 L1182.32 1544.91 L1189.96 1544.91 L1189.96 1548.85 L1170.06 1548.85 L1170.06 1544.91 Z\" fill=\"#000000\" fill-rule=\"evenodd\" fill-opacity=\"1\" /><path clip-path=\"url(#clip390)\" d=\"M1209.41 1517.37 Q1205.8 1517.37 1203.97 1520.93 Q1202.16 1524.47 1202.16 1531.6 Q1202.16 1538.71 1203.97 1542.27 Q1205.8 1545.82 1209.41 1545.82 Q1213.04 1545.82 1214.85 1542.27 Q1216.68 1538.71 1216.68 1531.6 Q1216.68 1524.47 1214.85 1520.93 Q1213.04 1517.37 1209.41 1517.37 M1209.41 1513.66 Q1215.22 1513.66 1218.27 1518.27 Q1221.35 1522.85 1221.35 1531.6 Q1221.35 1540.33 1218.27 1544.94 Q1215.22 1549.52 1209.41 1549.52 Q1203.6 1549.52 1200.52 1544.94 Q1197.46 1540.33 1197.46 1531.6 Q1197.46 1522.85 1200.52 1518.27 Q1203.6 1513.66 1209.41 1513.66 Z\" fill=\"#000000\" fill-rule=\"evenodd\" fill-opacity=\"1\" /><path clip-path=\"url(#clip390)\" d=\"M1718.04 1544.91 L1725.68 1544.91 L1725.68 1518.55 L1717.37 1520.21 L1717.37 1515.95 L1725.63 1514.29 L1730.31 1514.29 L1730.31 1544.91 L1737.95 1544.91 L1737.95 1548.85 L1718.04 1548.85 L1718.04 1544.91 Z\" fill=\"#000000\" fill-rule=\"evenodd\" fill-opacity=\"1\" /><path clip-path=\"url(#clip390)\" d=\"M1747.44 1514.29 L1765.79 1514.29 L1765.79 1518.22 L1751.72 1518.22 L1751.72 1526.7 Q1752.74 1526.35 1753.76 1526.19 Q1754.78 1526 1755.8 1526 Q1761.58 1526 1764.96 1529.17 Q1768.34 1532.34 1768.34 1537.76 Q1768.34 1543.34 1764.87 1546.44 Q1761.4 1549.52 1755.08 1549.52 Q1752.9 1549.52 1750.63 1549.15 Q1748.39 1548.78 1745.98 1548.04 L1745.98 1543.34 Q1748.06 1544.47 1750.29 1545.03 Q1752.51 1545.58 1754.98 1545.58 Q1758.99 1545.58 1761.33 1543.48 Q1763.67 1541.37 1763.67 1537.76 Q1763.67 1534.15 1761.33 1532.04 Q1758.99 1529.94 1754.98 1529.94 Q1753.11 1529.94 1751.23 1530.35 Q1749.38 1530.77 1747.44 1531.65 L1747.44 1514.29 Z\" fill=\"#000000\" fill-rule=\"evenodd\" fill-opacity=\"1\" /><path clip-path=\"url(#clip390)\" d=\"M2269.12 1544.91 L2285.43 1544.91 L2285.43 1548.85 L2263.49 1548.85 L2263.49 1544.91 Q2266.15 1542.16 2270.74 1537.53 Q2275.34 1532.88 2276.52 1531.53 Q2278.77 1529.01 2279.65 1527.27 Q2280.55 1525.51 2280.55 1523.82 Q2280.55 1521.07 2278.61 1519.33 Q2276.69 1517.6 2273.58 1517.6 Q2271.38 1517.6 2268.93 1518.36 Q2266.5 1519.13 2263.72 1520.68 L2263.72 1515.95 Q2266.55 1514.82 2269 1514.24 Q2271.45 1513.66 2273.49 1513.66 Q2278.86 1513.66 2282.06 1516.35 Q2285.25 1519.03 2285.25 1523.52 Q2285.25 1525.65 2284.44 1527.57 Q2283.65 1529.47 2281.55 1532.07 Q2280.97 1532.74 2277.87 1535.95 Q2274.76 1539.15 2269.12 1544.91 Z\" fill=\"#000000\" fill-rule=\"evenodd\" fill-opacity=\"1\" /><path clip-path=\"url(#clip390)\" d=\"M2305.25 1517.37 Q2301.64 1517.37 2299.81 1520.93 Q2298 1524.47 2298 1531.6 Q2298 1538.71 2299.81 1542.27 Q2301.64 1545.82 2305.25 1545.82 Q2308.88 1545.82 2310.69 1542.27 Q2312.52 1538.71 2312.52 1531.6 Q2312.52 1524.47 2310.69 1520.93 Q2308.88 1517.37 2305.25 1517.37 M2305.25 1513.66 Q2311.06 1513.66 2314.12 1518.27 Q2317.19 1522.85 2317.19 1531.6 Q2317.19 1540.33 2314.12 1544.94 Q2311.06 1549.52 2305.25 1549.52 Q2299.44 1549.52 2296.36 1544.94 Q2293.31 1540.33 2293.31 1531.6 Q2293.31 1522.85 2296.36 1518.27 Q2299.44 1513.66 2305.25 1513.66 Z\" fill=\"#000000\" fill-rule=\"evenodd\" fill-opacity=\"1\" /><polyline clip-path=\"url(#clip392)\" style=\"stroke:#000000; stroke-linecap:butt; stroke-linejoin:round; stroke-width:2; stroke-opacity:0.1; fill:none\" points=\"\n  147.478,1245.35 2352.76,1245.35 \n  \"/>\n<polyline clip-path=\"url(#clip392)\" style=\"stroke:#000000; stroke-linecap:butt; stroke-linejoin:round; stroke-width:2; stroke-opacity:0.1; fill:none\" points=\"\n  147.478,983.251 2352.76,983.251 \n  \"/>\n<polyline clip-path=\"url(#clip392)\" style=\"stroke:#000000; stroke-linecap:butt; stroke-linejoin:round; stroke-width:2; stroke-opacity:0.1; fill:none\" points=\"\n  147.478,721.15 2352.76,721.15 \n  \"/>\n<polyline clip-path=\"url(#clip392)\" style=\"stroke:#000000; stroke-linecap:butt; stroke-linejoin:round; stroke-width:2; stroke-opacity:0.1; fill:none\" points=\"\n  147.478,459.05 2352.76,459.05 \n  \"/>\n<polyline clip-path=\"url(#clip392)\" style=\"stroke:#000000; stroke-linecap:butt; stroke-linejoin:round; stroke-width:2; stroke-opacity:0.1; fill:none\" points=\"\n  147.478,196.95 2352.76,196.95 \n  \"/>\n<polyline clip-path=\"url(#clip390)\" style=\"stroke:#000000; stroke-linecap:butt; stroke-linejoin:round; stroke-width:4; stroke-opacity:1; fill:none\" points=\"\n  147.478,1486.45 147.478,123.472 \n  \"/>\n<polyline clip-path=\"url(#clip390)\" style=\"stroke:#000000; stroke-linecap:butt; stroke-linejoin:round; stroke-width:4; stroke-opacity:1; fill:none\" points=\"\n  147.478,1245.35 166.376,1245.35 \n  \"/>\n<polyline clip-path=\"url(#clip390)\" style=\"stroke:#000000; stroke-linecap:butt; stroke-linejoin:round; stroke-width:4; stroke-opacity:1; fill:none\" points=\"\n  147.478,983.251 166.376,983.251 \n  \"/>\n<polyline clip-path=\"url(#clip390)\" style=\"stroke:#000000; stroke-linecap:butt; stroke-linejoin:round; stroke-width:4; stroke-opacity:1; fill:none\" points=\"\n  147.478,721.15 166.376,721.15 \n  \"/>\n<polyline clip-path=\"url(#clip390)\" style=\"stroke:#000000; stroke-linecap:butt; stroke-linejoin:round; stroke-width:4; stroke-opacity:1; fill:none\" points=\"\n  147.478,459.05 166.376,459.05 \n  \"/>\n<polyline clip-path=\"url(#clip390)\" style=\"stroke:#000000; stroke-linecap:butt; stroke-linejoin:round; stroke-width:4; stroke-opacity:1; fill:none\" points=\"\n  147.478,196.95 166.376,196.95 \n  \"/>\n<path clip-path=\"url(#clip390)\" d=\"M51.3625 1245.8 L81.0383 1245.8 L81.0383 1249.74 L51.3625 1249.74 L51.3625 1245.8 Z\" fill=\"#000000\" fill-rule=\"evenodd\" fill-opacity=\"1\" /><path clip-path=\"url(#clip390)\" d=\"M95.1586 1258.7 L111.478 1258.7 L111.478 1262.63 L89.5336 1262.63 L89.5336 1258.7 Q92.1956 1255.94 96.7789 1251.31 Q101.385 1246.66 102.566 1245.32 Q104.811 1242.79 105.691 1241.06 Q106.594 1239.3 106.594 1237.61 Q106.594 1234.85 104.649 1233.12 Q102.728 1231.38 99.6261 1231.38 Q97.4271 1231.38 94.9734 1232.14 Q92.5428 1232.91 89.7651 1234.46 L89.7651 1229.74 Q92.5891 1228.6 95.0428 1228.02 Q97.4965 1227.45 99.5335 1227.45 Q104.904 1227.45 108.098 1230.13 Q111.293 1232.82 111.293 1237.31 Q111.293 1239.44 110.483 1241.36 Q109.696 1243.26 107.589 1245.85 Q107.01 1246.52 103.909 1249.74 Q100.807 1252.93 95.1586 1258.7 Z\" fill=\"#000000\" fill-rule=\"evenodd\" fill-opacity=\"1\" /><path clip-path=\"url(#clip390)\" d=\"M50.9921 983.702 L80.6679 983.702 L80.6679 987.637 L50.9921 987.637 L50.9921 983.702 Z\" fill=\"#000000\" fill-rule=\"evenodd\" fill-opacity=\"1\" /><path clip-path=\"url(#clip390)\" d=\"M91.5706 996.595 L99.2095 996.595 L99.2095 970.23 L90.8993 971.896 L90.8993 967.637 L99.1632 965.971 L103.839 965.971 L103.839 996.595 L111.478 996.595 L111.478 1000.53 L91.5706 1000.53 L91.5706 996.595 Z\" fill=\"#000000\" fill-rule=\"evenodd\" fill-opacity=\"1\" /><path clip-path=\"url(#clip390)\" d=\"M99.5335 706.949 Q95.9224 706.949 94.0937 710.514 Q92.2882 714.055 92.2882 721.185 Q92.2882 728.291 94.0937 731.856 Q95.9224 735.398 99.5335 735.398 Q103.168 735.398 104.973 731.856 Q106.802 728.291 106.802 721.185 Q106.802 714.055 104.973 710.514 Q103.168 706.949 99.5335 706.949 M99.5335 703.245 Q105.344 703.245 108.399 707.852 Q111.478 712.435 111.478 721.185 Q111.478 729.912 108.399 734.518 Q105.344 739.102 99.5335 739.102 Q93.7234 739.102 90.6447 734.518 Q87.5892 729.912 87.5892 721.185 Q87.5892 712.435 90.6447 707.852 Q93.7234 703.245 99.5335 703.245 Z\" fill=\"#000000\" fill-rule=\"evenodd\" fill-opacity=\"1\" /><path clip-path=\"url(#clip390)\" d=\"M91.5706 472.395 L99.2095 472.395 L99.2095 446.029 L90.8993 447.696 L90.8993 443.437 L99.1632 441.77 L103.839 441.77 L103.839 472.395 L111.478 472.395 L111.478 476.33 L91.5706 476.33 L91.5706 472.395 Z\" fill=\"#000000\" fill-rule=\"evenodd\" fill-opacity=\"1\" /><path clip-path=\"url(#clip390)\" d=\"M95.1586 210.295 L111.478 210.295 L111.478 214.23 L89.5336 214.23 L89.5336 210.295 Q92.1956 207.54 96.7789 202.91 Q101.385 198.258 102.566 196.915 Q104.811 194.392 105.691 192.656 Q106.594 190.896 106.594 189.207 Q106.594 186.452 104.649 184.716 Q102.728 182.98 99.6261 182.98 Q97.4271 182.98 94.9734 183.744 Q92.5428 184.508 89.7651 186.059 L89.7651 181.336 Q92.5891 180.202 95.0428 179.623 Q97.4965 179.045 99.5335 179.045 Q104.904 179.045 108.098 181.73 Q111.293 184.415 111.293 188.906 Q111.293 191.035 110.483 192.957 Q109.696 194.855 107.589 197.447 Q107.01 198.119 103.909 201.336 Q100.807 204.531 95.1586 210.295 Z\" fill=\"#000000\" fill-rule=\"evenodd\" fill-opacity=\"1\" /><path clip-path=\"url(#clip390)\" d=\"M497.884 14.0809 L497.884 22.0612 Q493.226 19.8332 489.094 18.7395 Q484.962 17.6457 481.114 17.6457 Q474.43 17.6457 470.784 20.2383 Q467.178 22.8309 467.178 27.611 Q467.178 31.6214 469.568 33.6873 Q471.999 35.7128 478.723 36.9686 L483.666 37.9813 Q492.821 39.7232 497.155 44.1387 Q501.53 48.5136 501.53 55.8863 Q501.53 64.6767 495.616 69.2137 Q489.742 73.7508 478.359 73.7508 Q474.065 73.7508 469.204 72.7785 Q464.383 71.8063 459.198 69.9024 L459.198 61.4765 Q464.181 64.2716 468.961 65.6895 Q473.741 67.1073 478.359 67.1073 Q485.367 67.1073 489.175 64.3527 Q492.983 61.598 492.983 56.4939 Q492.983 52.0379 490.228 49.5264 Q487.514 47.0148 481.276 45.759 L476.293 44.7868 Q467.138 42.9639 463.046 39.075 Q458.955 35.1862 458.955 28.2591 Q458.955 20.2383 464.586 15.6203 Q470.257 11.0023 480.182 11.0023 Q484.435 11.0023 488.851 11.7719 Q493.266 12.5416 497.884 14.0809 Z\" fill=\"#000000\" fill-rule=\"evenodd\" fill-opacity=\"1\" /><path clip-path=\"url(#clip390)\" d=\"M552.774 48.0275 L552.774 51.6733 L518.503 51.6733 Q518.989 59.3701 523.121 63.421 Q527.294 67.4314 534.707 67.4314 Q539.001 67.4314 543.011 66.3781 Q547.062 65.3249 551.032 63.2184 L551.032 70.267 Q547.022 71.9684 542.809 72.8596 Q538.596 73.7508 534.261 73.7508 Q523.405 73.7508 517.045 67.4314 Q510.726 61.1119 510.726 50.3365 Q510.726 39.1965 516.721 32.6746 Q522.757 26.1121 532.965 26.1121 Q542.12 26.1121 547.427 32.0264 Q552.774 37.9003 552.774 48.0275 M545.32 45.84 Q545.239 39.7232 541.877 36.0774 Q538.555 32.4315 533.046 32.4315 Q526.808 32.4315 523.04 35.9558 Q519.314 39.4801 518.746 45.8805 L545.32 45.84 Z\" fill=\"#000000\" fill-rule=\"evenodd\" fill-opacity=\"1\" /><path clip-path=\"url(#clip390)\" d=\"M597.658 28.9478 L597.658 35.9153 Q594.498 34.1734 591.298 33.3227 Q588.138 32.4315 584.898 32.4315 Q577.647 32.4315 573.636 37.0496 Q569.626 41.6271 569.626 49.9314 Q569.626 58.2358 573.636 62.8538 Q577.647 67.4314 584.898 67.4314 Q588.138 67.4314 591.298 66.5807 Q594.498 65.6895 597.658 63.9476 L597.658 70.8341 Q594.539 72.2924 591.177 73.0216 Q587.855 73.7508 584.087 73.7508 Q573.839 73.7508 567.803 67.3098 Q561.767 60.8689 561.767 49.9314 Q561.767 38.832 567.843 32.472 Q573.96 26.1121 584.574 26.1121 Q588.017 26.1121 591.298 26.8413 Q594.579 27.5299 597.658 28.9478 Z\" fill=\"#000000\" fill-rule=\"evenodd\" fill-opacity=\"1\" /><path clip-path=\"url(#clip390)\" d=\"M628.202 32.4315 Q622.207 32.4315 618.723 37.1306 Q615.239 41.7891 615.239 49.9314 Q615.239 58.0738 618.682 62.7728 Q622.166 67.4314 628.202 67.4314 Q634.157 67.4314 637.64 62.7323 Q641.124 58.0333 641.124 49.9314 Q641.124 41.8701 637.64 37.1711 Q634.157 32.4315 628.202 32.4315 M628.202 26.1121 Q637.924 26.1121 643.474 32.4315 Q649.023 38.7509 649.023 49.9314 Q649.023 61.0714 643.474 67.4314 Q637.924 73.7508 628.202 73.7508 Q618.439 73.7508 612.889 67.4314 Q607.38 61.0714 607.38 49.9314 Q607.38 38.7509 612.889 32.4315 Q618.439 26.1121 628.202 26.1121 Z\" fill=\"#000000\" fill-rule=\"evenodd\" fill-opacity=\"1\" /><path clip-path=\"url(#clip390)\" d=\"M699.093 45.1919 L699.093 72.576 L691.639 72.576 L691.639 45.4349 Q691.639 38.994 689.127 35.7938 Q686.616 32.5936 681.593 32.5936 Q675.557 32.5936 672.073 36.4419 Q668.589 40.2903 668.589 46.9338 L668.589 72.576 L661.095 72.576 L661.095 27.2059 L668.589 27.2059 L668.589 34.2544 Q671.263 30.163 674.868 28.1376 Q678.514 26.1121 683.254 26.1121 Q691.072 26.1121 695.082 30.9732 Q699.093 35.7938 699.093 45.1919 Z\" fill=\"#000000\" fill-rule=\"evenodd\" fill-opacity=\"1\" /><path clip-path=\"url(#clip390)\" d=\"M743.815 34.0924 L743.815 9.54393 L751.268 9.54393 L751.268 72.576 L743.815 72.576 L743.815 65.7705 Q741.465 69.8214 737.86 71.8063 Q734.295 73.7508 729.272 73.7508 Q721.049 73.7508 715.863 67.1883 Q710.719 60.6258 710.719 49.9314 Q710.719 39.2371 715.863 32.6746 Q721.049 26.1121 729.272 26.1121 Q734.295 26.1121 737.86 28.0971 Q741.465 30.0415 743.815 34.0924 M718.415 49.9314 Q718.415 58.1548 721.778 62.8538 Q725.18 67.5124 731.095 67.5124 Q737.009 67.5124 740.412 62.8538 Q743.815 58.1548 743.815 49.9314 Q743.815 41.7081 740.412 37.0496 Q737.009 32.3505 731.095 32.3505 Q725.18 32.3505 721.778 37.0496 Q718.415 41.7081 718.415 49.9314 Z\" fill=\"#000000\" fill-rule=\"evenodd\" fill-opacity=\"1\" /><path clip-path=\"url(#clip390)\" d=\"M762.854 46.5287 L784.688 46.5287 L784.688 53.1722 L762.854 53.1722 L762.854 46.5287 Z\" fill=\"#000000\" fill-rule=\"evenodd\" fill-opacity=\"1\" /><path clip-path=\"url(#clip390)\" d=\"M823.739 17.6457 Q814.827 17.6457 809.561 24.2892 Q804.335 30.9327 804.335 42.3968 Q804.335 53.8203 809.561 60.4638 Q814.827 67.1073 823.739 67.1073 Q832.651 67.1073 837.836 60.4638 Q843.062 53.8203 843.062 42.3968 Q843.062 30.9327 837.836 24.2892 Q832.651 17.6457 823.739 17.6457 M823.739 11.0023 Q836.459 11.0023 844.075 19.5497 Q851.69 28.0566 851.69 42.3968 Q851.69 56.6965 844.075 65.2439 Q836.459 73.7508 823.739 73.7508 Q810.979 73.7508 803.322 65.2439 Q795.707 56.737 795.707 42.3968 Q795.707 28.0566 803.322 19.5497 Q810.979 11.0023 823.739 11.0023 Z\" fill=\"#000000\" fill-rule=\"evenodd\" fill-opacity=\"1\" /><path clip-path=\"url(#clip390)\" d=\"M890.457 34.1734 Q889.202 33.4443 887.703 33.1202 Q886.244 32.7556 884.462 32.7556 Q878.143 32.7556 874.74 36.8875 Q871.378 40.9789 871.378 48.6757 L871.378 72.576 L863.883 72.576 L863.883 27.2059 L871.378 27.2059 L871.378 34.2544 Q873.727 30.1225 877.494 28.1376 Q881.262 26.1121 886.65 26.1121 Q887.419 26.1121 888.351 26.2337 Q889.283 26.3147 890.417 26.5172 L890.457 34.1734 Z\" fill=\"#000000\" fill-rule=\"evenodd\" fill-opacity=\"1\" /><path clip-path=\"url(#clip390)\" d=\"M926.672 34.0924 L926.672 9.54393 L934.126 9.54393 L934.126 72.576 L926.672 72.576 L926.672 65.7705 Q924.323 69.8214 920.718 71.8063 Q917.153 73.7508 912.13 73.7508 Q903.906 73.7508 898.721 67.1883 Q893.577 60.6258 893.577 49.9314 Q893.577 39.2371 898.721 32.6746 Q903.906 26.1121 912.13 26.1121 Q917.153 26.1121 920.718 28.0971 Q924.323 30.0415 926.672 34.0924 M901.273 49.9314 Q901.273 58.1548 904.636 62.8538 Q908.038 67.5124 913.953 67.5124 Q919.867 67.5124 923.27 62.8538 Q926.672 58.1548 926.672 49.9314 Q926.672 41.7081 923.27 37.0496 Q919.867 32.3505 913.953 32.3505 Q908.038 32.3505 904.636 37.0496 Q901.273 41.7081 901.273 49.9314 Z\" fill=\"#000000\" fill-rule=\"evenodd\" fill-opacity=\"1\" /><path clip-path=\"url(#clip390)\" d=\"M988.287 48.0275 L988.287 51.6733 L954.016 51.6733 Q954.502 59.3701 958.634 63.421 Q962.807 67.4314 970.22 67.4314 Q974.514 67.4314 978.524 66.3781 Q982.575 65.3249 986.545 63.2184 L986.545 70.267 Q982.534 71.9684 978.321 72.8596 Q974.109 73.7508 969.774 73.7508 Q958.918 73.7508 952.558 67.4314 Q946.238 61.1119 946.238 50.3365 Q946.238 39.1965 952.234 32.6746 Q958.27 26.1121 968.478 26.1121 Q977.633 26.1121 982.94 32.0264 Q988.287 37.9003 988.287 48.0275 M980.833 45.84 Q980.752 39.7232 977.39 36.0774 Q974.068 32.4315 968.559 32.4315 Q962.32 32.4315 958.553 35.9558 Q954.826 39.4801 954.259 45.8805 L980.833 45.84 Z\" fill=\"#000000\" fill-rule=\"evenodd\" fill-opacity=\"1\" /><path clip-path=\"url(#clip390)\" d=\"M1026.81 34.1734 Q1025.56 33.4443 1024.06 33.1202 Q1022.6 32.7556 1020.82 32.7556 Q1014.5 32.7556 1011.09 36.8875 Q1007.73 40.9789 1007.73 48.6757 L1007.73 72.576 L1000.24 72.576 L1000.24 27.2059 L1007.73 27.2059 L1007.73 34.2544 Q1010.08 30.1225 1013.85 28.1376 Q1017.62 26.1121 1023 26.1121 Q1023.77 26.1121 1024.7 26.2337 Q1025.64 26.3147 1026.77 26.5172 L1026.81 34.1734 Z\" fill=\"#000000\" fill-rule=\"evenodd\" fill-opacity=\"1\" /><path clip-path=\"url(#clip390)\" d=\"M1061.32 12.096 L1069.51 12.096 L1069.51 68.3631 Q1069.51 79.3005 1065.33 84.2426 Q1061.2 89.1847 1052.01 89.1847 L1048.89 89.1847 L1048.89 82.2982 L1051.44 82.2982 Q1056.87 82.2982 1059.1 79.26 Q1061.32 76.2218 1061.32 68.3631 L1061.32 12.096 Z\" fill=\"#000000\" fill-rule=\"evenodd\" fill-opacity=\"1\" /><path clip-path=\"url(#clip390)\" d=\"M1103.05 32.4315 Q1097.05 32.4315 1093.57 37.1306 Q1090.09 41.7891 1090.09 49.9314 Q1090.09 58.0738 1093.53 62.7728 Q1097.01 67.4314 1103.05 67.4314 Q1109 67.4314 1112.49 62.7323 Q1115.97 58.0333 1115.97 49.9314 Q1115.97 41.8701 1112.49 37.1711 Q1109 32.4315 1103.05 32.4315 M1103.05 26.1121 Q1112.77 26.1121 1118.32 32.4315 Q1123.87 38.7509 1123.87 49.9314 Q1123.87 61.0714 1118.32 67.4314 Q1112.77 73.7508 1103.05 73.7508 Q1093.29 73.7508 1087.74 67.4314 Q1082.23 61.0714 1082.23 49.9314 Q1082.23 38.7509 1087.74 32.4315 Q1093.29 26.1121 1103.05 26.1121 Z\" fill=\"#000000\" fill-rule=\"evenodd\" fill-opacity=\"1\" /><path clip-path=\"url(#clip390)\" d=\"M1136.23 27.2059 L1143.68 27.2059 L1143.68 72.576 L1136.23 72.576 L1136.23 27.2059 M1136.23 9.54393 L1143.68 9.54393 L1143.68 18.9825 L1136.23 18.9825 L1136.23 9.54393 Z\" fill=\"#000000\" fill-rule=\"evenodd\" fill-opacity=\"1\" /><path clip-path=\"url(#clip390)\" d=\"M1196.99 45.1919 L1196.99 72.576 L1189.54 72.576 L1189.54 45.4349 Q1189.54 38.994 1187.02 35.7938 Q1184.51 32.5936 1179.49 32.5936 Q1173.45 32.5936 1169.97 36.4419 Q1166.49 40.2903 1166.49 46.9338 L1166.49 72.576 L1158.99 72.576 L1158.99 27.2059 L1166.49 27.2059 L1166.49 34.2544 Q1169.16 30.163 1172.76 28.1376 Q1176.41 26.1121 1181.15 26.1121 Q1188.97 26.1121 1192.98 30.9732 Q1196.99 35.7938 1196.99 45.1919 Z\" fill=\"#000000\" fill-rule=\"evenodd\" fill-opacity=\"1\" /><path clip-path=\"url(#clip390)\" d=\"M1219.23 14.324 L1219.23 27.2059 L1234.58 27.2059 L1234.58 32.9987 L1219.23 32.9987 L1219.23 57.6282 Q1219.23 63.1779 1220.73 64.7578 Q1222.27 66.3376 1226.93 66.3376 L1234.58 66.3376 L1234.58 72.576 L1226.93 72.576 Q1218.3 72.576 1215.02 69.3758 Q1211.73 66.1351 1211.73 57.6282 L1211.73 32.9987 L1206.27 32.9987 L1206.27 27.2059 L1211.73 27.2059 L1211.73 14.324 L1219.23 14.324 Z\" fill=\"#000000\" fill-rule=\"evenodd\" fill-opacity=\"1\" /><path clip-path=\"url(#clip390)\" d=\"M1246.29 62.2867 L1254.84 62.2867 L1254.84 72.576 L1246.29 72.576 L1246.29 62.2867 M1246.29 29.6769 L1254.84 29.6769 L1254.84 39.9662 L1246.29 39.9662 L1246.29 29.6769 Z\" fill=\"#000000\" fill-rule=\"evenodd\" fill-opacity=\"1\" /><path clip-path=\"url(#clip390)\" d=\"M1299.03 12.096 L1337.27 12.096 L1337.27 18.9825 L1307.21 18.9825 L1307.21 36.8875 L1336.02 36.8875 L1336.02 43.7741 L1307.21 43.7741 L1307.21 65.6895 L1338 65.6895 L1338 72.576 L1299.03 72.576 L1299.03 12.096 Z\" fill=\"#000000\" fill-rule=\"evenodd\" fill-opacity=\"1\" /><path clip-path=\"url(#clip390)\" d=\"M1380.05 28.5427 L1380.05 35.5912 Q1376.89 33.9709 1373.49 33.1607 Q1370.08 32.3505 1366.44 32.3505 Q1360.89 32.3505 1358.09 34.0519 Q1355.34 35.7533 1355.34 39.156 Q1355.34 41.7486 1357.32 43.2475 Q1359.31 44.7058 1365.3 46.0426 L1367.86 46.6097 Q1375.8 48.3111 1379.12 51.4303 Q1382.48 54.509 1382.48 60.0587 Q1382.48 66.3781 1377.46 70.0644 Q1372.47 73.7508 1363.72 73.7508 Q1360.08 73.7508 1356.11 73.0216 Q1352.18 72.3329 1347.8 70.9151 L1347.8 63.2184 Q1351.94 65.3654 1355.95 66.4591 Q1359.96 67.5124 1363.89 67.5124 Q1369.15 67.5124 1371.99 65.73 Q1374.82 63.9071 1374.82 60.6258 Q1374.82 57.5877 1372.76 55.9673 Q1370.73 54.3469 1363.81 52.8481 L1361.21 52.2405 Q1354.29 50.7821 1351.21 47.7845 Q1348.13 44.7463 1348.13 39.4801 Q1348.13 33.0797 1352.67 29.5959 Q1357.2 26.1121 1365.55 26.1121 Q1369.68 26.1121 1373.33 26.7198 Q1376.97 27.3274 1380.05 28.5427 Z\" fill=\"#000000\" fill-rule=\"evenodd\" fill-opacity=\"1\" /><path clip-path=\"url(#clip390)\" d=\"M1401.72 14.324 L1401.72 27.2059 L1417.07 27.2059 L1417.07 32.9987 L1401.72 32.9987 L1401.72 57.6282 Q1401.72 63.1779 1403.22 64.7578 Q1404.76 66.3376 1409.42 66.3376 L1417.07 66.3376 L1417.07 72.576 L1409.42 72.576 Q1400.79 72.576 1397.51 69.3758 Q1394.23 66.1351 1394.23 57.6282 L1394.23 32.9987 L1388.76 32.9987 L1388.76 27.2059 L1394.23 27.2059 L1394.23 14.324 L1401.72 14.324 Z\" fill=\"#000000\" fill-rule=\"evenodd\" fill-opacity=\"1\" /><path clip-path=\"url(#clip390)\" d=\"M1426.88 27.2059 L1434.33 27.2059 L1434.33 72.576 L1426.88 72.576 L1426.88 27.2059 M1426.88 9.54393 L1434.33 9.54393 L1434.33 18.9825 L1426.88 18.9825 L1426.88 9.54393 Z\" fill=\"#000000\" fill-rule=\"evenodd\" fill-opacity=\"1\" /><path clip-path=\"url(#clip390)\" d=\"M1485.25 35.9153 Q1488.05 30.8922 1491.94 28.5022 Q1495.82 26.1121 1501.09 26.1121 Q1508.18 26.1121 1512.03 31.0947 Q1515.88 36.0368 1515.88 45.1919 L1515.88 72.576 L1508.38 72.576 L1508.38 45.4349 Q1508.38 38.913 1506.07 35.7533 Q1503.76 32.5936 1499.02 32.5936 Q1493.23 32.5936 1489.87 36.4419 Q1486.51 40.2903 1486.51 46.9338 L1486.51 72.576 L1479.01 72.576 L1479.01 45.4349 Q1479.01 38.8725 1476.7 35.7533 Q1474.4 32.5936 1469.57 32.5936 Q1463.86 32.5936 1460.5 36.4824 Q1457.14 40.3308 1457.14 46.9338 L1457.14 72.576 L1449.64 72.576 L1449.64 27.2059 L1457.14 27.2059 L1457.14 34.2544 Q1459.69 30.082 1463.26 28.0971 Q1466.82 26.1121 1471.72 26.1121 Q1476.66 26.1121 1480.11 28.6237 Q1483.59 31.1352 1485.25 35.9153 Z\" fill=\"#000000\" fill-rule=\"evenodd\" fill-opacity=\"1\" /><path clip-path=\"url(#clip390)\" d=\"M1551.36 49.7694 Q1542.33 49.7694 1538.85 51.8354 Q1535.36 53.9013 1535.36 58.8839 Q1535.36 62.8538 1537.95 65.2034 Q1540.59 67.5124 1545.08 67.5124 Q1551.28 67.5124 1555.01 63.1374 Q1558.78 58.7219 1558.78 51.4303 L1558.78 49.7694 L1551.36 49.7694 M1566.23 46.6907 L1566.23 72.576 L1558.78 72.576 L1558.78 65.6895 Q1556.22 69.8214 1552.42 71.8063 Q1548.61 73.7508 1543.1 73.7508 Q1536.13 73.7508 1532 69.8619 Q1527.91 65.9325 1527.91 59.3701 Q1527.91 51.7138 1533.01 47.825 Q1538.16 43.9361 1548.32 43.9361 L1558.78 43.9361 L1558.78 43.2069 Q1558.78 38.0623 1555.37 35.2672 Q1552.01 32.4315 1545.89 32.4315 Q1542 32.4315 1538.32 33.3632 Q1534.63 34.295 1531.23 36.1584 L1531.23 29.2718 Q1535.32 27.692 1539.17 26.9223 Q1543.02 26.1121 1546.66 26.1121 Q1556.51 26.1121 1561.37 31.2163 Q1566.23 36.3204 1566.23 46.6907 Z\" fill=\"#000000\" fill-rule=\"evenodd\" fill-opacity=\"1\" /><path clip-path=\"url(#clip390)\" d=\"M1588.95 14.324 L1588.95 27.2059 L1604.31 27.2059 L1604.31 32.9987 L1588.95 32.9987 L1588.95 57.6282 Q1588.95 63.1779 1590.45 64.7578 Q1591.99 66.3376 1596.65 66.3376 L1604.31 66.3376 L1604.31 72.576 L1596.65 72.576 Q1588.02 72.576 1584.74 69.3758 Q1581.46 66.1351 1581.46 57.6282 L1581.46 32.9987 L1575.99 32.9987 L1575.99 27.2059 L1581.46 27.2059 L1581.46 14.324 L1588.95 14.324 Z\" fill=\"#000000\" fill-rule=\"evenodd\" fill-opacity=\"1\" /><path clip-path=\"url(#clip390)\" d=\"M1652.92 48.0275 L1652.92 51.6733 L1618.65 51.6733 Q1619.13 59.3701 1623.27 63.421 Q1627.44 67.4314 1634.85 67.4314 Q1639.15 67.4314 1643.16 66.3781 Q1647.21 65.3249 1651.18 63.2184 L1651.18 70.267 Q1647.17 71.9684 1642.95 72.8596 Q1638.74 73.7508 1634.41 73.7508 Q1623.55 73.7508 1617.19 67.4314 Q1610.87 61.1119 1610.87 50.3365 Q1610.87 39.1965 1616.87 32.6746 Q1622.9 26.1121 1633.11 26.1121 Q1642.26 26.1121 1647.57 32.0264 Q1652.92 37.9003 1652.92 48.0275 M1645.46 45.84 Q1645.38 39.7232 1642.02 36.0774 Q1638.7 32.4315 1633.19 32.4315 Q1626.95 32.4315 1623.18 35.9558 Q1619.46 39.4801 1618.89 45.8805 L1645.46 45.84 Z\" fill=\"#000000\" fill-rule=\"evenodd\" fill-opacity=\"1\" /><path clip-path=\"url(#clip390)\" d=\"M1695.01 34.0924 L1695.01 9.54393 L1702.46 9.54393 L1702.46 72.576 L1695.01 72.576 L1695.01 65.7705 Q1692.66 69.8214 1689.05 71.8063 Q1685.49 73.7508 1680.46 73.7508 Q1672.24 73.7508 1667.06 67.1883 Q1661.91 60.6258 1661.91 49.9314 Q1661.91 39.2371 1667.06 32.6746 Q1672.24 26.1121 1680.46 26.1121 Q1685.49 26.1121 1689.05 28.0971 Q1692.66 30.0415 1695.01 34.0924 M1669.61 49.9314 Q1669.61 58.1548 1672.97 62.8538 Q1676.37 67.5124 1682.29 67.5124 Q1688.2 67.5124 1691.6 62.8538 Q1695.01 58.1548 1695.01 49.9314 Q1695.01 41.7081 1691.6 37.0496 Q1688.2 32.3505 1682.29 32.3505 Q1676.37 32.3505 1672.97 37.0496 Q1669.61 41.7081 1669.61 49.9314 Z\" fill=\"#000000\" fill-rule=\"evenodd\" fill-opacity=\"1\" /><path clip-path=\"url(#clip390)\" d=\"M1744.51 12.096 L1752.69 12.096 L1752.69 65.6895 L1782.14 65.6895 L1782.14 72.576 L1744.51 72.576 L1744.51 12.096 Z\" fill=\"#000000\" fill-rule=\"evenodd\" fill-opacity=\"1\" /><path clip-path=\"url(#clip390)\" d=\"M1811.03 49.7694 Q1801.99 49.7694 1798.51 51.8354 Q1795.02 53.9013 1795.02 58.8839 Q1795.02 62.8538 1797.62 65.2034 Q1800.25 67.5124 1804.75 67.5124 Q1810.94 67.5124 1814.67 63.1374 Q1818.44 58.7219 1818.44 51.4303 L1818.44 49.7694 L1811.03 49.7694 M1825.89 46.6907 L1825.89 72.576 L1818.44 72.576 L1818.44 65.6895 Q1815.89 69.8214 1812.08 71.8063 Q1808.27 73.7508 1802.76 73.7508 Q1795.79 73.7508 1791.66 69.8619 Q1787.57 65.9325 1787.57 59.3701 Q1787.57 51.7138 1792.67 47.825 Q1797.82 43.9361 1807.99 43.9361 L1818.44 43.9361 L1818.44 43.2069 Q1818.44 38.0623 1815.04 35.2672 Q1811.67 32.4315 1805.56 32.4315 Q1801.67 32.4315 1797.98 33.3632 Q1794.3 34.295 1790.89 36.1584 L1790.89 29.2718 Q1794.98 27.692 1798.83 26.9223 Q1802.68 26.1121 1806.33 26.1121 Q1816.17 26.1121 1821.03 31.2163 Q1825.89 36.3204 1825.89 46.6907 Z\" fill=\"#000000\" fill-rule=\"evenodd\" fill-opacity=\"1\" /><path clip-path=\"url(#clip390)\" d=\"M1848.62 14.324 L1848.62 27.2059 L1863.97 27.2059 L1863.97 32.9987 L1848.62 32.9987 L1848.62 57.6282 Q1848.62 63.1779 1850.12 64.7578 Q1851.66 66.3376 1856.31 66.3376 L1863.97 66.3376 L1863.97 72.576 L1856.31 72.576 Q1847.69 72.576 1844.4 69.3758 Q1841.12 66.1351 1841.12 57.6282 L1841.12 32.9987 L1835.65 32.9987 L1835.65 27.2059 L1841.12 27.2059 L1841.12 14.324 L1848.62 14.324 Z\" fill=\"#000000\" fill-rule=\"evenodd\" fill-opacity=\"1\" /><path clip-path=\"url(#clip390)\" d=\"M1912.58 48.0275 L1912.58 51.6733 L1878.31 51.6733 Q1878.8 59.3701 1882.93 63.421 Q1887.1 67.4314 1894.51 67.4314 Q1898.81 67.4314 1902.82 66.3781 Q1906.87 65.3249 1910.84 63.2184 L1910.84 70.267 Q1906.83 71.9684 1902.62 72.8596 Q1898.4 73.7508 1894.07 73.7508 Q1883.21 73.7508 1876.85 67.4314 Q1870.53 61.1119 1870.53 50.3365 Q1870.53 39.1965 1876.53 32.6746 Q1882.56 26.1121 1892.77 26.1121 Q1901.93 26.1121 1907.23 32.0264 Q1912.58 37.9003 1912.58 48.0275 M1905.13 45.84 Q1905.05 39.7232 1901.68 36.0774 Q1898.36 32.4315 1892.85 32.4315 Q1886.62 32.4315 1882.85 35.9558 Q1879.12 39.4801 1878.55 45.8805 L1905.13 45.84 Z\" fill=\"#000000\" fill-rule=\"evenodd\" fill-opacity=\"1\" /><path clip-path=\"url(#clip390)\" d=\"M1962.53 45.1919 L1962.53 72.576 L1955.08 72.576 L1955.08 45.4349 Q1955.08 38.994 1952.56 35.7938 Q1950.05 32.5936 1945.03 32.5936 Q1938.99 32.5936 1935.51 36.4419 Q1932.03 40.2903 1932.03 46.9338 L1932.03 72.576 L1924.53 72.576 L1924.53 27.2059 L1932.03 27.2059 L1932.03 34.2544 Q1934.7 30.163 1938.3 28.1376 Q1941.95 26.1121 1946.69 26.1121 Q1954.51 26.1121 1958.52 30.9732 Q1962.53 35.7938 1962.53 45.1919 Z\" fill=\"#000000\" fill-rule=\"evenodd\" fill-opacity=\"1\" /><path clip-path=\"url(#clip390)\" d=\"M1984.77 14.324 L1984.77 27.2059 L2000.12 27.2059 L2000.12 32.9987 L1984.77 32.9987 L1984.77 57.6282 Q1984.77 63.1779 1986.27 64.7578 Q1987.81 66.3376 1992.47 66.3376 L2000.12 66.3376 L2000.12 72.576 L1992.47 72.576 Q1983.84 72.576 1980.56 69.3758 Q1977.27 66.1351 1977.27 57.6282 L1977.27 32.9987 L1971.81 32.9987 L1971.81 27.2059 L1977.27 27.2059 L1977.27 14.324 L1984.77 14.324 Z\" fill=\"#000000\" fill-rule=\"evenodd\" fill-opacity=\"1\" /><path clip-path=\"url(#clip390)\" d=\"M2038.85 28.5427 L2038.85 35.5912 Q2035.69 33.9709 2032.29 33.1607 Q2028.88 32.3505 2025.24 32.3505 Q2019.69 32.3505 2016.89 34.0519 Q2014.14 35.7533 2014.14 39.156 Q2014.14 41.7486 2016.12 43.2475 Q2018.11 44.7058 2024.1 46.0426 L2026.65 46.6097 Q2034.59 48.3111 2037.92 51.4303 Q2041.28 54.509 2041.28 60.0587 Q2041.28 66.3781 2036.26 70.0644 Q2031.27 73.7508 2022.52 73.7508 Q2018.88 73.7508 2014.91 73.0216 Q2010.98 72.3329 2006.6 70.9151 L2006.6 63.2184 Q2010.73 65.3654 2014.75 66.4591 Q2018.76 67.5124 2022.69 67.5124 Q2027.95 67.5124 2030.79 65.73 Q2033.62 63.9071 2033.62 60.6258 Q2033.62 57.5877 2031.56 55.9673 Q2029.53 54.3469 2022.6 52.8481 L2020.01 52.2405 Q2013.08 50.7821 2010.01 47.7845 Q2006.93 44.7463 2006.93 39.4801 Q2006.93 33.0797 2011.46 29.5959 Q2016 26.1121 2024.35 26.1121 Q2028.48 26.1121 2032.12 26.7198 Q2035.77 27.3274 2038.85 28.5427 Z\" fill=\"#000000\" fill-rule=\"evenodd\" fill-opacity=\"1\" /><path clip-path=\"url(#clip392)\" d=\"\nM209.891 875.713 L319.389 675.478 L428.886 792.801 L538.384 679.518 L647.881 839.648 L757.379 508.378 L866.876 966.419 L976.373 718.386 L1085.87 794.717 L1195.37 1111.79 \n  L1304.87 1066.28 L1414.36 1447.87 L1523.86 714.81 L1633.36 628.785 L1742.86 990.261 L1852.35 1309.05 L1961.85 1136.31 L2071.35 813.201 L2180.84 1101.77 L2290.34 1211.37 \n  L2290.34 256.452 L2180.84 823.045 L2071.35 545.645 L1961.85 834.276 L1852.35 954.25 L1742.86 716.397 L1633.36 336.635 L1523.86 448.041 L1414.36 1067.23 L1304.87 783.125 \n  L1195.37 826.294 L1085.87 528.211 L976.373 442.514 L866.876 703.529 L757.379 178.175 L647.881 566.955 L538.384 394.068 L428.886 530.363 L319.389 399.024 L209.891 613.893 \n   Z\n  \" fill=\"#009af9\" fill-rule=\"evenodd\" fill-opacity=\"0.5\"/>\n<polyline clip-path=\"url(#clip392)\" style=\"stroke:#009af9; stroke-linecap:butt; stroke-linejoin:round; stroke-width:4; stroke-opacity:1; fill:none\" points=\"\n  209.891,744.803 319.389,537.251 428.886,661.582 538.384,536.793 647.881,703.301 757.379,343.276 866.876,834.974 976.373,580.45 1085.87,661.464 1195.37,969.04 \n  1304.87,924.701 1414.36,1257.55 1523.86,581.425 1633.36,482.71 1742.86,853.329 1852.35,1131.65 1961.85,985.294 2071.35,679.423 2180.84,962.405 2290.34,733.91 \n  \n  \"/>\n<polyline clip-path=\"url(#clip392)\" style=\"stroke:#e26f46; stroke-linecap:butt; stroke-linejoin:round; stroke-width:4; stroke-opacity:1; fill:none\" points=\"\n  209.891,995.83 319.389,547.388 428.886,601.758 538.384,519.033 647.881,900.707 757.379,162.047 866.876,829.513 976.373,643.083 1085.87,694.548 1195.37,891.691 \n  1304.87,997.416 1414.36,1160.02 1523.86,676.566 1633.36,380.241 1742.86,900.874 1852.35,1110.86 1961.85,980.732 2071.35,631.914 2180.84,976.428 2290.34,802.896 \n  \n  \"/>\n<path clip-path=\"url(#clip390)\" d=\"\nM1683.87 324.425 L2279.25 324.425 L2279.25 168.905 L1683.87 168.905  Z\n  \" fill=\"#ffffff\" fill-rule=\"evenodd\" fill-opacity=\"1\"/>\n<polyline clip-path=\"url(#clip390)\" style=\"stroke:#000000; stroke-linecap:butt; stroke-linejoin:round; stroke-width:4; stroke-opacity:1; fill:none\" points=\"\n  1683.87,324.425 2279.25,324.425 2279.25,168.905 1683.87,168.905 1683.87,324.425 \n  \"/>\n<polyline clip-path=\"url(#clip390)\" style=\"stroke:#009af9; stroke-linecap:butt; stroke-linejoin:round; stroke-width:4; stroke-opacity:1; fill:none\" points=\"\n  1708.37,220.745 1855.39,220.745 \n  \"/>\n<path clip-path=\"url(#clip390)\" d=\"M1884.57 207.307 L1884.57 220.293 L1890.45 220.293 Q1893.71 220.293 1895.5 218.603 Q1897.28 216.914 1897.28 213.789 Q1897.28 210.687 1895.5 208.997 Q1893.71 207.307 1890.45 207.307 L1884.57 207.307 M1879.9 203.465 L1890.45 203.465 Q1896.26 203.465 1899.22 206.104 Q1902.21 208.719 1902.21 213.789 Q1902.21 218.904 1899.22 221.52 Q1896.26 224.136 1890.45 224.136 L1884.57 224.136 L1884.57 238.025 L1879.9 238.025 L1879.9 203.465 Z\" fill=\"#000000\" fill-rule=\"evenodd\" fill-opacity=\"1\" /><path clip-path=\"url(#clip390)\" d=\"M1916.65 215.085 Q1913.23 215.085 1911.24 217.77 Q1909.25 220.432 1909.25 225.085 Q1909.25 229.738 1911.21 232.423 Q1913.21 235.085 1916.65 235.085 Q1920.06 235.085 1922.05 232.4 Q1924.04 229.715 1924.04 225.085 Q1924.04 220.478 1922.05 217.793 Q1920.06 215.085 1916.65 215.085 M1916.65 211.474 Q1922.21 211.474 1925.38 215.085 Q1928.55 218.696 1928.55 225.085 Q1928.55 231.451 1925.38 235.085 Q1922.21 238.696 1916.65 238.696 Q1911.08 238.696 1907.9 235.085 Q1904.76 231.451 1904.76 225.085 Q1904.76 218.696 1907.9 215.085 Q1911.08 211.474 1916.65 211.474 Z\" fill=\"#000000\" fill-rule=\"evenodd\" fill-opacity=\"1\" /><path clip-path=\"url(#clip390)\" d=\"M1952.14 212.863 L1952.14 216.891 Q1950.33 215.965 1948.39 215.502 Q1946.45 215.039 1944.36 215.039 Q1941.19 215.039 1939.59 216.011 Q1938.02 216.983 1938.02 218.928 Q1938.02 220.409 1939.15 221.265 Q1940.29 222.099 1943.71 222.863 L1945.17 223.187 Q1949.71 224.159 1951.61 225.941 Q1953.53 227.701 1953.53 230.872 Q1953.53 234.483 1950.66 236.589 Q1947.81 238.696 1942.81 238.696 Q1940.73 238.696 1938.46 238.279 Q1936.21 237.886 1933.71 237.076 L1933.71 232.677 Q1936.08 233.904 1938.37 234.529 Q1940.66 235.131 1942.9 235.131 Q1945.91 235.131 1947.53 234.113 Q1949.15 233.071 1949.15 231.196 Q1949.15 229.46 1947.97 228.534 Q1946.82 227.608 1942.86 226.752 L1941.38 226.404 Q1937.42 225.571 1935.66 223.858 Q1933.9 222.122 1933.9 219.113 Q1933.9 215.455 1936.49 213.465 Q1939.08 211.474 1943.85 211.474 Q1946.21 211.474 1948.3 211.821 Q1950.38 212.168 1952.14 212.863 Z\" fill=\"#000000\" fill-rule=\"evenodd\" fill-opacity=\"1\" /><path clip-path=\"url(#clip390)\" d=\"M1964.52 204.738 L1964.52 212.099 L1973.3 212.099 L1973.3 215.409 L1964.52 215.409 L1964.52 229.483 Q1964.52 232.654 1965.38 233.557 Q1966.26 234.46 1968.92 234.46 L1973.3 234.46 L1973.3 238.025 L1968.92 238.025 Q1963.99 238.025 1962.12 236.196 Q1960.24 234.344 1960.24 229.483 L1960.24 215.409 L1957.12 215.409 L1957.12 212.099 L1960.24 212.099 L1960.24 204.738 L1964.52 204.738 Z\" fill=\"#000000\" fill-rule=\"evenodd\" fill-opacity=\"1\" /><path clip-path=\"url(#clip390)\" d=\"M2001.08 223.997 L2001.08 226.08 L1981.49 226.08 Q1981.77 230.478 1984.13 232.793 Q1986.51 235.085 1990.75 235.085 Q1993.2 235.085 1995.5 234.483 Q1997.81 233.881 2000.08 232.677 L2000.08 236.705 Q1997.79 237.677 1995.38 238.187 Q1992.97 238.696 1990.5 238.696 Q1984.29 238.696 1980.66 235.085 Q1977.05 231.474 1977.05 225.316 Q1977.05 218.951 1980.47 215.224 Q1983.92 211.474 1989.76 211.474 Q1994.99 211.474 1998.02 214.853 Q2001.08 218.21 2001.08 223.997 M1996.82 222.747 Q1996.77 219.252 1994.85 217.168 Q1992.95 215.085 1989.8 215.085 Q1986.24 215.085 1984.08 217.099 Q1981.95 219.113 1981.63 222.77 L1996.82 222.747 Z\" fill=\"#000000\" fill-rule=\"evenodd\" fill-opacity=\"1\" /><path clip-path=\"url(#clip390)\" d=\"M2023.09 216.08 Q2022.37 215.664 2021.51 215.478 Q2020.68 215.27 2019.66 215.27 Q2016.05 215.27 2014.11 217.631 Q2012.19 219.969 2012.19 224.367 L2012.19 238.025 L2007.9 238.025 L2007.9 212.099 L2012.19 212.099 L2012.19 216.127 Q2013.53 213.766 2015.68 212.631 Q2017.83 211.474 2020.91 211.474 Q2021.35 211.474 2021.89 211.543 Q2022.42 211.59 2023.07 211.705 L2023.09 216.08 Z\" fill=\"#000000\" fill-rule=\"evenodd\" fill-opacity=\"1\" /><path clip-path=\"url(#clip390)\" d=\"M2027.56 212.099 L2031.82 212.099 L2031.82 238.025 L2027.56 238.025 L2027.56 212.099 M2027.56 202.006 L2031.82 202.006 L2031.82 207.4 L2027.56 207.4 L2027.56 202.006 Z\" fill=\"#000000\" fill-rule=\"evenodd\" fill-opacity=\"1\" /><path clip-path=\"url(#clip390)\" d=\"M2050.77 215.085 Q2047.35 215.085 2045.36 217.77 Q2043.37 220.432 2043.37 225.085 Q2043.37 229.738 2045.33 232.423 Q2047.32 235.085 2050.77 235.085 Q2054.18 235.085 2056.17 232.4 Q2058.16 229.715 2058.16 225.085 Q2058.16 220.478 2056.17 217.793 Q2054.18 215.085 2050.77 215.085 M2050.77 211.474 Q2056.33 211.474 2059.5 215.085 Q2062.67 218.696 2062.67 225.085 Q2062.67 231.451 2059.5 235.085 Q2056.33 238.696 2050.77 238.696 Q2045.2 238.696 2042.02 235.085 Q2038.88 231.451 2038.88 225.085 Q2038.88 218.696 2042.02 215.085 Q2045.2 211.474 2050.77 211.474 Z\" fill=\"#000000\" fill-rule=\"evenodd\" fill-opacity=\"1\" /><path clip-path=\"url(#clip390)\" d=\"M2084.76 216.08 Q2084.04 215.664 2083.18 215.478 Q2082.35 215.27 2081.33 215.27 Q2077.72 215.27 2075.77 217.631 Q2073.85 219.969 2073.85 224.367 L2073.85 238.025 L2069.57 238.025 L2069.57 212.099 L2073.85 212.099 L2073.85 216.127 Q2075.19 213.766 2077.35 212.631 Q2079.5 211.474 2082.58 211.474 Q2083.02 211.474 2083.55 211.543 Q2084.08 211.59 2084.73 211.705 L2084.76 216.08 Z\" fill=\"#000000\" fill-rule=\"evenodd\" fill-opacity=\"1\" /><path clip-path=\"url(#clip390)\" d=\"M2124.48 217.076 Q2126.07 214.205 2128.3 212.84 Q2130.52 211.474 2133.53 211.474 Q2137.58 211.474 2139.78 214.321 Q2141.98 217.145 2141.98 222.377 L2141.98 238.025 L2137.69 238.025 L2137.69 222.515 Q2137.69 218.789 2136.38 216.983 Q2135.06 215.178 2132.35 215.178 Q2129.04 215.178 2127.12 217.377 Q2125.19 219.576 2125.19 223.372 L2125.19 238.025 L2120.91 238.025 L2120.91 222.515 Q2120.91 218.765 2119.59 216.983 Q2118.27 215.178 2115.52 215.178 Q2112.25 215.178 2110.33 217.4 Q2108.41 219.599 2108.41 223.372 L2108.41 238.025 L2104.13 238.025 L2104.13 212.099 L2108.41 212.099 L2108.41 216.127 Q2109.87 213.742 2111.91 212.608 Q2113.94 211.474 2116.75 211.474 Q2119.57 211.474 2121.54 212.909 Q2123.53 214.344 2124.48 217.076 Z\" fill=\"#000000\" fill-rule=\"evenodd\" fill-opacity=\"1\" /><path clip-path=\"url(#clip390)\" d=\"M2172.65 223.997 L2172.65 226.08 L2153.06 226.08 Q2153.34 230.478 2155.7 232.793 Q2158.09 235.085 2162.32 235.085 Q2164.78 235.085 2167.07 234.483 Q2169.38 233.881 2171.65 232.677 L2171.65 236.705 Q2169.36 237.677 2166.95 238.187 Q2164.55 238.696 2162.07 238.696 Q2155.87 238.696 2152.23 235.085 Q2148.62 231.474 2148.62 225.316 Q2148.62 218.951 2152.05 215.224 Q2155.5 211.474 2161.33 211.474 Q2166.56 211.474 2169.59 214.853 Q2172.65 218.21 2172.65 223.997 M2168.39 222.747 Q2168.34 219.252 2166.42 217.168 Q2164.52 215.085 2161.38 215.085 Q2157.81 215.085 2155.66 217.099 Q2153.53 219.113 2153.2 222.77 L2168.39 222.747 Z\" fill=\"#000000\" fill-rule=\"evenodd\" fill-opacity=\"1\" /><path clip-path=\"url(#clip390)\" d=\"M2191.42 224.992 Q2186.26 224.992 2184.27 226.173 Q2182.28 227.353 2182.28 230.201 Q2182.28 232.469 2183.76 233.812 Q2185.26 235.131 2187.83 235.131 Q2191.37 235.131 2193.5 232.631 Q2195.66 230.108 2195.66 225.941 L2195.66 224.992 L2191.42 224.992 M2199.92 223.233 L2199.92 238.025 L2195.66 238.025 L2195.66 234.089 Q2194.2 236.451 2192.02 237.585 Q2189.85 238.696 2186.7 238.696 Q2182.72 238.696 2180.36 236.474 Q2178.02 234.228 2178.02 230.478 Q2178.02 226.103 2180.94 223.881 Q2183.87 221.659 2189.69 221.659 L2195.66 221.659 L2195.66 221.242 Q2195.66 218.303 2193.71 216.705 Q2191.79 215.085 2188.3 215.085 Q2186.07 215.085 2183.97 215.617 Q2181.86 216.15 2179.92 217.215 L2179.92 213.279 Q2182.25 212.377 2184.45 211.937 Q2186.65 211.474 2188.74 211.474 Q2194.36 211.474 2197.14 214.391 Q2199.92 217.307 2199.92 223.233 Z\" fill=\"#000000\" fill-rule=\"evenodd\" fill-opacity=\"1\" /><path clip-path=\"url(#clip390)\" d=\"M2230.24 222.377 L2230.24 238.025 L2225.98 238.025 L2225.98 222.515 Q2225.98 218.835 2224.55 217.006 Q2223.11 215.178 2220.24 215.178 Q2216.79 215.178 2214.8 217.377 Q2212.81 219.576 2212.81 223.372 L2212.81 238.025 L2208.53 238.025 L2208.53 212.099 L2212.81 212.099 L2212.81 216.127 Q2214.34 213.789 2216.4 212.631 Q2218.48 211.474 2221.19 211.474 Q2225.66 211.474 2227.95 214.252 Q2230.24 217.006 2230.24 222.377 Z\" fill=\"#000000\" fill-rule=\"evenodd\" fill-opacity=\"1\" /><polyline clip-path=\"url(#clip390)\" style=\"stroke:#e26f46; stroke-linecap:butt; stroke-linejoin:round; stroke-width:4; stroke-opacity:1; fill:none\" points=\"\n  1708.37,272.585 1855.39,272.585 \n  \"/>\n<path clip-path=\"url(#clip390)\" d=\"M1879.9 255.305 L1909.13 255.305 L1909.13 259.24 L1896.86 259.24 L1896.86 289.865 L1892.16 289.865 L1892.16 259.24 L1879.9 259.24 L1879.9 255.305 Z\" fill=\"#000000\" fill-rule=\"evenodd\" fill-opacity=\"1\" /><path clip-path=\"url(#clip390)\" d=\"M1921.52 267.92 Q1920.8 267.504 1919.94 267.318 Q1919.11 267.11 1918.09 267.11 Q1914.48 267.11 1912.53 269.471 Q1910.61 271.809 1910.61 276.207 L1910.61 289.865 L1906.33 289.865 L1906.33 263.939 L1910.61 263.939 L1910.61 267.967 Q1911.96 265.606 1914.11 264.471 Q1916.26 263.314 1919.34 263.314 Q1919.78 263.314 1920.31 263.383 Q1920.84 263.43 1921.49 263.545 L1921.52 267.92 Z\" fill=\"#000000\" fill-rule=\"evenodd\" fill-opacity=\"1\" /><path clip-path=\"url(#clip390)\" d=\"M1925.54 279.633 L1925.54 263.939 L1929.8 263.939 L1929.8 279.471 Q1929.8 283.152 1931.24 285.004 Q1932.67 286.832 1935.54 286.832 Q1938.99 286.832 1940.98 284.633 Q1943 282.434 1943 278.638 L1943 263.939 L1947.26 263.939 L1947.26 289.865 L1943 289.865 L1943 285.883 Q1941.45 288.244 1939.39 289.402 Q1937.35 290.536 1934.64 290.536 Q1930.17 290.536 1927.86 287.758 Q1925.54 284.98 1925.54 279.633 M1936.26 263.314 L1936.26 263.314 Z\" fill=\"#000000\" fill-rule=\"evenodd\" fill-opacity=\"1\" /><path clip-path=\"url(#clip390)\" d=\"M1978.2 275.837 L1978.2 277.92 L1958.62 277.92 Q1958.9 282.318 1961.26 284.633 Q1963.64 286.925 1967.88 286.925 Q1970.33 286.925 1972.63 286.323 Q1974.94 285.721 1977.21 284.517 L1977.21 288.545 Q1974.92 289.517 1972.51 290.027 Q1970.1 290.536 1967.63 290.536 Q1961.42 290.536 1957.79 286.925 Q1954.18 283.314 1954.18 277.156 Q1954.18 270.791 1957.6 267.064 Q1961.05 263.314 1966.89 263.314 Q1972.12 263.314 1975.15 266.693 Q1978.2 270.05 1978.2 275.837 M1973.95 274.587 Q1973.9 271.092 1971.98 269.008 Q1970.08 266.925 1966.93 266.925 Q1963.37 266.925 1961.21 268.939 Q1959.08 270.953 1958.76 274.61 L1973.95 274.587 Z\" fill=\"#000000\" fill-rule=\"evenodd\" fill-opacity=\"1\" /><path clip-path=\"url(#clip390)\" d=\"M1997.21 263.939 L2001.72 263.939 L2009.82 285.698 L2017.93 263.939 L2022.44 263.939 L2012.72 289.865 L2006.93 289.865 L1997.21 263.939 Z\" fill=\"#000000\" fill-rule=\"evenodd\" fill-opacity=\"1\" /><path clip-path=\"url(#clip390)\" d=\"M2040.1 276.832 Q2034.94 276.832 2032.95 278.013 Q2030.96 279.193 2030.96 282.041 Q2030.96 284.309 2032.44 285.652 Q2033.95 286.971 2036.51 286.971 Q2040.06 286.971 2042.19 284.471 Q2044.34 281.948 2044.34 277.781 L2044.34 276.832 L2040.1 276.832 M2048.6 275.073 L2048.6 289.865 L2044.34 289.865 L2044.34 285.929 Q2042.88 288.291 2040.7 289.425 Q2038.53 290.536 2035.38 290.536 Q2031.4 290.536 2029.04 288.314 Q2026.7 286.068 2026.7 282.318 Q2026.7 277.943 2029.62 275.721 Q2032.56 273.499 2038.37 273.499 L2044.34 273.499 L2044.34 273.082 Q2044.34 270.143 2042.39 268.545 Q2040.47 266.925 2036.98 266.925 Q2034.76 266.925 2032.65 267.457 Q2030.54 267.99 2028.6 269.055 L2028.6 265.119 Q2030.94 264.217 2033.14 263.777 Q2035.33 263.314 2037.42 263.314 Q2043.04 263.314 2045.82 266.231 Q2048.6 269.147 2048.6 275.073 Z\" fill=\"#000000\" fill-rule=\"evenodd\" fill-opacity=\"1\" /><path clip-path=\"url(#clip390)\" d=\"M2057.37 253.846 L2061.63 253.846 L2061.63 289.865 L2057.37 289.865 L2057.37 253.846 Z\" fill=\"#000000\" fill-rule=\"evenodd\" fill-opacity=\"1\" /><path clip-path=\"url(#clip390)\" d=\"M2070.1 279.633 L2070.1 263.939 L2074.36 263.939 L2074.36 279.471 Q2074.36 283.152 2075.8 285.004 Q2077.23 286.832 2080.1 286.832 Q2083.55 286.832 2085.54 284.633 Q2087.56 282.434 2087.56 278.638 L2087.56 263.939 L2091.82 263.939 L2091.82 289.865 L2087.56 289.865 L2087.56 285.883 Q2086.01 288.244 2083.94 289.402 Q2081.91 290.536 2079.2 290.536 Q2074.73 290.536 2072.42 287.758 Q2070.1 284.98 2070.1 279.633 M2080.82 263.314 L2080.82 263.314 Z\" fill=\"#000000\" fill-rule=\"evenodd\" fill-opacity=\"1\" /><path clip-path=\"url(#clip390)\" d=\"M2122.76 275.837 L2122.76 277.92 L2103.18 277.92 Q2103.46 282.318 2105.82 284.633 Q2108.2 286.925 2112.44 286.925 Q2114.89 286.925 2117.19 286.323 Q2119.5 285.721 2121.77 284.517 L2121.77 288.545 Q2119.48 289.517 2117.07 290.027 Q2114.66 290.536 2112.19 290.536 Q2105.98 290.536 2102.35 286.925 Q2098.74 283.314 2098.74 277.156 Q2098.74 270.791 2102.16 267.064 Q2105.61 263.314 2111.44 263.314 Q2116.68 263.314 2119.71 266.693 Q2122.76 270.05 2122.76 275.837 M2118.5 274.587 Q2118.46 271.092 2116.54 269.008 Q2114.64 266.925 2111.49 266.925 Q2107.93 266.925 2105.77 268.939 Q2103.64 270.953 2103.32 274.61 L2118.5 274.587 Z\" fill=\"#000000\" fill-rule=\"evenodd\" fill-opacity=\"1\" /><path clip-path=\"url(#clip390)\" d=\"M2146.28 264.703 L2146.28 268.731 Q2144.48 267.805 2142.53 267.342 Q2140.59 266.879 2138.5 266.879 Q2135.33 266.879 2133.74 267.851 Q2132.16 268.823 2132.16 270.768 Q2132.16 272.249 2133.3 273.105 Q2134.43 273.939 2137.86 274.703 L2139.32 275.027 Q2143.85 275.999 2145.75 277.781 Q2147.67 279.541 2147.67 282.712 Q2147.67 286.323 2144.8 288.429 Q2141.95 290.536 2136.95 290.536 Q2134.87 290.536 2132.6 290.119 Q2130.36 289.726 2127.86 288.916 L2127.86 284.517 Q2130.22 285.744 2132.51 286.369 Q2134.8 286.971 2137.05 286.971 Q2140.06 286.971 2141.68 285.953 Q2143.3 284.911 2143.3 283.036 Q2143.3 281.3 2142.12 280.374 Q2140.96 279.448 2137 278.592 L2135.52 278.244 Q2131.56 277.411 2129.8 275.698 Q2128.04 273.962 2128.04 270.953 Q2128.04 267.295 2130.63 265.305 Q2133.23 263.314 2138 263.314 Q2140.36 263.314 2142.44 263.661 Q2144.52 264.008 2146.28 264.703 Z\" fill=\"#000000\" fill-rule=\"evenodd\" fill-opacity=\"1\" /></svg>\n"
     },
     "execution_count": 22,
     "metadata": {},
     "output_type": "execute_result"
    }
   ],
   "source": [
    "ϵ_chain = sort(chain_2_joint[:, [Symbol(\"ϵ_draw[$a]\") for a in 1:21], 1], lt = (x,y) -> symbol_to_int(x) < symbol_to_int(y))\n",
    "tmp = describe(ϵ_chain)\n",
    "ϵ_mean = tmp[1][:, 2]\n",
    "ϵ_std = tmp[1][:, 3]\n",
    "plot(ϵ_mean[2:end], ribbon=2 * ϵ_std[2:end], label=\"Posterior mean\", title = \"Second-Order Joint: Estimated Latents\")\n",
    "plot!(ϵ', label=\"True values\")"
   ]
  }
 ],
 "metadata": {
  "kernelspec": {
   "display_name": "Julia 1.7.1",
   "language": "julia",
   "name": "julia-1.7"
  },
  "language_info": {
   "file_extension": ".jl",
   "mimetype": "application/julia",
   "name": "julia",
   "version": "1.7.1"
  }
 },
 "nbformat": 4,
 "nbformat_minor": 4
}
