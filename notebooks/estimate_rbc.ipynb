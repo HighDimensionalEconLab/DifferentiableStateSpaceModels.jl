{
 "cells": [
  {
   "cell_type": "markdown",
   "metadata": {},
   "source": [
    "# Setup model and install packages"
   ]
  },
  {
   "cell_type": "code",
   "execution_count": 1,
   "metadata": {},
   "outputs": [],
   "source": [
    "# ] instantiate # remove comments to install packages"
   ]
  },
  {
   "cell_type": "code",
   "execution_count": 2,
   "metadata": {},
   "outputs": [],
   "source": [
    "using DifferentiableStateSpaceModels, DifferenceEquations, LinearAlgebra, Zygote, Distributions, Plots, DiffEqBase, Symbolics"
   ]
  },
  {
   "cell_type": "markdown",
   "metadata": {},
   "source": [
    "# Model equations and steady states"
   ]
  },
  {
   "cell_type": "code",
   "execution_count": 3,
   "metadata": {},
   "outputs": [
    {
     "data": {
      "text/plain": [
       "Perturbation Model: n_y = 2, n_x = 2, n_p = 6, n_ϵ = 1, n_z = 2\n",
       " y = [:c, :q] \n",
       " x = [:k, :z] \n",
       " p = [:α, :β, :ρ, :δ, :σ, :Ω_1]"
      ]
     },
     "execution_count": 3,
     "metadata": {},
     "output_type": "execute_result"
    }
   ],
   "source": [
    "∞ = Inf\n",
    "@variables α, β, ρ, δ, σ, Ω_1\n",
    "@variables t::Integer, k(..), z(..), c(..), q(..)\n",
    "\n",
    "x = [k, z]\n",
    "y = [c, q]\n",
    "p = [α, β, ρ, δ, σ, Ω_1]\n",
    "\n",
    "H = [1 / c(t) - (β / c(t + 1)) * (α * exp(z(t + 1)) * k(t + 1)^(α - 1) + (1 - δ)),\n",
    "     c(t) + k(t + 1) - (1 - δ) * k(t) - q(t),\n",
    "     q(t) - exp(z(t)) * k(t)^α,\n",
    "     z(t + 1) - ρ * z(t)]\n",
    "\n",
    "steady_states = [k(∞) ~ (((1 / β) - 1 + δ) / α)^(1 / (α - 1)),\n",
    "                 z(∞) ~ 0,\n",
    "                 c(∞) ~ (((1 / β) - 1 + δ) / α)^(α / (α - 1)) -\n",
    "                        δ * (((1 / β) - 1 + δ) / α)^(1 / (α - 1)),\n",
    "                 q(∞) ~ (((1 / β) - 1 + δ) / α)^(α / (α - 1))]\n",
    "\n",
    "Γ = reshape([σ], 1, 1)\n",
    "η = reshape([0; -1], length(x), 1) # η is n_x * n_ϵ matrix\n",
    "\n",
    "Q = zeros(2, length(x) + length(y))\n",
    "Q[1, 1] = 1.0\n",
    "Q[2, 3] = 1.0\n",
    "\n",
    "Ω = [Ω_1, Ω_1]\n",
    "\n",
    "# Generates the files and includes if required.  If the model is already created, then just loads\n",
    "model_rbc = @make_and_include_perturbation_model(\"rbc_notebook_example\", H, (; t, y, x, p, steady_states, Γ, Ω, η, Q)) # Convenience macro.  Saves as \".function_cache/rbc_notebook_example.jl\"\n",
    "\n",
    "# After generation could just include directly with the following code\n",
    "# isdefined(Main, :rbc_notebook_example) || include(joinpath(pkgdir(DifferentiableStateSpaceModels),\n",
    "#                                              \"test/generated_models/rbc_notebook_example.jl\"))\n",
    "\n",
    "\n",
    "# Alternatively, this is the same as a prebuilt example\n",
    "# model_rbc = @include_example_module(DifferentiableStateSpaceModels.Examples.rbc_observables)  # or use prebuilt model"
   ]
  },
  {
   "cell_type": "code",
   "execution_count": 4,
   "metadata": {},
   "outputs": [
    {
     "data": {
      "text/latex": [
       "$\\begin{equation}\n",
       "\\left[\n",
       "\\begin{array}{c}\n",
       "\\frac{ - \\beta \\left( 1 - \\delta + \\left( k\\left( 1 + t \\right) \\right)^{-1 + \\alpha} \\alpha e^{z\\left( 1 + t \\right)} \\right)}{c\\left( 1 + t \\right)} + \\frac{1}{c\\left( t \\right)} \\\\\n",
       " - q\\left( t \\right) - \\left( 1 - \\delta \\right) k\\left( t \\right) + c\\left( t \\right) + k\\left( 1 + t \\right) \\\\\n",
       " - \\left( k\\left( t \\right) \\right)^{\\alpha} e^{z\\left( t \\right)} + q\\left( t \\right) \\\\\n",
       " - \\rho z\\left( t \\right) + z\\left( 1 + t \\right) \\\\\n",
       "\\end{array}\n",
       "\\right]\n",
       "\\end{equation}\n",
       "$"
      ],
      "text/plain": [
       "L\"$\\begin{equation}\n",
       "\\left[\n",
       "\\begin{array}{c}\n",
       "\\frac{ - \\beta \\left( 1 - \\delta + \\left( k\\left( 1 + t \\right) \\right)^{-1 + \\alpha} \\alpha e^{z\\left( 1 + t \\right)} \\right)}{c\\left( 1 + t \\right)} + \\frac{1}{c\\left( t \\right)} \\\\\n",
       " - q\\left( t \\right) - \\left( 1 - \\delta \\right) k\\left( t \\right) + c\\left( t \\right) + k\\left( 1 + t \\right) \\\\\n",
       " - \\left( k\\left( t \\right) \\right)^{\\alpha} e^{z\\left( t \\right)} + q\\left( t \\right) \\\\\n",
       " - \\rho z\\left( t \\right) + z\\left( 1 + t \\right) \\\\\n",
       "\\end{array}\n",
       "\\right]\n",
       "\\end{equation}\n",
       "$\""
      ]
     },
     "execution_count": 4,
     "metadata": {},
     "output_type": "execute_result"
    }
   ],
   "source": [
    "model_rbc.mod.m.H_latex # model_H_latex(model_rbc)"
   ]
  },
  {
   "cell_type": "code",
   "execution_count": 5,
   "metadata": {},
   "outputs": [
    {
     "data": {
      "text/latex": [
       "$\\begin{align}\n",
       "k\\left( \\infty \\right) =& \\left( \\frac{-1 + \\delta + \\frac{1}{\\beta}}{\\alpha} \\right)^{\\frac{1}{-1 + \\alpha}} \\\\\n",
       "z\\left( \\infty \\right) =& 0 \\\\\n",
       "c\\left( \\infty \\right) =& \\left( \\frac{-1 + \\delta + \\frac{1}{\\beta}}{\\alpha} \\right)^{\\frac{\\alpha}{-1 + \\alpha}} - \\left( \\frac{-1 + \\delta + \\frac{1}{\\beta}}{\\alpha} \\right)^{\\frac{1}{-1 + \\alpha}} \\delta \\\\\n",
       "q\\left( \\infty \\right) =& \\left( \\frac{-1 + \\delta + \\frac{1}{\\beta}}{\\alpha} \\right)^{\\frac{\\alpha}{-1 + \\alpha}}\n",
       "\\end{align}\n",
       "$"
      ],
      "text/plain": [
       "L\"$\\begin{align}\n",
       "k\\left( \\infty \\right) =& \\left( \\frac{-1 + \\delta + \\frac{1}{\\beta}}{\\alpha} \\right)^{\\frac{1}{-1 + \\alpha}} \\\\\n",
       "z\\left( \\infty \\right) =& 0 \\\\\n",
       "c\\left( \\infty \\right) =& \\left( \\frac{-1 + \\delta + \\frac{1}{\\beta}}{\\alpha} \\right)^{\\frac{\\alpha}{-1 + \\alpha}} - \\left( \\frac{-1 + \\delta + \\frac{1}{\\beta}}{\\alpha} \\right)^{\\frac{1}{-1 + \\alpha}} \\delta \\\\\n",
       "q\\left( \\infty \\right) =& \\left( \\frac{-1 + \\delta + \\frac{1}{\\beta}}{\\alpha} \\right)^{\\frac{\\alpha}{-1 + \\alpha}}\n",
       "\\end{align}\n",
       "$\""
      ]
     },
     "execution_count": 5,
     "metadata": {},
     "output_type": "execute_result"
    }
   ],
   "source": [
    "model_rbc.mod.m.steady_states_latex # model_steady_states_latex(model_rbc)"
   ]
  },
  {
   "cell_type": "markdown",
   "metadata": {},
   "source": [
    "# Solving Perturbations"
   ]
  },
  {
   "cell_type": "code",
   "execution_count": 6,
   "metadata": {},
   "outputs": [
    {
     "data": {
      "text/plain": [
       "DifferentiableStateSpaceModels.SecondOrderPerturbationSolution{Vector{Float64}, Vector{Float64}, Matrix{Float64}, Matrix{Float64}, Matrix{Float64}, Vector{Float64}, Matrix{Float64}, Matrix{Int64}, Matrix{Float64}, Array{Float64, 3}, Array{Float64, 3}, Vector{Float64}, Vector{Float64}, Matrix{Float64}, Vector{Float64}, Array{Float64, 3}, Matrix{Float64}}(:Success, [:k, :z], [:c, :q], [:α, :β, :ρ, :δ, :σ, :Ω_1], [:α, :β], [:c, :q, :k, :z], 2, 2, 6, 1, 2, [5.936252888048732, 6.884057971014497], [47.39025414828823, 0.0], [0.09579643002416627 0.6746869652586192; 0.07263157894736873 6.884057971014506], [0.0; -0.01;;], [0.0001, 0.0001], [1.0 0.0 0.0 0.0; 0.0 0.0 1.0 0.0], [0; -1;;], [0.07005411173180152 0.00015997603451513398; 0.00015997603451513398 0.00010416666666666667], [0.01;;], [-0.00037108333949994977 0.005130472630564794; -0.0007663134567721232 0.07263157894736828;;; 0.005130472630564813 0.6265410073784518; 0.07263157894736845 6.884057971014497], [0.00015649809625431133, 0.0], [-7.824904812715566e-5, 0.0], [0.9568351489232028 6.2093710057558855; 1.5076865909646354e-18 0.20000000000000004], [-0.00019761505863608663 0.03375055315840173; 0.0 0.0;;; 0.03375055315840181 3.1287584818180223; 0.0 0.0], [7.824904812715566e-5, 0.0], [0.09579643002416627 0.6746869652586192; 1.0 0.0], [-0.00018554166974997489 0.002565236315282397; 0.0 0.0;;; 0.0025652363152824063 0.3132705036892259; 0.0 0.0])"
      ]
     },
     "execution_count": 6,
     "metadata": {},
     "output_type": "execute_result"
    }
   ],
   "source": [
    "p_f = (ρ = 0.2, δ = 0.02, σ = 0.01, Ω_1 = 0.01) # Fixed parameters\n",
    "p_d = (α = 0.5, β = 0.95) # Pseudo-true values\n",
    "sol = generate_perturbation(model_rbc, p_d, p_f) # Solution to the first-order RBC\n",
    "sol_2 = generate_perturbation(model_rbc, p_d, p_f, Val(2)) # Solution to the second-order RBC\n",
    "\n",
    "# Query the solution\n",
    "sol.y ≈ [5.936252888048733, 6.884057971014498]"
   ]
  },
  {
   "cell_type": "code",
   "execution_count": 8,
   "metadata": {},
   "outputs": [
    {
     "data": {
      "text/plain": [
       "true"
      ]
     },
     "execution_count": 8,
     "metadata": {},
     "output_type": "execute_result"
    }
   ],
   "source": [
    "sol.x ≈ [47.39025414828825, 0.0]"
   ]
  },
  {
   "cell_type": "code",
   "execution_count": 9,
   "metadata": {},
   "outputs": [
    {
     "data": {
      "text/plain": [
       "true"
      ]
     },
     "execution_count": 9,
     "metadata": {},
     "output_type": "execute_result"
    }
   ],
   "source": [
    "sol.retcode == :Success"
   ]
  },
  {
   "cell_type": "markdown",
   "metadata": {},
   "source": [
    "# Derivatives of the Perturbation Solvers"
   ]
  },
  {
   "cell_type": "code",
   "execution_count": 10,
   "metadata": {},
   "outputs": [
    {
     "data": {
      "text/plain": [
       "7.366206154679088"
      ]
     },
     "execution_count": 10,
     "metadata": {},
     "output_type": "execute_result"
    }
   ],
   "source": [
    "function f(params; m, p_f)\n",
    "    p_d = (α=params[1], β=params[2])  # Differentiated parameters\n",
    "    sol = generate_perturbation(m, p_d, p_f) # Default is first-order.\n",
    "    return sum(sol.A) # An ad-hoc example: reducing the law-of-motion matrix into one number\n",
    "end\n",
    "\n",
    "# To call it\n",
    "m = PerturbationModel(Main.rbc_notebook_example)\n",
    "p_f = (ρ=0.2, δ=0.02, σ=0.01, Ω_1=0.01)\n",
    "param_val = [0.5, 0.95] # as a vector, but not required\n",
    "f(param_val; m, p_f) # Function works on its own, calculating perturbation"
   ]
  },
  {
   "cell_type": "code",
   "execution_count": 11,
   "metadata": {},
   "outputs": [
    {
     "data": {
      "text/plain": [
       "true"
      ]
     },
     "execution_count": 11,
     "metadata": {},
     "output_type": "execute_result"
    }
   ],
   "source": [
    "# Query the solution\n",
    "f(param_val; m, p_f) ≈ 7.366206154679124"
   ]
  },
  {
   "cell_type": "code",
   "execution_count": 12,
   "metadata": {},
   "outputs": [
    {
     "data": {
      "text/plain": [
       "([61.419683765473486, 106.44095661062124],)"
      ]
     },
     "execution_count": 12,
     "metadata": {},
     "output_type": "execute_result"
    }
   ],
   "source": [
    "# But you can also get its gradient with Zygote/etc.\n",
    "gradient(params -> f(params; m, p_f), param_val)"
   ]
  },
  {
   "cell_type": "markdown",
   "metadata": {},
   "source": [
    "# Using Solution Cache"
   ]
  },
  {
   "cell_type": "code",
   "execution_count": 13,
   "metadata": {},
   "outputs": [
    {
     "data": {
      "text/plain": [
       "7.366206154679088"
      ]
     },
     "execution_count": 13,
     "metadata": {},
     "output_type": "execute_result"
    }
   ],
   "source": [
    "function f2(p_d; m, p_f, cache)\n",
    "    sol = generate_perturbation(m, p_d, p_f; cache) # Default is first-order.\n",
    "    return sum(sol.A) # An ad-hoc example: reducing the law-of-motion matrix into one number\n",
    "end\n",
    "\n",
    "# To call it\n",
    "m = PerturbationModel(Main.rbc_notebook_example)\n",
    "p_d = (α=0.5, β=0.95)  # Differentiated parameters\n",
    "p_f = (ρ=0.2, δ=0.02, σ=0.01, Ω_1=0.01)\n",
    "cache = SolverCache(m, Val(1), p_d)\n",
    "f2(p_d; m, p_f, cache) # Function works on its own, calculating perturbation"
   ]
  },
  {
   "cell_type": "code",
   "execution_count": 14,
   "metadata": {},
   "outputs": [
    {
     "data": {
      "text/plain": [
       "true"
      ]
     },
     "execution_count": 14,
     "metadata": {},
     "output_type": "execute_result"
    }
   ],
   "source": [
    "# Query the solution\n",
    "f2(p_d; m, p_f, cache) ≈ 7.366206154679124"
   ]
  },
  {
   "cell_type": "code",
   "execution_count": 15,
   "metadata": {},
   "outputs": [
    {
     "data": {
      "text/plain": [
       "(α = 61.419683765473486, β = 106.44095661062124)"
      ]
     },
     "execution_count": 15,
     "metadata": {},
     "output_type": "execute_result"
    }
   ],
   "source": [
    "# But you can also get its gradient with Zygote/etc.\n",
    "gradient(params -> f2(params; m, p_f, cache), p_d)[1]"
   ]
  },
  {
   "cell_type": "markdown",
   "metadata": {},
   "source": [
    "# Simulating Data with DifferenceEquations"
   ]
  },
  {
   "cell_type": "code",
   "execution_count": 16,
   "metadata": {},
   "outputs": [
    {
     "data": {
      "image/svg+xml": "<?xml version=\"1.0\" encoding=\"utf-8\"?>\n<svg xmlns=\"http://www.w3.org/2000/svg\" xmlns:xlink=\"http://www.w3.org/1999/xlink\" width=\"600\" height=\"400\" viewBox=\"0 0 2400 1600\">\n<defs>\n  <clipPath id=\"clip110\">\n    <rect x=\"0\" y=\"0\" width=\"2400\" height=\"1600\"/>\n  </clipPath>\n</defs>\n<path clip-path=\"url(#clip110)\" d=\"\nM0 1600 L2400 1600 L2400 0 L0 0  Z\n  \" fill=\"#ffffff\" fill-rule=\"evenodd\" fill-opacity=\"1\"/>\n<defs>\n  <clipPath id=\"clip111\">\n    <rect x=\"480\" y=\"0\" width=\"1681\" height=\"1600\"/>\n  </clipPath>\n</defs>\n<path clip-path=\"url(#clip110)\" d=\"\nM224.098 1486.45 L2352.76 1486.45 L2352.76 47.2441 L224.098 47.2441  Z\n  \" fill=\"#ffffff\" fill-rule=\"evenodd\" fill-opacity=\"1\"/>\n<defs>\n  <clipPath id=\"clip112\">\n    <rect x=\"224\" y=\"47\" width=\"2130\" height=\"1440\"/>\n  </clipPath>\n</defs>\n<polyline clip-path=\"url(#clip112)\" style=\"stroke:#000000; stroke-linecap:butt; stroke-linejoin:round; stroke-width:2; stroke-opacity:0.1; fill:none\" points=\"\n  284.343,1486.45 284.343,47.2441 \n  \"/>\n<polyline clip-path=\"url(#clip112)\" style=\"stroke:#000000; stroke-linecap:butt; stroke-linejoin:round; stroke-width:2; stroke-opacity:0.1; fill:none\" points=\"\n  786.385,1486.45 786.385,47.2441 \n  \"/>\n<polyline clip-path=\"url(#clip112)\" style=\"stroke:#000000; stroke-linecap:butt; stroke-linejoin:round; stroke-width:2; stroke-opacity:0.1; fill:none\" points=\"\n  1288.43,1486.45 1288.43,47.2441 \n  \"/>\n<polyline clip-path=\"url(#clip112)\" style=\"stroke:#000000; stroke-linecap:butt; stroke-linejoin:round; stroke-width:2; stroke-opacity:0.1; fill:none\" points=\"\n  1790.47,1486.45 1790.47,47.2441 \n  \"/>\n<polyline clip-path=\"url(#clip112)\" style=\"stroke:#000000; stroke-linecap:butt; stroke-linejoin:round; stroke-width:2; stroke-opacity:0.1; fill:none\" points=\"\n  2292.51,1486.45 2292.51,47.2441 \n  \"/>\n<polyline clip-path=\"url(#clip110)\" style=\"stroke:#000000; stroke-linecap:butt; stroke-linejoin:round; stroke-width:4; stroke-opacity:1; fill:none\" points=\"\n  224.098,1486.45 2352.76,1486.45 \n  \"/>\n<polyline clip-path=\"url(#clip110)\" style=\"stroke:#000000; stroke-linecap:butt; stroke-linejoin:round; stroke-width:4; stroke-opacity:1; fill:none\" points=\"\n  284.343,1486.45 284.343,1467.55 \n  \"/>\n<polyline clip-path=\"url(#clip110)\" style=\"stroke:#000000; stroke-linecap:butt; stroke-linejoin:round; stroke-width:4; stroke-opacity:1; fill:none\" points=\"\n  786.385,1486.45 786.385,1467.55 \n  \"/>\n<polyline clip-path=\"url(#clip110)\" style=\"stroke:#000000; stroke-linecap:butt; stroke-linejoin:round; stroke-width:4; stroke-opacity:1; fill:none\" points=\"\n  1288.43,1486.45 1288.43,1467.55 \n  \"/>\n<polyline clip-path=\"url(#clip110)\" style=\"stroke:#000000; stroke-linecap:butt; stroke-linejoin:round; stroke-width:4; stroke-opacity:1; fill:none\" points=\"\n  1790.47,1486.45 1790.47,1467.55 \n  \"/>\n<polyline clip-path=\"url(#clip110)\" style=\"stroke:#000000; stroke-linecap:butt; stroke-linejoin:round; stroke-width:4; stroke-opacity:1; fill:none\" points=\"\n  2292.51,1486.45 2292.51,1467.55 \n  \"/>\n<path clip-path=\"url(#clip110)\" d=\"M284.343 1517.37 Q280.732 1517.37 278.903 1520.93 Q277.098 1524.47 277.098 1531.6 Q277.098 1538.71 278.903 1542.27 Q280.732 1545.82 284.343 1545.82 Q287.977 1545.82 289.783 1542.27 Q291.611 1538.71 291.611 1531.6 Q291.611 1524.47 289.783 1520.93 Q287.977 1517.37 284.343 1517.37 M284.343 1513.66 Q290.153 1513.66 293.209 1518.27 Q296.287 1522.85 296.287 1531.6 Q296.287 1540.33 293.209 1544.94 Q290.153 1549.52 284.343 1549.52 Q278.533 1549.52 275.454 1544.94 Q272.399 1540.33 272.399 1531.6 Q272.399 1522.85 275.454 1518.27 Q278.533 1513.66 284.343 1513.66 Z\" fill=\"#000000\" fill-rule=\"evenodd\" fill-opacity=\"1\" /><path clip-path=\"url(#clip110)\" d=\"M776.663 1514.29 L795.019 1514.29 L795.019 1518.22 L780.945 1518.22 L780.945 1526.7 Q781.964 1526.35 782.982 1526.19 Q784.001 1526 785.019 1526 Q790.806 1526 794.186 1529.17 Q797.565 1532.34 797.565 1537.76 Q797.565 1543.34 794.093 1546.44 Q790.621 1549.52 784.302 1549.52 Q782.126 1549.52 779.857 1549.15 Q777.612 1548.78 775.204 1548.04 L775.204 1543.34 Q777.288 1544.47 779.51 1545.03 Q781.732 1545.58 784.209 1545.58 Q788.214 1545.58 790.552 1543.48 Q792.889 1541.37 792.889 1537.76 Q792.889 1534.15 790.552 1532.04 Q788.214 1529.94 784.209 1529.94 Q782.334 1529.94 780.459 1530.35 Q778.607 1530.77 776.663 1531.65 L776.663 1514.29 Z\" fill=\"#000000\" fill-rule=\"evenodd\" fill-opacity=\"1\" /><path clip-path=\"url(#clip110)\" d=\"M1263.11 1544.91 L1270.75 1544.91 L1270.75 1518.55 L1262.44 1520.21 L1262.44 1515.95 L1270.71 1514.29 L1275.38 1514.29 L1275.38 1544.91 L1283.02 1544.91 L1283.02 1548.85 L1263.11 1548.85 L1263.11 1544.91 Z\" fill=\"#000000\" fill-rule=\"evenodd\" fill-opacity=\"1\" /><path clip-path=\"url(#clip110)\" d=\"M1302.47 1517.37 Q1298.86 1517.37 1297.03 1520.93 Q1295.22 1524.47 1295.22 1531.6 Q1295.22 1538.71 1297.03 1542.27 Q1298.86 1545.82 1302.47 1545.82 Q1306.1 1545.82 1307.91 1542.27 Q1309.73 1538.71 1309.73 1531.6 Q1309.73 1524.47 1307.91 1520.93 Q1306.1 1517.37 1302.47 1517.37 M1302.47 1513.66 Q1308.28 1513.66 1311.33 1518.27 Q1314.41 1522.85 1314.41 1531.6 Q1314.41 1540.33 1311.33 1544.94 Q1308.28 1549.52 1302.47 1549.52 Q1296.66 1549.52 1293.58 1544.94 Q1290.52 1540.33 1290.52 1531.6 Q1290.52 1522.85 1293.58 1518.27 Q1296.66 1513.66 1302.47 1513.66 Z\" fill=\"#000000\" fill-rule=\"evenodd\" fill-opacity=\"1\" /><path clip-path=\"url(#clip110)\" d=\"M1765.65 1544.91 L1773.29 1544.91 L1773.29 1518.55 L1764.98 1520.21 L1764.98 1515.95 L1773.25 1514.29 L1777.92 1514.29 L1777.92 1544.91 L1785.56 1544.91 L1785.56 1548.85 L1765.65 1548.85 L1765.65 1544.91 Z\" fill=\"#000000\" fill-rule=\"evenodd\" fill-opacity=\"1\" /><path clip-path=\"url(#clip110)\" d=\"M1795.05 1514.29 L1813.41 1514.29 L1813.41 1518.22 L1799.33 1518.22 L1799.33 1526.7 Q1800.35 1526.35 1801.37 1526.19 Q1802.39 1526 1803.41 1526 Q1809.2 1526 1812.58 1529.17 Q1815.95 1532.34 1815.95 1537.76 Q1815.95 1543.34 1812.48 1546.44 Q1809.01 1549.52 1802.69 1549.52 Q1800.52 1549.52 1798.25 1549.15 Q1796 1548.78 1793.59 1548.04 L1793.59 1543.34 Q1795.68 1544.47 1797.9 1545.03 Q1800.12 1545.58 1802.6 1545.58 Q1806.6 1545.58 1808.94 1543.48 Q1811.28 1541.37 1811.28 1537.76 Q1811.28 1534.15 1808.94 1532.04 Q1806.6 1529.94 1802.6 1529.94 Q1800.72 1529.94 1798.85 1530.35 Q1797 1530.77 1795.05 1531.65 L1795.05 1514.29 Z\" fill=\"#000000\" fill-rule=\"evenodd\" fill-opacity=\"1\" /><path clip-path=\"url(#clip110)\" d=\"M2271.28 1544.91 L2287.6 1544.91 L2287.6 1548.85 L2265.66 1548.85 L2265.66 1544.91 Q2268.32 1542.16 2272.9 1537.53 Q2277.51 1532.88 2278.69 1531.53 Q2280.94 1529.01 2281.82 1527.27 Q2282.72 1525.51 2282.72 1523.82 Q2282.72 1521.07 2280.77 1519.33 Q2278.85 1517.6 2275.75 1517.6 Q2273.55 1517.6 2271.1 1518.36 Q2268.67 1519.13 2265.89 1520.68 L2265.89 1515.95 Q2268.71 1514.82 2271.17 1514.24 Q2273.62 1513.66 2275.66 1513.66 Q2281.03 1513.66 2284.22 1516.35 Q2287.42 1519.03 2287.42 1523.52 Q2287.42 1525.65 2286.61 1527.57 Q2285.82 1529.47 2283.71 1532.07 Q2283.14 1532.74 2280.03 1535.95 Q2276.93 1539.15 2271.28 1544.91 Z\" fill=\"#000000\" fill-rule=\"evenodd\" fill-opacity=\"1\" /><path clip-path=\"url(#clip110)\" d=\"M2307.42 1517.37 Q2303.81 1517.37 2301.98 1520.93 Q2300.17 1524.47 2300.17 1531.6 Q2300.17 1538.71 2301.98 1542.27 Q2303.81 1545.82 2307.42 1545.82 Q2311.05 1545.82 2312.86 1542.27 Q2314.69 1538.71 2314.69 1531.6 Q2314.69 1524.47 2312.86 1520.93 Q2311.05 1517.37 2307.42 1517.37 M2307.42 1513.66 Q2313.23 1513.66 2316.28 1518.27 Q2319.36 1522.85 2319.36 1531.6 Q2319.36 1540.33 2316.28 1544.94 Q2313.23 1549.52 2307.42 1549.52 Q2301.61 1549.52 2298.53 1544.94 Q2295.47 1540.33 2295.47 1531.6 Q2295.47 1522.85 2298.53 1518.27 Q2301.61 1513.66 2307.42 1513.66 Z\" fill=\"#000000\" fill-rule=\"evenodd\" fill-opacity=\"1\" /><polyline clip-path=\"url(#clip112)\" style=\"stroke:#000000; stroke-linecap:butt; stroke-linejoin:round; stroke-width:2; stroke-opacity:0.1; fill:none\" points=\"\n  224.098,1415.05 2352.76,1415.05 \n  \"/>\n<polyline clip-path=\"url(#clip112)\" style=\"stroke:#000000; stroke-linecap:butt; stroke-linejoin:round; stroke-width:2; stroke-opacity:0.1; fill:none\" points=\"\n  224.098,1110.37 2352.76,1110.37 \n  \"/>\n<polyline clip-path=\"url(#clip112)\" style=\"stroke:#000000; stroke-linecap:butt; stroke-linejoin:round; stroke-width:2; stroke-opacity:0.1; fill:none\" points=\"\n  224.098,805.684 2352.76,805.684 \n  \"/>\n<polyline clip-path=\"url(#clip112)\" style=\"stroke:#000000; stroke-linecap:butt; stroke-linejoin:round; stroke-width:2; stroke-opacity:0.1; fill:none\" points=\"\n  224.098,501.001 2352.76,501.001 \n  \"/>\n<polyline clip-path=\"url(#clip112)\" style=\"stroke:#000000; stroke-linecap:butt; stroke-linejoin:round; stroke-width:2; stroke-opacity:0.1; fill:none\" points=\"\n  224.098,196.318 2352.76,196.318 \n  \"/>\n<polyline clip-path=\"url(#clip110)\" style=\"stroke:#000000; stroke-linecap:butt; stroke-linejoin:round; stroke-width:4; stroke-opacity:1; fill:none\" points=\"\n  224.098,1486.45 224.098,47.2441 \n  \"/>\n<polyline clip-path=\"url(#clip110)\" style=\"stroke:#000000; stroke-linecap:butt; stroke-linejoin:round; stroke-width:4; stroke-opacity:1; fill:none\" points=\"\n  224.098,1415.05 242.996,1415.05 \n  \"/>\n<polyline clip-path=\"url(#clip110)\" style=\"stroke:#000000; stroke-linecap:butt; stroke-linejoin:round; stroke-width:4; stroke-opacity:1; fill:none\" points=\"\n  224.098,1110.37 242.996,1110.37 \n  \"/>\n<polyline clip-path=\"url(#clip110)\" style=\"stroke:#000000; stroke-linecap:butt; stroke-linejoin:round; stroke-width:4; stroke-opacity:1; fill:none\" points=\"\n  224.098,805.684 242.996,805.684 \n  \"/>\n<polyline clip-path=\"url(#clip110)\" style=\"stroke:#000000; stroke-linecap:butt; stroke-linejoin:round; stroke-width:4; stroke-opacity:1; fill:none\" points=\"\n  224.098,501.001 242.996,501.001 \n  \"/>\n<polyline clip-path=\"url(#clip110)\" style=\"stroke:#000000; stroke-linecap:butt; stroke-linejoin:round; stroke-width:4; stroke-opacity:1; fill:none\" points=\"\n  224.098,196.318 242.996,196.318 \n  \"/>\n<path clip-path=\"url(#clip110)\" d=\"M50.9921 1415.5 L80.6679 1415.5 L80.6679 1419.44 L50.9921 1419.44 L50.9921 1415.5 Z\" fill=\"#000000\" fill-rule=\"evenodd\" fill-opacity=\"1\" /><path clip-path=\"url(#clip110)\" d=\"M100.76 1400.85 Q97.1493 1400.85 95.3206 1404.41 Q93.515 1407.96 93.515 1415.08 Q93.515 1422.19 95.3206 1425.76 Q97.1493 1429.3 100.76 1429.3 Q104.395 1429.3 106.2 1425.76 Q108.029 1422.19 108.029 1415.08 Q108.029 1407.96 106.2 1404.41 Q104.395 1400.85 100.76 1400.85 M100.76 1397.14 Q106.571 1397.14 109.626 1401.75 Q112.705 1406.33 112.705 1415.08 Q112.705 1423.81 109.626 1428.42 Q106.571 1433 100.76 1433 Q94.9502 1433 91.8715 1428.42 Q88.816 1423.81 88.816 1415.08 Q88.816 1406.33 91.8715 1401.75 Q94.9502 1397.14 100.76 1397.14 Z\" fill=\"#000000\" fill-rule=\"evenodd\" fill-opacity=\"1\" /><path clip-path=\"url(#clip110)\" d=\"M120.922 1426.45 L125.807 1426.45 L125.807 1432.33 L120.922 1432.33 L120.922 1426.45 Z\" fill=\"#000000\" fill-rule=\"evenodd\" fill-opacity=\"1\" /><path clip-path=\"url(#clip110)\" d=\"M136.038 1397.77 L154.394 1397.77 L154.394 1401.71 L140.32 1401.71 L140.32 1410.18 Q141.339 1409.83 142.357 1409.67 Q143.376 1409.48 144.394 1409.48 Q150.181 1409.48 153.561 1412.65 Q156.941 1415.83 156.941 1421.24 Q156.941 1426.82 153.468 1429.92 Q149.996 1433 143.677 1433 Q141.501 1433 139.232 1432.63 Q136.987 1432.26 134.58 1431.52 L134.58 1426.82 Q136.663 1427.96 138.885 1428.51 Q141.107 1429.07 143.584 1429.07 Q147.589 1429.07 149.927 1426.96 Q152.265 1424.85 152.265 1421.24 Q152.265 1417.63 149.927 1415.52 Q147.589 1413.42 143.584 1413.42 Q141.709 1413.42 139.834 1413.83 Q137.982 1414.25 136.038 1415.13 L136.038 1397.77 Z\" fill=\"#000000\" fill-rule=\"evenodd\" fill-opacity=\"1\" /><path clip-path=\"url(#clip110)\" d=\"M176.153 1400.85 Q172.542 1400.85 170.714 1404.41 Q168.908 1407.96 168.908 1415.08 Q168.908 1422.19 170.714 1425.76 Q172.542 1429.3 176.153 1429.3 Q179.788 1429.3 181.593 1425.76 Q183.422 1422.19 183.422 1415.08 Q183.422 1407.96 181.593 1404.41 Q179.788 1400.85 176.153 1400.85 M176.153 1397.14 Q181.964 1397.14 185.019 1401.75 Q188.098 1406.33 188.098 1415.08 Q188.098 1423.81 185.019 1428.42 Q181.964 1433 176.153 1433 Q170.343 1433 167.265 1428.42 Q164.209 1423.81 164.209 1415.08 Q164.209 1406.33 167.265 1401.75 Q170.343 1397.14 176.153 1397.14 Z\" fill=\"#000000\" fill-rule=\"evenodd\" fill-opacity=\"1\" /><path clip-path=\"url(#clip110)\" d=\"M51.9875 1110.82 L81.6633 1110.82 L81.6633 1114.75 L51.9875 1114.75 L51.9875 1110.82 Z\" fill=\"#000000\" fill-rule=\"evenodd\" fill-opacity=\"1\" /><path clip-path=\"url(#clip110)\" d=\"M101.756 1096.17 Q98.1447 1096.17 96.316 1099.73 Q94.5104 1103.27 94.5104 1110.4 Q94.5104 1117.51 96.316 1121.07 Q98.1447 1124.61 101.756 1124.61 Q105.39 1124.61 107.196 1121.07 Q109.024 1117.51 109.024 1110.4 Q109.024 1103.27 107.196 1099.73 Q105.39 1096.17 101.756 1096.17 M101.756 1092.46 Q107.566 1092.46 110.621 1097.07 Q113.7 1101.65 113.7 1110.4 Q113.7 1119.13 110.621 1123.73 Q107.566 1128.32 101.756 1128.32 Q95.9456 1128.32 92.8669 1123.73 Q89.8114 1119.13 89.8114 1110.4 Q89.8114 1101.65 92.8669 1097.07 Q95.9456 1092.46 101.756 1092.46 Z\" fill=\"#000000\" fill-rule=\"evenodd\" fill-opacity=\"1\" /><path clip-path=\"url(#clip110)\" d=\"M121.918 1121.77 L126.802 1121.77 L126.802 1127.65 L121.918 1127.65 L121.918 1121.77 Z\" fill=\"#000000\" fill-rule=\"evenodd\" fill-opacity=\"1\" /><path clip-path=\"url(#clip110)\" d=\"M141.015 1123.71 L157.334 1123.71 L157.334 1127.65 L135.39 1127.65 L135.39 1123.71 Q138.052 1120.96 142.635 1116.33 Q147.242 1111.67 148.422 1110.33 Q150.668 1107.81 151.547 1106.07 Q152.45 1104.31 152.45 1102.62 Q152.45 1099.87 150.505 1098.13 Q148.584 1096.4 145.482 1096.4 Q143.283 1096.4 140.83 1097.16 Q138.399 1097.92 135.621 1099.48 L135.621 1094.75 Q138.445 1093.62 140.899 1093.04 Q143.353 1092.46 145.39 1092.46 Q150.76 1092.46 153.955 1095.15 Q157.149 1097.83 157.149 1102.32 Q157.149 1104.45 156.339 1106.37 Q155.552 1108.27 153.445 1110.86 Q152.867 1111.54 149.765 1114.75 Q146.663 1117.95 141.015 1123.71 Z\" fill=\"#000000\" fill-rule=\"evenodd\" fill-opacity=\"1\" /><path clip-path=\"url(#clip110)\" d=\"M167.195 1093.09 L185.552 1093.09 L185.552 1097.02 L171.478 1097.02 L171.478 1105.49 Q172.496 1105.15 173.515 1104.99 Q174.533 1104.8 175.552 1104.8 Q181.339 1104.8 184.718 1107.97 Q188.098 1111.14 188.098 1116.56 Q188.098 1122.14 184.626 1125.24 Q181.153 1128.32 174.834 1128.32 Q172.658 1128.32 170.39 1127.95 Q168.144 1127.58 165.737 1126.84 L165.737 1122.14 Q167.82 1123.27 170.042 1123.83 Q172.265 1124.38 174.741 1124.38 Q178.746 1124.38 181.084 1122.28 Q183.422 1120.17 183.422 1116.56 Q183.422 1112.95 181.084 1110.84 Q178.746 1108.74 174.741 1108.74 Q172.866 1108.74 170.991 1109.15 Q169.14 1109.57 167.195 1110.45 L167.195 1093.09 Z\" fill=\"#000000\" fill-rule=\"evenodd\" fill-opacity=\"1\" /><path clip-path=\"url(#clip110)\" d=\"M100.76 791.483 Q97.1493 791.483 95.3206 795.047 Q93.515 798.589 93.515 805.719 Q93.515 812.825 95.3206 816.39 Q97.1493 819.932 100.76 819.932 Q104.395 819.932 106.2 816.39 Q108.029 812.825 108.029 805.719 Q108.029 798.589 106.2 795.047 Q104.395 791.483 100.76 791.483 M100.76 787.779 Q106.571 787.779 109.626 792.385 Q112.705 796.969 112.705 805.719 Q112.705 814.445 109.626 819.052 Q106.571 823.635 100.76 823.635 Q94.9502 823.635 91.8715 819.052 Q88.816 814.445 88.816 805.719 Q88.816 796.969 91.8715 792.385 Q94.9502 787.779 100.76 787.779 Z\" fill=\"#000000\" fill-rule=\"evenodd\" fill-opacity=\"1\" /><path clip-path=\"url(#clip110)\" d=\"M120.922 817.084 L125.807 817.084 L125.807 822.964 L120.922 822.964 L120.922 817.084 Z\" fill=\"#000000\" fill-rule=\"evenodd\" fill-opacity=\"1\" /><path clip-path=\"url(#clip110)\" d=\"M145.992 791.483 Q142.381 791.483 140.552 795.047 Q138.746 798.589 138.746 805.719 Q138.746 812.825 140.552 816.39 Q142.381 819.932 145.992 819.932 Q149.626 819.932 151.431 816.39 Q153.26 812.825 153.26 805.719 Q153.26 798.589 151.431 795.047 Q149.626 791.483 145.992 791.483 M145.992 787.779 Q151.802 787.779 154.857 792.385 Q157.936 796.969 157.936 805.719 Q157.936 814.445 154.857 819.052 Q151.802 823.635 145.992 823.635 Q140.181 823.635 137.103 819.052 Q134.047 814.445 134.047 805.719 Q134.047 796.969 137.103 792.385 Q140.181 787.779 145.992 787.779 Z\" fill=\"#000000\" fill-rule=\"evenodd\" fill-opacity=\"1\" /><path clip-path=\"url(#clip110)\" d=\"M176.153 791.483 Q172.542 791.483 170.714 795.047 Q168.908 798.589 168.908 805.719 Q168.908 812.825 170.714 816.39 Q172.542 819.932 176.153 819.932 Q179.788 819.932 181.593 816.39 Q183.422 812.825 183.422 805.719 Q183.422 798.589 181.593 795.047 Q179.788 791.483 176.153 791.483 M176.153 787.779 Q181.964 787.779 185.019 792.385 Q188.098 796.969 188.098 805.719 Q188.098 814.445 185.019 819.052 Q181.964 823.635 176.153 823.635 Q170.343 823.635 167.265 819.052 Q164.209 814.445 164.209 805.719 Q164.209 796.969 167.265 792.385 Q170.343 787.779 176.153 787.779 Z\" fill=\"#000000\" fill-rule=\"evenodd\" fill-opacity=\"1\" /><path clip-path=\"url(#clip110)\" d=\"M101.756 486.8 Q98.1447 486.8 96.316 490.364 Q94.5104 493.906 94.5104 501.036 Q94.5104 508.142 96.316 511.707 Q98.1447 515.248 101.756 515.248 Q105.39 515.248 107.196 511.707 Q109.024 508.142 109.024 501.036 Q109.024 493.906 107.196 490.364 Q105.39 486.8 101.756 486.8 M101.756 483.096 Q107.566 483.096 110.621 487.702 Q113.7 492.286 113.7 501.036 Q113.7 509.762 110.621 514.369 Q107.566 518.952 101.756 518.952 Q95.9456 518.952 92.8669 514.369 Q89.8114 509.762 89.8114 501.036 Q89.8114 492.286 92.8669 487.702 Q95.9456 483.096 101.756 483.096 Z\" fill=\"#000000\" fill-rule=\"evenodd\" fill-opacity=\"1\" /><path clip-path=\"url(#clip110)\" d=\"M121.918 512.401 L126.802 512.401 L126.802 518.281 L121.918 518.281 L121.918 512.401 Z\" fill=\"#000000\" fill-rule=\"evenodd\" fill-opacity=\"1\" /><path clip-path=\"url(#clip110)\" d=\"M141.015 514.346 L157.334 514.346 L157.334 518.281 L135.39 518.281 L135.39 514.346 Q138.052 511.591 142.635 506.961 Q147.242 502.309 148.422 500.966 Q150.668 498.443 151.547 496.707 Q152.45 494.948 152.45 493.258 Q152.45 490.503 150.505 488.767 Q148.584 487.031 145.482 487.031 Q143.283 487.031 140.83 487.795 Q138.399 488.559 135.621 490.11 L135.621 485.388 Q138.445 484.253 140.899 483.675 Q143.353 483.096 145.39 483.096 Q150.76 483.096 153.955 485.781 Q157.149 488.466 157.149 492.957 Q157.149 495.087 156.339 497.008 Q155.552 498.906 153.445 501.499 Q152.867 502.17 149.765 505.387 Q146.663 508.582 141.015 514.346 Z\" fill=\"#000000\" fill-rule=\"evenodd\" fill-opacity=\"1\" /><path clip-path=\"url(#clip110)\" d=\"M167.195 483.721 L185.552 483.721 L185.552 487.656 L171.478 487.656 L171.478 496.128 Q172.496 495.781 173.515 495.619 Q174.533 495.434 175.552 495.434 Q181.339 495.434 184.718 498.605 Q188.098 501.776 188.098 507.193 Q188.098 512.772 184.626 515.873 Q181.153 518.952 174.834 518.952 Q172.658 518.952 170.39 518.582 Q168.144 518.211 165.737 517.471 L165.737 512.772 Q167.82 513.906 170.042 514.461 Q172.265 515.017 174.741 515.017 Q178.746 515.017 181.084 512.911 Q183.422 510.804 183.422 507.193 Q183.422 503.582 181.084 501.475 Q178.746 499.369 174.741 499.369 Q172.866 499.369 170.991 499.786 Q169.14 500.202 167.195 501.082 L167.195 483.721 Z\" fill=\"#000000\" fill-rule=\"evenodd\" fill-opacity=\"1\" /><path clip-path=\"url(#clip110)\" d=\"M100.76 182.117 Q97.1493 182.117 95.3206 185.681 Q93.515 189.223 93.515 196.353 Q93.515 203.459 95.3206 207.024 Q97.1493 210.565 100.76 210.565 Q104.395 210.565 106.2 207.024 Q108.029 203.459 108.029 196.353 Q108.029 189.223 106.2 185.681 Q104.395 182.117 100.76 182.117 M100.76 178.413 Q106.571 178.413 109.626 183.019 Q112.705 187.603 112.705 196.353 Q112.705 205.079 109.626 209.686 Q106.571 214.269 100.76 214.269 Q94.9502 214.269 91.8715 209.686 Q88.816 205.079 88.816 196.353 Q88.816 187.603 91.8715 183.019 Q94.9502 178.413 100.76 178.413 Z\" fill=\"#000000\" fill-rule=\"evenodd\" fill-opacity=\"1\" /><path clip-path=\"url(#clip110)\" d=\"M120.922 207.718 L125.807 207.718 L125.807 213.598 L120.922 213.598 L120.922 207.718 Z\" fill=\"#000000\" fill-rule=\"evenodd\" fill-opacity=\"1\" /><path clip-path=\"url(#clip110)\" d=\"M136.038 179.038 L154.394 179.038 L154.394 182.973 L140.32 182.973 L140.32 191.445 Q141.339 191.098 142.357 190.936 Q143.376 190.751 144.394 190.751 Q150.181 190.751 153.561 193.922 Q156.941 197.093 156.941 202.51 Q156.941 208.089 153.468 211.19 Q149.996 214.269 143.677 214.269 Q141.501 214.269 139.232 213.899 Q136.987 213.528 134.58 212.788 L134.58 208.089 Q136.663 209.223 138.885 209.778 Q141.107 210.334 143.584 210.334 Q147.589 210.334 149.927 208.227 Q152.265 206.121 152.265 202.51 Q152.265 198.899 149.927 196.792 Q147.589 194.686 143.584 194.686 Q141.709 194.686 139.834 195.103 Q137.982 195.519 136.038 196.399 L136.038 179.038 Z\" fill=\"#000000\" fill-rule=\"evenodd\" fill-opacity=\"1\" /><path clip-path=\"url(#clip110)\" d=\"M176.153 182.117 Q172.542 182.117 170.714 185.681 Q168.908 189.223 168.908 196.353 Q168.908 203.459 170.714 207.024 Q172.542 210.565 176.153 210.565 Q179.788 210.565 181.593 207.024 Q183.422 203.459 183.422 196.353 Q183.422 189.223 181.593 185.681 Q179.788 182.117 176.153 182.117 M176.153 178.413 Q181.964 178.413 185.019 183.019 Q188.098 187.603 188.098 196.353 Q188.098 205.079 185.019 209.686 Q181.964 214.269 176.153 214.269 Q170.343 214.269 167.265 209.686 Q164.209 205.079 164.209 196.353 Q164.209 187.603 167.265 183.019 Q170.343 178.413 176.153 178.413 Z\" fill=\"#000000\" fill-rule=\"evenodd\" fill-opacity=\"1\" /><path clip-path=\"url(#clip112)\" d=\"\nM284.343 1243.43 L384.751 1303.67 L485.16 1327.69 L585.568 1199.99 L685.977 1188.85 L786.385 1311.2 L886.793 1261.09 L987.202 1330.38 L1087.61 1361.44 L1188.02 1311.17 \n  L1288.43 1320.79 L1388.84 1285.83 L1489.24 1326.99 L1589.65 1350.61 L1690.06 1371.46 L1790.47 1356.09 L1890.88 1426.82 L1991.29 1445.72 L2091.69 1445.08 L2192.1 1409.43 \n  L2292.51 1402.36 L2292.51 237.101 L2192.1 178.383 L2091.69 100.429 L1991.29 101.768 L1890.88 97.4016 L1790.47 89.3615 L1690.06 87.9763 L1589.65 136.931 L1489.24 164.954 \n  L1388.84 246.308 L1288.43 235.766 L1188.02 186.229 L1087.61 175.444 L987.202 166.296 L886.793 254.189 L786.385 175.846 L685.977 225.291 L585.568 204.172 L485.16 215.748 \n  L384.751 203.744 L284.343 216.318  Z\n  \" fill=\"#009af9\" fill-rule=\"evenodd\" fill-opacity=\"0.2\"/>\n<polyline clip-path=\"url(#clip112)\" style=\"stroke:#009af9; stroke-linecap:butt; stroke-linejoin:round; stroke-width:12; stroke-opacity:1; fill:none\" points=\"\n  284.343,661.012 384.751,649.336 485.16,703.763 585.568,728.954 685.977,680.033 786.385,676.734 886.793,707.725 987.202,731.861 1087.61,684.254 1188.02,756.325 \n  1288.43,756.832 1388.84,772.223 1489.24,752.083 1589.65,803.47 1690.06,805.713 1790.47,796.897 1890.88,834.228 1991.29,854.791 2091.69,834.847 2192.1,840.484 \n  2292.51,788.097 \n  \"/>\n<path clip-path=\"url(#clip112)\" d=\"\nM284.343 826.562 L384.751 826.345 L485.16 822.755 L585.568 822.502 L685.977 821.059 L786.385 828.563 L886.793 824.367 L987.202 826.983 L1087.61 830.569 L1188.02 822.768 \n  L1288.43 827.358 L1388.84 820.249 L1489.24 821.703 L1589.65 819.828 L1690.06 819.757 L1790.47 829.594 L1890.88 827.247 L1991.29 830.279 L2091.69 819.337 L2192.1 822.173 \n  L2292.51 819.408 L2292.51 785.164 L2192.1 786.119 L2091.69 784.883 L1991.29 793.256 L1890.88 790.06 L1790.47 790.568 L1690.06 778.431 L1589.65 786.236 L1489.24 779.168 \n  L1388.84 786.675 L1288.43 780.366 L1188.02 792.041 L1087.61 779.146 L987.202 785.001 L886.793 786.801 L786.385 796.178 L685.977 785.482 L585.568 780.546 L485.16 787.953 \n  L384.751 787.121 L284.343 786.801  Z\n  \" fill=\"#e26f46\" fill-rule=\"evenodd\" fill-opacity=\"0.2\"/>\n<polyline clip-path=\"url(#clip112)\" style=\"stroke:#e26f46; stroke-linecap:butt; stroke-linejoin:round; stroke-width:12; stroke-opacity:1; fill:none\" points=\"\n  284.343,803.743 384.751,808.589 485.16,801.065 585.568,801.89 685.977,804.922 786.385,808.256 886.793,808.669 987.202,806.214 1087.61,806.048 1188.02,806.476 \n  1288.43,808.945 1388.84,805.282 1489.24,804.438 1589.65,807.757 1690.06,802.828 1790.47,804.661 1890.88,804.092 1991.29,809.557 2091.69,804.937 2192.1,805.323 \n  2292.51,803.417 \n  \"/>\n</svg>\n"
     },
     "execution_count": 16,
     "metadata": {},
     "output_type": "execute_result"
    }
   ],
   "source": [
    "p_f = (ρ = 0.2, δ = 0.02, σ = 0.01, Ω_1 = 0.01) # Fixed parameters\n",
    "p_d = (α = 0.5, β = 0.95) # Pseudo-true values\n",
    "sol = generate_perturbation(m, p_d, p_f) # Solution to the first-order RBC\n",
    "sol_2 = generate_perturbation(m, p_d, p_f, Val(2)) # Solution to the second-order RBC\n",
    "\n",
    "# Simulate multiple trajectories with T observations\n",
    "T = 20\n",
    "trajectories = 40\n",
    "\n",
    "# draw from ergodic for each simulation\n",
    "x_iv = MvNormal(sol.x_ergodic_var) # draw initial conditions from the ergodic distribution\n",
    "problem = LinearStateSpaceProblem(sol, x_iv, (0, T))\n",
    "\n",
    "# Solve multiple trajectories and plot an ensemble\n",
    "ensemble_results = solve(EnsembleProblem(problem), DirectIteration(), EnsembleThreads();\n",
    "                 trajectories)\n",
    "plot(EnsembleSummary(ensemble_results))"
   ]
  },
  {
   "cell_type": "markdown",
   "metadata": {},
   "source": [
    "# Calculate sequence of observables"
   ]
  },
  {
   "cell_type": "code",
   "execution_count": 17,
   "metadata": {},
   "outputs": [
    {
     "data": {
      "text/plain": [
       "2×21 Matrix{Float64}:\n",
       " -0.0110833   0.00176958  -0.0168909  …  -0.00810419  -0.0179804  -0.0126817\n",
       "  0.0376783  -0.0541287   -0.112543      -0.0651311   -0.117572   -0.0937093"
      ]
     },
     "execution_count": 17,
     "metadata": {},
     "output_type": "execute_result"
    }
   ],
   "source": [
    "# Simulate T observations\n",
    "T = 20\n",
    "\n",
    "p_f = (ρ = 0.2, δ = 0.02, σ = 0.01, Ω_1 = 0.01) # Fixed parameters\n",
    "p_d = (α = 0.5, β = 0.95) # Pseudo-true values\n",
    "sol = generate_perturbation(model_rbc, p_d, p_f) # Solution to the first-order RBC\n",
    "\n",
    "x_iv = MvNormal(sol.x_ergodic_var) # draw initial conditions from the ergodic distribution\n",
    "problem = LinearStateSpaceProblem(sol, x_iv, (0, T))\n",
    "sim = solve(problem, DirectIteration())\n",
    "ϵ = sim.W # store the underlying noise in the simulation\n",
    "\n",
    "# simulated observables\n",
    "# see https://github.com/SciML/DifferenceEquations.jl/issues/55 for \n",
    "# direct support of this datastructure\n",
    "z = hcat(sim.z...) "
   ]
  },
  {
   "cell_type": "markdown",
   "metadata": {},
   "source": [
    "# Bayesian estimation with Turing "
   ]
  },
  {
   "cell_type": "code",
   "execution_count": 18,
   "metadata": {},
   "outputs": [],
   "source": [
    "using Turing\n",
    "using Turing: @addlogprob!\n",
    "Turing.setadbackend(:zygote);"
   ]
  },
  {
   "cell_type": "markdown",
   "metadata": {},
   "source": [
    "## First-order, marginal likelihood approach"
   ]
  },
  {
   "cell_type": "code",
   "execution_count": 19,
   "metadata": {},
   "outputs": [
    {
     "name": "stderr",
     "output_type": "stream",
     "text": [
      "┌ Info: Found initial step size\n",
      "│   ϵ = 0.05\n",
      "└ @ Turing.Inference C:\\Users\\jbrig\\.julia\\packages\\Turing\\S4Y4B\\src\\inference\\hmc.jl:188\n"
     ]
    },
    {
     "data": {
      "text/plain": [
       "ErrorException(\"Failing on norm of covariance matrix\")"
      ]
     },
     "metadata": {},
     "output_type": "display_data"
    },
    {
     "name": "stderr",
     "output_type": "stream",
     "text": [
      "┌ Warning: The current proposal will be rejected due to numerical error(s).\n",
      "│   isfinite.((θ, r, ℓπ, ℓκ)) = (true, false, false, false)\n",
      "└ @ AdvancedHMC C:\\Users\\jbrig\\.julia\\packages\\AdvancedHMC\\51xgc\\src\\hamiltonian.jl:47\n",
      "\u001b[32mSampling:   1%|█                                        |  ETA: 0:00:28\u001b[39m"
     ]
    },
    {
     "data": {
      "text/plain": [
       "ErrorException(\"Failing on norm of covariance matrix\")"
      ]
     },
     "metadata": {},
     "output_type": "display_data"
    },
    {
     "name": "stderr",
     "output_type": "stream",
     "text": [
      "┌ Warning: The current proposal will be rejected due to numerical error(s).\n",
      "│   isfinite.((θ, r, ℓπ, ℓκ)) = (true, true, false, true)\n",
      "└ @ AdvancedHMC C:\\Users\\jbrig\\.julia\\packages\\AdvancedHMC\\51xgc\\src\\hamiltonian.jl:47\n",
      "┌ Warning: The current proposal will be rejected due to numerical error(s).\n",
      "│   isfinite.((θ, r, ℓπ, ℓκ)) = (true, false, false, false)\n",
      "└ @ AdvancedHMC C:\\Users\\jbrig\\.julia\\packages\\AdvancedHMC\\51xgc\\src\\hamiltonian.jl:47\n"
     ]
    },
    {
     "data": {
      "text/plain": [
       "ErrorException(\"Failing on norm of covariance matrix\")"
      ]
     },
     "metadata": {},
     "output_type": "display_data"
    },
    {
     "name": "stderr",
     "output_type": "stream",
     "text": [
      "┌ Warning: The current proposal will be rejected due to numerical error(s).\n",
      "│   isfinite.((θ, r, ℓπ, ℓκ)) = (true, true, false, true)\n",
      "└ @ AdvancedHMC C:\\Users\\jbrig\\.julia\\packages\\AdvancedHMC\\51xgc\\src\\hamiltonian.jl:47\n",
      "\u001b[32mSampling:   8%|████                                     |  ETA: 0:00:36\u001b[39m"
     ]
    },
    {
     "data": {
      "text/plain": [
       "ErrorException(\"Failing on norm of covariance matrix\")"
      ]
     },
     "metadata": {},
     "output_type": "display_data"
    },
    {
     "name": "stderr",
     "output_type": "stream",
     "text": [
      "┌ Warning: The current proposal will be rejected due to numerical error(s).\n",
      "│   isfinite.((θ, r, ℓπ, ℓκ)) = (true, true, false, true)\n",
      "└ @ AdvancedHMC C:\\Users\\jbrig\\.julia\\packages\\AdvancedHMC\\51xgc\\src\\hamiltonian.jl:47\n",
      "\u001b[32mSampling: 100%|█████████████████████████████████████████| Time: 0:00:24\u001b[39m\n"
     ]
    },
    {
     "data": {
      "text/plain": [
       "Chains MCMC chain (1000×14×1 Array{Float64, 3}):\n",
       "\n",
       "Iterations        = 101:1:1100\n",
       "Number of chains  = 1\n",
       "Samples per chain = 1000\n",
       "Wall duration     = 102.12 seconds\n",
       "Compute duration  = 102.12 seconds\n",
       "parameters        = α, β\n",
       "internals         = lp, n_steps, is_accept, acceptance_rate, log_density, hamiltonian_energy, hamiltonian_energy_error, max_hamiltonian_energy_error, tree_depth, numerical_error, step_size, nom_step_size\n",
       "\n",
       "Summary Statistics\n",
       " \u001b[1m parameters \u001b[0m \u001b[1m    mean \u001b[0m \u001b[1m     std \u001b[0m \u001b[1m naive_se \u001b[0m \u001b[1m    mcse \u001b[0m \u001b[1m      ess \u001b[0m \u001b[1m    rhat \u001b[0m \u001b[1m e\u001b[0m ⋯\n",
       " \u001b[90m     Symbol \u001b[0m \u001b[90m Float64 \u001b[0m \u001b[90m Float64 \u001b[0m \u001b[90m  Float64 \u001b[0m \u001b[90m Float64 \u001b[0m \u001b[90m  Float64 \u001b[0m \u001b[90m Float64 \u001b[0m \u001b[90m  \u001b[0m ⋯\n",
       "\n",
       "           α    0.4711    0.0242     0.0008    0.0013   377.3293    1.0010     ⋯\n",
       "           β    0.9570    0.0069     0.0002    0.0005   213.2081    1.0090     ⋯\n",
       "\u001b[36m                                                                1 column omitted\u001b[0m\n",
       "\n",
       "Quantiles\n",
       " \u001b[1m parameters \u001b[0m \u001b[1m    2.5% \u001b[0m \u001b[1m   25.0% \u001b[0m \u001b[1m   50.0% \u001b[0m \u001b[1m   75.0% \u001b[0m \u001b[1m   97.5% \u001b[0m\n",
       " \u001b[90m     Symbol \u001b[0m \u001b[90m Float64 \u001b[0m \u001b[90m Float64 \u001b[0m \u001b[90m Float64 \u001b[0m \u001b[90m Float64 \u001b[0m \u001b[90m Float64 \u001b[0m\n",
       "\n",
       "           α    0.4222    0.4548    0.4716    0.4874    0.5144\n",
       "           β    0.9439    0.9522    0.9568    0.9617    0.9706\n"
      ]
     },
     "execution_count": 19,
     "metadata": {},
     "output_type": "execute_result"
    }
   ],
   "source": [
    "# Turing model definition\n",
    "@model function rbc_kalman(z, m, p_f, cache)\n",
    "    α ~ Uniform(0.2, 0.8)\n",
    "    β ~ Uniform(0.5, 0.99)\n",
    "    p_d = (; α, β)\n",
    "    T = size(z, 2)\n",
    "    sol = generate_perturbation(m, p_d, p_f, Val(1); cache)\n",
    "    if !(sol.retcode == :Success)\n",
    "        @addlogprob! -Inf\n",
    "        return\n",
    "    end\n",
    "    problem = LinearStateSpaceProblem(sol, zeros(2), (0, T), observables = z)\n",
    "    @addlogprob! solve(problem, KalmanFilter()).logpdf\n",
    "end\n",
    "cache = SolverCache(model_rbc, Val(1),  [:α, :β])\n",
    "p_f = (ρ = 0.2, δ = 0.02, σ = 0.01, Ω_1 = 0.01) # Fixed parameters\n",
    "turing_model = rbc_kalman(z, model_rbc, p_f, cache) # passing observables from before \n",
    "\n",
    "n_samples = 1000\n",
    "n_adapts = 100\n",
    "δ = 0.65\n",
    "alg = NUTS(n_adapts,δ)\n",
    "chain_1_marginal = sample(turing_model, alg, n_samples; progress = true)"
   ]
  },
  {
   "cell_type": "markdown",
   "metadata": {},
   "source": [
    "## First-order, joint likelihood approach"
   ]
  },
  {
   "cell_type": "code",
   "execution_count": 20,
   "metadata": {},
   "outputs": [
    {
     "name": "stderr",
     "output_type": "stream",
     "text": [
      "┌ Info: Found initial step size\n",
      "│   ϵ = 0.025\n",
      "└ @ Turing.Inference C:\\Users\\jbrig\\.julia\\packages\\Turing\\S4Y4B\\src\\inference\\hmc.jl:188\n",
      "\u001b[32mSampling: 100%|█████████████████████████████████████████| Time: 0:10:51\u001b[39m\n"
     ]
    },
    {
     "data": {
      "text/plain": [
       "Chains MCMC chain (1000×35×1 Array{Float64, 3}):\n",
       "\n",
       "Iterations        = 101:1:1100\n",
       "Number of chains  = 1\n",
       "Samples per chain = 1000\n",
       "Wall duration     = 701.82 seconds\n",
       "Compute duration  = 701.82 seconds\n",
       "parameters        = α, β, ϵ_draw[1], ϵ_draw[2], ϵ_draw[3], ϵ_draw[4], ϵ_draw[5], ϵ_draw[6], ϵ_draw[7], ϵ_draw[8], ϵ_draw[9], ϵ_draw[10], ϵ_draw[11], ϵ_draw[12], ϵ_draw[13], ϵ_draw[14], ϵ_draw[15], ϵ_draw[16], ϵ_draw[17], ϵ_draw[18], ϵ_draw[19], ϵ_draw[20], ϵ_draw[21]\n",
       "internals         = lp, n_steps, is_accept, acceptance_rate, log_density, hamiltonian_energy, hamiltonian_energy_error, max_hamiltonian_energy_error, tree_depth, numerical_error, step_size, nom_step_size\n",
       "\n",
       "Summary Statistics\n",
       " \u001b[1m parameters \u001b[0m \u001b[1m    mean \u001b[0m \u001b[1m     std \u001b[0m \u001b[1m naive_se \u001b[0m \u001b[1m    mcse \u001b[0m \u001b[1m      ess \u001b[0m \u001b[1m    rhat \u001b[0m \u001b[1m e\u001b[0m ⋯\n",
       " \u001b[90m     Symbol \u001b[0m \u001b[90m Float64 \u001b[0m \u001b[90m Float64 \u001b[0m \u001b[90m  Float64 \u001b[0m \u001b[90m Float64 \u001b[0m \u001b[90m  Float64 \u001b[0m \u001b[90m Float64 \u001b[0m \u001b[90m  \u001b[0m ⋯\n",
       "\n",
       "           α    0.4682    0.0239     0.0008    0.0017   316.9382    1.0017     ⋯\n",
       "           β    0.9576    0.0073     0.0002    0.0003   894.4199    1.0003     ⋯\n",
       "   ϵ_draw[1]    1.0446    0.2530     0.0080    0.0149   463.3472    1.0003     ⋯\n",
       "   ϵ_draw[2]    0.9854    0.3130     0.0099    0.0137   559.5505    0.9996     ⋯\n",
       "   ϵ_draw[3]    2.0944    0.4035     0.0128    0.0231   409.9671    1.0004     ⋯\n",
       "   ϵ_draw[4]    0.4733    0.3091     0.0098    0.0120   820.5736    0.9992     ⋯\n",
       "   ϵ_draw[5]    0.9287    0.3044     0.0096    0.0114   878.6120    0.9994     ⋯\n",
       "   ϵ_draw[6]   -1.4583    0.3234     0.0102    0.0174   491.5914    0.9995     ⋯\n",
       "   ϵ_draw[7]    0.9093    0.2788     0.0088    0.0117   660.1351    0.9992     ⋯\n",
       "   ϵ_draw[8]   -0.8132    0.2719     0.0086    0.0097   769.5196    1.0007     ⋯\n",
       "   ϵ_draw[9]   -0.7313    0.2912     0.0092    0.0125   678.2773    0.9992     ⋯\n",
       "  ϵ_draw[10]    0.3880    0.2819     0.0089    0.0106   711.2663    1.0023     ⋯\n",
       "  ϵ_draw[11]    1.4568    0.3371     0.0107    0.0177   528.7453    1.0001     ⋯\n",
       "  ϵ_draw[12]   -0.1782    0.2808     0.0089    0.0076   980.2147    1.0026     ⋯\n",
       "  ϵ_draw[13]   -0.0901    0.2823     0.0089    0.0090   899.6523    0.9999     ⋯\n",
       "  ϵ_draw[14]   -0.0485    0.2829     0.0089    0.0088   885.3591    0.9992     ⋯\n",
       "  ϵ_draw[15]   -0.4788    0.2859     0.0090    0.0098   874.0550    1.0009     ⋯\n",
       "  ϵ_draw[16]   -0.2600    0.2838     0.0090    0.0096   812.9356    0.9991     ⋯\n",
       "  ϵ_draw[17]   -1.6957    0.3346     0.0106    0.0179   505.3057    1.0007     ⋯\n",
       "  ϵ_draw[18]    0.7101    0.2816     0.0089    0.0089   806.6688    0.9993     ⋯\n",
       "  ϵ_draw[19]    0.9250    0.3077     0.0097    0.0140   551.9699    1.0006     ⋯\n",
       "  ϵ_draw[20]   -0.4655    0.2805     0.0089    0.0104   726.8065    0.9994     ⋯\n",
       "  ϵ_draw[21]    0.1393    0.9372     0.0296    0.0643   186.2311    1.0103     ⋯\n",
       "\u001b[36m                                                                1 column omitted\u001b[0m\n",
       "\n",
       "Quantiles\n",
       " \u001b[1m parameters \u001b[0m \u001b[1m    2.5% \u001b[0m \u001b[1m   25.0% \u001b[0m \u001b[1m   50.0% \u001b[0m \u001b[1m   75.0% \u001b[0m \u001b[1m   97.5% \u001b[0m\n",
       " \u001b[90m     Symbol \u001b[0m \u001b[90m Float64 \u001b[0m \u001b[90m Float64 \u001b[0m \u001b[90m Float64 \u001b[0m \u001b[90m Float64 \u001b[0m \u001b[90m Float64 \u001b[0m\n",
       "\n",
       "           α    0.4208    0.4513    0.4690    0.4846    0.5136\n",
       "           β    0.9430    0.9527    0.9575    0.9624    0.9720\n",
       "   ϵ_draw[1]    0.5936    0.8583    1.0307    1.2168    1.5753\n",
       "   ϵ_draw[2]    0.4056    0.7710    0.9681    1.2020    1.6100\n",
       "   ϵ_draw[3]    1.3893    1.7967    2.0735    2.3580    2.9062\n",
       "   ϵ_draw[4]   -0.0855    0.2613    0.4544    0.6652    1.1172\n",
       "   ϵ_draw[5]    0.3152    0.7276    0.9246    1.1166    1.5559\n",
       "   ϵ_draw[6]   -2.1196   -1.6502   -1.4430   -1.2477   -0.8599\n",
       "   ϵ_draw[7]    0.3668    0.7300    0.9035    1.1046    1.4809\n",
       "   ϵ_draw[8]   -1.3457   -0.9907   -0.8153   -0.6230   -0.3030\n",
       "   ϵ_draw[9]   -1.3551   -0.9194   -0.7171   -0.5311   -0.1974\n",
       "  ϵ_draw[10]   -0.1626    0.2024    0.3887    0.5716    0.9531\n",
       "  ϵ_draw[11]    0.8144    1.2241    1.4489    1.6834    2.1196\n",
       "  ϵ_draw[12]   -0.7247   -0.3609   -0.1948    0.0003    0.3877\n",
       "  ϵ_draw[13]   -0.6743   -0.2712   -0.0784    0.0907    0.4648\n",
       "  ϵ_draw[14]   -0.6050   -0.2193   -0.0585    0.1366    0.5011\n",
       "  ϵ_draw[15]   -1.0799   -0.6685   -0.4653   -0.2831    0.0662\n",
       "  ϵ_draw[16]   -0.8335   -0.4496   -0.2480   -0.0667    0.2523\n",
       "  ϵ_draw[17]   -2.4034   -1.9013   -1.6902   -1.4585   -1.0728\n",
       "  ϵ_draw[18]    0.1799    0.5233    0.6995    0.8860    1.3213\n",
       "  ϵ_draw[19]    0.3583    0.7186    0.9069    1.1249    1.5700\n",
       "  ϵ_draw[20]   -1.0002   -0.6579   -0.4611   -0.2750    0.0775\n",
       "  ϵ_draw[21]   -1.7950   -0.5049    0.1863    0.7872    1.8798\n"
      ]
     },
     "execution_count": 20,
     "metadata": {},
     "output_type": "execute_result"
    }
   ],
   "source": [
    "# Turing model definition\n",
    "@model function rbc_1_joint(z, m, p_f, cache)\n",
    "    α ~ Uniform(0.2, 0.8)\n",
    "    β ~ Uniform(0.5, 0.99)\n",
    "    p_d = (; α, β)\n",
    "    T = size(z, 2)\n",
    "    ϵ_draw ~ MvNormal(m.n_ϵ * T, 1.0)\n",
    "    ϵ = reshape(ϵ_draw, m.n_ϵ, T)\n",
    "    sol = generate_perturbation(m, p_d, p_f, Val(1); cache)\n",
    "    if !(sol.retcode == :Success)\n",
    "        @addlogprob! -Inf\n",
    "        return\n",
    "    end\n",
    "    problem = LinearStateSpaceProblem(sol, zeros(2), (0, T), observables = z, noise=ϵ)\n",
    "    @addlogprob! solve(problem, DirectIteration()).logpdf\n",
    "end\n",
    "cache = SolverCache(model_rbc, Val(1),  [:α, :β])\n",
    "p_f = (ρ = 0.2, δ = 0.02, σ = 0.01, Ω_1 = 0.01) # Fixed parameters\n",
    "turing_model = rbc_1_joint(z, model_rbc, p_f, cache) # passing observables from before \n",
    "\n",
    "n_samples = 1000\n",
    "n_adapts = 100\n",
    "δ = 0.65\n",
    "alg = NUTS(n_adapts,δ)\n",
    "chain_1_joint = sample(turing_model, alg, n_samples; progress = true)"
   ]
  },
  {
   "cell_type": "markdown",
   "metadata": {},
   "source": [
    "## Second-order, joint likelihood approach"
   ]
  },
  {
   "cell_type": "code",
   "execution_count": 22,
   "metadata": {},
   "outputs": [
    {
     "name": "stderr",
     "output_type": "stream",
     "text": [
      "┌ Info: Found initial step size\n",
      "│   ϵ = 0.05\n",
      "└ @ Turing.Inference C:\\Users\\jbrig\\.julia\\packages\\Turing\\S4Y4B\\src\\inference\\hmc.jl:188\n",
      "\u001b[32mSampling: 100%|█████████████████████████████████████████| Time: 0:15:13\u001b[39m\n"
     ]
    },
    {
     "data": {
      "text/plain": [
       "Chains MCMC chain (1000×35×1 Array{Float64, 3}):\n",
       "\n",
       "Iterations        = 101:1:1100\n",
       "Number of chains  = 1\n",
       "Samples per chain = 1000\n",
       "Wall duration     = 952.06 seconds\n",
       "Compute duration  = 952.06 seconds\n",
       "parameters        = α, β, ϵ_draw[1], ϵ_draw[2], ϵ_draw[3], ϵ_draw[4], ϵ_draw[5], ϵ_draw[6], ϵ_draw[7], ϵ_draw[8], ϵ_draw[9], ϵ_draw[10], ϵ_draw[11], ϵ_draw[12], ϵ_draw[13], ϵ_draw[14], ϵ_draw[15], ϵ_draw[16], ϵ_draw[17], ϵ_draw[18], ϵ_draw[19], ϵ_draw[20], ϵ_draw[21]\n",
       "internals         = lp, n_steps, is_accept, acceptance_rate, log_density, hamiltonian_energy, hamiltonian_energy_error, max_hamiltonian_energy_error, tree_depth, numerical_error, step_size, nom_step_size\n",
       "\n",
       "Summary Statistics\n",
       " \u001b[1m parameters \u001b[0m \u001b[1m    mean \u001b[0m \u001b[1m     std \u001b[0m \u001b[1m naive_se \u001b[0m \u001b[1m    mcse \u001b[0m \u001b[1m       ess \u001b[0m \u001b[1m    rhat \u001b[0m \u001b[1m \u001b[0m ⋯\n",
       " \u001b[90m     Symbol \u001b[0m \u001b[90m Float64 \u001b[0m \u001b[90m Float64 \u001b[0m \u001b[90m  Float64 \u001b[0m \u001b[90m Float64 \u001b[0m \u001b[90m   Float64 \u001b[0m \u001b[90m Float64 \u001b[0m \u001b[90m \u001b[0m ⋯\n",
       "\n",
       "           α    0.4685    0.0250     0.0008    0.0014    290.9545    0.9990    ⋯\n",
       "           β    0.9577    0.0072     0.0002    0.0002   1308.6680    0.9991    ⋯\n",
       "   ϵ_draw[1]    1.0305    0.2462     0.0078    0.0097    500.4249    0.9994    ⋯\n",
       "   ϵ_draw[2]    1.0002    0.3341     0.0106    0.0158    459.6121    0.9990    ⋯\n",
       "   ϵ_draw[3]    2.1138    0.4327     0.0137    0.0214    312.4495    0.9990    ⋯\n",
       "   ϵ_draw[4]    0.4732    0.3021     0.0096    0.0120    852.5087    1.0001    ⋯\n",
       "   ϵ_draw[5]    0.9314    0.2889     0.0091    0.0109    614.4290    0.9992    ⋯\n",
       "   ϵ_draw[6]   -1.4537    0.3208     0.0101    0.0146    444.7912    0.9992    ⋯\n",
       "   ϵ_draw[7]    0.9128    0.2903     0.0092    0.0130    610.3221    0.9992    ⋯\n",
       "   ϵ_draw[8]   -0.8119    0.2870     0.0091    0.0140    522.2030    0.9996    ⋯\n",
       "   ϵ_draw[9]   -0.7110    0.2954     0.0093    0.0133    623.8087    1.0016    ⋯\n",
       "  ϵ_draw[10]    0.3679    0.2913     0.0092    0.0108    869.3051    1.0004    ⋯\n",
       "  ϵ_draw[11]    1.4539    0.3538     0.0112    0.0169    423.6275    0.9990    ⋯\n",
       "  ϵ_draw[12]   -0.1797    0.2655     0.0084    0.0077   1217.5721    1.0007    ⋯\n",
       "  ϵ_draw[13]   -0.1009    0.2728     0.0086    0.0099    978.1542    1.0058    ⋯\n",
       "  ϵ_draw[14]   -0.0251    0.2618     0.0083    0.0103    932.0017    1.0064    ⋯\n",
       "  ϵ_draw[15]   -0.4925    0.2809     0.0089    0.0125    691.4015    1.0016    ⋯\n",
       "  ϵ_draw[16]   -0.2498    0.2926     0.0093    0.0099    959.7497    0.9991    ⋯\n",
       "  ϵ_draw[17]   -1.6965    0.3618     0.0114    0.0191    348.2134    0.9991    ⋯\n",
       "  ϵ_draw[18]    0.7336    0.2993     0.0095    0.0107    657.7585    0.9991    ⋯\n",
       "  ϵ_draw[19]    0.8948    0.3022     0.0096    0.0116    587.3847    0.9990    ⋯\n",
       "  ϵ_draw[20]   -0.4514    0.2837     0.0090    0.0096    955.0126    0.9990    ⋯\n",
       "  ϵ_draw[21]    0.1309    0.8573     0.0271    0.0719    164.7885    0.9995    ⋯\n",
       "\u001b[36m                                                                1 column omitted\u001b[0m\n",
       "\n",
       "Quantiles\n",
       " \u001b[1m parameters \u001b[0m \u001b[1m    2.5% \u001b[0m \u001b[1m   25.0% \u001b[0m \u001b[1m   50.0% \u001b[0m \u001b[1m   75.0% \u001b[0m \u001b[1m   97.5% \u001b[0m\n",
       " \u001b[90m     Symbol \u001b[0m \u001b[90m Float64 \u001b[0m \u001b[90m Float64 \u001b[0m \u001b[90m Float64 \u001b[0m \u001b[90m Float64 \u001b[0m \u001b[90m Float64 \u001b[0m\n",
       "\n",
       "           α    0.4149    0.4521    0.4687    0.4855    0.5157\n",
       "           β    0.9436    0.9529    0.9576    0.9629    0.9714\n",
       "   ϵ_draw[1]    0.5786    0.8632    1.0190    1.1856    1.5366\n",
       "   ϵ_draw[2]    0.4113    0.7600    0.9930    1.2061    1.6791\n",
       "   ϵ_draw[3]    1.3810    1.8050    2.0832    2.3684    3.1241\n",
       "   ϵ_draw[4]   -0.0990    0.2701    0.4612    0.6764    1.0782\n",
       "   ϵ_draw[5]    0.4155    0.7250    0.9091    1.1233    1.5535\n",
       "   ϵ_draw[6]   -2.0830   -1.6698   -1.4313   -1.2241   -0.8642\n",
       "   ϵ_draw[7]    0.3693    0.7222    0.9044    1.0940    1.5299\n",
       "   ϵ_draw[8]   -1.4003   -0.9966   -0.8099   -0.6096   -0.2872\n",
       "   ϵ_draw[9]   -1.3089   -0.9067   -0.7059   -0.5123   -0.1804\n",
       "  ϵ_draw[10]   -0.1719    0.1742    0.3533    0.5508    0.9425\n",
       "  ϵ_draw[11]    0.8283    1.2124    1.4351    1.6592    2.1994\n",
       "  ϵ_draw[12]   -0.7177   -0.3578   -0.1762    0.0041    0.3391\n",
       "  ϵ_draw[13]   -0.6566   -0.2758   -0.0961    0.0822    0.4136\n",
       "  ϵ_draw[14]   -0.5468   -0.1981   -0.0201    0.1501    0.4639\n",
       "  ϵ_draw[15]   -1.0494   -0.6899   -0.4866   -0.2921    0.0385\n",
       "  ϵ_draw[16]   -0.8728   -0.4275   -0.2466   -0.0613    0.3322\n",
       "  ϵ_draw[17]   -2.4279   -1.9288   -1.6839   -1.4325   -1.0644\n",
       "  ϵ_draw[18]    0.1783    0.5281    0.7279    0.9188    1.3793\n",
       "  ϵ_draw[19]    0.3068    0.6950    0.8752    1.0896    1.4979\n",
       "  ϵ_draw[20]   -1.0167   -0.6426   -0.4558   -0.2549    0.0980\n",
       "  ϵ_draw[21]   -1.5931   -0.3973    0.1592    0.6762    1.7395\n"
      ]
     },
     "execution_count": 22,
     "metadata": {},
     "output_type": "execute_result"
    }
   ],
   "source": [
    "# Turing model definition\n",
    "@model function rbc_2_joint(z, m, p_f, cache)\n",
    "    α ~ Uniform(0.2, 0.8)\n",
    "    β ~ Uniform(0.5, 0.99)\n",
    "    p_d = (; α, β)\n",
    "    T = size(z, 2)\n",
    "    ϵ_draw ~ MvNormal(m.n_ϵ * T, 1.0) # add noise to the estimation\n",
    "    ϵ = reshape(ϵ_draw, m.n_ϵ, T)\n",
    "    sol = generate_perturbation(m, p_d, p_f, Val(2); cache)\n",
    "    if !(sol.retcode == :Success)\n",
    "        @addlogprob! -Inf\n",
    "        return\n",
    "    end\n",
    "    problem = QuadraticStateSpaceProblem(sol, zeros(2), (0, T), observables = z, noise=ϵ)\n",
    "    @addlogprob! solve(problem, DirectIteration()).logpdf\n",
    "end\n",
    "cache = SolverCache(model_rbc, Val(2),  [:α, :β])\n",
    "p_f = (ρ = 0.2, δ = 0.02, σ = 0.01, Ω_1 = 0.01) # Fixed parameters\n",
    "turing_model = rbc_2_joint(z, model_rbc, p_f, cache) # passing observables from before \n",
    "\n",
    "n_samples = 1000\n",
    "n_adapts = 100\n",
    "δ = 0.65\n",
    "alg = NUTS(n_adapts,δ)\n",
    "chain_2_joint = sample(turing_model, alg, n_samples; progress = true)"
   ]
  },
  {
   "cell_type": "markdown",
   "metadata": {},
   "source": [
    "## Plotting the estimated latent states"
   ]
  },
  {
   "cell_type": "code",
   "execution_count": 30,
   "metadata": {},
   "outputs": [
    {
     "data": {
      "image/svg+xml": "<?xml version=\"1.0\" encoding=\"utf-8\"?>\n<svg xmlns=\"http://www.w3.org/2000/svg\" xmlns:xlink=\"http://www.w3.org/1999/xlink\" width=\"600\" height=\"400\" viewBox=\"0 0 2400 1600\">\n<defs>\n  <clipPath id=\"clip190\">\n    <rect x=\"0\" y=\"0\" width=\"2400\" height=\"1600\"/>\n  </clipPath>\n</defs>\n<path clip-path=\"url(#clip190)\" d=\"\nM0 1600 L2400 1600 L2400 0 L0 0  Z\n  \" fill=\"#ffffff\" fill-rule=\"evenodd\" fill-opacity=\"1\"/>\n<defs>\n  <clipPath id=\"clip191\">\n    <rect x=\"480\" y=\"0\" width=\"1681\" height=\"1600\"/>\n  </clipPath>\n</defs>\n<path clip-path=\"url(#clip190)\" d=\"\nM147.478 1486.45 L2352.76 1486.45 L2352.76 123.472 L147.478 123.472  Z\n  \" fill=\"#ffffff\" fill-rule=\"evenodd\" fill-opacity=\"1\"/>\n<defs>\n  <clipPath id=\"clip192\">\n    <rect x=\"147\" y=\"123\" width=\"2206\" height=\"1364\"/>\n  </clipPath>\n</defs>\n<polyline clip-path=\"url(#clip192)\" style=\"stroke:#000000; stroke-linecap:butt; stroke-linejoin:round; stroke-width:2; stroke-opacity:0.1; fill:none\" points=\"\n  647.881,1486.45 647.881,123.472 \n  \"/>\n<polyline clip-path=\"url(#clip192)\" style=\"stroke:#000000; stroke-linecap:butt; stroke-linejoin:round; stroke-width:2; stroke-opacity:0.1; fill:none\" points=\"\n  1195.37,1486.45 1195.37,123.472 \n  \"/>\n<polyline clip-path=\"url(#clip192)\" style=\"stroke:#000000; stroke-linecap:butt; stroke-linejoin:round; stroke-width:2; stroke-opacity:0.1; fill:none\" points=\"\n  1742.86,1486.45 1742.86,123.472 \n  \"/>\n<polyline clip-path=\"url(#clip192)\" style=\"stroke:#000000; stroke-linecap:butt; stroke-linejoin:round; stroke-width:2; stroke-opacity:0.1; fill:none\" points=\"\n  2290.34,1486.45 2290.34,123.472 \n  \"/>\n<polyline clip-path=\"url(#clip190)\" style=\"stroke:#000000; stroke-linecap:butt; stroke-linejoin:round; stroke-width:4; stroke-opacity:1; fill:none\" points=\"\n  147.478,1486.45 2352.76,1486.45 \n  \"/>\n<polyline clip-path=\"url(#clip190)\" style=\"stroke:#000000; stroke-linecap:butt; stroke-linejoin:round; stroke-width:4; stroke-opacity:1; fill:none\" points=\"\n  647.881,1486.45 647.881,1467.55 \n  \"/>\n<polyline clip-path=\"url(#clip190)\" style=\"stroke:#000000; stroke-linecap:butt; stroke-linejoin:round; stroke-width:4; stroke-opacity:1; fill:none\" points=\"\n  1195.37,1486.45 1195.37,1467.55 \n  \"/>\n<polyline clip-path=\"url(#clip190)\" style=\"stroke:#000000; stroke-linecap:butt; stroke-linejoin:round; stroke-width:4; stroke-opacity:1; fill:none\" points=\"\n  1742.86,1486.45 1742.86,1467.55 \n  \"/>\n<polyline clip-path=\"url(#clip190)\" style=\"stroke:#000000; stroke-linecap:butt; stroke-linejoin:round; stroke-width:4; stroke-opacity:1; fill:none\" points=\"\n  2290.34,1486.45 2290.34,1467.55 \n  \"/>\n<path clip-path=\"url(#clip190)\" d=\"M638.159 1514.29 L656.515 1514.29 L656.515 1518.22 L642.441 1518.22 L642.441 1526.7 Q643.46 1526.35 644.478 1526.19 Q645.497 1526 646.515 1526 Q652.302 1526 655.682 1529.17 Q659.062 1532.34 659.062 1537.76 Q659.062 1543.34 655.589 1546.44 Q652.117 1549.52 645.798 1549.52 Q643.622 1549.52 641.353 1549.15 Q639.108 1548.78 636.701 1548.04 L636.701 1543.34 Q638.784 1544.47 641.006 1545.03 Q643.228 1545.58 645.705 1545.58 Q649.71 1545.58 652.048 1543.48 Q654.386 1541.37 654.386 1537.76 Q654.386 1534.15 652.048 1532.04 Q649.71 1529.94 645.705 1529.94 Q643.83 1529.94 641.955 1530.35 Q640.103 1530.77 638.159 1531.65 L638.159 1514.29 Z\" fill=\"#000000\" fill-rule=\"evenodd\" fill-opacity=\"1\" /><path clip-path=\"url(#clip190)\" d=\"M1170.06 1544.91 L1177.69 1544.91 L1177.69 1518.55 L1169.38 1520.21 L1169.38 1515.95 L1177.65 1514.29 L1182.32 1514.29 L1182.32 1544.91 L1189.96 1544.91 L1189.96 1548.85 L1170.06 1548.85 L1170.06 1544.91 Z\" fill=\"#000000\" fill-rule=\"evenodd\" fill-opacity=\"1\" /><path clip-path=\"url(#clip190)\" d=\"M1209.41 1517.37 Q1205.8 1517.37 1203.97 1520.93 Q1202.16 1524.47 1202.16 1531.6 Q1202.16 1538.71 1203.97 1542.27 Q1205.8 1545.82 1209.41 1545.82 Q1213.04 1545.82 1214.85 1542.27 Q1216.68 1538.71 1216.68 1531.6 Q1216.68 1524.47 1214.85 1520.93 Q1213.04 1517.37 1209.41 1517.37 M1209.41 1513.66 Q1215.22 1513.66 1218.27 1518.27 Q1221.35 1522.85 1221.35 1531.6 Q1221.35 1540.33 1218.27 1544.94 Q1215.22 1549.52 1209.41 1549.52 Q1203.6 1549.52 1200.52 1544.94 Q1197.46 1540.33 1197.46 1531.6 Q1197.46 1522.85 1200.52 1518.27 Q1203.6 1513.66 1209.41 1513.66 Z\" fill=\"#000000\" fill-rule=\"evenodd\" fill-opacity=\"1\" /><path clip-path=\"url(#clip190)\" d=\"M1718.04 1544.91 L1725.68 1544.91 L1725.68 1518.55 L1717.37 1520.21 L1717.37 1515.95 L1725.63 1514.29 L1730.31 1514.29 L1730.31 1544.91 L1737.95 1544.91 L1737.95 1548.85 L1718.04 1548.85 L1718.04 1544.91 Z\" fill=\"#000000\" fill-rule=\"evenodd\" fill-opacity=\"1\" /><path clip-path=\"url(#clip190)\" d=\"M1747.44 1514.29 L1765.79 1514.29 L1765.79 1518.22 L1751.72 1518.22 L1751.72 1526.7 Q1752.74 1526.35 1753.76 1526.19 Q1754.78 1526 1755.8 1526 Q1761.58 1526 1764.96 1529.17 Q1768.34 1532.34 1768.34 1537.76 Q1768.34 1543.34 1764.87 1546.44 Q1761.4 1549.52 1755.08 1549.52 Q1752.9 1549.52 1750.63 1549.15 Q1748.39 1548.78 1745.98 1548.04 L1745.98 1543.34 Q1748.06 1544.47 1750.29 1545.03 Q1752.51 1545.58 1754.98 1545.58 Q1758.99 1545.58 1761.33 1543.48 Q1763.67 1541.37 1763.67 1537.76 Q1763.67 1534.15 1761.33 1532.04 Q1758.99 1529.94 1754.98 1529.94 Q1753.11 1529.94 1751.23 1530.35 Q1749.38 1530.77 1747.44 1531.65 L1747.44 1514.29 Z\" fill=\"#000000\" fill-rule=\"evenodd\" fill-opacity=\"1\" /><path clip-path=\"url(#clip190)\" d=\"M2269.12 1544.91 L2285.43 1544.91 L2285.43 1548.85 L2263.49 1548.85 L2263.49 1544.91 Q2266.15 1542.16 2270.74 1537.53 Q2275.34 1532.88 2276.52 1531.53 Q2278.77 1529.01 2279.65 1527.27 Q2280.55 1525.51 2280.55 1523.82 Q2280.55 1521.07 2278.61 1519.33 Q2276.69 1517.6 2273.58 1517.6 Q2271.38 1517.6 2268.93 1518.36 Q2266.5 1519.13 2263.72 1520.68 L2263.72 1515.95 Q2266.55 1514.82 2269 1514.24 Q2271.45 1513.66 2273.49 1513.66 Q2278.86 1513.66 2282.06 1516.35 Q2285.25 1519.03 2285.25 1523.52 Q2285.25 1525.65 2284.44 1527.57 Q2283.65 1529.47 2281.55 1532.07 Q2280.97 1532.74 2277.87 1535.95 Q2274.76 1539.15 2269.12 1544.91 Z\" fill=\"#000000\" fill-rule=\"evenodd\" fill-opacity=\"1\" /><path clip-path=\"url(#clip190)\" d=\"M2305.25 1517.37 Q2301.64 1517.37 2299.81 1520.93 Q2298 1524.47 2298 1531.6 Q2298 1538.71 2299.81 1542.27 Q2301.64 1545.82 2305.25 1545.82 Q2308.88 1545.82 2310.69 1542.27 Q2312.52 1538.71 2312.52 1531.6 Q2312.52 1524.47 2310.69 1520.93 Q2308.88 1517.37 2305.25 1517.37 M2305.25 1513.66 Q2311.06 1513.66 2314.12 1518.27 Q2317.19 1522.85 2317.19 1531.6 Q2317.19 1540.33 2314.12 1544.94 Q2311.06 1549.52 2305.25 1549.52 Q2299.44 1549.52 2296.36 1544.94 Q2293.31 1540.33 2293.31 1531.6 Q2293.31 1522.85 2296.36 1518.27 Q2299.44 1513.66 2305.25 1513.66 Z\" fill=\"#000000\" fill-rule=\"evenodd\" fill-opacity=\"1\" /><polyline clip-path=\"url(#clip192)\" style=\"stroke:#000000; stroke-linecap:butt; stroke-linejoin:round; stroke-width:2; stroke-opacity:0.1; fill:none\" points=\"\n  147.478,1358.78 2352.76,1358.78 \n  \"/>\n<polyline clip-path=\"url(#clip192)\" style=\"stroke:#000000; stroke-linecap:butt; stroke-linejoin:round; stroke-width:2; stroke-opacity:0.1; fill:none\" points=\"\n  147.478,1114.62 2352.76,1114.62 \n  \"/>\n<polyline clip-path=\"url(#clip192)\" style=\"stroke:#000000; stroke-linecap:butt; stroke-linejoin:round; stroke-width:2; stroke-opacity:0.1; fill:none\" points=\"\n  147.478,870.453 2352.76,870.453 \n  \"/>\n<polyline clip-path=\"url(#clip192)\" style=\"stroke:#000000; stroke-linecap:butt; stroke-linejoin:round; stroke-width:2; stroke-opacity:0.1; fill:none\" points=\"\n  147.478,626.291 2352.76,626.291 \n  \"/>\n<polyline clip-path=\"url(#clip192)\" style=\"stroke:#000000; stroke-linecap:butt; stroke-linejoin:round; stroke-width:2; stroke-opacity:0.1; fill:none\" points=\"\n  147.478,382.128 2352.76,382.128 \n  \"/>\n<polyline clip-path=\"url(#clip192)\" style=\"stroke:#000000; stroke-linecap:butt; stroke-linejoin:round; stroke-width:2; stroke-opacity:0.1; fill:none\" points=\"\n  147.478,137.966 2352.76,137.966 \n  \"/>\n<polyline clip-path=\"url(#clip190)\" style=\"stroke:#000000; stroke-linecap:butt; stroke-linejoin:round; stroke-width:4; stroke-opacity:1; fill:none\" points=\"\n  147.478,1486.45 147.478,123.472 \n  \"/>\n<polyline clip-path=\"url(#clip190)\" style=\"stroke:#000000; stroke-linecap:butt; stroke-linejoin:round; stroke-width:4; stroke-opacity:1; fill:none\" points=\"\n  147.478,1358.78 166.376,1358.78 \n  \"/>\n<polyline clip-path=\"url(#clip190)\" style=\"stroke:#000000; stroke-linecap:butt; stroke-linejoin:round; stroke-width:4; stroke-opacity:1; fill:none\" points=\"\n  147.478,1114.62 166.376,1114.62 \n  \"/>\n<polyline clip-path=\"url(#clip190)\" style=\"stroke:#000000; stroke-linecap:butt; stroke-linejoin:round; stroke-width:4; stroke-opacity:1; fill:none\" points=\"\n  147.478,870.453 166.376,870.453 \n  \"/>\n<polyline clip-path=\"url(#clip190)\" style=\"stroke:#000000; stroke-linecap:butt; stroke-linejoin:round; stroke-width:4; stroke-opacity:1; fill:none\" points=\"\n  147.478,626.291 166.376,626.291 \n  \"/>\n<polyline clip-path=\"url(#clip190)\" style=\"stroke:#000000; stroke-linecap:butt; stroke-linejoin:round; stroke-width:4; stroke-opacity:1; fill:none\" points=\"\n  147.478,382.128 166.376,382.128 \n  \"/>\n<polyline clip-path=\"url(#clip190)\" style=\"stroke:#000000; stroke-linecap:butt; stroke-linejoin:round; stroke-width:4; stroke-opacity:1; fill:none\" points=\"\n  147.478,137.966 166.376,137.966 \n  \"/>\n<path clip-path=\"url(#clip190)\" d=\"M51.3625 1359.23 L81.0383 1359.23 L81.0383 1363.16 L51.3625 1363.16 L51.3625 1359.23 Z\" fill=\"#000000\" fill-rule=\"evenodd\" fill-opacity=\"1\" /><path clip-path=\"url(#clip190)\" d=\"M95.1586 1372.12 L111.478 1372.12 L111.478 1376.06 L89.5336 1376.06 L89.5336 1372.12 Q92.1956 1369.37 96.7789 1364.74 Q101.385 1360.09 102.566 1358.74 Q104.811 1356.22 105.691 1354.48 Q106.594 1352.72 106.594 1351.03 Q106.594 1348.28 104.649 1346.54 Q102.728 1344.81 99.6261 1344.81 Q97.4271 1344.81 94.9734 1345.57 Q92.5428 1346.34 89.7651 1347.89 L89.7651 1343.16 Q92.5891 1342.03 95.0428 1341.45 Q97.4965 1340.87 99.5335 1340.87 Q104.904 1340.87 108.098 1343.56 Q111.293 1346.24 111.293 1350.73 Q111.293 1352.86 110.483 1354.78 Q109.696 1356.68 107.589 1359.28 Q107.01 1359.95 103.909 1363.16 Q100.807 1366.36 95.1586 1372.12 Z\" fill=\"#000000\" fill-rule=\"evenodd\" fill-opacity=\"1\" /><path clip-path=\"url(#clip190)\" d=\"M50.9921 1115.07 L80.6679 1115.07 L80.6679 1119 L50.9921 1119 L50.9921 1115.07 Z\" fill=\"#000000\" fill-rule=\"evenodd\" fill-opacity=\"1\" /><path clip-path=\"url(#clip190)\" d=\"M91.5706 1127.96 L99.2095 1127.96 L99.2095 1101.59 L90.8993 1103.26 L90.8993 1099 L99.1632 1097.34 L103.839 1097.34 L103.839 1127.96 L111.478 1127.96 L111.478 1131.9 L91.5706 1131.9 L91.5706 1127.96 Z\" fill=\"#000000\" fill-rule=\"evenodd\" fill-opacity=\"1\" /><path clip-path=\"url(#clip190)\" d=\"M99.5335 856.252 Q95.9224 856.252 94.0937 859.817 Q92.2882 863.358 92.2882 870.488 Q92.2882 877.594 94.0937 881.159 Q95.9224 884.701 99.5335 884.701 Q103.168 884.701 104.973 881.159 Q106.802 877.594 106.802 870.488 Q106.802 863.358 104.973 859.817 Q103.168 856.252 99.5335 856.252 M99.5335 852.548 Q105.344 852.548 108.399 857.155 Q111.478 861.738 111.478 870.488 Q111.478 879.215 108.399 883.821 Q105.344 888.404 99.5335 888.404 Q93.7234 888.404 90.6447 883.821 Q87.5892 879.215 87.5892 870.488 Q87.5892 861.738 90.6447 857.155 Q93.7234 852.548 99.5335 852.548 Z\" fill=\"#000000\" fill-rule=\"evenodd\" fill-opacity=\"1\" /><path clip-path=\"url(#clip190)\" d=\"M91.5706 639.636 L99.2095 639.636 L99.2095 613.27 L90.8993 614.937 L90.8993 610.677 L99.1632 609.011 L103.839 609.011 L103.839 639.636 L111.478 639.636 L111.478 643.571 L91.5706 643.571 L91.5706 639.636 Z\" fill=\"#000000\" fill-rule=\"evenodd\" fill-opacity=\"1\" /><path clip-path=\"url(#clip190)\" d=\"M95.1586 395.473 L111.478 395.473 L111.478 399.408 L89.5336 399.408 L89.5336 395.473 Q92.1956 392.719 96.7789 388.089 Q101.385 383.436 102.566 382.094 Q104.811 379.571 105.691 377.834 Q106.594 376.075 106.594 374.385 Q106.594 371.631 104.649 369.895 Q102.728 368.159 99.6261 368.159 Q97.4271 368.159 94.9734 368.922 Q92.5428 369.686 89.7651 371.237 L89.7651 366.515 Q92.5891 365.381 95.0428 364.802 Q97.4965 364.223 99.5335 364.223 Q104.904 364.223 108.098 366.909 Q111.293 369.594 111.293 374.084 Q111.293 376.214 110.483 378.135 Q109.696 380.034 107.589 382.626 Q107.01 383.297 103.909 386.515 Q100.807 389.709 95.1586 395.473 Z\" fill=\"#000000\" fill-rule=\"evenodd\" fill-opacity=\"1\" /><path clip-path=\"url(#clip190)\" d=\"M104.348 136.612 Q107.705 137.33 109.58 139.598 Q111.478 141.867 111.478 145.2 Q111.478 150.316 107.959 153.116 Q104.441 155.917 97.9595 155.917 Q95.7836 155.917 93.4688 155.478 Q91.1771 155.061 88.7234 154.204 L88.7234 149.691 Q90.6678 150.825 92.9826 151.404 Q95.2974 151.982 97.8206 151.982 Q102.219 151.982 104.51 150.246 Q106.825 148.51 106.825 145.2 Q106.825 142.144 104.672 140.431 Q102.543 138.695 98.7234 138.695 L94.6956 138.695 L94.6956 134.853 L98.9085 134.853 Q102.358 134.853 104.186 133.487 Q106.015 132.098 106.015 129.505 Q106.015 126.843 104.117 125.431 Q102.242 123.996 98.7234 123.996 Q96.8021 123.996 94.603 124.413 Q92.4039 124.83 89.7651 125.709 L89.7651 121.543 Q92.4271 120.802 94.7419 120.431 Q97.0798 120.061 99.14 120.061 Q104.464 120.061 107.566 122.492 Q110.668 124.899 110.668 129.019 Q110.668 131.89 109.024 133.88 Q107.381 135.848 104.348 136.612 Z\" fill=\"#000000\" fill-rule=\"evenodd\" fill-opacity=\"1\" /><path clip-path=\"url(#clip190)\" d=\"M525.653 12.096 L560.41 12.096 L560.41 18.9825 L533.836 18.9825 L533.836 36.8065 L557.817 36.8065 L557.817 43.6931 L533.836 43.6931 L533.836 72.576 L525.653 72.576 L525.653 12.096 Z\" fill=\"#000000\" fill-rule=\"evenodd\" fill-opacity=\"1\" /><path clip-path=\"url(#clip190)\" d=\"M567.013 27.2059 L574.467 27.2059 L574.467 72.576 L567.013 72.576 L567.013 27.2059 M567.013 9.54393 L574.467 9.54393 L574.467 18.9825 L567.013 18.9825 L567.013 9.54393 Z\" fill=\"#000000\" fill-rule=\"evenodd\" fill-opacity=\"1\" /><path clip-path=\"url(#clip190)\" d=\"M616.353 34.1734 Q615.097 33.4443 613.598 33.1202 Q612.14 32.7556 610.358 32.7556 Q604.038 32.7556 600.635 36.8875 Q597.273 40.9789 597.273 48.6757 L597.273 72.576 L589.779 72.576 L589.779 27.2059 L597.273 27.2059 L597.273 34.2544 Q599.623 30.1225 603.39 28.1376 Q607.157 26.1121 612.545 26.1121 Q613.315 26.1121 614.246 26.2337 Q615.178 26.3147 616.312 26.5172 L616.353 34.1734 Z\" fill=\"#000000\" fill-rule=\"evenodd\" fill-opacity=\"1\" /><path clip-path=\"url(#clip190)\" d=\"M653.095 28.5427 L653.095 35.5912 Q649.935 33.9709 646.532 33.1607 Q643.129 32.3505 639.484 32.3505 Q633.934 32.3505 631.139 34.0519 Q628.384 35.7533 628.384 39.156 Q628.384 41.7486 630.369 43.2475 Q632.354 44.7058 638.349 46.0426 L640.901 46.6097 Q648.841 48.3111 652.163 51.4303 Q655.525 54.509 655.525 60.0587 Q655.525 66.3781 650.502 70.0644 Q645.519 73.7508 636.77 73.7508 Q633.124 73.7508 629.154 73.0216 Q625.224 72.3329 620.849 70.9151 L620.849 63.2184 Q624.981 65.3654 628.992 66.4591 Q633.002 67.5124 636.932 67.5124 Q642.198 67.5124 645.033 65.73 Q647.869 63.9071 647.869 60.6258 Q647.869 57.5877 645.803 55.9673 Q643.778 54.3469 636.851 52.8481 L634.258 52.2405 Q627.331 50.7821 624.252 47.7845 Q621.174 44.7463 621.174 39.4801 Q621.174 33.0797 625.711 29.5959 Q630.248 26.1121 638.592 26.1121 Q642.724 26.1121 646.37 26.7198 Q650.016 27.3274 653.095 28.5427 Z\" fill=\"#000000\" fill-rule=\"evenodd\" fill-opacity=\"1\" /><path clip-path=\"url(#clip190)\" d=\"M674.767 14.324 L674.767 27.2059 L690.12 27.2059 L690.12 32.9987 L674.767 32.9987 L674.767 57.6282 Q674.767 63.1779 676.266 64.7578 Q677.805 66.3376 682.464 66.3376 L690.12 66.3376 L690.12 72.576 L682.464 72.576 Q673.835 72.576 670.554 69.3758 Q667.273 66.1351 667.273 57.6282 L667.273 32.9987 L661.804 32.9987 L661.804 27.2059 L667.273 27.2059 L667.273 14.324 L674.767 14.324 Z\" fill=\"#000000\" fill-rule=\"evenodd\" fill-opacity=\"1\" /><path clip-path=\"url(#clip190)\" d=\"M696.156 46.5287 L717.99 46.5287 L717.99 53.1722 L696.156 53.1722 L696.156 46.5287 Z\" fill=\"#000000\" fill-rule=\"evenodd\" fill-opacity=\"1\" /><path clip-path=\"url(#clip190)\" d=\"M757.041 17.6457 Q748.129 17.6457 742.863 24.2892 Q737.637 30.9327 737.637 42.3968 Q737.637 53.8203 742.863 60.4638 Q748.129 67.1073 757.041 67.1073 Q765.953 67.1073 771.138 60.4638 Q776.364 53.8203 776.364 42.3968 Q776.364 30.9327 771.138 24.2892 Q765.953 17.6457 757.041 17.6457 M757.041 11.0023 Q769.761 11.0023 777.376 19.5497 Q784.992 28.0566 784.992 42.3968 Q784.992 56.6965 777.376 65.2439 Q769.761 73.7508 757.041 73.7508 Q744.28 73.7508 736.624 65.2439 Q729.009 56.737 729.009 42.3968 Q729.009 28.0566 736.624 19.5497 Q744.28 11.0023 757.041 11.0023 Z\" fill=\"#000000\" fill-rule=\"evenodd\" fill-opacity=\"1\" /><path clip-path=\"url(#clip190)\" d=\"M823.759 34.1734 Q822.503 33.4443 821.005 33.1202 Q819.546 32.7556 817.764 32.7556 Q811.444 32.7556 808.042 36.8875 Q804.679 40.9789 804.679 48.6757 L804.679 72.576 L797.185 72.576 L797.185 27.2059 L804.679 27.2059 L804.679 34.2544 Q807.029 30.1225 810.796 28.1376 Q814.564 26.1121 819.951 26.1121 Q820.721 26.1121 821.653 26.2337 Q822.584 26.3147 823.719 26.5172 L823.759 34.1734 Z\" fill=\"#000000\" fill-rule=\"evenodd\" fill-opacity=\"1\" /><path clip-path=\"url(#clip190)\" d=\"M859.974 34.0924 L859.974 9.54393 L867.428 9.54393 L867.428 72.576 L859.974 72.576 L859.974 65.7705 Q857.625 69.8214 854.019 71.8063 Q850.455 73.7508 845.432 73.7508 Q837.208 73.7508 832.023 67.1883 Q826.878 60.6258 826.878 49.9314 Q826.878 39.2371 832.023 32.6746 Q837.208 26.1121 845.432 26.1121 Q850.455 26.1121 854.019 28.0971 Q857.625 30.0415 859.974 34.0924 M834.575 49.9314 Q834.575 58.1548 837.937 62.8538 Q841.34 67.5124 847.254 67.5124 Q853.169 67.5124 856.572 62.8538 Q859.974 58.1548 859.974 49.9314 Q859.974 41.7081 856.572 37.0496 Q853.169 32.3505 847.254 32.3505 Q841.34 32.3505 837.937 37.0496 Q834.575 41.7081 834.575 49.9314 Z\" fill=\"#000000\" fill-rule=\"evenodd\" fill-opacity=\"1\" /><path clip-path=\"url(#clip190)\" d=\"M921.589 48.0275 L921.589 51.6733 L887.318 51.6733 Q887.804 59.3701 891.936 63.421 Q896.108 67.4314 903.522 67.4314 Q907.816 67.4314 911.826 66.3781 Q915.877 65.3249 919.847 63.2184 L919.847 70.267 Q915.836 71.9684 911.623 72.8596 Q907.41 73.7508 903.076 73.7508 Q892.22 73.7508 885.86 67.4314 Q879.54 61.1119 879.54 50.3365 Q879.54 39.1965 885.536 32.6746 Q891.571 26.1121 901.78 26.1121 Q910.935 26.1121 916.241 32.0264 Q921.589 37.9003 921.589 48.0275 M914.135 45.84 Q914.054 39.7232 910.692 36.0774 Q907.37 32.4315 901.861 32.4315 Q895.622 32.4315 891.855 35.9558 Q888.128 39.4801 887.561 45.8805 L914.135 45.84 Z\" fill=\"#000000\" fill-rule=\"evenodd\" fill-opacity=\"1\" /><path clip-path=\"url(#clip190)\" d=\"M960.113 34.1734 Q958.857 33.4443 957.358 33.1202 Q955.9 32.7556 954.117 32.7556 Q947.798 32.7556 944.395 36.8875 Q941.033 40.9789 941.033 48.6757 L941.033 72.576 L933.539 72.576 L933.539 27.2059 L941.033 27.2059 L941.033 34.2544 Q943.382 30.1225 947.15 28.1376 Q950.917 26.1121 956.305 26.1121 Q957.074 26.1121 958.006 26.2337 Q958.938 26.3147 960.072 26.5172 L960.113 34.1734 Z\" fill=\"#000000\" fill-rule=\"evenodd\" fill-opacity=\"1\" /><path clip-path=\"url(#clip190)\" d=\"M994.626 12.096 L1002.81 12.096 L1002.81 68.3631 Q1002.81 79.3005 998.637 84.2426 Q994.505 89.1847 985.309 89.1847 L982.19 89.1847 L982.19 82.2982 L984.742 82.2982 Q990.17 82.2982 992.398 79.26 Q994.626 76.2218 994.626 68.3631 L994.626 12.096 Z\" fill=\"#000000\" fill-rule=\"evenodd\" fill-opacity=\"1\" /><path clip-path=\"url(#clip190)\" d=\"M1036.35 32.4315 Q1030.36 32.4315 1026.87 37.1306 Q1023.39 41.7891 1023.39 49.9314 Q1023.39 58.0738 1026.83 62.7728 Q1030.31 67.4314 1036.35 67.4314 Q1042.31 67.4314 1045.79 62.7323 Q1049.27 58.0333 1049.27 49.9314 Q1049.27 41.8701 1045.79 37.1711 Q1042.31 32.4315 1036.35 32.4315 M1036.35 26.1121 Q1046.07 26.1121 1051.62 32.4315 Q1057.17 38.7509 1057.17 49.9314 Q1057.17 61.0714 1051.62 67.4314 Q1046.07 73.7508 1036.35 73.7508 Q1026.59 73.7508 1021.04 67.4314 Q1015.53 61.0714 1015.53 49.9314 Q1015.53 38.7509 1021.04 32.4315 Q1026.59 26.1121 1036.35 26.1121 Z\" fill=\"#000000\" fill-rule=\"evenodd\" fill-opacity=\"1\" /><path clip-path=\"url(#clip190)\" d=\"M1069.53 27.2059 L1076.98 27.2059 L1076.98 72.576 L1069.53 72.576 L1069.53 27.2059 M1069.53 9.54393 L1076.98 9.54393 L1076.98 18.9825 L1069.53 18.9825 L1069.53 9.54393 Z\" fill=\"#000000\" fill-rule=\"evenodd\" fill-opacity=\"1\" /><path clip-path=\"url(#clip190)\" d=\"M1130.29 45.1919 L1130.29 72.576 L1122.84 72.576 L1122.84 45.4349 Q1122.84 38.994 1120.33 35.7938 Q1117.81 32.5936 1112.79 32.5936 Q1106.76 32.5936 1103.27 36.4419 Q1099.79 40.2903 1099.79 46.9338 L1099.79 72.576 L1092.29 72.576 L1092.29 27.2059 L1099.79 27.2059 L1099.79 34.2544 Q1102.46 30.163 1106.07 28.1376 Q1109.71 26.1121 1114.45 26.1121 Q1122.27 26.1121 1126.28 30.9732 Q1130.29 35.7938 1130.29 45.1919 Z\" fill=\"#000000\" fill-rule=\"evenodd\" fill-opacity=\"1\" /><path clip-path=\"url(#clip190)\" d=\"M1152.53 14.324 L1152.53 27.2059 L1167.88 27.2059 L1167.88 32.9987 L1152.53 32.9987 L1152.53 57.6282 Q1152.53 63.1779 1154.03 64.7578 Q1155.57 66.3376 1160.23 66.3376 L1167.88 66.3376 L1167.88 72.576 L1160.23 72.576 Q1151.6 72.576 1148.32 69.3758 Q1145.04 66.1351 1145.04 57.6282 L1145.04 32.9987 L1139.57 32.9987 L1139.57 27.2059 L1145.04 27.2059 L1145.04 14.324 L1152.53 14.324 Z\" fill=\"#000000\" fill-rule=\"evenodd\" fill-opacity=\"1\" /><path clip-path=\"url(#clip190)\" d=\"M1179.59 62.2867 L1188.14 62.2867 L1188.14 72.576 L1179.59 72.576 L1179.59 62.2867 M1179.59 29.6769 L1188.14 29.6769 L1188.14 39.9662 L1179.59 39.9662 L1179.59 29.6769 Z\" fill=\"#000000\" fill-rule=\"evenodd\" fill-opacity=\"1\" /><path clip-path=\"url(#clip190)\" d=\"M1232.33 12.096 L1270.57 12.096 L1270.57 18.9825 L1240.52 18.9825 L1240.52 36.8875 L1269.32 36.8875 L1269.32 43.7741 L1240.52 43.7741 L1240.52 65.6895 L1271.3 65.6895 L1271.3 72.576 L1232.33 72.576 L1232.33 12.096 Z\" fill=\"#000000\" fill-rule=\"evenodd\" fill-opacity=\"1\" /><path clip-path=\"url(#clip190)\" d=\"M1313.35 28.5427 L1313.35 35.5912 Q1310.19 33.9709 1306.79 33.1607 Q1303.39 32.3505 1299.74 32.3505 Q1294.19 32.3505 1291.4 34.0519 Q1288.64 35.7533 1288.64 39.156 Q1288.64 41.7486 1290.63 43.2475 Q1292.61 44.7058 1298.61 46.0426 L1301.16 46.6097 Q1309.1 48.3111 1312.42 51.4303 Q1315.78 54.509 1315.78 60.0587 Q1315.78 66.3781 1310.76 70.0644 Q1305.78 73.7508 1297.03 73.7508 Q1293.38 73.7508 1289.41 73.0216 Q1285.48 72.3329 1281.11 70.9151 L1281.11 63.2184 Q1285.24 65.3654 1289.25 66.4591 Q1293.26 67.5124 1297.19 67.5124 Q1302.45 67.5124 1305.29 65.73 Q1308.13 63.9071 1308.13 60.6258 Q1308.13 57.5877 1306.06 55.9673 Q1304.03 54.3469 1297.11 52.8481 L1294.51 52.2405 Q1287.59 50.7821 1284.51 47.7845 Q1281.43 44.7463 1281.43 39.4801 Q1281.43 33.0797 1285.97 29.5959 Q1290.5 26.1121 1298.85 26.1121 Q1302.98 26.1121 1306.63 26.7198 Q1310.27 27.3274 1313.35 28.5427 Z\" fill=\"#000000\" fill-rule=\"evenodd\" fill-opacity=\"1\" /><path clip-path=\"url(#clip190)\" d=\"M1335.02 14.324 L1335.02 27.2059 L1350.38 27.2059 L1350.38 32.9987 L1335.02 32.9987 L1335.02 57.6282 Q1335.02 63.1779 1336.52 64.7578 Q1338.06 66.3376 1342.72 66.3376 L1350.38 66.3376 L1350.38 72.576 L1342.72 72.576 Q1334.09 72.576 1330.81 69.3758 Q1327.53 66.1351 1327.53 57.6282 L1327.53 32.9987 L1322.06 32.9987 L1322.06 27.2059 L1327.53 27.2059 L1327.53 14.324 L1335.02 14.324 Z\" fill=\"#000000\" fill-rule=\"evenodd\" fill-opacity=\"1\" /><path clip-path=\"url(#clip190)\" d=\"M1360.18 27.2059 L1367.63 27.2059 L1367.63 72.576 L1360.18 72.576 L1360.18 27.2059 M1360.18 9.54393 L1367.63 9.54393 L1367.63 18.9825 L1360.18 18.9825 L1360.18 9.54393 Z\" fill=\"#000000\" fill-rule=\"evenodd\" fill-opacity=\"1\" /><path clip-path=\"url(#clip190)\" d=\"M1418.55 35.9153 Q1421.35 30.8922 1425.24 28.5022 Q1429.13 26.1121 1434.39 26.1121 Q1441.48 26.1121 1445.33 31.0947 Q1449.18 36.0368 1449.18 45.1919 L1449.18 72.576 L1441.68 72.576 L1441.68 45.4349 Q1441.68 38.913 1439.38 35.7533 Q1437.07 32.5936 1432.33 32.5936 Q1426.53 32.5936 1423.17 36.4419 Q1419.81 40.2903 1419.81 46.9338 L1419.81 72.576 L1412.32 72.576 L1412.32 45.4349 Q1412.32 38.8725 1410.01 35.7533 Q1407.7 32.5936 1402.88 32.5936 Q1397.16 32.5936 1393.8 36.4824 Q1390.44 40.3308 1390.44 46.9338 L1390.44 72.576 L1382.95 72.576 L1382.95 27.2059 L1390.44 27.2059 L1390.44 34.2544 Q1392.99 30.082 1396.56 28.0971 Q1400.12 26.1121 1405.02 26.1121 Q1409.97 26.1121 1413.41 28.6237 Q1416.89 31.1352 1418.55 35.9153 Z\" fill=\"#000000\" fill-rule=\"evenodd\" fill-opacity=\"1\" /><path clip-path=\"url(#clip190)\" d=\"M1484.66 49.7694 Q1475.63 49.7694 1472.15 51.8354 Q1468.66 53.9013 1468.66 58.8839 Q1468.66 62.8538 1471.26 65.2034 Q1473.89 67.5124 1478.39 67.5124 Q1484.58 67.5124 1488.31 63.1374 Q1492.08 58.7219 1492.08 51.4303 L1492.08 49.7694 L1484.66 49.7694 M1499.53 46.6907 L1499.53 72.576 L1492.08 72.576 L1492.08 65.6895 Q1489.53 69.8214 1485.72 71.8063 Q1481.91 73.7508 1476.4 73.7508 Q1469.43 73.7508 1465.3 69.8619 Q1461.21 65.9325 1461.21 59.3701 Q1461.21 51.7138 1466.31 47.825 Q1471.46 43.9361 1481.63 43.9361 L1492.08 43.9361 L1492.08 43.2069 Q1492.08 38.0623 1488.67 35.2672 Q1485.31 32.4315 1479.2 32.4315 Q1475.31 32.4315 1471.62 33.3632 Q1467.93 34.295 1464.53 36.1584 L1464.53 29.2718 Q1468.62 27.692 1472.47 26.9223 Q1476.32 26.1121 1479.97 26.1121 Q1489.81 26.1121 1494.67 31.2163 Q1499.53 36.3204 1499.53 46.6907 Z\" fill=\"#000000\" fill-rule=\"evenodd\" fill-opacity=\"1\" /><path clip-path=\"url(#clip190)\" d=\"M1522.26 14.324 L1522.26 27.2059 L1537.61 27.2059 L1537.61 32.9987 L1522.26 32.9987 L1522.26 57.6282 Q1522.26 63.1779 1523.76 64.7578 Q1525.29 66.3376 1529.95 66.3376 L1537.61 66.3376 L1537.61 72.576 L1529.95 72.576 Q1521.32 72.576 1518.04 69.3758 Q1514.76 66.1351 1514.76 57.6282 L1514.76 32.9987 L1509.29 32.9987 L1509.29 27.2059 L1514.76 27.2059 L1514.76 14.324 L1522.26 14.324 Z\" fill=\"#000000\" fill-rule=\"evenodd\" fill-opacity=\"1\" /><path clip-path=\"url(#clip190)\" d=\"M1586.22 48.0275 L1586.22 51.6733 L1551.95 51.6733 Q1552.44 59.3701 1556.57 63.421 Q1560.74 67.4314 1568.15 67.4314 Q1572.45 67.4314 1576.46 66.3781 Q1580.51 65.3249 1584.48 63.2184 L1584.48 70.267 Q1580.47 71.9684 1576.26 72.8596 Q1572.04 73.7508 1567.71 73.7508 Q1556.85 73.7508 1550.49 67.4314 Q1544.17 61.1119 1544.17 50.3365 Q1544.17 39.1965 1550.17 32.6746 Q1556.2 26.1121 1566.41 26.1121 Q1575.57 26.1121 1580.87 32.0264 Q1586.22 37.9003 1586.22 48.0275 M1578.77 45.84 Q1578.69 39.7232 1575.32 36.0774 Q1572 32.4315 1566.49 32.4315 Q1560.25 32.4315 1556.49 35.9558 Q1552.76 39.4801 1552.19 45.8805 L1578.77 45.84 Z\" fill=\"#000000\" fill-rule=\"evenodd\" fill-opacity=\"1\" /><path clip-path=\"url(#clip190)\" d=\"M1628.31 34.0924 L1628.31 9.54393 L1635.76 9.54393 L1635.76 72.576 L1628.31 72.576 L1628.31 65.7705 Q1625.96 69.8214 1622.35 71.8063 Q1618.79 73.7508 1613.77 73.7508 Q1605.54 73.7508 1600.36 67.1883 Q1595.21 60.6258 1595.21 49.9314 Q1595.21 39.2371 1600.36 32.6746 Q1605.54 26.1121 1613.77 26.1121 Q1618.79 26.1121 1622.35 28.0971 Q1625.96 30.0415 1628.31 34.0924 M1602.91 49.9314 Q1602.91 58.1548 1606.27 62.8538 Q1609.68 67.5124 1615.59 67.5124 Q1621.5 67.5124 1624.91 62.8538 Q1628.31 58.1548 1628.31 49.9314 Q1628.31 41.7081 1624.91 37.0496 Q1621.5 32.3505 1615.59 32.3505 Q1609.68 32.3505 1606.27 37.0496 Q1602.91 41.7081 1602.91 49.9314 Z\" fill=\"#000000\" fill-rule=\"evenodd\" fill-opacity=\"1\" /><path clip-path=\"url(#clip190)\" d=\"M1677.81 12.096 L1685.99 12.096 L1685.99 65.6895 L1715.44 65.6895 L1715.44 72.576 L1677.81 72.576 L1677.81 12.096 Z\" fill=\"#000000\" fill-rule=\"evenodd\" fill-opacity=\"1\" /><path clip-path=\"url(#clip190)\" d=\"M1744.33 49.7694 Q1735.29 49.7694 1731.81 51.8354 Q1728.33 53.9013 1728.33 58.8839 Q1728.33 62.8538 1730.92 65.2034 Q1733.55 67.5124 1738.05 67.5124 Q1744.25 67.5124 1747.97 63.1374 Q1751.74 58.7219 1751.74 51.4303 L1751.74 49.7694 L1744.33 49.7694 M1759.19 46.6907 L1759.19 72.576 L1751.74 72.576 L1751.74 65.6895 Q1749.19 69.8214 1745.38 71.8063 Q1741.57 73.7508 1736.06 73.7508 Q1729.1 73.7508 1724.96 69.8619 Q1720.87 65.9325 1720.87 59.3701 Q1720.87 51.7138 1725.98 47.825 Q1731.12 43.9361 1741.29 43.9361 L1751.74 43.9361 L1751.74 43.2069 Q1751.74 38.0623 1748.34 35.2672 Q1744.98 32.4315 1738.86 32.4315 Q1734.97 32.4315 1731.28 33.3632 Q1727.6 34.295 1724.19 36.1584 L1724.19 29.2718 Q1728.29 27.692 1732.13 26.9223 Q1735.98 26.1121 1739.63 26.1121 Q1749.47 26.1121 1754.33 31.2163 Q1759.19 36.3204 1759.19 46.6907 Z\" fill=\"#000000\" fill-rule=\"evenodd\" fill-opacity=\"1\" /><path clip-path=\"url(#clip190)\" d=\"M1781.92 14.324 L1781.92 27.2059 L1797.27 27.2059 L1797.27 32.9987 L1781.92 32.9987 L1781.92 57.6282 Q1781.92 63.1779 1783.42 64.7578 Q1784.96 66.3376 1789.62 66.3376 L1797.27 66.3376 L1797.27 72.576 L1789.62 72.576 Q1780.99 72.576 1777.71 69.3758 Q1774.43 66.1351 1774.43 57.6282 L1774.43 32.9987 L1768.96 32.9987 L1768.96 27.2059 L1774.43 27.2059 L1774.43 14.324 L1781.92 14.324 Z\" fill=\"#000000\" fill-rule=\"evenodd\" fill-opacity=\"1\" /><path clip-path=\"url(#clip190)\" d=\"M1845.88 48.0275 L1845.88 51.6733 L1811.61 51.6733 Q1812.1 59.3701 1816.23 63.421 Q1820.4 67.4314 1827.82 67.4314 Q1832.11 67.4314 1836.12 66.3781 Q1840.17 65.3249 1844.14 63.2184 L1844.14 70.267 Q1840.13 71.9684 1835.92 72.8596 Q1831.71 73.7508 1827.37 73.7508 Q1816.51 73.7508 1810.15 67.4314 Q1803.84 61.1119 1803.84 50.3365 Q1803.84 39.1965 1809.83 32.6746 Q1815.87 26.1121 1826.07 26.1121 Q1835.23 26.1121 1840.54 32.0264 Q1845.88 37.9003 1845.88 48.0275 M1838.43 45.84 Q1838.35 39.7232 1834.99 36.0774 Q1831.66 32.4315 1826.16 32.4315 Q1819.92 32.4315 1816.15 35.9558 Q1812.42 39.4801 1811.86 45.8805 L1838.43 45.84 Z\" fill=\"#000000\" fill-rule=\"evenodd\" fill-opacity=\"1\" /><path clip-path=\"url(#clip190)\" d=\"M1895.83 45.1919 L1895.83 72.576 L1888.38 72.576 L1888.38 45.4349 Q1888.38 38.994 1885.87 35.7938 Q1883.35 32.5936 1878.33 32.5936 Q1872.3 32.5936 1868.81 36.4419 Q1865.33 40.2903 1865.33 46.9338 L1865.33 72.576 L1857.83 72.576 L1857.83 27.2059 L1865.33 27.2059 L1865.33 34.2544 Q1868 30.163 1871.61 28.1376 Q1875.25 26.1121 1879.99 26.1121 Q1887.81 26.1121 1891.82 30.9732 Q1895.83 35.7938 1895.83 45.1919 Z\" fill=\"#000000\" fill-rule=\"evenodd\" fill-opacity=\"1\" /><path clip-path=\"url(#clip190)\" d=\"M1918.07 14.324 L1918.07 27.2059 L1933.42 27.2059 L1933.42 32.9987 L1918.07 32.9987 L1918.07 57.6282 Q1918.07 63.1779 1919.57 64.7578 Q1921.11 66.3376 1925.77 66.3376 L1933.42 66.3376 L1933.42 72.576 L1925.77 72.576 Q1917.14 72.576 1913.86 69.3758 Q1910.58 66.1351 1910.58 57.6282 L1910.58 32.9987 L1905.11 32.9987 L1905.11 27.2059 L1910.58 27.2059 L1910.58 14.324 L1918.07 14.324 Z\" fill=\"#000000\" fill-rule=\"evenodd\" fill-opacity=\"1\" /><path clip-path=\"url(#clip190)\" d=\"M1972.15 28.5427 L1972.15 35.5912 Q1968.99 33.9709 1965.59 33.1607 Q1962.18 32.3505 1958.54 32.3505 Q1952.99 32.3505 1950.19 34.0519 Q1947.44 35.7533 1947.44 39.156 Q1947.44 41.7486 1949.42 43.2475 Q1951.41 44.7058 1957.4 46.0426 L1959.96 46.6097 Q1967.9 48.3111 1971.22 51.4303 Q1974.58 54.509 1974.58 60.0587 Q1974.58 66.3781 1969.56 70.0644 Q1964.57 73.7508 1955.82 73.7508 Q1952.18 73.7508 1948.21 73.0216 Q1944.28 72.3329 1939.9 70.9151 L1939.9 63.2184 Q1944.04 65.3654 1948.05 66.4591 Q1952.06 67.5124 1955.99 67.5124 Q1961.25 67.5124 1964.09 65.73 Q1966.92 63.9071 1966.92 60.6258 Q1966.92 57.5877 1964.86 55.9673 Q1962.83 54.3469 1955.91 52.8481 L1953.31 52.2405 Q1946.39 50.7821 1943.31 47.7845 Q1940.23 44.7463 1940.23 39.4801 Q1940.23 33.0797 1944.77 29.5959 Q1949.3 26.1121 1957.65 26.1121 Q1961.78 26.1121 1965.43 26.7198 Q1969.07 27.3274 1972.15 28.5427 Z\" fill=\"#000000\" fill-rule=\"evenodd\" fill-opacity=\"1\" /><path clip-path=\"url(#clip192)\" d=\"\nM209.891 782.709 L319.389 556.094 L428.886 905.831 L538.384 792.37 L647.881 1384.46 L757.379 784.589 L866.876 1201.79 L976.373 1191.21 L1085.87 913.405 L1195.37 679.374 \n  L1304.87 1051.08 L1414.36 1030.28 L1523.86 1020.41 L1633.36 1126.99 L1742.86 1072.51 L1852.35 1447.87 L1961.85 834.6 L2071.35 794.863 L2180.84 1121.09 L2290.34 1294.1 \n  L2290.34 378.787 L2180.84 847.132 L2071.35 494.361 L1961.85 559.537 L1852.35 1121.07 L1742.86 795.379 L1633.36 847.736 L1523.86 744.155 L1414.36 754.61 L1304.87 776.843 \n  L1195.37 350.119 L1085.87 638.051 L976.373 906.81 L866.876 936.219 L757.379 512.293 L647.881 1068.59 L538.384 495.048 L428.886 603.941 L319.389 162.047 L209.891 477.019 \n   Z\n  \" fill=\"#009af9\" fill-rule=\"evenodd\" fill-opacity=\"0.5\"/>\n<polyline clip-path=\"url(#clip192)\" style=\"stroke:#009af9; stroke-linecap:butt; stroke-linejoin:round; stroke-width:4; stroke-opacity:1; fill:none\" points=\"\n  209.891,629.864 319.389,359.071 428.886,754.886 538.384,643.709 647.881,1226.52 757.379,648.441 866.876,1069 976.373,1049.01 1085.87,775.728 1195.37,514.747 \n  1304.87,913.963 1414.36,892.447 1523.86,882.283 1633.36,987.361 1742.86,933.945 1852.35,1284.47 1961.85,697.068 2071.35,644.612 2180.84,984.111 2290.34,836.441 \n  \n  \"/>\n<polyline clip-path=\"url(#clip192)\" style=\"stroke:#e26f46; stroke-linecap:butt; stroke-linejoin:round; stroke-width:4; stroke-opacity:1; fill:none\" points=\"\n  209.891,656.174 319.389,488.134 428.886,741.63 538.384,741.738 647.881,1164.02 757.379,610.484 866.876,1042.52 976.373,1065.3 1085.87,783.98 1195.37,531.73 \n  1304.87,888.689 1414.36,959.348 1523.86,805.104 1633.36,997.442 1742.86,823.045 1852.35,1303.9 1961.85,740.025 2071.35,675.133 2180.84,1027.59 2290.34,833.234 \n  \n  \"/>\n<path clip-path=\"url(#clip190)\" d=\"\nM1683.87 324.425 L2279.25 324.425 L2279.25 168.905 L1683.87 168.905  Z\n  \" fill=\"#ffffff\" fill-rule=\"evenodd\" fill-opacity=\"1\"/>\n<polyline clip-path=\"url(#clip190)\" style=\"stroke:#000000; stroke-linecap:butt; stroke-linejoin:round; stroke-width:4; stroke-opacity:1; fill:none\" points=\"\n  1683.87,324.425 2279.25,324.425 2279.25,168.905 1683.87,168.905 1683.87,324.425 \n  \"/>\n<polyline clip-path=\"url(#clip190)\" style=\"stroke:#009af9; stroke-linecap:butt; stroke-linejoin:round; stroke-width:4; stroke-opacity:1; fill:none\" points=\"\n  1708.37,220.745 1855.39,220.745 \n  \"/>\n<path clip-path=\"url(#clip190)\" d=\"M1884.57 207.307 L1884.57 220.293 L1890.45 220.293 Q1893.71 220.293 1895.5 218.603 Q1897.28 216.914 1897.28 213.789 Q1897.28 210.687 1895.5 208.997 Q1893.71 207.307 1890.45 207.307 L1884.57 207.307 M1879.9 203.465 L1890.45 203.465 Q1896.26 203.465 1899.22 206.104 Q1902.21 208.719 1902.21 213.789 Q1902.21 218.904 1899.22 221.52 Q1896.26 224.136 1890.45 224.136 L1884.57 224.136 L1884.57 238.025 L1879.9 238.025 L1879.9 203.465 Z\" fill=\"#000000\" fill-rule=\"evenodd\" fill-opacity=\"1\" /><path clip-path=\"url(#clip190)\" d=\"M1916.65 215.085 Q1913.23 215.085 1911.24 217.77 Q1909.25 220.432 1909.25 225.085 Q1909.25 229.738 1911.21 232.423 Q1913.21 235.085 1916.65 235.085 Q1920.06 235.085 1922.05 232.4 Q1924.04 229.715 1924.04 225.085 Q1924.04 220.478 1922.05 217.793 Q1920.06 215.085 1916.65 215.085 M1916.65 211.474 Q1922.21 211.474 1925.38 215.085 Q1928.55 218.696 1928.55 225.085 Q1928.55 231.451 1925.38 235.085 Q1922.21 238.696 1916.65 238.696 Q1911.08 238.696 1907.9 235.085 Q1904.76 231.451 1904.76 225.085 Q1904.76 218.696 1907.9 215.085 Q1911.08 211.474 1916.65 211.474 Z\" fill=\"#000000\" fill-rule=\"evenodd\" fill-opacity=\"1\" /><path clip-path=\"url(#clip190)\" d=\"M1952.14 212.863 L1952.14 216.891 Q1950.33 215.965 1948.39 215.502 Q1946.45 215.039 1944.36 215.039 Q1941.19 215.039 1939.59 216.011 Q1938.02 216.983 1938.02 218.928 Q1938.02 220.409 1939.15 221.265 Q1940.29 222.099 1943.71 222.863 L1945.17 223.187 Q1949.71 224.159 1951.61 225.941 Q1953.53 227.701 1953.53 230.872 Q1953.53 234.483 1950.66 236.589 Q1947.81 238.696 1942.81 238.696 Q1940.73 238.696 1938.46 238.279 Q1936.21 237.886 1933.71 237.076 L1933.71 232.677 Q1936.08 233.904 1938.37 234.529 Q1940.66 235.131 1942.9 235.131 Q1945.91 235.131 1947.53 234.113 Q1949.15 233.071 1949.15 231.196 Q1949.15 229.46 1947.97 228.534 Q1946.82 227.608 1942.86 226.752 L1941.38 226.404 Q1937.42 225.571 1935.66 223.858 Q1933.9 222.122 1933.9 219.113 Q1933.9 215.455 1936.49 213.465 Q1939.08 211.474 1943.85 211.474 Q1946.21 211.474 1948.3 211.821 Q1950.38 212.168 1952.14 212.863 Z\" fill=\"#000000\" fill-rule=\"evenodd\" fill-opacity=\"1\" /><path clip-path=\"url(#clip190)\" d=\"M1964.52 204.738 L1964.52 212.099 L1973.3 212.099 L1973.3 215.409 L1964.52 215.409 L1964.52 229.483 Q1964.52 232.654 1965.38 233.557 Q1966.26 234.46 1968.92 234.46 L1973.3 234.46 L1973.3 238.025 L1968.92 238.025 Q1963.99 238.025 1962.12 236.196 Q1960.24 234.344 1960.24 229.483 L1960.24 215.409 L1957.12 215.409 L1957.12 212.099 L1960.24 212.099 L1960.24 204.738 L1964.52 204.738 Z\" fill=\"#000000\" fill-rule=\"evenodd\" fill-opacity=\"1\" /><path clip-path=\"url(#clip190)\" d=\"M2001.08 223.997 L2001.08 226.08 L1981.49 226.08 Q1981.77 230.478 1984.13 232.793 Q1986.51 235.085 1990.75 235.085 Q1993.2 235.085 1995.5 234.483 Q1997.81 233.881 2000.08 232.677 L2000.08 236.705 Q1997.79 237.677 1995.38 238.187 Q1992.97 238.696 1990.5 238.696 Q1984.29 238.696 1980.66 235.085 Q1977.05 231.474 1977.05 225.316 Q1977.05 218.951 1980.47 215.224 Q1983.92 211.474 1989.76 211.474 Q1994.99 211.474 1998.02 214.853 Q2001.08 218.21 2001.08 223.997 M1996.82 222.747 Q1996.77 219.252 1994.85 217.168 Q1992.95 215.085 1989.8 215.085 Q1986.24 215.085 1984.08 217.099 Q1981.95 219.113 1981.63 222.77 L1996.82 222.747 Z\" fill=\"#000000\" fill-rule=\"evenodd\" fill-opacity=\"1\" /><path clip-path=\"url(#clip190)\" d=\"M2023.09 216.08 Q2022.37 215.664 2021.51 215.478 Q2020.68 215.27 2019.66 215.27 Q2016.05 215.27 2014.11 217.631 Q2012.19 219.969 2012.19 224.367 L2012.19 238.025 L2007.9 238.025 L2007.9 212.099 L2012.19 212.099 L2012.19 216.127 Q2013.53 213.766 2015.68 212.631 Q2017.83 211.474 2020.91 211.474 Q2021.35 211.474 2021.89 211.543 Q2022.42 211.59 2023.07 211.705 L2023.09 216.08 Z\" fill=\"#000000\" fill-rule=\"evenodd\" fill-opacity=\"1\" /><path clip-path=\"url(#clip190)\" d=\"M2027.56 212.099 L2031.82 212.099 L2031.82 238.025 L2027.56 238.025 L2027.56 212.099 M2027.56 202.006 L2031.82 202.006 L2031.82 207.4 L2027.56 207.4 L2027.56 202.006 Z\" fill=\"#000000\" fill-rule=\"evenodd\" fill-opacity=\"1\" /><path clip-path=\"url(#clip190)\" d=\"M2050.77 215.085 Q2047.35 215.085 2045.36 217.77 Q2043.37 220.432 2043.37 225.085 Q2043.37 229.738 2045.33 232.423 Q2047.32 235.085 2050.77 235.085 Q2054.18 235.085 2056.17 232.4 Q2058.16 229.715 2058.16 225.085 Q2058.16 220.478 2056.17 217.793 Q2054.18 215.085 2050.77 215.085 M2050.77 211.474 Q2056.33 211.474 2059.5 215.085 Q2062.67 218.696 2062.67 225.085 Q2062.67 231.451 2059.5 235.085 Q2056.33 238.696 2050.77 238.696 Q2045.2 238.696 2042.02 235.085 Q2038.88 231.451 2038.88 225.085 Q2038.88 218.696 2042.02 215.085 Q2045.2 211.474 2050.77 211.474 Z\" fill=\"#000000\" fill-rule=\"evenodd\" fill-opacity=\"1\" /><path clip-path=\"url(#clip190)\" d=\"M2084.76 216.08 Q2084.04 215.664 2083.18 215.478 Q2082.35 215.27 2081.33 215.27 Q2077.72 215.27 2075.77 217.631 Q2073.85 219.969 2073.85 224.367 L2073.85 238.025 L2069.57 238.025 L2069.57 212.099 L2073.85 212.099 L2073.85 216.127 Q2075.19 213.766 2077.35 212.631 Q2079.5 211.474 2082.58 211.474 Q2083.02 211.474 2083.55 211.543 Q2084.08 211.59 2084.73 211.705 L2084.76 216.08 Z\" fill=\"#000000\" fill-rule=\"evenodd\" fill-opacity=\"1\" /><path clip-path=\"url(#clip190)\" d=\"M2124.48 217.076 Q2126.07 214.205 2128.3 212.84 Q2130.52 211.474 2133.53 211.474 Q2137.58 211.474 2139.78 214.321 Q2141.98 217.145 2141.98 222.377 L2141.98 238.025 L2137.69 238.025 L2137.69 222.515 Q2137.69 218.789 2136.38 216.983 Q2135.06 215.178 2132.35 215.178 Q2129.04 215.178 2127.12 217.377 Q2125.19 219.576 2125.19 223.372 L2125.19 238.025 L2120.91 238.025 L2120.91 222.515 Q2120.91 218.765 2119.59 216.983 Q2118.27 215.178 2115.52 215.178 Q2112.25 215.178 2110.33 217.4 Q2108.41 219.599 2108.41 223.372 L2108.41 238.025 L2104.13 238.025 L2104.13 212.099 L2108.41 212.099 L2108.41 216.127 Q2109.87 213.742 2111.91 212.608 Q2113.94 211.474 2116.75 211.474 Q2119.57 211.474 2121.54 212.909 Q2123.53 214.344 2124.48 217.076 Z\" fill=\"#000000\" fill-rule=\"evenodd\" fill-opacity=\"1\" /><path clip-path=\"url(#clip190)\" d=\"M2172.65 223.997 L2172.65 226.08 L2153.06 226.08 Q2153.34 230.478 2155.7 232.793 Q2158.09 235.085 2162.32 235.085 Q2164.78 235.085 2167.07 234.483 Q2169.38 233.881 2171.65 232.677 L2171.65 236.705 Q2169.36 237.677 2166.95 238.187 Q2164.55 238.696 2162.07 238.696 Q2155.87 238.696 2152.23 235.085 Q2148.62 231.474 2148.62 225.316 Q2148.62 218.951 2152.05 215.224 Q2155.5 211.474 2161.33 211.474 Q2166.56 211.474 2169.59 214.853 Q2172.65 218.21 2172.65 223.997 M2168.39 222.747 Q2168.34 219.252 2166.42 217.168 Q2164.52 215.085 2161.38 215.085 Q2157.81 215.085 2155.66 217.099 Q2153.53 219.113 2153.2 222.77 L2168.39 222.747 Z\" fill=\"#000000\" fill-rule=\"evenodd\" fill-opacity=\"1\" /><path clip-path=\"url(#clip190)\" d=\"M2191.42 224.992 Q2186.26 224.992 2184.27 226.173 Q2182.28 227.353 2182.28 230.201 Q2182.28 232.469 2183.76 233.812 Q2185.26 235.131 2187.83 235.131 Q2191.37 235.131 2193.5 232.631 Q2195.66 230.108 2195.66 225.941 L2195.66 224.992 L2191.42 224.992 M2199.92 223.233 L2199.92 238.025 L2195.66 238.025 L2195.66 234.089 Q2194.2 236.451 2192.02 237.585 Q2189.85 238.696 2186.7 238.696 Q2182.72 238.696 2180.36 236.474 Q2178.02 234.228 2178.02 230.478 Q2178.02 226.103 2180.94 223.881 Q2183.87 221.659 2189.69 221.659 L2195.66 221.659 L2195.66 221.242 Q2195.66 218.303 2193.71 216.705 Q2191.79 215.085 2188.3 215.085 Q2186.07 215.085 2183.97 215.617 Q2181.86 216.15 2179.92 217.215 L2179.92 213.279 Q2182.25 212.377 2184.45 211.937 Q2186.65 211.474 2188.74 211.474 Q2194.36 211.474 2197.14 214.391 Q2199.92 217.307 2199.92 223.233 Z\" fill=\"#000000\" fill-rule=\"evenodd\" fill-opacity=\"1\" /><path clip-path=\"url(#clip190)\" d=\"M2230.24 222.377 L2230.24 238.025 L2225.98 238.025 L2225.98 222.515 Q2225.98 218.835 2224.55 217.006 Q2223.11 215.178 2220.24 215.178 Q2216.79 215.178 2214.8 217.377 Q2212.81 219.576 2212.81 223.372 L2212.81 238.025 L2208.53 238.025 L2208.53 212.099 L2212.81 212.099 L2212.81 216.127 Q2214.34 213.789 2216.4 212.631 Q2218.48 211.474 2221.19 211.474 Q2225.66 211.474 2227.95 214.252 Q2230.24 217.006 2230.24 222.377 Z\" fill=\"#000000\" fill-rule=\"evenodd\" fill-opacity=\"1\" /><polyline clip-path=\"url(#clip190)\" style=\"stroke:#e26f46; stroke-linecap:butt; stroke-linejoin:round; stroke-width:4; stroke-opacity:1; fill:none\" points=\"\n  1708.37,272.585 1855.39,272.585 \n  \"/>\n<path clip-path=\"url(#clip190)\" d=\"M1879.9 255.305 L1909.13 255.305 L1909.13 259.24 L1896.86 259.24 L1896.86 289.865 L1892.16 289.865 L1892.16 259.24 L1879.9 259.24 L1879.9 255.305 Z\" fill=\"#000000\" fill-rule=\"evenodd\" fill-opacity=\"1\" /><path clip-path=\"url(#clip190)\" d=\"M1921.52 267.92 Q1920.8 267.504 1919.94 267.318 Q1919.11 267.11 1918.09 267.11 Q1914.48 267.11 1912.53 269.471 Q1910.61 271.809 1910.61 276.207 L1910.61 289.865 L1906.33 289.865 L1906.33 263.939 L1910.61 263.939 L1910.61 267.967 Q1911.96 265.606 1914.11 264.471 Q1916.26 263.314 1919.34 263.314 Q1919.78 263.314 1920.31 263.383 Q1920.84 263.43 1921.49 263.545 L1921.52 267.92 Z\" fill=\"#000000\" fill-rule=\"evenodd\" fill-opacity=\"1\" /><path clip-path=\"url(#clip190)\" d=\"M1925.54 279.633 L1925.54 263.939 L1929.8 263.939 L1929.8 279.471 Q1929.8 283.152 1931.24 285.004 Q1932.67 286.832 1935.54 286.832 Q1938.99 286.832 1940.98 284.633 Q1943 282.434 1943 278.638 L1943 263.939 L1947.26 263.939 L1947.26 289.865 L1943 289.865 L1943 285.883 Q1941.45 288.244 1939.39 289.402 Q1937.35 290.536 1934.64 290.536 Q1930.17 290.536 1927.86 287.758 Q1925.54 284.98 1925.54 279.633 M1936.26 263.314 L1936.26 263.314 Z\" fill=\"#000000\" fill-rule=\"evenodd\" fill-opacity=\"1\" /><path clip-path=\"url(#clip190)\" d=\"M1978.2 275.837 L1978.2 277.92 L1958.62 277.92 Q1958.9 282.318 1961.26 284.633 Q1963.64 286.925 1967.88 286.925 Q1970.33 286.925 1972.63 286.323 Q1974.94 285.721 1977.21 284.517 L1977.21 288.545 Q1974.92 289.517 1972.51 290.027 Q1970.1 290.536 1967.63 290.536 Q1961.42 290.536 1957.79 286.925 Q1954.18 283.314 1954.18 277.156 Q1954.18 270.791 1957.6 267.064 Q1961.05 263.314 1966.89 263.314 Q1972.12 263.314 1975.15 266.693 Q1978.2 270.05 1978.2 275.837 M1973.95 274.587 Q1973.9 271.092 1971.98 269.008 Q1970.08 266.925 1966.93 266.925 Q1963.37 266.925 1961.21 268.939 Q1959.08 270.953 1958.76 274.61 L1973.95 274.587 Z\" fill=\"#000000\" fill-rule=\"evenodd\" fill-opacity=\"1\" /><path clip-path=\"url(#clip190)\" d=\"M1997.21 263.939 L2001.72 263.939 L2009.82 285.698 L2017.93 263.939 L2022.44 263.939 L2012.72 289.865 L2006.93 289.865 L1997.21 263.939 Z\" fill=\"#000000\" fill-rule=\"evenodd\" fill-opacity=\"1\" /><path clip-path=\"url(#clip190)\" d=\"M2040.1 276.832 Q2034.94 276.832 2032.95 278.013 Q2030.96 279.193 2030.96 282.041 Q2030.96 284.309 2032.44 285.652 Q2033.95 286.971 2036.51 286.971 Q2040.06 286.971 2042.19 284.471 Q2044.34 281.948 2044.34 277.781 L2044.34 276.832 L2040.1 276.832 M2048.6 275.073 L2048.6 289.865 L2044.34 289.865 L2044.34 285.929 Q2042.88 288.291 2040.7 289.425 Q2038.53 290.536 2035.38 290.536 Q2031.4 290.536 2029.04 288.314 Q2026.7 286.068 2026.7 282.318 Q2026.7 277.943 2029.62 275.721 Q2032.56 273.499 2038.37 273.499 L2044.34 273.499 L2044.34 273.082 Q2044.34 270.143 2042.39 268.545 Q2040.47 266.925 2036.98 266.925 Q2034.76 266.925 2032.65 267.457 Q2030.54 267.99 2028.6 269.055 L2028.6 265.119 Q2030.94 264.217 2033.14 263.777 Q2035.33 263.314 2037.42 263.314 Q2043.04 263.314 2045.82 266.231 Q2048.6 269.147 2048.6 275.073 Z\" fill=\"#000000\" fill-rule=\"evenodd\" fill-opacity=\"1\" /><path clip-path=\"url(#clip190)\" d=\"M2057.37 253.846 L2061.63 253.846 L2061.63 289.865 L2057.37 289.865 L2057.37 253.846 Z\" fill=\"#000000\" fill-rule=\"evenodd\" fill-opacity=\"1\" /><path clip-path=\"url(#clip190)\" d=\"M2070.1 279.633 L2070.1 263.939 L2074.36 263.939 L2074.36 279.471 Q2074.36 283.152 2075.8 285.004 Q2077.23 286.832 2080.1 286.832 Q2083.55 286.832 2085.54 284.633 Q2087.56 282.434 2087.56 278.638 L2087.56 263.939 L2091.82 263.939 L2091.82 289.865 L2087.56 289.865 L2087.56 285.883 Q2086.01 288.244 2083.94 289.402 Q2081.91 290.536 2079.2 290.536 Q2074.73 290.536 2072.42 287.758 Q2070.1 284.98 2070.1 279.633 M2080.82 263.314 L2080.82 263.314 Z\" fill=\"#000000\" fill-rule=\"evenodd\" fill-opacity=\"1\" /><path clip-path=\"url(#clip190)\" d=\"M2122.76 275.837 L2122.76 277.92 L2103.18 277.92 Q2103.46 282.318 2105.82 284.633 Q2108.2 286.925 2112.44 286.925 Q2114.89 286.925 2117.19 286.323 Q2119.5 285.721 2121.77 284.517 L2121.77 288.545 Q2119.48 289.517 2117.07 290.027 Q2114.66 290.536 2112.19 290.536 Q2105.98 290.536 2102.35 286.925 Q2098.74 283.314 2098.74 277.156 Q2098.74 270.791 2102.16 267.064 Q2105.61 263.314 2111.44 263.314 Q2116.68 263.314 2119.71 266.693 Q2122.76 270.05 2122.76 275.837 M2118.5 274.587 Q2118.46 271.092 2116.54 269.008 Q2114.64 266.925 2111.49 266.925 Q2107.93 266.925 2105.77 268.939 Q2103.64 270.953 2103.32 274.61 L2118.5 274.587 Z\" fill=\"#000000\" fill-rule=\"evenodd\" fill-opacity=\"1\" /><path clip-path=\"url(#clip190)\" d=\"M2146.28 264.703 L2146.28 268.731 Q2144.48 267.805 2142.53 267.342 Q2140.59 266.879 2138.5 266.879 Q2135.33 266.879 2133.74 267.851 Q2132.16 268.823 2132.16 270.768 Q2132.16 272.249 2133.3 273.105 Q2134.43 273.939 2137.86 274.703 L2139.32 275.027 Q2143.85 275.999 2145.75 277.781 Q2147.67 279.541 2147.67 282.712 Q2147.67 286.323 2144.8 288.429 Q2141.95 290.536 2136.95 290.536 Q2134.87 290.536 2132.6 290.119 Q2130.36 289.726 2127.86 288.916 L2127.86 284.517 Q2130.22 285.744 2132.51 286.369 Q2134.8 286.971 2137.05 286.971 Q2140.06 286.971 2141.68 285.953 Q2143.3 284.911 2143.3 283.036 Q2143.3 281.3 2142.12 280.374 Q2140.96 279.448 2137 278.592 L2135.52 278.244 Q2131.56 277.411 2129.8 275.698 Q2128.04 273.962 2128.04 270.953 Q2128.04 267.295 2130.63 265.305 Q2133.23 263.314 2138 263.314 Q2140.36 263.314 2142.44 263.661 Q2144.52 264.008 2146.28 264.703 Z\" fill=\"#000000\" fill-rule=\"evenodd\" fill-opacity=\"1\" /></svg>\n"
     },
     "execution_count": 30,
     "metadata": {},
     "output_type": "execute_result"
    }
   ],
   "source": [
    "symbol_to_int(s) = parse(Int, string(s)[9:end-1])\n",
    "ϵ_chain = sort(chain_1_joint[:, [Symbol(\"ϵ_draw[$a]\") for a in 1:21], 1], lt = (x,y) -> symbol_to_int(x) < symbol_to_int(y))\n",
    "tmp = describe(ϵ_chain)\n",
    "ϵ_mean = tmp[1][:, 2]\n",
    "ϵ_std = tmp[1][:, 3]\n",
    "plot(ϵ_mean[2:end], ribbon=2 * ϵ_std[2:end], label=\"Posterior mean\", title = \"First-Order Joint: Estimated Latents\")\n",
    "plot!(ϵ', label=\"True values\")"
   ]
  },
  {
   "cell_type": "code",
   "execution_count": 31,
   "metadata": {},
   "outputs": [
    {
     "data": {
      "image/svg+xml": "<?xml version=\"1.0\" encoding=\"utf-8\"?>\n<svg xmlns=\"http://www.w3.org/2000/svg\" xmlns:xlink=\"http://www.w3.org/1999/xlink\" width=\"600\" height=\"400\" viewBox=\"0 0 2400 1600\">\n<defs>\n  <clipPath id=\"clip230\">\n    <rect x=\"0\" y=\"0\" width=\"2400\" height=\"1600\"/>\n  </clipPath>\n</defs>\n<path clip-path=\"url(#clip230)\" d=\"\nM0 1600 L2400 1600 L2400 0 L0 0  Z\n  \" fill=\"#ffffff\" fill-rule=\"evenodd\" fill-opacity=\"1\"/>\n<defs>\n  <clipPath id=\"clip231\">\n    <rect x=\"480\" y=\"0\" width=\"1681\" height=\"1600\"/>\n  </clipPath>\n</defs>\n<path clip-path=\"url(#clip230)\" d=\"\nM147.478 1486.45 L2352.76 1486.45 L2352.76 123.472 L147.478 123.472  Z\n  \" fill=\"#ffffff\" fill-rule=\"evenodd\" fill-opacity=\"1\"/>\n<defs>\n  <clipPath id=\"clip232\">\n    <rect x=\"147\" y=\"123\" width=\"2206\" height=\"1364\"/>\n  </clipPath>\n</defs>\n<polyline clip-path=\"url(#clip232)\" style=\"stroke:#000000; stroke-linecap:butt; stroke-linejoin:round; stroke-width:2; stroke-opacity:0.1; fill:none\" points=\"\n  647.881,1486.45 647.881,123.472 \n  \"/>\n<polyline clip-path=\"url(#clip232)\" style=\"stroke:#000000; stroke-linecap:butt; stroke-linejoin:round; stroke-width:2; stroke-opacity:0.1; fill:none\" points=\"\n  1195.37,1486.45 1195.37,123.472 \n  \"/>\n<polyline clip-path=\"url(#clip232)\" style=\"stroke:#000000; stroke-linecap:butt; stroke-linejoin:round; stroke-width:2; stroke-opacity:0.1; fill:none\" points=\"\n  1742.86,1486.45 1742.86,123.472 \n  \"/>\n<polyline clip-path=\"url(#clip232)\" style=\"stroke:#000000; stroke-linecap:butt; stroke-linejoin:round; stroke-width:2; stroke-opacity:0.1; fill:none\" points=\"\n  2290.34,1486.45 2290.34,123.472 \n  \"/>\n<polyline clip-path=\"url(#clip230)\" style=\"stroke:#000000; stroke-linecap:butt; stroke-linejoin:round; stroke-width:4; stroke-opacity:1; fill:none\" points=\"\n  147.478,1486.45 2352.76,1486.45 \n  \"/>\n<polyline clip-path=\"url(#clip230)\" style=\"stroke:#000000; stroke-linecap:butt; stroke-linejoin:round; stroke-width:4; stroke-opacity:1; fill:none\" points=\"\n  647.881,1486.45 647.881,1467.55 \n  \"/>\n<polyline clip-path=\"url(#clip230)\" style=\"stroke:#000000; stroke-linecap:butt; stroke-linejoin:round; stroke-width:4; stroke-opacity:1; fill:none\" points=\"\n  1195.37,1486.45 1195.37,1467.55 \n  \"/>\n<polyline clip-path=\"url(#clip230)\" style=\"stroke:#000000; stroke-linecap:butt; stroke-linejoin:round; stroke-width:4; stroke-opacity:1; fill:none\" points=\"\n  1742.86,1486.45 1742.86,1467.55 \n  \"/>\n<polyline clip-path=\"url(#clip230)\" style=\"stroke:#000000; stroke-linecap:butt; stroke-linejoin:round; stroke-width:4; stroke-opacity:1; fill:none\" points=\"\n  2290.34,1486.45 2290.34,1467.55 \n  \"/>\n<path clip-path=\"url(#clip230)\" d=\"M638.159 1514.29 L656.515 1514.29 L656.515 1518.22 L642.441 1518.22 L642.441 1526.7 Q643.46 1526.35 644.478 1526.19 Q645.497 1526 646.515 1526 Q652.302 1526 655.682 1529.17 Q659.062 1532.34 659.062 1537.76 Q659.062 1543.34 655.589 1546.44 Q652.117 1549.52 645.798 1549.52 Q643.622 1549.52 641.353 1549.15 Q639.108 1548.78 636.701 1548.04 L636.701 1543.34 Q638.784 1544.47 641.006 1545.03 Q643.228 1545.58 645.705 1545.58 Q649.71 1545.58 652.048 1543.48 Q654.386 1541.37 654.386 1537.76 Q654.386 1534.15 652.048 1532.04 Q649.71 1529.94 645.705 1529.94 Q643.83 1529.94 641.955 1530.35 Q640.103 1530.77 638.159 1531.65 L638.159 1514.29 Z\" fill=\"#000000\" fill-rule=\"evenodd\" fill-opacity=\"1\" /><path clip-path=\"url(#clip230)\" d=\"M1170.06 1544.91 L1177.69 1544.91 L1177.69 1518.55 L1169.38 1520.21 L1169.38 1515.95 L1177.65 1514.29 L1182.32 1514.29 L1182.32 1544.91 L1189.96 1544.91 L1189.96 1548.85 L1170.06 1548.85 L1170.06 1544.91 Z\" fill=\"#000000\" fill-rule=\"evenodd\" fill-opacity=\"1\" /><path clip-path=\"url(#clip230)\" d=\"M1209.41 1517.37 Q1205.8 1517.37 1203.97 1520.93 Q1202.16 1524.47 1202.16 1531.6 Q1202.16 1538.71 1203.97 1542.27 Q1205.8 1545.82 1209.41 1545.82 Q1213.04 1545.82 1214.85 1542.27 Q1216.68 1538.71 1216.68 1531.6 Q1216.68 1524.47 1214.85 1520.93 Q1213.04 1517.37 1209.41 1517.37 M1209.41 1513.66 Q1215.22 1513.66 1218.27 1518.27 Q1221.35 1522.85 1221.35 1531.6 Q1221.35 1540.33 1218.27 1544.94 Q1215.22 1549.52 1209.41 1549.52 Q1203.6 1549.52 1200.52 1544.94 Q1197.46 1540.33 1197.46 1531.6 Q1197.46 1522.85 1200.52 1518.27 Q1203.6 1513.66 1209.41 1513.66 Z\" fill=\"#000000\" fill-rule=\"evenodd\" fill-opacity=\"1\" /><path clip-path=\"url(#clip230)\" d=\"M1718.04 1544.91 L1725.68 1544.91 L1725.68 1518.55 L1717.37 1520.21 L1717.37 1515.95 L1725.63 1514.29 L1730.31 1514.29 L1730.31 1544.91 L1737.95 1544.91 L1737.95 1548.85 L1718.04 1548.85 L1718.04 1544.91 Z\" fill=\"#000000\" fill-rule=\"evenodd\" fill-opacity=\"1\" /><path clip-path=\"url(#clip230)\" d=\"M1747.44 1514.29 L1765.79 1514.29 L1765.79 1518.22 L1751.72 1518.22 L1751.72 1526.7 Q1752.74 1526.35 1753.76 1526.19 Q1754.78 1526 1755.8 1526 Q1761.58 1526 1764.96 1529.17 Q1768.34 1532.34 1768.34 1537.76 Q1768.34 1543.34 1764.87 1546.44 Q1761.4 1549.52 1755.08 1549.52 Q1752.9 1549.52 1750.63 1549.15 Q1748.39 1548.78 1745.98 1548.04 L1745.98 1543.34 Q1748.06 1544.47 1750.29 1545.03 Q1752.51 1545.58 1754.98 1545.58 Q1758.99 1545.58 1761.33 1543.48 Q1763.67 1541.37 1763.67 1537.76 Q1763.67 1534.15 1761.33 1532.04 Q1758.99 1529.94 1754.98 1529.94 Q1753.11 1529.94 1751.23 1530.35 Q1749.38 1530.77 1747.44 1531.65 L1747.44 1514.29 Z\" fill=\"#000000\" fill-rule=\"evenodd\" fill-opacity=\"1\" /><path clip-path=\"url(#clip230)\" d=\"M2269.12 1544.91 L2285.43 1544.91 L2285.43 1548.85 L2263.49 1548.85 L2263.49 1544.91 Q2266.15 1542.16 2270.74 1537.53 Q2275.34 1532.88 2276.52 1531.53 Q2278.77 1529.01 2279.65 1527.27 Q2280.55 1525.51 2280.55 1523.82 Q2280.55 1521.07 2278.61 1519.33 Q2276.69 1517.6 2273.58 1517.6 Q2271.38 1517.6 2268.93 1518.36 Q2266.5 1519.13 2263.72 1520.68 L2263.72 1515.95 Q2266.55 1514.82 2269 1514.24 Q2271.45 1513.66 2273.49 1513.66 Q2278.86 1513.66 2282.06 1516.35 Q2285.25 1519.03 2285.25 1523.52 Q2285.25 1525.65 2284.44 1527.57 Q2283.65 1529.47 2281.55 1532.07 Q2280.97 1532.74 2277.87 1535.95 Q2274.76 1539.15 2269.12 1544.91 Z\" fill=\"#000000\" fill-rule=\"evenodd\" fill-opacity=\"1\" /><path clip-path=\"url(#clip230)\" d=\"M2305.25 1517.37 Q2301.64 1517.37 2299.81 1520.93 Q2298 1524.47 2298 1531.6 Q2298 1538.71 2299.81 1542.27 Q2301.64 1545.82 2305.25 1545.82 Q2308.88 1545.82 2310.69 1542.27 Q2312.52 1538.71 2312.52 1531.6 Q2312.52 1524.47 2310.69 1520.93 Q2308.88 1517.37 2305.25 1517.37 M2305.25 1513.66 Q2311.06 1513.66 2314.12 1518.27 Q2317.19 1522.85 2317.19 1531.6 Q2317.19 1540.33 2314.12 1544.94 Q2311.06 1549.52 2305.25 1549.52 Q2299.44 1549.52 2296.36 1544.94 Q2293.31 1540.33 2293.31 1531.6 Q2293.31 1522.85 2296.36 1518.27 Q2299.44 1513.66 2305.25 1513.66 Z\" fill=\"#000000\" fill-rule=\"evenodd\" fill-opacity=\"1\" /><polyline clip-path=\"url(#clip232)\" style=\"stroke:#000000; stroke-linecap:butt; stroke-linejoin:round; stroke-width:2; stroke-opacity:0.1; fill:none\" points=\"\n  147.478,1347.83 2352.76,1347.83 \n  \"/>\n<polyline clip-path=\"url(#clip232)\" style=\"stroke:#000000; stroke-linecap:butt; stroke-linejoin:round; stroke-width:2; stroke-opacity:0.1; fill:none\" points=\"\n  147.478,1109.69 2352.76,1109.69 \n  \"/>\n<polyline clip-path=\"url(#clip232)\" style=\"stroke:#000000; stroke-linecap:butt; stroke-linejoin:round; stroke-width:2; stroke-opacity:0.1; fill:none\" points=\"\n  147.478,871.548 2352.76,871.548 \n  \"/>\n<polyline clip-path=\"url(#clip232)\" style=\"stroke:#000000; stroke-linecap:butt; stroke-linejoin:round; stroke-width:2; stroke-opacity:0.1; fill:none\" points=\"\n  147.478,633.404 2352.76,633.404 \n  \"/>\n<polyline clip-path=\"url(#clip232)\" style=\"stroke:#000000; stroke-linecap:butt; stroke-linejoin:round; stroke-width:2; stroke-opacity:0.1; fill:none\" points=\"\n  147.478,395.261 2352.76,395.261 \n  \"/>\n<polyline clip-path=\"url(#clip232)\" style=\"stroke:#000000; stroke-linecap:butt; stroke-linejoin:round; stroke-width:2; stroke-opacity:0.1; fill:none\" points=\"\n  147.478,157.117 2352.76,157.117 \n  \"/>\n<polyline clip-path=\"url(#clip230)\" style=\"stroke:#000000; stroke-linecap:butt; stroke-linejoin:round; stroke-width:4; stroke-opacity:1; fill:none\" points=\"\n  147.478,1486.45 147.478,123.472 \n  \"/>\n<polyline clip-path=\"url(#clip230)\" style=\"stroke:#000000; stroke-linecap:butt; stroke-linejoin:round; stroke-width:4; stroke-opacity:1; fill:none\" points=\"\n  147.478,1347.83 166.376,1347.83 \n  \"/>\n<polyline clip-path=\"url(#clip230)\" style=\"stroke:#000000; stroke-linecap:butt; stroke-linejoin:round; stroke-width:4; stroke-opacity:1; fill:none\" points=\"\n  147.478,1109.69 166.376,1109.69 \n  \"/>\n<polyline clip-path=\"url(#clip230)\" style=\"stroke:#000000; stroke-linecap:butt; stroke-linejoin:round; stroke-width:4; stroke-opacity:1; fill:none\" points=\"\n  147.478,871.548 166.376,871.548 \n  \"/>\n<polyline clip-path=\"url(#clip230)\" style=\"stroke:#000000; stroke-linecap:butt; stroke-linejoin:round; stroke-width:4; stroke-opacity:1; fill:none\" points=\"\n  147.478,633.404 166.376,633.404 \n  \"/>\n<polyline clip-path=\"url(#clip230)\" style=\"stroke:#000000; stroke-linecap:butt; stroke-linejoin:round; stroke-width:4; stroke-opacity:1; fill:none\" points=\"\n  147.478,395.261 166.376,395.261 \n  \"/>\n<polyline clip-path=\"url(#clip230)\" style=\"stroke:#000000; stroke-linecap:butt; stroke-linejoin:round; stroke-width:4; stroke-opacity:1; fill:none\" points=\"\n  147.478,157.117 166.376,157.117 \n  \"/>\n<path clip-path=\"url(#clip230)\" d=\"M51.3625 1348.29 L81.0383 1348.29 L81.0383 1352.22 L51.3625 1352.22 L51.3625 1348.29 Z\" fill=\"#000000\" fill-rule=\"evenodd\" fill-opacity=\"1\" /><path clip-path=\"url(#clip230)\" d=\"M95.1586 1361.18 L111.478 1361.18 L111.478 1365.11 L89.5336 1365.11 L89.5336 1361.18 Q92.1956 1358.42 96.7789 1353.8 Q101.385 1349.14 102.566 1347.8 Q104.811 1345.28 105.691 1343.54 Q106.594 1341.78 106.594 1340.09 Q106.594 1337.34 104.649 1335.6 Q102.728 1333.86 99.6261 1333.86 Q97.4271 1333.86 94.9734 1334.63 Q92.5428 1335.39 89.7651 1336.94 L89.7651 1332.22 Q92.5891 1331.09 95.0428 1330.51 Q97.4965 1329.93 99.5335 1329.93 Q104.904 1329.93 108.098 1332.61 Q111.293 1335.3 111.293 1339.79 Q111.293 1341.92 110.483 1343.84 Q109.696 1345.74 107.589 1348.33 Q107.01 1349 103.909 1352.22 Q100.807 1355.42 95.1586 1361.18 Z\" fill=\"#000000\" fill-rule=\"evenodd\" fill-opacity=\"1\" /><path clip-path=\"url(#clip230)\" d=\"M50.9921 1110.14 L80.6679 1110.14 L80.6679 1114.08 L50.9921 1114.08 L50.9921 1110.14 Z\" fill=\"#000000\" fill-rule=\"evenodd\" fill-opacity=\"1\" /><path clip-path=\"url(#clip230)\" d=\"M91.5706 1123.04 L99.2095 1123.04 L99.2095 1096.67 L90.8993 1098.34 L90.8993 1094.08 L99.1632 1092.41 L103.839 1092.41 L103.839 1123.04 L111.478 1123.04 L111.478 1126.97 L91.5706 1126.97 L91.5706 1123.04 Z\" fill=\"#000000\" fill-rule=\"evenodd\" fill-opacity=\"1\" /><path clip-path=\"url(#clip230)\" d=\"M99.5335 857.346 Q95.9224 857.346 94.0937 860.911 Q92.2882 864.453 92.2882 871.582 Q92.2882 878.689 94.0937 882.254 Q95.9224 885.795 99.5335 885.795 Q103.168 885.795 104.973 882.254 Q106.802 878.689 106.802 871.582 Q106.802 864.453 104.973 860.911 Q103.168 857.346 99.5335 857.346 M99.5335 853.643 Q105.344 853.643 108.399 858.249 Q111.478 862.832 111.478 871.582 Q111.478 880.309 108.399 884.916 Q105.344 889.499 99.5335 889.499 Q93.7234 889.499 90.6447 884.916 Q87.5892 880.309 87.5892 871.582 Q87.5892 862.832 90.6447 858.249 Q93.7234 853.643 99.5335 853.643 Z\" fill=\"#000000\" fill-rule=\"evenodd\" fill-opacity=\"1\" /><path clip-path=\"url(#clip230)\" d=\"M91.5706 646.749 L99.2095 646.749 L99.2095 620.383 L90.8993 622.05 L90.8993 617.791 L99.1632 616.124 L103.839 616.124 L103.839 646.749 L111.478 646.749 L111.478 650.684 L91.5706 650.684 L91.5706 646.749 Z\" fill=\"#000000\" fill-rule=\"evenodd\" fill-opacity=\"1\" /><path clip-path=\"url(#clip230)\" d=\"M95.1586 408.606 L111.478 408.606 L111.478 412.541 L89.5336 412.541 L89.5336 408.606 Q92.1956 405.851 96.7789 401.221 Q101.385 396.569 102.566 395.226 Q104.811 392.703 105.691 390.967 Q106.594 389.207 106.594 387.518 Q106.594 384.763 104.649 383.027 Q102.728 381.291 99.6261 381.291 Q97.4271 381.291 94.9734 382.055 Q92.5428 382.819 89.7651 384.37 L89.7651 379.647 Q92.5891 378.513 95.0428 377.934 Q97.4965 377.356 99.5335 377.356 Q104.904 377.356 108.098 380.041 Q111.293 382.726 111.293 387.217 Q111.293 389.346 110.483 391.268 Q109.696 393.166 107.589 395.758 Q107.01 396.43 103.909 399.647 Q100.807 402.842 95.1586 408.606 Z\" fill=\"#000000\" fill-rule=\"evenodd\" fill-opacity=\"1\" /><path clip-path=\"url(#clip230)\" d=\"M104.348 155.763 Q107.705 156.481 109.58 158.749 Q111.478 161.018 111.478 164.351 Q111.478 169.467 107.959 172.268 Q104.441 175.068 97.9595 175.068 Q95.7836 175.068 93.4688 174.629 Q91.1771 174.212 88.7234 173.356 L88.7234 168.842 Q90.6678 169.976 92.9826 170.555 Q95.2974 171.133 97.8206 171.133 Q102.219 171.133 104.51 169.397 Q106.825 167.661 106.825 164.351 Q106.825 161.295 104.672 159.582 Q102.543 157.846 98.7234 157.846 L94.6956 157.846 L94.6956 154.004 L98.9085 154.004 Q102.358 154.004 104.186 152.638 Q106.015 151.249 106.015 148.657 Q106.015 145.995 104.117 144.583 Q102.242 143.147 98.7234 143.147 Q96.8021 143.147 94.603 143.564 Q92.4039 143.981 89.7651 144.86 L89.7651 140.694 Q92.4271 139.953 94.7419 139.583 Q97.0798 139.212 99.14 139.212 Q104.464 139.212 107.566 141.643 Q110.668 144.05 110.668 148.17 Q110.668 151.041 109.024 153.032 Q107.381 154.999 104.348 155.763 Z\" fill=\"#000000\" fill-rule=\"evenodd\" fill-opacity=\"1\" /><path clip-path=\"url(#clip230)\" d=\"M497.884 14.0809 L497.884 22.0612 Q493.226 19.8332 489.094 18.7395 Q484.962 17.6457 481.114 17.6457 Q474.43 17.6457 470.784 20.2383 Q467.178 22.8309 467.178 27.611 Q467.178 31.6214 469.568 33.6873 Q471.999 35.7128 478.723 36.9686 L483.666 37.9813 Q492.821 39.7232 497.155 44.1387 Q501.53 48.5136 501.53 55.8863 Q501.53 64.6767 495.616 69.2137 Q489.742 73.7508 478.359 73.7508 Q474.065 73.7508 469.204 72.7785 Q464.383 71.8063 459.198 69.9024 L459.198 61.4765 Q464.181 64.2716 468.961 65.6895 Q473.741 67.1073 478.359 67.1073 Q485.367 67.1073 489.175 64.3527 Q492.983 61.598 492.983 56.4939 Q492.983 52.0379 490.228 49.5264 Q487.514 47.0148 481.276 45.759 L476.293 44.7868 Q467.138 42.9639 463.046 39.075 Q458.955 35.1862 458.955 28.2591 Q458.955 20.2383 464.586 15.6203 Q470.257 11.0023 480.182 11.0023 Q484.435 11.0023 488.851 11.7719 Q493.266 12.5416 497.884 14.0809 Z\" fill=\"#000000\" fill-rule=\"evenodd\" fill-opacity=\"1\" /><path clip-path=\"url(#clip230)\" d=\"M552.774 48.0275 L552.774 51.6733 L518.503 51.6733 Q518.989 59.3701 523.121 63.421 Q527.294 67.4314 534.707 67.4314 Q539.001 67.4314 543.011 66.3781 Q547.062 65.3249 551.032 63.2184 L551.032 70.267 Q547.022 71.9684 542.809 72.8596 Q538.596 73.7508 534.261 73.7508 Q523.405 73.7508 517.045 67.4314 Q510.726 61.1119 510.726 50.3365 Q510.726 39.1965 516.721 32.6746 Q522.757 26.1121 532.965 26.1121 Q542.12 26.1121 547.427 32.0264 Q552.774 37.9003 552.774 48.0275 M545.32 45.84 Q545.239 39.7232 541.877 36.0774 Q538.555 32.4315 533.046 32.4315 Q526.808 32.4315 523.04 35.9558 Q519.314 39.4801 518.746 45.8805 L545.32 45.84 Z\" fill=\"#000000\" fill-rule=\"evenodd\" fill-opacity=\"1\" /><path clip-path=\"url(#clip230)\" d=\"M597.658 28.9478 L597.658 35.9153 Q594.498 34.1734 591.298 33.3227 Q588.138 32.4315 584.898 32.4315 Q577.647 32.4315 573.636 37.0496 Q569.626 41.6271 569.626 49.9314 Q569.626 58.2358 573.636 62.8538 Q577.647 67.4314 584.898 67.4314 Q588.138 67.4314 591.298 66.5807 Q594.498 65.6895 597.658 63.9476 L597.658 70.8341 Q594.539 72.2924 591.177 73.0216 Q587.855 73.7508 584.087 73.7508 Q573.839 73.7508 567.803 67.3098 Q561.767 60.8689 561.767 49.9314 Q561.767 38.832 567.843 32.472 Q573.96 26.1121 584.574 26.1121 Q588.017 26.1121 591.298 26.8413 Q594.579 27.5299 597.658 28.9478 Z\" fill=\"#000000\" fill-rule=\"evenodd\" fill-opacity=\"1\" /><path clip-path=\"url(#clip230)\" d=\"M628.202 32.4315 Q622.207 32.4315 618.723 37.1306 Q615.239 41.7891 615.239 49.9314 Q615.239 58.0738 618.682 62.7728 Q622.166 67.4314 628.202 67.4314 Q634.157 67.4314 637.64 62.7323 Q641.124 58.0333 641.124 49.9314 Q641.124 41.8701 637.64 37.1711 Q634.157 32.4315 628.202 32.4315 M628.202 26.1121 Q637.924 26.1121 643.474 32.4315 Q649.023 38.7509 649.023 49.9314 Q649.023 61.0714 643.474 67.4314 Q637.924 73.7508 628.202 73.7508 Q618.439 73.7508 612.889 67.4314 Q607.38 61.0714 607.38 49.9314 Q607.38 38.7509 612.889 32.4315 Q618.439 26.1121 628.202 26.1121 Z\" fill=\"#000000\" fill-rule=\"evenodd\" fill-opacity=\"1\" /><path clip-path=\"url(#clip230)\" d=\"M699.093 45.1919 L699.093 72.576 L691.639 72.576 L691.639 45.4349 Q691.639 38.994 689.127 35.7938 Q686.616 32.5936 681.593 32.5936 Q675.557 32.5936 672.073 36.4419 Q668.589 40.2903 668.589 46.9338 L668.589 72.576 L661.095 72.576 L661.095 27.2059 L668.589 27.2059 L668.589 34.2544 Q671.263 30.163 674.868 28.1376 Q678.514 26.1121 683.254 26.1121 Q691.072 26.1121 695.082 30.9732 Q699.093 35.7938 699.093 45.1919 Z\" fill=\"#000000\" fill-rule=\"evenodd\" fill-opacity=\"1\" /><path clip-path=\"url(#clip230)\" d=\"M743.815 34.0924 L743.815 9.54393 L751.268 9.54393 L751.268 72.576 L743.815 72.576 L743.815 65.7705 Q741.465 69.8214 737.86 71.8063 Q734.295 73.7508 729.272 73.7508 Q721.049 73.7508 715.863 67.1883 Q710.719 60.6258 710.719 49.9314 Q710.719 39.2371 715.863 32.6746 Q721.049 26.1121 729.272 26.1121 Q734.295 26.1121 737.86 28.0971 Q741.465 30.0415 743.815 34.0924 M718.415 49.9314 Q718.415 58.1548 721.778 62.8538 Q725.18 67.5124 731.095 67.5124 Q737.009 67.5124 740.412 62.8538 Q743.815 58.1548 743.815 49.9314 Q743.815 41.7081 740.412 37.0496 Q737.009 32.3505 731.095 32.3505 Q725.18 32.3505 721.778 37.0496 Q718.415 41.7081 718.415 49.9314 Z\" fill=\"#000000\" fill-rule=\"evenodd\" fill-opacity=\"1\" /><path clip-path=\"url(#clip230)\" d=\"M762.854 46.5287 L784.688 46.5287 L784.688 53.1722 L762.854 53.1722 L762.854 46.5287 Z\" fill=\"#000000\" fill-rule=\"evenodd\" fill-opacity=\"1\" /><path clip-path=\"url(#clip230)\" d=\"M823.739 17.6457 Q814.827 17.6457 809.561 24.2892 Q804.335 30.9327 804.335 42.3968 Q804.335 53.8203 809.561 60.4638 Q814.827 67.1073 823.739 67.1073 Q832.651 67.1073 837.836 60.4638 Q843.062 53.8203 843.062 42.3968 Q843.062 30.9327 837.836 24.2892 Q832.651 17.6457 823.739 17.6457 M823.739 11.0023 Q836.459 11.0023 844.075 19.5497 Q851.69 28.0566 851.69 42.3968 Q851.69 56.6965 844.075 65.2439 Q836.459 73.7508 823.739 73.7508 Q810.979 73.7508 803.322 65.2439 Q795.707 56.737 795.707 42.3968 Q795.707 28.0566 803.322 19.5497 Q810.979 11.0023 823.739 11.0023 Z\" fill=\"#000000\" fill-rule=\"evenodd\" fill-opacity=\"1\" /><path clip-path=\"url(#clip230)\" d=\"M890.457 34.1734 Q889.202 33.4443 887.703 33.1202 Q886.244 32.7556 884.462 32.7556 Q878.143 32.7556 874.74 36.8875 Q871.378 40.9789 871.378 48.6757 L871.378 72.576 L863.883 72.576 L863.883 27.2059 L871.378 27.2059 L871.378 34.2544 Q873.727 30.1225 877.494 28.1376 Q881.262 26.1121 886.65 26.1121 Q887.419 26.1121 888.351 26.2337 Q889.283 26.3147 890.417 26.5172 L890.457 34.1734 Z\" fill=\"#000000\" fill-rule=\"evenodd\" fill-opacity=\"1\" /><path clip-path=\"url(#clip230)\" d=\"M926.672 34.0924 L926.672 9.54393 L934.126 9.54393 L934.126 72.576 L926.672 72.576 L926.672 65.7705 Q924.323 69.8214 920.718 71.8063 Q917.153 73.7508 912.13 73.7508 Q903.906 73.7508 898.721 67.1883 Q893.577 60.6258 893.577 49.9314 Q893.577 39.2371 898.721 32.6746 Q903.906 26.1121 912.13 26.1121 Q917.153 26.1121 920.718 28.0971 Q924.323 30.0415 926.672 34.0924 M901.273 49.9314 Q901.273 58.1548 904.636 62.8538 Q908.038 67.5124 913.953 67.5124 Q919.867 67.5124 923.27 62.8538 Q926.672 58.1548 926.672 49.9314 Q926.672 41.7081 923.27 37.0496 Q919.867 32.3505 913.953 32.3505 Q908.038 32.3505 904.636 37.0496 Q901.273 41.7081 901.273 49.9314 Z\" fill=\"#000000\" fill-rule=\"evenodd\" fill-opacity=\"1\" /><path clip-path=\"url(#clip230)\" d=\"M988.287 48.0275 L988.287 51.6733 L954.016 51.6733 Q954.502 59.3701 958.634 63.421 Q962.807 67.4314 970.22 67.4314 Q974.514 67.4314 978.524 66.3781 Q982.575 65.3249 986.545 63.2184 L986.545 70.267 Q982.534 71.9684 978.321 72.8596 Q974.109 73.7508 969.774 73.7508 Q958.918 73.7508 952.558 67.4314 Q946.238 61.1119 946.238 50.3365 Q946.238 39.1965 952.234 32.6746 Q958.27 26.1121 968.478 26.1121 Q977.633 26.1121 982.94 32.0264 Q988.287 37.9003 988.287 48.0275 M980.833 45.84 Q980.752 39.7232 977.39 36.0774 Q974.068 32.4315 968.559 32.4315 Q962.32 32.4315 958.553 35.9558 Q954.826 39.4801 954.259 45.8805 L980.833 45.84 Z\" fill=\"#000000\" fill-rule=\"evenodd\" fill-opacity=\"1\" /><path clip-path=\"url(#clip230)\" d=\"M1026.81 34.1734 Q1025.56 33.4443 1024.06 33.1202 Q1022.6 32.7556 1020.82 32.7556 Q1014.5 32.7556 1011.09 36.8875 Q1007.73 40.9789 1007.73 48.6757 L1007.73 72.576 L1000.24 72.576 L1000.24 27.2059 L1007.73 27.2059 L1007.73 34.2544 Q1010.08 30.1225 1013.85 28.1376 Q1017.62 26.1121 1023 26.1121 Q1023.77 26.1121 1024.7 26.2337 Q1025.64 26.3147 1026.77 26.5172 L1026.81 34.1734 Z\" fill=\"#000000\" fill-rule=\"evenodd\" fill-opacity=\"1\" /><path clip-path=\"url(#clip230)\" d=\"M1061.32 12.096 L1069.51 12.096 L1069.51 68.3631 Q1069.51 79.3005 1065.33 84.2426 Q1061.2 89.1847 1052.01 89.1847 L1048.89 89.1847 L1048.89 82.2982 L1051.44 82.2982 Q1056.87 82.2982 1059.1 79.26 Q1061.32 76.2218 1061.32 68.3631 L1061.32 12.096 Z\" fill=\"#000000\" fill-rule=\"evenodd\" fill-opacity=\"1\" /><path clip-path=\"url(#clip230)\" d=\"M1103.05 32.4315 Q1097.05 32.4315 1093.57 37.1306 Q1090.09 41.7891 1090.09 49.9314 Q1090.09 58.0738 1093.53 62.7728 Q1097.01 67.4314 1103.05 67.4314 Q1109 67.4314 1112.49 62.7323 Q1115.97 58.0333 1115.97 49.9314 Q1115.97 41.8701 1112.49 37.1711 Q1109 32.4315 1103.05 32.4315 M1103.05 26.1121 Q1112.77 26.1121 1118.32 32.4315 Q1123.87 38.7509 1123.87 49.9314 Q1123.87 61.0714 1118.32 67.4314 Q1112.77 73.7508 1103.05 73.7508 Q1093.29 73.7508 1087.74 67.4314 Q1082.23 61.0714 1082.23 49.9314 Q1082.23 38.7509 1087.74 32.4315 Q1093.29 26.1121 1103.05 26.1121 Z\" fill=\"#000000\" fill-rule=\"evenodd\" fill-opacity=\"1\" /><path clip-path=\"url(#clip230)\" d=\"M1136.23 27.2059 L1143.68 27.2059 L1143.68 72.576 L1136.23 72.576 L1136.23 27.2059 M1136.23 9.54393 L1143.68 9.54393 L1143.68 18.9825 L1136.23 18.9825 L1136.23 9.54393 Z\" fill=\"#000000\" fill-rule=\"evenodd\" fill-opacity=\"1\" /><path clip-path=\"url(#clip230)\" d=\"M1196.99 45.1919 L1196.99 72.576 L1189.54 72.576 L1189.54 45.4349 Q1189.54 38.994 1187.02 35.7938 Q1184.51 32.5936 1179.49 32.5936 Q1173.45 32.5936 1169.97 36.4419 Q1166.49 40.2903 1166.49 46.9338 L1166.49 72.576 L1158.99 72.576 L1158.99 27.2059 L1166.49 27.2059 L1166.49 34.2544 Q1169.16 30.163 1172.76 28.1376 Q1176.41 26.1121 1181.15 26.1121 Q1188.97 26.1121 1192.98 30.9732 Q1196.99 35.7938 1196.99 45.1919 Z\" fill=\"#000000\" fill-rule=\"evenodd\" fill-opacity=\"1\" /><path clip-path=\"url(#clip230)\" d=\"M1219.23 14.324 L1219.23 27.2059 L1234.58 27.2059 L1234.58 32.9987 L1219.23 32.9987 L1219.23 57.6282 Q1219.23 63.1779 1220.73 64.7578 Q1222.27 66.3376 1226.93 66.3376 L1234.58 66.3376 L1234.58 72.576 L1226.93 72.576 Q1218.3 72.576 1215.02 69.3758 Q1211.73 66.1351 1211.73 57.6282 L1211.73 32.9987 L1206.27 32.9987 L1206.27 27.2059 L1211.73 27.2059 L1211.73 14.324 L1219.23 14.324 Z\" fill=\"#000000\" fill-rule=\"evenodd\" fill-opacity=\"1\" /><path clip-path=\"url(#clip230)\" d=\"M1246.29 62.2867 L1254.84 62.2867 L1254.84 72.576 L1246.29 72.576 L1246.29 62.2867 M1246.29 29.6769 L1254.84 29.6769 L1254.84 39.9662 L1246.29 39.9662 L1246.29 29.6769 Z\" fill=\"#000000\" fill-rule=\"evenodd\" fill-opacity=\"1\" /><path clip-path=\"url(#clip230)\" d=\"M1299.03 12.096 L1337.27 12.096 L1337.27 18.9825 L1307.21 18.9825 L1307.21 36.8875 L1336.02 36.8875 L1336.02 43.7741 L1307.21 43.7741 L1307.21 65.6895 L1338 65.6895 L1338 72.576 L1299.03 72.576 L1299.03 12.096 Z\" fill=\"#000000\" fill-rule=\"evenodd\" fill-opacity=\"1\" /><path clip-path=\"url(#clip230)\" d=\"M1380.05 28.5427 L1380.05 35.5912 Q1376.89 33.9709 1373.49 33.1607 Q1370.08 32.3505 1366.44 32.3505 Q1360.89 32.3505 1358.09 34.0519 Q1355.34 35.7533 1355.34 39.156 Q1355.34 41.7486 1357.32 43.2475 Q1359.31 44.7058 1365.3 46.0426 L1367.86 46.6097 Q1375.8 48.3111 1379.12 51.4303 Q1382.48 54.509 1382.48 60.0587 Q1382.48 66.3781 1377.46 70.0644 Q1372.47 73.7508 1363.72 73.7508 Q1360.08 73.7508 1356.11 73.0216 Q1352.18 72.3329 1347.8 70.9151 L1347.8 63.2184 Q1351.94 65.3654 1355.95 66.4591 Q1359.96 67.5124 1363.89 67.5124 Q1369.15 67.5124 1371.99 65.73 Q1374.82 63.9071 1374.82 60.6258 Q1374.82 57.5877 1372.76 55.9673 Q1370.73 54.3469 1363.81 52.8481 L1361.21 52.2405 Q1354.29 50.7821 1351.21 47.7845 Q1348.13 44.7463 1348.13 39.4801 Q1348.13 33.0797 1352.67 29.5959 Q1357.2 26.1121 1365.55 26.1121 Q1369.68 26.1121 1373.33 26.7198 Q1376.97 27.3274 1380.05 28.5427 Z\" fill=\"#000000\" fill-rule=\"evenodd\" fill-opacity=\"1\" /><path clip-path=\"url(#clip230)\" d=\"M1401.72 14.324 L1401.72 27.2059 L1417.07 27.2059 L1417.07 32.9987 L1401.72 32.9987 L1401.72 57.6282 Q1401.72 63.1779 1403.22 64.7578 Q1404.76 66.3376 1409.42 66.3376 L1417.07 66.3376 L1417.07 72.576 L1409.42 72.576 Q1400.79 72.576 1397.51 69.3758 Q1394.23 66.1351 1394.23 57.6282 L1394.23 32.9987 L1388.76 32.9987 L1388.76 27.2059 L1394.23 27.2059 L1394.23 14.324 L1401.72 14.324 Z\" fill=\"#000000\" fill-rule=\"evenodd\" fill-opacity=\"1\" /><path clip-path=\"url(#clip230)\" d=\"M1426.88 27.2059 L1434.33 27.2059 L1434.33 72.576 L1426.88 72.576 L1426.88 27.2059 M1426.88 9.54393 L1434.33 9.54393 L1434.33 18.9825 L1426.88 18.9825 L1426.88 9.54393 Z\" fill=\"#000000\" fill-rule=\"evenodd\" fill-opacity=\"1\" /><path clip-path=\"url(#clip230)\" d=\"M1485.25 35.9153 Q1488.05 30.8922 1491.94 28.5022 Q1495.82 26.1121 1501.09 26.1121 Q1508.18 26.1121 1512.03 31.0947 Q1515.88 36.0368 1515.88 45.1919 L1515.88 72.576 L1508.38 72.576 L1508.38 45.4349 Q1508.38 38.913 1506.07 35.7533 Q1503.76 32.5936 1499.02 32.5936 Q1493.23 32.5936 1489.87 36.4419 Q1486.51 40.2903 1486.51 46.9338 L1486.51 72.576 L1479.01 72.576 L1479.01 45.4349 Q1479.01 38.8725 1476.7 35.7533 Q1474.4 32.5936 1469.57 32.5936 Q1463.86 32.5936 1460.5 36.4824 Q1457.14 40.3308 1457.14 46.9338 L1457.14 72.576 L1449.64 72.576 L1449.64 27.2059 L1457.14 27.2059 L1457.14 34.2544 Q1459.69 30.082 1463.26 28.0971 Q1466.82 26.1121 1471.72 26.1121 Q1476.66 26.1121 1480.11 28.6237 Q1483.59 31.1352 1485.25 35.9153 Z\" fill=\"#000000\" fill-rule=\"evenodd\" fill-opacity=\"1\" /><path clip-path=\"url(#clip230)\" d=\"M1551.36 49.7694 Q1542.33 49.7694 1538.85 51.8354 Q1535.36 53.9013 1535.36 58.8839 Q1535.36 62.8538 1537.95 65.2034 Q1540.59 67.5124 1545.08 67.5124 Q1551.28 67.5124 1555.01 63.1374 Q1558.78 58.7219 1558.78 51.4303 L1558.78 49.7694 L1551.36 49.7694 M1566.23 46.6907 L1566.23 72.576 L1558.78 72.576 L1558.78 65.6895 Q1556.22 69.8214 1552.42 71.8063 Q1548.61 73.7508 1543.1 73.7508 Q1536.13 73.7508 1532 69.8619 Q1527.91 65.9325 1527.91 59.3701 Q1527.91 51.7138 1533.01 47.825 Q1538.16 43.9361 1548.32 43.9361 L1558.78 43.9361 L1558.78 43.2069 Q1558.78 38.0623 1555.37 35.2672 Q1552.01 32.4315 1545.89 32.4315 Q1542 32.4315 1538.32 33.3632 Q1534.63 34.295 1531.23 36.1584 L1531.23 29.2718 Q1535.32 27.692 1539.17 26.9223 Q1543.02 26.1121 1546.66 26.1121 Q1556.51 26.1121 1561.37 31.2163 Q1566.23 36.3204 1566.23 46.6907 Z\" fill=\"#000000\" fill-rule=\"evenodd\" fill-opacity=\"1\" /><path clip-path=\"url(#clip230)\" d=\"M1588.95 14.324 L1588.95 27.2059 L1604.31 27.2059 L1604.31 32.9987 L1588.95 32.9987 L1588.95 57.6282 Q1588.95 63.1779 1590.45 64.7578 Q1591.99 66.3376 1596.65 66.3376 L1604.31 66.3376 L1604.31 72.576 L1596.65 72.576 Q1588.02 72.576 1584.74 69.3758 Q1581.46 66.1351 1581.46 57.6282 L1581.46 32.9987 L1575.99 32.9987 L1575.99 27.2059 L1581.46 27.2059 L1581.46 14.324 L1588.95 14.324 Z\" fill=\"#000000\" fill-rule=\"evenodd\" fill-opacity=\"1\" /><path clip-path=\"url(#clip230)\" d=\"M1652.92 48.0275 L1652.92 51.6733 L1618.65 51.6733 Q1619.13 59.3701 1623.27 63.421 Q1627.44 67.4314 1634.85 67.4314 Q1639.15 67.4314 1643.16 66.3781 Q1647.21 65.3249 1651.18 63.2184 L1651.18 70.267 Q1647.17 71.9684 1642.95 72.8596 Q1638.74 73.7508 1634.41 73.7508 Q1623.55 73.7508 1617.19 67.4314 Q1610.87 61.1119 1610.87 50.3365 Q1610.87 39.1965 1616.87 32.6746 Q1622.9 26.1121 1633.11 26.1121 Q1642.26 26.1121 1647.57 32.0264 Q1652.92 37.9003 1652.92 48.0275 M1645.46 45.84 Q1645.38 39.7232 1642.02 36.0774 Q1638.7 32.4315 1633.19 32.4315 Q1626.95 32.4315 1623.18 35.9558 Q1619.46 39.4801 1618.89 45.8805 L1645.46 45.84 Z\" fill=\"#000000\" fill-rule=\"evenodd\" fill-opacity=\"1\" /><path clip-path=\"url(#clip230)\" d=\"M1695.01 34.0924 L1695.01 9.54393 L1702.46 9.54393 L1702.46 72.576 L1695.01 72.576 L1695.01 65.7705 Q1692.66 69.8214 1689.05 71.8063 Q1685.49 73.7508 1680.46 73.7508 Q1672.24 73.7508 1667.06 67.1883 Q1661.91 60.6258 1661.91 49.9314 Q1661.91 39.2371 1667.06 32.6746 Q1672.24 26.1121 1680.46 26.1121 Q1685.49 26.1121 1689.05 28.0971 Q1692.66 30.0415 1695.01 34.0924 M1669.61 49.9314 Q1669.61 58.1548 1672.97 62.8538 Q1676.37 67.5124 1682.29 67.5124 Q1688.2 67.5124 1691.6 62.8538 Q1695.01 58.1548 1695.01 49.9314 Q1695.01 41.7081 1691.6 37.0496 Q1688.2 32.3505 1682.29 32.3505 Q1676.37 32.3505 1672.97 37.0496 Q1669.61 41.7081 1669.61 49.9314 Z\" fill=\"#000000\" fill-rule=\"evenodd\" fill-opacity=\"1\" /><path clip-path=\"url(#clip230)\" d=\"M1744.51 12.096 L1752.69 12.096 L1752.69 65.6895 L1782.14 65.6895 L1782.14 72.576 L1744.51 72.576 L1744.51 12.096 Z\" fill=\"#000000\" fill-rule=\"evenodd\" fill-opacity=\"1\" /><path clip-path=\"url(#clip230)\" d=\"M1811.03 49.7694 Q1801.99 49.7694 1798.51 51.8354 Q1795.02 53.9013 1795.02 58.8839 Q1795.02 62.8538 1797.62 65.2034 Q1800.25 67.5124 1804.75 67.5124 Q1810.94 67.5124 1814.67 63.1374 Q1818.44 58.7219 1818.44 51.4303 L1818.44 49.7694 L1811.03 49.7694 M1825.89 46.6907 L1825.89 72.576 L1818.44 72.576 L1818.44 65.6895 Q1815.89 69.8214 1812.08 71.8063 Q1808.27 73.7508 1802.76 73.7508 Q1795.79 73.7508 1791.66 69.8619 Q1787.57 65.9325 1787.57 59.3701 Q1787.57 51.7138 1792.67 47.825 Q1797.82 43.9361 1807.99 43.9361 L1818.44 43.9361 L1818.44 43.2069 Q1818.44 38.0623 1815.04 35.2672 Q1811.67 32.4315 1805.56 32.4315 Q1801.67 32.4315 1797.98 33.3632 Q1794.3 34.295 1790.89 36.1584 L1790.89 29.2718 Q1794.98 27.692 1798.83 26.9223 Q1802.68 26.1121 1806.33 26.1121 Q1816.17 26.1121 1821.03 31.2163 Q1825.89 36.3204 1825.89 46.6907 Z\" fill=\"#000000\" fill-rule=\"evenodd\" fill-opacity=\"1\" /><path clip-path=\"url(#clip230)\" d=\"M1848.62 14.324 L1848.62 27.2059 L1863.97 27.2059 L1863.97 32.9987 L1848.62 32.9987 L1848.62 57.6282 Q1848.62 63.1779 1850.12 64.7578 Q1851.66 66.3376 1856.31 66.3376 L1863.97 66.3376 L1863.97 72.576 L1856.31 72.576 Q1847.69 72.576 1844.4 69.3758 Q1841.12 66.1351 1841.12 57.6282 L1841.12 32.9987 L1835.65 32.9987 L1835.65 27.2059 L1841.12 27.2059 L1841.12 14.324 L1848.62 14.324 Z\" fill=\"#000000\" fill-rule=\"evenodd\" fill-opacity=\"1\" /><path clip-path=\"url(#clip230)\" d=\"M1912.58 48.0275 L1912.58 51.6733 L1878.31 51.6733 Q1878.8 59.3701 1882.93 63.421 Q1887.1 67.4314 1894.51 67.4314 Q1898.81 67.4314 1902.82 66.3781 Q1906.87 65.3249 1910.84 63.2184 L1910.84 70.267 Q1906.83 71.9684 1902.62 72.8596 Q1898.4 73.7508 1894.07 73.7508 Q1883.21 73.7508 1876.85 67.4314 Q1870.53 61.1119 1870.53 50.3365 Q1870.53 39.1965 1876.53 32.6746 Q1882.56 26.1121 1892.77 26.1121 Q1901.93 26.1121 1907.23 32.0264 Q1912.58 37.9003 1912.58 48.0275 M1905.13 45.84 Q1905.05 39.7232 1901.68 36.0774 Q1898.36 32.4315 1892.85 32.4315 Q1886.62 32.4315 1882.85 35.9558 Q1879.12 39.4801 1878.55 45.8805 L1905.13 45.84 Z\" fill=\"#000000\" fill-rule=\"evenodd\" fill-opacity=\"1\" /><path clip-path=\"url(#clip230)\" d=\"M1962.53 45.1919 L1962.53 72.576 L1955.08 72.576 L1955.08 45.4349 Q1955.08 38.994 1952.56 35.7938 Q1950.05 32.5936 1945.03 32.5936 Q1938.99 32.5936 1935.51 36.4419 Q1932.03 40.2903 1932.03 46.9338 L1932.03 72.576 L1924.53 72.576 L1924.53 27.2059 L1932.03 27.2059 L1932.03 34.2544 Q1934.7 30.163 1938.3 28.1376 Q1941.95 26.1121 1946.69 26.1121 Q1954.51 26.1121 1958.52 30.9732 Q1962.53 35.7938 1962.53 45.1919 Z\" fill=\"#000000\" fill-rule=\"evenodd\" fill-opacity=\"1\" /><path clip-path=\"url(#clip230)\" d=\"M1984.77 14.324 L1984.77 27.2059 L2000.12 27.2059 L2000.12 32.9987 L1984.77 32.9987 L1984.77 57.6282 Q1984.77 63.1779 1986.27 64.7578 Q1987.81 66.3376 1992.47 66.3376 L2000.12 66.3376 L2000.12 72.576 L1992.47 72.576 Q1983.84 72.576 1980.56 69.3758 Q1977.27 66.1351 1977.27 57.6282 L1977.27 32.9987 L1971.81 32.9987 L1971.81 27.2059 L1977.27 27.2059 L1977.27 14.324 L1984.77 14.324 Z\" fill=\"#000000\" fill-rule=\"evenodd\" fill-opacity=\"1\" /><path clip-path=\"url(#clip230)\" d=\"M2038.85 28.5427 L2038.85 35.5912 Q2035.69 33.9709 2032.29 33.1607 Q2028.88 32.3505 2025.24 32.3505 Q2019.69 32.3505 2016.89 34.0519 Q2014.14 35.7533 2014.14 39.156 Q2014.14 41.7486 2016.12 43.2475 Q2018.11 44.7058 2024.1 46.0426 L2026.65 46.6097 Q2034.59 48.3111 2037.92 51.4303 Q2041.28 54.509 2041.28 60.0587 Q2041.28 66.3781 2036.26 70.0644 Q2031.27 73.7508 2022.52 73.7508 Q2018.88 73.7508 2014.91 73.0216 Q2010.98 72.3329 2006.6 70.9151 L2006.6 63.2184 Q2010.73 65.3654 2014.75 66.4591 Q2018.76 67.5124 2022.69 67.5124 Q2027.95 67.5124 2030.79 65.73 Q2033.62 63.9071 2033.62 60.6258 Q2033.62 57.5877 2031.56 55.9673 Q2029.53 54.3469 2022.6 52.8481 L2020.01 52.2405 Q2013.08 50.7821 2010.01 47.7845 Q2006.93 44.7463 2006.93 39.4801 Q2006.93 33.0797 2011.46 29.5959 Q2016 26.1121 2024.35 26.1121 Q2028.48 26.1121 2032.12 26.7198 Q2035.77 27.3274 2038.85 28.5427 Z\" fill=\"#000000\" fill-rule=\"evenodd\" fill-opacity=\"1\" /><path clip-path=\"url(#clip232)\" d=\"\nM209.891 792.515 L319.389 574.273 L428.886 902.73 L538.384 787.332 L647.881 1370.53 L757.379 792.45 L866.876 1201.61 L976.373 1181.54 L1085.87 922.71 L1195.37 693.806 \n  L1304.87 1040.8 L1414.36 1025.5 L1523.86 1002.22 L1633.36 1122.62 L1742.86 1070.38 L1852.35 1447.87 L1961.85 839.372 L2071.35 802.362 L2180.84 1114.15 L2290.34 1248.71 \n  L2290.34 432.028 L2180.84 843.954 L2071.35 514.53 L1961.85 554.299 L1852.35 1103.24 L1742.86 791.678 L1633.36 855.042 L1523.86 752.838 L1414.36 765.66 L1304.87 787.888 \n  L1195.37 356.827 L1085.87 645.179 L976.373 900.192 L866.876 928.196 L757.379 515.894 L647.881 1064.94 L538.384 512.171 L428.886 614.976 L319.389 162.047 L209.891 474.221 \n   Z\n  \" fill=\"#009af9\" fill-rule=\"evenodd\" fill-opacity=\"0.5\"/>\n<polyline clip-path=\"url(#clip232)\" style=\"stroke:#009af9; stroke-linecap:butt; stroke-linejoin:round; stroke-width:4; stroke-opacity:1; fill:none\" points=\"\n  209.891,633.368 319.389,368.16 428.886,758.853 538.384,649.751 647.881,1217.74 757.379,654.172 866.876,1064.9 976.373,1040.86 1085.87,783.945 1195.37,525.316 \n  1304.87,914.342 1414.36,895.582 1523.86,877.527 1633.36,988.833 1742.86,931.031 1852.35,1275.56 1961.85,696.836 2071.35,658.446 2180.84,979.054 2290.34,840.369 \n  \n  \"/>\n<polyline clip-path=\"url(#clip232)\" style=\"stroke:#e26f46; stroke-linecap:butt; stroke-linejoin:round; stroke-width:4; stroke-opacity:1; fill:none\" points=\"\n  209.891,662.55 319.389,498.653 428.886,745.9 538.384,746.006 647.881,1157.88 757.379,617.987 866.876,1039.37 976.373,1061.6 1085.87,787.206 1195.37,541.174 \n  1304.87,889.334 1414.36,958.251 1523.86,807.809 1633.36,995.406 1742.86,825.309 1852.35,1294.31 1961.85,744.335 2071.35,681.042 2180.84,1024.81 2290.34,835.246 \n  \n  \"/>\n<path clip-path=\"url(#clip230)\" d=\"\nM1683.87 324.425 L2279.25 324.425 L2279.25 168.905 L1683.87 168.905  Z\n  \" fill=\"#ffffff\" fill-rule=\"evenodd\" fill-opacity=\"1\"/>\n<polyline clip-path=\"url(#clip230)\" style=\"stroke:#000000; stroke-linecap:butt; stroke-linejoin:round; stroke-width:4; stroke-opacity:1; fill:none\" points=\"\n  1683.87,324.425 2279.25,324.425 2279.25,168.905 1683.87,168.905 1683.87,324.425 \n  \"/>\n<polyline clip-path=\"url(#clip230)\" style=\"stroke:#009af9; stroke-linecap:butt; stroke-linejoin:round; stroke-width:4; stroke-opacity:1; fill:none\" points=\"\n  1708.37,220.745 1855.39,220.745 \n  \"/>\n<path clip-path=\"url(#clip230)\" d=\"M1884.57 207.307 L1884.57 220.293 L1890.45 220.293 Q1893.71 220.293 1895.5 218.603 Q1897.28 216.914 1897.28 213.789 Q1897.28 210.687 1895.5 208.997 Q1893.71 207.307 1890.45 207.307 L1884.57 207.307 M1879.9 203.465 L1890.45 203.465 Q1896.26 203.465 1899.22 206.104 Q1902.21 208.719 1902.21 213.789 Q1902.21 218.904 1899.22 221.52 Q1896.26 224.136 1890.45 224.136 L1884.57 224.136 L1884.57 238.025 L1879.9 238.025 L1879.9 203.465 Z\" fill=\"#000000\" fill-rule=\"evenodd\" fill-opacity=\"1\" /><path clip-path=\"url(#clip230)\" d=\"M1916.65 215.085 Q1913.23 215.085 1911.24 217.77 Q1909.25 220.432 1909.25 225.085 Q1909.25 229.738 1911.21 232.423 Q1913.21 235.085 1916.65 235.085 Q1920.06 235.085 1922.05 232.4 Q1924.04 229.715 1924.04 225.085 Q1924.04 220.478 1922.05 217.793 Q1920.06 215.085 1916.65 215.085 M1916.65 211.474 Q1922.21 211.474 1925.38 215.085 Q1928.55 218.696 1928.55 225.085 Q1928.55 231.451 1925.38 235.085 Q1922.21 238.696 1916.65 238.696 Q1911.08 238.696 1907.9 235.085 Q1904.76 231.451 1904.76 225.085 Q1904.76 218.696 1907.9 215.085 Q1911.08 211.474 1916.65 211.474 Z\" fill=\"#000000\" fill-rule=\"evenodd\" fill-opacity=\"1\" /><path clip-path=\"url(#clip230)\" d=\"M1952.14 212.863 L1952.14 216.891 Q1950.33 215.965 1948.39 215.502 Q1946.45 215.039 1944.36 215.039 Q1941.19 215.039 1939.59 216.011 Q1938.02 216.983 1938.02 218.928 Q1938.02 220.409 1939.15 221.265 Q1940.29 222.099 1943.71 222.863 L1945.17 223.187 Q1949.71 224.159 1951.61 225.941 Q1953.53 227.701 1953.53 230.872 Q1953.53 234.483 1950.66 236.589 Q1947.81 238.696 1942.81 238.696 Q1940.73 238.696 1938.46 238.279 Q1936.21 237.886 1933.71 237.076 L1933.71 232.677 Q1936.08 233.904 1938.37 234.529 Q1940.66 235.131 1942.9 235.131 Q1945.91 235.131 1947.53 234.113 Q1949.15 233.071 1949.15 231.196 Q1949.15 229.46 1947.97 228.534 Q1946.82 227.608 1942.86 226.752 L1941.38 226.404 Q1937.42 225.571 1935.66 223.858 Q1933.9 222.122 1933.9 219.113 Q1933.9 215.455 1936.49 213.465 Q1939.08 211.474 1943.85 211.474 Q1946.21 211.474 1948.3 211.821 Q1950.38 212.168 1952.14 212.863 Z\" fill=\"#000000\" fill-rule=\"evenodd\" fill-opacity=\"1\" /><path clip-path=\"url(#clip230)\" d=\"M1964.52 204.738 L1964.52 212.099 L1973.3 212.099 L1973.3 215.409 L1964.52 215.409 L1964.52 229.483 Q1964.52 232.654 1965.38 233.557 Q1966.26 234.46 1968.92 234.46 L1973.3 234.46 L1973.3 238.025 L1968.92 238.025 Q1963.99 238.025 1962.12 236.196 Q1960.24 234.344 1960.24 229.483 L1960.24 215.409 L1957.12 215.409 L1957.12 212.099 L1960.24 212.099 L1960.24 204.738 L1964.52 204.738 Z\" fill=\"#000000\" fill-rule=\"evenodd\" fill-opacity=\"1\" /><path clip-path=\"url(#clip230)\" d=\"M2001.08 223.997 L2001.08 226.08 L1981.49 226.08 Q1981.77 230.478 1984.13 232.793 Q1986.51 235.085 1990.75 235.085 Q1993.2 235.085 1995.5 234.483 Q1997.81 233.881 2000.08 232.677 L2000.08 236.705 Q1997.79 237.677 1995.38 238.187 Q1992.97 238.696 1990.5 238.696 Q1984.29 238.696 1980.66 235.085 Q1977.05 231.474 1977.05 225.316 Q1977.05 218.951 1980.47 215.224 Q1983.92 211.474 1989.76 211.474 Q1994.99 211.474 1998.02 214.853 Q2001.08 218.21 2001.08 223.997 M1996.82 222.747 Q1996.77 219.252 1994.85 217.168 Q1992.95 215.085 1989.8 215.085 Q1986.24 215.085 1984.08 217.099 Q1981.95 219.113 1981.63 222.77 L1996.82 222.747 Z\" fill=\"#000000\" fill-rule=\"evenodd\" fill-opacity=\"1\" /><path clip-path=\"url(#clip230)\" d=\"M2023.09 216.08 Q2022.37 215.664 2021.51 215.478 Q2020.68 215.27 2019.66 215.27 Q2016.05 215.27 2014.11 217.631 Q2012.19 219.969 2012.19 224.367 L2012.19 238.025 L2007.9 238.025 L2007.9 212.099 L2012.19 212.099 L2012.19 216.127 Q2013.53 213.766 2015.68 212.631 Q2017.83 211.474 2020.91 211.474 Q2021.35 211.474 2021.89 211.543 Q2022.42 211.59 2023.07 211.705 L2023.09 216.08 Z\" fill=\"#000000\" fill-rule=\"evenodd\" fill-opacity=\"1\" /><path clip-path=\"url(#clip230)\" d=\"M2027.56 212.099 L2031.82 212.099 L2031.82 238.025 L2027.56 238.025 L2027.56 212.099 M2027.56 202.006 L2031.82 202.006 L2031.82 207.4 L2027.56 207.4 L2027.56 202.006 Z\" fill=\"#000000\" fill-rule=\"evenodd\" fill-opacity=\"1\" /><path clip-path=\"url(#clip230)\" d=\"M2050.77 215.085 Q2047.35 215.085 2045.36 217.77 Q2043.37 220.432 2043.37 225.085 Q2043.37 229.738 2045.33 232.423 Q2047.32 235.085 2050.77 235.085 Q2054.18 235.085 2056.17 232.4 Q2058.16 229.715 2058.16 225.085 Q2058.16 220.478 2056.17 217.793 Q2054.18 215.085 2050.77 215.085 M2050.77 211.474 Q2056.33 211.474 2059.5 215.085 Q2062.67 218.696 2062.67 225.085 Q2062.67 231.451 2059.5 235.085 Q2056.33 238.696 2050.77 238.696 Q2045.2 238.696 2042.02 235.085 Q2038.88 231.451 2038.88 225.085 Q2038.88 218.696 2042.02 215.085 Q2045.2 211.474 2050.77 211.474 Z\" fill=\"#000000\" fill-rule=\"evenodd\" fill-opacity=\"1\" /><path clip-path=\"url(#clip230)\" d=\"M2084.76 216.08 Q2084.04 215.664 2083.18 215.478 Q2082.35 215.27 2081.33 215.27 Q2077.72 215.27 2075.77 217.631 Q2073.85 219.969 2073.85 224.367 L2073.85 238.025 L2069.57 238.025 L2069.57 212.099 L2073.85 212.099 L2073.85 216.127 Q2075.19 213.766 2077.35 212.631 Q2079.5 211.474 2082.58 211.474 Q2083.02 211.474 2083.55 211.543 Q2084.08 211.59 2084.73 211.705 L2084.76 216.08 Z\" fill=\"#000000\" fill-rule=\"evenodd\" fill-opacity=\"1\" /><path clip-path=\"url(#clip230)\" d=\"M2124.48 217.076 Q2126.07 214.205 2128.3 212.84 Q2130.52 211.474 2133.53 211.474 Q2137.58 211.474 2139.78 214.321 Q2141.98 217.145 2141.98 222.377 L2141.98 238.025 L2137.69 238.025 L2137.69 222.515 Q2137.69 218.789 2136.38 216.983 Q2135.06 215.178 2132.35 215.178 Q2129.04 215.178 2127.12 217.377 Q2125.19 219.576 2125.19 223.372 L2125.19 238.025 L2120.91 238.025 L2120.91 222.515 Q2120.91 218.765 2119.59 216.983 Q2118.27 215.178 2115.52 215.178 Q2112.25 215.178 2110.33 217.4 Q2108.41 219.599 2108.41 223.372 L2108.41 238.025 L2104.13 238.025 L2104.13 212.099 L2108.41 212.099 L2108.41 216.127 Q2109.87 213.742 2111.91 212.608 Q2113.94 211.474 2116.75 211.474 Q2119.57 211.474 2121.54 212.909 Q2123.53 214.344 2124.48 217.076 Z\" fill=\"#000000\" fill-rule=\"evenodd\" fill-opacity=\"1\" /><path clip-path=\"url(#clip230)\" d=\"M2172.65 223.997 L2172.65 226.08 L2153.06 226.08 Q2153.34 230.478 2155.7 232.793 Q2158.09 235.085 2162.32 235.085 Q2164.78 235.085 2167.07 234.483 Q2169.38 233.881 2171.65 232.677 L2171.65 236.705 Q2169.36 237.677 2166.95 238.187 Q2164.55 238.696 2162.07 238.696 Q2155.87 238.696 2152.23 235.085 Q2148.62 231.474 2148.62 225.316 Q2148.62 218.951 2152.05 215.224 Q2155.5 211.474 2161.33 211.474 Q2166.56 211.474 2169.59 214.853 Q2172.65 218.21 2172.65 223.997 M2168.39 222.747 Q2168.34 219.252 2166.42 217.168 Q2164.52 215.085 2161.38 215.085 Q2157.81 215.085 2155.66 217.099 Q2153.53 219.113 2153.2 222.77 L2168.39 222.747 Z\" fill=\"#000000\" fill-rule=\"evenodd\" fill-opacity=\"1\" /><path clip-path=\"url(#clip230)\" d=\"M2191.42 224.992 Q2186.26 224.992 2184.27 226.173 Q2182.28 227.353 2182.28 230.201 Q2182.28 232.469 2183.76 233.812 Q2185.26 235.131 2187.83 235.131 Q2191.37 235.131 2193.5 232.631 Q2195.66 230.108 2195.66 225.941 L2195.66 224.992 L2191.42 224.992 M2199.92 223.233 L2199.92 238.025 L2195.66 238.025 L2195.66 234.089 Q2194.2 236.451 2192.02 237.585 Q2189.85 238.696 2186.7 238.696 Q2182.72 238.696 2180.36 236.474 Q2178.02 234.228 2178.02 230.478 Q2178.02 226.103 2180.94 223.881 Q2183.87 221.659 2189.69 221.659 L2195.66 221.659 L2195.66 221.242 Q2195.66 218.303 2193.71 216.705 Q2191.79 215.085 2188.3 215.085 Q2186.07 215.085 2183.97 215.617 Q2181.86 216.15 2179.92 217.215 L2179.92 213.279 Q2182.25 212.377 2184.45 211.937 Q2186.65 211.474 2188.74 211.474 Q2194.36 211.474 2197.14 214.391 Q2199.92 217.307 2199.92 223.233 Z\" fill=\"#000000\" fill-rule=\"evenodd\" fill-opacity=\"1\" /><path clip-path=\"url(#clip230)\" d=\"M2230.24 222.377 L2230.24 238.025 L2225.98 238.025 L2225.98 222.515 Q2225.98 218.835 2224.55 217.006 Q2223.11 215.178 2220.24 215.178 Q2216.79 215.178 2214.8 217.377 Q2212.81 219.576 2212.81 223.372 L2212.81 238.025 L2208.53 238.025 L2208.53 212.099 L2212.81 212.099 L2212.81 216.127 Q2214.34 213.789 2216.4 212.631 Q2218.48 211.474 2221.19 211.474 Q2225.66 211.474 2227.95 214.252 Q2230.24 217.006 2230.24 222.377 Z\" fill=\"#000000\" fill-rule=\"evenodd\" fill-opacity=\"1\" /><polyline clip-path=\"url(#clip230)\" style=\"stroke:#e26f46; stroke-linecap:butt; stroke-linejoin:round; stroke-width:4; stroke-opacity:1; fill:none\" points=\"\n  1708.37,272.585 1855.39,272.585 \n  \"/>\n<path clip-path=\"url(#clip230)\" d=\"M1879.9 255.305 L1909.13 255.305 L1909.13 259.24 L1896.86 259.24 L1896.86 289.865 L1892.16 289.865 L1892.16 259.24 L1879.9 259.24 L1879.9 255.305 Z\" fill=\"#000000\" fill-rule=\"evenodd\" fill-opacity=\"1\" /><path clip-path=\"url(#clip230)\" d=\"M1921.52 267.92 Q1920.8 267.504 1919.94 267.318 Q1919.11 267.11 1918.09 267.11 Q1914.48 267.11 1912.53 269.471 Q1910.61 271.809 1910.61 276.207 L1910.61 289.865 L1906.33 289.865 L1906.33 263.939 L1910.61 263.939 L1910.61 267.967 Q1911.96 265.606 1914.11 264.471 Q1916.26 263.314 1919.34 263.314 Q1919.78 263.314 1920.31 263.383 Q1920.84 263.43 1921.49 263.545 L1921.52 267.92 Z\" fill=\"#000000\" fill-rule=\"evenodd\" fill-opacity=\"1\" /><path clip-path=\"url(#clip230)\" d=\"M1925.54 279.633 L1925.54 263.939 L1929.8 263.939 L1929.8 279.471 Q1929.8 283.152 1931.24 285.004 Q1932.67 286.832 1935.54 286.832 Q1938.99 286.832 1940.98 284.633 Q1943 282.434 1943 278.638 L1943 263.939 L1947.26 263.939 L1947.26 289.865 L1943 289.865 L1943 285.883 Q1941.45 288.244 1939.39 289.402 Q1937.35 290.536 1934.64 290.536 Q1930.17 290.536 1927.86 287.758 Q1925.54 284.98 1925.54 279.633 M1936.26 263.314 L1936.26 263.314 Z\" fill=\"#000000\" fill-rule=\"evenodd\" fill-opacity=\"1\" /><path clip-path=\"url(#clip230)\" d=\"M1978.2 275.837 L1978.2 277.92 L1958.62 277.92 Q1958.9 282.318 1961.26 284.633 Q1963.64 286.925 1967.88 286.925 Q1970.33 286.925 1972.63 286.323 Q1974.94 285.721 1977.21 284.517 L1977.21 288.545 Q1974.92 289.517 1972.51 290.027 Q1970.1 290.536 1967.63 290.536 Q1961.42 290.536 1957.79 286.925 Q1954.18 283.314 1954.18 277.156 Q1954.18 270.791 1957.6 267.064 Q1961.05 263.314 1966.89 263.314 Q1972.12 263.314 1975.15 266.693 Q1978.2 270.05 1978.2 275.837 M1973.95 274.587 Q1973.9 271.092 1971.98 269.008 Q1970.08 266.925 1966.93 266.925 Q1963.37 266.925 1961.21 268.939 Q1959.08 270.953 1958.76 274.61 L1973.95 274.587 Z\" fill=\"#000000\" fill-rule=\"evenodd\" fill-opacity=\"1\" /><path clip-path=\"url(#clip230)\" d=\"M1997.21 263.939 L2001.72 263.939 L2009.82 285.698 L2017.93 263.939 L2022.44 263.939 L2012.72 289.865 L2006.93 289.865 L1997.21 263.939 Z\" fill=\"#000000\" fill-rule=\"evenodd\" fill-opacity=\"1\" /><path clip-path=\"url(#clip230)\" d=\"M2040.1 276.832 Q2034.94 276.832 2032.95 278.013 Q2030.96 279.193 2030.96 282.041 Q2030.96 284.309 2032.44 285.652 Q2033.95 286.971 2036.51 286.971 Q2040.06 286.971 2042.19 284.471 Q2044.34 281.948 2044.34 277.781 L2044.34 276.832 L2040.1 276.832 M2048.6 275.073 L2048.6 289.865 L2044.34 289.865 L2044.34 285.929 Q2042.88 288.291 2040.7 289.425 Q2038.53 290.536 2035.38 290.536 Q2031.4 290.536 2029.04 288.314 Q2026.7 286.068 2026.7 282.318 Q2026.7 277.943 2029.62 275.721 Q2032.56 273.499 2038.37 273.499 L2044.34 273.499 L2044.34 273.082 Q2044.34 270.143 2042.39 268.545 Q2040.47 266.925 2036.98 266.925 Q2034.76 266.925 2032.65 267.457 Q2030.54 267.99 2028.6 269.055 L2028.6 265.119 Q2030.94 264.217 2033.14 263.777 Q2035.33 263.314 2037.42 263.314 Q2043.04 263.314 2045.82 266.231 Q2048.6 269.147 2048.6 275.073 Z\" fill=\"#000000\" fill-rule=\"evenodd\" fill-opacity=\"1\" /><path clip-path=\"url(#clip230)\" d=\"M2057.37 253.846 L2061.63 253.846 L2061.63 289.865 L2057.37 289.865 L2057.37 253.846 Z\" fill=\"#000000\" fill-rule=\"evenodd\" fill-opacity=\"1\" /><path clip-path=\"url(#clip230)\" d=\"M2070.1 279.633 L2070.1 263.939 L2074.36 263.939 L2074.36 279.471 Q2074.36 283.152 2075.8 285.004 Q2077.23 286.832 2080.1 286.832 Q2083.55 286.832 2085.54 284.633 Q2087.56 282.434 2087.56 278.638 L2087.56 263.939 L2091.82 263.939 L2091.82 289.865 L2087.56 289.865 L2087.56 285.883 Q2086.01 288.244 2083.94 289.402 Q2081.91 290.536 2079.2 290.536 Q2074.73 290.536 2072.42 287.758 Q2070.1 284.98 2070.1 279.633 M2080.82 263.314 L2080.82 263.314 Z\" fill=\"#000000\" fill-rule=\"evenodd\" fill-opacity=\"1\" /><path clip-path=\"url(#clip230)\" d=\"M2122.76 275.837 L2122.76 277.92 L2103.18 277.92 Q2103.46 282.318 2105.82 284.633 Q2108.2 286.925 2112.44 286.925 Q2114.89 286.925 2117.19 286.323 Q2119.5 285.721 2121.77 284.517 L2121.77 288.545 Q2119.48 289.517 2117.07 290.027 Q2114.66 290.536 2112.19 290.536 Q2105.98 290.536 2102.35 286.925 Q2098.74 283.314 2098.74 277.156 Q2098.74 270.791 2102.16 267.064 Q2105.61 263.314 2111.44 263.314 Q2116.68 263.314 2119.71 266.693 Q2122.76 270.05 2122.76 275.837 M2118.5 274.587 Q2118.46 271.092 2116.54 269.008 Q2114.64 266.925 2111.49 266.925 Q2107.93 266.925 2105.77 268.939 Q2103.64 270.953 2103.32 274.61 L2118.5 274.587 Z\" fill=\"#000000\" fill-rule=\"evenodd\" fill-opacity=\"1\" /><path clip-path=\"url(#clip230)\" d=\"M2146.28 264.703 L2146.28 268.731 Q2144.48 267.805 2142.53 267.342 Q2140.59 266.879 2138.5 266.879 Q2135.33 266.879 2133.74 267.851 Q2132.16 268.823 2132.16 270.768 Q2132.16 272.249 2133.3 273.105 Q2134.43 273.939 2137.86 274.703 L2139.32 275.027 Q2143.85 275.999 2145.75 277.781 Q2147.67 279.541 2147.67 282.712 Q2147.67 286.323 2144.8 288.429 Q2141.95 290.536 2136.95 290.536 Q2134.87 290.536 2132.6 290.119 Q2130.36 289.726 2127.86 288.916 L2127.86 284.517 Q2130.22 285.744 2132.51 286.369 Q2134.8 286.971 2137.05 286.971 Q2140.06 286.971 2141.68 285.953 Q2143.3 284.911 2143.3 283.036 Q2143.3 281.3 2142.12 280.374 Q2140.96 279.448 2137 278.592 L2135.52 278.244 Q2131.56 277.411 2129.8 275.698 Q2128.04 273.962 2128.04 270.953 Q2128.04 267.295 2130.63 265.305 Q2133.23 263.314 2138 263.314 Q2140.36 263.314 2142.44 263.661 Q2144.52 264.008 2146.28 264.703 Z\" fill=\"#000000\" fill-rule=\"evenodd\" fill-opacity=\"1\" /></svg>\n"
     },
     "execution_count": 31,
     "metadata": {},
     "output_type": "execute_result"
    }
   ],
   "source": [
    "ϵ_chain = sort(chain_2_joint[:, [Symbol(\"ϵ_draw[$a]\") for a in 1:21], 1], lt = (x,y) -> symbol_to_int(x) < symbol_to_int(y))\n",
    "tmp = describe(ϵ_chain)\n",
    "ϵ_mean = tmp[1][:, 2]\n",
    "ϵ_std = tmp[1][:, 3]\n",
    "plot(ϵ_mean[2:end], ribbon=2 * ϵ_std[2:end], label=\"Posterior mean\", title = \"Second-Order Joint: Estimated Latents\")\n",
    "plot!(ϵ', label=\"True values\")"
   ]
  }
 ],
 "metadata": {
  "kernelspec": {
   "display_name": "Julia 1.7.1",
   "language": "julia",
   "name": "julia-1.7"
  },
  "language_info": {
   "file_extension": ".jl",
   "mimetype": "application/julia",
   "name": "julia",
   "version": "1.7.1"
  }
 },
 "nbformat": 4,
 "nbformat_minor": 4
}
