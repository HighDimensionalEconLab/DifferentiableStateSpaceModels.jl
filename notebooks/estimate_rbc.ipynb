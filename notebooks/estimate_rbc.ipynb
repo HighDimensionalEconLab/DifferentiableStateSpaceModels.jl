{
 "cells": [
  {
   "cell_type": "markdown",
   "metadata": {},
   "source": [
    "# Setup model and install packages\n",
    "**Warning:**  This package is a proof of concept.  While the code will remain working with proper use of a [Julia manifest](https://pkgdocs.julialang.org/v1/), you should not rely on this for research unless you are prepared to modify the source and help maintain it.\n",
    "\n",
    "Remove comment below to install the exact version of packages listed in the manifest."
   ]
  },
  {
   "cell_type": "code",
   "execution_count": 2,
   "metadata": {
    "tags": []
   },
   "outputs": [],
   "source": [
    "# ] instantiate "
   ]
  },
  {
   "cell_type": "markdown",
   "metadata": {},
   "source": [
    "The core package is `DifferentiableStateSpaceModels.jl` where `DifferenceEquations.jl` provides compatible functionality for simulating and calculating likelihoods"
   ]
  },
  {
   "cell_type": "code",
   "execution_count": 111,
   "metadata": {},
   "outputs": [],
   "source": [
    "using DifferentiableStateSpaceModels, DifferenceEquations, LinearAlgebra, Zygote, Distributions, Plots, DiffEqBase, Symbolics, BenchmarkTools"
   ]
  },
  {
   "cell_type": "markdown",
   "metadata": {},
   "source": [
    "# Model Class\n",
    "The model follows [Schmitt-Grohe and Uribe (2004)](http://www.columbia.edu/~mu2166/2nd_order/2nd_order.pdf) timing convention.  The system takes a nonlinear expectational difference equation including all first-order conditions for decisions and the system evolution equations,\n",
    "\n",
    "$$\n",
    "\\mathbb{E}_{t}\\mathcal{H}\\left(\\hat{y}',\\hat{y},\\hat{x}',\\hat{x};p\\right)=0\n",
    "$$\n",
    "where $\\hat{y}$ are the control variables, $\\hat{x}$ are the states, and $p$ is a vector of deep parameters of interest.  Expectations are taken over forward-looking variables and an underlying random process $\\epsilon'$.\n",
    "\n",
    "In addition, we consider an observation equation - which might be noisy for\n",
    "$$\n",
    "\\hat{z} = Q \\cdot \\begin{bmatrix}\\hat{y} &\\hat{x}\\end{bmatrix}^{\\top} + \\nu\n",
    "$$\n",
    "where $\\nu$ may or may not be normally distributed but $\\mathbb{E}(\\nu) = 0$ and $\\mathbb{V}(\\nu) = \\Omega(p) \\Omega(p)^{\\top}$.\n",
    "\n",
    "Assume that there is a non-stochastic steady state of this problem as $y_{ss}, x_{ss}$.\n",
    "\n",
    "## Perturbation Solution\n",
    "Define the deviation from the non-stochastic steady state as$x \\equiv \\hat{x} - x_{ss}$, and $y \\equiv \\hat{y} - y_{ss}$.\n",
    "\n",
    "The solution finds the first or second order perturbation around that non-stochastic steady state, and yields a\n",
    "$$\n",
    "x' = h(x; p) + \\eta \\, \\Gamma(p)\\, \\epsilon'\n",
    "$$\n",
    "where $\\eta$ describes how shocks affect the law of motion and $\\mathbb{E}(\\epsilon') = 0$.  Frequently this would be organized such that $\\mathbb{V}(\\epsilon)= I$, but that is not required.  In addition, it could instead be interpreted as for $x' = h(x; p) + \\eta \\, \\epsilon'$ with $\\mathbb{V}(\\epsilon') = \\Gamma(p) \\Gamma(p)^{\\top}$.\n",
    "\n",
    "and with the policy equation,\n",
    "$$\n",
    "y = g(x; p)\n",
    "$$\n",
    "and finally, substitution in for the observation equation\n",
    "$$\n",
    "z = h(x; p) + \\nu\n",
    "$$\n",
    "where\n",
    "$$\n",
    "h(x; p) \\equiv Q \\begin{bmatrix} g(x;p) \\\\ x\\end{bmatrix}\n",
    "$$\n",
    "\n",
    "## First Order Solutions\n",
    "For example, in the case of the 1st order model the solution finds,\n",
    "$$\n",
    "x' = A(p)\\, x + B(p) \\epsilon'\n",
    "$$\n",
    "and\n",
    "$$\n",
    "y = g_x(p) \\, x\n",
    "$$\n",
    "and \n",
    "$$\n",
    "z = C(p)\\, x + \\nu\n",
    "$$\n",
    "where $C(p)\\equiv Q \\begin{bmatrix} g_x(p) \\\\ I\\end{bmatrix}$, $B(p) \\equiv \\eta \\Gamma(p)$, and $\\mathbb{V}(v) = D(\\nu) D(p)^{\\top}$.  Normality of $\\nu$ or $\\epsilon'$ is not required in general.\n",
    "\n",
    "This is a linear state-space model and if the priors and shocks are gaussian, a marginal likelihood can be evaluated with classic methods such as a Kalman Filter.  The output of the perturbation can be used manually, or in conjunction with [DifferenceEquations.jl](https://github.com/SciML/DifferenceEquations.jl).\n",
    "\n",
    "## Second Order Solutions\n",
    "This package also solves for second order perturbations, with all of the same features and with easy   The canonical form of the second order solution implements state-space pruning as in [Andreasen, Fernandez-Villaverde, and Rubio-Ramirez (2017)](https://www.sas.upenn.edu/~jesusfv/Pruning.pdf).  Given the same formulation of the problem, the model finds the canonical form,\n",
    "$$\n",
    "x' = A_0(p) + A_1(p)\\, x + x^{\\top} A_2(p)\\, x + B(p) \\epsilon'\n",
    "$$\n",
    "and\n",
    "$$\n",
    "y = g_{\\sigma\\sigma} + g_x \\, x + x^{\\top}\\,g_{xx}\\,x\n",
    "$$\n",
    "and \n",
    "$$\n",
    "z = C_0(p) + C_1(p)\\, x + x^{\\top} C_2(p)\\, x + \\nu\n",
    "$$\n",
    "where $B(p) \\equiv \\eta \\Gamma(p)$, $\\mathbb{V}(v) = D(\\nu) D(p)^{\\top}$, and the $C_0,C_1,C_2,A_0, A_1, A_2$ all reflect the state space pruning.\n",
    "\n",
    "## Gradients\n",
    "All of the above use standard solution methods.  The primary contribution of this package is that all of these model elements are **differentiable**. Hence, these gradeients can be composed for use in applications such as optimization, gradient-based estimation methods, and with  [DifferenceEquations.jl](https://github.com/SciML/DifferenceEquations.jl)  which provides differentiable simulations and likelihoods for state-space models.  That is, if we think of a perturbation solver mapping $p$ to solutions (e.g. in first order $\\mathbf{P}(p) \\to (A, B, C, D)$, then we can find the gradients $\\partial_p \\mathbf{P}(p), \\partial_p A(p)$ etc.  Or, when these gradients are available for use with reverse-mode auto-differentiation, it can take \"wobbles\" in $A, B, C, D$ and go back to the \"wiggles\" of the underlying $p$ through $\\mathbf{P}$.  See [ChainRules.jl](https://juliadiff.org/ChainRulesCore.jl/stable/maths/propagators.html) for more details on AD.  \n"
   ]
  },
  {
   "cell_type": "markdown",
   "metadata": {},
   "source": [
    "## Model Primitives\n",
    "Models are defined using a Dynare-style DSL using [Symbolics.jl](https://github.com/JuliaSymbolics/Symbolics.jl).  The list of primitives are:\n",
    "1. The list of variables for the controls $y$, state $x$, and deep parameters $p$.\n",
    "2. The set of equations $H$ as a function of $p, y(t), y(t+1), x(t),$ and $x(t+1)$.  No $t-1$ timing are allowed.\n",
    "3. The loading of shocks $\\eta$ as a fixed matrix of constants\n",
    "4. The shock covariance cholesky $\\Gamma$ as a function of parameters $p$\n",
    "5. The observation equation $Q$ as a fixed matrix.\n",
    "6. The cholesky of the observation errors, $\\Omega$ as a function of parameters $p$.  At this point only a diagonal matrix is support.\n",
    "7. Either the steady state equations for all of $y$ and $x$ in closed form as a function of $p$, or initial conditions for the nonlinear solution to solve for the steady state as functions of $p$"
   ]
  },
  {
   "cell_type": "markdown",
   "metadata": {},
   "source": [
    "# RBC Example\n",
    "This example implements the model primitives to build a simple version of the RBC model with two observables."
   ]
  },
  {
   "cell_type": "code",
   "execution_count": 53,
   "metadata": {},
   "outputs": [
    {
     "data": {
      "text/plain": [
       "Perturbation Model: n_y = 2, n_x = 2, n_p = 6, n_ϵ = 1, n_z = 2\n",
       " y = [:c, :q] \n",
       " x = [:k, :z] \n",
       " p = [:α, :β, :ρ, :δ, :σ, :Ω_1]"
      ]
     },
     "execution_count": 53,
     "metadata": {},
     "output_type": "execute_result"
    }
   ],
   "source": [
    "∞ = Inf\n",
    "@variables α, β, ρ, δ, σ, Ω_1\n",
    "@variables t::Integer, k(..), z(..), c(..), q(..)\n",
    "\n",
    "x = [k, z] # states\n",
    "y = [c, q] # controls\n",
    "p = [α, β, ρ, δ, σ, Ω_1] # parameters\n",
    "\n",
    "H = [1 / c(t) - (β / c(t + 1)) * (α * exp(z(t + 1)) * k(t + 1)^(α - 1) + (1 - δ)),\n",
    "     c(t) + k(t + 1) - (1 - δ) * k(t) - q(t),\n",
    "     q(t) - exp(z(t)) * k(t)^α,\n",
    "     z(t + 1) - ρ * z(t)]  # system of model equations\n",
    "\n",
    "# analytic solutions for the steady state\n",
    "steady_states = [k(∞) ~ (((1 / β) - 1 + δ) / α)^(1 / (α - 1)),\n",
    "                 z(∞) ~ 0,\n",
    "                 c(∞) ~ (((1 / β) - 1 + δ) / α)^(α / (α - 1)) -\n",
    "                        δ * (((1 / β) - 1 + δ) / α)^(1 / (α - 1)),\n",
    "                 q(∞) ~ (((1 / β) - 1 + δ) / α)^(α / (α - 1))]\n",
    "\n",
    "\n",
    "Γ = [σ;;] # matrix for the 1 shock.  The [;;] notation just makes it a matrix rather than vector in julia\n",
    "η = [0; -1;;] # η is n_x * n_ϵ matrix.  The [;;]\n",
    "\n",
    "# observation matrix.  order is \"y\" then \"x\" variables, so [c,q,k,z] in this example\n",
    "Q = [1.0 0  0   0; # select c as first \"z\" observable\n",
    "     0   0  1.0 0] # select k\n",
    "\n",
    "# diagonal cholesky of covariance matrix for observation noise (so these are standard deviations).  Non-diagonal observation noise not currently supported\n",
    "Ω = [Ω_1, Ω_1]\n",
    "\n",
    "# Generates the files and includes if required.  If the model is already created, then just loads\n",
    "overwrite_model_cache  = true\n",
    "model_rbc = @make_and_include_perturbation_model(\"rbc_notebook_example\", H, (; t, y, x, p, steady_states, Γ, Ω, η, Q, overwrite_model_cache)) # Convenience macro.  Saves as \".function_cache/rbc_notebook_example.jl\"\n",
    "\n",
    "# After generation could just include the files directly, or add the following to prevent overwriting the models\n",
    "# isdefined(Main, :rbc_notebook_example) || include(joinpath(pkgdir(DifferentiableStateSpaceModels),\n",
    "#                                              \"test/generated_models/rbc_notebook_example.jl\"))\n",
    "# Alternatively, this is also the same example as a prebuilt example\n",
    "# model_rbc = @include_example_module(DifferentiableStateSpaceModels.Examples.rbc_observables)"
   ]
  },
  {
   "cell_type": "markdown",
   "metadata": {},
   "source": [
    "As commented above, the convenience macro will take this model, generate files, and include them.  It called the function [`make_perturbation_model`](https://github.com/HighDimensionalEconLab/DifferentiableStateSpaceModels.jl/blob/main/src/make_perturbation_model.jl#L6-L13) with the associated options in that file.  Once generated these can be included as normal `.jl` files.  At this point, there are no runtime generated functions though that functionality could be added later.  The following queries some of the properties of the loaded model."
   ]
  },
  {
   "cell_type": "code",
   "execution_count": 6,
   "metadata": {},
   "outputs": [
    {
     "data": {
      "text/latex": [
       "$\\begin{equation}\n",
       "\\left[\n",
       "\\begin{array}{c}\n",
       "\\frac{ - \\beta \\left( 1 - \\delta + \\left( k\\left( 1 + t \\right) \\right)^{-1 + \\alpha} \\alpha e^{z\\left( 1 + t \\right)} \\right)}{c\\left( 1 + t \\right)} + \\frac{1}{c\\left( t \\right)} \\\\\n",
       " - q\\left( t \\right) - \\left( 1 - \\delta \\right) k\\left( t \\right) + c\\left( t \\right) + k\\left( 1 + t \\right) \\\\\n",
       " - \\left( k\\left( t \\right) \\right)^{\\alpha} e^{z\\left( t \\right)} + q\\left( t \\right) \\\\\n",
       " - \\rho z\\left( t \\right) + z\\left( 1 + t \\right) \\\\\n",
       "\\end{array}\n",
       "\\right]\n",
       "\\end{equation}\n",
       "$"
      ],
      "text/plain": [
       "L\"$\\begin{equation}\n",
       "\\left[\n",
       "\\begin{array}{c}\n",
       "\\frac{ - \\beta \\left( 1 - \\delta + \\left( k\\left( 1 + t \\right) \\right)^{-1 + \\alpha} \\alpha e^{z\\left( 1 + t \\right)} \\right)}{c\\left( 1 + t \\right)} + \\frac{1}{c\\left( t \\right)} \\\\\n",
       " - q\\left( t \\right) - \\left( 1 - \\delta \\right) k\\left( t \\right) + c\\left( t \\right) + k\\left( 1 + t \\right) \\\\\n",
       " - \\left( k\\left( t \\right) \\right)^{\\alpha} e^{z\\left( t \\right)} + q\\left( t \\right) \\\\\n",
       " - \\rho z\\left( t \\right) + z\\left( 1 + t \\right) \\\\\n",
       "\\end{array}\n",
       "\\right]\n",
       "\\end{equation}\n",
       "$\""
      ]
     },
     "execution_count": 6,
     "metadata": {},
     "output_type": "execute_result"
    }
   ],
   "source": [
    "model_H_latex(model_rbc)"
   ]
  },
  {
   "cell_type": "code",
   "execution_count": 7,
   "metadata": {},
   "outputs": [
    {
     "data": {
      "text/latex": [
       "$\\begin{align}\n",
       "k\\left( \\infty \\right) =& \\left( \\frac{-1 + \\delta + \\frac{1}{\\beta}}{\\alpha} \\right)^{\\frac{1}{-1 + \\alpha}} \\\\\n",
       "z\\left( \\infty \\right) =& 0 \\\\\n",
       "c\\left( \\infty \\right) =& \\left( \\frac{-1 + \\delta + \\frac{1}{\\beta}}{\\alpha} \\right)^{\\frac{\\alpha}{-1 + \\alpha}} - \\left( \\frac{-1 + \\delta + \\frac{1}{\\beta}}{\\alpha} \\right)^{\\frac{1}{-1 + \\alpha}} \\delta \\\\\n",
       "q\\left( \\infty \\right) =& \\left( \\frac{-1 + \\delta + \\frac{1}{\\beta}}{\\alpha} \\right)^{\\frac{\\alpha}{-1 + \\alpha}}\n",
       "\\end{align}\n",
       "$"
      ],
      "text/plain": [
       "L\"$\\begin{align}\n",
       "k\\left( \\infty \\right) =& \\left( \\frac{-1 + \\delta + \\frac{1}{\\beta}}{\\alpha} \\right)^{\\frac{1}{-1 + \\alpha}} \\\\\n",
       "z\\left( \\infty \\right) =& 0 \\\\\n",
       "c\\left( \\infty \\right) =& \\left( \\frac{-1 + \\delta + \\frac{1}{\\beta}}{\\alpha} \\right)^{\\frac{\\alpha}{-1 + \\alpha}} - \\left( \\frac{-1 + \\delta + \\frac{1}{\\beta}}{\\alpha} \\right)^{\\frac{1}{-1 + \\alpha}} \\delta \\\\\n",
       "q\\left( \\infty \\right) =& \\left( \\frac{-1 + \\delta + \\frac{1}{\\beta}}{\\alpha} \\right)^{\\frac{\\alpha}{-1 + \\alpha}}\n",
       "\\end{align}\n",
       "$\""
      ]
     },
     "execution_count": 7,
     "metadata": {},
     "output_type": "execute_result"
    }
   ],
   "source": [
    "model_steady_states_latex(model_rbc)  # this is the closed form steady state, could instead pass in the state_states_iv to give approximation initial conditions for optimizer instead"
   ]
  },
  {
   "cell_type": "code",
   "execution_count": 8,
   "metadata": {},
   "outputs": [
    {
     "name": "stdout",
     "output_type": "stream",
     "text": [
      "(model_rbc.n_x, model_rbc.n_y, model_rbc.n_z, model_rbc.n_ϵ) = (2, 2, 2, 1)\n"
     ]
    },
    {
     "data": {
      "text/plain": [
       "(2, 2, 2, 1)"
      ]
     },
     "execution_count": 8,
     "metadata": {},
     "output_type": "execute_result"
    }
   ],
   "source": [
    "@show model_rbc.n_x, model_rbc.n_y, model_rbc.n_z, model_rbc.n_ϵ"
   ]
  },
  {
   "cell_type": "markdown",
   "metadata": {},
   "source": [
    "## Solving Perturbations\n",
    "\n",
    "Given a model definition, you can solve the expectational difference equation for a given set of parameters.  All of the `p` defined above must be in either the `p_d` or the `p_f` arguments below.\n",
    "\n",
    "The distinction between these is that the `p_d` parameters will be available for differentiation where the `p_f` will be fixed.  That is, for any parameters in the `p_d` the model will support calculation of gradients of   the perturbation solution.  The only downside with having extra values in `p_d` vs. `p_f` is extra computation.  Otherwise, pass in `nothing` for `p_f` if you are differentiating all of the parameters"
   ]
  },
  {
   "cell_type": "code",
   "execution_count": 37,
   "metadata": {},
   "outputs": [
    {
     "name": "stdout",
     "output_type": "stream",
     "text": [
      "(sol.retcode, sol_2.retcode) = (:Success, :Success)\n"
     ]
    }
   ],
   "source": [
    "p_f = (ρ = 0.2, δ = 0.02, σ = 0.01, Ω_1 = 0.01) # Fixed parameters\n",
    "p_d = (α = 0.5, β = 0.95) # Pseudo-true values\n",
    "sol = generate_perturbation(model_rbc, p_d, p_f) # Solution to the first-order RBC\n",
    "sol_2 = generate_perturbation(model_rbc, p_d, p_f, Val(2)); # Solution to the second-order RBC\n",
    "@show sol.retcode, sol_2.retcode;"
   ]
  },
  {
   "cell_type": "markdown",
   "metadata": {},
   "source": [
    "The perturbation solution (in the canonical form described in the top section) can be queried from the resulting solution.  A few examples for the first order solution are below,"
   ]
  },
  {
   "cell_type": "code",
   "execution_count": 127,
   "metadata": {},
   "outputs": [
    {
     "name": "stdout",
     "output_type": "stream",
     "text": [
      "(sol.y, sol.x) = ([5.936252888048732, 6.884057971014497], [47.39025414828823, 0.0])\n",
      "sol.g_x = [0.09579643002416627 0.6746869652586192; 0.07263157894736873 6.884057971014506]\n",
      "(sol.A, sol.B) = ([0.9568351489232028 6.2093710057558855; 1.5076865909646354e-18 0.20000000000000004], [0.0; -0.01;;])\n",
      "(sol.C, sol.D) = ([0.09579643002416627 0.6746869652586192; 1.0 0.0], [0.0001, 0.0001])\n",
      "sol.x_ergodic_var = [0.07005411173180152 0.00015997603451513398; 0.00015997603451513398 0.00010416666666666667]\n"
     ]
    }
   ],
   "source": [
    "@show sol.y, sol.x  # steady state ŷ and x̂  These are the values such that y ≡ ŷ - sol.y and x ≡ x̂ - sol.x\n",
    "@show sol.g_x # the policy\n",
    "@show sol.A, sol.B # the evolution equation of the state, so that x' = A x + B ϵ\n",
    "@show sol.C, sol.D; # the evolution equation of the state, so that z = C x + ν  with variance of ν as D D'.\n",
    "@show sol.x_ergodic_var; # covariance matrix of the ergodic distribution of x, which is mean zero since x ≡ x̂ - x_ss"
   ]
  },
  {
   "cell_type": "markdown",
   "metadata": {},
   "source": [
    "In addition, you can query some metadata about the solution to aid in debugging and generic programming"
   ]
  },
  {
   "cell_type": "code",
   "execution_count": 52,
   "metadata": {},
   "outputs": [
    {
     "name": "stdout",
     "output_type": "stream",
     "text": [
      "(sol.Q, sol.η, sol.Γ) = ([1.0 0.0 0.0 0.0; 0.0 0.0 1.0 0.0], [0; -1;;], [0.01;;])\n",
      "(sol.n_y, sol.n_x, sol.n_ϵ, sol.n_z, sol.n_p) = (2, 2, 1, 2, 6)\n",
      "(sol.x_symbols, sol.y_symbols, sol.p_symbols) = ([:k, :z], [:c, :q], [:α, :β, :ρ, :δ, :σ, :Ω_1])\n"
     ]
    }
   ],
   "source": [
    "@show sol.Q, sol.η, sol.Γ; # various matrices for loading of shocks and observations\n",
    "@show sol.n_y, sol.n_x, sol.n_ϵ, sol.n_z, sol.n_p # sizes of model\n",
    "@show sol.x_symbols, sol.y_symbols, sol.p_symbols; # the order of symbols for the x vector"
   ]
  },
  {
   "cell_type": "markdown",
   "metadata": {},
   "source": [
    "## Functions of Perturbation Solutions (and their Derivatives)\n",
    "The core feature of this library is to enable gradients of the perturbagion solutions with respect to parameters (i.e., anythign in the `p_d` vector).  To show this, we will construct a function which uses the resulting law of motion and finds the gradient of the results with respect to this value."
   ]
  },
  {
   "cell_type": "code",
   "execution_count": 123,
   "metadata": {},
   "outputs": [
    {
     "data": {
      "text/plain": [
       "-0.052773688889493325"
      ]
     },
     "execution_count": 123,
     "metadata": {},
     "output_type": "execute_result"
    }
   ],
   "source": [
    "function IRF(p_d, ϵ_0; m, p_f, steps)\n",
    "    sol = generate_perturbation(m, p_d, p_f) # First-order perturbation by default, pass Val(2) as additional argument to do 2nd order.\n",
    "    x = sol.B * ϵ_0 # start after applying impulse with the model's shock η and Γ(p)\n",
    "    for _ in 1:steps\n",
    "        # A note: you cannot use mutating expressions here with most AD code.  i.e. x .= sol.A * x  wouldn't work\n",
    "        # For more elaborate simuluations, you would want to use DifferenceEquations.jl in practice\n",
    "        x = sol.A * x # iterate forward using first-order observation equation        \n",
    "    end    \n",
    "    return [0, 1]' * sol.C * x # choose the second observable using the model's C observation equation since first-order\n",
    "end\n",
    "\n",
    "m = model_rbc  # ensure notebook executed above\n",
    "p_f = (ρ=0.2, δ=0.02, σ=0.01, Ω_1=0.01) # not differentiated \n",
    "p_d = (α=0.5, β=0.95) # different parameters\n",
    "steps = 10 # steps ahead to forecast\n",
    "ϵ_0 = [1.0] # shock size\n",
    "IRF(p_d, ϵ_0; m, p_f, steps) # Function works on its own, calculating perturbation"
   ]
  },
  {
   "cell_type": "markdown",
   "metadata": {},
   "source": [
    "However, the real benefit is that this function can itself be differentiated, to find gradients with respect to the deep parameters `p_d` and the shock `ϵ_0`"
   ]
  },
  {
   "cell_type": "code",
   "execution_count": 99,
   "metadata": {},
   "outputs": [
    {
     "data": {
      "text/plain": [
       "((α = -0.5810083808068426, β = -1.1823123518725853), [-0.05277368888949331])"
      ]
     },
     "execution_count": 99,
     "metadata": {},
     "output_type": "execute_result"
    }
   ],
   "source": [
    "# Using the Zygote auto-differentiation library already loaded above\n",
    "p_d = (α=0.5, β=0.95) # different parameters\n",
    "ϵ_0 = [1.0] # shock size\n",
    "IRF_grad = gradient((p_d, ϵ_0) -> IRF(p_d, ϵ_0; m, p_f, steps), p_d, ϵ_0) # \"closes\" over the m, p_f, and steps to create a new function, and differentiates it with respect to other arguments"
   ]
  },
  {
   "cell_type": "code",
   "execution_count": 104,
   "metadata": {},
   "outputs": [
    {
     "name": "stdout",
     "output_type": "stream",
     "text": [
      "∇_α IRF(p_d, ϵ0) = -0.5810083808068426, ∇_β IRF(p_d, ϵ0) = -1.1823123518725853, ∇_ϵ0 IRF(p_d, ϵ0) = [-0.05277368888949331]\n"
     ]
    }
   ],
   "source": [
    "println(\"∇_α IRF(p_d, ϵ0) = $(IRF_grad[1].α), ∇_β IRF(p_d, ϵ0) = $(IRF_grad[1].β), ∇_ϵ0 IRF(p_d, ϵ0) = $(IRF_grad[2])\")"
   ]
  },
  {
   "cell_type": "markdown",
   "metadata": {},
   "source": [
    "## Using Solution Cache\n",
    "\n",
    "The calculation of the gradients of the perturbation solution is slow relative to the perturbation itself, and both can allocate a significant amount of memory.  If you intend to keep calculating a perturbation a large number of times (e.g., during estimation), then you may want to preallocate this memory and reuse it by passing in a cache."
   ]
  },
  {
   "cell_type": "code",
   "execution_count": 124,
   "metadata": {},
   "outputs": [
    {
     "name": "stdout",
     "output_type": "stream",
     "text": [
      "IRF_cache(p_d, ϵ_0; m, p_f, steps, cache) = -0.052773688889493325\n"
     ]
    },
    {
     "data": {
      "text/plain": [
       "((α = -0.5810083808068426, β = -1.1823123518725853), [-0.05277368888949331])"
      ]
     },
     "execution_count": 124,
     "metadata": {},
     "output_type": "execute_result"
    }
   ],
   "source": [
    "function IRF_cache(p_d, ϵ_0; m, p_f, steps, cache)\n",
    "    sol = generate_perturbation(m, p_d, p_f; cache)  # only difference is passing in a pre-allocated cache to the perturbation solver\n",
    "    x = sol.B * ϵ_0\n",
    "    for _ in 1:steps\n",
    "        x = sol.A * x\n",
    "    end    \n",
    "    return [0, 1]' * sol.C * x\n",
    "end\n",
    "\n",
    "# To call it\n",
    "m = model_rbc  # ensure notebook executed above\n",
    "p_d = (α=0.5, β=0.95)  # Differentiated parameters\n",
    "p_f = (ρ=0.2, δ=0.02, σ=0.01, Ω_1=0.01)\n",
    "steps = 10 # steps ahead to forecast\n",
    "ϵ_0 = [1.0] # shock size\n",
    "cache = SolverCache(m, Val(1), p_d)   # the p_d passed into the cache just reuses the symbols, and the values in p_d are unused\n",
    "@show IRF_cache(p_d, ϵ_0; m, p_f, steps, cache)\n",
    "gradient((p_d, ϵ_0) -> IRF_cache(p_d, ϵ_0; m, p_f, steps, cache), p_d, ϵ_0)  # as before, do not try to differentiate with respect to the cache values itself."
   ]
  },
  {
   "cell_type": "code",
   "execution_count": 125,
   "metadata": {},
   "outputs": [
    {
     "name": "stdout",
     "output_type": "stream",
     "text": [
      "  88.100 μs (214 allocations: 86.59 KiB)\n",
      "  80.700 μs (125 allocations: 75.72 KiB)\n"
     ]
    },
    {
     "data": {
      "text/plain": [
       "-0.052773688889493325"
      ]
     },
     "execution_count": 125,
     "metadata": {},
     "output_type": "execute_result"
    }
   ],
   "source": [
    "# However, in a problem this small you will not see much of a difference in performance\n",
    "@btime IRF($p_d, $ϵ_0; m = $m, p_f = $p_f, steps = $steps)\n",
    "@btime IRF_cache($p_d, $ϵ_0; m = $m, p_f = $p_f, steps = $steps, cache = $cache)"
   ]
  },
  {
   "cell_type": "markdown",
   "metadata": {},
   "source": [
    "## Simulating with DifferenceEquations.jl\n",
    "The manual iteration of the state-space model from the perturbation solution is possible, but can be verbose and difficult to achieve efficiency for gradients.  One benefit of this package is that it creates state-space models in a form consistent with [DifferenceEquations.jl](https://github.com/SciML/DifferenceEquations.jl) which can be easily simulated, visualized, and estimated.\n",
    "\n",
    "To do this, we will calculate a perturbation solution then simulate it for various `x_0` drawn from the ergodic solution."
   ]
  },
  {
   "cell_type": "code",
   "execution_count": 132,
   "metadata": {},
   "outputs": [
    {
     "data": {
      "image/svg+xml": [
       "<?xml version=\"1.0\" encoding=\"utf-8\"?>\n",
       "<svg xmlns=\"http://www.w3.org/2000/svg\" xmlns:xlink=\"http://www.w3.org/1999/xlink\" width=\"600\" height=\"400\" viewBox=\"0 0 2400 1600\">\n",
       "<defs>\n",
       "  <clipPath id=\"clip660\">\n",
       "    <rect x=\"0\" y=\"0\" width=\"2400\" height=\"1600\"/>\n",
       "  </clipPath>\n",
       "</defs>\n",
       "<path clip-path=\"url(#clip660)\" d=\"\n",
       "M0 1600 L2400 1600 L2400 0 L0 0  Z\n",
       "  \" fill=\"#ffffff\" fill-rule=\"evenodd\" fill-opacity=\"1\"/>\n",
       "<defs>\n",
       "  <clipPath id=\"clip661\">\n",
       "    <rect x=\"480\" y=\"0\" width=\"1681\" height=\"1600\"/>\n",
       "  </clipPath>\n",
       "</defs>\n",
       "<path clip-path=\"url(#clip660)\" d=\"\n",
       "M224.098 1423.18 L2352.76 1423.18 L2352.76 47.2441 L224.098 47.2441  Z\n",
       "  \" fill=\"#ffffff\" fill-rule=\"evenodd\" fill-opacity=\"1\"/>\n",
       "<defs>\n",
       "  <clipPath id=\"clip662\">\n",
       "    <rect x=\"224\" y=\"47\" width=\"2130\" height=\"1377\"/>\n",
       "  </clipPath>\n",
       "</defs>\n",
       "<polyline clip-path=\"url(#clip662)\" style=\"stroke:#000000; stroke-linecap:butt; stroke-linejoin:round; stroke-width:2; stroke-opacity:0.1; fill:none\" points=\"\n",
       "  224.098,1423.18 224.098,47.2441 \n",
       "  \"/>\n",
       "<polyline clip-path=\"url(#clip662)\" style=\"stroke:#000000; stroke-linecap:butt; stroke-linejoin:round; stroke-width:2; stroke-opacity:0.1; fill:none\" points=\"\n",
       "  756.262,1423.18 756.262,47.2441 \n",
       "  \"/>\n",
       "<polyline clip-path=\"url(#clip662)\" style=\"stroke:#000000; stroke-linecap:butt; stroke-linejoin:round; stroke-width:2; stroke-opacity:0.1; fill:none\" points=\"\n",
       "  1288.43,1423.18 1288.43,47.2441 \n",
       "  \"/>\n",
       "<polyline clip-path=\"url(#clip662)\" style=\"stroke:#000000; stroke-linecap:butt; stroke-linejoin:round; stroke-width:2; stroke-opacity:0.1; fill:none\" points=\"\n",
       "  1820.59,1423.18 1820.59,47.2441 \n",
       "  \"/>\n",
       "<polyline clip-path=\"url(#clip662)\" style=\"stroke:#000000; stroke-linecap:butt; stroke-linejoin:round; stroke-width:2; stroke-opacity:0.1; fill:none\" points=\"\n",
       "  2352.76,1423.18 2352.76,47.2441 \n",
       "  \"/>\n",
       "<polyline clip-path=\"url(#clip660)\" style=\"stroke:#000000; stroke-linecap:butt; stroke-linejoin:round; stroke-width:4; stroke-opacity:1; fill:none\" points=\"\n",
       "  224.098,1423.18 2352.76,1423.18 \n",
       "  \"/>\n",
       "<polyline clip-path=\"url(#clip660)\" style=\"stroke:#000000; stroke-linecap:butt; stroke-linejoin:round; stroke-width:4; stroke-opacity:1; fill:none\" points=\"\n",
       "  224.098,1423.18 224.098,1404.28 \n",
       "  \"/>\n",
       "<polyline clip-path=\"url(#clip660)\" style=\"stroke:#000000; stroke-linecap:butt; stroke-linejoin:round; stroke-width:4; stroke-opacity:1; fill:none\" points=\"\n",
       "  756.262,1423.18 756.262,1404.28 \n",
       "  \"/>\n",
       "<polyline clip-path=\"url(#clip660)\" style=\"stroke:#000000; stroke-linecap:butt; stroke-linejoin:round; stroke-width:4; stroke-opacity:1; fill:none\" points=\"\n",
       "  1288.43,1423.18 1288.43,1404.28 \n",
       "  \"/>\n",
       "<polyline clip-path=\"url(#clip660)\" style=\"stroke:#000000; stroke-linecap:butt; stroke-linejoin:round; stroke-width:4; stroke-opacity:1; fill:none\" points=\"\n",
       "  1820.59,1423.18 1820.59,1404.28 \n",
       "  \"/>\n",
       "<polyline clip-path=\"url(#clip660)\" style=\"stroke:#000000; stroke-linecap:butt; stroke-linejoin:round; stroke-width:4; stroke-opacity:1; fill:none\" points=\"\n",
       "  2352.76,1423.18 2352.76,1404.28 \n",
       "  \"/>\n",
       "<path clip-path=\"url(#clip660)\" d=\"M224.098 1454.1 Q220.487 1454.1 218.658 1457.66 Q216.853 1461.2 216.853 1468.33 Q216.853 1475.44 218.658 1479.01 Q220.487 1482.55 224.098 1482.55 Q227.732 1482.55 229.538 1479.01 Q231.366 1475.44 231.366 1468.33 Q231.366 1461.2 229.538 1457.66 Q227.732 1454.1 224.098 1454.1 M224.098 1450.39 Q229.908 1450.39 232.964 1455 Q236.042 1459.58 236.042 1468.33 Q236.042 1477.06 232.964 1481.67 Q229.908 1486.25 224.098 1486.25 Q218.288 1486.25 215.209 1481.67 Q212.153 1477.06 212.153 1468.33 Q212.153 1459.58 215.209 1455 Q218.288 1450.39 224.098 1450.39 Z\" fill=\"#000000\" fill-rule=\"evenodd\" fill-opacity=\"1\" /><path clip-path=\"url(#clip660)\" d=\"M746.54 1451.02 L764.897 1451.02 L764.897 1454.96 L750.823 1454.96 L750.823 1463.43 Q751.841 1463.08 752.86 1462.92 Q753.878 1462.73 754.897 1462.73 Q760.684 1462.73 764.063 1465.9 Q767.443 1469.08 767.443 1474.49 Q767.443 1480.07 763.971 1483.17 Q760.498 1486.25 754.179 1486.25 Q752.003 1486.25 749.735 1485.88 Q747.489 1485.51 745.082 1484.77 L745.082 1480.07 Q747.165 1481.2 749.387 1481.76 Q751.61 1482.32 754.086 1482.32 Q758.091 1482.32 760.429 1480.21 Q762.767 1478.1 762.767 1474.49 Q762.767 1470.88 760.429 1468.77 Q758.091 1466.67 754.086 1466.67 Q752.211 1466.67 750.336 1467.08 Q748.485 1467.5 746.54 1468.38 L746.54 1451.02 Z\" fill=\"#000000\" fill-rule=\"evenodd\" fill-opacity=\"1\" /><path clip-path=\"url(#clip660)\" d=\"M1263.11 1481.64 L1270.75 1481.64 L1270.75 1455.28 L1262.44 1456.95 L1262.44 1452.69 L1270.71 1451.02 L1275.38 1451.02 L1275.38 1481.64 L1283.02 1481.64 L1283.02 1485.58 L1263.11 1485.58 L1263.11 1481.64 Z\" fill=\"#000000\" fill-rule=\"evenodd\" fill-opacity=\"1\" /><path clip-path=\"url(#clip660)\" d=\"M1302.47 1454.1 Q1298.86 1454.1 1297.03 1457.66 Q1295.22 1461.2 1295.22 1468.33 Q1295.22 1475.44 1297.03 1479.01 Q1298.86 1482.55 1302.47 1482.55 Q1306.1 1482.55 1307.91 1479.01 Q1309.73 1475.44 1309.73 1468.33 Q1309.73 1461.2 1307.91 1457.66 Q1306.1 1454.1 1302.47 1454.1 M1302.47 1450.39 Q1308.28 1450.39 1311.33 1455 Q1314.41 1459.58 1314.41 1468.33 Q1314.41 1477.06 1311.33 1481.67 Q1308.28 1486.25 1302.47 1486.25 Q1296.66 1486.25 1293.58 1481.67 Q1290.52 1477.06 1290.52 1468.33 Q1290.52 1459.58 1293.58 1455 Q1296.66 1450.39 1302.47 1450.39 Z\" fill=\"#000000\" fill-rule=\"evenodd\" fill-opacity=\"1\" /><path clip-path=\"url(#clip660)\" d=\"M1795.78 1481.64 L1803.42 1481.64 L1803.42 1455.28 L1795.11 1456.95 L1795.11 1452.69 L1803.37 1451.02 L1808.05 1451.02 L1808.05 1481.64 L1815.68 1481.64 L1815.68 1485.58 L1795.78 1485.58 L1795.78 1481.64 Z\" fill=\"#000000\" fill-rule=\"evenodd\" fill-opacity=\"1\" /><path clip-path=\"url(#clip660)\" d=\"M1825.17 1451.02 L1843.53 1451.02 L1843.53 1454.96 L1829.46 1454.96 L1829.46 1463.43 Q1830.48 1463.08 1831.49 1462.92 Q1832.51 1462.73 1833.53 1462.73 Q1839.32 1462.73 1842.7 1465.9 Q1846.08 1469.08 1846.08 1474.49 Q1846.08 1480.07 1842.61 1483.17 Q1839.13 1486.25 1832.81 1486.25 Q1830.64 1486.25 1828.37 1485.88 Q1826.12 1485.51 1823.72 1484.77 L1823.72 1480.07 Q1825.8 1481.2 1828.02 1481.76 Q1830.24 1482.32 1832.72 1482.32 Q1836.73 1482.32 1839.06 1480.21 Q1841.4 1478.1 1841.4 1474.49 Q1841.4 1470.88 1839.06 1468.77 Q1836.73 1466.67 1832.72 1466.67 Q1830.85 1466.67 1828.97 1467.08 Q1827.12 1467.5 1825.17 1468.38 L1825.17 1451.02 Z\" fill=\"#000000\" fill-rule=\"evenodd\" fill-opacity=\"1\" /><path clip-path=\"url(#clip660)\" d=\"M2331.53 1481.64 L2347.85 1481.64 L2347.85 1485.58 L2325.9 1485.58 L2325.9 1481.64 Q2328.57 1478.89 2333.15 1474.26 Q2337.76 1469.61 2338.94 1468.27 Q2341.18 1465.74 2342.06 1464.01 Q2342.96 1462.25 2342.96 1460.56 Q2342.96 1457.8 2341.02 1456.07 Q2339.1 1454.33 2336 1454.33 Q2333.8 1454.33 2331.34 1455.09 Q2328.91 1455.86 2326.14 1457.41 L2326.14 1452.69 Q2328.96 1451.55 2331.41 1450.97 Q2333.87 1450.39 2335.9 1450.39 Q2341.27 1450.39 2344.47 1453.08 Q2347.66 1455.77 2347.66 1460.26 Q2347.66 1462.39 2346.85 1464.31 Q2346.07 1466.2 2343.96 1468.8 Q2343.38 1469.47 2340.28 1472.69 Q2337.18 1475.88 2331.53 1481.64 Z\" fill=\"#000000\" fill-rule=\"evenodd\" fill-opacity=\"1\" /><path clip-path=\"url(#clip660)\" d=\"M2367.66 1454.1 Q2364.05 1454.1 2362.22 1457.66 Q2360.42 1461.2 2360.42 1468.33 Q2360.42 1475.44 2362.22 1479.01 Q2364.05 1482.55 2367.66 1482.55 Q2371.3 1482.55 2373.1 1479.01 Q2374.93 1475.44 2374.93 1468.33 Q2374.93 1461.2 2373.1 1457.66 Q2371.3 1454.1 2367.66 1454.1 M2367.66 1450.39 Q2373.47 1450.39 2376.53 1455 Q2379.61 1459.58 2379.61 1468.33 Q2379.61 1477.06 2376.53 1481.67 Q2373.47 1486.25 2367.66 1486.25 Q2361.85 1486.25 2358.77 1481.67 Q2355.72 1477.06 2355.72 1468.33 Q2355.72 1459.58 2358.77 1455 Q2361.85 1450.39 2367.66 1450.39 Z\" fill=\"#000000\" fill-rule=\"evenodd\" fill-opacity=\"1\" /><path clip-path=\"url(#clip660)\" d=\"M1287.49 1522.27 L1287.49 1532.4 L1299.55 1532.4 L1299.55 1536.95 L1287.49 1536.95 L1287.49 1556.3 Q1287.49 1560.66 1288.67 1561.9 Q1289.88 1563.14 1293.54 1563.14 L1299.55 1563.14 L1299.55 1568.04 L1293.54 1568.04 Q1286.76 1568.04 1284.18 1565.53 Q1281.6 1562.98 1281.6 1556.3 L1281.6 1536.95 L1277.3 1536.95 L1277.3 1532.4 L1281.6 1532.4 L1281.6 1522.27 L1287.49 1522.27 Z\" fill=\"#000000\" fill-rule=\"evenodd\" fill-opacity=\"1\" /><polyline clip-path=\"url(#clip662)\" style=\"stroke:#000000; stroke-linecap:butt; stroke-linejoin:round; stroke-width:2; stroke-opacity:0.1; fill:none\" points=\"\n",
       "  224.098,1293.87 2352.76,1293.87 \n",
       "  \"/>\n",
       "<polyline clip-path=\"url(#clip662)\" style=\"stroke:#000000; stroke-linecap:butt; stroke-linejoin:round; stroke-width:2; stroke-opacity:0.1; fill:none\" points=\"\n",
       "  224.098,1084.52 2352.76,1084.52 \n",
       "  \"/>\n",
       "<polyline clip-path=\"url(#clip662)\" style=\"stroke:#000000; stroke-linecap:butt; stroke-linejoin:round; stroke-width:2; stroke-opacity:0.1; fill:none\" points=\"\n",
       "  224.098,875.18 2352.76,875.18 \n",
       "  \"/>\n",
       "<polyline clip-path=\"url(#clip662)\" style=\"stroke:#000000; stroke-linecap:butt; stroke-linejoin:round; stroke-width:2; stroke-opacity:0.1; fill:none\" points=\"\n",
       "  224.098,665.837 2352.76,665.837 \n",
       "  \"/>\n",
       "<polyline clip-path=\"url(#clip662)\" style=\"stroke:#000000; stroke-linecap:butt; stroke-linejoin:round; stroke-width:2; stroke-opacity:0.1; fill:none\" points=\"\n",
       "  224.098,456.493 2352.76,456.493 \n",
       "  \"/>\n",
       "<polyline clip-path=\"url(#clip662)\" style=\"stroke:#000000; stroke-linecap:butt; stroke-linejoin:round; stroke-width:2; stroke-opacity:0.1; fill:none\" points=\"\n",
       "  224.098,247.15 2352.76,247.15 \n",
       "  \"/>\n",
       "<polyline clip-path=\"url(#clip660)\" style=\"stroke:#000000; stroke-linecap:butt; stroke-linejoin:round; stroke-width:4; stroke-opacity:1; fill:none\" points=\"\n",
       "  224.098,1423.18 224.098,47.2441 \n",
       "  \"/>\n",
       "<polyline clip-path=\"url(#clip660)\" style=\"stroke:#000000; stroke-linecap:butt; stroke-linejoin:round; stroke-width:4; stroke-opacity:1; fill:none\" points=\"\n",
       "  224.098,1293.87 242.996,1293.87 \n",
       "  \"/>\n",
       "<polyline clip-path=\"url(#clip660)\" style=\"stroke:#000000; stroke-linecap:butt; stroke-linejoin:round; stroke-width:4; stroke-opacity:1; fill:none\" points=\"\n",
       "  224.098,1084.52 242.996,1084.52 \n",
       "  \"/>\n",
       "<polyline clip-path=\"url(#clip660)\" style=\"stroke:#000000; stroke-linecap:butt; stroke-linejoin:round; stroke-width:4; stroke-opacity:1; fill:none\" points=\"\n",
       "  224.098,875.18 242.996,875.18 \n",
       "  \"/>\n",
       "<polyline clip-path=\"url(#clip660)\" style=\"stroke:#000000; stroke-linecap:butt; stroke-linejoin:round; stroke-width:4; stroke-opacity:1; fill:none\" points=\"\n",
       "  224.098,665.837 242.996,665.837 \n",
       "  \"/>\n",
       "<polyline clip-path=\"url(#clip660)\" style=\"stroke:#000000; stroke-linecap:butt; stroke-linejoin:round; stroke-width:4; stroke-opacity:1; fill:none\" points=\"\n",
       "  224.098,456.493 242.996,456.493 \n",
       "  \"/>\n",
       "<polyline clip-path=\"url(#clip660)\" style=\"stroke:#000000; stroke-linecap:butt; stroke-linejoin:round; stroke-width:4; stroke-opacity:1; fill:none\" points=\"\n",
       "  224.098,247.15 242.996,247.15 \n",
       "  \"/>\n",
       "<path clip-path=\"url(#clip660)\" d=\"M51.9875 1294.32 L81.6633 1294.32 L81.6633 1298.25 L51.9875 1298.25 L51.9875 1294.32 Z\" fill=\"#000000\" fill-rule=\"evenodd\" fill-opacity=\"1\" /><path clip-path=\"url(#clip660)\" d=\"M101.756 1279.67 Q98.1447 1279.67 96.316 1283.23 Q94.5104 1286.77 94.5104 1293.9 Q94.5104 1301.01 96.316 1304.57 Q98.1447 1308.11 101.756 1308.11 Q105.39 1308.11 107.196 1304.57 Q109.024 1301.01 109.024 1293.9 Q109.024 1286.77 107.196 1283.23 Q105.39 1279.67 101.756 1279.67 M101.756 1275.96 Q107.566 1275.96 110.621 1280.57 Q113.7 1285.15 113.7 1293.9 Q113.7 1302.63 110.621 1307.24 Q107.566 1311.82 101.756 1311.82 Q95.9456 1311.82 92.8669 1307.24 Q89.8114 1302.63 89.8114 1293.9 Q89.8114 1285.15 92.8669 1280.57 Q95.9456 1275.96 101.756 1275.96 Z\" fill=\"#000000\" fill-rule=\"evenodd\" fill-opacity=\"1\" /><path clip-path=\"url(#clip660)\" d=\"M121.918 1305.27 L126.802 1305.27 L126.802 1311.15 L121.918 1311.15 L121.918 1305.27 Z\" fill=\"#000000\" fill-rule=\"evenodd\" fill-opacity=\"1\" /><path clip-path=\"url(#clip660)\" d=\"M137.797 1307.21 L145.436 1307.21 L145.436 1280.85 L137.126 1282.51 L137.126 1278.25 L145.39 1276.59 L150.066 1276.59 L150.066 1307.21 L157.705 1307.21 L157.705 1311.15 L137.797 1311.15 L137.797 1307.21 Z\" fill=\"#000000\" fill-rule=\"evenodd\" fill-opacity=\"1\" /><path clip-path=\"url(#clip660)\" d=\"M167.195 1276.59 L185.552 1276.59 L185.552 1280.52 L171.478 1280.52 L171.478 1288.99 Q172.496 1288.65 173.515 1288.49 Q174.533 1288.3 175.552 1288.3 Q181.339 1288.3 184.718 1291.47 Q188.098 1294.64 188.098 1300.06 Q188.098 1305.64 184.626 1308.74 Q181.153 1311.82 174.834 1311.82 Q172.658 1311.82 170.39 1311.45 Q168.144 1311.08 165.737 1310.34 L165.737 1305.64 Q167.82 1306.77 170.042 1307.33 Q172.265 1307.88 174.741 1307.88 Q178.746 1307.88 181.084 1305.78 Q183.422 1303.67 183.422 1300.06 Q183.422 1296.45 181.084 1294.34 Q178.746 1292.24 174.741 1292.24 Q172.866 1292.24 170.991 1292.65 Q169.14 1293.07 167.195 1293.95 L167.195 1276.59 Z\" fill=\"#000000\" fill-rule=\"evenodd\" fill-opacity=\"1\" /><path clip-path=\"url(#clip660)\" d=\"M50.9921 1084.98 L80.6679 1084.98 L80.6679 1088.91 L50.9921 1088.91 L50.9921 1084.98 Z\" fill=\"#000000\" fill-rule=\"evenodd\" fill-opacity=\"1\" /><path clip-path=\"url(#clip660)\" d=\"M100.76 1070.32 Q97.1493 1070.32 95.3206 1073.89 Q93.515 1077.43 93.515 1084.56 Q93.515 1091.66 95.3206 1095.23 Q97.1493 1098.77 100.76 1098.77 Q104.395 1098.77 106.2 1095.23 Q108.029 1091.66 108.029 1084.56 Q108.029 1077.43 106.2 1073.89 Q104.395 1070.32 100.76 1070.32 M100.76 1066.62 Q106.571 1066.62 109.626 1071.23 Q112.705 1075.81 112.705 1084.56 Q112.705 1093.29 109.626 1097.89 Q106.571 1102.47 100.76 1102.47 Q94.9502 1102.47 91.8715 1097.89 Q88.816 1093.29 88.816 1084.56 Q88.816 1075.81 91.8715 1071.23 Q94.9502 1066.62 100.76 1066.62 Z\" fill=\"#000000\" fill-rule=\"evenodd\" fill-opacity=\"1\" /><path clip-path=\"url(#clip660)\" d=\"M120.922 1095.92 L125.807 1095.92 L125.807 1101.8 L120.922 1101.8 L120.922 1095.92 Z\" fill=\"#000000\" fill-rule=\"evenodd\" fill-opacity=\"1\" /><path clip-path=\"url(#clip660)\" d=\"M136.802 1097.87 L144.441 1097.87 L144.441 1071.5 L136.131 1073.17 L136.131 1068.91 L144.394 1067.24 L149.07 1067.24 L149.07 1097.87 L156.709 1097.87 L156.709 1101.8 L136.802 1101.8 L136.802 1097.87 Z\" fill=\"#000000\" fill-rule=\"evenodd\" fill-opacity=\"1\" /><path clip-path=\"url(#clip660)\" d=\"M176.153 1070.32 Q172.542 1070.32 170.714 1073.89 Q168.908 1077.43 168.908 1084.56 Q168.908 1091.66 170.714 1095.23 Q172.542 1098.77 176.153 1098.77 Q179.788 1098.77 181.593 1095.23 Q183.422 1091.66 183.422 1084.56 Q183.422 1077.43 181.593 1073.89 Q179.788 1070.32 176.153 1070.32 M176.153 1066.62 Q181.964 1066.62 185.019 1071.23 Q188.098 1075.81 188.098 1084.56 Q188.098 1093.29 185.019 1097.89 Q181.964 1102.47 176.153 1102.47 Q170.343 1102.47 167.265 1097.89 Q164.209 1093.29 164.209 1084.56 Q164.209 1075.81 167.265 1071.23 Q170.343 1066.62 176.153 1066.62 Z\" fill=\"#000000\" fill-rule=\"evenodd\" fill-opacity=\"1\" /><path clip-path=\"url(#clip660)\" d=\"M51.9875 875.632 L81.6633 875.632 L81.6633 879.567 L51.9875 879.567 L51.9875 875.632 Z\" fill=\"#000000\" fill-rule=\"evenodd\" fill-opacity=\"1\" /><path clip-path=\"url(#clip660)\" d=\"M101.756 860.979 Q98.1447 860.979 96.316 864.544 Q94.5104 868.085 94.5104 875.215 Q94.5104 882.321 96.316 885.886 Q98.1447 889.428 101.756 889.428 Q105.39 889.428 107.196 885.886 Q109.024 882.321 109.024 875.215 Q109.024 868.085 107.196 864.544 Q105.39 860.979 101.756 860.979 M101.756 857.275 Q107.566 857.275 110.621 861.882 Q113.7 866.465 113.7 875.215 Q113.7 883.942 110.621 888.548 Q107.566 893.131 101.756 893.131 Q95.9456 893.131 92.8669 888.548 Q89.8114 883.942 89.8114 875.215 Q89.8114 866.465 92.8669 861.882 Q95.9456 857.275 101.756 857.275 Z\" fill=\"#000000\" fill-rule=\"evenodd\" fill-opacity=\"1\" /><path clip-path=\"url(#clip660)\" d=\"M121.918 886.581 L126.802 886.581 L126.802 892.46 L121.918 892.46 L121.918 886.581 Z\" fill=\"#000000\" fill-rule=\"evenodd\" fill-opacity=\"1\" /><path clip-path=\"url(#clip660)\" d=\"M146.987 860.979 Q143.376 860.979 141.547 864.544 Q139.742 868.085 139.742 875.215 Q139.742 882.321 141.547 885.886 Q143.376 889.428 146.987 889.428 Q150.621 889.428 152.427 885.886 Q154.255 882.321 154.255 875.215 Q154.255 868.085 152.427 864.544 Q150.621 860.979 146.987 860.979 M146.987 857.275 Q152.797 857.275 155.853 861.882 Q158.931 866.465 158.931 875.215 Q158.931 883.942 155.853 888.548 Q152.797 893.131 146.987 893.131 Q141.177 893.131 138.098 888.548 Q135.043 883.942 135.043 875.215 Q135.043 866.465 138.098 861.882 Q141.177 857.275 146.987 857.275 Z\" fill=\"#000000\" fill-rule=\"evenodd\" fill-opacity=\"1\" /><path clip-path=\"url(#clip660)\" d=\"M167.195 857.9 L185.552 857.9 L185.552 861.835 L171.478 861.835 L171.478 870.307 Q172.496 869.96 173.515 869.798 Q174.533 869.613 175.552 869.613 Q181.339 869.613 184.718 872.784 Q188.098 875.956 188.098 881.372 Q188.098 886.951 184.626 890.053 Q181.153 893.131 174.834 893.131 Q172.658 893.131 170.39 892.761 Q168.144 892.391 165.737 891.65 L165.737 886.951 Q167.82 888.085 170.042 888.641 Q172.265 889.196 174.741 889.196 Q178.746 889.196 181.084 887.09 Q183.422 884.983 183.422 881.372 Q183.422 877.761 181.084 875.655 Q178.746 873.548 174.741 873.548 Q172.866 873.548 170.991 873.965 Q169.14 874.382 167.195 875.261 L167.195 857.9 Z\" fill=\"#000000\" fill-rule=\"evenodd\" fill-opacity=\"1\" /><path clip-path=\"url(#clip660)\" d=\"M100.76 651.635 Q97.1493 651.635 95.3206 655.2 Q93.515 658.742 93.515 665.871 Q93.515 672.978 95.3206 676.543 Q97.1493 680.084 100.76 680.084 Q104.395 680.084 106.2 676.543 Q108.029 672.978 108.029 665.871 Q108.029 658.742 106.2 655.2 Q104.395 651.635 100.76 651.635 M100.76 647.932 Q106.571 647.932 109.626 652.538 Q112.705 657.121 112.705 665.871 Q112.705 674.598 109.626 679.205 Q106.571 683.788 100.76 683.788 Q94.9502 683.788 91.8715 679.205 Q88.816 674.598 88.816 665.871 Q88.816 657.121 91.8715 652.538 Q94.9502 647.932 100.76 647.932 Z\" fill=\"#000000\" fill-rule=\"evenodd\" fill-opacity=\"1\" /><path clip-path=\"url(#clip660)\" d=\"M120.922 677.237 L125.807 677.237 L125.807 683.117 L120.922 683.117 L120.922 677.237 Z\" fill=\"#000000\" fill-rule=\"evenodd\" fill-opacity=\"1\" /><path clip-path=\"url(#clip660)\" d=\"M145.992 651.635 Q142.381 651.635 140.552 655.2 Q138.746 658.742 138.746 665.871 Q138.746 672.978 140.552 676.543 Q142.381 680.084 145.992 680.084 Q149.626 680.084 151.431 676.543 Q153.26 672.978 153.26 665.871 Q153.26 658.742 151.431 655.2 Q149.626 651.635 145.992 651.635 M145.992 647.932 Q151.802 647.932 154.857 652.538 Q157.936 657.121 157.936 665.871 Q157.936 674.598 154.857 679.205 Q151.802 683.788 145.992 683.788 Q140.181 683.788 137.103 679.205 Q134.047 674.598 134.047 665.871 Q134.047 657.121 137.103 652.538 Q140.181 647.932 145.992 647.932 Z\" fill=\"#000000\" fill-rule=\"evenodd\" fill-opacity=\"1\" /><path clip-path=\"url(#clip660)\" d=\"M176.153 651.635 Q172.542 651.635 170.714 655.2 Q168.908 658.742 168.908 665.871 Q168.908 672.978 170.714 676.543 Q172.542 680.084 176.153 680.084 Q179.788 680.084 181.593 676.543 Q183.422 672.978 183.422 665.871 Q183.422 658.742 181.593 655.2 Q179.788 651.635 176.153 651.635 M176.153 647.932 Q181.964 647.932 185.019 652.538 Q188.098 657.121 188.098 665.871 Q188.098 674.598 185.019 679.205 Q181.964 683.788 176.153 683.788 Q170.343 683.788 167.265 679.205 Q164.209 674.598 164.209 665.871 Q164.209 657.121 167.265 652.538 Q170.343 647.932 176.153 647.932 Z\" fill=\"#000000\" fill-rule=\"evenodd\" fill-opacity=\"1\" /><path clip-path=\"url(#clip660)\" d=\"M101.756 442.292 Q98.1447 442.292 96.316 445.857 Q94.5104 449.398 94.5104 456.528 Q94.5104 463.634 96.316 467.199 Q98.1447 470.741 101.756 470.741 Q105.39 470.741 107.196 467.199 Q109.024 463.634 109.024 456.528 Q109.024 449.398 107.196 445.857 Q105.39 442.292 101.756 442.292 M101.756 438.588 Q107.566 438.588 110.621 443.195 Q113.7 447.778 113.7 456.528 Q113.7 465.255 110.621 469.861 Q107.566 474.444 101.756 474.444 Q95.9456 474.444 92.8669 469.861 Q89.8114 465.255 89.8114 456.528 Q89.8114 447.778 92.8669 443.195 Q95.9456 438.588 101.756 438.588 Z\" fill=\"#000000\" fill-rule=\"evenodd\" fill-opacity=\"1\" /><path clip-path=\"url(#clip660)\" d=\"M121.918 467.893 L126.802 467.893 L126.802 473.773 L121.918 473.773 L121.918 467.893 Z\" fill=\"#000000\" fill-rule=\"evenodd\" fill-opacity=\"1\" /><path clip-path=\"url(#clip660)\" d=\"M146.987 442.292 Q143.376 442.292 141.547 445.857 Q139.742 449.398 139.742 456.528 Q139.742 463.634 141.547 467.199 Q143.376 470.741 146.987 470.741 Q150.621 470.741 152.427 467.199 Q154.255 463.634 154.255 456.528 Q154.255 449.398 152.427 445.857 Q150.621 442.292 146.987 442.292 M146.987 438.588 Q152.797 438.588 155.853 443.195 Q158.931 447.778 158.931 456.528 Q158.931 465.255 155.853 469.861 Q152.797 474.444 146.987 474.444 Q141.177 474.444 138.098 469.861 Q135.043 465.255 135.043 456.528 Q135.043 447.778 138.098 443.195 Q141.177 438.588 146.987 438.588 Z\" fill=\"#000000\" fill-rule=\"evenodd\" fill-opacity=\"1\" /><path clip-path=\"url(#clip660)\" d=\"M167.195 439.213 L185.552 439.213 L185.552 443.148 L171.478 443.148 L171.478 451.62 Q172.496 451.273 173.515 451.111 Q174.533 450.926 175.552 450.926 Q181.339 450.926 184.718 454.097 Q188.098 457.269 188.098 462.685 Q188.098 468.264 184.626 471.366 Q181.153 474.444 174.834 474.444 Q172.658 474.444 170.39 474.074 Q168.144 473.704 165.737 472.963 L165.737 468.264 Q167.82 469.398 170.042 469.954 Q172.265 470.509 174.741 470.509 Q178.746 470.509 181.084 468.403 Q183.422 466.296 183.422 462.685 Q183.422 459.074 181.084 456.968 Q178.746 454.861 174.741 454.861 Q172.866 454.861 170.991 455.278 Q169.14 455.694 167.195 456.574 L167.195 439.213 Z\" fill=\"#000000\" fill-rule=\"evenodd\" fill-opacity=\"1\" /><path clip-path=\"url(#clip660)\" d=\"M100.76 232.948 Q97.1493 232.948 95.3206 236.513 Q93.515 240.055 93.515 247.184 Q93.515 254.291 95.3206 257.856 Q97.1493 261.397 100.76 261.397 Q104.395 261.397 106.2 257.856 Q108.029 254.291 108.029 247.184 Q108.029 240.055 106.2 236.513 Q104.395 232.948 100.76 232.948 M100.76 229.245 Q106.571 229.245 109.626 233.851 Q112.705 238.434 112.705 247.184 Q112.705 255.911 109.626 260.518 Q106.571 265.101 100.76 265.101 Q94.9502 265.101 91.8715 260.518 Q88.816 255.911 88.816 247.184 Q88.816 238.434 91.8715 233.851 Q94.9502 229.245 100.76 229.245 Z\" fill=\"#000000\" fill-rule=\"evenodd\" fill-opacity=\"1\" /><path clip-path=\"url(#clip660)\" d=\"M120.922 258.55 L125.807 258.55 L125.807 264.43 L120.922 264.43 L120.922 258.55 Z\" fill=\"#000000\" fill-rule=\"evenodd\" fill-opacity=\"1\" /><path clip-path=\"url(#clip660)\" d=\"M136.802 260.494 L144.441 260.494 L144.441 234.129 L136.131 235.795 L136.131 231.536 L144.394 229.87 L149.07 229.87 L149.07 260.494 L156.709 260.494 L156.709 264.43 L136.802 264.43 L136.802 260.494 Z\" fill=\"#000000\" fill-rule=\"evenodd\" fill-opacity=\"1\" /><path clip-path=\"url(#clip660)\" d=\"M176.153 232.948 Q172.542 232.948 170.714 236.513 Q168.908 240.055 168.908 247.184 Q168.908 254.291 170.714 257.856 Q172.542 261.397 176.153 261.397 Q179.788 261.397 181.593 257.856 Q183.422 254.291 183.422 247.184 Q183.422 240.055 181.593 236.513 Q179.788 232.948 176.153 232.948 M176.153 229.245 Q181.964 229.245 185.019 233.851 Q188.098 238.434 188.098 247.184 Q188.098 255.911 185.019 260.518 Q181.964 265.101 176.153 265.101 Q170.343 265.101 167.265 260.518 Q164.209 255.911 164.209 247.184 Q164.209 238.434 167.265 233.851 Q170.343 229.245 176.153 229.245 Z\" fill=\"#000000\" fill-rule=\"evenodd\" fill-opacity=\"1\" /><polyline clip-path=\"url(#clip662)\" style=\"stroke:#009af9; stroke-linecap:butt; stroke-linejoin:round; stroke-width:4; stroke-opacity:1; fill:none\" points=\"\n",
       "  224.098,159.055 330.531,86.1857 436.964,415.572 543.397,630.661 649.829,860.63 756.262,1070.17 862.695,1174.16 969.128,590.444 1075.56,455.981 1181.99,1306.93 \n",
       "  1288.43,977.27 1394.86,840.449 1501.29,952.469 1607.73,890.895 1714.16,1139.99 1820.59,1291.66 1927.02,1314.42 2033.46,1337.79 2139.89,1384.05 2246.32,1281.4 \n",
       "  2352.76,1384.24 \n",
       "  \"/>\n",
       "<polyline clip-path=\"url(#clip662)\" style=\"stroke:#e26f46; stroke-linecap:butt; stroke-linejoin:round; stroke-width:4; stroke-opacity:1; fill:none\" points=\"\n",
       "  224.098,650.578 330.531,714.854 436.964,698.736 543.397,702.628 649.829,700.937 756.262,685.394 862.695,575.365 969.128,643.658 1075.56,801.42 1181.99,617.203 \n",
       "  1288.43,645.967 1394.86,685.091 1501.29,657.913 1607.73,707.517 1714.16,693.559 1820.59,673.853 1927.02,674.108 2033.46,677.957 2139.89,654.299 2246.32,686.677 \n",
       "  2352.76,625.43 \n",
       "  \"/>\n",
       "<path clip-path=\"url(#clip660)\" d=\"\n",
       "M2022.11 248.629 L2281.8 248.629 L2281.8 93.1086 L2022.11 93.1086  Z\n",
       "  \" fill=\"#ffffff\" fill-rule=\"evenodd\" fill-opacity=\"1\"/>\n",
       "<polyline clip-path=\"url(#clip660)\" style=\"stroke:#000000; stroke-linecap:butt; stroke-linejoin:round; stroke-width:4; stroke-opacity:1; fill:none\" points=\"\n",
       "  2022.11,248.629 2281.8,248.629 2281.8,93.1086 2022.11,93.1086 2022.11,248.629 \n",
       "  \"/>\n",
       "<polyline clip-path=\"url(#clip660)\" style=\"stroke:#009af9; stroke-linecap:butt; stroke-linejoin:round; stroke-width:4; stroke-opacity:1; fill:none\" points=\"\n",
       "  2045.76,144.949 2187.67,144.949 \n",
       "  \"/>\n",
       "<path clip-path=\"url(#clip660)\" d=\"M2231.84 137.298 L2231.84 141.28 Q2230.03 140.284 2228.2 139.798 Q2226.4 139.289 2224.54 139.289 Q2220.4 139.289 2218.11 141.928 Q2215.82 144.544 2215.82 149.289 Q2215.82 154.034 2218.11 156.673 Q2220.4 159.289 2224.54 159.289 Q2226.4 159.289 2228.2 158.803 Q2230.03 158.293 2231.84 157.298 L2231.84 161.233 Q2230.05 162.067 2228.13 162.483 Q2226.23 162.9 2224.08 162.9 Q2218.22 162.9 2214.78 159.219 Q2211.33 155.539 2211.33 149.289 Q2211.33 142.946 2214.8 139.312 Q2218.29 135.678 2224.36 135.678 Q2226.33 135.678 2228.2 136.095 Q2230.08 136.488 2231.84 137.298 Z\" fill=\"#000000\" fill-rule=\"evenodd\" fill-opacity=\"1\" /><polyline clip-path=\"url(#clip660)\" style=\"stroke:#e26f46; stroke-linecap:butt; stroke-linejoin:round; stroke-width:4; stroke-opacity:1; fill:none\" points=\"\n",
       "  2045.76,196.789 2187.67,196.789 \n",
       "  \"/>\n",
       "<path clip-path=\"url(#clip660)\" d=\"M2215.72 201.129 Q2215.72 205.828 2217.65 208.513 Q2219.59 211.175 2222.97 211.175 Q2226.35 211.175 2228.29 208.513 Q2230.24 205.828 2230.24 201.129 Q2230.24 196.43 2228.29 193.768 Q2226.35 191.083 2222.97 191.083 Q2219.59 191.083 2217.65 193.768 Q2215.72 196.43 2215.72 201.129 M2230.24 210.18 Q2228.9 212.495 2226.84 213.629 Q2224.8 214.74 2221.93 214.74 Q2217.23 214.74 2214.27 210.99 Q2211.33 207.24 2211.33 201.129 Q2211.33 195.018 2214.27 191.268 Q2217.23 187.518 2221.93 187.518 Q2224.8 187.518 2226.84 188.652 Q2228.9 189.763 2230.24 192.078 L2230.24 188.143 L2234.5 188.143 L2234.5 223.93 L2230.24 223.93 L2230.24 210.18 Z\" fill=\"#000000\" fill-rule=\"evenodd\" fill-opacity=\"1\" /></svg>\n"
      ]
     },
     "execution_count": 132,
     "metadata": {},
     "output_type": "execute_result"
    }
   ],
   "source": [
    "p_f = (ρ = 0.2, δ = 0.02, σ = 0.01, Ω_1 = 0.01) # Fixed parameters\n",
    "p_d = (α = 0.5, β = 0.95) # Pseudo-true values\n",
    "m = model_rbc  # ensure notebook executed above\n",
    "sol = generate_perturbation(m, p_d, p_f) # Solution to the first-order RBC\n",
    "\n",
    "# Simulate T observations from a random initial condition\n",
    "T = 20\n",
    "\n",
    "# draw from ergodic distribution for the initial condition\n",
    "x_iv = MvNormal(sol.x_ergodic_var)\n",
    "problem = LinearStateSpaceProblem(sol, x_iv, (0, T))\n",
    "plot(solve(problem, DirectIteration()))"
   ]
  },
  {
   "cell_type": "markdown",
   "metadata": {},
   "source": [
    "The `LinearStateSpaceProblem` type is automatically constructed from the underlying perturbation.  However, we can override any of these options, or pass in our own noise rather than simulate it for a particular experiment"
   ]
  },
  {
   "cell_type": "code",
   "execution_count": 149,
   "metadata": {},
   "outputs": [
    {
     "data": {
      "image/svg+xml": [
       "<?xml version=\"1.0\" encoding=\"utf-8\"?>\n",
       "<svg xmlns=\"http://www.w3.org/2000/svg\" xmlns:xlink=\"http://www.w3.org/1999/xlink\" width=\"600\" height=\"400\" viewBox=\"0 0 2400 1600\">\n",
       "<defs>\n",
       "  <clipPath id=\"clip820\">\n",
       "    <rect x=\"0\" y=\"0\" width=\"2400\" height=\"1600\"/>\n",
       "  </clipPath>\n",
       "</defs>\n",
       "<path clip-path=\"url(#clip820)\" d=\"\n",
       "M0 1600 L2400 1600 L2400 0 L0 0  Z\n",
       "  \" fill=\"#ffffff\" fill-rule=\"evenodd\" fill-opacity=\"1\"/>\n",
       "<defs>\n",
       "  <clipPath id=\"clip821\">\n",
       "    <rect x=\"480\" y=\"0\" width=\"1681\" height=\"1600\"/>\n",
       "  </clipPath>\n",
       "</defs>\n",
       "<path clip-path=\"url(#clip820)\" d=\"\n",
       "M224.584 1423.18 L2352.76 1423.18 L2352.76 47.2441 L224.584 47.2441  Z\n",
       "  \" fill=\"#ffffff\" fill-rule=\"evenodd\" fill-opacity=\"1\"/>\n",
       "<defs>\n",
       "  <clipPath id=\"clip822\">\n",
       "    <rect x=\"224\" y=\"47\" width=\"2129\" height=\"1377\"/>\n",
       "  </clipPath>\n",
       "</defs>\n",
       "<polyline clip-path=\"url(#clip822)\" style=\"stroke:#000000; stroke-linecap:butt; stroke-linejoin:round; stroke-width:2; stroke-opacity:0.1; fill:none\" points=\"\n",
       "  224.584,1423.18 224.584,47.2441 \n",
       "  \"/>\n",
       "<polyline clip-path=\"url(#clip822)\" style=\"stroke:#000000; stroke-linecap:butt; stroke-linejoin:round; stroke-width:2; stroke-opacity:0.1; fill:none\" points=\"\n",
       "  756.627,1423.18 756.627,47.2441 \n",
       "  \"/>\n",
       "<polyline clip-path=\"url(#clip822)\" style=\"stroke:#000000; stroke-linecap:butt; stroke-linejoin:round; stroke-width:2; stroke-opacity:0.1; fill:none\" points=\"\n",
       "  1288.67,1423.18 1288.67,47.2441 \n",
       "  \"/>\n",
       "<polyline clip-path=\"url(#clip822)\" style=\"stroke:#000000; stroke-linecap:butt; stroke-linejoin:round; stroke-width:2; stroke-opacity:0.1; fill:none\" points=\"\n",
       "  1820.71,1423.18 1820.71,47.2441 \n",
       "  \"/>\n",
       "<polyline clip-path=\"url(#clip822)\" style=\"stroke:#000000; stroke-linecap:butt; stroke-linejoin:round; stroke-width:2; stroke-opacity:0.1; fill:none\" points=\"\n",
       "  2352.76,1423.18 2352.76,47.2441 \n",
       "  \"/>\n",
       "<polyline clip-path=\"url(#clip820)\" style=\"stroke:#000000; stroke-linecap:butt; stroke-linejoin:round; stroke-width:4; stroke-opacity:1; fill:none\" points=\"\n",
       "  224.584,1423.18 2352.76,1423.18 \n",
       "  \"/>\n",
       "<polyline clip-path=\"url(#clip820)\" style=\"stroke:#000000; stroke-linecap:butt; stroke-linejoin:round; stroke-width:4; stroke-opacity:1; fill:none\" points=\"\n",
       "  224.584,1423.18 224.584,1404.28 \n",
       "  \"/>\n",
       "<polyline clip-path=\"url(#clip820)\" style=\"stroke:#000000; stroke-linecap:butt; stroke-linejoin:round; stroke-width:4; stroke-opacity:1; fill:none\" points=\"\n",
       "  756.627,1423.18 756.627,1404.28 \n",
       "  \"/>\n",
       "<polyline clip-path=\"url(#clip820)\" style=\"stroke:#000000; stroke-linecap:butt; stroke-linejoin:round; stroke-width:4; stroke-opacity:1; fill:none\" points=\"\n",
       "  1288.67,1423.18 1288.67,1404.28 \n",
       "  \"/>\n",
       "<polyline clip-path=\"url(#clip820)\" style=\"stroke:#000000; stroke-linecap:butt; stroke-linejoin:round; stroke-width:4; stroke-opacity:1; fill:none\" points=\"\n",
       "  1820.71,1423.18 1820.71,1404.28 \n",
       "  \"/>\n",
       "<polyline clip-path=\"url(#clip820)\" style=\"stroke:#000000; stroke-linecap:butt; stroke-linejoin:round; stroke-width:4; stroke-opacity:1; fill:none\" points=\"\n",
       "  2352.76,1423.18 2352.76,1404.28 \n",
       "  \"/>\n",
       "<path clip-path=\"url(#clip820)\" d=\"M224.584 1454.1 Q220.973 1454.1 219.144 1457.66 Q217.339 1461.2 217.339 1468.33 Q217.339 1475.44 219.144 1479.01 Q220.973 1482.55 224.584 1482.55 Q228.218 1482.55 230.024 1479.01 Q231.852 1475.44 231.852 1468.33 Q231.852 1461.2 230.024 1457.66 Q228.218 1454.1 224.584 1454.1 M224.584 1450.39 Q230.394 1450.39 233.45 1455 Q236.528 1459.58 236.528 1468.33 Q236.528 1477.06 233.45 1481.67 Q230.394 1486.25 224.584 1486.25 Q218.774 1486.25 215.695 1481.67 Q212.64 1477.06 212.64 1468.33 Q212.64 1459.58 215.695 1455 Q218.774 1450.39 224.584 1450.39 Z\" fill=\"#000000\" fill-rule=\"evenodd\" fill-opacity=\"1\" /><path clip-path=\"url(#clip820)\" d=\"M746.905 1451.02 L765.261 1451.02 L765.261 1454.96 L751.187 1454.96 L751.187 1463.43 Q752.206 1463.08 753.224 1462.92 Q754.243 1462.73 755.261 1462.73 Q761.048 1462.73 764.428 1465.9 Q767.807 1469.08 767.807 1474.49 Q767.807 1480.07 764.335 1483.17 Q760.863 1486.25 754.544 1486.25 Q752.368 1486.25 750.099 1485.88 Q747.854 1485.51 745.446 1484.77 L745.446 1480.07 Q747.53 1481.2 749.752 1481.76 Q751.974 1482.32 754.451 1482.32 Q758.456 1482.32 760.794 1480.21 Q763.132 1478.1 763.132 1474.49 Q763.132 1470.88 760.794 1468.77 Q758.456 1466.67 754.451 1466.67 Q752.576 1466.67 750.701 1467.08 Q748.849 1467.5 746.905 1468.38 L746.905 1451.02 Z\" fill=\"#000000\" fill-rule=\"evenodd\" fill-opacity=\"1\" /><path clip-path=\"url(#clip820)\" d=\"M1263.36 1481.64 L1271 1481.64 L1271 1455.28 L1262.69 1456.95 L1262.69 1452.69 L1270.95 1451.02 L1275.63 1451.02 L1275.63 1481.64 L1283.26 1481.64 L1283.26 1485.58 L1263.36 1485.58 L1263.36 1481.64 Z\" fill=\"#000000\" fill-rule=\"evenodd\" fill-opacity=\"1\" /><path clip-path=\"url(#clip820)\" d=\"M1302.71 1454.1 Q1299.1 1454.1 1297.27 1457.66 Q1295.46 1461.2 1295.46 1468.33 Q1295.46 1475.44 1297.27 1479.01 Q1299.1 1482.55 1302.71 1482.55 Q1306.34 1482.55 1308.15 1479.01 Q1309.98 1475.44 1309.98 1468.33 Q1309.98 1461.2 1308.15 1457.66 Q1306.34 1454.1 1302.71 1454.1 M1302.71 1450.39 Q1308.52 1450.39 1311.57 1455 Q1314.65 1459.58 1314.65 1468.33 Q1314.65 1477.06 1311.57 1481.67 Q1308.52 1486.25 1302.71 1486.25 Q1296.9 1486.25 1293.82 1481.67 Q1290.76 1477.06 1290.76 1468.33 Q1290.76 1459.58 1293.82 1455 Q1296.9 1450.39 1302.71 1450.39 Z\" fill=\"#000000\" fill-rule=\"evenodd\" fill-opacity=\"1\" /><path clip-path=\"url(#clip820)\" d=\"M1795.9 1481.64 L1803.54 1481.64 L1803.54 1455.28 L1795.23 1456.95 L1795.23 1452.69 L1803.49 1451.02 L1808.17 1451.02 L1808.17 1481.64 L1815.81 1481.64 L1815.81 1485.58 L1795.9 1485.58 L1795.9 1481.64 Z\" fill=\"#000000\" fill-rule=\"evenodd\" fill-opacity=\"1\" /><path clip-path=\"url(#clip820)\" d=\"M1825.3 1451.02 L1843.65 1451.02 L1843.65 1454.96 L1829.58 1454.96 L1829.58 1463.43 Q1830.6 1463.08 1831.62 1462.92 Q1832.63 1462.73 1833.65 1462.73 Q1839.44 1462.73 1842.82 1465.9 Q1846.2 1469.08 1846.2 1474.49 Q1846.2 1480.07 1842.73 1483.17 Q1839.25 1486.25 1832.94 1486.25 Q1830.76 1486.25 1828.49 1485.88 Q1826.25 1485.51 1823.84 1484.77 L1823.84 1480.07 Q1825.92 1481.2 1828.14 1481.76 Q1830.37 1482.32 1832.84 1482.32 Q1836.85 1482.32 1839.19 1480.21 Q1841.52 1478.1 1841.52 1474.49 Q1841.52 1470.88 1839.19 1468.77 Q1836.85 1466.67 1832.84 1466.67 Q1830.97 1466.67 1829.09 1467.08 Q1827.24 1467.5 1825.3 1468.38 L1825.3 1451.02 Z\" fill=\"#000000\" fill-rule=\"evenodd\" fill-opacity=\"1\" /><path clip-path=\"url(#clip820)\" d=\"M2331.53 1481.64 L2347.85 1481.64 L2347.85 1485.58 L2325.9 1485.58 L2325.9 1481.64 Q2328.57 1478.89 2333.15 1474.26 Q2337.76 1469.61 2338.94 1468.27 Q2341.18 1465.74 2342.06 1464.01 Q2342.96 1462.25 2342.96 1460.56 Q2342.96 1457.8 2341.02 1456.07 Q2339.1 1454.33 2336 1454.33 Q2333.8 1454.33 2331.34 1455.09 Q2328.91 1455.86 2326.14 1457.41 L2326.14 1452.69 Q2328.96 1451.55 2331.41 1450.97 Q2333.87 1450.39 2335.9 1450.39 Q2341.27 1450.39 2344.47 1453.08 Q2347.66 1455.77 2347.66 1460.26 Q2347.66 1462.39 2346.85 1464.31 Q2346.07 1466.2 2343.96 1468.8 Q2343.38 1469.47 2340.28 1472.69 Q2337.18 1475.88 2331.53 1481.64 Z\" fill=\"#000000\" fill-rule=\"evenodd\" fill-opacity=\"1\" /><path clip-path=\"url(#clip820)\" d=\"M2367.66 1454.1 Q2364.05 1454.1 2362.22 1457.66 Q2360.42 1461.2 2360.42 1468.33 Q2360.42 1475.44 2362.22 1479.01 Q2364.05 1482.55 2367.66 1482.55 Q2371.3 1482.55 2373.1 1479.01 Q2374.93 1475.44 2374.93 1468.33 Q2374.93 1461.2 2373.1 1457.66 Q2371.3 1454.1 2367.66 1454.1 M2367.66 1450.39 Q2373.47 1450.39 2376.53 1455 Q2379.61 1459.58 2379.61 1468.33 Q2379.61 1477.06 2376.53 1481.67 Q2373.47 1486.25 2367.66 1486.25 Q2361.85 1486.25 2358.77 1481.67 Q2355.72 1477.06 2355.72 1468.33 Q2355.72 1459.58 2358.77 1455 Q2361.85 1450.39 2367.66 1450.39 Z\" fill=\"#000000\" fill-rule=\"evenodd\" fill-opacity=\"1\" /><path clip-path=\"url(#clip820)\" d=\"M1287.73 1522.27 L1287.73 1532.4 L1299.79 1532.4 L1299.79 1536.95 L1287.73 1536.95 L1287.73 1556.3 Q1287.73 1560.66 1288.91 1561.9 Q1290.12 1563.14 1293.78 1563.14 L1299.79 1563.14 L1299.79 1568.04 L1293.78 1568.04 Q1287 1568.04 1284.42 1565.53 Q1281.84 1562.98 1281.84 1556.3 L1281.84 1536.95 L1277.55 1536.95 L1277.55 1532.4 L1281.84 1532.4 L1281.84 1522.27 L1287.73 1522.27 Z\" fill=\"#000000\" fill-rule=\"evenodd\" fill-opacity=\"1\" /><polyline clip-path=\"url(#clip822)\" style=\"stroke:#000000; stroke-linecap:butt; stroke-linejoin:round; stroke-width:2; stroke-opacity:0.1; fill:none\" points=\"\n",
       "  224.584,1170.42 2352.76,1170.42 \n",
       "  \"/>\n",
       "<polyline clip-path=\"url(#clip822)\" style=\"stroke:#000000; stroke-linecap:butt; stroke-linejoin:round; stroke-width:2; stroke-opacity:0.1; fill:none\" points=\"\n",
       "  224.584,809.011 2352.76,809.011 \n",
       "  \"/>\n",
       "<polyline clip-path=\"url(#clip822)\" style=\"stroke:#000000; stroke-linecap:butt; stroke-linejoin:round; stroke-width:2; stroke-opacity:0.1; fill:none\" points=\"\n",
       "  224.584,447.598 2352.76,447.598 \n",
       "  \"/>\n",
       "<polyline clip-path=\"url(#clip822)\" style=\"stroke:#000000; stroke-linecap:butt; stroke-linejoin:round; stroke-width:2; stroke-opacity:0.1; fill:none\" points=\"\n",
       "  224.584,86.1857 2352.76,86.1857 \n",
       "  \"/>\n",
       "<polyline clip-path=\"url(#clip820)\" style=\"stroke:#000000; stroke-linecap:butt; stroke-linejoin:round; stroke-width:4; stroke-opacity:1; fill:none\" points=\"\n",
       "  224.584,1423.18 224.584,47.2441 \n",
       "  \"/>\n",
       "<polyline clip-path=\"url(#clip820)\" style=\"stroke:#000000; stroke-linecap:butt; stroke-linejoin:round; stroke-width:4; stroke-opacity:1; fill:none\" points=\"\n",
       "  224.584,1170.42 243.482,1170.42 \n",
       "  \"/>\n",
       "<polyline clip-path=\"url(#clip820)\" style=\"stroke:#000000; stroke-linecap:butt; stroke-linejoin:round; stroke-width:4; stroke-opacity:1; fill:none\" points=\"\n",
       "  224.584,809.011 243.482,809.011 \n",
       "  \"/>\n",
       "<polyline clip-path=\"url(#clip820)\" style=\"stroke:#000000; stroke-linecap:butt; stroke-linejoin:round; stroke-width:4; stroke-opacity:1; fill:none\" points=\"\n",
       "  224.584,447.598 243.482,447.598 \n",
       "  \"/>\n",
       "<polyline clip-path=\"url(#clip820)\" style=\"stroke:#000000; stroke-linecap:butt; stroke-linejoin:round; stroke-width:4; stroke-opacity:1; fill:none\" points=\"\n",
       "  224.584,86.1857 243.482,86.1857 \n",
       "  \"/>\n",
       "<path clip-path=\"url(#clip820)\" d=\"M51.3162 1170.87 L80.992 1170.87 L80.992 1174.81 L51.3162 1174.81 L51.3162 1170.87 Z\" fill=\"#000000\" fill-rule=\"evenodd\" fill-opacity=\"1\" /><path clip-path=\"url(#clip820)\" d=\"M101.084 1156.22 Q97.4734 1156.22 95.6447 1159.79 Q93.8391 1163.33 93.8391 1170.46 Q93.8391 1177.56 95.6447 1181.13 Q97.4734 1184.67 101.084 1184.67 Q104.719 1184.67 106.524 1181.13 Q108.353 1177.56 108.353 1170.46 Q108.353 1163.33 106.524 1159.79 Q104.719 1156.22 101.084 1156.22 M101.084 1152.52 Q106.895 1152.52 109.95 1157.12 Q113.029 1161.71 113.029 1170.46 Q113.029 1179.18 109.95 1183.79 Q106.895 1188.37 101.084 1188.37 Q95.2743 1188.37 92.1956 1183.79 Q89.1401 1179.18 89.1401 1170.46 Q89.1401 1161.71 92.1956 1157.12 Q95.2743 1152.52 101.084 1152.52 Z\" fill=\"#000000\" fill-rule=\"evenodd\" fill-opacity=\"1\" /><path clip-path=\"url(#clip820)\" d=\"M121.246 1181.82 L126.131 1181.82 L126.131 1187.7 L121.246 1187.7 L121.246 1181.82 Z\" fill=\"#000000\" fill-rule=\"evenodd\" fill-opacity=\"1\" /><path clip-path=\"url(#clip820)\" d=\"M146.316 1156.22 Q142.705 1156.22 140.876 1159.79 Q139.07 1163.33 139.07 1170.46 Q139.07 1177.56 140.876 1181.13 Q142.705 1184.67 146.316 1184.67 Q149.95 1184.67 151.755 1181.13 Q153.584 1177.56 153.584 1170.46 Q153.584 1163.33 151.755 1159.79 Q149.95 1156.22 146.316 1156.22 M146.316 1152.52 Q152.126 1152.52 155.181 1157.12 Q158.26 1161.71 158.26 1170.46 Q158.26 1179.18 155.181 1183.79 Q152.126 1188.37 146.316 1188.37 Q140.506 1188.37 137.427 1183.79 Q134.371 1179.18 134.371 1170.46 Q134.371 1161.71 137.427 1157.12 Q140.506 1152.52 146.316 1152.52 Z\" fill=\"#000000\" fill-rule=\"evenodd\" fill-opacity=\"1\" /><path clip-path=\"url(#clip820)\" d=\"M177.056 1168.56 Q173.908 1168.56 172.056 1170.71 Q170.228 1172.87 170.228 1176.62 Q170.228 1180.34 172.056 1182.52 Q173.908 1184.67 177.056 1184.67 Q180.204 1184.67 182.033 1182.52 Q183.885 1180.34 183.885 1176.62 Q183.885 1172.87 182.033 1170.71 Q180.204 1168.56 177.056 1168.56 M186.339 1153.91 L186.339 1158.17 Q184.579 1157.33 182.774 1156.89 Q180.991 1156.45 179.232 1156.45 Q174.603 1156.45 172.149 1159.58 Q169.718 1162.7 169.371 1169.02 Q170.737 1167.01 172.797 1165.94 Q174.857 1164.86 177.334 1164.86 Q182.542 1164.86 185.552 1168.03 Q188.584 1171.18 188.584 1176.62 Q188.584 1181.94 185.436 1185.16 Q182.288 1188.37 177.056 1188.37 Q171.061 1188.37 167.89 1183.79 Q164.718 1179.18 164.718 1170.46 Q164.718 1162.26 168.607 1157.4 Q172.496 1152.52 179.047 1152.52 Q180.806 1152.52 182.589 1152.87 Q184.394 1153.21 186.339 1153.91 Z\" fill=\"#000000\" fill-rule=\"evenodd\" fill-opacity=\"1\" /><path clip-path=\"url(#clip820)\" d=\"M50.9921 809.462 L80.6679 809.462 L80.6679 813.397 L50.9921 813.397 L50.9921 809.462 Z\" fill=\"#000000\" fill-rule=\"evenodd\" fill-opacity=\"1\" /><path clip-path=\"url(#clip820)\" d=\"M100.76 794.809 Q97.1493 794.809 95.3206 798.374 Q93.515 801.916 93.515 809.045 Q93.515 816.152 95.3206 819.717 Q97.1493 823.258 100.76 823.258 Q104.395 823.258 106.2 819.717 Q108.029 816.152 108.029 809.045 Q108.029 801.916 106.2 798.374 Q104.395 794.809 100.76 794.809 M100.76 791.106 Q106.571 791.106 109.626 795.712 Q112.705 800.295 112.705 809.045 Q112.705 817.772 109.626 822.379 Q106.571 826.962 100.76 826.962 Q94.9502 826.962 91.8715 822.379 Q88.816 817.772 88.816 809.045 Q88.816 800.295 91.8715 795.712 Q94.9502 791.106 100.76 791.106 Z\" fill=\"#000000\" fill-rule=\"evenodd\" fill-opacity=\"1\" /><path clip-path=\"url(#clip820)\" d=\"M120.922 820.411 L125.807 820.411 L125.807 826.291 L120.922 826.291 L120.922 820.411 Z\" fill=\"#000000\" fill-rule=\"evenodd\" fill-opacity=\"1\" /><path clip-path=\"url(#clip820)\" d=\"M145.992 794.809 Q142.381 794.809 140.552 798.374 Q138.746 801.916 138.746 809.045 Q138.746 816.152 140.552 819.717 Q142.381 823.258 145.992 823.258 Q149.626 823.258 151.431 819.717 Q153.26 816.152 153.26 809.045 Q153.26 801.916 151.431 798.374 Q149.626 794.809 145.992 794.809 M145.992 791.106 Q151.802 791.106 154.857 795.712 Q157.936 800.295 157.936 809.045 Q157.936 817.772 154.857 822.379 Q151.802 826.962 145.992 826.962 Q140.181 826.962 137.103 822.379 Q134.047 817.772 134.047 809.045 Q134.047 800.295 137.103 795.712 Q140.181 791.106 145.992 791.106 Z\" fill=\"#000000\" fill-rule=\"evenodd\" fill-opacity=\"1\" /><path clip-path=\"url(#clip820)\" d=\"M179.001 795.805 L167.195 814.254 L179.001 814.254 L179.001 795.805 M177.774 791.731 L183.653 791.731 L183.653 814.254 L188.584 814.254 L188.584 818.143 L183.653 818.143 L183.653 826.291 L179.001 826.291 L179.001 818.143 L163.399 818.143 L163.399 813.629 L177.774 791.731 Z\" fill=\"#000000\" fill-rule=\"evenodd\" fill-opacity=\"1\" /><path clip-path=\"url(#clip820)\" d=\"M53.0754 448.05 L82.7512 448.05 L82.7512 451.985 L53.0754 451.985 L53.0754 448.05 Z\" fill=\"#000000\" fill-rule=\"evenodd\" fill-opacity=\"1\" /><path clip-path=\"url(#clip820)\" d=\"M102.844 433.397 Q99.2326 433.397 97.4039 436.962 Q95.5984 440.503 95.5984 447.633 Q95.5984 454.739 97.4039 458.304 Q99.2326 461.846 102.844 461.846 Q106.478 461.846 108.283 458.304 Q110.112 454.739 110.112 447.633 Q110.112 440.503 108.283 436.962 Q106.478 433.397 102.844 433.397 M102.844 429.693 Q108.654 429.693 111.709 434.3 Q114.788 438.883 114.788 447.633 Q114.788 456.36 111.709 460.966 Q108.654 465.549 102.844 465.549 Q97.0335 465.549 93.9549 460.966 Q90.8993 456.36 90.8993 447.633 Q90.8993 438.883 93.9549 434.3 Q97.0335 429.693 102.844 429.693 Z\" fill=\"#000000\" fill-rule=\"evenodd\" fill-opacity=\"1\" /><path clip-path=\"url(#clip820)\" d=\"M123.006 458.999 L127.89 458.999 L127.89 464.878 L123.006 464.878 L123.006 458.999 Z\" fill=\"#000000\" fill-rule=\"evenodd\" fill-opacity=\"1\" /><path clip-path=\"url(#clip820)\" d=\"M148.075 433.397 Q144.464 433.397 142.635 436.962 Q140.83 440.503 140.83 447.633 Q140.83 454.739 142.635 458.304 Q144.464 461.846 148.075 461.846 Q151.709 461.846 153.515 458.304 Q155.343 454.739 155.343 447.633 Q155.343 440.503 153.515 436.962 Q151.709 433.397 148.075 433.397 M148.075 429.693 Q153.885 429.693 156.941 434.3 Q160.019 438.883 160.019 447.633 Q160.019 456.36 156.941 460.966 Q153.885 465.549 148.075 465.549 Q142.265 465.549 139.186 460.966 Q136.131 456.36 136.131 447.633 Q136.131 438.883 139.186 434.3 Q142.265 429.693 148.075 429.693 Z\" fill=\"#000000\" fill-rule=\"evenodd\" fill-opacity=\"1\" /><path clip-path=\"url(#clip820)\" d=\"M172.265 460.943 L188.584 460.943 L188.584 464.878 L166.64 464.878 L166.64 460.943 Q169.302 458.188 173.885 453.559 Q178.491 448.906 179.672 447.563 Q181.917 445.04 182.797 443.304 Q183.7 441.545 183.7 439.855 Q183.7 437.101 181.755 435.364 Q179.834 433.628 176.732 433.628 Q174.533 433.628 172.079 434.392 Q169.649 435.156 166.871 436.707 L166.871 431.985 Q169.695 430.851 172.149 430.272 Q174.603 429.693 176.64 429.693 Q182.01 429.693 185.204 432.378 Q188.399 435.064 188.399 439.554 Q188.399 441.684 187.589 443.605 Q186.802 445.503 184.695 448.096 Q184.116 448.767 181.015 451.985 Q177.913 455.179 172.265 460.943 Z\" fill=\"#000000\" fill-rule=\"evenodd\" fill-opacity=\"1\" /><path clip-path=\"url(#clip820)\" d=\"M101.246 71.9844 Q97.6354 71.9844 95.8067 75.5492 Q94.0012 79.0908 94.0012 86.2204 Q94.0012 93.3268 95.8067 96.8916 Q97.6354 100.433 101.246 100.433 Q104.881 100.433 106.686 96.8916 Q108.515 93.3268 108.515 86.2204 Q108.515 79.0908 106.686 75.5492 Q104.881 71.9844 101.246 71.9844 M101.246 68.2807 Q107.057 68.2807 110.112 72.8871 Q113.191 77.4704 113.191 86.2204 Q113.191 94.9472 110.112 99.5537 Q107.057 104.137 101.246 104.137 Q95.4363 104.137 92.3576 99.5537 Q89.3021 94.9472 89.3021 86.2204 Q89.3021 77.4704 92.3576 72.8871 Q95.4363 68.2807 101.246 68.2807 Z\" fill=\"#000000\" fill-rule=\"evenodd\" fill-opacity=\"1\" /><path clip-path=\"url(#clip820)\" d=\"M121.408 97.5861 L126.293 97.5861 L126.293 103.466 L121.408 103.466 L121.408 97.5861 Z\" fill=\"#000000\" fill-rule=\"evenodd\" fill-opacity=\"1\" /><path clip-path=\"url(#clip820)\" d=\"M146.478 71.9844 Q142.867 71.9844 141.038 75.5492 Q139.232 79.0908 139.232 86.2204 Q139.232 93.3268 141.038 96.8916 Q142.867 100.433 146.478 100.433 Q150.112 100.433 151.918 96.8916 Q153.746 93.3268 153.746 86.2204 Q153.746 79.0908 151.918 75.5492 Q150.112 71.9844 146.478 71.9844 M146.478 68.2807 Q152.288 68.2807 155.343 72.8871 Q158.422 77.4704 158.422 86.2204 Q158.422 94.9472 155.343 99.5537 Q152.288 104.137 146.478 104.137 Q140.668 104.137 137.589 99.5537 Q134.533 94.9472 134.533 86.2204 Q134.533 77.4704 137.589 72.8871 Q140.668 68.2807 146.478 68.2807 Z\" fill=\"#000000\" fill-rule=\"evenodd\" fill-opacity=\"1\" /><path clip-path=\"url(#clip820)\" d=\"M176.64 71.9844 Q173.029 71.9844 171.2 75.5492 Q169.394 79.0908 169.394 86.2204 Q169.394 93.3268 171.2 96.8916 Q173.029 100.433 176.64 100.433 Q180.274 100.433 182.079 96.8916 Q183.908 93.3268 183.908 86.2204 Q183.908 79.0908 182.079 75.5492 Q180.274 71.9844 176.64 71.9844 M176.64 68.2807 Q182.45 68.2807 185.505 72.8871 Q188.584 77.4704 188.584 86.2204 Q188.584 94.9472 185.505 99.5537 Q182.45 104.137 176.64 104.137 Q170.829 104.137 167.751 99.5537 Q164.695 94.9472 164.695 86.2204 Q164.695 77.4704 167.751 72.8871 Q170.829 68.2807 176.64 68.2807 Z\" fill=\"#000000\" fill-rule=\"evenodd\" fill-opacity=\"1\" /><polyline clip-path=\"url(#clip822)\" style=\"stroke:#009af9; stroke-linecap:butt; stroke-linejoin:round; stroke-width:4; stroke-opacity:1; fill:none\" points=\"\n",
       "  224.584,86.1857 330.993,86.1857 437.401,1208.26 543.81,1384.24 650.218,1373.09 756.627,1326.52 863.036,1274.77 969.444,1223.83 1075.85,1174.79 1182.26,1127.82 \n",
       "  1288.67,1082.86 1395.08,1039.84 1501.49,998.675 1607.9,959.288 1714.3,921.6 1820.71,885.54 1927.12,851.036 2033.53,818.021 2139.94,786.432 2246.35,756.206 \n",
       "  2352.76,727.284 \n",
       "  \"/>\n",
       "<polyline clip-path=\"url(#clip822)\" style=\"stroke:#e26f46; stroke-linecap:butt; stroke-linejoin:round; stroke-width:4; stroke-opacity:1; fill:none\" points=\"\n",
       "  224.584,86.1857 330.993,266.892 437.401,122.327 543.81,93.4139 650.218,87.6313 756.627,86.4748 863.036,86.2435 969.444,86.1972 1075.85,86.188 1182.26,86.1861 \n",
       "  1288.67,86.1858 1395.08,86.1857 1501.49,86.1857 1607.9,86.1857 1714.3,86.1857 1820.71,86.1857 1927.12,86.1857 2033.53,86.1857 2139.94,86.1857 2246.35,86.1857 \n",
       "  2352.76,86.1857 \n",
       "  \"/>\n",
       "<path clip-path=\"url(#clip820)\" d=\"\n",
       "M2022.18 248.629 L2281.82 248.629 L2281.82 93.1086 L2022.18 93.1086  Z\n",
       "  \" fill=\"#ffffff\" fill-rule=\"evenodd\" fill-opacity=\"1\"/>\n",
       "<polyline clip-path=\"url(#clip820)\" style=\"stroke:#000000; stroke-linecap:butt; stroke-linejoin:round; stroke-width:4; stroke-opacity:1; fill:none\" points=\"\n",
       "  2022.18,248.629 2281.82,248.629 2281.82,93.1086 2022.18,93.1086 2022.18,248.629 \n",
       "  \"/>\n",
       "<polyline clip-path=\"url(#clip820)\" style=\"stroke:#009af9; stroke-linecap:butt; stroke-linejoin:round; stroke-width:4; stroke-opacity:1; fill:none\" points=\"\n",
       "  2045.83,144.949 2187.71,144.949 \n",
       "  \"/>\n",
       "<path clip-path=\"url(#clip820)\" d=\"M2231.86 137.298 L2231.86 141.28 Q2230.06 140.284 2228.23 139.798 Q2226.42 139.289 2224.57 139.289 Q2220.43 139.289 2218.14 141.928 Q2215.84 144.544 2215.84 149.289 Q2215.84 154.034 2218.14 156.673 Q2220.43 159.289 2224.57 159.289 Q2226.42 159.289 2228.23 158.803 Q2230.06 158.293 2231.86 157.298 L2231.86 161.233 Q2230.08 162.067 2228.16 162.483 Q2226.26 162.9 2224.11 162.9 Q2218.25 162.9 2214.8 159.219 Q2211.35 155.539 2211.35 149.289 Q2211.35 142.946 2214.83 139.312 Q2218.32 135.678 2224.39 135.678 Q2226.35 135.678 2228.23 136.095 Q2230.1 136.488 2231.86 137.298 Z\" fill=\"#000000\" fill-rule=\"evenodd\" fill-opacity=\"1\" /><polyline clip-path=\"url(#clip820)\" style=\"stroke:#e26f46; stroke-linecap:butt; stroke-linejoin:round; stroke-width:4; stroke-opacity:1; fill:none\" points=\"\n",
       "  2045.83,196.789 2187.71,196.789 \n",
       "  \"/>\n",
       "<path clip-path=\"url(#clip820)\" d=\"M2215.75 201.129 Q2215.75 205.828 2217.67 208.513 Q2219.62 211.175 2223 211.175 Q2226.38 211.175 2228.32 208.513 Q2230.26 205.828 2230.26 201.129 Q2230.26 196.43 2228.32 193.768 Q2226.38 191.083 2223 191.083 Q2219.62 191.083 2217.67 193.768 Q2215.75 196.43 2215.75 201.129 M2230.26 210.18 Q2228.92 212.495 2226.86 213.629 Q2224.83 214.74 2221.95 214.74 Q2217.26 214.74 2214.29 210.99 Q2211.35 207.24 2211.35 201.129 Q2211.35 195.018 2214.29 191.268 Q2217.26 187.518 2221.95 187.518 Q2224.83 187.518 2226.86 188.652 Q2228.92 189.763 2230.26 192.078 L2230.26 188.143 L2234.52 188.143 L2234.52 223.93 L2230.26 223.93 L2230.26 210.18 Z\" fill=\"#000000\" fill-rule=\"evenodd\" fill-opacity=\"1\" /></svg>\n"
      ]
     },
     "execution_count": 149,
     "metadata": {},
     "output_type": "execute_result"
    }
   ],
   "source": [
    "noise = Matrix([1.0; zeros(T-1)]') # the ϵ shocks are \"noise\" in DifferenceEquations for SciML compatibility\n",
    "x_iv = [0.0, 0.0]  # can pass in a single value rather than a distribution \n",
    "problem = LinearStateSpaceProblem(sol, x_iv, (0, T); noise)\n",
    "plot(solve(problem, DirectIteration()))"
   ]
  },
  {
   "cell_type": "markdown",
   "metadata": {},
   "source": [
    "To demonstrate the composition of gradients between DifferenceEquations and DifferentiableStateSpaceModels lets adapt this function to simulates an impulse with fixed noise and looks at the final observable"
   ]
  },
  {
   "cell_type": "code",
   "execution_count": 182,
   "metadata": {},
   "outputs": [
    {
     "data": {
      "text/plain": [
       "-0.001039731618424578"
      ]
     },
     "execution_count": 182,
     "metadata": {},
     "output_type": "execute_result"
    }
   ],
   "source": [
    "function last_observable(p_d, noise, x_iv; m, p_f, T)\n",
    "    sol = generate_perturbation(m, p_d, p_f)\n",
    "    problem = LinearStateSpaceProblem(sol, x_iv, (0, T);noise, observables_noise = nothing)  # removing observation noise\n",
    "    return solve(problem, DirectIteration()).z[end][2]  # return 2nd argument of last observable\n",
    "end\n",
    "T = 100\n",
    "noise = Matrix([1.0; zeros(T-1)]') # the ϵ shocks are \"noise\" in DifferenceEquations for SciML compatibility\n",
    "x_iv = [0.0, 0.0]  # can pass in a single value rather than a distribution\n",
    "p_f = (ρ = 0.2, δ = 0.02, σ = 0.01, Ω_1 = 0.01) # Fixed parameters\n",
    "p_d = (α = 0.5, β = 0.95) # Pseudo-true values\n",
    "m = model_rbc  # ensure notebook executed above\n",
    "last_observable(p_d, noise, x_iv; m, p_f, T)"
   ]
  },
  {
   "cell_type": "markdown",
   "metadata": {},
   "source": [
    "And, as before, we can calculate gradients with respect to the underlying `p_d` parameters, but also with respect to the noise which will demonstrate a key benefit of these methods, as they can let us do a joint likelihood of the latent variables in cases where they cannot be easily marginalized out (e.g., non-gaussian or nonlinear).  Note that the dimensionality of this gradient is over 100."
   ]
  },
  {
   "cell_type": "code",
   "execution_count": 174,
   "metadata": {},
   "outputs": [
    {
     "ename": "LoadError",
     "evalue": "AssertionError: typeof(observables_noise) <: ZeroMeanDiagNormal",
     "output_type": "error",
     "traceback": [
      "AssertionError: typeof(observables_noise) <: ZeroMeanDiagNormal",
      "",
      "Stacktrace:",
      "  [1] rrule(::typeof(solve), ::LinearStateSpaceProblem{Vector{Float64}, Vector{Float64}, Matrix{Float64}, Tuple{Int64, Int64}, SciMLBase.NullParameters, Matrix{Float64}, ODEFunction{false, DifferenceEquations.var\"#8#14\", UniformScaling{Bool}, Nothing, Nothing, Nothing, Nothing, Nothing, Nothing, Nothing, Nothing, Nothing, Nothing, Vector{Symbol}, Nothing, typeof(SciMLBase.DEFAULT_OBSERVED), Nothing}, Matrix{Float64}, Matrix{Float64}, Matrix{Float64}, Nothing, Nothing, Base.Pairs{Symbol, Union{}, Tuple{}, NamedTuple{(), Tuple{}}}}, ::DirectIteration; kwargs::Base.Pairs{Symbol, Union{}, Tuple{}, NamedTuple{(), Tuple{}}})",
      "    @ DifferenceEquations C:\\Users\\jesse\\.julia\\packages\\DifferenceEquations\\iwnhE\\src\\algorithms\\linear.jl:76",
      "  [2] rrule(::typeof(solve), ::LinearStateSpaceProblem{Vector{Float64}, Vector{Float64}, Matrix{Float64}, Tuple{Int64, Int64}, SciMLBase.NullParameters, Matrix{Float64}, ODEFunction{false, DifferenceEquations.var\"#8#14\", UniformScaling{Bool}, Nothing, Nothing, Nothing, Nothing, Nothing, Nothing, Nothing, Nothing, Nothing, Nothing, Vector{Symbol}, Nothing, typeof(SciMLBase.DEFAULT_OBSERVED), Nothing}, Matrix{Float64}, Matrix{Float64}, Matrix{Float64}, Nothing, Nothing, Base.Pairs{Symbol, Union{}, Tuple{}, NamedTuple{(), Tuple{}}}}, ::DirectIteration)",
      "    @ DifferenceEquations C:\\Users\\jesse\\.julia\\packages\\DifferenceEquations\\iwnhE\\src\\algorithms\\linear.jl:72",
      "  [3] rrule(::Zygote.ZygoteRuleConfig{Zygote.Context}, ::Function, ::LinearStateSpaceProblem{Vector{Float64}, Vector{Float64}, Matrix{Float64}, Tuple{Int64, Int64}, SciMLBase.NullParameters, Matrix{Float64}, ODEFunction{false, DifferenceEquations.var\"#8#14\", UniformScaling{Bool}, Nothing, Nothing, Nothing, Nothing, Nothing, Nothing, Nothing, Nothing, Nothing, Nothing, Vector{Symbol}, Nothing, typeof(SciMLBase.DEFAULT_OBSERVED), Nothing}, Matrix{Float64}, Matrix{Float64}, Matrix{Float64}, Nothing, Nothing, Base.Pairs{Symbol, Union{}, Tuple{}, NamedTuple{(), Tuple{}}}}, ::DirectIteration)",
      "    @ ChainRulesCore C:\\Users\\jesse\\.julia\\packages\\ChainRulesCore\\ctmSK\\src\\rules.jl:134",
      "  [4] chain_rrule",
      "    @ C:\\Users\\jesse\\.julia\\packages\\Zygote\\D7j8v\\src\\compiler\\chainrules.jl:217 [inlined]",
      "  [5] macro expansion",
      "    @ C:\\Users\\jesse\\.julia\\packages\\Zygote\\D7j8v\\src\\compiler\\interface2.jl:0 [inlined]",
      "  [6] _pullback(::Zygote.Context, ::typeof(solve), ::LinearStateSpaceProblem{Vector{Float64}, Vector{Float64}, Matrix{Float64}, Tuple{Int64, Int64}, SciMLBase.NullParameters, Matrix{Float64}, ODEFunction{false, DifferenceEquations.var\"#8#14\", UniformScaling{Bool}, Nothing, Nothing, Nothing, Nothing, Nothing, Nothing, Nothing, Nothing, Nothing, Nothing, Vector{Symbol}, Nothing, typeof(SciMLBase.DEFAULT_OBSERVED), Nothing}, Matrix{Float64}, Matrix{Float64}, Matrix{Float64}, Nothing, Nothing, Base.Pairs{Symbol, Union{}, Tuple{}, NamedTuple{(), Tuple{}}}}, ::DirectIteration)",
      "    @ Zygote C:\\Users\\jesse\\.julia\\packages\\Zygote\\D7j8v\\src\\compiler\\interface2.jl:9",
      "  [7] _pullback",
      "    @ .\\In[173]:4 [inlined]",
      "  [8] _pullback(::Zygote.Context, ::var\"##last_observable#78\", ::PerturbationModel{2, true, Matrix{Int64}, Matrix{Float64}}, ::NamedTuple{(:ρ, :δ, :σ, :Ω_1), NTuple{4, Float64}}, ::Int64, ::typeof(last_observable), ::NamedTuple{(:α, :β), Tuple{Float64, Float64}}, ::Matrix{Float64}, ::Vector{Float64})",
      "    @ Zygote C:\\Users\\jesse\\.julia\\packages\\Zygote\\D7j8v\\src\\compiler\\interface2.jl:0",
      "  [9] _pullback",
      "    @ .\\In[173]:2 [inlined]",
      " [10] _pullback(::Zygote.Context, ::var\"#last_observable##kw\", ::NamedTuple{(:m, :p_f, :T), Tuple{PerturbationModel{2, true, Matrix{Int64}, Matrix{Float64}}, NamedTuple{(:ρ, :δ, :σ, :Ω_1), NTuple{4, Float64}}, Int64}}, ::typeof(last_observable), ::NamedTuple{(:α, :β), Tuple{Float64, Float64}}, ::Matrix{Float64}, ::Vector{Float64})",
      "    @ Zygote C:\\Users\\jesse\\.julia\\packages\\Zygote\\D7j8v\\src\\compiler\\interface2.jl:0",
      " [11] _pullback",
      "    @ .\\In[174]:1 [inlined]",
      " [12] _pullback(::Zygote.Context, ::var\"#79#80\", ::NamedTuple{(:α, :β), Tuple{Float64, Float64}}, ::Matrix{Float64}, ::Vector{Float64})",
      "    @ Zygote C:\\Users\\jesse\\.julia\\packages\\Zygote\\D7j8v\\src\\compiler\\interface2.jl:0",
      " [13] _pullback(::Function, ::NamedTuple{(:α, :β), Tuple{Float64, Float64}}, ::Matrix{Float64}, ::Vector{Float64})",
      "    @ Zygote C:\\Users\\jesse\\.julia\\packages\\Zygote\\D7j8v\\src\\compiler\\interface.jl:34",
      " [14] pullback(::Function, ::NamedTuple{(:α, :β), Tuple{Float64, Float64}}, ::Matrix{Float64}, ::Vararg{Any})",
      "    @ Zygote C:\\Users\\jesse\\.julia\\packages\\Zygote\\D7j8v\\src\\compiler\\interface.jl:40",
      " [15] gradient(::Function, ::NamedTuple{(:α, :β), Tuple{Float64, Float64}}, ::Vararg{Any})",
      "    @ Zygote C:\\Users\\jesse\\.julia\\packages\\Zygote\\D7j8v\\src\\compiler\\interface.jl:75",
      " [16] top-level scope",
      "    @ In[174]:1",
      " [17] eval",
      "    @ .\\boot.jl:373 [inlined]",
      " [18] include_string(mapexpr::typeof(REPL.softscope), mod::Module, code::String, filename::String)",
      "    @ Base .\\loading.jl:1196"
     ]
    }
   ],
   "source": [
    "gradient((p_d, noise, x_iv) -> last_observable(p_d, noise, x_iv; m, p_f, T), p_d, noise, x_iv)"
   ]
  },
  {
   "cell_type": "markdown",
   "metadata": {},
   "source": [
    "## Sneak Peak at SciML Compatable Functionality\n",
    "Finally, there are a variety of features of SciML which are supported.  For example, parallel simulations of ensembles and associated summary statistics"
   ]
  },
  {
   "cell_type": "code",
   "execution_count": 175,
   "metadata": {},
   "outputs": [
    {
     "data": {
      "text/plain": [
       "t: 0:100\n",
       "u: 101-element Vector{Vector{Float64}}:\n",
       " [-0.05598697731119057, -0.0008909662332453935]\n",
       " [-0.014097245571894408, 0.002145537921135401]\n",
       " [0.02973117439264411, 0.0019672757214644412]\n",
       " [0.026563666932748312, 0.0018250797543322905]\n",
       " [0.010988470948292776, 0.0019978954488062296]\n",
       " [0.023576848128376127, 0.0011711400684336541]\n",
       " [0.03260386995676576, -0.0016202749648036334]\n",
       " [0.04220036617781859, -0.0005124373978992264]\n",
       " [0.017437999655830348, 0.0010298430393164961]\n",
       " [0.0022965425503533275, 7.580948505216866e-5]\n",
       " [-0.024053060315015508, -0.005020253695360915]\n",
       " [-0.03249678682513134, 0.001773490957079701]\n",
       " [-0.013417556690023159, -0.001475703757166229]\n",
       " ⋮\n",
       " [0.04502060913846951, -0.0017480148402180284]\n",
       " [0.017795737795281433, 0.00029091063240098755]\n",
       " [-0.0023065963236944204, 0.0006197026935802967]\n",
       " [0.023165621396375555, 0.001765153885564806]\n",
       " [0.003526311520198277, 0.0026905777750219945]\n",
       " [0.03841872954925316, 0.0019209316734803605]\n",
       " [0.063329051872667, 0.0006262868145453487]\n",
       " [-0.009117001980346607, -0.0006975305719177658]\n",
       " [-0.03204749120487772, -0.002702117737772884]\n",
       " [-0.03666205464562621, -0.001667817793942304]\n",
       " [-0.0393268252431775, 0.0002143730889043977]\n",
       " [-0.008712987164658424, 0.0018882632284412818]"
      ]
     },
     "execution_count": 175,
     "metadata": {},
     "output_type": "execute_result"
    }
   ],
   "source": [
    "# Simulate multiple trajectories with T observations\n",
    "trajectories = 40\n",
    "x_iv = MvNormal(sol.x_ergodic_var)\n",
    "problem = LinearStateSpaceProblem(sol, x_iv, (0, T))\n",
    "\n",
    "# Solve multiple trajectories and plot an ensemble\n",
    "ensemble_results = solve(EnsembleProblem(problem), DirectIteration(), EnsembleThreads();\n",
    "                 trajectories)\n",
    "summ = EnsembleSummary(ensemble_results)  # see SciML documentation.  Calculates median and other quantles automatically.\n",
    "summ.med # median values for the \"x\" simulated ensembles"
   ]
  },
  {
   "cell_type": "code",
   "execution_count": 176,
   "metadata": {},
   "outputs": [
    {
     "data": {
      "image/svg+xml": [
       "<?xml version=\"1.0\" encoding=\"utf-8\"?>\n",
       "<svg xmlns=\"http://www.w3.org/2000/svg\" xmlns:xlink=\"http://www.w3.org/1999/xlink\" width=\"600\" height=\"400\" viewBox=\"0 0 2400 1600\">\n",
       "<defs>\n",
       "  <clipPath id=\"clip980\">\n",
       "    <rect x=\"0\" y=\"0\" width=\"2400\" height=\"1600\"/>\n",
       "  </clipPath>\n",
       "</defs>\n",
       "<path clip-path=\"url(#clip980)\" d=\"\n",
       "M0 1600 L2400 1600 L2400 0 L0 0  Z\n",
       "  \" fill=\"#ffffff\" fill-rule=\"evenodd\" fill-opacity=\"1\"/>\n",
       "<defs>\n",
       "  <clipPath id=\"clip981\">\n",
       "    <rect x=\"480\" y=\"0\" width=\"1681\" height=\"1600\"/>\n",
       "  </clipPath>\n",
       "</defs>\n",
       "<path clip-path=\"url(#clip980)\" d=\"\n",
       "M224.098 1486.45 L2352.76 1486.45 L2352.76 47.2441 L224.098 47.2441  Z\n",
       "  \" fill=\"#ffffff\" fill-rule=\"evenodd\" fill-opacity=\"1\"/>\n",
       "<defs>\n",
       "  <clipPath id=\"clip982\">\n",
       "    <rect x=\"224\" y=\"47\" width=\"2130\" height=\"1440\"/>\n",
       "  </clipPath>\n",
       "</defs>\n",
       "<polyline clip-path=\"url(#clip982)\" style=\"stroke:#000000; stroke-linecap:butt; stroke-linejoin:round; stroke-width:2; stroke-opacity:0.1; fill:none\" points=\"\n",
       "  284.343,1486.45 284.343,47.2441 \n",
       "  \"/>\n",
       "<polyline clip-path=\"url(#clip982)\" style=\"stroke:#000000; stroke-linecap:butt; stroke-linejoin:round; stroke-width:2; stroke-opacity:0.1; fill:none\" points=\"\n",
       "  786.385,1486.45 786.385,47.2441 \n",
       "  \"/>\n",
       "<polyline clip-path=\"url(#clip982)\" style=\"stroke:#000000; stroke-linecap:butt; stroke-linejoin:round; stroke-width:2; stroke-opacity:0.1; fill:none\" points=\"\n",
       "  1288.43,1486.45 1288.43,47.2441 \n",
       "  \"/>\n",
       "<polyline clip-path=\"url(#clip982)\" style=\"stroke:#000000; stroke-linecap:butt; stroke-linejoin:round; stroke-width:2; stroke-opacity:0.1; fill:none\" points=\"\n",
       "  1790.47,1486.45 1790.47,47.2441 \n",
       "  \"/>\n",
       "<polyline clip-path=\"url(#clip982)\" style=\"stroke:#000000; stroke-linecap:butt; stroke-linejoin:round; stroke-width:2; stroke-opacity:0.1; fill:none\" points=\"\n",
       "  2292.51,1486.45 2292.51,47.2441 \n",
       "  \"/>\n",
       "<polyline clip-path=\"url(#clip980)\" style=\"stroke:#000000; stroke-linecap:butt; stroke-linejoin:round; stroke-width:4; stroke-opacity:1; fill:none\" points=\"\n",
       "  224.098,1486.45 2352.76,1486.45 \n",
       "  \"/>\n",
       "<polyline clip-path=\"url(#clip980)\" style=\"stroke:#000000; stroke-linecap:butt; stroke-linejoin:round; stroke-width:4; stroke-opacity:1; fill:none\" points=\"\n",
       "  284.343,1486.45 284.343,1467.55 \n",
       "  \"/>\n",
       "<polyline clip-path=\"url(#clip980)\" style=\"stroke:#000000; stroke-linecap:butt; stroke-linejoin:round; stroke-width:4; stroke-opacity:1; fill:none\" points=\"\n",
       "  786.385,1486.45 786.385,1467.55 \n",
       "  \"/>\n",
       "<polyline clip-path=\"url(#clip980)\" style=\"stroke:#000000; stroke-linecap:butt; stroke-linejoin:round; stroke-width:4; stroke-opacity:1; fill:none\" points=\"\n",
       "  1288.43,1486.45 1288.43,1467.55 \n",
       "  \"/>\n",
       "<polyline clip-path=\"url(#clip980)\" style=\"stroke:#000000; stroke-linecap:butt; stroke-linejoin:round; stroke-width:4; stroke-opacity:1; fill:none\" points=\"\n",
       "  1790.47,1486.45 1790.47,1467.55 \n",
       "  \"/>\n",
       "<polyline clip-path=\"url(#clip980)\" style=\"stroke:#000000; stroke-linecap:butt; stroke-linejoin:round; stroke-width:4; stroke-opacity:1; fill:none\" points=\"\n",
       "  2292.51,1486.45 2292.51,1467.55 \n",
       "  \"/>\n",
       "<path clip-path=\"url(#clip980)\" d=\"M284.343 1517.37 Q280.732 1517.37 278.903 1520.93 Q277.098 1524.47 277.098 1531.6 Q277.098 1538.71 278.903 1542.27 Q280.732 1545.82 284.343 1545.82 Q287.977 1545.82 289.783 1542.27 Q291.611 1538.71 291.611 1531.6 Q291.611 1524.47 289.783 1520.93 Q287.977 1517.37 284.343 1517.37 M284.343 1513.66 Q290.153 1513.66 293.209 1518.27 Q296.287 1522.85 296.287 1531.6 Q296.287 1540.33 293.209 1544.94 Q290.153 1549.52 284.343 1549.52 Q278.533 1549.52 275.454 1544.94 Q272.399 1540.33 272.399 1531.6 Q272.399 1522.85 275.454 1518.27 Q278.533 1513.66 284.343 1513.66 Z\" fill=\"#000000\" fill-rule=\"evenodd\" fill-opacity=\"1\" /><path clip-path=\"url(#clip980)\" d=\"M765.656 1544.91 L781.975 1544.91 L781.975 1548.85 L760.031 1548.85 L760.031 1544.91 Q762.693 1542.16 767.276 1537.53 Q771.883 1532.88 773.063 1531.53 Q775.309 1529.01 776.188 1527.27 Q777.091 1525.51 777.091 1523.82 Q777.091 1521.07 775.147 1519.33 Q773.225 1517.6 770.123 1517.6 Q767.924 1517.6 765.471 1518.36 Q763.04 1519.13 760.262 1520.68 L760.262 1515.95 Q763.086 1514.82 765.54 1514.24 Q767.994 1513.66 770.031 1513.66 Q775.401 1513.66 778.596 1516.35 Q781.79 1519.03 781.79 1523.52 Q781.79 1525.65 780.98 1527.57 Q780.193 1529.47 778.086 1532.07 Q777.508 1532.74 774.406 1535.95 Q771.304 1539.15 765.656 1544.91 Z\" fill=\"#000000\" fill-rule=\"evenodd\" fill-opacity=\"1\" /><path clip-path=\"url(#clip980)\" d=\"M791.836 1514.29 L810.193 1514.29 L810.193 1518.22 L796.119 1518.22 L796.119 1526.7 Q797.137 1526.35 798.156 1526.19 Q799.174 1526 800.193 1526 Q805.98 1526 809.359 1529.17 Q812.739 1532.34 812.739 1537.76 Q812.739 1543.34 809.267 1546.44 Q805.795 1549.52 799.475 1549.52 Q797.299 1549.52 795.031 1549.15 Q792.785 1548.78 790.378 1548.04 L790.378 1543.34 Q792.461 1544.47 794.683 1545.03 Q796.906 1545.58 799.383 1545.58 Q803.387 1545.58 805.725 1543.48 Q808.063 1541.37 808.063 1537.76 Q808.063 1534.15 805.725 1532.04 Q803.387 1529.94 799.383 1529.94 Q797.508 1529.94 795.633 1530.35 Q793.781 1530.77 791.836 1531.65 L791.836 1514.29 Z\" fill=\"#000000\" fill-rule=\"evenodd\" fill-opacity=\"1\" /><path clip-path=\"url(#clip980)\" d=\"M1263.13 1514.29 L1281.48 1514.29 L1281.48 1518.22 L1267.41 1518.22 L1267.41 1526.7 Q1268.43 1526.35 1269.45 1526.19 Q1270.46 1526 1271.48 1526 Q1277.27 1526 1280.65 1529.17 Q1284.03 1532.34 1284.03 1537.76 Q1284.03 1543.34 1280.56 1546.44 Q1277.08 1549.52 1270.76 1549.52 Q1268.59 1549.52 1266.32 1549.15 Q1264.08 1548.78 1261.67 1548.04 L1261.67 1543.34 Q1263.75 1544.47 1265.97 1545.03 Q1268.2 1545.58 1270.67 1545.58 Q1274.68 1545.58 1277.01 1543.48 Q1279.35 1541.37 1279.35 1537.76 Q1279.35 1534.15 1277.01 1532.04 Q1274.68 1529.94 1270.67 1529.94 Q1268.8 1529.94 1266.92 1530.35 Q1265.07 1530.77 1263.13 1531.65 L1263.13 1514.29 Z\" fill=\"#000000\" fill-rule=\"evenodd\" fill-opacity=\"1\" /><path clip-path=\"url(#clip980)\" d=\"M1303.24 1517.37 Q1299.63 1517.37 1297.8 1520.93 Q1296 1524.47 1296 1531.6 Q1296 1538.71 1297.8 1542.27 Q1299.63 1545.82 1303.24 1545.82 Q1306.88 1545.82 1308.68 1542.27 Q1310.51 1538.71 1310.51 1531.6 Q1310.51 1524.47 1308.68 1520.93 Q1306.88 1517.37 1303.24 1517.37 M1303.24 1513.66 Q1309.05 1513.66 1312.11 1518.27 Q1315.19 1522.85 1315.19 1531.6 Q1315.19 1540.33 1312.11 1544.94 Q1309.05 1549.52 1303.24 1549.52 Q1297.43 1549.52 1294.35 1544.94 Q1291.3 1540.33 1291.3 1531.6 Q1291.3 1522.85 1294.35 1518.27 Q1297.43 1513.66 1303.24 1513.66 Z\" fill=\"#000000\" fill-rule=\"evenodd\" fill-opacity=\"1\" /><path clip-path=\"url(#clip980)\" d=\"M1764.32 1514.29 L1786.55 1514.29 L1786.55 1516.28 L1774 1548.85 L1769.11 1548.85 L1780.92 1518.22 L1764.32 1518.22 L1764.32 1514.29 Z\" fill=\"#000000\" fill-rule=\"evenodd\" fill-opacity=\"1\" /><path clip-path=\"url(#clip980)\" d=\"M1795.71 1514.29 L1814.07 1514.29 L1814.07 1518.22 L1799.99 1518.22 L1799.99 1526.7 Q1801.01 1526.35 1802.03 1526.19 Q1803.05 1526 1804.07 1526 Q1809.86 1526 1813.23 1529.17 Q1816.61 1532.34 1816.61 1537.76 Q1816.61 1543.34 1813.14 1546.44 Q1809.67 1549.52 1803.35 1549.52 Q1801.17 1549.52 1798.91 1549.15 Q1796.66 1548.78 1794.25 1548.04 L1794.25 1543.34 Q1796.34 1544.47 1798.56 1545.03 Q1800.78 1545.58 1803.26 1545.58 Q1807.26 1545.58 1809.6 1543.48 Q1811.94 1541.37 1811.94 1537.76 Q1811.94 1534.15 1809.6 1532.04 Q1807.26 1529.94 1803.26 1529.94 Q1801.38 1529.94 1799.51 1530.35 Q1797.66 1530.77 1795.71 1531.65 L1795.71 1514.29 Z\" fill=\"#000000\" fill-rule=\"evenodd\" fill-opacity=\"1\" /><path clip-path=\"url(#clip980)\" d=\"M2252.12 1544.91 L2259.76 1544.91 L2259.76 1518.55 L2251.45 1520.21 L2251.45 1515.95 L2259.71 1514.29 L2264.39 1514.29 L2264.39 1544.91 L2272.02 1544.91 L2272.02 1548.85 L2252.12 1548.85 L2252.12 1544.91 Z\" fill=\"#000000\" fill-rule=\"evenodd\" fill-opacity=\"1\" /><path clip-path=\"url(#clip980)\" d=\"M2291.47 1517.37 Q2287.86 1517.37 2286.03 1520.93 Q2284.22 1524.47 2284.22 1531.6 Q2284.22 1538.71 2286.03 1542.27 Q2287.86 1545.82 2291.47 1545.82 Q2295.1 1545.82 2296.91 1542.27 Q2298.74 1538.71 2298.74 1531.6 Q2298.74 1524.47 2296.91 1520.93 Q2295.1 1517.37 2291.47 1517.37 M2291.47 1513.66 Q2297.28 1513.66 2300.33 1518.27 Q2303.41 1522.85 2303.41 1531.6 Q2303.41 1540.33 2300.33 1544.94 Q2297.28 1549.52 2291.47 1549.52 Q2285.66 1549.52 2282.58 1544.94 Q2279.52 1540.33 2279.52 1531.6 Q2279.52 1522.85 2282.58 1518.27 Q2285.66 1513.66 2291.47 1513.66 Z\" fill=\"#000000\" fill-rule=\"evenodd\" fill-opacity=\"1\" /><path clip-path=\"url(#clip980)\" d=\"M2321.63 1517.37 Q2318.02 1517.37 2316.19 1520.93 Q2314.39 1524.47 2314.39 1531.6 Q2314.39 1538.71 2316.19 1542.27 Q2318.02 1545.82 2321.63 1545.82 Q2325.27 1545.82 2327.07 1542.27 Q2328.9 1538.71 2328.9 1531.6 Q2328.9 1524.47 2327.07 1520.93 Q2325.27 1517.37 2321.63 1517.37 M2321.63 1513.66 Q2327.44 1513.66 2330.5 1518.27 Q2333.58 1522.85 2333.58 1531.6 Q2333.58 1540.33 2330.5 1544.94 Q2327.44 1549.52 2321.63 1549.52 Q2315.82 1549.52 2312.74 1544.94 Q2309.69 1540.33 2309.69 1531.6 Q2309.69 1522.85 2312.74 1518.27 Q2315.82 1513.66 2321.63 1513.66 Z\" fill=\"#000000\" fill-rule=\"evenodd\" fill-opacity=\"1\" /><polyline clip-path=\"url(#clip982)\" style=\"stroke:#000000; stroke-linecap:butt; stroke-linejoin:round; stroke-width:2; stroke-opacity:0.1; fill:none\" points=\"\n",
       "  224.098,1357.37 2352.76,1357.37 \n",
       "  \"/>\n",
       "<polyline clip-path=\"url(#clip982)\" style=\"stroke:#000000; stroke-linecap:butt; stroke-linejoin:round; stroke-width:2; stroke-opacity:0.1; fill:none\" points=\"\n",
       "  224.098,1065.34 2352.76,1065.34 \n",
       "  \"/>\n",
       "<polyline clip-path=\"url(#clip982)\" style=\"stroke:#000000; stroke-linecap:butt; stroke-linejoin:round; stroke-width:2; stroke-opacity:0.1; fill:none\" points=\"\n",
       "  224.098,773.308 2352.76,773.308 \n",
       "  \"/>\n",
       "<polyline clip-path=\"url(#clip982)\" style=\"stroke:#000000; stroke-linecap:butt; stroke-linejoin:round; stroke-width:2; stroke-opacity:0.1; fill:none\" points=\"\n",
       "  224.098,481.274 2352.76,481.274 \n",
       "  \"/>\n",
       "<polyline clip-path=\"url(#clip982)\" style=\"stroke:#000000; stroke-linecap:butt; stroke-linejoin:round; stroke-width:2; stroke-opacity:0.1; fill:none\" points=\"\n",
       "  224.098,189.24 2352.76,189.24 \n",
       "  \"/>\n",
       "<polyline clip-path=\"url(#clip980)\" style=\"stroke:#000000; stroke-linecap:butt; stroke-linejoin:round; stroke-width:4; stroke-opacity:1; fill:none\" points=\"\n",
       "  224.098,1486.45 224.098,47.2441 \n",
       "  \"/>\n",
       "<polyline clip-path=\"url(#clip980)\" style=\"stroke:#000000; stroke-linecap:butt; stroke-linejoin:round; stroke-width:4; stroke-opacity:1; fill:none\" points=\"\n",
       "  224.098,1357.37 242.996,1357.37 \n",
       "  \"/>\n",
       "<polyline clip-path=\"url(#clip980)\" style=\"stroke:#000000; stroke-linecap:butt; stroke-linejoin:round; stroke-width:4; stroke-opacity:1; fill:none\" points=\"\n",
       "  224.098,1065.34 242.996,1065.34 \n",
       "  \"/>\n",
       "<polyline clip-path=\"url(#clip980)\" style=\"stroke:#000000; stroke-linecap:butt; stroke-linejoin:round; stroke-width:4; stroke-opacity:1; fill:none\" points=\"\n",
       "  224.098,773.308 242.996,773.308 \n",
       "  \"/>\n",
       "<polyline clip-path=\"url(#clip980)\" style=\"stroke:#000000; stroke-linecap:butt; stroke-linejoin:round; stroke-width:4; stroke-opacity:1; fill:none\" points=\"\n",
       "  224.098,481.274 242.996,481.274 \n",
       "  \"/>\n",
       "<polyline clip-path=\"url(#clip980)\" style=\"stroke:#000000; stroke-linecap:butt; stroke-linejoin:round; stroke-width:4; stroke-opacity:1; fill:none\" points=\"\n",
       "  224.098,189.24 242.996,189.24 \n",
       "  \"/>\n",
       "<path clip-path=\"url(#clip980)\" d=\"M50.9921 1357.83 L80.6679 1357.83 L80.6679 1361.76 L50.9921 1361.76 L50.9921 1357.83 Z\" fill=\"#000000\" fill-rule=\"evenodd\" fill-opacity=\"1\" /><path clip-path=\"url(#clip980)\" d=\"M100.76 1343.17 Q97.1493 1343.17 95.3206 1346.74 Q93.515 1350.28 93.515 1357.41 Q93.515 1364.52 95.3206 1368.08 Q97.1493 1371.62 100.76 1371.62 Q104.395 1371.62 106.2 1368.08 Q108.029 1364.52 108.029 1357.41 Q108.029 1350.28 106.2 1346.74 Q104.395 1343.17 100.76 1343.17 M100.76 1339.47 Q106.571 1339.47 109.626 1344.08 Q112.705 1348.66 112.705 1357.41 Q112.705 1366.14 109.626 1370.74 Q106.571 1375.33 100.76 1375.33 Q94.9502 1375.33 91.8715 1370.74 Q88.816 1366.14 88.816 1357.41 Q88.816 1348.66 91.8715 1344.08 Q94.9502 1339.47 100.76 1339.47 Z\" fill=\"#000000\" fill-rule=\"evenodd\" fill-opacity=\"1\" /><path clip-path=\"url(#clip980)\" d=\"M120.922 1368.78 L125.807 1368.78 L125.807 1374.65 L120.922 1374.65 L120.922 1368.78 Z\" fill=\"#000000\" fill-rule=\"evenodd\" fill-opacity=\"1\" /><path clip-path=\"url(#clip980)\" d=\"M136.038 1340.09 L154.394 1340.09 L154.394 1344.03 L140.32 1344.03 L140.32 1352.5 Q141.339 1352.16 142.357 1351.99 Q143.376 1351.81 144.394 1351.81 Q150.181 1351.81 153.561 1354.98 Q156.941 1358.15 156.941 1363.57 Q156.941 1369.15 153.468 1372.25 Q149.996 1375.33 143.677 1375.33 Q141.501 1375.33 139.232 1374.96 Q136.987 1374.59 134.58 1373.84 L134.58 1369.15 Q136.663 1370.28 138.885 1370.84 Q141.107 1371.39 143.584 1371.39 Q147.589 1371.39 149.927 1369.28 Q152.265 1367.18 152.265 1363.57 Q152.265 1359.96 149.927 1357.85 Q147.589 1355.74 143.584 1355.74 Q141.709 1355.74 139.834 1356.16 Q137.982 1356.58 136.038 1357.46 L136.038 1340.09 Z\" fill=\"#000000\" fill-rule=\"evenodd\" fill-opacity=\"1\" /><path clip-path=\"url(#clip980)\" d=\"M176.153 1343.17 Q172.542 1343.17 170.714 1346.74 Q168.908 1350.28 168.908 1357.41 Q168.908 1364.52 170.714 1368.08 Q172.542 1371.62 176.153 1371.62 Q179.788 1371.62 181.593 1368.08 Q183.422 1364.52 183.422 1357.41 Q183.422 1350.28 181.593 1346.74 Q179.788 1343.17 176.153 1343.17 M176.153 1339.47 Q181.964 1339.47 185.019 1344.08 Q188.098 1348.66 188.098 1357.41 Q188.098 1366.14 185.019 1370.74 Q181.964 1375.33 176.153 1375.33 Q170.343 1375.33 167.265 1370.74 Q164.209 1366.14 164.209 1357.41 Q164.209 1348.66 167.265 1344.08 Q170.343 1339.47 176.153 1339.47 Z\" fill=\"#000000\" fill-rule=\"evenodd\" fill-opacity=\"1\" /><path clip-path=\"url(#clip980)\" d=\"M51.9875 1065.79 L81.6633 1065.79 L81.6633 1069.73 L51.9875 1069.73 L51.9875 1065.79 Z\" fill=\"#000000\" fill-rule=\"evenodd\" fill-opacity=\"1\" /><path clip-path=\"url(#clip980)\" d=\"M101.756 1051.14 Q98.1447 1051.14 96.316 1054.7 Q94.5104 1058.25 94.5104 1065.38 Q94.5104 1072.48 96.316 1076.05 Q98.1447 1079.59 101.756 1079.59 Q105.39 1079.59 107.196 1076.05 Q109.024 1072.48 109.024 1065.38 Q109.024 1058.25 107.196 1054.7 Q105.39 1051.14 101.756 1051.14 M101.756 1047.44 Q107.566 1047.44 110.621 1052.04 Q113.7 1056.63 113.7 1065.38 Q113.7 1074.1 110.621 1078.71 Q107.566 1083.29 101.756 1083.29 Q95.9456 1083.29 92.8669 1078.71 Q89.8114 1074.1 89.8114 1065.38 Q89.8114 1056.63 92.8669 1052.04 Q95.9456 1047.44 101.756 1047.44 Z\" fill=\"#000000\" fill-rule=\"evenodd\" fill-opacity=\"1\" /><path clip-path=\"url(#clip980)\" d=\"M121.918 1076.74 L126.802 1076.74 L126.802 1082.62 L121.918 1082.62 L121.918 1076.74 Z\" fill=\"#000000\" fill-rule=\"evenodd\" fill-opacity=\"1\" /><path clip-path=\"url(#clip980)\" d=\"M141.015 1078.69 L157.334 1078.69 L157.334 1082.62 L135.39 1082.62 L135.39 1078.69 Q138.052 1075.93 142.635 1071.3 Q147.242 1066.65 148.422 1065.31 Q150.668 1062.78 151.547 1061.05 Q152.45 1059.29 152.45 1057.6 Q152.45 1054.84 150.505 1053.11 Q148.584 1051.37 145.482 1051.37 Q143.283 1051.37 140.83 1052.14 Q138.399 1052.9 135.621 1054.45 L135.621 1049.73 Q138.445 1048.59 140.899 1048.02 Q143.353 1047.44 145.39 1047.44 Q150.76 1047.44 153.955 1050.12 Q157.149 1052.81 157.149 1057.3 Q157.149 1059.43 156.339 1061.35 Q155.552 1063.25 153.445 1065.84 Q152.867 1066.51 149.765 1069.73 Q146.663 1072.92 141.015 1078.69 Z\" fill=\"#000000\" fill-rule=\"evenodd\" fill-opacity=\"1\" /><path clip-path=\"url(#clip980)\" d=\"M167.195 1048.06 L185.552 1048.06 L185.552 1052 L171.478 1052 L171.478 1060.47 Q172.496 1060.12 173.515 1059.96 Q174.533 1059.77 175.552 1059.77 Q181.339 1059.77 184.718 1062.95 Q188.098 1066.12 188.098 1071.53 Q188.098 1077.11 184.626 1080.21 Q181.153 1083.29 174.834 1083.29 Q172.658 1083.29 170.39 1082.92 Q168.144 1082.55 165.737 1081.81 L165.737 1077.11 Q167.82 1078.25 170.042 1078.8 Q172.265 1079.36 174.741 1079.36 Q178.746 1079.36 181.084 1077.25 Q183.422 1075.14 183.422 1071.53 Q183.422 1067.92 181.084 1065.82 Q178.746 1063.71 174.741 1063.71 Q172.866 1063.71 170.991 1064.13 Q169.14 1064.54 167.195 1065.42 L167.195 1048.06 Z\" fill=\"#000000\" fill-rule=\"evenodd\" fill-opacity=\"1\" /><path clip-path=\"url(#clip980)\" d=\"M100.76 759.106 Q97.1493 759.106 95.3206 762.671 Q93.515 766.213 93.515 773.342 Q93.515 780.449 95.3206 784.014 Q97.1493 787.555 100.76 787.555 Q104.395 787.555 106.2 784.014 Q108.029 780.449 108.029 773.342 Q108.029 766.213 106.2 762.671 Q104.395 759.106 100.76 759.106 M100.76 755.403 Q106.571 755.403 109.626 760.009 Q112.705 764.592 112.705 773.342 Q112.705 782.069 109.626 786.676 Q106.571 791.259 100.76 791.259 Q94.9502 791.259 91.8715 786.676 Q88.816 782.069 88.816 773.342 Q88.816 764.592 91.8715 760.009 Q94.9502 755.403 100.76 755.403 Z\" fill=\"#000000\" fill-rule=\"evenodd\" fill-opacity=\"1\" /><path clip-path=\"url(#clip980)\" d=\"M120.922 784.708 L125.807 784.708 L125.807 790.588 L120.922 790.588 L120.922 784.708 Z\" fill=\"#000000\" fill-rule=\"evenodd\" fill-opacity=\"1\" /><path clip-path=\"url(#clip980)\" d=\"M145.992 759.106 Q142.381 759.106 140.552 762.671 Q138.746 766.213 138.746 773.342 Q138.746 780.449 140.552 784.014 Q142.381 787.555 145.992 787.555 Q149.626 787.555 151.431 784.014 Q153.26 780.449 153.26 773.342 Q153.26 766.213 151.431 762.671 Q149.626 759.106 145.992 759.106 M145.992 755.403 Q151.802 755.403 154.857 760.009 Q157.936 764.592 157.936 773.342 Q157.936 782.069 154.857 786.676 Q151.802 791.259 145.992 791.259 Q140.181 791.259 137.103 786.676 Q134.047 782.069 134.047 773.342 Q134.047 764.592 137.103 760.009 Q140.181 755.403 145.992 755.403 Z\" fill=\"#000000\" fill-rule=\"evenodd\" fill-opacity=\"1\" /><path clip-path=\"url(#clip980)\" d=\"M176.153 759.106 Q172.542 759.106 170.714 762.671 Q168.908 766.213 168.908 773.342 Q168.908 780.449 170.714 784.014 Q172.542 787.555 176.153 787.555 Q179.788 787.555 181.593 784.014 Q183.422 780.449 183.422 773.342 Q183.422 766.213 181.593 762.671 Q179.788 759.106 176.153 759.106 M176.153 755.403 Q181.964 755.403 185.019 760.009 Q188.098 764.592 188.098 773.342 Q188.098 782.069 185.019 786.676 Q181.964 791.259 176.153 791.259 Q170.343 791.259 167.265 786.676 Q164.209 782.069 164.209 773.342 Q164.209 764.592 167.265 760.009 Q170.343 755.403 176.153 755.403 Z\" fill=\"#000000\" fill-rule=\"evenodd\" fill-opacity=\"1\" /><path clip-path=\"url(#clip980)\" d=\"M101.756 467.073 Q98.1447 467.073 96.316 470.638 Q94.5104 474.179 94.5104 481.309 Q94.5104 488.415 96.316 491.98 Q98.1447 495.522 101.756 495.522 Q105.39 495.522 107.196 491.98 Q109.024 488.415 109.024 481.309 Q109.024 474.179 107.196 470.638 Q105.39 467.073 101.756 467.073 M101.756 463.369 Q107.566 463.369 110.621 467.976 Q113.7 472.559 113.7 481.309 Q113.7 490.036 110.621 494.642 Q107.566 499.225 101.756 499.225 Q95.9456 499.225 92.8669 494.642 Q89.8114 490.036 89.8114 481.309 Q89.8114 472.559 92.8669 467.976 Q95.9456 463.369 101.756 463.369 Z\" fill=\"#000000\" fill-rule=\"evenodd\" fill-opacity=\"1\" /><path clip-path=\"url(#clip980)\" d=\"M121.918 492.674 L126.802 492.674 L126.802 498.554 L121.918 498.554 L121.918 492.674 Z\" fill=\"#000000\" fill-rule=\"evenodd\" fill-opacity=\"1\" /><path clip-path=\"url(#clip980)\" d=\"M141.015 494.619 L157.334 494.619 L157.334 498.554 L135.39 498.554 L135.39 494.619 Q138.052 491.864 142.635 487.235 Q147.242 482.582 148.422 481.239 Q150.668 478.716 151.547 476.98 Q152.45 475.221 152.45 473.531 Q152.45 470.776 150.505 469.04 Q148.584 467.304 145.482 467.304 Q143.283 467.304 140.83 468.068 Q138.399 468.832 135.621 470.383 L135.621 465.661 Q138.445 464.526 140.899 463.948 Q143.353 463.369 145.39 463.369 Q150.76 463.369 153.955 466.054 Q157.149 468.739 157.149 473.23 Q157.149 475.36 156.339 477.281 Q155.552 479.179 153.445 481.772 Q152.867 482.443 149.765 485.661 Q146.663 488.855 141.015 494.619 Z\" fill=\"#000000\" fill-rule=\"evenodd\" fill-opacity=\"1\" /><path clip-path=\"url(#clip980)\" d=\"M167.195 463.994 L185.552 463.994 L185.552 467.929 L171.478 467.929 L171.478 476.401 Q172.496 476.054 173.515 475.892 Q174.533 475.707 175.552 475.707 Q181.339 475.707 184.718 478.878 Q188.098 482.05 188.098 487.466 Q188.098 493.045 184.626 496.147 Q181.153 499.225 174.834 499.225 Q172.658 499.225 170.39 498.855 Q168.144 498.485 165.737 497.744 L165.737 493.045 Q167.82 494.179 170.042 494.735 Q172.265 495.29 174.741 495.29 Q178.746 495.29 181.084 493.184 Q183.422 491.077 183.422 487.466 Q183.422 483.855 181.084 481.749 Q178.746 479.642 174.741 479.642 Q172.866 479.642 170.991 480.059 Q169.14 480.475 167.195 481.355 L167.195 463.994 Z\" fill=\"#000000\" fill-rule=\"evenodd\" fill-opacity=\"1\" /><path clip-path=\"url(#clip980)\" d=\"M100.76 175.039 Q97.1493 175.039 95.3206 178.604 Q93.515 182.146 93.515 189.275 Q93.515 196.382 95.3206 199.946 Q97.1493 203.488 100.76 203.488 Q104.395 203.488 106.2 199.946 Q108.029 196.382 108.029 189.275 Q108.029 182.146 106.2 178.604 Q104.395 175.039 100.76 175.039 M100.76 171.335 Q106.571 171.335 109.626 175.942 Q112.705 180.525 112.705 189.275 Q112.705 198.002 109.626 202.608 Q106.571 207.192 100.76 207.192 Q94.9502 207.192 91.8715 202.608 Q88.816 198.002 88.816 189.275 Q88.816 180.525 91.8715 175.942 Q94.9502 171.335 100.76 171.335 Z\" fill=\"#000000\" fill-rule=\"evenodd\" fill-opacity=\"1\" /><path clip-path=\"url(#clip980)\" d=\"M120.922 200.641 L125.807 200.641 L125.807 206.52 L120.922 206.52 L120.922 200.641 Z\" fill=\"#000000\" fill-rule=\"evenodd\" fill-opacity=\"1\" /><path clip-path=\"url(#clip980)\" d=\"M136.038 171.96 L154.394 171.96 L154.394 175.896 L140.32 175.896 L140.32 184.368 Q141.339 184.021 142.357 183.859 Q143.376 183.673 144.394 183.673 Q150.181 183.673 153.561 186.845 Q156.941 190.016 156.941 195.433 Q156.941 201.011 153.468 204.113 Q149.996 207.192 143.677 207.192 Q141.501 207.192 139.232 206.821 Q136.987 206.451 134.58 205.71 L134.58 201.011 Q136.663 202.146 138.885 202.701 Q141.107 203.257 143.584 203.257 Q147.589 203.257 149.927 201.15 Q152.265 199.044 152.265 195.433 Q152.265 191.821 149.927 189.715 Q147.589 187.609 143.584 187.609 Q141.709 187.609 139.834 188.025 Q137.982 188.442 136.038 189.321 L136.038 171.96 Z\" fill=\"#000000\" fill-rule=\"evenodd\" fill-opacity=\"1\" /><path clip-path=\"url(#clip980)\" d=\"M176.153 175.039 Q172.542 175.039 170.714 178.604 Q168.908 182.146 168.908 189.275 Q168.908 196.382 170.714 199.946 Q172.542 203.488 176.153 203.488 Q179.788 203.488 181.593 199.946 Q183.422 196.382 183.422 189.275 Q183.422 182.146 181.593 178.604 Q179.788 175.039 176.153 175.039 M176.153 171.335 Q181.964 171.335 185.019 175.942 Q188.098 180.525 188.098 189.275 Q188.098 198.002 185.019 202.608 Q181.964 207.192 176.153 207.192 Q170.343 207.192 167.265 202.608 Q164.209 198.002 164.209 189.275 Q164.209 180.525 167.265 175.942 Q170.343 171.335 176.153 171.335 Z\" fill=\"#000000\" fill-rule=\"evenodd\" fill-opacity=\"1\" /><path clip-path=\"url(#clip982)\" d=\"\n",
       "M284.343 1331.34 L304.425 1326.89 L324.506 1312.14 L344.588 1357.02 L364.67 1353.37 L384.751 1261.8 L404.833 1326.99 L424.915 1398.85 L444.996 1445.72 L465.078 1390.71 \n",
       "  L485.16 1370.58 L505.241 1344.8 L525.323 1372.5 L545.405 1338.44 L565.486 1359.23 L585.568 1287.77 L605.65 1223.32 L625.731 1262.6 L645.813 1334.2 L665.895 1392.75 \n",
       "  L685.977 1342.03 L706.058 1280.02 L726.14 1243.69 L746.222 1210.7 L766.303 1124.03 L786.385 1162.03 L806.467 1162.28 L826.548 1117.61 L846.63 1190.75 L866.712 1165.67 \n",
       "  L886.793 1114.7 L906.875 1245.29 L926.957 1171.49 L947.038 1190.38 L967.12 1173.7 L987.202 1181.86 L1007.28 1150.03 L1027.37 1115.15 L1047.45 1097.53 L1067.53 1134.82 \n",
       "  L1087.61 1129.57 L1107.69 1148.84 L1127.77 1127.66 L1147.86 1116.09 L1167.94 1156.93 L1188.02 1049.67 L1208.1 995.257 L1228.18 1027.61 L1248.26 1001.59 L1268.35 977.533 \n",
       "  L1288.43 1046.64 L1308.51 1083.05 L1328.59 1107.39 L1348.67 1175.81 L1368.75 1105.14 L1388.84 1116.67 L1408.92 1105.61 L1429 1106.57 L1449.08 1185.75 L1469.16 1079.1 \n",
       "  L1489.24 1087.76 L1509.33 1084.29 L1529.41 1124.66 L1549.49 1166.98 L1569.57 1202.31 L1589.65 1139.27 L1609.73 1168.17 L1629.82 1187.5 L1649.9 1191.94 L1669.98 1229.44 \n",
       "  L1690.06 1153.7 L1710.14 1185.37 L1730.22 1133.95 L1750.31 1104.34 L1770.39 1111.58 L1790.47 1141.84 L1810.55 1156.48 L1830.63 1250.4 L1850.71 1276.76 L1870.8 1204.48 \n",
       "  L1890.88 1195.67 L1910.96 1160.44 L1931.04 1253.96 L1951.12 1289.2 L1971.2 1259.55 L1991.29 1131.54 L2011.37 1179.1 L2031.45 1180.12 L2051.53 1230.71 L2071.61 1267.96 \n",
       "  L2091.69 1279.31 L2111.78 1283.31 L2131.86 1296.99 L2151.94 1196.77 L2172.02 1206.54 L2192.1 1188.99 L2212.18 1239.32 L2232.27 1156.41 L2252.35 1178.51 L2272.43 1149.15 \n",
       "  L2292.51 1166.55 L2292.51 330.144 L2272.43 350.19 L2252.35 389.543 L2232.27 426.099 L2212.18 447.737 L2192.1 441.037 L2172.02 453.524 L2151.94 428.393 L2131.86 458.996 \n",
       "  L2111.78 357.2 L2091.69 448.949 L2071.61 479.018 L2051.53 385.813 L2031.45 344.195 L2011.37 277.698 L1991.29 196.514 L1971.2 256.732 L1951.12 228.771 L1931.04 301.284 \n",
       "  L1910.96 279.968 L1890.88 371.262 L1870.8 371.647 L1850.71 374.885 L1830.63 369.13 L1810.55 313.999 L1790.47 317.429 L1770.39 257.025 L1750.31 307.066 L1730.22 334.245 \n",
       "  L1710.14 305.686 L1690.06 243.191 L1669.98 290.709 L1649.9 253.482 L1629.82 252.083 L1609.73 319.813 L1589.65 244.579 L1569.57 206.73 L1549.49 225.068 L1529.41 184.862 \n",
       "  L1509.33 236.821 L1489.24 227.474 L1469.16 301.024 L1449.08 274.126 L1429 332.622 L1408.92 304.736 L1388.84 246.236 L1368.75 242.541 L1348.67 233.147 L1328.59 226.1 \n",
       "  L1308.51 316.894 L1288.43 268.414 L1268.35 216.89 L1248.26 250.843 L1228.18 198.904 L1208.1 160.222 L1188.02 237.16 L1167.94 308.459 L1147.86 384.589 L1127.77 303.777 \n",
       "  L1107.69 281.592 L1087.61 320.81 L1067.53 289.431 L1047.45 299.409 L1027.37 323.697 L1007.28 400.953 L987.202 428.167 L967.12 462.727 L947.038 358.703 L926.957 355.651 \n",
       "  L906.875 409.122 L886.793 383.722 L866.712 366.375 L846.63 379.021 L826.548 328.808 L806.467 273.354 L786.385 293.507 L766.303 317.962 L746.222 319.332 L726.14 343.012 \n",
       "  L706.058 376.022 L685.977 320.022 L665.895 377.162 L645.813 398.944 L625.731 431.758 L605.65 438.986 L585.568 365.028 L565.486 294.416 L545.405 295.616 L525.323 240.377 \n",
       "  L505.241 232.767 L485.16 236.708 L465.078 181.095 L444.996 87.9763 L424.915 156.433 L404.833 254.878 L384.751 236.902 L364.67 215.884 L344.588 226.614 L324.506 285.181 \n",
       "  L304.425 326.242 L284.343 282.763  Z\n",
       "  \" fill=\"#009af9\" fill-rule=\"evenodd\" fill-opacity=\"0.2\"/>\n",
       "<polyline clip-path=\"url(#clip982)\" style=\"stroke:#009af9; stroke-linecap:butt; stroke-linejoin:round; stroke-width:12; stroke-opacity:1; fill:none\" points=\"\n",
       "  284.343,838.708 304.425,789.775 324.506,738.578 344.588,742.278 364.67,760.472 384.751,745.767 404.833,735.222 424.915,724.012 444.996,752.938 465.078,770.625 \n",
       "  485.16,801.405 505.241,811.268 525.323,788.981 545.405,825.347 565.486,902.153 585.568,851.985 605.65,802.054 625.731,785.364 645.813,782.713 665.895,771.067 \n",
       "  685.977,790.098 706.058,809.81 726.14,811.443 746.222,743.11 766.303,728.522 786.385,789.774 806.467,787.015 826.548,790.429 846.63,825.592 866.712,796.635 \n",
       "  886.793,792.285 906.875,751.201 926.957,779.273 947.038,761.805 967.12,790.755 987.202,785.693 1007.28,810.174 1027.37,776.861 1047.45,795.589 1067.53,790.134 \n",
       "  1087.61,729.947 1107.69,754.112 1127.77,710.459 1147.86,744.25 1167.94,726.914 1188.02,737.961 1208.1,688.404 1228.18,700.52 1248.26,705.251 1268.35,692.492 \n",
       "  1288.43,683.827 1308.51,657.692 1328.59,721.681 1348.67,705.379 1368.75,688.753 1388.84,653.769 1408.92,619.262 1429,607.84 1449.08,607.028 1469.16,601.737 \n",
       "  1489.24,622.647 1509.33,662.731 1529.41,689.541 1549.49,666.339 1569.57,650.881 1589.65,666.516 1609.73,680.394 1629.82,691.414 1649.9,697.878 1669.98,689.25 \n",
       "  1690.06,726.554 1710.14,712.322 1730.22,786.229 1750.31,737.932 1770.39,745.687 1790.47,756.453 1810.55,745.711 1830.63,770.25 1850.71,757.76 1870.8,692.935 \n",
       "  1890.88,696.07 1910.96,743.409 1931.04,788.056 1951.12,785.603 1971.2,805.883 1991.29,794.846 2011.37,780.174 2031.45,741.409 2051.53,727.208 2071.61,720.718 \n",
       "  2091.69,752.52 2111.78,776.002 2131.86,746.247 2151.94,769.188 2172.02,728.429 2192.1,699.331 2212.18,783.958 2232.27,810.743 2252.35,816.134 2272.43,819.247 \n",
       "  2292.51,783.486 \n",
       "  \"/>\n",
       "<path clip-path=\"url(#clip982)\" d=\"\n",
       "M284.343 787.809 L304.425 788.265 L324.506 792.095 L344.588 792.786 L364.67 785.727 L384.751 786.86 L404.833 795.164 L424.915 790.033 L444.996 789.988 L465.078 789.05 \n",
       "  L485.16 793.493 L505.241 799.044 L525.323 789.986 L545.405 796.621 L565.486 794.847 L585.568 794.879 L605.65 794.856 L625.731 790.73 L645.813 792.531 L665.895 790.676 \n",
       "  L685.977 791.444 L706.058 786.728 L726.14 787.735 L746.222 788.966 L766.303 795.605 L786.385 797.897 L806.467 790.236 L826.548 793.4 L846.63 786.099 L866.712 784.453 \n",
       "  L886.793 792.097 L906.875 793.751 L926.957 797.347 L947.038 788.921 L967.12 786.197 L987.202 793.963 L1007.28 790.728 L1027.37 789.004 L1047.45 790.569 L1067.53 786.534 \n",
       "  L1087.61 786.255 L1107.69 787.862 L1127.77 789.433 L1147.86 788.543 L1167.94 786.992 L1188.02 783.526 L1208.1 790.055 L1228.18 785.009 L1248.26 789.253 L1268.35 795.12 \n",
       "  L1288.43 789.516 L1308.51 789.79 L1328.59 788.692 L1348.67 787.757 L1368.75 791.561 L1388.84 785.961 L1408.92 785.836 L1429 793.348 L1449.08 790.16 L1469.16 792.052 \n",
       "  L1489.24 786.571 L1509.33 791.933 L1529.41 790.328 L1549.49 791.437 L1569.57 789.358 L1589.65 791.841 L1609.73 798.528 L1629.82 786.769 L1649.9 795.127 L1669.98 793.658 \n",
       "  L1690.06 796.441 L1710.14 793.356 L1730.22 789.564 L1750.31 789.393 L1770.39 792.239 L1790.47 793.572 L1810.55 796.268 L1830.63 787.794 L1850.71 791.491 L1870.8 791.659 \n",
       "  L1890.88 793.318 L1910.96 793.913 L1931.04 792.923 L1951.12 794.141 L1971.2 788.941 L1991.29 795.932 L2011.37 790.021 L2031.45 789.978 L2051.53 795.388 L2071.61 798.453 \n",
       "  L2091.69 788.437 L2111.78 793.454 L2131.86 793.348 L2151.94 791.745 L2172.02 792.97 L2192.1 792.061 L2212.18 788.63 L2232.27 790.985 L2252.35 793.204 L2272.43 788.144 \n",
       "  L2292.51 793.381 L2292.51 756.658 L2272.43 754.718 L2252.35 749.08 L2232.27 758.782 L2212.18 755.325 L2192.1 756.96 L2172.02 755.378 L2151.94 755.124 L2131.86 755.31 \n",
       "  L2111.78 753.261 L2091.69 754.254 L2071.61 752.48 L2051.53 755.268 L2031.45 756.969 L2011.37 752.267 L1991.29 754.808 L1971.2 755.151 L1951.12 756.63 L1931.04 758.115 \n",
       "  L1910.96 760.315 L1890.88 758.465 L1870.8 751.438 L1850.71 750.747 L1830.63 744.678 L1810.55 747.958 L1790.47 756.119 L1770.39 759.753 L1750.31 757.084 L1730.22 752.005 \n",
       "  L1710.14 762.018 L1690.06 755.101 L1669.98 756.143 L1649.9 754.709 L1629.82 756.063 L1609.73 754.56 L1589.65 753.491 L1569.57 753.963 L1549.49 751.988 L1529.41 758.097 \n",
       "  L1509.33 759.727 L1489.24 758.084 L1469.16 756.662 L1449.08 754.91 L1429 750.095 L1408.92 750.972 L1388.84 751.165 L1368.75 749.917 L1348.67 755.067 L1328.59 753.558 \n",
       "  L1308.51 755.566 L1288.43 756.361 L1268.35 758.254 L1248.26 754.814 L1228.18 760.668 L1208.1 757.002 L1188.02 753.682 L1167.94 751.246 L1147.86 753.191 L1127.77 755.182 \n",
       "  L1107.69 757.276 L1087.61 754.668 L1067.53 758.193 L1047.45 756.891 L1027.37 752.934 L1007.28 749.088 L987.202 749.806 L967.12 750.511 L947.038 754.052 L926.957 756.733 \n",
       "  L906.875 755.175 L886.793 757.413 L866.712 759.325 L846.63 757.647 L826.548 758.179 L806.467 759.291 L786.385 758.951 L766.303 758.909 L746.222 752.623 L726.14 754.676 \n",
       "  L706.058 755.287 L685.977 752.736 L665.895 753.947 L645.813 756.825 L625.731 755.252 L605.65 759.984 L585.568 761.699 L565.486 755.798 L545.405 757.928 L525.323 759.402 \n",
       "  L505.241 749.265 L485.16 756.738 L465.078 752.176 L444.996 756.341 L424.915 752.783 L404.833 756.137 L384.751 758.408 L364.67 752.884 L344.588 754.677 L324.506 748.65 \n",
       "  L304.425 749.745 L284.343 752.661  Z\n",
       "  \" fill=\"#e26f46\" fill-rule=\"evenodd\" fill-opacity=\"0.2\"/>\n",
       "<polyline clip-path=\"url(#clip982)\" style=\"stroke:#e26f46; stroke-linecap:butt; stroke-linejoin:round; stroke-width:12; stroke-opacity:1; fill:none\" points=\"\n",
       "  284.343,774.348 304.425,770.801 324.506,771.01 344.588,771.176 364.67,770.974 384.751,771.94 404.833,775.2 424.915,773.906 444.996,772.105 465.078,773.219 \n",
       "  485.16,779.172 505.241,771.236 525.323,775.032 545.405,777.78 565.486,775.36 585.568,770.583 605.65,774.45 625.731,769.218 645.813,771.562 665.895,771.19 \n",
       "  685.977,769.197 706.058,769.164 726.14,771.087 746.222,771.076 766.303,773.107 786.385,774.486 806.467,776.9 826.548,779.48 846.63,772.659 866.712,773.004 \n",
       "  886.793,770.82 906.875,776.727 926.957,773.71 947.038,774.685 967.12,773.824 987.202,770.003 1007.28,771.66 1027.37,769.639 1047.45,772.485 1067.53,770.022 \n",
       "  1087.61,774.799 1107.69,771.052 1127.77,774.03 1147.86,773.363 1167.94,770.799 1188.02,769.854 1208.1,771.518 1228.18,773.069 1248.26,771.864 1268.35,777.144 \n",
       "  1288.43,774.148 1308.51,775.414 1328.59,774.16 1348.67,768.273 1368.75,769.861 1388.84,768.291 1408.92,773.896 1429,772.313 1449.08,770.949 1469.16,773.711 \n",
       "  1489.24,774.876 1509.33,773.866 1529.41,774.612 1549.49,772.586 1569.57,770.525 1589.65,773.231 1609.73,773.569 1629.82,773.745 1649.9,773.72 1669.98,772.323 \n",
       "  1690.06,774.933 1710.14,774.529 1730.22,770.169 1750.31,771.8 1770.39,774.187 1790.47,774.343 1810.55,773.095 1830.63,772.7 1850.71,771.331 1870.8,771.276 \n",
       "  1890.88,773.721 1910.96,777.899 1931.04,774.069 1951.12,772.08 1971.2,773.559 1991.29,774.429 2011.37,773.034 2031.45,774.605 2051.53,776.945 2071.61,775.35 \n",
       "  2091.69,772.968 2111.78,772.584 2131.86,771.246 2151.94,770.165 2172.02,771.064 2192.1,772.576 2212.18,774.123 2232.27,776.464 2252.35,775.256 2272.43,773.057 \n",
       "  2292.51,771.102 \n",
       "  \"/>\n",
       "</svg>\n"
      ]
     },
     "execution_count": 176,
     "metadata": {},
     "output_type": "execute_result"
    }
   ],
   "source": [
    "plot(summ, fillalpha= 0.2) # plots by default show the median and quantiles of both variables.  Modifying transparency as an example"
   ]
  },
  {
   "cell_type": "markdown",
   "metadata": {},
   "source": [
    "## Calculate sequence of observables\n",
    "We can use the underlying state-space model to easily simulate states and observables"
   ]
  },
  {
   "cell_type": "code",
   "execution_count": 177,
   "metadata": {},
   "outputs": [
    {
     "data": {
      "text/plain": [
       "2×21 Matrix{Float64}:\n",
       " 0.022674  0.0265414  0.0105867  …  0.0214261  0.0055876  0.00416553\n",
       " 0.157358  0.233235   0.206499      0.135604   0.131875   0.110685"
      ]
     },
     "execution_count": 177,
     "metadata": {},
     "output_type": "execute_result"
    }
   ],
   "source": [
    "# Simulate T observations\n",
    "T = 20\n",
    "\n",
    "p_f = (ρ = 0.2, δ = 0.02, σ = 0.01, Ω_1 = 0.01) # Fixed parameters\n",
    "p_d = (α = 0.5, β = 0.95) # Pseudo-true values\n",
    "sol = generate_perturbation(model_rbc, p_d, p_f) # Solution to the first-order RBC\n",
    "\n",
    "x_iv = MvNormal(sol.x_ergodic_var) # draw initial conditions from the ergodic distribution\n",
    "problem = LinearStateSpaceProblem(sol, x_iv, (0, T))\n",
    "sim = solve(problem, DirectIteration())\n",
    "ϵ = sim.W # store the underlying noise in the simulation\n",
    "\n",
    "# Collapse to simulated observables as a matrix  - as required by current DifferenceEquations.jl likelihood\n",
    "# see https://github.com/SciML/DifferenceEquations.jl/issues/55 for direct support of this datastructure\n",
    "z_rbc = hcat(sim.z...) "
   ]
  },
  {
   "cell_type": "markdown",
   "metadata": {},
   "source": [
    "# Bayesian estimation with Turing "
   ]
  },
  {
   "cell_type": "code",
   "execution_count": 178,
   "metadata": {},
   "outputs": [],
   "source": [
    "using Turing\n",
    "using Turing: @addlogprob!\n",
    "Turing.setadbackend(:zygote);"
   ]
  },
  {
   "cell_type": "markdown",
   "metadata": {},
   "source": [
    "## First-order, marginal likelihood approach"
   ]
  },
  {
   "cell_type": "code",
   "execution_count": 181,
   "metadata": {},
   "outputs": [
    {
     "name": "stdout",
     "output_type": "stream",
     "text": [
      "Sampling.  Ignore that 'rejected due to numericfal errors' warnings\n"
     ]
    },
    {
     "name": "stderr",
     "output_type": "stream",
     "text": [
      "┌ Info: Found initial step size\n",
      "│   ϵ = 0.05\n",
      "└ @ Turing.Inference C:\\Users\\jesse\\.julia\\packages\\Turing\\S4Y4B\\src\\inference\\hmc.jl:188\n",
      "┌ Warning: The current proposal will be rejected due to numerical error(s).\n",
      "│   isfinite.((θ, r, ℓπ, ℓκ)) = (true, false, false, false)\n",
      "└ @ AdvancedHMC C:\\Users\\jesse\\.julia\\packages\\AdvancedHMC\\51xgc\\src\\hamiltonian.jl:47\n",
      "\u001b[32mSampling:   2%|█                                        |  ETA: 0:00:11\u001b[39m┌ Warning: The current proposal will be rejected due to numerical error(s).\n",
      "│   isfinite.((θ, r, ℓπ, ℓκ)) = (true, true, false, true)\n",
      "└ @ AdvancedHMC C:\\Users\\jesse\\.julia\\packages\\AdvancedHMC\\51xgc\\src\\hamiltonian.jl:47\n",
      "\u001b[32mSampling:   6%|███                                      |  ETA: 0:00:12\u001b[39m┌ Warning: The current proposal will be rejected due to numerical error(s).\n",
      "│   isfinite.((θ, r, ℓπ, ℓκ)) = (true, false, false, false)\n",
      "└ @ AdvancedHMC C:\\Users\\jesse\\.julia\\packages\\AdvancedHMC\\51xgc\\src\\hamiltonian.jl:47\n",
      "\u001b[32mSampling:  10%|█████                                    |  ETA: 0:00:14\u001b[39m┌ Warning: The current proposal will be rejected due to numerical error(s).\n",
      "│   isfinite.((θ, r, ℓπ, ℓκ)) = (true, true, false, true)\n",
      "└ @ AdvancedHMC C:\\Users\\jesse\\.julia\\packages\\AdvancedHMC\\51xgc\\src\\hamiltonian.jl:47\n",
      "\u001b[32mSampling:  15%|███████                                  |  ETA: 0:00:13\u001b[39m┌ Warning: The current proposal will be rejected due to numerical error(s).\n",
      "│   isfinite.((θ, r, ℓπ, ℓκ)) = (true, false, false, false)\n",
      "└ @ AdvancedHMC C:\\Users\\jesse\\.julia\\packages\\AdvancedHMC\\51xgc\\src\\hamiltonian.jl:47\n",
      "\u001b[32mSampling:  16%|███████                                  |  ETA: 0:00:13\u001b[39m┌ Warning: The current proposal will be rejected due to numerical error(s).\n",
      "│   isfinite.((θ, r, ℓπ, ℓκ)) = (true, true, false, true)\n",
      "└ @ AdvancedHMC C:\\Users\\jesse\\.julia\\packages\\AdvancedHMC\\51xgc\\src\\hamiltonian.jl:47\n",
      "\u001b[32mSampling: 100%|█████████████████████████████████████████| Time: 0:00:14\u001b[39m\n"
     ]
    },
    {
     "data": {
      "text/plain": [
       "Chains MCMC chain (1000×14×1 Array{Float64, 3}):\n",
       "\n",
       "Iterations        = 251:1:1250\n",
       "Number of chains  = 1\n",
       "Samples per chain = 1000\n",
       "Wall duration     = 20.41 seconds\n",
       "Compute duration  = 20.41 seconds\n",
       "parameters        = α, β\n",
       "internals         = lp, n_steps, is_accept, acceptance_rate, log_density, hamiltonian_energy, hamiltonian_energy_error, max_hamiltonian_energy_error, tree_depth, numerical_error, step_size, nom_step_size\n",
       "\n",
       "Summary Statistics\n",
       " \u001b[1m parameters \u001b[0m \u001b[1m    mean \u001b[0m \u001b[1m     std \u001b[0m \u001b[1m naive_se \u001b[0m \u001b[1m    mcse \u001b[0m \u001b[1m      ess \u001b[0m \u001b[1m    rhat \u001b[0m \u001b[1m e\u001b[0m ⋯\n",
       " \u001b[90m     Symbol \u001b[0m \u001b[90m Float64 \u001b[0m \u001b[90m Float64 \u001b[0m \u001b[90m  Float64 \u001b[0m \u001b[90m Float64 \u001b[0m \u001b[90m  Float64 \u001b[0m \u001b[90m Float64 \u001b[0m \u001b[90m  \u001b[0m ⋯\n",
       "\n",
       "           α    0.4143    0.0328     0.0010    0.0020   230.6722    0.9990     ⋯\n",
       "           β    0.9577    0.0073     0.0002    0.0005   172.6457    1.0041     ⋯\n",
       "\u001b[36m                                                                1 column omitted\u001b[0m\n",
       "\n",
       "Quantiles\n",
       " \u001b[1m parameters \u001b[0m \u001b[1m    2.5% \u001b[0m \u001b[1m   25.0% \u001b[0m \u001b[1m   50.0% \u001b[0m \u001b[1m   75.0% \u001b[0m \u001b[1m   97.5% \u001b[0m\n",
       " \u001b[90m     Symbol \u001b[0m \u001b[90m Float64 \u001b[0m \u001b[90m Float64 \u001b[0m \u001b[90m Float64 \u001b[0m \u001b[90m Float64 \u001b[0m \u001b[90m Float64 \u001b[0m\n",
       "\n",
       "           α    0.3505    0.3927    0.4135    0.4341    0.4799\n",
       "           β    0.9434    0.9529    0.9577    0.9629    0.9716\n"
      ]
     },
     "execution_count": 181,
     "metadata": {},
     "output_type": "execute_result"
    }
   ],
   "source": [
    "# Turing model definition\n",
    "@model function rbc_kalman(z, m, p_f, cache, settings)\n",
    "    α ~ Uniform(0.2, 0.8)\n",
    "    β ~ Uniform(0.5, 0.99)\n",
    "    p_d = (; α, β)\n",
    "    T = size(z, 2)\n",
    "    sol = generate_perturbation(m, p_d, p_f, Val(1); cache, settings) # first-order perturbation\n",
    "    if !(sol.retcode == :Success)\n",
    "        @addlogprob! -Inf\n",
    "        return\n",
    "    end\n",
    "    problem = LinearStateSpaceProblem(sol, zeros(2), (0, T), observables = z)\n",
    "    @addlogprob! solve(problem, KalmanFilter()).logpdf\n",
    "end\n",
    "cache = SolverCache(model_rbc, Val(1),  [:α, :β])\n",
    "settings = PerturbationSolverSettings(; print_level = 0)\n",
    "p_f = (ρ = 0.2, δ = 0.02, σ = 0.01, Ω_1 = 0.01) # Fixed parameters\n",
    "z = z_rbc # simulated in previous steps\n",
    "turing_model = rbc_kalman(z, model_rbc, p_f, cache, settings) # passing observables from before \n",
    "\n",
    "n_samples = 1000\n",
    "n_adapts = 250\n",
    "δ = 0.65\n",
    "alg = NUTS(n_adapts,δ)\n",
    "println(\"Sampling.  Ignore that 'rejected due to numericfal errors' warnings\")  # At this point, Turing can't turn off those warnings\n",
    "chain_1_marginal = sample(turing_model, alg, n_samples; progress = true)"
   ]
  },
  {
   "cell_type": "markdown",
   "metadata": {},
   "source": [
    "## First-order, joint likelihood approach"
   ]
  },
  {
   "cell_type": "code",
   "execution_count": 180,
   "metadata": {},
   "outputs": [
    {
     "name": "stderr",
     "output_type": "stream",
     "text": [
      "┌ Info: Found initial step size\n",
      "│   ϵ = 0.4\n",
      "└ @ Turing.Inference C:\\Users\\jesse\\.julia\\packages\\Turing\\S4Y4B\\src\\inference\\hmc.jl:188\n",
      "┌ Warning: The current proposal will be rejected due to numerical error(s).\n",
      "│   isfinite.((θ, r, ℓπ, ℓκ)) = (true, false, false, false)\n",
      "└ @ AdvancedHMC C:\\Users\\jesse\\.julia\\packages\\AdvancedHMC\\51xgc\\src\\hamiltonian.jl:47\n",
      "\u001b[32mSampling:   1%|█                                        |  ETA: 0:00:30\u001b[39m┌ Warning: The current proposal will be rejected due to numerical error(s).\n",
      "│   isfinite.((θ, r, ℓπ, ℓκ)) = (true, false, false, false)\n",
      "└ @ AdvancedHMC C:\\Users\\jesse\\.julia\\packages\\AdvancedHMC\\51xgc\\src\\hamiltonian.jl:47\n",
      "\u001b[32mSampling:  10%|█████                                    |  ETA: 0:06:04\u001b[39m┌ Warning: The current proposal will be rejected due to numerical error(s).\n",
      "│   isfinite.((θ, r, ℓπ, ℓκ)) = (true, false, false, false)\n",
      "└ @ AdvancedHMC C:\\Users\\jesse\\.julia\\packages\\AdvancedHMC\\51xgc\\src\\hamiltonian.jl:47\n",
      "\u001b[32mSampling: 100%|█████████████████████████████████████████| Time: 4:04:24\u001b[39m\n"
     ]
    },
    {
     "data": {
      "text/plain": [
       "Chains MCMC chain (1000×35×1 Array{Float64, 3}):\n",
       "\n",
       "Iterations        = 251:1:1250\n",
       "Number of chains  = 1\n",
       "Samples per chain = 1000\n",
       "Wall duration     = 14709.26 seconds\n",
       "Compute duration  = 14709.26 seconds\n",
       "parameters        = α, β, ϵ_draw[1], ϵ_draw[2], ϵ_draw[3], ϵ_draw[4], ϵ_draw[5], ϵ_draw[6], ϵ_draw[7], ϵ_draw[8], ϵ_draw[9], ϵ_draw[10], ϵ_draw[11], ϵ_draw[12], ϵ_draw[13], ϵ_draw[14], ϵ_draw[15], ϵ_draw[16], ϵ_draw[17], ϵ_draw[18], ϵ_draw[19], ϵ_draw[20], ϵ_draw[21]\n",
       "internals         = lp, n_steps, is_accept, acceptance_rate, log_density, hamiltonian_energy, hamiltonian_energy_error, max_hamiltonian_energy_error, tree_depth, numerical_error, step_size, nom_step_size\n",
       "\n",
       "Summary Statistics\n",
       " \u001b[1m parameters \u001b[0m \u001b[1m    mean \u001b[0m \u001b[1m     std \u001b[0m \u001b[1m naive_se \u001b[0m \u001b[1m    mcse \u001b[0m \u001b[1m       ess \u001b[0m \u001b[1m    rhat \u001b[0m \u001b[1m \u001b[0m ⋯\n",
       " \u001b[90m     Symbol \u001b[0m \u001b[90m Float64 \u001b[0m \u001b[90m Float64 \u001b[0m \u001b[90m  Float64 \u001b[0m \u001b[90m Float64 \u001b[0m \u001b[90m   Float64 \u001b[0m \u001b[90m Float64 \u001b[0m \u001b[90m \u001b[0m ⋯\n",
       "\n",
       "           α    0.4971    0.0246     0.0008    0.0013    319.1558    0.9990    ⋯\n",
       "           β    0.9511    0.0082     0.0003    0.0003    596.0357    0.9993    ⋯\n",
       "   ϵ_draw[1]   -3.6654    0.5827     0.0184    0.0343    272.5554    0.9992    ⋯\n",
       "   ϵ_draw[2]    0.8298    0.2540     0.0080    0.0087    768.4764    0.9997    ⋯\n",
       "   ϵ_draw[3]   -0.2854    0.2500     0.0079    0.0096    728.5947    1.0004    ⋯\n",
       "   ϵ_draw[4]    0.6866    0.2530     0.0080    0.0118    488.2202    1.0018    ⋯\n",
       "   ϵ_draw[5]   -0.9870    0.2672     0.0084    0.0121    533.8236    0.9991    ⋯\n",
       "   ϵ_draw[6]   -0.0786    0.2361     0.0075    0.0068    996.4538    0.9991    ⋯\n",
       "   ϵ_draw[7]    0.5377    0.2418     0.0076    0.0067    862.7809    0.9998    ⋯\n",
       "   ϵ_draw[8]   -0.8057    0.2572     0.0081    0.0109    551.0374    0.9992    ⋯\n",
       "   ϵ_draw[9]   -0.2097    0.2462     0.0078    0.0067    912.3349    0.9990    ⋯\n",
       "  ϵ_draw[10]   -0.2453    0.2406     0.0076    0.0085    842.6929    0.9991    ⋯\n",
       "  ϵ_draw[11]    0.7003    0.2558     0.0081    0.0084    679.9243    1.0018    ⋯\n",
       "  ϵ_draw[12]   -0.3245    0.2399     0.0076    0.0074    866.1812    1.0040    ⋯\n",
       "  ϵ_draw[13]   -0.5568    0.2526     0.0080    0.0095    797.6133    1.0029    ⋯\n",
       "  ϵ_draw[14]    1.0572    0.2841     0.0090    0.0116    581.6880    0.9994    ⋯\n",
       "  ϵ_draw[15]    0.4818    0.2576     0.0081    0.0088    860.2942    0.9998    ⋯\n",
       "  ϵ_draw[16]   -0.2012    0.2437     0.0077    0.0094    864.5883    1.0012    ⋯\n",
       "  ϵ_draw[17]   -0.1992    0.2400     0.0076    0.0095    689.2030    1.0003    ⋯\n",
       "  ϵ_draw[18]   -0.3896    0.2387     0.0075    0.0108    644.4669    0.9994    ⋯\n",
       "  ϵ_draw[19]    0.0492    0.2386     0.0075    0.0089    779.7015    0.9994    ⋯\n",
       "  ϵ_draw[20]    0.2769    0.2423     0.0077    0.0087    843.6118    0.9997    ⋯\n",
       "  ϵ_draw[21]    0.3063    0.8139     0.0257    0.0204   1384.5298    0.9990    ⋯\n",
       "\u001b[36m                                                                1 column omitted\u001b[0m\n",
       "\n",
       "Quantiles\n",
       " \u001b[1m parameters \u001b[0m \u001b[1m    2.5% \u001b[0m \u001b[1m   25.0% \u001b[0m \u001b[1m   50.0% \u001b[0m \u001b[1m   75.0% \u001b[0m \u001b[1m   97.5% \u001b[0m\n",
       " \u001b[90m     Symbol \u001b[0m \u001b[90m Float64 \u001b[0m \u001b[90m Float64 \u001b[0m \u001b[90m Float64 \u001b[0m \u001b[90m Float64 \u001b[0m \u001b[90m Float64 \u001b[0m\n",
       "\n",
       "           α    0.4470    0.4801    0.4987    0.5146    0.5419\n",
       "           β    0.9344    0.9458    0.9507    0.9560    0.9683\n",
       "   ϵ_draw[1]   -4.8377   -4.0440   -3.6491   -3.2418   -2.5768\n",
       "   ϵ_draw[2]    0.3642    0.6557    0.8159    0.9936    1.3336\n",
       "   ϵ_draw[3]   -0.7920   -0.4377   -0.2772   -0.1258    0.1747\n",
       "   ϵ_draw[4]    0.2174    0.5123    0.6830    0.8557    1.1810\n",
       "   ϵ_draw[5]   -1.5519   -1.1512   -0.9711   -0.8019   -0.5278\n",
       "   ϵ_draw[6]   -0.5459   -0.2336   -0.0827    0.0856    0.3674\n",
       "   ϵ_draw[7]    0.0890    0.3763    0.5259    0.6852    1.0564\n",
       "   ϵ_draw[8]   -1.3394   -0.9629   -0.7999   -0.6383   -0.3336\n",
       "   ϵ_draw[9]   -0.7261   -0.3657   -0.2020   -0.0465    0.2708\n",
       "  ϵ_draw[10]   -0.7582   -0.3973   -0.2276   -0.0812    0.2031\n",
       "  ϵ_draw[11]    0.2028    0.5338    0.6938    0.8735    1.2030\n",
       "  ϵ_draw[12]   -0.8057   -0.4777   -0.3186   -0.1813    0.1492\n",
       "  ϵ_draw[13]   -1.0917   -0.7134   -0.5488   -0.3828   -0.0982\n",
       "  ϵ_draw[14]    0.5752    0.8501    1.0383    1.2314    1.6919\n",
       "  ϵ_draw[15]   -0.0115    0.2980    0.4770    0.6559    0.9917\n",
       "  ϵ_draw[16]   -0.7176   -0.3445   -0.2035   -0.0361    0.2546\n",
       "  ϵ_draw[17]   -0.6910   -0.3540   -0.1893   -0.0321    0.2322\n",
       "  ϵ_draw[18]   -0.8858   -0.5520   -0.3857   -0.2342    0.0791\n",
       "  ϵ_draw[19]   -0.4233   -0.1103    0.0444    0.1959    0.5385\n",
       "  ϵ_draw[20]   -0.1686    0.1157    0.2576    0.4475    0.7716\n",
       "  ϵ_draw[21]   -1.2783   -0.2281    0.3026    0.8774    1.9648\n"
      ]
     },
     "execution_count": 180,
     "metadata": {},
     "output_type": "execute_result"
    }
   ],
   "source": [
    "# Turing model definition\n",
    "@model function rbc_1_joint(z, m, p_f, cache, settings)\n",
    "    α ~ Uniform(0.2, 0.8)\n",
    "    β ~ Uniform(0.5, 0.99)\n",
    "    p_d = (; α, β)\n",
    "    T = size(z, 2)\n",
    "    ϵ_draw ~ MvNormal(m.n_ϵ * T, 1.0)\n",
    "    ϵ = reshape(ϵ_draw, m.n_ϵ, T)\n",
    "    sol = generate_perturbation(m, p_d, p_f, Val(1); cache, settings)\n",
    "    if !(sol.retcode == :Success)\n",
    "        @addlogprob! -Inf\n",
    "        return\n",
    "    end\n",
    "    problem = LinearStateSpaceProblem(sol, zeros(2), (0, T), observables = z, noise=ϵ)\n",
    "    @addlogprob! solve(problem, DirectIteration()).logpdf\n",
    "end\n",
    "cache = SolverCache(model_rbc, Val(1),  [:α, :β])\n",
    "settings = PerturbationSolverSettings(; print_level = 0)\n",
    "p_f = (ρ = 0.2, δ = 0.02, σ = 0.01, Ω_1 = 0.01) # Fixed parameters\n",
    "z = z_rbc # simulated in previous steps\n",
    "turing_model = rbc_1_joint(z, model_rbc, p_f, cache, settings) # passing observables from before \n",
    "\n",
    "n_samples = 1000\n",
    "n_adapts = 250\n",
    "δ = 0.65\n",
    "alg = NUTS(n_adapts,δ)\n",
    "chain_1_joint = sample(turing_model, alg, n_samples; progress = true)"
   ]
  },
  {
   "cell_type": "markdown",
   "metadata": {},
   "source": [
    "## Second-order, joint likelihood approach"
   ]
  },
  {
   "cell_type": "code",
   "execution_count": 33,
   "metadata": {},
   "outputs": [
    {
     "name": "stderr",
     "output_type": "stream",
     "text": [
      "┌ Info: Found initial step size\n",
      "│   ϵ = 0.024998474121093753\n",
      "└ @ Turing.Inference C:\\Users\\jesse\\.julia\\packages\\Turing\\S4Y4B\\src\\inference\\hmc.jl:188\n",
      "\u001b[32mSampling: 100%|█████████████████████████████████████████| Time: 0:07:15\u001b[39m\n"
     ]
    },
    {
     "data": {
      "text/plain": [
       "Chains MCMC chain (1000×35×1 Array{Float64, 3}):\n",
       "\n",
       "Iterations        = 101:1:1100\n",
       "Number of chains  = 1\n",
       "Samples per chain = 1000\n",
       "Wall duration     = 462.14 seconds\n",
       "Compute duration  = 462.14 seconds\n",
       "parameters        = α, β, ϵ_draw[1], ϵ_draw[2], ϵ_draw[3], ϵ_draw[4], ϵ_draw[5], ϵ_draw[6], ϵ_draw[7], ϵ_draw[8], ϵ_draw[9], ϵ_draw[10], ϵ_draw[11], ϵ_draw[12], ϵ_draw[13], ϵ_draw[14], ϵ_draw[15], ϵ_draw[16], ϵ_draw[17], ϵ_draw[18], ϵ_draw[19], ϵ_draw[20], ϵ_draw[21]\n",
       "internals         = lp, n_steps, is_accept, acceptance_rate, log_density, hamiltonian_energy, hamiltonian_energy_error, max_hamiltonian_energy_error, tree_depth, numerical_error, step_size, nom_step_size\n",
       "\n",
       "Summary Statistics\n",
       " \u001b[1m parameters \u001b[0m \u001b[1m    mean \u001b[0m \u001b[1m     std \u001b[0m \u001b[1m naive_se \u001b[0m \u001b[1m    mcse \u001b[0m \u001b[1m       ess \u001b[0m \u001b[1m    rhat \u001b[0m \u001b[1m \u001b[0m ⋯\n",
       " \u001b[90m     Symbol \u001b[0m \u001b[90m Float64 \u001b[0m \u001b[90m Float64 \u001b[0m \u001b[90m  Float64 \u001b[0m \u001b[90m Float64 \u001b[0m \u001b[90m   Float64 \u001b[0m \u001b[90m Float64 \u001b[0m \u001b[90m \u001b[0m ⋯\n",
       "\n",
       "           α    0.4796    0.0218     0.0007    0.0013    220.0016    1.0116    ⋯\n",
       "           β    0.9540    0.0057     0.0002    0.0002   1064.5634    1.0010    ⋯\n",
       "   ϵ_draw[1]   -2.3510    0.3833     0.0121    0.0216    217.7005    1.0093    ⋯\n",
       "   ϵ_draw[2]   -0.6461    0.2927     0.0093    0.0122    746.2117    1.0009    ⋯\n",
       "   ϵ_draw[3]   -0.6080    0.2924     0.0092    0.0106    591.5107    1.0034    ⋯\n",
       "   ϵ_draw[4]   -0.2152    0.2803     0.0089    0.0093    853.4314    0.9993    ⋯\n",
       "   ϵ_draw[5]   -0.2670    0.2762     0.0087    0.0106    824.9507    1.0008    ⋯\n",
       "   ϵ_draw[6]    0.2796    0.2628     0.0083    0.0096    730.8634    0.9991    ⋯\n",
       "   ϵ_draw[7]   -0.2382    0.2593     0.0082    0.0072    842.4205    0.9993    ⋯\n",
       "   ϵ_draw[8]   -0.4532    0.2780     0.0088    0.0096    831.1033    1.0006    ⋯\n",
       "   ϵ_draw[9]   -2.2092    0.3931     0.0124    0.0228    232.6791    1.0122    ⋯\n",
       "  ϵ_draw[10]    0.0687    0.2553     0.0081    0.0074    893.3851    0.9990    ⋯\n",
       "  ϵ_draw[11]    0.8975    0.2946     0.0093    0.0105    574.9849    1.0035    ⋯\n",
       "  ϵ_draw[12]    0.4103    0.2731     0.0086    0.0092    685.8210    0.9992    ⋯\n",
       "  ϵ_draw[13]    1.0633    0.3057     0.0097    0.0117    412.3418    1.0139    ⋯\n",
       "  ϵ_draw[14]    0.3352    0.2710     0.0086    0.0097    709.8016    0.9995    ⋯\n",
       "  ϵ_draw[15]   -0.1508    0.2686     0.0085    0.0096    917.7170    0.9992    ⋯\n",
       "  ϵ_draw[16]   -1.7134    0.3588     0.0113    0.0162    360.6705    1.0041    ⋯\n",
       "  ϵ_draw[17]   -0.9634    0.2927     0.0093    0.0143    347.8498    1.0096    ⋯\n",
       "  ϵ_draw[18]   -0.0789    0.2555     0.0081    0.0115    661.6874    0.9998    ⋯\n",
       "  ϵ_draw[19]   -0.6378    0.2576     0.0081    0.0103    749.7238    0.9994    ⋯\n",
       "  ϵ_draw[20]    0.4812    0.2548     0.0081    0.0072    919.4010    0.9996    ⋯\n",
       "  ϵ_draw[21]   -0.3208    0.7838     0.0248    0.0465    191.8998    1.0022    ⋯\n",
       "\u001b[36m                                                                1 column omitted\u001b[0m\n",
       "\n",
       "Quantiles\n",
       " \u001b[1m parameters \u001b[0m \u001b[1m    2.5% \u001b[0m \u001b[1m   25.0% \u001b[0m \u001b[1m   50.0% \u001b[0m \u001b[1m   75.0% \u001b[0m \u001b[1m   97.5% \u001b[0m\n",
       " \u001b[90m     Symbol \u001b[0m \u001b[90m Float64 \u001b[0m \u001b[90m Float64 \u001b[0m \u001b[90m Float64 \u001b[0m \u001b[90m Float64 \u001b[0m \u001b[90m Float64 \u001b[0m\n",
       "\n",
       "           α    0.4350    0.4651    0.4800    0.4953    0.5208\n",
       "           β    0.9429    0.9502    0.9538    0.9579    0.9649\n",
       "   ϵ_draw[1]   -3.1431   -2.6100   -2.3336   -2.0510   -1.6923\n",
       "   ϵ_draw[2]   -1.2758   -0.8172   -0.6384   -0.4416   -0.1156\n",
       "   ϵ_draw[3]   -1.2142   -0.7888   -0.5762   -0.4104   -0.0788\n",
       "   ϵ_draw[4]   -0.7989   -0.3929   -0.2002   -0.0313    0.3138\n",
       "   ϵ_draw[5]   -0.8290   -0.4392   -0.2657   -0.0875    0.2710\n",
       "   ϵ_draw[6]   -0.2180    0.1040    0.2670    0.4555    0.7930\n",
       "   ϵ_draw[7]   -0.7782   -0.4155   -0.2301   -0.0572    0.2436\n",
       "   ϵ_draw[8]   -0.9961   -0.6449   -0.4329   -0.2492    0.0441\n",
       "   ϵ_draw[9]   -3.0350   -2.4719   -2.2078   -1.9251   -1.4906\n",
       "  ϵ_draw[10]   -0.4351   -0.0957    0.0685    0.2376    0.5813\n",
       "  ϵ_draw[11]    0.3660    0.6869    0.8777    1.0848    1.5270\n",
       "  ϵ_draw[12]   -0.1018    0.2348    0.4017    0.5746    0.9804\n",
       "  ϵ_draw[13]    0.4874    0.8537    1.0492    1.2713    1.6708\n",
       "  ϵ_draw[14]   -0.2123    0.1665    0.3320    0.5066    0.8875\n",
       "  ϵ_draw[15]   -0.7031   -0.3123   -0.1486    0.0263    0.3407\n",
       "  ϵ_draw[16]   -2.4376   -1.9652   -1.6841   -1.4530   -1.1016\n",
       "  ϵ_draw[17]   -1.6366   -1.1599   -0.9514   -0.7484   -0.4404\n",
       "  ϵ_draw[18]   -0.5695   -0.2428   -0.0844    0.0954    0.4108\n",
       "  ϵ_draw[19]   -1.1501   -0.8047   -0.6300   -0.4748   -0.1331\n",
       "  ϵ_draw[20]   -0.0122    0.3103    0.4764    0.6415    0.9905\n",
       "  ϵ_draw[21]   -1.8368   -0.8498   -0.3067    0.1728    1.2446\n"
      ]
     },
     "execution_count": 33,
     "metadata": {},
     "output_type": "execute_result"
    }
   ],
   "source": [
    "# Turing model definition\n",
    "@model function rbc_2_joint(z, m, p_f, cache, settings)\n",
    "    α ~ Uniform(0.2, 0.8)\n",
    "    β ~ Uniform(0.5, 0.99)\n",
    "    p_d = (; α, β)\n",
    "    T = size(z, 2)\n",
    "    ϵ_draw ~ MvNormal(m.n_ϵ * T, 1.0) # add noise to the estimation\n",
    "    ϵ = reshape(ϵ_draw, m.n_ϵ, T)\n",
    "    sol = generate_perturbation(m, p_d, p_f, Val(2); cache, settings)\n",
    "    if !(sol.retcode == :Success)\n",
    "        @addlogprob! -Inf\n",
    "        return\n",
    "    end\n",
    "    problem = QuadraticStateSpaceProblem(sol, zeros(2), (0, T), observables = z, noise=ϵ)\n",
    "    @addlogprob! solve(problem, DirectIteration()).logpdf\n",
    "end\n",
    "cache = SolverCache(model_rbc, Val(2),  [:α, :β])\n",
    "settings = PerturbationSolverSettings(; print_level = 0)\n",
    "z = z_rbc # simulated in previous steps\n",
    "p_f = (ρ = 0.2, δ = 0.02, σ = 0.01, Ω_1 = 0.01) # Fixed parameters\n",
    "turing_model = rbc_2_joint(z, model_rbc, p_f, cache, settings) # passing observables from before \n",
    "\n",
    "n_samples = 1000\n",
    "n_adapts = 250\n",
    "δ = 0.65\n",
    "alg = NUTS(n_adapts,δ)\n",
    "chain_2_joint = sample(turing_model, alg, n_samples; progress = true)"
   ]
  },
  {
   "cell_type": "markdown",
   "metadata": {},
   "source": [
    "## Plotting the estimated latent states"
   ]
  },
  {
   "cell_type": "code",
   "execution_count": 34,
   "metadata": {},
   "outputs": [
    {
     "data": {
      "image/svg+xml": [
       "<?xml version=\"1.0\" encoding=\"utf-8\"?>\n",
       "<svg xmlns=\"http://www.w3.org/2000/svg\" xmlns:xlink=\"http://www.w3.org/1999/xlink\" width=\"600\" height=\"400\" viewBox=\"0 0 2400 1600\">\n",
       "<defs>\n",
       "  <clipPath id=\"clip900\">\n",
       "    <rect x=\"0\" y=\"0\" width=\"2400\" height=\"1600\"/>\n",
       "  </clipPath>\n",
       "</defs>\n",
       "<path clip-path=\"url(#clip900)\" d=\"\n",
       "M0 1600 L2400 1600 L2400 0 L0 0  Z\n",
       "  \" fill=\"#ffffff\" fill-rule=\"evenodd\" fill-opacity=\"1\"/>\n",
       "<defs>\n",
       "  <clipPath id=\"clip901\">\n",
       "    <rect x=\"480\" y=\"0\" width=\"1681\" height=\"1600\"/>\n",
       "  </clipPath>\n",
       "</defs>\n",
       "<path clip-path=\"url(#clip900)\" d=\"\n",
       "M148.057 1486.45 L2352.76 1486.45 L2352.76 123.472 L148.057 123.472  Z\n",
       "  \" fill=\"#ffffff\" fill-rule=\"evenodd\" fill-opacity=\"1\"/>\n",
       "<defs>\n",
       "  <clipPath id=\"clip902\">\n",
       "    <rect x=\"148\" y=\"123\" width=\"2206\" height=\"1364\"/>\n",
       "  </clipPath>\n",
       "</defs>\n",
       "<polyline clip-path=\"url(#clip902)\" style=\"stroke:#000000; stroke-linecap:butt; stroke-linejoin:round; stroke-width:2; stroke-opacity:0.1; fill:none\" points=\"\n",
       "  648.328,1486.45 648.328,123.472 \n",
       "  \"/>\n",
       "<polyline clip-path=\"url(#clip902)\" style=\"stroke:#000000; stroke-linecap:butt; stroke-linejoin:round; stroke-width:2; stroke-opacity:0.1; fill:none\" points=\"\n",
       "  1195.67,1486.45 1195.67,123.472 \n",
       "  \"/>\n",
       "<polyline clip-path=\"url(#clip902)\" style=\"stroke:#000000; stroke-linecap:butt; stroke-linejoin:round; stroke-width:2; stroke-opacity:0.1; fill:none\" points=\"\n",
       "  1743.02,1486.45 1743.02,123.472 \n",
       "  \"/>\n",
       "<polyline clip-path=\"url(#clip902)\" style=\"stroke:#000000; stroke-linecap:butt; stroke-linejoin:round; stroke-width:2; stroke-opacity:0.1; fill:none\" points=\"\n",
       "  2290.36,1486.45 2290.36,123.472 \n",
       "  \"/>\n",
       "<polyline clip-path=\"url(#clip900)\" style=\"stroke:#000000; stroke-linecap:butt; stroke-linejoin:round; stroke-width:4; stroke-opacity:1; fill:none\" points=\"\n",
       "  148.057,1486.45 2352.76,1486.45 \n",
       "  \"/>\n",
       "<polyline clip-path=\"url(#clip900)\" style=\"stroke:#000000; stroke-linecap:butt; stroke-linejoin:round; stroke-width:4; stroke-opacity:1; fill:none\" points=\"\n",
       "  648.328,1486.45 648.328,1467.55 \n",
       "  \"/>\n",
       "<polyline clip-path=\"url(#clip900)\" style=\"stroke:#000000; stroke-linecap:butt; stroke-linejoin:round; stroke-width:4; stroke-opacity:1; fill:none\" points=\"\n",
       "  1195.67,1486.45 1195.67,1467.55 \n",
       "  \"/>\n",
       "<polyline clip-path=\"url(#clip900)\" style=\"stroke:#000000; stroke-linecap:butt; stroke-linejoin:round; stroke-width:4; stroke-opacity:1; fill:none\" points=\"\n",
       "  1743.02,1486.45 1743.02,1467.55 \n",
       "  \"/>\n",
       "<polyline clip-path=\"url(#clip900)\" style=\"stroke:#000000; stroke-linecap:butt; stroke-linejoin:round; stroke-width:4; stroke-opacity:1; fill:none\" points=\"\n",
       "  2290.36,1486.45 2290.36,1467.55 \n",
       "  \"/>\n",
       "<path clip-path=\"url(#clip900)\" d=\"M638.606 1514.29 L656.963 1514.29 L656.963 1518.22 L642.889 1518.22 L642.889 1526.7 Q643.907 1526.35 644.926 1526.19 Q645.944 1526 646.963 1526 Q652.75 1526 656.129 1529.17 Q659.509 1532.34 659.509 1537.76 Q659.509 1543.34 656.037 1546.44 Q652.565 1549.52 646.245 1549.52 Q644.069 1549.52 641.801 1549.15 Q639.555 1548.78 637.148 1548.04 L637.148 1543.34 Q639.231 1544.47 641.454 1545.03 Q643.676 1545.58 646.153 1545.58 Q650.157 1545.58 652.495 1543.48 Q654.833 1541.37 654.833 1537.76 Q654.833 1534.15 652.495 1532.04 Q650.157 1529.94 646.153 1529.94 Q644.278 1529.94 642.403 1530.35 Q640.551 1530.77 638.606 1531.65 L638.606 1514.29 Z\" fill=\"#000000\" fill-rule=\"evenodd\" fill-opacity=\"1\" /><path clip-path=\"url(#clip900)\" d=\"M1170.36 1544.91 L1178 1544.91 L1178 1518.55 L1169.69 1520.21 L1169.69 1515.95 L1177.95 1514.29 L1182.63 1514.29 L1182.63 1544.91 L1190.27 1544.91 L1190.27 1548.85 L1170.36 1548.85 L1170.36 1544.91 Z\" fill=\"#000000\" fill-rule=\"evenodd\" fill-opacity=\"1\" /><path clip-path=\"url(#clip900)\" d=\"M1209.71 1517.37 Q1206.1 1517.37 1204.27 1520.93 Q1202.47 1524.47 1202.47 1531.6 Q1202.47 1538.71 1204.27 1542.27 Q1206.1 1545.82 1209.71 1545.82 Q1213.35 1545.82 1215.15 1542.27 Q1216.98 1538.71 1216.98 1531.6 Q1216.98 1524.47 1215.15 1520.93 Q1213.35 1517.37 1209.71 1517.37 M1209.71 1513.66 Q1215.52 1513.66 1218.58 1518.27 Q1221.66 1522.85 1221.66 1531.6 Q1221.66 1540.33 1218.58 1544.94 Q1215.52 1549.52 1209.71 1549.52 Q1203.9 1549.52 1200.82 1544.94 Q1197.77 1540.33 1197.77 1531.6 Q1197.77 1522.85 1200.82 1518.27 Q1203.9 1513.66 1209.71 1513.66 Z\" fill=\"#000000\" fill-rule=\"evenodd\" fill-opacity=\"1\" /><path clip-path=\"url(#clip900)\" d=\"M1718.2 1544.91 L1725.84 1544.91 L1725.84 1518.55 L1717.53 1520.21 L1717.53 1515.95 L1725.79 1514.29 L1730.47 1514.29 L1730.47 1544.91 L1738.11 1544.91 L1738.11 1548.85 L1718.2 1548.85 L1718.2 1544.91 Z\" fill=\"#000000\" fill-rule=\"evenodd\" fill-opacity=\"1\" /><path clip-path=\"url(#clip900)\" d=\"M1747.6 1514.29 L1765.96 1514.29 L1765.96 1518.22 L1751.88 1518.22 L1751.88 1526.7 Q1752.9 1526.35 1753.92 1526.19 Q1754.94 1526 1755.96 1526 Q1761.74 1526 1765.12 1529.17 Q1768.5 1532.34 1768.5 1537.76 Q1768.5 1543.34 1765.03 1546.44 Q1761.56 1549.52 1755.24 1549.52 Q1753.06 1549.52 1750.79 1549.15 Q1748.55 1548.78 1746.14 1548.04 L1746.14 1543.34 Q1748.22 1544.47 1750.45 1545.03 Q1752.67 1545.58 1755.14 1545.58 Q1759.15 1545.58 1761.49 1543.48 Q1763.83 1541.37 1763.83 1537.76 Q1763.83 1534.15 1761.49 1532.04 Q1759.15 1529.94 1755.14 1529.94 Q1753.27 1529.94 1751.39 1530.35 Q1749.54 1530.77 1747.6 1531.65 L1747.6 1514.29 Z\" fill=\"#000000\" fill-rule=\"evenodd\" fill-opacity=\"1\" /><path clip-path=\"url(#clip900)\" d=\"M2269.13 1544.91 L2285.45 1544.91 L2285.45 1548.85 L2263.51 1548.85 L2263.51 1544.91 Q2266.17 1542.16 2270.75 1537.53 Q2275.36 1532.88 2276.54 1531.53 Q2278.78 1529.01 2279.66 1527.27 Q2280.57 1525.51 2280.57 1523.82 Q2280.57 1521.07 2278.62 1519.33 Q2276.7 1517.6 2273.6 1517.6 Q2271.4 1517.6 2268.95 1518.36 Q2266.52 1519.13 2263.74 1520.68 L2263.74 1515.95 Q2266.56 1514.82 2269.02 1514.24 Q2271.47 1513.66 2273.51 1513.66 Q2278.88 1513.66 2282.07 1516.35 Q2285.27 1519.03 2285.27 1523.52 Q2285.27 1525.65 2284.46 1527.57 Q2283.67 1529.47 2281.56 1532.07 Q2280.98 1532.74 2277.88 1535.95 Q2274.78 1539.15 2269.13 1544.91 Z\" fill=\"#000000\" fill-rule=\"evenodd\" fill-opacity=\"1\" /><path clip-path=\"url(#clip900)\" d=\"M2305.27 1517.37 Q2301.65 1517.37 2299.83 1520.93 Q2298.02 1524.47 2298.02 1531.6 Q2298.02 1538.71 2299.83 1542.27 Q2301.65 1545.82 2305.27 1545.82 Q2308.9 1545.82 2310.71 1542.27 Q2312.53 1538.71 2312.53 1531.6 Q2312.53 1524.47 2310.71 1520.93 Q2308.9 1517.37 2305.27 1517.37 M2305.27 1513.66 Q2311.08 1513.66 2314.13 1518.27 Q2317.21 1522.85 2317.21 1531.6 Q2317.21 1540.33 2314.13 1544.94 Q2311.08 1549.52 2305.27 1549.52 Q2299.46 1549.52 2296.38 1544.94 Q2293.32 1540.33 2293.32 1531.6 Q2293.32 1522.85 2296.38 1518.27 Q2299.46 1513.66 2305.27 1513.66 Z\" fill=\"#000000\" fill-rule=\"evenodd\" fill-opacity=\"1\" /><polyline clip-path=\"url(#clip902)\" style=\"stroke:#000000; stroke-linecap:butt; stroke-linejoin:round; stroke-width:2; stroke-opacity:0.1; fill:none\" points=\"\n",
       "  148.057,1424.43 2352.76,1424.43 \n",
       "  \"/>\n",
       "<polyline clip-path=\"url(#clip902)\" style=\"stroke:#000000; stroke-linecap:butt; stroke-linejoin:round; stroke-width:2; stroke-opacity:0.1; fill:none\" points=\"\n",
       "  148.057,1153.77 2352.76,1153.77 \n",
       "  \"/>\n",
       "<polyline clip-path=\"url(#clip902)\" style=\"stroke:#000000; stroke-linecap:butt; stroke-linejoin:round; stroke-width:2; stroke-opacity:0.1; fill:none\" points=\"\n",
       "  148.057,883.116 2352.76,883.116 \n",
       "  \"/>\n",
       "<polyline clip-path=\"url(#clip902)\" style=\"stroke:#000000; stroke-linecap:butt; stroke-linejoin:round; stroke-width:2; stroke-opacity:0.1; fill:none\" points=\"\n",
       "  148.057,612.457 2352.76,612.457 \n",
       "  \"/>\n",
       "<polyline clip-path=\"url(#clip902)\" style=\"stroke:#000000; stroke-linecap:butt; stroke-linejoin:round; stroke-width:2; stroke-opacity:0.1; fill:none\" points=\"\n",
       "  148.057,341.798 2352.76,341.798 \n",
       "  \"/>\n",
       "<polyline clip-path=\"url(#clip900)\" style=\"stroke:#000000; stroke-linecap:butt; stroke-linejoin:round; stroke-width:4; stroke-opacity:1; fill:none\" points=\"\n",
       "  148.057,1486.45 148.057,123.472 \n",
       "  \"/>\n",
       "<polyline clip-path=\"url(#clip900)\" style=\"stroke:#000000; stroke-linecap:butt; stroke-linejoin:round; stroke-width:4; stroke-opacity:1; fill:none\" points=\"\n",
       "  148.057,1424.43 166.954,1424.43 \n",
       "  \"/>\n",
       "<polyline clip-path=\"url(#clip900)\" style=\"stroke:#000000; stroke-linecap:butt; stroke-linejoin:round; stroke-width:4; stroke-opacity:1; fill:none\" points=\"\n",
       "  148.057,1153.77 166.954,1153.77 \n",
       "  \"/>\n",
       "<polyline clip-path=\"url(#clip900)\" style=\"stroke:#000000; stroke-linecap:butt; stroke-linejoin:round; stroke-width:4; stroke-opacity:1; fill:none\" points=\"\n",
       "  148.057,883.116 166.954,883.116 \n",
       "  \"/>\n",
       "<polyline clip-path=\"url(#clip900)\" style=\"stroke:#000000; stroke-linecap:butt; stroke-linejoin:round; stroke-width:4; stroke-opacity:1; fill:none\" points=\"\n",
       "  148.057,612.457 166.954,612.457 \n",
       "  \"/>\n",
       "<polyline clip-path=\"url(#clip900)\" style=\"stroke:#000000; stroke-linecap:butt; stroke-linejoin:round; stroke-width:4; stroke-opacity:1; fill:none\" points=\"\n",
       "  148.057,341.798 166.954,341.798 \n",
       "  \"/>\n",
       "<path clip-path=\"url(#clip900)\" d=\"M50.9921 1424.89 L80.6679 1424.89 L80.6679 1428.82 L50.9921 1428.82 L50.9921 1424.89 Z\" fill=\"#000000\" fill-rule=\"evenodd\" fill-opacity=\"1\" /><path clip-path=\"url(#clip900)\" d=\"M104.927 1423.08 Q108.283 1423.8 110.158 1426.07 Q112.057 1428.33 112.057 1431.67 Q112.057 1436.78 108.538 1439.58 Q105.02 1442.39 98.5382 1442.39 Q96.3623 1442.39 94.0475 1441.95 Q91.7558 1441.53 89.3021 1440.67 L89.3021 1436.16 Q91.2465 1437.29 93.5613 1437.87 Q95.8761 1438.45 98.3993 1438.45 Q102.797 1438.45 105.089 1436.71 Q107.404 1434.98 107.404 1431.67 Q107.404 1428.61 105.251 1426.9 Q103.121 1425.16 99.3021 1425.16 L95.2743 1425.16 L95.2743 1421.32 L99.4872 1421.32 Q102.936 1421.32 104.765 1419.95 Q106.594 1418.57 106.594 1415.97 Q106.594 1413.31 104.696 1411.9 Q102.821 1410.46 99.3021 1410.46 Q97.3808 1410.46 95.1817 1410.88 Q92.9826 1411.3 90.3438 1412.18 L90.3438 1408.01 Q93.0058 1407.27 95.3206 1406.9 Q97.6585 1406.53 99.7187 1406.53 Q105.043 1406.53 108.145 1408.96 Q111.246 1411.37 111.246 1415.49 Q111.246 1418.36 109.603 1420.35 Q107.959 1422.32 104.927 1423.08 Z\" fill=\"#000000\" fill-rule=\"evenodd\" fill-opacity=\"1\" /><path clip-path=\"url(#clip900)\" d=\"M51.9412 1154.23 L81.617 1154.23 L81.617 1158.16 L51.9412 1158.16 L51.9412 1154.23 Z\" fill=\"#000000\" fill-rule=\"evenodd\" fill-opacity=\"1\" /><path clip-path=\"url(#clip900)\" d=\"M95.7373 1167.12 L112.057 1167.12 L112.057 1171.05 L90.1123 1171.05 L90.1123 1167.12 Q92.7743 1164.37 97.3576 1159.74 Q101.964 1155.08 103.145 1153.74 Q105.39 1151.22 106.27 1149.48 Q107.172 1147.72 107.172 1146.03 Q107.172 1143.28 105.228 1141.54 Q103.307 1139.81 100.205 1139.81 Q98.0058 1139.81 95.5521 1140.57 Q93.1215 1141.33 90.3438 1142.88 L90.3438 1138.16 Q93.1678 1137.03 95.6215 1136.45 Q98.0752 1135.87 100.112 1135.87 Q105.483 1135.87 108.677 1138.56 Q111.871 1141.24 111.871 1145.73 Q111.871 1147.86 111.061 1149.78 Q110.274 1151.68 108.168 1154.27 Q107.589 1154.94 104.487 1158.16 Q101.385 1161.36 95.7373 1167.12 Z\" fill=\"#000000\" fill-rule=\"evenodd\" fill-opacity=\"1\" /><path clip-path=\"url(#clip900)\" d=\"M51.5708 883.567 L81.2466 883.567 L81.2466 887.502 L51.5708 887.502 L51.5708 883.567 Z\" fill=\"#000000\" fill-rule=\"evenodd\" fill-opacity=\"1\" /><path clip-path=\"url(#clip900)\" d=\"M92.1493 896.461 L99.7882 896.461 L99.7882 870.095 L91.478 871.762 L91.478 867.503 L99.7419 865.836 L104.418 865.836 L104.418 896.461 L112.057 896.461 L112.057 900.396 L92.1493 900.396 L92.1493 896.461 Z\" fill=\"#000000\" fill-rule=\"evenodd\" fill-opacity=\"1\" /><path clip-path=\"url(#clip900)\" d=\"M100.112 598.256 Q96.5011 598.256 94.6724 601.82 Q92.8669 605.362 92.8669 612.492 Q92.8669 619.598 94.6724 623.163 Q96.5011 626.705 100.112 626.705 Q103.746 626.705 105.552 623.163 Q107.381 619.598 107.381 612.492 Q107.381 605.362 105.552 601.82 Q103.746 598.256 100.112 598.256 M100.112 594.552 Q105.922 594.552 108.978 599.158 Q112.057 603.742 112.057 612.492 Q112.057 621.218 108.978 625.825 Q105.922 630.408 100.112 630.408 Q94.3021 630.408 91.2234 625.825 Q88.1679 621.218 88.1679 612.492 Q88.1679 603.742 91.2234 599.158 Q94.3021 594.552 100.112 594.552 Z\" fill=\"#000000\" fill-rule=\"evenodd\" fill-opacity=\"1\" /><path clip-path=\"url(#clip900)\" d=\"M92.1493 355.143 L99.7882 355.143 L99.7882 328.777 L91.478 330.444 L91.478 326.185 L99.7419 324.518 L104.418 324.518 L104.418 355.143 L112.057 355.143 L112.057 359.078 L92.1493 359.078 L92.1493 355.143 Z\" fill=\"#000000\" fill-rule=\"evenodd\" fill-opacity=\"1\" /><path clip-path=\"url(#clip900)\" d=\"M525.943 12.096 L560.699 12.096 L560.699 18.9825 L534.125 18.9825 L534.125 36.8065 L558.107 36.8065 L558.107 43.6931 L534.125 43.6931 L534.125 72.576 L525.943 72.576 L525.943 12.096 Z\" fill=\"#000000\" fill-rule=\"evenodd\" fill-opacity=\"1\" /><path clip-path=\"url(#clip900)\" d=\"M567.302 27.2059 L574.756 27.2059 L574.756 72.576 L567.302 72.576 L567.302 27.2059 M567.302 9.54393 L574.756 9.54393 L574.756 18.9825 L567.302 18.9825 L567.302 9.54393 Z\" fill=\"#000000\" fill-rule=\"evenodd\" fill-opacity=\"1\" /><path clip-path=\"url(#clip900)\" d=\"M616.642 34.1734 Q615.387 33.4443 613.888 33.1202 Q612.429 32.7556 610.647 32.7556 Q604.328 32.7556 600.925 36.8875 Q597.563 40.9789 597.563 48.6757 L597.563 72.576 L590.068 72.576 L590.068 27.2059 L597.563 27.2059 L597.563 34.2544 Q599.912 30.1225 603.679 28.1376 Q607.447 26.1121 612.834 26.1121 Q613.604 26.1121 614.536 26.2337 Q615.468 26.3147 616.602 26.5172 L616.642 34.1734 Z\" fill=\"#000000\" fill-rule=\"evenodd\" fill-opacity=\"1\" /><path clip-path=\"url(#clip900)\" d=\"M653.384 28.5427 L653.384 35.5912 Q650.224 33.9709 646.822 33.1607 Q643.419 32.3505 639.773 32.3505 Q634.223 32.3505 631.428 34.0519 Q628.673 35.7533 628.673 39.156 Q628.673 41.7486 630.658 43.2475 Q632.643 44.7058 638.639 46.0426 L641.191 46.6097 Q649.131 48.3111 652.452 51.4303 Q655.815 54.509 655.815 60.0587 Q655.815 66.3781 650.791 70.0644 Q645.809 73.7508 637.059 73.7508 Q633.413 73.7508 629.443 73.0216 Q625.514 72.3329 621.139 70.9151 L621.139 63.2184 Q625.271 65.3654 629.281 66.4591 Q633.292 67.5124 637.221 67.5124 Q642.487 67.5124 645.323 65.73 Q648.158 63.9071 648.158 60.6258 Q648.158 57.5877 646.092 55.9673 Q644.067 54.3469 637.14 52.8481 L634.547 52.2405 Q627.62 50.7821 624.542 47.7845 Q621.463 44.7463 621.463 39.4801 Q621.463 33.0797 626 29.5959 Q630.537 26.1121 638.882 26.1121 Q643.014 26.1121 646.659 26.7198 Q650.305 27.3274 653.384 28.5427 Z\" fill=\"#000000\" fill-rule=\"evenodd\" fill-opacity=\"1\" /><path clip-path=\"url(#clip900)\" d=\"M675.056 14.324 L675.056 27.2059 L690.409 27.2059 L690.409 32.9987 L675.056 32.9987 L675.056 57.6282 Q675.056 63.1779 676.555 64.7578 Q678.095 66.3376 682.753 66.3376 L690.409 66.3376 L690.409 72.576 L682.753 72.576 Q674.125 72.576 670.843 69.3758 Q667.562 66.1351 667.562 57.6282 L667.562 32.9987 L662.093 32.9987 L662.093 27.2059 L667.562 27.2059 L667.562 14.324 L675.056 14.324 Z\" fill=\"#000000\" fill-rule=\"evenodd\" fill-opacity=\"1\" /><path clip-path=\"url(#clip900)\" d=\"M696.445 46.5287 L718.279 46.5287 L718.279 53.1722 L696.445 53.1722 L696.445 46.5287 Z\" fill=\"#000000\" fill-rule=\"evenodd\" fill-opacity=\"1\" /><path clip-path=\"url(#clip900)\" d=\"M757.33 17.6457 Q748.418 17.6457 743.152 24.2892 Q737.926 30.9327 737.926 42.3968 Q737.926 53.8203 743.152 60.4638 Q748.418 67.1073 757.33 67.1073 Q766.242 67.1073 771.427 60.4638 Q776.653 53.8203 776.653 42.3968 Q776.653 30.9327 771.427 24.2892 Q766.242 17.6457 757.33 17.6457 M757.33 11.0023 Q770.05 11.0023 777.666 19.5497 Q785.281 28.0566 785.281 42.3968 Q785.281 56.6965 777.666 65.2439 Q770.05 73.7508 757.33 73.7508 Q744.57 73.7508 736.914 65.2439 Q729.298 56.737 729.298 42.3968 Q729.298 28.0566 736.914 19.5497 Q744.57 11.0023 757.33 11.0023 Z\" fill=\"#000000\" fill-rule=\"evenodd\" fill-opacity=\"1\" /><path clip-path=\"url(#clip900)\" d=\"M824.049 34.1734 Q822.793 33.4443 821.294 33.1202 Q819.836 32.7556 818.053 32.7556 Q811.734 32.7556 808.331 36.8875 Q804.969 40.9789 804.969 48.6757 L804.969 72.576 L797.475 72.576 L797.475 27.2059 L804.969 27.2059 L804.969 34.2544 Q807.318 30.1225 811.086 28.1376 Q814.853 26.1121 820.241 26.1121 Q821.01 26.1121 821.942 26.2337 Q822.874 26.3147 824.008 26.5172 L824.049 34.1734 Z\" fill=\"#000000\" fill-rule=\"evenodd\" fill-opacity=\"1\" /><path clip-path=\"url(#clip900)\" d=\"M860.264 34.0924 L860.264 9.54393 L867.717 9.54393 L867.717 72.576 L860.264 72.576 L860.264 65.7705 Q857.914 69.8214 854.309 71.8063 Q850.744 73.7508 845.721 73.7508 Q837.498 73.7508 832.312 67.1883 Q827.168 60.6258 827.168 49.9314 Q827.168 39.2371 832.312 32.6746 Q837.498 26.1121 845.721 26.1121 Q850.744 26.1121 854.309 28.0971 Q857.914 30.0415 860.264 34.0924 M834.865 49.9314 Q834.865 58.1548 838.227 62.8538 Q841.63 67.5124 847.544 67.5124 Q853.458 67.5124 856.861 62.8538 Q860.264 58.1548 860.264 49.9314 Q860.264 41.7081 856.861 37.0496 Q853.458 32.3505 847.544 32.3505 Q841.63 32.3505 838.227 37.0496 Q834.865 41.7081 834.865 49.9314 Z\" fill=\"#000000\" fill-rule=\"evenodd\" fill-opacity=\"1\" /><path clip-path=\"url(#clip900)\" d=\"M921.878 48.0275 L921.878 51.6733 L887.607 51.6733 Q888.093 59.3701 892.225 63.421 Q896.398 67.4314 903.811 67.4314 Q908.105 67.4314 912.115 66.3781 Q916.166 65.3249 920.136 63.2184 L920.136 70.267 Q916.126 71.9684 911.913 72.8596 Q907.7 73.7508 903.365 73.7508 Q892.509 73.7508 886.149 67.4314 Q879.83 61.1119 879.83 50.3365 Q879.83 39.1965 885.825 32.6746 Q891.861 26.1121 902.069 26.1121 Q911.224 26.1121 916.531 32.0264 Q921.878 37.9003 921.878 48.0275 M914.424 45.84 Q914.343 39.7232 910.981 36.0774 Q907.659 32.4315 902.15 32.4315 Q895.912 32.4315 892.144 35.9558 Q888.417 39.4801 887.85 45.8805 L914.424 45.84 Z\" fill=\"#000000\" fill-rule=\"evenodd\" fill-opacity=\"1\" /><path clip-path=\"url(#clip900)\" d=\"M960.402 34.1734 Q959.146 33.4443 957.647 33.1202 Q956.189 32.7556 954.407 32.7556 Q948.087 32.7556 944.685 36.8875 Q941.322 40.9789 941.322 48.6757 L941.322 72.576 L933.828 72.576 L933.828 27.2059 L941.322 27.2059 L941.322 34.2544 Q943.672 30.1225 947.439 28.1376 Q951.206 26.1121 956.594 26.1121 Q957.364 26.1121 958.296 26.2337 Q959.227 26.3147 960.362 26.5172 L960.402 34.1734 Z\" fill=\"#000000\" fill-rule=\"evenodd\" fill-opacity=\"1\" /><path clip-path=\"url(#clip900)\" d=\"M994.916 12.096 L1003.1 12.096 L1003.1 68.3631 Q1003.1 79.3005 998.926 84.2426 Q994.794 89.1847 985.599 89.1847 L982.479 89.1847 L982.479 82.2982 L985.032 82.2982 Q990.46 82.2982 992.688 79.26 Q994.916 76.2218 994.916 68.3631 L994.916 12.096 Z\" fill=\"#000000\" fill-rule=\"evenodd\" fill-opacity=\"1\" /><path clip-path=\"url(#clip900)\" d=\"M1036.64 32.4315 Q1030.64 32.4315 1027.16 37.1306 Q1023.68 41.7891 1023.68 49.9314 Q1023.68 58.0738 1027.12 62.7728 Q1030.6 67.4314 1036.64 67.4314 Q1042.59 67.4314 1046.08 62.7323 Q1049.56 58.0333 1049.56 49.9314 Q1049.56 41.8701 1046.08 37.1711 Q1042.59 32.4315 1036.64 32.4315 M1036.64 26.1121 Q1046.36 26.1121 1051.91 32.4315 Q1057.46 38.7509 1057.46 49.9314 Q1057.46 61.0714 1051.91 67.4314 Q1046.36 73.7508 1036.64 73.7508 Q1026.88 73.7508 1021.33 67.4314 Q1015.82 61.0714 1015.82 49.9314 Q1015.82 38.7509 1021.33 32.4315 Q1026.88 26.1121 1036.64 26.1121 Z\" fill=\"#000000\" fill-rule=\"evenodd\" fill-opacity=\"1\" /><path clip-path=\"url(#clip900)\" d=\"M1069.82 27.2059 L1077.27 27.2059 L1077.27 72.576 L1069.82 72.576 L1069.82 27.2059 M1069.82 9.54393 L1077.27 9.54393 L1077.27 18.9825 L1069.82 18.9825 L1069.82 9.54393 Z\" fill=\"#000000\" fill-rule=\"evenodd\" fill-opacity=\"1\" /><path clip-path=\"url(#clip900)\" d=\"M1130.58 45.1919 L1130.58 72.576 L1123.13 72.576 L1123.13 45.4349 Q1123.13 38.994 1120.62 35.7938 Q1118.1 32.5936 1113.08 32.5936 Q1107.04 32.5936 1103.56 36.4419 Q1100.08 40.2903 1100.08 46.9338 L1100.08 72.576 L1092.58 72.576 L1092.58 27.2059 L1100.08 27.2059 L1100.08 34.2544 Q1102.75 30.163 1106.36 28.1376 Q1110 26.1121 1114.74 26.1121 Q1122.56 26.1121 1126.57 30.9732 Q1130.58 35.7938 1130.58 45.1919 Z\" fill=\"#000000\" fill-rule=\"evenodd\" fill-opacity=\"1\" /><path clip-path=\"url(#clip900)\" d=\"M1152.82 14.324 L1152.82 27.2059 L1168.17 27.2059 L1168.17 32.9987 L1152.82 32.9987 L1152.82 57.6282 Q1152.82 63.1779 1154.32 64.7578 Q1155.86 66.3376 1160.52 66.3376 L1168.17 66.3376 L1168.17 72.576 L1160.52 72.576 Q1151.89 72.576 1148.61 69.3758 Q1145.33 66.1351 1145.33 57.6282 L1145.33 32.9987 L1139.86 32.9987 L1139.86 27.2059 L1145.33 27.2059 L1145.33 14.324 L1152.82 14.324 Z\" fill=\"#000000\" fill-rule=\"evenodd\" fill-opacity=\"1\" /><path clip-path=\"url(#clip900)\" d=\"M1179.88 62.2867 L1188.43 62.2867 L1188.43 72.576 L1179.88 72.576 L1179.88 62.2867 M1179.88 29.6769 L1188.43 29.6769 L1188.43 39.9662 L1179.88 39.9662 L1179.88 29.6769 Z\" fill=\"#000000\" fill-rule=\"evenodd\" fill-opacity=\"1\" /><path clip-path=\"url(#clip900)\" d=\"M1232.62 12.096 L1270.86 12.096 L1270.86 18.9825 L1240.81 18.9825 L1240.81 36.8875 L1269.61 36.8875 L1269.61 43.7741 L1240.81 43.7741 L1240.81 65.6895 L1271.59 65.6895 L1271.59 72.576 L1232.62 72.576 L1232.62 12.096 Z\" fill=\"#000000\" fill-rule=\"evenodd\" fill-opacity=\"1\" /><path clip-path=\"url(#clip900)\" d=\"M1313.64 28.5427 L1313.64 35.5912 Q1310.48 33.9709 1307.08 33.1607 Q1303.68 32.3505 1300.03 32.3505 Q1294.48 32.3505 1291.68 34.0519 Q1288.93 35.7533 1288.93 39.156 Q1288.93 41.7486 1290.92 43.2475 Q1292.9 44.7058 1298.9 46.0426 L1301.45 46.6097 Q1309.39 48.3111 1312.71 51.4303 Q1316.07 54.509 1316.07 60.0587 Q1316.07 66.3781 1311.05 70.0644 Q1306.07 73.7508 1297.32 73.7508 Q1293.67 73.7508 1289.7 73.0216 Q1285.77 72.3329 1281.4 70.9151 L1281.4 63.2184 Q1285.53 65.3654 1289.54 66.4591 Q1293.55 67.5124 1297.48 67.5124 Q1302.74 67.5124 1305.58 65.73 Q1308.42 63.9071 1308.42 60.6258 Q1308.42 57.5877 1306.35 55.9673 Q1304.32 54.3469 1297.4 52.8481 L1294.8 52.2405 Q1287.88 50.7821 1284.8 47.7845 Q1281.72 44.7463 1281.72 39.4801 Q1281.72 33.0797 1286.26 29.5959 Q1290.79 26.1121 1299.14 26.1121 Q1303.27 26.1121 1306.92 26.7198 Q1310.56 27.3274 1313.64 28.5427 Z\" fill=\"#000000\" fill-rule=\"evenodd\" fill-opacity=\"1\" /><path clip-path=\"url(#clip900)\" d=\"M1335.31 14.324 L1335.31 27.2059 L1350.67 27.2059 L1350.67 32.9987 L1335.31 32.9987 L1335.31 57.6282 Q1335.31 63.1779 1336.81 64.7578 Q1338.35 66.3376 1343.01 66.3376 L1350.67 66.3376 L1350.67 72.576 L1343.01 72.576 Q1334.38 72.576 1331.1 69.3758 Q1327.82 66.1351 1327.82 57.6282 L1327.82 32.9987 L1322.35 32.9987 L1322.35 27.2059 L1327.82 27.2059 L1327.82 14.324 L1335.31 14.324 Z\" fill=\"#000000\" fill-rule=\"evenodd\" fill-opacity=\"1\" /><path clip-path=\"url(#clip900)\" d=\"M1360.47 27.2059 L1367.92 27.2059 L1367.92 72.576 L1360.47 72.576 L1360.47 27.2059 M1360.47 9.54393 L1367.92 9.54393 L1367.92 18.9825 L1360.47 18.9825 L1360.47 9.54393 Z\" fill=\"#000000\" fill-rule=\"evenodd\" fill-opacity=\"1\" /><path clip-path=\"url(#clip900)\" d=\"M1418.84 35.9153 Q1421.64 30.8922 1425.53 28.5022 Q1429.42 26.1121 1434.68 26.1121 Q1441.77 26.1121 1445.62 31.0947 Q1449.47 36.0368 1449.47 45.1919 L1449.47 72.576 L1441.97 72.576 L1441.97 45.4349 Q1441.97 38.913 1439.66 35.7533 Q1437.36 32.5936 1432.62 32.5936 Q1426.82 32.5936 1423.46 36.4419 Q1420.1 40.2903 1420.1 46.9338 L1420.1 72.576 L1412.6 72.576 L1412.6 45.4349 Q1412.6 38.8725 1410.3 35.7533 Q1407.99 32.5936 1403.17 32.5936 Q1397.45 32.5936 1394.09 36.4824 Q1390.73 40.3308 1390.73 46.9338 L1390.73 72.576 L1383.24 72.576 L1383.24 27.2059 L1390.73 27.2059 L1390.73 34.2544 Q1393.28 30.082 1396.85 28.0971 Q1400.41 26.1121 1405.31 26.1121 Q1410.25 26.1121 1413.7 28.6237 Q1417.18 31.1352 1418.84 35.9153 Z\" fill=\"#000000\" fill-rule=\"evenodd\" fill-opacity=\"1\" /><path clip-path=\"url(#clip900)\" d=\"M1484.95 49.7694 Q1475.92 49.7694 1472.44 51.8354 Q1468.95 53.9013 1468.95 58.8839 Q1468.95 62.8538 1471.55 65.2034 Q1474.18 67.5124 1478.67 67.5124 Q1484.87 67.5124 1488.6 63.1374 Q1492.37 58.7219 1492.37 51.4303 L1492.37 49.7694 L1484.95 49.7694 M1499.82 46.6907 L1499.82 72.576 L1492.37 72.576 L1492.37 65.6895 Q1489.81 69.8214 1486.01 71.8063 Q1482.2 73.7508 1476.69 73.7508 Q1469.72 73.7508 1465.59 69.8619 Q1461.5 65.9325 1461.5 59.3701 Q1461.5 51.7138 1466.6 47.825 Q1471.75 43.9361 1481.92 43.9361 L1492.37 43.9361 L1492.37 43.2069 Q1492.37 38.0623 1488.96 35.2672 Q1485.6 32.4315 1479.48 32.4315 Q1475.6 32.4315 1471.91 33.3632 Q1468.22 34.295 1464.82 36.1584 L1464.82 29.2718 Q1468.91 27.692 1472.76 26.9223 Q1476.61 26.1121 1480.25 26.1121 Q1490.1 26.1121 1494.96 31.2163 Q1499.82 36.3204 1499.82 46.6907 Z\" fill=\"#000000\" fill-rule=\"evenodd\" fill-opacity=\"1\" /><path clip-path=\"url(#clip900)\" d=\"M1522.55 14.324 L1522.55 27.2059 L1537.9 27.2059 L1537.9 32.9987 L1522.55 32.9987 L1522.55 57.6282 Q1522.55 63.1779 1524.04 64.7578 Q1525.58 66.3376 1530.24 66.3376 L1537.9 66.3376 L1537.9 72.576 L1530.24 72.576 Q1521.61 72.576 1518.33 69.3758 Q1515.05 66.1351 1515.05 57.6282 L1515.05 32.9987 L1509.58 32.9987 L1509.58 27.2059 L1515.05 27.2059 L1515.05 14.324 L1522.55 14.324 Z\" fill=\"#000000\" fill-rule=\"evenodd\" fill-opacity=\"1\" /><path clip-path=\"url(#clip900)\" d=\"M1586.51 48.0275 L1586.51 51.6733 L1552.24 51.6733 Q1552.73 59.3701 1556.86 63.421 Q1561.03 67.4314 1568.44 67.4314 Q1572.74 67.4314 1576.75 66.3781 Q1580.8 65.3249 1584.77 63.2184 L1584.77 70.267 Q1580.76 71.9684 1576.54 72.8596 Q1572.33 73.7508 1568 73.7508 Q1557.14 73.7508 1550.78 67.4314 Q1544.46 61.1119 1544.46 50.3365 Q1544.46 39.1965 1550.46 32.6746 Q1556.49 26.1121 1566.7 26.1121 Q1575.86 26.1121 1581.16 32.0264 Q1586.51 37.9003 1586.51 48.0275 M1579.06 45.84 Q1578.98 39.7232 1575.61 36.0774 Q1572.29 32.4315 1566.78 32.4315 Q1560.54 32.4315 1556.78 35.9558 Q1553.05 39.4801 1552.48 45.8805 L1579.06 45.84 Z\" fill=\"#000000\" fill-rule=\"evenodd\" fill-opacity=\"1\" /><path clip-path=\"url(#clip900)\" d=\"M1628.6 34.0924 L1628.6 9.54393 L1636.05 9.54393 L1636.05 72.576 L1628.6 72.576 L1628.6 65.7705 Q1626.25 69.8214 1622.64 71.8063 Q1619.08 73.7508 1614.06 73.7508 Q1605.83 73.7508 1600.65 67.1883 Q1595.5 60.6258 1595.5 49.9314 Q1595.5 39.2371 1600.65 32.6746 Q1605.83 26.1121 1614.06 26.1121 Q1619.08 26.1121 1622.64 28.0971 Q1626.25 30.0415 1628.6 34.0924 M1603.2 49.9314 Q1603.2 58.1548 1606.56 62.8538 Q1609.96 67.5124 1615.88 67.5124 Q1621.79 67.5124 1625.2 62.8538 Q1628.6 58.1548 1628.6 49.9314 Q1628.6 41.7081 1625.2 37.0496 Q1621.79 32.3505 1615.88 32.3505 Q1609.96 32.3505 1606.56 37.0496 Q1603.2 41.7081 1603.2 49.9314 Z\" fill=\"#000000\" fill-rule=\"evenodd\" fill-opacity=\"1\" /><path clip-path=\"url(#clip900)\" d=\"M1678.1 12.096 L1686.28 12.096 L1686.28 65.6895 L1715.73 65.6895 L1715.73 72.576 L1678.1 72.576 L1678.1 12.096 Z\" fill=\"#000000\" fill-rule=\"evenodd\" fill-opacity=\"1\" /><path clip-path=\"url(#clip900)\" d=\"M1744.62 49.7694 Q1735.58 49.7694 1732.1 51.8354 Q1728.62 53.9013 1728.62 58.8839 Q1728.62 62.8538 1731.21 65.2034 Q1733.84 67.5124 1738.34 67.5124 Q1744.54 67.5124 1748.26 63.1374 Q1752.03 58.7219 1752.03 51.4303 L1752.03 49.7694 L1744.62 49.7694 M1759.48 46.6907 L1759.48 72.576 L1752.03 72.576 L1752.03 65.6895 Q1749.48 69.8214 1745.67 71.8063 Q1741.86 73.7508 1736.35 73.7508 Q1729.39 73.7508 1725.25 69.8619 Q1721.16 65.9325 1721.16 59.3701 Q1721.16 51.7138 1726.27 47.825 Q1731.41 43.9361 1741.58 43.9361 L1752.03 43.9361 L1752.03 43.2069 Q1752.03 38.0623 1748.63 35.2672 Q1745.26 32.4315 1739.15 32.4315 Q1735.26 32.4315 1731.57 33.3632 Q1727.89 34.295 1724.48 36.1584 L1724.48 29.2718 Q1728.57 27.692 1732.42 26.9223 Q1736.27 26.1121 1739.92 26.1121 Q1749.76 26.1121 1754.62 31.2163 Q1759.48 36.3204 1759.48 46.6907 Z\" fill=\"#000000\" fill-rule=\"evenodd\" fill-opacity=\"1\" /><path clip-path=\"url(#clip900)\" d=\"M1782.21 14.324 L1782.21 27.2059 L1797.56 27.2059 L1797.56 32.9987 L1782.21 32.9987 L1782.21 57.6282 Q1782.21 63.1779 1783.71 64.7578 Q1785.25 66.3376 1789.91 66.3376 L1797.56 66.3376 L1797.56 72.576 L1789.91 72.576 Q1781.28 72.576 1778 69.3758 Q1774.71 66.1351 1774.71 57.6282 L1774.71 32.9987 L1769.25 32.9987 L1769.25 27.2059 L1774.71 27.2059 L1774.71 14.324 L1782.21 14.324 Z\" fill=\"#000000\" fill-rule=\"evenodd\" fill-opacity=\"1\" /><path clip-path=\"url(#clip900)\" d=\"M1846.17 48.0275 L1846.17 51.6733 L1811.9 51.6733 Q1812.39 59.3701 1816.52 63.421 Q1820.69 67.4314 1828.11 67.4314 Q1832.4 67.4314 1836.41 66.3781 Q1840.46 65.3249 1844.43 63.2184 L1844.43 70.267 Q1840.42 71.9684 1836.21 72.8596 Q1831.99 73.7508 1827.66 73.7508 Q1816.8 73.7508 1810.44 67.4314 Q1804.12 61.1119 1804.12 50.3365 Q1804.12 39.1965 1810.12 32.6746 Q1816.16 26.1121 1826.36 26.1121 Q1835.52 26.1121 1840.83 32.0264 Q1846.17 37.9003 1846.17 48.0275 M1838.72 45.84 Q1838.64 39.7232 1835.28 36.0774 Q1831.95 32.4315 1826.44 32.4315 Q1820.21 32.4315 1816.44 35.9558 Q1812.71 39.4801 1812.15 45.8805 L1838.72 45.84 Z\" fill=\"#000000\" fill-rule=\"evenodd\" fill-opacity=\"1\" /><path clip-path=\"url(#clip900)\" d=\"M1896.12 45.1919 L1896.12 72.576 L1888.67 72.576 L1888.67 45.4349 Q1888.67 38.994 1886.16 35.7938 Q1883.64 32.5936 1878.62 32.5936 Q1872.58 32.5936 1869.1 36.4419 Q1865.62 40.2903 1865.62 46.9338 L1865.62 72.576 L1858.12 72.576 L1858.12 27.2059 L1865.62 27.2059 L1865.62 34.2544 Q1868.29 30.163 1871.9 28.1376 Q1875.54 26.1121 1880.28 26.1121 Q1888.1 26.1121 1892.11 30.9732 Q1896.12 35.7938 1896.12 45.1919 Z\" fill=\"#000000\" fill-rule=\"evenodd\" fill-opacity=\"1\" /><path clip-path=\"url(#clip900)\" d=\"M1918.36 14.324 L1918.36 27.2059 L1933.71 27.2059 L1933.71 32.9987 L1918.36 32.9987 L1918.36 57.6282 Q1918.36 63.1779 1919.86 64.7578 Q1921.4 66.3376 1926.06 66.3376 L1933.71 66.3376 L1933.71 72.576 L1926.06 72.576 Q1917.43 72.576 1914.15 69.3758 Q1910.87 66.1351 1910.87 57.6282 L1910.87 32.9987 L1905.4 32.9987 L1905.4 27.2059 L1910.87 27.2059 L1910.87 14.324 L1918.36 14.324 Z\" fill=\"#000000\" fill-rule=\"evenodd\" fill-opacity=\"1\" /><path clip-path=\"url(#clip900)\" d=\"M1972.44 28.5427 L1972.44 35.5912 Q1969.28 33.9709 1965.88 33.1607 Q1962.47 32.3505 1958.83 32.3505 Q1953.28 32.3505 1950.48 34.0519 Q1947.73 35.7533 1947.73 39.156 Q1947.73 41.7486 1949.71 43.2475 Q1951.7 44.7058 1957.69 46.0426 L1960.25 46.6097 Q1968.19 48.3111 1971.51 51.4303 Q1974.87 54.509 1974.87 60.0587 Q1974.87 66.3781 1969.85 70.0644 Q1964.86 73.7508 1956.11 73.7508 Q1952.47 73.7508 1948.5 73.0216 Q1944.57 72.3329 1940.19 70.9151 L1940.19 63.2184 Q1944.33 65.3654 1948.34 66.4591 Q1952.35 67.5124 1956.28 67.5124 Q1961.54 67.5124 1964.38 65.73 Q1967.21 63.9071 1967.21 60.6258 Q1967.21 57.5877 1965.15 55.9673 Q1963.12 54.3469 1956.2 52.8481 L1953.6 52.2405 Q1946.68 50.7821 1943.6 47.7845 Q1940.52 44.7463 1940.52 39.4801 Q1940.52 33.0797 1945.06 29.5959 Q1949.59 26.1121 1957.94 26.1121 Q1962.07 26.1121 1965.71 26.7198 Q1969.36 27.3274 1972.44 28.5427 Z\" fill=\"#000000\" fill-rule=\"evenodd\" fill-opacity=\"1\" /><path clip-path=\"url(#clip902)\" d=\"\n",
       "M210.454 936.776 L319.922 928.362 L429.391 815.585 L538.86 822.881 L648.328 687.38 L757.797 807.523 L867.266 889.132 L976.735 1447.87 L1086.2 734.366 L1195.67 540.435 \n",
       "  L1305.14 642.722 L1414.61 495.965 L1524.08 670.647 L1633.55 797.052 L1743.02 1288.07 L1852.48 1054.37 L1961.95 781.882 L2071.42 933.994 L2180.89 638.549 L2290.36 1183.75 \n",
       "  L2290.36 219.22 L2180.89 339.19 L2071.42 620.555 L1961.95 491.893 L1852.48 696.108 L1743.02 867.449 L1633.55 504.511 L1524.08 371.397 L1414.61 162.047 L1305.14 353.628 \n",
       "  L1195.67 207.378 L1086.2 454.318 L976.735 977.706 L867.266 585.798 L757.797 534.27 L648.328 399.757 L538.86 540.627 L429.391 524.475 L319.922 624.777 L210.454 630.162 \n",
       "   Z\n",
       "  \" fill=\"#009af9\" fill-rule=\"evenodd\" fill-opacity=\"0.5\"/>\n",
       "<polyline clip-path=\"url(#clip902)\" style=\"stroke:#009af9; stroke-linecap:butt; stroke-linejoin:round; stroke-width:4; stroke-opacity:1; fill:none\" points=\"\n",
       "  210.454,783.469 319.922,776.569 429.391,670.03 538.86,681.754 648.328,543.568 757.797,670.896 867.266,737.465 976.735,1212.79 1086.2,594.342 1195.67,373.906 \n",
       "  1305.14,498.175 1414.61,329.006 1524.08,521.022 1633.55,650.782 1743.02,1077.76 1852.48,875.237 1961.95,636.887 2071.42,777.274 2180.89,488.869 2290.36,701.486 \n",
       "  \n",
       "  \"/>\n",
       "<polyline clip-path=\"url(#clip902)\" style=\"stroke:#e26f46; stroke-linecap:butt; stroke-linejoin:round; stroke-width:4; stroke-opacity:1; fill:none\" points=\"\n",
       "  210.454,837.885 319.922,836.448 429.391,634.361 538.86,682.966 648.328,485.386 757.797,700.312 867.266,688.228 976.735,1123.82 1086.2,643.39 1195.67,412.117 \n",
       "  1305.14,543.77 1414.61,281.974 1524.08,652.771 1633.55,591.12 1743.02,937.021 1852.48,973.411 1961.95,619.422 2071.42,728.966 2180.89,525.979 2290.36,996.069 \n",
       "  \n",
       "  \"/>\n",
       "<path clip-path=\"url(#clip900)\" d=\"\n",
       "M1683.95 324.425 L2279.27 324.425 L2279.27 168.905 L1683.95 168.905  Z\n",
       "  \" fill=\"#ffffff\" fill-rule=\"evenodd\" fill-opacity=\"1\"/>\n",
       "<polyline clip-path=\"url(#clip900)\" style=\"stroke:#000000; stroke-linecap:butt; stroke-linejoin:round; stroke-width:4; stroke-opacity:1; fill:none\" points=\"\n",
       "  1683.95,324.425 2279.27,324.425 2279.27,168.905 1683.95,168.905 1683.95,324.425 \n",
       "  \"/>\n",
       "<polyline clip-path=\"url(#clip900)\" style=\"stroke:#009af9; stroke-linecap:butt; stroke-linejoin:round; stroke-width:4; stroke-opacity:1; fill:none\" points=\"\n",
       "  1708.45,220.745 1855.43,220.745 \n",
       "  \"/>\n",
       "<path clip-path=\"url(#clip900)\" d=\"M1884.6 207.307 L1884.6 220.293 L1890.48 220.293 Q1893.75 220.293 1895.53 218.603 Q1897.31 216.914 1897.31 213.789 Q1897.31 210.687 1895.53 208.997 Q1893.75 207.307 1890.48 207.307 L1884.6 207.307 M1879.93 203.465 L1890.48 203.465 Q1896.29 203.465 1899.26 206.104 Q1902.24 208.719 1902.24 213.789 Q1902.24 218.904 1899.26 221.52 Q1896.29 224.136 1890.48 224.136 L1884.6 224.136 L1884.6 238.025 L1879.93 238.025 L1879.93 203.465 Z\" fill=\"#000000\" fill-rule=\"evenodd\" fill-opacity=\"1\" /><path clip-path=\"url(#clip900)\" d=\"M1916.69 215.085 Q1913.26 215.085 1911.27 217.77 Q1909.28 220.432 1909.28 225.085 Q1909.28 229.738 1911.25 232.423 Q1913.24 235.085 1916.69 235.085 Q1920.09 235.085 1922.08 232.4 Q1924.07 229.715 1924.07 225.085 Q1924.07 220.478 1922.08 217.793 Q1920.09 215.085 1916.69 215.085 M1916.69 211.474 Q1922.24 211.474 1925.41 215.085 Q1928.58 218.696 1928.58 225.085 Q1928.58 231.451 1925.41 235.085 Q1922.24 238.696 1916.69 238.696 Q1911.11 238.696 1907.94 235.085 Q1904.79 231.451 1904.79 225.085 Q1904.79 218.696 1907.94 215.085 Q1911.11 211.474 1916.69 211.474 Z\" fill=\"#000000\" fill-rule=\"evenodd\" fill-opacity=\"1\" /><path clip-path=\"url(#clip900)\" d=\"M1952.17 212.863 L1952.17 216.891 Q1950.37 215.965 1948.42 215.502 Q1946.48 215.039 1944.39 215.039 Q1941.22 215.039 1939.63 216.011 Q1938.05 216.983 1938.05 218.928 Q1938.05 220.409 1939.19 221.265 Q1940.32 222.099 1943.75 222.863 L1945.2 223.187 Q1949.74 224.159 1951.64 225.941 Q1953.56 227.701 1953.56 230.872 Q1953.56 234.483 1950.69 236.589 Q1947.84 238.696 1942.84 238.696 Q1940.76 238.696 1938.49 238.279 Q1936.25 237.886 1933.75 237.076 L1933.75 232.677 Q1936.11 233.904 1938.4 234.529 Q1940.69 235.131 1942.94 235.131 Q1945.95 235.131 1947.57 234.113 Q1949.19 233.071 1949.19 231.196 Q1949.19 229.46 1948.01 228.534 Q1946.85 227.608 1942.89 226.752 L1941.41 226.404 Q1937.45 225.571 1935.69 223.858 Q1933.93 222.122 1933.93 219.113 Q1933.93 215.455 1936.52 213.465 Q1939.12 211.474 1943.89 211.474 Q1946.25 211.474 1948.33 211.821 Q1950.41 212.168 1952.17 212.863 Z\" fill=\"#000000\" fill-rule=\"evenodd\" fill-opacity=\"1\" /><path clip-path=\"url(#clip900)\" d=\"M1964.56 204.738 L1964.56 212.099 L1973.33 212.099 L1973.33 215.409 L1964.56 215.409 L1964.56 229.483 Q1964.56 232.654 1965.41 233.557 Q1966.29 234.46 1968.95 234.46 L1973.33 234.46 L1973.33 238.025 L1968.95 238.025 Q1964.02 238.025 1962.15 236.196 Q1960.27 234.344 1960.27 229.483 L1960.27 215.409 L1957.15 215.409 L1957.15 212.099 L1960.27 212.099 L1960.27 204.738 L1964.56 204.738 Z\" fill=\"#000000\" fill-rule=\"evenodd\" fill-opacity=\"1\" /><path clip-path=\"url(#clip900)\" d=\"M2001.11 223.997 L2001.11 226.08 L1981.52 226.08 Q1981.8 230.478 1984.16 232.793 Q1986.55 235.085 1990.78 235.085 Q1993.24 235.085 1995.53 234.483 Q1997.84 233.881 2000.11 232.677 L2000.11 236.705 Q1997.82 237.677 1995.41 238.187 Q1993.01 238.696 1990.53 238.696 Q1984.32 238.696 1980.69 235.085 Q1977.08 231.474 1977.08 225.316 Q1977.08 218.951 1980.51 215.224 Q1983.95 211.474 1989.79 211.474 Q1995.02 211.474 1998.05 214.853 Q2001.11 218.21 2001.11 223.997 M1996.85 222.747 Q1996.8 219.252 1994.88 217.168 Q1992.98 215.085 1989.83 215.085 Q1986.27 215.085 1984.12 217.099 Q1981.99 219.113 1981.66 222.77 L1996.85 222.747 Z\" fill=\"#000000\" fill-rule=\"evenodd\" fill-opacity=\"1\" /><path clip-path=\"url(#clip900)\" d=\"M2023.12 216.08 Q2022.4 215.664 2021.55 215.478 Q2020.71 215.27 2019.7 215.27 Q2016.08 215.27 2014.14 217.631 Q2012.22 219.969 2012.22 224.367 L2012.22 238.025 L2007.94 238.025 L2007.94 212.099 L2012.22 212.099 L2012.22 216.127 Q2013.56 213.766 2015.71 212.631 Q2017.87 211.474 2020.95 211.474 Q2021.38 211.474 2021.92 211.543 Q2022.45 211.59 2023.1 211.705 L2023.12 216.08 Z\" fill=\"#000000\" fill-rule=\"evenodd\" fill-opacity=\"1\" /><path clip-path=\"url(#clip900)\" d=\"M2027.59 212.099 L2031.85 212.099 L2031.85 238.025 L2027.59 238.025 L2027.59 212.099 M2027.59 202.006 L2031.85 202.006 L2031.85 207.4 L2027.59 207.4 L2027.59 202.006 Z\" fill=\"#000000\" fill-rule=\"evenodd\" fill-opacity=\"1\" /><path clip-path=\"url(#clip900)\" d=\"M2050.81 215.085 Q2047.38 215.085 2045.39 217.77 Q2043.4 220.432 2043.4 225.085 Q2043.4 229.738 2045.37 232.423 Q2047.36 235.085 2050.81 235.085 Q2054.21 235.085 2056.2 232.4 Q2058.19 229.715 2058.19 225.085 Q2058.19 220.478 2056.2 217.793 Q2054.21 215.085 2050.81 215.085 M2050.81 211.474 Q2056.36 211.474 2059.53 215.085 Q2062.7 218.696 2062.7 225.085 Q2062.7 231.451 2059.53 235.085 Q2056.36 238.696 2050.81 238.696 Q2045.23 238.696 2042.06 235.085 Q2038.91 231.451 2038.91 225.085 Q2038.91 218.696 2042.06 215.085 Q2045.23 211.474 2050.81 211.474 Z\" fill=\"#000000\" fill-rule=\"evenodd\" fill-opacity=\"1\" /><path clip-path=\"url(#clip900)\" d=\"M2084.79 216.08 Q2084.07 215.664 2083.21 215.478 Q2082.38 215.27 2081.36 215.27 Q2077.75 215.27 2075.81 217.631 Q2073.88 219.969 2073.88 224.367 L2073.88 238.025 L2069.6 238.025 L2069.6 212.099 L2073.88 212.099 L2073.88 216.127 Q2075.23 213.766 2077.38 212.631 Q2079.53 211.474 2082.61 211.474 Q2083.05 211.474 2083.58 211.543 Q2084.12 211.59 2084.76 211.705 L2084.79 216.08 Z\" fill=\"#000000\" fill-rule=\"evenodd\" fill-opacity=\"1\" /><path clip-path=\"url(#clip900)\" d=\"M2124.51 217.076 Q2126.11 214.205 2128.33 212.84 Q2130.55 211.474 2133.56 211.474 Q2137.61 211.474 2139.81 214.321 Q2142.01 217.145 2142.01 222.377 L2142.01 238.025 L2137.73 238.025 L2137.73 222.515 Q2137.73 218.789 2136.41 216.983 Q2135.09 215.178 2132.38 215.178 Q2129.07 215.178 2127.15 217.377 Q2125.23 219.576 2125.23 223.372 L2125.23 238.025 L2120.94 238.025 L2120.94 222.515 Q2120.94 218.765 2119.63 216.983 Q2118.31 215.178 2115.55 215.178 Q2112.29 215.178 2110.37 217.4 Q2108.44 219.599 2108.44 223.372 L2108.44 238.025 L2104.16 238.025 L2104.16 212.099 L2108.44 212.099 L2108.44 216.127 Q2109.9 213.742 2111.94 212.608 Q2113.98 211.474 2116.78 211.474 Q2119.6 211.474 2121.57 212.909 Q2123.56 214.344 2124.51 217.076 Z\" fill=\"#000000\" fill-rule=\"evenodd\" fill-opacity=\"1\" /><path clip-path=\"url(#clip900)\" d=\"M2172.68 223.997 L2172.68 226.08 L2153.1 226.08 Q2153.37 230.478 2155.74 232.793 Q2158.12 235.085 2162.36 235.085 Q2164.81 235.085 2167.1 234.483 Q2169.42 233.881 2171.68 232.677 L2171.68 236.705 Q2169.39 237.677 2166.99 238.187 Q2164.58 238.696 2162.1 238.696 Q2155.9 238.696 2152.26 235.085 Q2148.65 231.474 2148.65 225.316 Q2148.65 218.951 2152.08 215.224 Q2155.53 211.474 2161.36 211.474 Q2166.59 211.474 2169.62 214.853 Q2172.68 218.21 2172.68 223.997 M2168.42 222.747 Q2168.37 219.252 2166.45 217.168 Q2164.56 215.085 2161.41 215.085 Q2157.84 215.085 2155.69 217.099 Q2153.56 219.113 2153.24 222.77 L2168.42 222.747 Z\" fill=\"#000000\" fill-rule=\"evenodd\" fill-opacity=\"1\" /><path clip-path=\"url(#clip900)\" d=\"M2191.45 224.992 Q2186.29 224.992 2184.3 226.173 Q2182.31 227.353 2182.31 230.201 Q2182.31 232.469 2183.79 233.812 Q2185.3 235.131 2187.87 235.131 Q2191.41 235.131 2193.54 232.631 Q2195.69 230.108 2195.69 225.941 L2195.69 224.992 L2191.45 224.992 M2199.95 223.233 L2199.95 238.025 L2195.69 238.025 L2195.69 234.089 Q2194.23 236.451 2192.06 237.585 Q2189.88 238.696 2186.73 238.696 Q2182.75 238.696 2180.39 236.474 Q2178.05 234.228 2178.05 230.478 Q2178.05 226.103 2180.97 223.881 Q2183.91 221.659 2189.72 221.659 L2195.69 221.659 L2195.69 221.242 Q2195.69 218.303 2193.75 216.705 Q2191.82 215.085 2188.33 215.085 Q2186.11 215.085 2184 215.617 Q2181.89 216.15 2179.95 217.215 L2179.95 213.279 Q2182.29 212.377 2184.49 211.937 Q2186.68 211.474 2188.77 211.474 Q2194.39 211.474 2197.17 214.391 Q2199.95 217.307 2199.95 223.233 Z\" fill=\"#000000\" fill-rule=\"evenodd\" fill-opacity=\"1\" /><path clip-path=\"url(#clip900)\" d=\"M2230.27 222.377 L2230.27 238.025 L2226.01 238.025 L2226.01 222.515 Q2226.01 218.835 2224.58 217.006 Q2223.14 215.178 2220.27 215.178 Q2216.82 215.178 2214.83 217.377 Q2212.84 219.576 2212.84 223.372 L2212.84 238.025 L2208.56 238.025 L2208.56 212.099 L2212.84 212.099 L2212.84 216.127 Q2214.37 213.789 2216.43 212.631 Q2218.51 211.474 2221.22 211.474 Q2225.69 211.474 2227.98 214.252 Q2230.27 217.006 2230.27 222.377 Z\" fill=\"#000000\" fill-rule=\"evenodd\" fill-opacity=\"1\" /><polyline clip-path=\"url(#clip900)\" style=\"stroke:#e26f46; stroke-linecap:butt; stroke-linejoin:round; stroke-width:4; stroke-opacity:1; fill:none\" points=\"\n",
       "  1708.45,272.585 1855.43,272.585 \n",
       "  \"/>\n",
       "<path clip-path=\"url(#clip900)\" d=\"M1879.93 255.305 L1909.16 255.305 L1909.16 259.24 L1896.89 259.24 L1896.89 289.865 L1892.2 289.865 L1892.2 259.24 L1879.93 259.24 L1879.93 255.305 Z\" fill=\"#000000\" fill-rule=\"evenodd\" fill-opacity=\"1\" /><path clip-path=\"url(#clip900)\" d=\"M1921.55 267.92 Q1920.83 267.504 1919.97 267.318 Q1919.14 267.11 1918.12 267.11 Q1914.51 267.11 1912.57 269.471 Q1910.64 271.809 1910.64 276.207 L1910.64 289.865 L1906.36 289.865 L1906.36 263.939 L1910.64 263.939 L1910.64 267.967 Q1911.99 265.606 1914.14 264.471 Q1916.29 263.314 1919.37 263.314 Q1919.81 263.314 1920.34 263.383 Q1920.88 263.43 1921.52 263.545 L1921.55 267.92 Z\" fill=\"#000000\" fill-rule=\"evenodd\" fill-opacity=\"1\" /><path clip-path=\"url(#clip900)\" d=\"M1925.58 279.633 L1925.58 263.939 L1929.83 263.939 L1929.83 279.471 Q1929.83 283.152 1931.27 285.004 Q1932.7 286.832 1935.58 286.832 Q1939.02 286.832 1941.01 284.633 Q1943.03 282.434 1943.03 278.638 L1943.03 263.939 L1947.29 263.939 L1947.29 289.865 L1943.03 289.865 L1943.03 285.883 Q1941.48 288.244 1939.42 289.402 Q1937.38 290.536 1934.67 290.536 Q1930.2 290.536 1927.89 287.758 Q1925.58 284.98 1925.58 279.633 M1936.29 263.314 L1936.29 263.314 Z\" fill=\"#000000\" fill-rule=\"evenodd\" fill-opacity=\"1\" /><path clip-path=\"url(#clip900)\" d=\"M1978.24 275.837 L1978.24 277.92 L1958.65 277.92 Q1958.93 282.318 1961.29 284.633 Q1963.68 286.925 1967.91 286.925 Q1970.37 286.925 1972.66 286.323 Q1974.97 285.721 1977.24 284.517 L1977.24 288.545 Q1974.95 289.517 1972.54 290.027 Q1970.14 290.536 1967.66 290.536 Q1961.45 290.536 1957.82 286.925 Q1954.21 283.314 1954.21 277.156 Q1954.21 270.791 1957.64 267.064 Q1961.08 263.314 1966.92 263.314 Q1972.15 263.314 1975.18 266.693 Q1978.24 270.05 1978.24 275.837 M1973.98 274.587 Q1973.93 271.092 1972.01 269.008 Q1970.11 266.925 1966.96 266.925 Q1963.4 266.925 1961.25 268.939 Q1959.12 270.953 1958.79 274.61 L1973.98 274.587 Z\" fill=\"#000000\" fill-rule=\"evenodd\" fill-opacity=\"1\" /><path clip-path=\"url(#clip900)\" d=\"M1997.24 263.939 L2001.76 263.939 L2009.86 285.698 L2017.96 263.939 L2022.47 263.939 L2012.75 289.865 L2006.96 289.865 L1997.24 263.939 Z\" fill=\"#000000\" fill-rule=\"evenodd\" fill-opacity=\"1\" /><path clip-path=\"url(#clip900)\" d=\"M2040.13 276.832 Q2034.97 276.832 2032.98 278.013 Q2030.99 279.193 2030.99 282.041 Q2030.99 284.309 2032.47 285.652 Q2033.98 286.971 2036.55 286.971 Q2040.09 286.971 2042.22 284.471 Q2044.37 281.948 2044.37 277.781 L2044.37 276.832 L2040.13 276.832 M2048.63 275.073 L2048.63 289.865 L2044.37 289.865 L2044.37 285.929 Q2042.91 288.291 2040.74 289.425 Q2038.56 290.536 2035.41 290.536 Q2031.43 290.536 2029.07 288.314 Q2026.73 286.068 2026.73 282.318 Q2026.73 277.943 2029.65 275.721 Q2032.59 273.499 2038.4 273.499 L2044.37 273.499 L2044.37 273.082 Q2044.37 270.143 2042.43 268.545 Q2040.51 266.925 2037.01 266.925 Q2034.79 266.925 2032.68 267.457 Q2030.57 267.99 2028.63 269.055 L2028.63 265.119 Q2030.97 264.217 2033.17 263.777 Q2035.37 263.314 2037.45 263.314 Q2043.07 263.314 2045.85 266.231 Q2048.63 269.147 2048.63 275.073 Z\" fill=\"#000000\" fill-rule=\"evenodd\" fill-opacity=\"1\" /><path clip-path=\"url(#clip900)\" d=\"M2057.4 253.846 L2061.66 253.846 L2061.66 289.865 L2057.4 289.865 L2057.4 253.846 Z\" fill=\"#000000\" fill-rule=\"evenodd\" fill-opacity=\"1\" /><path clip-path=\"url(#clip900)\" d=\"M2070.13 279.633 L2070.13 263.939 L2074.39 263.939 L2074.39 279.471 Q2074.39 283.152 2075.83 285.004 Q2077.26 286.832 2080.13 286.832 Q2083.58 286.832 2085.57 284.633 Q2087.59 282.434 2087.59 278.638 L2087.59 263.939 L2091.85 263.939 L2091.85 289.865 L2087.59 289.865 L2087.59 285.883 Q2086.04 288.244 2083.98 289.402 Q2081.94 290.536 2079.23 290.536 Q2074.76 290.536 2072.45 287.758 Q2070.13 284.98 2070.13 279.633 M2080.85 263.314 L2080.85 263.314 Z\" fill=\"#000000\" fill-rule=\"evenodd\" fill-opacity=\"1\" /><path clip-path=\"url(#clip900)\" d=\"M2122.8 275.837 L2122.8 277.92 L2103.21 277.92 Q2103.49 282.318 2105.85 284.633 Q2108.24 286.925 2112.47 286.925 Q2114.93 286.925 2117.22 286.323 Q2119.53 285.721 2121.8 284.517 L2121.8 288.545 Q2119.51 289.517 2117.1 290.027 Q2114.69 290.536 2112.22 290.536 Q2106.01 290.536 2102.38 286.925 Q2098.77 283.314 2098.77 277.156 Q2098.77 270.791 2102.19 267.064 Q2105.64 263.314 2111.48 263.314 Q2116.71 263.314 2119.74 266.693 Q2122.8 270.05 2122.8 275.837 M2118.54 274.587 Q2118.49 271.092 2116.57 269.008 Q2114.67 266.925 2111.52 266.925 Q2107.96 266.925 2105.81 268.939 Q2103.68 270.953 2103.35 274.61 L2118.54 274.587 Z\" fill=\"#000000\" fill-rule=\"evenodd\" fill-opacity=\"1\" /><path clip-path=\"url(#clip900)\" d=\"M2146.31 264.703 L2146.31 268.731 Q2144.51 267.805 2142.56 267.342 Q2140.62 266.879 2138.54 266.879 Q2135.37 266.879 2133.77 267.851 Q2132.19 268.823 2132.19 270.768 Q2132.19 272.249 2133.33 273.105 Q2134.46 273.939 2137.89 274.703 L2139.35 275.027 Q2143.88 275.999 2145.78 277.781 Q2147.7 279.541 2147.7 282.712 Q2147.7 286.323 2144.83 288.429 Q2141.99 290.536 2136.99 290.536 Q2134.9 290.536 2132.63 290.119 Q2130.39 289.726 2127.89 288.916 L2127.89 284.517 Q2130.25 285.744 2132.54 286.369 Q2134.83 286.971 2137.08 286.971 Q2140.09 286.971 2141.71 285.953 Q2143.33 284.911 2143.33 283.036 Q2143.33 281.3 2142.15 280.374 Q2140.99 279.448 2137.03 278.592 L2135.55 278.244 Q2131.59 277.411 2129.83 275.698 Q2128.07 273.962 2128.07 270.953 Q2128.07 267.295 2130.67 265.305 Q2133.26 263.314 2138.03 263.314 Q2140.39 263.314 2142.47 263.661 Q2144.56 264.008 2146.31 264.703 Z\" fill=\"#000000\" fill-rule=\"evenodd\" fill-opacity=\"1\" /></svg>\n"
      ]
     },
     "execution_count": 34,
     "metadata": {},
     "output_type": "execute_result"
    }
   ],
   "source": [
    "symbol_to_int(s) = parse(Int, string(s)[9:end-1])\n",
    "ϵ_chain = sort(chain_1_joint[:, [Symbol(\"ϵ_draw[$a]\") for a in 1:21], 1], lt = (x,y) -> symbol_to_int(x) < symbol_to_int(y))\n",
    "tmp = describe(ϵ_chain)\n",
    "ϵ_mean = tmp[1][:, 2]\n",
    "ϵ_std = tmp[1][:, 3]\n",
    "plot(ϵ_mean[2:end], ribbon=2 * ϵ_std[2:end], label=\"Posterior mean\", title = \"First-Order Joint: Estimated Latents\")\n",
    "plot!(ϵ', label=\"True values\")"
   ]
  },
  {
   "cell_type": "code",
   "execution_count": 35,
   "metadata": {},
   "outputs": [
    {
     "data": {
      "image/svg+xml": [
       "<?xml version=\"1.0\" encoding=\"utf-8\"?>\n",
       "<svg xmlns=\"http://www.w3.org/2000/svg\" xmlns:xlink=\"http://www.w3.org/1999/xlink\" width=\"600\" height=\"400\" viewBox=\"0 0 2400 1600\">\n",
       "<defs>\n",
       "  <clipPath id=\"clip940\">\n",
       "    <rect x=\"0\" y=\"0\" width=\"2400\" height=\"1600\"/>\n",
       "  </clipPath>\n",
       "</defs>\n",
       "<path clip-path=\"url(#clip940)\" d=\"\n",
       "M0 1600 L2400 1600 L2400 0 L0 0  Z\n",
       "  \" fill=\"#ffffff\" fill-rule=\"evenodd\" fill-opacity=\"1\"/>\n",
       "<defs>\n",
       "  <clipPath id=\"clip941\">\n",
       "    <rect x=\"480\" y=\"0\" width=\"1681\" height=\"1600\"/>\n",
       "  </clipPath>\n",
       "</defs>\n",
       "<path clip-path=\"url(#clip940)\" d=\"\n",
       "M148.057 1486.45 L2352.76 1486.45 L2352.76 123.472 L148.057 123.472  Z\n",
       "  \" fill=\"#ffffff\" fill-rule=\"evenodd\" fill-opacity=\"1\"/>\n",
       "<defs>\n",
       "  <clipPath id=\"clip942\">\n",
       "    <rect x=\"148\" y=\"123\" width=\"2206\" height=\"1364\"/>\n",
       "  </clipPath>\n",
       "</defs>\n",
       "<polyline clip-path=\"url(#clip942)\" style=\"stroke:#000000; stroke-linecap:butt; stroke-linejoin:round; stroke-width:2; stroke-opacity:0.1; fill:none\" points=\"\n",
       "  648.328,1486.45 648.328,123.472 \n",
       "  \"/>\n",
       "<polyline clip-path=\"url(#clip942)\" style=\"stroke:#000000; stroke-linecap:butt; stroke-linejoin:round; stroke-width:2; stroke-opacity:0.1; fill:none\" points=\"\n",
       "  1195.67,1486.45 1195.67,123.472 \n",
       "  \"/>\n",
       "<polyline clip-path=\"url(#clip942)\" style=\"stroke:#000000; stroke-linecap:butt; stroke-linejoin:round; stroke-width:2; stroke-opacity:0.1; fill:none\" points=\"\n",
       "  1743.02,1486.45 1743.02,123.472 \n",
       "  \"/>\n",
       "<polyline clip-path=\"url(#clip942)\" style=\"stroke:#000000; stroke-linecap:butt; stroke-linejoin:round; stroke-width:2; stroke-opacity:0.1; fill:none\" points=\"\n",
       "  2290.36,1486.45 2290.36,123.472 \n",
       "  \"/>\n",
       "<polyline clip-path=\"url(#clip940)\" style=\"stroke:#000000; stroke-linecap:butt; stroke-linejoin:round; stroke-width:4; stroke-opacity:1; fill:none\" points=\"\n",
       "  148.057,1486.45 2352.76,1486.45 \n",
       "  \"/>\n",
       "<polyline clip-path=\"url(#clip940)\" style=\"stroke:#000000; stroke-linecap:butt; stroke-linejoin:round; stroke-width:4; stroke-opacity:1; fill:none\" points=\"\n",
       "  648.328,1486.45 648.328,1467.55 \n",
       "  \"/>\n",
       "<polyline clip-path=\"url(#clip940)\" style=\"stroke:#000000; stroke-linecap:butt; stroke-linejoin:round; stroke-width:4; stroke-opacity:1; fill:none\" points=\"\n",
       "  1195.67,1486.45 1195.67,1467.55 \n",
       "  \"/>\n",
       "<polyline clip-path=\"url(#clip940)\" style=\"stroke:#000000; stroke-linecap:butt; stroke-linejoin:round; stroke-width:4; stroke-opacity:1; fill:none\" points=\"\n",
       "  1743.02,1486.45 1743.02,1467.55 \n",
       "  \"/>\n",
       "<polyline clip-path=\"url(#clip940)\" style=\"stroke:#000000; stroke-linecap:butt; stroke-linejoin:round; stroke-width:4; stroke-opacity:1; fill:none\" points=\"\n",
       "  2290.36,1486.45 2290.36,1467.55 \n",
       "  \"/>\n",
       "<path clip-path=\"url(#clip940)\" d=\"M638.606 1514.29 L656.963 1514.29 L656.963 1518.22 L642.889 1518.22 L642.889 1526.7 Q643.907 1526.35 644.926 1526.19 Q645.944 1526 646.963 1526 Q652.75 1526 656.129 1529.17 Q659.509 1532.34 659.509 1537.76 Q659.509 1543.34 656.037 1546.44 Q652.565 1549.52 646.245 1549.52 Q644.069 1549.52 641.801 1549.15 Q639.555 1548.78 637.148 1548.04 L637.148 1543.34 Q639.231 1544.47 641.454 1545.03 Q643.676 1545.58 646.153 1545.58 Q650.157 1545.58 652.495 1543.48 Q654.833 1541.37 654.833 1537.76 Q654.833 1534.15 652.495 1532.04 Q650.157 1529.94 646.153 1529.94 Q644.278 1529.94 642.403 1530.35 Q640.551 1530.77 638.606 1531.65 L638.606 1514.29 Z\" fill=\"#000000\" fill-rule=\"evenodd\" fill-opacity=\"1\" /><path clip-path=\"url(#clip940)\" d=\"M1170.36 1544.91 L1178 1544.91 L1178 1518.55 L1169.69 1520.21 L1169.69 1515.95 L1177.95 1514.29 L1182.63 1514.29 L1182.63 1544.91 L1190.27 1544.91 L1190.27 1548.85 L1170.36 1548.85 L1170.36 1544.91 Z\" fill=\"#000000\" fill-rule=\"evenodd\" fill-opacity=\"1\" /><path clip-path=\"url(#clip940)\" d=\"M1209.71 1517.37 Q1206.1 1517.37 1204.27 1520.93 Q1202.47 1524.47 1202.47 1531.6 Q1202.47 1538.71 1204.27 1542.27 Q1206.1 1545.82 1209.71 1545.82 Q1213.35 1545.82 1215.15 1542.27 Q1216.98 1538.71 1216.98 1531.6 Q1216.98 1524.47 1215.15 1520.93 Q1213.35 1517.37 1209.71 1517.37 M1209.71 1513.66 Q1215.52 1513.66 1218.58 1518.27 Q1221.66 1522.85 1221.66 1531.6 Q1221.66 1540.33 1218.58 1544.94 Q1215.52 1549.52 1209.71 1549.52 Q1203.9 1549.52 1200.82 1544.94 Q1197.77 1540.33 1197.77 1531.6 Q1197.77 1522.85 1200.82 1518.27 Q1203.9 1513.66 1209.71 1513.66 Z\" fill=\"#000000\" fill-rule=\"evenodd\" fill-opacity=\"1\" /><path clip-path=\"url(#clip940)\" d=\"M1718.2 1544.91 L1725.84 1544.91 L1725.84 1518.55 L1717.53 1520.21 L1717.53 1515.95 L1725.79 1514.29 L1730.47 1514.29 L1730.47 1544.91 L1738.11 1544.91 L1738.11 1548.85 L1718.2 1548.85 L1718.2 1544.91 Z\" fill=\"#000000\" fill-rule=\"evenodd\" fill-opacity=\"1\" /><path clip-path=\"url(#clip940)\" d=\"M1747.6 1514.29 L1765.96 1514.29 L1765.96 1518.22 L1751.88 1518.22 L1751.88 1526.7 Q1752.9 1526.35 1753.92 1526.19 Q1754.94 1526 1755.96 1526 Q1761.74 1526 1765.12 1529.17 Q1768.5 1532.34 1768.5 1537.76 Q1768.5 1543.34 1765.03 1546.44 Q1761.56 1549.52 1755.24 1549.52 Q1753.06 1549.52 1750.79 1549.15 Q1748.55 1548.78 1746.14 1548.04 L1746.14 1543.34 Q1748.22 1544.47 1750.45 1545.03 Q1752.67 1545.58 1755.14 1545.58 Q1759.15 1545.58 1761.49 1543.48 Q1763.83 1541.37 1763.83 1537.76 Q1763.83 1534.15 1761.49 1532.04 Q1759.15 1529.94 1755.14 1529.94 Q1753.27 1529.94 1751.39 1530.35 Q1749.54 1530.77 1747.6 1531.65 L1747.6 1514.29 Z\" fill=\"#000000\" fill-rule=\"evenodd\" fill-opacity=\"1\" /><path clip-path=\"url(#clip940)\" d=\"M2269.13 1544.91 L2285.45 1544.91 L2285.45 1548.85 L2263.51 1548.85 L2263.51 1544.91 Q2266.17 1542.16 2270.75 1537.53 Q2275.36 1532.88 2276.54 1531.53 Q2278.78 1529.01 2279.66 1527.27 Q2280.57 1525.51 2280.57 1523.82 Q2280.57 1521.07 2278.62 1519.33 Q2276.7 1517.6 2273.6 1517.6 Q2271.4 1517.6 2268.95 1518.36 Q2266.52 1519.13 2263.74 1520.68 L2263.74 1515.95 Q2266.56 1514.82 2269.02 1514.24 Q2271.47 1513.66 2273.51 1513.66 Q2278.88 1513.66 2282.07 1516.35 Q2285.27 1519.03 2285.27 1523.52 Q2285.27 1525.65 2284.46 1527.57 Q2283.67 1529.47 2281.56 1532.07 Q2280.98 1532.74 2277.88 1535.95 Q2274.78 1539.15 2269.13 1544.91 Z\" fill=\"#000000\" fill-rule=\"evenodd\" fill-opacity=\"1\" /><path clip-path=\"url(#clip940)\" d=\"M2305.27 1517.37 Q2301.65 1517.37 2299.83 1520.93 Q2298.02 1524.47 2298.02 1531.6 Q2298.02 1538.71 2299.83 1542.27 Q2301.65 1545.82 2305.27 1545.82 Q2308.9 1545.82 2310.71 1542.27 Q2312.53 1538.71 2312.53 1531.6 Q2312.53 1524.47 2310.71 1520.93 Q2308.9 1517.37 2305.27 1517.37 M2305.27 1513.66 Q2311.08 1513.66 2314.13 1518.27 Q2317.21 1522.85 2317.21 1531.6 Q2317.21 1540.33 2314.13 1544.94 Q2311.08 1549.52 2305.27 1549.52 Q2299.46 1549.52 2296.38 1544.94 Q2293.32 1540.33 2293.32 1531.6 Q2293.32 1522.85 2296.38 1518.27 Q2299.46 1513.66 2305.27 1513.66 Z\" fill=\"#000000\" fill-rule=\"evenodd\" fill-opacity=\"1\" /><polyline clip-path=\"url(#clip942)\" style=\"stroke:#000000; stroke-linecap:butt; stroke-linejoin:round; stroke-width:2; stroke-opacity:0.1; fill:none\" points=\"\n",
       "  148.057,1449.15 2352.76,1449.15 \n",
       "  \"/>\n",
       "<polyline clip-path=\"url(#clip942)\" style=\"stroke:#000000; stroke-linecap:butt; stroke-linejoin:round; stroke-width:2; stroke-opacity:0.1; fill:none\" points=\"\n",
       "  148.057,1173.81 2352.76,1173.81 \n",
       "  \"/>\n",
       "<polyline clip-path=\"url(#clip942)\" style=\"stroke:#000000; stroke-linecap:butt; stroke-linejoin:round; stroke-width:2; stroke-opacity:0.1; fill:none\" points=\"\n",
       "  148.057,898.473 2352.76,898.473 \n",
       "  \"/>\n",
       "<polyline clip-path=\"url(#clip942)\" style=\"stroke:#000000; stroke-linecap:butt; stroke-linejoin:round; stroke-width:2; stroke-opacity:0.1; fill:none\" points=\"\n",
       "  148.057,623.136 2352.76,623.136 \n",
       "  \"/>\n",
       "<polyline clip-path=\"url(#clip942)\" style=\"stroke:#000000; stroke-linecap:butt; stroke-linejoin:round; stroke-width:2; stroke-opacity:0.1; fill:none\" points=\"\n",
       "  148.057,347.798 2352.76,347.798 \n",
       "  \"/>\n",
       "<polyline clip-path=\"url(#clip940)\" style=\"stroke:#000000; stroke-linecap:butt; stroke-linejoin:round; stroke-width:4; stroke-opacity:1; fill:none\" points=\"\n",
       "  148.057,1486.45 148.057,123.472 \n",
       "  \"/>\n",
       "<polyline clip-path=\"url(#clip940)\" style=\"stroke:#000000; stroke-linecap:butt; stroke-linejoin:round; stroke-width:4; stroke-opacity:1; fill:none\" points=\"\n",
       "  148.057,1449.15 166.954,1449.15 \n",
       "  \"/>\n",
       "<polyline clip-path=\"url(#clip940)\" style=\"stroke:#000000; stroke-linecap:butt; stroke-linejoin:round; stroke-width:4; stroke-opacity:1; fill:none\" points=\"\n",
       "  148.057,1173.81 166.954,1173.81 \n",
       "  \"/>\n",
       "<polyline clip-path=\"url(#clip940)\" style=\"stroke:#000000; stroke-linecap:butt; stroke-linejoin:round; stroke-width:4; stroke-opacity:1; fill:none\" points=\"\n",
       "  148.057,898.473 166.954,898.473 \n",
       "  \"/>\n",
       "<polyline clip-path=\"url(#clip940)\" style=\"stroke:#000000; stroke-linecap:butt; stroke-linejoin:round; stroke-width:4; stroke-opacity:1; fill:none\" points=\"\n",
       "  148.057,623.136 166.954,623.136 \n",
       "  \"/>\n",
       "<polyline clip-path=\"url(#clip940)\" style=\"stroke:#000000; stroke-linecap:butt; stroke-linejoin:round; stroke-width:4; stroke-opacity:1; fill:none\" points=\"\n",
       "  148.057,347.798 166.954,347.798 \n",
       "  \"/>\n",
       "<path clip-path=\"url(#clip940)\" d=\"M50.9921 1449.6 L80.6679 1449.6 L80.6679 1453.53 L50.9921 1453.53 L50.9921 1449.6 Z\" fill=\"#000000\" fill-rule=\"evenodd\" fill-opacity=\"1\" /><path clip-path=\"url(#clip940)\" d=\"M104.927 1447.79 Q108.283 1448.51 110.158 1450.78 Q112.057 1453.05 112.057 1456.38 Q112.057 1461.5 108.538 1464.3 Q105.02 1467.1 98.5382 1467.1 Q96.3623 1467.1 94.0475 1466.66 Q91.7558 1466.24 89.3021 1465.39 L89.3021 1460.87 Q91.2465 1462.01 93.5613 1462.59 Q95.8761 1463.16 98.3993 1463.16 Q102.797 1463.16 105.089 1461.43 Q107.404 1459.69 107.404 1456.38 Q107.404 1453.33 105.251 1451.61 Q103.121 1449.88 99.3021 1449.88 L95.2743 1449.88 L95.2743 1446.03 L99.4872 1446.03 Q102.936 1446.03 104.765 1444.67 Q106.594 1443.28 106.594 1440.69 Q106.594 1438.03 104.696 1436.61 Q102.821 1435.18 99.3021 1435.18 Q97.3808 1435.18 95.1817 1435.59 Q92.9826 1436.01 90.3438 1436.89 L90.3438 1432.72 Q93.0058 1431.98 95.3206 1431.61 Q97.6585 1431.24 99.7187 1431.24 Q105.043 1431.24 108.145 1433.67 Q111.246 1436.08 111.246 1440.2 Q111.246 1443.07 109.603 1445.06 Q107.959 1447.03 104.927 1447.79 Z\" fill=\"#000000\" fill-rule=\"evenodd\" fill-opacity=\"1\" /><path clip-path=\"url(#clip940)\" d=\"M51.9412 1174.26 L81.617 1174.26 L81.617 1178.2 L51.9412 1178.2 L51.9412 1174.26 Z\" fill=\"#000000\" fill-rule=\"evenodd\" fill-opacity=\"1\" /><path clip-path=\"url(#clip940)\" d=\"M95.7373 1187.16 L112.057 1187.16 L112.057 1191.09 L90.1123 1191.09 L90.1123 1187.16 Q92.7743 1184.4 97.3576 1179.77 Q101.964 1175.12 103.145 1173.78 Q105.39 1171.25 106.27 1169.52 Q107.172 1167.76 107.172 1166.07 Q107.172 1163.31 105.228 1161.58 Q103.307 1159.84 100.205 1159.84 Q98.0058 1159.84 95.5521 1160.6 Q93.1215 1161.37 90.3438 1162.92 L90.3438 1158.2 Q93.1678 1157.06 95.6215 1156.48 Q98.0752 1155.91 100.112 1155.91 Q105.483 1155.91 108.677 1158.59 Q111.871 1161.28 111.871 1165.77 Q111.871 1167.9 111.061 1169.82 Q110.274 1171.72 108.168 1174.31 Q107.589 1174.98 104.487 1178.2 Q101.385 1181.39 95.7373 1187.16 Z\" fill=\"#000000\" fill-rule=\"evenodd\" fill-opacity=\"1\" /><path clip-path=\"url(#clip940)\" d=\"M51.5708 898.924 L81.2466 898.924 L81.2466 902.86 L51.5708 902.86 L51.5708 898.924 Z\" fill=\"#000000\" fill-rule=\"evenodd\" fill-opacity=\"1\" /><path clip-path=\"url(#clip940)\" d=\"M92.1493 911.818 L99.7882 911.818 L99.7882 885.452 L91.478 887.119 L91.478 882.86 L99.7419 881.193 L104.418 881.193 L104.418 911.818 L112.057 911.818 L112.057 915.753 L92.1493 915.753 L92.1493 911.818 Z\" fill=\"#000000\" fill-rule=\"evenodd\" fill-opacity=\"1\" /><path clip-path=\"url(#clip940)\" d=\"M100.112 608.934 Q96.5011 608.934 94.6724 612.499 Q92.8669 616.041 92.8669 623.17 Q92.8669 630.277 94.6724 633.842 Q96.5011 637.383 100.112 637.383 Q103.746 637.383 105.552 633.842 Q107.381 630.277 107.381 623.17 Q107.381 616.041 105.552 612.499 Q103.746 608.934 100.112 608.934 M100.112 605.231 Q105.922 605.231 108.978 609.837 Q112.057 614.42 112.057 623.17 Q112.057 631.897 108.978 636.504 Q105.922 641.087 100.112 641.087 Q94.3021 641.087 91.2234 636.504 Q88.1679 631.897 88.1679 623.17 Q88.1679 614.42 91.2234 609.837 Q94.3021 605.231 100.112 605.231 Z\" fill=\"#000000\" fill-rule=\"evenodd\" fill-opacity=\"1\" /><path clip-path=\"url(#clip940)\" d=\"M92.1493 361.143 L99.7882 361.143 L99.7882 334.778 L91.478 336.444 L91.478 332.185 L99.7419 330.518 L104.418 330.518 L104.418 361.143 L112.057 361.143 L112.057 365.078 L92.1493 365.078 L92.1493 361.143 Z\" fill=\"#000000\" fill-rule=\"evenodd\" fill-opacity=\"1\" /><path clip-path=\"url(#clip940)\" d=\"M498.174 14.0809 L498.174 22.0612 Q493.515 19.8332 489.383 18.7395 Q485.251 17.6457 481.403 17.6457 Q474.719 17.6457 471.073 20.2383 Q467.468 22.8309 467.468 27.611 Q467.468 31.6214 469.858 33.6873 Q472.288 35.7128 479.013 36.9686 L483.955 37.9813 Q493.11 39.7232 497.444 44.1387 Q501.819 48.5136 501.819 55.8863 Q501.819 64.6767 495.905 69.2137 Q490.031 73.7508 478.648 73.7508 Q474.354 73.7508 469.493 72.7785 Q464.673 71.8063 459.487 69.9024 L459.487 61.4765 Q464.47 64.2716 469.25 65.6895 Q474.03 67.1073 478.648 67.1073 Q485.656 67.1073 489.464 64.3527 Q493.272 61.598 493.272 56.4939 Q493.272 52.0379 490.517 49.5264 Q487.803 47.0148 481.565 45.759 L476.582 44.7868 Q467.427 42.9639 463.336 39.075 Q459.244 35.1862 459.244 28.2591 Q459.244 20.2383 464.875 15.6203 Q470.546 11.0023 480.471 11.0023 Q484.725 11.0023 489.14 11.7719 Q493.556 12.5416 498.174 14.0809 Z\" fill=\"#000000\" fill-rule=\"evenodd\" fill-opacity=\"1\" /><path clip-path=\"url(#clip940)\" d=\"M553.063 48.0275 L553.063 51.6733 L518.793 51.6733 Q519.279 59.3701 523.411 63.421 Q527.583 67.4314 534.996 67.4314 Q539.29 67.4314 543.301 66.3781 Q547.352 65.3249 551.321 63.2184 L551.321 70.267 Q547.311 71.9684 543.098 72.8596 Q538.885 73.7508 534.551 73.7508 Q523.694 73.7508 517.334 67.4314 Q511.015 61.1119 511.015 50.3365 Q511.015 39.1965 517.01 32.6746 Q523.046 26.1121 533.254 26.1121 Q542.409 26.1121 547.716 32.0264 Q553.063 37.9003 553.063 48.0275 M545.61 45.84 Q545.529 39.7232 542.166 36.0774 Q538.845 32.4315 533.335 32.4315 Q527.097 32.4315 523.33 35.9558 Q519.603 39.4801 519.036 45.8805 L545.61 45.84 Z\" fill=\"#000000\" fill-rule=\"evenodd\" fill-opacity=\"1\" /><path clip-path=\"url(#clip940)\" d=\"M597.947 28.9478 L597.947 35.9153 Q594.788 34.1734 591.587 33.3227 Q588.428 32.4315 585.187 32.4315 Q577.936 32.4315 573.926 37.0496 Q569.915 41.6271 569.915 49.9314 Q569.915 58.2358 573.926 62.8538 Q577.936 67.4314 585.187 67.4314 Q588.428 67.4314 591.587 66.5807 Q594.788 65.6895 597.947 63.9476 L597.947 70.8341 Q594.828 72.2924 591.466 73.0216 Q588.144 73.7508 584.377 73.7508 Q574.128 73.7508 568.092 67.3098 Q562.056 60.8689 562.056 49.9314 Q562.056 38.832 568.133 32.472 Q574.25 26.1121 584.863 26.1121 Q588.306 26.1121 591.587 26.8413 Q594.869 27.5299 597.947 28.9478 Z\" fill=\"#000000\" fill-rule=\"evenodd\" fill-opacity=\"1\" /><path clip-path=\"url(#clip940)\" d=\"M628.491 32.4315 Q622.496 32.4315 619.012 37.1306 Q615.528 41.7891 615.528 49.9314 Q615.528 58.0738 618.972 62.7728 Q622.455 67.4314 628.491 67.4314 Q634.446 67.4314 637.93 62.7323 Q641.414 58.0333 641.414 49.9314 Q641.414 41.8701 637.93 37.1711 Q634.446 32.4315 628.491 32.4315 M628.491 26.1121 Q638.213 26.1121 643.763 32.4315 Q649.313 38.7509 649.313 49.9314 Q649.313 61.0714 643.763 67.4314 Q638.213 73.7508 628.491 73.7508 Q618.729 73.7508 613.179 67.4314 Q607.67 61.0714 607.67 49.9314 Q607.67 38.7509 613.179 32.4315 Q618.729 26.1121 628.491 26.1121 Z\" fill=\"#000000\" fill-rule=\"evenodd\" fill-opacity=\"1\" /><path clip-path=\"url(#clip940)\" d=\"M699.382 45.1919 L699.382 72.576 L691.928 72.576 L691.928 45.4349 Q691.928 38.994 689.417 35.7938 Q686.905 32.5936 681.882 32.5936 Q675.846 32.5936 672.362 36.4419 Q668.879 40.2903 668.879 46.9338 L668.879 72.576 L661.385 72.576 L661.385 27.2059 L668.879 27.2059 L668.879 34.2544 Q671.552 30.163 675.158 28.1376 Q678.803 26.1121 683.543 26.1121 Q691.361 26.1121 695.372 30.9732 Q699.382 35.7938 699.382 45.1919 Z\" fill=\"#000000\" fill-rule=\"evenodd\" fill-opacity=\"1\" /><path clip-path=\"url(#clip940)\" d=\"M744.104 34.0924 L744.104 9.54393 L751.558 9.54393 L751.558 72.576 L744.104 72.576 L744.104 65.7705 Q741.754 69.8214 738.149 71.8063 Q734.584 73.7508 729.561 73.7508 Q721.338 73.7508 716.153 67.1883 Q711.008 60.6258 711.008 49.9314 Q711.008 39.2371 716.153 32.6746 Q721.338 26.1121 729.561 26.1121 Q734.584 26.1121 738.149 28.0971 Q741.754 30.0415 744.104 34.0924 M718.705 49.9314 Q718.705 58.1548 722.067 62.8538 Q725.47 67.5124 731.384 67.5124 Q737.298 67.5124 740.701 62.8538 Q744.104 58.1548 744.104 49.9314 Q744.104 41.7081 740.701 37.0496 Q737.298 32.3505 731.384 32.3505 Q725.47 32.3505 722.067 37.0496 Q718.705 41.7081 718.705 49.9314 Z\" fill=\"#000000\" fill-rule=\"evenodd\" fill-opacity=\"1\" /><path clip-path=\"url(#clip940)\" d=\"M763.143 46.5287 L784.978 46.5287 L784.978 53.1722 L763.143 53.1722 L763.143 46.5287 Z\" fill=\"#000000\" fill-rule=\"evenodd\" fill-opacity=\"1\" /><path clip-path=\"url(#clip940)\" d=\"M824.028 17.6457 Q815.116 17.6457 809.85 24.2892 Q804.625 30.9327 804.625 42.3968 Q804.625 53.8203 809.85 60.4638 Q815.116 67.1073 824.028 67.1073 Q832.94 67.1073 838.125 60.4638 Q843.351 53.8203 843.351 42.3968 Q843.351 30.9327 838.125 24.2892 Q832.94 17.6457 824.028 17.6457 M824.028 11.0023 Q836.748 11.0023 844.364 19.5497 Q851.98 28.0566 851.98 42.3968 Q851.98 56.6965 844.364 65.2439 Q836.748 73.7508 824.028 73.7508 Q811.268 73.7508 803.612 65.2439 Q795.996 56.737 795.996 42.3968 Q795.996 28.0566 803.612 19.5497 Q811.268 11.0023 824.028 11.0023 Z\" fill=\"#000000\" fill-rule=\"evenodd\" fill-opacity=\"1\" /><path clip-path=\"url(#clip940)\" d=\"M890.747 34.1734 Q889.491 33.4443 887.992 33.1202 Q886.534 32.7556 884.751 32.7556 Q878.432 32.7556 875.029 36.8875 Q871.667 40.9789 871.667 48.6757 L871.667 72.576 L864.173 72.576 L864.173 27.2059 L871.667 27.2059 L871.667 34.2544 Q874.016 30.1225 877.784 28.1376 Q881.551 26.1121 886.939 26.1121 Q887.709 26.1121 888.64 26.2337 Q889.572 26.3147 890.706 26.5172 L890.747 34.1734 Z\" fill=\"#000000\" fill-rule=\"evenodd\" fill-opacity=\"1\" /><path clip-path=\"url(#clip940)\" d=\"M926.962 34.0924 L926.962 9.54393 L934.415 9.54393 L934.415 72.576 L926.962 72.576 L926.962 65.7705 Q924.612 69.8214 921.007 71.8063 Q917.442 73.7508 912.419 73.7508 Q904.196 73.7508 899.011 67.1883 Q893.866 60.6258 893.866 49.9314 Q893.866 39.2371 899.011 32.6746 Q904.196 26.1121 912.419 26.1121 Q917.442 26.1121 921.007 28.0971 Q924.612 30.0415 926.962 34.0924 M901.563 49.9314 Q901.563 58.1548 904.925 62.8538 Q908.328 67.5124 914.242 67.5124 Q920.156 67.5124 923.559 62.8538 Q926.962 58.1548 926.962 49.9314 Q926.962 41.7081 923.559 37.0496 Q920.156 32.3505 914.242 32.3505 Q908.328 32.3505 904.925 37.0496 Q901.563 41.7081 901.563 49.9314 Z\" fill=\"#000000\" fill-rule=\"evenodd\" fill-opacity=\"1\" /><path clip-path=\"url(#clip940)\" d=\"M988.576 48.0275 L988.576 51.6733 L954.305 51.6733 Q954.792 59.3701 958.923 63.421 Q963.096 67.4314 970.509 67.4314 Q974.803 67.4314 978.813 66.3781 Q982.864 65.3249 986.834 63.2184 L986.834 70.267 Q982.824 71.9684 978.611 72.8596 Q974.398 73.7508 970.063 73.7508 Q959.207 73.7508 952.847 67.4314 Q946.528 61.1119 946.528 50.3365 Q946.528 39.1965 952.523 32.6746 Q958.559 26.1121 968.767 26.1121 Q977.922 26.1121 983.229 32.0264 Q988.576 37.9003 988.576 48.0275 M981.122 45.84 Q981.041 39.7232 977.679 36.0774 Q974.357 32.4315 968.848 32.4315 Q962.61 32.4315 958.842 35.9558 Q955.116 39.4801 954.548 45.8805 L981.122 45.84 Z\" fill=\"#000000\" fill-rule=\"evenodd\" fill-opacity=\"1\" /><path clip-path=\"url(#clip940)\" d=\"M1027.1 34.1734 Q1025.84 33.4443 1024.35 33.1202 Q1022.89 32.7556 1021.1 32.7556 Q1014.79 32.7556 1011.38 36.8875 Q1008.02 40.9789 1008.02 48.6757 L1008.02 72.576 L1000.53 72.576 L1000.53 27.2059 L1008.02 27.2059 L1008.02 34.2544 Q1010.37 30.1225 1014.14 28.1376 Q1017.9 26.1121 1023.29 26.1121 Q1024.06 26.1121 1024.99 26.2337 Q1025.93 26.3147 1027.06 26.5172 L1027.1 34.1734 Z\" fill=\"#000000\" fill-rule=\"evenodd\" fill-opacity=\"1\" /><path clip-path=\"url(#clip940)\" d=\"M1061.61 12.096 L1069.8 12.096 L1069.8 68.3631 Q1069.8 79.3005 1065.62 84.2426 Q1061.49 89.1847 1052.3 89.1847 L1049.18 89.1847 L1049.18 82.2982 L1051.73 82.2982 Q1057.16 82.2982 1059.39 79.26 Q1061.61 76.2218 1061.61 68.3631 L1061.61 12.096 Z\" fill=\"#000000\" fill-rule=\"evenodd\" fill-opacity=\"1\" /><path clip-path=\"url(#clip940)\" d=\"M1103.34 32.4315 Q1097.34 32.4315 1093.86 37.1306 Q1090.38 41.7891 1090.38 49.9314 Q1090.38 58.0738 1093.82 62.7728 Q1097.3 67.4314 1103.34 67.4314 Q1109.29 67.4314 1112.78 62.7323 Q1116.26 58.0333 1116.26 49.9314 Q1116.26 41.8701 1112.78 37.1711 Q1109.29 32.4315 1103.34 32.4315 M1103.34 26.1121 Q1113.06 26.1121 1118.61 32.4315 Q1124.16 38.7509 1124.16 49.9314 Q1124.16 61.0714 1118.61 67.4314 Q1113.06 73.7508 1103.34 73.7508 Q1093.58 73.7508 1088.03 67.4314 Q1082.52 61.0714 1082.52 49.9314 Q1082.52 38.7509 1088.03 32.4315 Q1093.58 26.1121 1103.34 26.1121 Z\" fill=\"#000000\" fill-rule=\"evenodd\" fill-opacity=\"1\" /><path clip-path=\"url(#clip940)\" d=\"M1136.52 27.2059 L1143.97 27.2059 L1143.97 72.576 L1136.52 72.576 L1136.52 27.2059 M1136.52 9.54393 L1143.97 9.54393 L1143.97 18.9825 L1136.52 18.9825 L1136.52 9.54393 Z\" fill=\"#000000\" fill-rule=\"evenodd\" fill-opacity=\"1\" /><path clip-path=\"url(#clip940)\" d=\"M1197.28 45.1919 L1197.28 72.576 L1189.82 72.576 L1189.82 45.4349 Q1189.82 38.994 1187.31 35.7938 Q1184.8 32.5936 1179.78 32.5936 Q1173.74 32.5936 1170.26 36.4419 Q1166.78 40.2903 1166.78 46.9338 L1166.78 72.576 L1159.28 72.576 L1159.28 27.2059 L1166.78 27.2059 L1166.78 34.2544 Q1169.45 30.163 1173.05 28.1376 Q1176.7 26.1121 1181.44 26.1121 Q1189.26 26.1121 1193.27 30.9732 Q1197.28 35.7938 1197.28 45.1919 Z\" fill=\"#000000\" fill-rule=\"evenodd\" fill-opacity=\"1\" /><path clip-path=\"url(#clip940)\" d=\"M1219.52 14.324 L1219.52 27.2059 L1234.87 27.2059 L1234.87 32.9987 L1219.52 32.9987 L1219.52 57.6282 Q1219.52 63.1779 1221.02 64.7578 Q1222.56 66.3376 1227.21 66.3376 L1234.87 66.3376 L1234.87 72.576 L1227.21 72.576 Q1218.59 72.576 1215.31 69.3758 Q1212.02 66.1351 1212.02 57.6282 L1212.02 32.9987 L1206.56 32.9987 L1206.56 27.2059 L1212.02 27.2059 L1212.02 14.324 L1219.52 14.324 Z\" fill=\"#000000\" fill-rule=\"evenodd\" fill-opacity=\"1\" /><path clip-path=\"url(#clip940)\" d=\"M1246.58 62.2867 L1255.13 62.2867 L1255.13 72.576 L1246.58 72.576 L1246.58 62.2867 M1246.58 29.6769 L1255.13 29.6769 L1255.13 39.9662 L1246.58 39.9662 L1246.58 29.6769 Z\" fill=\"#000000\" fill-rule=\"evenodd\" fill-opacity=\"1\" /><path clip-path=\"url(#clip940)\" d=\"M1299.32 12.096 L1337.56 12.096 L1337.56 18.9825 L1307.5 18.9825 L1307.5 36.8875 L1336.31 36.8875 L1336.31 43.7741 L1307.5 43.7741 L1307.5 65.6895 L1338.29 65.6895 L1338.29 72.576 L1299.32 72.576 L1299.32 12.096 Z\" fill=\"#000000\" fill-rule=\"evenodd\" fill-opacity=\"1\" /><path clip-path=\"url(#clip940)\" d=\"M1380.34 28.5427 L1380.34 35.5912 Q1377.18 33.9709 1373.78 33.1607 Q1370.37 32.3505 1366.73 32.3505 Q1361.18 32.3505 1358.38 34.0519 Q1355.63 35.7533 1355.63 39.156 Q1355.63 41.7486 1357.61 43.2475 Q1359.6 44.7058 1365.59 46.0426 L1368.15 46.6097 Q1376.09 48.3111 1379.41 51.4303 Q1382.77 54.509 1382.77 60.0587 Q1382.77 66.3781 1377.75 70.0644 Q1372.76 73.7508 1364.01 73.7508 Q1360.37 73.7508 1356.4 73.0216 Q1352.47 72.3329 1348.09 70.9151 L1348.09 63.2184 Q1352.23 65.3654 1356.24 66.4591 Q1360.25 67.5124 1364.18 67.5124 Q1369.44 67.5124 1372.28 65.73 Q1375.11 63.9071 1375.11 60.6258 Q1375.11 57.5877 1373.05 55.9673 Q1371.02 54.3469 1364.09 52.8481 L1361.5 52.2405 Q1354.58 50.7821 1351.5 47.7845 Q1348.42 44.7463 1348.42 39.4801 Q1348.42 33.0797 1352.95 29.5959 Q1357.49 26.1121 1365.84 26.1121 Q1369.97 26.1121 1373.61 26.7198 Q1377.26 27.3274 1380.34 28.5427 Z\" fill=\"#000000\" fill-rule=\"evenodd\" fill-opacity=\"1\" /><path clip-path=\"url(#clip940)\" d=\"M1402.01 14.324 L1402.01 27.2059 L1417.36 27.2059 L1417.36 32.9987 L1402.01 32.9987 L1402.01 57.6282 Q1402.01 63.1779 1403.51 64.7578 Q1405.05 66.3376 1409.71 66.3376 L1417.36 66.3376 L1417.36 72.576 L1409.71 72.576 Q1401.08 72.576 1397.8 69.3758 Q1394.52 66.1351 1394.52 57.6282 L1394.52 32.9987 L1389.05 32.9987 L1389.05 27.2059 L1394.52 27.2059 L1394.52 14.324 L1402.01 14.324 Z\" fill=\"#000000\" fill-rule=\"evenodd\" fill-opacity=\"1\" /><path clip-path=\"url(#clip940)\" d=\"M1427.17 27.2059 L1434.62 27.2059 L1434.62 72.576 L1427.17 72.576 L1427.17 27.2059 M1427.17 9.54393 L1434.62 9.54393 L1434.62 18.9825 L1427.17 18.9825 L1427.17 9.54393 Z\" fill=\"#000000\" fill-rule=\"evenodd\" fill-opacity=\"1\" /><path clip-path=\"url(#clip940)\" d=\"M1485.54 35.9153 Q1488.34 30.8922 1492.22 28.5022 Q1496.11 26.1121 1501.38 26.1121 Q1508.47 26.1121 1512.32 31.0947 Q1516.17 36.0368 1516.17 45.1919 L1516.17 72.576 L1508.67 72.576 L1508.67 45.4349 Q1508.67 38.913 1506.36 35.7533 Q1504.05 32.5936 1499.31 32.5936 Q1493.52 32.5936 1490.16 36.4419 Q1486.8 40.2903 1486.8 46.9338 L1486.8 72.576 L1479.3 72.576 L1479.3 45.4349 Q1479.3 38.8725 1476.99 35.7533 Q1474.68 32.5936 1469.86 32.5936 Q1464.15 32.5936 1460.79 36.4824 Q1457.43 40.3308 1457.43 46.9338 L1457.43 72.576 L1449.93 72.576 L1449.93 27.2059 L1457.43 27.2059 L1457.43 34.2544 Q1459.98 30.082 1463.54 28.0971 Q1467.11 26.1121 1472.01 26.1121 Q1476.95 26.1121 1480.4 28.6237 Q1483.88 31.1352 1485.54 35.9153 Z\" fill=\"#000000\" fill-rule=\"evenodd\" fill-opacity=\"1\" /><path clip-path=\"url(#clip940)\" d=\"M1551.65 49.7694 Q1542.62 49.7694 1539.13 51.8354 Q1535.65 53.9013 1535.65 58.8839 Q1535.65 62.8538 1538.24 65.2034 Q1540.88 67.5124 1545.37 67.5124 Q1551.57 67.5124 1555.3 63.1374 Q1559.06 58.7219 1559.06 51.4303 L1559.06 49.7694 L1551.65 49.7694 M1566.52 46.6907 L1566.52 72.576 L1559.06 72.576 L1559.06 65.6895 Q1556.51 69.8214 1552.7 71.8063 Q1548.9 73.7508 1543.39 73.7508 Q1536.42 73.7508 1532.29 69.8619 Q1528.2 65.9325 1528.2 59.3701 Q1528.2 51.7138 1533.3 47.825 Q1538.45 43.9361 1548.61 43.9361 L1559.06 43.9361 L1559.06 43.2069 Q1559.06 38.0623 1555.66 35.2672 Q1552.3 32.4315 1546.18 32.4315 Q1542.29 32.4315 1538.61 33.3632 Q1534.92 34.295 1531.52 36.1584 L1531.52 29.2718 Q1535.61 27.692 1539.46 26.9223 Q1543.31 26.1121 1546.95 26.1121 Q1556.8 26.1121 1561.66 31.2163 Q1566.52 36.3204 1566.52 46.6907 Z\" fill=\"#000000\" fill-rule=\"evenodd\" fill-opacity=\"1\" /><path clip-path=\"url(#clip940)\" d=\"M1589.24 14.324 L1589.24 27.2059 L1604.6 27.2059 L1604.6 32.9987 L1589.24 32.9987 L1589.24 57.6282 Q1589.24 63.1779 1590.74 64.7578 Q1592.28 66.3376 1596.94 66.3376 L1604.6 66.3376 L1604.6 72.576 L1596.94 72.576 Q1588.31 72.576 1585.03 69.3758 Q1581.75 66.1351 1581.75 57.6282 L1581.75 32.9987 L1576.28 32.9987 L1576.28 27.2059 L1581.75 27.2059 L1581.75 14.324 L1589.24 14.324 Z\" fill=\"#000000\" fill-rule=\"evenodd\" fill-opacity=\"1\" /><path clip-path=\"url(#clip940)\" d=\"M1653.21 48.0275 L1653.21 51.6733 L1618.94 51.6733 Q1619.42 59.3701 1623.56 63.421 Q1627.73 67.4314 1635.14 67.4314 Q1639.43 67.4314 1643.45 66.3781 Q1647.5 65.3249 1651.47 63.2184 L1651.47 70.267 Q1647.46 71.9684 1643.24 72.8596 Q1639.03 73.7508 1634.7 73.7508 Q1623.84 73.7508 1617.48 67.4314 Q1611.16 61.1119 1611.16 50.3365 Q1611.16 39.1965 1617.15 32.6746 Q1623.19 26.1121 1633.4 26.1121 Q1642.55 26.1121 1647.86 32.0264 Q1653.21 37.9003 1653.21 48.0275 M1645.75 45.84 Q1645.67 39.7232 1642.31 36.0774 Q1638.99 32.4315 1633.48 32.4315 Q1627.24 32.4315 1623.47 35.9558 Q1619.75 39.4801 1619.18 45.8805 L1645.75 45.84 Z\" fill=\"#000000\" fill-rule=\"evenodd\" fill-opacity=\"1\" /><path clip-path=\"url(#clip940)\" d=\"M1695.3 34.0924 L1695.3 9.54393 L1702.75 9.54393 L1702.75 72.576 L1695.3 72.576 L1695.3 65.7705 Q1692.95 69.8214 1689.34 71.8063 Q1685.78 73.7508 1680.75 73.7508 Q1672.53 73.7508 1667.35 67.1883 Q1662.2 60.6258 1662.2 49.9314 Q1662.2 39.2371 1667.35 32.6746 Q1672.53 26.1121 1680.75 26.1121 Q1685.78 26.1121 1689.34 28.0971 Q1692.95 30.0415 1695.3 34.0924 M1669.9 49.9314 Q1669.9 58.1548 1673.26 62.8538 Q1676.66 67.5124 1682.58 67.5124 Q1688.49 67.5124 1691.89 62.8538 Q1695.3 58.1548 1695.3 49.9314 Q1695.3 41.7081 1691.89 37.0496 Q1688.49 32.3505 1682.58 32.3505 Q1676.66 32.3505 1673.26 37.0496 Q1669.9 41.7081 1669.9 49.9314 Z\" fill=\"#000000\" fill-rule=\"evenodd\" fill-opacity=\"1\" /><path clip-path=\"url(#clip940)\" d=\"M1744.8 12.096 L1752.98 12.096 L1752.98 65.6895 L1782.43 65.6895 L1782.43 72.576 L1744.8 72.576 L1744.8 12.096 Z\" fill=\"#000000\" fill-rule=\"evenodd\" fill-opacity=\"1\" /><path clip-path=\"url(#clip940)\" d=\"M1811.31 49.7694 Q1802.28 49.7694 1798.8 51.8354 Q1795.31 53.9013 1795.31 58.8839 Q1795.31 62.8538 1797.91 65.2034 Q1800.54 67.5124 1805.04 67.5124 Q1811.23 67.5124 1814.96 63.1374 Q1818.73 58.7219 1818.73 51.4303 L1818.73 49.7694 L1811.31 49.7694 M1826.18 46.6907 L1826.18 72.576 L1818.73 72.576 L1818.73 65.6895 Q1816.18 69.8214 1812.37 71.8063 Q1808.56 73.7508 1803.05 73.7508 Q1796.08 73.7508 1791.95 69.8619 Q1787.86 65.9325 1787.86 59.3701 Q1787.86 51.7138 1792.96 47.825 Q1798.11 43.9361 1808.28 43.9361 L1818.73 43.9361 L1818.73 43.2069 Q1818.73 38.0623 1815.33 35.2672 Q1811.96 32.4315 1805.85 32.4315 Q1801.96 32.4315 1798.27 33.3632 Q1794.58 34.295 1791.18 36.1584 L1791.18 29.2718 Q1795.27 27.692 1799.12 26.9223 Q1802.97 26.1121 1806.62 26.1121 Q1816.46 26.1121 1821.32 31.2163 Q1826.18 36.3204 1826.18 46.6907 Z\" fill=\"#000000\" fill-rule=\"evenodd\" fill-opacity=\"1\" /><path clip-path=\"url(#clip940)\" d=\"M1848.91 14.324 L1848.91 27.2059 L1864.26 27.2059 L1864.26 32.9987 L1848.91 32.9987 L1848.91 57.6282 Q1848.91 63.1779 1850.41 64.7578 Q1851.95 66.3376 1856.6 66.3376 L1864.26 66.3376 L1864.26 72.576 L1856.6 72.576 Q1847.98 72.576 1844.69 69.3758 Q1841.41 66.1351 1841.41 57.6282 L1841.41 32.9987 L1835.94 32.9987 L1835.94 27.2059 L1841.41 27.2059 L1841.41 14.324 L1848.91 14.324 Z\" fill=\"#000000\" fill-rule=\"evenodd\" fill-opacity=\"1\" /><path clip-path=\"url(#clip940)\" d=\"M1912.87 48.0275 L1912.87 51.6733 L1878.6 51.6733 Q1879.09 59.3701 1883.22 63.421 Q1887.39 67.4314 1894.8 67.4314 Q1899.1 67.4314 1903.11 66.3781 Q1907.16 65.3249 1911.13 63.2184 L1911.13 70.267 Q1907.12 71.9684 1902.91 72.8596 Q1898.69 73.7508 1894.36 73.7508 Q1883.5 73.7508 1877.14 67.4314 Q1870.82 61.1119 1870.82 50.3365 Q1870.82 39.1965 1876.82 32.6746 Q1882.85 26.1121 1893.06 26.1121 Q1902.22 26.1121 1907.52 32.0264 Q1912.87 37.9003 1912.87 48.0275 M1905.42 45.84 Q1905.34 39.7232 1901.97 36.0774 Q1898.65 32.4315 1893.14 32.4315 Q1886.9 32.4315 1883.14 35.9558 Q1879.41 39.4801 1878.84 45.8805 L1905.42 45.84 Z\" fill=\"#000000\" fill-rule=\"evenodd\" fill-opacity=\"1\" /><path clip-path=\"url(#clip940)\" d=\"M1962.82 45.1919 L1962.82 72.576 L1955.36 72.576 L1955.36 45.4349 Q1955.36 38.994 1952.85 35.7938 Q1950.34 32.5936 1945.32 32.5936 Q1939.28 32.5936 1935.8 36.4419 Q1932.32 40.2903 1932.32 46.9338 L1932.32 72.576 L1924.82 72.576 L1924.82 27.2059 L1932.32 27.2059 L1932.32 34.2544 Q1934.99 30.163 1938.59 28.1376 Q1942.24 26.1121 1946.98 26.1121 Q1954.8 26.1121 1958.81 30.9732 Q1962.82 35.7938 1962.82 45.1919 Z\" fill=\"#000000\" fill-rule=\"evenodd\" fill-opacity=\"1\" /><path clip-path=\"url(#clip940)\" d=\"M1985.06 14.324 L1985.06 27.2059 L2000.41 27.2059 L2000.41 32.9987 L1985.06 32.9987 L1985.06 57.6282 Q1985.06 63.1779 1986.56 64.7578 Q1988.1 66.3376 1992.75 66.3376 L2000.41 66.3376 L2000.41 72.576 L1992.75 72.576 Q1984.13 72.576 1980.85 69.3758 Q1977.56 66.1351 1977.56 57.6282 L1977.56 32.9987 L1972.1 32.9987 L1972.1 27.2059 L1977.56 27.2059 L1977.56 14.324 L1985.06 14.324 Z\" fill=\"#000000\" fill-rule=\"evenodd\" fill-opacity=\"1\" /><path clip-path=\"url(#clip940)\" d=\"M2039.14 28.5427 L2039.14 35.5912 Q2035.98 33.9709 2032.58 33.1607 Q2029.17 32.3505 2025.53 32.3505 Q2019.98 32.3505 2017.18 34.0519 Q2014.43 35.7533 2014.43 39.156 Q2014.43 41.7486 2016.41 43.2475 Q2018.4 44.7058 2024.39 46.0426 L2026.94 46.6097 Q2034.88 48.3111 2038.21 51.4303 Q2041.57 54.509 2041.57 60.0587 Q2041.57 66.3781 2036.54 70.0644 Q2031.56 73.7508 2022.81 73.7508 Q2019.17 73.7508 2015.2 73.0216 Q2011.27 72.3329 2006.89 70.9151 L2006.89 63.2184 Q2011.02 65.3654 2015.03 66.4591 Q2019.05 67.5124 2022.97 67.5124 Q2028.24 67.5124 2031.08 65.73 Q2033.91 63.9071 2033.91 60.6258 Q2033.91 57.5877 2031.85 55.9673 Q2029.82 54.3469 2022.89 52.8481 L2020.3 52.2405 Q2013.37 50.7821 2010.3 47.7845 Q2007.22 44.7463 2007.22 39.4801 Q2007.22 33.0797 2011.75 29.5959 Q2016.29 26.1121 2024.64 26.1121 Q2028.77 26.1121 2032.41 26.7198 Q2036.06 27.3274 2039.14 28.5427 Z\" fill=\"#000000\" fill-rule=\"evenodd\" fill-opacity=\"1\" /><path clip-path=\"url(#clip942)\" d=\"\n",
       "M210.454 962.219 L319.922 951.535 L429.391 836.745 L538.86 848.738 L648.328 690.855 L757.797 831.526 L867.266 901.02 L976.735 1447.87 L1086.2 744.805 L1195.67 538.243 \n",
       "  L1305.14 660.548 L1414.61 498.683 L1524.08 680.057 L1633.55 812.561 L1743.02 1292.45 L1852.48 1049.58 L1961.95 785.556 L2071.42 940.604 L2180.89 630.969 L2290.36 1143.06 \n",
       "  L2290.36 279.866 L2180.89 350.322 L2071.42 656.884 L1961.95 504.153 L1852.48 727.219 L1743.02 897.327 L1633.55 516.756 L1524.08 381.641 L1414.61 162.047 L1305.14 359.766 \n",
       "  L1195.67 213.819 L1086.2 463.654 L976.735 1014.95 L867.266 594.83 L757.797 545.919 L648.328 401.457 L538.86 544.568 L429.391 528.03 L319.922 629.54 L210.454 639.868 \n",
       "   Z\n",
       "  \" fill=\"#009af9\" fill-rule=\"evenodd\" fill-opacity=\"0.5\"/>\n",
       "<polyline clip-path=\"url(#clip942)\" style=\"stroke:#009af9; stroke-linecap:butt; stroke-linejoin:round; stroke-width:4; stroke-opacity:1; fill:none\" points=\"\n",
       "  210.454,801.044 319.922,790.537 429.391,682.388 538.86,696.653 648.328,546.156 757.797,688.723 867.266,747.925 976.735,1231.41 1086.2,604.23 1195.67,376.031 \n",
       "  1305.14,510.157 1414.61,330.365 1524.08,530.849 1633.55,664.659 1743.02,1094.89 1852.48,888.4 1961.95,644.854 2071.42,798.744 2180.89,490.646 2290.36,711.464 \n",
       "  \n",
       "  \"/>\n",
       "<polyline clip-path=\"url(#clip942)\" style=\"stroke:#e26f46; stroke-linecap:butt; stroke-linejoin:round; stroke-width:4; stroke-opacity:1; fill:none\" points=\"\n",
       "  210.454,852.46 319.922,850.998 429.391,645.419 538.86,694.864 648.328,493.869 757.797,712.509 867.266,700.216 976.735,1143.34 1086.2,654.604 1195.67,419.333 \n",
       "  1305.14,553.261 1414.61,286.94 1524.08,664.147 1633.55,601.43 1743.02,953.31 1852.48,990.329 1961.95,630.221 2071.42,741.658 2180.89,535.163 2290.36,1013.38 \n",
       "  \n",
       "  \"/>\n",
       "<path clip-path=\"url(#clip940)\" d=\"\n",
       "M1683.95 324.425 L2279.27 324.425 L2279.27 168.905 L1683.95 168.905  Z\n",
       "  \" fill=\"#ffffff\" fill-rule=\"evenodd\" fill-opacity=\"1\"/>\n",
       "<polyline clip-path=\"url(#clip940)\" style=\"stroke:#000000; stroke-linecap:butt; stroke-linejoin:round; stroke-width:4; stroke-opacity:1; fill:none\" points=\"\n",
       "  1683.95,324.425 2279.27,324.425 2279.27,168.905 1683.95,168.905 1683.95,324.425 \n",
       "  \"/>\n",
       "<polyline clip-path=\"url(#clip940)\" style=\"stroke:#009af9; stroke-linecap:butt; stroke-linejoin:round; stroke-width:4; stroke-opacity:1; fill:none\" points=\"\n",
       "  1708.45,220.745 1855.43,220.745 \n",
       "  \"/>\n",
       "<path clip-path=\"url(#clip940)\" d=\"M1884.6 207.307 L1884.6 220.293 L1890.48 220.293 Q1893.75 220.293 1895.53 218.603 Q1897.31 216.914 1897.31 213.789 Q1897.31 210.687 1895.53 208.997 Q1893.75 207.307 1890.48 207.307 L1884.6 207.307 M1879.93 203.465 L1890.48 203.465 Q1896.29 203.465 1899.26 206.104 Q1902.24 208.719 1902.24 213.789 Q1902.24 218.904 1899.26 221.52 Q1896.29 224.136 1890.48 224.136 L1884.6 224.136 L1884.6 238.025 L1879.93 238.025 L1879.93 203.465 Z\" fill=\"#000000\" fill-rule=\"evenodd\" fill-opacity=\"1\" /><path clip-path=\"url(#clip940)\" d=\"M1916.69 215.085 Q1913.26 215.085 1911.27 217.77 Q1909.28 220.432 1909.28 225.085 Q1909.28 229.738 1911.25 232.423 Q1913.24 235.085 1916.69 235.085 Q1920.09 235.085 1922.08 232.4 Q1924.07 229.715 1924.07 225.085 Q1924.07 220.478 1922.08 217.793 Q1920.09 215.085 1916.69 215.085 M1916.69 211.474 Q1922.24 211.474 1925.41 215.085 Q1928.58 218.696 1928.58 225.085 Q1928.58 231.451 1925.41 235.085 Q1922.24 238.696 1916.69 238.696 Q1911.11 238.696 1907.94 235.085 Q1904.79 231.451 1904.79 225.085 Q1904.79 218.696 1907.94 215.085 Q1911.11 211.474 1916.69 211.474 Z\" fill=\"#000000\" fill-rule=\"evenodd\" fill-opacity=\"1\" /><path clip-path=\"url(#clip940)\" d=\"M1952.17 212.863 L1952.17 216.891 Q1950.37 215.965 1948.42 215.502 Q1946.48 215.039 1944.39 215.039 Q1941.22 215.039 1939.63 216.011 Q1938.05 216.983 1938.05 218.928 Q1938.05 220.409 1939.19 221.265 Q1940.32 222.099 1943.75 222.863 L1945.2 223.187 Q1949.74 224.159 1951.64 225.941 Q1953.56 227.701 1953.56 230.872 Q1953.56 234.483 1950.69 236.589 Q1947.84 238.696 1942.84 238.696 Q1940.76 238.696 1938.49 238.279 Q1936.25 237.886 1933.75 237.076 L1933.75 232.677 Q1936.11 233.904 1938.4 234.529 Q1940.69 235.131 1942.94 235.131 Q1945.95 235.131 1947.57 234.113 Q1949.19 233.071 1949.19 231.196 Q1949.19 229.46 1948.01 228.534 Q1946.85 227.608 1942.89 226.752 L1941.41 226.404 Q1937.45 225.571 1935.69 223.858 Q1933.93 222.122 1933.93 219.113 Q1933.93 215.455 1936.52 213.465 Q1939.12 211.474 1943.89 211.474 Q1946.25 211.474 1948.33 211.821 Q1950.41 212.168 1952.17 212.863 Z\" fill=\"#000000\" fill-rule=\"evenodd\" fill-opacity=\"1\" /><path clip-path=\"url(#clip940)\" d=\"M1964.56 204.738 L1964.56 212.099 L1973.33 212.099 L1973.33 215.409 L1964.56 215.409 L1964.56 229.483 Q1964.56 232.654 1965.41 233.557 Q1966.29 234.46 1968.95 234.46 L1973.33 234.46 L1973.33 238.025 L1968.95 238.025 Q1964.02 238.025 1962.15 236.196 Q1960.27 234.344 1960.27 229.483 L1960.27 215.409 L1957.15 215.409 L1957.15 212.099 L1960.27 212.099 L1960.27 204.738 L1964.56 204.738 Z\" fill=\"#000000\" fill-rule=\"evenodd\" fill-opacity=\"1\" /><path clip-path=\"url(#clip940)\" d=\"M2001.11 223.997 L2001.11 226.08 L1981.52 226.08 Q1981.8 230.478 1984.16 232.793 Q1986.55 235.085 1990.78 235.085 Q1993.24 235.085 1995.53 234.483 Q1997.84 233.881 2000.11 232.677 L2000.11 236.705 Q1997.82 237.677 1995.41 238.187 Q1993.01 238.696 1990.53 238.696 Q1984.32 238.696 1980.69 235.085 Q1977.08 231.474 1977.08 225.316 Q1977.08 218.951 1980.51 215.224 Q1983.95 211.474 1989.79 211.474 Q1995.02 211.474 1998.05 214.853 Q2001.11 218.21 2001.11 223.997 M1996.85 222.747 Q1996.8 219.252 1994.88 217.168 Q1992.98 215.085 1989.83 215.085 Q1986.27 215.085 1984.12 217.099 Q1981.99 219.113 1981.66 222.77 L1996.85 222.747 Z\" fill=\"#000000\" fill-rule=\"evenodd\" fill-opacity=\"1\" /><path clip-path=\"url(#clip940)\" d=\"M2023.12 216.08 Q2022.4 215.664 2021.55 215.478 Q2020.71 215.27 2019.7 215.27 Q2016.08 215.27 2014.14 217.631 Q2012.22 219.969 2012.22 224.367 L2012.22 238.025 L2007.94 238.025 L2007.94 212.099 L2012.22 212.099 L2012.22 216.127 Q2013.56 213.766 2015.71 212.631 Q2017.87 211.474 2020.95 211.474 Q2021.38 211.474 2021.92 211.543 Q2022.45 211.59 2023.1 211.705 L2023.12 216.08 Z\" fill=\"#000000\" fill-rule=\"evenodd\" fill-opacity=\"1\" /><path clip-path=\"url(#clip940)\" d=\"M2027.59 212.099 L2031.85 212.099 L2031.85 238.025 L2027.59 238.025 L2027.59 212.099 M2027.59 202.006 L2031.85 202.006 L2031.85 207.4 L2027.59 207.4 L2027.59 202.006 Z\" fill=\"#000000\" fill-rule=\"evenodd\" fill-opacity=\"1\" /><path clip-path=\"url(#clip940)\" d=\"M2050.81 215.085 Q2047.38 215.085 2045.39 217.77 Q2043.4 220.432 2043.4 225.085 Q2043.4 229.738 2045.37 232.423 Q2047.36 235.085 2050.81 235.085 Q2054.21 235.085 2056.2 232.4 Q2058.19 229.715 2058.19 225.085 Q2058.19 220.478 2056.2 217.793 Q2054.21 215.085 2050.81 215.085 M2050.81 211.474 Q2056.36 211.474 2059.53 215.085 Q2062.7 218.696 2062.7 225.085 Q2062.7 231.451 2059.53 235.085 Q2056.36 238.696 2050.81 238.696 Q2045.23 238.696 2042.06 235.085 Q2038.91 231.451 2038.91 225.085 Q2038.91 218.696 2042.06 215.085 Q2045.23 211.474 2050.81 211.474 Z\" fill=\"#000000\" fill-rule=\"evenodd\" fill-opacity=\"1\" /><path clip-path=\"url(#clip940)\" d=\"M2084.79 216.08 Q2084.07 215.664 2083.21 215.478 Q2082.38 215.27 2081.36 215.27 Q2077.75 215.27 2075.81 217.631 Q2073.88 219.969 2073.88 224.367 L2073.88 238.025 L2069.6 238.025 L2069.6 212.099 L2073.88 212.099 L2073.88 216.127 Q2075.23 213.766 2077.38 212.631 Q2079.53 211.474 2082.61 211.474 Q2083.05 211.474 2083.58 211.543 Q2084.12 211.59 2084.76 211.705 L2084.79 216.08 Z\" fill=\"#000000\" fill-rule=\"evenodd\" fill-opacity=\"1\" /><path clip-path=\"url(#clip940)\" d=\"M2124.51 217.076 Q2126.11 214.205 2128.33 212.84 Q2130.55 211.474 2133.56 211.474 Q2137.61 211.474 2139.81 214.321 Q2142.01 217.145 2142.01 222.377 L2142.01 238.025 L2137.73 238.025 L2137.73 222.515 Q2137.73 218.789 2136.41 216.983 Q2135.09 215.178 2132.38 215.178 Q2129.07 215.178 2127.15 217.377 Q2125.23 219.576 2125.23 223.372 L2125.23 238.025 L2120.94 238.025 L2120.94 222.515 Q2120.94 218.765 2119.63 216.983 Q2118.31 215.178 2115.55 215.178 Q2112.29 215.178 2110.37 217.4 Q2108.44 219.599 2108.44 223.372 L2108.44 238.025 L2104.16 238.025 L2104.16 212.099 L2108.44 212.099 L2108.44 216.127 Q2109.9 213.742 2111.94 212.608 Q2113.98 211.474 2116.78 211.474 Q2119.6 211.474 2121.57 212.909 Q2123.56 214.344 2124.51 217.076 Z\" fill=\"#000000\" fill-rule=\"evenodd\" fill-opacity=\"1\" /><path clip-path=\"url(#clip940)\" d=\"M2172.68 223.997 L2172.68 226.08 L2153.1 226.08 Q2153.37 230.478 2155.74 232.793 Q2158.12 235.085 2162.36 235.085 Q2164.81 235.085 2167.1 234.483 Q2169.42 233.881 2171.68 232.677 L2171.68 236.705 Q2169.39 237.677 2166.99 238.187 Q2164.58 238.696 2162.1 238.696 Q2155.9 238.696 2152.26 235.085 Q2148.65 231.474 2148.65 225.316 Q2148.65 218.951 2152.08 215.224 Q2155.53 211.474 2161.36 211.474 Q2166.59 211.474 2169.62 214.853 Q2172.68 218.21 2172.68 223.997 M2168.42 222.747 Q2168.37 219.252 2166.45 217.168 Q2164.56 215.085 2161.41 215.085 Q2157.84 215.085 2155.69 217.099 Q2153.56 219.113 2153.24 222.77 L2168.42 222.747 Z\" fill=\"#000000\" fill-rule=\"evenodd\" fill-opacity=\"1\" /><path clip-path=\"url(#clip940)\" d=\"M2191.45 224.992 Q2186.29 224.992 2184.3 226.173 Q2182.31 227.353 2182.31 230.201 Q2182.31 232.469 2183.79 233.812 Q2185.3 235.131 2187.87 235.131 Q2191.41 235.131 2193.54 232.631 Q2195.69 230.108 2195.69 225.941 L2195.69 224.992 L2191.45 224.992 M2199.95 223.233 L2199.95 238.025 L2195.69 238.025 L2195.69 234.089 Q2194.23 236.451 2192.06 237.585 Q2189.88 238.696 2186.73 238.696 Q2182.75 238.696 2180.39 236.474 Q2178.05 234.228 2178.05 230.478 Q2178.05 226.103 2180.97 223.881 Q2183.91 221.659 2189.72 221.659 L2195.69 221.659 L2195.69 221.242 Q2195.69 218.303 2193.75 216.705 Q2191.82 215.085 2188.33 215.085 Q2186.11 215.085 2184 215.617 Q2181.89 216.15 2179.95 217.215 L2179.95 213.279 Q2182.29 212.377 2184.49 211.937 Q2186.68 211.474 2188.77 211.474 Q2194.39 211.474 2197.17 214.391 Q2199.95 217.307 2199.95 223.233 Z\" fill=\"#000000\" fill-rule=\"evenodd\" fill-opacity=\"1\" /><path clip-path=\"url(#clip940)\" d=\"M2230.27 222.377 L2230.27 238.025 L2226.01 238.025 L2226.01 222.515 Q2226.01 218.835 2224.58 217.006 Q2223.14 215.178 2220.27 215.178 Q2216.82 215.178 2214.83 217.377 Q2212.84 219.576 2212.84 223.372 L2212.84 238.025 L2208.56 238.025 L2208.56 212.099 L2212.84 212.099 L2212.84 216.127 Q2214.37 213.789 2216.43 212.631 Q2218.51 211.474 2221.22 211.474 Q2225.69 211.474 2227.98 214.252 Q2230.27 217.006 2230.27 222.377 Z\" fill=\"#000000\" fill-rule=\"evenodd\" fill-opacity=\"1\" /><polyline clip-path=\"url(#clip940)\" style=\"stroke:#e26f46; stroke-linecap:butt; stroke-linejoin:round; stroke-width:4; stroke-opacity:1; fill:none\" points=\"\n",
       "  1708.45,272.585 1855.43,272.585 \n",
       "  \"/>\n",
       "<path clip-path=\"url(#clip940)\" d=\"M1879.93 255.305 L1909.16 255.305 L1909.16 259.24 L1896.89 259.24 L1896.89 289.865 L1892.2 289.865 L1892.2 259.24 L1879.93 259.24 L1879.93 255.305 Z\" fill=\"#000000\" fill-rule=\"evenodd\" fill-opacity=\"1\" /><path clip-path=\"url(#clip940)\" d=\"M1921.55 267.92 Q1920.83 267.504 1919.97 267.318 Q1919.14 267.11 1918.12 267.11 Q1914.51 267.11 1912.57 269.471 Q1910.64 271.809 1910.64 276.207 L1910.64 289.865 L1906.36 289.865 L1906.36 263.939 L1910.64 263.939 L1910.64 267.967 Q1911.99 265.606 1914.14 264.471 Q1916.29 263.314 1919.37 263.314 Q1919.81 263.314 1920.34 263.383 Q1920.88 263.43 1921.52 263.545 L1921.55 267.92 Z\" fill=\"#000000\" fill-rule=\"evenodd\" fill-opacity=\"1\" /><path clip-path=\"url(#clip940)\" d=\"M1925.58 279.633 L1925.58 263.939 L1929.83 263.939 L1929.83 279.471 Q1929.83 283.152 1931.27 285.004 Q1932.7 286.832 1935.58 286.832 Q1939.02 286.832 1941.01 284.633 Q1943.03 282.434 1943.03 278.638 L1943.03 263.939 L1947.29 263.939 L1947.29 289.865 L1943.03 289.865 L1943.03 285.883 Q1941.48 288.244 1939.42 289.402 Q1937.38 290.536 1934.67 290.536 Q1930.2 290.536 1927.89 287.758 Q1925.58 284.98 1925.58 279.633 M1936.29 263.314 L1936.29 263.314 Z\" fill=\"#000000\" fill-rule=\"evenodd\" fill-opacity=\"1\" /><path clip-path=\"url(#clip940)\" d=\"M1978.24 275.837 L1978.24 277.92 L1958.65 277.92 Q1958.93 282.318 1961.29 284.633 Q1963.68 286.925 1967.91 286.925 Q1970.37 286.925 1972.66 286.323 Q1974.97 285.721 1977.24 284.517 L1977.24 288.545 Q1974.95 289.517 1972.54 290.027 Q1970.14 290.536 1967.66 290.536 Q1961.45 290.536 1957.82 286.925 Q1954.21 283.314 1954.21 277.156 Q1954.21 270.791 1957.64 267.064 Q1961.08 263.314 1966.92 263.314 Q1972.15 263.314 1975.18 266.693 Q1978.24 270.05 1978.24 275.837 M1973.98 274.587 Q1973.93 271.092 1972.01 269.008 Q1970.11 266.925 1966.96 266.925 Q1963.4 266.925 1961.25 268.939 Q1959.12 270.953 1958.79 274.61 L1973.98 274.587 Z\" fill=\"#000000\" fill-rule=\"evenodd\" fill-opacity=\"1\" /><path clip-path=\"url(#clip940)\" d=\"M1997.24 263.939 L2001.76 263.939 L2009.86 285.698 L2017.96 263.939 L2022.47 263.939 L2012.75 289.865 L2006.96 289.865 L1997.24 263.939 Z\" fill=\"#000000\" fill-rule=\"evenodd\" fill-opacity=\"1\" /><path clip-path=\"url(#clip940)\" d=\"M2040.13 276.832 Q2034.97 276.832 2032.98 278.013 Q2030.99 279.193 2030.99 282.041 Q2030.99 284.309 2032.47 285.652 Q2033.98 286.971 2036.55 286.971 Q2040.09 286.971 2042.22 284.471 Q2044.37 281.948 2044.37 277.781 L2044.37 276.832 L2040.13 276.832 M2048.63 275.073 L2048.63 289.865 L2044.37 289.865 L2044.37 285.929 Q2042.91 288.291 2040.74 289.425 Q2038.56 290.536 2035.41 290.536 Q2031.43 290.536 2029.07 288.314 Q2026.73 286.068 2026.73 282.318 Q2026.73 277.943 2029.65 275.721 Q2032.59 273.499 2038.4 273.499 L2044.37 273.499 L2044.37 273.082 Q2044.37 270.143 2042.43 268.545 Q2040.51 266.925 2037.01 266.925 Q2034.79 266.925 2032.68 267.457 Q2030.57 267.99 2028.63 269.055 L2028.63 265.119 Q2030.97 264.217 2033.17 263.777 Q2035.37 263.314 2037.45 263.314 Q2043.07 263.314 2045.85 266.231 Q2048.63 269.147 2048.63 275.073 Z\" fill=\"#000000\" fill-rule=\"evenodd\" fill-opacity=\"1\" /><path clip-path=\"url(#clip940)\" d=\"M2057.4 253.846 L2061.66 253.846 L2061.66 289.865 L2057.4 289.865 L2057.4 253.846 Z\" fill=\"#000000\" fill-rule=\"evenodd\" fill-opacity=\"1\" /><path clip-path=\"url(#clip940)\" d=\"M2070.13 279.633 L2070.13 263.939 L2074.39 263.939 L2074.39 279.471 Q2074.39 283.152 2075.83 285.004 Q2077.26 286.832 2080.13 286.832 Q2083.58 286.832 2085.57 284.633 Q2087.59 282.434 2087.59 278.638 L2087.59 263.939 L2091.85 263.939 L2091.85 289.865 L2087.59 289.865 L2087.59 285.883 Q2086.04 288.244 2083.98 289.402 Q2081.94 290.536 2079.23 290.536 Q2074.76 290.536 2072.45 287.758 Q2070.13 284.98 2070.13 279.633 M2080.85 263.314 L2080.85 263.314 Z\" fill=\"#000000\" fill-rule=\"evenodd\" fill-opacity=\"1\" /><path clip-path=\"url(#clip940)\" d=\"M2122.8 275.837 L2122.8 277.92 L2103.21 277.92 Q2103.49 282.318 2105.85 284.633 Q2108.24 286.925 2112.47 286.925 Q2114.93 286.925 2117.22 286.323 Q2119.53 285.721 2121.8 284.517 L2121.8 288.545 Q2119.51 289.517 2117.1 290.027 Q2114.69 290.536 2112.22 290.536 Q2106.01 290.536 2102.38 286.925 Q2098.77 283.314 2098.77 277.156 Q2098.77 270.791 2102.19 267.064 Q2105.64 263.314 2111.48 263.314 Q2116.71 263.314 2119.74 266.693 Q2122.8 270.05 2122.8 275.837 M2118.54 274.587 Q2118.49 271.092 2116.57 269.008 Q2114.67 266.925 2111.52 266.925 Q2107.96 266.925 2105.81 268.939 Q2103.68 270.953 2103.35 274.61 L2118.54 274.587 Z\" fill=\"#000000\" fill-rule=\"evenodd\" fill-opacity=\"1\" /><path clip-path=\"url(#clip940)\" d=\"M2146.31 264.703 L2146.31 268.731 Q2144.51 267.805 2142.56 267.342 Q2140.62 266.879 2138.54 266.879 Q2135.37 266.879 2133.77 267.851 Q2132.19 268.823 2132.19 270.768 Q2132.19 272.249 2133.33 273.105 Q2134.46 273.939 2137.89 274.703 L2139.35 275.027 Q2143.88 275.999 2145.78 277.781 Q2147.7 279.541 2147.7 282.712 Q2147.7 286.323 2144.83 288.429 Q2141.99 290.536 2136.99 290.536 Q2134.9 290.536 2132.63 290.119 Q2130.39 289.726 2127.89 288.916 L2127.89 284.517 Q2130.25 285.744 2132.54 286.369 Q2134.83 286.971 2137.08 286.971 Q2140.09 286.971 2141.71 285.953 Q2143.33 284.911 2143.33 283.036 Q2143.33 281.3 2142.15 280.374 Q2140.99 279.448 2137.03 278.592 L2135.55 278.244 Q2131.59 277.411 2129.83 275.698 Q2128.07 273.962 2128.07 270.953 Q2128.07 267.295 2130.67 265.305 Q2133.26 263.314 2138.03 263.314 Q2140.39 263.314 2142.47 263.661 Q2144.56 264.008 2146.31 264.703 Z\" fill=\"#000000\" fill-rule=\"evenodd\" fill-opacity=\"1\" /></svg>\n"
      ]
     },
     "execution_count": 35,
     "metadata": {},
     "output_type": "execute_result"
    }
   ],
   "source": [
    "ϵ_chain = sort(chain_2_joint[:, [Symbol(\"ϵ_draw[$a]\") for a in 1:21], 1], lt = (x,y) -> symbol_to_int(x) < symbol_to_int(y))\n",
    "tmp = describe(ϵ_chain)\n",
    "ϵ_mean = tmp[1][:, 2]\n",
    "ϵ_std = tmp[1][:, 3]\n",
    "plot(ϵ_mean[2:end], ribbon=2 * ϵ_std[2:end], label=\"Posterior mean\", title = \"Second-Order Joint: Estimated Latents\")\n",
    "plot!(ϵ', label=\"True values\")"
   ]
  },
  {
   "cell_type": "code",
   "execution_count": null,
   "metadata": {},
   "outputs": [],
   "source": []
  }
 ],
 "metadata": {
  "kernelspec": {
   "display_name": "Julia 1.7.3",
   "language": "julia",
   "name": "julia-1.7"
  },
  "language_info": {
   "file_extension": ".jl",
   "mimetype": "application/julia",
   "name": "julia",
   "version": "1.7.3"
  }
 },
 "nbformat": 4,
 "nbformat_minor": 4
}
