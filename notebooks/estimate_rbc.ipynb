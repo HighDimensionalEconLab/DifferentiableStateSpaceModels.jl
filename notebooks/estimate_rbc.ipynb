{
 "cells": [
  {
   "cell_type": "markdown",
   "metadata": {},
   "source": [
    "# Setup model and install packages\n",
    "**Warning:**  This package is a proof of concept.  While the code will remain working with proper use of a [Julia manifest](https://pkgdocs.julialang.org/v1/), you should not rely on this for research unless you are prepared to modify the source and help maintain it.\n",
    "\n",
    "Remove comment below to install the exact version of packages listed in the manifest."
   ]
  },
  {
   "cell_type": "code",
   "execution_count": 7,
   "metadata": {
    "tags": []
   },
   "outputs": [],
   "source": [
    "# ] instantiate "
   ]
  },
  {
   "cell_type": "markdown",
   "metadata": {},
   "source": [
    "The core package is `DifferentiableStateSpaceModels.jl` where `DifferenceEquations.jl` provides compatible functionality for simulating and calculating likelihoods"
   ]
  },
  {
   "cell_type": "code",
   "execution_count": 25,
   "metadata": {},
   "outputs": [],
   "source": [
    "using DifferentiableStateSpaceModels, DifferenceEquations, LinearAlgebra, Zygote, Distributions, Plots, DiffEqBase, Symbolics, BenchmarkTools"
   ]
  },
  {
   "cell_type": "markdown",
   "metadata": {},
   "source": [
    "# Model Class\n",
    "The model follows [Schmitt-Grohe and Uribe (2004)](http://www.columbia.edu/~mu2166/2nd_order/2nd_order.pdf) timing convention.  The system takes a nonlinear expectational difference equation including all first-order conditions for decisions and the system evolution equations,\n",
    "\n",
    "$$\n",
    "\\mathbb{E}_{t}\\mathcal{H}\\left(\\hat{y}',\\hat{y},\\hat{x}',\\hat{x};p\\right)=0\n",
    "$$\n",
    "where $\\hat{y}$ are the control variables, $\\hat{x}$ are the states, and $p$ is a vector of deep parameters of interest.  Expectations are taken over forward-looking variables and an underlying random process $\\epsilon'$.\n",
    "\n",
    "In addition, we consider an observation equation - which might be noisy for\n",
    "$$\n",
    "\\hat{z} = Q \\cdot \\begin{bmatrix}\\hat{y} &\\hat{x}\\end{bmatrix}^{\\top} + \\nu\n",
    "$$\n",
    "where $\\nu$ may or may not be normally distributed but $\\mathbb{E}(\\nu) = 0$ and $\\mathbb{V}(\\nu) = \\Omega(p) \\Omega(p)^{\\top}$.\n",
    "\n",
    "Assume that there is a non-stochastic steady state of this problem as $y_{ss}, x_{ss}$.\n",
    "\n",
    "## Perturbation Solution\n",
    "Define the deviation from the non-stochastic steady state as$x \\equiv \\hat{x} - x_{ss}$, and $y \\equiv \\hat{y} - y_{ss}$.\n",
    "\n",
    "The solution finds the first or second order perturbation around that non-stochastic steady state, and yields a\n",
    "$$\n",
    "x' = h(x; p) + \\eta \\, \\Gamma(p)\\, \\epsilon'\n",
    "$$\n",
    "where $\\eta$ describes how shocks affect the law of motion and $\\mathbb{E}(\\epsilon') = 0$.  Frequently this would be organized such that $\\mathbb{V}(\\epsilon)= I$, but that is not required.  In addition, it could instead be interpreted as for $x' = h(x; p) + \\eta \\, \\epsilon'$ with $\\mathbb{V}(\\epsilon') = \\Gamma(p) \\Gamma(p)^{\\top}$.\n",
    "\n",
    "and with the policy equation,\n",
    "$$\n",
    "y = g(x; p)\n",
    "$$\n",
    "and finally, substitution in for the observation equation\n",
    "$$\n",
    "z = h(x; p) + \\nu\n",
    "$$\n",
    "where\n",
    "$$\n",
    "h(x; p) \\equiv Q \\begin{bmatrix} g(x;p) \\\\ x\\end{bmatrix}\n",
    "$$\n",
    "\n",
    "## First Order Solutions\n",
    "For example, in the case of the 1st order model the solution finds,\n",
    "$$\n",
    "x' = A(p)\\, x + B(p) \\epsilon'\n",
    "$$\n",
    "and\n",
    "$$\n",
    "y = g_x(p) \\, x\n",
    "$$\n",
    "and \n",
    "$$\n",
    "z = C(p)\\, x + \\nu\n",
    "$$\n",
    "where $C(p)\\equiv Q \\begin{bmatrix} g_x(p) \\\\ I\\end{bmatrix}$, $B(p) \\equiv \\eta \\Gamma(p)$, and $\\mathbb{V}(v) = D(\\nu) D(p)^{\\top}$.  Normality of $\\nu$ or $\\epsilon'$ is not required in general.\n",
    "\n",
    "This is a linear state-space model and if the priors and shocks are gaussian, a marginal likelihood can be evaluated with classic methods such as a Kalman Filter.  The output of the perturbation can be used manually, or in conjunction with [DifferenceEquations.jl](https://github.com/SciML/DifferenceEquations.jl).\n",
    "\n",
    "## Second Order Solutions\n",
    "This package also solves for second order perturbations, with all of the same features and with easy   The canonical form of the second order solution implements state-space pruning as in [Andreasen, Fernandez-Villaverde, and Rubio-Ramirez (2017)](https://www.sas.upenn.edu/~jesusfv/Pruning.pdf).  Given the same formulation of the problem, the model finds the canonical form,\n",
    "$$\n",
    "x' = A_0(p) + A_1(p)\\, x + x^{\\top} A_2(p)\\, x + B(p) \\epsilon'\n",
    "$$\n",
    "and\n",
    "$$\n",
    "y = g_{\\sigma\\sigma} + g_x \\, x + x^{\\top}\\,g_{xx}\\,x\n",
    "$$\n",
    "and \n",
    "$$\n",
    "z = C_0(p) + C_1(p)\\, x + x^{\\top} C_2(p)\\, x + \\nu\n",
    "$$\n",
    "where $B(p) \\equiv \\eta \\Gamma(p)$, $\\mathbb{V}(v) = D(\\nu) D(p)^{\\top}$, and the $C_0,C_1,C_2,A_0, A_1, A_2$ all reflect the state space pruning.\n",
    "\n",
    "## Gradients\n",
    "All of the above use standard solution methods.  The primary contribution of this package is that all of these model elements are **differentiable**. Hence, these gradeients can be composed for use in applications such as optimization, gradient-based estimation methods, and with  [DifferenceEquations.jl](https://github.com/SciML/DifferenceEquations.jl)  which provides differentiable simulations and likelihoods for state-space models.  That is, if we think of a perturbation solver mapping $p$ to solutions (e.g. in first order $\\mathbf{P}(p) \\to (A, B, C, D)$, then we can find the gradients $\\partial_p \\mathbf{P}(p), \\partial_p A(p)$ etc.  Or, when these gradients are available for use with reverse-mode auto-differentiation, it can take \"wobbles\" in $A, B, C, D$ and go back to the \"wiggles\" of the underlying $p$ through $\\mathbf{P}$.  See [ChainRules.jl](https://juliadiff.org/ChainRulesCore.jl/stable/maths/propagators.html) for more details on AD.  \n"
   ]
  },
  {
   "cell_type": "markdown",
   "metadata": {},
   "source": [
    "## Model Primitives\n",
    "Models are defined using a Dynare-style DSL using [Symbolics.jl](https://github.com/JuliaSymbolics/Symbolics.jl).  The list of primitives are:\n",
    "1. The list of variables for the controls $y$, state $x$, and deep parameters $p$.\n",
    "2. The set of equations $H$ as a function of $p, y(t), y(t+1), x(t),$ and $x(t+1)$.  No $t-1$ timing are allowed.\n",
    "3. The loading of shocks $\\eta$ as a fixed matrix of constants\n",
    "4. The shock covariance cholesky $\\Gamma$ as a function of parameters $p$\n",
    "5. The observation equation $Q$ as a fixed matrix.\n",
    "6. The cholesky of the observation errors, $\\Omega$ as a function of parameters $p$.  At this point only a diagonal matrix is support.\n",
    "7. Either the steady state equations for all of $y$ and $x$ in closed form as a function of $p$, or initial conditions for the nonlinear solution to solve for the steady state as functions of $p$"
   ]
  },
  {
   "cell_type": "markdown",
   "metadata": {},
   "source": [
    "# RBC Example\n",
    "This example implements the model primitives to build a simple version of the RBC model with two observables."
   ]
  },
  {
   "cell_type": "code",
   "execution_count": 8,
   "metadata": {},
   "outputs": [
    {
     "data": {
      "text/plain": [
       "Perturbation Model: n_y = 2, n_x = 2, n_p = 6, n_ϵ = 1, n_z = 2\n",
       " y = [:c, :q] \n",
       " x = [:k, :z] \n",
       " p = [:α, :β, :ρ, :δ, :σ, :Ω_1]"
      ]
     },
     "execution_count": 8,
     "metadata": {},
     "output_type": "execute_result"
    }
   ],
   "source": [
    "∞ = Inf\n",
    "@variables α, β, ρ, δ, σ, Ω_1\n",
    "@variables t::Integer, k(..), z(..), c(..), q(..)\n",
    "\n",
    "x = [k, z] # states\n",
    "y = [c, q] # controls\n",
    "p = [α, β, ρ, δ, σ, Ω_1] # parameters\n",
    "\n",
    "H = [1 / c(t) - (β / c(t + 1)) * (α * exp(z(t + 1)) * k(t + 1)^(α - 1) + (1 - δ)),\n",
    "     c(t) + k(t + 1) - (1 - δ) * k(t) - q(t),\n",
    "     q(t) - exp(z(t)) * k(t)^α,\n",
    "     z(t + 1) - ρ * z(t)]  # system of model equations\n",
    "\n",
    "# analytic solutions for the steady state.  Could pass initial values and run solver and use initial values with steady_states_iv\n",
    "steady_states = [k(∞) ~ (((1 / β) - 1 + δ) / α)^(1 / (α - 1)),\n",
    "                 z(∞) ~ 0,\n",
    "                 c(∞) ~ (((1 / β) - 1 + δ) / α)^(α / (α - 1)) -\n",
    "                        δ * (((1 / β) - 1 + δ) / α)^(1 / (α - 1)),\n",
    "                 q(∞) ~ (((1 / β) - 1 + δ) / α)^(α / (α - 1))]\n",
    "\n",
    "\n",
    "Γ = [σ;;] # matrix for the 1 shock.  The [;;] notation just makes it a matrix rather than vector in julia\n",
    "η = [0; -1;;] # η is n_x * n_ϵ matrix.  The [;;]\n",
    "\n",
    "# observation matrix.  order is \"y\" then \"x\" variables, so [c,q,k,z] in this example\n",
    "Q = [1.0 0  0   0; # select c as first \"z\" observable\n",
    "     0   0  1.0 0] # select k\n",
    "\n",
    "# diagonal cholesky of covariance matrix for observation noise (so these are standard deviations).  Non-diagonal observation noise not currently supported\n",
    "Ω = [Ω_1, Ω_1]\n",
    "\n",
    "# Generates the files and includes if required.  If the model is already created, then just loads\n",
    "overwrite_model_cache  = true\n",
    "model_rbc = @make_and_include_perturbation_model(\"rbc_notebook_example\", H, (; t, y, x, p, steady_states, Γ, Ω, η, Q, overwrite_model_cache)) # Convenience macro.  Saves as \".function_cache/rbc_notebook_example.jl\"\n",
    "\n",
    "# After generation could just include the files directly, or add the following to prevent overwriting the models\n",
    "# isdefined(Main, :rbc_notebook_example) || include(joinpath(pkgdir(DifferentiableStateSpaceModels),\n",
    "#                                              \"test/generated_models/rbc_notebook_example.jl\"))\n",
    "# Alternatively, this is also the same example as a prebuilt example\n",
    "# model_rbc = @include_example_module(DifferentiableStateSpaceModels.Examples.rbc_observables)"
   ]
  },
  {
   "cell_type": "markdown",
   "metadata": {},
   "source": [
    "As commented above, the convenience macro will take this model, generate files, and include them.  It called the function [`make_perturbation_model`](https://github.com/HighDimensionalEconLab/DifferentiableStateSpaceModels.jl/blob/main/src/make_perturbation_model.jl#L6-L13) with the associated options in that file.  Once generated these can be included as normal `.jl` files.  At this point, there are no runtime generated functions though that functionality could be added later.  The following queries some of the properties of the loaded model."
   ]
  },
  {
   "cell_type": "code",
   "execution_count": 9,
   "metadata": {},
   "outputs": [
    {
     "data": {
      "text/latex": [
       "$\\begin{equation}\n",
       "\\left[\n",
       "\\begin{array}{c}\n",
       "\\frac{ - \\beta \\left( 1 - \\delta + \\left( k\\left( 1 + t \\right) \\right)^{-1 + \\alpha} \\alpha e^{z\\left( 1 + t \\right)} \\right)}{c\\left( 1 + t \\right)} + \\frac{1}{c\\left( t \\right)} \\\\\n",
       " - q\\left( t \\right) - \\left( 1 - \\delta \\right) k\\left( t \\right) + c\\left( t \\right) + k\\left( 1 + t \\right) \\\\\n",
       " - \\left( k\\left( t \\right) \\right)^{\\alpha} e^{z\\left( t \\right)} + q\\left( t \\right) \\\\\n",
       " - \\rho z\\left( t \\right) + z\\left( 1 + t \\right) \\\\\n",
       "\\end{array}\n",
       "\\right]\n",
       "\\end{equation}\n",
       "$"
      ],
      "text/plain": [
       "L\"$\\begin{equation}\n",
       "\\left[\n",
       "\\begin{array}{c}\n",
       "\\frac{ - \\beta \\left( 1 - \\delta + \\left( k\\left( 1 + t \\right) \\right)^{-1 + \\alpha} \\alpha e^{z\\left( 1 + t \\right)} \\right)}{c\\left( 1 + t \\right)} + \\frac{1}{c\\left( t \\right)} \\\\\n",
       " - q\\left( t \\right) - \\left( 1 - \\delta \\right) k\\left( t \\right) + c\\left( t \\right) + k\\left( 1 + t \\right) \\\\\n",
       " - \\left( k\\left( t \\right) \\right)^{\\alpha} e^{z\\left( t \\right)} + q\\left( t \\right) \\\\\n",
       " - \\rho z\\left( t \\right) + z\\left( 1 + t \\right) \\\\\n",
       "\\end{array}\n",
       "\\right]\n",
       "\\end{equation}\n",
       "$\""
      ]
     },
     "execution_count": 9,
     "metadata": {},
     "output_type": "execute_result"
    }
   ],
   "source": [
    "model_H_latex(model_rbc)"
   ]
  },
  {
   "cell_type": "code",
   "execution_count": 10,
   "metadata": {},
   "outputs": [
    {
     "data": {
      "text/latex": [
       "$\\begin{align}\n",
       "k\\left( \\infty \\right) =& \\left( \\frac{-1 + \\delta + \\frac{1}{\\beta}}{\\alpha} \\right)^{\\frac{1}{-1 + \\alpha}} \\\\\n",
       "z\\left( \\infty \\right) =& 0 \\\\\n",
       "c\\left( \\infty \\right) =& \\left( \\frac{-1 + \\delta + \\frac{1}{\\beta}}{\\alpha} \\right)^{\\frac{\\alpha}{-1 + \\alpha}} - \\left( \\frac{-1 + \\delta + \\frac{1}{\\beta}}{\\alpha} \\right)^{\\frac{1}{-1 + \\alpha}} \\delta \\\\\n",
       "q\\left( \\infty \\right) =& \\left( \\frac{-1 + \\delta + \\frac{1}{\\beta}}{\\alpha} \\right)^{\\frac{\\alpha}{-1 + \\alpha}}\n",
       "\\end{align}\n",
       "$"
      ],
      "text/plain": [
       "L\"$\\begin{align}\n",
       "k\\left( \\infty \\right) =& \\left( \\frac{-1 + \\delta + \\frac{1}{\\beta}}{\\alpha} \\right)^{\\frac{1}{-1 + \\alpha}} \\\\\n",
       "z\\left( \\infty \\right) =& 0 \\\\\n",
       "c\\left( \\infty \\right) =& \\left( \\frac{-1 + \\delta + \\frac{1}{\\beta}}{\\alpha} \\right)^{\\frac{\\alpha}{-1 + \\alpha}} - \\left( \\frac{-1 + \\delta + \\frac{1}{\\beta}}{\\alpha} \\right)^{\\frac{1}{-1 + \\alpha}} \\delta \\\\\n",
       "q\\left( \\infty \\right) =& \\left( \\frac{-1 + \\delta + \\frac{1}{\\beta}}{\\alpha} \\right)^{\\frac{\\alpha}{-1 + \\alpha}}\n",
       "\\end{align}\n",
       "$\""
      ]
     },
     "execution_count": 10,
     "metadata": {},
     "output_type": "execute_result"
    }
   ],
   "source": [
    "model_steady_states_latex(model_rbc)  # this is the closed form steady state, could instead pass in the state_states_iv to give approximation initial conditions for optimizer instead"
   ]
  },
  {
   "cell_type": "code",
   "execution_count": 11,
   "metadata": {},
   "outputs": [
    {
     "name": "stdout",
     "output_type": "stream",
     "text": [
      "(model_rbc.n_x, model_rbc.n_y, model_rbc.n_ϵ, model_rbc.n_z) = (2, 2, 1, 2)\n"
     ]
    },
    {
     "data": {
      "text/plain": [
       "(2, 2, 1, 2)"
      ]
     },
     "execution_count": 11,
     "metadata": {},
     "output_type": "execute_result"
    }
   ],
   "source": [
    "@show model_rbc.n_x, model_rbc.n_y, model_rbc.n_ϵ, model_rbc.n_z"
   ]
  },
  {
   "cell_type": "markdown",
   "metadata": {},
   "source": [
    "## Solving Perturbations\n",
    "\n",
    "Given a model definition, you can solve the expectational difference equation for a given set of parameters.  All of the `p` defined above must be in either the `p_d` or the `p_f` arguments below.\n",
    "\n",
    "The distinction between these is that the `p_d` parameters will be available for differentiation where the `p_f` will be fixed.  That is, for any parameters in the `p_d` the model will support calculation of gradients of   the perturbation solution.  The only downside with having extra values in `p_d` vs. `p_f` is extra computation.  Otherwise, pass in `nothing` for `p_f` if you are differentiating all of the parameters"
   ]
  },
  {
   "cell_type": "code",
   "execution_count": 13,
   "metadata": {},
   "outputs": [
    {
     "name": "stdout",
     "output_type": "stream",
     "text": [
      "(sol.retcode, sol_2.retcode, verify_steady_state(m, p_d, p_f)) = (:Success, :Success, true)\n"
     ]
    },
    {
     "data": {
      "text/plain": [
       "(:Success, :Success, true)"
      ]
     },
     "execution_count": 13,
     "metadata": {},
     "output_type": "execute_result"
    }
   ],
   "source": [
    "p_f = (ρ = 0.2, δ = 0.02, σ = 0.01, Ω_1 = 0.01) # Fixed parameters\n",
    "p_d = (α = 0.5, β = 0.95) # Pseudo-true values\n",
    "m = model_rbc  # ensure notebook executed above\n",
    "sol = generate_perturbation(model_rbc, p_d, p_f) # Solution to the first-order RBC\n",
    "sol_2 = generate_perturbation(model_rbc, p_d, p_f, Val(2)); # Solution to the second-order RBC\n",
    "@show sol.retcode, sol_2.retcode, verify_steady_state(m, p_d, p_f) # the final call checks that the analytically provided steady-state solution is correct"
   ]
  },
  {
   "cell_type": "markdown",
   "metadata": {},
   "source": [
    "The perturbation solution (in the canonical form described in the top section) can be queried from the resulting solution.  A few examples for the first order solution are below,"
   ]
  },
  {
   "cell_type": "code",
   "execution_count": 14,
   "metadata": {},
   "outputs": [
    {
     "name": "stdout",
     "output_type": "stream",
     "text": [
      "(sol.y, sol.x) = ([5.936252888048732, 6.884057971014497], [47.39025414828823, 0.0])\n",
      "sol.g_x = [0.09579643002416627 0.6746869652586192; 0.07263157894736873 6.884057971014506]\n",
      "(sol.A, sol.B) = ([0.9568351489232028 6.2093710057558855; 1.5076865909646354e-18 0.20000000000000004], [0.0; -0.01;;])\n",
      "(sol.C, sol.D) = ([0.09579643002416627 0.6746869652586192; 1.0 0.0], [0.0001, 0.0001])\n",
      "sol.x_ergodic_var = [0.07005411173180152 0.00015997603451513398; 0.00015997603451513398 0.00010416666666666667]\n"
     ]
    }
   ],
   "source": [
    "@show sol.y, sol.x  # steady state ŷ and x̂  These are the values such that y ≡ ŷ - sol.y and x ≡ x̂ - sol.x\n",
    "@show sol.g_x # the policy\n",
    "@show sol.A, sol.B # the evolution equation of the state, so that x' = A x + B ϵ\n",
    "@show sol.C, sol.D; # the evolution equation of the state, so that z = C x + ν  with variance of ν as D D'.\n",
    "@show sol.x_ergodic_var; # covariance matrix of the ergodic distribution of x, which is mean zero since x ≡ x̂ - x_ss"
   ]
  },
  {
   "cell_type": "markdown",
   "metadata": {},
   "source": [
    "In addition, you can query some metadata about the solution to aid in debugging and generic programming"
   ]
  },
  {
   "cell_type": "code",
   "execution_count": 15,
   "metadata": {},
   "outputs": [
    {
     "name": "stdout",
     "output_type": "stream",
     "text": [
      "(sol.Q, sol.η, sol.Γ) = ([1.0 0.0 0.0 0.0; 0.0 0.0 1.0 0.0], [0; -1;;], [0.01;;])\n",
      "(sol.n_y, sol.n_x, sol.n_ϵ, sol.n_z, sol.n_p) = (2, 2, 1, 2, 6)\n",
      "(sol.x_symbols, sol.y_symbols, sol.p_symbols) = ([:k, :z], [:c, :q], [:α, :β, :ρ, :δ, :σ, :Ω_1])\n"
     ]
    }
   ],
   "source": [
    "@show sol.Q, sol.η, sol.Γ; # various matrices for loading of shocks and observations\n",
    "@show sol.n_y, sol.n_x, sol.n_ϵ, sol.n_z, sol.n_p # sizes of model\n",
    "@show sol.x_symbols, sol.y_symbols, sol.p_symbols; # the order of symbols for the x vector"
   ]
  },
  {
   "cell_type": "markdown",
   "metadata": {},
   "source": [
    "## Functions of Perturbation Solutions (and their Derivatives)\n",
    "The core feature of this library is to enable gradients of the perturbagion solutions with respect to parameters (i.e., anythign in the `p_d` vector).  To show this, we will construct a function which uses the resulting law of motion and finds the gradient of the results with respect to this value."
   ]
  },
  {
   "cell_type": "code",
   "execution_count": 16,
   "metadata": {},
   "outputs": [
    {
     "data": {
      "text/plain": [
       "-0.052773688889493325"
      ]
     },
     "execution_count": 16,
     "metadata": {},
     "output_type": "execute_result"
    }
   ],
   "source": [
    "function IRF(p_d, ϵ_0; m, p_f, steps)\n",
    "    sol = generate_perturbation(m, p_d, p_f) # First-order perturbation by default, pass Val(2) as additional argument to do 2nd order.\n",
    "    x = sol.B * ϵ_0 # start after applying impulse with the model's shock η and Γ(p)\n",
    "    for _ in 1:steps\n",
    "        # A note: you cannot use mutating expressions here with most AD code.  i.e. x .= sol.A * x  wouldn't work\n",
    "        # For more elaborate simuluations, you would want to use DifferenceEquations.jl in practice\n",
    "        x = sol.A * x # iterate forward using first-order observation equation        \n",
    "    end    \n",
    "    return [0, 1]' * sol.C * x # choose the second observable using the model's C observation equation since first-order\n",
    "end\n",
    "\n",
    "m = model_rbc  # ensure notebook executed above\n",
    "p_f = (ρ=0.2, δ=0.02, σ=0.01, Ω_1=0.01) # not differentiated \n",
    "p_d = (α=0.5, β=0.95) # different parameters\n",
    "steps = 10 # steps ahead to forecast\n",
    "ϵ_0 = [1.0] # shock size\n",
    "IRF(p_d, ϵ_0; m, p_f, steps) # Function works on its own, calculating perturbation"
   ]
  },
  {
   "cell_type": "markdown",
   "metadata": {},
   "source": [
    "However, the real benefit is that this function can itself be differentiated, to find gradients with respect to the deep parameters `p_d` and the shock `ϵ_0`"
   ]
  },
  {
   "cell_type": "code",
   "execution_count": 17,
   "metadata": {},
   "outputs": [
    {
     "data": {
      "text/plain": [
       "((α = -0.5810083808068426, β = -1.1823123518725853), [-0.05277368888949331])"
      ]
     },
     "execution_count": 17,
     "metadata": {},
     "output_type": "execute_result"
    }
   ],
   "source": [
    "# Using the Zygote auto-differentiation library already loaded above\n",
    "p_d = (α=0.5, β=0.95) # different parameters\n",
    "ϵ_0 = [1.0] # shock size\n",
    "IRF_grad = gradient((p_d, ϵ_0) -> IRF(p_d, ϵ_0; m, p_f, steps), p_d, ϵ_0) # \"closes\" over the m, p_f, and steps to create a new function, and differentiates it with respect to other arguments"
   ]
  },
  {
   "cell_type": "code",
   "execution_count": 39,
   "metadata": {},
   "outputs": [
    {
     "name": "stdout",
     "output_type": "stream",
     "text": [
      "d/dα IRF(p_d, ϵ0) = -0.5810083808068426, d/dβ IRF(p_d, ϵ0) = -1.1823123518725853, d/dϵ0 IRF(p_d, ϵ0) = [-0.05277368888949331]\n"
     ]
    }
   ],
   "source": [
    "println(\"d/dα IRF(p_d, ϵ0) = $(IRF_grad[1].α), d/dβ IRF(p_d, ϵ0) = $(IRF_grad[1].β), d/dϵ0 IRF(p_d, ϵ0) = $(IRF_grad[2])\")"
   ]
  },
  {
   "cell_type": "markdown",
   "metadata": {},
   "source": [
    "## Using Solution Cache\n",
    "\n",
    "The calculation of the gradients of the perturbation solution is slow relative to the perturbation itself, and both can allocate a significant amount of memory.  If you intend to keep calculating a perturbation a large number of times (e.g., during estimation), then you may want to preallocate this memory and reuse it by passing in a cache."
   ]
  },
  {
   "cell_type": "code",
   "execution_count": 18,
   "metadata": {},
   "outputs": [
    {
     "name": "stdout",
     "output_type": "stream",
     "text": [
      "IRF_cache(p_d, ϵ_0; m, p_f, steps, cache) = -0.052773688889493325\n"
     ]
    },
    {
     "data": {
      "text/plain": [
       "((α = -0.5810083808068426, β = -1.1823123518725853), [-0.05277368888949331])"
      ]
     },
     "execution_count": 18,
     "metadata": {},
     "output_type": "execute_result"
    }
   ],
   "source": [
    "function IRF_cache(p_d, ϵ_0; m, p_f, steps, cache)\n",
    "    sol = generate_perturbation(m, p_d, p_f; cache)  # only difference is passing in a pre-allocated cache to the perturbation solver\n",
    "    x = sol.B * ϵ_0\n",
    "    for _ in 1:steps\n",
    "        x = sol.A * x\n",
    "    end    \n",
    "    return [0, 1]' * sol.C * x\n",
    "end\n",
    "\n",
    "# To call it\n",
    "m = model_rbc  # ensure notebook executed above\n",
    "p_d = (α=0.5, β=0.95)  # Differentiated parameters\n",
    "p_f = (ρ=0.2, δ=0.02, σ=0.01, Ω_1=0.01)\n",
    "steps = 10 # steps ahead to forecast\n",
    "ϵ_0 = [1.0] # shock size\n",
    "cache = SolverCache(m, Val(1), p_d)   # the p_d passed into the cache just reuses the symbols, and the values in p_d are unused\n",
    "@show IRF_cache(p_d, ϵ_0; m, p_f, steps, cache)\n",
    "gradient((p_d, ϵ_0) -> IRF_cache(p_d, ϵ_0; m, p_f, steps, cache), p_d, ϵ_0)  # as before, do not try to differentiate with respect to the cache values itself."
   ]
  },
  {
   "cell_type": "code",
   "execution_count": 19,
   "metadata": {},
   "outputs": [
    {
     "name": "stdout",
     "output_type": "stream",
     "text": [
      "  90.600 μs (214 allocations: 86.59 KiB)\n",
      "  85.200 μs (125 allocations: 75.72 KiB)\n"
     ]
    },
    {
     "data": {
      "text/plain": [
       "-0.052773688889493325"
      ]
     },
     "execution_count": 19,
     "metadata": {},
     "output_type": "execute_result"
    }
   ],
   "source": [
    "# However, in a problem this small you will not see much of a difference in performance\n",
    "@btime IRF($p_d, $ϵ_0; m = $m, p_f = $p_f, steps = $steps)\n",
    "@btime IRF_cache($p_d, $ϵ_0; m = $m, p_f = $p_f, steps = $steps, cache = $cache)"
   ]
  },
  {
   "cell_type": "markdown",
   "metadata": {},
   "source": [
    "## Simulating with DifferenceEquations.jl\n",
    "The manual iteration of the state-space model from the perturbation solution is possible, but can be verbose and difficult to achieve efficiency for gradients.  One benefit of this package is that it creates state-space models in a form consistent with [DifferenceEquations.jl](https://github.com/SciML/DifferenceEquations.jl) which can be easily simulated, visualized, and estimated.\n",
    "\n",
    "To do this, we will calculate a perturbation solution then simulate it for various `x_0` drawn from the ergodic solution."
   ]
  },
  {
   "cell_type": "code",
   "execution_count": 20,
   "metadata": {},
   "outputs": [
    {
     "data": {
      "image/svg+xml": [
       "<?xml version=\"1.0\" encoding=\"utf-8\"?>\n",
       "<svg xmlns=\"http://www.w3.org/2000/svg\" xmlns:xlink=\"http://www.w3.org/1999/xlink\" width=\"600\" height=\"400\" viewBox=\"0 0 2400 1600\">\n",
       "<defs>\n",
       "  <clipPath id=\"clip590\">\n",
       "    <rect x=\"0\" y=\"0\" width=\"2400\" height=\"1600\"/>\n",
       "  </clipPath>\n",
       "</defs>\n",
       "<path clip-path=\"url(#clip590)\" d=\"\n",
       "M0 1600 L2400 1600 L2400 0 L0 0  Z\n",
       "  \" fill=\"#ffffff\" fill-rule=\"evenodd\" fill-opacity=\"1\"/>\n",
       "<defs>\n",
       "  <clipPath id=\"clip591\">\n",
       "    <rect x=\"480\" y=\"0\" width=\"1681\" height=\"1600\"/>\n",
       "  </clipPath>\n",
       "</defs>\n",
       "<path clip-path=\"url(#clip590)\" d=\"\n",
       "M194.422 1423.18 L2352.76 1423.18 L2352.76 47.2441 L194.422 47.2441  Z\n",
       "  \" fill=\"#ffffff\" fill-rule=\"evenodd\" fill-opacity=\"1\"/>\n",
       "<defs>\n",
       "  <clipPath id=\"clip592\">\n",
       "    <rect x=\"194\" y=\"47\" width=\"2159\" height=\"1377\"/>\n",
       "  </clipPath>\n",
       "</defs>\n",
       "<polyline clip-path=\"url(#clip592)\" style=\"stroke:#000000; stroke-linecap:butt; stroke-linejoin:round; stroke-width:2; stroke-opacity:0.1; fill:none\" points=\"\n",
       "  194.422,1423.18 194.422,47.2441 \n",
       "  \"/>\n",
       "<polyline clip-path=\"url(#clip592)\" style=\"stroke:#000000; stroke-linecap:butt; stroke-linejoin:round; stroke-width:2; stroke-opacity:0.1; fill:none\" points=\"\n",
       "  734.006,1423.18 734.006,47.2441 \n",
       "  \"/>\n",
       "<polyline clip-path=\"url(#clip592)\" style=\"stroke:#000000; stroke-linecap:butt; stroke-linejoin:round; stroke-width:2; stroke-opacity:0.1; fill:none\" points=\"\n",
       "  1273.59,1423.18 1273.59,47.2441 \n",
       "  \"/>\n",
       "<polyline clip-path=\"url(#clip592)\" style=\"stroke:#000000; stroke-linecap:butt; stroke-linejoin:round; stroke-width:2; stroke-opacity:0.1; fill:none\" points=\"\n",
       "  1813.17,1423.18 1813.17,47.2441 \n",
       "  \"/>\n",
       "<polyline clip-path=\"url(#clip592)\" style=\"stroke:#000000; stroke-linecap:butt; stroke-linejoin:round; stroke-width:2; stroke-opacity:0.1; fill:none\" points=\"\n",
       "  2352.76,1423.18 2352.76,47.2441 \n",
       "  \"/>\n",
       "<polyline clip-path=\"url(#clip590)\" style=\"stroke:#000000; stroke-linecap:butt; stroke-linejoin:round; stroke-width:4; stroke-opacity:1; fill:none\" points=\"\n",
       "  194.422,1423.18 2352.76,1423.18 \n",
       "  \"/>\n",
       "<polyline clip-path=\"url(#clip590)\" style=\"stroke:#000000; stroke-linecap:butt; stroke-linejoin:round; stroke-width:4; stroke-opacity:1; fill:none\" points=\"\n",
       "  194.422,1423.18 194.422,1404.28 \n",
       "  \"/>\n",
       "<polyline clip-path=\"url(#clip590)\" style=\"stroke:#000000; stroke-linecap:butt; stroke-linejoin:round; stroke-width:4; stroke-opacity:1; fill:none\" points=\"\n",
       "  734.006,1423.18 734.006,1404.28 \n",
       "  \"/>\n",
       "<polyline clip-path=\"url(#clip590)\" style=\"stroke:#000000; stroke-linecap:butt; stroke-linejoin:round; stroke-width:4; stroke-opacity:1; fill:none\" points=\"\n",
       "  1273.59,1423.18 1273.59,1404.28 \n",
       "  \"/>\n",
       "<polyline clip-path=\"url(#clip590)\" style=\"stroke:#000000; stroke-linecap:butt; stroke-linejoin:round; stroke-width:4; stroke-opacity:1; fill:none\" points=\"\n",
       "  1813.17,1423.18 1813.17,1404.28 \n",
       "  \"/>\n",
       "<polyline clip-path=\"url(#clip590)\" style=\"stroke:#000000; stroke-linecap:butt; stroke-linejoin:round; stroke-width:4; stroke-opacity:1; fill:none\" points=\"\n",
       "  2352.76,1423.18 2352.76,1404.28 \n",
       "  \"/>\n",
       "<path clip-path=\"url(#clip590)\" d=\"M194.422 1454.1 Q190.811 1454.1 188.982 1457.66 Q187.177 1461.2 187.177 1468.33 Q187.177 1475.44 188.982 1479.01 Q190.811 1482.55 194.422 1482.55 Q198.056 1482.55 199.862 1479.01 Q201.691 1475.44 201.691 1468.33 Q201.691 1461.2 199.862 1457.66 Q198.056 1454.1 194.422 1454.1 M194.422 1450.39 Q200.232 1450.39 203.288 1455 Q206.366 1459.58 206.366 1468.33 Q206.366 1477.06 203.288 1481.67 Q200.232 1486.25 194.422 1486.25 Q188.612 1486.25 185.533 1481.67 Q182.478 1477.06 182.478 1468.33 Q182.478 1459.58 185.533 1455 Q188.612 1450.39 194.422 1450.39 Z\" fill=\"#000000\" fill-rule=\"evenodd\" fill-opacity=\"1\" /><path clip-path=\"url(#clip590)\" d=\"M724.283 1451.02 L742.64 1451.02 L742.64 1454.96 L728.566 1454.96 L728.566 1463.43 Q729.584 1463.08 730.603 1462.92 Q731.621 1462.73 732.64 1462.73 Q738.427 1462.73 741.806 1465.9 Q745.186 1469.08 745.186 1474.49 Q745.186 1480.07 741.714 1483.17 Q738.242 1486.25 731.922 1486.25 Q729.746 1486.25 727.478 1485.88 Q725.232 1485.51 722.825 1484.77 L722.825 1480.07 Q724.908 1481.2 727.131 1481.76 Q729.353 1482.32 731.83 1482.32 Q735.834 1482.32 738.172 1480.21 Q740.51 1478.1 740.51 1474.49 Q740.51 1470.88 738.172 1468.77 Q735.834 1466.67 731.83 1466.67 Q729.955 1466.67 728.08 1467.08 Q726.228 1467.5 724.283 1468.38 L724.283 1451.02 Z\" fill=\"#000000\" fill-rule=\"evenodd\" fill-opacity=\"1\" /><path clip-path=\"url(#clip590)\" d=\"M1248.28 1481.64 L1255.92 1481.64 L1255.92 1455.28 L1247.61 1456.95 L1247.61 1452.69 L1255.87 1451.02 L1260.55 1451.02 L1260.55 1481.64 L1268.18 1481.64 L1268.18 1485.58 L1248.28 1485.58 L1248.28 1481.64 Z\" fill=\"#000000\" fill-rule=\"evenodd\" fill-opacity=\"1\" /><path clip-path=\"url(#clip590)\" d=\"M1287.63 1454.1 Q1284.02 1454.1 1282.19 1457.66 Q1280.38 1461.2 1280.38 1468.33 Q1280.38 1475.44 1282.19 1479.01 Q1284.02 1482.55 1287.63 1482.55 Q1291.26 1482.55 1293.07 1479.01 Q1294.9 1475.44 1294.9 1468.33 Q1294.9 1461.2 1293.07 1457.66 Q1291.26 1454.1 1287.63 1454.1 M1287.63 1450.39 Q1293.44 1450.39 1296.49 1455 Q1299.57 1459.58 1299.57 1468.33 Q1299.57 1477.06 1296.49 1481.67 Q1293.44 1486.25 1287.63 1486.25 Q1281.82 1486.25 1278.74 1481.67 Q1275.68 1477.06 1275.68 1468.33 Q1275.68 1459.58 1278.74 1455 Q1281.82 1450.39 1287.63 1450.39 Z\" fill=\"#000000\" fill-rule=\"evenodd\" fill-opacity=\"1\" /><path clip-path=\"url(#clip590)\" d=\"M1788.36 1481.64 L1796 1481.64 L1796 1455.28 L1787.69 1456.95 L1787.69 1452.69 L1795.95 1451.02 L1800.63 1451.02 L1800.63 1481.64 L1808.27 1481.64 L1808.27 1485.58 L1788.36 1485.58 L1788.36 1481.64 Z\" fill=\"#000000\" fill-rule=\"evenodd\" fill-opacity=\"1\" /><path clip-path=\"url(#clip590)\" d=\"M1817.76 1451.02 L1836.11 1451.02 L1836.11 1454.96 L1822.04 1454.96 L1822.04 1463.43 Q1823.06 1463.08 1824.08 1462.92 Q1825.09 1462.73 1826.11 1462.73 Q1831.9 1462.73 1835.28 1465.9 Q1838.66 1469.08 1838.66 1474.49 Q1838.66 1480.07 1835.19 1483.17 Q1831.71 1486.25 1825.39 1486.25 Q1823.22 1486.25 1820.95 1485.88 Q1818.7 1485.51 1816.3 1484.77 L1816.3 1480.07 Q1818.38 1481.2 1820.6 1481.76 Q1822.83 1482.32 1825.3 1482.32 Q1829.31 1482.32 1831.64 1480.21 Q1833.98 1478.1 1833.98 1474.49 Q1833.98 1470.88 1831.64 1468.77 Q1829.31 1466.67 1825.3 1466.67 Q1823.43 1466.67 1821.55 1467.08 Q1819.7 1467.5 1817.76 1468.38 L1817.76 1451.02 Z\" fill=\"#000000\" fill-rule=\"evenodd\" fill-opacity=\"1\" /><path clip-path=\"url(#clip590)\" d=\"M2331.53 1481.64 L2347.85 1481.64 L2347.85 1485.58 L2325.9 1485.58 L2325.9 1481.64 Q2328.57 1478.89 2333.15 1474.26 Q2337.76 1469.61 2338.94 1468.27 Q2341.18 1465.74 2342.06 1464.01 Q2342.96 1462.25 2342.96 1460.56 Q2342.96 1457.8 2341.02 1456.07 Q2339.1 1454.33 2336 1454.33 Q2333.8 1454.33 2331.34 1455.09 Q2328.91 1455.86 2326.14 1457.41 L2326.14 1452.69 Q2328.96 1451.55 2331.41 1450.97 Q2333.87 1450.39 2335.9 1450.39 Q2341.27 1450.39 2344.47 1453.08 Q2347.66 1455.77 2347.66 1460.26 Q2347.66 1462.39 2346.85 1464.31 Q2346.07 1466.2 2343.96 1468.8 Q2343.38 1469.47 2340.28 1472.69 Q2337.18 1475.88 2331.53 1481.64 Z\" fill=\"#000000\" fill-rule=\"evenodd\" fill-opacity=\"1\" /><path clip-path=\"url(#clip590)\" d=\"M2367.66 1454.1 Q2364.05 1454.1 2362.22 1457.66 Q2360.42 1461.2 2360.42 1468.33 Q2360.42 1475.44 2362.22 1479.01 Q2364.05 1482.55 2367.66 1482.55 Q2371.3 1482.55 2373.1 1479.01 Q2374.93 1475.44 2374.93 1468.33 Q2374.93 1461.2 2373.1 1457.66 Q2371.3 1454.1 2367.66 1454.1 M2367.66 1450.39 Q2373.47 1450.39 2376.53 1455 Q2379.61 1459.58 2379.61 1468.33 Q2379.61 1477.06 2376.53 1481.67 Q2373.47 1486.25 2367.66 1486.25 Q2361.85 1486.25 2358.77 1481.67 Q2355.72 1477.06 2355.72 1468.33 Q2355.72 1459.58 2358.77 1455 Q2361.85 1450.39 2367.66 1450.39 Z\" fill=\"#000000\" fill-rule=\"evenodd\" fill-opacity=\"1\" /><path clip-path=\"url(#clip590)\" d=\"M1272.65 1522.27 L1272.65 1532.4 L1284.71 1532.4 L1284.71 1536.95 L1272.65 1536.95 L1272.65 1556.3 Q1272.65 1560.66 1273.83 1561.9 Q1275.04 1563.14 1278.7 1563.14 L1284.71 1563.14 L1284.71 1568.04 L1278.7 1568.04 Q1271.92 1568.04 1269.34 1565.53 Q1266.76 1562.98 1266.76 1556.3 L1266.76 1536.95 L1262.46 1536.95 L1262.46 1532.4 L1266.76 1532.4 L1266.76 1522.27 L1272.65 1522.27 Z\" fill=\"#000000\" fill-rule=\"evenodd\" fill-opacity=\"1\" /><polyline clip-path=\"url(#clip592)\" style=\"stroke:#000000; stroke-linecap:butt; stroke-linejoin:round; stroke-width:2; stroke-opacity:0.1; fill:none\" points=\"\n",
       "  194.422,1337.39 2352.76,1337.39 \n",
       "  \"/>\n",
       "<polyline clip-path=\"url(#clip592)\" style=\"stroke:#000000; stroke-linecap:butt; stroke-linejoin:round; stroke-width:2; stroke-opacity:0.1; fill:none\" points=\"\n",
       "  194.422,1087.03 2352.76,1087.03 \n",
       "  \"/>\n",
       "<polyline clip-path=\"url(#clip592)\" style=\"stroke:#000000; stroke-linecap:butt; stroke-linejoin:round; stroke-width:2; stroke-opacity:0.1; fill:none\" points=\"\n",
       "  194.422,836.666 2352.76,836.666 \n",
       "  \"/>\n",
       "<polyline clip-path=\"url(#clip592)\" style=\"stroke:#000000; stroke-linecap:butt; stroke-linejoin:round; stroke-width:2; stroke-opacity:0.1; fill:none\" points=\"\n",
       "  194.422,586.302 2352.76,586.302 \n",
       "  \"/>\n",
       "<polyline clip-path=\"url(#clip592)\" style=\"stroke:#000000; stroke-linecap:butt; stroke-linejoin:round; stroke-width:2; stroke-opacity:0.1; fill:none\" points=\"\n",
       "  194.422,335.938 2352.76,335.938 \n",
       "  \"/>\n",
       "<polyline clip-path=\"url(#clip592)\" style=\"stroke:#000000; stroke-linecap:butt; stroke-linejoin:round; stroke-width:2; stroke-opacity:0.1; fill:none\" points=\"\n",
       "  194.422,85.5742 2352.76,85.5742 \n",
       "  \"/>\n",
       "<polyline clip-path=\"url(#clip590)\" style=\"stroke:#000000; stroke-linecap:butt; stroke-linejoin:round; stroke-width:4; stroke-opacity:1; fill:none\" points=\"\n",
       "  194.422,1423.18 194.422,47.2441 \n",
       "  \"/>\n",
       "<polyline clip-path=\"url(#clip590)\" style=\"stroke:#000000; stroke-linecap:butt; stroke-linejoin:round; stroke-width:4; stroke-opacity:1; fill:none\" points=\"\n",
       "  194.422,1337.39 213.32,1337.39 \n",
       "  \"/>\n",
       "<polyline clip-path=\"url(#clip590)\" style=\"stroke:#000000; stroke-linecap:butt; stroke-linejoin:round; stroke-width:4; stroke-opacity:1; fill:none\" points=\"\n",
       "  194.422,1087.03 213.32,1087.03 \n",
       "  \"/>\n",
       "<polyline clip-path=\"url(#clip590)\" style=\"stroke:#000000; stroke-linecap:butt; stroke-linejoin:round; stroke-width:4; stroke-opacity:1; fill:none\" points=\"\n",
       "  194.422,836.666 213.32,836.666 \n",
       "  \"/>\n",
       "<polyline clip-path=\"url(#clip590)\" style=\"stroke:#000000; stroke-linecap:butt; stroke-linejoin:round; stroke-width:4; stroke-opacity:1; fill:none\" points=\"\n",
       "  194.422,586.302 213.32,586.302 \n",
       "  \"/>\n",
       "<polyline clip-path=\"url(#clip590)\" style=\"stroke:#000000; stroke-linecap:butt; stroke-linejoin:round; stroke-width:4; stroke-opacity:1; fill:none\" points=\"\n",
       "  194.422,335.938 213.32,335.938 \n",
       "  \"/>\n",
       "<polyline clip-path=\"url(#clip590)\" style=\"stroke:#000000; stroke-linecap:butt; stroke-linejoin:round; stroke-width:4; stroke-opacity:1; fill:none\" points=\"\n",
       "  194.422,85.5742 213.32,85.5742 \n",
       "  \"/>\n",
       "<path clip-path=\"url(#clip590)\" d=\"M50.9921 1337.85 L80.6679 1337.85 L80.6679 1341.78 L50.9921 1341.78 L50.9921 1337.85 Z\" fill=\"#000000\" fill-rule=\"evenodd\" fill-opacity=\"1\" /><path clip-path=\"url(#clip590)\" d=\"M100.76 1323.19 Q97.1493 1323.19 95.3206 1326.76 Q93.515 1330.3 93.515 1337.43 Q93.515 1344.54 95.3206 1348.1 Q97.1493 1351.64 100.76 1351.64 Q104.395 1351.64 106.2 1348.1 Q108.029 1344.54 108.029 1337.43 Q108.029 1330.3 106.2 1326.76 Q104.395 1323.19 100.76 1323.19 M100.76 1319.49 Q106.571 1319.49 109.626 1324.1 Q112.705 1328.68 112.705 1337.43 Q112.705 1346.16 109.626 1350.76 Q106.571 1355.35 100.76 1355.35 Q94.9502 1355.35 91.8715 1350.76 Q88.816 1346.16 88.816 1337.43 Q88.816 1328.68 91.8715 1324.1 Q94.9502 1319.49 100.76 1319.49 Z\" fill=\"#000000\" fill-rule=\"evenodd\" fill-opacity=\"1\" /><path clip-path=\"url(#clip590)\" d=\"M120.922 1348.79 L125.807 1348.79 L125.807 1354.67 L120.922 1354.67 L120.922 1348.79 Z\" fill=\"#000000\" fill-rule=\"evenodd\" fill-opacity=\"1\" /><path clip-path=\"url(#clip590)\" d=\"M148.839 1324.19 L137.033 1342.64 L148.839 1342.64 L148.839 1324.19 M147.612 1320.11 L153.492 1320.11 L153.492 1342.64 L158.422 1342.64 L158.422 1346.53 L153.492 1346.53 L153.492 1354.67 L148.839 1354.67 L148.839 1346.53 L133.237 1346.53 L133.237 1342.01 L147.612 1320.11 Z\" fill=\"#000000\" fill-rule=\"evenodd\" fill-opacity=\"1\" /><path clip-path=\"url(#clip590)\" d=\"M52.1264 1087.48 L81.8021 1087.48 L81.8021 1091.42 L52.1264 1091.42 L52.1264 1087.48 Z\" fill=\"#000000\" fill-rule=\"evenodd\" fill-opacity=\"1\" /><path clip-path=\"url(#clip590)\" d=\"M101.895 1072.83 Q98.2835 1072.83 96.4548 1076.39 Q94.6493 1079.94 94.6493 1087.07 Q94.6493 1094.17 96.4548 1097.74 Q98.2835 1101.28 101.895 1101.28 Q105.529 1101.28 107.334 1097.74 Q109.163 1094.17 109.163 1087.07 Q109.163 1079.94 107.334 1076.39 Q105.529 1072.83 101.895 1072.83 M101.895 1069.13 Q107.705 1069.13 110.76 1073.73 Q113.839 1078.32 113.839 1087.07 Q113.839 1095.79 110.76 1100.4 Q107.705 1104.98 101.895 1104.98 Q96.0845 1104.98 93.0058 1100.4 Q89.9503 1095.79 89.9503 1087.07 Q89.9503 1078.32 93.0058 1073.73 Q96.0845 1069.13 101.895 1069.13 Z\" fill=\"#000000\" fill-rule=\"evenodd\" fill-opacity=\"1\" /><path clip-path=\"url(#clip590)\" d=\"M122.057 1098.43 L126.941 1098.43 L126.941 1104.31 L122.057 1104.31 L122.057 1098.43 Z\" fill=\"#000000\" fill-rule=\"evenodd\" fill-opacity=\"1\" /><path clip-path=\"url(#clip590)\" d=\"M151.293 1085.68 Q154.649 1086.39 156.524 1088.66 Q158.422 1090.93 158.422 1094.26 Q158.422 1099.38 154.904 1102.18 Q151.385 1104.98 144.904 1104.98 Q142.728 1104.98 140.413 1104.54 Q138.121 1104.13 135.668 1103.27 L135.668 1098.75 Q137.612 1099.89 139.927 1100.47 Q142.242 1101.05 144.765 1101.05 Q149.163 1101.05 151.455 1099.31 Q153.769 1097.57 153.769 1094.26 Q153.769 1091.21 151.617 1089.5 Q149.487 1087.76 145.668 1087.76 L141.64 1087.76 L141.64 1083.92 L145.853 1083.92 Q149.302 1083.92 151.13 1082.55 Q152.959 1081.16 152.959 1078.57 Q152.959 1075.91 151.061 1074.5 Q149.186 1073.06 145.668 1073.06 Q143.746 1073.06 141.547 1073.48 Q139.348 1073.89 136.709 1074.77 L136.709 1070.61 Q139.371 1069.87 141.686 1069.5 Q144.024 1069.13 146.084 1069.13 Q151.408 1069.13 154.51 1071.56 Q157.612 1073.96 157.612 1078.08 Q157.612 1080.95 155.968 1082.94 Q154.325 1084.91 151.293 1085.68 Z\" fill=\"#000000\" fill-rule=\"evenodd\" fill-opacity=\"1\" /><path clip-path=\"url(#clip590)\" d=\"M53.0754 837.118 L82.7512 837.118 L82.7512 841.053 L53.0754 841.053 L53.0754 837.118 Z\" fill=\"#000000\" fill-rule=\"evenodd\" fill-opacity=\"1\" /><path clip-path=\"url(#clip590)\" d=\"M102.844 822.465 Q99.2326 822.465 97.4039 826.03 Q95.5984 829.572 95.5984 836.701 Q95.5984 843.808 97.4039 847.372 Q99.2326 850.914 102.844 850.914 Q106.478 850.914 108.283 847.372 Q110.112 843.808 110.112 836.701 Q110.112 829.572 108.283 826.03 Q106.478 822.465 102.844 822.465 M102.844 818.761 Q108.654 818.761 111.709 823.368 Q114.788 827.951 114.788 836.701 Q114.788 845.428 111.709 850.034 Q108.654 854.618 102.844 854.618 Q97.0335 854.618 93.9549 850.034 Q90.8993 845.428 90.8993 836.701 Q90.8993 827.951 93.9549 823.368 Q97.0335 818.761 102.844 818.761 Z\" fill=\"#000000\" fill-rule=\"evenodd\" fill-opacity=\"1\" /><path clip-path=\"url(#clip590)\" d=\"M123.006 848.067 L127.89 848.067 L127.89 853.946 L123.006 853.946 L123.006 848.067 Z\" fill=\"#000000\" fill-rule=\"evenodd\" fill-opacity=\"1\" /><path clip-path=\"url(#clip590)\" d=\"M142.103 850.011 L158.422 850.011 L158.422 853.946 L136.478 853.946 L136.478 850.011 Q139.14 847.257 143.723 842.627 Q148.33 837.974 149.51 836.632 Q151.755 834.109 152.635 832.372 Q153.538 830.613 153.538 828.923 Q153.538 826.169 151.593 824.433 Q149.672 822.697 146.57 822.697 Q144.371 822.697 141.918 823.46 Q139.487 824.224 136.709 825.775 L136.709 821.053 Q139.533 819.919 141.987 819.34 Q144.441 818.761 146.478 818.761 Q151.848 818.761 155.042 821.447 Q158.237 824.132 158.237 828.622 Q158.237 830.752 157.427 832.673 Q156.64 834.572 154.533 837.164 Q153.955 837.835 150.853 841.053 Q147.751 844.247 142.103 850.011 Z\" fill=\"#000000\" fill-rule=\"evenodd\" fill-opacity=\"1\" /><path clip-path=\"url(#clip590)\" d=\"M52.7051 586.754 L82.3808 586.754 L82.3808 590.689 L52.7051 590.689 L52.7051 586.754 Z\" fill=\"#000000\" fill-rule=\"evenodd\" fill-opacity=\"1\" /><path clip-path=\"url(#clip590)\" d=\"M102.473 572.101 Q98.8622 572.101 97.0335 575.666 Q95.228 579.207 95.228 586.337 Q95.228 593.444 97.0335 597.008 Q98.8622 600.55 102.473 600.55 Q106.108 600.55 107.913 597.008 Q109.742 593.444 109.742 586.337 Q109.742 579.207 107.913 575.666 Q106.108 572.101 102.473 572.101 M102.473 568.397 Q108.283 568.397 111.339 573.004 Q114.418 577.587 114.418 586.337 Q114.418 595.064 111.339 599.67 Q108.283 604.254 102.473 604.254 Q96.6632 604.254 93.5845 599.67 Q90.529 595.064 90.529 586.337 Q90.529 577.587 93.5845 573.004 Q96.6632 568.397 102.473 568.397 Z\" fill=\"#000000\" fill-rule=\"evenodd\" fill-opacity=\"1\" /><path clip-path=\"url(#clip590)\" d=\"M122.635 597.703 L127.519 597.703 L127.519 603.582 L122.635 603.582 L122.635 597.703 Z\" fill=\"#000000\" fill-rule=\"evenodd\" fill-opacity=\"1\" /><path clip-path=\"url(#clip590)\" d=\"M138.515 599.647 L146.154 599.647 L146.154 573.282 L137.844 574.948 L137.844 570.689 L146.107 569.022 L150.783 569.022 L150.783 599.647 L158.422 599.647 L158.422 603.582 L138.515 603.582 L138.515 599.647 Z\" fill=\"#000000\" fill-rule=\"evenodd\" fill-opacity=\"1\" /><path clip-path=\"url(#clip590)\" d=\"M101.246 321.737 Q97.6354 321.737 95.8067 325.302 Q94.0012 328.843 94.0012 335.973 Q94.0012 343.079 95.8067 346.644 Q97.6354 350.186 101.246 350.186 Q104.881 350.186 106.686 346.644 Q108.515 343.079 108.515 335.973 Q108.515 328.843 106.686 325.302 Q104.881 321.737 101.246 321.737 M101.246 318.033 Q107.057 318.033 110.112 322.64 Q113.191 327.223 113.191 335.973 Q113.191 344.7 110.112 349.306 Q107.057 353.89 101.246 353.89 Q95.4363 353.89 92.3576 349.306 Q89.3021 344.7 89.3021 335.973 Q89.3021 327.223 92.3576 322.64 Q95.4363 318.033 101.246 318.033 Z\" fill=\"#000000\" fill-rule=\"evenodd\" fill-opacity=\"1\" /><path clip-path=\"url(#clip590)\" d=\"M121.408 347.339 L126.293 347.339 L126.293 353.218 L121.408 353.218 L121.408 347.339 Z\" fill=\"#000000\" fill-rule=\"evenodd\" fill-opacity=\"1\" /><path clip-path=\"url(#clip590)\" d=\"M146.478 321.737 Q142.867 321.737 141.038 325.302 Q139.232 328.843 139.232 335.973 Q139.232 343.079 141.038 346.644 Q142.867 350.186 146.478 350.186 Q150.112 350.186 151.918 346.644 Q153.746 343.079 153.746 335.973 Q153.746 328.843 151.918 325.302 Q150.112 321.737 146.478 321.737 M146.478 318.033 Q152.288 318.033 155.343 322.64 Q158.422 327.223 158.422 335.973 Q158.422 344.7 155.343 349.306 Q152.288 353.89 146.478 353.89 Q140.668 353.89 137.589 349.306 Q134.533 344.7 134.533 335.973 Q134.533 327.223 137.589 322.64 Q140.668 318.033 146.478 318.033 Z\" fill=\"#000000\" fill-rule=\"evenodd\" fill-opacity=\"1\" /><path clip-path=\"url(#clip590)\" d=\"M102.473 71.3729 Q98.8622 71.3729 97.0335 74.9377 Q95.228 78.4793 95.228 85.6089 Q95.228 92.7154 97.0335 96.2802 Q98.8622 99.8218 102.473 99.8218 Q106.108 99.8218 107.913 96.2802 Q109.742 92.7154 109.742 85.6089 Q109.742 78.4793 107.913 74.9377 Q106.108 71.3729 102.473 71.3729 M102.473 67.6692 Q108.283 67.6692 111.339 72.2757 Q114.418 76.859 114.418 85.6089 Q114.418 94.3357 111.339 98.9422 Q108.283 103.526 102.473 103.526 Q96.6632 103.526 93.5845 98.9422 Q90.529 94.3357 90.529 85.6089 Q90.529 76.859 93.5845 72.2757 Q96.6632 67.6692 102.473 67.6692 Z\" fill=\"#000000\" fill-rule=\"evenodd\" fill-opacity=\"1\" /><path clip-path=\"url(#clip590)\" d=\"M122.635 96.9746 L127.519 96.9746 L127.519 102.854 L122.635 102.854 L122.635 96.9746 Z\" fill=\"#000000\" fill-rule=\"evenodd\" fill-opacity=\"1\" /><path clip-path=\"url(#clip590)\" d=\"M138.515 98.9191 L146.154 98.9191 L146.154 72.5535 L137.844 74.2201 L137.844 69.9609 L146.107 68.2942 L150.783 68.2942 L150.783 98.9191 L158.422 98.9191 L158.422 102.854 L138.515 102.854 L138.515 98.9191 Z\" fill=\"#000000\" fill-rule=\"evenodd\" fill-opacity=\"1\" /><polyline clip-path=\"url(#clip592)\" style=\"stroke:#009af9; stroke-linecap:butt; stroke-linejoin:round; stroke-width:4; stroke-opacity:1; fill:none\" points=\"\n",
       "  194.422,1190.23 302.339,1294.19 410.255,1337.33 518.172,1315.35 626.089,1384.24 734.006,1255.9 841.922,968.667 949.839,711.169 1057.76,396.849 1165.67,86.1857 \n",
       "  1273.59,98.4113 1381.51,203.973 1489.42,357.502 1597.34,612.591 1705.26,525.197 1813.17,279.73 1921.09,109.753 2029.01,174.564 2136.92,100.014 2244.84,201.205 \n",
       "  2352.76,303.129 \n",
       "  \"/>\n",
       "<polyline clip-path=\"url(#clip592)\" style=\"stroke:#e26f46; stroke-linecap:butt; stroke-linejoin:round; stroke-width:4; stroke-opacity:1; fill:none\" points=\"\n",
       "  194.422,358.618 302.339,349.548 410.255,339.359 518.172,353.842 626.089,322.557 734.006,296.075 841.922,298.867 949.839,287.926 1057.76,286.33 1165.67,336.171 \n",
       "  1273.59,351.287 1381.51,359.746 1489.42,377.169 1597.34,323.787 1705.26,297.722 1813.17,308.173 1921.09,344.804 2029.01,322.81 2136.92,350.595 2244.84,351.416 \n",
       "  2352.76,356.123 \n",
       "  \"/>\n",
       "<path clip-path=\"url(#clip590)\" d=\"\n",
       "M2017.99 248.629 L2280.81 248.629 L2280.81 93.1086 L2017.99 93.1086  Z\n",
       "  \" fill=\"#ffffff\" fill-rule=\"evenodd\" fill-opacity=\"1\"/>\n",
       "<polyline clip-path=\"url(#clip590)\" style=\"stroke:#000000; stroke-linecap:butt; stroke-linejoin:round; stroke-width:4; stroke-opacity:1; fill:none\" points=\"\n",
       "  2017.99,248.629 2280.81,248.629 2280.81,93.1086 2017.99,93.1086 2017.99,248.629 \n",
       "  \"/>\n",
       "<polyline clip-path=\"url(#clip590)\" style=\"stroke:#009af9; stroke-linecap:butt; stroke-linejoin:round; stroke-width:4; stroke-opacity:1; fill:none\" points=\"\n",
       "  2041.97,144.949 2185.86,144.949 \n",
       "  \"/>\n",
       "<path clip-path=\"url(#clip590)\" d=\"M2209.84 126.21 L2214.12 126.21 L2214.12 147.483 L2226.83 136.303 L2232.27 136.303 L2218.52 148.432 L2232.85 162.229 L2227.29 162.229 L2214.12 149.567 L2214.12 162.229 L2209.84 162.229 L2209.84 126.21 Z\" fill=\"#000000\" fill-rule=\"evenodd\" fill-opacity=\"1\" /><polyline clip-path=\"url(#clip590)\" style=\"stroke:#e26f46; stroke-linecap:butt; stroke-linejoin:round; stroke-width:4; stroke-opacity:1; fill:none\" points=\"\n",
       "  2041.97,196.789 2185.86,196.789 \n",
       "  \"/>\n",
       "<path clip-path=\"url(#clip590)\" d=\"M2210.42 188.143 L2230.65 188.143 L2230.65 192.032 L2214.63 210.666 L2230.65 210.666 L2230.65 214.069 L2209.84 214.069 L2209.84 210.18 L2225.86 191.546 L2210.42 191.546 L2210.42 188.143 Z\" fill=\"#000000\" fill-rule=\"evenodd\" fill-opacity=\"1\" /></svg>\n"
      ]
     },
     "execution_count": 20,
     "metadata": {},
     "output_type": "execute_result"
    }
   ],
   "source": [
    "p_f = (ρ = 0.2, δ = 0.02, σ = 0.01, Ω_1 = 0.01) # Fixed parameters\n",
    "p_d = (α = 0.5, β = 0.95) # Pseudo-true values\n",
    "m = model_rbc  # ensure notebook executed above\n",
    "sol = generate_perturbation(m, p_d, p_f) # Solution to the first-order RBC\n",
    "\n",
    "# Simulate T observations from a random initial condition\n",
    "T = 20\n",
    "\n",
    "# draw from ergodic distribution for the initial condition\n",
    "x_iv = MvNormal(sol.x_ergodic_var)\n",
    "problem = LinearStateSpaceProblem(sol, x_iv, (0, T))\n",
    "plot(solve(problem))"
   ]
  },
  {
   "cell_type": "markdown",
   "metadata": {},
   "source": [
    "The `LinearStateSpaceProblem` type is automatically constructed from the underlying perturbation.  However, we can override any of these options, or pass in our own noise rather than simulate it for a particular experiment"
   ]
  },
  {
   "cell_type": "code",
   "execution_count": 21,
   "metadata": {},
   "outputs": [
    {
     "data": {
      "image/svg+xml": [
       "<?xml version=\"1.0\" encoding=\"utf-8\"?>\n",
       "<svg xmlns=\"http://www.w3.org/2000/svg\" xmlns:xlink=\"http://www.w3.org/1999/xlink\" width=\"600\" height=\"400\" viewBox=\"0 0 2400 1600\">\n",
       "<defs>\n",
       "  <clipPath id=\"clip630\">\n",
       "    <rect x=\"0\" y=\"0\" width=\"2400\" height=\"1600\"/>\n",
       "  </clipPath>\n",
       "</defs>\n",
       "<path clip-path=\"url(#clip630)\" d=\"\n",
       "M0 1600 L2400 1600 L2400 0 L0 0  Z\n",
       "  \" fill=\"#ffffff\" fill-rule=\"evenodd\" fill-opacity=\"1\"/>\n",
       "<defs>\n",
       "  <clipPath id=\"clip631\">\n",
       "    <rect x=\"480\" y=\"0\" width=\"1681\" height=\"1600\"/>\n",
       "  </clipPath>\n",
       "</defs>\n",
       "<path clip-path=\"url(#clip630)\" d=\"\n",
       "M224.584 1423.18 L2352.76 1423.18 L2352.76 47.2441 L224.584 47.2441  Z\n",
       "  \" fill=\"#ffffff\" fill-rule=\"evenodd\" fill-opacity=\"1\"/>\n",
       "<defs>\n",
       "  <clipPath id=\"clip632\">\n",
       "    <rect x=\"224\" y=\"47\" width=\"2129\" height=\"1377\"/>\n",
       "  </clipPath>\n",
       "</defs>\n",
       "<polyline clip-path=\"url(#clip632)\" style=\"stroke:#000000; stroke-linecap:butt; stroke-linejoin:round; stroke-width:2; stroke-opacity:0.1; fill:none\" points=\"\n",
       "  224.584,1423.18 224.584,47.2441 \n",
       "  \"/>\n",
       "<polyline clip-path=\"url(#clip632)\" style=\"stroke:#000000; stroke-linecap:butt; stroke-linejoin:round; stroke-width:2; stroke-opacity:0.1; fill:none\" points=\"\n",
       "  756.627,1423.18 756.627,47.2441 \n",
       "  \"/>\n",
       "<polyline clip-path=\"url(#clip632)\" style=\"stroke:#000000; stroke-linecap:butt; stroke-linejoin:round; stroke-width:2; stroke-opacity:0.1; fill:none\" points=\"\n",
       "  1288.67,1423.18 1288.67,47.2441 \n",
       "  \"/>\n",
       "<polyline clip-path=\"url(#clip632)\" style=\"stroke:#000000; stroke-linecap:butt; stroke-linejoin:round; stroke-width:2; stroke-opacity:0.1; fill:none\" points=\"\n",
       "  1820.71,1423.18 1820.71,47.2441 \n",
       "  \"/>\n",
       "<polyline clip-path=\"url(#clip632)\" style=\"stroke:#000000; stroke-linecap:butt; stroke-linejoin:round; stroke-width:2; stroke-opacity:0.1; fill:none\" points=\"\n",
       "  2352.76,1423.18 2352.76,47.2441 \n",
       "  \"/>\n",
       "<polyline clip-path=\"url(#clip630)\" style=\"stroke:#000000; stroke-linecap:butt; stroke-linejoin:round; stroke-width:4; stroke-opacity:1; fill:none\" points=\"\n",
       "  224.584,1423.18 2352.76,1423.18 \n",
       "  \"/>\n",
       "<polyline clip-path=\"url(#clip630)\" style=\"stroke:#000000; stroke-linecap:butt; stroke-linejoin:round; stroke-width:4; stroke-opacity:1; fill:none\" points=\"\n",
       "  224.584,1423.18 224.584,1404.28 \n",
       "  \"/>\n",
       "<polyline clip-path=\"url(#clip630)\" style=\"stroke:#000000; stroke-linecap:butt; stroke-linejoin:round; stroke-width:4; stroke-opacity:1; fill:none\" points=\"\n",
       "  756.627,1423.18 756.627,1404.28 \n",
       "  \"/>\n",
       "<polyline clip-path=\"url(#clip630)\" style=\"stroke:#000000; stroke-linecap:butt; stroke-linejoin:round; stroke-width:4; stroke-opacity:1; fill:none\" points=\"\n",
       "  1288.67,1423.18 1288.67,1404.28 \n",
       "  \"/>\n",
       "<polyline clip-path=\"url(#clip630)\" style=\"stroke:#000000; stroke-linecap:butt; stroke-linejoin:round; stroke-width:4; stroke-opacity:1; fill:none\" points=\"\n",
       "  1820.71,1423.18 1820.71,1404.28 \n",
       "  \"/>\n",
       "<polyline clip-path=\"url(#clip630)\" style=\"stroke:#000000; stroke-linecap:butt; stroke-linejoin:round; stroke-width:4; stroke-opacity:1; fill:none\" points=\"\n",
       "  2352.76,1423.18 2352.76,1404.28 \n",
       "  \"/>\n",
       "<path clip-path=\"url(#clip630)\" d=\"M224.584 1454.1 Q220.973 1454.1 219.144 1457.66 Q217.339 1461.2 217.339 1468.33 Q217.339 1475.44 219.144 1479.01 Q220.973 1482.55 224.584 1482.55 Q228.218 1482.55 230.024 1479.01 Q231.852 1475.44 231.852 1468.33 Q231.852 1461.2 230.024 1457.66 Q228.218 1454.1 224.584 1454.1 M224.584 1450.39 Q230.394 1450.39 233.45 1455 Q236.528 1459.58 236.528 1468.33 Q236.528 1477.06 233.45 1481.67 Q230.394 1486.25 224.584 1486.25 Q218.774 1486.25 215.695 1481.67 Q212.64 1477.06 212.64 1468.33 Q212.64 1459.58 215.695 1455 Q218.774 1450.39 224.584 1450.39 Z\" fill=\"#000000\" fill-rule=\"evenodd\" fill-opacity=\"1\" /><path clip-path=\"url(#clip630)\" d=\"M746.905 1451.02 L765.261 1451.02 L765.261 1454.96 L751.187 1454.96 L751.187 1463.43 Q752.206 1463.08 753.224 1462.92 Q754.243 1462.73 755.261 1462.73 Q761.048 1462.73 764.428 1465.9 Q767.807 1469.08 767.807 1474.49 Q767.807 1480.07 764.335 1483.17 Q760.863 1486.25 754.544 1486.25 Q752.368 1486.25 750.099 1485.88 Q747.854 1485.51 745.446 1484.77 L745.446 1480.07 Q747.53 1481.2 749.752 1481.76 Q751.974 1482.32 754.451 1482.32 Q758.456 1482.32 760.794 1480.21 Q763.132 1478.1 763.132 1474.49 Q763.132 1470.88 760.794 1468.77 Q758.456 1466.67 754.451 1466.67 Q752.576 1466.67 750.701 1467.08 Q748.849 1467.5 746.905 1468.38 L746.905 1451.02 Z\" fill=\"#000000\" fill-rule=\"evenodd\" fill-opacity=\"1\" /><path clip-path=\"url(#clip630)\" d=\"M1263.36 1481.64 L1271 1481.64 L1271 1455.28 L1262.69 1456.95 L1262.69 1452.69 L1270.95 1451.02 L1275.63 1451.02 L1275.63 1481.64 L1283.26 1481.64 L1283.26 1485.58 L1263.36 1485.58 L1263.36 1481.64 Z\" fill=\"#000000\" fill-rule=\"evenodd\" fill-opacity=\"1\" /><path clip-path=\"url(#clip630)\" d=\"M1302.71 1454.1 Q1299.1 1454.1 1297.27 1457.66 Q1295.46 1461.2 1295.46 1468.33 Q1295.46 1475.44 1297.27 1479.01 Q1299.1 1482.55 1302.71 1482.55 Q1306.34 1482.55 1308.15 1479.01 Q1309.98 1475.44 1309.98 1468.33 Q1309.98 1461.2 1308.15 1457.66 Q1306.34 1454.1 1302.71 1454.1 M1302.71 1450.39 Q1308.52 1450.39 1311.57 1455 Q1314.65 1459.58 1314.65 1468.33 Q1314.65 1477.06 1311.57 1481.67 Q1308.52 1486.25 1302.71 1486.25 Q1296.9 1486.25 1293.82 1481.67 Q1290.76 1477.06 1290.76 1468.33 Q1290.76 1459.58 1293.82 1455 Q1296.9 1450.39 1302.71 1450.39 Z\" fill=\"#000000\" fill-rule=\"evenodd\" fill-opacity=\"1\" /><path clip-path=\"url(#clip630)\" d=\"M1795.9 1481.64 L1803.54 1481.64 L1803.54 1455.28 L1795.23 1456.95 L1795.23 1452.69 L1803.49 1451.02 L1808.17 1451.02 L1808.17 1481.64 L1815.81 1481.64 L1815.81 1485.58 L1795.9 1485.58 L1795.9 1481.64 Z\" fill=\"#000000\" fill-rule=\"evenodd\" fill-opacity=\"1\" /><path clip-path=\"url(#clip630)\" d=\"M1825.3 1451.02 L1843.65 1451.02 L1843.65 1454.96 L1829.58 1454.96 L1829.58 1463.43 Q1830.6 1463.08 1831.62 1462.92 Q1832.63 1462.73 1833.65 1462.73 Q1839.44 1462.73 1842.82 1465.9 Q1846.2 1469.08 1846.2 1474.49 Q1846.2 1480.07 1842.73 1483.17 Q1839.25 1486.25 1832.94 1486.25 Q1830.76 1486.25 1828.49 1485.88 Q1826.25 1485.51 1823.84 1484.77 L1823.84 1480.07 Q1825.92 1481.2 1828.14 1481.76 Q1830.37 1482.32 1832.84 1482.32 Q1836.85 1482.32 1839.19 1480.21 Q1841.52 1478.1 1841.52 1474.49 Q1841.52 1470.88 1839.19 1468.77 Q1836.85 1466.67 1832.84 1466.67 Q1830.97 1466.67 1829.09 1467.08 Q1827.24 1467.5 1825.3 1468.38 L1825.3 1451.02 Z\" fill=\"#000000\" fill-rule=\"evenodd\" fill-opacity=\"1\" /><path clip-path=\"url(#clip630)\" d=\"M2331.53 1481.64 L2347.85 1481.64 L2347.85 1485.58 L2325.9 1485.58 L2325.9 1481.64 Q2328.57 1478.89 2333.15 1474.26 Q2337.76 1469.61 2338.94 1468.27 Q2341.18 1465.74 2342.06 1464.01 Q2342.96 1462.25 2342.96 1460.56 Q2342.96 1457.8 2341.02 1456.07 Q2339.1 1454.33 2336 1454.33 Q2333.8 1454.33 2331.34 1455.09 Q2328.91 1455.86 2326.14 1457.41 L2326.14 1452.69 Q2328.96 1451.55 2331.41 1450.97 Q2333.87 1450.39 2335.9 1450.39 Q2341.27 1450.39 2344.47 1453.08 Q2347.66 1455.77 2347.66 1460.26 Q2347.66 1462.39 2346.85 1464.31 Q2346.07 1466.2 2343.96 1468.8 Q2343.38 1469.47 2340.28 1472.69 Q2337.18 1475.88 2331.53 1481.64 Z\" fill=\"#000000\" fill-rule=\"evenodd\" fill-opacity=\"1\" /><path clip-path=\"url(#clip630)\" d=\"M2367.66 1454.1 Q2364.05 1454.1 2362.22 1457.66 Q2360.42 1461.2 2360.42 1468.33 Q2360.42 1475.44 2362.22 1479.01 Q2364.05 1482.55 2367.66 1482.55 Q2371.3 1482.55 2373.1 1479.01 Q2374.93 1475.44 2374.93 1468.33 Q2374.93 1461.2 2373.1 1457.66 Q2371.3 1454.1 2367.66 1454.1 M2367.66 1450.39 Q2373.47 1450.39 2376.53 1455 Q2379.61 1459.58 2379.61 1468.33 Q2379.61 1477.06 2376.53 1481.67 Q2373.47 1486.25 2367.66 1486.25 Q2361.85 1486.25 2358.77 1481.67 Q2355.72 1477.06 2355.72 1468.33 Q2355.72 1459.58 2358.77 1455 Q2361.85 1450.39 2367.66 1450.39 Z\" fill=\"#000000\" fill-rule=\"evenodd\" fill-opacity=\"1\" /><path clip-path=\"url(#clip630)\" d=\"M1287.73 1522.27 L1287.73 1532.4 L1299.79 1532.4 L1299.79 1536.95 L1287.73 1536.95 L1287.73 1556.3 Q1287.73 1560.66 1288.91 1561.9 Q1290.12 1563.14 1293.78 1563.14 L1299.79 1563.14 L1299.79 1568.04 L1293.78 1568.04 Q1287 1568.04 1284.42 1565.53 Q1281.84 1562.98 1281.84 1556.3 L1281.84 1536.95 L1277.55 1536.95 L1277.55 1532.4 L1281.84 1532.4 L1281.84 1522.27 L1287.73 1522.27 Z\" fill=\"#000000\" fill-rule=\"evenodd\" fill-opacity=\"1\" /><polyline clip-path=\"url(#clip632)\" style=\"stroke:#000000; stroke-linecap:butt; stroke-linejoin:round; stroke-width:2; stroke-opacity:0.1; fill:none\" points=\"\n",
       "  224.584,1170.42 2352.76,1170.42 \n",
       "  \"/>\n",
       "<polyline clip-path=\"url(#clip632)\" style=\"stroke:#000000; stroke-linecap:butt; stroke-linejoin:round; stroke-width:2; stroke-opacity:0.1; fill:none\" points=\"\n",
       "  224.584,809.011 2352.76,809.011 \n",
       "  \"/>\n",
       "<polyline clip-path=\"url(#clip632)\" style=\"stroke:#000000; stroke-linecap:butt; stroke-linejoin:round; stroke-width:2; stroke-opacity:0.1; fill:none\" points=\"\n",
       "  224.584,447.598 2352.76,447.598 \n",
       "  \"/>\n",
       "<polyline clip-path=\"url(#clip632)\" style=\"stroke:#000000; stroke-linecap:butt; stroke-linejoin:round; stroke-width:2; stroke-opacity:0.1; fill:none\" points=\"\n",
       "  224.584,86.1857 2352.76,86.1857 \n",
       "  \"/>\n",
       "<polyline clip-path=\"url(#clip630)\" style=\"stroke:#000000; stroke-linecap:butt; stroke-linejoin:round; stroke-width:4; stroke-opacity:1; fill:none\" points=\"\n",
       "  224.584,1423.18 224.584,47.2441 \n",
       "  \"/>\n",
       "<polyline clip-path=\"url(#clip630)\" style=\"stroke:#000000; stroke-linecap:butt; stroke-linejoin:round; stroke-width:4; stroke-opacity:1; fill:none\" points=\"\n",
       "  224.584,1170.42 243.482,1170.42 \n",
       "  \"/>\n",
       "<polyline clip-path=\"url(#clip630)\" style=\"stroke:#000000; stroke-linecap:butt; stroke-linejoin:round; stroke-width:4; stroke-opacity:1; fill:none\" points=\"\n",
       "  224.584,809.011 243.482,809.011 \n",
       "  \"/>\n",
       "<polyline clip-path=\"url(#clip630)\" style=\"stroke:#000000; stroke-linecap:butt; stroke-linejoin:round; stroke-width:4; stroke-opacity:1; fill:none\" points=\"\n",
       "  224.584,447.598 243.482,447.598 \n",
       "  \"/>\n",
       "<polyline clip-path=\"url(#clip630)\" style=\"stroke:#000000; stroke-linecap:butt; stroke-linejoin:round; stroke-width:4; stroke-opacity:1; fill:none\" points=\"\n",
       "  224.584,86.1857 243.482,86.1857 \n",
       "  \"/>\n",
       "<path clip-path=\"url(#clip630)\" d=\"M51.3162 1170.87 L80.992 1170.87 L80.992 1174.81 L51.3162 1174.81 L51.3162 1170.87 Z\" fill=\"#000000\" fill-rule=\"evenodd\" fill-opacity=\"1\" /><path clip-path=\"url(#clip630)\" d=\"M101.084 1156.22 Q97.4734 1156.22 95.6447 1159.79 Q93.8391 1163.33 93.8391 1170.46 Q93.8391 1177.56 95.6447 1181.13 Q97.4734 1184.67 101.084 1184.67 Q104.719 1184.67 106.524 1181.13 Q108.353 1177.56 108.353 1170.46 Q108.353 1163.33 106.524 1159.79 Q104.719 1156.22 101.084 1156.22 M101.084 1152.52 Q106.895 1152.52 109.95 1157.12 Q113.029 1161.71 113.029 1170.46 Q113.029 1179.18 109.95 1183.79 Q106.895 1188.37 101.084 1188.37 Q95.2743 1188.37 92.1956 1183.79 Q89.1401 1179.18 89.1401 1170.46 Q89.1401 1161.71 92.1956 1157.12 Q95.2743 1152.52 101.084 1152.52 Z\" fill=\"#000000\" fill-rule=\"evenodd\" fill-opacity=\"1\" /><path clip-path=\"url(#clip630)\" d=\"M121.246 1181.82 L126.131 1181.82 L126.131 1187.7 L121.246 1187.7 L121.246 1181.82 Z\" fill=\"#000000\" fill-rule=\"evenodd\" fill-opacity=\"1\" /><path clip-path=\"url(#clip630)\" d=\"M146.316 1156.22 Q142.705 1156.22 140.876 1159.79 Q139.07 1163.33 139.07 1170.46 Q139.07 1177.56 140.876 1181.13 Q142.705 1184.67 146.316 1184.67 Q149.95 1184.67 151.755 1181.13 Q153.584 1177.56 153.584 1170.46 Q153.584 1163.33 151.755 1159.79 Q149.95 1156.22 146.316 1156.22 M146.316 1152.52 Q152.126 1152.52 155.181 1157.12 Q158.26 1161.71 158.26 1170.46 Q158.26 1179.18 155.181 1183.79 Q152.126 1188.37 146.316 1188.37 Q140.506 1188.37 137.427 1183.79 Q134.371 1179.18 134.371 1170.46 Q134.371 1161.71 137.427 1157.12 Q140.506 1152.52 146.316 1152.52 Z\" fill=\"#000000\" fill-rule=\"evenodd\" fill-opacity=\"1\" /><path clip-path=\"url(#clip630)\" d=\"M177.056 1168.56 Q173.908 1168.56 172.056 1170.71 Q170.228 1172.87 170.228 1176.62 Q170.228 1180.34 172.056 1182.52 Q173.908 1184.67 177.056 1184.67 Q180.204 1184.67 182.033 1182.52 Q183.885 1180.34 183.885 1176.62 Q183.885 1172.87 182.033 1170.71 Q180.204 1168.56 177.056 1168.56 M186.339 1153.91 L186.339 1158.17 Q184.579 1157.33 182.774 1156.89 Q180.991 1156.45 179.232 1156.45 Q174.603 1156.45 172.149 1159.58 Q169.718 1162.7 169.371 1169.02 Q170.737 1167.01 172.797 1165.94 Q174.857 1164.86 177.334 1164.86 Q182.542 1164.86 185.552 1168.03 Q188.584 1171.18 188.584 1176.62 Q188.584 1181.94 185.436 1185.16 Q182.288 1188.37 177.056 1188.37 Q171.061 1188.37 167.89 1183.79 Q164.718 1179.18 164.718 1170.46 Q164.718 1162.26 168.607 1157.4 Q172.496 1152.52 179.047 1152.52 Q180.806 1152.52 182.589 1152.87 Q184.394 1153.21 186.339 1153.91 Z\" fill=\"#000000\" fill-rule=\"evenodd\" fill-opacity=\"1\" /><path clip-path=\"url(#clip630)\" d=\"M50.9921 809.462 L80.6679 809.462 L80.6679 813.397 L50.9921 813.397 L50.9921 809.462 Z\" fill=\"#000000\" fill-rule=\"evenodd\" fill-opacity=\"1\" /><path clip-path=\"url(#clip630)\" d=\"M100.76 794.809 Q97.1493 794.809 95.3206 798.374 Q93.515 801.916 93.515 809.045 Q93.515 816.152 95.3206 819.717 Q97.1493 823.258 100.76 823.258 Q104.395 823.258 106.2 819.717 Q108.029 816.152 108.029 809.045 Q108.029 801.916 106.2 798.374 Q104.395 794.809 100.76 794.809 M100.76 791.106 Q106.571 791.106 109.626 795.712 Q112.705 800.295 112.705 809.045 Q112.705 817.772 109.626 822.379 Q106.571 826.962 100.76 826.962 Q94.9502 826.962 91.8715 822.379 Q88.816 817.772 88.816 809.045 Q88.816 800.295 91.8715 795.712 Q94.9502 791.106 100.76 791.106 Z\" fill=\"#000000\" fill-rule=\"evenodd\" fill-opacity=\"1\" /><path clip-path=\"url(#clip630)\" d=\"M120.922 820.411 L125.807 820.411 L125.807 826.291 L120.922 826.291 L120.922 820.411 Z\" fill=\"#000000\" fill-rule=\"evenodd\" fill-opacity=\"1\" /><path clip-path=\"url(#clip630)\" d=\"M145.992 794.809 Q142.381 794.809 140.552 798.374 Q138.746 801.916 138.746 809.045 Q138.746 816.152 140.552 819.717 Q142.381 823.258 145.992 823.258 Q149.626 823.258 151.431 819.717 Q153.26 816.152 153.26 809.045 Q153.26 801.916 151.431 798.374 Q149.626 794.809 145.992 794.809 M145.992 791.106 Q151.802 791.106 154.857 795.712 Q157.936 800.295 157.936 809.045 Q157.936 817.772 154.857 822.379 Q151.802 826.962 145.992 826.962 Q140.181 826.962 137.103 822.379 Q134.047 817.772 134.047 809.045 Q134.047 800.295 137.103 795.712 Q140.181 791.106 145.992 791.106 Z\" fill=\"#000000\" fill-rule=\"evenodd\" fill-opacity=\"1\" /><path clip-path=\"url(#clip630)\" d=\"M179.001 795.805 L167.195 814.254 L179.001 814.254 L179.001 795.805 M177.774 791.731 L183.653 791.731 L183.653 814.254 L188.584 814.254 L188.584 818.143 L183.653 818.143 L183.653 826.291 L179.001 826.291 L179.001 818.143 L163.399 818.143 L163.399 813.629 L177.774 791.731 Z\" fill=\"#000000\" fill-rule=\"evenodd\" fill-opacity=\"1\" /><path clip-path=\"url(#clip630)\" d=\"M53.0754 448.05 L82.7512 448.05 L82.7512 451.985 L53.0754 451.985 L53.0754 448.05 Z\" fill=\"#000000\" fill-rule=\"evenodd\" fill-opacity=\"1\" /><path clip-path=\"url(#clip630)\" d=\"M102.844 433.397 Q99.2326 433.397 97.4039 436.962 Q95.5984 440.503 95.5984 447.633 Q95.5984 454.739 97.4039 458.304 Q99.2326 461.846 102.844 461.846 Q106.478 461.846 108.283 458.304 Q110.112 454.739 110.112 447.633 Q110.112 440.503 108.283 436.962 Q106.478 433.397 102.844 433.397 M102.844 429.693 Q108.654 429.693 111.709 434.3 Q114.788 438.883 114.788 447.633 Q114.788 456.36 111.709 460.966 Q108.654 465.549 102.844 465.549 Q97.0335 465.549 93.9549 460.966 Q90.8993 456.36 90.8993 447.633 Q90.8993 438.883 93.9549 434.3 Q97.0335 429.693 102.844 429.693 Z\" fill=\"#000000\" fill-rule=\"evenodd\" fill-opacity=\"1\" /><path clip-path=\"url(#clip630)\" d=\"M123.006 458.999 L127.89 458.999 L127.89 464.878 L123.006 464.878 L123.006 458.999 Z\" fill=\"#000000\" fill-rule=\"evenodd\" fill-opacity=\"1\" /><path clip-path=\"url(#clip630)\" d=\"M148.075 433.397 Q144.464 433.397 142.635 436.962 Q140.83 440.503 140.83 447.633 Q140.83 454.739 142.635 458.304 Q144.464 461.846 148.075 461.846 Q151.709 461.846 153.515 458.304 Q155.343 454.739 155.343 447.633 Q155.343 440.503 153.515 436.962 Q151.709 433.397 148.075 433.397 M148.075 429.693 Q153.885 429.693 156.941 434.3 Q160.019 438.883 160.019 447.633 Q160.019 456.36 156.941 460.966 Q153.885 465.549 148.075 465.549 Q142.265 465.549 139.186 460.966 Q136.131 456.36 136.131 447.633 Q136.131 438.883 139.186 434.3 Q142.265 429.693 148.075 429.693 Z\" fill=\"#000000\" fill-rule=\"evenodd\" fill-opacity=\"1\" /><path clip-path=\"url(#clip630)\" d=\"M172.265 460.943 L188.584 460.943 L188.584 464.878 L166.64 464.878 L166.64 460.943 Q169.302 458.188 173.885 453.559 Q178.491 448.906 179.672 447.563 Q181.917 445.04 182.797 443.304 Q183.7 441.545 183.7 439.855 Q183.7 437.101 181.755 435.364 Q179.834 433.628 176.732 433.628 Q174.533 433.628 172.079 434.392 Q169.649 435.156 166.871 436.707 L166.871 431.985 Q169.695 430.851 172.149 430.272 Q174.603 429.693 176.64 429.693 Q182.01 429.693 185.204 432.378 Q188.399 435.064 188.399 439.554 Q188.399 441.684 187.589 443.605 Q186.802 445.503 184.695 448.096 Q184.116 448.767 181.015 451.985 Q177.913 455.179 172.265 460.943 Z\" fill=\"#000000\" fill-rule=\"evenodd\" fill-opacity=\"1\" /><path clip-path=\"url(#clip630)\" d=\"M101.246 71.9844 Q97.6354 71.9844 95.8067 75.5492 Q94.0012 79.0908 94.0012 86.2204 Q94.0012 93.3268 95.8067 96.8916 Q97.6354 100.433 101.246 100.433 Q104.881 100.433 106.686 96.8916 Q108.515 93.3268 108.515 86.2204 Q108.515 79.0908 106.686 75.5492 Q104.881 71.9844 101.246 71.9844 M101.246 68.2807 Q107.057 68.2807 110.112 72.8871 Q113.191 77.4704 113.191 86.2204 Q113.191 94.9472 110.112 99.5537 Q107.057 104.137 101.246 104.137 Q95.4363 104.137 92.3576 99.5537 Q89.3021 94.9472 89.3021 86.2204 Q89.3021 77.4704 92.3576 72.8871 Q95.4363 68.2807 101.246 68.2807 Z\" fill=\"#000000\" fill-rule=\"evenodd\" fill-opacity=\"1\" /><path clip-path=\"url(#clip630)\" d=\"M121.408 97.5861 L126.293 97.5861 L126.293 103.466 L121.408 103.466 L121.408 97.5861 Z\" fill=\"#000000\" fill-rule=\"evenodd\" fill-opacity=\"1\" /><path clip-path=\"url(#clip630)\" d=\"M146.478 71.9844 Q142.867 71.9844 141.038 75.5492 Q139.232 79.0908 139.232 86.2204 Q139.232 93.3268 141.038 96.8916 Q142.867 100.433 146.478 100.433 Q150.112 100.433 151.918 96.8916 Q153.746 93.3268 153.746 86.2204 Q153.746 79.0908 151.918 75.5492 Q150.112 71.9844 146.478 71.9844 M146.478 68.2807 Q152.288 68.2807 155.343 72.8871 Q158.422 77.4704 158.422 86.2204 Q158.422 94.9472 155.343 99.5537 Q152.288 104.137 146.478 104.137 Q140.668 104.137 137.589 99.5537 Q134.533 94.9472 134.533 86.2204 Q134.533 77.4704 137.589 72.8871 Q140.668 68.2807 146.478 68.2807 Z\" fill=\"#000000\" fill-rule=\"evenodd\" fill-opacity=\"1\" /><path clip-path=\"url(#clip630)\" d=\"M176.64 71.9844 Q173.029 71.9844 171.2 75.5492 Q169.394 79.0908 169.394 86.2204 Q169.394 93.3268 171.2 96.8916 Q173.029 100.433 176.64 100.433 Q180.274 100.433 182.079 96.8916 Q183.908 93.3268 183.908 86.2204 Q183.908 79.0908 182.079 75.5492 Q180.274 71.9844 176.64 71.9844 M176.64 68.2807 Q182.45 68.2807 185.505 72.8871 Q188.584 77.4704 188.584 86.2204 Q188.584 94.9472 185.505 99.5537 Q182.45 104.137 176.64 104.137 Q170.829 104.137 167.751 99.5537 Q164.695 94.9472 164.695 86.2204 Q164.695 77.4704 167.751 72.8871 Q170.829 68.2807 176.64 68.2807 Z\" fill=\"#000000\" fill-rule=\"evenodd\" fill-opacity=\"1\" /><polyline clip-path=\"url(#clip632)\" style=\"stroke:#009af9; stroke-linecap:butt; stroke-linejoin:round; stroke-width:4; stroke-opacity:1; fill:none\" points=\"\n",
       "  224.584,86.1857 330.993,86.1857 437.401,1208.26 543.81,1384.24 650.218,1373.09 756.627,1326.52 863.036,1274.77 969.444,1223.83 1075.85,1174.79 1182.26,1127.82 \n",
       "  1288.67,1082.86 1395.08,1039.84 1501.49,998.675 1607.9,959.288 1714.3,921.6 1820.71,885.54 1927.12,851.036 2033.53,818.021 2139.94,786.432 2246.35,756.206 \n",
       "  2352.76,727.284 \n",
       "  \"/>\n",
       "<polyline clip-path=\"url(#clip632)\" style=\"stroke:#e26f46; stroke-linecap:butt; stroke-linejoin:round; stroke-width:4; stroke-opacity:1; fill:none\" points=\"\n",
       "  224.584,86.1857 330.993,266.892 437.401,122.327 543.81,93.4139 650.218,87.6313 756.627,86.4748 863.036,86.2435 969.444,86.1972 1075.85,86.188 1182.26,86.1861 \n",
       "  1288.67,86.1858 1395.08,86.1857 1501.49,86.1857 1607.9,86.1857 1714.3,86.1857 1820.71,86.1857 1927.12,86.1857 2033.53,86.1857 2139.94,86.1857 2246.35,86.1857 \n",
       "  2352.76,86.1857 \n",
       "  \"/>\n",
       "<path clip-path=\"url(#clip630)\" d=\"\n",
       "M2022.34 248.629 L2281.82 248.629 L2281.82 93.1086 L2022.34 93.1086  Z\n",
       "  \" fill=\"#ffffff\" fill-rule=\"evenodd\" fill-opacity=\"1\"/>\n",
       "<polyline clip-path=\"url(#clip630)\" style=\"stroke:#000000; stroke-linecap:butt; stroke-linejoin:round; stroke-width:4; stroke-opacity:1; fill:none\" points=\"\n",
       "  2022.34,248.629 2281.82,248.629 2281.82,93.1086 2022.34,93.1086 2022.34,248.629 \n",
       "  \"/>\n",
       "<polyline clip-path=\"url(#clip630)\" style=\"stroke:#009af9; stroke-linecap:butt; stroke-linejoin:round; stroke-width:4; stroke-opacity:1; fill:none\" points=\"\n",
       "  2045.99,144.949 2187.87,144.949 \n",
       "  \"/>\n",
       "<path clip-path=\"url(#clip630)\" d=\"M2211.51 126.21 L2215.8 126.21 L2215.8 147.483 L2228.51 136.303 L2233.95 136.303 L2220.2 148.432 L2234.52 162.229 L2228.97 162.229 L2215.8 149.567 L2215.8 162.229 L2211.51 162.229 L2211.51 126.21 Z\" fill=\"#000000\" fill-rule=\"evenodd\" fill-opacity=\"1\" /><polyline clip-path=\"url(#clip630)\" style=\"stroke:#e26f46; stroke-linecap:butt; stroke-linejoin:round; stroke-width:4; stroke-opacity:1; fill:none\" points=\"\n",
       "  2045.99,196.789 2187.87,196.789 \n",
       "  \"/>\n",
       "<path clip-path=\"url(#clip630)\" d=\"M2212.09 188.143 L2232.33 188.143 L2232.33 192.032 L2216.31 210.666 L2232.33 210.666 L2232.33 214.069 L2211.51 214.069 L2211.51 210.18 L2227.53 191.546 L2212.09 191.546 L2212.09 188.143 Z\" fill=\"#000000\" fill-rule=\"evenodd\" fill-opacity=\"1\" /></svg>\n"
      ]
     },
     "execution_count": 21,
     "metadata": {},
     "output_type": "execute_result"
    }
   ],
   "source": [
    "noise = Matrix([1.0; zeros(T-1)]') # the ϵ shocks are \"noise\" in DifferenceEquations for SciML compatibility\n",
    "x_iv = [0.0, 0.0]  # can pass in a single value rather than a distribution \n",
    "problem = LinearStateSpaceProblem(sol, x_iv, (0, T); noise)\n",
    "plot(solve(problem))"
   ]
  },
  {
   "cell_type": "markdown",
   "metadata": {},
   "source": [
    "To demonstrate the composition of gradients between DifferenceEquations and DifferentiableStateSpaceModels lets adapt this function to simulates an impulse with fixed noise and looks at the final observable"
   ]
  },
  {
   "cell_type": "code",
   "execution_count": 22,
   "metadata": {},
   "outputs": [
    {
     "data": {
      "text/plain": [
       "-0.001039731618424578"
      ]
     },
     "execution_count": 22,
     "metadata": {},
     "output_type": "execute_result"
    }
   ],
   "source": [
    "function last_observable(p_d, noise, x_iv; m, p_f, T)\n",
    "    sol = generate_perturbation(m, p_d, p_f)\n",
    "    problem = LinearStateSpaceProblem(sol, x_iv, (0, T);noise, observables_noise = nothing)  # removing observation noise\n",
    "    return solve(problem).z[end][2]  # return 2nd argument of last observable\n",
    "end\n",
    "T = 100\n",
    "noise = Matrix([1.0; zeros(T-1)]') # the ϵ shocks are \"noise\" in DifferenceEquations for SciML compatibility\n",
    "x_iv = [0.0, 0.0]  # can pass in a single value rather than a distribution\n",
    "p_f = (ρ = 0.2, δ = 0.02, σ = 0.01, Ω_1 = 0.01) # Fixed parameters\n",
    "p_d = (α = 0.5, β = 0.95) # Pseudo-true values\n",
    "m = model_rbc  # ensure notebook executed above\n",
    "last_observable(p_d, noise, x_iv; m, p_f, T)"
   ]
  },
  {
   "cell_type": "markdown",
   "metadata": {},
   "source": [
    "And, as before, we can calculate gradients with respect to the underlying `p_d` parameters, but also with respect to the noise which will demonstrate a key benefit of these methods, as they can let us do a joint likelihood of the latent variables in cases where they cannot be easily marginalized out (e.g., non-gaussian or nonlinear).  Note that the dimensionality of this gradient is over 100."
   ]
  },
  {
   "cell_type": "code",
   "execution_count": 23,
   "metadata": {},
   "outputs": [
    {
     "data": {
      "text/plain": [
       "((α = -0.023502088600449104, β = -0.08002797800781035), [-0.0010397316184245782 -0.001086636104029691 … -0.06209371005755886 0.0], [0.012125846203919346, 0.0994851757955444])"
      ]
     },
     "execution_count": 23,
     "metadata": {},
     "output_type": "execute_result"
    }
   ],
   "source": [
    "gradient((p_d, noise, x_iv) -> last_observable(p_d, noise, x_iv; m, p_f, T), p_d, noise, x_iv)"
   ]
  },
  {
   "cell_type": "markdown",
   "metadata": {},
   "source": [
    "Finally, we can use a simple utility functions to investigate an IRF."
   ]
  },
  {
   "cell_type": "code",
   "execution_count": 38,
   "metadata": {},
   "outputs": [
    {
     "data": {
      "image/svg+xml": [
       "<?xml version=\"1.0\" encoding=\"utf-8\"?>\n",
       "<svg xmlns=\"http://www.w3.org/2000/svg\" xmlns:xlink=\"http://www.w3.org/1999/xlink\" width=\"600\" height=\"400\" viewBox=\"0 0 2400 1600\">\n",
       "<defs>\n",
       "  <clipPath id=\"clip790\">\n",
       "    <rect x=\"0\" y=\"0\" width=\"2400\" height=\"1600\"/>\n",
       "  </clipPath>\n",
       "</defs>\n",
       "<path clip-path=\"url(#clip790)\" d=\"\n",
       "M0 1600 L2400 1600 L2400 0 L0 0  Z\n",
       "  \" fill=\"#ffffff\" fill-rule=\"evenodd\" fill-opacity=\"1\"/>\n",
       "<defs>\n",
       "  <clipPath id=\"clip791\">\n",
       "    <rect x=\"480\" y=\"0\" width=\"1681\" height=\"1600\"/>\n",
       "  </clipPath>\n",
       "</defs>\n",
       "<path clip-path=\"url(#clip790)\" d=\"\n",
       "M224.584 1423.18 L2352.76 1423.18 L2352.76 47.2441 L224.584 47.2441  Z\n",
       "  \" fill=\"#ffffff\" fill-rule=\"evenodd\" fill-opacity=\"1\"/>\n",
       "<defs>\n",
       "  <clipPath id=\"clip792\">\n",
       "    <rect x=\"224\" y=\"47\" width=\"2129\" height=\"1377\"/>\n",
       "  </clipPath>\n",
       "</defs>\n",
       "<polyline clip-path=\"url(#clip792)\" style=\"stroke:#000000; stroke-linecap:butt; stroke-linejoin:round; stroke-width:2; stroke-opacity:0.1; fill:none\" points=\"\n",
       "  224.584,1423.18 224.584,47.2441 \n",
       "  \"/>\n",
       "<polyline clip-path=\"url(#clip792)\" style=\"stroke:#000000; stroke-linecap:butt; stroke-linejoin:round; stroke-width:2; stroke-opacity:0.1; fill:none\" points=\"\n",
       "  650.218,1423.18 650.218,47.2441 \n",
       "  \"/>\n",
       "<polyline clip-path=\"url(#clip792)\" style=\"stroke:#000000; stroke-linecap:butt; stroke-linejoin:round; stroke-width:2; stroke-opacity:0.1; fill:none\" points=\"\n",
       "  1075.85,1423.18 1075.85,47.2441 \n",
       "  \"/>\n",
       "<polyline clip-path=\"url(#clip792)\" style=\"stroke:#000000; stroke-linecap:butt; stroke-linejoin:round; stroke-width:2; stroke-opacity:0.1; fill:none\" points=\"\n",
       "  1501.49,1423.18 1501.49,47.2441 \n",
       "  \"/>\n",
       "<polyline clip-path=\"url(#clip792)\" style=\"stroke:#000000; stroke-linecap:butt; stroke-linejoin:round; stroke-width:2; stroke-opacity:0.1; fill:none\" points=\"\n",
       "  1927.12,1423.18 1927.12,47.2441 \n",
       "  \"/>\n",
       "<polyline clip-path=\"url(#clip792)\" style=\"stroke:#000000; stroke-linecap:butt; stroke-linejoin:round; stroke-width:2; stroke-opacity:0.1; fill:none\" points=\"\n",
       "  2352.76,1423.18 2352.76,47.2441 \n",
       "  \"/>\n",
       "<polyline clip-path=\"url(#clip790)\" style=\"stroke:#000000; stroke-linecap:butt; stroke-linejoin:round; stroke-width:4; stroke-opacity:1; fill:none\" points=\"\n",
       "  224.584,1423.18 2352.76,1423.18 \n",
       "  \"/>\n",
       "<polyline clip-path=\"url(#clip790)\" style=\"stroke:#000000; stroke-linecap:butt; stroke-linejoin:round; stroke-width:4; stroke-opacity:1; fill:none\" points=\"\n",
       "  224.584,1423.18 224.584,1404.28 \n",
       "  \"/>\n",
       "<polyline clip-path=\"url(#clip790)\" style=\"stroke:#000000; stroke-linecap:butt; stroke-linejoin:round; stroke-width:4; stroke-opacity:1; fill:none\" points=\"\n",
       "  650.218,1423.18 650.218,1404.28 \n",
       "  \"/>\n",
       "<polyline clip-path=\"url(#clip790)\" style=\"stroke:#000000; stroke-linecap:butt; stroke-linejoin:round; stroke-width:4; stroke-opacity:1; fill:none\" points=\"\n",
       "  1075.85,1423.18 1075.85,1404.28 \n",
       "  \"/>\n",
       "<polyline clip-path=\"url(#clip790)\" style=\"stroke:#000000; stroke-linecap:butt; stroke-linejoin:round; stroke-width:4; stroke-opacity:1; fill:none\" points=\"\n",
       "  1501.49,1423.18 1501.49,1404.28 \n",
       "  \"/>\n",
       "<polyline clip-path=\"url(#clip790)\" style=\"stroke:#000000; stroke-linecap:butt; stroke-linejoin:round; stroke-width:4; stroke-opacity:1; fill:none\" points=\"\n",
       "  1927.12,1423.18 1927.12,1404.28 \n",
       "  \"/>\n",
       "<polyline clip-path=\"url(#clip790)\" style=\"stroke:#000000; stroke-linecap:butt; stroke-linejoin:round; stroke-width:4; stroke-opacity:1; fill:none\" points=\"\n",
       "  2352.76,1423.18 2352.76,1404.28 \n",
       "  \"/>\n",
       "<path clip-path=\"url(#clip790)\" d=\"M224.584 1454.1 Q220.973 1454.1 219.144 1457.66 Q217.339 1461.2 217.339 1468.33 Q217.339 1475.44 219.144 1479.01 Q220.973 1482.55 224.584 1482.55 Q228.218 1482.55 230.024 1479.01 Q231.852 1475.44 231.852 1468.33 Q231.852 1461.2 230.024 1457.66 Q228.218 1454.1 224.584 1454.1 M224.584 1450.39 Q230.394 1450.39 233.45 1455 Q236.528 1459.58 236.528 1468.33 Q236.528 1477.06 233.45 1481.67 Q230.394 1486.25 224.584 1486.25 Q218.774 1486.25 215.695 1481.67 Q212.64 1477.06 212.64 1468.33 Q212.64 1459.58 215.695 1455 Q218.774 1450.39 224.584 1450.39 Z\" fill=\"#000000\" fill-rule=\"evenodd\" fill-opacity=\"1\" /><path clip-path=\"url(#clip790)\" d=\"M644.871 1481.64 L661.191 1481.64 L661.191 1485.58 L639.246 1485.58 L639.246 1481.64 Q641.908 1478.89 646.492 1474.26 Q651.098 1469.61 652.279 1468.27 Q654.524 1465.74 655.404 1464.01 Q656.306 1462.25 656.306 1460.56 Q656.306 1457.8 654.362 1456.07 Q652.441 1454.33 649.339 1454.33 Q647.14 1454.33 644.686 1455.09 Q642.255 1455.86 639.478 1457.41 L639.478 1452.69 Q642.302 1451.55 644.755 1450.97 Q647.209 1450.39 649.246 1450.39 Q654.616 1450.39 657.811 1453.08 Q661.005 1455.77 661.005 1460.26 Q661.005 1462.39 660.195 1464.31 Q659.408 1466.2 657.302 1468.8 Q656.723 1469.47 653.621 1472.69 Q650.519 1475.88 644.871 1481.64 Z\" fill=\"#000000\" fill-rule=\"evenodd\" fill-opacity=\"1\" /><path clip-path=\"url(#clip790)\" d=\"M1078.86 1455.09 L1067.06 1473.54 L1078.86 1473.54 L1078.86 1455.09 M1077.64 1451.02 L1083.51 1451.02 L1083.51 1473.54 L1088.45 1473.54 L1088.45 1477.43 L1083.51 1477.43 L1083.51 1485.58 L1078.86 1485.58 L1078.86 1477.43 L1063.26 1477.43 L1063.26 1472.92 L1077.64 1451.02 Z\" fill=\"#000000\" fill-rule=\"evenodd\" fill-opacity=\"1\" /><path clip-path=\"url(#clip790)\" d=\"M1501.89 1466.44 Q1498.74 1466.44 1496.89 1468.59 Q1495.06 1470.74 1495.06 1474.49 Q1495.06 1478.22 1496.89 1480.39 Q1498.74 1482.55 1501.89 1482.55 Q1505.04 1482.55 1506.87 1480.39 Q1508.72 1478.22 1508.72 1474.49 Q1508.72 1470.74 1506.87 1468.59 Q1505.04 1466.44 1501.89 1466.44 M1511.17 1451.78 L1511.17 1456.04 Q1509.42 1455.21 1507.61 1454.77 Q1505.83 1454.33 1504.07 1454.33 Q1499.44 1454.33 1496.98 1457.45 Q1494.55 1460.58 1494.21 1466.9 Q1495.57 1464.89 1497.63 1463.82 Q1499.69 1462.73 1502.17 1462.73 Q1507.38 1462.73 1510.39 1465.9 Q1513.42 1469.05 1513.42 1474.49 Q1513.42 1479.82 1510.27 1483.03 Q1507.12 1486.25 1501.89 1486.25 Q1495.9 1486.25 1492.73 1481.67 Q1489.55 1477.06 1489.55 1468.33 Q1489.55 1460.14 1493.44 1455.28 Q1497.33 1450.39 1503.88 1450.39 Q1505.64 1450.39 1507.42 1450.74 Q1509.23 1451.09 1511.17 1451.78 Z\" fill=\"#000000\" fill-rule=\"evenodd\" fill-opacity=\"1\" /><path clip-path=\"url(#clip790)\" d=\"M1927.12 1469.17 Q1923.79 1469.17 1921.87 1470.95 Q1919.97 1472.73 1919.97 1475.86 Q1919.97 1478.98 1921.87 1480.77 Q1923.79 1482.55 1927.12 1482.55 Q1930.45 1482.55 1932.38 1480.77 Q1934.3 1478.96 1934.3 1475.86 Q1934.3 1472.73 1932.38 1470.95 Q1930.48 1469.17 1927.12 1469.17 M1922.45 1467.18 Q1919.44 1466.44 1917.75 1464.38 Q1916.08 1462.32 1916.08 1459.35 Q1916.08 1455.21 1919.02 1452.8 Q1921.98 1450.39 1927.12 1450.39 Q1932.28 1450.39 1935.22 1452.8 Q1938.16 1455.21 1938.16 1459.35 Q1938.16 1462.32 1936.47 1464.38 Q1934.81 1466.44 1931.82 1467.18 Q1935.2 1467.96 1937.08 1470.26 Q1938.97 1472.55 1938.97 1475.86 Q1938.97 1480.88 1935.89 1483.57 Q1932.84 1486.25 1927.12 1486.25 Q1921.4 1486.25 1918.33 1483.57 Q1915.27 1480.88 1915.27 1475.86 Q1915.27 1472.55 1917.17 1470.26 Q1919.07 1467.96 1922.45 1467.18 M1920.73 1459.79 Q1920.73 1462.48 1922.4 1463.98 Q1924.09 1465.49 1927.12 1465.49 Q1930.13 1465.49 1931.82 1463.98 Q1933.53 1462.48 1933.53 1459.79 Q1933.53 1457.11 1931.82 1455.6 Q1930.13 1454.1 1927.12 1454.1 Q1924.09 1454.1 1922.4 1455.6 Q1920.73 1457.11 1920.73 1459.79 Z\" fill=\"#000000\" fill-rule=\"evenodd\" fill-opacity=\"1\" /><path clip-path=\"url(#clip790)\" d=\"M2327.44 1481.64 L2335.08 1481.64 L2335.08 1455.28 L2326.77 1456.95 L2326.77 1452.69 L2335.04 1451.02 L2339.71 1451.02 L2339.71 1481.64 L2347.35 1481.64 L2347.35 1485.58 L2327.44 1485.58 L2327.44 1481.64 Z\" fill=\"#000000\" fill-rule=\"evenodd\" fill-opacity=\"1\" /><path clip-path=\"url(#clip790)\" d=\"M2366.8 1454.1 Q2363.18 1454.1 2361.36 1457.66 Q2359.55 1461.2 2359.55 1468.33 Q2359.55 1475.44 2361.36 1479.01 Q2363.18 1482.55 2366.8 1482.55 Q2370.43 1482.55 2372.23 1479.01 Q2374.06 1475.44 2374.06 1468.33 Q2374.06 1461.2 2372.23 1457.66 Q2370.43 1454.1 2366.8 1454.1 M2366.8 1450.39 Q2372.61 1450.39 2375.66 1455 Q2378.74 1459.58 2378.74 1468.33 Q2378.74 1477.06 2375.66 1481.67 Q2372.61 1486.25 2366.8 1486.25 Q2360.99 1486.25 2357.91 1481.67 Q2354.85 1477.06 2354.85 1468.33 Q2354.85 1459.58 2357.91 1455 Q2360.99 1450.39 2366.8 1450.39 Z\" fill=\"#000000\" fill-rule=\"evenodd\" fill-opacity=\"1\" /><path clip-path=\"url(#clip790)\" d=\"M1287.73 1522.27 L1287.73 1532.4 L1299.79 1532.4 L1299.79 1536.95 L1287.73 1536.95 L1287.73 1556.3 Q1287.73 1560.66 1288.91 1561.9 Q1290.12 1563.14 1293.78 1563.14 L1299.79 1563.14 L1299.79 1568.04 L1293.78 1568.04 Q1287 1568.04 1284.42 1565.53 Q1281.84 1562.98 1281.84 1556.3 L1281.84 1536.95 L1277.55 1536.95 L1277.55 1532.4 L1281.84 1532.4 L1281.84 1522.27 L1287.73 1522.27 Z\" fill=\"#000000\" fill-rule=\"evenodd\" fill-opacity=\"1\" /><polyline clip-path=\"url(#clip792)\" style=\"stroke:#000000; stroke-linecap:butt; stroke-linejoin:round; stroke-width:2; stroke-opacity:0.1; fill:none\" points=\"\n",
       "  224.584,1170.42 2352.76,1170.42 \n",
       "  \"/>\n",
       "<polyline clip-path=\"url(#clip792)\" style=\"stroke:#000000; stroke-linecap:butt; stroke-linejoin:round; stroke-width:2; stroke-opacity:0.1; fill:none\" points=\"\n",
       "  224.584,809.011 2352.76,809.011 \n",
       "  \"/>\n",
       "<polyline clip-path=\"url(#clip792)\" style=\"stroke:#000000; stroke-linecap:butt; stroke-linejoin:round; stroke-width:2; stroke-opacity:0.1; fill:none\" points=\"\n",
       "  224.584,447.598 2352.76,447.598 \n",
       "  \"/>\n",
       "<polyline clip-path=\"url(#clip792)\" style=\"stroke:#000000; stroke-linecap:butt; stroke-linejoin:round; stroke-width:2; stroke-opacity:0.1; fill:none\" points=\"\n",
       "  224.584,86.1857 2352.76,86.1857 \n",
       "  \"/>\n",
       "<polyline clip-path=\"url(#clip790)\" style=\"stroke:#000000; stroke-linecap:butt; stroke-linejoin:round; stroke-width:4; stroke-opacity:1; fill:none\" points=\"\n",
       "  224.584,1423.18 224.584,47.2441 \n",
       "  \"/>\n",
       "<polyline clip-path=\"url(#clip790)\" style=\"stroke:#000000; stroke-linecap:butt; stroke-linejoin:round; stroke-width:4; stroke-opacity:1; fill:none\" points=\"\n",
       "  224.584,1170.42 243.482,1170.42 \n",
       "  \"/>\n",
       "<polyline clip-path=\"url(#clip790)\" style=\"stroke:#000000; stroke-linecap:butt; stroke-linejoin:round; stroke-width:4; stroke-opacity:1; fill:none\" points=\"\n",
       "  224.584,809.011 243.482,809.011 \n",
       "  \"/>\n",
       "<polyline clip-path=\"url(#clip790)\" style=\"stroke:#000000; stroke-linecap:butt; stroke-linejoin:round; stroke-width:4; stroke-opacity:1; fill:none\" points=\"\n",
       "  224.584,447.598 243.482,447.598 \n",
       "  \"/>\n",
       "<polyline clip-path=\"url(#clip790)\" style=\"stroke:#000000; stroke-linecap:butt; stroke-linejoin:round; stroke-width:4; stroke-opacity:1; fill:none\" points=\"\n",
       "  224.584,86.1857 243.482,86.1857 \n",
       "  \"/>\n",
       "<path clip-path=\"url(#clip790)\" d=\"M51.3162 1170.87 L80.992 1170.87 L80.992 1174.81 L51.3162 1174.81 L51.3162 1170.87 Z\" fill=\"#000000\" fill-rule=\"evenodd\" fill-opacity=\"1\" /><path clip-path=\"url(#clip790)\" d=\"M101.084 1156.22 Q97.4734 1156.22 95.6447 1159.79 Q93.8391 1163.33 93.8391 1170.46 Q93.8391 1177.56 95.6447 1181.13 Q97.4734 1184.67 101.084 1184.67 Q104.719 1184.67 106.524 1181.13 Q108.353 1177.56 108.353 1170.46 Q108.353 1163.33 106.524 1159.79 Q104.719 1156.22 101.084 1156.22 M101.084 1152.52 Q106.895 1152.52 109.95 1157.12 Q113.029 1161.71 113.029 1170.46 Q113.029 1179.18 109.95 1183.79 Q106.895 1188.37 101.084 1188.37 Q95.2743 1188.37 92.1956 1183.79 Q89.1401 1179.18 89.1401 1170.46 Q89.1401 1161.71 92.1956 1157.12 Q95.2743 1152.52 101.084 1152.52 Z\" fill=\"#000000\" fill-rule=\"evenodd\" fill-opacity=\"1\" /><path clip-path=\"url(#clip790)\" d=\"M121.246 1181.82 L126.131 1181.82 L126.131 1187.7 L121.246 1187.7 L121.246 1181.82 Z\" fill=\"#000000\" fill-rule=\"evenodd\" fill-opacity=\"1\" /><path clip-path=\"url(#clip790)\" d=\"M146.316 1156.22 Q142.705 1156.22 140.876 1159.79 Q139.07 1163.33 139.07 1170.46 Q139.07 1177.56 140.876 1181.13 Q142.705 1184.67 146.316 1184.67 Q149.95 1184.67 151.755 1181.13 Q153.584 1177.56 153.584 1170.46 Q153.584 1163.33 151.755 1159.79 Q149.95 1156.22 146.316 1156.22 M146.316 1152.52 Q152.126 1152.52 155.181 1157.12 Q158.26 1161.71 158.26 1170.46 Q158.26 1179.18 155.181 1183.79 Q152.126 1188.37 146.316 1188.37 Q140.506 1188.37 137.427 1183.79 Q134.371 1179.18 134.371 1170.46 Q134.371 1161.71 137.427 1157.12 Q140.506 1152.52 146.316 1152.52 Z\" fill=\"#000000\" fill-rule=\"evenodd\" fill-opacity=\"1\" /><path clip-path=\"url(#clip790)\" d=\"M177.056 1168.56 Q173.908 1168.56 172.056 1170.71 Q170.228 1172.87 170.228 1176.62 Q170.228 1180.34 172.056 1182.52 Q173.908 1184.67 177.056 1184.67 Q180.204 1184.67 182.033 1182.52 Q183.885 1180.34 183.885 1176.62 Q183.885 1172.87 182.033 1170.71 Q180.204 1168.56 177.056 1168.56 M186.339 1153.91 L186.339 1158.17 Q184.579 1157.33 182.774 1156.89 Q180.991 1156.45 179.232 1156.45 Q174.603 1156.45 172.149 1159.58 Q169.718 1162.7 169.371 1169.02 Q170.737 1167.01 172.797 1165.94 Q174.857 1164.86 177.334 1164.86 Q182.542 1164.86 185.552 1168.03 Q188.584 1171.18 188.584 1176.62 Q188.584 1181.94 185.436 1185.16 Q182.288 1188.37 177.056 1188.37 Q171.061 1188.37 167.89 1183.79 Q164.718 1179.18 164.718 1170.46 Q164.718 1162.26 168.607 1157.4 Q172.496 1152.52 179.047 1152.52 Q180.806 1152.52 182.589 1152.87 Q184.394 1153.21 186.339 1153.91 Z\" fill=\"#000000\" fill-rule=\"evenodd\" fill-opacity=\"1\" /><path clip-path=\"url(#clip790)\" d=\"M50.9921 809.462 L80.6679 809.462 L80.6679 813.397 L50.9921 813.397 L50.9921 809.462 Z\" fill=\"#000000\" fill-rule=\"evenodd\" fill-opacity=\"1\" /><path clip-path=\"url(#clip790)\" d=\"M100.76 794.809 Q97.1493 794.809 95.3206 798.374 Q93.515 801.916 93.515 809.045 Q93.515 816.152 95.3206 819.717 Q97.1493 823.258 100.76 823.258 Q104.395 823.258 106.2 819.717 Q108.029 816.152 108.029 809.045 Q108.029 801.916 106.2 798.374 Q104.395 794.809 100.76 794.809 M100.76 791.106 Q106.571 791.106 109.626 795.712 Q112.705 800.295 112.705 809.045 Q112.705 817.772 109.626 822.379 Q106.571 826.962 100.76 826.962 Q94.9502 826.962 91.8715 822.379 Q88.816 817.772 88.816 809.045 Q88.816 800.295 91.8715 795.712 Q94.9502 791.106 100.76 791.106 Z\" fill=\"#000000\" fill-rule=\"evenodd\" fill-opacity=\"1\" /><path clip-path=\"url(#clip790)\" d=\"M120.922 820.411 L125.807 820.411 L125.807 826.291 L120.922 826.291 L120.922 820.411 Z\" fill=\"#000000\" fill-rule=\"evenodd\" fill-opacity=\"1\" /><path clip-path=\"url(#clip790)\" d=\"M145.992 794.809 Q142.381 794.809 140.552 798.374 Q138.746 801.916 138.746 809.045 Q138.746 816.152 140.552 819.717 Q142.381 823.258 145.992 823.258 Q149.626 823.258 151.431 819.717 Q153.26 816.152 153.26 809.045 Q153.26 801.916 151.431 798.374 Q149.626 794.809 145.992 794.809 M145.992 791.106 Q151.802 791.106 154.857 795.712 Q157.936 800.295 157.936 809.045 Q157.936 817.772 154.857 822.379 Q151.802 826.962 145.992 826.962 Q140.181 826.962 137.103 822.379 Q134.047 817.772 134.047 809.045 Q134.047 800.295 137.103 795.712 Q140.181 791.106 145.992 791.106 Z\" fill=\"#000000\" fill-rule=\"evenodd\" fill-opacity=\"1\" /><path clip-path=\"url(#clip790)\" d=\"M179.001 795.805 L167.195 814.254 L179.001 814.254 L179.001 795.805 M177.774 791.731 L183.653 791.731 L183.653 814.254 L188.584 814.254 L188.584 818.143 L183.653 818.143 L183.653 826.291 L179.001 826.291 L179.001 818.143 L163.399 818.143 L163.399 813.629 L177.774 791.731 Z\" fill=\"#000000\" fill-rule=\"evenodd\" fill-opacity=\"1\" /><path clip-path=\"url(#clip790)\" d=\"M53.0754 448.05 L82.7512 448.05 L82.7512 451.985 L53.0754 451.985 L53.0754 448.05 Z\" fill=\"#000000\" fill-rule=\"evenodd\" fill-opacity=\"1\" /><path clip-path=\"url(#clip790)\" d=\"M102.844 433.397 Q99.2326 433.397 97.4039 436.962 Q95.5984 440.503 95.5984 447.633 Q95.5984 454.739 97.4039 458.304 Q99.2326 461.846 102.844 461.846 Q106.478 461.846 108.283 458.304 Q110.112 454.739 110.112 447.633 Q110.112 440.503 108.283 436.962 Q106.478 433.397 102.844 433.397 M102.844 429.693 Q108.654 429.693 111.709 434.3 Q114.788 438.883 114.788 447.633 Q114.788 456.36 111.709 460.966 Q108.654 465.549 102.844 465.549 Q97.0335 465.549 93.9549 460.966 Q90.8993 456.36 90.8993 447.633 Q90.8993 438.883 93.9549 434.3 Q97.0335 429.693 102.844 429.693 Z\" fill=\"#000000\" fill-rule=\"evenodd\" fill-opacity=\"1\" /><path clip-path=\"url(#clip790)\" d=\"M123.006 458.999 L127.89 458.999 L127.89 464.878 L123.006 464.878 L123.006 458.999 Z\" fill=\"#000000\" fill-rule=\"evenodd\" fill-opacity=\"1\" /><path clip-path=\"url(#clip790)\" d=\"M148.075 433.397 Q144.464 433.397 142.635 436.962 Q140.83 440.503 140.83 447.633 Q140.83 454.739 142.635 458.304 Q144.464 461.846 148.075 461.846 Q151.709 461.846 153.515 458.304 Q155.343 454.739 155.343 447.633 Q155.343 440.503 153.515 436.962 Q151.709 433.397 148.075 433.397 M148.075 429.693 Q153.885 429.693 156.941 434.3 Q160.019 438.883 160.019 447.633 Q160.019 456.36 156.941 460.966 Q153.885 465.549 148.075 465.549 Q142.265 465.549 139.186 460.966 Q136.131 456.36 136.131 447.633 Q136.131 438.883 139.186 434.3 Q142.265 429.693 148.075 429.693 Z\" fill=\"#000000\" fill-rule=\"evenodd\" fill-opacity=\"1\" /><path clip-path=\"url(#clip790)\" d=\"M172.265 460.943 L188.584 460.943 L188.584 464.878 L166.64 464.878 L166.64 460.943 Q169.302 458.188 173.885 453.559 Q178.491 448.906 179.672 447.563 Q181.917 445.04 182.797 443.304 Q183.7 441.545 183.7 439.855 Q183.7 437.101 181.755 435.364 Q179.834 433.628 176.732 433.628 Q174.533 433.628 172.079 434.392 Q169.649 435.156 166.871 436.707 L166.871 431.985 Q169.695 430.851 172.149 430.272 Q174.603 429.693 176.64 429.693 Q182.01 429.693 185.204 432.378 Q188.399 435.064 188.399 439.554 Q188.399 441.684 187.589 443.605 Q186.802 445.503 184.695 448.096 Q184.116 448.767 181.015 451.985 Q177.913 455.179 172.265 460.943 Z\" fill=\"#000000\" fill-rule=\"evenodd\" fill-opacity=\"1\" /><path clip-path=\"url(#clip790)\" d=\"M101.246 71.9844 Q97.6354 71.9844 95.8067 75.5492 Q94.0012 79.0908 94.0012 86.2204 Q94.0012 93.3268 95.8067 96.8916 Q97.6354 100.433 101.246 100.433 Q104.881 100.433 106.686 96.8916 Q108.515 93.3268 108.515 86.2204 Q108.515 79.0908 106.686 75.5492 Q104.881 71.9844 101.246 71.9844 M101.246 68.2807 Q107.057 68.2807 110.112 72.8871 Q113.191 77.4704 113.191 86.2204 Q113.191 94.9472 110.112 99.5537 Q107.057 104.137 101.246 104.137 Q95.4363 104.137 92.3576 99.5537 Q89.3021 94.9472 89.3021 86.2204 Q89.3021 77.4704 92.3576 72.8871 Q95.4363 68.2807 101.246 68.2807 Z\" fill=\"#000000\" fill-rule=\"evenodd\" fill-opacity=\"1\" /><path clip-path=\"url(#clip790)\" d=\"M121.408 97.5861 L126.293 97.5861 L126.293 103.466 L121.408 103.466 L121.408 97.5861 Z\" fill=\"#000000\" fill-rule=\"evenodd\" fill-opacity=\"1\" /><path clip-path=\"url(#clip790)\" d=\"M146.478 71.9844 Q142.867 71.9844 141.038 75.5492 Q139.232 79.0908 139.232 86.2204 Q139.232 93.3268 141.038 96.8916 Q142.867 100.433 146.478 100.433 Q150.112 100.433 151.918 96.8916 Q153.746 93.3268 153.746 86.2204 Q153.746 79.0908 151.918 75.5492 Q150.112 71.9844 146.478 71.9844 M146.478 68.2807 Q152.288 68.2807 155.343 72.8871 Q158.422 77.4704 158.422 86.2204 Q158.422 94.9472 155.343 99.5537 Q152.288 104.137 146.478 104.137 Q140.668 104.137 137.589 99.5537 Q134.533 94.9472 134.533 86.2204 Q134.533 77.4704 137.589 72.8871 Q140.668 68.2807 146.478 68.2807 Z\" fill=\"#000000\" fill-rule=\"evenodd\" fill-opacity=\"1\" /><path clip-path=\"url(#clip790)\" d=\"M176.64 71.9844 Q173.029 71.9844 171.2 75.5492 Q169.394 79.0908 169.394 86.2204 Q169.394 93.3268 171.2 96.8916 Q173.029 100.433 176.64 100.433 Q180.274 100.433 182.079 96.8916 Q183.908 93.3268 183.908 86.2204 Q183.908 79.0908 182.079 75.5492 Q180.274 71.9844 176.64 71.9844 M176.64 68.2807 Q182.45 68.2807 185.505 72.8871 Q188.584 77.4704 188.584 86.2204 Q188.584 94.9472 185.505 99.5537 Q182.45 104.137 176.64 104.137 Q170.829 104.137 167.751 99.5537 Q164.695 94.9472 164.695 86.2204 Q164.695 77.4704 167.751 72.8871 Q170.829 68.2807 176.64 68.2807 Z\" fill=\"#000000\" fill-rule=\"evenodd\" fill-opacity=\"1\" /><polyline clip-path=\"url(#clip792)\" style=\"stroke:#009af9; stroke-linecap:butt; stroke-linejoin:round; stroke-width:4; stroke-opacity:1; fill:none\" points=\"\n",
       "  224.584,86.1857 437.401,86.1857 650.218,1208.26 863.036,1384.24 1075.85,1373.09 1288.67,1326.52 1501.49,1274.77 1714.3,1223.83 1927.12,1174.79 2139.94,1127.82 \n",
       "  2352.76,1082.86 \n",
       "  \"/>\n",
       "<polyline clip-path=\"url(#clip792)\" style=\"stroke:#e26f46; stroke-linecap:butt; stroke-linejoin:round; stroke-width:4; stroke-opacity:1; fill:none\" points=\"\n",
       "  224.584,86.1857 437.401,266.892 650.218,122.327 863.036,93.4139 1075.85,87.6313 1288.67,86.4748 1501.49,86.2435 1714.3,86.1972 1927.12,86.188 2139.94,86.1861 \n",
       "  2352.76,86.1858 \n",
       "  \"/>\n",
       "<path clip-path=\"url(#clip790)\" d=\"\n",
       "M2022.34 248.629 L2281.82 248.629 L2281.82 93.1086 L2022.34 93.1086  Z\n",
       "  \" fill=\"#ffffff\" fill-rule=\"evenodd\" fill-opacity=\"1\"/>\n",
       "<polyline clip-path=\"url(#clip790)\" style=\"stroke:#000000; stroke-linecap:butt; stroke-linejoin:round; stroke-width:4; stroke-opacity:1; fill:none\" points=\"\n",
       "  2022.34,248.629 2281.82,248.629 2281.82,93.1086 2022.34,93.1086 2022.34,248.629 \n",
       "  \"/>\n",
       "<polyline clip-path=\"url(#clip790)\" style=\"stroke:#009af9; stroke-linecap:butt; stroke-linejoin:round; stroke-width:4; stroke-opacity:1; fill:none\" points=\"\n",
       "  2045.99,144.949 2187.87,144.949 \n",
       "  \"/>\n",
       "<path clip-path=\"url(#clip790)\" d=\"M2211.51 126.21 L2215.8 126.21 L2215.8 147.483 L2228.51 136.303 L2233.95 136.303 L2220.2 148.432 L2234.52 162.229 L2228.97 162.229 L2215.8 149.567 L2215.8 162.229 L2211.51 162.229 L2211.51 126.21 Z\" fill=\"#000000\" fill-rule=\"evenodd\" fill-opacity=\"1\" /><polyline clip-path=\"url(#clip790)\" style=\"stroke:#e26f46; stroke-linecap:butt; stroke-linejoin:round; stroke-width:4; stroke-opacity:1; fill:none\" points=\"\n",
       "  2045.99,196.789 2187.87,196.789 \n",
       "  \"/>\n",
       "<path clip-path=\"url(#clip790)\" d=\"M2212.09 188.143 L2232.33 188.143 L2232.33 192.032 L2216.31 210.666 L2232.33 210.666 L2232.33 214.069 L2211.51 214.069 L2211.51 210.18 L2227.53 191.546 L2212.09 191.546 L2212.09 188.143 Z\" fill=\"#000000\" fill-rule=\"evenodd\" fill-opacity=\"1\" /></svg>\n"
      ]
     },
     "execution_count": 38,
     "metadata": {},
     "output_type": "execute_result"
    }
   ],
   "source": [
    "p_f = (ρ = 0.2, δ = 0.02, σ = 0.01, Ω_1 = 0.01) # Fixed parameters\n",
    "p_d = (α = 0.5, β = 0.95) # Pseudo-true values\n",
    "m = model_rbc\n",
    "sol = generate_perturbation(model_rbc, p_d, p_f)\n",
    "ϵ0 = [1.0]\n",
    "T = 10\n",
    "sim = irf(sol, ϵ0, T)\n",
    "plot(sim)"
   ]
  },
  {
   "cell_type": "markdown",
   "metadata": {},
   "source": [
    "## Sneak Peak at SciML Compatable Functionality\n",
    "Finally, there are a variety of features of SciML which are supported.  For example, parallel simulations of ensembles and associated summary statistics"
   ]
  },
  {
   "cell_type": "code",
   "execution_count": 26,
   "metadata": {},
   "outputs": [
    {
     "data": {
      "text/plain": [
       "t: 0:100\n",
       "u: 101-element Vector{Vector{Float64}}:\n",
       " [-0.04985964251918022, -0.0023893420864295814]\n",
       " [-0.04437406891935056, 0.002100423224965789]\n",
       " [-0.008708913386069555, 0.0025968128055573036]\n",
       " [-0.0015580190470316493, 0.0013650649340336452]\n",
       " [-0.015618873202972547, 0.0025882742635529553]\n",
       " [-0.022295817309310045, -0.000783862242466346]\n",
       " [-0.012411753535453676, -0.0019746968211527766]\n",
       " [-0.009496494897935663, 0.0025324777594660673]\n",
       " [0.007490020357198923, 0.004649430921470236]\n",
       " [0.00943349331670138, 0.0011463518809979394]\n",
       " [0.020122080351839825, -0.002538942612728011]\n",
       " [0.015246614198235099, -0.002818474169557905]\n",
       " [-0.007281817399131295, -0.0027505102642391417]\n",
       " ⋮\n",
       " [-0.04026253941179241, -0.0005457582906454085]\n",
       " [-0.009171874359450277, 0.0005735457480459079]\n",
       " [0.0060720754059473536, -0.0017617801402138207]\n",
       " [-0.021407008953991013, -0.002316439602172154]\n",
       " [-0.03408748252217758, 0.0016251816798289781]\n",
       " [-0.05359604810065272, -0.0022190195477168693]\n",
       " [-0.06753755388662966, 0.0019063648276007575]\n",
       " [-0.05471182047210667, 0.0011856349582632499]\n",
       " [-0.04612481794143171, 0.00037435622606619]\n",
       " [-0.040530033095578066, 0.0020539377439042004]\n",
       " [-0.01892040147135307, -0.00023974785973949255]\n",
       " [-0.02072143550436746, -0.0020379451264397304]"
      ]
     },
     "execution_count": 26,
     "metadata": {},
     "output_type": "execute_result"
    }
   ],
   "source": [
    "# Simulate multiple trajectories with T observations\n",
    "trajectories = 40\n",
    "x_iv = MvNormal(sol.x_ergodic_var)\n",
    "problem = LinearStateSpaceProblem(sol, x_iv, (0, T))\n",
    "\n",
    "# Solve multiple trajectories and plot an ensemble\n",
    "ensemble_results = solve(EnsembleProblem(problem), DirectIteration(), EnsembleThreads();\n",
    "                 trajectories)\n",
    "summ = EnsembleSummary(ensemble_results)  # see SciML documentation.  Calculates median and other quantles automatically.\n",
    "summ.med # median values for the \"x\" simulated ensembles"
   ]
  },
  {
   "cell_type": "code",
   "execution_count": 27,
   "metadata": {},
   "outputs": [
    {
     "data": {
      "image/svg+xml": [
       "<?xml version=\"1.0\" encoding=\"utf-8\"?>\n",
       "<svg xmlns=\"http://www.w3.org/2000/svg\" xmlns:xlink=\"http://www.w3.org/1999/xlink\" width=\"600\" height=\"400\" viewBox=\"0 0 2400 1600\">\n",
       "<defs>\n",
       "  <clipPath id=\"clip670\">\n",
       "    <rect x=\"0\" y=\"0\" width=\"2400\" height=\"1600\"/>\n",
       "  </clipPath>\n",
       "</defs>\n",
       "<path clip-path=\"url(#clip670)\" d=\"\n",
       "M0 1600 L2400 1600 L2400 0 L0 0  Z\n",
       "  \" fill=\"#ffffff\" fill-rule=\"evenodd\" fill-opacity=\"1\"/>\n",
       "<defs>\n",
       "  <clipPath id=\"clip671\">\n",
       "    <rect x=\"480\" y=\"0\" width=\"1681\" height=\"1600\"/>\n",
       "  </clipPath>\n",
       "</defs>\n",
       "<path clip-path=\"url(#clip670)\" d=\"\n",
       "M224.098 1486.45 L2352.76 1486.45 L2352.76 47.2441 L224.098 47.2441  Z\n",
       "  \" fill=\"#ffffff\" fill-rule=\"evenodd\" fill-opacity=\"1\"/>\n",
       "<defs>\n",
       "  <clipPath id=\"clip672\">\n",
       "    <rect x=\"224\" y=\"47\" width=\"2130\" height=\"1440\"/>\n",
       "  </clipPath>\n",
       "</defs>\n",
       "<polyline clip-path=\"url(#clip672)\" style=\"stroke:#000000; stroke-linecap:butt; stroke-linejoin:round; stroke-width:2; stroke-opacity:0.1; fill:none\" points=\"\n",
       "  284.343,1486.45 284.343,47.2441 \n",
       "  \"/>\n",
       "<polyline clip-path=\"url(#clip672)\" style=\"stroke:#000000; stroke-linecap:butt; stroke-linejoin:round; stroke-width:2; stroke-opacity:0.1; fill:none\" points=\"\n",
       "  786.385,1486.45 786.385,47.2441 \n",
       "  \"/>\n",
       "<polyline clip-path=\"url(#clip672)\" style=\"stroke:#000000; stroke-linecap:butt; stroke-linejoin:round; stroke-width:2; stroke-opacity:0.1; fill:none\" points=\"\n",
       "  1288.43,1486.45 1288.43,47.2441 \n",
       "  \"/>\n",
       "<polyline clip-path=\"url(#clip672)\" style=\"stroke:#000000; stroke-linecap:butt; stroke-linejoin:round; stroke-width:2; stroke-opacity:0.1; fill:none\" points=\"\n",
       "  1790.47,1486.45 1790.47,47.2441 \n",
       "  \"/>\n",
       "<polyline clip-path=\"url(#clip672)\" style=\"stroke:#000000; stroke-linecap:butt; stroke-linejoin:round; stroke-width:2; stroke-opacity:0.1; fill:none\" points=\"\n",
       "  2292.51,1486.45 2292.51,47.2441 \n",
       "  \"/>\n",
       "<polyline clip-path=\"url(#clip670)\" style=\"stroke:#000000; stroke-linecap:butt; stroke-linejoin:round; stroke-width:4; stroke-opacity:1; fill:none\" points=\"\n",
       "  224.098,1486.45 2352.76,1486.45 \n",
       "  \"/>\n",
       "<polyline clip-path=\"url(#clip670)\" style=\"stroke:#000000; stroke-linecap:butt; stroke-linejoin:round; stroke-width:4; stroke-opacity:1; fill:none\" points=\"\n",
       "  284.343,1486.45 284.343,1467.55 \n",
       "  \"/>\n",
       "<polyline clip-path=\"url(#clip670)\" style=\"stroke:#000000; stroke-linecap:butt; stroke-linejoin:round; stroke-width:4; stroke-opacity:1; fill:none\" points=\"\n",
       "  786.385,1486.45 786.385,1467.55 \n",
       "  \"/>\n",
       "<polyline clip-path=\"url(#clip670)\" style=\"stroke:#000000; stroke-linecap:butt; stroke-linejoin:round; stroke-width:4; stroke-opacity:1; fill:none\" points=\"\n",
       "  1288.43,1486.45 1288.43,1467.55 \n",
       "  \"/>\n",
       "<polyline clip-path=\"url(#clip670)\" style=\"stroke:#000000; stroke-linecap:butt; stroke-linejoin:round; stroke-width:4; stroke-opacity:1; fill:none\" points=\"\n",
       "  1790.47,1486.45 1790.47,1467.55 \n",
       "  \"/>\n",
       "<polyline clip-path=\"url(#clip670)\" style=\"stroke:#000000; stroke-linecap:butt; stroke-linejoin:round; stroke-width:4; stroke-opacity:1; fill:none\" points=\"\n",
       "  2292.51,1486.45 2292.51,1467.55 \n",
       "  \"/>\n",
       "<path clip-path=\"url(#clip670)\" d=\"M284.343 1517.37 Q280.732 1517.37 278.903 1520.93 Q277.098 1524.47 277.098 1531.6 Q277.098 1538.71 278.903 1542.27 Q280.732 1545.82 284.343 1545.82 Q287.977 1545.82 289.783 1542.27 Q291.611 1538.71 291.611 1531.6 Q291.611 1524.47 289.783 1520.93 Q287.977 1517.37 284.343 1517.37 M284.343 1513.66 Q290.153 1513.66 293.209 1518.27 Q296.287 1522.85 296.287 1531.6 Q296.287 1540.33 293.209 1544.94 Q290.153 1549.52 284.343 1549.52 Q278.533 1549.52 275.454 1544.94 Q272.399 1540.33 272.399 1531.6 Q272.399 1522.85 275.454 1518.27 Q278.533 1513.66 284.343 1513.66 Z\" fill=\"#000000\" fill-rule=\"evenodd\" fill-opacity=\"1\" /><path clip-path=\"url(#clip670)\" d=\"M765.656 1544.91 L781.975 1544.91 L781.975 1548.85 L760.031 1548.85 L760.031 1544.91 Q762.693 1542.16 767.276 1537.53 Q771.883 1532.88 773.063 1531.53 Q775.309 1529.01 776.188 1527.27 Q777.091 1525.51 777.091 1523.82 Q777.091 1521.07 775.147 1519.33 Q773.225 1517.6 770.123 1517.6 Q767.924 1517.6 765.471 1518.36 Q763.04 1519.13 760.262 1520.68 L760.262 1515.95 Q763.086 1514.82 765.54 1514.24 Q767.994 1513.66 770.031 1513.66 Q775.401 1513.66 778.596 1516.35 Q781.79 1519.03 781.79 1523.52 Q781.79 1525.65 780.98 1527.57 Q780.193 1529.47 778.086 1532.07 Q777.508 1532.74 774.406 1535.95 Q771.304 1539.15 765.656 1544.91 Z\" fill=\"#000000\" fill-rule=\"evenodd\" fill-opacity=\"1\" /><path clip-path=\"url(#clip670)\" d=\"M791.836 1514.29 L810.193 1514.29 L810.193 1518.22 L796.119 1518.22 L796.119 1526.7 Q797.137 1526.35 798.156 1526.19 Q799.174 1526 800.193 1526 Q805.98 1526 809.359 1529.17 Q812.739 1532.34 812.739 1537.76 Q812.739 1543.34 809.267 1546.44 Q805.795 1549.52 799.475 1549.52 Q797.299 1549.52 795.031 1549.15 Q792.785 1548.78 790.378 1548.04 L790.378 1543.34 Q792.461 1544.47 794.683 1545.03 Q796.906 1545.58 799.383 1545.58 Q803.387 1545.58 805.725 1543.48 Q808.063 1541.37 808.063 1537.76 Q808.063 1534.15 805.725 1532.04 Q803.387 1529.94 799.383 1529.94 Q797.508 1529.94 795.633 1530.35 Q793.781 1530.77 791.836 1531.65 L791.836 1514.29 Z\" fill=\"#000000\" fill-rule=\"evenodd\" fill-opacity=\"1\" /><path clip-path=\"url(#clip670)\" d=\"M1263.13 1514.29 L1281.48 1514.29 L1281.48 1518.22 L1267.41 1518.22 L1267.41 1526.7 Q1268.43 1526.35 1269.45 1526.19 Q1270.46 1526 1271.48 1526 Q1277.27 1526 1280.65 1529.17 Q1284.03 1532.34 1284.03 1537.76 Q1284.03 1543.34 1280.56 1546.44 Q1277.08 1549.52 1270.76 1549.52 Q1268.59 1549.52 1266.32 1549.15 Q1264.08 1548.78 1261.67 1548.04 L1261.67 1543.34 Q1263.75 1544.47 1265.97 1545.03 Q1268.2 1545.58 1270.67 1545.58 Q1274.68 1545.58 1277.01 1543.48 Q1279.35 1541.37 1279.35 1537.76 Q1279.35 1534.15 1277.01 1532.04 Q1274.68 1529.94 1270.67 1529.94 Q1268.8 1529.94 1266.92 1530.35 Q1265.07 1530.77 1263.13 1531.65 L1263.13 1514.29 Z\" fill=\"#000000\" fill-rule=\"evenodd\" fill-opacity=\"1\" /><path clip-path=\"url(#clip670)\" d=\"M1303.24 1517.37 Q1299.63 1517.37 1297.8 1520.93 Q1296 1524.47 1296 1531.6 Q1296 1538.71 1297.8 1542.27 Q1299.63 1545.82 1303.24 1545.82 Q1306.88 1545.82 1308.68 1542.27 Q1310.51 1538.71 1310.51 1531.6 Q1310.51 1524.47 1308.68 1520.93 Q1306.88 1517.37 1303.24 1517.37 M1303.24 1513.66 Q1309.05 1513.66 1312.11 1518.27 Q1315.19 1522.85 1315.19 1531.6 Q1315.19 1540.33 1312.11 1544.94 Q1309.05 1549.52 1303.24 1549.52 Q1297.43 1549.52 1294.35 1544.94 Q1291.3 1540.33 1291.3 1531.6 Q1291.3 1522.85 1294.35 1518.27 Q1297.43 1513.66 1303.24 1513.66 Z\" fill=\"#000000\" fill-rule=\"evenodd\" fill-opacity=\"1\" /><path clip-path=\"url(#clip670)\" d=\"M1764.32 1514.29 L1786.55 1514.29 L1786.55 1516.28 L1774 1548.85 L1769.11 1548.85 L1780.92 1518.22 L1764.32 1518.22 L1764.32 1514.29 Z\" fill=\"#000000\" fill-rule=\"evenodd\" fill-opacity=\"1\" /><path clip-path=\"url(#clip670)\" d=\"M1795.71 1514.29 L1814.07 1514.29 L1814.07 1518.22 L1799.99 1518.22 L1799.99 1526.7 Q1801.01 1526.35 1802.03 1526.19 Q1803.05 1526 1804.07 1526 Q1809.86 1526 1813.23 1529.17 Q1816.61 1532.34 1816.61 1537.76 Q1816.61 1543.34 1813.14 1546.44 Q1809.67 1549.52 1803.35 1549.52 Q1801.17 1549.52 1798.91 1549.15 Q1796.66 1548.78 1794.25 1548.04 L1794.25 1543.34 Q1796.34 1544.47 1798.56 1545.03 Q1800.78 1545.58 1803.26 1545.58 Q1807.26 1545.58 1809.6 1543.48 Q1811.94 1541.37 1811.94 1537.76 Q1811.94 1534.15 1809.6 1532.04 Q1807.26 1529.94 1803.26 1529.94 Q1801.38 1529.94 1799.51 1530.35 Q1797.66 1530.77 1795.71 1531.65 L1795.71 1514.29 Z\" fill=\"#000000\" fill-rule=\"evenodd\" fill-opacity=\"1\" /><path clip-path=\"url(#clip670)\" d=\"M2252.12 1544.91 L2259.76 1544.91 L2259.76 1518.55 L2251.45 1520.21 L2251.45 1515.95 L2259.71 1514.29 L2264.39 1514.29 L2264.39 1544.91 L2272.02 1544.91 L2272.02 1548.85 L2252.12 1548.85 L2252.12 1544.91 Z\" fill=\"#000000\" fill-rule=\"evenodd\" fill-opacity=\"1\" /><path clip-path=\"url(#clip670)\" d=\"M2291.47 1517.37 Q2287.86 1517.37 2286.03 1520.93 Q2284.22 1524.47 2284.22 1531.6 Q2284.22 1538.71 2286.03 1542.27 Q2287.86 1545.82 2291.47 1545.82 Q2295.1 1545.82 2296.91 1542.27 Q2298.74 1538.71 2298.74 1531.6 Q2298.74 1524.47 2296.91 1520.93 Q2295.1 1517.37 2291.47 1517.37 M2291.47 1513.66 Q2297.28 1513.66 2300.33 1518.27 Q2303.41 1522.85 2303.41 1531.6 Q2303.41 1540.33 2300.33 1544.94 Q2297.28 1549.52 2291.47 1549.52 Q2285.66 1549.52 2282.58 1544.94 Q2279.52 1540.33 2279.52 1531.6 Q2279.52 1522.85 2282.58 1518.27 Q2285.66 1513.66 2291.47 1513.66 Z\" fill=\"#000000\" fill-rule=\"evenodd\" fill-opacity=\"1\" /><path clip-path=\"url(#clip670)\" d=\"M2321.63 1517.37 Q2318.02 1517.37 2316.19 1520.93 Q2314.39 1524.47 2314.39 1531.6 Q2314.39 1538.71 2316.19 1542.27 Q2318.02 1545.82 2321.63 1545.82 Q2325.27 1545.82 2327.07 1542.27 Q2328.9 1538.71 2328.9 1531.6 Q2328.9 1524.47 2327.07 1520.93 Q2325.27 1517.37 2321.63 1517.37 M2321.63 1513.66 Q2327.44 1513.66 2330.5 1518.27 Q2333.58 1522.85 2333.58 1531.6 Q2333.58 1540.33 2330.5 1544.94 Q2327.44 1549.52 2321.63 1549.52 Q2315.82 1549.52 2312.74 1544.94 Q2309.69 1540.33 2309.69 1531.6 Q2309.69 1522.85 2312.74 1518.27 Q2315.82 1513.66 2321.63 1513.66 Z\" fill=\"#000000\" fill-rule=\"evenodd\" fill-opacity=\"1\" /><polyline clip-path=\"url(#clip672)\" style=\"stroke:#000000; stroke-linecap:butt; stroke-linejoin:round; stroke-width:2; stroke-opacity:0.1; fill:none\" points=\"\n",
       "  224.098,1264.49 2352.76,1264.49 \n",
       "  \"/>\n",
       "<polyline clip-path=\"url(#clip672)\" style=\"stroke:#000000; stroke-linecap:butt; stroke-linejoin:round; stroke-width:2; stroke-opacity:0.1; fill:none\" points=\"\n",
       "  224.098,988.962 2352.76,988.962 \n",
       "  \"/>\n",
       "<polyline clip-path=\"url(#clip672)\" style=\"stroke:#000000; stroke-linecap:butt; stroke-linejoin:round; stroke-width:2; stroke-opacity:0.1; fill:none\" points=\"\n",
       "  224.098,713.435 2352.76,713.435 \n",
       "  \"/>\n",
       "<polyline clip-path=\"url(#clip672)\" style=\"stroke:#000000; stroke-linecap:butt; stroke-linejoin:round; stroke-width:2; stroke-opacity:0.1; fill:none\" points=\"\n",
       "  224.098,437.908 2352.76,437.908 \n",
       "  \"/>\n",
       "<polyline clip-path=\"url(#clip672)\" style=\"stroke:#000000; stroke-linecap:butt; stroke-linejoin:round; stroke-width:2; stroke-opacity:0.1; fill:none\" points=\"\n",
       "  224.098,162.382 2352.76,162.382 \n",
       "  \"/>\n",
       "<polyline clip-path=\"url(#clip670)\" style=\"stroke:#000000; stroke-linecap:butt; stroke-linejoin:round; stroke-width:4; stroke-opacity:1; fill:none\" points=\"\n",
       "  224.098,1486.45 224.098,47.2441 \n",
       "  \"/>\n",
       "<polyline clip-path=\"url(#clip670)\" style=\"stroke:#000000; stroke-linecap:butt; stroke-linejoin:round; stroke-width:4; stroke-opacity:1; fill:none\" points=\"\n",
       "  224.098,1264.49 242.996,1264.49 \n",
       "  \"/>\n",
       "<polyline clip-path=\"url(#clip670)\" style=\"stroke:#000000; stroke-linecap:butt; stroke-linejoin:round; stroke-width:4; stroke-opacity:1; fill:none\" points=\"\n",
       "  224.098,988.962 242.996,988.962 \n",
       "  \"/>\n",
       "<polyline clip-path=\"url(#clip670)\" style=\"stroke:#000000; stroke-linecap:butt; stroke-linejoin:round; stroke-width:4; stroke-opacity:1; fill:none\" points=\"\n",
       "  224.098,713.435 242.996,713.435 \n",
       "  \"/>\n",
       "<polyline clip-path=\"url(#clip670)\" style=\"stroke:#000000; stroke-linecap:butt; stroke-linejoin:round; stroke-width:4; stroke-opacity:1; fill:none\" points=\"\n",
       "  224.098,437.908 242.996,437.908 \n",
       "  \"/>\n",
       "<polyline clip-path=\"url(#clip670)\" style=\"stroke:#000000; stroke-linecap:butt; stroke-linejoin:round; stroke-width:4; stroke-opacity:1; fill:none\" points=\"\n",
       "  224.098,162.382 242.996,162.382 \n",
       "  \"/>\n",
       "<path clip-path=\"url(#clip670)\" d=\"M50.9921 1264.94 L80.6679 1264.94 L80.6679 1268.88 L50.9921 1268.88 L50.9921 1264.94 Z\" fill=\"#000000\" fill-rule=\"evenodd\" fill-opacity=\"1\" /><path clip-path=\"url(#clip670)\" d=\"M100.76 1250.29 Q97.1493 1250.29 95.3206 1253.85 Q93.515 1257.39 93.515 1264.52 Q93.515 1271.63 95.3206 1275.19 Q97.1493 1278.74 100.76 1278.74 Q104.395 1278.74 106.2 1275.19 Q108.029 1271.63 108.029 1264.52 Q108.029 1257.39 106.2 1253.85 Q104.395 1250.29 100.76 1250.29 M100.76 1246.58 Q106.571 1246.58 109.626 1251.19 Q112.705 1255.77 112.705 1264.52 Q112.705 1273.25 109.626 1277.86 Q106.571 1282.44 100.76 1282.44 Q94.9502 1282.44 91.8715 1277.86 Q88.816 1273.25 88.816 1264.52 Q88.816 1255.77 91.8715 1251.19 Q94.9502 1246.58 100.76 1246.58 Z\" fill=\"#000000\" fill-rule=\"evenodd\" fill-opacity=\"1\" /><path clip-path=\"url(#clip670)\" d=\"M120.922 1275.89 L125.807 1275.89 L125.807 1281.77 L120.922 1281.77 L120.922 1275.89 Z\" fill=\"#000000\" fill-rule=\"evenodd\" fill-opacity=\"1\" /><path clip-path=\"url(#clip670)\" d=\"M136.038 1247.21 L154.394 1247.21 L154.394 1251.14 L140.32 1251.14 L140.32 1259.62 Q141.339 1259.27 142.357 1259.11 Q143.376 1258.92 144.394 1258.92 Q150.181 1258.92 153.561 1262.09 Q156.941 1265.26 156.941 1270.68 Q156.941 1276.26 153.468 1279.36 Q149.996 1282.44 143.677 1282.44 Q141.501 1282.44 139.232 1282.07 Q136.987 1281.7 134.58 1280.96 L134.58 1276.26 Q136.663 1277.39 138.885 1277.95 Q141.107 1278.5 143.584 1278.5 Q147.589 1278.5 149.927 1276.4 Q152.265 1274.29 152.265 1270.68 Q152.265 1267.07 149.927 1264.96 Q147.589 1262.86 143.584 1262.86 Q141.709 1262.86 139.834 1263.27 Q137.982 1263.69 136.038 1264.57 L136.038 1247.21 Z\" fill=\"#000000\" fill-rule=\"evenodd\" fill-opacity=\"1\" /><path clip-path=\"url(#clip670)\" d=\"M176.153 1250.29 Q172.542 1250.29 170.714 1253.85 Q168.908 1257.39 168.908 1264.52 Q168.908 1271.63 170.714 1275.19 Q172.542 1278.74 176.153 1278.74 Q179.788 1278.74 181.593 1275.19 Q183.422 1271.63 183.422 1264.52 Q183.422 1257.39 181.593 1253.85 Q179.788 1250.29 176.153 1250.29 M176.153 1246.58 Q181.964 1246.58 185.019 1251.19 Q188.098 1255.77 188.098 1264.52 Q188.098 1273.25 185.019 1277.86 Q181.964 1282.44 176.153 1282.44 Q170.343 1282.44 167.265 1277.86 Q164.209 1273.25 164.209 1264.52 Q164.209 1255.77 167.265 1251.19 Q170.343 1246.58 176.153 1246.58 Z\" fill=\"#000000\" fill-rule=\"evenodd\" fill-opacity=\"1\" /><path clip-path=\"url(#clip670)\" d=\"M51.9875 989.413 L81.6633 989.413 L81.6633 993.349 L51.9875 993.349 L51.9875 989.413 Z\" fill=\"#000000\" fill-rule=\"evenodd\" fill-opacity=\"1\" /><path clip-path=\"url(#clip670)\" d=\"M101.756 974.761 Q98.1447 974.761 96.316 978.326 Q94.5104 981.867 94.5104 988.997 Q94.5104 996.103 96.316 999.668 Q98.1447 1003.21 101.756 1003.21 Q105.39 1003.21 107.196 999.668 Q109.024 996.103 109.024 988.997 Q109.024 981.867 107.196 978.326 Q105.39 974.761 101.756 974.761 M101.756 971.057 Q107.566 971.057 110.621 975.663 Q113.7 980.247 113.7 988.997 Q113.7 997.724 110.621 1002.33 Q107.566 1006.91 101.756 1006.91 Q95.9456 1006.91 92.8669 1002.33 Q89.8114 997.724 89.8114 988.997 Q89.8114 980.247 92.8669 975.663 Q95.9456 971.057 101.756 971.057 Z\" fill=\"#000000\" fill-rule=\"evenodd\" fill-opacity=\"1\" /><path clip-path=\"url(#clip670)\" d=\"M121.918 1000.36 L126.802 1000.36 L126.802 1006.24 L121.918 1006.24 L121.918 1000.36 Z\" fill=\"#000000\" fill-rule=\"evenodd\" fill-opacity=\"1\" /><path clip-path=\"url(#clip670)\" d=\"M141.015 1002.31 L157.334 1002.31 L157.334 1006.24 L135.39 1006.24 L135.39 1002.31 Q138.052 999.552 142.635 994.923 Q147.242 990.27 148.422 988.927 Q150.668 986.404 151.547 984.668 Q152.45 982.909 152.45 981.219 Q152.45 978.464 150.505 976.728 Q148.584 974.992 145.482 974.992 Q143.283 974.992 140.83 975.756 Q138.399 976.52 135.621 978.071 L135.621 973.349 Q138.445 972.214 140.899 971.636 Q143.353 971.057 145.39 971.057 Q150.76 971.057 153.955 973.742 Q157.149 976.427 157.149 980.918 Q157.149 983.048 156.339 984.969 Q155.552 986.867 153.445 989.46 Q152.867 990.131 149.765 993.349 Q146.663 996.543 141.015 1002.31 Z\" fill=\"#000000\" fill-rule=\"evenodd\" fill-opacity=\"1\" /><path clip-path=\"url(#clip670)\" d=\"M167.195 971.682 L185.552 971.682 L185.552 975.617 L171.478 975.617 L171.478 984.089 Q172.496 983.742 173.515 983.58 Q174.533 983.395 175.552 983.395 Q181.339 983.395 184.718 986.566 Q188.098 989.737 188.098 995.154 Q188.098 1000.73 184.626 1003.83 Q181.153 1006.91 174.834 1006.91 Q172.658 1006.91 170.39 1006.54 Q168.144 1006.17 165.737 1005.43 L165.737 1000.73 Q167.82 1001.87 170.042 1002.42 Q172.265 1002.98 174.741 1002.98 Q178.746 1002.98 181.084 1000.87 Q183.422 998.765 183.422 995.154 Q183.422 991.543 181.084 989.437 Q178.746 987.33 174.741 987.33 Q172.866 987.33 170.991 987.747 Q169.14 988.163 167.195 989.043 L167.195 971.682 Z\" fill=\"#000000\" fill-rule=\"evenodd\" fill-opacity=\"1\" /><path clip-path=\"url(#clip670)\" d=\"M100.76 699.234 Q97.1493 699.234 95.3206 702.799 Q93.515 706.34 93.515 713.47 Q93.515 720.576 95.3206 724.141 Q97.1493 727.683 100.76 727.683 Q104.395 727.683 106.2 724.141 Q108.029 720.576 108.029 713.47 Q108.029 706.34 106.2 702.799 Q104.395 699.234 100.76 699.234 M100.76 695.53 Q106.571 695.53 109.626 700.137 Q112.705 704.72 112.705 713.47 Q112.705 722.197 109.626 726.803 Q106.571 731.386 100.76 731.386 Q94.9502 731.386 91.8715 726.803 Q88.816 722.197 88.816 713.47 Q88.816 704.72 91.8715 700.137 Q94.9502 695.53 100.76 695.53 Z\" fill=\"#000000\" fill-rule=\"evenodd\" fill-opacity=\"1\" /><path clip-path=\"url(#clip670)\" d=\"M120.922 724.836 L125.807 724.836 L125.807 730.715 L120.922 730.715 L120.922 724.836 Z\" fill=\"#000000\" fill-rule=\"evenodd\" fill-opacity=\"1\" /><path clip-path=\"url(#clip670)\" d=\"M145.992 699.234 Q142.381 699.234 140.552 702.799 Q138.746 706.34 138.746 713.47 Q138.746 720.576 140.552 724.141 Q142.381 727.683 145.992 727.683 Q149.626 727.683 151.431 724.141 Q153.26 720.576 153.26 713.47 Q153.26 706.34 151.431 702.799 Q149.626 699.234 145.992 699.234 M145.992 695.53 Q151.802 695.53 154.857 700.137 Q157.936 704.72 157.936 713.47 Q157.936 722.197 154.857 726.803 Q151.802 731.386 145.992 731.386 Q140.181 731.386 137.103 726.803 Q134.047 722.197 134.047 713.47 Q134.047 704.72 137.103 700.137 Q140.181 695.53 145.992 695.53 Z\" fill=\"#000000\" fill-rule=\"evenodd\" fill-opacity=\"1\" /><path clip-path=\"url(#clip670)\" d=\"M176.153 699.234 Q172.542 699.234 170.714 702.799 Q168.908 706.34 168.908 713.47 Q168.908 720.576 170.714 724.141 Q172.542 727.683 176.153 727.683 Q179.788 727.683 181.593 724.141 Q183.422 720.576 183.422 713.47 Q183.422 706.34 181.593 702.799 Q179.788 699.234 176.153 699.234 M176.153 695.53 Q181.964 695.53 185.019 700.137 Q188.098 704.72 188.098 713.47 Q188.098 722.197 185.019 726.803 Q181.964 731.386 176.153 731.386 Q170.343 731.386 167.265 726.803 Q164.209 722.197 164.209 713.47 Q164.209 704.72 167.265 700.137 Q170.343 695.53 176.153 695.53 Z\" fill=\"#000000\" fill-rule=\"evenodd\" fill-opacity=\"1\" /><path clip-path=\"url(#clip670)\" d=\"M101.756 423.707 Q98.1447 423.707 96.316 427.272 Q94.5104 430.813 94.5104 437.943 Q94.5104 445.05 96.316 448.614 Q98.1447 452.156 101.756 452.156 Q105.39 452.156 107.196 448.614 Q109.024 445.05 109.024 437.943 Q109.024 430.813 107.196 427.272 Q105.39 423.707 101.756 423.707 M101.756 420.003 Q107.566 420.003 110.621 424.61 Q113.7 429.193 113.7 437.943 Q113.7 446.67 110.621 451.276 Q107.566 455.86 101.756 455.86 Q95.9456 455.86 92.8669 451.276 Q89.8114 446.67 89.8114 437.943 Q89.8114 429.193 92.8669 424.61 Q95.9456 420.003 101.756 420.003 Z\" fill=\"#000000\" fill-rule=\"evenodd\" fill-opacity=\"1\" /><path clip-path=\"url(#clip670)\" d=\"M121.918 449.309 L126.802 449.309 L126.802 455.188 L121.918 455.188 L121.918 449.309 Z\" fill=\"#000000\" fill-rule=\"evenodd\" fill-opacity=\"1\" /><path clip-path=\"url(#clip670)\" d=\"M141.015 451.253 L157.334 451.253 L157.334 455.188 L135.39 455.188 L135.39 451.253 Q138.052 448.499 142.635 443.869 Q147.242 439.216 148.422 437.874 Q150.668 435.35 151.547 433.614 Q152.45 431.855 152.45 430.165 Q152.45 427.411 150.505 425.675 Q148.584 423.939 145.482 423.939 Q143.283 423.939 140.83 424.702 Q138.399 425.466 135.621 427.017 L135.621 422.295 Q138.445 421.161 140.899 420.582 Q143.353 420.003 145.39 420.003 Q150.76 420.003 153.955 422.689 Q157.149 425.374 157.149 429.864 Q157.149 431.994 156.339 433.915 Q155.552 435.813 153.445 438.406 Q152.867 439.077 149.765 442.295 Q146.663 445.489 141.015 451.253 Z\" fill=\"#000000\" fill-rule=\"evenodd\" fill-opacity=\"1\" /><path clip-path=\"url(#clip670)\" d=\"M167.195 420.628 L185.552 420.628 L185.552 424.564 L171.478 424.564 L171.478 433.036 Q172.496 432.688 173.515 432.526 Q174.533 432.341 175.552 432.341 Q181.339 432.341 184.718 435.513 Q188.098 438.684 188.098 444.1 Q188.098 449.679 184.626 452.781 Q181.153 455.86 174.834 455.86 Q172.658 455.86 170.39 455.489 Q168.144 455.119 165.737 454.378 L165.737 449.679 Q167.82 450.813 170.042 451.369 Q172.265 451.924 174.741 451.924 Q178.746 451.924 181.084 449.818 Q183.422 447.712 183.422 444.1 Q183.422 440.489 181.084 438.383 Q178.746 436.276 174.741 436.276 Q172.866 436.276 170.991 436.693 Q169.14 437.11 167.195 437.989 L167.195 420.628 Z\" fill=\"#000000\" fill-rule=\"evenodd\" fill-opacity=\"1\" /><path clip-path=\"url(#clip670)\" d=\"M100.76 148.18 Q97.1493 148.18 95.3206 151.745 Q93.515 155.287 93.515 162.416 Q93.515 169.523 95.3206 173.087 Q97.1493 176.629 100.76 176.629 Q104.395 176.629 106.2 173.087 Q108.029 169.523 108.029 162.416 Q108.029 155.287 106.2 151.745 Q104.395 148.18 100.76 148.18 M100.76 144.477 Q106.571 144.477 109.626 149.083 Q112.705 153.666 112.705 162.416 Q112.705 171.143 109.626 175.749 Q106.571 180.333 100.76 180.333 Q94.9502 180.333 91.8715 175.749 Q88.816 171.143 88.816 162.416 Q88.816 153.666 91.8715 149.083 Q94.9502 144.477 100.76 144.477 Z\" fill=\"#000000\" fill-rule=\"evenodd\" fill-opacity=\"1\" /><path clip-path=\"url(#clip670)\" d=\"M120.922 173.782 L125.807 173.782 L125.807 179.662 L120.922 179.662 L120.922 173.782 Z\" fill=\"#000000\" fill-rule=\"evenodd\" fill-opacity=\"1\" /><path clip-path=\"url(#clip670)\" d=\"M136.038 145.102 L154.394 145.102 L154.394 149.037 L140.32 149.037 L140.32 157.509 Q141.339 157.162 142.357 157 Q143.376 156.814 144.394 156.814 Q150.181 156.814 153.561 159.986 Q156.941 163.157 156.941 168.574 Q156.941 174.152 153.468 177.254 Q149.996 180.333 143.677 180.333 Q141.501 180.333 139.232 179.962 Q136.987 179.592 134.58 178.851 L134.58 174.152 Q136.663 175.287 138.885 175.842 Q141.107 176.398 143.584 176.398 Q147.589 176.398 149.927 174.291 Q152.265 172.185 152.265 168.574 Q152.265 164.963 149.927 162.856 Q147.589 160.75 143.584 160.75 Q141.709 160.75 139.834 161.166 Q137.982 161.583 136.038 162.463 L136.038 145.102 Z\" fill=\"#000000\" fill-rule=\"evenodd\" fill-opacity=\"1\" /><path clip-path=\"url(#clip670)\" d=\"M176.153 148.18 Q172.542 148.18 170.714 151.745 Q168.908 155.287 168.908 162.416 Q168.908 169.523 170.714 173.087 Q172.542 176.629 176.153 176.629 Q179.788 176.629 181.593 173.087 Q183.422 169.523 183.422 162.416 Q183.422 155.287 181.593 151.745 Q179.788 148.18 176.153 148.18 M176.153 144.477 Q181.964 144.477 185.019 149.083 Q188.098 153.666 188.098 162.416 Q188.098 171.143 185.019 175.749 Q181.964 180.333 176.153 180.333 Q170.343 180.333 167.265 175.749 Q164.209 171.143 164.209 162.416 Q164.209 153.666 167.265 149.083 Q170.343 144.477 176.153 144.477 Z\" fill=\"#000000\" fill-rule=\"evenodd\" fill-opacity=\"1\" /><path clip-path=\"url(#clip672)\" d=\"\n",
       "M284.343 1203.22 L304.425 1190.2 L324.506 1184.73 L344.588 1162.75 L364.67 1114.33 L384.751 1037.16 L404.833 1095.78 L424.915 1105.78 L444.996 1154.2 L465.078 1101.71 \n",
       "  L485.16 1088.07 L505.241 1151.01 L525.323 1219.44 L545.405 1099.99 L565.486 1120.31 L585.568 1180.73 L605.65 1240.62 L625.731 1220.22 L645.813 1134.73 L665.895 1222.61 \n",
       "  L685.977 1191.88 L706.058 1155.52 L726.14 1270.48 L746.222 1177.1 L766.303 1104.86 L786.385 1126.09 L806.467 1203.63 L826.548 1140.72 L846.63 1114.61 L866.712 1103.49 \n",
       "  L886.793 1051.03 L906.875 1063.13 L926.957 1049.86 L947.038 1098.74 L967.12 1183.55 L987.202 1201.38 L1007.28 1225.21 L1027.37 1188.89 L1047.45 1203.8 L1067.53 1152.34 \n",
       "  L1087.61 1109.94 L1107.69 1129.5 L1127.77 1131.82 L1147.86 1129.62 L1167.94 1179.04 L1188.02 1174.28 L1208.1 1209.45 L1228.18 1249.08 L1248.26 1134.2 L1268.35 1186.23 \n",
       "  L1288.43 1272.71 L1308.51 1309.94 L1328.59 1360.03 L1348.67 1428.46 L1368.75 1445.72 L1388.84 1339.07 L1408.92 1247.83 L1429 1211.48 L1449.08 1140.9 L1469.16 1143.57 \n",
       "  L1489.24 1140.95 L1509.33 1105.07 L1529.41 1063.65 L1549.49 1037.47 L1569.57 1062.6 L1589.65 1130.03 L1609.73 1101.2 L1629.82 1185.1 L1649.9 1205.52 L1669.98 1200.03 \n",
       "  L1690.06 1212.86 L1710.14 1078.42 L1730.22 1057.84 L1750.31 1028.75 L1770.39 1099.08 L1790.47 1184.39 L1810.55 1224.59 L1830.63 1154.2 L1850.71 1183.41 L1870.8 1157.88 \n",
       "  L1890.88 1179.48 L1910.96 1270.33 L1931.04 1203.74 L1951.12 1180.39 L1971.2 1155.46 L1991.29 1134.02 L2011.37 1121.47 L2031.45 1115.34 L2051.53 1102.13 L2071.61 1120.19 \n",
       "  L2091.69 1093.42 L2111.78 1046.31 L2131.86 1101.32 L2151.94 1084.6 L2172.02 1114.81 L2192.1 1049.85 L2212.18 1007.95 L2232.27 1067.84 L2252.35 1029.52 L2272.43 969.954 \n",
       "  L2292.51 1005.26 L2292.51 341.265 L2272.43 331.569 L2252.35 340.596 L2232.27 352.687 L2212.18 313.615 L2192.1 358.207 L2172.02 371.698 L2151.94 357.744 L2131.86 363.815 \n",
       "  L2111.78 397.796 L2091.69 465.697 L2071.61 457.434 L2051.53 473.288 L2031.45 412.659 L2011.37 396.369 L1991.29 354.33 L1971.2 296.858 L1951.12 241.059 L1931.04 286.221 \n",
       "  L1910.96 339.481 L1890.88 275.949 L1870.8 230.496 L1850.71 190.886 L1830.63 211.915 L1810.55 236.342 L1790.47 193.758 L1770.39 211.843 L1750.31 301.606 L1730.22 302.141 \n",
       "  L1710.14 226 L1690.06 164.29 L1669.98 142.699 L1649.9 87.9763 L1629.82 113.828 L1609.73 113.149 L1589.65 131.666 L1569.57 180.647 L1549.49 224.175 L1529.41 358.36 \n",
       "  L1509.33 311.267 L1489.24 276.353 L1469.16 256.585 L1449.08 230.358 L1429 259.064 L1408.92 272.607 L1388.84 298.997 L1368.75 201.323 L1348.67 259.878 L1328.59 221.574 \n",
       "  L1308.51 257.332 L1288.43 280.421 L1268.35 293.622 L1248.26 282.181 L1228.18 198.495 L1208.1 310.704 L1188.02 303.426 L1167.94 303.285 L1147.86 326.589 L1127.77 377.587 \n",
       "  L1107.69 380.054 L1087.61 448.326 L1067.53 376.711 L1047.45 301.37 L1027.37 317.932 L1007.28 222.555 L987.202 265.728 L967.12 176.664 L947.038 225.399 L926.957 249.86 \n",
       "  L906.875 231.422 L886.793 293.752 L866.712 317.279 L846.63 363.148 L826.548 322.23 L806.467 387.687 L786.385 332.199 L766.303 394.653 L746.222 363.46 L726.14 361.536 \n",
       "  L706.058 374.495 L685.977 312.774 L665.895 290.762 L645.813 318.334 L625.731 407.433 L605.65 361.796 L585.568 368.848 L565.486 296.287 L545.405 306.794 L525.323 378.345 \n",
       "  L505.241 397.461 L485.16 388.277 L465.078 389.698 L444.996 399.455 L424.915 395.903 L404.833 391.586 L384.751 388.335 L364.67 384.952 L344.588 376.597 L324.506 438.476 \n",
       "  L304.425 405.92 L284.343 368.655  Z\n",
       "  \" fill=\"#009af9\" fill-rule=\"evenodd\" fill-opacity=\"0.2\"/>\n",
       "<polyline clip-path=\"url(#clip672)\" style=\"stroke:#009af9; stroke-linecap:butt; stroke-linejoin:round; stroke-width:12; stroke-opacity:1; fill:none\" points=\"\n",
       "  284.343,768.386 304.425,762.34 324.506,723.033 344.588,715.152 364.67,730.649 384.751,738.008 404.833,727.114 424.915,723.901 444.996,705.18 465.078,703.038 \n",
       "  485.16,691.258 505.241,696.632 525.323,721.461 545.405,724.487 565.486,731.921 585.568,753.828 605.65,750.931 625.731,773.728 645.813,787.51 665.895,789.873 \n",
       "  685.977,793.815 706.058,772.489 726.14,735.181 746.222,786.334 766.303,835.398 786.385,768.72 806.467,758.515 826.548,741.671 846.63,757.589 866.712,720.628 \n",
       "  886.793,723.119 906.875,704.263 926.957,738.956 947.038,726.365 967.12,697.526 987.202,720.538 1007.28,719.561 1027.37,700.725 1047.45,697.244 1067.53,692.975 \n",
       "  1087.61,743.771 1107.69,743.974 1127.77,748.083 1147.86,725.94 1167.94,764.501 1188.02,739.354 1208.1,723.467 1228.18,739.39 1248.26,733.423 1268.35,707.399 \n",
       "  1288.43,671.238 1308.51,700.251 1328.59,713.86 1348.67,695.726 1368.75,679.01 1388.84,662.206 1408.92,661.147 1429,687.035 1449.08,682.718 1469.16,719.68 \n",
       "  1489.24,724.481 1509.33,736.56 1529.41,746.114 1549.49,796.88 1569.57,767.689 1589.65,758.823 1609.73,730.204 1629.82,753.466 1649.9,699.389 1669.98,708.785 \n",
       "  1690.06,748.674 1710.14,691.937 1730.22,673.098 1750.31,700.905 1770.39,716.69 1790.47,687.317 1810.55,699.717 1830.63,726.778 1850.71,732.768 1870.8,719.358 \n",
       "  1890.88,765.228 1910.96,749.962 1931.04,721.737 1951.12,701.635 1971.2,745.986 1991.29,731.759 2011.37,743.299 2031.45,702.295 2051.53,746.061 2071.61,757.809 \n",
       "  2091.69,723.544 2111.78,706.743 2131.86,737.028 2151.94,751.003 2172.02,772.504 2192.1,787.869 2212.18,773.733 2232.27,764.27 2252.35,758.104 2272.43,734.288 \n",
       "  2292.51,736.272 \n",
       "  \"/>\n",
       "<path clip-path=\"url(#clip672)\" d=\"\n",
       "M284.343 731.796 L304.425 726.846 L324.506 727.453 L344.588 730.551 L364.67 735.389 L384.751 733.584 L404.833 730.832 L424.915 727.406 L444.996 726.239 L465.078 728.754 \n",
       "  L485.16 732.615 L505.241 727.641 L525.323 727.686 L545.405 735.095 L565.486 734.009 L585.568 726.388 L605.65 733.321 L625.731 729.219 L645.813 732.27 L665.895 728.647 \n",
       "  L685.977 727.082 L706.058 726.251 L726.14 739.765 L746.222 730.626 L766.303 726.748 L786.385 735.864 L806.467 726.356 L826.548 731.818 L846.63 731.338 L866.712 728.172 \n",
       "  L886.793 725.774 L906.875 728.7 L926.957 737.705 L947.038 731.665 L967.12 733.206 L987.202 730.31 L1007.28 732.367 L1027.37 734.233 L1047.45 740.593 L1067.53 729.571 \n",
       "  L1087.61 726.709 L1107.69 726.605 L1127.77 732.989 L1147.86 732.103 L1167.94 731.661 L1188.02 729.721 L1208.1 728.382 L1228.18 733.157 L1248.26 729.776 L1268.35 736.485 \n",
       "  L1288.43 732.063 L1308.51 732.822 L1328.59 736.001 L1348.67 728.121 L1368.75 726.224 L1388.84 727.989 L1408.92 728.09 L1429 731.81 L1449.08 727.293 L1469.16 733.173 \n",
       "  L1489.24 725.289 L1509.33 734.368 L1529.41 728.567 L1549.49 725.18 L1569.57 734.527 L1589.65 730.26 L1609.73 731.731 L1629.82 727.184 L1649.9 735.57 L1669.98 726.372 \n",
       "  L1690.06 726.536 L1710.14 728.575 L1730.22 732.743 L1750.31 735.941 L1770.39 727.048 L1790.47 733.15 L1810.55 727.508 L1830.63 729.516 L1850.71 731.429 L1870.8 733.277 \n",
       "  L1890.88 726.616 L1910.96 729.46 L1931.04 732.013 L1951.12 730.895 L1971.2 729.194 L1991.29 725.77 L2011.37 724.672 L2031.45 732.976 L2051.53 733.727 L2071.61 739.74 \n",
       "  L2091.69 726.936 L2111.78 730.821 L2131.86 729.402 L2151.94 732.665 L2172.02 724.173 L2192.1 722.861 L2212.18 732.091 L2232.27 724.76 L2252.35 733.506 L2272.43 731.284 \n",
       "  L2292.51 732.118 L2292.51 696.166 L2272.43 694.227 L2252.35 696.98 L2232.27 701.512 L2212.18 695.761 L2192.1 697.136 L2172.02 698.681 L2151.94 699.213 L2131.86 699.726 \n",
       "  L2111.78 697.084 L2091.69 695.785 L2071.61 696.224 L2051.53 698.953 L2031.45 693.412 L2011.37 698.442 L1991.29 689.809 L1971.2 694.167 L1951.12 701.993 L1931.04 698.58 \n",
       "  L1910.96 696.921 L1890.88 693.365 L1870.8 702.774 L1850.71 698.159 L1830.63 697.325 L1810.55 695.19 L1790.47 699.977 L1770.39 702.781 L1750.31 694.175 L1730.22 694.7 \n",
       "  L1710.14 699.778 L1690.06 693.761 L1669.98 692.635 L1649.9 695.87 L1629.82 693.01 L1609.73 694.641 L1589.65 697.306 L1569.57 697.064 L1549.49 696.28 L1529.41 698.384 \n",
       "  L1509.33 696.296 L1489.24 702.306 L1469.16 697.165 L1449.08 696.29 L1429 697.039 L1408.92 697.131 L1388.84 698.055 L1368.75 695.355 L1348.67 692.053 L1328.59 695.656 \n",
       "  L1308.51 695.632 L1288.43 696.601 L1268.35 691.919 L1248.26 701.713 L1228.18 693.13 L1208.1 694.989 L1188.02 697.773 L1167.94 694.318 L1147.86 691.555 L1127.77 695.031 \n",
       "  L1107.69 695.817 L1087.61 692.881 L1067.53 703.804 L1047.45 697.369 L1027.37 699.388 L1007.28 696.653 L987.202 690.713 L967.12 691.246 L947.038 695.313 L926.957 694.856 \n",
       "  L906.875 696.367 L886.793 690.49 L866.712 688.381 L846.63 698.879 L826.548 690.555 L806.467 694.798 L786.385 698.406 L766.303 689.731 L746.222 692.797 L726.14 699.81 \n",
       "  L706.058 693.824 L685.977 701.145 L665.895 701.519 L645.813 696.999 L625.731 701.318 L605.65 697.553 L585.568 700.87 L565.486 700.209 L545.405 696.61 L525.323 694.645 \n",
       "  L505.241 697.527 L485.16 702.87 L465.078 699.26 L444.996 694.468 L424.915 697.256 L404.833 696.644 L384.751 692.877 L364.67 690.172 L344.588 696.541 L324.506 697.359 \n",
       "  L304.425 696.462 L284.343 699.902  Z\n",
       "  \" fill=\"#e26f46\" fill-rule=\"evenodd\" fill-opacity=\"0.2\"/>\n",
       "<polyline clip-path=\"url(#clip672)\" style=\"stroke:#e26f46; stroke-linecap:butt; stroke-linejoin:round; stroke-width:12; stroke-opacity:1; fill:none\" points=\"\n",
       "  284.343,716.069 304.425,711.12 324.506,710.573 344.588,711.931 364.67,710.583 384.751,714.299 404.833,715.612 424.915,710.644 444.996,708.311 465.078,712.172 \n",
       "  485.16,716.233 505.241,716.541 525.323,716.467 545.405,715.429 565.486,716.428 585.568,712.904 605.65,714.07 625.731,717.354 645.813,713.131 665.895,715.158 \n",
       "  685.977,711.594 706.058,712.223 726.14,716.078 746.222,717.647 766.303,714.041 786.385,712.053 806.467,708.557 826.548,713.734 846.63,711.929 866.712,711.49 \n",
       "  886.793,710.824 906.875,713.227 926.957,716.25 947.038,713.629 967.12,716.19 987.202,714.624 1007.28,711.902 1027.37,712.663 1047.45,714.284 1067.53,717.564 \n",
       "  1087.61,713.72 1107.69,711.605 1127.77,710.31 1147.86,714.296 1167.94,712.527 1188.02,717.178 1208.1,714.378 1228.18,711.557 1248.26,712.124 1268.35,716.059 \n",
       "  1288.43,716.254 1308.51,715.617 1328.59,713.478 1348.67,709.663 1368.75,712.834 1388.84,710.86 1408.92,711.492 1429,710.989 1449.08,715.893 1469.16,714.1 \n",
       "  1489.24,716.706 1509.33,713.006 1529.41,713.815 1549.49,710.054 1569.57,712.595 1589.65,710.874 1609.73,713.895 1629.82,709.673 1649.9,712.728 1669.98,711.468 \n",
       "  1690.06,713.163 1710.14,714.171 1730.22,716.087 1750.31,715.631 1770.39,714.671 1790.47,714.928 1810.55,714.417 1830.63,714.11 1850.71,715.233 1870.8,715.232 \n",
       "  1890.88,712.557 1910.96,714.703 1931.04,714.324 1951.12,715.373 1971.2,716.289 1991.29,711.193 2011.37,713.868 2031.45,716.497 2051.53,715.867 2071.61,714.037 \n",
       "  2091.69,712.803 2111.78,715.377 2131.86,715.988 2151.94,711.644 2172.02,715.881 2192.1,711.334 2212.18,712.128 2232.27,713.023 2252.35,711.172 2272.43,713.699 \n",
       "  2292.51,715.681 \n",
       "  \"/>\n",
       "</svg>\n"
      ]
     },
     "execution_count": 27,
     "metadata": {},
     "output_type": "execute_result"
    }
   ],
   "source": [
    "plot(summ, fillalpha= 0.2) # plots by default show the median and quantiles of both variables.  Modifying transparency as an example"
   ]
  },
  {
   "cell_type": "markdown",
   "metadata": {},
   "source": [
    "## Calculate sequence of observables\n",
    "We can use the underlying state-space model to easily simulate states and observables"
   ]
  },
  {
   "cell_type": "code",
   "execution_count": 28,
   "metadata": {},
   "outputs": [
    {
     "data": {
      "text/plain": [
       "2×21 Matrix{Float64}:\n",
       " -0.00761415   0.00764892   0.00658969  …  -0.011071  -0.0370164  -0.062625\n",
       " -0.129105    -0.0691659   -0.0515792      -0.149887  -0.241369   -0.434851"
      ]
     },
     "execution_count": 28,
     "metadata": {},
     "output_type": "execute_result"
    }
   ],
   "source": [
    "# Simulate T observations\n",
    "T = 20\n",
    "\n",
    "p_f = (ρ = 0.2, δ = 0.02, σ = 0.01, Ω_1 = 0.01) # Fixed parameters\n",
    "p_d = (α = 0.5, β = 0.95) # Pseudo-true values\n",
    "sol = generate_perturbation(model_rbc, p_d, p_f) # Solution to the first-order RBC\n",
    "\n",
    "x_iv = MvNormal(sol.x_ergodic_var) # draw initial conditions from the ergodic distribution\n",
    "problem = LinearStateSpaceProblem(sol, x_iv, (0, T))\n",
    "sim = solve(problem, DirectIteration())\n",
    "ϵ = sim.W # store the underlying noise in the simulation\n",
    "\n",
    "# Collapse to simulated observables as a matrix  - as required by current DifferenceEquations.jl likelihood\n",
    "# see https://github.com/SciML/DifferenceEquations.jl/issues/55 for direct support of this datastructure\n",
    "z_rbc = hcat(sim.z...) "
   ]
  },
  {
   "cell_type": "markdown",
   "metadata": {},
   "source": [
    "# Bayesian estimation with Turing \n",
    "The combination of this package and DifferenceEquations enables gradient-based estimation methods such as NUTS/HMC.  We will show this with Julia's Turing package, which provides a probabalistic programming lanuage (PPL) in the same spirit as Stan.\n",
    "\n",
    "For gradients, we use the Zygote.jl reverse-mode auto-differentiation package, which is compatible with both DSSM and DifferenceEquations.\n",
    "\n",
    "We will consider two likelihoods:  a Kalman-Filter where we marginalize out the latent dimensions for linear-gaussian problems, and a joint distribution between the latents and the deep parameters.  In both cases, gradients of the underlying likelihoods are provided by the packages."
   ]
  },
  {
   "cell_type": "code",
   "execution_count": 29,
   "metadata": {},
   "outputs": [],
   "source": [
    "using Turing\n",
    "using Turing: @addlogprob!\n",
    "Turing.setadbackend(:zygote);  # Especially when we sample the latent noise, we will require high-dimensional gradients with reverse-mode AD"
   ]
  },
  {
   "cell_type": "markdown",
   "metadata": {},
   "source": [
    "## First-order, marginal likelihood approach\n",
    "This case samples the deep parameters, calculates the state-space model from the first-order perturbation, then evaluates the likelihood using a Kalman Filter."
   ]
  },
  {
   "cell_type": "code",
   "execution_count": 31,
   "metadata": {},
   "outputs": [
    {
     "name": "stdout",
     "output_type": "stream",
     "text": [
      "Sampling.  Ignore any 'rejected due to numerical errors' warnings\n"
     ]
    },
    {
     "name": "stderr",
     "output_type": "stream",
     "text": [
      "┌ Warning: The current proposal will be rejected due to numerical error(s).\n",
      "│   isfinite.((θ, r, ℓπ, ℓκ)) = (true, true, false, true)\n",
      "└ @ AdvancedHMC C:\\Users\\jesse\\.julia\\packages\\AdvancedHMC\\51xgc\\src\\hamiltonian.jl:47\n",
      "┌ Warning: The current proposal will be rejected due to numerical error(s).\n",
      "│   isfinite.((θ, r, ℓπ, ℓκ)) = (true, true, false, true)\n",
      "└ @ AdvancedHMC C:\\Users\\jesse\\.julia\\packages\\AdvancedHMC\\51xgc\\src\\hamiltonian.jl:47\n",
      "┌ Info: Found initial step size\n",
      "│   ϵ = 0.2\n",
      "└ @ Turing.Inference C:\\Users\\jesse\\.julia\\packages\\Turing\\S4Y4B\\src\\inference\\hmc.jl:188\n",
      "┌ Warning: The current proposal will be rejected due to numerical error(s).\n",
      "│   isfinite.((θ, r, ℓπ, ℓκ)) = (true, false, false, false)\n",
      "└ @ AdvancedHMC C:\\Users\\jesse\\.julia\\packages\\AdvancedHMC\\51xgc\\src\\hamiltonian.jl:47\n",
      "┌ Warning: The current proposal will be rejected due to numerical error(s).\n",
      "│   isfinite.((θ, r, ℓπ, ℓκ)) = (true, true, false, true)\n",
      "└ @ AdvancedHMC C:\\Users\\jesse\\.julia\\packages\\AdvancedHMC\\51xgc\\src\\hamiltonian.jl:47\n",
      "\u001b[32mSampling:   9%|████                                     |  ETA: 0:00:13\u001b[39m┌ Warning: The current proposal will be rejected due to numerical error(s).\n",
      "│   isfinite.((θ, r, ℓπ, ℓκ)) = (true, true, false, true)\n",
      "└ @ AdvancedHMC C:\\Users\\jesse\\.julia\\packages\\AdvancedHMC\\51xgc\\src\\hamiltonian.jl:47\n",
      "\u001b[32mSampling:  10%|████                                     |  ETA: 0:00:13\u001b[39m┌ Warning: The current proposal will be rejected due to numerical error(s).\n",
      "│   isfinite.((θ, r, ℓπ, ℓκ)) = (true, true, false, true)\n",
      "└ @ AdvancedHMC C:\\Users\\jesse\\.julia\\packages\\AdvancedHMC\\51xgc\\src\\hamiltonian.jl:47\n",
      "\u001b[32mSampling:  15%|███████                                  |  ETA: 0:00:11\u001b[39m┌ Warning: The current proposal will be rejected due to numerical error(s).\n",
      "│   isfinite.((θ, r, ℓπ, ℓκ)) = (true, true, false, true)\n",
      "└ @ AdvancedHMC C:\\Users\\jesse\\.julia\\packages\\AdvancedHMC\\51xgc\\src\\hamiltonian.jl:47\n",
      "\u001b[32mSampling:  19%|████████                                 |  ETA: 0:00:10\u001b[39m┌ Warning: The current proposal will be rejected due to numerical error(s).\n",
      "│   isfinite.((θ, r, ℓπ, ℓκ)) = (true, true, false, true)\n",
      "└ @ AdvancedHMC C:\\Users\\jesse\\.julia\\packages\\AdvancedHMC\\51xgc\\src\\hamiltonian.jl:47\n",
      "\u001b[32mSampling: 100%|█████████████████████████████████████████| Time: 0:00:10\u001b[39m\n"
     ]
    },
    {
     "data": {
      "text/plain": [
       "Chains MCMC chain (1000×14×1 Array{Float64, 3}):\n",
       "\n",
       "Iterations        = 251:1:1250\n",
       "Number of chains  = 1\n",
       "Samples per chain = 1000\n",
       "Wall duration     = 46.0 seconds\n",
       "Compute duration  = 46.0 seconds\n",
       "parameters        = α, β\n",
       "internals         = lp, n_steps, is_accept, acceptance_rate, log_density, hamiltonian_energy, hamiltonian_energy_error, max_hamiltonian_energy_error, tree_depth, numerical_error, step_size, nom_step_size\n",
       "\n",
       "Summary Statistics\n",
       " \u001b[1m parameters \u001b[0m \u001b[1m    mean \u001b[0m \u001b[1m     std \u001b[0m \u001b[1m naive_se \u001b[0m \u001b[1m    mcse \u001b[0m \u001b[1m      ess \u001b[0m \u001b[1m    rhat \u001b[0m \u001b[1m e\u001b[0m ⋯\n",
       " \u001b[90m     Symbol \u001b[0m \u001b[90m Float64 \u001b[0m \u001b[90m Float64 \u001b[0m \u001b[90m  Float64 \u001b[0m \u001b[90m Float64 \u001b[0m \u001b[90m  Float64 \u001b[0m \u001b[90m Float64 \u001b[0m \u001b[90m  \u001b[0m ⋯\n",
       "\n",
       "           α    0.5098    0.0220     0.0007    0.0015   238.3857    0.9992     ⋯\n",
       "           β    0.9513    0.0084     0.0003    0.0006   227.9804    1.0002     ⋯\n",
       "\u001b[36m                                                                1 column omitted\u001b[0m\n",
       "\n",
       "Quantiles\n",
       " \u001b[1m parameters \u001b[0m \u001b[1m    2.5% \u001b[0m \u001b[1m   25.0% \u001b[0m \u001b[1m   50.0% \u001b[0m \u001b[1m   75.0% \u001b[0m \u001b[1m   97.5% \u001b[0m\n",
       " \u001b[90m     Symbol \u001b[0m \u001b[90m Float64 \u001b[0m \u001b[90m Float64 \u001b[0m \u001b[90m Float64 \u001b[0m \u001b[90m Float64 \u001b[0m \u001b[90m Float64 \u001b[0m\n",
       "\n",
       "           α    0.4643    0.4959    0.5109    0.5246    0.5528\n",
       "           β    0.9338    0.9457    0.9516    0.9568    0.9678\n"
      ]
     },
     "execution_count": 31,
     "metadata": {},
     "output_type": "execute_result"
    }
   ],
   "source": [
    "# Turing model definition\n",
    "@model function rbc_kalman(z, m, p_f, settings)\n",
    "    α ~ Uniform(0.2, 0.8)  # priors\n",
    "    β ~ Uniform(0.5, 0.99) \n",
    "    p_d = (; α, β)\n",
    "    T = size(z, 2)\n",
    "    # also passes in the p_f for fixed values\n",
    "    sol = generate_perturbation(m, p_d, p_f, Val(1); settings) # first-order perturbation\n",
    "    if !(sol.retcode == :Success) # if the perturbation failed, we want to return -infinity for the likelihood and resample\n",
    "        @addlogprob! -Inf\n",
    "        return\n",
    "    end\n",
    "    problem = LinearStateSpaceProblem(sol, zeros(2), (0, T), observables = z) # utility constructs a LinearStateSpaceProblem from the sol.A, sol.B, etc.\n",
    "    @addlogprob! solve(problem, KalmanFilter()).logpdf # Linear-Gaussian so can marginalize with kalman filter.  It should automatically choose the KalmanFilter in this case if not provided.\n",
    "end\n",
    "cache = SolverCache(model_rbc, Val(1),  [:α, :β])\n",
    "settings = PerturbationSolverSettings(; print_level = 0)\n",
    "p_f = (ρ = 0.2, δ = 0.02, σ = 0.01, Ω_1 = 0.01) # Fixed parameters\n",
    "z = z_rbc # simulated in previous steps\n",
    "turing_model = rbc_kalman(z, model_rbc, p_f, settings) # passing observables from before \n",
    "\n",
    "n_samples = 1000\n",
    "n_adapts = 250\n",
    "δ = 0.65\n",
    "alg = NUTS(n_adapts,δ)\n",
    "println(\"Sampling.  Ignore any 'rejected due to numerical errors' warnings\")  # At this point, Turing can't turn off those warnings\n",
    "chain_1_marginal = sample(turing_model, alg, n_samples; progress = true)"
   ]
  },
  {
   "cell_type": "markdown",
   "metadata": {},
   "source": [
    "## First-order, joint likelihood approach\n",
    "The second case instead draws all of the latents and evaluates the joint likelihood of all.  This is slower than the the marginal case of a kalman filter in cases where everything is linear-gaussian, but it enables non-gaussian shocks and more flexility.  This approach is used for the 2nd order perturbations in the next case instead of marginalizing with a particle filter.\n",
    "\n",
    "It is possible that the joint likelihood becomes more competitive with the kalman filter for large models, but for now consider this a demonstration that sampling the high-dimensional latent variables gives the correct answer and is not unusable slow."
   ]
  },
  {
   "cell_type": "code",
   "execution_count": 32,
   "metadata": {},
   "outputs": [
    {
     "name": "stderr",
     "output_type": "stream",
     "text": [
      "┌ Info: Found initial step size\n",
      "│   ϵ = 0.025\n",
      "└ @ Turing.Inference C:\\Users\\jesse\\.julia\\packages\\Turing\\S4Y4B\\src\\inference\\hmc.jl:188\n",
      "┌ Warning: The current proposal will be rejected due to numerical error(s).\n",
      "│   isfinite.((θ, r, ℓπ, ℓκ)) = (true, true, false, true)\n",
      "└ @ AdvancedHMC C:\\Users\\jesse\\.julia\\packages\\AdvancedHMC\\51xgc\\src\\hamiltonian.jl:47\n",
      "\u001b[32mSampling: 100%|█████████████████████████████████████████| Time: 0:01:30\u001b[39m\n"
     ]
    },
    {
     "data": {
      "text/plain": [
       "Chains MCMC chain (300×35×1 Array{Float64, 3}):\n",
       "\n",
       "Iterations        = 51:1:350\n",
       "Number of chains  = 1\n",
       "Samples per chain = 300\n",
       "Wall duration     = 125.37 seconds\n",
       "Compute duration  = 125.37 seconds\n",
       "parameters        = α, β, ϵ_draw[1], ϵ_draw[2], ϵ_draw[3], ϵ_draw[4], ϵ_draw[5], ϵ_draw[6], ϵ_draw[7], ϵ_draw[8], ϵ_draw[9], ϵ_draw[10], ϵ_draw[11], ϵ_draw[12], ϵ_draw[13], ϵ_draw[14], ϵ_draw[15], ϵ_draw[16], ϵ_draw[17], ϵ_draw[18], ϵ_draw[19], ϵ_draw[20], ϵ_draw[21]\n",
       "internals         = lp, n_steps, is_accept, acceptance_rate, log_density, hamiltonian_energy, hamiltonian_energy_error, max_hamiltonian_energy_error, tree_depth, numerical_error, step_size, nom_step_size\n",
       "\n",
       "Summary Statistics\n",
       " \u001b[1m parameters \u001b[0m \u001b[1m    mean \u001b[0m \u001b[1m     std \u001b[0m \u001b[1m naive_se \u001b[0m \u001b[1m    mcse \u001b[0m \u001b[1m      ess \u001b[0m \u001b[1m    rhat \u001b[0m \u001b[1m e\u001b[0m ⋯\n",
       " \u001b[90m     Symbol \u001b[0m \u001b[90m Float64 \u001b[0m \u001b[90m Float64 \u001b[0m \u001b[90m  Float64 \u001b[0m \u001b[90m Float64 \u001b[0m \u001b[90m  Float64 \u001b[0m \u001b[90m Float64 \u001b[0m \u001b[90m  \u001b[0m ⋯\n",
       "\n",
       "           α    0.5153    0.0249     0.0014    0.0039    31.4050    0.9977     ⋯\n",
       "           β    0.9504    0.0088     0.0005    0.0007   117.4321    1.0117     ⋯\n",
       "   ϵ_draw[1]    0.9219    0.2124     0.0123    0.0287    44.2368    0.9999     ⋯\n",
       "   ϵ_draw[2]   -0.3641    0.2047     0.0118    0.0179   141.3178    1.0054     ⋯\n",
       "   ϵ_draw[3]    0.0025    0.2116     0.0122    0.0104   331.6356    0.9994     ⋯\n",
       "   ϵ_draw[4]   -0.7354    0.2581     0.0149    0.0264    89.7229    1.0089     ⋯\n",
       "   ϵ_draw[5]    0.6423    0.2469     0.0143    0.0231   109.0794    1.0093     ⋯\n",
       "   ϵ_draw[6]    0.0188    0.2030     0.0117    0.0082   439.1904    0.9971     ⋯\n",
       "   ϵ_draw[7]   -1.3599    0.3153     0.0182    0.0424    39.9433    1.0098     ⋯\n",
       "   ϵ_draw[8]   -0.3138    0.2304     0.0133    0.0132   291.8726    1.0029     ⋯\n",
       "   ϵ_draw[9]    0.0065    0.2132     0.0123    0.0112   312.0852    0.9979     ⋯\n",
       "  ϵ_draw[10]    2.0464    0.4139     0.0239    0.0614    36.2416    1.0142     ⋯\n",
       "  ϵ_draw[11]    0.9161    0.2975     0.0172    0.0301    76.3138    1.0022     ⋯\n",
       "  ϵ_draw[12]   -0.2228    0.2300     0.0133    0.0135   293.2971    0.9997     ⋯\n",
       "  ϵ_draw[13]   -0.7362    0.2424     0.0140    0.0230   164.8524    0.9995     ⋯\n",
       "  ϵ_draw[14]    0.0577    0.2053     0.0119    0.0100   428.1810    0.9969     ⋯\n",
       "  ϵ_draw[15]   -0.4024    0.2120     0.0122    0.0154   237.7210    0.9967     ⋯\n",
       "  ϵ_draw[16]    0.6394    0.2627     0.0152    0.0233   130.7794    0.9967     ⋯\n",
       "  ϵ_draw[17]    0.7000    0.2435     0.0141    0.0230    89.7369    1.0165     ⋯\n",
       "  ϵ_draw[18]    0.2096    0.2082     0.0120    0.0144   220.6416    1.0089     ⋯\n",
       "  ϵ_draw[19]    1.2490    0.3063     0.0177    0.0431    34.1785    1.0393     ⋯\n",
       "  ϵ_draw[20]    2.4941    0.4898     0.0283    0.0714    35.9545    1.0147     ⋯\n",
       "  ϵ_draw[21]    0.8247    0.9137     0.0528    0.1510    40.4617    1.0304     ⋯\n",
       "\u001b[36m                                                                1 column omitted\u001b[0m\n",
       "\n",
       "Quantiles\n",
       " \u001b[1m parameters \u001b[0m \u001b[1m    2.5% \u001b[0m \u001b[1m   25.0% \u001b[0m \u001b[1m   50.0% \u001b[0m \u001b[1m   75.0% \u001b[0m \u001b[1m   97.5% \u001b[0m\n",
       " \u001b[90m     Symbol \u001b[0m \u001b[90m Float64 \u001b[0m \u001b[90m Float64 \u001b[0m \u001b[90m Float64 \u001b[0m \u001b[90m Float64 \u001b[0m \u001b[90m Float64 \u001b[0m\n",
       "\n",
       "           α    0.4697    0.4996    0.5147    0.5305    0.5725\n",
       "           β    0.9312    0.9449    0.9504    0.9566    0.9662\n",
       "   ϵ_draw[1]    0.5068    0.7877    0.9215    1.0516    1.3016\n",
       "   ϵ_draw[2]   -0.7881   -0.5046   -0.3546   -0.2204    0.0242\n",
       "   ϵ_draw[3]   -0.3981   -0.1542    0.0089    0.1499    0.3952\n",
       "   ϵ_draw[4]   -1.2765   -0.8912   -0.7210   -0.5684   -0.2790\n",
       "   ϵ_draw[5]    0.2354    0.4684    0.6187    0.8135    1.1307\n",
       "   ϵ_draw[6]   -0.3762   -0.1233    0.0215    0.1558    0.4144\n",
       "   ϵ_draw[7]   -2.0626   -1.5868   -1.3395   -1.1422   -0.7937\n",
       "   ϵ_draw[8]   -0.8519   -0.4438   -0.2975   -0.1678    0.0828\n",
       "   ϵ_draw[9]   -0.3982   -0.1272    0.0141    0.1322    0.4442\n",
       "  ϵ_draw[10]    1.3303    1.7564    2.0318    2.3183    2.8786\n",
       "  ϵ_draw[11]    0.4124    0.7137    0.9015    1.1021    1.5816\n",
       "  ϵ_draw[12]   -0.7248   -0.3676   -0.2206   -0.0527    0.1924\n",
       "  ϵ_draw[13]   -1.2537   -0.9008   -0.7035   -0.5582   -0.2890\n",
       "  ϵ_draw[14]   -0.3293   -0.0832    0.0453    0.2055    0.4710\n",
       "  ϵ_draw[15]   -0.8489   -0.5451   -0.3926   -0.2510   -0.0164\n",
       "  ϵ_draw[16]    0.1761    0.4538    0.6363    0.7882    1.1892\n",
       "  ϵ_draw[17]    0.3037    0.5156    0.6700    0.8444    1.2251\n",
       "  ϵ_draw[18]   -0.1832    0.0792    0.1958    0.3462    0.6330\n",
       "  ϵ_draw[19]    0.6972    1.0375    1.2211    1.4415    1.8616\n",
       "  ϵ_draw[20]    1.5812    2.1391    2.4965    2.7798    3.5130\n",
       "  ϵ_draw[21]   -0.7847    0.2108    0.7656    1.4079    2.9042\n"
      ]
     },
     "execution_count": 32,
     "metadata": {},
     "output_type": "execute_result"
    }
   ],
   "source": [
    "# Turing model definition\n",
    "@model function rbc_1_joint(z, m, p_f, cache, settings)\n",
    "    α ~ Uniform(0.2, 0.8)\n",
    "    β ~ Uniform(0.5, 0.99)\n",
    "    p_d = (; α, β)\n",
    "    T = size(z, 2)\n",
    "    ϵ_draw ~ MvNormal(m.n_ϵ * T, 1.0)\n",
    "    ϵ = reshape(ϵ_draw, m.n_ϵ, T)\n",
    "    sol = generate_perturbation(m, p_d, p_f, Val(1); cache, settings)\n",
    "    if !(sol.retcode == :Success)\n",
    "        @addlogprob! -Inf\n",
    "        return\n",
    "    end\n",
    "    problem = LinearStateSpaceProblem(sol, zeros(2), (0, T), observables = z, noise=ϵ)\n",
    "    @addlogprob! solve(problem, DirectIteration()).logpdf # should choose DirectIteration() by default if not provided\n",
    "end\n",
    "cache = SolverCache(model_rbc, Val(1),  [:α, :β])\n",
    "settings = PerturbationSolverSettings(; print_level = 0)\n",
    "p_f = (ρ = 0.2, δ = 0.02, σ = 0.01, Ω_1 = 0.01) # Fixed parameters\n",
    "z = z_rbc # simulated in previous steps\n",
    "turing_model = rbc_1_joint(z, model_rbc, p_f, cache, settings) # passing observables from before \n",
    "\n",
    "n_samples = 300\n",
    "n_adapts = 50\n",
    "δ = 0.65\n",
    "alg = NUTS(n_adapts,δ)\n",
    "chain_1_joint = sample(turing_model, alg, n_samples; progress = true)"
   ]
  },
  {
   "cell_type": "markdown",
   "metadata": {},
   "source": [
    "## Second-order, joint likelihood approach\n",
    "Finally, this calculates a second order perturbation and then samples the latents and deep parameters.  Of course, the Kalman Filter would not provide the correct likelihood so the proper comparison is something like a particle filter."
   ]
  },
  {
   "cell_type": "code",
   "execution_count": 33,
   "metadata": {},
   "outputs": [
    {
     "name": "stderr",
     "output_type": "stream",
     "text": [
      "┌ Info: Found initial step size\n",
      "│   ϵ = 0.01171875\n",
      "└ @ Turing.Inference C:\\Users\\jesse\\.julia\\packages\\Turing\\S4Y4B\\src\\inference\\hmc.jl:188\n",
      "\u001b[32mSampling: 100%|█████████████████████████████████████████| Time: 0:01:21\u001b[39m\n"
     ]
    },
    {
     "data": {
      "text/plain": [
       "Chains MCMC chain (300×35×1 Array{Float64, 3}):\n",
       "\n",
       "Iterations        = 51:1:350\n",
       "Number of chains  = 1\n",
       "Samples per chain = 300\n",
       "Wall duration     = 108.52 seconds\n",
       "Compute duration  = 108.52 seconds\n",
       "parameters        = α, β, ϵ_draw[1], ϵ_draw[2], ϵ_draw[3], ϵ_draw[4], ϵ_draw[5], ϵ_draw[6], ϵ_draw[7], ϵ_draw[8], ϵ_draw[9], ϵ_draw[10], ϵ_draw[11], ϵ_draw[12], ϵ_draw[13], ϵ_draw[14], ϵ_draw[15], ϵ_draw[16], ϵ_draw[17], ϵ_draw[18], ϵ_draw[19], ϵ_draw[20], ϵ_draw[21]\n",
       "internals         = lp, n_steps, is_accept, acceptance_rate, log_density, hamiltonian_energy, hamiltonian_energy_error, max_hamiltonian_energy_error, tree_depth, numerical_error, step_size, nom_step_size\n",
       "\n",
       "Summary Statistics\n",
       " \u001b[1m parameters \u001b[0m \u001b[1m    mean \u001b[0m \u001b[1m     std \u001b[0m \u001b[1m naive_se \u001b[0m \u001b[1m    mcse \u001b[0m \u001b[1m      ess \u001b[0m \u001b[1m    rhat \u001b[0m \u001b[1m e\u001b[0m ⋯\n",
       " \u001b[90m     Symbol \u001b[0m \u001b[90m Float64 \u001b[0m \u001b[90m Float64 \u001b[0m \u001b[90m  Float64 \u001b[0m \u001b[90m Float64 \u001b[0m \u001b[90m  Float64 \u001b[0m \u001b[90m Float64 \u001b[0m \u001b[90m  \u001b[0m ⋯\n",
       "\n",
       "           α    0.5133    0.0255     0.0015    0.0040    41.3111    1.0199     ⋯\n",
       "           β    0.9528    0.0110     0.0006    0.0019    22.7065    1.0477     ⋯\n",
       "   ϵ_draw[1]    0.9023    0.1879     0.0108    0.0219    82.4781    0.9967     ⋯\n",
       "   ϵ_draw[2]   -0.3662    0.2039     0.0118    0.0124   236.4055    0.9974     ⋯\n",
       "   ϵ_draw[3]    0.0247    0.2033     0.0117    0.0107   271.8744    0.9970     ⋯\n",
       "   ϵ_draw[4]   -0.7436    0.2294     0.0132    0.0206   151.4726    1.0010     ⋯\n",
       "   ϵ_draw[5]    0.6520    0.2202     0.0127    0.0202   146.1298    1.0044     ⋯\n",
       "   ϵ_draw[6]   -0.0051    0.2025     0.0117    0.0101   280.2470    0.9994     ⋯\n",
       "   ϵ_draw[7]   -1.3062    0.2810     0.0162    0.0275    94.7226    0.9982     ⋯\n",
       "   ϵ_draw[8]   -0.3047    0.2250     0.0130    0.0149   248.2838    0.9989     ⋯\n",
       "   ϵ_draw[9]    0.0011    0.1956     0.0113    0.0121   278.3493    1.0111     ⋯\n",
       "  ϵ_draw[10]    2.0068    0.3689     0.0213    0.0454    66.8114    1.0038     ⋯\n",
       "  ϵ_draw[11]    0.9233    0.2340     0.0135    0.0195   139.5623    0.9986     ⋯\n",
       "  ϵ_draw[12]   -0.2514    0.1999     0.0115    0.0118   233.1814    1.0083     ⋯\n",
       "  ϵ_draw[13]   -0.7095    0.2327     0.0134    0.0240   109.4596    1.0090     ⋯\n",
       "  ϵ_draw[14]    0.0641    0.2028     0.0117    0.0129   292.0405    1.0023     ⋯\n",
       "  ϵ_draw[15]   -0.4127    0.2025     0.0117    0.0145   186.0550    0.9969     ⋯\n",
       "  ϵ_draw[16]    0.6547    0.2287     0.0132    0.0198   132.2346    1.0004     ⋯\n",
       "  ϵ_draw[17]    0.6463    0.2348     0.0136    0.0188   121.8327    1.0184     ⋯\n",
       "  ϵ_draw[18]    0.2131    0.2066     0.0119    0.0142   228.3391    0.9967     ⋯\n",
       "  ϵ_draw[19]    1.2253    0.2781     0.0161    0.0310    78.7865    0.9969     ⋯\n",
       "  ϵ_draw[20]    2.4540    0.4454     0.0257    0.0545    69.8981    1.0004     ⋯\n",
       "  ϵ_draw[21]    1.0434    0.7823     0.0452    0.1038    47.3477    1.0513     ⋯\n",
       "\u001b[36m                                                                1 column omitted\u001b[0m\n",
       "\n",
       "Quantiles\n",
       " \u001b[1m parameters \u001b[0m \u001b[1m    2.5% \u001b[0m \u001b[1m   25.0% \u001b[0m \u001b[1m   50.0% \u001b[0m \u001b[1m   75.0% \u001b[0m \u001b[1m   97.5% \u001b[0m\n",
       " \u001b[90m     Symbol \u001b[0m \u001b[90m Float64 \u001b[0m \u001b[90m Float64 \u001b[0m \u001b[90m Float64 \u001b[0m \u001b[90m Float64 \u001b[0m \u001b[90m Float64 \u001b[0m\n",
       "\n",
       "           α    0.4521    0.4990    0.5141    0.5274    0.5606\n",
       "           β    0.9359    0.9471    0.9519    0.9569    0.9897\n",
       "   ϵ_draw[1]    0.5963    0.7494    0.8897    1.0326    1.2727\n",
       "   ϵ_draw[2]   -0.7591   -0.5033   -0.3573   -0.2318    0.0565\n",
       "   ϵ_draw[3]   -0.3739   -0.1154    0.0383    0.1468    0.4233\n",
       "   ϵ_draw[4]   -1.2119   -0.8884   -0.7463   -0.5733   -0.3638\n",
       "   ϵ_draw[5]    0.2622    0.4899    0.6463    0.8086    1.1075\n",
       "   ϵ_draw[6]   -0.4364   -0.1312    0.0133    0.1362    0.3703\n",
       "   ϵ_draw[7]   -1.8829   -1.4955   -1.2785   -1.1017   -0.8223\n",
       "   ϵ_draw[8]   -0.7510   -0.4321   -0.3009   -0.1684    0.1412\n",
       "   ϵ_draw[9]   -0.3478   -0.1480    0.0025    0.1324    0.3626\n",
       "  ϵ_draw[10]    1.3463    1.7322    2.0253    2.2480    2.7368\n",
       "  ϵ_draw[11]    0.5300    0.7547    0.9087    1.0525    1.4543\n",
       "  ϵ_draw[12]   -0.6401   -0.3770   -0.2493   -0.1272    0.1030\n",
       "  ϵ_draw[13]   -1.1917   -0.8549   -0.7047   -0.5523   -0.2591\n",
       "  ϵ_draw[14]   -0.3523   -0.0618    0.0511    0.2082    0.4810\n",
       "  ϵ_draw[15]   -0.8458   -0.5357   -0.4217   -0.2735   -0.0142\n",
       "  ϵ_draw[16]    0.2538    0.4940    0.6380    0.8035    1.1457\n",
       "  ϵ_draw[17]    0.2310    0.4710    0.6429    0.7771    1.1853\n",
       "  ϵ_draw[18]   -0.1818    0.0778    0.2059    0.3482    0.6332\n",
       "  ϵ_draw[19]    0.7438    1.0075    1.2126    1.4162    1.8024\n",
       "  ϵ_draw[20]    1.7078    2.0824    2.4521    2.7647    3.3119\n",
       "  ϵ_draw[21]   -0.8009    0.6280    1.0569    1.5342    2.6528\n"
      ]
     },
     "execution_count": 33,
     "metadata": {},
     "output_type": "execute_result"
    }
   ],
   "source": [
    "# Turing model definition\n",
    "@model function rbc_2_joint(z, m, p_f, cache, settings)\n",
    "    α ~ Uniform(0.2, 0.8)\n",
    "    β ~ Uniform(0.5, 0.99)\n",
    "    p_d = (; α, β)\n",
    "    T = size(z, 2)\n",
    "    ϵ_draw ~ MvNormal(m.n_ϵ * T, 1.0) # add noise to the estimation\n",
    "    ϵ = reshape(ϵ_draw, m.n_ϵ, T)\n",
    "    sol = generate_perturbation(m, p_d, p_f, Val(2); cache, settings)\n",
    "    if !(sol.retcode == :Success)\n",
    "        @addlogprob! -Inf\n",
    "        return\n",
    "    end\n",
    "    problem = QuadraticStateSpaceProblem(sol, zeros(2), (0, T), observables = z, noise=ϵ)\n",
    "    @addlogprob! solve(problem, DirectIteration()).logpdf\n",
    "end\n",
    "cache = SolverCache(model_rbc, Val(2),  [:α, :β])\n",
    "settings = PerturbationSolverSettings(; print_level = 0)\n",
    "z = z_rbc # simulated in previous steps\n",
    "p_f = (ρ = 0.2, δ = 0.02, σ = 0.01, Ω_1 = 0.01) # Fixed parameters\n",
    "turing_model = rbc_2_joint(z, model_rbc, p_f, cache, settings) # passing observables from before \n",
    "\n",
    "n_samples = 300\n",
    "n_adapts = 50\n",
    "δ = 0.65\n",
    "alg = NUTS(n_adapts,δ)\n",
    "chain_2_joint = sample(turing_model, alg, n_samples; progress = true)"
   ]
  },
  {
   "cell_type": "markdown",
   "metadata": {},
   "source": [
    "## Plotting the estimated latent states\n",
    "Below is a graph which shows how well the high-dimensional sampled latents do relative to the pseudo-true latent values."
   ]
  },
  {
   "cell_type": "code",
   "execution_count": 34,
   "metadata": {},
   "outputs": [
    {
     "data": {
      "image/svg+xml": [
       "<?xml version=\"1.0\" encoding=\"utf-8\"?>\n",
       "<svg xmlns=\"http://www.w3.org/2000/svg\" xmlns:xlink=\"http://www.w3.org/1999/xlink\" width=\"600\" height=\"400\" viewBox=\"0 0 2400 1600\">\n",
       "<defs>\n",
       "  <clipPath id=\"clip710\">\n",
       "    <rect x=\"0\" y=\"0\" width=\"2400\" height=\"1600\"/>\n",
       "  </clipPath>\n",
       "</defs>\n",
       "<path clip-path=\"url(#clip710)\" d=\"\n",
       "M0 1600 L2400 1600 L2400 0 L0 0  Z\n",
       "  \" fill=\"#ffffff\" fill-rule=\"evenodd\" fill-opacity=\"1\"/>\n",
       "<defs>\n",
       "  <clipPath id=\"clip711\">\n",
       "    <rect x=\"480\" y=\"0\" width=\"1681\" height=\"1600\"/>\n",
       "  </clipPath>\n",
       "</defs>\n",
       "<path clip-path=\"url(#clip710)\" d=\"\n",
       "M147.478 1486.45 L2352.76 1486.45 L2352.76 123.472 L147.478 123.472  Z\n",
       "  \" fill=\"#ffffff\" fill-rule=\"evenodd\" fill-opacity=\"1\"/>\n",
       "<defs>\n",
       "  <clipPath id=\"clip712\">\n",
       "    <rect x=\"147\" y=\"123\" width=\"2206\" height=\"1364\"/>\n",
       "  </clipPath>\n",
       "</defs>\n",
       "<polyline clip-path=\"url(#clip712)\" style=\"stroke:#000000; stroke-linecap:butt; stroke-linejoin:round; stroke-width:2; stroke-opacity:0.1; fill:none\" points=\"\n",
       "  647.881,1486.45 647.881,123.472 \n",
       "  \"/>\n",
       "<polyline clip-path=\"url(#clip712)\" style=\"stroke:#000000; stroke-linecap:butt; stroke-linejoin:round; stroke-width:2; stroke-opacity:0.1; fill:none\" points=\"\n",
       "  1195.37,1486.45 1195.37,123.472 \n",
       "  \"/>\n",
       "<polyline clip-path=\"url(#clip712)\" style=\"stroke:#000000; stroke-linecap:butt; stroke-linejoin:round; stroke-width:2; stroke-opacity:0.1; fill:none\" points=\"\n",
       "  1742.86,1486.45 1742.86,123.472 \n",
       "  \"/>\n",
       "<polyline clip-path=\"url(#clip712)\" style=\"stroke:#000000; stroke-linecap:butt; stroke-linejoin:round; stroke-width:2; stroke-opacity:0.1; fill:none\" points=\"\n",
       "  2290.34,1486.45 2290.34,123.472 \n",
       "  \"/>\n",
       "<polyline clip-path=\"url(#clip710)\" style=\"stroke:#000000; stroke-linecap:butt; stroke-linejoin:round; stroke-width:4; stroke-opacity:1; fill:none\" points=\"\n",
       "  147.478,1486.45 2352.76,1486.45 \n",
       "  \"/>\n",
       "<polyline clip-path=\"url(#clip710)\" style=\"stroke:#000000; stroke-linecap:butt; stroke-linejoin:round; stroke-width:4; stroke-opacity:1; fill:none\" points=\"\n",
       "  647.881,1486.45 647.881,1467.55 \n",
       "  \"/>\n",
       "<polyline clip-path=\"url(#clip710)\" style=\"stroke:#000000; stroke-linecap:butt; stroke-linejoin:round; stroke-width:4; stroke-opacity:1; fill:none\" points=\"\n",
       "  1195.37,1486.45 1195.37,1467.55 \n",
       "  \"/>\n",
       "<polyline clip-path=\"url(#clip710)\" style=\"stroke:#000000; stroke-linecap:butt; stroke-linejoin:round; stroke-width:4; stroke-opacity:1; fill:none\" points=\"\n",
       "  1742.86,1486.45 1742.86,1467.55 \n",
       "  \"/>\n",
       "<polyline clip-path=\"url(#clip710)\" style=\"stroke:#000000; stroke-linecap:butt; stroke-linejoin:round; stroke-width:4; stroke-opacity:1; fill:none\" points=\"\n",
       "  2290.34,1486.45 2290.34,1467.55 \n",
       "  \"/>\n",
       "<path clip-path=\"url(#clip710)\" d=\"M638.159 1514.29 L656.515 1514.29 L656.515 1518.22 L642.441 1518.22 L642.441 1526.7 Q643.46 1526.35 644.478 1526.19 Q645.497 1526 646.515 1526 Q652.302 1526 655.682 1529.17 Q659.062 1532.34 659.062 1537.76 Q659.062 1543.34 655.589 1546.44 Q652.117 1549.52 645.798 1549.52 Q643.622 1549.52 641.353 1549.15 Q639.108 1548.78 636.701 1548.04 L636.701 1543.34 Q638.784 1544.47 641.006 1545.03 Q643.228 1545.58 645.705 1545.58 Q649.71 1545.58 652.048 1543.48 Q654.386 1541.37 654.386 1537.76 Q654.386 1534.15 652.048 1532.04 Q649.71 1529.94 645.705 1529.94 Q643.83 1529.94 641.955 1530.35 Q640.103 1530.77 638.159 1531.65 L638.159 1514.29 Z\" fill=\"#000000\" fill-rule=\"evenodd\" fill-opacity=\"1\" /><path clip-path=\"url(#clip710)\" d=\"M1170.06 1544.91 L1177.69 1544.91 L1177.69 1518.55 L1169.38 1520.21 L1169.38 1515.95 L1177.65 1514.29 L1182.32 1514.29 L1182.32 1544.91 L1189.96 1544.91 L1189.96 1548.85 L1170.06 1548.85 L1170.06 1544.91 Z\" fill=\"#000000\" fill-rule=\"evenodd\" fill-opacity=\"1\" /><path clip-path=\"url(#clip710)\" d=\"M1209.41 1517.37 Q1205.8 1517.37 1203.97 1520.93 Q1202.16 1524.47 1202.16 1531.6 Q1202.16 1538.71 1203.97 1542.27 Q1205.8 1545.82 1209.41 1545.82 Q1213.04 1545.82 1214.85 1542.27 Q1216.68 1538.71 1216.68 1531.6 Q1216.68 1524.47 1214.85 1520.93 Q1213.04 1517.37 1209.41 1517.37 M1209.41 1513.66 Q1215.22 1513.66 1218.27 1518.27 Q1221.35 1522.85 1221.35 1531.6 Q1221.35 1540.33 1218.27 1544.94 Q1215.22 1549.52 1209.41 1549.52 Q1203.6 1549.52 1200.52 1544.94 Q1197.46 1540.33 1197.46 1531.6 Q1197.46 1522.85 1200.52 1518.27 Q1203.6 1513.66 1209.41 1513.66 Z\" fill=\"#000000\" fill-rule=\"evenodd\" fill-opacity=\"1\" /><path clip-path=\"url(#clip710)\" d=\"M1718.04 1544.91 L1725.68 1544.91 L1725.68 1518.55 L1717.37 1520.21 L1717.37 1515.95 L1725.63 1514.29 L1730.31 1514.29 L1730.31 1544.91 L1737.95 1544.91 L1737.95 1548.85 L1718.04 1548.85 L1718.04 1544.91 Z\" fill=\"#000000\" fill-rule=\"evenodd\" fill-opacity=\"1\" /><path clip-path=\"url(#clip710)\" d=\"M1747.44 1514.29 L1765.79 1514.29 L1765.79 1518.22 L1751.72 1518.22 L1751.72 1526.7 Q1752.74 1526.35 1753.76 1526.19 Q1754.78 1526 1755.8 1526 Q1761.58 1526 1764.96 1529.17 Q1768.34 1532.34 1768.34 1537.76 Q1768.34 1543.34 1764.87 1546.44 Q1761.4 1549.52 1755.08 1549.52 Q1752.9 1549.52 1750.63 1549.15 Q1748.39 1548.78 1745.98 1548.04 L1745.98 1543.34 Q1748.06 1544.47 1750.29 1545.03 Q1752.51 1545.58 1754.98 1545.58 Q1758.99 1545.58 1761.33 1543.48 Q1763.67 1541.37 1763.67 1537.76 Q1763.67 1534.15 1761.33 1532.04 Q1758.99 1529.94 1754.98 1529.94 Q1753.11 1529.94 1751.23 1530.35 Q1749.38 1530.77 1747.44 1531.65 L1747.44 1514.29 Z\" fill=\"#000000\" fill-rule=\"evenodd\" fill-opacity=\"1\" /><path clip-path=\"url(#clip710)\" d=\"M2269.12 1544.91 L2285.43 1544.91 L2285.43 1548.85 L2263.49 1548.85 L2263.49 1544.91 Q2266.15 1542.16 2270.74 1537.53 Q2275.34 1532.88 2276.52 1531.53 Q2278.77 1529.01 2279.65 1527.27 Q2280.55 1525.51 2280.55 1523.82 Q2280.55 1521.07 2278.61 1519.33 Q2276.69 1517.6 2273.58 1517.6 Q2271.38 1517.6 2268.93 1518.36 Q2266.5 1519.13 2263.72 1520.68 L2263.72 1515.95 Q2266.55 1514.82 2269 1514.24 Q2271.45 1513.66 2273.49 1513.66 Q2278.86 1513.66 2282.06 1516.35 Q2285.25 1519.03 2285.25 1523.52 Q2285.25 1525.65 2284.44 1527.57 Q2283.65 1529.47 2281.55 1532.07 Q2280.97 1532.74 2277.87 1535.95 Q2274.76 1539.15 2269.12 1544.91 Z\" fill=\"#000000\" fill-rule=\"evenodd\" fill-opacity=\"1\" /><path clip-path=\"url(#clip710)\" d=\"M2305.25 1517.37 Q2301.64 1517.37 2299.81 1520.93 Q2298 1524.47 2298 1531.6 Q2298 1538.71 2299.81 1542.27 Q2301.64 1545.82 2305.25 1545.82 Q2308.88 1545.82 2310.69 1542.27 Q2312.52 1538.71 2312.52 1531.6 Q2312.52 1524.47 2310.69 1520.93 Q2308.88 1517.37 2305.25 1517.37 M2305.25 1513.66 Q2311.06 1513.66 2314.12 1518.27 Q2317.19 1522.85 2317.19 1531.6 Q2317.19 1540.33 2314.12 1544.94 Q2311.06 1549.52 2305.25 1549.52 Q2299.44 1549.52 2296.36 1544.94 Q2293.31 1540.33 2293.31 1531.6 Q2293.31 1522.85 2296.36 1518.27 Q2299.44 1513.66 2305.25 1513.66 Z\" fill=\"#000000\" fill-rule=\"evenodd\" fill-opacity=\"1\" /><polyline clip-path=\"url(#clip712)\" style=\"stroke:#000000; stroke-linecap:butt; stroke-linejoin:round; stroke-width:2; stroke-opacity:0.1; fill:none\" points=\"\n",
       "  147.478,1450.09 2352.76,1450.09 \n",
       "  \"/>\n",
       "<polyline clip-path=\"url(#clip712)\" style=\"stroke:#000000; stroke-linecap:butt; stroke-linejoin:round; stroke-width:2; stroke-opacity:0.1; fill:none\" points=\"\n",
       "  147.478,1214.78 2352.76,1214.78 \n",
       "  \"/>\n",
       "<polyline clip-path=\"url(#clip712)\" style=\"stroke:#000000; stroke-linecap:butt; stroke-linejoin:round; stroke-width:2; stroke-opacity:0.1; fill:none\" points=\"\n",
       "  147.478,979.469 2352.76,979.469 \n",
       "  \"/>\n",
       "<polyline clip-path=\"url(#clip712)\" style=\"stroke:#000000; stroke-linecap:butt; stroke-linejoin:round; stroke-width:2; stroke-opacity:0.1; fill:none\" points=\"\n",
       "  147.478,744.158 2352.76,744.158 \n",
       "  \"/>\n",
       "<polyline clip-path=\"url(#clip712)\" style=\"stroke:#000000; stroke-linecap:butt; stroke-linejoin:round; stroke-width:2; stroke-opacity:0.1; fill:none\" points=\"\n",
       "  147.478,508.847 2352.76,508.847 \n",
       "  \"/>\n",
       "<polyline clip-path=\"url(#clip712)\" style=\"stroke:#000000; stroke-linecap:butt; stroke-linejoin:round; stroke-width:2; stroke-opacity:0.1; fill:none\" points=\"\n",
       "  147.478,273.536 2352.76,273.536 \n",
       "  \"/>\n",
       "<polyline clip-path=\"url(#clip710)\" style=\"stroke:#000000; stroke-linecap:butt; stroke-linejoin:round; stroke-width:4; stroke-opacity:1; fill:none\" points=\"\n",
       "  147.478,1486.45 147.478,123.472 \n",
       "  \"/>\n",
       "<polyline clip-path=\"url(#clip710)\" style=\"stroke:#000000; stroke-linecap:butt; stroke-linejoin:round; stroke-width:4; stroke-opacity:1; fill:none\" points=\"\n",
       "  147.478,1450.09 166.376,1450.09 \n",
       "  \"/>\n",
       "<polyline clip-path=\"url(#clip710)\" style=\"stroke:#000000; stroke-linecap:butt; stroke-linejoin:round; stroke-width:4; stroke-opacity:1; fill:none\" points=\"\n",
       "  147.478,1214.78 166.376,1214.78 \n",
       "  \"/>\n",
       "<polyline clip-path=\"url(#clip710)\" style=\"stroke:#000000; stroke-linecap:butt; stroke-linejoin:round; stroke-width:4; stroke-opacity:1; fill:none\" points=\"\n",
       "  147.478,979.469 166.376,979.469 \n",
       "  \"/>\n",
       "<polyline clip-path=\"url(#clip710)\" style=\"stroke:#000000; stroke-linecap:butt; stroke-linejoin:round; stroke-width:4; stroke-opacity:1; fill:none\" points=\"\n",
       "  147.478,744.158 166.376,744.158 \n",
       "  \"/>\n",
       "<polyline clip-path=\"url(#clip710)\" style=\"stroke:#000000; stroke-linecap:butt; stroke-linejoin:round; stroke-width:4; stroke-opacity:1; fill:none\" points=\"\n",
       "  147.478,508.847 166.376,508.847 \n",
       "  \"/>\n",
       "<polyline clip-path=\"url(#clip710)\" style=\"stroke:#000000; stroke-linecap:butt; stroke-linejoin:round; stroke-width:4; stroke-opacity:1; fill:none\" points=\"\n",
       "  147.478,273.536 166.376,273.536 \n",
       "  \"/>\n",
       "<path clip-path=\"url(#clip710)\" d=\"M51.3625 1450.54 L81.0383 1450.54 L81.0383 1454.48 L51.3625 1454.48 L51.3625 1450.54 Z\" fill=\"#000000\" fill-rule=\"evenodd\" fill-opacity=\"1\" /><path clip-path=\"url(#clip710)\" d=\"M95.1586 1463.44 L111.478 1463.44 L111.478 1467.37 L89.5336 1467.37 L89.5336 1463.44 Q92.1956 1460.68 96.7789 1456.05 Q101.385 1451.4 102.566 1450.06 Q104.811 1447.53 105.691 1445.8 Q106.594 1444.04 106.594 1442.35 Q106.594 1439.59 104.649 1437.86 Q102.728 1436.12 99.6261 1436.12 Q97.4271 1436.12 94.9734 1436.89 Q92.5428 1437.65 89.7651 1439.2 L89.7651 1434.48 Q92.5891 1433.34 95.0428 1432.77 Q97.4965 1432.19 99.5335 1432.19 Q104.904 1432.19 108.098 1434.87 Q111.293 1437.56 111.293 1442.05 Q111.293 1444.18 110.483 1446.1 Q109.696 1448 107.589 1450.59 Q107.01 1451.26 103.909 1454.48 Q100.807 1457.67 95.1586 1463.44 Z\" fill=\"#000000\" fill-rule=\"evenodd\" fill-opacity=\"1\" /><path clip-path=\"url(#clip710)\" d=\"M50.9921 1215.23 L80.6679 1215.23 L80.6679 1219.17 L50.9921 1219.17 L50.9921 1215.23 Z\" fill=\"#000000\" fill-rule=\"evenodd\" fill-opacity=\"1\" /><path clip-path=\"url(#clip710)\" d=\"M91.5706 1228.13 L99.2095 1228.13 L99.2095 1201.76 L90.8993 1203.43 L90.8993 1199.17 L99.1632 1197.5 L103.839 1197.5 L103.839 1228.13 L111.478 1228.13 L111.478 1232.06 L91.5706 1232.06 L91.5706 1228.13 Z\" fill=\"#000000\" fill-rule=\"evenodd\" fill-opacity=\"1\" /><path clip-path=\"url(#clip710)\" d=\"M99.5335 965.268 Q95.9224 965.268 94.0937 968.833 Q92.2882 972.375 92.2882 979.504 Q92.2882 986.611 94.0937 990.175 Q95.9224 993.717 99.5335 993.717 Q103.168 993.717 104.973 990.175 Q106.802 986.611 106.802 979.504 Q106.802 972.375 104.973 968.833 Q103.168 965.268 99.5335 965.268 M99.5335 961.564 Q105.344 961.564 108.399 966.171 Q111.478 970.754 111.478 979.504 Q111.478 988.231 108.399 992.837 Q105.344 997.421 99.5335 997.421 Q93.7234 997.421 90.6447 992.837 Q87.5892 988.231 87.5892 979.504 Q87.5892 970.754 90.6447 966.171 Q93.7234 961.564 99.5335 961.564 Z\" fill=\"#000000\" fill-rule=\"evenodd\" fill-opacity=\"1\" /><path clip-path=\"url(#clip710)\" d=\"M91.5706 757.503 L99.2095 757.503 L99.2095 731.137 L90.8993 732.804 L90.8993 728.545 L99.1632 726.878 L103.839 726.878 L103.839 757.503 L111.478 757.503 L111.478 761.438 L91.5706 761.438 L91.5706 757.503 Z\" fill=\"#000000\" fill-rule=\"evenodd\" fill-opacity=\"1\" /><path clip-path=\"url(#clip710)\" d=\"M95.1586 522.192 L111.478 522.192 L111.478 526.127 L89.5336 526.127 L89.5336 522.192 Q92.1956 519.437 96.7789 514.808 Q101.385 510.155 102.566 508.812 Q104.811 506.289 105.691 504.553 Q106.594 502.794 106.594 501.104 Q106.594 498.349 104.649 496.613 Q102.728 494.877 99.6261 494.877 Q97.4271 494.877 94.9734 495.641 Q92.5428 496.405 89.7651 497.956 L89.7651 493.234 Q92.5891 492.099 95.0428 491.521 Q97.4965 490.942 99.5335 490.942 Q104.904 490.942 108.098 493.627 Q111.293 496.312 111.293 500.803 Q111.293 502.933 110.483 504.854 Q109.696 506.752 107.589 509.345 Q107.01 510.016 103.909 513.234 Q100.807 516.428 95.1586 522.192 Z\" fill=\"#000000\" fill-rule=\"evenodd\" fill-opacity=\"1\" /><path clip-path=\"url(#clip710)\" d=\"M104.348 272.182 Q107.705 272.899 109.58 275.168 Q111.478 277.436 111.478 280.77 Q111.478 285.885 107.959 288.686 Q104.441 291.487 97.9595 291.487 Q95.7836 291.487 93.4688 291.047 Q91.1771 290.631 88.7234 289.774 L88.7234 285.26 Q90.6678 286.395 92.9826 286.973 Q95.2974 287.552 97.8206 287.552 Q102.219 287.552 104.51 285.816 Q106.825 284.08 106.825 280.77 Q106.825 277.714 104.672 276.001 Q102.543 274.265 98.7234 274.265 L94.6956 274.265 L94.6956 270.422 L98.9085 270.422 Q102.358 270.422 104.186 269.057 Q106.015 267.668 106.015 265.075 Q106.015 262.413 104.117 261.001 Q102.242 259.566 98.7234 259.566 Q96.8021 259.566 94.603 259.983 Q92.4039 260.399 89.7651 261.279 L89.7651 257.112 Q92.4271 256.372 94.7419 256.001 Q97.0798 255.631 99.14 255.631 Q104.464 255.631 107.566 258.061 Q110.668 260.469 110.668 264.589 Q110.668 267.459 109.024 269.45 Q107.381 271.418 104.348 272.182 Z\" fill=\"#000000\" fill-rule=\"evenodd\" fill-opacity=\"1\" /><path clip-path=\"url(#clip710)\" d=\"M525.653 12.096 L560.41 12.096 L560.41 18.9825 L533.836 18.9825 L533.836 36.8065 L557.817 36.8065 L557.817 43.6931 L533.836 43.6931 L533.836 72.576 L525.653 72.576 L525.653 12.096 Z\" fill=\"#000000\" fill-rule=\"evenodd\" fill-opacity=\"1\" /><path clip-path=\"url(#clip710)\" d=\"M567.013 27.2059 L574.467 27.2059 L574.467 72.576 L567.013 72.576 L567.013 27.2059 M567.013 9.54393 L574.467 9.54393 L574.467 18.9825 L567.013 18.9825 L567.013 9.54393 Z\" fill=\"#000000\" fill-rule=\"evenodd\" fill-opacity=\"1\" /><path clip-path=\"url(#clip710)\" d=\"M616.353 34.1734 Q615.097 33.4443 613.598 33.1202 Q612.14 32.7556 610.358 32.7556 Q604.038 32.7556 600.635 36.8875 Q597.273 40.9789 597.273 48.6757 L597.273 72.576 L589.779 72.576 L589.779 27.2059 L597.273 27.2059 L597.273 34.2544 Q599.623 30.1225 603.39 28.1376 Q607.157 26.1121 612.545 26.1121 Q613.315 26.1121 614.246 26.2337 Q615.178 26.3147 616.312 26.5172 L616.353 34.1734 Z\" fill=\"#000000\" fill-rule=\"evenodd\" fill-opacity=\"1\" /><path clip-path=\"url(#clip710)\" d=\"M653.095 28.5427 L653.095 35.5912 Q649.935 33.9709 646.532 33.1607 Q643.129 32.3505 639.484 32.3505 Q633.934 32.3505 631.139 34.0519 Q628.384 35.7533 628.384 39.156 Q628.384 41.7486 630.369 43.2475 Q632.354 44.7058 638.349 46.0426 L640.901 46.6097 Q648.841 48.3111 652.163 51.4303 Q655.525 54.509 655.525 60.0587 Q655.525 66.3781 650.502 70.0644 Q645.519 73.7508 636.77 73.7508 Q633.124 73.7508 629.154 73.0216 Q625.224 72.3329 620.849 70.9151 L620.849 63.2184 Q624.981 65.3654 628.992 66.4591 Q633.002 67.5124 636.932 67.5124 Q642.198 67.5124 645.033 65.73 Q647.869 63.9071 647.869 60.6258 Q647.869 57.5877 645.803 55.9673 Q643.778 54.3469 636.851 52.8481 L634.258 52.2405 Q627.331 50.7821 624.252 47.7845 Q621.174 44.7463 621.174 39.4801 Q621.174 33.0797 625.711 29.5959 Q630.248 26.1121 638.592 26.1121 Q642.724 26.1121 646.37 26.7198 Q650.016 27.3274 653.095 28.5427 Z\" fill=\"#000000\" fill-rule=\"evenodd\" fill-opacity=\"1\" /><path clip-path=\"url(#clip710)\" d=\"M674.767 14.324 L674.767 27.2059 L690.12 27.2059 L690.12 32.9987 L674.767 32.9987 L674.767 57.6282 Q674.767 63.1779 676.266 64.7578 Q677.805 66.3376 682.464 66.3376 L690.12 66.3376 L690.12 72.576 L682.464 72.576 Q673.835 72.576 670.554 69.3758 Q667.273 66.1351 667.273 57.6282 L667.273 32.9987 L661.804 32.9987 L661.804 27.2059 L667.273 27.2059 L667.273 14.324 L674.767 14.324 Z\" fill=\"#000000\" fill-rule=\"evenodd\" fill-opacity=\"1\" /><path clip-path=\"url(#clip710)\" d=\"M696.156 46.5287 L717.99 46.5287 L717.99 53.1722 L696.156 53.1722 L696.156 46.5287 Z\" fill=\"#000000\" fill-rule=\"evenodd\" fill-opacity=\"1\" /><path clip-path=\"url(#clip710)\" d=\"M757.041 17.6457 Q748.129 17.6457 742.863 24.2892 Q737.637 30.9327 737.637 42.3968 Q737.637 53.8203 742.863 60.4638 Q748.129 67.1073 757.041 67.1073 Q765.953 67.1073 771.138 60.4638 Q776.364 53.8203 776.364 42.3968 Q776.364 30.9327 771.138 24.2892 Q765.953 17.6457 757.041 17.6457 M757.041 11.0023 Q769.761 11.0023 777.376 19.5497 Q784.992 28.0566 784.992 42.3968 Q784.992 56.6965 777.376 65.2439 Q769.761 73.7508 757.041 73.7508 Q744.28 73.7508 736.624 65.2439 Q729.009 56.737 729.009 42.3968 Q729.009 28.0566 736.624 19.5497 Q744.28 11.0023 757.041 11.0023 Z\" fill=\"#000000\" fill-rule=\"evenodd\" fill-opacity=\"1\" /><path clip-path=\"url(#clip710)\" d=\"M823.759 34.1734 Q822.503 33.4443 821.005 33.1202 Q819.546 32.7556 817.764 32.7556 Q811.444 32.7556 808.042 36.8875 Q804.679 40.9789 804.679 48.6757 L804.679 72.576 L797.185 72.576 L797.185 27.2059 L804.679 27.2059 L804.679 34.2544 Q807.029 30.1225 810.796 28.1376 Q814.564 26.1121 819.951 26.1121 Q820.721 26.1121 821.653 26.2337 Q822.584 26.3147 823.719 26.5172 L823.759 34.1734 Z\" fill=\"#000000\" fill-rule=\"evenodd\" fill-opacity=\"1\" /><path clip-path=\"url(#clip710)\" d=\"M859.974 34.0924 L859.974 9.54393 L867.428 9.54393 L867.428 72.576 L859.974 72.576 L859.974 65.7705 Q857.625 69.8214 854.019 71.8063 Q850.455 73.7508 845.432 73.7508 Q837.208 73.7508 832.023 67.1883 Q826.878 60.6258 826.878 49.9314 Q826.878 39.2371 832.023 32.6746 Q837.208 26.1121 845.432 26.1121 Q850.455 26.1121 854.019 28.0971 Q857.625 30.0415 859.974 34.0924 M834.575 49.9314 Q834.575 58.1548 837.937 62.8538 Q841.34 67.5124 847.254 67.5124 Q853.169 67.5124 856.572 62.8538 Q859.974 58.1548 859.974 49.9314 Q859.974 41.7081 856.572 37.0496 Q853.169 32.3505 847.254 32.3505 Q841.34 32.3505 837.937 37.0496 Q834.575 41.7081 834.575 49.9314 Z\" fill=\"#000000\" fill-rule=\"evenodd\" fill-opacity=\"1\" /><path clip-path=\"url(#clip710)\" d=\"M921.589 48.0275 L921.589 51.6733 L887.318 51.6733 Q887.804 59.3701 891.936 63.421 Q896.108 67.4314 903.522 67.4314 Q907.816 67.4314 911.826 66.3781 Q915.877 65.3249 919.847 63.2184 L919.847 70.267 Q915.836 71.9684 911.623 72.8596 Q907.41 73.7508 903.076 73.7508 Q892.22 73.7508 885.86 67.4314 Q879.54 61.1119 879.54 50.3365 Q879.54 39.1965 885.536 32.6746 Q891.571 26.1121 901.78 26.1121 Q910.935 26.1121 916.241 32.0264 Q921.589 37.9003 921.589 48.0275 M914.135 45.84 Q914.054 39.7232 910.692 36.0774 Q907.37 32.4315 901.861 32.4315 Q895.622 32.4315 891.855 35.9558 Q888.128 39.4801 887.561 45.8805 L914.135 45.84 Z\" fill=\"#000000\" fill-rule=\"evenodd\" fill-opacity=\"1\" /><path clip-path=\"url(#clip710)\" d=\"M960.113 34.1734 Q958.857 33.4443 957.358 33.1202 Q955.9 32.7556 954.117 32.7556 Q947.798 32.7556 944.395 36.8875 Q941.033 40.9789 941.033 48.6757 L941.033 72.576 L933.539 72.576 L933.539 27.2059 L941.033 27.2059 L941.033 34.2544 Q943.382 30.1225 947.15 28.1376 Q950.917 26.1121 956.305 26.1121 Q957.074 26.1121 958.006 26.2337 Q958.938 26.3147 960.072 26.5172 L960.113 34.1734 Z\" fill=\"#000000\" fill-rule=\"evenodd\" fill-opacity=\"1\" /><path clip-path=\"url(#clip710)\" d=\"M994.626 12.096 L1002.81 12.096 L1002.81 68.3631 Q1002.81 79.3005 998.637 84.2426 Q994.505 89.1847 985.309 89.1847 L982.19 89.1847 L982.19 82.2982 L984.742 82.2982 Q990.17 82.2982 992.398 79.26 Q994.626 76.2218 994.626 68.3631 L994.626 12.096 Z\" fill=\"#000000\" fill-rule=\"evenodd\" fill-opacity=\"1\" /><path clip-path=\"url(#clip710)\" d=\"M1036.35 32.4315 Q1030.36 32.4315 1026.87 37.1306 Q1023.39 41.7891 1023.39 49.9314 Q1023.39 58.0738 1026.83 62.7728 Q1030.31 67.4314 1036.35 67.4314 Q1042.31 67.4314 1045.79 62.7323 Q1049.27 58.0333 1049.27 49.9314 Q1049.27 41.8701 1045.79 37.1711 Q1042.31 32.4315 1036.35 32.4315 M1036.35 26.1121 Q1046.07 26.1121 1051.62 32.4315 Q1057.17 38.7509 1057.17 49.9314 Q1057.17 61.0714 1051.62 67.4314 Q1046.07 73.7508 1036.35 73.7508 Q1026.59 73.7508 1021.04 67.4314 Q1015.53 61.0714 1015.53 49.9314 Q1015.53 38.7509 1021.04 32.4315 Q1026.59 26.1121 1036.35 26.1121 Z\" fill=\"#000000\" fill-rule=\"evenodd\" fill-opacity=\"1\" /><path clip-path=\"url(#clip710)\" d=\"M1069.53 27.2059 L1076.98 27.2059 L1076.98 72.576 L1069.53 72.576 L1069.53 27.2059 M1069.53 9.54393 L1076.98 9.54393 L1076.98 18.9825 L1069.53 18.9825 L1069.53 9.54393 Z\" fill=\"#000000\" fill-rule=\"evenodd\" fill-opacity=\"1\" /><path clip-path=\"url(#clip710)\" d=\"M1130.29 45.1919 L1130.29 72.576 L1122.84 72.576 L1122.84 45.4349 Q1122.84 38.994 1120.33 35.7938 Q1117.81 32.5936 1112.79 32.5936 Q1106.76 32.5936 1103.27 36.4419 Q1099.79 40.2903 1099.79 46.9338 L1099.79 72.576 L1092.29 72.576 L1092.29 27.2059 L1099.79 27.2059 L1099.79 34.2544 Q1102.46 30.163 1106.07 28.1376 Q1109.71 26.1121 1114.45 26.1121 Q1122.27 26.1121 1126.28 30.9732 Q1130.29 35.7938 1130.29 45.1919 Z\" fill=\"#000000\" fill-rule=\"evenodd\" fill-opacity=\"1\" /><path clip-path=\"url(#clip710)\" d=\"M1152.53 14.324 L1152.53 27.2059 L1167.88 27.2059 L1167.88 32.9987 L1152.53 32.9987 L1152.53 57.6282 Q1152.53 63.1779 1154.03 64.7578 Q1155.57 66.3376 1160.23 66.3376 L1167.88 66.3376 L1167.88 72.576 L1160.23 72.576 Q1151.6 72.576 1148.32 69.3758 Q1145.04 66.1351 1145.04 57.6282 L1145.04 32.9987 L1139.57 32.9987 L1139.57 27.2059 L1145.04 27.2059 L1145.04 14.324 L1152.53 14.324 Z\" fill=\"#000000\" fill-rule=\"evenodd\" fill-opacity=\"1\" /><path clip-path=\"url(#clip710)\" d=\"M1179.59 62.2867 L1188.14 62.2867 L1188.14 72.576 L1179.59 72.576 L1179.59 62.2867 M1179.59 29.6769 L1188.14 29.6769 L1188.14 39.9662 L1179.59 39.9662 L1179.59 29.6769 Z\" fill=\"#000000\" fill-rule=\"evenodd\" fill-opacity=\"1\" /><path clip-path=\"url(#clip710)\" d=\"M1232.33 12.096 L1270.57 12.096 L1270.57 18.9825 L1240.52 18.9825 L1240.52 36.8875 L1269.32 36.8875 L1269.32 43.7741 L1240.52 43.7741 L1240.52 65.6895 L1271.3 65.6895 L1271.3 72.576 L1232.33 72.576 L1232.33 12.096 Z\" fill=\"#000000\" fill-rule=\"evenodd\" fill-opacity=\"1\" /><path clip-path=\"url(#clip710)\" d=\"M1313.35 28.5427 L1313.35 35.5912 Q1310.19 33.9709 1306.79 33.1607 Q1303.39 32.3505 1299.74 32.3505 Q1294.19 32.3505 1291.4 34.0519 Q1288.64 35.7533 1288.64 39.156 Q1288.64 41.7486 1290.63 43.2475 Q1292.61 44.7058 1298.61 46.0426 L1301.16 46.6097 Q1309.1 48.3111 1312.42 51.4303 Q1315.78 54.509 1315.78 60.0587 Q1315.78 66.3781 1310.76 70.0644 Q1305.78 73.7508 1297.03 73.7508 Q1293.38 73.7508 1289.41 73.0216 Q1285.48 72.3329 1281.11 70.9151 L1281.11 63.2184 Q1285.24 65.3654 1289.25 66.4591 Q1293.26 67.5124 1297.19 67.5124 Q1302.45 67.5124 1305.29 65.73 Q1308.13 63.9071 1308.13 60.6258 Q1308.13 57.5877 1306.06 55.9673 Q1304.03 54.3469 1297.11 52.8481 L1294.51 52.2405 Q1287.59 50.7821 1284.51 47.7845 Q1281.43 44.7463 1281.43 39.4801 Q1281.43 33.0797 1285.97 29.5959 Q1290.5 26.1121 1298.85 26.1121 Q1302.98 26.1121 1306.63 26.7198 Q1310.27 27.3274 1313.35 28.5427 Z\" fill=\"#000000\" fill-rule=\"evenodd\" fill-opacity=\"1\" /><path clip-path=\"url(#clip710)\" d=\"M1335.02 14.324 L1335.02 27.2059 L1350.38 27.2059 L1350.38 32.9987 L1335.02 32.9987 L1335.02 57.6282 Q1335.02 63.1779 1336.52 64.7578 Q1338.06 66.3376 1342.72 66.3376 L1350.38 66.3376 L1350.38 72.576 L1342.72 72.576 Q1334.09 72.576 1330.81 69.3758 Q1327.53 66.1351 1327.53 57.6282 L1327.53 32.9987 L1322.06 32.9987 L1322.06 27.2059 L1327.53 27.2059 L1327.53 14.324 L1335.02 14.324 Z\" fill=\"#000000\" fill-rule=\"evenodd\" fill-opacity=\"1\" /><path clip-path=\"url(#clip710)\" d=\"M1360.18 27.2059 L1367.63 27.2059 L1367.63 72.576 L1360.18 72.576 L1360.18 27.2059 M1360.18 9.54393 L1367.63 9.54393 L1367.63 18.9825 L1360.18 18.9825 L1360.18 9.54393 Z\" fill=\"#000000\" fill-rule=\"evenodd\" fill-opacity=\"1\" /><path clip-path=\"url(#clip710)\" d=\"M1418.55 35.9153 Q1421.35 30.8922 1425.24 28.5022 Q1429.13 26.1121 1434.39 26.1121 Q1441.48 26.1121 1445.33 31.0947 Q1449.18 36.0368 1449.18 45.1919 L1449.18 72.576 L1441.68 72.576 L1441.68 45.4349 Q1441.68 38.913 1439.38 35.7533 Q1437.07 32.5936 1432.33 32.5936 Q1426.53 32.5936 1423.17 36.4419 Q1419.81 40.2903 1419.81 46.9338 L1419.81 72.576 L1412.32 72.576 L1412.32 45.4349 Q1412.32 38.8725 1410.01 35.7533 Q1407.7 32.5936 1402.88 32.5936 Q1397.16 32.5936 1393.8 36.4824 Q1390.44 40.3308 1390.44 46.9338 L1390.44 72.576 L1382.95 72.576 L1382.95 27.2059 L1390.44 27.2059 L1390.44 34.2544 Q1392.99 30.082 1396.56 28.0971 Q1400.12 26.1121 1405.02 26.1121 Q1409.97 26.1121 1413.41 28.6237 Q1416.89 31.1352 1418.55 35.9153 Z\" fill=\"#000000\" fill-rule=\"evenodd\" fill-opacity=\"1\" /><path clip-path=\"url(#clip710)\" d=\"M1484.66 49.7694 Q1475.63 49.7694 1472.15 51.8354 Q1468.66 53.9013 1468.66 58.8839 Q1468.66 62.8538 1471.26 65.2034 Q1473.89 67.5124 1478.39 67.5124 Q1484.58 67.5124 1488.31 63.1374 Q1492.08 58.7219 1492.08 51.4303 L1492.08 49.7694 L1484.66 49.7694 M1499.53 46.6907 L1499.53 72.576 L1492.08 72.576 L1492.08 65.6895 Q1489.53 69.8214 1485.72 71.8063 Q1481.91 73.7508 1476.4 73.7508 Q1469.43 73.7508 1465.3 69.8619 Q1461.21 65.9325 1461.21 59.3701 Q1461.21 51.7138 1466.31 47.825 Q1471.46 43.9361 1481.63 43.9361 L1492.08 43.9361 L1492.08 43.2069 Q1492.08 38.0623 1488.67 35.2672 Q1485.31 32.4315 1479.2 32.4315 Q1475.31 32.4315 1471.62 33.3632 Q1467.93 34.295 1464.53 36.1584 L1464.53 29.2718 Q1468.62 27.692 1472.47 26.9223 Q1476.32 26.1121 1479.97 26.1121 Q1489.81 26.1121 1494.67 31.2163 Q1499.53 36.3204 1499.53 46.6907 Z\" fill=\"#000000\" fill-rule=\"evenodd\" fill-opacity=\"1\" /><path clip-path=\"url(#clip710)\" d=\"M1522.26 14.324 L1522.26 27.2059 L1537.61 27.2059 L1537.61 32.9987 L1522.26 32.9987 L1522.26 57.6282 Q1522.26 63.1779 1523.76 64.7578 Q1525.29 66.3376 1529.95 66.3376 L1537.61 66.3376 L1537.61 72.576 L1529.95 72.576 Q1521.32 72.576 1518.04 69.3758 Q1514.76 66.1351 1514.76 57.6282 L1514.76 32.9987 L1509.29 32.9987 L1509.29 27.2059 L1514.76 27.2059 L1514.76 14.324 L1522.26 14.324 Z\" fill=\"#000000\" fill-rule=\"evenodd\" fill-opacity=\"1\" /><path clip-path=\"url(#clip710)\" d=\"M1586.22 48.0275 L1586.22 51.6733 L1551.95 51.6733 Q1552.44 59.3701 1556.57 63.421 Q1560.74 67.4314 1568.15 67.4314 Q1572.45 67.4314 1576.46 66.3781 Q1580.51 65.3249 1584.48 63.2184 L1584.48 70.267 Q1580.47 71.9684 1576.26 72.8596 Q1572.04 73.7508 1567.71 73.7508 Q1556.85 73.7508 1550.49 67.4314 Q1544.17 61.1119 1544.17 50.3365 Q1544.17 39.1965 1550.17 32.6746 Q1556.2 26.1121 1566.41 26.1121 Q1575.57 26.1121 1580.87 32.0264 Q1586.22 37.9003 1586.22 48.0275 M1578.77 45.84 Q1578.69 39.7232 1575.32 36.0774 Q1572 32.4315 1566.49 32.4315 Q1560.25 32.4315 1556.49 35.9558 Q1552.76 39.4801 1552.19 45.8805 L1578.77 45.84 Z\" fill=\"#000000\" fill-rule=\"evenodd\" fill-opacity=\"1\" /><path clip-path=\"url(#clip710)\" d=\"M1628.31 34.0924 L1628.31 9.54393 L1635.76 9.54393 L1635.76 72.576 L1628.31 72.576 L1628.31 65.7705 Q1625.96 69.8214 1622.35 71.8063 Q1618.79 73.7508 1613.77 73.7508 Q1605.54 73.7508 1600.36 67.1883 Q1595.21 60.6258 1595.21 49.9314 Q1595.21 39.2371 1600.36 32.6746 Q1605.54 26.1121 1613.77 26.1121 Q1618.79 26.1121 1622.35 28.0971 Q1625.96 30.0415 1628.31 34.0924 M1602.91 49.9314 Q1602.91 58.1548 1606.27 62.8538 Q1609.68 67.5124 1615.59 67.5124 Q1621.5 67.5124 1624.91 62.8538 Q1628.31 58.1548 1628.31 49.9314 Q1628.31 41.7081 1624.91 37.0496 Q1621.5 32.3505 1615.59 32.3505 Q1609.68 32.3505 1606.27 37.0496 Q1602.91 41.7081 1602.91 49.9314 Z\" fill=\"#000000\" fill-rule=\"evenodd\" fill-opacity=\"1\" /><path clip-path=\"url(#clip710)\" d=\"M1677.81 12.096 L1685.99 12.096 L1685.99 65.6895 L1715.44 65.6895 L1715.44 72.576 L1677.81 72.576 L1677.81 12.096 Z\" fill=\"#000000\" fill-rule=\"evenodd\" fill-opacity=\"1\" /><path clip-path=\"url(#clip710)\" d=\"M1744.33 49.7694 Q1735.29 49.7694 1731.81 51.8354 Q1728.33 53.9013 1728.33 58.8839 Q1728.33 62.8538 1730.92 65.2034 Q1733.55 67.5124 1738.05 67.5124 Q1744.25 67.5124 1747.97 63.1374 Q1751.74 58.7219 1751.74 51.4303 L1751.74 49.7694 L1744.33 49.7694 M1759.19 46.6907 L1759.19 72.576 L1751.74 72.576 L1751.74 65.6895 Q1749.19 69.8214 1745.38 71.8063 Q1741.57 73.7508 1736.06 73.7508 Q1729.1 73.7508 1724.96 69.8619 Q1720.87 65.9325 1720.87 59.3701 Q1720.87 51.7138 1725.98 47.825 Q1731.12 43.9361 1741.29 43.9361 L1751.74 43.9361 L1751.74 43.2069 Q1751.74 38.0623 1748.34 35.2672 Q1744.98 32.4315 1738.86 32.4315 Q1734.97 32.4315 1731.28 33.3632 Q1727.6 34.295 1724.19 36.1584 L1724.19 29.2718 Q1728.29 27.692 1732.13 26.9223 Q1735.98 26.1121 1739.63 26.1121 Q1749.47 26.1121 1754.33 31.2163 Q1759.19 36.3204 1759.19 46.6907 Z\" fill=\"#000000\" fill-rule=\"evenodd\" fill-opacity=\"1\" /><path clip-path=\"url(#clip710)\" d=\"M1781.92 14.324 L1781.92 27.2059 L1797.27 27.2059 L1797.27 32.9987 L1781.92 32.9987 L1781.92 57.6282 Q1781.92 63.1779 1783.42 64.7578 Q1784.96 66.3376 1789.62 66.3376 L1797.27 66.3376 L1797.27 72.576 L1789.62 72.576 Q1780.99 72.576 1777.71 69.3758 Q1774.43 66.1351 1774.43 57.6282 L1774.43 32.9987 L1768.96 32.9987 L1768.96 27.2059 L1774.43 27.2059 L1774.43 14.324 L1781.92 14.324 Z\" fill=\"#000000\" fill-rule=\"evenodd\" fill-opacity=\"1\" /><path clip-path=\"url(#clip710)\" d=\"M1845.88 48.0275 L1845.88 51.6733 L1811.61 51.6733 Q1812.1 59.3701 1816.23 63.421 Q1820.4 67.4314 1827.82 67.4314 Q1832.11 67.4314 1836.12 66.3781 Q1840.17 65.3249 1844.14 63.2184 L1844.14 70.267 Q1840.13 71.9684 1835.92 72.8596 Q1831.71 73.7508 1827.37 73.7508 Q1816.51 73.7508 1810.15 67.4314 Q1803.84 61.1119 1803.84 50.3365 Q1803.84 39.1965 1809.83 32.6746 Q1815.87 26.1121 1826.07 26.1121 Q1835.23 26.1121 1840.54 32.0264 Q1845.88 37.9003 1845.88 48.0275 M1838.43 45.84 Q1838.35 39.7232 1834.99 36.0774 Q1831.66 32.4315 1826.16 32.4315 Q1819.92 32.4315 1816.15 35.9558 Q1812.42 39.4801 1811.86 45.8805 L1838.43 45.84 Z\" fill=\"#000000\" fill-rule=\"evenodd\" fill-opacity=\"1\" /><path clip-path=\"url(#clip710)\" d=\"M1895.83 45.1919 L1895.83 72.576 L1888.38 72.576 L1888.38 45.4349 Q1888.38 38.994 1885.87 35.7938 Q1883.35 32.5936 1878.33 32.5936 Q1872.3 32.5936 1868.81 36.4419 Q1865.33 40.2903 1865.33 46.9338 L1865.33 72.576 L1857.83 72.576 L1857.83 27.2059 L1865.33 27.2059 L1865.33 34.2544 Q1868 30.163 1871.61 28.1376 Q1875.25 26.1121 1879.99 26.1121 Q1887.81 26.1121 1891.82 30.9732 Q1895.83 35.7938 1895.83 45.1919 Z\" fill=\"#000000\" fill-rule=\"evenodd\" fill-opacity=\"1\" /><path clip-path=\"url(#clip710)\" d=\"M1918.07 14.324 L1918.07 27.2059 L1933.42 27.2059 L1933.42 32.9987 L1918.07 32.9987 L1918.07 57.6282 Q1918.07 63.1779 1919.57 64.7578 Q1921.11 66.3376 1925.77 66.3376 L1933.42 66.3376 L1933.42 72.576 L1925.77 72.576 Q1917.14 72.576 1913.86 69.3758 Q1910.58 66.1351 1910.58 57.6282 L1910.58 32.9987 L1905.11 32.9987 L1905.11 27.2059 L1910.58 27.2059 L1910.58 14.324 L1918.07 14.324 Z\" fill=\"#000000\" fill-rule=\"evenodd\" fill-opacity=\"1\" /><path clip-path=\"url(#clip710)\" d=\"M1972.15 28.5427 L1972.15 35.5912 Q1968.99 33.9709 1965.59 33.1607 Q1962.18 32.3505 1958.54 32.3505 Q1952.99 32.3505 1950.19 34.0519 Q1947.44 35.7533 1947.44 39.156 Q1947.44 41.7486 1949.42 43.2475 Q1951.41 44.7058 1957.4 46.0426 L1959.96 46.6097 Q1967.9 48.3111 1971.22 51.4303 Q1974.58 54.509 1974.58 60.0587 Q1974.58 66.3781 1969.56 70.0644 Q1964.57 73.7508 1955.82 73.7508 Q1952.18 73.7508 1948.21 73.0216 Q1944.28 72.3329 1939.9 70.9151 L1939.9 63.2184 Q1944.04 65.3654 1948.05 66.4591 Q1952.06 67.5124 1955.99 67.5124 Q1961.25 67.5124 1964.09 65.73 Q1966.92 63.9071 1966.92 60.6258 Q1966.92 57.5877 1964.86 55.9673 Q1962.83 54.3469 1955.91 52.8481 L1953.31 52.2405 Q1946.39 50.7821 1943.31 47.7845 Q1940.23 44.7463 1940.23 39.4801 Q1940.23 33.0797 1944.77 29.5959 Q1949.3 26.1121 1957.65 26.1121 Q1961.78 26.1121 1965.43 26.7198 Q1969.07 27.3274 1972.15 28.5427 Z\" fill=\"#000000\" fill-rule=\"evenodd\" fill-opacity=\"1\" /><path clip-path=\"url(#clip712)\" d=\"\n",
       "M209.891 1161.49 L319.389 1078.47 L428.886 1273.96 L538.384 944.501 L647.881 1070.61 L757.379 1447.87 L866.876 1161.76 L976.373 1078.25 L1085.87 692.721 L1195.37 903.891 \n",
       "  L1304.87 1140.14 L1414.36 1266.78 L1523.86 1062.52 L1633.36 1173.92 L1742.86 952.674 L1852.35 929.364 L1961.85 1028.11 L2071.35 829.721 L2180.84 623.114 L2290.34 1215.42 \n",
       "  L2290.34 355.398 L2180.84 162.047 L2071.35 541.419 L1961.85 832.192 L1852.35 700.148 L1742.86 705.365 L1633.36 974.385 L1523.86 869.278 L1414.36 1038.64 L1304.87 923.654 \n",
       "  L1195.37 623.897 L1085.87 303.149 L976.373 877.62 L866.876 944.866 L757.379 1151.08 L647.881 879.496 L538.384 712.136 L428.886 1031.06 L319.389 879.276 L209.891 968.81 \n",
       "   Z\n",
       "  \" fill=\"#009af9\" fill-rule=\"evenodd\" fill-opacity=\"0.5\"/>\n",
       "<polyline clip-path=\"url(#clip712)\" style=\"stroke:#009af9; stroke-linecap:butt; stroke-linejoin:round; stroke-width:4; stroke-opacity:1; fill:none\" points=\"\n",
       "  209.891,1065.15 319.389,978.875 428.886,1152.51 538.384,828.319 647.881,975.051 757.379,1299.47 866.876,1053.31 976.373,977.935 1085.87,497.935 1195.37,763.894 \n",
       "  1304.87,1031.9 1414.36,1152.71 1523.86,965.899 1633.36,1074.15 1742.86,829.02 1852.35,814.756 1961.85,930.153 2071.35,685.57 2180.84,392.581 2290.34,785.41 \n",
       "  \n",
       "  \"/>\n",
       "<polyline clip-path=\"url(#clip712)\" style=\"stroke:#e26f46; stroke-linecap:butt; stroke-linejoin:round; stroke-width:4; stroke-opacity:1; fill:none\" points=\"\n",
       "  209.891,1082.13 319.389,944.717 428.886,1182.23 538.384,822.961 647.881,943.776 757.379,1346.75 866.876,1069.69 976.373,968.12 1085.87,464.015 1195.37,662.528 \n",
       "  1304.87,966.91 1414.36,1279.52 1523.86,939.875 1633.36,1136.69 1742.86,767.234 1852.35,813.738 1961.85,938.695 2071.35,586.352 2180.84,312.462 2290.34,801.635 \n",
       "  \n",
       "  \"/>\n",
       "<path clip-path=\"url(#clip710)\" d=\"\n",
       "M1683.87 324.425 L2279.25 324.425 L2279.25 168.905 L1683.87 168.905  Z\n",
       "  \" fill=\"#ffffff\" fill-rule=\"evenodd\" fill-opacity=\"1\"/>\n",
       "<polyline clip-path=\"url(#clip710)\" style=\"stroke:#000000; stroke-linecap:butt; stroke-linejoin:round; stroke-width:4; stroke-opacity:1; fill:none\" points=\"\n",
       "  1683.87,324.425 2279.25,324.425 2279.25,168.905 1683.87,168.905 1683.87,324.425 \n",
       "  \"/>\n",
       "<polyline clip-path=\"url(#clip710)\" style=\"stroke:#009af9; stroke-linecap:butt; stroke-linejoin:round; stroke-width:4; stroke-opacity:1; fill:none\" points=\"\n",
       "  1708.37,220.745 1855.39,220.745 \n",
       "  \"/>\n",
       "<path clip-path=\"url(#clip710)\" d=\"M1884.57 207.307 L1884.57 220.293 L1890.45 220.293 Q1893.71 220.293 1895.5 218.603 Q1897.28 216.914 1897.28 213.789 Q1897.28 210.687 1895.5 208.997 Q1893.71 207.307 1890.45 207.307 L1884.57 207.307 M1879.9 203.465 L1890.45 203.465 Q1896.26 203.465 1899.22 206.104 Q1902.21 208.719 1902.21 213.789 Q1902.21 218.904 1899.22 221.52 Q1896.26 224.136 1890.45 224.136 L1884.57 224.136 L1884.57 238.025 L1879.9 238.025 L1879.9 203.465 Z\" fill=\"#000000\" fill-rule=\"evenodd\" fill-opacity=\"1\" /><path clip-path=\"url(#clip710)\" d=\"M1916.65 215.085 Q1913.23 215.085 1911.24 217.77 Q1909.25 220.432 1909.25 225.085 Q1909.25 229.738 1911.21 232.423 Q1913.21 235.085 1916.65 235.085 Q1920.06 235.085 1922.05 232.4 Q1924.04 229.715 1924.04 225.085 Q1924.04 220.478 1922.05 217.793 Q1920.06 215.085 1916.65 215.085 M1916.65 211.474 Q1922.21 211.474 1925.38 215.085 Q1928.55 218.696 1928.55 225.085 Q1928.55 231.451 1925.38 235.085 Q1922.21 238.696 1916.65 238.696 Q1911.08 238.696 1907.9 235.085 Q1904.76 231.451 1904.76 225.085 Q1904.76 218.696 1907.9 215.085 Q1911.08 211.474 1916.65 211.474 Z\" fill=\"#000000\" fill-rule=\"evenodd\" fill-opacity=\"1\" /><path clip-path=\"url(#clip710)\" d=\"M1952.14 212.863 L1952.14 216.891 Q1950.33 215.965 1948.39 215.502 Q1946.45 215.039 1944.36 215.039 Q1941.19 215.039 1939.59 216.011 Q1938.02 216.983 1938.02 218.928 Q1938.02 220.409 1939.15 221.265 Q1940.29 222.099 1943.71 222.863 L1945.17 223.187 Q1949.71 224.159 1951.61 225.941 Q1953.53 227.701 1953.53 230.872 Q1953.53 234.483 1950.66 236.589 Q1947.81 238.696 1942.81 238.696 Q1940.73 238.696 1938.46 238.279 Q1936.21 237.886 1933.71 237.076 L1933.71 232.677 Q1936.08 233.904 1938.37 234.529 Q1940.66 235.131 1942.9 235.131 Q1945.91 235.131 1947.53 234.113 Q1949.15 233.071 1949.15 231.196 Q1949.15 229.46 1947.97 228.534 Q1946.82 227.608 1942.86 226.752 L1941.38 226.404 Q1937.42 225.571 1935.66 223.858 Q1933.9 222.122 1933.9 219.113 Q1933.9 215.455 1936.49 213.465 Q1939.08 211.474 1943.85 211.474 Q1946.21 211.474 1948.3 211.821 Q1950.38 212.168 1952.14 212.863 Z\" fill=\"#000000\" fill-rule=\"evenodd\" fill-opacity=\"1\" /><path clip-path=\"url(#clip710)\" d=\"M1964.52 204.738 L1964.52 212.099 L1973.3 212.099 L1973.3 215.409 L1964.52 215.409 L1964.52 229.483 Q1964.52 232.654 1965.38 233.557 Q1966.26 234.46 1968.92 234.46 L1973.3 234.46 L1973.3 238.025 L1968.92 238.025 Q1963.99 238.025 1962.12 236.196 Q1960.24 234.344 1960.24 229.483 L1960.24 215.409 L1957.12 215.409 L1957.12 212.099 L1960.24 212.099 L1960.24 204.738 L1964.52 204.738 Z\" fill=\"#000000\" fill-rule=\"evenodd\" fill-opacity=\"1\" /><path clip-path=\"url(#clip710)\" d=\"M2001.08 223.997 L2001.08 226.08 L1981.49 226.08 Q1981.77 230.478 1984.13 232.793 Q1986.51 235.085 1990.75 235.085 Q1993.2 235.085 1995.5 234.483 Q1997.81 233.881 2000.08 232.677 L2000.08 236.705 Q1997.79 237.677 1995.38 238.187 Q1992.97 238.696 1990.5 238.696 Q1984.29 238.696 1980.66 235.085 Q1977.05 231.474 1977.05 225.316 Q1977.05 218.951 1980.47 215.224 Q1983.92 211.474 1989.76 211.474 Q1994.99 211.474 1998.02 214.853 Q2001.08 218.21 2001.08 223.997 M1996.82 222.747 Q1996.77 219.252 1994.85 217.168 Q1992.95 215.085 1989.8 215.085 Q1986.24 215.085 1984.08 217.099 Q1981.95 219.113 1981.63 222.77 L1996.82 222.747 Z\" fill=\"#000000\" fill-rule=\"evenodd\" fill-opacity=\"1\" /><path clip-path=\"url(#clip710)\" d=\"M2023.09 216.08 Q2022.37 215.664 2021.51 215.478 Q2020.68 215.27 2019.66 215.27 Q2016.05 215.27 2014.11 217.631 Q2012.19 219.969 2012.19 224.367 L2012.19 238.025 L2007.9 238.025 L2007.9 212.099 L2012.19 212.099 L2012.19 216.127 Q2013.53 213.766 2015.68 212.631 Q2017.83 211.474 2020.91 211.474 Q2021.35 211.474 2021.89 211.543 Q2022.42 211.59 2023.07 211.705 L2023.09 216.08 Z\" fill=\"#000000\" fill-rule=\"evenodd\" fill-opacity=\"1\" /><path clip-path=\"url(#clip710)\" d=\"M2027.56 212.099 L2031.82 212.099 L2031.82 238.025 L2027.56 238.025 L2027.56 212.099 M2027.56 202.006 L2031.82 202.006 L2031.82 207.4 L2027.56 207.4 L2027.56 202.006 Z\" fill=\"#000000\" fill-rule=\"evenodd\" fill-opacity=\"1\" /><path clip-path=\"url(#clip710)\" d=\"M2050.77 215.085 Q2047.35 215.085 2045.36 217.77 Q2043.37 220.432 2043.37 225.085 Q2043.37 229.738 2045.33 232.423 Q2047.32 235.085 2050.77 235.085 Q2054.18 235.085 2056.17 232.4 Q2058.16 229.715 2058.16 225.085 Q2058.16 220.478 2056.17 217.793 Q2054.18 215.085 2050.77 215.085 M2050.77 211.474 Q2056.33 211.474 2059.5 215.085 Q2062.67 218.696 2062.67 225.085 Q2062.67 231.451 2059.5 235.085 Q2056.33 238.696 2050.77 238.696 Q2045.2 238.696 2042.02 235.085 Q2038.88 231.451 2038.88 225.085 Q2038.88 218.696 2042.02 215.085 Q2045.2 211.474 2050.77 211.474 Z\" fill=\"#000000\" fill-rule=\"evenodd\" fill-opacity=\"1\" /><path clip-path=\"url(#clip710)\" d=\"M2084.76 216.08 Q2084.04 215.664 2083.18 215.478 Q2082.35 215.27 2081.33 215.27 Q2077.72 215.27 2075.77 217.631 Q2073.85 219.969 2073.85 224.367 L2073.85 238.025 L2069.57 238.025 L2069.57 212.099 L2073.85 212.099 L2073.85 216.127 Q2075.19 213.766 2077.35 212.631 Q2079.5 211.474 2082.58 211.474 Q2083.02 211.474 2083.55 211.543 Q2084.08 211.59 2084.73 211.705 L2084.76 216.08 Z\" fill=\"#000000\" fill-rule=\"evenodd\" fill-opacity=\"1\" /><path clip-path=\"url(#clip710)\" d=\"M2124.48 217.076 Q2126.07 214.205 2128.3 212.84 Q2130.52 211.474 2133.53 211.474 Q2137.58 211.474 2139.78 214.321 Q2141.98 217.145 2141.98 222.377 L2141.98 238.025 L2137.69 238.025 L2137.69 222.515 Q2137.69 218.789 2136.38 216.983 Q2135.06 215.178 2132.35 215.178 Q2129.04 215.178 2127.12 217.377 Q2125.19 219.576 2125.19 223.372 L2125.19 238.025 L2120.91 238.025 L2120.91 222.515 Q2120.91 218.765 2119.59 216.983 Q2118.27 215.178 2115.52 215.178 Q2112.25 215.178 2110.33 217.4 Q2108.41 219.599 2108.41 223.372 L2108.41 238.025 L2104.13 238.025 L2104.13 212.099 L2108.41 212.099 L2108.41 216.127 Q2109.87 213.742 2111.91 212.608 Q2113.94 211.474 2116.75 211.474 Q2119.57 211.474 2121.54 212.909 Q2123.53 214.344 2124.48 217.076 Z\" fill=\"#000000\" fill-rule=\"evenodd\" fill-opacity=\"1\" /><path clip-path=\"url(#clip710)\" d=\"M2172.65 223.997 L2172.65 226.08 L2153.06 226.08 Q2153.34 230.478 2155.7 232.793 Q2158.09 235.085 2162.32 235.085 Q2164.78 235.085 2167.07 234.483 Q2169.38 233.881 2171.65 232.677 L2171.65 236.705 Q2169.36 237.677 2166.95 238.187 Q2164.55 238.696 2162.07 238.696 Q2155.87 238.696 2152.23 235.085 Q2148.62 231.474 2148.62 225.316 Q2148.62 218.951 2152.05 215.224 Q2155.5 211.474 2161.33 211.474 Q2166.56 211.474 2169.59 214.853 Q2172.65 218.21 2172.65 223.997 M2168.39 222.747 Q2168.34 219.252 2166.42 217.168 Q2164.52 215.085 2161.38 215.085 Q2157.81 215.085 2155.66 217.099 Q2153.53 219.113 2153.2 222.77 L2168.39 222.747 Z\" fill=\"#000000\" fill-rule=\"evenodd\" fill-opacity=\"1\" /><path clip-path=\"url(#clip710)\" d=\"M2191.42 224.992 Q2186.26 224.992 2184.27 226.173 Q2182.28 227.353 2182.28 230.201 Q2182.28 232.469 2183.76 233.812 Q2185.26 235.131 2187.83 235.131 Q2191.37 235.131 2193.5 232.631 Q2195.66 230.108 2195.66 225.941 L2195.66 224.992 L2191.42 224.992 M2199.92 223.233 L2199.92 238.025 L2195.66 238.025 L2195.66 234.089 Q2194.2 236.451 2192.02 237.585 Q2189.85 238.696 2186.7 238.696 Q2182.72 238.696 2180.36 236.474 Q2178.02 234.228 2178.02 230.478 Q2178.02 226.103 2180.94 223.881 Q2183.87 221.659 2189.69 221.659 L2195.66 221.659 L2195.66 221.242 Q2195.66 218.303 2193.71 216.705 Q2191.79 215.085 2188.3 215.085 Q2186.07 215.085 2183.97 215.617 Q2181.86 216.15 2179.92 217.215 L2179.92 213.279 Q2182.25 212.377 2184.45 211.937 Q2186.65 211.474 2188.74 211.474 Q2194.36 211.474 2197.14 214.391 Q2199.92 217.307 2199.92 223.233 Z\" fill=\"#000000\" fill-rule=\"evenodd\" fill-opacity=\"1\" /><path clip-path=\"url(#clip710)\" d=\"M2230.24 222.377 L2230.24 238.025 L2225.98 238.025 L2225.98 222.515 Q2225.98 218.835 2224.55 217.006 Q2223.11 215.178 2220.24 215.178 Q2216.79 215.178 2214.8 217.377 Q2212.81 219.576 2212.81 223.372 L2212.81 238.025 L2208.53 238.025 L2208.53 212.099 L2212.81 212.099 L2212.81 216.127 Q2214.34 213.789 2216.4 212.631 Q2218.48 211.474 2221.19 211.474 Q2225.66 211.474 2227.95 214.252 Q2230.24 217.006 2230.24 222.377 Z\" fill=\"#000000\" fill-rule=\"evenodd\" fill-opacity=\"1\" /><polyline clip-path=\"url(#clip710)\" style=\"stroke:#e26f46; stroke-linecap:butt; stroke-linejoin:round; stroke-width:4; stroke-opacity:1; fill:none\" points=\"\n",
       "  1708.37,272.585 1855.39,272.585 \n",
       "  \"/>\n",
       "<path clip-path=\"url(#clip710)\" d=\"M1879.9 255.305 L1909.13 255.305 L1909.13 259.24 L1896.86 259.24 L1896.86 289.865 L1892.16 289.865 L1892.16 259.24 L1879.9 259.24 L1879.9 255.305 Z\" fill=\"#000000\" fill-rule=\"evenodd\" fill-opacity=\"1\" /><path clip-path=\"url(#clip710)\" d=\"M1921.52 267.92 Q1920.8 267.504 1919.94 267.318 Q1919.11 267.11 1918.09 267.11 Q1914.48 267.11 1912.53 269.471 Q1910.61 271.809 1910.61 276.207 L1910.61 289.865 L1906.33 289.865 L1906.33 263.939 L1910.61 263.939 L1910.61 267.967 Q1911.96 265.606 1914.11 264.471 Q1916.26 263.314 1919.34 263.314 Q1919.78 263.314 1920.31 263.383 Q1920.84 263.43 1921.49 263.545 L1921.52 267.92 Z\" fill=\"#000000\" fill-rule=\"evenodd\" fill-opacity=\"1\" /><path clip-path=\"url(#clip710)\" d=\"M1925.54 279.633 L1925.54 263.939 L1929.8 263.939 L1929.8 279.471 Q1929.8 283.152 1931.24 285.004 Q1932.67 286.832 1935.54 286.832 Q1938.99 286.832 1940.98 284.633 Q1943 282.434 1943 278.638 L1943 263.939 L1947.26 263.939 L1947.26 289.865 L1943 289.865 L1943 285.883 Q1941.45 288.244 1939.39 289.402 Q1937.35 290.536 1934.64 290.536 Q1930.17 290.536 1927.86 287.758 Q1925.54 284.98 1925.54 279.633 M1936.26 263.314 L1936.26 263.314 Z\" fill=\"#000000\" fill-rule=\"evenodd\" fill-opacity=\"1\" /><path clip-path=\"url(#clip710)\" d=\"M1978.2 275.837 L1978.2 277.92 L1958.62 277.92 Q1958.9 282.318 1961.26 284.633 Q1963.64 286.925 1967.88 286.925 Q1970.33 286.925 1972.63 286.323 Q1974.94 285.721 1977.21 284.517 L1977.21 288.545 Q1974.92 289.517 1972.51 290.027 Q1970.1 290.536 1967.63 290.536 Q1961.42 290.536 1957.79 286.925 Q1954.18 283.314 1954.18 277.156 Q1954.18 270.791 1957.6 267.064 Q1961.05 263.314 1966.89 263.314 Q1972.12 263.314 1975.15 266.693 Q1978.2 270.05 1978.2 275.837 M1973.95 274.587 Q1973.9 271.092 1971.98 269.008 Q1970.08 266.925 1966.93 266.925 Q1963.37 266.925 1961.21 268.939 Q1959.08 270.953 1958.76 274.61 L1973.95 274.587 Z\" fill=\"#000000\" fill-rule=\"evenodd\" fill-opacity=\"1\" /><path clip-path=\"url(#clip710)\" d=\"M1997.21 263.939 L2001.72 263.939 L2009.82 285.698 L2017.93 263.939 L2022.44 263.939 L2012.72 289.865 L2006.93 289.865 L1997.21 263.939 Z\" fill=\"#000000\" fill-rule=\"evenodd\" fill-opacity=\"1\" /><path clip-path=\"url(#clip710)\" d=\"M2040.1 276.832 Q2034.94 276.832 2032.95 278.013 Q2030.96 279.193 2030.96 282.041 Q2030.96 284.309 2032.44 285.652 Q2033.95 286.971 2036.51 286.971 Q2040.06 286.971 2042.19 284.471 Q2044.34 281.948 2044.34 277.781 L2044.34 276.832 L2040.1 276.832 M2048.6 275.073 L2048.6 289.865 L2044.34 289.865 L2044.34 285.929 Q2042.88 288.291 2040.7 289.425 Q2038.53 290.536 2035.38 290.536 Q2031.4 290.536 2029.04 288.314 Q2026.7 286.068 2026.7 282.318 Q2026.7 277.943 2029.62 275.721 Q2032.56 273.499 2038.37 273.499 L2044.34 273.499 L2044.34 273.082 Q2044.34 270.143 2042.39 268.545 Q2040.47 266.925 2036.98 266.925 Q2034.76 266.925 2032.65 267.457 Q2030.54 267.99 2028.6 269.055 L2028.6 265.119 Q2030.94 264.217 2033.14 263.777 Q2035.33 263.314 2037.42 263.314 Q2043.04 263.314 2045.82 266.231 Q2048.6 269.147 2048.6 275.073 Z\" fill=\"#000000\" fill-rule=\"evenodd\" fill-opacity=\"1\" /><path clip-path=\"url(#clip710)\" d=\"M2057.37 253.846 L2061.63 253.846 L2061.63 289.865 L2057.37 289.865 L2057.37 253.846 Z\" fill=\"#000000\" fill-rule=\"evenodd\" fill-opacity=\"1\" /><path clip-path=\"url(#clip710)\" d=\"M2070.1 279.633 L2070.1 263.939 L2074.36 263.939 L2074.36 279.471 Q2074.36 283.152 2075.8 285.004 Q2077.23 286.832 2080.1 286.832 Q2083.55 286.832 2085.54 284.633 Q2087.56 282.434 2087.56 278.638 L2087.56 263.939 L2091.82 263.939 L2091.82 289.865 L2087.56 289.865 L2087.56 285.883 Q2086.01 288.244 2083.94 289.402 Q2081.91 290.536 2079.2 290.536 Q2074.73 290.536 2072.42 287.758 Q2070.1 284.98 2070.1 279.633 M2080.82 263.314 L2080.82 263.314 Z\" fill=\"#000000\" fill-rule=\"evenodd\" fill-opacity=\"1\" /><path clip-path=\"url(#clip710)\" d=\"M2122.76 275.837 L2122.76 277.92 L2103.18 277.92 Q2103.46 282.318 2105.82 284.633 Q2108.2 286.925 2112.44 286.925 Q2114.89 286.925 2117.19 286.323 Q2119.5 285.721 2121.77 284.517 L2121.77 288.545 Q2119.48 289.517 2117.07 290.027 Q2114.66 290.536 2112.19 290.536 Q2105.98 290.536 2102.35 286.925 Q2098.74 283.314 2098.74 277.156 Q2098.74 270.791 2102.16 267.064 Q2105.61 263.314 2111.44 263.314 Q2116.68 263.314 2119.71 266.693 Q2122.76 270.05 2122.76 275.837 M2118.5 274.587 Q2118.46 271.092 2116.54 269.008 Q2114.64 266.925 2111.49 266.925 Q2107.93 266.925 2105.77 268.939 Q2103.64 270.953 2103.32 274.61 L2118.5 274.587 Z\" fill=\"#000000\" fill-rule=\"evenodd\" fill-opacity=\"1\" /><path clip-path=\"url(#clip710)\" d=\"M2146.28 264.703 L2146.28 268.731 Q2144.48 267.805 2142.53 267.342 Q2140.59 266.879 2138.5 266.879 Q2135.33 266.879 2133.74 267.851 Q2132.16 268.823 2132.16 270.768 Q2132.16 272.249 2133.3 273.105 Q2134.43 273.939 2137.86 274.703 L2139.32 275.027 Q2143.85 275.999 2145.75 277.781 Q2147.67 279.541 2147.67 282.712 Q2147.67 286.323 2144.8 288.429 Q2141.95 290.536 2136.95 290.536 Q2134.87 290.536 2132.6 290.119 Q2130.36 289.726 2127.86 288.916 L2127.86 284.517 Q2130.22 285.744 2132.51 286.369 Q2134.8 286.971 2137.05 286.971 Q2140.06 286.971 2141.68 285.953 Q2143.3 284.911 2143.3 283.036 Q2143.3 281.3 2142.12 280.374 Q2140.96 279.448 2137 278.592 L2135.52 278.244 Q2131.56 277.411 2129.8 275.698 Q2128.04 273.962 2128.04 270.953 Q2128.04 267.295 2130.63 265.305 Q2133.23 263.314 2138 263.314 Q2140.36 263.314 2142.44 263.661 Q2144.52 264.008 2146.28 264.703 Z\" fill=\"#000000\" fill-rule=\"evenodd\" fill-opacity=\"1\" /></svg>\n"
      ]
     },
     "execution_count": 34,
     "metadata": {},
     "output_type": "execute_result"
    }
   ],
   "source": [
    "symbol_to_int(s) = parse(Int, string(s)[9:end-1])\n",
    "ϵ_chain = sort(chain_1_joint[:, [Symbol(\"ϵ_draw[$a]\") for a in 1:21], 1], lt = (x,y) -> symbol_to_int(x) < symbol_to_int(y))\n",
    "tmp = describe(ϵ_chain)\n",
    "ϵ_mean = tmp[1][:, 2]\n",
    "ϵ_std = tmp[1][:, 3]\n",
    "plot(ϵ_mean[2:end], ribbon=2 * ϵ_std[2:end], label=\"Posterior mean\", title = \"First-Order Joint: Estimated Latents\")\n",
    "plot!(ϵ', label=\"True values\")"
   ]
  },
  {
   "cell_type": "code",
   "execution_count": 35,
   "metadata": {},
   "outputs": [
    {
     "data": {
      "image/svg+xml": [
       "<?xml version=\"1.0\" encoding=\"utf-8\"?>\n",
       "<svg xmlns=\"http://www.w3.org/2000/svg\" xmlns:xlink=\"http://www.w3.org/1999/xlink\" width=\"600\" height=\"400\" viewBox=\"0 0 2400 1600\">\n",
       "<defs>\n",
       "  <clipPath id=\"clip750\">\n",
       "    <rect x=\"0\" y=\"0\" width=\"2400\" height=\"1600\"/>\n",
       "  </clipPath>\n",
       "</defs>\n",
       "<path clip-path=\"url(#clip750)\" d=\"\n",
       "M0 1600 L2400 1600 L2400 0 L0 0  Z\n",
       "  \" fill=\"#ffffff\" fill-rule=\"evenodd\" fill-opacity=\"1\"/>\n",
       "<defs>\n",
       "  <clipPath id=\"clip751\">\n",
       "    <rect x=\"480\" y=\"0\" width=\"1681\" height=\"1600\"/>\n",
       "  </clipPath>\n",
       "</defs>\n",
       "<path clip-path=\"url(#clip750)\" d=\"\n",
       "M147.478 1486.45 L2352.76 1486.45 L2352.76 123.472 L147.478 123.472  Z\n",
       "  \" fill=\"#ffffff\" fill-rule=\"evenodd\" fill-opacity=\"1\"/>\n",
       "<defs>\n",
       "  <clipPath id=\"clip752\">\n",
       "    <rect x=\"147\" y=\"123\" width=\"2206\" height=\"1364\"/>\n",
       "  </clipPath>\n",
       "</defs>\n",
       "<polyline clip-path=\"url(#clip752)\" style=\"stroke:#000000; stroke-linecap:butt; stroke-linejoin:round; stroke-width:2; stroke-opacity:0.1; fill:none\" points=\"\n",
       "  647.881,1486.45 647.881,123.472 \n",
       "  \"/>\n",
       "<polyline clip-path=\"url(#clip752)\" style=\"stroke:#000000; stroke-linecap:butt; stroke-linejoin:round; stroke-width:2; stroke-opacity:0.1; fill:none\" points=\"\n",
       "  1195.37,1486.45 1195.37,123.472 \n",
       "  \"/>\n",
       "<polyline clip-path=\"url(#clip752)\" style=\"stroke:#000000; stroke-linecap:butt; stroke-linejoin:round; stroke-width:2; stroke-opacity:0.1; fill:none\" points=\"\n",
       "  1742.86,1486.45 1742.86,123.472 \n",
       "  \"/>\n",
       "<polyline clip-path=\"url(#clip752)\" style=\"stroke:#000000; stroke-linecap:butt; stroke-linejoin:round; stroke-width:2; stroke-opacity:0.1; fill:none\" points=\"\n",
       "  2290.34,1486.45 2290.34,123.472 \n",
       "  \"/>\n",
       "<polyline clip-path=\"url(#clip750)\" style=\"stroke:#000000; stroke-linecap:butt; stroke-linejoin:round; stroke-width:4; stroke-opacity:1; fill:none\" points=\"\n",
       "  147.478,1486.45 2352.76,1486.45 \n",
       "  \"/>\n",
       "<polyline clip-path=\"url(#clip750)\" style=\"stroke:#000000; stroke-linecap:butt; stroke-linejoin:round; stroke-width:4; stroke-opacity:1; fill:none\" points=\"\n",
       "  647.881,1486.45 647.881,1467.55 \n",
       "  \"/>\n",
       "<polyline clip-path=\"url(#clip750)\" style=\"stroke:#000000; stroke-linecap:butt; stroke-linejoin:round; stroke-width:4; stroke-opacity:1; fill:none\" points=\"\n",
       "  1195.37,1486.45 1195.37,1467.55 \n",
       "  \"/>\n",
       "<polyline clip-path=\"url(#clip750)\" style=\"stroke:#000000; stroke-linecap:butt; stroke-linejoin:round; stroke-width:4; stroke-opacity:1; fill:none\" points=\"\n",
       "  1742.86,1486.45 1742.86,1467.55 \n",
       "  \"/>\n",
       "<polyline clip-path=\"url(#clip750)\" style=\"stroke:#000000; stroke-linecap:butt; stroke-linejoin:round; stroke-width:4; stroke-opacity:1; fill:none\" points=\"\n",
       "  2290.34,1486.45 2290.34,1467.55 \n",
       "  \"/>\n",
       "<path clip-path=\"url(#clip750)\" d=\"M638.159 1514.29 L656.515 1514.29 L656.515 1518.22 L642.441 1518.22 L642.441 1526.7 Q643.46 1526.35 644.478 1526.19 Q645.497 1526 646.515 1526 Q652.302 1526 655.682 1529.17 Q659.062 1532.34 659.062 1537.76 Q659.062 1543.34 655.589 1546.44 Q652.117 1549.52 645.798 1549.52 Q643.622 1549.52 641.353 1549.15 Q639.108 1548.78 636.701 1548.04 L636.701 1543.34 Q638.784 1544.47 641.006 1545.03 Q643.228 1545.58 645.705 1545.58 Q649.71 1545.58 652.048 1543.48 Q654.386 1541.37 654.386 1537.76 Q654.386 1534.15 652.048 1532.04 Q649.71 1529.94 645.705 1529.94 Q643.83 1529.94 641.955 1530.35 Q640.103 1530.77 638.159 1531.65 L638.159 1514.29 Z\" fill=\"#000000\" fill-rule=\"evenodd\" fill-opacity=\"1\" /><path clip-path=\"url(#clip750)\" d=\"M1170.06 1544.91 L1177.69 1544.91 L1177.69 1518.55 L1169.38 1520.21 L1169.38 1515.95 L1177.65 1514.29 L1182.32 1514.29 L1182.32 1544.91 L1189.96 1544.91 L1189.96 1548.85 L1170.06 1548.85 L1170.06 1544.91 Z\" fill=\"#000000\" fill-rule=\"evenodd\" fill-opacity=\"1\" /><path clip-path=\"url(#clip750)\" d=\"M1209.41 1517.37 Q1205.8 1517.37 1203.97 1520.93 Q1202.16 1524.47 1202.16 1531.6 Q1202.16 1538.71 1203.97 1542.27 Q1205.8 1545.82 1209.41 1545.82 Q1213.04 1545.82 1214.85 1542.27 Q1216.68 1538.71 1216.68 1531.6 Q1216.68 1524.47 1214.85 1520.93 Q1213.04 1517.37 1209.41 1517.37 M1209.41 1513.66 Q1215.22 1513.66 1218.27 1518.27 Q1221.35 1522.85 1221.35 1531.6 Q1221.35 1540.33 1218.27 1544.94 Q1215.22 1549.52 1209.41 1549.52 Q1203.6 1549.52 1200.52 1544.94 Q1197.46 1540.33 1197.46 1531.6 Q1197.46 1522.85 1200.52 1518.27 Q1203.6 1513.66 1209.41 1513.66 Z\" fill=\"#000000\" fill-rule=\"evenodd\" fill-opacity=\"1\" /><path clip-path=\"url(#clip750)\" d=\"M1718.04 1544.91 L1725.68 1544.91 L1725.68 1518.55 L1717.37 1520.21 L1717.37 1515.95 L1725.63 1514.29 L1730.31 1514.29 L1730.31 1544.91 L1737.95 1544.91 L1737.95 1548.85 L1718.04 1548.85 L1718.04 1544.91 Z\" fill=\"#000000\" fill-rule=\"evenodd\" fill-opacity=\"1\" /><path clip-path=\"url(#clip750)\" d=\"M1747.44 1514.29 L1765.79 1514.29 L1765.79 1518.22 L1751.72 1518.22 L1751.72 1526.7 Q1752.74 1526.35 1753.76 1526.19 Q1754.78 1526 1755.8 1526 Q1761.58 1526 1764.96 1529.17 Q1768.34 1532.34 1768.34 1537.76 Q1768.34 1543.34 1764.87 1546.44 Q1761.4 1549.52 1755.08 1549.52 Q1752.9 1549.52 1750.63 1549.15 Q1748.39 1548.78 1745.98 1548.04 L1745.98 1543.34 Q1748.06 1544.47 1750.29 1545.03 Q1752.51 1545.58 1754.98 1545.58 Q1758.99 1545.58 1761.33 1543.48 Q1763.67 1541.37 1763.67 1537.76 Q1763.67 1534.15 1761.33 1532.04 Q1758.99 1529.94 1754.98 1529.94 Q1753.11 1529.94 1751.23 1530.35 Q1749.38 1530.77 1747.44 1531.65 L1747.44 1514.29 Z\" fill=\"#000000\" fill-rule=\"evenodd\" fill-opacity=\"1\" /><path clip-path=\"url(#clip750)\" d=\"M2269.12 1544.91 L2285.43 1544.91 L2285.43 1548.85 L2263.49 1548.85 L2263.49 1544.91 Q2266.15 1542.16 2270.74 1537.53 Q2275.34 1532.88 2276.52 1531.53 Q2278.77 1529.01 2279.65 1527.27 Q2280.55 1525.51 2280.55 1523.82 Q2280.55 1521.07 2278.61 1519.33 Q2276.69 1517.6 2273.58 1517.6 Q2271.38 1517.6 2268.93 1518.36 Q2266.5 1519.13 2263.72 1520.68 L2263.72 1515.95 Q2266.55 1514.82 2269 1514.24 Q2271.45 1513.66 2273.49 1513.66 Q2278.86 1513.66 2282.06 1516.35 Q2285.25 1519.03 2285.25 1523.52 Q2285.25 1525.65 2284.44 1527.57 Q2283.65 1529.47 2281.55 1532.07 Q2280.97 1532.74 2277.87 1535.95 Q2274.76 1539.15 2269.12 1544.91 Z\" fill=\"#000000\" fill-rule=\"evenodd\" fill-opacity=\"1\" /><path clip-path=\"url(#clip750)\" d=\"M2305.25 1517.37 Q2301.64 1517.37 2299.81 1520.93 Q2298 1524.47 2298 1531.6 Q2298 1538.71 2299.81 1542.27 Q2301.64 1545.82 2305.25 1545.82 Q2308.88 1545.82 2310.69 1542.27 Q2312.52 1538.71 2312.52 1531.6 Q2312.52 1524.47 2310.69 1520.93 Q2308.88 1517.37 2305.25 1517.37 M2305.25 1513.66 Q2311.06 1513.66 2314.12 1518.27 Q2317.19 1522.85 2317.19 1531.6 Q2317.19 1540.33 2314.12 1544.94 Q2311.06 1549.52 2305.25 1549.52 Q2299.44 1549.52 2296.36 1544.94 Q2293.31 1540.33 2293.31 1531.6 Q2293.31 1522.85 2296.36 1518.27 Q2299.44 1513.66 2305.25 1513.66 Z\" fill=\"#000000\" fill-rule=\"evenodd\" fill-opacity=\"1\" /><polyline clip-path=\"url(#clip752)\" style=\"stroke:#000000; stroke-linecap:butt; stroke-linejoin:round; stroke-width:2; stroke-opacity:0.1; fill:none\" points=\"\n",
       "  147.478,1480.4 2352.76,1480.4 \n",
       "  \"/>\n",
       "<polyline clip-path=\"url(#clip752)\" style=\"stroke:#000000; stroke-linecap:butt; stroke-linejoin:round; stroke-width:2; stroke-opacity:0.1; fill:none\" points=\"\n",
       "  147.478,1233.74 2352.76,1233.74 \n",
       "  \"/>\n",
       "<polyline clip-path=\"url(#clip752)\" style=\"stroke:#000000; stroke-linecap:butt; stroke-linejoin:round; stroke-width:2; stroke-opacity:0.1; fill:none\" points=\"\n",
       "  147.478,987.086 2352.76,987.086 \n",
       "  \"/>\n",
       "<polyline clip-path=\"url(#clip752)\" style=\"stroke:#000000; stroke-linecap:butt; stroke-linejoin:round; stroke-width:2; stroke-opacity:0.1; fill:none\" points=\"\n",
       "  147.478,740.43 2352.76,740.43 \n",
       "  \"/>\n",
       "<polyline clip-path=\"url(#clip752)\" style=\"stroke:#000000; stroke-linecap:butt; stroke-linejoin:round; stroke-width:2; stroke-opacity:0.1; fill:none\" points=\"\n",
       "  147.478,493.774 2352.76,493.774 \n",
       "  \"/>\n",
       "<polyline clip-path=\"url(#clip752)\" style=\"stroke:#000000; stroke-linecap:butt; stroke-linejoin:round; stroke-width:2; stroke-opacity:0.1; fill:none\" points=\"\n",
       "  147.478,247.117 2352.76,247.117 \n",
       "  \"/>\n",
       "<polyline clip-path=\"url(#clip750)\" style=\"stroke:#000000; stroke-linecap:butt; stroke-linejoin:round; stroke-width:4; stroke-opacity:1; fill:none\" points=\"\n",
       "  147.478,1486.45 147.478,123.472 \n",
       "  \"/>\n",
       "<polyline clip-path=\"url(#clip750)\" style=\"stroke:#000000; stroke-linecap:butt; stroke-linejoin:round; stroke-width:4; stroke-opacity:1; fill:none\" points=\"\n",
       "  147.478,1480.4 166.376,1480.4 \n",
       "  \"/>\n",
       "<polyline clip-path=\"url(#clip750)\" style=\"stroke:#000000; stroke-linecap:butt; stroke-linejoin:round; stroke-width:4; stroke-opacity:1; fill:none\" points=\"\n",
       "  147.478,1233.74 166.376,1233.74 \n",
       "  \"/>\n",
       "<polyline clip-path=\"url(#clip750)\" style=\"stroke:#000000; stroke-linecap:butt; stroke-linejoin:round; stroke-width:4; stroke-opacity:1; fill:none\" points=\"\n",
       "  147.478,987.086 166.376,987.086 \n",
       "  \"/>\n",
       "<polyline clip-path=\"url(#clip750)\" style=\"stroke:#000000; stroke-linecap:butt; stroke-linejoin:round; stroke-width:4; stroke-opacity:1; fill:none\" points=\"\n",
       "  147.478,740.43 166.376,740.43 \n",
       "  \"/>\n",
       "<polyline clip-path=\"url(#clip750)\" style=\"stroke:#000000; stroke-linecap:butt; stroke-linejoin:round; stroke-width:4; stroke-opacity:1; fill:none\" points=\"\n",
       "  147.478,493.774 166.376,493.774 \n",
       "  \"/>\n",
       "<polyline clip-path=\"url(#clip750)\" style=\"stroke:#000000; stroke-linecap:butt; stroke-linejoin:round; stroke-width:4; stroke-opacity:1; fill:none\" points=\"\n",
       "  147.478,247.117 166.376,247.117 \n",
       "  \"/>\n",
       "<path clip-path=\"url(#clip750)\" d=\"M51.3625 1480.85 L81.0383 1480.85 L81.0383 1484.79 L51.3625 1484.79 L51.3625 1480.85 Z\" fill=\"#000000\" fill-rule=\"evenodd\" fill-opacity=\"1\" /><path clip-path=\"url(#clip750)\" d=\"M95.1586 1493.74 L111.478 1493.74 L111.478 1497.68 L89.5336 1497.68 L89.5336 1493.74 Q92.1956 1490.99 96.7789 1486.36 Q101.385 1481.71 102.566 1480.36 Q104.811 1477.84 105.691 1476.1 Q106.594 1474.35 106.594 1472.66 Q106.594 1469.9 104.649 1468.16 Q102.728 1466.43 99.6261 1466.43 Q97.4271 1466.43 94.9734 1467.19 Q92.5428 1467.96 89.7651 1469.51 L89.7651 1464.79 Q92.5891 1463.65 95.0428 1463.07 Q97.4965 1462.49 99.5335 1462.49 Q104.904 1462.49 108.098 1465.18 Q111.293 1467.86 111.293 1472.35 Q111.293 1474.48 110.483 1476.41 Q109.696 1478.3 107.589 1480.9 Q107.01 1481.57 103.909 1484.79 Q100.807 1487.98 95.1586 1493.74 Z\" fill=\"#000000\" fill-rule=\"evenodd\" fill-opacity=\"1\" /><path clip-path=\"url(#clip750)\" d=\"M50.9921 1234.19 L80.6679 1234.19 L80.6679 1238.13 L50.9921 1238.13 L50.9921 1234.19 Z\" fill=\"#000000\" fill-rule=\"evenodd\" fill-opacity=\"1\" /><path clip-path=\"url(#clip750)\" d=\"M91.5706 1247.09 L99.2095 1247.09 L99.2095 1220.72 L90.8993 1222.39 L90.8993 1218.13 L99.1632 1216.46 L103.839 1216.46 L103.839 1247.09 L111.478 1247.09 L111.478 1251.02 L91.5706 1251.02 L91.5706 1247.09 Z\" fill=\"#000000\" fill-rule=\"evenodd\" fill-opacity=\"1\" /><path clip-path=\"url(#clip750)\" d=\"M99.5335 972.885 Q95.9224 972.885 94.0937 976.45 Q92.2882 979.991 92.2882 987.121 Q92.2882 994.227 94.0937 997.792 Q95.9224 1001.33 99.5335 1001.33 Q103.168 1001.33 104.973 997.792 Q106.802 994.227 106.802 987.121 Q106.802 979.991 104.973 976.45 Q103.168 972.885 99.5335 972.885 M99.5335 969.181 Q105.344 969.181 108.399 973.788 Q111.478 978.371 111.478 987.121 Q111.478 995.848 108.399 1000.45 Q105.344 1005.04 99.5335 1005.04 Q93.7234 1005.04 90.6447 1000.45 Q87.5892 995.848 87.5892 987.121 Q87.5892 978.371 90.6447 973.788 Q93.7234 969.181 99.5335 969.181 Z\" fill=\"#000000\" fill-rule=\"evenodd\" fill-opacity=\"1\" /><path clip-path=\"url(#clip750)\" d=\"M91.5706 753.775 L99.2095 753.775 L99.2095 727.409 L90.8993 729.076 L90.8993 724.817 L99.1632 723.15 L103.839 723.15 L103.839 753.775 L111.478 753.775 L111.478 757.71 L91.5706 757.71 L91.5706 753.775 Z\" fill=\"#000000\" fill-rule=\"evenodd\" fill-opacity=\"1\" /><path clip-path=\"url(#clip750)\" d=\"M95.1586 507.119 L111.478 507.119 L111.478 511.054 L89.5336 511.054 L89.5336 507.119 Q92.1956 504.364 96.7789 499.734 Q101.385 495.082 102.566 493.739 Q104.811 491.216 105.691 489.48 Q106.594 487.72 106.594 486.031 Q106.594 483.276 104.649 481.54 Q102.728 479.804 99.6261 479.804 Q97.4271 479.804 94.9734 480.568 Q92.5428 481.332 89.7651 482.883 L89.7651 478.16 Q92.5891 477.026 95.0428 476.447 Q97.4965 475.869 99.5335 475.869 Q104.904 475.869 108.098 478.554 Q111.293 481.239 111.293 485.73 Q111.293 487.859 110.483 489.781 Q109.696 491.679 107.589 494.271 Q107.01 494.943 103.909 498.16 Q100.807 501.355 95.1586 507.119 Z\" fill=\"#000000\" fill-rule=\"evenodd\" fill-opacity=\"1\" /><path clip-path=\"url(#clip750)\" d=\"M104.348 245.763 Q107.705 246.481 109.58 248.749 Q111.478 251.018 111.478 254.351 Q111.478 259.467 107.959 262.268 Q104.441 265.069 97.9595 265.069 Q95.7836 265.069 93.4688 264.629 Q91.1771 264.212 88.7234 263.356 L88.7234 258.842 Q90.6678 259.976 92.9826 260.555 Q95.2974 261.134 97.8206 261.134 Q102.219 261.134 104.51 259.397 Q106.825 257.661 106.825 254.351 Q106.825 251.296 104.672 249.583 Q102.543 247.847 98.7234 247.847 L94.6956 247.847 L94.6956 244.004 L98.9085 244.004 Q102.358 244.004 104.186 242.638 Q106.015 241.249 106.015 238.657 Q106.015 235.995 104.117 234.583 Q102.242 233.148 98.7234 233.148 Q96.8021 233.148 94.603 233.564 Q92.4039 233.981 89.7651 234.861 L89.7651 230.694 Q92.4271 229.953 94.7419 229.583 Q97.0798 229.212 99.14 229.212 Q104.464 229.212 107.566 231.643 Q110.668 234.05 110.668 238.171 Q110.668 241.041 109.024 243.032 Q107.381 244.999 104.348 245.763 Z\" fill=\"#000000\" fill-rule=\"evenodd\" fill-opacity=\"1\" /><path clip-path=\"url(#clip750)\" d=\"M497.884 14.0809 L497.884 22.0612 Q493.226 19.8332 489.094 18.7395 Q484.962 17.6457 481.114 17.6457 Q474.43 17.6457 470.784 20.2383 Q467.178 22.8309 467.178 27.611 Q467.178 31.6214 469.568 33.6873 Q471.999 35.7128 478.723 36.9686 L483.666 37.9813 Q492.821 39.7232 497.155 44.1387 Q501.53 48.5136 501.53 55.8863 Q501.53 64.6767 495.616 69.2137 Q489.742 73.7508 478.359 73.7508 Q474.065 73.7508 469.204 72.7785 Q464.383 71.8063 459.198 69.9024 L459.198 61.4765 Q464.181 64.2716 468.961 65.6895 Q473.741 67.1073 478.359 67.1073 Q485.367 67.1073 489.175 64.3527 Q492.983 61.598 492.983 56.4939 Q492.983 52.0379 490.228 49.5264 Q487.514 47.0148 481.276 45.759 L476.293 44.7868 Q467.138 42.9639 463.046 39.075 Q458.955 35.1862 458.955 28.2591 Q458.955 20.2383 464.586 15.6203 Q470.257 11.0023 480.182 11.0023 Q484.435 11.0023 488.851 11.7719 Q493.266 12.5416 497.884 14.0809 Z\" fill=\"#000000\" fill-rule=\"evenodd\" fill-opacity=\"1\" /><path clip-path=\"url(#clip750)\" d=\"M552.774 48.0275 L552.774 51.6733 L518.503 51.6733 Q518.989 59.3701 523.121 63.421 Q527.294 67.4314 534.707 67.4314 Q539.001 67.4314 543.011 66.3781 Q547.062 65.3249 551.032 63.2184 L551.032 70.267 Q547.022 71.9684 542.809 72.8596 Q538.596 73.7508 534.261 73.7508 Q523.405 73.7508 517.045 67.4314 Q510.726 61.1119 510.726 50.3365 Q510.726 39.1965 516.721 32.6746 Q522.757 26.1121 532.965 26.1121 Q542.12 26.1121 547.427 32.0264 Q552.774 37.9003 552.774 48.0275 M545.32 45.84 Q545.239 39.7232 541.877 36.0774 Q538.555 32.4315 533.046 32.4315 Q526.808 32.4315 523.04 35.9558 Q519.314 39.4801 518.746 45.8805 L545.32 45.84 Z\" fill=\"#000000\" fill-rule=\"evenodd\" fill-opacity=\"1\" /><path clip-path=\"url(#clip750)\" d=\"M597.658 28.9478 L597.658 35.9153 Q594.498 34.1734 591.298 33.3227 Q588.138 32.4315 584.898 32.4315 Q577.647 32.4315 573.636 37.0496 Q569.626 41.6271 569.626 49.9314 Q569.626 58.2358 573.636 62.8538 Q577.647 67.4314 584.898 67.4314 Q588.138 67.4314 591.298 66.5807 Q594.498 65.6895 597.658 63.9476 L597.658 70.8341 Q594.539 72.2924 591.177 73.0216 Q587.855 73.7508 584.087 73.7508 Q573.839 73.7508 567.803 67.3098 Q561.767 60.8689 561.767 49.9314 Q561.767 38.832 567.843 32.472 Q573.96 26.1121 584.574 26.1121 Q588.017 26.1121 591.298 26.8413 Q594.579 27.5299 597.658 28.9478 Z\" fill=\"#000000\" fill-rule=\"evenodd\" fill-opacity=\"1\" /><path clip-path=\"url(#clip750)\" d=\"M628.202 32.4315 Q622.207 32.4315 618.723 37.1306 Q615.239 41.7891 615.239 49.9314 Q615.239 58.0738 618.682 62.7728 Q622.166 67.4314 628.202 67.4314 Q634.157 67.4314 637.64 62.7323 Q641.124 58.0333 641.124 49.9314 Q641.124 41.8701 637.64 37.1711 Q634.157 32.4315 628.202 32.4315 M628.202 26.1121 Q637.924 26.1121 643.474 32.4315 Q649.023 38.7509 649.023 49.9314 Q649.023 61.0714 643.474 67.4314 Q637.924 73.7508 628.202 73.7508 Q618.439 73.7508 612.889 67.4314 Q607.38 61.0714 607.38 49.9314 Q607.38 38.7509 612.889 32.4315 Q618.439 26.1121 628.202 26.1121 Z\" fill=\"#000000\" fill-rule=\"evenodd\" fill-opacity=\"1\" /><path clip-path=\"url(#clip750)\" d=\"M699.093 45.1919 L699.093 72.576 L691.639 72.576 L691.639 45.4349 Q691.639 38.994 689.127 35.7938 Q686.616 32.5936 681.593 32.5936 Q675.557 32.5936 672.073 36.4419 Q668.589 40.2903 668.589 46.9338 L668.589 72.576 L661.095 72.576 L661.095 27.2059 L668.589 27.2059 L668.589 34.2544 Q671.263 30.163 674.868 28.1376 Q678.514 26.1121 683.254 26.1121 Q691.072 26.1121 695.082 30.9732 Q699.093 35.7938 699.093 45.1919 Z\" fill=\"#000000\" fill-rule=\"evenodd\" fill-opacity=\"1\" /><path clip-path=\"url(#clip750)\" d=\"M743.815 34.0924 L743.815 9.54393 L751.268 9.54393 L751.268 72.576 L743.815 72.576 L743.815 65.7705 Q741.465 69.8214 737.86 71.8063 Q734.295 73.7508 729.272 73.7508 Q721.049 73.7508 715.863 67.1883 Q710.719 60.6258 710.719 49.9314 Q710.719 39.2371 715.863 32.6746 Q721.049 26.1121 729.272 26.1121 Q734.295 26.1121 737.86 28.0971 Q741.465 30.0415 743.815 34.0924 M718.415 49.9314 Q718.415 58.1548 721.778 62.8538 Q725.18 67.5124 731.095 67.5124 Q737.009 67.5124 740.412 62.8538 Q743.815 58.1548 743.815 49.9314 Q743.815 41.7081 740.412 37.0496 Q737.009 32.3505 731.095 32.3505 Q725.18 32.3505 721.778 37.0496 Q718.415 41.7081 718.415 49.9314 Z\" fill=\"#000000\" fill-rule=\"evenodd\" fill-opacity=\"1\" /><path clip-path=\"url(#clip750)\" d=\"M762.854 46.5287 L784.688 46.5287 L784.688 53.1722 L762.854 53.1722 L762.854 46.5287 Z\" fill=\"#000000\" fill-rule=\"evenodd\" fill-opacity=\"1\" /><path clip-path=\"url(#clip750)\" d=\"M823.739 17.6457 Q814.827 17.6457 809.561 24.2892 Q804.335 30.9327 804.335 42.3968 Q804.335 53.8203 809.561 60.4638 Q814.827 67.1073 823.739 67.1073 Q832.651 67.1073 837.836 60.4638 Q843.062 53.8203 843.062 42.3968 Q843.062 30.9327 837.836 24.2892 Q832.651 17.6457 823.739 17.6457 M823.739 11.0023 Q836.459 11.0023 844.075 19.5497 Q851.69 28.0566 851.69 42.3968 Q851.69 56.6965 844.075 65.2439 Q836.459 73.7508 823.739 73.7508 Q810.979 73.7508 803.322 65.2439 Q795.707 56.737 795.707 42.3968 Q795.707 28.0566 803.322 19.5497 Q810.979 11.0023 823.739 11.0023 Z\" fill=\"#000000\" fill-rule=\"evenodd\" fill-opacity=\"1\" /><path clip-path=\"url(#clip750)\" d=\"M890.457 34.1734 Q889.202 33.4443 887.703 33.1202 Q886.244 32.7556 884.462 32.7556 Q878.143 32.7556 874.74 36.8875 Q871.378 40.9789 871.378 48.6757 L871.378 72.576 L863.883 72.576 L863.883 27.2059 L871.378 27.2059 L871.378 34.2544 Q873.727 30.1225 877.494 28.1376 Q881.262 26.1121 886.65 26.1121 Q887.419 26.1121 888.351 26.2337 Q889.283 26.3147 890.417 26.5172 L890.457 34.1734 Z\" fill=\"#000000\" fill-rule=\"evenodd\" fill-opacity=\"1\" /><path clip-path=\"url(#clip750)\" d=\"M926.672 34.0924 L926.672 9.54393 L934.126 9.54393 L934.126 72.576 L926.672 72.576 L926.672 65.7705 Q924.323 69.8214 920.718 71.8063 Q917.153 73.7508 912.13 73.7508 Q903.906 73.7508 898.721 67.1883 Q893.577 60.6258 893.577 49.9314 Q893.577 39.2371 898.721 32.6746 Q903.906 26.1121 912.13 26.1121 Q917.153 26.1121 920.718 28.0971 Q924.323 30.0415 926.672 34.0924 M901.273 49.9314 Q901.273 58.1548 904.636 62.8538 Q908.038 67.5124 913.953 67.5124 Q919.867 67.5124 923.27 62.8538 Q926.672 58.1548 926.672 49.9314 Q926.672 41.7081 923.27 37.0496 Q919.867 32.3505 913.953 32.3505 Q908.038 32.3505 904.636 37.0496 Q901.273 41.7081 901.273 49.9314 Z\" fill=\"#000000\" fill-rule=\"evenodd\" fill-opacity=\"1\" /><path clip-path=\"url(#clip750)\" d=\"M988.287 48.0275 L988.287 51.6733 L954.016 51.6733 Q954.502 59.3701 958.634 63.421 Q962.807 67.4314 970.22 67.4314 Q974.514 67.4314 978.524 66.3781 Q982.575 65.3249 986.545 63.2184 L986.545 70.267 Q982.534 71.9684 978.321 72.8596 Q974.109 73.7508 969.774 73.7508 Q958.918 73.7508 952.558 67.4314 Q946.238 61.1119 946.238 50.3365 Q946.238 39.1965 952.234 32.6746 Q958.27 26.1121 968.478 26.1121 Q977.633 26.1121 982.94 32.0264 Q988.287 37.9003 988.287 48.0275 M980.833 45.84 Q980.752 39.7232 977.39 36.0774 Q974.068 32.4315 968.559 32.4315 Q962.32 32.4315 958.553 35.9558 Q954.826 39.4801 954.259 45.8805 L980.833 45.84 Z\" fill=\"#000000\" fill-rule=\"evenodd\" fill-opacity=\"1\" /><path clip-path=\"url(#clip750)\" d=\"M1026.81 34.1734 Q1025.56 33.4443 1024.06 33.1202 Q1022.6 32.7556 1020.82 32.7556 Q1014.5 32.7556 1011.09 36.8875 Q1007.73 40.9789 1007.73 48.6757 L1007.73 72.576 L1000.24 72.576 L1000.24 27.2059 L1007.73 27.2059 L1007.73 34.2544 Q1010.08 30.1225 1013.85 28.1376 Q1017.62 26.1121 1023 26.1121 Q1023.77 26.1121 1024.7 26.2337 Q1025.64 26.3147 1026.77 26.5172 L1026.81 34.1734 Z\" fill=\"#000000\" fill-rule=\"evenodd\" fill-opacity=\"1\" /><path clip-path=\"url(#clip750)\" d=\"M1061.32 12.096 L1069.51 12.096 L1069.51 68.3631 Q1069.51 79.3005 1065.33 84.2426 Q1061.2 89.1847 1052.01 89.1847 L1048.89 89.1847 L1048.89 82.2982 L1051.44 82.2982 Q1056.87 82.2982 1059.1 79.26 Q1061.32 76.2218 1061.32 68.3631 L1061.32 12.096 Z\" fill=\"#000000\" fill-rule=\"evenodd\" fill-opacity=\"1\" /><path clip-path=\"url(#clip750)\" d=\"M1103.05 32.4315 Q1097.05 32.4315 1093.57 37.1306 Q1090.09 41.7891 1090.09 49.9314 Q1090.09 58.0738 1093.53 62.7728 Q1097.01 67.4314 1103.05 67.4314 Q1109 67.4314 1112.49 62.7323 Q1115.97 58.0333 1115.97 49.9314 Q1115.97 41.8701 1112.49 37.1711 Q1109 32.4315 1103.05 32.4315 M1103.05 26.1121 Q1112.77 26.1121 1118.32 32.4315 Q1123.87 38.7509 1123.87 49.9314 Q1123.87 61.0714 1118.32 67.4314 Q1112.77 73.7508 1103.05 73.7508 Q1093.29 73.7508 1087.74 67.4314 Q1082.23 61.0714 1082.23 49.9314 Q1082.23 38.7509 1087.74 32.4315 Q1093.29 26.1121 1103.05 26.1121 Z\" fill=\"#000000\" fill-rule=\"evenodd\" fill-opacity=\"1\" /><path clip-path=\"url(#clip750)\" d=\"M1136.23 27.2059 L1143.68 27.2059 L1143.68 72.576 L1136.23 72.576 L1136.23 27.2059 M1136.23 9.54393 L1143.68 9.54393 L1143.68 18.9825 L1136.23 18.9825 L1136.23 9.54393 Z\" fill=\"#000000\" fill-rule=\"evenodd\" fill-opacity=\"1\" /><path clip-path=\"url(#clip750)\" d=\"M1196.99 45.1919 L1196.99 72.576 L1189.54 72.576 L1189.54 45.4349 Q1189.54 38.994 1187.02 35.7938 Q1184.51 32.5936 1179.49 32.5936 Q1173.45 32.5936 1169.97 36.4419 Q1166.49 40.2903 1166.49 46.9338 L1166.49 72.576 L1158.99 72.576 L1158.99 27.2059 L1166.49 27.2059 L1166.49 34.2544 Q1169.16 30.163 1172.76 28.1376 Q1176.41 26.1121 1181.15 26.1121 Q1188.97 26.1121 1192.98 30.9732 Q1196.99 35.7938 1196.99 45.1919 Z\" fill=\"#000000\" fill-rule=\"evenodd\" fill-opacity=\"1\" /><path clip-path=\"url(#clip750)\" d=\"M1219.23 14.324 L1219.23 27.2059 L1234.58 27.2059 L1234.58 32.9987 L1219.23 32.9987 L1219.23 57.6282 Q1219.23 63.1779 1220.73 64.7578 Q1222.27 66.3376 1226.93 66.3376 L1234.58 66.3376 L1234.58 72.576 L1226.93 72.576 Q1218.3 72.576 1215.02 69.3758 Q1211.73 66.1351 1211.73 57.6282 L1211.73 32.9987 L1206.27 32.9987 L1206.27 27.2059 L1211.73 27.2059 L1211.73 14.324 L1219.23 14.324 Z\" fill=\"#000000\" fill-rule=\"evenodd\" fill-opacity=\"1\" /><path clip-path=\"url(#clip750)\" d=\"M1246.29 62.2867 L1254.84 62.2867 L1254.84 72.576 L1246.29 72.576 L1246.29 62.2867 M1246.29 29.6769 L1254.84 29.6769 L1254.84 39.9662 L1246.29 39.9662 L1246.29 29.6769 Z\" fill=\"#000000\" fill-rule=\"evenodd\" fill-opacity=\"1\" /><path clip-path=\"url(#clip750)\" d=\"M1299.03 12.096 L1337.27 12.096 L1337.27 18.9825 L1307.21 18.9825 L1307.21 36.8875 L1336.02 36.8875 L1336.02 43.7741 L1307.21 43.7741 L1307.21 65.6895 L1338 65.6895 L1338 72.576 L1299.03 72.576 L1299.03 12.096 Z\" fill=\"#000000\" fill-rule=\"evenodd\" fill-opacity=\"1\" /><path clip-path=\"url(#clip750)\" d=\"M1380.05 28.5427 L1380.05 35.5912 Q1376.89 33.9709 1373.49 33.1607 Q1370.08 32.3505 1366.44 32.3505 Q1360.89 32.3505 1358.09 34.0519 Q1355.34 35.7533 1355.34 39.156 Q1355.34 41.7486 1357.32 43.2475 Q1359.31 44.7058 1365.3 46.0426 L1367.86 46.6097 Q1375.8 48.3111 1379.12 51.4303 Q1382.48 54.509 1382.48 60.0587 Q1382.48 66.3781 1377.46 70.0644 Q1372.47 73.7508 1363.72 73.7508 Q1360.08 73.7508 1356.11 73.0216 Q1352.18 72.3329 1347.8 70.9151 L1347.8 63.2184 Q1351.94 65.3654 1355.95 66.4591 Q1359.96 67.5124 1363.89 67.5124 Q1369.15 67.5124 1371.99 65.73 Q1374.82 63.9071 1374.82 60.6258 Q1374.82 57.5877 1372.76 55.9673 Q1370.73 54.3469 1363.81 52.8481 L1361.21 52.2405 Q1354.29 50.7821 1351.21 47.7845 Q1348.13 44.7463 1348.13 39.4801 Q1348.13 33.0797 1352.67 29.5959 Q1357.2 26.1121 1365.55 26.1121 Q1369.68 26.1121 1373.33 26.7198 Q1376.97 27.3274 1380.05 28.5427 Z\" fill=\"#000000\" fill-rule=\"evenodd\" fill-opacity=\"1\" /><path clip-path=\"url(#clip750)\" d=\"M1401.72 14.324 L1401.72 27.2059 L1417.07 27.2059 L1417.07 32.9987 L1401.72 32.9987 L1401.72 57.6282 Q1401.72 63.1779 1403.22 64.7578 Q1404.76 66.3376 1409.42 66.3376 L1417.07 66.3376 L1417.07 72.576 L1409.42 72.576 Q1400.79 72.576 1397.51 69.3758 Q1394.23 66.1351 1394.23 57.6282 L1394.23 32.9987 L1388.76 32.9987 L1388.76 27.2059 L1394.23 27.2059 L1394.23 14.324 L1401.72 14.324 Z\" fill=\"#000000\" fill-rule=\"evenodd\" fill-opacity=\"1\" /><path clip-path=\"url(#clip750)\" d=\"M1426.88 27.2059 L1434.33 27.2059 L1434.33 72.576 L1426.88 72.576 L1426.88 27.2059 M1426.88 9.54393 L1434.33 9.54393 L1434.33 18.9825 L1426.88 18.9825 L1426.88 9.54393 Z\" fill=\"#000000\" fill-rule=\"evenodd\" fill-opacity=\"1\" /><path clip-path=\"url(#clip750)\" d=\"M1485.25 35.9153 Q1488.05 30.8922 1491.94 28.5022 Q1495.82 26.1121 1501.09 26.1121 Q1508.18 26.1121 1512.03 31.0947 Q1515.88 36.0368 1515.88 45.1919 L1515.88 72.576 L1508.38 72.576 L1508.38 45.4349 Q1508.38 38.913 1506.07 35.7533 Q1503.76 32.5936 1499.02 32.5936 Q1493.23 32.5936 1489.87 36.4419 Q1486.51 40.2903 1486.51 46.9338 L1486.51 72.576 L1479.01 72.576 L1479.01 45.4349 Q1479.01 38.8725 1476.7 35.7533 Q1474.4 32.5936 1469.57 32.5936 Q1463.86 32.5936 1460.5 36.4824 Q1457.14 40.3308 1457.14 46.9338 L1457.14 72.576 L1449.64 72.576 L1449.64 27.2059 L1457.14 27.2059 L1457.14 34.2544 Q1459.69 30.082 1463.26 28.0971 Q1466.82 26.1121 1471.72 26.1121 Q1476.66 26.1121 1480.11 28.6237 Q1483.59 31.1352 1485.25 35.9153 Z\" fill=\"#000000\" fill-rule=\"evenodd\" fill-opacity=\"1\" /><path clip-path=\"url(#clip750)\" d=\"M1551.36 49.7694 Q1542.33 49.7694 1538.85 51.8354 Q1535.36 53.9013 1535.36 58.8839 Q1535.36 62.8538 1537.95 65.2034 Q1540.59 67.5124 1545.08 67.5124 Q1551.28 67.5124 1555.01 63.1374 Q1558.78 58.7219 1558.78 51.4303 L1558.78 49.7694 L1551.36 49.7694 M1566.23 46.6907 L1566.23 72.576 L1558.78 72.576 L1558.78 65.6895 Q1556.22 69.8214 1552.42 71.8063 Q1548.61 73.7508 1543.1 73.7508 Q1536.13 73.7508 1532 69.8619 Q1527.91 65.9325 1527.91 59.3701 Q1527.91 51.7138 1533.01 47.825 Q1538.16 43.9361 1548.32 43.9361 L1558.78 43.9361 L1558.78 43.2069 Q1558.78 38.0623 1555.37 35.2672 Q1552.01 32.4315 1545.89 32.4315 Q1542 32.4315 1538.32 33.3632 Q1534.63 34.295 1531.23 36.1584 L1531.23 29.2718 Q1535.32 27.692 1539.17 26.9223 Q1543.02 26.1121 1546.66 26.1121 Q1556.51 26.1121 1561.37 31.2163 Q1566.23 36.3204 1566.23 46.6907 Z\" fill=\"#000000\" fill-rule=\"evenodd\" fill-opacity=\"1\" /><path clip-path=\"url(#clip750)\" d=\"M1588.95 14.324 L1588.95 27.2059 L1604.31 27.2059 L1604.31 32.9987 L1588.95 32.9987 L1588.95 57.6282 Q1588.95 63.1779 1590.45 64.7578 Q1591.99 66.3376 1596.65 66.3376 L1604.31 66.3376 L1604.31 72.576 L1596.65 72.576 Q1588.02 72.576 1584.74 69.3758 Q1581.46 66.1351 1581.46 57.6282 L1581.46 32.9987 L1575.99 32.9987 L1575.99 27.2059 L1581.46 27.2059 L1581.46 14.324 L1588.95 14.324 Z\" fill=\"#000000\" fill-rule=\"evenodd\" fill-opacity=\"1\" /><path clip-path=\"url(#clip750)\" d=\"M1652.92 48.0275 L1652.92 51.6733 L1618.65 51.6733 Q1619.13 59.3701 1623.27 63.421 Q1627.44 67.4314 1634.85 67.4314 Q1639.15 67.4314 1643.16 66.3781 Q1647.21 65.3249 1651.18 63.2184 L1651.18 70.267 Q1647.17 71.9684 1642.95 72.8596 Q1638.74 73.7508 1634.41 73.7508 Q1623.55 73.7508 1617.19 67.4314 Q1610.87 61.1119 1610.87 50.3365 Q1610.87 39.1965 1616.87 32.6746 Q1622.9 26.1121 1633.11 26.1121 Q1642.26 26.1121 1647.57 32.0264 Q1652.92 37.9003 1652.92 48.0275 M1645.46 45.84 Q1645.38 39.7232 1642.02 36.0774 Q1638.7 32.4315 1633.19 32.4315 Q1626.95 32.4315 1623.18 35.9558 Q1619.46 39.4801 1618.89 45.8805 L1645.46 45.84 Z\" fill=\"#000000\" fill-rule=\"evenodd\" fill-opacity=\"1\" /><path clip-path=\"url(#clip750)\" d=\"M1695.01 34.0924 L1695.01 9.54393 L1702.46 9.54393 L1702.46 72.576 L1695.01 72.576 L1695.01 65.7705 Q1692.66 69.8214 1689.05 71.8063 Q1685.49 73.7508 1680.46 73.7508 Q1672.24 73.7508 1667.06 67.1883 Q1661.91 60.6258 1661.91 49.9314 Q1661.91 39.2371 1667.06 32.6746 Q1672.24 26.1121 1680.46 26.1121 Q1685.49 26.1121 1689.05 28.0971 Q1692.66 30.0415 1695.01 34.0924 M1669.61 49.9314 Q1669.61 58.1548 1672.97 62.8538 Q1676.37 67.5124 1682.29 67.5124 Q1688.2 67.5124 1691.6 62.8538 Q1695.01 58.1548 1695.01 49.9314 Q1695.01 41.7081 1691.6 37.0496 Q1688.2 32.3505 1682.29 32.3505 Q1676.37 32.3505 1672.97 37.0496 Q1669.61 41.7081 1669.61 49.9314 Z\" fill=\"#000000\" fill-rule=\"evenodd\" fill-opacity=\"1\" /><path clip-path=\"url(#clip750)\" d=\"M1744.51 12.096 L1752.69 12.096 L1752.69 65.6895 L1782.14 65.6895 L1782.14 72.576 L1744.51 72.576 L1744.51 12.096 Z\" fill=\"#000000\" fill-rule=\"evenodd\" fill-opacity=\"1\" /><path clip-path=\"url(#clip750)\" d=\"M1811.03 49.7694 Q1801.99 49.7694 1798.51 51.8354 Q1795.02 53.9013 1795.02 58.8839 Q1795.02 62.8538 1797.62 65.2034 Q1800.25 67.5124 1804.75 67.5124 Q1810.94 67.5124 1814.67 63.1374 Q1818.44 58.7219 1818.44 51.4303 L1818.44 49.7694 L1811.03 49.7694 M1825.89 46.6907 L1825.89 72.576 L1818.44 72.576 L1818.44 65.6895 Q1815.89 69.8214 1812.08 71.8063 Q1808.27 73.7508 1802.76 73.7508 Q1795.79 73.7508 1791.66 69.8619 Q1787.57 65.9325 1787.57 59.3701 Q1787.57 51.7138 1792.67 47.825 Q1797.82 43.9361 1807.99 43.9361 L1818.44 43.9361 L1818.44 43.2069 Q1818.44 38.0623 1815.04 35.2672 Q1811.67 32.4315 1805.56 32.4315 Q1801.67 32.4315 1797.98 33.3632 Q1794.3 34.295 1790.89 36.1584 L1790.89 29.2718 Q1794.98 27.692 1798.83 26.9223 Q1802.68 26.1121 1806.33 26.1121 Q1816.17 26.1121 1821.03 31.2163 Q1825.89 36.3204 1825.89 46.6907 Z\" fill=\"#000000\" fill-rule=\"evenodd\" fill-opacity=\"1\" /><path clip-path=\"url(#clip750)\" d=\"M1848.62 14.324 L1848.62 27.2059 L1863.97 27.2059 L1863.97 32.9987 L1848.62 32.9987 L1848.62 57.6282 Q1848.62 63.1779 1850.12 64.7578 Q1851.66 66.3376 1856.31 66.3376 L1863.97 66.3376 L1863.97 72.576 L1856.31 72.576 Q1847.69 72.576 1844.4 69.3758 Q1841.12 66.1351 1841.12 57.6282 L1841.12 32.9987 L1835.65 32.9987 L1835.65 27.2059 L1841.12 27.2059 L1841.12 14.324 L1848.62 14.324 Z\" fill=\"#000000\" fill-rule=\"evenodd\" fill-opacity=\"1\" /><path clip-path=\"url(#clip750)\" d=\"M1912.58 48.0275 L1912.58 51.6733 L1878.31 51.6733 Q1878.8 59.3701 1882.93 63.421 Q1887.1 67.4314 1894.51 67.4314 Q1898.81 67.4314 1902.82 66.3781 Q1906.87 65.3249 1910.84 63.2184 L1910.84 70.267 Q1906.83 71.9684 1902.62 72.8596 Q1898.4 73.7508 1894.07 73.7508 Q1883.21 73.7508 1876.85 67.4314 Q1870.53 61.1119 1870.53 50.3365 Q1870.53 39.1965 1876.53 32.6746 Q1882.56 26.1121 1892.77 26.1121 Q1901.93 26.1121 1907.23 32.0264 Q1912.58 37.9003 1912.58 48.0275 M1905.13 45.84 Q1905.05 39.7232 1901.68 36.0774 Q1898.36 32.4315 1892.85 32.4315 Q1886.62 32.4315 1882.85 35.9558 Q1879.12 39.4801 1878.55 45.8805 L1905.13 45.84 Z\" fill=\"#000000\" fill-rule=\"evenodd\" fill-opacity=\"1\" /><path clip-path=\"url(#clip750)\" d=\"M1962.53 45.1919 L1962.53 72.576 L1955.08 72.576 L1955.08 45.4349 Q1955.08 38.994 1952.56 35.7938 Q1950.05 32.5936 1945.03 32.5936 Q1938.99 32.5936 1935.51 36.4419 Q1932.03 40.2903 1932.03 46.9338 L1932.03 72.576 L1924.53 72.576 L1924.53 27.2059 L1932.03 27.2059 L1932.03 34.2544 Q1934.7 30.163 1938.3 28.1376 Q1941.95 26.1121 1946.69 26.1121 Q1954.51 26.1121 1958.52 30.9732 Q1962.53 35.7938 1962.53 45.1919 Z\" fill=\"#000000\" fill-rule=\"evenodd\" fill-opacity=\"1\" /><path clip-path=\"url(#clip750)\" d=\"M1984.77 14.324 L1984.77 27.2059 L2000.12 27.2059 L2000.12 32.9987 L1984.77 32.9987 L1984.77 57.6282 Q1984.77 63.1779 1986.27 64.7578 Q1987.81 66.3376 1992.47 66.3376 L2000.12 66.3376 L2000.12 72.576 L1992.47 72.576 Q1983.84 72.576 1980.56 69.3758 Q1977.27 66.1351 1977.27 57.6282 L1977.27 32.9987 L1971.81 32.9987 L1971.81 27.2059 L1977.27 27.2059 L1977.27 14.324 L1984.77 14.324 Z\" fill=\"#000000\" fill-rule=\"evenodd\" fill-opacity=\"1\" /><path clip-path=\"url(#clip750)\" d=\"M2038.85 28.5427 L2038.85 35.5912 Q2035.69 33.9709 2032.29 33.1607 Q2028.88 32.3505 2025.24 32.3505 Q2019.69 32.3505 2016.89 34.0519 Q2014.14 35.7533 2014.14 39.156 Q2014.14 41.7486 2016.12 43.2475 Q2018.11 44.7058 2024.1 46.0426 L2026.65 46.6097 Q2034.59 48.3111 2037.92 51.4303 Q2041.28 54.509 2041.28 60.0587 Q2041.28 66.3781 2036.26 70.0644 Q2031.27 73.7508 2022.52 73.7508 Q2018.88 73.7508 2014.91 73.0216 Q2010.98 72.3329 2006.6 70.9151 L2006.6 63.2184 Q2010.73 65.3654 2014.75 66.4591 Q2018.76 67.5124 2022.69 67.5124 Q2027.95 67.5124 2030.79 65.73 Q2033.62 63.9071 2033.62 60.6258 Q2033.62 57.5877 2031.56 55.9673 Q2029.53 54.3469 2022.6 52.8481 L2020.01 52.2405 Q2013.08 50.7821 2010.01 47.7845 Q2006.93 44.7463 2006.93 39.4801 Q2006.93 33.0797 2011.46 29.5959 Q2016 26.1121 2024.35 26.1121 Q2028.48 26.1121 2032.12 26.7198 Q2035.77 27.3274 2038.85 28.5427 Z\" fill=\"#000000\" fill-rule=\"evenodd\" fill-opacity=\"1\" /><path clip-path=\"url(#clip752)\" d=\"\n",
       "M209.891 1177.99 L319.389 1081.28 L428.886 1283.69 L538.384 934.909 L647.881 1088.24 L757.379 1447.87 L866.876 1173.23 L976.373 1083.29 L1085.87 674.08 L1195.37 874.773 \n",
       "  L1304.87 1147.69 L1414.36 1276.87 L1523.86 1071.32 L1633.36 1188.78 L1742.86 938.426 L1852.35 943.519 L1961.85 1036.46 L2071.35 822.044 L2180.84 601.515 L2290.34 1115.65 \n",
       "  L2290.34 343.78 L2180.84 162.047 L2071.35 547.674 L1961.85 832.583 L1852.35 711.833 L1742.86 712.782 L1633.36 988.973 L1523.86 871.247 L1414.36 1047.29 L1304.87 950.485 \n",
       "  L1195.37 643.931 L1085.87 310.126 L976.373 890.346 L866.876 951.238 L757.379 1170.66 L647.881 888.461 L538.384 717.643 L428.886 1057.33 L319.389 880.689 L209.891 976.818 \n",
       "   Z\n",
       "  \" fill=\"#009af9\" fill-rule=\"evenodd\" fill-opacity=\"0.5\"/>\n",
       "<polyline clip-path=\"url(#clip752)\" style=\"stroke:#009af9; stroke-linecap:butt; stroke-linejoin:round; stroke-width:4; stroke-opacity:1; fill:none\" points=\"\n",
       "  209.891,1077.4 319.389,980.983 428.886,1170.51 538.384,826.276 647.881,988.352 757.379,1309.27 866.876,1062.23 976.373,986.817 1085.87,492.103 1195.37,759.352 \n",
       "  1304.87,1049.09 1414.36,1162.08 1523.86,971.285 1633.36,1088.87 1742.86,825.604 1852.35,827.676 1961.85,934.523 2071.35,684.859 2180.84,381.781 2290.34,729.714 \n",
       "  \n",
       "  \"/>\n",
       "<polyline clip-path=\"url(#clip752)\" style=\"stroke:#e26f46; stroke-linecap:butt; stroke-linejoin:round; stroke-width:4; stroke-opacity:1; fill:none\" points=\"\n",
       "  209.891,1094.7 319.389,950.659 428.886,1199.63 538.384,823.032 647.881,949.672 757.379,1372.08 866.876,1081.66 976.373,975.19 1085.87,446.78 1195.37,654.865 \n",
       "  1304.87,973.921 1414.36,1301.6 1523.86,945.583 1633.36,1151.89 1742.86,764.618 1852.35,813.364 1961.85,944.345 2071.35,575.016 2180.84,287.92 2290.34,800.677 \n",
       "  \n",
       "  \"/>\n",
       "<path clip-path=\"url(#clip750)\" d=\"\n",
       "M1683.87 324.425 L2279.25 324.425 L2279.25 168.905 L1683.87 168.905  Z\n",
       "  \" fill=\"#ffffff\" fill-rule=\"evenodd\" fill-opacity=\"1\"/>\n",
       "<polyline clip-path=\"url(#clip750)\" style=\"stroke:#000000; stroke-linecap:butt; stroke-linejoin:round; stroke-width:4; stroke-opacity:1; fill:none\" points=\"\n",
       "  1683.87,324.425 2279.25,324.425 2279.25,168.905 1683.87,168.905 1683.87,324.425 \n",
       "  \"/>\n",
       "<polyline clip-path=\"url(#clip750)\" style=\"stroke:#009af9; stroke-linecap:butt; stroke-linejoin:round; stroke-width:4; stroke-opacity:1; fill:none\" points=\"\n",
       "  1708.37,220.745 1855.39,220.745 \n",
       "  \"/>\n",
       "<path clip-path=\"url(#clip750)\" d=\"M1884.57 207.307 L1884.57 220.293 L1890.45 220.293 Q1893.71 220.293 1895.5 218.603 Q1897.28 216.914 1897.28 213.789 Q1897.28 210.687 1895.5 208.997 Q1893.71 207.307 1890.45 207.307 L1884.57 207.307 M1879.9 203.465 L1890.45 203.465 Q1896.26 203.465 1899.22 206.104 Q1902.21 208.719 1902.21 213.789 Q1902.21 218.904 1899.22 221.52 Q1896.26 224.136 1890.45 224.136 L1884.57 224.136 L1884.57 238.025 L1879.9 238.025 L1879.9 203.465 Z\" fill=\"#000000\" fill-rule=\"evenodd\" fill-opacity=\"1\" /><path clip-path=\"url(#clip750)\" d=\"M1916.65 215.085 Q1913.23 215.085 1911.24 217.77 Q1909.25 220.432 1909.25 225.085 Q1909.25 229.738 1911.21 232.423 Q1913.21 235.085 1916.65 235.085 Q1920.06 235.085 1922.05 232.4 Q1924.04 229.715 1924.04 225.085 Q1924.04 220.478 1922.05 217.793 Q1920.06 215.085 1916.65 215.085 M1916.65 211.474 Q1922.21 211.474 1925.38 215.085 Q1928.55 218.696 1928.55 225.085 Q1928.55 231.451 1925.38 235.085 Q1922.21 238.696 1916.65 238.696 Q1911.08 238.696 1907.9 235.085 Q1904.76 231.451 1904.76 225.085 Q1904.76 218.696 1907.9 215.085 Q1911.08 211.474 1916.65 211.474 Z\" fill=\"#000000\" fill-rule=\"evenodd\" fill-opacity=\"1\" /><path clip-path=\"url(#clip750)\" d=\"M1952.14 212.863 L1952.14 216.891 Q1950.33 215.965 1948.39 215.502 Q1946.45 215.039 1944.36 215.039 Q1941.19 215.039 1939.59 216.011 Q1938.02 216.983 1938.02 218.928 Q1938.02 220.409 1939.15 221.265 Q1940.29 222.099 1943.71 222.863 L1945.17 223.187 Q1949.71 224.159 1951.61 225.941 Q1953.53 227.701 1953.53 230.872 Q1953.53 234.483 1950.66 236.589 Q1947.81 238.696 1942.81 238.696 Q1940.73 238.696 1938.46 238.279 Q1936.21 237.886 1933.71 237.076 L1933.71 232.677 Q1936.08 233.904 1938.37 234.529 Q1940.66 235.131 1942.9 235.131 Q1945.91 235.131 1947.53 234.113 Q1949.15 233.071 1949.15 231.196 Q1949.15 229.46 1947.97 228.534 Q1946.82 227.608 1942.86 226.752 L1941.38 226.404 Q1937.42 225.571 1935.66 223.858 Q1933.9 222.122 1933.9 219.113 Q1933.9 215.455 1936.49 213.465 Q1939.08 211.474 1943.85 211.474 Q1946.21 211.474 1948.3 211.821 Q1950.38 212.168 1952.14 212.863 Z\" fill=\"#000000\" fill-rule=\"evenodd\" fill-opacity=\"1\" /><path clip-path=\"url(#clip750)\" d=\"M1964.52 204.738 L1964.52 212.099 L1973.3 212.099 L1973.3 215.409 L1964.52 215.409 L1964.52 229.483 Q1964.52 232.654 1965.38 233.557 Q1966.26 234.46 1968.92 234.46 L1973.3 234.46 L1973.3 238.025 L1968.92 238.025 Q1963.99 238.025 1962.12 236.196 Q1960.24 234.344 1960.24 229.483 L1960.24 215.409 L1957.12 215.409 L1957.12 212.099 L1960.24 212.099 L1960.24 204.738 L1964.52 204.738 Z\" fill=\"#000000\" fill-rule=\"evenodd\" fill-opacity=\"1\" /><path clip-path=\"url(#clip750)\" d=\"M2001.08 223.997 L2001.08 226.08 L1981.49 226.08 Q1981.77 230.478 1984.13 232.793 Q1986.51 235.085 1990.75 235.085 Q1993.2 235.085 1995.5 234.483 Q1997.81 233.881 2000.08 232.677 L2000.08 236.705 Q1997.79 237.677 1995.38 238.187 Q1992.97 238.696 1990.5 238.696 Q1984.29 238.696 1980.66 235.085 Q1977.05 231.474 1977.05 225.316 Q1977.05 218.951 1980.47 215.224 Q1983.92 211.474 1989.76 211.474 Q1994.99 211.474 1998.02 214.853 Q2001.08 218.21 2001.08 223.997 M1996.82 222.747 Q1996.77 219.252 1994.85 217.168 Q1992.95 215.085 1989.8 215.085 Q1986.24 215.085 1984.08 217.099 Q1981.95 219.113 1981.63 222.77 L1996.82 222.747 Z\" fill=\"#000000\" fill-rule=\"evenodd\" fill-opacity=\"1\" /><path clip-path=\"url(#clip750)\" d=\"M2023.09 216.08 Q2022.37 215.664 2021.51 215.478 Q2020.68 215.27 2019.66 215.27 Q2016.05 215.27 2014.11 217.631 Q2012.19 219.969 2012.19 224.367 L2012.19 238.025 L2007.9 238.025 L2007.9 212.099 L2012.19 212.099 L2012.19 216.127 Q2013.53 213.766 2015.68 212.631 Q2017.83 211.474 2020.91 211.474 Q2021.35 211.474 2021.89 211.543 Q2022.42 211.59 2023.07 211.705 L2023.09 216.08 Z\" fill=\"#000000\" fill-rule=\"evenodd\" fill-opacity=\"1\" /><path clip-path=\"url(#clip750)\" d=\"M2027.56 212.099 L2031.82 212.099 L2031.82 238.025 L2027.56 238.025 L2027.56 212.099 M2027.56 202.006 L2031.82 202.006 L2031.82 207.4 L2027.56 207.4 L2027.56 202.006 Z\" fill=\"#000000\" fill-rule=\"evenodd\" fill-opacity=\"1\" /><path clip-path=\"url(#clip750)\" d=\"M2050.77 215.085 Q2047.35 215.085 2045.36 217.77 Q2043.37 220.432 2043.37 225.085 Q2043.37 229.738 2045.33 232.423 Q2047.32 235.085 2050.77 235.085 Q2054.18 235.085 2056.17 232.4 Q2058.16 229.715 2058.16 225.085 Q2058.16 220.478 2056.17 217.793 Q2054.18 215.085 2050.77 215.085 M2050.77 211.474 Q2056.33 211.474 2059.5 215.085 Q2062.67 218.696 2062.67 225.085 Q2062.67 231.451 2059.5 235.085 Q2056.33 238.696 2050.77 238.696 Q2045.2 238.696 2042.02 235.085 Q2038.88 231.451 2038.88 225.085 Q2038.88 218.696 2042.02 215.085 Q2045.2 211.474 2050.77 211.474 Z\" fill=\"#000000\" fill-rule=\"evenodd\" fill-opacity=\"1\" /><path clip-path=\"url(#clip750)\" d=\"M2084.76 216.08 Q2084.04 215.664 2083.18 215.478 Q2082.35 215.27 2081.33 215.27 Q2077.72 215.27 2075.77 217.631 Q2073.85 219.969 2073.85 224.367 L2073.85 238.025 L2069.57 238.025 L2069.57 212.099 L2073.85 212.099 L2073.85 216.127 Q2075.19 213.766 2077.35 212.631 Q2079.5 211.474 2082.58 211.474 Q2083.02 211.474 2083.55 211.543 Q2084.08 211.59 2084.73 211.705 L2084.76 216.08 Z\" fill=\"#000000\" fill-rule=\"evenodd\" fill-opacity=\"1\" /><path clip-path=\"url(#clip750)\" d=\"M2124.48 217.076 Q2126.07 214.205 2128.3 212.84 Q2130.52 211.474 2133.53 211.474 Q2137.58 211.474 2139.78 214.321 Q2141.98 217.145 2141.98 222.377 L2141.98 238.025 L2137.69 238.025 L2137.69 222.515 Q2137.69 218.789 2136.38 216.983 Q2135.06 215.178 2132.35 215.178 Q2129.04 215.178 2127.12 217.377 Q2125.19 219.576 2125.19 223.372 L2125.19 238.025 L2120.91 238.025 L2120.91 222.515 Q2120.91 218.765 2119.59 216.983 Q2118.27 215.178 2115.52 215.178 Q2112.25 215.178 2110.33 217.4 Q2108.41 219.599 2108.41 223.372 L2108.41 238.025 L2104.13 238.025 L2104.13 212.099 L2108.41 212.099 L2108.41 216.127 Q2109.87 213.742 2111.91 212.608 Q2113.94 211.474 2116.75 211.474 Q2119.57 211.474 2121.54 212.909 Q2123.53 214.344 2124.48 217.076 Z\" fill=\"#000000\" fill-rule=\"evenodd\" fill-opacity=\"1\" /><path clip-path=\"url(#clip750)\" d=\"M2172.65 223.997 L2172.65 226.08 L2153.06 226.08 Q2153.34 230.478 2155.7 232.793 Q2158.09 235.085 2162.32 235.085 Q2164.78 235.085 2167.07 234.483 Q2169.38 233.881 2171.65 232.677 L2171.65 236.705 Q2169.36 237.677 2166.95 238.187 Q2164.55 238.696 2162.07 238.696 Q2155.87 238.696 2152.23 235.085 Q2148.62 231.474 2148.62 225.316 Q2148.62 218.951 2152.05 215.224 Q2155.5 211.474 2161.33 211.474 Q2166.56 211.474 2169.59 214.853 Q2172.65 218.21 2172.65 223.997 M2168.39 222.747 Q2168.34 219.252 2166.42 217.168 Q2164.52 215.085 2161.38 215.085 Q2157.81 215.085 2155.66 217.099 Q2153.53 219.113 2153.2 222.77 L2168.39 222.747 Z\" fill=\"#000000\" fill-rule=\"evenodd\" fill-opacity=\"1\" /><path clip-path=\"url(#clip750)\" d=\"M2191.42 224.992 Q2186.26 224.992 2184.27 226.173 Q2182.28 227.353 2182.28 230.201 Q2182.28 232.469 2183.76 233.812 Q2185.26 235.131 2187.83 235.131 Q2191.37 235.131 2193.5 232.631 Q2195.66 230.108 2195.66 225.941 L2195.66 224.992 L2191.42 224.992 M2199.92 223.233 L2199.92 238.025 L2195.66 238.025 L2195.66 234.089 Q2194.2 236.451 2192.02 237.585 Q2189.85 238.696 2186.7 238.696 Q2182.72 238.696 2180.36 236.474 Q2178.02 234.228 2178.02 230.478 Q2178.02 226.103 2180.94 223.881 Q2183.87 221.659 2189.69 221.659 L2195.66 221.659 L2195.66 221.242 Q2195.66 218.303 2193.71 216.705 Q2191.79 215.085 2188.3 215.085 Q2186.07 215.085 2183.97 215.617 Q2181.86 216.15 2179.92 217.215 L2179.92 213.279 Q2182.25 212.377 2184.45 211.937 Q2186.65 211.474 2188.74 211.474 Q2194.36 211.474 2197.14 214.391 Q2199.92 217.307 2199.92 223.233 Z\" fill=\"#000000\" fill-rule=\"evenodd\" fill-opacity=\"1\" /><path clip-path=\"url(#clip750)\" d=\"M2230.24 222.377 L2230.24 238.025 L2225.98 238.025 L2225.98 222.515 Q2225.98 218.835 2224.55 217.006 Q2223.11 215.178 2220.24 215.178 Q2216.79 215.178 2214.8 217.377 Q2212.81 219.576 2212.81 223.372 L2212.81 238.025 L2208.53 238.025 L2208.53 212.099 L2212.81 212.099 L2212.81 216.127 Q2214.34 213.789 2216.4 212.631 Q2218.48 211.474 2221.19 211.474 Q2225.66 211.474 2227.95 214.252 Q2230.24 217.006 2230.24 222.377 Z\" fill=\"#000000\" fill-rule=\"evenodd\" fill-opacity=\"1\" /><polyline clip-path=\"url(#clip750)\" style=\"stroke:#e26f46; stroke-linecap:butt; stroke-linejoin:round; stroke-width:4; stroke-opacity:1; fill:none\" points=\"\n",
       "  1708.37,272.585 1855.39,272.585 \n",
       "  \"/>\n",
       "<path clip-path=\"url(#clip750)\" d=\"M1879.9 255.305 L1909.13 255.305 L1909.13 259.24 L1896.86 259.24 L1896.86 289.865 L1892.16 289.865 L1892.16 259.24 L1879.9 259.24 L1879.9 255.305 Z\" fill=\"#000000\" fill-rule=\"evenodd\" fill-opacity=\"1\" /><path clip-path=\"url(#clip750)\" d=\"M1921.52 267.92 Q1920.8 267.504 1919.94 267.318 Q1919.11 267.11 1918.09 267.11 Q1914.48 267.11 1912.53 269.471 Q1910.61 271.809 1910.61 276.207 L1910.61 289.865 L1906.33 289.865 L1906.33 263.939 L1910.61 263.939 L1910.61 267.967 Q1911.96 265.606 1914.11 264.471 Q1916.26 263.314 1919.34 263.314 Q1919.78 263.314 1920.31 263.383 Q1920.84 263.43 1921.49 263.545 L1921.52 267.92 Z\" fill=\"#000000\" fill-rule=\"evenodd\" fill-opacity=\"1\" /><path clip-path=\"url(#clip750)\" d=\"M1925.54 279.633 L1925.54 263.939 L1929.8 263.939 L1929.8 279.471 Q1929.8 283.152 1931.24 285.004 Q1932.67 286.832 1935.54 286.832 Q1938.99 286.832 1940.98 284.633 Q1943 282.434 1943 278.638 L1943 263.939 L1947.26 263.939 L1947.26 289.865 L1943 289.865 L1943 285.883 Q1941.45 288.244 1939.39 289.402 Q1937.35 290.536 1934.64 290.536 Q1930.17 290.536 1927.86 287.758 Q1925.54 284.98 1925.54 279.633 M1936.26 263.314 L1936.26 263.314 Z\" fill=\"#000000\" fill-rule=\"evenodd\" fill-opacity=\"1\" /><path clip-path=\"url(#clip750)\" d=\"M1978.2 275.837 L1978.2 277.92 L1958.62 277.92 Q1958.9 282.318 1961.26 284.633 Q1963.64 286.925 1967.88 286.925 Q1970.33 286.925 1972.63 286.323 Q1974.94 285.721 1977.21 284.517 L1977.21 288.545 Q1974.92 289.517 1972.51 290.027 Q1970.1 290.536 1967.63 290.536 Q1961.42 290.536 1957.79 286.925 Q1954.18 283.314 1954.18 277.156 Q1954.18 270.791 1957.6 267.064 Q1961.05 263.314 1966.89 263.314 Q1972.12 263.314 1975.15 266.693 Q1978.2 270.05 1978.2 275.837 M1973.95 274.587 Q1973.9 271.092 1971.98 269.008 Q1970.08 266.925 1966.93 266.925 Q1963.37 266.925 1961.21 268.939 Q1959.08 270.953 1958.76 274.61 L1973.95 274.587 Z\" fill=\"#000000\" fill-rule=\"evenodd\" fill-opacity=\"1\" /><path clip-path=\"url(#clip750)\" d=\"M1997.21 263.939 L2001.72 263.939 L2009.82 285.698 L2017.93 263.939 L2022.44 263.939 L2012.72 289.865 L2006.93 289.865 L1997.21 263.939 Z\" fill=\"#000000\" fill-rule=\"evenodd\" fill-opacity=\"1\" /><path clip-path=\"url(#clip750)\" d=\"M2040.1 276.832 Q2034.94 276.832 2032.95 278.013 Q2030.96 279.193 2030.96 282.041 Q2030.96 284.309 2032.44 285.652 Q2033.95 286.971 2036.51 286.971 Q2040.06 286.971 2042.19 284.471 Q2044.34 281.948 2044.34 277.781 L2044.34 276.832 L2040.1 276.832 M2048.6 275.073 L2048.6 289.865 L2044.34 289.865 L2044.34 285.929 Q2042.88 288.291 2040.7 289.425 Q2038.53 290.536 2035.38 290.536 Q2031.4 290.536 2029.04 288.314 Q2026.7 286.068 2026.7 282.318 Q2026.7 277.943 2029.62 275.721 Q2032.56 273.499 2038.37 273.499 L2044.34 273.499 L2044.34 273.082 Q2044.34 270.143 2042.39 268.545 Q2040.47 266.925 2036.98 266.925 Q2034.76 266.925 2032.65 267.457 Q2030.54 267.99 2028.6 269.055 L2028.6 265.119 Q2030.94 264.217 2033.14 263.777 Q2035.33 263.314 2037.42 263.314 Q2043.04 263.314 2045.82 266.231 Q2048.6 269.147 2048.6 275.073 Z\" fill=\"#000000\" fill-rule=\"evenodd\" fill-opacity=\"1\" /><path clip-path=\"url(#clip750)\" d=\"M2057.37 253.846 L2061.63 253.846 L2061.63 289.865 L2057.37 289.865 L2057.37 253.846 Z\" fill=\"#000000\" fill-rule=\"evenodd\" fill-opacity=\"1\" /><path clip-path=\"url(#clip750)\" d=\"M2070.1 279.633 L2070.1 263.939 L2074.36 263.939 L2074.36 279.471 Q2074.36 283.152 2075.8 285.004 Q2077.23 286.832 2080.1 286.832 Q2083.55 286.832 2085.54 284.633 Q2087.56 282.434 2087.56 278.638 L2087.56 263.939 L2091.82 263.939 L2091.82 289.865 L2087.56 289.865 L2087.56 285.883 Q2086.01 288.244 2083.94 289.402 Q2081.91 290.536 2079.2 290.536 Q2074.73 290.536 2072.42 287.758 Q2070.1 284.98 2070.1 279.633 M2080.82 263.314 L2080.82 263.314 Z\" fill=\"#000000\" fill-rule=\"evenodd\" fill-opacity=\"1\" /><path clip-path=\"url(#clip750)\" d=\"M2122.76 275.837 L2122.76 277.92 L2103.18 277.92 Q2103.46 282.318 2105.82 284.633 Q2108.2 286.925 2112.44 286.925 Q2114.89 286.925 2117.19 286.323 Q2119.5 285.721 2121.77 284.517 L2121.77 288.545 Q2119.48 289.517 2117.07 290.027 Q2114.66 290.536 2112.19 290.536 Q2105.98 290.536 2102.35 286.925 Q2098.74 283.314 2098.74 277.156 Q2098.74 270.791 2102.16 267.064 Q2105.61 263.314 2111.44 263.314 Q2116.68 263.314 2119.71 266.693 Q2122.76 270.05 2122.76 275.837 M2118.5 274.587 Q2118.46 271.092 2116.54 269.008 Q2114.64 266.925 2111.49 266.925 Q2107.93 266.925 2105.77 268.939 Q2103.64 270.953 2103.32 274.61 L2118.5 274.587 Z\" fill=\"#000000\" fill-rule=\"evenodd\" fill-opacity=\"1\" /><path clip-path=\"url(#clip750)\" d=\"M2146.28 264.703 L2146.28 268.731 Q2144.48 267.805 2142.53 267.342 Q2140.59 266.879 2138.5 266.879 Q2135.33 266.879 2133.74 267.851 Q2132.16 268.823 2132.16 270.768 Q2132.16 272.249 2133.3 273.105 Q2134.43 273.939 2137.86 274.703 L2139.32 275.027 Q2143.85 275.999 2145.75 277.781 Q2147.67 279.541 2147.67 282.712 Q2147.67 286.323 2144.8 288.429 Q2141.95 290.536 2136.95 290.536 Q2134.87 290.536 2132.6 290.119 Q2130.36 289.726 2127.86 288.916 L2127.86 284.517 Q2130.22 285.744 2132.51 286.369 Q2134.8 286.971 2137.05 286.971 Q2140.06 286.971 2141.68 285.953 Q2143.3 284.911 2143.3 283.036 Q2143.3 281.3 2142.12 280.374 Q2140.96 279.448 2137 278.592 L2135.52 278.244 Q2131.56 277.411 2129.8 275.698 Q2128.04 273.962 2128.04 270.953 Q2128.04 267.295 2130.63 265.305 Q2133.23 263.314 2138 263.314 Q2140.36 263.314 2142.44 263.661 Q2144.52 264.008 2146.28 264.703 Z\" fill=\"#000000\" fill-rule=\"evenodd\" fill-opacity=\"1\" /></svg>\n"
      ]
     },
     "execution_count": 35,
     "metadata": {},
     "output_type": "execute_result"
    }
   ],
   "source": [
    "ϵ_chain = sort(chain_2_joint[:, [Symbol(\"ϵ_draw[$a]\") for a in 1:21], 1], lt = (x,y) -> symbol_to_int(x) < symbol_to_int(y))\n",
    "tmp = describe(ϵ_chain)\n",
    "ϵ_mean = tmp[1][:, 2]\n",
    "ϵ_std = tmp[1][:, 3]\n",
    "plot(ϵ_mean[2:end], ribbon=2 * ϵ_std[2:end], label=\"Posterior mean\", title = \"Second-Order Joint: Estimated Latents\")\n",
    "plot!(ϵ', label=\"True values\")"
   ]
  }
 ],
 "metadata": {
  "kernelspec": {
   "display_name": "Julia 1.7.3",
   "language": "julia",
   "name": "julia-1.7"
  },
  "language_info": {
   "file_extension": ".jl",
   "mimetype": "application/julia",
   "name": "julia",
   "version": "1.7.3"
  }
 },
 "nbformat": 4,
 "nbformat_minor": 4
}
