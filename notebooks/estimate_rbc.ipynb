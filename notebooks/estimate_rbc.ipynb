{
 "cells": [
  {
   "cell_type": "markdown",
   "metadata": {},
   "source": [
    "# Setup model and install packages\n",
    "**Note:**  This package is a proof of concept.  While the code will remain working with proper use of a [Julia manifest](https://pkgdocs.julialang.org/v1/), we can't guarantee ongoing support and maintenance.\n",
    "\n",
    "Remove comment below to install the exact version of packages listed in the manifest."
   ]
  },
  {
   "cell_type": "code",
   "execution_count": 1,
   "metadata": {
    "tags": []
   },
   "outputs": [],
   "source": [
    "# import Pkg; Pkg.instantiate()"
   ]
  },
  {
   "cell_type": "markdown",
   "metadata": {},
   "source": [
    "The core package is `DifferentiableStateSpaceModels.jl` where `DifferenceEquations.jl` provides compatible functionality for simulating and calculating likelihoods"
   ]
  },
  {
   "cell_type": "code",
   "execution_count": 2,
   "metadata": {},
   "outputs": [
    {
     "name": "stderr",
     "output_type": "stream",
     "text": [
      "┌ Info: Precompiling Plots [91a5bcdd-55d7-5caf-9e0b-520d859cae80]\n",
      "└ @ Base loading.jl:1423\n"
     ]
    }
   ],
   "source": [
    "using DifferentiableStateSpaceModels, DifferenceEquations, LinearAlgebra, Zygote, Distributions, Plots, DiffEqBase, Symbolics, BenchmarkTools"
   ]
  },
  {
   "cell_type": "markdown",
   "metadata": {},
   "source": [
    "# Model Class\n",
    "The model follows [Schmitt-Grohe and Uribe (2004)](http://www.columbia.edu/~mu2166/2nd_order/2nd_order.pdf) timing convention.  The system takes a nonlinear expectational difference equation including all first-order conditions for decisions and the system evolution equations,\n",
    "\n",
    "$$\n",
    "\\mathbb{E}_{t}\\mathcal{H}\\left(y',y,x',x;p\\right)=0\n",
    "$$\n",
    "where $y$ are the control variables, $x$ are the states, and $p$ is a vector of deep parameters of interest.  Expectations are taken over forward-looking variables and an underlying random process $\\epsilon'$.\n",
    "\n",
    "In addition, we consider an observation equation - which might be noisy, for\n",
    "$$\n",
    "z = Q \\cdot \\begin{bmatrix}y &x\\end{bmatrix}^{\\top} + \\nu\n",
    "$$\n",
    "where $\\nu$ may or may not be normally distributed but $\\mathbb{E}(\\nu) = 0$ and $\\mathbb{V}(\\nu) = \\Omega(p) \\Omega(p)^{\\top}$.\n",
    "\n",
    "Assume that there is a non-stochastic steady state of this problem as $y_{ss}, x_{ss}$.\n",
    "\n",
    "## Perturbation Solution\n",
    "Define the deviation from the non-stochastic steady state as $\\hat{x} \\equiv x - x_{ss}, \\hat{y} \\equiv y - y_{ss},$ and $\\hat{z} \\equiv z - z_{ss}$.\n",
    "\n",
    "The solution finds the first or second order perturbation around that non-stochastic steady state, and yields\n",
    "\n",
    "$$\n",
    "x' = h(x; p) + \\eta \\ \\Gamma(p)\\ \\epsilon'\n",
    "$$\n",
    "\n",
    "where $\\eta$ describes how shocks affect the law of motion and $\\mathbb{E}(\\epsilon') = 0$.  Frequently this would be organized such that $\\mathbb{V}(\\epsilon)= I$, but that is not required.  In addition, it could instead be interpreted as for $x' = h(x; p) + \\eta \\ \\epsilon'$ with $\\mathbb{V}(\\epsilon') = \\Gamma(p) \\Gamma(p)^{\\top}$.\n",
    "\n",
    "and with the policy equation,\n",
    "\n",
    "$$\n",
    "y = g(x; p)\n",
    "$$\n",
    "\n",
    "and finally, substitution in for the observation equation\n",
    "\n",
    "$$\n",
    "z= Q \\begin{bmatrix} g(x;p) \\\\ x\\end{bmatrix} + \\nu\n",
    "$$\n",
    "\n",
    "## First Order Solutions\n",
    "Perturbation approximates the above model equations, where $h$ and $g$ are not available explicitly, by a Taylor expansion around the steady state. For example, in the case of the 1st order model the solution finds\n",
    "\n",
    "$$\n",
    "\\hat{x}' = A(p)\\ \\hat{x} + B(p) \\epsilon'\n",
    "$$\n",
    "\n",
    "and\n",
    "\n",
    "$$\n",
    "\\hat{y} = g_x(p) \\ \\hat{x}\n",
    "$$\n",
    "\n",
    "and \n",
    "\n",
    "$$\n",
    "\\hat{z} = C(p)\\ \\hat{x} + \\nu\n",
    "$$\n",
    "where $C(p)\\equiv Q \\begin{bmatrix} g_x(p) \\\\ I\\end{bmatrix}$, $B(p) \\equiv \\eta \\Gamma(p)$, and $\\mathbb{V}(v) = D(\\nu) D(p)^{\\top}$.  Normality of $\\nu$ or $\\epsilon'$ is not required in general.\n",
    "\n",
    "This is a linear state-space model and if the priors and shocks are Gaussian, a marginal likelihood can be evaluated with classic methods such as a Kalman Filter.  The output of the perturbation can be used manually, or in conjunction with [DifferenceEquations.jl](https://github.com/SciML/DifferenceEquations.jl).\n",
    "\n",
    "## Second Order Solutions\n",
    "This package also solves for second order perturbations, with all of the same features. The canonical form of the second order solution implements state-space pruning as in [Andreasen, Fernandez-Villaverde, and Rubio-Ramirez (2017)](https://www.sas.upenn.edu/~jesusfv/Pruning.pdf).  Given the same formulation of the problem, the model finds the canonical form,\n",
    "\n",
    "$$\n",
    "\\hat{x}' = A_0(p) + A_1(p)\\ \\hat{x} + \\hat{x}^{\\top} A_2(p)\\ \\hat{x} + B(p) \\epsilon'\n",
    "$$\n",
    "\n",
    "and\n",
    "\n",
    "$$\n",
    "\\hat{y} = g_{\\sigma\\sigma} + g_x \\ \\hat{x} + \\hat{x}^{\\top}\\ g_{xx}\\\\hat{x}\n",
    "$$\n",
    "\n",
    "and \n",
    "\n",
    "$$\n",
    "\\hat{z} = C_0(p) + C_1(p)\\  \\hat{x} + \\hat{x}^{\\top} C_2(p)\\  \\hat{x} + \\nu\n",
    "$$\n",
    "\n",
    "where $B(p) \\equiv \\eta \\Gamma(p)$, $\\mathbb{V}(v) = D(\\nu) D(p)^{\\top}$, and the $C_0,C_1,C_2,A_0, A_1, A_2$ all reflect the state space pruning.\n",
    "\n",
    "## Gradients\n",
    "All of the above use standard solution methods.  The primary contribution of this package is that all of these model elements are **differentiable**. Hence, these gradeients can be composed for use in applications such as optimization, gradient-based estimation methods, and with  [DifferenceEquations.jl](https://github.com/SciML/DifferenceEquations.jl)  which provides differentiable simulations and likelihoods for state-space models.  That is, if we think of a perturbation solver mapping $p$ to solutions (e.g. in first order $\\mathbf{P}(p) \\to (A, B, C, D)$, then we can find the gradients $\\partial_p \\mathbf{P}(p), \\partial_p A(p)$ etc.  Or, when these gradients are available for use with reverse-mode auto-differentiation, it can take \"wobbles\" in $A, B, C, D$ and go back to the \"wiggles\" of the underlying $p$ through $\\mathbf{P}$.  See [ChainRules.jl](https://juliadiff.org/ChainRulesCore.jl/stable/maths/propagators.html) for more details on AD.  \n"
   ]
  },
  {
   "cell_type": "markdown",
   "metadata": {},
   "source": [
    "## Model Primitives\n",
    "Models are defined using a Dynare-style DSL using [Symbolics.jl](https://github.com/JuliaSymbolics/Symbolics.jl).  The list of primitives are:\n",
    "1. The list of variables for the controls $y$, state $x$, and deep parameters $p$.\n",
    "2. The set of equations $H$ as a function of $p, y(t), y(t+1), x(t),$ and $x(t+1)$.  No $t-1$ timing is allowed.\n",
    "3. The loading of shocks $\\eta$ as a fixed matrix of constants\n",
    "4. The shock covariance Cholesky factor $\\Gamma$ as a function of parameters $p$\n",
    "5. The observation equation $Q$ as a fixed matrix.\n",
    "6. The Cholesky factor of the observation errors, $\\Omega$ as a function of parameters $p$.  At this point only a diagonal matrix is support.\n",
    "7. Either the steady state equations for all of $y$ and $x$ in closed form as a function of $p$, or initial conditions for the nonlinear solution to solve for the steady state as functions of $p$"
   ]
  },
  {
   "cell_type": "markdown",
   "metadata": {},
   "source": [
    "# RBC Example\n",
    "This example implements the model primitives to build a simple version of the RBC model with two observables."
   ]
  },
  {
   "cell_type": "code",
   "execution_count": 3,
   "metadata": {},
   "outputs": [
    {
     "data": {
      "text/plain": [
       "Perturbation Model: n_y = 2, n_x = 2, n_p = 6, n_ϵ = 1, n_z = 2\n",
       " y = [:c, :q] \n",
       " x = [:k, :z] \n",
       " p = [:α, :β, :ρ, :δ, :σ, :Ω_1]"
      ]
     },
     "execution_count": 3,
     "metadata": {},
     "output_type": "execute_result"
    }
   ],
   "source": [
    "∞ = Inf\n",
    "@variables α, β, ρ, δ, σ, Ω_1\n",
    "@variables t::Integer, k(..), z(..), c(..), q(..)\n",
    "\n",
    "x = [k, z] # states\n",
    "y = [c, q] # controls\n",
    "p = [α, β, ρ, δ, σ, Ω_1] # parameters\n",
    "\n",
    "H = [1 / c(t) - (β / c(t + 1)) * (α * exp(z(t + 1)) * k(t + 1)^(α - 1) + (1 - δ)),\n",
    "     c(t) + k(t + 1) - (1 - δ) * k(t) - q(t),\n",
    "     q(t) - exp(z(t)) * k(t)^α,\n",
    "     z(t + 1) - ρ * z(t)]  # system of model equations\n",
    "\n",
    "# analytic solutions for the steady state.  Could pass initial values and run solver and use initial values with steady_states_iv\n",
    "steady_states = [k(∞) ~ (((1 / β) - 1 + δ) / α)^(1 / (α - 1)),\n",
    "                 z(∞) ~ 0,\n",
    "                 c(∞) ~ (((1 / β) - 1 + δ) / α)^(α / (α - 1)) -\n",
    "                        δ * (((1 / β) - 1 + δ) / α)^(1 / (α - 1)),\n",
    "                 q(∞) ~ (((1 / β) - 1 + δ) / α)^(α / (α - 1))]\n",
    "\n",
    "\n",
    "Γ = [σ;;] # matrix for the 1 shock.  The [;;] notation just makes it a matrix rather than vector in julia\n",
    "η = [0; -1;;] # η is n_x * n_ϵ matrix.  The [;;] notation just makes it a matrix rather than vector in julia\n",
    "\n",
    "# observation matrix.  order is \"y\" then \"x\" variables, so [c,q,k,z] in this example\n",
    "Q = [1.0 0  0   0; # select c as first \"z\" observable\n",
    "     0   0  1.0 0] # select k as second \"z\" observable\n",
    "\n",
    "# diagonal cholesky of covariance matrix for observation noise (so these are standard deviations).  Non-diagonal observation noise not currently supported\n",
    "Ω = [Ω_1, Ω_1]\n",
    "\n",
    "# Generates the files and includes if required.  If the model is already created, then just loads\n",
    "overwrite_model_cache  = true\n",
    "model_rbc = @make_and_include_perturbation_model(\"rbc_notebook_example\", H, (; t, y, x, p, steady_states, Γ, Ω, η, Q, overwrite_model_cache)) # Convenience macro.  Saves as \".function_cache/rbc_notebook_example.jl\"\n",
    "\n",
    "# After generation could just include the files directly, or add the following to prevent overwriting the models\n",
    "# isdefined(Main, :rbc_notebook_example) || include(joinpath(pkgdir(DifferentiableStateSpaceModels),\n",
    "#                                              \"test/generated_models/rbc_notebook_example.jl\"))\n",
    "# Alternatively, this is also the same example as a prebuilt example\n",
    "# model_rbc = @include_example_module(DifferentiableStateSpaceModels.Examples.rbc_observables)"
   ]
  },
  {
   "cell_type": "markdown",
   "metadata": {},
   "source": [
    "As commented above, the convenience macro will take this model, generate files, and include them.  It called the function [`make_perturbation_model`](https://github.com/HighDimensionalEconLab/DifferentiableStateSpaceModels.jl/blob/main/src/make_perturbation_model.jl#L6-L13) with the associated options in that file.  Once generated these can be included as normal `.jl` files.  At this point, there are no runtime generated functions though that functionality could be added later.  The following queries some of the properties of the loaded model."
   ]
  },
  {
   "cell_type": "code",
   "execution_count": 4,
   "metadata": {},
   "outputs": [
    {
     "data": {
      "text/latex": [
       "$\\begin{equation}\n",
       "\\left[\n",
       "\\begin{array}{c}\n",
       "\\frac{ - \\beta \\left( 1 - \\delta + \\left( k\\left( 1 + t \\right) \\right)^{-1 + \\alpha} \\alpha e^{z\\left( 1 + t \\right)} \\right)}{c\\left( 1 + t \\right)} + \\frac{1}{c\\left( t \\right)} \\\\\n",
       " - q\\left( t \\right) - \\left( 1 - \\delta \\right) k\\left( t \\right) + c\\left( t \\right) + k\\left( 1 + t \\right) \\\\\n",
       " - \\left( k\\left( t \\right) \\right)^{\\alpha} e^{z\\left( t \\right)} + q\\left( t \\right) \\\\\n",
       " - \\rho z\\left( t \\right) + z\\left( 1 + t \\right) \\\\\n",
       "\\end{array}\n",
       "\\right]\n",
       "\\end{equation}\n",
       "$"
      ],
      "text/plain": [
       "L\"$\\begin{equation}\n",
       "\\left[\n",
       "\\begin{array}{c}\n",
       "\\frac{ - \\beta \\left( 1 - \\delta + \\left( k\\left( 1 + t \\right) \\right)^{-1 + \\alpha} \\alpha e^{z\\left( 1 + t \\right)} \\right)}{c\\left( 1 + t \\right)} + \\frac{1}{c\\left( t \\right)} \\\\\n",
       " - q\\left( t \\right) - \\left( 1 - \\delta \\right) k\\left( t \\right) + c\\left( t \\right) + k\\left( 1 + t \\right) \\\\\n",
       " - \\left( k\\left( t \\right) \\right)^{\\alpha} e^{z\\left( t \\right)} + q\\left( t \\right) \\\\\n",
       " - \\rho z\\left( t \\right) + z\\left( 1 + t \\right) \\\\\n",
       "\\end{array}\n",
       "\\right]\n",
       "\\end{equation}\n",
       "$\""
      ]
     },
     "execution_count": 4,
     "metadata": {},
     "output_type": "execute_result"
    }
   ],
   "source": [
    "model_H_latex(model_rbc)"
   ]
  },
  {
   "cell_type": "code",
   "execution_count": 5,
   "metadata": {},
   "outputs": [
    {
     "data": {
      "text/latex": [
       "$\\begin{align}\n",
       "k\\left( \\infty \\right) =& \\left( \\frac{-1 + \\delta + \\frac{1}{\\beta}}{\\alpha} \\right)^{\\frac{1}{-1 + \\alpha}} \\\\\n",
       "z\\left( \\infty \\right) =& 0 \\\\\n",
       "c\\left( \\infty \\right) =& \\left( \\frac{-1 + \\delta + \\frac{1}{\\beta}}{\\alpha} \\right)^{\\frac{\\alpha}{-1 + \\alpha}} - \\left( \\frac{-1 + \\delta + \\frac{1}{\\beta}}{\\alpha} \\right)^{\\frac{1}{-1 + \\alpha}} \\delta \\\\\n",
       "q\\left( \\infty \\right) =& \\left( \\frac{-1 + \\delta + \\frac{1}{\\beta}}{\\alpha} \\right)^{\\frac{\\alpha}{-1 + \\alpha}}\n",
       "\\end{align}\n",
       "$"
      ],
      "text/plain": [
       "L\"$\\begin{align}\n",
       "k\\left( \\infty \\right) =& \\left( \\frac{-1 + \\delta + \\frac{1}{\\beta}}{\\alpha} \\right)^{\\frac{1}{-1 + \\alpha}} \\\\\n",
       "z\\left( \\infty \\right) =& 0 \\\\\n",
       "c\\left( \\infty \\right) =& \\left( \\frac{-1 + \\delta + \\frac{1}{\\beta}}{\\alpha} \\right)^{\\frac{\\alpha}{-1 + \\alpha}} - \\left( \\frac{-1 + \\delta + \\frac{1}{\\beta}}{\\alpha} \\right)^{\\frac{1}{-1 + \\alpha}} \\delta \\\\\n",
       "q\\left( \\infty \\right) =& \\left( \\frac{-1 + \\delta + \\frac{1}{\\beta}}{\\alpha} \\right)^{\\frac{\\alpha}{-1 + \\alpha}}\n",
       "\\end{align}\n",
       "$\""
      ]
     },
     "execution_count": 5,
     "metadata": {},
     "output_type": "execute_result"
    }
   ],
   "source": [
    "model_steady_states_latex(model_rbc)  # this is the closed form steady state, could instead pass in the state_states_iv to give approximate initial conditions for optimizer instead"
   ]
  },
  {
   "cell_type": "code",
   "execution_count": 6,
   "metadata": {},
   "outputs": [
    {
     "name": "stdout",
     "output_type": "stream",
     "text": [
      "(model_rbc.n_x, model_rbc.n_y, model_rbc.n_ϵ, model_rbc.n_z) = (2, 2, 1, 2)\n"
     ]
    },
    {
     "data": {
      "text/plain": [
       "(2, 2, 1, 2)"
      ]
     },
     "execution_count": 6,
     "metadata": {},
     "output_type": "execute_result"
    }
   ],
   "source": [
    "@show model_rbc.n_x, model_rbc.n_y, model_rbc.n_ϵ, model_rbc.n_z"
   ]
  },
  {
   "cell_type": "markdown",
   "metadata": {},
   "source": [
    "## Solving Perturbations\n",
    "\n",
    "Given a model definition, you can solve the expectational difference equation for a given set of parameters.  All of the `p` defined above must be in either the `p_d` or the `p_f` arguments below.\n",
    "\n",
    "The distinction between these is that the `p_d` parameters will be available for differentiation where the `p_f` will be fixed.  That is, for any parameters in the `p_d` the model will support calculation of gradients of   the perturbation solution.  The only downside with having extra values in `p_d` vs. `p_f` is extra computation.  Otherwise, pass in `nothing` for `p_f` if you are differentiating all of the parameters"
   ]
  },
  {
   "cell_type": "code",
   "execution_count": 7,
   "metadata": {},
   "outputs": [
    {
     "name": "stdout",
     "output_type": "stream",
     "text": [
      "(sol.retcode, sol_2.retcode, verify_steady_state(m, p_d, p_f)) = (:Success, :Success, true)\n"
     ]
    },
    {
     "data": {
      "text/plain": [
       "(:Success, :Success, true)"
      ]
     },
     "execution_count": 7,
     "metadata": {},
     "output_type": "execute_result"
    }
   ],
   "source": [
    "p_f = (ρ = 0.2, δ = 0.02, σ = 0.01, Ω_1 = 0.01) # Fixed parameters\n",
    "p_d = (α = 0.5, β = 0.95) # Pseudo-true values\n",
    "m = model_rbc  # ensure notebook executed above\n",
    "sol = generate_perturbation(model_rbc, p_d, p_f) # Solution to the first-order RBC\n",
    "sol_2 = generate_perturbation(model_rbc, p_d, p_f, Val(2)); # Solution to the second-order RBC\n",
    "@show sol.retcode, sol_2.retcode, verify_steady_state(m, p_d, p_f) # the final call checks that the analytically provided steady-state solution is correct"
   ]
  },
  {
   "cell_type": "markdown",
   "metadata": {},
   "source": [
    "The perturbation solution (in the canonical form described in the top section) can be queried from the resulting solution.  A few examples for the first order solution are below,"
   ]
  },
  {
   "cell_type": "code",
   "execution_count": 8,
   "metadata": {},
   "outputs": [
    {
     "name": "stdout",
     "output_type": "stream",
     "text": [
      "(sol.y, sol.x) = ([5.936252888048732, 6.884057971014497], [47.39025414828823, 0.0])\n",
      "sol.g_x = [0.09579643002416627 0.6746869652586192; 0.07263157894736873 6.884057971014506]\n",
      "(sol.A, sol.B) = ([0.9568351489232028 6.2093710057558855; 1.5076865909646354e-18 0.20000000000000004], [0.0; -0.01;;])\n",
      "(sol.C, sol.D) = ([0.09579643002416627 0.6746869652586192; 1.0 0.0], [0.0001, 0.0001])\n",
      "sol.x_ergodic_var = [0.07005411173180152 0.00015997603451513398; 0.00015997603451513398 0.00010416666666666667]\n"
     ]
    }
   ],
   "source": [
    "@show sol.y, sol.x  # steady states y_ss and x_ss  These are the values such that y ≡ ŷ + sol.y and x ≡ x̂ + sol.x\n",
    "@show sol.g_x # the policy\n",
    "@show sol.A, sol.B # the evolution equation of the state, so that x̂' = A x̂ + B ϵ\n",
    "@show sol.C, sol.D; # the evolution equation of the state, so that z = C x̂ + ν  with variance of ν as D D'.\n",
    "@show sol.x_ergodic_var; # covariance matrix of the ergodic distribution of x̂, which is mean zero since x̂ ≡ x - x_ss"
   ]
  },
  {
   "cell_type": "markdown",
   "metadata": {},
   "source": [
    "In addition, you can query some metadata about the solution to aid in debugging and generic programming"
   ]
  },
  {
   "cell_type": "code",
   "execution_count": 9,
   "metadata": {},
   "outputs": [
    {
     "name": "stdout",
     "output_type": "stream",
     "text": [
      "(sol.Q, sol.η, sol.Γ) = ([1.0 0.0 0.0 0.0; 0.0 0.0 1.0 0.0], [0; -1;;], [0.01;;])\n",
      "(sol.n_y, sol.n_x, sol.n_ϵ, sol.n_z, sol.n_p) = (2, 2, 1, 2, 6)\n",
      "(sol.x_symbols, sol.y_symbols, sol.p_symbols) = ([:k, :z], [:c, :q], [:α, :β, :ρ, :δ, :σ, :Ω_1])\n"
     ]
    }
   ],
   "source": [
    "@show sol.Q, sol.η, sol.Γ; # various matrices for loading of shocks and observations\n",
    "@show sol.n_y, sol.n_x, sol.n_ϵ, sol.n_z, sol.n_p # sizes of model\n",
    "@show sol.x_symbols, sol.y_symbols, sol.p_symbols; # the order of symbols for the x vector"
   ]
  },
  {
   "cell_type": "markdown",
   "metadata": {},
   "source": [
    "## Functions of Perturbation Solutions (and their Derivatives)\n",
    "The core feature of this library is to enable gradients of the perturbation solutions with respect to parameters (i.e., anything in the `p_d` vector).  To show this, we will construct a function which uses the resulting law of motion and finds the gradient of the results with respect to this value."
   ]
  },
  {
   "cell_type": "code",
   "execution_count": 10,
   "metadata": {},
   "outputs": [
    {
     "data": {
      "text/plain": [
       "-0.052773688889493325"
      ]
     },
     "execution_count": 10,
     "metadata": {},
     "output_type": "execute_result"
    }
   ],
   "source": [
    "function IRF(p_d, ϵ_0; m, p_f, steps)\n",
    "    sol = generate_perturbation(m, p_d, p_f) # First-order perturbation by default, pass Val(2) as additional argument to do 2nd order.\n",
    "    x = sol.B * ϵ_0 # start after applying impulse with the model's shock η and Γ(p)\n",
    "    for _ in 1:steps\n",
    "        # A note: you cannot use mutating expressions here with most AD code.  i.e. x .= sol.A * x  wouldn't work\n",
    "        # For more elaborate simuluations, you would want to use DifferenceEquations.jl in practice\n",
    "        x = sol.A * x # iterate forward using first-order observation equation        \n",
    "    end    \n",
    "    return [0, 1]' * sol.C * x # choose the second observable using the model's C observation equation since first-order\n",
    "end\n",
    "\n",
    "m = model_rbc  # ensure notebook executed above\n",
    "p_f = (ρ=0.2, δ=0.02, σ=0.01, Ω_1=0.01) # not differentiated \n",
    "p_d = (α=0.5, β=0.95) # different parameters\n",
    "steps = 10 # steps ahead to forecast\n",
    "ϵ_0 = [1.0] # shock size\n",
    "IRF(p_d, ϵ_0; m, p_f, steps) # Function works on its own, calculating perturbation"
   ]
  },
  {
   "cell_type": "markdown",
   "metadata": {},
   "source": [
    "However, the real benefit is that this function can itself be differentiated, to find gradients with respect to the deep parameters `p_d` and the shock `ϵ_0`"
   ]
  },
  {
   "cell_type": "code",
   "execution_count": 11,
   "metadata": {},
   "outputs": [
    {
     "data": {
      "text/plain": [
       "((α = -0.5810083808068425, β = -1.182312351872585), [-0.05277368888949331])"
      ]
     },
     "execution_count": 11,
     "metadata": {},
     "output_type": "execute_result"
    }
   ],
   "source": [
    "# Using the Zygote auto-differentiation library already loaded above\n",
    "p_d = (α=0.5, β=0.95) # different parameters\n",
    "ϵ_0 = [1.0] # shock size\n",
    "IRF_grad = gradient((p_d, ϵ_0) -> IRF(p_d, ϵ_0; m, p_f, steps), p_d, ϵ_0) # \"closes\" over the m, p_f, and steps to create a new function, and differentiates it with respect to other arguments"
   ]
  },
  {
   "cell_type": "code",
   "execution_count": 12,
   "metadata": {},
   "outputs": [
    {
     "name": "stdout",
     "output_type": "stream",
     "text": [
      "d/dα IRF(p_d, ϵ0) = -0.5810083808068425, d/dβ IRF(p_d, ϵ0) = -1.182312351872585, d/dϵ0 IRF(p_d, ϵ0) = [-0.05277368888949331]\n"
     ]
    }
   ],
   "source": [
    "println(\"d/dα IRF(p_d, ϵ0) = $(IRF_grad[1].α), d/dβ IRF(p_d, ϵ0) = $(IRF_grad[1].β), d/dϵ0 IRF(p_d, ϵ0) = $(IRF_grad[2])\")"
   ]
  },
  {
   "cell_type": "markdown",
   "metadata": {},
   "source": [
    "## Using Solution Cache\n",
    "\n",
    "The calculation of the gradients of the perturbation solution is slow relative to the perturbation itself, and both can allocate a significant amount of memory.  If you intend to keep calculating a perturbation a large number of times (e.g., during estimation), then you may want to preallocate this memory and reuse it by passing in a cache."
   ]
  },
  {
   "cell_type": "code",
   "execution_count": 13,
   "metadata": {},
   "outputs": [
    {
     "name": "stdout",
     "output_type": "stream",
     "text": [
      "IRF_cache(p_d, ϵ_0; m, p_f, steps, cache) = -0.052773688889493325\n"
     ]
    },
    {
     "data": {
      "text/plain": [
       "((α = -0.5810083808068425, β = -1.182312351872585), [-0.05277368888949331])"
      ]
     },
     "execution_count": 13,
     "metadata": {},
     "output_type": "execute_result"
    }
   ],
   "source": [
    "function IRF_cache(p_d, ϵ_0; m, p_f, steps, cache)\n",
    "    sol = generate_perturbation(m, p_d, p_f; cache)  # only difference is passing in a pre-allocated cache to the perturbation solver\n",
    "    x = sol.B * ϵ_0\n",
    "    for _ in 1:steps\n",
    "        x = sol.A * x\n",
    "    end    \n",
    "    return [0, 1]' * sol.C * x\n",
    "end\n",
    "\n",
    "# To call it\n",
    "m = model_rbc  # ensure notebook executed above\n",
    "p_d = (α=0.5, β=0.95)  # Differentiated parameters\n",
    "p_f = (ρ=0.2, δ=0.02, σ=0.01, Ω_1=0.01)\n",
    "steps = 10 # steps ahead to forecast\n",
    "ϵ_0 = [1.0] # shock size\n",
    "cache = SolverCache(m, Val(1), p_d)   # the p_d passed into the cache just reuses the symbols, and the values in p_d are unused\n",
    "@show IRF_cache(p_d, ϵ_0; m, p_f, steps, cache)\n",
    "gradient((p_d, ϵ_0) -> IRF_cache(p_d, ϵ_0; m, p_f, steps, cache), p_d, ϵ_0)  # as before, do not try to differentiate with respect to the cache values itself."
   ]
  },
  {
   "cell_type": "code",
   "execution_count": 14,
   "metadata": {},
   "outputs": [
    {
     "name": "stdout",
     "output_type": "stream",
     "text": [
      "  64.608 μs (214 allocations: 86.59 KiB)\n",
      "  55.104 μs (125 allocations: 75.72 KiB)\n"
     ]
    },
    {
     "data": {
      "text/plain": [
       "-0.052773688889493325"
      ]
     },
     "execution_count": 14,
     "metadata": {},
     "output_type": "execute_result"
    }
   ],
   "source": [
    "# However, in a problem this small you will not see much of a difference in performance\n",
    "@btime IRF($p_d, $ϵ_0; m = $m, p_f = $p_f, steps = $steps)\n",
    "@btime IRF_cache($p_d, $ϵ_0; m = $m, p_f = $p_f, steps = $steps, cache = $cache)"
   ]
  },
  {
   "cell_type": "markdown",
   "metadata": {},
   "source": [
    "## Simulating with DifferenceEquations.jl\n",
    "The manual iteration of the state-space model from the perturbation solution is possible, but can be verbose and difficult to achieve efficiency for gradients.  One benefit of this package is that it creates state-space models in a form consistent with [DifferenceEquations.jl](https://github.com/SciML/DifferenceEquations.jl) which can be easily simulated, visualized, and estimated.\n",
    "\n",
    "To do this, we will calculate a perturbation solution then simulate it for various `x_0` drawn from the ergodic solution."
   ]
  },
  {
   "cell_type": "code",
   "execution_count": 15,
   "metadata": {},
   "outputs": [
    {
     "data": {
      "image/svg+xml": [
       "<?xml version=\"1.0\" encoding=\"utf-8\"?>\n",
       "<svg xmlns=\"http://www.w3.org/2000/svg\" xmlns:xlink=\"http://www.w3.org/1999/xlink\" width=\"600\" height=\"400\" viewBox=\"0 0 2400 1600\">\n",
       "<defs>\n",
       "  <clipPath id=\"clip660\">\n",
       "    <rect x=\"0\" y=\"0\" width=\"2400\" height=\"1600\"/>\n",
       "  </clipPath>\n",
       "</defs>\n",
       "<path clip-path=\"url(#clip660)\" d=\"\n",
       "M0 1600 L2400 1600 L2400 0 L0 0  Z\n",
       "  \" fill=\"#ffffff\" fill-rule=\"evenodd\" fill-opacity=\"1\"/>\n",
       "<defs>\n",
       "  <clipPath id=\"clip661\">\n",
       "    <rect x=\"480\" y=\"0\" width=\"1681\" height=\"1600\"/>\n",
       "  </clipPath>\n",
       "</defs>\n",
       "<path clip-path=\"url(#clip660)\" d=\"\n",
       "M193.288 1423.18 L2352.76 1423.18 L2352.76 47.2441 L193.288 47.2441  Z\n",
       "  \" fill=\"#ffffff\" fill-rule=\"evenodd\" fill-opacity=\"1\"/>\n",
       "<defs>\n",
       "  <clipPath id=\"clip662\">\n",
       "    <rect x=\"193\" y=\"47\" width=\"2160\" height=\"1377\"/>\n",
       "  </clipPath>\n",
       "</defs>\n",
       "<polyline clip-path=\"url(#clip662)\" style=\"stroke:#000000; stroke-linecap:butt; stroke-linejoin:round; stroke-width:2; stroke-opacity:0.1; fill:none\" points=\"\n",
       "  193.288,1423.18 193.288,47.2441 \n",
       "  \"/>\n",
       "<polyline clip-path=\"url(#clip662)\" style=\"stroke:#000000; stroke-linecap:butt; stroke-linejoin:round; stroke-width:2; stroke-opacity:0.1; fill:none\" points=\"\n",
       "  733.155,1423.18 733.155,47.2441 \n",
       "  \"/>\n",
       "<polyline clip-path=\"url(#clip662)\" style=\"stroke:#000000; stroke-linecap:butt; stroke-linejoin:round; stroke-width:2; stroke-opacity:0.1; fill:none\" points=\"\n",
       "  1273.02,1423.18 1273.02,47.2441 \n",
       "  \"/>\n",
       "<polyline clip-path=\"url(#clip662)\" style=\"stroke:#000000; stroke-linecap:butt; stroke-linejoin:round; stroke-width:2; stroke-opacity:0.1; fill:none\" points=\"\n",
       "  1812.89,1423.18 1812.89,47.2441 \n",
       "  \"/>\n",
       "<polyline clip-path=\"url(#clip662)\" style=\"stroke:#000000; stroke-linecap:butt; stroke-linejoin:round; stroke-width:2; stroke-opacity:0.1; fill:none\" points=\"\n",
       "  2352.76,1423.18 2352.76,47.2441 \n",
       "  \"/>\n",
       "<polyline clip-path=\"url(#clip660)\" style=\"stroke:#000000; stroke-linecap:butt; stroke-linejoin:round; stroke-width:4; stroke-opacity:1; fill:none\" points=\"\n",
       "  193.288,1423.18 2352.76,1423.18 \n",
       "  \"/>\n",
       "<polyline clip-path=\"url(#clip660)\" style=\"stroke:#000000; stroke-linecap:butt; stroke-linejoin:round; stroke-width:4; stroke-opacity:1; fill:none\" points=\"\n",
       "  193.288,1423.18 193.288,1404.28 \n",
       "  \"/>\n",
       "<polyline clip-path=\"url(#clip660)\" style=\"stroke:#000000; stroke-linecap:butt; stroke-linejoin:round; stroke-width:4; stroke-opacity:1; fill:none\" points=\"\n",
       "  733.155,1423.18 733.155,1404.28 \n",
       "  \"/>\n",
       "<polyline clip-path=\"url(#clip660)\" style=\"stroke:#000000; stroke-linecap:butt; stroke-linejoin:round; stroke-width:4; stroke-opacity:1; fill:none\" points=\"\n",
       "  1273.02,1423.18 1273.02,1404.28 \n",
       "  \"/>\n",
       "<polyline clip-path=\"url(#clip660)\" style=\"stroke:#000000; stroke-linecap:butt; stroke-linejoin:round; stroke-width:4; stroke-opacity:1; fill:none\" points=\"\n",
       "  1812.89,1423.18 1812.89,1404.28 \n",
       "  \"/>\n",
       "<polyline clip-path=\"url(#clip660)\" style=\"stroke:#000000; stroke-linecap:butt; stroke-linejoin:round; stroke-width:4; stroke-opacity:1; fill:none\" points=\"\n",
       "  2352.76,1423.18 2352.76,1404.28 \n",
       "  \"/>\n",
       "<path clip-path=\"url(#clip660)\" d=\"M193.288 1454.1 Q189.677 1454.1 187.848 1457.66 Q186.043 1461.2 186.043 1468.33 Q186.043 1475.44 187.848 1479.01 Q189.677 1482.55 193.288 1482.55 Q196.922 1482.55 198.728 1479.01 Q200.556 1475.44 200.556 1468.33 Q200.556 1461.2 198.728 1457.66 Q196.922 1454.1 193.288 1454.1 M193.288 1450.39 Q199.098 1450.39 202.154 1455 Q205.232 1459.58 205.232 1468.33 Q205.232 1477.06 202.154 1481.67 Q199.098 1486.25 193.288 1486.25 Q187.478 1486.25 184.399 1481.67 Q181.343 1477.06 181.343 1468.33 Q181.343 1459.58 184.399 1455 Q187.478 1450.39 193.288 1450.39 Z\" fill=\"#000000\" fill-rule=\"evenodd\" fill-opacity=\"1\" /><path clip-path=\"url(#clip660)\" d=\"M723.433 1451.02 L741.789 1451.02 L741.789 1454.96 L727.715 1454.96 L727.715 1463.43 Q728.734 1463.08 729.752 1462.92 Q730.771 1462.73 731.789 1462.73 Q737.576 1462.73 740.956 1465.9 Q744.335 1469.08 744.335 1474.49 Q744.335 1480.07 740.863 1483.17 Q737.391 1486.25 731.072 1486.25 Q728.896 1486.25 726.627 1485.88 Q724.382 1485.51 721.974 1484.77 L721.974 1480.07 Q724.058 1481.2 726.28 1481.76 Q728.502 1482.32 730.979 1482.32 Q734.984 1482.32 737.322 1480.21 Q739.659 1478.1 739.659 1474.49 Q739.659 1470.88 737.322 1468.77 Q734.984 1466.67 730.979 1466.67 Q729.104 1466.67 727.229 1467.08 Q725.377 1467.5 723.433 1468.38 L723.433 1451.02 Z\" fill=\"#000000\" fill-rule=\"evenodd\" fill-opacity=\"1\" /><path clip-path=\"url(#clip660)\" d=\"M1247.71 1481.64 L1255.35 1481.64 L1255.35 1455.28 L1247.04 1456.95 L1247.04 1452.69 L1255.3 1451.02 L1259.98 1451.02 L1259.98 1481.64 L1267.62 1481.64 L1267.62 1485.58 L1247.71 1485.58 L1247.71 1481.64 Z\" fill=\"#000000\" fill-rule=\"evenodd\" fill-opacity=\"1\" /><path clip-path=\"url(#clip660)\" d=\"M1287.06 1454.1 Q1283.45 1454.1 1281.62 1457.66 Q1279.82 1461.2 1279.82 1468.33 Q1279.82 1475.44 1281.62 1479.01 Q1283.45 1482.55 1287.06 1482.55 Q1290.7 1482.55 1292.5 1479.01 Q1294.33 1475.44 1294.33 1468.33 Q1294.33 1461.2 1292.5 1457.66 Q1290.7 1454.1 1287.06 1454.1 M1287.06 1450.39 Q1292.87 1450.39 1295.93 1455 Q1299.01 1459.58 1299.01 1468.33 Q1299.01 1477.06 1295.93 1481.67 Q1292.87 1486.25 1287.06 1486.25 Q1281.25 1486.25 1278.17 1481.67 Q1275.12 1477.06 1275.12 1468.33 Q1275.12 1459.58 1278.17 1455 Q1281.25 1450.39 1287.06 1450.39 Z\" fill=\"#000000\" fill-rule=\"evenodd\" fill-opacity=\"1\" /><path clip-path=\"url(#clip660)\" d=\"M1788.07 1481.64 L1795.71 1481.64 L1795.71 1455.28 L1787.4 1456.95 L1787.4 1452.69 L1795.67 1451.02 L1800.34 1451.02 L1800.34 1481.64 L1807.98 1481.64 L1807.98 1485.58 L1788.07 1485.58 L1788.07 1481.64 Z\" fill=\"#000000\" fill-rule=\"evenodd\" fill-opacity=\"1\" /><path clip-path=\"url(#clip660)\" d=\"M1817.47 1451.02 L1835.83 1451.02 L1835.83 1454.96 L1821.75 1454.96 L1821.75 1463.43 Q1822.77 1463.08 1823.79 1462.92 Q1824.81 1462.73 1825.83 1462.73 Q1831.62 1462.73 1835 1465.9 Q1838.37 1469.08 1838.37 1474.49 Q1838.37 1480.07 1834.9 1483.17 Q1831.43 1486.25 1825.11 1486.25 Q1822.94 1486.25 1820.67 1485.88 Q1818.42 1485.51 1816.01 1484.77 L1816.01 1480.07 Q1818.1 1481.2 1820.32 1481.76 Q1822.54 1482.32 1825.02 1482.32 Q1829.02 1482.32 1831.36 1480.21 Q1833.7 1478.1 1833.7 1474.49 Q1833.7 1470.88 1831.36 1468.77 Q1829.02 1466.67 1825.02 1466.67 Q1823.14 1466.67 1821.27 1467.08 Q1819.42 1467.5 1817.47 1468.38 L1817.47 1451.02 Z\" fill=\"#000000\" fill-rule=\"evenodd\" fill-opacity=\"1\" /><path clip-path=\"url(#clip660)\" d=\"M2331.53 1481.64 L2347.85 1481.64 L2347.85 1485.58 L2325.9 1485.58 L2325.9 1481.64 Q2328.57 1478.89 2333.15 1474.26 Q2337.76 1469.61 2338.94 1468.27 Q2341.18 1465.74 2342.06 1464.01 Q2342.96 1462.25 2342.96 1460.56 Q2342.96 1457.8 2341.02 1456.07 Q2339.1 1454.33 2336 1454.33 Q2333.8 1454.33 2331.34 1455.09 Q2328.91 1455.86 2326.14 1457.41 L2326.14 1452.69 Q2328.96 1451.55 2331.41 1450.97 Q2333.87 1450.39 2335.9 1450.39 Q2341.27 1450.39 2344.47 1453.08 Q2347.66 1455.77 2347.66 1460.26 Q2347.66 1462.39 2346.85 1464.31 Q2346.07 1466.2 2343.96 1468.8 Q2343.38 1469.47 2340.28 1472.69 Q2337.18 1475.88 2331.53 1481.64 Z\" fill=\"#000000\" fill-rule=\"evenodd\" fill-opacity=\"1\" /><path clip-path=\"url(#clip660)\" d=\"M2367.66 1454.1 Q2364.05 1454.1 2362.22 1457.66 Q2360.42 1461.2 2360.42 1468.33 Q2360.42 1475.44 2362.22 1479.01 Q2364.05 1482.55 2367.66 1482.55 Q2371.3 1482.55 2373.1 1479.01 Q2374.93 1475.44 2374.93 1468.33 Q2374.93 1461.2 2373.1 1457.66 Q2371.3 1454.1 2367.66 1454.1 M2367.66 1450.39 Q2373.47 1450.39 2376.53 1455 Q2379.61 1459.58 2379.61 1468.33 Q2379.61 1477.06 2376.53 1481.67 Q2373.47 1486.25 2367.66 1486.25 Q2361.85 1486.25 2358.77 1481.67 Q2355.72 1477.06 2355.72 1468.33 Q2355.72 1459.58 2358.77 1455 Q2361.85 1450.39 2367.66 1450.39 Z\" fill=\"#000000\" fill-rule=\"evenodd\" fill-opacity=\"1\" /><path clip-path=\"url(#clip660)\" d=\"M1272.08 1522.27 L1272.08 1532.4 L1284.15 1532.4 L1284.15 1536.95 L1272.08 1536.95 L1272.08 1556.3 Q1272.08 1560.66 1273.26 1561.9 Q1274.47 1563.14 1278.13 1563.14 L1284.15 1563.14 L1284.15 1568.04 L1278.13 1568.04 Q1271.35 1568.04 1268.77 1565.53 Q1266.19 1562.98 1266.19 1556.3 L1266.19 1536.95 L1261.9 1536.95 L1261.9 1532.4 L1266.19 1532.4 L1266.19 1522.27 L1272.08 1522.27 Z\" fill=\"#000000\" fill-rule=\"evenodd\" fill-opacity=\"1\" /><polyline clip-path=\"url(#clip662)\" style=\"stroke:#000000; stroke-linecap:butt; stroke-linejoin:round; stroke-width:2; stroke-opacity:0.1; fill:none\" points=\"\n",
       "  193.288,1336.79 2352.76,1336.79 \n",
       "  \"/>\n",
       "<polyline clip-path=\"url(#clip662)\" style=\"stroke:#000000; stroke-linecap:butt; stroke-linejoin:round; stroke-width:2; stroke-opacity:0.1; fill:none\" points=\"\n",
       "  193.288,1013.91 2352.76,1013.91 \n",
       "  \"/>\n",
       "<polyline clip-path=\"url(#clip662)\" style=\"stroke:#000000; stroke-linecap:butt; stroke-linejoin:round; stroke-width:2; stroke-opacity:0.1; fill:none\" points=\"\n",
       "  193.288,691.039 2352.76,691.039 \n",
       "  \"/>\n",
       "<polyline clip-path=\"url(#clip662)\" style=\"stroke:#000000; stroke-linecap:butt; stroke-linejoin:round; stroke-width:2; stroke-opacity:0.1; fill:none\" points=\"\n",
       "  193.288,368.165 2352.76,368.165 \n",
       "  \"/>\n",
       "<polyline clip-path=\"url(#clip660)\" style=\"stroke:#000000; stroke-linecap:butt; stroke-linejoin:round; stroke-width:4; stroke-opacity:1; fill:none\" points=\"\n",
       "  193.288,1423.18 193.288,47.2441 \n",
       "  \"/>\n",
       "<polyline clip-path=\"url(#clip660)\" style=\"stroke:#000000; stroke-linecap:butt; stroke-linejoin:round; stroke-width:4; stroke-opacity:1; fill:none\" points=\"\n",
       "  193.288,1336.79 212.185,1336.79 \n",
       "  \"/>\n",
       "<polyline clip-path=\"url(#clip660)\" style=\"stroke:#000000; stroke-linecap:butt; stroke-linejoin:round; stroke-width:4; stroke-opacity:1; fill:none\" points=\"\n",
       "  193.288,1013.91 212.185,1013.91 \n",
       "  \"/>\n",
       "<polyline clip-path=\"url(#clip660)\" style=\"stroke:#000000; stroke-linecap:butt; stroke-linejoin:round; stroke-width:4; stroke-opacity:1; fill:none\" points=\"\n",
       "  193.288,691.039 212.185,691.039 \n",
       "  \"/>\n",
       "<polyline clip-path=\"url(#clip660)\" style=\"stroke:#000000; stroke-linecap:butt; stroke-linejoin:round; stroke-width:4; stroke-opacity:1; fill:none\" points=\"\n",
       "  193.288,368.165 212.185,368.165 \n",
       "  \"/>\n",
       "<path clip-path=\"url(#clip660)\" d=\"M50.9921 1337.24 L80.6679 1337.24 L80.6679 1341.17 L50.9921 1341.17 L50.9921 1337.24 Z\" fill=\"#000000\" fill-rule=\"evenodd\" fill-opacity=\"1\" /><path clip-path=\"url(#clip660)\" d=\"M100.76 1322.59 Q97.1493 1322.59 95.3206 1326.15 Q93.515 1329.69 93.515 1336.82 Q93.515 1343.93 95.3206 1347.49 Q97.1493 1351.04 100.76 1351.04 Q104.395 1351.04 106.2 1347.49 Q108.029 1343.93 108.029 1336.82 Q108.029 1329.69 106.2 1326.15 Q104.395 1322.59 100.76 1322.59 M100.76 1318.88 Q106.571 1318.88 109.626 1323.49 Q112.705 1328.07 112.705 1336.82 Q112.705 1345.55 109.626 1350.16 Q106.571 1354.74 100.76 1354.74 Q94.9502 1354.74 91.8715 1350.16 Q88.816 1345.55 88.816 1336.82 Q88.816 1328.07 91.8715 1323.49 Q94.9502 1318.88 100.76 1318.88 Z\" fill=\"#000000\" fill-rule=\"evenodd\" fill-opacity=\"1\" /><path clip-path=\"url(#clip660)\" d=\"M120.922 1348.19 L125.807 1348.19 L125.807 1354.07 L120.922 1354.07 L120.922 1348.19 Z\" fill=\"#000000\" fill-rule=\"evenodd\" fill-opacity=\"1\" /><path clip-path=\"url(#clip660)\" d=\"M150.158 1335.43 Q153.515 1336.15 155.39 1338.42 Q157.288 1340.69 157.288 1344.02 Q157.288 1349.14 153.769 1351.94 Q150.251 1354.74 143.769 1354.74 Q141.593 1354.74 139.279 1354.3 Q136.987 1353.88 134.533 1353.03 L134.533 1348.51 Q136.478 1349.65 138.793 1350.22 Q141.107 1350.8 143.631 1350.8 Q148.029 1350.8 150.32 1349.07 Q152.635 1347.33 152.635 1344.02 Q152.635 1340.97 150.482 1339.25 Q148.353 1337.52 144.533 1337.52 L140.506 1337.52 L140.506 1333.67 L144.718 1333.67 Q148.168 1333.67 149.996 1332.31 Q151.825 1330.92 151.825 1328.33 Q151.825 1325.66 149.927 1324.25 Q148.052 1322.82 144.533 1322.82 Q142.612 1322.82 140.413 1323.23 Q138.214 1323.65 135.575 1324.53 L135.575 1320.36 Q138.237 1319.62 140.552 1319.25 Q142.89 1318.88 144.95 1318.88 Q150.274 1318.88 153.376 1321.31 Q156.478 1323.72 156.478 1327.84 Q156.478 1330.71 154.834 1332.7 Q153.191 1334.67 150.158 1335.43 Z\" fill=\"#000000\" fill-rule=\"evenodd\" fill-opacity=\"1\" /><path clip-path=\"url(#clip660)\" d=\"M51.9412 1014.36 L81.617 1014.36 L81.617 1018.3 L51.9412 1018.3 L51.9412 1014.36 Z\" fill=\"#000000\" fill-rule=\"evenodd\" fill-opacity=\"1\" /><path clip-path=\"url(#clip660)\" d=\"M101.709 999.712 Q98.0984 999.712 96.2697 1003.28 Q94.4641 1006.82 94.4641 1013.95 Q94.4641 1021.05 96.2697 1024.62 Q98.0984 1028.16 101.709 1028.16 Q105.344 1028.16 107.149 1024.62 Q108.978 1021.05 108.978 1013.95 Q108.978 1006.82 107.149 1003.28 Q105.344 999.712 101.709 999.712 M101.709 996.008 Q107.52 996.008 110.575 1000.61 Q113.654 1005.2 113.654 1013.95 Q113.654 1022.67 110.575 1027.28 Q107.52 1031.86 101.709 1031.86 Q95.8993 1031.86 92.8206 1027.28 Q89.7651 1022.67 89.7651 1013.95 Q89.7651 1005.2 92.8206 1000.61 Q95.8993 996.008 101.709 996.008 Z\" fill=\"#000000\" fill-rule=\"evenodd\" fill-opacity=\"1\" /><path clip-path=\"url(#clip660)\" d=\"M121.871 1025.31 L126.756 1025.31 L126.756 1031.19 L121.871 1031.19 L121.871 1025.31 Z\" fill=\"#000000\" fill-rule=\"evenodd\" fill-opacity=\"1\" /><path clip-path=\"url(#clip660)\" d=\"M140.968 1027.26 L157.288 1027.26 L157.288 1031.19 L135.344 1031.19 L135.344 1027.26 Q138.006 1024.5 142.589 1019.87 Q147.195 1015.22 148.376 1013.88 Q150.621 1011.36 151.501 1009.62 Q152.404 1007.86 152.404 1006.17 Q152.404 1003.42 150.459 1001.68 Q148.538 999.944 145.436 999.944 Q143.237 999.944 140.783 1000.71 Q138.353 1001.47 135.575 1003.02 L135.575 998.3 Q138.399 997.166 140.853 996.587 Q143.306 996.008 145.343 996.008 Q150.714 996.008 153.908 998.694 Q157.103 1001.38 157.103 1005.87 Q157.103 1008 156.292 1009.92 Q155.505 1011.82 153.399 1014.41 Q152.82 1015.08 149.718 1018.3 Q146.617 1021.49 140.968 1027.26 Z\" fill=\"#000000\" fill-rule=\"evenodd\" fill-opacity=\"1\" /><path clip-path=\"url(#clip660)\" d=\"M51.5708 691.491 L81.2466 691.491 L81.2466 695.426 L51.5708 695.426 L51.5708 691.491 Z\" fill=\"#000000\" fill-rule=\"evenodd\" fill-opacity=\"1\" /><path clip-path=\"url(#clip660)\" d=\"M101.339 676.838 Q97.728 676.838 95.8993 680.403 Q94.0937 683.944 94.0937 691.074 Q94.0937 698.18 95.8993 701.745 Q97.728 705.287 101.339 705.287 Q104.973 705.287 106.779 701.745 Q108.608 698.18 108.608 691.074 Q108.608 683.944 106.779 680.403 Q104.973 676.838 101.339 676.838 M101.339 673.134 Q107.149 673.134 110.205 677.741 Q113.283 682.324 113.283 691.074 Q113.283 699.801 110.205 704.407 Q107.149 708.99 101.339 708.99 Q95.5289 708.99 92.4502 704.407 Q89.3947 699.801 89.3947 691.074 Q89.3947 682.324 92.4502 677.741 Q95.5289 673.134 101.339 673.134 Z\" fill=\"#000000\" fill-rule=\"evenodd\" fill-opacity=\"1\" /><path clip-path=\"url(#clip660)\" d=\"M121.501 702.44 L126.385 702.44 L126.385 708.319 L121.501 708.319 L121.501 702.44 Z\" fill=\"#000000\" fill-rule=\"evenodd\" fill-opacity=\"1\" /><path clip-path=\"url(#clip660)\" d=\"M137.381 704.384 L145.019 704.384 L145.019 678.018 L136.709 679.685 L136.709 675.426 L144.973 673.759 L149.649 673.759 L149.649 704.384 L157.288 704.384 L157.288 708.319 L137.381 708.319 L137.381 704.384 Z\" fill=\"#000000\" fill-rule=\"evenodd\" fill-opacity=\"1\" /><path clip-path=\"url(#clip660)\" d=\"M100.112 353.964 Q96.5011 353.964 94.6724 357.529 Q92.8669 361.07 92.8669 368.2 Q92.8669 375.306 94.6724 378.871 Q96.5011 382.413 100.112 382.413 Q103.746 382.413 105.552 378.871 Q107.381 375.306 107.381 368.2 Q107.381 361.07 105.552 357.529 Q103.746 353.964 100.112 353.964 M100.112 350.26 Q105.922 350.26 108.978 354.866 Q112.057 359.45 112.057 368.2 Q112.057 376.927 108.978 381.533 Q105.922 386.116 100.112 386.116 Q94.3021 386.116 91.2234 381.533 Q88.1679 376.927 88.1679 368.2 Q88.1679 359.45 91.2234 354.866 Q94.3021 350.26 100.112 350.26 Z\" fill=\"#000000\" fill-rule=\"evenodd\" fill-opacity=\"1\" /><path clip-path=\"url(#clip660)\" d=\"M120.274 379.565 L125.158 379.565 L125.158 385.445 L120.274 385.445 L120.274 379.565 Z\" fill=\"#000000\" fill-rule=\"evenodd\" fill-opacity=\"1\" /><path clip-path=\"url(#clip660)\" d=\"M145.343 353.964 Q141.732 353.964 139.904 357.529 Q138.098 361.07 138.098 368.2 Q138.098 375.306 139.904 378.871 Q141.732 382.413 145.343 382.413 Q148.978 382.413 150.783 378.871 Q152.612 375.306 152.612 368.2 Q152.612 361.07 150.783 357.529 Q148.978 353.964 145.343 353.964 M145.343 350.26 Q151.154 350.26 154.209 354.866 Q157.288 359.45 157.288 368.2 Q157.288 376.927 154.209 381.533 Q151.154 386.116 145.343 386.116 Q139.533 386.116 136.455 381.533 Q133.399 376.927 133.399 368.2 Q133.399 359.45 136.455 354.866 Q139.533 350.26 145.343 350.26 Z\" fill=\"#000000\" fill-rule=\"evenodd\" fill-opacity=\"1\" /><polyline clip-path=\"url(#clip662)\" style=\"stroke:#009af9; stroke-linecap:butt; stroke-linejoin:round; stroke-width:4; stroke-opacity:1; fill:none\" points=\"\n",
       "  193.288,119.937 301.261,86.1857 409.235,258.072 517.208,942.869 625.181,768.53 733.155,868.449 841.128,759.954 949.102,666.005 1057.08,1034.93 1165.05,1253.65 \n",
       "  1273.02,1158.98 1381,1290.83 1488.97,1384.24 1596.94,872.681 1704.92,834.537 1812.89,929.08 1920.86,844.248 2028.84,1050.92 2136.81,1014.15 2244.78,1134.25 \n",
       "  2352.76,883.21 \n",
       "  \"/>\n",
       "<polyline clip-path=\"url(#clip662)\" style=\"stroke:#e26f46; stroke-linecap:butt; stroke-linejoin:round; stroke-width:4; stroke-opacity:1; fill:none\" points=\"\n",
       "  193.288,361.004 301.261,393.887 409.235,477.684 517.208,344.083 625.181,387.04 733.155,354.17 841.128,355.758 949.102,429.65 1057.08,408.024 1165.05,359.074 \n",
       "  1273.02,394.896 1381,389.622 1488.97,292.844 1596.94,365.529 1704.92,386.633 1812.89,358.402 1920.86,404.758 2028.84,366.99 2136.81,391.998 2244.78,333.061 \n",
       "  2352.76,340.998 \n",
       "  \"/>\n",
       "<path clip-path=\"url(#clip660)\" d=\"\n",
       "M2017.82 248.629 L2280.77 248.629 L2280.77 93.1086 L2017.82 93.1086  Z\n",
       "  \" fill=\"#ffffff\" fill-rule=\"evenodd\" fill-opacity=\"1\"/>\n",
       "<polyline clip-path=\"url(#clip660)\" style=\"stroke:#000000; stroke-linecap:butt; stroke-linejoin:round; stroke-width:4; stroke-opacity:1; fill:none\" points=\"\n",
       "  2017.82,248.629 2280.77,248.629 2280.77,93.1086 2017.82,93.1086 2017.82,248.629 \n",
       "  \"/>\n",
       "<polyline clip-path=\"url(#clip660)\" style=\"stroke:#009af9; stroke-linecap:butt; stroke-linejoin:round; stroke-width:4; stroke-opacity:1; fill:none\" points=\"\n",
       "  2041.82,144.949 2185.78,144.949 \n",
       "  \"/>\n",
       "<path clip-path=\"url(#clip660)\" d=\"M2209.78 126.21 L2214.06 126.21 L2214.06 147.483 L2226.77 136.303 L2232.21 136.303 L2218.46 148.432 L2232.79 162.229 L2227.23 162.229 L2214.06 149.567 L2214.06 162.229 L2209.78 162.229 L2209.78 126.21 Z\" fill=\"#000000\" fill-rule=\"evenodd\" fill-opacity=\"1\" /><polyline clip-path=\"url(#clip660)\" style=\"stroke:#e26f46; stroke-linecap:butt; stroke-linejoin:round; stroke-width:4; stroke-opacity:1; fill:none\" points=\"\n",
       "  2041.82,196.789 2185.78,196.789 \n",
       "  \"/>\n",
       "<path clip-path=\"url(#clip660)\" d=\"M2210.36 188.143 L2230.59 188.143 L2230.59 192.032 L2214.57 210.666 L2230.59 210.666 L2230.59 214.069 L2209.78 214.069 L2209.78 210.18 L2225.79 191.546 L2210.36 191.546 L2210.36 188.143 Z\" fill=\"#000000\" fill-rule=\"evenodd\" fill-opacity=\"1\" /></svg>\n"
      ]
     },
     "execution_count": 15,
     "metadata": {},
     "output_type": "execute_result"
    },
    {
     "name": "stderr",
     "output_type": "stream",
     "text": [
      "┌ Info: Precompiling GR_jll [d2c73de3-f751-5644-a686-071e5b155ba9]\n",
      "└ @ Base loading.jl:1423\n"
     ]
    }
   ],
   "source": [
    "p_f = (ρ = 0.2, δ = 0.02, σ = 0.01, Ω_1 = 0.01) # Fixed parameters\n",
    "p_d = (α = 0.5, β = 0.95) # Pseudo-true values\n",
    "m = model_rbc  # ensure notebook executed above\n",
    "sol = generate_perturbation(m, p_d, p_f) # Solution to the first-order RBC\n",
    "\n",
    "# Simulate T observations from a random initial condition\n",
    "T = 20\n",
    "\n",
    "# draw from ergodic distribution for the initial condition\n",
    "x_iv = MvNormal(sol.x_ergodic_var)\n",
    "problem = LinearStateSpaceProblem(sol, x_iv, (0, T))\n",
    "plot(solve(problem))"
   ]
  },
  {
   "cell_type": "markdown",
   "metadata": {},
   "source": [
    "The `LinearStateSpaceProblem` type is automatically constructed from the underlying perturbation.  However, we can override any of these options, or pass in our own noise rather than simulate it for a particular experiment"
   ]
  },
  {
   "cell_type": "code",
   "execution_count": 16,
   "metadata": {},
   "outputs": [
    {
     "data": {
      "image/svg+xml": [
       "<?xml version=\"1.0\" encoding=\"utf-8\"?>\n",
       "<svg xmlns=\"http://www.w3.org/2000/svg\" xmlns:xlink=\"http://www.w3.org/1999/xlink\" width=\"600\" height=\"400\" viewBox=\"0 0 2400 1600\">\n",
       "<defs>\n",
       "  <clipPath id=\"clip700\">\n",
       "    <rect x=\"0\" y=\"0\" width=\"2400\" height=\"1600\"/>\n",
       "  </clipPath>\n",
       "</defs>\n",
       "<path clip-path=\"url(#clip700)\" d=\"\n",
       "M0 1600 L2400 1600 L2400 0 L0 0  Z\n",
       "  \" fill=\"#ffffff\" fill-rule=\"evenodd\" fill-opacity=\"1\"/>\n",
       "<defs>\n",
       "  <clipPath id=\"clip701\">\n",
       "    <rect x=\"480\" y=\"0\" width=\"1681\" height=\"1600\"/>\n",
       "  </clipPath>\n",
       "</defs>\n",
       "<path clip-path=\"url(#clip700)\" d=\"\n",
       "M224.584 1423.18 L2352.76 1423.18 L2352.76 47.2441 L224.584 47.2441  Z\n",
       "  \" fill=\"#ffffff\" fill-rule=\"evenodd\" fill-opacity=\"1\"/>\n",
       "<defs>\n",
       "  <clipPath id=\"clip702\">\n",
       "    <rect x=\"224\" y=\"47\" width=\"2129\" height=\"1377\"/>\n",
       "  </clipPath>\n",
       "</defs>\n",
       "<polyline clip-path=\"url(#clip702)\" style=\"stroke:#000000; stroke-linecap:butt; stroke-linejoin:round; stroke-width:2; stroke-opacity:0.1; fill:none\" points=\"\n",
       "  224.584,1423.18 224.584,47.2441 \n",
       "  \"/>\n",
       "<polyline clip-path=\"url(#clip702)\" style=\"stroke:#000000; stroke-linecap:butt; stroke-linejoin:round; stroke-width:2; stroke-opacity:0.1; fill:none\" points=\"\n",
       "  756.627,1423.18 756.627,47.2441 \n",
       "  \"/>\n",
       "<polyline clip-path=\"url(#clip702)\" style=\"stroke:#000000; stroke-linecap:butt; stroke-linejoin:round; stroke-width:2; stroke-opacity:0.1; fill:none\" points=\"\n",
       "  1288.67,1423.18 1288.67,47.2441 \n",
       "  \"/>\n",
       "<polyline clip-path=\"url(#clip702)\" style=\"stroke:#000000; stroke-linecap:butt; stroke-linejoin:round; stroke-width:2; stroke-opacity:0.1; fill:none\" points=\"\n",
       "  1820.71,1423.18 1820.71,47.2441 \n",
       "  \"/>\n",
       "<polyline clip-path=\"url(#clip702)\" style=\"stroke:#000000; stroke-linecap:butt; stroke-linejoin:round; stroke-width:2; stroke-opacity:0.1; fill:none\" points=\"\n",
       "  2352.76,1423.18 2352.76,47.2441 \n",
       "  \"/>\n",
       "<polyline clip-path=\"url(#clip700)\" style=\"stroke:#000000; stroke-linecap:butt; stroke-linejoin:round; stroke-width:4; stroke-opacity:1; fill:none\" points=\"\n",
       "  224.584,1423.18 2352.76,1423.18 \n",
       "  \"/>\n",
       "<polyline clip-path=\"url(#clip700)\" style=\"stroke:#000000; stroke-linecap:butt; stroke-linejoin:round; stroke-width:4; stroke-opacity:1; fill:none\" points=\"\n",
       "  224.584,1423.18 224.584,1404.28 \n",
       "  \"/>\n",
       "<polyline clip-path=\"url(#clip700)\" style=\"stroke:#000000; stroke-linecap:butt; stroke-linejoin:round; stroke-width:4; stroke-opacity:1; fill:none\" points=\"\n",
       "  756.627,1423.18 756.627,1404.28 \n",
       "  \"/>\n",
       "<polyline clip-path=\"url(#clip700)\" style=\"stroke:#000000; stroke-linecap:butt; stroke-linejoin:round; stroke-width:4; stroke-opacity:1; fill:none\" points=\"\n",
       "  1288.67,1423.18 1288.67,1404.28 \n",
       "  \"/>\n",
       "<polyline clip-path=\"url(#clip700)\" style=\"stroke:#000000; stroke-linecap:butt; stroke-linejoin:round; stroke-width:4; stroke-opacity:1; fill:none\" points=\"\n",
       "  1820.71,1423.18 1820.71,1404.28 \n",
       "  \"/>\n",
       "<polyline clip-path=\"url(#clip700)\" style=\"stroke:#000000; stroke-linecap:butt; stroke-linejoin:round; stroke-width:4; stroke-opacity:1; fill:none\" points=\"\n",
       "  2352.76,1423.18 2352.76,1404.28 \n",
       "  \"/>\n",
       "<path clip-path=\"url(#clip700)\" d=\"M224.584 1454.1 Q220.973 1454.1 219.144 1457.66 Q217.339 1461.2 217.339 1468.33 Q217.339 1475.44 219.144 1479.01 Q220.973 1482.55 224.584 1482.55 Q228.218 1482.55 230.024 1479.01 Q231.852 1475.44 231.852 1468.33 Q231.852 1461.2 230.024 1457.66 Q228.218 1454.1 224.584 1454.1 M224.584 1450.39 Q230.394 1450.39 233.45 1455 Q236.528 1459.58 236.528 1468.33 Q236.528 1477.06 233.45 1481.67 Q230.394 1486.25 224.584 1486.25 Q218.774 1486.25 215.695 1481.67 Q212.64 1477.06 212.64 1468.33 Q212.64 1459.58 215.695 1455 Q218.774 1450.39 224.584 1450.39 Z\" fill=\"#000000\" fill-rule=\"evenodd\" fill-opacity=\"1\" /><path clip-path=\"url(#clip700)\" d=\"M746.905 1451.02 L765.261 1451.02 L765.261 1454.96 L751.187 1454.96 L751.187 1463.43 Q752.206 1463.08 753.224 1462.92 Q754.243 1462.73 755.261 1462.73 Q761.048 1462.73 764.428 1465.9 Q767.807 1469.08 767.807 1474.49 Q767.807 1480.07 764.335 1483.17 Q760.863 1486.25 754.544 1486.25 Q752.368 1486.25 750.099 1485.88 Q747.854 1485.51 745.446 1484.77 L745.446 1480.07 Q747.53 1481.2 749.752 1481.76 Q751.974 1482.32 754.451 1482.32 Q758.456 1482.32 760.794 1480.21 Q763.132 1478.1 763.132 1474.49 Q763.132 1470.88 760.794 1468.77 Q758.456 1466.67 754.451 1466.67 Q752.576 1466.67 750.701 1467.08 Q748.849 1467.5 746.905 1468.38 L746.905 1451.02 Z\" fill=\"#000000\" fill-rule=\"evenodd\" fill-opacity=\"1\" /><path clip-path=\"url(#clip700)\" d=\"M1263.36 1481.64 L1271 1481.64 L1271 1455.28 L1262.69 1456.95 L1262.69 1452.69 L1270.95 1451.02 L1275.63 1451.02 L1275.63 1481.64 L1283.26 1481.64 L1283.26 1485.58 L1263.36 1485.58 L1263.36 1481.64 Z\" fill=\"#000000\" fill-rule=\"evenodd\" fill-opacity=\"1\" /><path clip-path=\"url(#clip700)\" d=\"M1302.71 1454.1 Q1299.1 1454.1 1297.27 1457.66 Q1295.46 1461.2 1295.46 1468.33 Q1295.46 1475.44 1297.27 1479.01 Q1299.1 1482.55 1302.71 1482.55 Q1306.34 1482.55 1308.15 1479.01 Q1309.98 1475.44 1309.98 1468.33 Q1309.98 1461.2 1308.15 1457.66 Q1306.34 1454.1 1302.71 1454.1 M1302.71 1450.39 Q1308.52 1450.39 1311.57 1455 Q1314.65 1459.58 1314.65 1468.33 Q1314.65 1477.06 1311.57 1481.67 Q1308.52 1486.25 1302.71 1486.25 Q1296.9 1486.25 1293.82 1481.67 Q1290.76 1477.06 1290.76 1468.33 Q1290.76 1459.58 1293.82 1455 Q1296.9 1450.39 1302.71 1450.39 Z\" fill=\"#000000\" fill-rule=\"evenodd\" fill-opacity=\"1\" /><path clip-path=\"url(#clip700)\" d=\"M1795.9 1481.64 L1803.54 1481.64 L1803.54 1455.28 L1795.23 1456.95 L1795.23 1452.69 L1803.49 1451.02 L1808.17 1451.02 L1808.17 1481.64 L1815.81 1481.64 L1815.81 1485.58 L1795.9 1485.58 L1795.9 1481.64 Z\" fill=\"#000000\" fill-rule=\"evenodd\" fill-opacity=\"1\" /><path clip-path=\"url(#clip700)\" d=\"M1825.3 1451.02 L1843.65 1451.02 L1843.65 1454.96 L1829.58 1454.96 L1829.58 1463.43 Q1830.6 1463.08 1831.62 1462.92 Q1832.63 1462.73 1833.65 1462.73 Q1839.44 1462.73 1842.82 1465.9 Q1846.2 1469.08 1846.2 1474.49 Q1846.2 1480.07 1842.73 1483.17 Q1839.25 1486.25 1832.94 1486.25 Q1830.76 1486.25 1828.49 1485.88 Q1826.25 1485.51 1823.84 1484.77 L1823.84 1480.07 Q1825.92 1481.2 1828.14 1481.76 Q1830.37 1482.32 1832.84 1482.32 Q1836.85 1482.32 1839.19 1480.21 Q1841.52 1478.1 1841.52 1474.49 Q1841.52 1470.88 1839.19 1468.77 Q1836.85 1466.67 1832.84 1466.67 Q1830.97 1466.67 1829.09 1467.08 Q1827.24 1467.5 1825.3 1468.38 L1825.3 1451.02 Z\" fill=\"#000000\" fill-rule=\"evenodd\" fill-opacity=\"1\" /><path clip-path=\"url(#clip700)\" d=\"M2331.53 1481.64 L2347.85 1481.64 L2347.85 1485.58 L2325.9 1485.58 L2325.9 1481.64 Q2328.57 1478.89 2333.15 1474.26 Q2337.76 1469.61 2338.94 1468.27 Q2341.18 1465.74 2342.06 1464.01 Q2342.96 1462.25 2342.96 1460.56 Q2342.96 1457.8 2341.02 1456.07 Q2339.1 1454.33 2336 1454.33 Q2333.8 1454.33 2331.34 1455.09 Q2328.91 1455.86 2326.14 1457.41 L2326.14 1452.69 Q2328.96 1451.55 2331.41 1450.97 Q2333.87 1450.39 2335.9 1450.39 Q2341.27 1450.39 2344.47 1453.08 Q2347.66 1455.77 2347.66 1460.26 Q2347.66 1462.39 2346.85 1464.31 Q2346.07 1466.2 2343.96 1468.8 Q2343.38 1469.47 2340.28 1472.69 Q2337.18 1475.88 2331.53 1481.64 Z\" fill=\"#000000\" fill-rule=\"evenodd\" fill-opacity=\"1\" /><path clip-path=\"url(#clip700)\" d=\"M2367.66 1454.1 Q2364.05 1454.1 2362.22 1457.66 Q2360.42 1461.2 2360.42 1468.33 Q2360.42 1475.44 2362.22 1479.01 Q2364.05 1482.55 2367.66 1482.55 Q2371.3 1482.55 2373.1 1479.01 Q2374.93 1475.44 2374.93 1468.33 Q2374.93 1461.2 2373.1 1457.66 Q2371.3 1454.1 2367.66 1454.1 M2367.66 1450.39 Q2373.47 1450.39 2376.53 1455 Q2379.61 1459.58 2379.61 1468.33 Q2379.61 1477.06 2376.53 1481.67 Q2373.47 1486.25 2367.66 1486.25 Q2361.85 1486.25 2358.77 1481.67 Q2355.72 1477.06 2355.72 1468.33 Q2355.72 1459.58 2358.77 1455 Q2361.85 1450.39 2367.66 1450.39 Z\" fill=\"#000000\" fill-rule=\"evenodd\" fill-opacity=\"1\" /><path clip-path=\"url(#clip700)\" d=\"M1287.73 1522.27 L1287.73 1532.4 L1299.79 1532.4 L1299.79 1536.95 L1287.73 1536.95 L1287.73 1556.3 Q1287.73 1560.66 1288.91 1561.9 Q1290.12 1563.14 1293.78 1563.14 L1299.79 1563.14 L1299.79 1568.04 L1293.78 1568.04 Q1287 1568.04 1284.42 1565.53 Q1281.84 1562.98 1281.84 1556.3 L1281.84 1536.95 L1277.55 1536.95 L1277.55 1532.4 L1281.84 1532.4 L1281.84 1522.27 L1287.73 1522.27 Z\" fill=\"#000000\" fill-rule=\"evenodd\" fill-opacity=\"1\" /><polyline clip-path=\"url(#clip702)\" style=\"stroke:#000000; stroke-linecap:butt; stroke-linejoin:round; stroke-width:2; stroke-opacity:0.1; fill:none\" points=\"\n",
       "  224.584,1170.42 2352.76,1170.42 \n",
       "  \"/>\n",
       "<polyline clip-path=\"url(#clip702)\" style=\"stroke:#000000; stroke-linecap:butt; stroke-linejoin:round; stroke-width:2; stroke-opacity:0.1; fill:none\" points=\"\n",
       "  224.584,809.011 2352.76,809.011 \n",
       "  \"/>\n",
       "<polyline clip-path=\"url(#clip702)\" style=\"stroke:#000000; stroke-linecap:butt; stroke-linejoin:round; stroke-width:2; stroke-opacity:0.1; fill:none\" points=\"\n",
       "  224.584,447.598 2352.76,447.598 \n",
       "  \"/>\n",
       "<polyline clip-path=\"url(#clip702)\" style=\"stroke:#000000; stroke-linecap:butt; stroke-linejoin:round; stroke-width:2; stroke-opacity:0.1; fill:none\" points=\"\n",
       "  224.584,86.1857 2352.76,86.1857 \n",
       "  \"/>\n",
       "<polyline clip-path=\"url(#clip700)\" style=\"stroke:#000000; stroke-linecap:butt; stroke-linejoin:round; stroke-width:4; stroke-opacity:1; fill:none\" points=\"\n",
       "  224.584,1423.18 224.584,47.2441 \n",
       "  \"/>\n",
       "<polyline clip-path=\"url(#clip700)\" style=\"stroke:#000000; stroke-linecap:butt; stroke-linejoin:round; stroke-width:4; stroke-opacity:1; fill:none\" points=\"\n",
       "  224.584,1170.42 243.482,1170.42 \n",
       "  \"/>\n",
       "<polyline clip-path=\"url(#clip700)\" style=\"stroke:#000000; stroke-linecap:butt; stroke-linejoin:round; stroke-width:4; stroke-opacity:1; fill:none\" points=\"\n",
       "  224.584,809.011 243.482,809.011 \n",
       "  \"/>\n",
       "<polyline clip-path=\"url(#clip700)\" style=\"stroke:#000000; stroke-linecap:butt; stroke-linejoin:round; stroke-width:4; stroke-opacity:1; fill:none\" points=\"\n",
       "  224.584,447.598 243.482,447.598 \n",
       "  \"/>\n",
       "<polyline clip-path=\"url(#clip700)\" style=\"stroke:#000000; stroke-linecap:butt; stroke-linejoin:round; stroke-width:4; stroke-opacity:1; fill:none\" points=\"\n",
       "  224.584,86.1857 243.482,86.1857 \n",
       "  \"/>\n",
       "<path clip-path=\"url(#clip700)\" d=\"M51.3162 1170.87 L80.992 1170.87 L80.992 1174.81 L51.3162 1174.81 L51.3162 1170.87 Z\" fill=\"#000000\" fill-rule=\"evenodd\" fill-opacity=\"1\" /><path clip-path=\"url(#clip700)\" d=\"M101.084 1156.22 Q97.4734 1156.22 95.6447 1159.79 Q93.8391 1163.33 93.8391 1170.46 Q93.8391 1177.56 95.6447 1181.13 Q97.4734 1184.67 101.084 1184.67 Q104.719 1184.67 106.524 1181.13 Q108.353 1177.56 108.353 1170.46 Q108.353 1163.33 106.524 1159.79 Q104.719 1156.22 101.084 1156.22 M101.084 1152.52 Q106.895 1152.52 109.95 1157.12 Q113.029 1161.71 113.029 1170.46 Q113.029 1179.18 109.95 1183.79 Q106.895 1188.37 101.084 1188.37 Q95.2743 1188.37 92.1956 1183.79 Q89.1401 1179.18 89.1401 1170.46 Q89.1401 1161.71 92.1956 1157.12 Q95.2743 1152.52 101.084 1152.52 Z\" fill=\"#000000\" fill-rule=\"evenodd\" fill-opacity=\"1\" /><path clip-path=\"url(#clip700)\" d=\"M121.246 1181.82 L126.131 1181.82 L126.131 1187.7 L121.246 1187.7 L121.246 1181.82 Z\" fill=\"#000000\" fill-rule=\"evenodd\" fill-opacity=\"1\" /><path clip-path=\"url(#clip700)\" d=\"M146.316 1156.22 Q142.705 1156.22 140.876 1159.79 Q139.07 1163.33 139.07 1170.46 Q139.07 1177.56 140.876 1181.13 Q142.705 1184.67 146.316 1184.67 Q149.95 1184.67 151.755 1181.13 Q153.584 1177.56 153.584 1170.46 Q153.584 1163.33 151.755 1159.79 Q149.95 1156.22 146.316 1156.22 M146.316 1152.52 Q152.126 1152.52 155.181 1157.12 Q158.26 1161.71 158.26 1170.46 Q158.26 1179.18 155.181 1183.79 Q152.126 1188.37 146.316 1188.37 Q140.506 1188.37 137.427 1183.79 Q134.371 1179.18 134.371 1170.46 Q134.371 1161.71 137.427 1157.12 Q140.506 1152.52 146.316 1152.52 Z\" fill=\"#000000\" fill-rule=\"evenodd\" fill-opacity=\"1\" /><path clip-path=\"url(#clip700)\" d=\"M177.056 1168.56 Q173.908 1168.56 172.056 1170.71 Q170.228 1172.87 170.228 1176.62 Q170.228 1180.34 172.056 1182.52 Q173.908 1184.67 177.056 1184.67 Q180.204 1184.67 182.033 1182.52 Q183.885 1180.34 183.885 1176.62 Q183.885 1172.87 182.033 1170.71 Q180.204 1168.56 177.056 1168.56 M186.339 1153.91 L186.339 1158.17 Q184.579 1157.33 182.774 1156.89 Q180.991 1156.45 179.232 1156.45 Q174.603 1156.45 172.149 1159.58 Q169.718 1162.7 169.371 1169.02 Q170.737 1167.01 172.797 1165.94 Q174.857 1164.86 177.334 1164.86 Q182.542 1164.86 185.552 1168.03 Q188.584 1171.18 188.584 1176.62 Q188.584 1181.94 185.436 1185.16 Q182.288 1188.37 177.056 1188.37 Q171.061 1188.37 167.89 1183.79 Q164.718 1179.18 164.718 1170.46 Q164.718 1162.26 168.607 1157.4 Q172.496 1152.52 179.047 1152.52 Q180.806 1152.52 182.589 1152.87 Q184.394 1153.21 186.339 1153.91 Z\" fill=\"#000000\" fill-rule=\"evenodd\" fill-opacity=\"1\" /><path clip-path=\"url(#clip700)\" d=\"M50.9921 809.462 L80.6679 809.462 L80.6679 813.397 L50.9921 813.397 L50.9921 809.462 Z\" fill=\"#000000\" fill-rule=\"evenodd\" fill-opacity=\"1\" /><path clip-path=\"url(#clip700)\" d=\"M100.76 794.809 Q97.1493 794.809 95.3206 798.374 Q93.515 801.916 93.515 809.045 Q93.515 816.152 95.3206 819.717 Q97.1493 823.258 100.76 823.258 Q104.395 823.258 106.2 819.717 Q108.029 816.152 108.029 809.045 Q108.029 801.916 106.2 798.374 Q104.395 794.809 100.76 794.809 M100.76 791.106 Q106.571 791.106 109.626 795.712 Q112.705 800.295 112.705 809.045 Q112.705 817.772 109.626 822.379 Q106.571 826.962 100.76 826.962 Q94.9502 826.962 91.8715 822.379 Q88.816 817.772 88.816 809.045 Q88.816 800.295 91.8715 795.712 Q94.9502 791.106 100.76 791.106 Z\" fill=\"#000000\" fill-rule=\"evenodd\" fill-opacity=\"1\" /><path clip-path=\"url(#clip700)\" d=\"M120.922 820.411 L125.807 820.411 L125.807 826.291 L120.922 826.291 L120.922 820.411 Z\" fill=\"#000000\" fill-rule=\"evenodd\" fill-opacity=\"1\" /><path clip-path=\"url(#clip700)\" d=\"M145.992 794.809 Q142.381 794.809 140.552 798.374 Q138.746 801.916 138.746 809.045 Q138.746 816.152 140.552 819.717 Q142.381 823.258 145.992 823.258 Q149.626 823.258 151.431 819.717 Q153.26 816.152 153.26 809.045 Q153.26 801.916 151.431 798.374 Q149.626 794.809 145.992 794.809 M145.992 791.106 Q151.802 791.106 154.857 795.712 Q157.936 800.295 157.936 809.045 Q157.936 817.772 154.857 822.379 Q151.802 826.962 145.992 826.962 Q140.181 826.962 137.103 822.379 Q134.047 817.772 134.047 809.045 Q134.047 800.295 137.103 795.712 Q140.181 791.106 145.992 791.106 Z\" fill=\"#000000\" fill-rule=\"evenodd\" fill-opacity=\"1\" /><path clip-path=\"url(#clip700)\" d=\"M179.001 795.805 L167.195 814.254 L179.001 814.254 L179.001 795.805 M177.774 791.731 L183.653 791.731 L183.653 814.254 L188.584 814.254 L188.584 818.143 L183.653 818.143 L183.653 826.291 L179.001 826.291 L179.001 818.143 L163.399 818.143 L163.399 813.629 L177.774 791.731 Z\" fill=\"#000000\" fill-rule=\"evenodd\" fill-opacity=\"1\" /><path clip-path=\"url(#clip700)\" d=\"M53.0754 448.05 L82.7512 448.05 L82.7512 451.985 L53.0754 451.985 L53.0754 448.05 Z\" fill=\"#000000\" fill-rule=\"evenodd\" fill-opacity=\"1\" /><path clip-path=\"url(#clip700)\" d=\"M102.844 433.397 Q99.2326 433.397 97.4039 436.962 Q95.5984 440.503 95.5984 447.633 Q95.5984 454.739 97.4039 458.304 Q99.2326 461.846 102.844 461.846 Q106.478 461.846 108.283 458.304 Q110.112 454.739 110.112 447.633 Q110.112 440.503 108.283 436.962 Q106.478 433.397 102.844 433.397 M102.844 429.693 Q108.654 429.693 111.709 434.3 Q114.788 438.883 114.788 447.633 Q114.788 456.36 111.709 460.966 Q108.654 465.549 102.844 465.549 Q97.0335 465.549 93.9549 460.966 Q90.8993 456.36 90.8993 447.633 Q90.8993 438.883 93.9549 434.3 Q97.0335 429.693 102.844 429.693 Z\" fill=\"#000000\" fill-rule=\"evenodd\" fill-opacity=\"1\" /><path clip-path=\"url(#clip700)\" d=\"M123.006 458.999 L127.89 458.999 L127.89 464.878 L123.006 464.878 L123.006 458.999 Z\" fill=\"#000000\" fill-rule=\"evenodd\" fill-opacity=\"1\" /><path clip-path=\"url(#clip700)\" d=\"M148.075 433.397 Q144.464 433.397 142.635 436.962 Q140.83 440.503 140.83 447.633 Q140.83 454.739 142.635 458.304 Q144.464 461.846 148.075 461.846 Q151.709 461.846 153.515 458.304 Q155.343 454.739 155.343 447.633 Q155.343 440.503 153.515 436.962 Q151.709 433.397 148.075 433.397 M148.075 429.693 Q153.885 429.693 156.941 434.3 Q160.019 438.883 160.019 447.633 Q160.019 456.36 156.941 460.966 Q153.885 465.549 148.075 465.549 Q142.265 465.549 139.186 460.966 Q136.131 456.36 136.131 447.633 Q136.131 438.883 139.186 434.3 Q142.265 429.693 148.075 429.693 Z\" fill=\"#000000\" fill-rule=\"evenodd\" fill-opacity=\"1\" /><path clip-path=\"url(#clip700)\" d=\"M172.265 460.943 L188.584 460.943 L188.584 464.878 L166.64 464.878 L166.64 460.943 Q169.302 458.188 173.885 453.559 Q178.491 448.906 179.672 447.563 Q181.917 445.04 182.797 443.304 Q183.7 441.545 183.7 439.855 Q183.7 437.101 181.755 435.364 Q179.834 433.628 176.732 433.628 Q174.533 433.628 172.079 434.392 Q169.649 435.156 166.871 436.707 L166.871 431.985 Q169.695 430.851 172.149 430.272 Q174.603 429.693 176.64 429.693 Q182.01 429.693 185.204 432.378 Q188.399 435.064 188.399 439.554 Q188.399 441.684 187.589 443.605 Q186.802 445.503 184.695 448.096 Q184.116 448.767 181.015 451.985 Q177.913 455.179 172.265 460.943 Z\" fill=\"#000000\" fill-rule=\"evenodd\" fill-opacity=\"1\" /><path clip-path=\"url(#clip700)\" d=\"M101.246 71.9844 Q97.6354 71.9844 95.8067 75.5492 Q94.0012 79.0908 94.0012 86.2204 Q94.0012 93.3268 95.8067 96.8916 Q97.6354 100.433 101.246 100.433 Q104.881 100.433 106.686 96.8916 Q108.515 93.3268 108.515 86.2204 Q108.515 79.0908 106.686 75.5492 Q104.881 71.9844 101.246 71.9844 M101.246 68.2807 Q107.057 68.2807 110.112 72.8871 Q113.191 77.4704 113.191 86.2204 Q113.191 94.9472 110.112 99.5537 Q107.057 104.137 101.246 104.137 Q95.4363 104.137 92.3576 99.5537 Q89.3021 94.9472 89.3021 86.2204 Q89.3021 77.4704 92.3576 72.8871 Q95.4363 68.2807 101.246 68.2807 Z\" fill=\"#000000\" fill-rule=\"evenodd\" fill-opacity=\"1\" /><path clip-path=\"url(#clip700)\" d=\"M121.408 97.5861 L126.293 97.5861 L126.293 103.466 L121.408 103.466 L121.408 97.5861 Z\" fill=\"#000000\" fill-rule=\"evenodd\" fill-opacity=\"1\" /><path clip-path=\"url(#clip700)\" d=\"M146.478 71.9844 Q142.867 71.9844 141.038 75.5492 Q139.232 79.0908 139.232 86.2204 Q139.232 93.3268 141.038 96.8916 Q142.867 100.433 146.478 100.433 Q150.112 100.433 151.918 96.8916 Q153.746 93.3268 153.746 86.2204 Q153.746 79.0908 151.918 75.5492 Q150.112 71.9844 146.478 71.9844 M146.478 68.2807 Q152.288 68.2807 155.343 72.8871 Q158.422 77.4704 158.422 86.2204 Q158.422 94.9472 155.343 99.5537 Q152.288 104.137 146.478 104.137 Q140.668 104.137 137.589 99.5537 Q134.533 94.9472 134.533 86.2204 Q134.533 77.4704 137.589 72.8871 Q140.668 68.2807 146.478 68.2807 Z\" fill=\"#000000\" fill-rule=\"evenodd\" fill-opacity=\"1\" /><path clip-path=\"url(#clip700)\" d=\"M176.64 71.9844 Q173.029 71.9844 171.2 75.5492 Q169.394 79.0908 169.394 86.2204 Q169.394 93.3268 171.2 96.8916 Q173.029 100.433 176.64 100.433 Q180.274 100.433 182.079 96.8916 Q183.908 93.3268 183.908 86.2204 Q183.908 79.0908 182.079 75.5492 Q180.274 71.9844 176.64 71.9844 M176.64 68.2807 Q182.45 68.2807 185.505 72.8871 Q188.584 77.4704 188.584 86.2204 Q188.584 94.9472 185.505 99.5537 Q182.45 104.137 176.64 104.137 Q170.829 104.137 167.751 99.5537 Q164.695 94.9472 164.695 86.2204 Q164.695 77.4704 167.751 72.8871 Q170.829 68.2807 176.64 68.2807 Z\" fill=\"#000000\" fill-rule=\"evenodd\" fill-opacity=\"1\" /><polyline clip-path=\"url(#clip702)\" style=\"stroke:#009af9; stroke-linecap:butt; stroke-linejoin:round; stroke-width:4; stroke-opacity:1; fill:none\" points=\"\n",
       "  224.584,86.1857 330.993,86.1857 437.401,1208.26 543.81,1384.24 650.218,1373.09 756.627,1326.52 863.036,1274.77 969.444,1223.83 1075.85,1174.79 1182.26,1127.82 \n",
       "  1288.67,1082.86 1395.08,1039.84 1501.49,998.675 1607.9,959.288 1714.3,921.6 1820.71,885.54 1927.12,851.036 2033.53,818.021 2139.94,786.432 2246.35,756.206 \n",
       "  2352.76,727.284 \n",
       "  \"/>\n",
       "<polyline clip-path=\"url(#clip702)\" style=\"stroke:#e26f46; stroke-linecap:butt; stroke-linejoin:round; stroke-width:4; stroke-opacity:1; fill:none\" points=\"\n",
       "  224.584,86.1857 330.993,266.892 437.401,122.327 543.81,93.4139 650.218,87.6313 756.627,86.4748 863.036,86.2435 969.444,86.1972 1075.85,86.188 1182.26,86.1861 \n",
       "  1288.67,86.1858 1395.08,86.1857 1501.49,86.1857 1607.9,86.1857 1714.3,86.1857 1820.71,86.1857 1927.12,86.1857 2033.53,86.1857 2139.94,86.1857 2246.35,86.1857 \n",
       "  2352.76,86.1857 \n",
       "  \"/>\n",
       "<path clip-path=\"url(#clip700)\" d=\"\n",
       "M2022.34 248.629 L2281.82 248.629 L2281.82 93.1086 L2022.34 93.1086  Z\n",
       "  \" fill=\"#ffffff\" fill-rule=\"evenodd\" fill-opacity=\"1\"/>\n",
       "<polyline clip-path=\"url(#clip700)\" style=\"stroke:#000000; stroke-linecap:butt; stroke-linejoin:round; stroke-width:4; stroke-opacity:1; fill:none\" points=\"\n",
       "  2022.34,248.629 2281.82,248.629 2281.82,93.1086 2022.34,93.1086 2022.34,248.629 \n",
       "  \"/>\n",
       "<polyline clip-path=\"url(#clip700)\" style=\"stroke:#009af9; stroke-linecap:butt; stroke-linejoin:round; stroke-width:4; stroke-opacity:1; fill:none\" points=\"\n",
       "  2045.99,144.949 2187.87,144.949 \n",
       "  \"/>\n",
       "<path clip-path=\"url(#clip700)\" d=\"M2211.51 126.21 L2215.8 126.21 L2215.8 147.483 L2228.51 136.303 L2233.95 136.303 L2220.2 148.432 L2234.52 162.229 L2228.97 162.229 L2215.8 149.567 L2215.8 162.229 L2211.51 162.229 L2211.51 126.21 Z\" fill=\"#000000\" fill-rule=\"evenodd\" fill-opacity=\"1\" /><polyline clip-path=\"url(#clip700)\" style=\"stroke:#e26f46; stroke-linecap:butt; stroke-linejoin:round; stroke-width:4; stroke-opacity:1; fill:none\" points=\"\n",
       "  2045.99,196.789 2187.87,196.789 \n",
       "  \"/>\n",
       "<path clip-path=\"url(#clip700)\" d=\"M2212.09 188.143 L2232.33 188.143 L2232.33 192.032 L2216.31 210.666 L2232.33 210.666 L2232.33 214.069 L2211.51 214.069 L2211.51 210.18 L2227.53 191.546 L2212.09 191.546 L2212.09 188.143 Z\" fill=\"#000000\" fill-rule=\"evenodd\" fill-opacity=\"1\" /></svg>\n"
      ]
     },
     "execution_count": 16,
     "metadata": {},
     "output_type": "execute_result"
    }
   ],
   "source": [
    "noise = Matrix([1.0; zeros(T-1)]') # the ϵ shocks are \"noise\" in DifferenceEquations for SciML compatibility\n",
    "x_iv = [0.0, 0.0]  # can pass in a single value rather than a distribution \n",
    "problem = LinearStateSpaceProblem(sol, x_iv, (0, T); noise)\n",
    "plot(solve(problem))"
   ]
  },
  {
   "cell_type": "markdown",
   "metadata": {},
   "source": [
    "To demonstrate the composition of gradients between DifferenceEquations and DifferentiableStateSpaceModels lets adapt this function to simulate an impulse with fixed noise and look at the final observable"
   ]
  },
  {
   "cell_type": "code",
   "execution_count": 17,
   "metadata": {},
   "outputs": [
    {
     "data": {
      "text/plain": [
       "-0.001039731618424578"
      ]
     },
     "execution_count": 17,
     "metadata": {},
     "output_type": "execute_result"
    }
   ],
   "source": [
    "function last_observable(p_d, noise, x_iv; m, p_f, T)\n",
    "    sol = generate_perturbation(m, p_d, p_f)\n",
    "    problem = LinearStateSpaceProblem(sol, x_iv, (0, T);noise, observables_noise = nothing)  # removing observation noise\n",
    "    return solve(problem).z[end][2]  # return 2nd argument of last observable\n",
    "end\n",
    "T = 100\n",
    "noise = Matrix([1.0; zeros(T-1)]') # the ϵ shocks are \"noise\" in DifferenceEquations for SciML compatibility\n",
    "x_iv = [0.0, 0.0]  # can pass in a single value rather than a distribution\n",
    "p_f = (ρ = 0.2, δ = 0.02, σ = 0.01, Ω_1 = 0.01) # Fixed parameters\n",
    "p_d = (α = 0.5, β = 0.95) # Pseudo-true values\n",
    "m = model_rbc  # ensure notebook executed above\n",
    "last_observable(p_d, noise, x_iv; m, p_f, T)"
   ]
  },
  {
   "cell_type": "markdown",
   "metadata": {},
   "source": [
    "And, as before, we can calculate gradients with respect to the underlying `p_d` parameters, but also with respect to the noise which will demonstrate a key benefit of these methods, as they can let us do a joint likelihood of the latent variables in cases where they cannot be easily marginalized out (e.g., non-Gaussian or nonlinear).  Note that the dimensionality of this gradient is over 100."
   ]
  },
  {
   "cell_type": "code",
   "execution_count": 18,
   "metadata": {},
   "outputs": [
    {
     "data": {
      "text/plain": [
       "((α = -0.02350208860044909, β = -0.08002797800781031), [-0.0010397316184245775 -0.0010866361040296902 … -0.06209371005755886 0.0], [0.012125846203919335, 0.09948517579554432])"
      ]
     },
     "execution_count": 18,
     "metadata": {},
     "output_type": "execute_result"
    }
   ],
   "source": [
    "gradient((p_d, noise, x_iv) -> last_observable(p_d, noise, x_iv; m, p_f, T), p_d, noise, x_iv)"
   ]
  },
  {
   "cell_type": "markdown",
   "metadata": {},
   "source": [
    "Finally, we can use a simple utility functions to investigate an IRF."
   ]
  },
  {
   "cell_type": "code",
   "execution_count": 19,
   "metadata": {},
   "outputs": [
    {
     "data": {
      "image/svg+xml": [
       "<?xml version=\"1.0\" encoding=\"utf-8\"?>\n",
       "<svg xmlns=\"http://www.w3.org/2000/svg\" xmlns:xlink=\"http://www.w3.org/1999/xlink\" width=\"600\" height=\"400\" viewBox=\"0 0 2400 1600\">\n",
       "<defs>\n",
       "  <clipPath id=\"clip740\">\n",
       "    <rect x=\"0\" y=\"0\" width=\"2400\" height=\"1600\"/>\n",
       "  </clipPath>\n",
       "</defs>\n",
       "<path clip-path=\"url(#clip740)\" d=\"\n",
       "M0 1600 L2400 1600 L2400 0 L0 0  Z\n",
       "  \" fill=\"#ffffff\" fill-rule=\"evenodd\" fill-opacity=\"1\"/>\n",
       "<defs>\n",
       "  <clipPath id=\"clip741\">\n",
       "    <rect x=\"480\" y=\"0\" width=\"1681\" height=\"1600\"/>\n",
       "  </clipPath>\n",
       "</defs>\n",
       "<path clip-path=\"url(#clip740)\" d=\"\n",
       "M224.584 1423.18 L2352.76 1423.18 L2352.76 47.2441 L224.584 47.2441  Z\n",
       "  \" fill=\"#ffffff\" fill-rule=\"evenodd\" fill-opacity=\"1\"/>\n",
       "<defs>\n",
       "  <clipPath id=\"clip742\">\n",
       "    <rect x=\"224\" y=\"47\" width=\"2129\" height=\"1377\"/>\n",
       "  </clipPath>\n",
       "</defs>\n",
       "<polyline clip-path=\"url(#clip742)\" style=\"stroke:#000000; stroke-linecap:butt; stroke-linejoin:round; stroke-width:2; stroke-opacity:0.1; fill:none\" points=\"\n",
       "  224.584,1423.18 224.584,47.2441 \n",
       "  \"/>\n",
       "<polyline clip-path=\"url(#clip742)\" style=\"stroke:#000000; stroke-linecap:butt; stroke-linejoin:round; stroke-width:2; stroke-opacity:0.1; fill:none\" points=\"\n",
       "  650.218,1423.18 650.218,47.2441 \n",
       "  \"/>\n",
       "<polyline clip-path=\"url(#clip742)\" style=\"stroke:#000000; stroke-linecap:butt; stroke-linejoin:round; stroke-width:2; stroke-opacity:0.1; fill:none\" points=\"\n",
       "  1075.85,1423.18 1075.85,47.2441 \n",
       "  \"/>\n",
       "<polyline clip-path=\"url(#clip742)\" style=\"stroke:#000000; stroke-linecap:butt; stroke-linejoin:round; stroke-width:2; stroke-opacity:0.1; fill:none\" points=\"\n",
       "  1501.49,1423.18 1501.49,47.2441 \n",
       "  \"/>\n",
       "<polyline clip-path=\"url(#clip742)\" style=\"stroke:#000000; stroke-linecap:butt; stroke-linejoin:round; stroke-width:2; stroke-opacity:0.1; fill:none\" points=\"\n",
       "  1927.12,1423.18 1927.12,47.2441 \n",
       "  \"/>\n",
       "<polyline clip-path=\"url(#clip742)\" style=\"stroke:#000000; stroke-linecap:butt; stroke-linejoin:round; stroke-width:2; stroke-opacity:0.1; fill:none\" points=\"\n",
       "  2352.76,1423.18 2352.76,47.2441 \n",
       "  \"/>\n",
       "<polyline clip-path=\"url(#clip740)\" style=\"stroke:#000000; stroke-linecap:butt; stroke-linejoin:round; stroke-width:4; stroke-opacity:1; fill:none\" points=\"\n",
       "  224.584,1423.18 2352.76,1423.18 \n",
       "  \"/>\n",
       "<polyline clip-path=\"url(#clip740)\" style=\"stroke:#000000; stroke-linecap:butt; stroke-linejoin:round; stroke-width:4; stroke-opacity:1; fill:none\" points=\"\n",
       "  224.584,1423.18 224.584,1404.28 \n",
       "  \"/>\n",
       "<polyline clip-path=\"url(#clip740)\" style=\"stroke:#000000; stroke-linecap:butt; stroke-linejoin:round; stroke-width:4; stroke-opacity:1; fill:none\" points=\"\n",
       "  650.218,1423.18 650.218,1404.28 \n",
       "  \"/>\n",
       "<polyline clip-path=\"url(#clip740)\" style=\"stroke:#000000; stroke-linecap:butt; stroke-linejoin:round; stroke-width:4; stroke-opacity:1; fill:none\" points=\"\n",
       "  1075.85,1423.18 1075.85,1404.28 \n",
       "  \"/>\n",
       "<polyline clip-path=\"url(#clip740)\" style=\"stroke:#000000; stroke-linecap:butt; stroke-linejoin:round; stroke-width:4; stroke-opacity:1; fill:none\" points=\"\n",
       "  1501.49,1423.18 1501.49,1404.28 \n",
       "  \"/>\n",
       "<polyline clip-path=\"url(#clip740)\" style=\"stroke:#000000; stroke-linecap:butt; stroke-linejoin:round; stroke-width:4; stroke-opacity:1; fill:none\" points=\"\n",
       "  1927.12,1423.18 1927.12,1404.28 \n",
       "  \"/>\n",
       "<polyline clip-path=\"url(#clip740)\" style=\"stroke:#000000; stroke-linecap:butt; stroke-linejoin:round; stroke-width:4; stroke-opacity:1; fill:none\" points=\"\n",
       "  2352.76,1423.18 2352.76,1404.28 \n",
       "  \"/>\n",
       "<path clip-path=\"url(#clip740)\" d=\"M224.584 1454.1 Q220.973 1454.1 219.144 1457.66 Q217.339 1461.2 217.339 1468.33 Q217.339 1475.44 219.144 1479.01 Q220.973 1482.55 224.584 1482.55 Q228.218 1482.55 230.024 1479.01 Q231.852 1475.44 231.852 1468.33 Q231.852 1461.2 230.024 1457.66 Q228.218 1454.1 224.584 1454.1 M224.584 1450.39 Q230.394 1450.39 233.45 1455 Q236.528 1459.58 236.528 1468.33 Q236.528 1477.06 233.45 1481.67 Q230.394 1486.25 224.584 1486.25 Q218.774 1486.25 215.695 1481.67 Q212.64 1477.06 212.64 1468.33 Q212.64 1459.58 215.695 1455 Q218.774 1450.39 224.584 1450.39 Z\" fill=\"#000000\" fill-rule=\"evenodd\" fill-opacity=\"1\" /><path clip-path=\"url(#clip740)\" d=\"M644.871 1481.64 L661.191 1481.64 L661.191 1485.58 L639.246 1485.58 L639.246 1481.64 Q641.908 1478.89 646.492 1474.26 Q651.098 1469.61 652.279 1468.27 Q654.524 1465.74 655.404 1464.01 Q656.306 1462.25 656.306 1460.56 Q656.306 1457.8 654.362 1456.07 Q652.441 1454.33 649.339 1454.33 Q647.14 1454.33 644.686 1455.09 Q642.255 1455.86 639.478 1457.41 L639.478 1452.69 Q642.302 1451.55 644.755 1450.97 Q647.209 1450.39 649.246 1450.39 Q654.616 1450.39 657.811 1453.08 Q661.005 1455.77 661.005 1460.26 Q661.005 1462.39 660.195 1464.31 Q659.408 1466.2 657.302 1468.8 Q656.723 1469.47 653.621 1472.69 Q650.519 1475.88 644.871 1481.64 Z\" fill=\"#000000\" fill-rule=\"evenodd\" fill-opacity=\"1\" /><path clip-path=\"url(#clip740)\" d=\"M1078.86 1455.09 L1067.06 1473.54 L1078.86 1473.54 L1078.86 1455.09 M1077.64 1451.02 L1083.51 1451.02 L1083.51 1473.54 L1088.45 1473.54 L1088.45 1477.43 L1083.51 1477.43 L1083.51 1485.58 L1078.86 1485.58 L1078.86 1477.43 L1063.26 1477.43 L1063.26 1472.92 L1077.64 1451.02 Z\" fill=\"#000000\" fill-rule=\"evenodd\" fill-opacity=\"1\" /><path clip-path=\"url(#clip740)\" d=\"M1501.89 1466.44 Q1498.74 1466.44 1496.89 1468.59 Q1495.06 1470.74 1495.06 1474.49 Q1495.06 1478.22 1496.89 1480.39 Q1498.74 1482.55 1501.89 1482.55 Q1505.04 1482.55 1506.87 1480.39 Q1508.72 1478.22 1508.72 1474.49 Q1508.72 1470.74 1506.87 1468.59 Q1505.04 1466.44 1501.89 1466.44 M1511.17 1451.78 L1511.17 1456.04 Q1509.42 1455.21 1507.61 1454.77 Q1505.83 1454.33 1504.07 1454.33 Q1499.44 1454.33 1496.98 1457.45 Q1494.55 1460.58 1494.21 1466.9 Q1495.57 1464.89 1497.63 1463.82 Q1499.69 1462.73 1502.17 1462.73 Q1507.38 1462.73 1510.39 1465.9 Q1513.42 1469.05 1513.42 1474.49 Q1513.42 1479.82 1510.27 1483.03 Q1507.12 1486.25 1501.89 1486.25 Q1495.9 1486.25 1492.73 1481.67 Q1489.55 1477.06 1489.55 1468.33 Q1489.55 1460.14 1493.44 1455.28 Q1497.33 1450.39 1503.88 1450.39 Q1505.64 1450.39 1507.42 1450.74 Q1509.23 1451.09 1511.17 1451.78 Z\" fill=\"#000000\" fill-rule=\"evenodd\" fill-opacity=\"1\" /><path clip-path=\"url(#clip740)\" d=\"M1927.12 1469.17 Q1923.79 1469.17 1921.87 1470.95 Q1919.97 1472.73 1919.97 1475.86 Q1919.97 1478.98 1921.87 1480.77 Q1923.79 1482.55 1927.12 1482.55 Q1930.45 1482.55 1932.38 1480.77 Q1934.3 1478.96 1934.3 1475.86 Q1934.3 1472.73 1932.38 1470.95 Q1930.48 1469.17 1927.12 1469.17 M1922.45 1467.18 Q1919.44 1466.44 1917.75 1464.38 Q1916.08 1462.32 1916.08 1459.35 Q1916.08 1455.21 1919.02 1452.8 Q1921.98 1450.39 1927.12 1450.39 Q1932.28 1450.39 1935.22 1452.8 Q1938.16 1455.21 1938.16 1459.35 Q1938.16 1462.32 1936.47 1464.38 Q1934.81 1466.44 1931.82 1467.18 Q1935.2 1467.96 1937.08 1470.26 Q1938.97 1472.55 1938.97 1475.86 Q1938.97 1480.88 1935.89 1483.57 Q1932.84 1486.25 1927.12 1486.25 Q1921.4 1486.25 1918.33 1483.57 Q1915.27 1480.88 1915.27 1475.86 Q1915.27 1472.55 1917.17 1470.26 Q1919.07 1467.96 1922.45 1467.18 M1920.73 1459.79 Q1920.73 1462.48 1922.4 1463.98 Q1924.09 1465.49 1927.12 1465.49 Q1930.13 1465.49 1931.82 1463.98 Q1933.53 1462.48 1933.53 1459.79 Q1933.53 1457.11 1931.82 1455.6 Q1930.13 1454.1 1927.12 1454.1 Q1924.09 1454.1 1922.4 1455.6 Q1920.73 1457.11 1920.73 1459.79 Z\" fill=\"#000000\" fill-rule=\"evenodd\" fill-opacity=\"1\" /><path clip-path=\"url(#clip740)\" d=\"M2327.44 1481.64 L2335.08 1481.64 L2335.08 1455.28 L2326.77 1456.95 L2326.77 1452.69 L2335.04 1451.02 L2339.71 1451.02 L2339.71 1481.64 L2347.35 1481.64 L2347.35 1485.58 L2327.44 1485.58 L2327.44 1481.64 Z\" fill=\"#000000\" fill-rule=\"evenodd\" fill-opacity=\"1\" /><path clip-path=\"url(#clip740)\" d=\"M2366.8 1454.1 Q2363.18 1454.1 2361.36 1457.66 Q2359.55 1461.2 2359.55 1468.33 Q2359.55 1475.44 2361.36 1479.01 Q2363.18 1482.55 2366.8 1482.55 Q2370.43 1482.55 2372.23 1479.01 Q2374.06 1475.44 2374.06 1468.33 Q2374.06 1461.2 2372.23 1457.66 Q2370.43 1454.1 2366.8 1454.1 M2366.8 1450.39 Q2372.61 1450.39 2375.66 1455 Q2378.74 1459.58 2378.74 1468.33 Q2378.74 1477.06 2375.66 1481.67 Q2372.61 1486.25 2366.8 1486.25 Q2360.99 1486.25 2357.91 1481.67 Q2354.85 1477.06 2354.85 1468.33 Q2354.85 1459.58 2357.91 1455 Q2360.99 1450.39 2366.8 1450.39 Z\" fill=\"#000000\" fill-rule=\"evenodd\" fill-opacity=\"1\" /><path clip-path=\"url(#clip740)\" d=\"M1287.73 1522.27 L1287.73 1532.4 L1299.79 1532.4 L1299.79 1536.95 L1287.73 1536.95 L1287.73 1556.3 Q1287.73 1560.66 1288.91 1561.9 Q1290.12 1563.14 1293.78 1563.14 L1299.79 1563.14 L1299.79 1568.04 L1293.78 1568.04 Q1287 1568.04 1284.42 1565.53 Q1281.84 1562.98 1281.84 1556.3 L1281.84 1536.95 L1277.55 1536.95 L1277.55 1532.4 L1281.84 1532.4 L1281.84 1522.27 L1287.73 1522.27 Z\" fill=\"#000000\" fill-rule=\"evenodd\" fill-opacity=\"1\" /><polyline clip-path=\"url(#clip742)\" style=\"stroke:#000000; stroke-linecap:butt; stroke-linejoin:round; stroke-width:2; stroke-opacity:0.1; fill:none\" points=\"\n",
       "  224.584,1170.42 2352.76,1170.42 \n",
       "  \"/>\n",
       "<polyline clip-path=\"url(#clip742)\" style=\"stroke:#000000; stroke-linecap:butt; stroke-linejoin:round; stroke-width:2; stroke-opacity:0.1; fill:none\" points=\"\n",
       "  224.584,809.011 2352.76,809.011 \n",
       "  \"/>\n",
       "<polyline clip-path=\"url(#clip742)\" style=\"stroke:#000000; stroke-linecap:butt; stroke-linejoin:round; stroke-width:2; stroke-opacity:0.1; fill:none\" points=\"\n",
       "  224.584,447.598 2352.76,447.598 \n",
       "  \"/>\n",
       "<polyline clip-path=\"url(#clip742)\" style=\"stroke:#000000; stroke-linecap:butt; stroke-linejoin:round; stroke-width:2; stroke-opacity:0.1; fill:none\" points=\"\n",
       "  224.584,86.1857 2352.76,86.1857 \n",
       "  \"/>\n",
       "<polyline clip-path=\"url(#clip740)\" style=\"stroke:#000000; stroke-linecap:butt; stroke-linejoin:round; stroke-width:4; stroke-opacity:1; fill:none\" points=\"\n",
       "  224.584,1423.18 224.584,47.2441 \n",
       "  \"/>\n",
       "<polyline clip-path=\"url(#clip740)\" style=\"stroke:#000000; stroke-linecap:butt; stroke-linejoin:round; stroke-width:4; stroke-opacity:1; fill:none\" points=\"\n",
       "  224.584,1170.42 243.482,1170.42 \n",
       "  \"/>\n",
       "<polyline clip-path=\"url(#clip740)\" style=\"stroke:#000000; stroke-linecap:butt; stroke-linejoin:round; stroke-width:4; stroke-opacity:1; fill:none\" points=\"\n",
       "  224.584,809.011 243.482,809.011 \n",
       "  \"/>\n",
       "<polyline clip-path=\"url(#clip740)\" style=\"stroke:#000000; stroke-linecap:butt; stroke-linejoin:round; stroke-width:4; stroke-opacity:1; fill:none\" points=\"\n",
       "  224.584,447.598 243.482,447.598 \n",
       "  \"/>\n",
       "<polyline clip-path=\"url(#clip740)\" style=\"stroke:#000000; stroke-linecap:butt; stroke-linejoin:round; stroke-width:4; stroke-opacity:1; fill:none\" points=\"\n",
       "  224.584,86.1857 243.482,86.1857 \n",
       "  \"/>\n",
       "<path clip-path=\"url(#clip740)\" d=\"M51.3162 1170.87 L80.992 1170.87 L80.992 1174.81 L51.3162 1174.81 L51.3162 1170.87 Z\" fill=\"#000000\" fill-rule=\"evenodd\" fill-opacity=\"1\" /><path clip-path=\"url(#clip740)\" d=\"M101.084 1156.22 Q97.4734 1156.22 95.6447 1159.79 Q93.8391 1163.33 93.8391 1170.46 Q93.8391 1177.56 95.6447 1181.13 Q97.4734 1184.67 101.084 1184.67 Q104.719 1184.67 106.524 1181.13 Q108.353 1177.56 108.353 1170.46 Q108.353 1163.33 106.524 1159.79 Q104.719 1156.22 101.084 1156.22 M101.084 1152.52 Q106.895 1152.52 109.95 1157.12 Q113.029 1161.71 113.029 1170.46 Q113.029 1179.18 109.95 1183.79 Q106.895 1188.37 101.084 1188.37 Q95.2743 1188.37 92.1956 1183.79 Q89.1401 1179.18 89.1401 1170.46 Q89.1401 1161.71 92.1956 1157.12 Q95.2743 1152.52 101.084 1152.52 Z\" fill=\"#000000\" fill-rule=\"evenodd\" fill-opacity=\"1\" /><path clip-path=\"url(#clip740)\" d=\"M121.246 1181.82 L126.131 1181.82 L126.131 1187.7 L121.246 1187.7 L121.246 1181.82 Z\" fill=\"#000000\" fill-rule=\"evenodd\" fill-opacity=\"1\" /><path clip-path=\"url(#clip740)\" d=\"M146.316 1156.22 Q142.705 1156.22 140.876 1159.79 Q139.07 1163.33 139.07 1170.46 Q139.07 1177.56 140.876 1181.13 Q142.705 1184.67 146.316 1184.67 Q149.95 1184.67 151.755 1181.13 Q153.584 1177.56 153.584 1170.46 Q153.584 1163.33 151.755 1159.79 Q149.95 1156.22 146.316 1156.22 M146.316 1152.52 Q152.126 1152.52 155.181 1157.12 Q158.26 1161.71 158.26 1170.46 Q158.26 1179.18 155.181 1183.79 Q152.126 1188.37 146.316 1188.37 Q140.506 1188.37 137.427 1183.79 Q134.371 1179.18 134.371 1170.46 Q134.371 1161.71 137.427 1157.12 Q140.506 1152.52 146.316 1152.52 Z\" fill=\"#000000\" fill-rule=\"evenodd\" fill-opacity=\"1\" /><path clip-path=\"url(#clip740)\" d=\"M177.056 1168.56 Q173.908 1168.56 172.056 1170.71 Q170.228 1172.87 170.228 1176.62 Q170.228 1180.34 172.056 1182.52 Q173.908 1184.67 177.056 1184.67 Q180.204 1184.67 182.033 1182.52 Q183.885 1180.34 183.885 1176.62 Q183.885 1172.87 182.033 1170.71 Q180.204 1168.56 177.056 1168.56 M186.339 1153.91 L186.339 1158.17 Q184.579 1157.33 182.774 1156.89 Q180.991 1156.45 179.232 1156.45 Q174.603 1156.45 172.149 1159.58 Q169.718 1162.7 169.371 1169.02 Q170.737 1167.01 172.797 1165.94 Q174.857 1164.86 177.334 1164.86 Q182.542 1164.86 185.552 1168.03 Q188.584 1171.18 188.584 1176.62 Q188.584 1181.94 185.436 1185.16 Q182.288 1188.37 177.056 1188.37 Q171.061 1188.37 167.89 1183.79 Q164.718 1179.18 164.718 1170.46 Q164.718 1162.26 168.607 1157.4 Q172.496 1152.52 179.047 1152.52 Q180.806 1152.52 182.589 1152.87 Q184.394 1153.21 186.339 1153.91 Z\" fill=\"#000000\" fill-rule=\"evenodd\" fill-opacity=\"1\" /><path clip-path=\"url(#clip740)\" d=\"M50.9921 809.462 L80.6679 809.462 L80.6679 813.397 L50.9921 813.397 L50.9921 809.462 Z\" fill=\"#000000\" fill-rule=\"evenodd\" fill-opacity=\"1\" /><path clip-path=\"url(#clip740)\" d=\"M100.76 794.809 Q97.1493 794.809 95.3206 798.374 Q93.515 801.916 93.515 809.045 Q93.515 816.152 95.3206 819.717 Q97.1493 823.258 100.76 823.258 Q104.395 823.258 106.2 819.717 Q108.029 816.152 108.029 809.045 Q108.029 801.916 106.2 798.374 Q104.395 794.809 100.76 794.809 M100.76 791.106 Q106.571 791.106 109.626 795.712 Q112.705 800.295 112.705 809.045 Q112.705 817.772 109.626 822.379 Q106.571 826.962 100.76 826.962 Q94.9502 826.962 91.8715 822.379 Q88.816 817.772 88.816 809.045 Q88.816 800.295 91.8715 795.712 Q94.9502 791.106 100.76 791.106 Z\" fill=\"#000000\" fill-rule=\"evenodd\" fill-opacity=\"1\" /><path clip-path=\"url(#clip740)\" d=\"M120.922 820.411 L125.807 820.411 L125.807 826.291 L120.922 826.291 L120.922 820.411 Z\" fill=\"#000000\" fill-rule=\"evenodd\" fill-opacity=\"1\" /><path clip-path=\"url(#clip740)\" d=\"M145.992 794.809 Q142.381 794.809 140.552 798.374 Q138.746 801.916 138.746 809.045 Q138.746 816.152 140.552 819.717 Q142.381 823.258 145.992 823.258 Q149.626 823.258 151.431 819.717 Q153.26 816.152 153.26 809.045 Q153.26 801.916 151.431 798.374 Q149.626 794.809 145.992 794.809 M145.992 791.106 Q151.802 791.106 154.857 795.712 Q157.936 800.295 157.936 809.045 Q157.936 817.772 154.857 822.379 Q151.802 826.962 145.992 826.962 Q140.181 826.962 137.103 822.379 Q134.047 817.772 134.047 809.045 Q134.047 800.295 137.103 795.712 Q140.181 791.106 145.992 791.106 Z\" fill=\"#000000\" fill-rule=\"evenodd\" fill-opacity=\"1\" /><path clip-path=\"url(#clip740)\" d=\"M179.001 795.805 L167.195 814.254 L179.001 814.254 L179.001 795.805 M177.774 791.731 L183.653 791.731 L183.653 814.254 L188.584 814.254 L188.584 818.143 L183.653 818.143 L183.653 826.291 L179.001 826.291 L179.001 818.143 L163.399 818.143 L163.399 813.629 L177.774 791.731 Z\" fill=\"#000000\" fill-rule=\"evenodd\" fill-opacity=\"1\" /><path clip-path=\"url(#clip740)\" d=\"M53.0754 448.05 L82.7512 448.05 L82.7512 451.985 L53.0754 451.985 L53.0754 448.05 Z\" fill=\"#000000\" fill-rule=\"evenodd\" fill-opacity=\"1\" /><path clip-path=\"url(#clip740)\" d=\"M102.844 433.397 Q99.2326 433.397 97.4039 436.962 Q95.5984 440.503 95.5984 447.633 Q95.5984 454.739 97.4039 458.304 Q99.2326 461.846 102.844 461.846 Q106.478 461.846 108.283 458.304 Q110.112 454.739 110.112 447.633 Q110.112 440.503 108.283 436.962 Q106.478 433.397 102.844 433.397 M102.844 429.693 Q108.654 429.693 111.709 434.3 Q114.788 438.883 114.788 447.633 Q114.788 456.36 111.709 460.966 Q108.654 465.549 102.844 465.549 Q97.0335 465.549 93.9549 460.966 Q90.8993 456.36 90.8993 447.633 Q90.8993 438.883 93.9549 434.3 Q97.0335 429.693 102.844 429.693 Z\" fill=\"#000000\" fill-rule=\"evenodd\" fill-opacity=\"1\" /><path clip-path=\"url(#clip740)\" d=\"M123.006 458.999 L127.89 458.999 L127.89 464.878 L123.006 464.878 L123.006 458.999 Z\" fill=\"#000000\" fill-rule=\"evenodd\" fill-opacity=\"1\" /><path clip-path=\"url(#clip740)\" d=\"M148.075 433.397 Q144.464 433.397 142.635 436.962 Q140.83 440.503 140.83 447.633 Q140.83 454.739 142.635 458.304 Q144.464 461.846 148.075 461.846 Q151.709 461.846 153.515 458.304 Q155.343 454.739 155.343 447.633 Q155.343 440.503 153.515 436.962 Q151.709 433.397 148.075 433.397 M148.075 429.693 Q153.885 429.693 156.941 434.3 Q160.019 438.883 160.019 447.633 Q160.019 456.36 156.941 460.966 Q153.885 465.549 148.075 465.549 Q142.265 465.549 139.186 460.966 Q136.131 456.36 136.131 447.633 Q136.131 438.883 139.186 434.3 Q142.265 429.693 148.075 429.693 Z\" fill=\"#000000\" fill-rule=\"evenodd\" fill-opacity=\"1\" /><path clip-path=\"url(#clip740)\" d=\"M172.265 460.943 L188.584 460.943 L188.584 464.878 L166.64 464.878 L166.64 460.943 Q169.302 458.188 173.885 453.559 Q178.491 448.906 179.672 447.563 Q181.917 445.04 182.797 443.304 Q183.7 441.545 183.7 439.855 Q183.7 437.101 181.755 435.364 Q179.834 433.628 176.732 433.628 Q174.533 433.628 172.079 434.392 Q169.649 435.156 166.871 436.707 L166.871 431.985 Q169.695 430.851 172.149 430.272 Q174.603 429.693 176.64 429.693 Q182.01 429.693 185.204 432.378 Q188.399 435.064 188.399 439.554 Q188.399 441.684 187.589 443.605 Q186.802 445.503 184.695 448.096 Q184.116 448.767 181.015 451.985 Q177.913 455.179 172.265 460.943 Z\" fill=\"#000000\" fill-rule=\"evenodd\" fill-opacity=\"1\" /><path clip-path=\"url(#clip740)\" d=\"M101.246 71.9844 Q97.6354 71.9844 95.8067 75.5492 Q94.0012 79.0908 94.0012 86.2204 Q94.0012 93.3268 95.8067 96.8916 Q97.6354 100.433 101.246 100.433 Q104.881 100.433 106.686 96.8916 Q108.515 93.3268 108.515 86.2204 Q108.515 79.0908 106.686 75.5492 Q104.881 71.9844 101.246 71.9844 M101.246 68.2807 Q107.057 68.2807 110.112 72.8871 Q113.191 77.4704 113.191 86.2204 Q113.191 94.9472 110.112 99.5537 Q107.057 104.137 101.246 104.137 Q95.4363 104.137 92.3576 99.5537 Q89.3021 94.9472 89.3021 86.2204 Q89.3021 77.4704 92.3576 72.8871 Q95.4363 68.2807 101.246 68.2807 Z\" fill=\"#000000\" fill-rule=\"evenodd\" fill-opacity=\"1\" /><path clip-path=\"url(#clip740)\" d=\"M121.408 97.5861 L126.293 97.5861 L126.293 103.466 L121.408 103.466 L121.408 97.5861 Z\" fill=\"#000000\" fill-rule=\"evenodd\" fill-opacity=\"1\" /><path clip-path=\"url(#clip740)\" d=\"M146.478 71.9844 Q142.867 71.9844 141.038 75.5492 Q139.232 79.0908 139.232 86.2204 Q139.232 93.3268 141.038 96.8916 Q142.867 100.433 146.478 100.433 Q150.112 100.433 151.918 96.8916 Q153.746 93.3268 153.746 86.2204 Q153.746 79.0908 151.918 75.5492 Q150.112 71.9844 146.478 71.9844 M146.478 68.2807 Q152.288 68.2807 155.343 72.8871 Q158.422 77.4704 158.422 86.2204 Q158.422 94.9472 155.343 99.5537 Q152.288 104.137 146.478 104.137 Q140.668 104.137 137.589 99.5537 Q134.533 94.9472 134.533 86.2204 Q134.533 77.4704 137.589 72.8871 Q140.668 68.2807 146.478 68.2807 Z\" fill=\"#000000\" fill-rule=\"evenodd\" fill-opacity=\"1\" /><path clip-path=\"url(#clip740)\" d=\"M176.64 71.9844 Q173.029 71.9844 171.2 75.5492 Q169.394 79.0908 169.394 86.2204 Q169.394 93.3268 171.2 96.8916 Q173.029 100.433 176.64 100.433 Q180.274 100.433 182.079 96.8916 Q183.908 93.3268 183.908 86.2204 Q183.908 79.0908 182.079 75.5492 Q180.274 71.9844 176.64 71.9844 M176.64 68.2807 Q182.45 68.2807 185.505 72.8871 Q188.584 77.4704 188.584 86.2204 Q188.584 94.9472 185.505 99.5537 Q182.45 104.137 176.64 104.137 Q170.829 104.137 167.751 99.5537 Q164.695 94.9472 164.695 86.2204 Q164.695 77.4704 167.751 72.8871 Q170.829 68.2807 176.64 68.2807 Z\" fill=\"#000000\" fill-rule=\"evenodd\" fill-opacity=\"1\" /><polyline clip-path=\"url(#clip742)\" style=\"stroke:#009af9; stroke-linecap:butt; stroke-linejoin:round; stroke-width:4; stroke-opacity:1; fill:none\" points=\"\n",
       "  224.584,86.1857 437.401,86.1857 650.218,1208.26 863.036,1384.24 1075.85,1373.09 1288.67,1326.52 1501.49,1274.77 1714.3,1223.83 1927.12,1174.79 2139.94,1127.82 \n",
       "  2352.76,1082.86 \n",
       "  \"/>\n",
       "<polyline clip-path=\"url(#clip742)\" style=\"stroke:#e26f46; stroke-linecap:butt; stroke-linejoin:round; stroke-width:4; stroke-opacity:1; fill:none\" points=\"\n",
       "  224.584,86.1857 437.401,266.892 650.218,122.327 863.036,93.4139 1075.85,87.6313 1288.67,86.4748 1501.49,86.2435 1714.3,86.1972 1927.12,86.188 2139.94,86.1861 \n",
       "  2352.76,86.1858 \n",
       "  \"/>\n",
       "<path clip-path=\"url(#clip740)\" d=\"\n",
       "M2022.34 248.629 L2281.82 248.629 L2281.82 93.1086 L2022.34 93.1086  Z\n",
       "  \" fill=\"#ffffff\" fill-rule=\"evenodd\" fill-opacity=\"1\"/>\n",
       "<polyline clip-path=\"url(#clip740)\" style=\"stroke:#000000; stroke-linecap:butt; stroke-linejoin:round; stroke-width:4; stroke-opacity:1; fill:none\" points=\"\n",
       "  2022.34,248.629 2281.82,248.629 2281.82,93.1086 2022.34,93.1086 2022.34,248.629 \n",
       "  \"/>\n",
       "<polyline clip-path=\"url(#clip740)\" style=\"stroke:#009af9; stroke-linecap:butt; stroke-linejoin:round; stroke-width:4; stroke-opacity:1; fill:none\" points=\"\n",
       "  2045.99,144.949 2187.87,144.949 \n",
       "  \"/>\n",
       "<path clip-path=\"url(#clip740)\" d=\"M2211.51 126.21 L2215.8 126.21 L2215.8 147.483 L2228.51 136.303 L2233.95 136.303 L2220.2 148.432 L2234.52 162.229 L2228.97 162.229 L2215.8 149.567 L2215.8 162.229 L2211.51 162.229 L2211.51 126.21 Z\" fill=\"#000000\" fill-rule=\"evenodd\" fill-opacity=\"1\" /><polyline clip-path=\"url(#clip740)\" style=\"stroke:#e26f46; stroke-linecap:butt; stroke-linejoin:round; stroke-width:4; stroke-opacity:1; fill:none\" points=\"\n",
       "  2045.99,196.789 2187.87,196.789 \n",
       "  \"/>\n",
       "<path clip-path=\"url(#clip740)\" d=\"M2212.09 188.143 L2232.33 188.143 L2232.33 192.032 L2216.31 210.666 L2232.33 210.666 L2232.33 214.069 L2211.51 214.069 L2211.51 210.18 L2227.53 191.546 L2212.09 191.546 L2212.09 188.143 Z\" fill=\"#000000\" fill-rule=\"evenodd\" fill-opacity=\"1\" /></svg>\n"
      ]
     },
     "execution_count": 19,
     "metadata": {},
     "output_type": "execute_result"
    }
   ],
   "source": [
    "p_f = (ρ = 0.2, δ = 0.02, σ = 0.01, Ω_1 = 0.01) # Fixed parameters\n",
    "p_d = (α = 0.5, β = 0.95) # Pseudo-true values\n",
    "m = model_rbc\n",
    "sol = generate_perturbation(model_rbc, p_d, p_f)\n",
    "ϵ0 = [1.0]\n",
    "T = 10\n",
    "sim = irf(sol, ϵ0, T)\n",
    "plot(sim)"
   ]
  },
  {
   "cell_type": "markdown",
   "metadata": {},
   "source": [
    "## Sneak Peak at SciML Compatible Functionality\n",
    "Finally, there are a variety of features of SciML which are supported.  For example, parallel simulations of ensembles and associated summary statistics"
   ]
  },
  {
   "cell_type": "code",
   "execution_count": 20,
   "metadata": {},
   "outputs": [
    {
     "data": {
      "text/plain": [
       "t: 0:10\n",
       "u: 11-element Vector{Vector{Float64}}:\n",
       " [-0.06849616749168119, 0.002430490689003771]\n",
       " [-0.018232243727516317, 4.178362879834265e-5]\n",
       " [-0.006130734877711555, -0.0012801506033949567]\n",
       " [-0.029692362571749217, 0.0029167124862915397]\n",
       " [-0.01418677984731015, 8.880061768457687e-5]\n",
       " [-0.012168309195379916, 0.0003679002721679268]\n",
       " [-0.02903024314533037, -0.0017796657403380003]\n",
       " [-0.017594841603510616, -0.003123852451232536]\n",
       " [-0.042044233027366255, 9.676460362403633e-5]\n",
       " [-0.03947618577501135, 0.0007834629342420161]\n",
       " [-0.053775744337300646, 0.005120733305282458]"
      ]
     },
     "execution_count": 20,
     "metadata": {},
     "output_type": "execute_result"
    }
   ],
   "source": [
    "# Simulate multiple trajectories with T observations\n",
    "trajectories = 40\n",
    "x_iv = MvNormal(sol.x_ergodic_var)\n",
    "problem = LinearStateSpaceProblem(sol, x_iv, (0, T))\n",
    "\n",
    "# Solve multiple trajectories and plot an ensemble\n",
    "ensemble_results = solve(EnsembleProblem(problem), DirectIteration(), EnsembleThreads();\n",
    "                 trajectories)\n",
    "summ = EnsembleSummary(ensemble_results)  # see SciML documentation.  Calculates median and other quantiles automatically.\n",
    "summ.med # median values for the \"x\" simulated ensembles"
   ]
  },
  {
   "cell_type": "code",
   "execution_count": 21,
   "metadata": {},
   "outputs": [
    {
     "data": {
      "image/svg+xml": [
       "<?xml version=\"1.0\" encoding=\"utf-8\"?>\n",
       "<svg xmlns=\"http://www.w3.org/2000/svg\" xmlns:xlink=\"http://www.w3.org/1999/xlink\" width=\"600\" height=\"400\" viewBox=\"0 0 2400 1600\">\n",
       "<defs>\n",
       "  <clipPath id=\"clip780\">\n",
       "    <rect x=\"0\" y=\"0\" width=\"2400\" height=\"1600\"/>\n",
       "  </clipPath>\n",
       "</defs>\n",
       "<path clip-path=\"url(#clip780)\" d=\"\n",
       "M0 1600 L2400 1600 L2400 0 L0 0  Z\n",
       "  \" fill=\"#ffffff\" fill-rule=\"evenodd\" fill-opacity=\"1\"/>\n",
       "<defs>\n",
       "  <clipPath id=\"clip781\">\n",
       "    <rect x=\"480\" y=\"0\" width=\"1681\" height=\"1600\"/>\n",
       "  </clipPath>\n",
       "</defs>\n",
       "<path clip-path=\"url(#clip780)\" d=\"\n",
       "M224.098 1486.45 L2352.76 1486.45 L2352.76 47.2441 L224.098 47.2441  Z\n",
       "  \" fill=\"#ffffff\" fill-rule=\"evenodd\" fill-opacity=\"1\"/>\n",
       "<defs>\n",
       "  <clipPath id=\"clip782\">\n",
       "    <rect x=\"224\" y=\"47\" width=\"2130\" height=\"1440\"/>\n",
       "  </clipPath>\n",
       "</defs>\n",
       "<polyline clip-path=\"url(#clip782)\" style=\"stroke:#000000; stroke-linecap:butt; stroke-linejoin:round; stroke-width:2; stroke-opacity:0.1; fill:none\" points=\"\n",
       "  284.343,1486.45 284.343,47.2441 \n",
       "  \"/>\n",
       "<polyline clip-path=\"url(#clip782)\" style=\"stroke:#000000; stroke-linecap:butt; stroke-linejoin:round; stroke-width:2; stroke-opacity:0.1; fill:none\" points=\"\n",
       "  786.385,1486.45 786.385,47.2441 \n",
       "  \"/>\n",
       "<polyline clip-path=\"url(#clip782)\" style=\"stroke:#000000; stroke-linecap:butt; stroke-linejoin:round; stroke-width:2; stroke-opacity:0.1; fill:none\" points=\"\n",
       "  1288.43,1486.45 1288.43,47.2441 \n",
       "  \"/>\n",
       "<polyline clip-path=\"url(#clip782)\" style=\"stroke:#000000; stroke-linecap:butt; stroke-linejoin:round; stroke-width:2; stroke-opacity:0.1; fill:none\" points=\"\n",
       "  1790.47,1486.45 1790.47,47.2441 \n",
       "  \"/>\n",
       "<polyline clip-path=\"url(#clip782)\" style=\"stroke:#000000; stroke-linecap:butt; stroke-linejoin:round; stroke-width:2; stroke-opacity:0.1; fill:none\" points=\"\n",
       "  2292.51,1486.45 2292.51,47.2441 \n",
       "  \"/>\n",
       "<polyline clip-path=\"url(#clip780)\" style=\"stroke:#000000; stroke-linecap:butt; stroke-linejoin:round; stroke-width:4; stroke-opacity:1; fill:none\" points=\"\n",
       "  224.098,1486.45 2352.76,1486.45 \n",
       "  \"/>\n",
       "<polyline clip-path=\"url(#clip780)\" style=\"stroke:#000000; stroke-linecap:butt; stroke-linejoin:round; stroke-width:4; stroke-opacity:1; fill:none\" points=\"\n",
       "  284.343,1486.45 284.343,1467.55 \n",
       "  \"/>\n",
       "<polyline clip-path=\"url(#clip780)\" style=\"stroke:#000000; stroke-linecap:butt; stroke-linejoin:round; stroke-width:4; stroke-opacity:1; fill:none\" points=\"\n",
       "  786.385,1486.45 786.385,1467.55 \n",
       "  \"/>\n",
       "<polyline clip-path=\"url(#clip780)\" style=\"stroke:#000000; stroke-linecap:butt; stroke-linejoin:round; stroke-width:4; stroke-opacity:1; fill:none\" points=\"\n",
       "  1288.43,1486.45 1288.43,1467.55 \n",
       "  \"/>\n",
       "<polyline clip-path=\"url(#clip780)\" style=\"stroke:#000000; stroke-linecap:butt; stroke-linejoin:round; stroke-width:4; stroke-opacity:1; fill:none\" points=\"\n",
       "  1790.47,1486.45 1790.47,1467.55 \n",
       "  \"/>\n",
       "<polyline clip-path=\"url(#clip780)\" style=\"stroke:#000000; stroke-linecap:butt; stroke-linejoin:round; stroke-width:4; stroke-opacity:1; fill:none\" points=\"\n",
       "  2292.51,1486.45 2292.51,1467.55 \n",
       "  \"/>\n",
       "<path clip-path=\"url(#clip780)\" d=\"M261.727 1517.37 Q258.116 1517.37 256.288 1520.93 Q254.482 1524.47 254.482 1531.6 Q254.482 1538.71 256.288 1542.27 Q258.116 1545.82 261.727 1545.82 Q265.362 1545.82 267.167 1542.27 Q268.996 1538.71 268.996 1531.6 Q268.996 1524.47 267.167 1520.93 Q265.362 1517.37 261.727 1517.37 M261.727 1513.66 Q267.537 1513.66 270.593 1518.27 Q273.672 1522.85 273.672 1531.6 Q273.672 1540.33 270.593 1544.94 Q267.537 1549.52 261.727 1549.52 Q255.917 1549.52 252.838 1544.94 Q249.783 1540.33 249.783 1531.6 Q249.783 1522.85 252.838 1518.27 Q255.917 1513.66 261.727 1513.66 Z\" fill=\"#000000\" fill-rule=\"evenodd\" fill-opacity=\"1\" /><path clip-path=\"url(#clip780)\" d=\"M281.889 1542.97 L286.773 1542.97 L286.773 1548.85 L281.889 1548.85 L281.889 1542.97 Z\" fill=\"#000000\" fill-rule=\"evenodd\" fill-opacity=\"1\" /><path clip-path=\"url(#clip780)\" d=\"M306.959 1517.37 Q303.347 1517.37 301.519 1520.93 Q299.713 1524.47 299.713 1531.6 Q299.713 1538.71 301.519 1542.27 Q303.347 1545.82 306.959 1545.82 Q310.593 1545.82 312.398 1542.27 Q314.227 1538.71 314.227 1531.6 Q314.227 1524.47 312.398 1520.93 Q310.593 1517.37 306.959 1517.37 M306.959 1513.66 Q312.769 1513.66 315.824 1518.27 Q318.903 1522.85 318.903 1531.6 Q318.903 1540.33 315.824 1544.94 Q312.769 1549.52 306.959 1549.52 Q301.148 1549.52 298.07 1544.94 Q295.014 1540.33 295.014 1531.6 Q295.014 1522.85 298.07 1518.27 Q301.148 1513.66 306.959 1513.66 Z\" fill=\"#000000\" fill-rule=\"evenodd\" fill-opacity=\"1\" /><path clip-path=\"url(#clip780)\" d=\"M758.121 1544.91 L774.441 1544.91 L774.441 1548.85 L752.496 1548.85 L752.496 1544.91 Q755.158 1542.16 759.742 1537.53 Q764.348 1532.88 765.529 1531.53 Q767.774 1529.01 768.654 1527.27 Q769.556 1525.51 769.556 1523.82 Q769.556 1521.07 767.612 1519.33 Q765.691 1517.6 762.589 1517.6 Q760.39 1517.6 757.936 1518.36 Q755.505 1519.13 752.728 1520.68 L752.728 1515.95 Q755.552 1514.82 758.005 1514.24 Q760.459 1513.66 762.496 1513.66 Q767.866 1513.66 771.061 1516.35 Q774.255 1519.03 774.255 1523.52 Q774.255 1525.65 773.445 1527.57 Q772.658 1529.47 770.552 1532.07 Q769.973 1532.74 766.871 1535.95 Q763.769 1539.15 758.121 1544.91 Z\" fill=\"#000000\" fill-rule=\"evenodd\" fill-opacity=\"1\" /><path clip-path=\"url(#clip780)\" d=\"M784.255 1542.97 L789.14 1542.97 L789.14 1548.85 L784.255 1548.85 L784.255 1542.97 Z\" fill=\"#000000\" fill-rule=\"evenodd\" fill-opacity=\"1\" /><path clip-path=\"url(#clip780)\" d=\"M799.371 1514.29 L817.727 1514.29 L817.727 1518.22 L803.653 1518.22 L803.653 1526.7 Q804.672 1526.35 805.69 1526.19 Q806.709 1526 807.727 1526 Q813.514 1526 816.894 1529.17 Q820.274 1532.34 820.274 1537.76 Q820.274 1543.34 816.801 1546.44 Q813.329 1549.52 807.01 1549.52 Q804.834 1549.52 802.565 1549.15 Q800.32 1548.78 797.913 1548.04 L797.913 1543.34 Q799.996 1544.47 802.218 1545.03 Q804.44 1545.58 806.917 1545.58 Q810.922 1545.58 813.26 1543.48 Q815.598 1541.37 815.598 1537.76 Q815.598 1534.15 813.26 1532.04 Q810.922 1529.94 806.917 1529.94 Q805.042 1529.94 803.167 1530.35 Q801.315 1530.77 799.371 1531.65 L799.371 1514.29 Z\" fill=\"#000000\" fill-rule=\"evenodd\" fill-opacity=\"1\" /><path clip-path=\"url(#clip780)\" d=\"M1255.59 1514.29 L1273.95 1514.29 L1273.95 1518.22 L1259.87 1518.22 L1259.87 1526.7 Q1260.89 1526.35 1261.91 1526.19 Q1262.93 1526 1263.95 1526 Q1269.73 1526 1273.11 1529.17 Q1276.49 1532.34 1276.49 1537.76 Q1276.49 1543.34 1273.02 1546.44 Q1269.55 1549.52 1263.23 1549.52 Q1261.05 1549.52 1258.79 1549.15 Q1256.54 1548.78 1254.13 1548.04 L1254.13 1543.34 Q1256.22 1544.47 1258.44 1545.03 Q1260.66 1545.58 1263.14 1545.58 Q1267.14 1545.58 1269.48 1543.48 Q1271.82 1541.37 1271.82 1537.76 Q1271.82 1534.15 1269.48 1532.04 Q1267.14 1529.94 1263.14 1529.94 Q1261.26 1529.94 1259.39 1530.35 Q1257.54 1530.77 1255.59 1531.65 L1255.59 1514.29 Z\" fill=\"#000000\" fill-rule=\"evenodd\" fill-opacity=\"1\" /><path clip-path=\"url(#clip780)\" d=\"M1285.71 1542.97 L1290.59 1542.97 L1290.59 1548.85 L1285.71 1548.85 L1285.71 1542.97 Z\" fill=\"#000000\" fill-rule=\"evenodd\" fill-opacity=\"1\" /><path clip-path=\"url(#clip780)\" d=\"M1310.78 1517.37 Q1307.17 1517.37 1305.34 1520.93 Q1303.53 1524.47 1303.53 1531.6 Q1303.53 1538.71 1305.34 1542.27 Q1307.17 1545.82 1310.78 1545.82 Q1314.41 1545.82 1316.22 1542.27 Q1318.04 1538.71 1318.04 1531.6 Q1318.04 1524.47 1316.22 1520.93 Q1314.41 1517.37 1310.78 1517.37 M1310.78 1513.66 Q1316.59 1513.66 1319.64 1518.27 Q1322.72 1522.85 1322.72 1531.6 Q1322.72 1540.33 1319.64 1544.94 Q1316.59 1549.52 1310.78 1549.52 Q1304.97 1549.52 1301.89 1544.94 Q1298.83 1540.33 1298.83 1531.6 Q1298.83 1522.85 1301.89 1518.27 Q1304.97 1513.66 1310.78 1513.66 Z\" fill=\"#000000\" fill-rule=\"evenodd\" fill-opacity=\"1\" /><path clip-path=\"url(#clip780)\" d=\"M1756.79 1514.29 L1779.01 1514.29 L1779.01 1516.28 L1766.46 1548.85 L1761.58 1548.85 L1773.39 1518.22 L1756.79 1518.22 L1756.79 1514.29 Z\" fill=\"#000000\" fill-rule=\"evenodd\" fill-opacity=\"1\" /><path clip-path=\"url(#clip780)\" d=\"M1788.13 1542.97 L1793.02 1542.97 L1793.02 1548.85 L1788.13 1548.85 L1788.13 1542.97 Z\" fill=\"#000000\" fill-rule=\"evenodd\" fill-opacity=\"1\" /><path clip-path=\"url(#clip780)\" d=\"M1803.25 1514.29 L1821.6 1514.29 L1821.6 1518.22 L1807.53 1518.22 L1807.53 1526.7 Q1808.55 1526.35 1809.57 1526.19 Q1810.58 1526 1811.6 1526 Q1817.39 1526 1820.77 1529.17 Q1824.15 1532.34 1824.15 1537.76 Q1824.15 1543.34 1820.68 1546.44 Q1817.2 1549.52 1810.89 1549.52 Q1808.71 1549.52 1806.44 1549.15 Q1804.2 1548.78 1801.79 1548.04 L1801.79 1543.34 Q1803.87 1544.47 1806.09 1545.03 Q1808.32 1545.58 1810.79 1545.58 Q1814.8 1545.58 1817.14 1543.48 Q1819.47 1541.37 1819.47 1537.76 Q1819.47 1534.15 1817.14 1532.04 Q1814.8 1529.94 1810.79 1529.94 Q1808.92 1529.94 1807.04 1530.35 Q1805.19 1530.77 1803.25 1531.65 L1803.25 1514.29 Z\" fill=\"#000000\" fill-rule=\"evenodd\" fill-opacity=\"1\" /><path clip-path=\"url(#clip780)\" d=\"M2244.58 1544.91 L2252.22 1544.91 L2252.22 1518.55 L2243.91 1520.21 L2243.91 1515.95 L2252.18 1514.29 L2256.85 1514.29 L2256.85 1544.91 L2264.49 1544.91 L2264.49 1548.85 L2244.58 1548.85 L2244.58 1544.91 Z\" fill=\"#000000\" fill-rule=\"evenodd\" fill-opacity=\"1\" /><path clip-path=\"url(#clip780)\" d=\"M2283.93 1517.37 Q2280.32 1517.37 2278.49 1520.93 Q2276.69 1524.47 2276.69 1531.6 Q2276.69 1538.71 2278.49 1542.27 Q2280.32 1545.82 2283.93 1545.82 Q2287.57 1545.82 2289.37 1542.27 Q2291.2 1538.71 2291.2 1531.6 Q2291.2 1524.47 2289.37 1520.93 Q2287.57 1517.37 2283.93 1517.37 M2283.93 1513.66 Q2289.74 1513.66 2292.8 1518.27 Q2295.88 1522.85 2295.88 1531.6 Q2295.88 1540.33 2292.8 1544.94 Q2289.74 1549.52 2283.93 1549.52 Q2278.12 1549.52 2275.05 1544.94 Q2271.99 1540.33 2271.99 1531.6 Q2271.99 1522.85 2275.05 1518.27 Q2278.12 1513.66 2283.93 1513.66 Z\" fill=\"#000000\" fill-rule=\"evenodd\" fill-opacity=\"1\" /><path clip-path=\"url(#clip780)\" d=\"M2304.1 1542.97 L2308.98 1542.97 L2308.98 1548.85 L2304.1 1548.85 L2304.1 1542.97 Z\" fill=\"#000000\" fill-rule=\"evenodd\" fill-opacity=\"1\" /><path clip-path=\"url(#clip780)\" d=\"M2329.17 1517.37 Q2325.55 1517.37 2323.73 1520.93 Q2321.92 1524.47 2321.92 1531.6 Q2321.92 1538.71 2323.73 1542.27 Q2325.55 1545.82 2329.17 1545.82 Q2332.8 1545.82 2334.61 1542.27 Q2336.43 1538.71 2336.43 1531.6 Q2336.43 1524.47 2334.61 1520.93 Q2332.8 1517.37 2329.17 1517.37 M2329.17 1513.66 Q2334.98 1513.66 2338.03 1518.27 Q2341.11 1522.85 2341.11 1531.6 Q2341.11 1540.33 2338.03 1544.94 Q2334.98 1549.52 2329.17 1549.52 Q2323.36 1549.52 2320.28 1544.94 Q2317.22 1540.33 2317.22 1531.6 Q2317.22 1522.85 2320.28 1518.27 Q2323.36 1513.66 2329.17 1513.66 Z\" fill=\"#000000\" fill-rule=\"evenodd\" fill-opacity=\"1\" /><polyline clip-path=\"url(#clip782)\" style=\"stroke:#000000; stroke-linecap:butt; stroke-linejoin:round; stroke-width:2; stroke-opacity:0.1; fill:none\" points=\"\n",
       "  224.098,1339.32 2352.76,1339.32 \n",
       "  \"/>\n",
       "<polyline clip-path=\"url(#clip782)\" style=\"stroke:#000000; stroke-linecap:butt; stroke-linejoin:round; stroke-width:2; stroke-opacity:0.1; fill:none\" points=\"\n",
       "  224.098,1010.12 2352.76,1010.12 \n",
       "  \"/>\n",
       "<polyline clip-path=\"url(#clip782)\" style=\"stroke:#000000; stroke-linecap:butt; stroke-linejoin:round; stroke-width:2; stroke-opacity:0.1; fill:none\" points=\"\n",
       "  224.098,680.927 2352.76,680.927 \n",
       "  \"/>\n",
       "<polyline clip-path=\"url(#clip782)\" style=\"stroke:#000000; stroke-linecap:butt; stroke-linejoin:round; stroke-width:2; stroke-opacity:0.1; fill:none\" points=\"\n",
       "  224.098,351.731 2352.76,351.731 \n",
       "  \"/>\n",
       "<polyline clip-path=\"url(#clip780)\" style=\"stroke:#000000; stroke-linecap:butt; stroke-linejoin:round; stroke-width:4; stroke-opacity:1; fill:none\" points=\"\n",
       "  224.098,1486.45 224.098,47.2441 \n",
       "  \"/>\n",
       "<polyline clip-path=\"url(#clip780)\" style=\"stroke:#000000; stroke-linecap:butt; stroke-linejoin:round; stroke-width:4; stroke-opacity:1; fill:none\" points=\"\n",
       "  224.098,1339.32 242.996,1339.32 \n",
       "  \"/>\n",
       "<polyline clip-path=\"url(#clip780)\" style=\"stroke:#000000; stroke-linecap:butt; stroke-linejoin:round; stroke-width:4; stroke-opacity:1; fill:none\" points=\"\n",
       "  224.098,1010.12 242.996,1010.12 \n",
       "  \"/>\n",
       "<polyline clip-path=\"url(#clip780)\" style=\"stroke:#000000; stroke-linecap:butt; stroke-linejoin:round; stroke-width:4; stroke-opacity:1; fill:none\" points=\"\n",
       "  224.098,680.927 242.996,680.927 \n",
       "  \"/>\n",
       "<polyline clip-path=\"url(#clip780)\" style=\"stroke:#000000; stroke-linecap:butt; stroke-linejoin:round; stroke-width:4; stroke-opacity:1; fill:none\" points=\"\n",
       "  224.098,351.731 242.996,351.731 \n",
       "  \"/>\n",
       "<path clip-path=\"url(#clip780)\" d=\"M50.9921 1339.77 L80.6679 1339.77 L80.6679 1343.7 L50.9921 1343.7 L50.9921 1339.77 Z\" fill=\"#000000\" fill-rule=\"evenodd\" fill-opacity=\"1\" /><path clip-path=\"url(#clip780)\" d=\"M100.76 1325.12 Q97.1493 1325.12 95.3206 1328.68 Q93.515 1332.22 93.515 1339.35 Q93.515 1346.46 95.3206 1350.02 Q97.1493 1353.56 100.76 1353.56 Q104.395 1353.56 106.2 1350.02 Q108.029 1346.46 108.029 1339.35 Q108.029 1332.22 106.2 1328.68 Q104.395 1325.12 100.76 1325.12 M100.76 1321.41 Q106.571 1321.41 109.626 1326.02 Q112.705 1330.6 112.705 1339.35 Q112.705 1348.08 109.626 1352.69 Q106.571 1357.27 100.76 1357.27 Q94.9502 1357.27 91.8715 1352.69 Q88.816 1348.08 88.816 1339.35 Q88.816 1330.6 91.8715 1326.02 Q94.9502 1321.41 100.76 1321.41 Z\" fill=\"#000000\" fill-rule=\"evenodd\" fill-opacity=\"1\" /><path clip-path=\"url(#clip780)\" d=\"M120.922 1350.72 L125.807 1350.72 L125.807 1356.6 L120.922 1356.6 L120.922 1350.72 Z\" fill=\"#000000\" fill-rule=\"evenodd\" fill-opacity=\"1\" /><path clip-path=\"url(#clip780)\" d=\"M136.038 1322.04 L154.394 1322.04 L154.394 1325.97 L140.32 1325.97 L140.32 1334.44 Q141.339 1334.1 142.357 1333.94 Q143.376 1333.75 144.394 1333.75 Q150.181 1333.75 153.561 1336.92 Q156.941 1340.09 156.941 1345.51 Q156.941 1351.09 153.468 1354.19 Q149.996 1357.27 143.677 1357.27 Q141.501 1357.27 139.232 1356.9 Q136.987 1356.53 134.58 1355.79 L134.58 1351.09 Q136.663 1352.22 138.885 1352.78 Q141.107 1353.33 143.584 1353.33 Q147.589 1353.33 149.927 1351.23 Q152.265 1349.12 152.265 1345.51 Q152.265 1341.9 149.927 1339.79 Q147.589 1337.69 143.584 1337.69 Q141.709 1337.69 139.834 1338.1 Q137.982 1338.52 136.038 1339.4 L136.038 1322.04 Z\" fill=\"#000000\" fill-rule=\"evenodd\" fill-opacity=\"1\" /><path clip-path=\"url(#clip780)\" d=\"M176.153 1325.12 Q172.542 1325.12 170.714 1328.68 Q168.908 1332.22 168.908 1339.35 Q168.908 1346.46 170.714 1350.02 Q172.542 1353.56 176.153 1353.56 Q179.788 1353.56 181.593 1350.02 Q183.422 1346.46 183.422 1339.35 Q183.422 1332.22 181.593 1328.68 Q179.788 1325.12 176.153 1325.12 M176.153 1321.41 Q181.964 1321.41 185.019 1326.02 Q188.098 1330.6 188.098 1339.35 Q188.098 1348.08 185.019 1352.69 Q181.964 1357.27 176.153 1357.27 Q170.343 1357.27 167.265 1352.69 Q164.209 1348.08 164.209 1339.35 Q164.209 1330.6 167.265 1326.02 Q170.343 1321.41 176.153 1321.41 Z\" fill=\"#000000\" fill-rule=\"evenodd\" fill-opacity=\"1\" /><path clip-path=\"url(#clip780)\" d=\"M51.9875 1010.57 L81.6633 1010.57 L81.6633 1014.51 L51.9875 1014.51 L51.9875 1010.57 Z\" fill=\"#000000\" fill-rule=\"evenodd\" fill-opacity=\"1\" /><path clip-path=\"url(#clip780)\" d=\"M101.756 995.921 Q98.1447 995.921 96.316 999.485 Q94.5104 1003.03 94.5104 1010.16 Q94.5104 1017.26 96.316 1020.83 Q98.1447 1024.37 101.756 1024.37 Q105.39 1024.37 107.196 1020.83 Q109.024 1017.26 109.024 1010.16 Q109.024 1003.03 107.196 999.485 Q105.39 995.921 101.756 995.921 M101.756 992.217 Q107.566 992.217 110.621 996.823 Q113.7 1001.41 113.7 1010.16 Q113.7 1018.88 110.621 1023.49 Q107.566 1028.07 101.756 1028.07 Q95.9456 1028.07 92.8669 1023.49 Q89.8114 1018.88 89.8114 1010.16 Q89.8114 1001.41 92.8669 996.823 Q95.9456 992.217 101.756 992.217 Z\" fill=\"#000000\" fill-rule=\"evenodd\" fill-opacity=\"1\" /><path clip-path=\"url(#clip780)\" d=\"M121.918 1021.52 L126.802 1021.52 L126.802 1027.4 L121.918 1027.4 L121.918 1021.52 Z\" fill=\"#000000\" fill-rule=\"evenodd\" fill-opacity=\"1\" /><path clip-path=\"url(#clip780)\" d=\"M141.015 1023.47 L157.334 1023.47 L157.334 1027.4 L135.39 1027.4 L135.39 1023.47 Q138.052 1020.71 142.635 1016.08 Q147.242 1011.43 148.422 1010.09 Q150.668 1007.56 151.547 1005.83 Q152.45 1004.07 152.45 1002.38 Q152.45 999.624 150.505 997.888 Q148.584 996.152 145.482 996.152 Q143.283 996.152 140.83 996.916 Q138.399 997.68 135.621 999.231 L135.621 994.509 Q138.445 993.374 140.899 992.796 Q143.353 992.217 145.39 992.217 Q150.76 992.217 153.955 994.902 Q157.149 997.587 157.149 1002.08 Q157.149 1004.21 156.339 1006.13 Q155.552 1008.03 153.445 1010.62 Q152.867 1011.29 149.765 1014.51 Q146.663 1017.7 141.015 1023.47 Z\" fill=\"#000000\" fill-rule=\"evenodd\" fill-opacity=\"1\" /><path clip-path=\"url(#clip780)\" d=\"M167.195 992.842 L185.552 992.842 L185.552 996.777 L171.478 996.777 L171.478 1005.25 Q172.496 1004.9 173.515 1004.74 Q174.533 1004.55 175.552 1004.55 Q181.339 1004.55 184.718 1007.73 Q188.098 1010.9 188.098 1016.31 Q188.098 1021.89 184.626 1024.99 Q181.153 1028.07 174.834 1028.07 Q172.658 1028.07 170.39 1027.7 Q168.144 1027.33 165.737 1026.59 L165.737 1021.89 Q167.82 1023.03 170.042 1023.58 Q172.265 1024.14 174.741 1024.14 Q178.746 1024.14 181.084 1022.03 Q183.422 1019.93 183.422 1016.31 Q183.422 1012.7 181.084 1010.6 Q178.746 1008.49 174.741 1008.49 Q172.866 1008.49 170.991 1008.91 Q169.14 1009.32 167.195 1010.2 L167.195 992.842 Z\" fill=\"#000000\" fill-rule=\"evenodd\" fill-opacity=\"1\" /><path clip-path=\"url(#clip780)\" d=\"M100.76 666.725 Q97.1493 666.725 95.3206 670.29 Q93.515 673.832 93.515 680.961 Q93.515 688.068 95.3206 691.633 Q97.1493 695.174 100.76 695.174 Q104.395 695.174 106.2 691.633 Q108.029 688.068 108.029 680.961 Q108.029 673.832 106.2 670.29 Q104.395 666.725 100.76 666.725 M100.76 663.022 Q106.571 663.022 109.626 667.628 Q112.705 672.211 112.705 680.961 Q112.705 689.688 109.626 694.295 Q106.571 698.878 100.76 698.878 Q94.9502 698.878 91.8715 694.295 Q88.816 689.688 88.816 680.961 Q88.816 672.211 91.8715 667.628 Q94.9502 663.022 100.76 663.022 Z\" fill=\"#000000\" fill-rule=\"evenodd\" fill-opacity=\"1\" /><path clip-path=\"url(#clip780)\" d=\"M120.922 692.327 L125.807 692.327 L125.807 698.207 L120.922 698.207 L120.922 692.327 Z\" fill=\"#000000\" fill-rule=\"evenodd\" fill-opacity=\"1\" /><path clip-path=\"url(#clip780)\" d=\"M145.992 666.725 Q142.381 666.725 140.552 670.29 Q138.746 673.832 138.746 680.961 Q138.746 688.068 140.552 691.633 Q142.381 695.174 145.992 695.174 Q149.626 695.174 151.431 691.633 Q153.26 688.068 153.26 680.961 Q153.26 673.832 151.431 670.29 Q149.626 666.725 145.992 666.725 M145.992 663.022 Q151.802 663.022 154.857 667.628 Q157.936 672.211 157.936 680.961 Q157.936 689.688 154.857 694.295 Q151.802 698.878 145.992 698.878 Q140.181 698.878 137.103 694.295 Q134.047 689.688 134.047 680.961 Q134.047 672.211 137.103 667.628 Q140.181 663.022 145.992 663.022 Z\" fill=\"#000000\" fill-rule=\"evenodd\" fill-opacity=\"1\" /><path clip-path=\"url(#clip780)\" d=\"M176.153 666.725 Q172.542 666.725 170.714 670.29 Q168.908 673.832 168.908 680.961 Q168.908 688.068 170.714 691.633 Q172.542 695.174 176.153 695.174 Q179.788 695.174 181.593 691.633 Q183.422 688.068 183.422 680.961 Q183.422 673.832 181.593 670.29 Q179.788 666.725 176.153 666.725 M176.153 663.022 Q181.964 663.022 185.019 667.628 Q188.098 672.211 188.098 680.961 Q188.098 689.688 185.019 694.295 Q181.964 698.878 176.153 698.878 Q170.343 698.878 167.265 694.295 Q164.209 689.688 164.209 680.961 Q164.209 672.211 167.265 667.628 Q170.343 663.022 176.153 663.022 Z\" fill=\"#000000\" fill-rule=\"evenodd\" fill-opacity=\"1\" /><path clip-path=\"url(#clip780)\" d=\"M101.756 337.53 Q98.1447 337.53 96.316 341.095 Q94.5104 344.636 94.5104 351.766 Q94.5104 358.872 96.316 362.437 Q98.1447 365.979 101.756 365.979 Q105.39 365.979 107.196 362.437 Q109.024 358.872 109.024 351.766 Q109.024 344.636 107.196 341.095 Q105.39 337.53 101.756 337.53 M101.756 333.826 Q107.566 333.826 110.621 338.433 Q113.7 343.016 113.7 351.766 Q113.7 360.493 110.621 365.099 Q107.566 369.683 101.756 369.683 Q95.9456 369.683 92.8669 365.099 Q89.8114 360.493 89.8114 351.766 Q89.8114 343.016 92.8669 338.433 Q95.9456 333.826 101.756 333.826 Z\" fill=\"#000000\" fill-rule=\"evenodd\" fill-opacity=\"1\" /><path clip-path=\"url(#clip780)\" d=\"M121.918 363.132 L126.802 363.132 L126.802 369.011 L121.918 369.011 L121.918 363.132 Z\" fill=\"#000000\" fill-rule=\"evenodd\" fill-opacity=\"1\" /><path clip-path=\"url(#clip780)\" d=\"M141.015 365.076 L157.334 365.076 L157.334 369.011 L135.39 369.011 L135.39 365.076 Q138.052 362.321 142.635 357.692 Q147.242 353.039 148.422 351.697 Q150.668 349.173 151.547 347.437 Q152.45 345.678 152.45 343.988 Q152.45 341.234 150.505 339.498 Q148.584 337.761 145.482 337.761 Q143.283 337.761 140.83 338.525 Q138.399 339.289 135.621 340.84 L135.621 336.118 Q138.445 334.984 140.899 334.405 Q143.353 333.826 145.39 333.826 Q150.76 333.826 153.955 336.511 Q157.149 339.197 157.149 343.687 Q157.149 345.817 156.339 347.738 Q155.552 349.636 153.445 352.229 Q152.867 352.9 149.765 356.118 Q146.663 359.312 141.015 365.076 Z\" fill=\"#000000\" fill-rule=\"evenodd\" fill-opacity=\"1\" /><path clip-path=\"url(#clip780)\" d=\"M167.195 334.451 L185.552 334.451 L185.552 338.386 L171.478 338.386 L171.478 346.859 Q172.496 346.511 173.515 346.349 Q174.533 346.164 175.552 346.164 Q181.339 346.164 184.718 349.335 Q188.098 352.507 188.098 357.923 Q188.098 363.502 184.626 366.604 Q181.153 369.683 174.834 369.683 Q172.658 369.683 170.39 369.312 Q168.144 368.942 165.737 368.201 L165.737 363.502 Q167.82 364.636 170.042 365.192 Q172.265 365.747 174.741 365.747 Q178.746 365.747 181.084 363.641 Q183.422 361.534 183.422 357.923 Q183.422 354.312 181.084 352.206 Q178.746 350.099 174.741 350.099 Q172.866 350.099 170.991 350.516 Q169.14 350.933 167.195 351.812 L167.195 334.451 Z\" fill=\"#000000\" fill-rule=\"evenodd\" fill-opacity=\"1\" /><path clip-path=\"url(#clip782)\" d=\"\n",
       "M284.343 1300.72 L485.16 1430.16 L685.977 1310.55 L886.793 1301.81 L1087.61 1383.36 L1288.43 1356.4 L1489.24 1407.21 L1690.06 1383.57 L1890.88 1378.61 L2091.69 1342.92 \n",
       "  L2292.51 1445.72 L2292.51 194.91 L2091.69 92.0383 L1890.88 87.9763 L1690.06 115.268 L1489.24 186.059 L1288.43 106.701 L1087.61 124.166 L886.793 115.852 L685.977 139.637 \n",
       "  L485.16 135.296 L284.343 179.499  Z\n",
       "  \" fill=\"#009af9\" fill-rule=\"evenodd\" fill-opacity=\"0.2\"/>\n",
       "<polyline clip-path=\"url(#clip782)\" style=\"stroke:#009af9; stroke-linecap:butt; stroke-linejoin:round; stroke-width:12; stroke-opacity:1; fill:none\" points=\"\n",
       "  284.343,771.121 485.16,704.934 685.977,688.999 886.793,720.025 1087.61,699.607 1288.43,696.95 1489.24,719.153 1690.06,704.095 1890.88,736.29 2091.69,732.908 \n",
       "  2292.51,751.738 \n",
       "  \"/>\n",
       "<path clip-path=\"url(#clip782)\" d=\"\n",
       "M284.343 700.746 L485.16 699.44 L685.977 697.076 L886.793 701.937 L1087.61 703.451 L1288.43 697.029 L1489.24 701.71 L1690.06 707.944 L1890.88 701.778 L2091.69 706.203 \n",
       "  L2292.51 705.332 L2292.51 657.099 L2091.69 658.601 L1890.88 664.739 L1690.06 660.331 L1489.24 663.794 L1288.43 660.331 L1087.61 661.165 L886.793 660.905 L685.977 668.609 \n",
       "  L485.16 658.203 L284.343 658.503  Z\n",
       "  \" fill=\"#e26f46\" fill-rule=\"evenodd\" fill-opacity=\"0.2\"/>\n",
       "<polyline clip-path=\"url(#clip782)\" style=\"stroke:#e26f46; stroke-linecap:butt; stroke-linejoin:round; stroke-width:12; stroke-opacity:1; fill:none\" points=\"\n",
       "  284.343,677.726 485.16,680.872 685.977,682.612 886.793,677.086 1087.61,680.81 1288.43,680.442 1489.24,683.27 1690.06,685.04 1890.88,680.799 2091.69,679.895 \n",
       "  2292.51,674.184 \n",
       "  \"/>\n",
       "</svg>\n"
      ]
     },
     "execution_count": 21,
     "metadata": {},
     "output_type": "execute_result"
    }
   ],
   "source": [
    "plot(summ, fillalpha= 0.2) # plots by default show the median and quantiles of both variables.  Modifying transparency as an example"
   ]
  },
  {
   "cell_type": "markdown",
   "metadata": {},
   "source": [
    "## Calculate sequence of observables\n",
    "We can use the underlying state-space model to easily simulate states and observables"
   ]
  },
  {
   "cell_type": "code",
   "execution_count": 22,
   "metadata": {},
   "outputs": [
    {
     "data": {
      "text/plain": [
       "2×21 Matrix{Float64}:\n",
       " -0.0367643  -0.0463864  -0.0366824  …  0.0156731  -0.00214294  0.00295132\n",
       " -0.172727   -0.257091   -0.311023      0.0203809   0.0373975   0.0446603"
      ]
     },
     "execution_count": 22,
     "metadata": {},
     "output_type": "execute_result"
    }
   ],
   "source": [
    "# Simulate T observations\n",
    "T = 20\n",
    "\n",
    "p_f = (ρ = 0.2, δ = 0.02, σ = 0.01, Ω_1 = 0.01) # Fixed parameters\n",
    "p_d = (α = 0.5, β = 0.95) # Pseudo-true values\n",
    "sol = generate_perturbation(model_rbc, p_d, p_f) # Solution to the first-order RBC\n",
    "\n",
    "x_iv = MvNormal(sol.x_ergodic_var) # draw initial conditions from the ergodic distribution\n",
    "problem = LinearStateSpaceProblem(sol, x_iv, (0, T))\n",
    "sim = solve(problem, DirectIteration())\n",
    "ϵ = sim.W # store the underlying noise in the simulation\n",
    "\n",
    "# Collapse to simulated observables as a matrix  - as required by current DifferenceEquations.jl likelihood\n",
    "# see https://github.com/SciML/DifferenceEquations.jl/issues/55 for direct support of this datastructure\n",
    "z_rbc = hcat(sim.z...) "
   ]
  },
  {
   "cell_type": "markdown",
   "metadata": {},
   "source": [
    "# Bayesian estimation with Turing \n",
    "The combination of this package and DifferenceEquations enables gradient-based estimation methods such as NUTS/HMC.  We will show this with Julia's Turing package, which provides a probabalistic programming lanuage (PPL) in the same spirit as Stan.\n",
    "\n",
    "For gradients, we use the Zygote.jl reverse-mode auto-differentiation package, which is compatible with both DSSM and DifferenceEquations.\n",
    "\n",
    "We will consider two likelihoods:  a Kalman-Filter where we marginalize out the latent dimensions for linear-gaussian problems, and a joint distribution between the latents and the deep parameters.  In both cases, gradients of the underlying likelihoods are provided by the packages."
   ]
  },
  {
   "cell_type": "code",
   "execution_count": 23,
   "metadata": {},
   "outputs": [],
   "source": [
    "using Turing\n",
    "using Turing: @addlogprob!\n",
    "Turing.setadbackend(:zygote);  # Especially when we sample the latent noise, we will require high-dimensional gradients with reverse-mode AD"
   ]
  },
  {
   "cell_type": "markdown",
   "metadata": {},
   "source": [
    "## First-order, marginal likelihood approach\n",
    "This case samples the deep parameters, calculates the state-space model from the first-order perturbation, then evaluates the likelihood using a Kalman Filter."
   ]
  },
  {
   "cell_type": "code",
   "execution_count": 24,
   "metadata": {},
   "outputs": [
    {
     "name": "stderr",
     "output_type": "stream",
     "text": [
      "┌ Info: Found initial step size\n",
      "│   ϵ = 0.025\n",
      "└ @ Turing.Inference /Users/dchilder/.julia/packages/Turing/S4Y4B/src/inference/hmc.jl:188\n",
      "┌ Warning: The current proposal will be rejected due to numerical error(s).\n",
      "│   isfinite.((θ, r, ℓπ, ℓκ)) = (true, false, false, false)\n",
      "└ @ AdvancedHMC /Users/dchilder/.julia/packages/AdvancedHMC/51xgc/src/hamiltonian.jl:47\n",
      "\u001b[32mSampling:   7%|██▊                                      |  ETA: 0:00:22\u001b[39m┌ Warning: The current proposal will be rejected due to numerical error(s).\n",
      "│   isfinite.((θ, r, ℓπ, ℓκ)) = (true, true, false, true)\n",
      "└ @ AdvancedHMC /Users/dchilder/.julia/packages/AdvancedHMC/51xgc/src/hamiltonian.jl:47\n",
      "\u001b[32mSampling: 100%|█████████████████████████████████████████| Time: 0:00:17\u001b[39m\n"
     ]
    },
    {
     "name": "stdout",
     "output_type": "stream",
     "text": [
      "Sampling.  Ignore any 'rejected due to numerical errors' warnings\n"
     ]
    },
    {
     "data": {
      "text/plain": [
       "Chains MCMC chain (1000×14×1 Array{Float64, 3}):\n",
       "\n",
       "Iterations        = 251:1:1250\n",
       "Number of chains  = 1\n",
       "Samples per chain = 1000\n",
       "Wall duration     = 79.41 seconds\n",
       "Compute duration  = 79.41 seconds\n",
       "parameters        = α, β\n",
       "internals         = lp, n_steps, is_accept, acceptance_rate, log_density, hamiltonian_energy, hamiltonian_energy_error, max_hamiltonian_energy_error, tree_depth, numerical_error, step_size, nom_step_size\n",
       "\n",
       "Summary Statistics\n",
       " \u001b[1m parameters \u001b[0m \u001b[1m    mean \u001b[0m \u001b[1m     std \u001b[0m \u001b[1m naive_se \u001b[0m \u001b[1m    mcse \u001b[0m \u001b[1m      ess \u001b[0m \u001b[1m    rhat \u001b[0m \u001b[1m e\u001b[0m ⋯\n",
       " \u001b[90m     Symbol \u001b[0m \u001b[90m Float64 \u001b[0m \u001b[90m Float64 \u001b[0m \u001b[90m  Float64 \u001b[0m \u001b[90m Float64 \u001b[0m \u001b[90m  Float64 \u001b[0m \u001b[90m Float64 \u001b[0m \u001b[90m  \u001b[0m ⋯\n",
       "\n",
       "           α    0.4844    0.0207     0.0007    0.0010   450.9653    1.0088     ⋯\n",
       "           β    0.9506    0.0050     0.0002    0.0003   346.2868    1.0066     ⋯\n",
       "\u001b[36m                                                                1 column omitted\u001b[0m\n",
       "\n",
       "Quantiles\n",
       " \u001b[1m parameters \u001b[0m \u001b[1m    2.5% \u001b[0m \u001b[1m   25.0% \u001b[0m \u001b[1m   50.0% \u001b[0m \u001b[1m   75.0% \u001b[0m \u001b[1m   97.5% \u001b[0m\n",
       " \u001b[90m     Symbol \u001b[0m \u001b[90m Float64 \u001b[0m \u001b[90m Float64 \u001b[0m \u001b[90m Float64 \u001b[0m \u001b[90m Float64 \u001b[0m \u001b[90m Float64 \u001b[0m\n",
       "\n",
       "           α    0.4432    0.4714    0.4840    0.4983    0.5260\n",
       "           β    0.9416    0.9470    0.9505    0.9537    0.9602\n"
      ]
     },
     "execution_count": 24,
     "metadata": {},
     "output_type": "execute_result"
    }
   ],
   "source": [
    "# Turing model definition\n",
    "@model function rbc_kalman(z, m, p_f, settings)\n",
    "    α ~ Uniform(0.2, 0.8)  # priors\n",
    "    β ~ Uniform(0.5, 0.99) \n",
    "    p_d = (; α, β)\n",
    "    T = size(z, 2)\n",
    "    # also passes in the p_f for fixed values\n",
    "    sol = generate_perturbation(m, p_d, p_f, Val(1); settings) # first-order perturbation\n",
    "    if !(sol.retcode == :Success) # if the perturbation failed, we want to return -infinity for the likelihood and resample\n",
    "        @addlogprob! -Inf\n",
    "        return\n",
    "    end\n",
    "    problem = LinearStateSpaceProblem(sol, zeros(2), (0, T), observables = z) # utility constructs a LinearStateSpaceProblem from the sol.A, sol.B, etc.\n",
    "    @addlogprob! solve(problem, KalmanFilter()).logpdf # Linear-Gaussian so can marginalize with kalman filter.  It should automatically choose the KalmanFilter in this case if not provided.\n",
    "end\n",
    "cache = SolverCache(model_rbc, Val(1),  [:α, :β])\n",
    "settings = PerturbationSolverSettings(; print_level = 0)\n",
    "p_f = (ρ = 0.2, δ = 0.02, σ = 0.01, Ω_1 = 0.01) # Fixed parameters\n",
    "z = z_rbc # simulated in previous steps\n",
    "turing_model = rbc_kalman(z, model_rbc, p_f, settings) # passing observables from before \n",
    "\n",
    "n_samples = 1000\n",
    "n_adapts = 250\n",
    "δ = 0.65\n",
    "alg = NUTS(n_adapts,δ)\n",
    "println(\"Sampling.  Ignore any 'rejected due to numerical errors' warnings\")  # At this point, Turing can't turn off those warnings\n",
    "chain_1_marginal = sample(turing_model, alg, n_samples; progress = true)"
   ]
  },
  {
   "cell_type": "markdown",
   "metadata": {},
   "source": [
    "## First-order, joint likelihood approach\n",
    "The second case instead draws all of the latents and evaluates the joint likelihood of all.  This is slower than the the marginal case of a Kalman filter in cases where everything is linear-Gaussian, but it enables non-gaussian shocks and more flexibility.  This approach is used for the 2nd order perturbations in the next case instead of marginalizing with a particle filter.\n",
    "\n",
    "It is possible that the joint likelihood becomes more competitive with the Kalman filter for large models, but for now consider this a demonstration that sampling the high-dimensional latent variables gives the correct answer and is not unusably slow."
   ]
  },
  {
   "cell_type": "code",
   "execution_count": 25,
   "metadata": {},
   "outputs": [
    {
     "name": "stderr",
     "output_type": "stream",
     "text": [
      "┌ Warning: The current proposal will be rejected due to numerical error(s).\n",
      "│   isfinite.((θ, r, ℓπ, ℓκ)) = (true, false, false, false)\n",
      "└ @ AdvancedHMC /Users/dchilder/.julia/packages/AdvancedHMC/51xgc/src/hamiltonian.jl:47\n",
      "┌ Warning: The current proposal will be rejected due to numerical error(s).\n",
      "│   isfinite.((θ, r, ℓπ, ℓκ)) = (true, false, false, false)\n",
      "└ @ AdvancedHMC /Users/dchilder/.julia/packages/AdvancedHMC/51xgc/src/hamiltonian.jl:47\n",
      "┌ Info: Found initial step size\n",
      "│   ϵ = 0.00625\n",
      "└ @ Turing.Inference /Users/dchilder/.julia/packages/Turing/S4Y4B/src/inference/hmc.jl:188\n",
      "\u001b[32mSampling: 100%|█████████████████████████████████████████| Time: 0:04:25\u001b[39m\n"
     ]
    },
    {
     "data": {
      "text/plain": [
       "Chains MCMC chain (300×35×1 Array{Float64, 3}):\n",
       "\n",
       "Iterations        = 51:1:350\n",
       "Number of chains  = 1\n",
       "Samples per chain = 300\n",
       "Wall duration     = 332.18 seconds\n",
       "Compute duration  = 332.18 seconds\n",
       "parameters        = α, β, ϵ_draw[1], ϵ_draw[2], ϵ_draw[3], ϵ_draw[4], ϵ_draw[5], ϵ_draw[6], ϵ_draw[7], ϵ_draw[8], ϵ_draw[9], ϵ_draw[10], ϵ_draw[11], ϵ_draw[12], ϵ_draw[13], ϵ_draw[14], ϵ_draw[15], ϵ_draw[16], ϵ_draw[17], ϵ_draw[18], ϵ_draw[19], ϵ_draw[20], ϵ_draw[21]\n",
       "internals         = lp, n_steps, is_accept, acceptance_rate, log_density, hamiltonian_energy, hamiltonian_energy_error, max_hamiltonian_energy_error, tree_depth, numerical_error, step_size, nom_step_size\n",
       "\n",
       "Summary Statistics\n",
       " \u001b[1m parameters \u001b[0m \u001b[1m    mean \u001b[0m \u001b[1m     std \u001b[0m \u001b[1m naive_se \u001b[0m \u001b[1m    mcse \u001b[0m \u001b[1m      ess \u001b[0m \u001b[1m    rhat \u001b[0m \u001b[1m e\u001b[0m ⋯\n",
       " \u001b[90m     Symbol \u001b[0m \u001b[90m Float64 \u001b[0m \u001b[90m Float64 \u001b[0m \u001b[90m  Float64 \u001b[0m \u001b[90m Float64 \u001b[0m \u001b[90m  Float64 \u001b[0m \u001b[90m Float64 \u001b[0m \u001b[90m  \u001b[0m ⋯\n",
       "\n",
       "           α    0.5229    0.0181     0.0010    0.0022    69.6873    0.9972     ⋯\n",
       "           β    0.9477    0.0051     0.0003    0.0004   209.0060    0.9969     ⋯\n",
       "   ϵ_draw[1]    3.3707    0.5082     0.0293    0.0637    63.0585    0.9988     ⋯\n",
       "   ϵ_draw[2]    0.2689    0.2019     0.0117    0.0053   314.7188    0.9967     ⋯\n",
       "   ϵ_draw[3]    0.7577    0.2222     0.0128    0.0183   145.6377    0.9967     ⋯\n",
       "   ϵ_draw[4]   -0.3051    0.2072     0.0120    0.0125   279.1289    0.9969     ⋯\n",
       "   ϵ_draw[5]    0.4963    0.2128     0.0123    0.0124   274.8647    0.9975     ⋯\n",
       "   ϵ_draw[6]    0.2234    0.2034     0.0117    0.0096   319.6311    1.0020     ⋯\n",
       "   ϵ_draw[7]    0.7579    0.2149     0.0124    0.0157   185.8446    0.9972     ⋯\n",
       "   ϵ_draw[8]   -1.0655    0.2382     0.0138    0.0249   116.7922    0.9978     ⋯\n",
       "   ϵ_draw[9]    0.2374    0.2057     0.0119    0.0154   229.3082    0.9969     ⋯\n",
       "  ϵ_draw[10]    0.0883    0.1932     0.0112    0.0117   405.8351    0.9968     ⋯\n",
       "  ϵ_draw[11]    0.9973    0.2473     0.0143    0.0185   173.9337    0.9990     ⋯\n",
       "  ϵ_draw[12]   -0.3812    0.2214     0.0128    0.0099   364.7857    0.9975     ⋯\n",
       "  ϵ_draw[13]    0.2082    0.2131     0.0123    0.0099   337.4811    0.9979     ⋯\n",
       "  ϵ_draw[14]   -0.3477    0.1845     0.0107    0.0106   201.1109    0.9971     ⋯\n",
       "  ϵ_draw[15]   -1.0082    0.2325     0.0134    0.0222   117.0747    0.9984     ⋯\n",
       "  ϵ_draw[16]   -1.8721    0.3316     0.0191    0.0370    82.6932    0.9968     ⋯\n",
       "  ϵ_draw[17]    0.0170    0.1936     0.0112    0.0115   218.6334    0.9971     ⋯\n",
       "  ϵ_draw[18]   -0.4615    0.2105     0.0122    0.0117   282.9331    0.9967     ⋯\n",
       "  ϵ_draw[19]   -0.1628    0.1887     0.0109    0.0111   326.3768    0.9970     ⋯\n",
       "  ϵ_draw[20]   -0.0303    0.2101     0.0121    0.0079   398.9178    0.9977     ⋯\n",
       "  ϵ_draw[21]   -0.0619    0.9117     0.0526    0.1126    63.0430    0.9974     ⋯\n",
       "\u001b[36m                                                                1 column omitted\u001b[0m\n",
       "\n",
       "Quantiles\n",
       " \u001b[1m parameters \u001b[0m \u001b[1m    2.5% \u001b[0m \u001b[1m   25.0% \u001b[0m \u001b[1m   50.0% \u001b[0m \u001b[1m   75.0% \u001b[0m \u001b[1m   97.5% \u001b[0m\n",
       " \u001b[90m     Symbol \u001b[0m \u001b[90m Float64 \u001b[0m \u001b[90m Float64 \u001b[0m \u001b[90m Float64 \u001b[0m \u001b[90m Float64 \u001b[0m \u001b[90m Float64 \u001b[0m\n",
       "\n",
       "           α    0.4872    0.5094    0.5236    0.5349    0.5554\n",
       "           β    0.9374    0.9445    0.9476    0.9510    0.9575\n",
       "   ϵ_draw[1]    2.4592    2.9460    3.3925    3.7234    4.3613\n",
       "   ϵ_draw[2]   -0.1099    0.1333    0.2589    0.3936    0.6971\n",
       "   ϵ_draw[3]    0.3833    0.5889    0.7498    0.9022    1.2460\n",
       "   ϵ_draw[4]   -0.7119   -0.4320   -0.2715   -0.1825    0.1024\n",
       "   ϵ_draw[5]    0.0757    0.3503    0.4837    0.6273    0.9723\n",
       "   ϵ_draw[6]   -0.1415    0.0891    0.2006    0.3422    0.6636\n",
       "   ϵ_draw[7]    0.3246    0.6242    0.7338    0.8935    1.1931\n",
       "   ϵ_draw[8]   -1.5653   -1.2191   -1.0338   -0.8900   -0.6837\n",
       "   ϵ_draw[9]   -0.1407    0.0931    0.2308    0.3688    0.6677\n",
       "  ϵ_draw[10]   -0.3329   -0.0311    0.0836    0.2166    0.4600\n",
       "  ϵ_draw[11]    0.5293    0.8480    0.9825    1.1291    1.5695\n",
       "  ϵ_draw[12]   -0.8768   -0.5111   -0.3606   -0.2229    0.0133\n",
       "  ϵ_draw[13]   -0.1808    0.0588    0.2068    0.3394    0.6536\n",
       "  ϵ_draw[14]   -0.7252   -0.4677   -0.3344   -0.2255    0.0101\n",
       "  ϵ_draw[15]   -1.4794   -1.1560   -0.9809   -0.8436   -0.6249\n",
       "  ϵ_draw[16]   -2.5968   -2.0884   -1.8550   -1.6155   -1.2956\n",
       "  ϵ_draw[17]   -0.3888   -0.1104    0.0171    0.1467    0.3788\n",
       "  ϵ_draw[18]   -0.8963   -0.5928   -0.4580   -0.3050   -0.1086\n",
       "  ϵ_draw[19]   -0.5132   -0.2866   -0.1720   -0.0235    0.2068\n",
       "  ϵ_draw[20]   -0.4202   -0.1648   -0.0474    0.1009    0.3734\n",
       "  ϵ_draw[21]   -1.8476   -0.6901   -0.0752    0.4894    2.0249\n"
      ]
     },
     "execution_count": 25,
     "metadata": {},
     "output_type": "execute_result"
    }
   ],
   "source": [
    "# Turing model definition\n",
    "@model function rbc_1_joint(z, m, p_f, cache, settings)\n",
    "    α ~ Uniform(0.2, 0.8)\n",
    "    β ~ Uniform(0.5, 0.99)\n",
    "    p_d = (; α, β)\n",
    "    T = size(z, 2)\n",
    "    ϵ_draw ~ MvNormal(m.n_ϵ * T, 1.0)\n",
    "    ϵ = reshape(ϵ_draw, m.n_ϵ, T)\n",
    "    sol = generate_perturbation(m, p_d, p_f, Val(1); cache, settings)\n",
    "    if !(sol.retcode == :Success)\n",
    "        @addlogprob! -Inf\n",
    "        return\n",
    "    end\n",
    "    problem = LinearStateSpaceProblem(sol, zeros(2), (0, T), observables = z, noise=ϵ)\n",
    "    @addlogprob! solve(problem, DirectIteration()).logpdf # should choose DirectIteration() by default if not provided\n",
    "end\n",
    "cache = SolverCache(model_rbc, Val(1),  [:α, :β])\n",
    "settings = PerturbationSolverSettings(; print_level = 0)\n",
    "p_f = (ρ = 0.2, δ = 0.02, σ = 0.01, Ω_1 = 0.01) # Fixed parameters\n",
    "z = z_rbc # simulated in previous steps\n",
    "turing_model = rbc_1_joint(z, model_rbc, p_f, cache, settings) # passing observables from before \n",
    "\n",
    "n_samples = 300\n",
    "n_adapts = 50\n",
    "δ = 0.65\n",
    "alg = NUTS(n_adapts,δ)\n",
    "chain_1_joint = sample(turing_model, alg, n_samples; progress = true)"
   ]
  },
  {
   "cell_type": "markdown",
   "metadata": {},
   "source": [
    "## Second-order, joint likelihood approach\n",
    "Finally, this calculates a second order perturbation and then samples the latents and deep parameters.  Of course, the Kalman Filter would not provide the correct likelihood so the proper comparison is something like a particle filter."
   ]
  },
  {
   "cell_type": "code",
   "execution_count": 26,
   "metadata": {},
   "outputs": [
    {
     "name": "stderr",
     "output_type": "stream",
     "text": [
      "┌ Info: Found initial step size\n",
      "│   ϵ = 0.0125\n",
      "└ @ Turing.Inference /Users/dchilder/.julia/packages/Turing/S4Y4B/src/inference/hmc.jl:188\n",
      "\u001b[32mSampling: 100%|█████████████████████████████████████████| Time: 0:03:44\u001b[39m\n"
     ]
    },
    {
     "data": {
      "text/plain": [
       "Chains MCMC chain (300×35×1 Array{Float64, 3}):\n",
       "\n",
       "Iterations        = 51:1:350\n",
       "Number of chains  = 1\n",
       "Samples per chain = 300\n",
       "Wall duration     = 273.11 seconds\n",
       "Compute duration  = 273.11 seconds\n",
       "parameters        = α, β, ϵ_draw[1], ϵ_draw[2], ϵ_draw[3], ϵ_draw[4], ϵ_draw[5], ϵ_draw[6], ϵ_draw[7], ϵ_draw[8], ϵ_draw[9], ϵ_draw[10], ϵ_draw[11], ϵ_draw[12], ϵ_draw[13], ϵ_draw[14], ϵ_draw[15], ϵ_draw[16], ϵ_draw[17], ϵ_draw[18], ϵ_draw[19], ϵ_draw[20], ϵ_draw[21]\n",
       "internals         = lp, n_steps, is_accept, acceptance_rate, log_density, hamiltonian_energy, hamiltonian_energy_error, max_hamiltonian_energy_error, tree_depth, numerical_error, step_size, nom_step_size\n",
       "\n",
       "Summary Statistics\n",
       " \u001b[1m parameters \u001b[0m \u001b[1m    mean \u001b[0m \u001b[1m     std \u001b[0m \u001b[1m naive_se \u001b[0m \u001b[1m    mcse \u001b[0m \u001b[1m      ess \u001b[0m \u001b[1m    rhat \u001b[0m \u001b[1m e\u001b[0m ⋯\n",
       " \u001b[90m     Symbol \u001b[0m \u001b[90m Float64 \u001b[0m \u001b[90m Float64 \u001b[0m \u001b[90m  Float64 \u001b[0m \u001b[90m Float64 \u001b[0m \u001b[90m  Float64 \u001b[0m \u001b[90m Float64 \u001b[0m \u001b[90m  \u001b[0m ⋯\n",
       "\n",
       "           α    0.5250    0.0180     0.0010    0.0021    48.1201    1.0333     ⋯\n",
       "           β    0.9477    0.0057     0.0003    0.0003   809.0493    0.9977     ⋯\n",
       "   ϵ_draw[1]    3.3547    0.5340     0.0308    0.0701    38.0331    1.0474     ⋯\n",
       "   ϵ_draw[2]    0.2523    0.1901     0.0110    0.0081   267.7918    1.0010     ⋯\n",
       "   ϵ_draw[3]    0.7605    0.2202     0.0127    0.0166   138.2808    1.0039     ⋯\n",
       "   ϵ_draw[4]   -0.3092    0.2105     0.0122    0.0153   212.3421    0.9968     ⋯\n",
       "   ϵ_draw[5]    0.4908    0.2067     0.0119    0.0143   248.2859    0.9973     ⋯\n",
       "   ϵ_draw[6]    0.2183    0.2034     0.0117    0.0152   236.9790    1.0027     ⋯\n",
       "   ϵ_draw[7]    0.7239    0.2318     0.0134    0.0221   125.7547    1.0008     ⋯\n",
       "   ϵ_draw[8]   -1.0306    0.2295     0.0132    0.0222    92.2911    1.0086     ⋯\n",
       "   ϵ_draw[9]    0.2083    0.2068     0.0119    0.0103   302.6394    0.9968     ⋯\n",
       "  ϵ_draw[10]    0.0971    0.1909     0.0110    0.0130   259.3403    1.0017     ⋯\n",
       "  ϵ_draw[11]    0.9924    0.2447     0.0141    0.0209   147.6565    1.0076     ⋯\n",
       "  ϵ_draw[12]   -0.3877    0.2087     0.0121    0.0134   271.4525    0.9967     ⋯\n",
       "  ϵ_draw[13]    0.2118    0.2060     0.0119    0.0142   255.3336    1.0000     ⋯\n",
       "  ϵ_draw[14]   -0.3364    0.2150     0.0124    0.0112   232.4814    0.9986     ⋯\n",
       "  ϵ_draw[15]   -1.0031    0.2613     0.0151    0.0257    62.9911    1.0307     ⋯\n",
       "  ϵ_draw[16]   -1.7959    0.3273     0.0189    0.0314    79.7611    1.0077     ⋯\n",
       "  ϵ_draw[17]    0.0039    0.1958     0.0113    0.0146   207.4630    1.0076     ⋯\n",
       "  ϵ_draw[18]   -0.4767    0.1978     0.0114    0.0138   205.4055    0.9997     ⋯\n",
       "  ϵ_draw[19]   -0.1388    0.2154     0.0124    0.0199   223.3459    0.9970     ⋯\n",
       "  ϵ_draw[20]   -0.0447    0.2332     0.0135    0.0188   206.5141    1.0035     ⋯\n",
       "  ϵ_draw[21]    0.0016    0.7230     0.0417    0.0844    43.5613    1.0244     ⋯\n",
       "\u001b[36m                                                                1 column omitted\u001b[0m\n",
       "\n",
       "Quantiles\n",
       " \u001b[1m parameters \u001b[0m \u001b[1m    2.5% \u001b[0m \u001b[1m   25.0% \u001b[0m \u001b[1m   50.0% \u001b[0m \u001b[1m   75.0% \u001b[0m \u001b[1m   97.5% \u001b[0m\n",
       " \u001b[90m     Symbol \u001b[0m \u001b[90m Float64 \u001b[0m \u001b[90m Float64 \u001b[0m \u001b[90m Float64 \u001b[0m \u001b[90m Float64 \u001b[0m \u001b[90m Float64 \u001b[0m\n",
       "\n",
       "           α    0.4921    0.5140    0.5252    0.5375    0.5587\n",
       "           β    0.9349    0.9442    0.9479    0.9513    0.9580\n",
       "   ϵ_draw[1]    2.4768    2.9778    3.2626    3.6505    4.5892\n",
       "   ϵ_draw[2]   -0.1108    0.1226    0.2431    0.3856    0.6346\n",
       "   ϵ_draw[3]    0.3850    0.5965    0.7473    0.9134    1.2168\n",
       "   ϵ_draw[4]   -0.7323   -0.4438   -0.3015   -0.1730    0.0512\n",
       "   ϵ_draw[5]    0.0843    0.3569    0.4806    0.6170    0.9349\n",
       "   ϵ_draw[6]   -0.1683    0.0915    0.2181    0.3569    0.6012\n",
       "   ϵ_draw[7]    0.3236    0.5608    0.7098    0.8609    1.2712\n",
       "   ϵ_draw[8]   -1.5092   -1.1558   -1.0130   -0.8786   -0.6073\n",
       "   ϵ_draw[9]   -0.1816    0.0750    0.2114    0.3291    0.6813\n",
       "  ϵ_draw[10]   -0.2711   -0.0368    0.0946    0.2235    0.4602\n",
       "  ϵ_draw[11]    0.5584    0.8224    0.9656    1.1663    1.4695\n",
       "  ϵ_draw[12]   -0.7866   -0.5384   -0.3778   -0.2229   -0.0195\n",
       "  ϵ_draw[13]   -0.1534    0.0597    0.2070    0.3587    0.6425\n",
       "  ϵ_draw[14]   -0.7686   -0.4789   -0.3317   -0.1854    0.0814\n",
       "  ϵ_draw[15]   -1.5411   -1.1619   -0.9703   -0.8259   -0.5259\n",
       "  ϵ_draw[16]   -2.5215   -1.9819   -1.7608   -1.5387   -1.2839\n",
       "  ϵ_draw[17]   -0.3643   -0.1147   -0.0020    0.1181    0.3983\n",
       "  ϵ_draw[18]   -0.8702   -0.5914   -0.4742   -0.3403   -0.1091\n",
       "  ϵ_draw[19]   -0.5752   -0.2878   -0.1399    0.0075    0.3161\n",
       "  ϵ_draw[20]   -0.5372   -0.1825   -0.0365    0.0931    0.4135\n",
       "  ϵ_draw[21]   -1.4457   -0.5054    0.0329    0.5084    1.3862\n"
      ]
     },
     "execution_count": 26,
     "metadata": {},
     "output_type": "execute_result"
    }
   ],
   "source": [
    "# Turing model definition\n",
    "@model function rbc_2_joint(z, m, p_f, cache, settings)\n",
    "    α ~ Uniform(0.2, 0.8)\n",
    "    β ~ Uniform(0.5, 0.99)\n",
    "    p_d = (; α, β)\n",
    "    T = size(z, 2)\n",
    "    ϵ_draw ~ MvNormal(m.n_ϵ * T, 1.0) # add noise to the estimation\n",
    "    ϵ = reshape(ϵ_draw, m.n_ϵ, T)\n",
    "    sol = generate_perturbation(m, p_d, p_f, Val(2); cache, settings)\n",
    "    if !(sol.retcode == :Success)\n",
    "        @addlogprob! -Inf\n",
    "        return\n",
    "    end\n",
    "    problem = QuadraticStateSpaceProblem(sol, zeros(2), (0, T), observables = z, noise=ϵ)\n",
    "    @addlogprob! solve(problem, DirectIteration()).logpdf\n",
    "end\n",
    "cache = SolverCache(model_rbc, Val(2),  [:α, :β])\n",
    "settings = PerturbationSolverSettings(; print_level = 0)\n",
    "z = z_rbc # simulated in previous steps\n",
    "p_f = (ρ = 0.2, δ = 0.02, σ = 0.01, Ω_1 = 0.01) # Fixed parameters\n",
    "turing_model = rbc_2_joint(z, model_rbc, p_f, cache, settings) # passing observables from before \n",
    "\n",
    "n_samples = 300\n",
    "n_adapts = 50\n",
    "δ = 0.65\n",
    "alg = NUTS(n_adapts,δ)\n",
    "chain_2_joint = sample(turing_model, alg, n_samples; progress = true)"
   ]
  },
  {
   "cell_type": "markdown",
   "metadata": {},
   "source": [
    "## Plotting the estimated latent states\n",
    "Below is a graph which shows how well the high-dimensional sampled latents do relative to the pseudo-true latent values."
   ]
  },
  {
   "cell_type": "code",
   "execution_count": 27,
   "metadata": {},
   "outputs": [
    {
     "data": {
      "image/svg+xml": [
       "<?xml version=\"1.0\" encoding=\"utf-8\"?>\n",
       "<svg xmlns=\"http://www.w3.org/2000/svg\" xmlns:xlink=\"http://www.w3.org/1999/xlink\" width=\"600\" height=\"400\" viewBox=\"0 0 2400 1600\">\n",
       "<defs>\n",
       "  <clipPath id=\"clip820\">\n",
       "    <rect x=\"0\" y=\"0\" width=\"2400\" height=\"1600\"/>\n",
       "  </clipPath>\n",
       "</defs>\n",
       "<path clip-path=\"url(#clip820)\" d=\"\n",
       "M0 1600 L2400 1600 L2400 0 L0 0  Z\n",
       "  \" fill=\"#ffffff\" fill-rule=\"evenodd\" fill-opacity=\"1\"/>\n",
       "<defs>\n",
       "  <clipPath id=\"clip821\">\n",
       "    <rect x=\"480\" y=\"0\" width=\"1681\" height=\"1600\"/>\n",
       "  </clipPath>\n",
       "</defs>\n",
       "<path clip-path=\"url(#clip820)\" d=\"\n",
       "M147.478 1486.45 L2352.76 1486.45 L2352.76 123.472 L147.478 123.472  Z\n",
       "  \" fill=\"#ffffff\" fill-rule=\"evenodd\" fill-opacity=\"1\"/>\n",
       "<defs>\n",
       "  <clipPath id=\"clip822\">\n",
       "    <rect x=\"147\" y=\"123\" width=\"2206\" height=\"1364\"/>\n",
       "  </clipPath>\n",
       "</defs>\n",
       "<polyline clip-path=\"url(#clip822)\" style=\"stroke:#000000; stroke-linecap:butt; stroke-linejoin:round; stroke-width:2; stroke-opacity:0.1; fill:none\" points=\"\n",
       "  647.881,1486.45 647.881,123.472 \n",
       "  \"/>\n",
       "<polyline clip-path=\"url(#clip822)\" style=\"stroke:#000000; stroke-linecap:butt; stroke-linejoin:round; stroke-width:2; stroke-opacity:0.1; fill:none\" points=\"\n",
       "  1195.37,1486.45 1195.37,123.472 \n",
       "  \"/>\n",
       "<polyline clip-path=\"url(#clip822)\" style=\"stroke:#000000; stroke-linecap:butt; stroke-linejoin:round; stroke-width:2; stroke-opacity:0.1; fill:none\" points=\"\n",
       "  1742.86,1486.45 1742.86,123.472 \n",
       "  \"/>\n",
       "<polyline clip-path=\"url(#clip822)\" style=\"stroke:#000000; stroke-linecap:butt; stroke-linejoin:round; stroke-width:2; stroke-opacity:0.1; fill:none\" points=\"\n",
       "  2290.34,1486.45 2290.34,123.472 \n",
       "  \"/>\n",
       "<polyline clip-path=\"url(#clip820)\" style=\"stroke:#000000; stroke-linecap:butt; stroke-linejoin:round; stroke-width:4; stroke-opacity:1; fill:none\" points=\"\n",
       "  147.478,1486.45 2352.76,1486.45 \n",
       "  \"/>\n",
       "<polyline clip-path=\"url(#clip820)\" style=\"stroke:#000000; stroke-linecap:butt; stroke-linejoin:round; stroke-width:4; stroke-opacity:1; fill:none\" points=\"\n",
       "  647.881,1486.45 647.881,1467.55 \n",
       "  \"/>\n",
       "<polyline clip-path=\"url(#clip820)\" style=\"stroke:#000000; stroke-linecap:butt; stroke-linejoin:round; stroke-width:4; stroke-opacity:1; fill:none\" points=\"\n",
       "  1195.37,1486.45 1195.37,1467.55 \n",
       "  \"/>\n",
       "<polyline clip-path=\"url(#clip820)\" style=\"stroke:#000000; stroke-linecap:butt; stroke-linejoin:round; stroke-width:4; stroke-opacity:1; fill:none\" points=\"\n",
       "  1742.86,1486.45 1742.86,1467.55 \n",
       "  \"/>\n",
       "<polyline clip-path=\"url(#clip820)\" style=\"stroke:#000000; stroke-linecap:butt; stroke-linejoin:round; stroke-width:4; stroke-opacity:1; fill:none\" points=\"\n",
       "  2290.34,1486.45 2290.34,1467.55 \n",
       "  \"/>\n",
       "<path clip-path=\"url(#clip820)\" d=\"M638.159 1514.29 L656.515 1514.29 L656.515 1518.22 L642.441 1518.22 L642.441 1526.7 Q643.46 1526.35 644.478 1526.19 Q645.497 1526 646.515 1526 Q652.302 1526 655.682 1529.17 Q659.062 1532.34 659.062 1537.76 Q659.062 1543.34 655.589 1546.44 Q652.117 1549.52 645.798 1549.52 Q643.622 1549.52 641.353 1549.15 Q639.108 1548.78 636.701 1548.04 L636.701 1543.34 Q638.784 1544.47 641.006 1545.03 Q643.228 1545.58 645.705 1545.58 Q649.71 1545.58 652.048 1543.48 Q654.386 1541.37 654.386 1537.76 Q654.386 1534.15 652.048 1532.04 Q649.71 1529.94 645.705 1529.94 Q643.83 1529.94 641.955 1530.35 Q640.103 1530.77 638.159 1531.65 L638.159 1514.29 Z\" fill=\"#000000\" fill-rule=\"evenodd\" fill-opacity=\"1\" /><path clip-path=\"url(#clip820)\" d=\"M1170.06 1544.91 L1177.69 1544.91 L1177.69 1518.55 L1169.38 1520.21 L1169.38 1515.95 L1177.65 1514.29 L1182.32 1514.29 L1182.32 1544.91 L1189.96 1544.91 L1189.96 1548.85 L1170.06 1548.85 L1170.06 1544.91 Z\" fill=\"#000000\" fill-rule=\"evenodd\" fill-opacity=\"1\" /><path clip-path=\"url(#clip820)\" d=\"M1209.41 1517.37 Q1205.8 1517.37 1203.97 1520.93 Q1202.16 1524.47 1202.16 1531.6 Q1202.16 1538.71 1203.97 1542.27 Q1205.8 1545.82 1209.41 1545.82 Q1213.04 1545.82 1214.85 1542.27 Q1216.68 1538.71 1216.68 1531.6 Q1216.68 1524.47 1214.85 1520.93 Q1213.04 1517.37 1209.41 1517.37 M1209.41 1513.66 Q1215.22 1513.66 1218.27 1518.27 Q1221.35 1522.85 1221.35 1531.6 Q1221.35 1540.33 1218.27 1544.94 Q1215.22 1549.52 1209.41 1549.52 Q1203.6 1549.52 1200.52 1544.94 Q1197.46 1540.33 1197.46 1531.6 Q1197.46 1522.85 1200.52 1518.27 Q1203.6 1513.66 1209.41 1513.66 Z\" fill=\"#000000\" fill-rule=\"evenodd\" fill-opacity=\"1\" /><path clip-path=\"url(#clip820)\" d=\"M1718.04 1544.91 L1725.68 1544.91 L1725.68 1518.55 L1717.37 1520.21 L1717.37 1515.95 L1725.63 1514.29 L1730.31 1514.29 L1730.31 1544.91 L1737.95 1544.91 L1737.95 1548.85 L1718.04 1548.85 L1718.04 1544.91 Z\" fill=\"#000000\" fill-rule=\"evenodd\" fill-opacity=\"1\" /><path clip-path=\"url(#clip820)\" d=\"M1747.44 1514.29 L1765.79 1514.29 L1765.79 1518.22 L1751.72 1518.22 L1751.72 1526.7 Q1752.74 1526.35 1753.76 1526.19 Q1754.78 1526 1755.8 1526 Q1761.58 1526 1764.96 1529.17 Q1768.34 1532.34 1768.34 1537.76 Q1768.34 1543.34 1764.87 1546.44 Q1761.4 1549.52 1755.08 1549.52 Q1752.9 1549.52 1750.63 1549.15 Q1748.39 1548.78 1745.98 1548.04 L1745.98 1543.34 Q1748.06 1544.47 1750.29 1545.03 Q1752.51 1545.58 1754.98 1545.58 Q1758.99 1545.58 1761.33 1543.48 Q1763.67 1541.37 1763.67 1537.76 Q1763.67 1534.15 1761.33 1532.04 Q1758.99 1529.94 1754.98 1529.94 Q1753.11 1529.94 1751.23 1530.35 Q1749.38 1530.77 1747.44 1531.65 L1747.44 1514.29 Z\" fill=\"#000000\" fill-rule=\"evenodd\" fill-opacity=\"1\" /><path clip-path=\"url(#clip820)\" d=\"M2269.12 1544.91 L2285.43 1544.91 L2285.43 1548.85 L2263.49 1548.85 L2263.49 1544.91 Q2266.15 1542.16 2270.74 1537.53 Q2275.34 1532.88 2276.52 1531.53 Q2278.77 1529.01 2279.65 1527.27 Q2280.55 1525.51 2280.55 1523.82 Q2280.55 1521.07 2278.61 1519.33 Q2276.69 1517.6 2273.58 1517.6 Q2271.38 1517.6 2268.93 1518.36 Q2266.5 1519.13 2263.72 1520.68 L2263.72 1515.95 Q2266.55 1514.82 2269 1514.24 Q2271.45 1513.66 2273.49 1513.66 Q2278.86 1513.66 2282.06 1516.35 Q2285.25 1519.03 2285.25 1523.52 Q2285.25 1525.65 2284.44 1527.57 Q2283.65 1529.47 2281.55 1532.07 Q2280.97 1532.74 2277.87 1535.95 Q2274.76 1539.15 2269.12 1544.91 Z\" fill=\"#000000\" fill-rule=\"evenodd\" fill-opacity=\"1\" /><path clip-path=\"url(#clip820)\" d=\"M2305.25 1517.37 Q2301.64 1517.37 2299.81 1520.93 Q2298 1524.47 2298 1531.6 Q2298 1538.71 2299.81 1542.27 Q2301.64 1545.82 2305.25 1545.82 Q2308.88 1545.82 2310.69 1542.27 Q2312.52 1538.71 2312.52 1531.6 Q2312.52 1524.47 2310.69 1520.93 Q2308.88 1517.37 2305.25 1517.37 M2305.25 1513.66 Q2311.06 1513.66 2314.12 1518.27 Q2317.19 1522.85 2317.19 1531.6 Q2317.19 1540.33 2314.12 1544.94 Q2311.06 1549.52 2305.25 1549.52 Q2299.44 1549.52 2296.36 1544.94 Q2293.31 1540.33 2293.31 1531.6 Q2293.31 1522.85 2296.36 1518.27 Q2299.44 1513.66 2305.25 1513.66 Z\" fill=\"#000000\" fill-rule=\"evenodd\" fill-opacity=\"1\" /><polyline clip-path=\"url(#clip822)\" style=\"stroke:#000000; stroke-linecap:butt; stroke-linejoin:round; stroke-width:2; stroke-opacity:0.1; fill:none\" points=\"\n",
       "  147.478,1287.7 2352.76,1287.7 \n",
       "  \"/>\n",
       "<polyline clip-path=\"url(#clip822)\" style=\"stroke:#000000; stroke-linecap:butt; stroke-linejoin:round; stroke-width:2; stroke-opacity:0.1; fill:none\" points=\"\n",
       "  147.478,988.448 2352.76,988.448 \n",
       "  \"/>\n",
       "<polyline clip-path=\"url(#clip822)\" style=\"stroke:#000000; stroke-linecap:butt; stroke-linejoin:round; stroke-width:2; stroke-opacity:0.1; fill:none\" points=\"\n",
       "  147.478,689.2 2352.76,689.2 \n",
       "  \"/>\n",
       "<polyline clip-path=\"url(#clip822)\" style=\"stroke:#000000; stroke-linecap:butt; stroke-linejoin:round; stroke-width:2; stroke-opacity:0.1; fill:none\" points=\"\n",
       "  147.478,389.953 2352.76,389.953 \n",
       "  \"/>\n",
       "<polyline clip-path=\"url(#clip820)\" style=\"stroke:#000000; stroke-linecap:butt; stroke-linejoin:round; stroke-width:4; stroke-opacity:1; fill:none\" points=\"\n",
       "  147.478,1486.45 147.478,123.472 \n",
       "  \"/>\n",
       "<polyline clip-path=\"url(#clip820)\" style=\"stroke:#000000; stroke-linecap:butt; stroke-linejoin:round; stroke-width:4; stroke-opacity:1; fill:none\" points=\"\n",
       "  147.478,1287.7 166.376,1287.7 \n",
       "  \"/>\n",
       "<polyline clip-path=\"url(#clip820)\" style=\"stroke:#000000; stroke-linecap:butt; stroke-linejoin:round; stroke-width:4; stroke-opacity:1; fill:none\" points=\"\n",
       "  147.478,988.448 166.376,988.448 \n",
       "  \"/>\n",
       "<polyline clip-path=\"url(#clip820)\" style=\"stroke:#000000; stroke-linecap:butt; stroke-linejoin:round; stroke-width:4; stroke-opacity:1; fill:none\" points=\"\n",
       "  147.478,689.2 166.376,689.2 \n",
       "  \"/>\n",
       "<polyline clip-path=\"url(#clip820)\" style=\"stroke:#000000; stroke-linecap:butt; stroke-linejoin:round; stroke-width:4; stroke-opacity:1; fill:none\" points=\"\n",
       "  147.478,389.953 166.376,389.953 \n",
       "  \"/>\n",
       "<path clip-path=\"url(#clip820)\" d=\"M51.3625 1288.15 L81.0383 1288.15 L81.0383 1292.08 L51.3625 1292.08 L51.3625 1288.15 Z\" fill=\"#000000\" fill-rule=\"evenodd\" fill-opacity=\"1\" /><path clip-path=\"url(#clip820)\" d=\"M95.1586 1301.04 L111.478 1301.04 L111.478 1304.98 L89.5336 1304.98 L89.5336 1301.04 Q92.1956 1298.29 96.7789 1293.66 Q101.385 1289 102.566 1287.66 Q104.811 1285.14 105.691 1283.4 Q106.594 1281.64 106.594 1279.95 Q106.594 1277.2 104.649 1275.46 Q102.728 1273.73 99.6261 1273.73 Q97.4271 1273.73 94.9734 1274.49 Q92.5428 1275.25 89.7651 1276.8 L89.7651 1272.08 Q92.5891 1270.95 95.0428 1270.37 Q97.4965 1269.79 99.5335 1269.79 Q104.904 1269.79 108.098 1272.48 Q111.293 1275.16 111.293 1279.65 Q111.293 1281.78 110.483 1283.7 Q109.696 1285.6 107.589 1288.19 Q107.01 1288.86 103.909 1292.08 Q100.807 1295.28 95.1586 1301.04 Z\" fill=\"#000000\" fill-rule=\"evenodd\" fill-opacity=\"1\" /><path clip-path=\"url(#clip820)\" d=\"M50.9921 988.899 L80.6679 988.899 L80.6679 992.834 L50.9921 992.834 L50.9921 988.899 Z\" fill=\"#000000\" fill-rule=\"evenodd\" fill-opacity=\"1\" /><path clip-path=\"url(#clip820)\" d=\"M91.5706 1001.79 L99.2095 1001.79 L99.2095 975.427 L90.8993 977.094 L90.8993 972.834 L99.1632 971.168 L103.839 971.168 L103.839 1001.79 L111.478 1001.79 L111.478 1005.73 L91.5706 1005.73 L91.5706 1001.79 Z\" fill=\"#000000\" fill-rule=\"evenodd\" fill-opacity=\"1\" /><path clip-path=\"url(#clip820)\" d=\"M99.5335 674.999 Q95.9224 674.999 94.0937 678.564 Q92.2882 682.105 92.2882 689.235 Q92.2882 696.341 94.0937 699.906 Q95.9224 703.448 99.5335 703.448 Q103.168 703.448 104.973 699.906 Q106.802 696.341 106.802 689.235 Q106.802 682.105 104.973 678.564 Q103.168 674.999 99.5335 674.999 M99.5335 671.295 Q105.344 671.295 108.399 675.902 Q111.478 680.485 111.478 689.235 Q111.478 697.962 108.399 702.568 Q105.344 707.151 99.5335 707.151 Q93.7234 707.151 90.6447 702.568 Q87.5892 697.962 87.5892 689.235 Q87.5892 680.485 90.6447 675.902 Q93.7234 671.295 99.5335 671.295 Z\" fill=\"#000000\" fill-rule=\"evenodd\" fill-opacity=\"1\" /><path clip-path=\"url(#clip820)\" d=\"M91.5706 403.298 L99.2095 403.298 L99.2095 376.932 L90.8993 378.599 L90.8993 374.339 L99.1632 372.673 L103.839 372.673 L103.839 403.298 L111.478 403.298 L111.478 407.233 L91.5706 407.233 L91.5706 403.298 Z\" fill=\"#000000\" fill-rule=\"evenodd\" fill-opacity=\"1\" /><path clip-path=\"url(#clip820)\" d=\"M525.653 12.096 L560.41 12.096 L560.41 18.9825 L533.836 18.9825 L533.836 36.8065 L557.817 36.8065 L557.817 43.6931 L533.836 43.6931 L533.836 72.576 L525.653 72.576 L525.653 12.096 Z\" fill=\"#000000\" fill-rule=\"evenodd\" fill-opacity=\"1\" /><path clip-path=\"url(#clip820)\" d=\"M567.013 27.2059 L574.467 27.2059 L574.467 72.576 L567.013 72.576 L567.013 27.2059 M567.013 9.54393 L574.467 9.54393 L574.467 18.9825 L567.013 18.9825 L567.013 9.54393 Z\" fill=\"#000000\" fill-rule=\"evenodd\" fill-opacity=\"1\" /><path clip-path=\"url(#clip820)\" d=\"M616.353 34.1734 Q615.097 33.4443 613.598 33.1202 Q612.14 32.7556 610.358 32.7556 Q604.038 32.7556 600.635 36.8875 Q597.273 40.9789 597.273 48.6757 L597.273 72.576 L589.779 72.576 L589.779 27.2059 L597.273 27.2059 L597.273 34.2544 Q599.623 30.1225 603.39 28.1376 Q607.157 26.1121 612.545 26.1121 Q613.315 26.1121 614.246 26.2337 Q615.178 26.3147 616.312 26.5172 L616.353 34.1734 Z\" fill=\"#000000\" fill-rule=\"evenodd\" fill-opacity=\"1\" /><path clip-path=\"url(#clip820)\" d=\"M653.095 28.5427 L653.095 35.5912 Q649.935 33.9709 646.532 33.1607 Q643.129 32.3505 639.484 32.3505 Q633.934 32.3505 631.139 34.0519 Q628.384 35.7533 628.384 39.156 Q628.384 41.7486 630.369 43.2475 Q632.354 44.7058 638.349 46.0426 L640.901 46.6097 Q648.841 48.3111 652.163 51.4303 Q655.525 54.509 655.525 60.0587 Q655.525 66.3781 650.502 70.0644 Q645.519 73.7508 636.77 73.7508 Q633.124 73.7508 629.154 73.0216 Q625.224 72.3329 620.849 70.9151 L620.849 63.2184 Q624.981 65.3654 628.992 66.4591 Q633.002 67.5124 636.932 67.5124 Q642.198 67.5124 645.033 65.73 Q647.869 63.9071 647.869 60.6258 Q647.869 57.5877 645.803 55.9673 Q643.778 54.3469 636.851 52.8481 L634.258 52.2405 Q627.331 50.7821 624.252 47.7845 Q621.174 44.7463 621.174 39.4801 Q621.174 33.0797 625.711 29.5959 Q630.248 26.1121 638.592 26.1121 Q642.724 26.1121 646.37 26.7198 Q650.016 27.3274 653.095 28.5427 Z\" fill=\"#000000\" fill-rule=\"evenodd\" fill-opacity=\"1\" /><path clip-path=\"url(#clip820)\" d=\"M674.767 14.324 L674.767 27.2059 L690.12 27.2059 L690.12 32.9987 L674.767 32.9987 L674.767 57.6282 Q674.767 63.1779 676.266 64.7578 Q677.805 66.3376 682.464 66.3376 L690.12 66.3376 L690.12 72.576 L682.464 72.576 Q673.835 72.576 670.554 69.3758 Q667.273 66.1351 667.273 57.6282 L667.273 32.9987 L661.804 32.9987 L661.804 27.2059 L667.273 27.2059 L667.273 14.324 L674.767 14.324 Z\" fill=\"#000000\" fill-rule=\"evenodd\" fill-opacity=\"1\" /><path clip-path=\"url(#clip820)\" d=\"M696.156 46.5287 L717.99 46.5287 L717.99 53.1722 L696.156 53.1722 L696.156 46.5287 Z\" fill=\"#000000\" fill-rule=\"evenodd\" fill-opacity=\"1\" /><path clip-path=\"url(#clip820)\" d=\"M757.041 17.6457 Q748.129 17.6457 742.863 24.2892 Q737.637 30.9327 737.637 42.3968 Q737.637 53.8203 742.863 60.4638 Q748.129 67.1073 757.041 67.1073 Q765.953 67.1073 771.138 60.4638 Q776.364 53.8203 776.364 42.3968 Q776.364 30.9327 771.138 24.2892 Q765.953 17.6457 757.041 17.6457 M757.041 11.0023 Q769.761 11.0023 777.376 19.5497 Q784.992 28.0566 784.992 42.3968 Q784.992 56.6965 777.376 65.2439 Q769.761 73.7508 757.041 73.7508 Q744.28 73.7508 736.624 65.2439 Q729.009 56.737 729.009 42.3968 Q729.009 28.0566 736.624 19.5497 Q744.28 11.0023 757.041 11.0023 Z\" fill=\"#000000\" fill-rule=\"evenodd\" fill-opacity=\"1\" /><path clip-path=\"url(#clip820)\" d=\"M823.759 34.1734 Q822.503 33.4443 821.005 33.1202 Q819.546 32.7556 817.764 32.7556 Q811.444 32.7556 808.042 36.8875 Q804.679 40.9789 804.679 48.6757 L804.679 72.576 L797.185 72.576 L797.185 27.2059 L804.679 27.2059 L804.679 34.2544 Q807.029 30.1225 810.796 28.1376 Q814.564 26.1121 819.951 26.1121 Q820.721 26.1121 821.653 26.2337 Q822.584 26.3147 823.719 26.5172 L823.759 34.1734 Z\" fill=\"#000000\" fill-rule=\"evenodd\" fill-opacity=\"1\" /><path clip-path=\"url(#clip820)\" d=\"M859.974 34.0924 L859.974 9.54393 L867.428 9.54393 L867.428 72.576 L859.974 72.576 L859.974 65.7705 Q857.625 69.8214 854.019 71.8063 Q850.455 73.7508 845.432 73.7508 Q837.208 73.7508 832.023 67.1883 Q826.878 60.6258 826.878 49.9314 Q826.878 39.2371 832.023 32.6746 Q837.208 26.1121 845.432 26.1121 Q850.455 26.1121 854.019 28.0971 Q857.625 30.0415 859.974 34.0924 M834.575 49.9314 Q834.575 58.1548 837.937 62.8538 Q841.34 67.5124 847.254 67.5124 Q853.169 67.5124 856.572 62.8538 Q859.974 58.1548 859.974 49.9314 Q859.974 41.7081 856.572 37.0496 Q853.169 32.3505 847.254 32.3505 Q841.34 32.3505 837.937 37.0496 Q834.575 41.7081 834.575 49.9314 Z\" fill=\"#000000\" fill-rule=\"evenodd\" fill-opacity=\"1\" /><path clip-path=\"url(#clip820)\" d=\"M921.589 48.0275 L921.589 51.6733 L887.318 51.6733 Q887.804 59.3701 891.936 63.421 Q896.108 67.4314 903.522 67.4314 Q907.816 67.4314 911.826 66.3781 Q915.877 65.3249 919.847 63.2184 L919.847 70.267 Q915.836 71.9684 911.623 72.8596 Q907.41 73.7508 903.076 73.7508 Q892.22 73.7508 885.86 67.4314 Q879.54 61.1119 879.54 50.3365 Q879.54 39.1965 885.536 32.6746 Q891.571 26.1121 901.78 26.1121 Q910.935 26.1121 916.241 32.0264 Q921.589 37.9003 921.589 48.0275 M914.135 45.84 Q914.054 39.7232 910.692 36.0774 Q907.37 32.4315 901.861 32.4315 Q895.622 32.4315 891.855 35.9558 Q888.128 39.4801 887.561 45.8805 L914.135 45.84 Z\" fill=\"#000000\" fill-rule=\"evenodd\" fill-opacity=\"1\" /><path clip-path=\"url(#clip820)\" d=\"M960.113 34.1734 Q958.857 33.4443 957.358 33.1202 Q955.9 32.7556 954.117 32.7556 Q947.798 32.7556 944.395 36.8875 Q941.033 40.9789 941.033 48.6757 L941.033 72.576 L933.539 72.576 L933.539 27.2059 L941.033 27.2059 L941.033 34.2544 Q943.382 30.1225 947.15 28.1376 Q950.917 26.1121 956.305 26.1121 Q957.074 26.1121 958.006 26.2337 Q958.938 26.3147 960.072 26.5172 L960.113 34.1734 Z\" fill=\"#000000\" fill-rule=\"evenodd\" fill-opacity=\"1\" /><path clip-path=\"url(#clip820)\" d=\"M994.626 12.096 L1002.81 12.096 L1002.81 68.3631 Q1002.81 79.3005 998.637 84.2426 Q994.505 89.1847 985.309 89.1847 L982.19 89.1847 L982.19 82.2982 L984.742 82.2982 Q990.17 82.2982 992.398 79.26 Q994.626 76.2218 994.626 68.3631 L994.626 12.096 Z\" fill=\"#000000\" fill-rule=\"evenodd\" fill-opacity=\"1\" /><path clip-path=\"url(#clip820)\" d=\"M1036.35 32.4315 Q1030.36 32.4315 1026.87 37.1306 Q1023.39 41.7891 1023.39 49.9314 Q1023.39 58.0738 1026.83 62.7728 Q1030.31 67.4314 1036.35 67.4314 Q1042.31 67.4314 1045.79 62.7323 Q1049.27 58.0333 1049.27 49.9314 Q1049.27 41.8701 1045.79 37.1711 Q1042.31 32.4315 1036.35 32.4315 M1036.35 26.1121 Q1046.07 26.1121 1051.62 32.4315 Q1057.17 38.7509 1057.17 49.9314 Q1057.17 61.0714 1051.62 67.4314 Q1046.07 73.7508 1036.35 73.7508 Q1026.59 73.7508 1021.04 67.4314 Q1015.53 61.0714 1015.53 49.9314 Q1015.53 38.7509 1021.04 32.4315 Q1026.59 26.1121 1036.35 26.1121 Z\" fill=\"#000000\" fill-rule=\"evenodd\" fill-opacity=\"1\" /><path clip-path=\"url(#clip820)\" d=\"M1069.53 27.2059 L1076.98 27.2059 L1076.98 72.576 L1069.53 72.576 L1069.53 27.2059 M1069.53 9.54393 L1076.98 9.54393 L1076.98 18.9825 L1069.53 18.9825 L1069.53 9.54393 Z\" fill=\"#000000\" fill-rule=\"evenodd\" fill-opacity=\"1\" /><path clip-path=\"url(#clip820)\" d=\"M1130.29 45.1919 L1130.29 72.576 L1122.84 72.576 L1122.84 45.4349 Q1122.84 38.994 1120.33 35.7938 Q1117.81 32.5936 1112.79 32.5936 Q1106.76 32.5936 1103.27 36.4419 Q1099.79 40.2903 1099.79 46.9338 L1099.79 72.576 L1092.29 72.576 L1092.29 27.2059 L1099.79 27.2059 L1099.79 34.2544 Q1102.46 30.163 1106.07 28.1376 Q1109.71 26.1121 1114.45 26.1121 Q1122.27 26.1121 1126.28 30.9732 Q1130.29 35.7938 1130.29 45.1919 Z\" fill=\"#000000\" fill-rule=\"evenodd\" fill-opacity=\"1\" /><path clip-path=\"url(#clip820)\" d=\"M1152.53 14.324 L1152.53 27.2059 L1167.88 27.2059 L1167.88 32.9987 L1152.53 32.9987 L1152.53 57.6282 Q1152.53 63.1779 1154.03 64.7578 Q1155.57 66.3376 1160.23 66.3376 L1167.88 66.3376 L1167.88 72.576 L1160.23 72.576 Q1151.6 72.576 1148.32 69.3758 Q1145.04 66.1351 1145.04 57.6282 L1145.04 32.9987 L1139.57 32.9987 L1139.57 27.2059 L1145.04 27.2059 L1145.04 14.324 L1152.53 14.324 Z\" fill=\"#000000\" fill-rule=\"evenodd\" fill-opacity=\"1\" /><path clip-path=\"url(#clip820)\" d=\"M1179.59 62.2867 L1188.14 62.2867 L1188.14 72.576 L1179.59 72.576 L1179.59 62.2867 M1179.59 29.6769 L1188.14 29.6769 L1188.14 39.9662 L1179.59 39.9662 L1179.59 29.6769 Z\" fill=\"#000000\" fill-rule=\"evenodd\" fill-opacity=\"1\" /><path clip-path=\"url(#clip820)\" d=\"M1232.33 12.096 L1270.57 12.096 L1270.57 18.9825 L1240.52 18.9825 L1240.52 36.8875 L1269.32 36.8875 L1269.32 43.7741 L1240.52 43.7741 L1240.52 65.6895 L1271.3 65.6895 L1271.3 72.576 L1232.33 72.576 L1232.33 12.096 Z\" fill=\"#000000\" fill-rule=\"evenodd\" fill-opacity=\"1\" /><path clip-path=\"url(#clip820)\" d=\"M1313.35 28.5427 L1313.35 35.5912 Q1310.19 33.9709 1306.79 33.1607 Q1303.39 32.3505 1299.74 32.3505 Q1294.19 32.3505 1291.4 34.0519 Q1288.64 35.7533 1288.64 39.156 Q1288.64 41.7486 1290.63 43.2475 Q1292.61 44.7058 1298.61 46.0426 L1301.16 46.6097 Q1309.1 48.3111 1312.42 51.4303 Q1315.78 54.509 1315.78 60.0587 Q1315.78 66.3781 1310.76 70.0644 Q1305.78 73.7508 1297.03 73.7508 Q1293.38 73.7508 1289.41 73.0216 Q1285.48 72.3329 1281.11 70.9151 L1281.11 63.2184 Q1285.24 65.3654 1289.25 66.4591 Q1293.26 67.5124 1297.19 67.5124 Q1302.45 67.5124 1305.29 65.73 Q1308.13 63.9071 1308.13 60.6258 Q1308.13 57.5877 1306.06 55.9673 Q1304.03 54.3469 1297.11 52.8481 L1294.51 52.2405 Q1287.59 50.7821 1284.51 47.7845 Q1281.43 44.7463 1281.43 39.4801 Q1281.43 33.0797 1285.97 29.5959 Q1290.5 26.1121 1298.85 26.1121 Q1302.98 26.1121 1306.63 26.7198 Q1310.27 27.3274 1313.35 28.5427 Z\" fill=\"#000000\" fill-rule=\"evenodd\" fill-opacity=\"1\" /><path clip-path=\"url(#clip820)\" d=\"M1335.02 14.324 L1335.02 27.2059 L1350.38 27.2059 L1350.38 32.9987 L1335.02 32.9987 L1335.02 57.6282 Q1335.02 63.1779 1336.52 64.7578 Q1338.06 66.3376 1342.72 66.3376 L1350.38 66.3376 L1350.38 72.576 L1342.72 72.576 Q1334.09 72.576 1330.81 69.3758 Q1327.53 66.1351 1327.53 57.6282 L1327.53 32.9987 L1322.06 32.9987 L1322.06 27.2059 L1327.53 27.2059 L1327.53 14.324 L1335.02 14.324 Z\" fill=\"#000000\" fill-rule=\"evenodd\" fill-opacity=\"1\" /><path clip-path=\"url(#clip820)\" d=\"M1360.18 27.2059 L1367.63 27.2059 L1367.63 72.576 L1360.18 72.576 L1360.18 27.2059 M1360.18 9.54393 L1367.63 9.54393 L1367.63 18.9825 L1360.18 18.9825 L1360.18 9.54393 Z\" fill=\"#000000\" fill-rule=\"evenodd\" fill-opacity=\"1\" /><path clip-path=\"url(#clip820)\" d=\"M1418.55 35.9153 Q1421.35 30.8922 1425.24 28.5022 Q1429.13 26.1121 1434.39 26.1121 Q1441.48 26.1121 1445.33 31.0947 Q1449.18 36.0368 1449.18 45.1919 L1449.18 72.576 L1441.68 72.576 L1441.68 45.4349 Q1441.68 38.913 1439.38 35.7533 Q1437.07 32.5936 1432.33 32.5936 Q1426.53 32.5936 1423.17 36.4419 Q1419.81 40.2903 1419.81 46.9338 L1419.81 72.576 L1412.32 72.576 L1412.32 45.4349 Q1412.32 38.8725 1410.01 35.7533 Q1407.7 32.5936 1402.88 32.5936 Q1397.16 32.5936 1393.8 36.4824 Q1390.44 40.3308 1390.44 46.9338 L1390.44 72.576 L1382.95 72.576 L1382.95 27.2059 L1390.44 27.2059 L1390.44 34.2544 Q1392.99 30.082 1396.56 28.0971 Q1400.12 26.1121 1405.02 26.1121 Q1409.97 26.1121 1413.41 28.6237 Q1416.89 31.1352 1418.55 35.9153 Z\" fill=\"#000000\" fill-rule=\"evenodd\" fill-opacity=\"1\" /><path clip-path=\"url(#clip820)\" d=\"M1484.66 49.7694 Q1475.63 49.7694 1472.15 51.8354 Q1468.66 53.9013 1468.66 58.8839 Q1468.66 62.8538 1471.26 65.2034 Q1473.89 67.5124 1478.39 67.5124 Q1484.58 67.5124 1488.31 63.1374 Q1492.08 58.7219 1492.08 51.4303 L1492.08 49.7694 L1484.66 49.7694 M1499.53 46.6907 L1499.53 72.576 L1492.08 72.576 L1492.08 65.6895 Q1489.53 69.8214 1485.72 71.8063 Q1481.91 73.7508 1476.4 73.7508 Q1469.43 73.7508 1465.3 69.8619 Q1461.21 65.9325 1461.21 59.3701 Q1461.21 51.7138 1466.31 47.825 Q1471.46 43.9361 1481.63 43.9361 L1492.08 43.9361 L1492.08 43.2069 Q1492.08 38.0623 1488.67 35.2672 Q1485.31 32.4315 1479.2 32.4315 Q1475.31 32.4315 1471.62 33.3632 Q1467.93 34.295 1464.53 36.1584 L1464.53 29.2718 Q1468.62 27.692 1472.47 26.9223 Q1476.32 26.1121 1479.97 26.1121 Q1489.81 26.1121 1494.67 31.2163 Q1499.53 36.3204 1499.53 46.6907 Z\" fill=\"#000000\" fill-rule=\"evenodd\" fill-opacity=\"1\" /><path clip-path=\"url(#clip820)\" d=\"M1522.26 14.324 L1522.26 27.2059 L1537.61 27.2059 L1537.61 32.9987 L1522.26 32.9987 L1522.26 57.6282 Q1522.26 63.1779 1523.76 64.7578 Q1525.29 66.3376 1529.95 66.3376 L1537.61 66.3376 L1537.61 72.576 L1529.95 72.576 Q1521.32 72.576 1518.04 69.3758 Q1514.76 66.1351 1514.76 57.6282 L1514.76 32.9987 L1509.29 32.9987 L1509.29 27.2059 L1514.76 27.2059 L1514.76 14.324 L1522.26 14.324 Z\" fill=\"#000000\" fill-rule=\"evenodd\" fill-opacity=\"1\" /><path clip-path=\"url(#clip820)\" d=\"M1586.22 48.0275 L1586.22 51.6733 L1551.95 51.6733 Q1552.44 59.3701 1556.57 63.421 Q1560.74 67.4314 1568.15 67.4314 Q1572.45 67.4314 1576.46 66.3781 Q1580.51 65.3249 1584.48 63.2184 L1584.48 70.267 Q1580.47 71.9684 1576.26 72.8596 Q1572.04 73.7508 1567.71 73.7508 Q1556.85 73.7508 1550.49 67.4314 Q1544.17 61.1119 1544.17 50.3365 Q1544.17 39.1965 1550.17 32.6746 Q1556.2 26.1121 1566.41 26.1121 Q1575.57 26.1121 1580.87 32.0264 Q1586.22 37.9003 1586.22 48.0275 M1578.77 45.84 Q1578.69 39.7232 1575.32 36.0774 Q1572 32.4315 1566.49 32.4315 Q1560.25 32.4315 1556.49 35.9558 Q1552.76 39.4801 1552.19 45.8805 L1578.77 45.84 Z\" fill=\"#000000\" fill-rule=\"evenodd\" fill-opacity=\"1\" /><path clip-path=\"url(#clip820)\" d=\"M1628.31 34.0924 L1628.31 9.54393 L1635.76 9.54393 L1635.76 72.576 L1628.31 72.576 L1628.31 65.7705 Q1625.96 69.8214 1622.35 71.8063 Q1618.79 73.7508 1613.77 73.7508 Q1605.54 73.7508 1600.36 67.1883 Q1595.21 60.6258 1595.21 49.9314 Q1595.21 39.2371 1600.36 32.6746 Q1605.54 26.1121 1613.77 26.1121 Q1618.79 26.1121 1622.35 28.0971 Q1625.96 30.0415 1628.31 34.0924 M1602.91 49.9314 Q1602.91 58.1548 1606.27 62.8538 Q1609.68 67.5124 1615.59 67.5124 Q1621.5 67.5124 1624.91 62.8538 Q1628.31 58.1548 1628.31 49.9314 Q1628.31 41.7081 1624.91 37.0496 Q1621.5 32.3505 1615.59 32.3505 Q1609.68 32.3505 1606.27 37.0496 Q1602.91 41.7081 1602.91 49.9314 Z\" fill=\"#000000\" fill-rule=\"evenodd\" fill-opacity=\"1\" /><path clip-path=\"url(#clip820)\" d=\"M1677.81 12.096 L1685.99 12.096 L1685.99 65.6895 L1715.44 65.6895 L1715.44 72.576 L1677.81 72.576 L1677.81 12.096 Z\" fill=\"#000000\" fill-rule=\"evenodd\" fill-opacity=\"1\" /><path clip-path=\"url(#clip820)\" d=\"M1744.33 49.7694 Q1735.29 49.7694 1731.81 51.8354 Q1728.33 53.9013 1728.33 58.8839 Q1728.33 62.8538 1730.92 65.2034 Q1733.55 67.5124 1738.05 67.5124 Q1744.25 67.5124 1747.97 63.1374 Q1751.74 58.7219 1751.74 51.4303 L1751.74 49.7694 L1744.33 49.7694 M1759.19 46.6907 L1759.19 72.576 L1751.74 72.576 L1751.74 65.6895 Q1749.19 69.8214 1745.38 71.8063 Q1741.57 73.7508 1736.06 73.7508 Q1729.1 73.7508 1724.96 69.8619 Q1720.87 65.9325 1720.87 59.3701 Q1720.87 51.7138 1725.98 47.825 Q1731.12 43.9361 1741.29 43.9361 L1751.74 43.9361 L1751.74 43.2069 Q1751.74 38.0623 1748.34 35.2672 Q1744.98 32.4315 1738.86 32.4315 Q1734.97 32.4315 1731.28 33.3632 Q1727.6 34.295 1724.19 36.1584 L1724.19 29.2718 Q1728.29 27.692 1732.13 26.9223 Q1735.98 26.1121 1739.63 26.1121 Q1749.47 26.1121 1754.33 31.2163 Q1759.19 36.3204 1759.19 46.6907 Z\" fill=\"#000000\" fill-rule=\"evenodd\" fill-opacity=\"1\" /><path clip-path=\"url(#clip820)\" d=\"M1781.92 14.324 L1781.92 27.2059 L1797.27 27.2059 L1797.27 32.9987 L1781.92 32.9987 L1781.92 57.6282 Q1781.92 63.1779 1783.42 64.7578 Q1784.96 66.3376 1789.62 66.3376 L1797.27 66.3376 L1797.27 72.576 L1789.62 72.576 Q1780.99 72.576 1777.71 69.3758 Q1774.43 66.1351 1774.43 57.6282 L1774.43 32.9987 L1768.96 32.9987 L1768.96 27.2059 L1774.43 27.2059 L1774.43 14.324 L1781.92 14.324 Z\" fill=\"#000000\" fill-rule=\"evenodd\" fill-opacity=\"1\" /><path clip-path=\"url(#clip820)\" d=\"M1845.88 48.0275 L1845.88 51.6733 L1811.61 51.6733 Q1812.1 59.3701 1816.23 63.421 Q1820.4 67.4314 1827.82 67.4314 Q1832.11 67.4314 1836.12 66.3781 Q1840.17 65.3249 1844.14 63.2184 L1844.14 70.267 Q1840.13 71.9684 1835.92 72.8596 Q1831.71 73.7508 1827.37 73.7508 Q1816.51 73.7508 1810.15 67.4314 Q1803.84 61.1119 1803.84 50.3365 Q1803.84 39.1965 1809.83 32.6746 Q1815.87 26.1121 1826.07 26.1121 Q1835.23 26.1121 1840.54 32.0264 Q1845.88 37.9003 1845.88 48.0275 M1838.43 45.84 Q1838.35 39.7232 1834.99 36.0774 Q1831.66 32.4315 1826.16 32.4315 Q1819.92 32.4315 1816.15 35.9558 Q1812.42 39.4801 1811.86 45.8805 L1838.43 45.84 Z\" fill=\"#000000\" fill-rule=\"evenodd\" fill-opacity=\"1\" /><path clip-path=\"url(#clip820)\" d=\"M1895.83 45.1919 L1895.83 72.576 L1888.38 72.576 L1888.38 45.4349 Q1888.38 38.994 1885.87 35.7938 Q1883.35 32.5936 1878.33 32.5936 Q1872.3 32.5936 1868.81 36.4419 Q1865.33 40.2903 1865.33 46.9338 L1865.33 72.576 L1857.83 72.576 L1857.83 27.2059 L1865.33 27.2059 L1865.33 34.2544 Q1868 30.163 1871.61 28.1376 Q1875.25 26.1121 1879.99 26.1121 Q1887.81 26.1121 1891.82 30.9732 Q1895.83 35.7938 1895.83 45.1919 Z\" fill=\"#000000\" fill-rule=\"evenodd\" fill-opacity=\"1\" /><path clip-path=\"url(#clip820)\" d=\"M1918.07 14.324 L1918.07 27.2059 L1933.42 27.2059 L1933.42 32.9987 L1918.07 32.9987 L1918.07 57.6282 Q1918.07 63.1779 1919.57 64.7578 Q1921.11 66.3376 1925.77 66.3376 L1933.42 66.3376 L1933.42 72.576 L1925.77 72.576 Q1917.14 72.576 1913.86 69.3758 Q1910.58 66.1351 1910.58 57.6282 L1910.58 32.9987 L1905.11 32.9987 L1905.11 27.2059 L1910.58 27.2059 L1910.58 14.324 L1918.07 14.324 Z\" fill=\"#000000\" fill-rule=\"evenodd\" fill-opacity=\"1\" /><path clip-path=\"url(#clip820)\" d=\"M1972.15 28.5427 L1972.15 35.5912 Q1968.99 33.9709 1965.59 33.1607 Q1962.18 32.3505 1958.54 32.3505 Q1952.99 32.3505 1950.19 34.0519 Q1947.44 35.7533 1947.44 39.156 Q1947.44 41.7486 1949.42 43.2475 Q1951.41 44.7058 1957.4 46.0426 L1959.96 46.6097 Q1967.9 48.3111 1971.22 51.4303 Q1974.58 54.509 1974.58 60.0587 Q1974.58 66.3781 1969.56 70.0644 Q1964.57 73.7508 1955.82 73.7508 Q1952.18 73.7508 1948.21 73.0216 Q1944.28 72.3329 1939.9 70.9151 L1939.9 63.2184 Q1944.04 65.3654 1948.05 66.4591 Q1952.06 67.5124 1955.99 67.5124 Q1961.25 67.5124 1964.09 65.73 Q1966.92 63.9071 1966.92 60.6258 Q1966.92 57.5877 1964.86 55.9673 Q1962.83 54.3469 1955.91 52.8481 L1953.31 52.2405 Q1946.39 50.7821 1943.31 47.7845 Q1940.23 44.7463 1940.23 39.4801 Q1940.23 33.0797 1944.77 29.5959 Q1949.3 26.1121 1957.65 26.1121 Q1961.78 26.1121 1965.43 26.7198 Q1969.07 27.3274 1972.15 28.5427 Z\" fill=\"#000000\" fill-rule=\"evenodd\" fill-opacity=\"1\" /><path clip-path=\"url(#clip822)\" d=\"\n",
       "M209.891 729.601 L319.389 595.437 L428.886 904.477 L538.384 668.034 L647.881 744.103 L757.379 591.035 L866.876 1150.61 L976.373 741.275 L1085.87 778.401 L1195.37 538.75 \n",
       "  L1304.87 935.752 L1414.36 754.415 L1523.86 903.68 L1633.36 1130.05 L1742.86 1447.87 L1852.35 799.964 L1961.85 953.266 L2071.35 850.855 L2180.84 823.975 L2290.34 1253.39 \n",
       "  L2290.34 162.047 L2180.84 572.532 L2071.35 624.954 L1961.85 701.353 L1852.35 568.255 L1742.86 1050.96 L1633.36 851.782 L1523.86 682.834 L1414.36 499.355 L1304.87 670.787 \n",
       "  L1195.37 242.766 L1085.87 547.174 L976.373 495.032 L866.876 865.513 L757.379 333.769 L647.881 500.593 L538.384 413.317 L428.886 656.515 L319.389 329.511 L209.891 487.894 \n",
       "   Z\n",
       "  \" fill=\"#009af9\" fill-rule=\"evenodd\" fill-opacity=\"0.5\"/>\n",
       "<polyline clip-path=\"url(#clip822)\" style=\"stroke:#009af9; stroke-linecap:butt; stroke-linejoin:round; stroke-width:4; stroke-opacity:1; fill:none\" points=\"\n",
       "  209.891,608.747 319.389,462.474 428.886,780.496 538.384,540.676 647.881,622.348 757.379,462.402 866.876,1008.06 976.373,618.153 1085.87,662.787 1195.37,390.758 \n",
       "  1304.87,803.269 1414.36,626.885 1523.86,793.257 1633.36,990.914 1742.86,1249.42 1852.35,684.11 1961.85,827.31 2071.35,737.904 2180.84,698.253 2290.34,707.718 \n",
       "  \n",
       "  \"/>\n",
       "<polyline clip-path=\"url(#clip822)\" style=\"stroke:#e26f46; stroke-linecap:butt; stroke-linejoin:round; stroke-width:4; stroke-opacity:1; fill:none\" points=\"\n",
       "  209.891,539.569 319.389,315.323 428.886,762.084 538.384,573.564 647.881,643.507 757.379,510.079 866.876,929.777 976.373,551.258 1085.87,746.141 1195.37,256.88 \n",
       "  1304.87,797.303 1414.36,591.054 1523.86,920.719 1633.36,1023.52 1742.86,1417.4 1852.35,658.681 1961.85,790.545 2071.35,829.591 2180.84,685.692 2290.34,410.573 \n",
       "  \n",
       "  \"/>\n",
       "<path clip-path=\"url(#clip820)\" d=\"\n",
       "M1683.87 324.425 L2279.25 324.425 L2279.25 168.905 L1683.87 168.905  Z\n",
       "  \" fill=\"#ffffff\" fill-rule=\"evenodd\" fill-opacity=\"1\"/>\n",
       "<polyline clip-path=\"url(#clip820)\" style=\"stroke:#000000; stroke-linecap:butt; stroke-linejoin:round; stroke-width:4; stroke-opacity:1; fill:none\" points=\"\n",
       "  1683.87,324.425 2279.25,324.425 2279.25,168.905 1683.87,168.905 1683.87,324.425 \n",
       "  \"/>\n",
       "<polyline clip-path=\"url(#clip820)\" style=\"stroke:#009af9; stroke-linecap:butt; stroke-linejoin:round; stroke-width:4; stroke-opacity:1; fill:none\" points=\"\n",
       "  1708.37,220.745 1855.39,220.745 \n",
       "  \"/>\n",
       "<path clip-path=\"url(#clip820)\" d=\"M1884.57 207.307 L1884.57 220.293 L1890.45 220.293 Q1893.71 220.293 1895.5 218.603 Q1897.28 216.914 1897.28 213.789 Q1897.28 210.687 1895.5 208.997 Q1893.71 207.307 1890.45 207.307 L1884.57 207.307 M1879.9 203.465 L1890.45 203.465 Q1896.26 203.465 1899.22 206.104 Q1902.21 208.719 1902.21 213.789 Q1902.21 218.904 1899.22 221.52 Q1896.26 224.136 1890.45 224.136 L1884.57 224.136 L1884.57 238.025 L1879.9 238.025 L1879.9 203.465 Z\" fill=\"#000000\" fill-rule=\"evenodd\" fill-opacity=\"1\" /><path clip-path=\"url(#clip820)\" d=\"M1916.65 215.085 Q1913.23 215.085 1911.24 217.77 Q1909.25 220.432 1909.25 225.085 Q1909.25 229.738 1911.21 232.423 Q1913.21 235.085 1916.65 235.085 Q1920.06 235.085 1922.05 232.4 Q1924.04 229.715 1924.04 225.085 Q1924.04 220.478 1922.05 217.793 Q1920.06 215.085 1916.65 215.085 M1916.65 211.474 Q1922.21 211.474 1925.38 215.085 Q1928.55 218.696 1928.55 225.085 Q1928.55 231.451 1925.38 235.085 Q1922.21 238.696 1916.65 238.696 Q1911.08 238.696 1907.9 235.085 Q1904.76 231.451 1904.76 225.085 Q1904.76 218.696 1907.9 215.085 Q1911.08 211.474 1916.65 211.474 Z\" fill=\"#000000\" fill-rule=\"evenodd\" fill-opacity=\"1\" /><path clip-path=\"url(#clip820)\" d=\"M1952.14 212.863 L1952.14 216.891 Q1950.33 215.965 1948.39 215.502 Q1946.45 215.039 1944.36 215.039 Q1941.19 215.039 1939.59 216.011 Q1938.02 216.983 1938.02 218.928 Q1938.02 220.409 1939.15 221.265 Q1940.29 222.099 1943.71 222.863 L1945.17 223.187 Q1949.71 224.159 1951.61 225.941 Q1953.53 227.701 1953.53 230.872 Q1953.53 234.483 1950.66 236.589 Q1947.81 238.696 1942.81 238.696 Q1940.73 238.696 1938.46 238.279 Q1936.21 237.886 1933.71 237.076 L1933.71 232.677 Q1936.08 233.904 1938.37 234.529 Q1940.66 235.131 1942.9 235.131 Q1945.91 235.131 1947.53 234.113 Q1949.15 233.071 1949.15 231.196 Q1949.15 229.46 1947.97 228.534 Q1946.82 227.608 1942.86 226.752 L1941.38 226.404 Q1937.42 225.571 1935.66 223.858 Q1933.9 222.122 1933.9 219.113 Q1933.9 215.455 1936.49 213.465 Q1939.08 211.474 1943.85 211.474 Q1946.21 211.474 1948.3 211.821 Q1950.38 212.168 1952.14 212.863 Z\" fill=\"#000000\" fill-rule=\"evenodd\" fill-opacity=\"1\" /><path clip-path=\"url(#clip820)\" d=\"M1964.52 204.738 L1964.52 212.099 L1973.3 212.099 L1973.3 215.409 L1964.52 215.409 L1964.52 229.483 Q1964.52 232.654 1965.38 233.557 Q1966.26 234.46 1968.92 234.46 L1973.3 234.46 L1973.3 238.025 L1968.92 238.025 Q1963.99 238.025 1962.12 236.196 Q1960.24 234.344 1960.24 229.483 L1960.24 215.409 L1957.12 215.409 L1957.12 212.099 L1960.24 212.099 L1960.24 204.738 L1964.52 204.738 Z\" fill=\"#000000\" fill-rule=\"evenodd\" fill-opacity=\"1\" /><path clip-path=\"url(#clip820)\" d=\"M2001.08 223.997 L2001.08 226.08 L1981.49 226.08 Q1981.77 230.478 1984.13 232.793 Q1986.51 235.085 1990.75 235.085 Q1993.2 235.085 1995.5 234.483 Q1997.81 233.881 2000.08 232.677 L2000.08 236.705 Q1997.79 237.677 1995.38 238.187 Q1992.97 238.696 1990.5 238.696 Q1984.29 238.696 1980.66 235.085 Q1977.05 231.474 1977.05 225.316 Q1977.05 218.951 1980.47 215.224 Q1983.92 211.474 1989.76 211.474 Q1994.99 211.474 1998.02 214.853 Q2001.08 218.21 2001.08 223.997 M1996.82 222.747 Q1996.77 219.252 1994.85 217.168 Q1992.95 215.085 1989.8 215.085 Q1986.24 215.085 1984.08 217.099 Q1981.95 219.113 1981.63 222.77 L1996.82 222.747 Z\" fill=\"#000000\" fill-rule=\"evenodd\" fill-opacity=\"1\" /><path clip-path=\"url(#clip820)\" d=\"M2023.09 216.08 Q2022.37 215.664 2021.51 215.478 Q2020.68 215.27 2019.66 215.27 Q2016.05 215.27 2014.11 217.631 Q2012.19 219.969 2012.19 224.367 L2012.19 238.025 L2007.9 238.025 L2007.9 212.099 L2012.19 212.099 L2012.19 216.127 Q2013.53 213.766 2015.68 212.631 Q2017.83 211.474 2020.91 211.474 Q2021.35 211.474 2021.89 211.543 Q2022.42 211.59 2023.07 211.705 L2023.09 216.08 Z\" fill=\"#000000\" fill-rule=\"evenodd\" fill-opacity=\"1\" /><path clip-path=\"url(#clip820)\" d=\"M2027.56 212.099 L2031.82 212.099 L2031.82 238.025 L2027.56 238.025 L2027.56 212.099 M2027.56 202.006 L2031.82 202.006 L2031.82 207.4 L2027.56 207.4 L2027.56 202.006 Z\" fill=\"#000000\" fill-rule=\"evenodd\" fill-opacity=\"1\" /><path clip-path=\"url(#clip820)\" d=\"M2050.77 215.085 Q2047.35 215.085 2045.36 217.77 Q2043.37 220.432 2043.37 225.085 Q2043.37 229.738 2045.33 232.423 Q2047.32 235.085 2050.77 235.085 Q2054.18 235.085 2056.17 232.4 Q2058.16 229.715 2058.16 225.085 Q2058.16 220.478 2056.17 217.793 Q2054.18 215.085 2050.77 215.085 M2050.77 211.474 Q2056.33 211.474 2059.5 215.085 Q2062.67 218.696 2062.67 225.085 Q2062.67 231.451 2059.5 235.085 Q2056.33 238.696 2050.77 238.696 Q2045.2 238.696 2042.02 235.085 Q2038.88 231.451 2038.88 225.085 Q2038.88 218.696 2042.02 215.085 Q2045.2 211.474 2050.77 211.474 Z\" fill=\"#000000\" fill-rule=\"evenodd\" fill-opacity=\"1\" /><path clip-path=\"url(#clip820)\" d=\"M2084.76 216.08 Q2084.04 215.664 2083.18 215.478 Q2082.35 215.27 2081.33 215.27 Q2077.72 215.27 2075.77 217.631 Q2073.85 219.969 2073.85 224.367 L2073.85 238.025 L2069.57 238.025 L2069.57 212.099 L2073.85 212.099 L2073.85 216.127 Q2075.19 213.766 2077.35 212.631 Q2079.5 211.474 2082.58 211.474 Q2083.02 211.474 2083.55 211.543 Q2084.08 211.59 2084.73 211.705 L2084.76 216.08 Z\" fill=\"#000000\" fill-rule=\"evenodd\" fill-opacity=\"1\" /><path clip-path=\"url(#clip820)\" d=\"M2124.48 217.076 Q2126.07 214.205 2128.3 212.84 Q2130.52 211.474 2133.53 211.474 Q2137.58 211.474 2139.78 214.321 Q2141.98 217.145 2141.98 222.377 L2141.98 238.025 L2137.69 238.025 L2137.69 222.515 Q2137.69 218.789 2136.38 216.983 Q2135.06 215.178 2132.35 215.178 Q2129.04 215.178 2127.12 217.377 Q2125.19 219.576 2125.19 223.372 L2125.19 238.025 L2120.91 238.025 L2120.91 222.515 Q2120.91 218.765 2119.59 216.983 Q2118.27 215.178 2115.52 215.178 Q2112.25 215.178 2110.33 217.4 Q2108.41 219.599 2108.41 223.372 L2108.41 238.025 L2104.13 238.025 L2104.13 212.099 L2108.41 212.099 L2108.41 216.127 Q2109.87 213.742 2111.91 212.608 Q2113.94 211.474 2116.75 211.474 Q2119.57 211.474 2121.54 212.909 Q2123.53 214.344 2124.48 217.076 Z\" fill=\"#000000\" fill-rule=\"evenodd\" fill-opacity=\"1\" /><path clip-path=\"url(#clip820)\" d=\"M2172.65 223.997 L2172.65 226.08 L2153.06 226.08 Q2153.34 230.478 2155.7 232.793 Q2158.09 235.085 2162.32 235.085 Q2164.78 235.085 2167.07 234.483 Q2169.38 233.881 2171.65 232.677 L2171.65 236.705 Q2169.36 237.677 2166.95 238.187 Q2164.55 238.696 2162.07 238.696 Q2155.87 238.696 2152.23 235.085 Q2148.62 231.474 2148.62 225.316 Q2148.62 218.951 2152.05 215.224 Q2155.5 211.474 2161.33 211.474 Q2166.56 211.474 2169.59 214.853 Q2172.65 218.21 2172.65 223.997 M2168.39 222.747 Q2168.34 219.252 2166.42 217.168 Q2164.52 215.085 2161.38 215.085 Q2157.81 215.085 2155.66 217.099 Q2153.53 219.113 2153.2 222.77 L2168.39 222.747 Z\" fill=\"#000000\" fill-rule=\"evenodd\" fill-opacity=\"1\" /><path clip-path=\"url(#clip820)\" d=\"M2191.42 224.992 Q2186.26 224.992 2184.27 226.173 Q2182.28 227.353 2182.28 230.201 Q2182.28 232.469 2183.76 233.812 Q2185.26 235.131 2187.83 235.131 Q2191.37 235.131 2193.5 232.631 Q2195.66 230.108 2195.66 225.941 L2195.66 224.992 L2191.42 224.992 M2199.92 223.233 L2199.92 238.025 L2195.66 238.025 L2195.66 234.089 Q2194.2 236.451 2192.02 237.585 Q2189.85 238.696 2186.7 238.696 Q2182.72 238.696 2180.36 236.474 Q2178.02 234.228 2178.02 230.478 Q2178.02 226.103 2180.94 223.881 Q2183.87 221.659 2189.69 221.659 L2195.66 221.659 L2195.66 221.242 Q2195.66 218.303 2193.71 216.705 Q2191.79 215.085 2188.3 215.085 Q2186.07 215.085 2183.97 215.617 Q2181.86 216.15 2179.92 217.215 L2179.92 213.279 Q2182.25 212.377 2184.45 211.937 Q2186.65 211.474 2188.74 211.474 Q2194.36 211.474 2197.14 214.391 Q2199.92 217.307 2199.92 223.233 Z\" fill=\"#000000\" fill-rule=\"evenodd\" fill-opacity=\"1\" /><path clip-path=\"url(#clip820)\" d=\"M2230.24 222.377 L2230.24 238.025 L2225.98 238.025 L2225.98 222.515 Q2225.98 218.835 2224.55 217.006 Q2223.11 215.178 2220.24 215.178 Q2216.79 215.178 2214.8 217.377 Q2212.81 219.576 2212.81 223.372 L2212.81 238.025 L2208.53 238.025 L2208.53 212.099 L2212.81 212.099 L2212.81 216.127 Q2214.34 213.789 2216.4 212.631 Q2218.48 211.474 2221.19 211.474 Q2225.66 211.474 2227.95 214.252 Q2230.24 217.006 2230.24 222.377 Z\" fill=\"#000000\" fill-rule=\"evenodd\" fill-opacity=\"1\" /><polyline clip-path=\"url(#clip820)\" style=\"stroke:#e26f46; stroke-linecap:butt; stroke-linejoin:round; stroke-width:4; stroke-opacity:1; fill:none\" points=\"\n",
       "  1708.37,272.585 1855.39,272.585 \n",
       "  \"/>\n",
       "<path clip-path=\"url(#clip820)\" d=\"M1879.9 255.305 L1909.13 255.305 L1909.13 259.24 L1896.86 259.24 L1896.86 289.865 L1892.16 289.865 L1892.16 259.24 L1879.9 259.24 L1879.9 255.305 Z\" fill=\"#000000\" fill-rule=\"evenodd\" fill-opacity=\"1\" /><path clip-path=\"url(#clip820)\" d=\"M1921.52 267.92 Q1920.8 267.504 1919.94 267.318 Q1919.11 267.11 1918.09 267.11 Q1914.48 267.11 1912.53 269.471 Q1910.61 271.809 1910.61 276.207 L1910.61 289.865 L1906.33 289.865 L1906.33 263.939 L1910.61 263.939 L1910.61 267.967 Q1911.96 265.606 1914.11 264.471 Q1916.26 263.314 1919.34 263.314 Q1919.78 263.314 1920.31 263.383 Q1920.84 263.43 1921.49 263.545 L1921.52 267.92 Z\" fill=\"#000000\" fill-rule=\"evenodd\" fill-opacity=\"1\" /><path clip-path=\"url(#clip820)\" d=\"M1925.54 279.633 L1925.54 263.939 L1929.8 263.939 L1929.8 279.471 Q1929.8 283.152 1931.24 285.004 Q1932.67 286.832 1935.54 286.832 Q1938.99 286.832 1940.98 284.633 Q1943 282.434 1943 278.638 L1943 263.939 L1947.26 263.939 L1947.26 289.865 L1943 289.865 L1943 285.883 Q1941.45 288.244 1939.39 289.402 Q1937.35 290.536 1934.64 290.536 Q1930.17 290.536 1927.86 287.758 Q1925.54 284.98 1925.54 279.633 M1936.26 263.314 L1936.26 263.314 Z\" fill=\"#000000\" fill-rule=\"evenodd\" fill-opacity=\"1\" /><path clip-path=\"url(#clip820)\" d=\"M1978.2 275.837 L1978.2 277.92 L1958.62 277.92 Q1958.9 282.318 1961.26 284.633 Q1963.64 286.925 1967.88 286.925 Q1970.33 286.925 1972.63 286.323 Q1974.94 285.721 1977.21 284.517 L1977.21 288.545 Q1974.92 289.517 1972.51 290.027 Q1970.1 290.536 1967.63 290.536 Q1961.42 290.536 1957.79 286.925 Q1954.18 283.314 1954.18 277.156 Q1954.18 270.791 1957.6 267.064 Q1961.05 263.314 1966.89 263.314 Q1972.12 263.314 1975.15 266.693 Q1978.2 270.05 1978.2 275.837 M1973.95 274.587 Q1973.9 271.092 1971.98 269.008 Q1970.08 266.925 1966.93 266.925 Q1963.37 266.925 1961.21 268.939 Q1959.08 270.953 1958.76 274.61 L1973.95 274.587 Z\" fill=\"#000000\" fill-rule=\"evenodd\" fill-opacity=\"1\" /><path clip-path=\"url(#clip820)\" d=\"M1997.21 263.939 L2001.72 263.939 L2009.82 285.698 L2017.93 263.939 L2022.44 263.939 L2012.72 289.865 L2006.93 289.865 L1997.21 263.939 Z\" fill=\"#000000\" fill-rule=\"evenodd\" fill-opacity=\"1\" /><path clip-path=\"url(#clip820)\" d=\"M2040.1 276.832 Q2034.94 276.832 2032.95 278.013 Q2030.96 279.193 2030.96 282.041 Q2030.96 284.309 2032.44 285.652 Q2033.95 286.971 2036.51 286.971 Q2040.06 286.971 2042.19 284.471 Q2044.34 281.948 2044.34 277.781 L2044.34 276.832 L2040.1 276.832 M2048.6 275.073 L2048.6 289.865 L2044.34 289.865 L2044.34 285.929 Q2042.88 288.291 2040.7 289.425 Q2038.53 290.536 2035.38 290.536 Q2031.4 290.536 2029.04 288.314 Q2026.7 286.068 2026.7 282.318 Q2026.7 277.943 2029.62 275.721 Q2032.56 273.499 2038.37 273.499 L2044.34 273.499 L2044.34 273.082 Q2044.34 270.143 2042.39 268.545 Q2040.47 266.925 2036.98 266.925 Q2034.76 266.925 2032.65 267.457 Q2030.54 267.99 2028.6 269.055 L2028.6 265.119 Q2030.94 264.217 2033.14 263.777 Q2035.33 263.314 2037.42 263.314 Q2043.04 263.314 2045.82 266.231 Q2048.6 269.147 2048.6 275.073 Z\" fill=\"#000000\" fill-rule=\"evenodd\" fill-opacity=\"1\" /><path clip-path=\"url(#clip820)\" d=\"M2057.37 253.846 L2061.63 253.846 L2061.63 289.865 L2057.37 289.865 L2057.37 253.846 Z\" fill=\"#000000\" fill-rule=\"evenodd\" fill-opacity=\"1\" /><path clip-path=\"url(#clip820)\" d=\"M2070.1 279.633 L2070.1 263.939 L2074.36 263.939 L2074.36 279.471 Q2074.36 283.152 2075.8 285.004 Q2077.23 286.832 2080.1 286.832 Q2083.55 286.832 2085.54 284.633 Q2087.56 282.434 2087.56 278.638 L2087.56 263.939 L2091.82 263.939 L2091.82 289.865 L2087.56 289.865 L2087.56 285.883 Q2086.01 288.244 2083.94 289.402 Q2081.91 290.536 2079.2 290.536 Q2074.73 290.536 2072.42 287.758 Q2070.1 284.98 2070.1 279.633 M2080.82 263.314 L2080.82 263.314 Z\" fill=\"#000000\" fill-rule=\"evenodd\" fill-opacity=\"1\" /><path clip-path=\"url(#clip820)\" d=\"M2122.76 275.837 L2122.76 277.92 L2103.18 277.92 Q2103.46 282.318 2105.82 284.633 Q2108.2 286.925 2112.44 286.925 Q2114.89 286.925 2117.19 286.323 Q2119.5 285.721 2121.77 284.517 L2121.77 288.545 Q2119.48 289.517 2117.07 290.027 Q2114.66 290.536 2112.19 290.536 Q2105.98 290.536 2102.35 286.925 Q2098.74 283.314 2098.74 277.156 Q2098.74 270.791 2102.16 267.064 Q2105.61 263.314 2111.44 263.314 Q2116.68 263.314 2119.71 266.693 Q2122.76 270.05 2122.76 275.837 M2118.5 274.587 Q2118.46 271.092 2116.54 269.008 Q2114.64 266.925 2111.49 266.925 Q2107.93 266.925 2105.77 268.939 Q2103.64 270.953 2103.32 274.61 L2118.5 274.587 Z\" fill=\"#000000\" fill-rule=\"evenodd\" fill-opacity=\"1\" /><path clip-path=\"url(#clip820)\" d=\"M2146.28 264.703 L2146.28 268.731 Q2144.48 267.805 2142.53 267.342 Q2140.59 266.879 2138.5 266.879 Q2135.33 266.879 2133.74 267.851 Q2132.16 268.823 2132.16 270.768 Q2132.16 272.249 2133.3 273.105 Q2134.43 273.939 2137.86 274.703 L2139.32 275.027 Q2143.85 275.999 2145.75 277.781 Q2147.67 279.541 2147.67 282.712 Q2147.67 286.323 2144.8 288.429 Q2141.95 290.536 2136.95 290.536 Q2134.87 290.536 2132.6 290.119 Q2130.36 289.726 2127.86 288.916 L2127.86 284.517 Q2130.22 285.744 2132.51 286.369 Q2134.8 286.971 2137.05 286.971 Q2140.06 286.971 2141.68 285.953 Q2143.3 284.911 2143.3 283.036 Q2143.3 281.3 2142.12 280.374 Q2140.96 279.448 2137 278.592 L2135.52 278.244 Q2131.56 277.411 2129.8 275.698 Q2128.04 273.962 2128.04 270.953 Q2128.04 267.295 2130.63 265.305 Q2133.23 263.314 2138 263.314 Q2140.36 263.314 2142.44 263.661 Q2144.52 264.008 2146.28 264.703 Z\" fill=\"#000000\" fill-rule=\"evenodd\" fill-opacity=\"1\" /></svg>\n"
      ]
     },
     "execution_count": 27,
     "metadata": {},
     "output_type": "execute_result"
    }
   ],
   "source": [
    "symbol_to_int(s) = parse(Int, string(s)[9:end-1])\n",
    "ϵ_chain = sort(chain_1_joint[:, [Symbol(\"ϵ_draw[$a]\") for a in 1:21], 1], lt = (x,y) -> symbol_to_int(x) < symbol_to_int(y))\n",
    "tmp = describe(ϵ_chain)\n",
    "ϵ_mean = tmp[1][:, 2]\n",
    "ϵ_std = tmp[1][:, 3]\n",
    "plot(ϵ_mean[2:end], ribbon=2 * ϵ_std[2:end], label=\"Posterior mean\", title = \"First-Order Joint: Estimated Latents\")\n",
    "plot!(ϵ', label=\"True values\")"
   ]
  },
  {
   "cell_type": "code",
   "execution_count": 28,
   "metadata": {},
   "outputs": [
    {
     "data": {
      "image/svg+xml": [
       "<?xml version=\"1.0\" encoding=\"utf-8\"?>\n",
       "<svg xmlns=\"http://www.w3.org/2000/svg\" xmlns:xlink=\"http://www.w3.org/1999/xlink\" width=\"600\" height=\"400\" viewBox=\"0 0 2400 1600\">\n",
       "<defs>\n",
       "  <clipPath id=\"clip860\">\n",
       "    <rect x=\"0\" y=\"0\" width=\"2400\" height=\"1600\"/>\n",
       "  </clipPath>\n",
       "</defs>\n",
       "<path clip-path=\"url(#clip860)\" d=\"\n",
       "M0 1600 L2400 1600 L2400 0 L0 0  Z\n",
       "  \" fill=\"#ffffff\" fill-rule=\"evenodd\" fill-opacity=\"1\"/>\n",
       "<defs>\n",
       "  <clipPath id=\"clip861\">\n",
       "    <rect x=\"480\" y=\"0\" width=\"1681\" height=\"1600\"/>\n",
       "  </clipPath>\n",
       "</defs>\n",
       "<path clip-path=\"url(#clip860)\" d=\"\n",
       "M147.478 1486.45 L2352.76 1486.45 L2352.76 123.472 L147.478 123.472  Z\n",
       "  \" fill=\"#ffffff\" fill-rule=\"evenodd\" fill-opacity=\"1\"/>\n",
       "<defs>\n",
       "  <clipPath id=\"clip862\">\n",
       "    <rect x=\"147\" y=\"123\" width=\"2206\" height=\"1364\"/>\n",
       "  </clipPath>\n",
       "</defs>\n",
       "<polyline clip-path=\"url(#clip862)\" style=\"stroke:#000000; stroke-linecap:butt; stroke-linejoin:round; stroke-width:2; stroke-opacity:0.1; fill:none\" points=\"\n",
       "  647.881,1486.45 647.881,123.472 \n",
       "  \"/>\n",
       "<polyline clip-path=\"url(#clip862)\" style=\"stroke:#000000; stroke-linecap:butt; stroke-linejoin:round; stroke-width:2; stroke-opacity:0.1; fill:none\" points=\"\n",
       "  1195.37,1486.45 1195.37,123.472 \n",
       "  \"/>\n",
       "<polyline clip-path=\"url(#clip862)\" style=\"stroke:#000000; stroke-linecap:butt; stroke-linejoin:round; stroke-width:2; stroke-opacity:0.1; fill:none\" points=\"\n",
       "  1742.86,1486.45 1742.86,123.472 \n",
       "  \"/>\n",
       "<polyline clip-path=\"url(#clip862)\" style=\"stroke:#000000; stroke-linecap:butt; stroke-linejoin:round; stroke-width:2; stroke-opacity:0.1; fill:none\" points=\"\n",
       "  2290.34,1486.45 2290.34,123.472 \n",
       "  \"/>\n",
       "<polyline clip-path=\"url(#clip860)\" style=\"stroke:#000000; stroke-linecap:butt; stroke-linejoin:round; stroke-width:4; stroke-opacity:1; fill:none\" points=\"\n",
       "  147.478,1486.45 2352.76,1486.45 \n",
       "  \"/>\n",
       "<polyline clip-path=\"url(#clip860)\" style=\"stroke:#000000; stroke-linecap:butt; stroke-linejoin:round; stroke-width:4; stroke-opacity:1; fill:none\" points=\"\n",
       "  647.881,1486.45 647.881,1467.55 \n",
       "  \"/>\n",
       "<polyline clip-path=\"url(#clip860)\" style=\"stroke:#000000; stroke-linecap:butt; stroke-linejoin:round; stroke-width:4; stroke-opacity:1; fill:none\" points=\"\n",
       "  1195.37,1486.45 1195.37,1467.55 \n",
       "  \"/>\n",
       "<polyline clip-path=\"url(#clip860)\" style=\"stroke:#000000; stroke-linecap:butt; stroke-linejoin:round; stroke-width:4; stroke-opacity:1; fill:none\" points=\"\n",
       "  1742.86,1486.45 1742.86,1467.55 \n",
       "  \"/>\n",
       "<polyline clip-path=\"url(#clip860)\" style=\"stroke:#000000; stroke-linecap:butt; stroke-linejoin:round; stroke-width:4; stroke-opacity:1; fill:none\" points=\"\n",
       "  2290.34,1486.45 2290.34,1467.55 \n",
       "  \"/>\n",
       "<path clip-path=\"url(#clip860)\" d=\"M638.159 1514.29 L656.515 1514.29 L656.515 1518.22 L642.441 1518.22 L642.441 1526.7 Q643.46 1526.35 644.478 1526.19 Q645.497 1526 646.515 1526 Q652.302 1526 655.682 1529.17 Q659.062 1532.34 659.062 1537.76 Q659.062 1543.34 655.589 1546.44 Q652.117 1549.52 645.798 1549.52 Q643.622 1549.52 641.353 1549.15 Q639.108 1548.78 636.701 1548.04 L636.701 1543.34 Q638.784 1544.47 641.006 1545.03 Q643.228 1545.58 645.705 1545.58 Q649.71 1545.58 652.048 1543.48 Q654.386 1541.37 654.386 1537.76 Q654.386 1534.15 652.048 1532.04 Q649.71 1529.94 645.705 1529.94 Q643.83 1529.94 641.955 1530.35 Q640.103 1530.77 638.159 1531.65 L638.159 1514.29 Z\" fill=\"#000000\" fill-rule=\"evenodd\" fill-opacity=\"1\" /><path clip-path=\"url(#clip860)\" d=\"M1170.06 1544.91 L1177.69 1544.91 L1177.69 1518.55 L1169.38 1520.21 L1169.38 1515.95 L1177.65 1514.29 L1182.32 1514.29 L1182.32 1544.91 L1189.96 1544.91 L1189.96 1548.85 L1170.06 1548.85 L1170.06 1544.91 Z\" fill=\"#000000\" fill-rule=\"evenodd\" fill-opacity=\"1\" /><path clip-path=\"url(#clip860)\" d=\"M1209.41 1517.37 Q1205.8 1517.37 1203.97 1520.93 Q1202.16 1524.47 1202.16 1531.6 Q1202.16 1538.71 1203.97 1542.27 Q1205.8 1545.82 1209.41 1545.82 Q1213.04 1545.82 1214.85 1542.27 Q1216.68 1538.71 1216.68 1531.6 Q1216.68 1524.47 1214.85 1520.93 Q1213.04 1517.37 1209.41 1517.37 M1209.41 1513.66 Q1215.22 1513.66 1218.27 1518.27 Q1221.35 1522.85 1221.35 1531.6 Q1221.35 1540.33 1218.27 1544.94 Q1215.22 1549.52 1209.41 1549.52 Q1203.6 1549.52 1200.52 1544.94 Q1197.46 1540.33 1197.46 1531.6 Q1197.46 1522.85 1200.52 1518.27 Q1203.6 1513.66 1209.41 1513.66 Z\" fill=\"#000000\" fill-rule=\"evenodd\" fill-opacity=\"1\" /><path clip-path=\"url(#clip860)\" d=\"M1718.04 1544.91 L1725.68 1544.91 L1725.68 1518.55 L1717.37 1520.21 L1717.37 1515.95 L1725.63 1514.29 L1730.31 1514.29 L1730.31 1544.91 L1737.95 1544.91 L1737.95 1548.85 L1718.04 1548.85 L1718.04 1544.91 Z\" fill=\"#000000\" fill-rule=\"evenodd\" fill-opacity=\"1\" /><path clip-path=\"url(#clip860)\" d=\"M1747.44 1514.29 L1765.79 1514.29 L1765.79 1518.22 L1751.72 1518.22 L1751.72 1526.7 Q1752.74 1526.35 1753.76 1526.19 Q1754.78 1526 1755.8 1526 Q1761.58 1526 1764.96 1529.17 Q1768.34 1532.34 1768.34 1537.76 Q1768.34 1543.34 1764.87 1546.44 Q1761.4 1549.52 1755.08 1549.52 Q1752.9 1549.52 1750.63 1549.15 Q1748.39 1548.78 1745.98 1548.04 L1745.98 1543.34 Q1748.06 1544.47 1750.29 1545.03 Q1752.51 1545.58 1754.98 1545.58 Q1758.99 1545.58 1761.33 1543.48 Q1763.67 1541.37 1763.67 1537.76 Q1763.67 1534.15 1761.33 1532.04 Q1758.99 1529.94 1754.98 1529.94 Q1753.11 1529.94 1751.23 1530.35 Q1749.38 1530.77 1747.44 1531.65 L1747.44 1514.29 Z\" fill=\"#000000\" fill-rule=\"evenodd\" fill-opacity=\"1\" /><path clip-path=\"url(#clip860)\" d=\"M2269.12 1544.91 L2285.43 1544.91 L2285.43 1548.85 L2263.49 1548.85 L2263.49 1544.91 Q2266.15 1542.16 2270.74 1537.53 Q2275.34 1532.88 2276.52 1531.53 Q2278.77 1529.01 2279.65 1527.27 Q2280.55 1525.51 2280.55 1523.82 Q2280.55 1521.07 2278.61 1519.33 Q2276.69 1517.6 2273.58 1517.6 Q2271.38 1517.6 2268.93 1518.36 Q2266.5 1519.13 2263.72 1520.68 L2263.72 1515.95 Q2266.55 1514.82 2269 1514.24 Q2271.45 1513.66 2273.49 1513.66 Q2278.86 1513.66 2282.06 1516.35 Q2285.25 1519.03 2285.25 1523.52 Q2285.25 1525.65 2284.44 1527.57 Q2283.65 1529.47 2281.55 1532.07 Q2280.97 1532.74 2277.87 1535.95 Q2274.76 1539.15 2269.12 1544.91 Z\" fill=\"#000000\" fill-rule=\"evenodd\" fill-opacity=\"1\" /><path clip-path=\"url(#clip860)\" d=\"M2305.25 1517.37 Q2301.64 1517.37 2299.81 1520.93 Q2298 1524.47 2298 1531.6 Q2298 1538.71 2299.81 1542.27 Q2301.64 1545.82 2305.25 1545.82 Q2308.88 1545.82 2310.69 1542.27 Q2312.52 1538.71 2312.52 1531.6 Q2312.52 1524.47 2310.69 1520.93 Q2308.88 1517.37 2305.25 1517.37 M2305.25 1513.66 Q2311.06 1513.66 2314.12 1518.27 Q2317.19 1522.85 2317.19 1531.6 Q2317.19 1540.33 2314.12 1544.94 Q2311.06 1549.52 2305.25 1549.52 Q2299.44 1549.52 2296.36 1544.94 Q2293.31 1540.33 2293.31 1531.6 Q2293.31 1522.85 2296.36 1518.27 Q2299.44 1513.66 2305.25 1513.66 Z\" fill=\"#000000\" fill-rule=\"evenodd\" fill-opacity=\"1\" /><polyline clip-path=\"url(#clip862)\" style=\"stroke:#000000; stroke-linecap:butt; stroke-linejoin:round; stroke-width:2; stroke-opacity:0.1; fill:none\" points=\"\n",
       "  147.478,1300.56 2352.76,1300.56 \n",
       "  \"/>\n",
       "<polyline clip-path=\"url(#clip862)\" style=\"stroke:#000000; stroke-linecap:butt; stroke-linejoin:round; stroke-width:2; stroke-opacity:0.1; fill:none\" points=\"\n",
       "  147.478,973.565 2352.76,973.565 \n",
       "  \"/>\n",
       "<polyline clip-path=\"url(#clip862)\" style=\"stroke:#000000; stroke-linecap:butt; stroke-linejoin:round; stroke-width:2; stroke-opacity:0.1; fill:none\" points=\"\n",
       "  147.478,646.57 2352.76,646.57 \n",
       "  \"/>\n",
       "<polyline clip-path=\"url(#clip862)\" style=\"stroke:#000000; stroke-linecap:butt; stroke-linejoin:round; stroke-width:2; stroke-opacity:0.1; fill:none\" points=\"\n",
       "  147.478,319.574 2352.76,319.574 \n",
       "  \"/>\n",
       "<polyline clip-path=\"url(#clip860)\" style=\"stroke:#000000; stroke-linecap:butt; stroke-linejoin:round; stroke-width:4; stroke-opacity:1; fill:none\" points=\"\n",
       "  147.478,1486.45 147.478,123.472 \n",
       "  \"/>\n",
       "<polyline clip-path=\"url(#clip860)\" style=\"stroke:#000000; stroke-linecap:butt; stroke-linejoin:round; stroke-width:4; stroke-opacity:1; fill:none\" points=\"\n",
       "  147.478,1300.56 166.376,1300.56 \n",
       "  \"/>\n",
       "<polyline clip-path=\"url(#clip860)\" style=\"stroke:#000000; stroke-linecap:butt; stroke-linejoin:round; stroke-width:4; stroke-opacity:1; fill:none\" points=\"\n",
       "  147.478,973.565 166.376,973.565 \n",
       "  \"/>\n",
       "<polyline clip-path=\"url(#clip860)\" style=\"stroke:#000000; stroke-linecap:butt; stroke-linejoin:round; stroke-width:4; stroke-opacity:1; fill:none\" points=\"\n",
       "  147.478,646.57 166.376,646.57 \n",
       "  \"/>\n",
       "<polyline clip-path=\"url(#clip860)\" style=\"stroke:#000000; stroke-linecap:butt; stroke-linejoin:round; stroke-width:4; stroke-opacity:1; fill:none\" points=\"\n",
       "  147.478,319.574 166.376,319.574 \n",
       "  \"/>\n",
       "<path clip-path=\"url(#clip860)\" d=\"M51.3625 1301.01 L81.0383 1301.01 L81.0383 1304.95 L51.3625 1304.95 L51.3625 1301.01 Z\" fill=\"#000000\" fill-rule=\"evenodd\" fill-opacity=\"1\" /><path clip-path=\"url(#clip860)\" d=\"M95.1586 1313.91 L111.478 1313.91 L111.478 1317.84 L89.5336 1317.84 L89.5336 1313.91 Q92.1956 1311.15 96.7789 1306.52 Q101.385 1301.87 102.566 1300.53 Q104.811 1298 105.691 1296.27 Q106.594 1294.51 106.594 1292.82 Q106.594 1290.06 104.649 1288.33 Q102.728 1286.59 99.6261 1286.59 Q97.4271 1286.59 94.9734 1287.36 Q92.5428 1288.12 89.7651 1289.67 L89.7651 1284.95 Q92.5891 1283.81 95.0428 1283.23 Q97.4965 1282.66 99.5335 1282.66 Q104.904 1282.66 108.098 1285.34 Q111.293 1288.03 111.293 1292.52 Q111.293 1294.65 110.483 1296.57 Q109.696 1298.47 107.589 1301.06 Q107.01 1301.73 103.909 1304.95 Q100.807 1308.14 95.1586 1313.91 Z\" fill=\"#000000\" fill-rule=\"evenodd\" fill-opacity=\"1\" /><path clip-path=\"url(#clip860)\" d=\"M50.9921 974.017 L80.6679 974.017 L80.6679 977.952 L50.9921 977.952 L50.9921 974.017 Z\" fill=\"#000000\" fill-rule=\"evenodd\" fill-opacity=\"1\" /><path clip-path=\"url(#clip860)\" d=\"M91.5706 986.91 L99.2095 986.91 L99.2095 960.545 L90.8993 962.211 L90.8993 957.952 L99.1632 956.285 L103.839 956.285 L103.839 986.91 L111.478 986.91 L111.478 990.845 L91.5706 990.845 L91.5706 986.91 Z\" fill=\"#000000\" fill-rule=\"evenodd\" fill-opacity=\"1\" /><path clip-path=\"url(#clip860)\" d=\"M99.5335 632.368 Q95.9224 632.368 94.0937 635.933 Q92.2882 639.475 92.2882 646.604 Q92.2882 653.711 94.0937 657.276 Q95.9224 660.817 99.5335 660.817 Q103.168 660.817 104.973 657.276 Q106.802 653.711 106.802 646.604 Q106.802 639.475 104.973 635.933 Q103.168 632.368 99.5335 632.368 M99.5335 628.665 Q105.344 628.665 108.399 633.271 Q111.478 637.854 111.478 646.604 Q111.478 655.331 108.399 659.938 Q105.344 664.521 99.5335 664.521 Q93.7234 664.521 90.6447 659.938 Q87.5892 655.331 87.5892 646.604 Q87.5892 637.854 90.6447 633.271 Q93.7234 628.665 99.5335 628.665 Z\" fill=\"#000000\" fill-rule=\"evenodd\" fill-opacity=\"1\" /><path clip-path=\"url(#clip860)\" d=\"M91.5706 332.919 L99.2095 332.919 L99.2095 306.553 L90.8993 308.22 L90.8993 303.96 L99.1632 302.294 L103.839 302.294 L103.839 332.919 L111.478 332.919 L111.478 336.854 L91.5706 336.854 L91.5706 332.919 Z\" fill=\"#000000\" fill-rule=\"evenodd\" fill-opacity=\"1\" /><path clip-path=\"url(#clip860)\" d=\"M497.884 14.0809 L497.884 22.0612 Q493.226 19.8332 489.094 18.7395 Q484.962 17.6457 481.114 17.6457 Q474.43 17.6457 470.784 20.2383 Q467.178 22.8309 467.178 27.611 Q467.178 31.6214 469.568 33.6873 Q471.999 35.7128 478.723 36.9686 L483.666 37.9813 Q492.821 39.7232 497.155 44.1387 Q501.53 48.5136 501.53 55.8863 Q501.53 64.6767 495.616 69.2137 Q489.742 73.7508 478.359 73.7508 Q474.065 73.7508 469.204 72.7785 Q464.383 71.8063 459.198 69.9024 L459.198 61.4765 Q464.181 64.2716 468.961 65.6895 Q473.741 67.1073 478.359 67.1073 Q485.367 67.1073 489.175 64.3527 Q492.983 61.598 492.983 56.4939 Q492.983 52.0379 490.228 49.5264 Q487.514 47.0148 481.276 45.759 L476.293 44.7868 Q467.138 42.9639 463.046 39.075 Q458.955 35.1862 458.955 28.2591 Q458.955 20.2383 464.586 15.6203 Q470.257 11.0023 480.182 11.0023 Q484.435 11.0023 488.851 11.7719 Q493.266 12.5416 497.884 14.0809 Z\" fill=\"#000000\" fill-rule=\"evenodd\" fill-opacity=\"1\" /><path clip-path=\"url(#clip860)\" d=\"M552.774 48.0275 L552.774 51.6733 L518.503 51.6733 Q518.989 59.3701 523.121 63.421 Q527.294 67.4314 534.707 67.4314 Q539.001 67.4314 543.011 66.3781 Q547.062 65.3249 551.032 63.2184 L551.032 70.267 Q547.022 71.9684 542.809 72.8596 Q538.596 73.7508 534.261 73.7508 Q523.405 73.7508 517.045 67.4314 Q510.726 61.1119 510.726 50.3365 Q510.726 39.1965 516.721 32.6746 Q522.757 26.1121 532.965 26.1121 Q542.12 26.1121 547.427 32.0264 Q552.774 37.9003 552.774 48.0275 M545.32 45.84 Q545.239 39.7232 541.877 36.0774 Q538.555 32.4315 533.046 32.4315 Q526.808 32.4315 523.04 35.9558 Q519.314 39.4801 518.746 45.8805 L545.32 45.84 Z\" fill=\"#000000\" fill-rule=\"evenodd\" fill-opacity=\"1\" /><path clip-path=\"url(#clip860)\" d=\"M597.658 28.9478 L597.658 35.9153 Q594.498 34.1734 591.298 33.3227 Q588.138 32.4315 584.898 32.4315 Q577.647 32.4315 573.636 37.0496 Q569.626 41.6271 569.626 49.9314 Q569.626 58.2358 573.636 62.8538 Q577.647 67.4314 584.898 67.4314 Q588.138 67.4314 591.298 66.5807 Q594.498 65.6895 597.658 63.9476 L597.658 70.8341 Q594.539 72.2924 591.177 73.0216 Q587.855 73.7508 584.087 73.7508 Q573.839 73.7508 567.803 67.3098 Q561.767 60.8689 561.767 49.9314 Q561.767 38.832 567.843 32.472 Q573.96 26.1121 584.574 26.1121 Q588.017 26.1121 591.298 26.8413 Q594.579 27.5299 597.658 28.9478 Z\" fill=\"#000000\" fill-rule=\"evenodd\" fill-opacity=\"1\" /><path clip-path=\"url(#clip860)\" d=\"M628.202 32.4315 Q622.207 32.4315 618.723 37.1306 Q615.239 41.7891 615.239 49.9314 Q615.239 58.0738 618.682 62.7728 Q622.166 67.4314 628.202 67.4314 Q634.157 67.4314 637.64 62.7323 Q641.124 58.0333 641.124 49.9314 Q641.124 41.8701 637.64 37.1711 Q634.157 32.4315 628.202 32.4315 M628.202 26.1121 Q637.924 26.1121 643.474 32.4315 Q649.023 38.7509 649.023 49.9314 Q649.023 61.0714 643.474 67.4314 Q637.924 73.7508 628.202 73.7508 Q618.439 73.7508 612.889 67.4314 Q607.38 61.0714 607.38 49.9314 Q607.38 38.7509 612.889 32.4315 Q618.439 26.1121 628.202 26.1121 Z\" fill=\"#000000\" fill-rule=\"evenodd\" fill-opacity=\"1\" /><path clip-path=\"url(#clip860)\" d=\"M699.093 45.1919 L699.093 72.576 L691.639 72.576 L691.639 45.4349 Q691.639 38.994 689.127 35.7938 Q686.616 32.5936 681.593 32.5936 Q675.557 32.5936 672.073 36.4419 Q668.589 40.2903 668.589 46.9338 L668.589 72.576 L661.095 72.576 L661.095 27.2059 L668.589 27.2059 L668.589 34.2544 Q671.263 30.163 674.868 28.1376 Q678.514 26.1121 683.254 26.1121 Q691.072 26.1121 695.082 30.9732 Q699.093 35.7938 699.093 45.1919 Z\" fill=\"#000000\" fill-rule=\"evenodd\" fill-opacity=\"1\" /><path clip-path=\"url(#clip860)\" d=\"M743.815 34.0924 L743.815 9.54393 L751.268 9.54393 L751.268 72.576 L743.815 72.576 L743.815 65.7705 Q741.465 69.8214 737.86 71.8063 Q734.295 73.7508 729.272 73.7508 Q721.049 73.7508 715.863 67.1883 Q710.719 60.6258 710.719 49.9314 Q710.719 39.2371 715.863 32.6746 Q721.049 26.1121 729.272 26.1121 Q734.295 26.1121 737.86 28.0971 Q741.465 30.0415 743.815 34.0924 M718.415 49.9314 Q718.415 58.1548 721.778 62.8538 Q725.18 67.5124 731.095 67.5124 Q737.009 67.5124 740.412 62.8538 Q743.815 58.1548 743.815 49.9314 Q743.815 41.7081 740.412 37.0496 Q737.009 32.3505 731.095 32.3505 Q725.18 32.3505 721.778 37.0496 Q718.415 41.7081 718.415 49.9314 Z\" fill=\"#000000\" fill-rule=\"evenodd\" fill-opacity=\"1\" /><path clip-path=\"url(#clip860)\" d=\"M762.854 46.5287 L784.688 46.5287 L784.688 53.1722 L762.854 53.1722 L762.854 46.5287 Z\" fill=\"#000000\" fill-rule=\"evenodd\" fill-opacity=\"1\" /><path clip-path=\"url(#clip860)\" d=\"M823.739 17.6457 Q814.827 17.6457 809.561 24.2892 Q804.335 30.9327 804.335 42.3968 Q804.335 53.8203 809.561 60.4638 Q814.827 67.1073 823.739 67.1073 Q832.651 67.1073 837.836 60.4638 Q843.062 53.8203 843.062 42.3968 Q843.062 30.9327 837.836 24.2892 Q832.651 17.6457 823.739 17.6457 M823.739 11.0023 Q836.459 11.0023 844.075 19.5497 Q851.69 28.0566 851.69 42.3968 Q851.69 56.6965 844.075 65.2439 Q836.459 73.7508 823.739 73.7508 Q810.979 73.7508 803.322 65.2439 Q795.707 56.737 795.707 42.3968 Q795.707 28.0566 803.322 19.5497 Q810.979 11.0023 823.739 11.0023 Z\" fill=\"#000000\" fill-rule=\"evenodd\" fill-opacity=\"1\" /><path clip-path=\"url(#clip860)\" d=\"M890.457 34.1734 Q889.202 33.4443 887.703 33.1202 Q886.244 32.7556 884.462 32.7556 Q878.143 32.7556 874.74 36.8875 Q871.378 40.9789 871.378 48.6757 L871.378 72.576 L863.883 72.576 L863.883 27.2059 L871.378 27.2059 L871.378 34.2544 Q873.727 30.1225 877.494 28.1376 Q881.262 26.1121 886.65 26.1121 Q887.419 26.1121 888.351 26.2337 Q889.283 26.3147 890.417 26.5172 L890.457 34.1734 Z\" fill=\"#000000\" fill-rule=\"evenodd\" fill-opacity=\"1\" /><path clip-path=\"url(#clip860)\" d=\"M926.672 34.0924 L926.672 9.54393 L934.126 9.54393 L934.126 72.576 L926.672 72.576 L926.672 65.7705 Q924.323 69.8214 920.718 71.8063 Q917.153 73.7508 912.13 73.7508 Q903.906 73.7508 898.721 67.1883 Q893.577 60.6258 893.577 49.9314 Q893.577 39.2371 898.721 32.6746 Q903.906 26.1121 912.13 26.1121 Q917.153 26.1121 920.718 28.0971 Q924.323 30.0415 926.672 34.0924 M901.273 49.9314 Q901.273 58.1548 904.636 62.8538 Q908.038 67.5124 913.953 67.5124 Q919.867 67.5124 923.27 62.8538 Q926.672 58.1548 926.672 49.9314 Q926.672 41.7081 923.27 37.0496 Q919.867 32.3505 913.953 32.3505 Q908.038 32.3505 904.636 37.0496 Q901.273 41.7081 901.273 49.9314 Z\" fill=\"#000000\" fill-rule=\"evenodd\" fill-opacity=\"1\" /><path clip-path=\"url(#clip860)\" d=\"M988.287 48.0275 L988.287 51.6733 L954.016 51.6733 Q954.502 59.3701 958.634 63.421 Q962.807 67.4314 970.22 67.4314 Q974.514 67.4314 978.524 66.3781 Q982.575 65.3249 986.545 63.2184 L986.545 70.267 Q982.534 71.9684 978.321 72.8596 Q974.109 73.7508 969.774 73.7508 Q958.918 73.7508 952.558 67.4314 Q946.238 61.1119 946.238 50.3365 Q946.238 39.1965 952.234 32.6746 Q958.27 26.1121 968.478 26.1121 Q977.633 26.1121 982.94 32.0264 Q988.287 37.9003 988.287 48.0275 M980.833 45.84 Q980.752 39.7232 977.39 36.0774 Q974.068 32.4315 968.559 32.4315 Q962.32 32.4315 958.553 35.9558 Q954.826 39.4801 954.259 45.8805 L980.833 45.84 Z\" fill=\"#000000\" fill-rule=\"evenodd\" fill-opacity=\"1\" /><path clip-path=\"url(#clip860)\" d=\"M1026.81 34.1734 Q1025.56 33.4443 1024.06 33.1202 Q1022.6 32.7556 1020.82 32.7556 Q1014.5 32.7556 1011.09 36.8875 Q1007.73 40.9789 1007.73 48.6757 L1007.73 72.576 L1000.24 72.576 L1000.24 27.2059 L1007.73 27.2059 L1007.73 34.2544 Q1010.08 30.1225 1013.85 28.1376 Q1017.62 26.1121 1023 26.1121 Q1023.77 26.1121 1024.7 26.2337 Q1025.64 26.3147 1026.77 26.5172 L1026.81 34.1734 Z\" fill=\"#000000\" fill-rule=\"evenodd\" fill-opacity=\"1\" /><path clip-path=\"url(#clip860)\" d=\"M1061.32 12.096 L1069.51 12.096 L1069.51 68.3631 Q1069.51 79.3005 1065.33 84.2426 Q1061.2 89.1847 1052.01 89.1847 L1048.89 89.1847 L1048.89 82.2982 L1051.44 82.2982 Q1056.87 82.2982 1059.1 79.26 Q1061.32 76.2218 1061.32 68.3631 L1061.32 12.096 Z\" fill=\"#000000\" fill-rule=\"evenodd\" fill-opacity=\"1\" /><path clip-path=\"url(#clip860)\" d=\"M1103.05 32.4315 Q1097.05 32.4315 1093.57 37.1306 Q1090.09 41.7891 1090.09 49.9314 Q1090.09 58.0738 1093.53 62.7728 Q1097.01 67.4314 1103.05 67.4314 Q1109 67.4314 1112.49 62.7323 Q1115.97 58.0333 1115.97 49.9314 Q1115.97 41.8701 1112.49 37.1711 Q1109 32.4315 1103.05 32.4315 M1103.05 26.1121 Q1112.77 26.1121 1118.32 32.4315 Q1123.87 38.7509 1123.87 49.9314 Q1123.87 61.0714 1118.32 67.4314 Q1112.77 73.7508 1103.05 73.7508 Q1093.29 73.7508 1087.74 67.4314 Q1082.23 61.0714 1082.23 49.9314 Q1082.23 38.7509 1087.74 32.4315 Q1093.29 26.1121 1103.05 26.1121 Z\" fill=\"#000000\" fill-rule=\"evenodd\" fill-opacity=\"1\" /><path clip-path=\"url(#clip860)\" d=\"M1136.23 27.2059 L1143.68 27.2059 L1143.68 72.576 L1136.23 72.576 L1136.23 27.2059 M1136.23 9.54393 L1143.68 9.54393 L1143.68 18.9825 L1136.23 18.9825 L1136.23 9.54393 Z\" fill=\"#000000\" fill-rule=\"evenodd\" fill-opacity=\"1\" /><path clip-path=\"url(#clip860)\" d=\"M1196.99 45.1919 L1196.99 72.576 L1189.54 72.576 L1189.54 45.4349 Q1189.54 38.994 1187.02 35.7938 Q1184.51 32.5936 1179.49 32.5936 Q1173.45 32.5936 1169.97 36.4419 Q1166.49 40.2903 1166.49 46.9338 L1166.49 72.576 L1158.99 72.576 L1158.99 27.2059 L1166.49 27.2059 L1166.49 34.2544 Q1169.16 30.163 1172.76 28.1376 Q1176.41 26.1121 1181.15 26.1121 Q1188.97 26.1121 1192.98 30.9732 Q1196.99 35.7938 1196.99 45.1919 Z\" fill=\"#000000\" fill-rule=\"evenodd\" fill-opacity=\"1\" /><path clip-path=\"url(#clip860)\" d=\"M1219.23 14.324 L1219.23 27.2059 L1234.58 27.2059 L1234.58 32.9987 L1219.23 32.9987 L1219.23 57.6282 Q1219.23 63.1779 1220.73 64.7578 Q1222.27 66.3376 1226.93 66.3376 L1234.58 66.3376 L1234.58 72.576 L1226.93 72.576 Q1218.3 72.576 1215.02 69.3758 Q1211.73 66.1351 1211.73 57.6282 L1211.73 32.9987 L1206.27 32.9987 L1206.27 27.2059 L1211.73 27.2059 L1211.73 14.324 L1219.23 14.324 Z\" fill=\"#000000\" fill-rule=\"evenodd\" fill-opacity=\"1\" /><path clip-path=\"url(#clip860)\" d=\"M1246.29 62.2867 L1254.84 62.2867 L1254.84 72.576 L1246.29 72.576 L1246.29 62.2867 M1246.29 29.6769 L1254.84 29.6769 L1254.84 39.9662 L1246.29 39.9662 L1246.29 29.6769 Z\" fill=\"#000000\" fill-rule=\"evenodd\" fill-opacity=\"1\" /><path clip-path=\"url(#clip860)\" d=\"M1299.03 12.096 L1337.27 12.096 L1337.27 18.9825 L1307.21 18.9825 L1307.21 36.8875 L1336.02 36.8875 L1336.02 43.7741 L1307.21 43.7741 L1307.21 65.6895 L1338 65.6895 L1338 72.576 L1299.03 72.576 L1299.03 12.096 Z\" fill=\"#000000\" fill-rule=\"evenodd\" fill-opacity=\"1\" /><path clip-path=\"url(#clip860)\" d=\"M1380.05 28.5427 L1380.05 35.5912 Q1376.89 33.9709 1373.49 33.1607 Q1370.08 32.3505 1366.44 32.3505 Q1360.89 32.3505 1358.09 34.0519 Q1355.34 35.7533 1355.34 39.156 Q1355.34 41.7486 1357.32 43.2475 Q1359.31 44.7058 1365.3 46.0426 L1367.86 46.6097 Q1375.8 48.3111 1379.12 51.4303 Q1382.48 54.509 1382.48 60.0587 Q1382.48 66.3781 1377.46 70.0644 Q1372.47 73.7508 1363.72 73.7508 Q1360.08 73.7508 1356.11 73.0216 Q1352.18 72.3329 1347.8 70.9151 L1347.8 63.2184 Q1351.94 65.3654 1355.95 66.4591 Q1359.96 67.5124 1363.89 67.5124 Q1369.15 67.5124 1371.99 65.73 Q1374.82 63.9071 1374.82 60.6258 Q1374.82 57.5877 1372.76 55.9673 Q1370.73 54.3469 1363.81 52.8481 L1361.21 52.2405 Q1354.29 50.7821 1351.21 47.7845 Q1348.13 44.7463 1348.13 39.4801 Q1348.13 33.0797 1352.67 29.5959 Q1357.2 26.1121 1365.55 26.1121 Q1369.68 26.1121 1373.33 26.7198 Q1376.97 27.3274 1380.05 28.5427 Z\" fill=\"#000000\" fill-rule=\"evenodd\" fill-opacity=\"1\" /><path clip-path=\"url(#clip860)\" d=\"M1401.72 14.324 L1401.72 27.2059 L1417.07 27.2059 L1417.07 32.9987 L1401.72 32.9987 L1401.72 57.6282 Q1401.72 63.1779 1403.22 64.7578 Q1404.76 66.3376 1409.42 66.3376 L1417.07 66.3376 L1417.07 72.576 L1409.42 72.576 Q1400.79 72.576 1397.51 69.3758 Q1394.23 66.1351 1394.23 57.6282 L1394.23 32.9987 L1388.76 32.9987 L1388.76 27.2059 L1394.23 27.2059 L1394.23 14.324 L1401.72 14.324 Z\" fill=\"#000000\" fill-rule=\"evenodd\" fill-opacity=\"1\" /><path clip-path=\"url(#clip860)\" d=\"M1426.88 27.2059 L1434.33 27.2059 L1434.33 72.576 L1426.88 72.576 L1426.88 27.2059 M1426.88 9.54393 L1434.33 9.54393 L1434.33 18.9825 L1426.88 18.9825 L1426.88 9.54393 Z\" fill=\"#000000\" fill-rule=\"evenodd\" fill-opacity=\"1\" /><path clip-path=\"url(#clip860)\" d=\"M1485.25 35.9153 Q1488.05 30.8922 1491.94 28.5022 Q1495.82 26.1121 1501.09 26.1121 Q1508.18 26.1121 1512.03 31.0947 Q1515.88 36.0368 1515.88 45.1919 L1515.88 72.576 L1508.38 72.576 L1508.38 45.4349 Q1508.38 38.913 1506.07 35.7533 Q1503.76 32.5936 1499.02 32.5936 Q1493.23 32.5936 1489.87 36.4419 Q1486.51 40.2903 1486.51 46.9338 L1486.51 72.576 L1479.01 72.576 L1479.01 45.4349 Q1479.01 38.8725 1476.7 35.7533 Q1474.4 32.5936 1469.57 32.5936 Q1463.86 32.5936 1460.5 36.4824 Q1457.14 40.3308 1457.14 46.9338 L1457.14 72.576 L1449.64 72.576 L1449.64 27.2059 L1457.14 27.2059 L1457.14 34.2544 Q1459.69 30.082 1463.26 28.0971 Q1466.82 26.1121 1471.72 26.1121 Q1476.66 26.1121 1480.11 28.6237 Q1483.59 31.1352 1485.25 35.9153 Z\" fill=\"#000000\" fill-rule=\"evenodd\" fill-opacity=\"1\" /><path clip-path=\"url(#clip860)\" d=\"M1551.36 49.7694 Q1542.33 49.7694 1538.85 51.8354 Q1535.36 53.9013 1535.36 58.8839 Q1535.36 62.8538 1537.95 65.2034 Q1540.59 67.5124 1545.08 67.5124 Q1551.28 67.5124 1555.01 63.1374 Q1558.78 58.7219 1558.78 51.4303 L1558.78 49.7694 L1551.36 49.7694 M1566.23 46.6907 L1566.23 72.576 L1558.78 72.576 L1558.78 65.6895 Q1556.22 69.8214 1552.42 71.8063 Q1548.61 73.7508 1543.1 73.7508 Q1536.13 73.7508 1532 69.8619 Q1527.91 65.9325 1527.91 59.3701 Q1527.91 51.7138 1533.01 47.825 Q1538.16 43.9361 1548.32 43.9361 L1558.78 43.9361 L1558.78 43.2069 Q1558.78 38.0623 1555.37 35.2672 Q1552.01 32.4315 1545.89 32.4315 Q1542 32.4315 1538.32 33.3632 Q1534.63 34.295 1531.23 36.1584 L1531.23 29.2718 Q1535.32 27.692 1539.17 26.9223 Q1543.02 26.1121 1546.66 26.1121 Q1556.51 26.1121 1561.37 31.2163 Q1566.23 36.3204 1566.23 46.6907 Z\" fill=\"#000000\" fill-rule=\"evenodd\" fill-opacity=\"1\" /><path clip-path=\"url(#clip860)\" d=\"M1588.95 14.324 L1588.95 27.2059 L1604.31 27.2059 L1604.31 32.9987 L1588.95 32.9987 L1588.95 57.6282 Q1588.95 63.1779 1590.45 64.7578 Q1591.99 66.3376 1596.65 66.3376 L1604.31 66.3376 L1604.31 72.576 L1596.65 72.576 Q1588.02 72.576 1584.74 69.3758 Q1581.46 66.1351 1581.46 57.6282 L1581.46 32.9987 L1575.99 32.9987 L1575.99 27.2059 L1581.46 27.2059 L1581.46 14.324 L1588.95 14.324 Z\" fill=\"#000000\" fill-rule=\"evenodd\" fill-opacity=\"1\" /><path clip-path=\"url(#clip860)\" d=\"M1652.92 48.0275 L1652.92 51.6733 L1618.65 51.6733 Q1619.13 59.3701 1623.27 63.421 Q1627.44 67.4314 1634.85 67.4314 Q1639.15 67.4314 1643.16 66.3781 Q1647.21 65.3249 1651.18 63.2184 L1651.18 70.267 Q1647.17 71.9684 1642.95 72.8596 Q1638.74 73.7508 1634.41 73.7508 Q1623.55 73.7508 1617.19 67.4314 Q1610.87 61.1119 1610.87 50.3365 Q1610.87 39.1965 1616.87 32.6746 Q1622.9 26.1121 1633.11 26.1121 Q1642.26 26.1121 1647.57 32.0264 Q1652.92 37.9003 1652.92 48.0275 M1645.46 45.84 Q1645.38 39.7232 1642.02 36.0774 Q1638.7 32.4315 1633.19 32.4315 Q1626.95 32.4315 1623.18 35.9558 Q1619.46 39.4801 1618.89 45.8805 L1645.46 45.84 Z\" fill=\"#000000\" fill-rule=\"evenodd\" fill-opacity=\"1\" /><path clip-path=\"url(#clip860)\" d=\"M1695.01 34.0924 L1695.01 9.54393 L1702.46 9.54393 L1702.46 72.576 L1695.01 72.576 L1695.01 65.7705 Q1692.66 69.8214 1689.05 71.8063 Q1685.49 73.7508 1680.46 73.7508 Q1672.24 73.7508 1667.06 67.1883 Q1661.91 60.6258 1661.91 49.9314 Q1661.91 39.2371 1667.06 32.6746 Q1672.24 26.1121 1680.46 26.1121 Q1685.49 26.1121 1689.05 28.0971 Q1692.66 30.0415 1695.01 34.0924 M1669.61 49.9314 Q1669.61 58.1548 1672.97 62.8538 Q1676.37 67.5124 1682.29 67.5124 Q1688.2 67.5124 1691.6 62.8538 Q1695.01 58.1548 1695.01 49.9314 Q1695.01 41.7081 1691.6 37.0496 Q1688.2 32.3505 1682.29 32.3505 Q1676.37 32.3505 1672.97 37.0496 Q1669.61 41.7081 1669.61 49.9314 Z\" fill=\"#000000\" fill-rule=\"evenodd\" fill-opacity=\"1\" /><path clip-path=\"url(#clip860)\" d=\"M1744.51 12.096 L1752.69 12.096 L1752.69 65.6895 L1782.14 65.6895 L1782.14 72.576 L1744.51 72.576 L1744.51 12.096 Z\" fill=\"#000000\" fill-rule=\"evenodd\" fill-opacity=\"1\" /><path clip-path=\"url(#clip860)\" d=\"M1811.03 49.7694 Q1801.99 49.7694 1798.51 51.8354 Q1795.02 53.9013 1795.02 58.8839 Q1795.02 62.8538 1797.62 65.2034 Q1800.25 67.5124 1804.75 67.5124 Q1810.94 67.5124 1814.67 63.1374 Q1818.44 58.7219 1818.44 51.4303 L1818.44 49.7694 L1811.03 49.7694 M1825.89 46.6907 L1825.89 72.576 L1818.44 72.576 L1818.44 65.6895 Q1815.89 69.8214 1812.08 71.8063 Q1808.27 73.7508 1802.76 73.7508 Q1795.79 73.7508 1791.66 69.8619 Q1787.57 65.9325 1787.57 59.3701 Q1787.57 51.7138 1792.67 47.825 Q1797.82 43.9361 1807.99 43.9361 L1818.44 43.9361 L1818.44 43.2069 Q1818.44 38.0623 1815.04 35.2672 Q1811.67 32.4315 1805.56 32.4315 Q1801.67 32.4315 1797.98 33.3632 Q1794.3 34.295 1790.89 36.1584 L1790.89 29.2718 Q1794.98 27.692 1798.83 26.9223 Q1802.68 26.1121 1806.33 26.1121 Q1816.17 26.1121 1821.03 31.2163 Q1825.89 36.3204 1825.89 46.6907 Z\" fill=\"#000000\" fill-rule=\"evenodd\" fill-opacity=\"1\" /><path clip-path=\"url(#clip860)\" d=\"M1848.62 14.324 L1848.62 27.2059 L1863.97 27.2059 L1863.97 32.9987 L1848.62 32.9987 L1848.62 57.6282 Q1848.62 63.1779 1850.12 64.7578 Q1851.66 66.3376 1856.31 66.3376 L1863.97 66.3376 L1863.97 72.576 L1856.31 72.576 Q1847.69 72.576 1844.4 69.3758 Q1841.12 66.1351 1841.12 57.6282 L1841.12 32.9987 L1835.65 32.9987 L1835.65 27.2059 L1841.12 27.2059 L1841.12 14.324 L1848.62 14.324 Z\" fill=\"#000000\" fill-rule=\"evenodd\" fill-opacity=\"1\" /><path clip-path=\"url(#clip860)\" d=\"M1912.58 48.0275 L1912.58 51.6733 L1878.31 51.6733 Q1878.8 59.3701 1882.93 63.421 Q1887.1 67.4314 1894.51 67.4314 Q1898.81 67.4314 1902.82 66.3781 Q1906.87 65.3249 1910.84 63.2184 L1910.84 70.267 Q1906.83 71.9684 1902.62 72.8596 Q1898.4 73.7508 1894.07 73.7508 Q1883.21 73.7508 1876.85 67.4314 Q1870.53 61.1119 1870.53 50.3365 Q1870.53 39.1965 1876.53 32.6746 Q1882.56 26.1121 1892.77 26.1121 Q1901.93 26.1121 1907.23 32.0264 Q1912.58 37.9003 1912.58 48.0275 M1905.13 45.84 Q1905.05 39.7232 1901.68 36.0774 Q1898.36 32.4315 1892.85 32.4315 Q1886.62 32.4315 1882.85 35.9558 Q1879.12 39.4801 1878.55 45.8805 L1905.13 45.84 Z\" fill=\"#000000\" fill-rule=\"evenodd\" fill-opacity=\"1\" /><path clip-path=\"url(#clip860)\" d=\"M1962.53 45.1919 L1962.53 72.576 L1955.08 72.576 L1955.08 45.4349 Q1955.08 38.994 1952.56 35.7938 Q1950.05 32.5936 1945.03 32.5936 Q1938.99 32.5936 1935.51 36.4419 Q1932.03 40.2903 1932.03 46.9338 L1932.03 72.576 L1924.53 72.576 L1924.53 27.2059 L1932.03 27.2059 L1932.03 34.2544 Q1934.7 30.163 1938.3 28.1376 Q1941.95 26.1121 1946.69 26.1121 Q1954.51 26.1121 1958.52 30.9732 Q1962.53 35.7938 1962.53 45.1919 Z\" fill=\"#000000\" fill-rule=\"evenodd\" fill-opacity=\"1\" /><path clip-path=\"url(#clip860)\" d=\"M1984.77 14.324 L1984.77 27.2059 L2000.12 27.2059 L2000.12 32.9987 L1984.77 32.9987 L1984.77 57.6282 Q1984.77 63.1779 1986.27 64.7578 Q1987.81 66.3376 1992.47 66.3376 L2000.12 66.3376 L2000.12 72.576 L1992.47 72.576 Q1983.84 72.576 1980.56 69.3758 Q1977.27 66.1351 1977.27 57.6282 L1977.27 32.9987 L1971.81 32.9987 L1971.81 27.2059 L1977.27 27.2059 L1977.27 14.324 L1984.77 14.324 Z\" fill=\"#000000\" fill-rule=\"evenodd\" fill-opacity=\"1\" /><path clip-path=\"url(#clip860)\" d=\"M2038.85 28.5427 L2038.85 35.5912 Q2035.69 33.9709 2032.29 33.1607 Q2028.88 32.3505 2025.24 32.3505 Q2019.69 32.3505 2016.89 34.0519 Q2014.14 35.7533 2014.14 39.156 Q2014.14 41.7486 2016.12 43.2475 Q2018.11 44.7058 2024.1 46.0426 L2026.65 46.6097 Q2034.59 48.3111 2037.92 51.4303 Q2041.28 54.509 2041.28 60.0587 Q2041.28 66.3781 2036.26 70.0644 Q2031.27 73.7508 2022.52 73.7508 Q2018.88 73.7508 2014.91 73.0216 Q2010.98 72.3329 2006.6 70.9151 L2006.6 63.2184 Q2010.73 65.3654 2014.75 66.4591 Q2018.76 67.5124 2022.69 67.5124 Q2027.95 67.5124 2030.79 65.73 Q2033.62 63.9071 2033.62 60.6258 Q2033.62 57.5877 2031.56 55.9673 Q2029.53 54.3469 2022.6 52.8481 L2020.01 52.2405 Q2013.08 50.7821 2010.01 47.7845 Q2006.93 44.7463 2006.93 39.4801 Q2006.93 33.0797 2011.46 29.5959 Q2016 26.1121 2024.35 26.1121 Q2028.48 26.1121 2032.12 26.7198 Q2035.77 27.3274 2038.85 28.5427 Z\" fill=\"#000000\" fill-rule=\"evenodd\" fill-opacity=\"1\" /><path clip-path=\"url(#clip862)\" d=\"\n",
       "M209.891 688.366 L319.389 541.893 L428.886 885.374 L538.384 621.289 L647.881 708.224 L757.379 561.431 L866.876 1133.61 L976.373 713.709 L1085.87 739.651 L1195.37 482.098 \n",
       "  L1304.87 909.868 L1414.36 712.017 L1523.86 897.182 L1633.36 1145.47 L1742.86 1447.87 L1852.35 773.345 L1961.85 931.789 L2071.35 832.802 L2180.84 813.733 L2290.34 1118.89 \n",
       "  L2290.34 173.181 L2180.84 508.663 L2071.35 551.097 L1961.85 673.123 L1852.35 517.248 L1742.86 1019.8 L1633.36 803.672 L1523.86 615.946 L1414.36 442.625 L1304.87 636.841 \n",
       "  L1195.37 162.047 L1085.87 489.999 L976.373 443.21 L866.876 833.497 L757.379 258.294 L647.881 442.136 L538.384 350.896 L428.886 610.001 L319.389 253.865 L209.891 439.753 \n",
       "   Z\n",
       "  \" fill=\"#009af9\" fill-rule=\"evenodd\" fill-opacity=\"0.5\"/>\n",
       "<polyline clip-path=\"url(#clip862)\" style=\"stroke:#009af9; stroke-linecap:butt; stroke-linejoin:round; stroke-width:4; stroke-opacity:1; fill:none\" points=\"\n",
       "  209.891,564.059 319.389,397.879 428.886,747.687 538.384,486.092 647.881,575.18 757.379,409.863 866.876,983.556 976.373,578.46 1085.87,614.825 1195.37,322.072 \n",
       "  1304.87,773.354 1414.36,577.321 1523.86,756.564 1633.36,974.57 1742.86,1233.84 1852.35,645.296 1961.85,802.456 2071.35,691.949 2180.84,661.198 2290.34,646.038 \n",
       "  \n",
       "  \"/>\n",
       "<polyline clip-path=\"url(#clip862)\" style=\"stroke:#e26f46; stroke-linecap:butt; stroke-linejoin:round; stroke-width:4; stroke-opacity:1; fill:none\" points=\"\n",
       "  209.891,483.063 319.389,238.024 428.886,726.212 538.384,520.211 647.881,596.639 757.379,450.839 866.876,909.454 976.373,495.836 1085.87,708.79 1195.37,174.162 \n",
       "  1304.87,764.697 1414.36,539.322 1523.86,899.556 1633.36,1011.89 1742.86,1442.3 1852.35,613.221 1961.85,757.312 2071.35,799.978 2180.84,642.736 2290.34,342.106 \n",
       "  \n",
       "  \"/>\n",
       "<path clip-path=\"url(#clip860)\" d=\"\n",
       "M1683.87 324.425 L2279.25 324.425 L2279.25 168.905 L1683.87 168.905  Z\n",
       "  \" fill=\"#ffffff\" fill-rule=\"evenodd\" fill-opacity=\"1\"/>\n",
       "<polyline clip-path=\"url(#clip860)\" style=\"stroke:#000000; stroke-linecap:butt; stroke-linejoin:round; stroke-width:4; stroke-opacity:1; fill:none\" points=\"\n",
       "  1683.87,324.425 2279.25,324.425 2279.25,168.905 1683.87,168.905 1683.87,324.425 \n",
       "  \"/>\n",
       "<polyline clip-path=\"url(#clip860)\" style=\"stroke:#009af9; stroke-linecap:butt; stroke-linejoin:round; stroke-width:4; stroke-opacity:1; fill:none\" points=\"\n",
       "  1708.37,220.745 1855.39,220.745 \n",
       "  \"/>\n",
       "<path clip-path=\"url(#clip860)\" d=\"M1884.57 207.307 L1884.57 220.293 L1890.45 220.293 Q1893.71 220.293 1895.5 218.603 Q1897.28 216.914 1897.28 213.789 Q1897.28 210.687 1895.5 208.997 Q1893.71 207.307 1890.45 207.307 L1884.57 207.307 M1879.9 203.465 L1890.45 203.465 Q1896.26 203.465 1899.22 206.104 Q1902.21 208.719 1902.21 213.789 Q1902.21 218.904 1899.22 221.52 Q1896.26 224.136 1890.45 224.136 L1884.57 224.136 L1884.57 238.025 L1879.9 238.025 L1879.9 203.465 Z\" fill=\"#000000\" fill-rule=\"evenodd\" fill-opacity=\"1\" /><path clip-path=\"url(#clip860)\" d=\"M1916.65 215.085 Q1913.23 215.085 1911.24 217.77 Q1909.25 220.432 1909.25 225.085 Q1909.25 229.738 1911.21 232.423 Q1913.21 235.085 1916.65 235.085 Q1920.06 235.085 1922.05 232.4 Q1924.04 229.715 1924.04 225.085 Q1924.04 220.478 1922.05 217.793 Q1920.06 215.085 1916.65 215.085 M1916.65 211.474 Q1922.21 211.474 1925.38 215.085 Q1928.55 218.696 1928.55 225.085 Q1928.55 231.451 1925.38 235.085 Q1922.21 238.696 1916.65 238.696 Q1911.08 238.696 1907.9 235.085 Q1904.76 231.451 1904.76 225.085 Q1904.76 218.696 1907.9 215.085 Q1911.08 211.474 1916.65 211.474 Z\" fill=\"#000000\" fill-rule=\"evenodd\" fill-opacity=\"1\" /><path clip-path=\"url(#clip860)\" d=\"M1952.14 212.863 L1952.14 216.891 Q1950.33 215.965 1948.39 215.502 Q1946.45 215.039 1944.36 215.039 Q1941.19 215.039 1939.59 216.011 Q1938.02 216.983 1938.02 218.928 Q1938.02 220.409 1939.15 221.265 Q1940.29 222.099 1943.71 222.863 L1945.17 223.187 Q1949.71 224.159 1951.61 225.941 Q1953.53 227.701 1953.53 230.872 Q1953.53 234.483 1950.66 236.589 Q1947.81 238.696 1942.81 238.696 Q1940.73 238.696 1938.46 238.279 Q1936.21 237.886 1933.71 237.076 L1933.71 232.677 Q1936.08 233.904 1938.37 234.529 Q1940.66 235.131 1942.9 235.131 Q1945.91 235.131 1947.53 234.113 Q1949.15 233.071 1949.15 231.196 Q1949.15 229.46 1947.97 228.534 Q1946.82 227.608 1942.86 226.752 L1941.38 226.404 Q1937.42 225.571 1935.66 223.858 Q1933.9 222.122 1933.9 219.113 Q1933.9 215.455 1936.49 213.465 Q1939.08 211.474 1943.85 211.474 Q1946.21 211.474 1948.3 211.821 Q1950.38 212.168 1952.14 212.863 Z\" fill=\"#000000\" fill-rule=\"evenodd\" fill-opacity=\"1\" /><path clip-path=\"url(#clip860)\" d=\"M1964.52 204.738 L1964.52 212.099 L1973.3 212.099 L1973.3 215.409 L1964.52 215.409 L1964.52 229.483 Q1964.52 232.654 1965.38 233.557 Q1966.26 234.46 1968.92 234.46 L1973.3 234.46 L1973.3 238.025 L1968.92 238.025 Q1963.99 238.025 1962.12 236.196 Q1960.24 234.344 1960.24 229.483 L1960.24 215.409 L1957.12 215.409 L1957.12 212.099 L1960.24 212.099 L1960.24 204.738 L1964.52 204.738 Z\" fill=\"#000000\" fill-rule=\"evenodd\" fill-opacity=\"1\" /><path clip-path=\"url(#clip860)\" d=\"M2001.08 223.997 L2001.08 226.08 L1981.49 226.08 Q1981.77 230.478 1984.13 232.793 Q1986.51 235.085 1990.75 235.085 Q1993.2 235.085 1995.5 234.483 Q1997.81 233.881 2000.08 232.677 L2000.08 236.705 Q1997.79 237.677 1995.38 238.187 Q1992.97 238.696 1990.5 238.696 Q1984.29 238.696 1980.66 235.085 Q1977.05 231.474 1977.05 225.316 Q1977.05 218.951 1980.47 215.224 Q1983.92 211.474 1989.76 211.474 Q1994.99 211.474 1998.02 214.853 Q2001.08 218.21 2001.08 223.997 M1996.82 222.747 Q1996.77 219.252 1994.85 217.168 Q1992.95 215.085 1989.8 215.085 Q1986.24 215.085 1984.08 217.099 Q1981.95 219.113 1981.63 222.77 L1996.82 222.747 Z\" fill=\"#000000\" fill-rule=\"evenodd\" fill-opacity=\"1\" /><path clip-path=\"url(#clip860)\" d=\"M2023.09 216.08 Q2022.37 215.664 2021.51 215.478 Q2020.68 215.27 2019.66 215.27 Q2016.05 215.27 2014.11 217.631 Q2012.19 219.969 2012.19 224.367 L2012.19 238.025 L2007.9 238.025 L2007.9 212.099 L2012.19 212.099 L2012.19 216.127 Q2013.53 213.766 2015.68 212.631 Q2017.83 211.474 2020.91 211.474 Q2021.35 211.474 2021.89 211.543 Q2022.42 211.59 2023.07 211.705 L2023.09 216.08 Z\" fill=\"#000000\" fill-rule=\"evenodd\" fill-opacity=\"1\" /><path clip-path=\"url(#clip860)\" d=\"M2027.56 212.099 L2031.82 212.099 L2031.82 238.025 L2027.56 238.025 L2027.56 212.099 M2027.56 202.006 L2031.82 202.006 L2031.82 207.4 L2027.56 207.4 L2027.56 202.006 Z\" fill=\"#000000\" fill-rule=\"evenodd\" fill-opacity=\"1\" /><path clip-path=\"url(#clip860)\" d=\"M2050.77 215.085 Q2047.35 215.085 2045.36 217.77 Q2043.37 220.432 2043.37 225.085 Q2043.37 229.738 2045.33 232.423 Q2047.32 235.085 2050.77 235.085 Q2054.18 235.085 2056.17 232.4 Q2058.16 229.715 2058.16 225.085 Q2058.16 220.478 2056.17 217.793 Q2054.18 215.085 2050.77 215.085 M2050.77 211.474 Q2056.33 211.474 2059.5 215.085 Q2062.67 218.696 2062.67 225.085 Q2062.67 231.451 2059.5 235.085 Q2056.33 238.696 2050.77 238.696 Q2045.2 238.696 2042.02 235.085 Q2038.88 231.451 2038.88 225.085 Q2038.88 218.696 2042.02 215.085 Q2045.2 211.474 2050.77 211.474 Z\" fill=\"#000000\" fill-rule=\"evenodd\" fill-opacity=\"1\" /><path clip-path=\"url(#clip860)\" d=\"M2084.76 216.08 Q2084.04 215.664 2083.18 215.478 Q2082.35 215.27 2081.33 215.27 Q2077.72 215.27 2075.77 217.631 Q2073.85 219.969 2073.85 224.367 L2073.85 238.025 L2069.57 238.025 L2069.57 212.099 L2073.85 212.099 L2073.85 216.127 Q2075.19 213.766 2077.35 212.631 Q2079.5 211.474 2082.58 211.474 Q2083.02 211.474 2083.55 211.543 Q2084.08 211.59 2084.73 211.705 L2084.76 216.08 Z\" fill=\"#000000\" fill-rule=\"evenodd\" fill-opacity=\"1\" /><path clip-path=\"url(#clip860)\" d=\"M2124.48 217.076 Q2126.07 214.205 2128.3 212.84 Q2130.52 211.474 2133.53 211.474 Q2137.58 211.474 2139.78 214.321 Q2141.98 217.145 2141.98 222.377 L2141.98 238.025 L2137.69 238.025 L2137.69 222.515 Q2137.69 218.789 2136.38 216.983 Q2135.06 215.178 2132.35 215.178 Q2129.04 215.178 2127.12 217.377 Q2125.19 219.576 2125.19 223.372 L2125.19 238.025 L2120.91 238.025 L2120.91 222.515 Q2120.91 218.765 2119.59 216.983 Q2118.27 215.178 2115.52 215.178 Q2112.25 215.178 2110.33 217.4 Q2108.41 219.599 2108.41 223.372 L2108.41 238.025 L2104.13 238.025 L2104.13 212.099 L2108.41 212.099 L2108.41 216.127 Q2109.87 213.742 2111.91 212.608 Q2113.94 211.474 2116.75 211.474 Q2119.57 211.474 2121.54 212.909 Q2123.53 214.344 2124.48 217.076 Z\" fill=\"#000000\" fill-rule=\"evenodd\" fill-opacity=\"1\" /><path clip-path=\"url(#clip860)\" d=\"M2172.65 223.997 L2172.65 226.08 L2153.06 226.08 Q2153.34 230.478 2155.7 232.793 Q2158.09 235.085 2162.32 235.085 Q2164.78 235.085 2167.07 234.483 Q2169.38 233.881 2171.65 232.677 L2171.65 236.705 Q2169.36 237.677 2166.95 238.187 Q2164.55 238.696 2162.07 238.696 Q2155.87 238.696 2152.23 235.085 Q2148.62 231.474 2148.62 225.316 Q2148.62 218.951 2152.05 215.224 Q2155.5 211.474 2161.33 211.474 Q2166.56 211.474 2169.59 214.853 Q2172.65 218.21 2172.65 223.997 M2168.39 222.747 Q2168.34 219.252 2166.42 217.168 Q2164.52 215.085 2161.38 215.085 Q2157.81 215.085 2155.66 217.099 Q2153.53 219.113 2153.2 222.77 L2168.39 222.747 Z\" fill=\"#000000\" fill-rule=\"evenodd\" fill-opacity=\"1\" /><path clip-path=\"url(#clip860)\" d=\"M2191.42 224.992 Q2186.26 224.992 2184.27 226.173 Q2182.28 227.353 2182.28 230.201 Q2182.28 232.469 2183.76 233.812 Q2185.26 235.131 2187.83 235.131 Q2191.37 235.131 2193.5 232.631 Q2195.66 230.108 2195.66 225.941 L2195.66 224.992 L2191.42 224.992 M2199.92 223.233 L2199.92 238.025 L2195.66 238.025 L2195.66 234.089 Q2194.2 236.451 2192.02 237.585 Q2189.85 238.696 2186.7 238.696 Q2182.72 238.696 2180.36 236.474 Q2178.02 234.228 2178.02 230.478 Q2178.02 226.103 2180.94 223.881 Q2183.87 221.659 2189.69 221.659 L2195.66 221.659 L2195.66 221.242 Q2195.66 218.303 2193.71 216.705 Q2191.79 215.085 2188.3 215.085 Q2186.07 215.085 2183.97 215.617 Q2181.86 216.15 2179.92 217.215 L2179.92 213.279 Q2182.25 212.377 2184.45 211.937 Q2186.65 211.474 2188.74 211.474 Q2194.36 211.474 2197.14 214.391 Q2199.92 217.307 2199.92 223.233 Z\" fill=\"#000000\" fill-rule=\"evenodd\" fill-opacity=\"1\" /><path clip-path=\"url(#clip860)\" d=\"M2230.24 222.377 L2230.24 238.025 L2225.98 238.025 L2225.98 222.515 Q2225.98 218.835 2224.55 217.006 Q2223.11 215.178 2220.24 215.178 Q2216.79 215.178 2214.8 217.377 Q2212.81 219.576 2212.81 223.372 L2212.81 238.025 L2208.53 238.025 L2208.53 212.099 L2212.81 212.099 L2212.81 216.127 Q2214.34 213.789 2216.4 212.631 Q2218.48 211.474 2221.19 211.474 Q2225.66 211.474 2227.95 214.252 Q2230.24 217.006 2230.24 222.377 Z\" fill=\"#000000\" fill-rule=\"evenodd\" fill-opacity=\"1\" /><polyline clip-path=\"url(#clip860)\" style=\"stroke:#e26f46; stroke-linecap:butt; stroke-linejoin:round; stroke-width:4; stroke-opacity:1; fill:none\" points=\"\n",
       "  1708.37,272.585 1855.39,272.585 \n",
       "  \"/>\n",
       "<path clip-path=\"url(#clip860)\" d=\"M1879.9 255.305 L1909.13 255.305 L1909.13 259.24 L1896.86 259.24 L1896.86 289.865 L1892.16 289.865 L1892.16 259.24 L1879.9 259.24 L1879.9 255.305 Z\" fill=\"#000000\" fill-rule=\"evenodd\" fill-opacity=\"1\" /><path clip-path=\"url(#clip860)\" d=\"M1921.52 267.92 Q1920.8 267.504 1919.94 267.318 Q1919.11 267.11 1918.09 267.11 Q1914.48 267.11 1912.53 269.471 Q1910.61 271.809 1910.61 276.207 L1910.61 289.865 L1906.33 289.865 L1906.33 263.939 L1910.61 263.939 L1910.61 267.967 Q1911.96 265.606 1914.11 264.471 Q1916.26 263.314 1919.34 263.314 Q1919.78 263.314 1920.31 263.383 Q1920.84 263.43 1921.49 263.545 L1921.52 267.92 Z\" fill=\"#000000\" fill-rule=\"evenodd\" fill-opacity=\"1\" /><path clip-path=\"url(#clip860)\" d=\"M1925.54 279.633 L1925.54 263.939 L1929.8 263.939 L1929.8 279.471 Q1929.8 283.152 1931.24 285.004 Q1932.67 286.832 1935.54 286.832 Q1938.99 286.832 1940.98 284.633 Q1943 282.434 1943 278.638 L1943 263.939 L1947.26 263.939 L1947.26 289.865 L1943 289.865 L1943 285.883 Q1941.45 288.244 1939.39 289.402 Q1937.35 290.536 1934.64 290.536 Q1930.17 290.536 1927.86 287.758 Q1925.54 284.98 1925.54 279.633 M1936.26 263.314 L1936.26 263.314 Z\" fill=\"#000000\" fill-rule=\"evenodd\" fill-opacity=\"1\" /><path clip-path=\"url(#clip860)\" d=\"M1978.2 275.837 L1978.2 277.92 L1958.62 277.92 Q1958.9 282.318 1961.26 284.633 Q1963.64 286.925 1967.88 286.925 Q1970.33 286.925 1972.63 286.323 Q1974.94 285.721 1977.21 284.517 L1977.21 288.545 Q1974.92 289.517 1972.51 290.027 Q1970.1 290.536 1967.63 290.536 Q1961.42 290.536 1957.79 286.925 Q1954.18 283.314 1954.18 277.156 Q1954.18 270.791 1957.6 267.064 Q1961.05 263.314 1966.89 263.314 Q1972.12 263.314 1975.15 266.693 Q1978.2 270.05 1978.2 275.837 M1973.95 274.587 Q1973.9 271.092 1971.98 269.008 Q1970.08 266.925 1966.93 266.925 Q1963.37 266.925 1961.21 268.939 Q1959.08 270.953 1958.76 274.61 L1973.95 274.587 Z\" fill=\"#000000\" fill-rule=\"evenodd\" fill-opacity=\"1\" /><path clip-path=\"url(#clip860)\" d=\"M1997.21 263.939 L2001.72 263.939 L2009.82 285.698 L2017.93 263.939 L2022.44 263.939 L2012.72 289.865 L2006.93 289.865 L1997.21 263.939 Z\" fill=\"#000000\" fill-rule=\"evenodd\" fill-opacity=\"1\" /><path clip-path=\"url(#clip860)\" d=\"M2040.1 276.832 Q2034.94 276.832 2032.95 278.013 Q2030.96 279.193 2030.96 282.041 Q2030.96 284.309 2032.44 285.652 Q2033.95 286.971 2036.51 286.971 Q2040.06 286.971 2042.19 284.471 Q2044.34 281.948 2044.34 277.781 L2044.34 276.832 L2040.1 276.832 M2048.6 275.073 L2048.6 289.865 L2044.34 289.865 L2044.34 285.929 Q2042.88 288.291 2040.7 289.425 Q2038.53 290.536 2035.38 290.536 Q2031.4 290.536 2029.04 288.314 Q2026.7 286.068 2026.7 282.318 Q2026.7 277.943 2029.62 275.721 Q2032.56 273.499 2038.37 273.499 L2044.34 273.499 L2044.34 273.082 Q2044.34 270.143 2042.39 268.545 Q2040.47 266.925 2036.98 266.925 Q2034.76 266.925 2032.65 267.457 Q2030.54 267.99 2028.6 269.055 L2028.6 265.119 Q2030.94 264.217 2033.14 263.777 Q2035.33 263.314 2037.42 263.314 Q2043.04 263.314 2045.82 266.231 Q2048.6 269.147 2048.6 275.073 Z\" fill=\"#000000\" fill-rule=\"evenodd\" fill-opacity=\"1\" /><path clip-path=\"url(#clip860)\" d=\"M2057.37 253.846 L2061.63 253.846 L2061.63 289.865 L2057.37 289.865 L2057.37 253.846 Z\" fill=\"#000000\" fill-rule=\"evenodd\" fill-opacity=\"1\" /><path clip-path=\"url(#clip860)\" d=\"M2070.1 279.633 L2070.1 263.939 L2074.36 263.939 L2074.36 279.471 Q2074.36 283.152 2075.8 285.004 Q2077.23 286.832 2080.1 286.832 Q2083.55 286.832 2085.54 284.633 Q2087.56 282.434 2087.56 278.638 L2087.56 263.939 L2091.82 263.939 L2091.82 289.865 L2087.56 289.865 L2087.56 285.883 Q2086.01 288.244 2083.94 289.402 Q2081.91 290.536 2079.2 290.536 Q2074.73 290.536 2072.42 287.758 Q2070.1 284.98 2070.1 279.633 M2080.82 263.314 L2080.82 263.314 Z\" fill=\"#000000\" fill-rule=\"evenodd\" fill-opacity=\"1\" /><path clip-path=\"url(#clip860)\" d=\"M2122.76 275.837 L2122.76 277.92 L2103.18 277.92 Q2103.46 282.318 2105.82 284.633 Q2108.2 286.925 2112.44 286.925 Q2114.89 286.925 2117.19 286.323 Q2119.5 285.721 2121.77 284.517 L2121.77 288.545 Q2119.48 289.517 2117.07 290.027 Q2114.66 290.536 2112.19 290.536 Q2105.98 290.536 2102.35 286.925 Q2098.74 283.314 2098.74 277.156 Q2098.74 270.791 2102.16 267.064 Q2105.61 263.314 2111.44 263.314 Q2116.68 263.314 2119.71 266.693 Q2122.76 270.05 2122.76 275.837 M2118.5 274.587 Q2118.46 271.092 2116.54 269.008 Q2114.64 266.925 2111.49 266.925 Q2107.93 266.925 2105.77 268.939 Q2103.64 270.953 2103.32 274.61 L2118.5 274.587 Z\" fill=\"#000000\" fill-rule=\"evenodd\" fill-opacity=\"1\" /><path clip-path=\"url(#clip860)\" d=\"M2146.28 264.703 L2146.28 268.731 Q2144.48 267.805 2142.53 267.342 Q2140.59 266.879 2138.5 266.879 Q2135.33 266.879 2133.74 267.851 Q2132.16 268.823 2132.16 270.768 Q2132.16 272.249 2133.3 273.105 Q2134.43 273.939 2137.86 274.703 L2139.32 275.027 Q2143.85 275.999 2145.75 277.781 Q2147.67 279.541 2147.67 282.712 Q2147.67 286.323 2144.8 288.429 Q2141.95 290.536 2136.95 290.536 Q2134.87 290.536 2132.6 290.119 Q2130.36 289.726 2127.86 288.916 L2127.86 284.517 Q2130.22 285.744 2132.51 286.369 Q2134.8 286.971 2137.05 286.971 Q2140.06 286.971 2141.68 285.953 Q2143.3 284.911 2143.3 283.036 Q2143.3 281.3 2142.12 280.374 Q2140.96 279.448 2137 278.592 L2135.52 278.244 Q2131.56 277.411 2129.8 275.698 Q2128.04 273.962 2128.04 270.953 Q2128.04 267.295 2130.63 265.305 Q2133.23 263.314 2138 263.314 Q2140.36 263.314 2142.44 263.661 Q2144.52 264.008 2146.28 264.703 Z\" fill=\"#000000\" fill-rule=\"evenodd\" fill-opacity=\"1\" /></svg>\n"
      ]
     },
     "execution_count": 28,
     "metadata": {},
     "output_type": "execute_result"
    }
   ],
   "source": [
    "ϵ_chain = sort(chain_2_joint[:, [Symbol(\"ϵ_draw[$a]\") for a in 1:21], 1], lt = (x,y) -> symbol_to_int(x) < symbol_to_int(y))\n",
    "tmp = describe(ϵ_chain)\n",
    "ϵ_mean = tmp[1][:, 2]\n",
    "ϵ_std = tmp[1][:, 3]\n",
    "plot(ϵ_mean[2:end], ribbon=2 * ϵ_std[2:end], label=\"Posterior mean\", title = \"Second-Order Joint: Estimated Latents\")\n",
    "plot!(ϵ', label=\"True values\")"
   ]
  }
 ],
 "metadata": {
  "kernelspec": {
   "display_name": "Julia 1.7.2",
   "language": "julia",
   "name": "julia-1.7"
  },
  "language_info": {
   "file_extension": ".jl",
   "mimetype": "application/julia",
   "name": "julia",
   "version": "1.7.2"
  }
 },
 "nbformat": 4,
 "nbformat_minor": 4
}
