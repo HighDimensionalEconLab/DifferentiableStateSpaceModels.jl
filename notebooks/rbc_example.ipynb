{
 "cells": [
  {
   "cell_type": "code",
   "execution_count": 7,
   "metadata": {},
   "outputs": [],
   "source": [
    "# ] instantiate # remove comments to install packages"
   ]
  },
  {
   "cell_type": "markdown",
   "metadata": {},
   "source": [
    "## Setup model and install packages"
   ]
  },
  {
   "cell_type": "code",
   "execution_count": 78,
   "metadata": {},
   "outputs": [],
   "source": [
    "using DifferentiableStateSpaceModels, DifferenceEquations, LinearAlgebra, Zygote, Distributions, Plots, DiffEqBase, Symbolics"
   ]
  },
  {
   "cell_type": "markdown",
   "metadata": {},
   "source": [
    "# Model equations and steady states"
   ]
  },
  {
   "cell_type": "code",
   "execution_count": 97,
   "metadata": {},
   "outputs": [
    {
     "name": "stdout",
     "output_type": "stream",
     "text": [
      "\u001b[36mBuilding model up to order 2\u001b[39m\n",
      "\u001b[36mSubstituting and simplifying\u001b[39m\n",
      "\u001b[36mBuilding model functions\u001b[39m\n",
      "\u001b[36mSaved rbc_notebook_example to C:\\Users\\jesse\\.julia\\packages\\DifferentiableStateSpaceModels\\rQrsQ\\.function_cache\\rbc_notebook_example.jl\u001b[39m\n"
     ]
    },
    {
     "data": {
      "text/plain": [
       "Perturbation Model: n_y = 2, n_x = 2, n_p = 6, n_ϵ = 1, n_z = 2\n",
       " y = [:c, :q] \n",
       " x = [:k, :z] \n",
       " p = [:α, :β, :ρ, :δ, :σ, :Ω_1]"
      ]
     },
     "execution_count": 97,
     "metadata": {},
     "output_type": "execute_result"
    }
   ],
   "source": [
    "∞ = Inf\n",
    "@variables α, β, ρ, δ, σ, Ω_1\n",
    "@variables t::Integer, k(..), z(..), c(..), q(..)\n",
    "\n",
    "x = [k, z]\n",
    "y = [c, q]\n",
    "p = [α, β, ρ, δ, σ, Ω_1]\n",
    "\n",
    "H = [1 / c(t) - (β / c(t + 1)) * (α * exp(z(t + 1)) * k(t + 1)^(α - 1) + (1 - δ)),\n",
    "     c(t) + k(t + 1) - (1 - δ) * k(t) - q(t),\n",
    "     q(t) - exp(z(t)) * k(t)^α,\n",
    "     z(t + 1) - ρ * z(t)]\n",
    "\n",
    "steady_states = [k(∞) ~ (((1 / β) - 1 + δ) / α)^(1 / (α - 1)),\n",
    "                 z(∞) ~ 0,\n",
    "                 c(∞) ~ (((1 / β) - 1 + δ) / α)^(α / (α - 1)) -\n",
    "                        δ * (((1 / β) - 1 + δ) / α)^(1 / (α - 1)),\n",
    "                 q(∞) ~ (((1 / β) - 1 + δ) / α)^(α / (α - 1))]\n",
    "\n",
    "Γ = reshape([σ], 1, 1)\n",
    "η = reshape([0; -1], length(x), 1) # η is n_x * n_ϵ matrix\n",
    "\n",
    "Q = zeros(2, length(x) + length(y))\n",
    "Q[1, 1] = 1.0\n",
    "Q[2, 3] = 1.0\n",
    "\n",
    "Ω = [Ω_1, Ω_1]\n",
    "\n",
    "# Generates the files and includes if required.  If the model is already created, then just loads\n",
    "model_rbc = @make_and_include_perturbation_model(\"rbc_notebook_example\", H, (; t, y, x, p, steady_states, Γ, Ω, η, Q)) # Convenience macro.  Saves as \".function_cache/rbc_notebook_example.jl\"\n",
    "\n",
    "# After generation could just include directly with the following code\n",
    "# isdefined(Main, :rbc_notebook_example) || include(joinpath(pkgdir(DifferentiableStateSpaceModels),\n",
    "#                                              \"test/generated_models/rbc_notebook_example.jl\"))\n",
    "\n",
    "\n",
    "# Alternatively, this is the same as a prebuilt example\n",
    "# model_rbc = @include_example_module(DifferentiableStateSpaceModels.Examples.rbc_observables)  # or use prebuilt model"
   ]
  },
  {
   "cell_type": "code",
   "execution_count": 98,
   "metadata": {},
   "outputs": [
    {
     "data": {
      "text/latex": [
       "$\\begin{equation}\n",
       "\\left[\n",
       "\\begin{array}{c}\n",
       "\\frac{ - \\beta \\left( 1 - \\delta + \\left( k\\left( 1 + t \\right) \\right)^{-1 + \\alpha} \\alpha e^{z\\left( 1 + t \\right)} \\right)}{c\\left( 1 + t \\right)} + \\frac{1}{c\\left( t \\right)} \\\\\n",
       " - q\\left( t \\right) - \\left( 1 - \\delta \\right) k\\left( t \\right) + c\\left( t \\right) + k\\left( 1 + t \\right) \\\\\n",
       " - \\left( k\\left( t \\right) \\right)^{\\alpha} e^{z\\left( t \\right)} + q\\left( t \\right) \\\\\n",
       " - \\rho z\\left( t \\right) + z\\left( 1 + t \\right) \\\\\n",
       "\\end{array}\n",
       "\\right]\n",
       "\\end{equation}\n",
       "$"
      ],
      "text/plain": [
       "L\"$\\begin{equation}\n",
       "\\left[\n",
       "\\begin{array}{c}\n",
       "\\frac{ - \\beta \\left( 1 - \\delta + \\left( k\\left( 1 + t \\right) \\right)^{-1 + \\alpha} \\alpha e^{z\\left( 1 + t \\right)} \\right)}{c\\left( 1 + t \\right)} + \\frac{1}{c\\left( t \\right)} \\\\\n",
       " - q\\left( t \\right) - \\left( 1 - \\delta \\right) k\\left( t \\right) + c\\left( t \\right) + k\\left( 1 + t \\right) \\\\\n",
       " - \\left( k\\left( t \\right) \\right)^{\\alpha} e^{z\\left( t \\right)} + q\\left( t \\right) \\\\\n",
       " - \\rho z\\left( t \\right) + z\\left( 1 + t \\right) \\\\\n",
       "\\end{array}\n",
       "\\right]\n",
       "\\end{equation}\n",
       "$\""
      ]
     },
     "execution_count": 98,
     "metadata": {},
     "output_type": "execute_result"
    }
   ],
   "source": [
    "model_rbc.mod.m.H_latex # model_H_latex(model_rbc)"
   ]
  },
  {
   "cell_type": "code",
   "execution_count": 99,
   "metadata": {},
   "outputs": [
    {
     "data": {
      "text/latex": [
       "$\\begin{align}\n",
       "k\\left( \\infty \\right) =& \\left( \\frac{-1 + \\delta + \\frac{1}{\\beta}}{\\alpha} \\right)^{\\frac{1}{-1 + \\alpha}} \\\\\n",
       "z\\left( \\infty \\right) =& 0 \\\\\n",
       "c\\left( \\infty \\right) =& \\left( \\frac{-1 + \\delta + \\frac{1}{\\beta}}{\\alpha} \\right)^{\\frac{\\alpha}{-1 + \\alpha}} - \\left( \\frac{-1 + \\delta + \\frac{1}{\\beta}}{\\alpha} \\right)^{\\frac{1}{-1 + \\alpha}} \\delta \\\\\n",
       "q\\left( \\infty \\right) =& \\left( \\frac{-1 + \\delta + \\frac{1}{\\beta}}{\\alpha} \\right)^{\\frac{\\alpha}{-1 + \\alpha}}\n",
       "\\end{align}\n",
       "$"
      ],
      "text/plain": [
       "L\"$\\begin{align}\n",
       "k\\left( \\infty \\right) =& \\left( \\frac{-1 + \\delta + \\frac{1}{\\beta}}{\\alpha} \\right)^{\\frac{1}{-1 + \\alpha}} \\\\\n",
       "z\\left( \\infty \\right) =& 0 \\\\\n",
       "c\\left( \\infty \\right) =& \\left( \\frac{-1 + \\delta + \\frac{1}{\\beta}}{\\alpha} \\right)^{\\frac{\\alpha}{-1 + \\alpha}} - \\left( \\frac{-1 + \\delta + \\frac{1}{\\beta}}{\\alpha} \\right)^{\\frac{1}{-1 + \\alpha}} \\delta \\\\\n",
       "q\\left( \\infty \\right) =& \\left( \\frac{-1 + \\delta + \\frac{1}{\\beta}}{\\alpha} \\right)^{\\frac{\\alpha}{-1 + \\alpha}}\n",
       "\\end{align}\n",
       "$\""
      ]
     },
     "execution_count": 99,
     "metadata": {},
     "output_type": "execute_result"
    }
   ],
   "source": [
    "model_rbc.mod.m.steady_states_latex # model_steady_states_latex(model_rbc)"
   ]
  },
  {
   "cell_type": "markdown",
   "metadata": {},
   "source": [
    "# Simulate data using DifferenceEquations"
   ]
  },
  {
   "cell_type": "code",
   "execution_count": 100,
   "metadata": {},
   "outputs": [
    {
     "data": {
      "image/svg+xml": [
       "<?xml version=\"1.0\" encoding=\"utf-8\"?>\n",
       "<svg xmlns=\"http://www.w3.org/2000/svg\" xmlns:xlink=\"http://www.w3.org/1999/xlink\" width=\"600\" height=\"400\" viewBox=\"0 0 2400 1600\">\n",
       "<defs>\n",
       "  <clipPath id=\"clip360\">\n",
       "    <rect x=\"0\" y=\"0\" width=\"2400\" height=\"1600\"/>\n",
       "  </clipPath>\n",
       "</defs>\n",
       "<path clip-path=\"url(#clip360)\" d=\"\n",
       "M0 1600 L2400 1600 L2400 0 L0 0  Z\n",
       "  \" fill=\"#ffffff\" fill-rule=\"evenodd\" fill-opacity=\"1\"/>\n",
       "<defs>\n",
       "  <clipPath id=\"clip361\">\n",
       "    <rect x=\"480\" y=\"0\" width=\"1681\" height=\"1600\"/>\n",
       "  </clipPath>\n",
       "</defs>\n",
       "<path clip-path=\"url(#clip360)\" d=\"\n",
       "M194.422 1486.45 L2352.76 1486.45 L2352.76 47.2441 L194.422 47.2441  Z\n",
       "  \" fill=\"#ffffff\" fill-rule=\"evenodd\" fill-opacity=\"1\"/>\n",
       "<defs>\n",
       "  <clipPath id=\"clip362\">\n",
       "    <rect x=\"194\" y=\"47\" width=\"2159\" height=\"1440\"/>\n",
       "  </clipPath>\n",
       "</defs>\n",
       "<polyline clip-path=\"url(#clip362)\" style=\"stroke:#000000; stroke-linecap:butt; stroke-linejoin:round; stroke-width:2; stroke-opacity:0.1; fill:none\" points=\"\n",
       "  255.507,1486.45 255.507,47.2441 \n",
       "  \"/>\n",
       "<polyline clip-path=\"url(#clip362)\" style=\"stroke:#000000; stroke-linecap:butt; stroke-linejoin:round; stroke-width:2; stroke-opacity:0.1; fill:none\" points=\"\n",
       "  764.548,1486.45 764.548,47.2441 \n",
       "  \"/>\n",
       "<polyline clip-path=\"url(#clip362)\" style=\"stroke:#000000; stroke-linecap:butt; stroke-linejoin:round; stroke-width:2; stroke-opacity:0.1; fill:none\" points=\"\n",
       "  1273.59,1486.45 1273.59,47.2441 \n",
       "  \"/>\n",
       "<polyline clip-path=\"url(#clip362)\" style=\"stroke:#000000; stroke-linecap:butt; stroke-linejoin:round; stroke-width:2; stroke-opacity:0.1; fill:none\" points=\"\n",
       "  1782.63,1486.45 1782.63,47.2441 \n",
       "  \"/>\n",
       "<polyline clip-path=\"url(#clip362)\" style=\"stroke:#000000; stroke-linecap:butt; stroke-linejoin:round; stroke-width:2; stroke-opacity:0.1; fill:none\" points=\"\n",
       "  2291.67,1486.45 2291.67,47.2441 \n",
       "  \"/>\n",
       "<polyline clip-path=\"url(#clip360)\" style=\"stroke:#000000; stroke-linecap:butt; stroke-linejoin:round; stroke-width:4; stroke-opacity:1; fill:none\" points=\"\n",
       "  194.422,1486.45 2352.76,1486.45 \n",
       "  \"/>\n",
       "<polyline clip-path=\"url(#clip360)\" style=\"stroke:#000000; stroke-linecap:butt; stroke-linejoin:round; stroke-width:4; stroke-opacity:1; fill:none\" points=\"\n",
       "  255.507,1486.45 255.507,1467.55 \n",
       "  \"/>\n",
       "<polyline clip-path=\"url(#clip360)\" style=\"stroke:#000000; stroke-linecap:butt; stroke-linejoin:round; stroke-width:4; stroke-opacity:1; fill:none\" points=\"\n",
       "  764.548,1486.45 764.548,1467.55 \n",
       "  \"/>\n",
       "<polyline clip-path=\"url(#clip360)\" style=\"stroke:#000000; stroke-linecap:butt; stroke-linejoin:round; stroke-width:4; stroke-opacity:1; fill:none\" points=\"\n",
       "  1273.59,1486.45 1273.59,1467.55 \n",
       "  \"/>\n",
       "<polyline clip-path=\"url(#clip360)\" style=\"stroke:#000000; stroke-linecap:butt; stroke-linejoin:round; stroke-width:4; stroke-opacity:1; fill:none\" points=\"\n",
       "  1782.63,1486.45 1782.63,1467.55 \n",
       "  \"/>\n",
       "<polyline clip-path=\"url(#clip360)\" style=\"stroke:#000000; stroke-linecap:butt; stroke-linejoin:round; stroke-width:4; stroke-opacity:1; fill:none\" points=\"\n",
       "  2291.67,1486.45 2291.67,1467.55 \n",
       "  \"/>\n",
       "<path clip-path=\"url(#clip360)\" d=\"M255.507 1517.37 Q251.896 1517.37 250.067 1520.93 Q248.262 1524.47 248.262 1531.6 Q248.262 1538.71 250.067 1542.27 Q251.896 1545.82 255.507 1545.82 Q259.141 1545.82 260.947 1542.27 Q262.776 1538.71 262.776 1531.6 Q262.776 1524.47 260.947 1520.93 Q259.141 1517.37 255.507 1517.37 M255.507 1513.66 Q261.317 1513.66 264.373 1518.27 Q267.451 1522.85 267.451 1531.6 Q267.451 1540.33 264.373 1544.94 Q261.317 1549.52 255.507 1549.52 Q249.697 1549.52 246.618 1544.94 Q243.563 1540.33 243.563 1531.6 Q243.563 1522.85 246.618 1518.27 Q249.697 1513.66 255.507 1513.66 Z\" fill=\"#000000\" fill-rule=\"evenodd\" fill-opacity=\"1\" /><path clip-path=\"url(#clip360)\" d=\"M754.826 1514.29 L773.182 1514.29 L773.182 1518.22 L759.108 1518.22 L759.108 1526.7 Q760.127 1526.35 761.145 1526.19 Q762.164 1526 763.182 1526 Q768.969 1526 772.349 1529.17 Q775.729 1532.34 775.729 1537.76 Q775.729 1543.34 772.256 1546.44 Q768.784 1549.52 762.465 1549.52 Q760.289 1549.52 758.02 1549.15 Q755.775 1548.78 753.368 1548.04 L753.368 1543.34 Q755.451 1544.47 757.673 1545.03 Q759.895 1545.58 762.372 1545.58 Q766.377 1545.58 768.715 1543.48 Q771.053 1541.37 771.053 1537.76 Q771.053 1534.15 768.715 1532.04 Q766.377 1529.94 762.372 1529.94 Q760.497 1529.94 758.622 1530.35 Q756.77 1530.77 754.826 1531.65 L754.826 1514.29 Z\" fill=\"#000000\" fill-rule=\"evenodd\" fill-opacity=\"1\" /><path clip-path=\"url(#clip360)\" d=\"M1248.28 1544.91 L1255.92 1544.91 L1255.92 1518.55 L1247.61 1520.21 L1247.61 1515.95 L1255.87 1514.29 L1260.55 1514.29 L1260.55 1544.91 L1268.18 1544.91 L1268.18 1548.85 L1248.28 1548.85 L1248.28 1544.91 Z\" fill=\"#000000\" fill-rule=\"evenodd\" fill-opacity=\"1\" /><path clip-path=\"url(#clip360)\" d=\"M1287.63 1517.37 Q1284.02 1517.37 1282.19 1520.93 Q1280.38 1524.47 1280.38 1531.6 Q1280.38 1538.71 1282.19 1542.27 Q1284.02 1545.82 1287.63 1545.82 Q1291.26 1545.82 1293.07 1542.27 Q1294.9 1538.71 1294.9 1531.6 Q1294.9 1524.47 1293.07 1520.93 Q1291.26 1517.37 1287.63 1517.37 M1287.63 1513.66 Q1293.44 1513.66 1296.49 1518.27 Q1299.57 1522.85 1299.57 1531.6 Q1299.57 1540.33 1296.49 1544.94 Q1293.44 1549.52 1287.63 1549.52 Q1281.82 1549.52 1278.74 1544.94 Q1275.68 1540.33 1275.68 1531.6 Q1275.68 1522.85 1278.74 1518.27 Q1281.82 1513.66 1287.63 1513.66 Z\" fill=\"#000000\" fill-rule=\"evenodd\" fill-opacity=\"1\" /><path clip-path=\"url(#clip360)\" d=\"M1757.82 1544.91 L1765.45 1544.91 L1765.45 1518.55 L1757.14 1520.21 L1757.14 1515.95 L1765.41 1514.29 L1770.08 1514.29 L1770.08 1544.91 L1777.72 1544.91 L1777.72 1548.85 L1757.82 1548.85 L1757.82 1544.91 Z\" fill=\"#000000\" fill-rule=\"evenodd\" fill-opacity=\"1\" /><path clip-path=\"url(#clip360)\" d=\"M1787.21 1514.29 L1805.57 1514.29 L1805.57 1518.22 L1791.5 1518.22 L1791.5 1526.7 Q1792.51 1526.35 1793.53 1526.19 Q1794.55 1526 1795.57 1526 Q1801.36 1526 1804.74 1529.17 Q1808.12 1532.34 1808.12 1537.76 Q1808.12 1543.34 1804.64 1546.44 Q1801.17 1549.52 1794.85 1549.52 Q1792.68 1549.52 1790.41 1549.15 Q1788.16 1548.78 1785.75 1548.04 L1785.75 1543.34 Q1787.84 1544.47 1790.06 1545.03 Q1792.28 1545.58 1794.76 1545.58 Q1798.76 1545.58 1801.1 1543.48 Q1803.44 1541.37 1803.44 1537.76 Q1803.44 1534.15 1801.1 1532.04 Q1798.76 1529.94 1794.76 1529.94 Q1792.88 1529.94 1791.01 1530.35 Q1789.16 1530.77 1787.21 1531.65 L1787.21 1514.29 Z\" fill=\"#000000\" fill-rule=\"evenodd\" fill-opacity=\"1\" /><path clip-path=\"url(#clip360)\" d=\"M2270.44 1544.91 L2286.76 1544.91 L2286.76 1548.85 L2264.82 1548.85 L2264.82 1544.91 Q2267.48 1542.16 2272.06 1537.53 Q2276.67 1532.88 2277.85 1531.53 Q2280.1 1529.01 2280.98 1527.27 Q2281.88 1525.51 2281.88 1523.82 Q2281.88 1521.07 2279.93 1519.33 Q2278.01 1517.6 2274.91 1517.6 Q2272.71 1517.6 2270.26 1518.36 Q2267.83 1519.13 2265.05 1520.68 L2265.05 1515.95 Q2267.87 1514.82 2270.33 1514.24 Q2272.78 1513.66 2274.82 1513.66 Q2280.19 1513.66 2283.38 1516.35 Q2286.58 1519.03 2286.58 1523.52 Q2286.58 1525.65 2285.77 1527.57 Q2284.98 1529.47 2282.87 1532.07 Q2282.3 1532.74 2279.19 1535.95 Q2276.09 1539.15 2270.44 1544.91 Z\" fill=\"#000000\" fill-rule=\"evenodd\" fill-opacity=\"1\" /><path clip-path=\"url(#clip360)\" d=\"M2306.58 1517.37 Q2302.97 1517.37 2301.14 1520.93 Q2299.33 1524.47 2299.33 1531.6 Q2299.33 1538.71 2301.14 1542.27 Q2302.97 1545.82 2306.58 1545.82 Q2310.21 1545.82 2312.02 1542.27 Q2313.85 1538.71 2313.85 1531.6 Q2313.85 1524.47 2312.02 1520.93 Q2310.21 1517.37 2306.58 1517.37 M2306.58 1513.66 Q2312.39 1513.66 2315.44 1518.27 Q2318.52 1522.85 2318.52 1531.6 Q2318.52 1540.33 2315.44 1544.94 Q2312.39 1549.52 2306.58 1549.52 Q2300.77 1549.52 2297.69 1544.94 Q2294.63 1540.33 2294.63 1531.6 Q2294.63 1522.85 2297.69 1518.27 Q2300.77 1513.66 2306.58 1513.66 Z\" fill=\"#000000\" fill-rule=\"evenodd\" fill-opacity=\"1\" /><polyline clip-path=\"url(#clip362)\" style=\"stroke:#000000; stroke-linecap:butt; stroke-linejoin:round; stroke-width:2; stroke-opacity:0.1; fill:none\" points=\"\n",
       "  194.422,1483.71 2352.76,1483.71 \n",
       "  \"/>\n",
       "<polyline clip-path=\"url(#clip362)\" style=\"stroke:#000000; stroke-linecap:butt; stroke-linejoin:round; stroke-width:2; stroke-opacity:0.1; fill:none\" points=\"\n",
       "  194.422,1185.56 2352.76,1185.56 \n",
       "  \"/>\n",
       "<polyline clip-path=\"url(#clip362)\" style=\"stroke:#000000; stroke-linecap:butt; stroke-linejoin:round; stroke-width:2; stroke-opacity:0.1; fill:none\" points=\"\n",
       "  194.422,887.406 2352.76,887.406 \n",
       "  \"/>\n",
       "<polyline clip-path=\"url(#clip362)\" style=\"stroke:#000000; stroke-linecap:butt; stroke-linejoin:round; stroke-width:2; stroke-opacity:0.1; fill:none\" points=\"\n",
       "  194.422,589.251 2352.76,589.251 \n",
       "  \"/>\n",
       "<polyline clip-path=\"url(#clip362)\" style=\"stroke:#000000; stroke-linecap:butt; stroke-linejoin:round; stroke-width:2; stroke-opacity:0.1; fill:none\" points=\"\n",
       "  194.422,291.097 2352.76,291.097 \n",
       "  \"/>\n",
       "<polyline clip-path=\"url(#clip360)\" style=\"stroke:#000000; stroke-linecap:butt; stroke-linejoin:round; stroke-width:4; stroke-opacity:1; fill:none\" points=\"\n",
       "  194.422,1486.45 194.422,47.2441 \n",
       "  \"/>\n",
       "<polyline clip-path=\"url(#clip360)\" style=\"stroke:#000000; stroke-linecap:butt; stroke-linejoin:round; stroke-width:4; stroke-opacity:1; fill:none\" points=\"\n",
       "  194.422,1483.71 213.32,1483.71 \n",
       "  \"/>\n",
       "<polyline clip-path=\"url(#clip360)\" style=\"stroke:#000000; stroke-linecap:butt; stroke-linejoin:round; stroke-width:4; stroke-opacity:1; fill:none\" points=\"\n",
       "  194.422,1185.56 213.32,1185.56 \n",
       "  \"/>\n",
       "<polyline clip-path=\"url(#clip360)\" style=\"stroke:#000000; stroke-linecap:butt; stroke-linejoin:round; stroke-width:4; stroke-opacity:1; fill:none\" points=\"\n",
       "  194.422,887.406 213.32,887.406 \n",
       "  \"/>\n",
       "<polyline clip-path=\"url(#clip360)\" style=\"stroke:#000000; stroke-linecap:butt; stroke-linejoin:round; stroke-width:4; stroke-opacity:1; fill:none\" points=\"\n",
       "  194.422,589.251 213.32,589.251 \n",
       "  \"/>\n",
       "<polyline clip-path=\"url(#clip360)\" style=\"stroke:#000000; stroke-linecap:butt; stroke-linejoin:round; stroke-width:4; stroke-opacity:1; fill:none\" points=\"\n",
       "  194.422,291.097 213.32,291.097 \n",
       "  \"/>\n",
       "<path clip-path=\"url(#clip360)\" d=\"M50.9921 1484.17 L80.6679 1484.17 L80.6679 1488.1 L50.9921 1488.1 L50.9921 1484.17 Z\" fill=\"#000000\" fill-rule=\"evenodd\" fill-opacity=\"1\" /><path clip-path=\"url(#clip360)\" d=\"M100.76 1469.51 Q97.1493 1469.51 95.3206 1473.08 Q93.515 1476.62 93.515 1483.75 Q93.515 1490.86 95.3206 1494.42 Q97.1493 1497.96 100.76 1497.96 Q104.395 1497.96 106.2 1494.42 Q108.029 1490.86 108.029 1483.75 Q108.029 1476.62 106.2 1473.08 Q104.395 1469.51 100.76 1469.51 M100.76 1465.81 Q106.571 1465.81 109.626 1470.42 Q112.705 1475 112.705 1483.75 Q112.705 1492.48 109.626 1497.08 Q106.571 1501.67 100.76 1501.67 Q94.9502 1501.67 91.8715 1497.08 Q88.816 1492.48 88.816 1483.75 Q88.816 1475 91.8715 1470.42 Q94.9502 1465.81 100.76 1465.81 Z\" fill=\"#000000\" fill-rule=\"evenodd\" fill-opacity=\"1\" /><path clip-path=\"url(#clip360)\" d=\"M120.922 1495.11 L125.807 1495.11 L125.807 1500.99 L120.922 1500.99 L120.922 1495.11 Z\" fill=\"#000000\" fill-rule=\"evenodd\" fill-opacity=\"1\" /><path clip-path=\"url(#clip360)\" d=\"M148.839 1470.51 L137.033 1488.96 L148.839 1488.96 L148.839 1470.51 M147.612 1466.43 L153.492 1466.43 L153.492 1488.96 L158.422 1488.96 L158.422 1492.85 L153.492 1492.85 L153.492 1500.99 L148.839 1500.99 L148.839 1492.85 L133.237 1492.85 L133.237 1488.33 L147.612 1466.43 Z\" fill=\"#000000\" fill-rule=\"evenodd\" fill-opacity=\"1\" /><path clip-path=\"url(#clip360)\" d=\"M53.0754 1186.01 L82.7512 1186.01 L82.7512 1189.95 L53.0754 1189.95 L53.0754 1186.01 Z\" fill=\"#000000\" fill-rule=\"evenodd\" fill-opacity=\"1\" /><path clip-path=\"url(#clip360)\" d=\"M102.844 1171.36 Q99.2326 1171.36 97.4039 1174.92 Q95.5984 1178.47 95.5984 1185.59 Q95.5984 1192.7 97.4039 1196.27 Q99.2326 1199.81 102.844 1199.81 Q106.478 1199.81 108.283 1196.27 Q110.112 1192.7 110.112 1185.59 Q110.112 1178.47 108.283 1174.92 Q106.478 1171.36 102.844 1171.36 M102.844 1167.65 Q108.654 1167.65 111.709 1172.26 Q114.788 1176.84 114.788 1185.59 Q114.788 1194.32 111.709 1198.93 Q108.654 1203.51 102.844 1203.51 Q97.0335 1203.51 93.9549 1198.93 Q90.8993 1194.32 90.8993 1185.59 Q90.8993 1176.84 93.9549 1172.26 Q97.0335 1167.65 102.844 1167.65 Z\" fill=\"#000000\" fill-rule=\"evenodd\" fill-opacity=\"1\" /><path clip-path=\"url(#clip360)\" d=\"M123.006 1196.96 L127.89 1196.96 L127.89 1202.84 L123.006 1202.84 L123.006 1196.96 Z\" fill=\"#000000\" fill-rule=\"evenodd\" fill-opacity=\"1\" /><path clip-path=\"url(#clip360)\" d=\"M142.103 1198.9 L158.422 1198.9 L158.422 1202.84 L136.478 1202.84 L136.478 1198.9 Q139.14 1196.15 143.723 1191.52 Q148.33 1186.87 149.51 1185.53 Q151.755 1183 152.635 1181.27 Q153.538 1179.51 153.538 1177.82 Q153.538 1175.06 151.593 1173.33 Q149.672 1171.59 146.57 1171.59 Q144.371 1171.59 141.918 1172.35 Q139.487 1173.12 136.709 1174.67 L136.709 1169.95 Q139.533 1168.81 141.987 1168.23 Q144.441 1167.65 146.478 1167.65 Q151.848 1167.65 155.042 1170.34 Q158.237 1173.03 158.237 1177.52 Q158.237 1179.65 157.427 1181.57 Q156.64 1183.46 154.533 1186.06 Q153.955 1186.73 150.853 1189.95 Q147.751 1193.14 142.103 1198.9 Z\" fill=\"#000000\" fill-rule=\"evenodd\" fill-opacity=\"1\" /><path clip-path=\"url(#clip360)\" d=\"M101.246 873.204 Q97.6354 873.204 95.8067 876.769 Q94.0012 880.311 94.0012 887.44 Q94.0012 894.547 95.8067 898.112 Q97.6354 901.653 101.246 901.653 Q104.881 901.653 106.686 898.112 Q108.515 894.547 108.515 887.44 Q108.515 880.311 106.686 876.769 Q104.881 873.204 101.246 873.204 M101.246 869.501 Q107.057 869.501 110.112 874.107 Q113.191 878.69 113.191 887.44 Q113.191 896.167 110.112 900.774 Q107.057 905.357 101.246 905.357 Q95.4363 905.357 92.3576 900.774 Q89.3021 896.167 89.3021 887.44 Q89.3021 878.69 92.3576 874.107 Q95.4363 869.501 101.246 869.501 Z\" fill=\"#000000\" fill-rule=\"evenodd\" fill-opacity=\"1\" /><path clip-path=\"url(#clip360)\" d=\"M121.408 898.806 L126.293 898.806 L126.293 904.686 L121.408 904.686 L121.408 898.806 Z\" fill=\"#000000\" fill-rule=\"evenodd\" fill-opacity=\"1\" /><path clip-path=\"url(#clip360)\" d=\"M146.478 873.204 Q142.867 873.204 141.038 876.769 Q139.232 880.311 139.232 887.44 Q139.232 894.547 141.038 898.112 Q142.867 901.653 146.478 901.653 Q150.112 901.653 151.918 898.112 Q153.746 894.547 153.746 887.44 Q153.746 880.311 151.918 876.769 Q150.112 873.204 146.478 873.204 M146.478 869.501 Q152.288 869.501 155.343 874.107 Q158.422 878.69 158.422 887.44 Q158.422 896.167 155.343 900.774 Q152.288 905.357 146.478 905.357 Q140.668 905.357 137.589 900.774 Q134.533 896.167 134.533 887.44 Q134.533 878.69 137.589 874.107 Q140.668 869.501 146.478 869.501 Z\" fill=\"#000000\" fill-rule=\"evenodd\" fill-opacity=\"1\" /><path clip-path=\"url(#clip360)\" d=\"M102.844 575.05 Q99.2326 575.05 97.4039 578.615 Q95.5984 582.157 95.5984 589.286 Q95.5984 596.393 97.4039 599.957 Q99.2326 603.499 102.844 603.499 Q106.478 603.499 108.283 599.957 Q110.112 596.393 110.112 589.286 Q110.112 582.157 108.283 578.615 Q106.478 575.05 102.844 575.05 M102.844 571.346 Q108.654 571.346 111.709 575.953 Q114.788 580.536 114.788 589.286 Q114.788 598.013 111.709 602.619 Q108.654 607.203 102.844 607.203 Q97.0335 607.203 93.9549 602.619 Q90.8993 598.013 90.8993 589.286 Q90.8993 580.536 93.9549 575.953 Q97.0335 571.346 102.844 571.346 Z\" fill=\"#000000\" fill-rule=\"evenodd\" fill-opacity=\"1\" /><path clip-path=\"url(#clip360)\" d=\"M123.006 600.652 L127.89 600.652 L127.89 606.531 L123.006 606.531 L123.006 600.652 Z\" fill=\"#000000\" fill-rule=\"evenodd\" fill-opacity=\"1\" /><path clip-path=\"url(#clip360)\" d=\"M142.103 602.596 L158.422 602.596 L158.422 606.531 L136.478 606.531 L136.478 602.596 Q139.14 599.842 143.723 595.212 Q148.33 590.559 149.51 589.217 Q151.755 586.694 152.635 584.958 Q153.538 583.198 153.538 581.508 Q153.538 578.754 151.593 577.018 Q149.672 575.282 146.57 575.282 Q144.371 575.282 141.918 576.046 Q139.487 576.809 136.709 578.36 L136.709 573.638 Q139.533 572.504 141.987 571.925 Q144.441 571.346 146.478 571.346 Q151.848 571.346 155.042 574.032 Q158.237 576.717 158.237 581.208 Q158.237 583.337 157.427 585.258 Q156.64 587.157 154.533 589.749 Q153.955 590.42 150.853 593.638 Q147.751 596.832 142.103 602.596 Z\" fill=\"#000000\" fill-rule=\"evenodd\" fill-opacity=\"1\" /><path clip-path=\"url(#clip360)\" d=\"M100.76 276.896 Q97.1493 276.896 95.3206 280.461 Q93.515 284.002 93.515 291.132 Q93.515 298.238 95.3206 301.803 Q97.1493 305.345 100.76 305.345 Q104.395 305.345 106.2 301.803 Q108.029 298.238 108.029 291.132 Q108.029 284.002 106.2 280.461 Q104.395 276.896 100.76 276.896 M100.76 273.192 Q106.571 273.192 109.626 277.799 Q112.705 282.382 112.705 291.132 Q112.705 299.859 109.626 304.465 Q106.571 309.049 100.76 309.049 Q94.9502 309.049 91.8715 304.465 Q88.816 299.859 88.816 291.132 Q88.816 282.382 91.8715 277.799 Q94.9502 273.192 100.76 273.192 Z\" fill=\"#000000\" fill-rule=\"evenodd\" fill-opacity=\"1\" /><path clip-path=\"url(#clip360)\" d=\"M120.922 302.498 L125.807 302.498 L125.807 308.377 L120.922 308.377 L120.922 302.498 Z\" fill=\"#000000\" fill-rule=\"evenodd\" fill-opacity=\"1\" /><path clip-path=\"url(#clip360)\" d=\"M148.839 277.891 L137.033 296.34 L148.839 296.34 L148.839 277.891 M147.612 273.817 L153.492 273.817 L153.492 296.34 L158.422 296.34 L158.422 300.229 L153.492 300.229 L153.492 308.377 L148.839 308.377 L148.839 300.229 L133.237 300.229 L133.237 295.715 L147.612 273.817 Z\" fill=\"#000000\" fill-rule=\"evenodd\" fill-opacity=\"1\" /><path clip-path=\"url(#clip362)\" d=\"\n",
       "M255.507 1307.58 L357.315 1321.73 L459.123 1350.54 L560.932 1291.26 L662.74 1263.2 L764.548 1272.12 L866.356 1389.68 L968.164 1364.41 L1069.97 1303.19 L1171.78 1398.58 \n",
       "  L1273.59 1324.38 L1375.4 1300.55 L1477.21 1322.05 L1579.01 1317.33 L1680.82 1349.26 L1782.63 1280.2 L1884.44 1271.91 L1986.25 1265.25 L2088.05 1260.72 L2189.86 1270.85 \n",
       "  L2291.67 1445.72 L2291.67 273.603 L2189.86 348.373 L2088.05 382.782 L1986.25 381.452 L1884.44 176.471 L1782.63 150.745 L1680.82 144.052 L1579.01 182.02 L1477.21 169.89 \n",
       "  L1375.4 127.257 L1273.59 215.917 L1171.78 166.044 L1069.97 87.9763 L968.164 116.727 L866.356 141.23 L764.548 205.446 L662.74 200.428 L560.932 180.222 L459.123 230.293 \n",
       "  L357.315 203.791 L255.507 183.413  Z\n",
       "  \" fill=\"#009af9\" fill-rule=\"evenodd\" fill-opacity=\"0.2\"/>\n",
       "<polyline clip-path=\"url(#clip362)\" style=\"stroke:#009af9; stroke-linecap:butt; stroke-linejoin:round; stroke-width:12; stroke-opacity:1; fill:none\" points=\"\n",
       "  255.507,870.104 357.315,833.834 459.123,813.537 560.932,831.661 662.74,813.854 764.548,718.919 866.356,751.655 968.164,801.273 1069.97,875.257 1171.78,885.104 \n",
       "  1273.59,846.16 1375.4,794.645 1477.21,799.906 1579.01,784.142 1680.82,868.32 1782.63,908.465 1884.44,951.685 1986.25,870.027 2088.05,868.667 2189.86,894.455 \n",
       "  2291.67,901.267 \n",
       "  \"/>\n",
       "<path clip-path=\"url(#clip362)\" d=\"\n",
       "M255.507 914.699 L357.315 902.928 L459.123 912.642 L560.932 903.392 L662.74 908.093 L764.548 907.384 L866.356 909.349 L968.164 910.664 L1069.97 910.24 L1171.78 902.99 \n",
       "  L1273.59 905.904 L1375.4 907.363 L1477.21 914.78 L1579.01 908.835 L1680.82 907.864 L1782.63 908.909 L1884.44 907.167 L1986.25 904.469 L2088.05 906.924 L2189.86 916.855 \n",
       "  L2291.67 907.03 L2291.67 869.32 L2189.86 866.748 L2088.05 868.237 L1986.25 867.638 L1884.44 867.12 L1782.63 860.04 L1680.82 865.429 L1579.01 870.549 L1477.21 863.026 \n",
       "  L1375.4 859.482 L1273.59 864.163 L1171.78 863.011 L1069.97 859.611 L968.164 868.521 L866.356 869.287 L764.548 868.226 L662.74 861.517 L560.932 859.963 L459.123 857.824 \n",
       "  L357.315 860.815 L255.507 862.589  Z\n",
       "  \" fill=\"#e26f46\" fill-rule=\"evenodd\" fill-opacity=\"0.2\"/>\n",
       "<polyline clip-path=\"url(#clip362)\" style=\"stroke:#e26f46; stroke-linecap:butt; stroke-linejoin:round; stroke-width:12; stroke-opacity:1; fill:none\" points=\"\n",
       "  255.507,889.267 357.315,889.569 459.123,884.093 560.932,881.436 662.74,884.589 764.548,888.645 866.356,886.846 968.164,891.105 1069.97,886.176 1171.78,886.811 \n",
       "  1273.59,884.601 1375.4,886.777 1477.21,888.483 1579.01,890.663 1680.82,888.764 1782.63,888.96 1884.44,887.489 1986.25,885.345 2088.05,887.058 2189.86,887.645 \n",
       "  2291.67,886.806 \n",
       "  \"/>\n",
       "</svg>\n"
      ]
     },
     "execution_count": 100,
     "metadata": {},
     "output_type": "execute_result"
    }
   ],
   "source": [
    "p_f = (ρ = 0.2, δ = 0.02, σ = 0.01, Ω_1 = 0.01) # Fixed parameters\n",
    "p_d = (α = 0.5, β = 0.95) # Pseudo-true values\n",
    "sol = generate_perturbation(model_rbc, p_d, p_f) # Solution to the first-order RBC\n",
    "sol_2 = generate_perturbation(model_rbc, p_d, p_f, Val(2)) # Solution to the second-order RBC\n",
    "\n",
    "# Simulate multiple trajectories with T observations\n",
    "T = 20\n",
    "trajectories = 40\n",
    "\n",
    "# draw from ergodic for each simulation\n",
    "x_iv = MvNormal(sol.x_ergodic_var) # draw initial conditions from the ergodic distribution\n",
    "problem = LinearStateSpaceProblem(sol, x_iv, (0, T))\n",
    "\n",
    "# Solve multiple trajectories and plot an ensemble\n",
    "ensemble_results = solve(EnsembleProblem(problem), DirectIteration(), EnsembleThreads();\n",
    "                 trajectories)\n",
    "plot(EnsembleSummary(ensemble_results))"
   ]
  },
  {
   "cell_type": "markdown",
   "metadata": {},
   "source": [
    "## Calculate Sequence of Observables"
   ]
  },
  {
   "cell_type": "code",
   "execution_count": 101,
   "metadata": {},
   "outputs": [],
   "source": [
    "# Simulate multiple trajectories with T observations\n",
    "T = 20\n",
    "trajectories = 40\n",
    "\n",
    "# draw from ergodic for each simulation\n",
    "p_f = (ρ = 0.2, δ = 0.02, σ = 0.01, Ω_1 = 0.01) # Fixed parameters\n",
    "p_d = (α = 0.5, β = 0.95) # Pseudo-true values\n",
    "sol = generate_perturbation(model_rbc, p_d, p_f) # Solution to the first-order RBC\n",
    "\n",
    "x_iv = MvNormal(sol.x_ergodic_var) # draw initial conditions from the ergodic distribution\n",
    "problem = LinearStateSpaceProblem(sol, x_iv, (0, T))\n",
    "sim = solve(problem, DirectIteration())\n",
    "ϵ = sim.W # store the underlying noise in the simulation\n",
    "z = sim.z;# simulated observables"
   ]
  },
  {
   "cell_type": "markdown",
   "metadata": {},
   "source": [
    "## Bayesian Estimation with Turing "
   ]
  },
  {
   "cell_type": "code",
   "execution_count": 102,
   "metadata": {},
   "outputs": [
    {
     "ename": "LoadError",
     "evalue": "DimensionMismatch(\"array could not be broadcast to match destination\")",
     "output_type": "error",
     "traceback": [
      "DimensionMismatch(\"array could not be broadcast to match destination\")",
      "",
      "Stacktrace:",
      "  [1] check_broadcast_shape",
      "    @ .\\broadcast.jl:540 [inlined]",
      "  [2] check_broadcast_axes",
      "    @ .\\broadcast.jl:543 [inlined]",
      "  [3] instantiate",
      "    @ .\\broadcast.jl:284 [inlined]",
      "  [4] materialize!",
      "    @ .\\broadcast.jl:871 [inlined]",
      "  [5] materialize!",
      "    @ .\\broadcast.jl:868 [inlined]",
      "  [6] __solve(::LinearStateSpaceProblem{Vector{Float64}, Vector{Float64}, Matrix{Float64}, Tuple{Int64, Int64}, SciMLBase.NullParameters, Nothing, ODEFunction{false, DifferenceEquations.var\"#8#14\", UniformScaling{Bool}, Nothing, Nothing, Nothing, Nothing, Nothing, Nothing, Nothing, Nothing, Nothing, Nothing, Nothing, Nothing, typeof(SciMLBase.DEFAULT_OBSERVED), Nothing}, Matrix{Float64}, Matrix{Float64}, Matrix{Float64}, Vector{Float64}, Vector{Vector{Float64}}, Base.Pairs{Symbol, Union{}, Tuple{}, NamedTuple{(), Tuple{}}}}, ::KalmanFilter; kwargs::Base.Pairs{Symbol, Union{}, Tuple{}, NamedTuple{(), Tuple{}}})",
      "    @ DifferenceEquations C:\\Users\\jesse\\.julia\\packages\\DifferenceEquations\\iwnhE\\src\\algorithms\\linear.jl:193",
      "  [7] __solve",
      "    @ C:\\Users\\jesse\\.julia\\packages\\DifferenceEquations\\iwnhE\\src\\algorithms\\linear.jl:152 [inlined]",
      "  [8] #solve_call#28",
      "    @ C:\\Users\\jesse\\.julia\\packages\\DiffEqBase\\HDcso\\src\\solve.jl:440 [inlined]",
      "  [9] solve_call",
      "    @ C:\\Users\\jesse\\.julia\\packages\\DiffEqBase\\HDcso\\src\\solve.jl:412 [inlined]",
      " [10] #solve_up#34",
      "    @ C:\\Users\\jesse\\.julia\\packages\\DiffEqBase\\HDcso\\src\\solve.jl:783 [inlined]",
      " [11] solve_up",
      "    @ C:\\Users\\jesse\\.julia\\packages\\DiffEqBase\\HDcso\\src\\solve.jl:768 [inlined]",
      " [12] #solve#33",
      "    @ C:\\Users\\jesse\\.julia\\packages\\DiffEqBase\\HDcso\\src\\solve.jl:763 [inlined]",
      " [13] solve",
      "    @ C:\\Users\\jesse\\.julia\\packages\\DiffEqBase\\HDcso\\src\\solve.jl:758 [inlined]",
      " [14] macro expansion",
      "    @ C:\\Users\\jesse\\.julia\\packages\\DynamicPPL\\R7VK9\\src\\utils.jl:73 [inlined]",
      " [15] macro expansion",
      "    @ C:\\Users\\jesse\\.julia\\packages\\DynamicPPL\\R7VK9\\src\\compiler.jl:539 [inlined]",
      " [16] rbc_kalman(__model__::DynamicPPL.Model{typeof(rbc_kalman), (:z, :m, :p_f, :cache), (), (), Tuple{Vector{Vector{Float64}}, PerturbationModel{2, true, Matrix{Int64}, Matrix{Float64}}, NamedTuple{(:ρ, :δ, :σ, :Ω_1), NTuple{4, Float64}}, SolverCache{1, Vector{Float64}, Vector{Vector{Float64}}, Matrix{Float64}, Matrix{Int64}, Nothing, Nothing}}, Tuple{}, DynamicPPL.DefaultContext}, __varinfo__::DynamicPPL.UntypedVarInfo{DynamicPPL.Metadata{Dict{AbstractPPL.VarName, Int64}, Vector{Distribution}, Vector{AbstractPPL.VarName}, Vector{Real}, Vector{Set{DynamicPPL.Selector}}}, Float64}, __context__::DynamicPPL.SamplingContext{DynamicPPL.SampleFromUniform, DynamicPPL.DefaultContext, Random._GLOBAL_RNG}, z::Vector{Vector{Float64}}, m::PerturbationModel{2, true, Matrix{Int64}, Matrix{Float64}}, p_f::NamedTuple{(:ρ, :δ, :σ, :Ω_1), NTuple{4, Float64}}, cache::SolverCache{1, Vector{Float64}, Vector{Vector{Float64}}, Matrix{Float64}, Matrix{Int64}, Nothing, Nothing})",
      "    @ Main .\\In[102]:18",
      " [17] macro expansion",
      "    @ C:\\Users\\jesse\\.julia\\packages\\DynamicPPL\\R7VK9\\src\\model.jl:493 [inlined]",
      " [18] _evaluate!!",
      "    @ C:\\Users\\jesse\\.julia\\packages\\DynamicPPL\\R7VK9\\src\\model.jl:476 [inlined]",
      " [19] evaluate_threadunsafe!!",
      "    @ C:\\Users\\jesse\\.julia\\packages\\DynamicPPL\\R7VK9\\src\\model.jl:451 [inlined]",
      " [20] evaluate!!",
      "    @ C:\\Users\\jesse\\.julia\\packages\\DynamicPPL\\R7VK9\\src\\model.jl:404 [inlined]",
      " [21] evaluate!!(model::DynamicPPL.Model{typeof(rbc_kalman), (:z, :m, :p_f, :cache), (), (), Tuple{Vector{Vector{Float64}}, PerturbationModel{2, true, Matrix{Int64}, Matrix{Float64}}, NamedTuple{(:ρ, :δ, :σ, :Ω_1), NTuple{4, Float64}}, SolverCache{1, Vector{Float64}, Vector{Vector{Float64}}, Matrix{Float64}, Matrix{Int64}, Nothing, Nothing}}, Tuple{}, DynamicPPL.DefaultContext}, rng::Random._GLOBAL_RNG, varinfo::DynamicPPL.UntypedVarInfo{DynamicPPL.Metadata{Dict{AbstractPPL.VarName, Int64}, Vector{Distribution}, Vector{AbstractPPL.VarName}, Vector{Real}, Vector{Set{DynamicPPL.Selector}}}, Float64}, sampler::DynamicPPL.SampleFromUniform, context::DynamicPPL.DefaultContext)",
      "    @ DynamicPPL C:\\Users\\jesse\\.julia\\packages\\DynamicPPL\\R7VK9\\src\\model.jl:415",
      " [22] (::DynamicPPL.Model{typeof(rbc_kalman), (:z, :m, :p_f, :cache), (), (), Tuple{Vector{Vector{Float64}}, PerturbationModel{2, true, Matrix{Int64}, Matrix{Float64}}, NamedTuple{(:ρ, :δ, :σ, :Ω_1), NTuple{4, Float64}}, SolverCache{1, Vector{Float64}, Vector{Vector{Float64}}, Matrix{Float64}, Matrix{Int64}, Nothing, Nothing}}, Tuple{}, DynamicPPL.DefaultContext})(::Random._GLOBAL_RNG, ::Vararg{Any})",
      "    @ DynamicPPL C:\\Users\\jesse\\.julia\\packages\\DynamicPPL\\R7VK9\\src\\model.jl:375",
      " [23] VarInfo",
      "    @ C:\\Users\\jesse\\.julia\\packages\\DynamicPPL\\R7VK9\\src\\varinfo.jl:127 [inlined]",
      " [24] VarInfo",
      "    @ C:\\Users\\jesse\\.julia\\packages\\DynamicPPL\\R7VK9\\src\\varinfo.jl:126 [inlined]",
      " [25] step(rng::Random._GLOBAL_RNG, model::DynamicPPL.Model{typeof(rbc_kalman), (:z, :m, :p_f, :cache), (), (), Tuple{Vector{Vector{Float64}}, PerturbationModel{2, true, Matrix{Int64}, Matrix{Float64}}, NamedTuple{(:ρ, :δ, :σ, :Ω_1), NTuple{4, Float64}}, SolverCache{1, Vector{Float64}, Vector{Vector{Float64}}, Matrix{Float64}, Matrix{Int64}, Nothing, Nothing}}, Tuple{}, DynamicPPL.DefaultContext}, spl::DynamicPPL.Sampler{NUTS{Turing.Essential.ZygoteAD, (), AdvancedHMC.DiagEuclideanMetric}}; resume_from::Nothing, init_params::Nothing, kwargs::Base.Pairs{Symbol, Int64, Tuple{Symbol}, NamedTuple{(:nadapts,), Tuple{Int64}}})",
      "    @ DynamicPPL C:\\Users\\jesse\\.julia\\packages\\DynamicPPL\\R7VK9\\src\\sampler.jl:86",
      " [26] macro expansion",
      "    @ C:\\Users\\jesse\\.julia\\packages\\AbstractMCMC\\fnRmh\\src\\sample.jl:120 [inlined]",
      " [27] macro expansion",
      "    @ C:\\Users\\jesse\\.julia\\packages\\ProgressLogging\\6KXlp\\src\\ProgressLogging.jl:328 [inlined]",
      " [28] (::AbstractMCMC.var\"#21#22\"{Bool, String, Nothing, Int64, Int64, Base.Pairs{Symbol, Int64, Tuple{Symbol}, NamedTuple{(:nadapts,), Tuple{Int64}}}, Random._GLOBAL_RNG, DynamicPPL.Model{typeof(rbc_kalman), (:z, :m, :p_f, :cache), (), (), Tuple{Vector{Vector{Float64}}, PerturbationModel{2, true, Matrix{Int64}, Matrix{Float64}}, NamedTuple{(:ρ, :δ, :σ, :Ω_1), NTuple{4, Float64}}, SolverCache{1, Vector{Float64}, Vector{Vector{Float64}}, Matrix{Float64}, Matrix{Int64}, Nothing, Nothing}}, Tuple{}, DynamicPPL.DefaultContext}, DynamicPPL.Sampler{NUTS{Turing.Essential.ZygoteAD, (), AdvancedHMC.DiagEuclideanMetric}}, Int64, Int64})()",
      "    @ AbstractMCMC C:\\Users\\jesse\\.julia\\packages\\AbstractMCMC\\fnRmh\\src\\logging.jl:12",
      " [29] with_logstate(f::Function, logstate::Any)",
      "    @ Base.CoreLogging .\\logging.jl:511",
      " [30] with_logger(f::Function, logger::LoggingExtras.TeeLogger{Tuple{LoggingExtras.EarlyFilteredLogger{ConsoleProgressMonitor.ProgressLogger, AbstractMCMC.var\"#1#3\"{Module}}, LoggingExtras.EarlyFilteredLogger{Base.CoreLogging.SimpleLogger, AbstractMCMC.var\"#2#4\"{Module}}}})",
      "    @ Base.CoreLogging .\\logging.jl:623",
      " [31] with_progresslogger(f::Function, _module::Module, logger::Base.CoreLogging.SimpleLogger)",
      "    @ AbstractMCMC C:\\Users\\jesse\\.julia\\packages\\AbstractMCMC\\fnRmh\\src\\logging.jl:36",
      " [32] macro expansion",
      "    @ C:\\Users\\jesse\\.julia\\packages\\AbstractMCMC\\fnRmh\\src\\logging.jl:11 [inlined]",
      " [33] mcmcsample(rng::Random._GLOBAL_RNG, model::DynamicPPL.Model{typeof(rbc_kalman), (:z, :m, :p_f, :cache), (), (), Tuple{Vector{Vector{Float64}}, PerturbationModel{2, true, Matrix{Int64}, Matrix{Float64}}, NamedTuple{(:ρ, :δ, :σ, :Ω_1), NTuple{4, Float64}}, SolverCache{1, Vector{Float64}, Vector{Vector{Float64}}, Matrix{Float64}, Matrix{Int64}, Nothing, Nothing}}, Tuple{}, DynamicPPL.DefaultContext}, sampler::DynamicPPL.Sampler{NUTS{Turing.Essential.ZygoteAD, (), AdvancedHMC.DiagEuclideanMetric}}, N::Int64; progress::Bool, progressname::String, callback::Nothing, discard_initial::Int64, thinning::Int64, chain_type::Type, kwargs::Base.Pairs{Symbol, Int64, Tuple{Symbol}, NamedTuple{(:nadapts,), Tuple{Int64}}})",
      "    @ AbstractMCMC C:\\Users\\jesse\\.julia\\packages\\AbstractMCMC\\fnRmh\\src\\sample.jl:111",
      " [34] sample(rng::Random._GLOBAL_RNG, model::DynamicPPL.Model{typeof(rbc_kalman), (:z, :m, :p_f, :cache), (), (), Tuple{Vector{Vector{Float64}}, PerturbationModel{2, true, Matrix{Int64}, Matrix{Float64}}, NamedTuple{(:ρ, :δ, :σ, :Ω_1), NTuple{4, Float64}}, SolverCache{1, Vector{Float64}, Vector{Vector{Float64}}, Matrix{Float64}, Matrix{Int64}, Nothing, Nothing}}, Tuple{}, DynamicPPL.DefaultContext}, sampler::DynamicPPL.Sampler{NUTS{Turing.Essential.ZygoteAD, (), AdvancedHMC.DiagEuclideanMetric}}, N::Int64; chain_type::Type, resume_from::Nothing, progress::Bool, nadapts::Int64, discard_adapt::Bool, discard_initial::Int64, kwargs::Base.Pairs{Symbol, Union{}, Tuple{}, NamedTuple{(), Tuple{}}})",
      "    @ Turing.Inference C:\\Users\\jesse\\.julia\\packages\\Turing\\S4Y4B\\src\\inference\\hmc.jl:133",
      " [35] #sample#2",
      "    @ C:\\Users\\jesse\\.julia\\packages\\Turing\\S4Y4B\\src\\inference\\Inference.jl:145 [inlined]",
      " [36] #sample#1",
      "    @ C:\\Users\\jesse\\.julia\\packages\\Turing\\S4Y4B\\src\\inference\\Inference.jl:135 [inlined]",
      " [37] top-level scope",
      "    @ In[102]:28",
      " [38] eval",
      "    @ .\\boot.jl:373 [inlined]",
      " [39] include_string(mapexpr::typeof(REPL.softscope), mod::Module, code::String, filename::String)",
      "    @ Base .\\loading.jl:1196"
     ]
    }
   ],
   "source": [
    "## Estimation example: first-order, marginal likelihood approach\n",
    "using Turing\n",
    "using Turing: @addlogprob!\n",
    "Turing.setadbackend(:zygote);\n",
    "\n",
    "# Turing model definition\n",
    "@model function rbc_kalman(z, m, p_f, cache)\n",
    "    α ~ Uniform(0.2, 0.8)\n",
    "    β ~ Uniform(0.5, 0.99)\n",
    "    p_d = (; α, β)\n",
    "    T = size(z, 2)\n",
    "    sol = generate_perturbation(m, p_d, p_f, Val(1); cache)\n",
    "    if !(sol.retcode == :Success)\n",
    "        @addlogprob! -Inf\n",
    "        return\n",
    "    end\n",
    "    problem = LinearStateSpaceProblem(sol, zeros(2), (0, T),observables = z)\n",
    "    @addlogprob! solve(problem, KalmanFilter()).logpdf\n",
    "end\n",
    "cache = SolverCache(model_rbc, Val(1),  [:α, :β])\n",
    "p_f = (ρ = 0.2, δ = 0.02, σ = 0.01, Ω_1 = 0.01) # Fixed parameters\n",
    "turing_model = rbc_kalman(z, model_rbc, p_f, cache)\n",
    "\n",
    "n_samples = 1000\n",
    "n_adapts = 100\n",
    "δ = 0.65\n",
    "alg = NUTS(n_adapts,δ)\n",
    "chain = sample(turing_model, alg, n_samples; progress = true)"
   ]
  },
  {
   "cell_type": "code",
   "execution_count": null,
   "metadata": {},
   "outputs": [],
   "source": []
  }
 ],
 "metadata": {
  "kernelspec": {
   "display_name": "Julia 1.7.3",
   "language": "julia",
   "name": "julia-1.7"
  },
  "language_info": {
   "file_extension": ".jl",
   "mimetype": "application/julia",
   "name": "julia",
   "version": "1.7.3"
  }
 },
 "nbformat": 4,
 "nbformat_minor": 4
}
